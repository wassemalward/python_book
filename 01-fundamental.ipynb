{
 "cells": [
  {
   "cell_type": "markdown",
   "metadata": {
    "heading_collapsed": true
   },
   "source": [
    "# Environment Setup"
   ]
  },
  {
   "cell_type": "markdown",
   "metadata": {
    "hidden": true
   },
   "source": [
    "## Notebook Setup"
   ]
  },
  {
   "cell_type": "code",
   "execution_count": 1558,
   "metadata": {
    "hidden": true
   },
   "outputs": [
    {
     "data": {
      "text/html": [
       "<style>.container { width:75% !important; margin-left:350px; }</style>"
      ],
      "text/plain": [
       "<IPython.core.display.HTML object>"
      ]
     },
     "metadata": {},
     "output_type": "display_data"
    }
   ],
   "source": [
    "from IPython.core.display import display, HTML\n",
    "display(HTML(\"<style>.container { width:75% !important; margin-left:350px; }</style>\"))"
   ]
  },
  {
   "cell_type": "markdown",
   "metadata": {
    "hidden": true
   },
   "source": [
    "## Most Common Libraries"
   ]
  },
  {
   "cell_type": "code",
   "execution_count": 1559,
   "metadata": {
    "hidden": true
   },
   "outputs": [],
   "source": [
    "import numpy as np\n",
    "import pandas as pd\n",
    "import datetime as dt\n",
    "\n",
    "import matplotlib\n",
    "import matplotlib.pyplot as plt\n",
    "\n",
    "from plydata import define, query, select, group_by, summarize, arrange, head, rename\n",
    "import plotnine\n",
    "from plotnine import *"
   ]
  },
  {
   "cell_type": "markdown",
   "metadata": {
    "hidden": true
   },
   "source": [
    "### numpy\n",
    "- large multi-dimensional array and matrices  \n",
    "- High level mathematical funcitons to operate on them \n",
    "- Efficient array computation, modeled after matlab  \n",
    "- Support vectorized array math functions (built on C, hence faster than python for loop and list)  \n"
   ]
  },
  {
   "cell_type": "markdown",
   "metadata": {
    "hidden": true
   },
   "source": [
    "### scipy\n",
    "- Collection of mathematical algorithms and convenience functions built on the numpy extension  \n",
    "- Built uponi **numpy**"
   ]
  },
  {
   "cell_type": "markdown",
   "metadata": {
    "hidden": true
   },
   "source": [
    "### Pandas\n",
    "- Data manipulation and analysis \n",
    "- Offer data structures and operations for manipulating numerical tables and time series  \n",
    "- Good for analyzing tabular data  \n",
    "- Use for exploratory data analysis, data pre-processing, statistics and visualization\n",
    "- Built upon **numpy**"
   ]
  },
  {
   "cell_type": "markdown",
   "metadata": {
    "hidden": true
   },
   "source": [
    "### scikit-learn\n",
    "- Machine learning functions  \n",
    "- Built on top of scipy"
   ]
  },
  {
   "cell_type": "markdown",
   "metadata": {
    "hidden": true
   },
   "source": [
    "### matplotlib\n",
    "- Data Visualization"
   ]
  },
  {
   "cell_type": "markdown",
   "metadata": {
    "hidden": true
   },
   "source": [
    "## Magic Functions"
   ]
  },
  {
   "cell_type": "markdown",
   "metadata": {
    "hidden": true
   },
   "source": [
    "- IPython has a set of predefined ‘magic functions’ that you can call with a command line style syntax  \n",
    "- There are two kinds of magics:  \n",
    "    - **Line Magic**  \n",
    "    Prefix with %, and work much like OS command-line calls: they get as an argument the rest of the line, where arguments are passed without parentheses or quotes. Lines magics can return results and can be used in the right hand side of an assignment  \n",
    "    - **Cell Magic**  \n",
    "    Prefix with %%, and they are functions that get as an argument not only the rest of the line, but also the lines below it in a separate argument."
   ]
  },
  {
   "cell_type": "markdown",
   "metadata": {
    "hidden": true
   },
   "source": [
    "### %matplotlib\n",
    "Output graph inline to frontend (Jupyter Notebook). Therefore is stored in the Notebook document"
   ]
  },
  {
   "cell_type": "code",
   "execution_count": 1560,
   "metadata": {
    "hidden": true
   },
   "outputs": [],
   "source": [
    "%matplotlib inline"
   ]
  },
  {
   "cell_type": "markdown",
   "metadata": {
    "heading_collapsed": true
   },
   "source": [
    "# Python Fundamental"
   ]
  },
  {
   "cell_type": "markdown",
   "metadata": {
    "hidden": true
   },
   "source": [
    "## Variable and Values\n",
    "- Every varibales in python are object  \n",
    "- Every variable assginment is reference based, that is, each object value is the reference to memory block of data "
   ]
  },
  {
   "cell_type": "code",
   "execution_count": 1561,
   "metadata": {
    "hidden": true
   },
   "outputs": [
    {
     "name": "stdout",
     "output_type": "stream",
     "text": [
      "Data of a = 123 \n",
      "Data of b = 123\n",
      "ID of a =  1404792800\n",
      "ID of b =  1404792800\n"
     ]
    }
   ],
   "source": [
    "# a,b refer to the same memory location\n",
    "a = 123\n",
    "b = a  \n",
    "print ('Data of a =',a,'\\nData of b =',b)\n",
    "print ('ID of a = ', id(a))\n",
    "print ('ID of b = ',id(b))"
   ]
  },
  {
   "cell_type": "markdown",
   "metadata": {
    "hidden": true
   },
   "source": [
    "Changing data value (using assignment) actually changed the reference value"
   ]
  },
  {
   "cell_type": "code",
   "execution_count": 1562,
   "metadata": {
    "hidden": true
   },
   "outputs": [
    {
     "name": "stdout",
     "output_type": "stream",
     "text": [
      "Data of a = 456 \n",
      "Data of b = 123\n",
      "ID of a =  1763242809584\n",
      "ID of b =  1404792800\n"
     ]
    }
   ],
   "source": [
    "a = 123\n",
    "b = a\n",
    "a = 456  # reassignemnt changed a memory reference\n",
    "         # b memory reference not changed\n",
    "print ('Data of a =',a,'\\nData of b =',b)\n",
    "print ('ID of a = ', id(a))\n",
    "print ('ID of b = ',id(b))"
   ]
  },
  {
   "cell_type": "markdown",
   "metadata": {
    "hidden": true
   },
   "source": [
    "## Assignment"
   ]
  },
  {
   "cell_type": "markdown",
   "metadata": {
    "hidden": true
   },
   "source": [
    "### Multiple Assignment"
   ]
  },
  {
   "cell_type": "code",
   "execution_count": 1563,
   "metadata": {
    "hidden": true
   },
   "outputs": [
    {
     "name": "stdout",
     "output_type": "stream",
     "text": [
      "3 3\n"
     ]
    }
   ],
   "source": [
    "x = y = 3\n",
    "print (x,y)"
   ]
  },
  {
   "cell_type": "markdown",
   "metadata": {
    "hidden": true
   },
   "source": [
    "### Augmented Assignment"
   ]
  },
  {
   "cell_type": "code",
   "execution_count": 1564,
   "metadata": {
    "hidden": true
   },
   "outputs": [
    {
     "name": "stdout",
     "output_type": "stream",
     "text": [
      "3\n"
     ]
    }
   ],
   "source": [
    "x = 1\n",
    "y = x + 1\n",
    "y += 1\n",
    "print (y)"
   ]
  },
  {
   "cell_type": "markdown",
   "metadata": {
    "hidden": true
   },
   "source": [
    "### Unpacking Assingment"
   ]
  },
  {
   "cell_type": "code",
   "execution_count": 1565,
   "metadata": {
    "hidden": true
   },
   "outputs": [
    {
     "name": "stdout",
     "output_type": "stream",
     "text": [
      "1 3\n"
     ]
    }
   ],
   "source": [
    "x,y = 1,3\n",
    "print (x,y)"
   ]
  },
  {
   "cell_type": "markdown",
   "metadata": {
    "heading_collapsed": true
   },
   "source": [
    "# Built-in Data Types"
   ]
  },
  {
   "cell_type": "markdown",
   "metadata": {
    "hidden": true
   },
   "source": [
    "## Numbers"
   ]
  },
  {
   "cell_type": "markdown",
   "metadata": {
    "hidden": true
   },
   "source": [
    "### Integer"
   ]
  },
  {
   "cell_type": "code",
   "execution_count": 1566,
   "metadata": {
    "hidden": true
   },
   "outputs": [
    {
     "data": {
      "text/plain": [
       "int"
      ]
     },
     "execution_count": 1566,
     "metadata": {},
     "output_type": "execute_result"
    }
   ],
   "source": [
    "n = 123\n",
    "type (n)"
   ]
  },
  {
   "cell_type": "markdown",
   "metadata": {
    "hidden": true
   },
   "source": [
    "### Float"
   ]
  },
  {
   "cell_type": "code",
   "execution_count": 1567,
   "metadata": {
    "hidden": true
   },
   "outputs": [
    {
     "data": {
      "text/plain": [
       "float"
      ]
     },
     "execution_count": 1567,
     "metadata": {},
     "output_type": "execute_result"
    }
   ],
   "source": [
    "f = 123.4\n",
    "type (f)"
   ]
  },
  {
   "cell_type": "markdown",
   "metadata": {
    "hidden": true
   },
   "source": [
    "### Number Operators"
   ]
  },
  {
   "cell_type": "markdown",
   "metadata": {
    "hidden": true
   },
   "source": [
    "**Division** always return float"
   ]
  },
  {
   "cell_type": "code",
   "execution_count": 1568,
   "metadata": {
    "hidden": true
   },
   "outputs": [
    {
     "name": "stdout",
     "output_type": "stream",
     "text": [
      "2.0\n"
     ]
    },
    {
     "data": {
      "text/plain": [
       "float"
      ]
     },
     "execution_count": 1568,
     "metadata": {},
     "output_type": "execute_result"
    }
   ],
   "source": [
    "print(4/2)  # return int\n",
    "type(4/2)"
   ]
  },
  {
   "cell_type": "markdown",
   "metadata": {
    "hidden": true
   },
   "source": [
    "**Integer Division** return truncated int or float"
   ]
  },
  {
   "cell_type": "code",
   "execution_count": 1569,
   "metadata": {
    "hidden": true
   },
   "outputs": [
    {
     "name": "stdout",
     "output_type": "stream",
     "text": [
      "2\n",
      "2.0\n"
     ]
    }
   ],
   "source": [
    "print (8//3)    # return int\n",
    "print (8//3.2)  # return float"
   ]
  },
  {
   "cell_type": "markdown",
   "metadata": {
    "hidden": true
   },
   "source": [
    "**Remainder** return either float or integer"
   ]
  },
  {
   "cell_type": "code",
   "execution_count": 1570,
   "metadata": {
    "hidden": true
   },
   "outputs": [
    {
     "name": "stdout",
     "output_type": "stream",
     "text": [
      "2\n",
      "1.5999999999999996\n"
     ]
    }
   ],
   "source": [
    "print (8%3)    # return int\n",
    "print (8%3.2)  # return float"
   ]
  },
  {
   "cell_type": "markdown",
   "metadata": {
    "hidden": true
   },
   "source": [
    "**Power** return int or float"
   ]
  },
  {
   "cell_type": "code",
   "execution_count": 1571,
   "metadata": {
    "hidden": true
   },
   "outputs": [
    {
     "name": "stdout",
     "output_type": "stream",
     "text": [
      "8\n",
      "9.261000000000001\n",
      "8.574187700290345\n"
     ]
    }
   ],
   "source": [
    "print (2**3)    # return int\n",
    "print (2.1**3)  # return float\n",
    "print (2**3.1)  # return float"
   ]
  },
  {
   "cell_type": "markdown",
   "metadata": {
    "heading_collapsed": true,
    "hidden": true
   },
   "source": [
    "## String\n",
    "String is a **ordered collection of letters**  "
   ]
  },
  {
   "cell_type": "markdown",
   "metadata": {
    "hidden": true
   },
   "source": [
    "### Immutable\n",
    "- String is **immuatable**. Changing its content will result in **error** \n",
    "- Changing the variable completley change the reference"
   ]
  },
  {
   "cell_type": "code",
   "execution_count": 1572,
   "metadata": {
    "hidden": true
   },
   "outputs": [
    {
     "name": "stdout",
     "output_type": "stream",
     "text": [
      "s :  1763242929880\n",
      "s :  1763214528384\n"
     ]
    }
   ],
   "source": [
    "s = 'abcde'\n",
    "print ('s : ', id(s))\n",
    "s = 'efgh'\n",
    "print ('s : ', id(s))"
   ]
  },
  {
   "cell_type": "code",
   "execution_count": 1573,
   "metadata": {
    "hidden": true
   },
   "outputs": [],
   "source": [
    "## s[1] = 'z' # error"
   ]
  },
  {
   "cell_type": "markdown",
   "metadata": {
    "hidden": true
   },
   "source": [
    "### Slicing\n",
    "```\n",
    "string[start:end:step]  # default step:1, start:0, end:last\n",
    "```\n",
    "If step is negative, start value must be lower than end value"
   ]
  },
  {
   "cell_type": "code",
   "execution_count": 1574,
   "metadata": {
    "hidden": true
   },
   "outputs": [
    {
     "name": "stdout",
     "output_type": "stream",
     "text": [
      "a\n",
      "abc\n",
      "ceg\n",
      "k\n",
      "ijk\n",
      "kjihgfedcba\n",
      "ihgfed\n"
     ]
    }
   ],
   "source": [
    "s = 'abcdefghijk'\n",
    "print (s[0])      # first later\n",
    "print (s[:3])     # first 3 letters\n",
    "print (s[2:8:2])  # stepping\n",
    "print (s[-1])     # last letter\n",
    "print (s[-3:])    # last three letters\n",
    "print (s[::-1])   # reverse everything\n",
    "print (s[8:2:-1])"
   ]
  },
  {
   "cell_type": "markdown",
   "metadata": {
    "hidden": true
   },
   "source": [
    "### Searching\n",
    "```\n",
    "string.find() return position of first occurance. -1 if not found\n",
    "```"
   ]
  },
  {
   "cell_type": "code",
   "execution_count": 1575,
   "metadata": {
    "hidden": true
   },
   "outputs": [
    {
     "name": "stdout",
     "output_type": "stream",
     "text": [
      "2\n",
      "-1\n"
     ]
    }
   ],
   "source": [
    "s='I love karaoke, I know you love it oo'\n",
    "print (s.find('lov'))\n",
    "print (s.find('kemuning'))"
   ]
  },
  {
   "cell_type": "markdown",
   "metadata": {
    "hidden": true
   },
   "source": [
    "### Concatenating Strings"
   ]
  },
  {
   "cell_type": "code",
   "execution_count": 1576,
   "metadata": {
    "hidden": true
   },
   "outputs": [
    {
     "data": {
      "text/plain": [
       "'this is awesome'"
      ]
     },
     "execution_count": 1576,
     "metadata": {},
     "output_type": "execute_result"
    }
   ],
   "source": [
    "'this is ' + 'awesome'"
   ]
  },
  {
   "cell_type": "code",
   "execution_count": 1577,
   "metadata": {
    "hidden": true
   },
   "outputs": [
    {
     "data": {
      "text/plain": [
       "['a1,a2,a3,a4']"
      ]
     },
     "execution_count": 1577,
     "metadata": {},
     "output_type": "execute_result"
    }
   ],
   "source": [
    "animals = 'a1,a2,a3,a4'\n",
    "animals.split()"
   ]
  },
  {
   "cell_type": "markdown",
   "metadata": {
    "hidden": true
   },
   "source": [
    "### Stripping Off Trailing Empty Spaces"
   ]
  },
  {
   "cell_type": "code",
   "execution_count": 1578,
   "metadata": {
    "hidden": true
   },
   "outputs": [
    {
     "data": {
      "text/plain": [
       "'myexce l.   xls'"
      ]
     },
     "execution_count": 1578,
     "metadata": {},
     "output_type": "execute_result"
    }
   ],
   "source": [
    "filename = 'myexce l.   xls   '\n",
    "filename.strip()"
   ]
  },
  {
   "cell_type": "markdown",
   "metadata": {
    "hidden": true
   },
   "source": [
    "### Convert to Upper/Lower Case"
   ]
  },
  {
   "cell_type": "code",
   "execution_count": 1579,
   "metadata": {
    "hidden": true
   },
   "outputs": [
    {
     "data": {
      "text/plain": [
       "'MYEXEEL.XLS'"
      ]
     },
     "execution_count": 1579,
     "metadata": {},
     "output_type": "execute_result"
    }
   ],
   "source": [
    "filename = 'myEXEel.xls'\n",
    "filename.upper()"
   ]
  },
  {
   "cell_type": "code",
   "execution_count": 1580,
   "metadata": {
    "hidden": true
   },
   "outputs": [
    {
     "data": {
      "text/plain": [
       "'myexeel.xls'"
      ]
     },
     "execution_count": 1580,
     "metadata": {},
     "output_type": "execute_result"
    }
   ],
   "source": [
    "filename.lower()"
   ]
  },
  {
   "cell_type": "markdown",
   "metadata": {
    "hidden": true
   },
   "source": [
    "## Boolean"
   ]
  },
  {
   "cell_type": "code",
   "execution_count": 1581,
   "metadata": {
    "code_folding": [],
    "hidden": true
   },
   "outputs": [
    {
     "name": "stdout",
     "output_type": "stream",
     "text": [
      "It is fake\n"
     ]
    }
   ],
   "source": [
    "b = False\n",
    "\n",
    "if (b):\n",
    "    print ('It is true')\n",
    "else:\n",
    "    print ('It is fake')\n",
    "    "
   ]
  },
  {
   "cell_type": "markdown",
   "metadata": {
    "hidden": true
   },
   "source": [
    "### What is Considered False ?\n",
    "Everything below are false, anything else are true"
   ]
  },
  {
   "cell_type": "code",
   "execution_count": 1582,
   "metadata": {
    "hidden": true
   },
   "outputs": [
    {
     "name": "stdout",
     "output_type": "stream",
     "text": [
      "False\n",
      "False\n",
      "False\n",
      "False\n",
      "False\n",
      "False\n",
      "False\n"
     ]
    }
   ],
   "source": [
    "print (bool(0))      # zero\n",
    "print (bool(None))   # none\n",
    "print (bool(''))     # empty string\n",
    "print (bool([]))     # empty list\n",
    "print (bool(()))     # empty tupple\n",
    "print (bool(False))  # False\n",
    "print (bool(2-2))    # expression that return any value above"
   ]
  },
  {
   "cell_type": "markdown",
   "metadata": {
    "hidden": true
   },
   "source": [
    "### and operator\n",
    "**and** can return different data types  \n",
    "If evaluated result is True, the value of right hand side is returned (because python need to evaluate up to the last value)"
   ]
  },
  {
   "cell_type": "code",
   "execution_count": 1583,
   "metadata": {
    "hidden": true
   },
   "outputs": [
    {
     "name": "stdout",
     "output_type": "stream",
     "text": [
      "2\n",
      "123\n",
      "bbb\n",
      "aaa\n",
      "aaa\n",
      "123\n"
     ]
    }
   ],
   "source": [
    "print (123 and 2)\n",
    "print (2 and 123)\n",
    "print ('aaa' and 'bbb')\n",
    "print ('bbb' and 'aaa')\n",
    "print (123 and 'aaa')\n",
    "print ('aaa' and 123)"
   ]
  },
  {
   "cell_type": "markdown",
   "metadata": {
    "hidden": true
   },
   "source": [
    "### or operator\n",
    "**or** can return different data type  \n",
    "If the first value is true, it will be returned (right hand side value need not be evaluated)"
   ]
  },
  {
   "cell_type": "code",
   "execution_count": 1584,
   "metadata": {
    "hidden": true
   },
   "outputs": [
    {
     "name": "stdout",
     "output_type": "stream",
     "text": [
      "2\n",
      "abcde\n",
      "1\n",
      "aaaaa\n",
      "True\n"
     ]
    }
   ],
   "source": [
    "print (0 or 2)\n",
    "print (0 or 'abcde')\n",
    "print (1 or 'abcde')\n",
    "print ('aaaaa' or 'bbbbb')\n",
    "print (True or 'abc')"
   ]
  },
  {
   "cell_type": "markdown",
   "metadata": {
    "hidden": true
   },
   "source": [
    "## None\n",
    "- None is a Python **object**  \n",
    "- Any operation to None object will result in error  \n",
    "- For array data with None elements, checking required to check through iteration to determine if the item is not None. It is very computaionaly heavy "
   ]
  },
  {
   "cell_type": "code",
   "execution_count": 1585,
   "metadata": {
    "hidden": true
   },
   "outputs": [
    {
     "data": {
      "text/plain": [
       "dtype('int32')"
      ]
     },
     "execution_count": 1585,
     "metadata": {},
     "output_type": "execute_result"
    }
   ],
   "source": [
    "t = np.array([1,2,3,4,5])\n",
    "t.dtype  #  its an integer"
   ]
  },
  {
   "cell_type": "code",
   "execution_count": 1586,
   "metadata": {
    "hidden": true
   },
   "outputs": [
    {
     "data": {
      "text/plain": [
       "dtype('O')"
      ]
     },
     "execution_count": 1586,
     "metadata": {},
     "output_type": "execute_result"
    }
   ],
   "source": [
    "t = np.array([1, 2, 3, None, 4, 5])\n",
    "t.dtype  # it's an object"
   ]
  },
  {
   "cell_type": "markdown",
   "metadata": {
    "heading_collapsed": true
   },
   "source": [
    "# Built-In Data Structure"
   ]
  },
  {
   "cell_type": "markdown",
   "metadata": {
    "hidden": true
   },
   "source": [
    "## Tuple\n",
    "Tuple is an immutable list. Any attempt to change/update tuple will return error.\n",
    "\n",
    "Benefits of tuple against List are:\n",
    "- Faster than list\n",
    "- Protects your data against accidental change\n",
    "- Can be used as key in dictionaries, list can't"
   ]
  },
  {
   "cell_type": "markdown",
   "metadata": {
    "hidden": true
   },
   "source": [
    "### Assignment"
   ]
  },
  {
   "cell_type": "markdown",
   "metadata": {
    "hidden": true
   },
   "source": [
    "#### (item1, item2, item3)\n",
    "This is a formal syntax for defining tuple, items inside (  ) notation"
   ]
  },
  {
   "cell_type": "code",
   "execution_count": 1587,
   "metadata": {
    "hidden": true
   },
   "outputs": [
    {
     "data": {
      "text/plain": [
       "(1, 2, 3, 'o', 'apple')"
      ]
     },
     "execution_count": 1587,
     "metadata": {},
     "output_type": "execute_result"
    }
   ],
   "source": [
    "t = (1,2,3,'o','apple')\n",
    "t"
   ]
  },
  {
   "cell_type": "code",
   "execution_count": 1588,
   "metadata": {
    "hidden": true
   },
   "outputs": [
    {
     "data": {
      "text/plain": [
       "tuple"
      ]
     },
     "execution_count": 1588,
     "metadata": {},
     "output_type": "execute_result"
    }
   ],
   "source": [
    "type(t)"
   ]
  },
  {
   "cell_type": "markdown",
   "metadata": {
    "hidden": true
   },
   "source": [
    "#### item1, item2, item3\n",
    "- Without (  ) notation, it is also considered as tuple  \n",
    "- However, some functions may not consider this method "
   ]
  },
  {
   "cell_type": "code",
   "execution_count": 1589,
   "metadata": {
    "hidden": true
   },
   "outputs": [
    {
     "data": {
      "text/plain": [
       "(1, 2, 3, 'o', 'apple')"
      ]
     },
     "execution_count": 1589,
     "metadata": {},
     "output_type": "execute_result"
    }
   ],
   "source": [
    "1,2,3,'o','apple'"
   ]
  },
  {
   "cell_type": "markdown",
   "metadata": {
    "hidden": true
   },
   "source": [
    "### Accessing"
   ]
  },
  {
   "cell_type": "code",
   "execution_count": 1590,
   "metadata": {
    "hidden": true
   },
   "outputs": [
    {
     "name": "stdout",
     "output_type": "stream",
     "text": [
      "2\n",
      "<class 'int'>\n"
     ]
    }
   ],
   "source": [
    "print (t[1])\n",
    "print (type(t[1]))"
   ]
  },
  {
   "cell_type": "code",
   "execution_count": 1591,
   "metadata": {
    "hidden": true,
    "scrolled": true
   },
   "outputs": [
    {
     "name": "stdout",
     "output_type": "stream",
     "text": [
      "(2, 3)\n"
     ]
    },
    {
     "data": {
      "text/plain": [
       "list"
      ]
     },
     "execution_count": 1591,
     "metadata": {},
     "output_type": "execute_result"
    }
   ],
   "source": [
    "print (t[1:3])\n",
    "type ([t[1:3]])"
   ]
  },
  {
   "cell_type": "markdown",
   "metadata": {
    "hidden": true
   },
   "source": [
    "## List\n",
    "- List is a collection of **ordered** items, where the items **can be any data types**  \n",
    "- You can pack list of items by placing them into []  \n",
    "- List is mutable"
   ]
  },
  {
   "cell_type": "markdown",
   "metadata": {
    "hidden": true
   },
   "source": [
    "### Creating List\n",
    "**Creating Empty List**"
   ]
  },
  {
   "cell_type": "code",
   "execution_count": 1592,
   "metadata": {
    "hidden": true
   },
   "outputs": [
    {
     "name": "stdout",
     "output_type": "stream",
     "text": [
      "[]\n"
     ]
    },
    {
     "data": {
      "text/plain": [
       "list"
      ]
     },
     "execution_count": 1592,
     "metadata": {},
     "output_type": "execute_result"
    }
   ],
   "source": [
    "empty = []      # literal assignment method\n",
    "empty = list()  # constructor method\n",
    "print (empty)\n",
    "type(empty)"
   ]
  },
  {
   "cell_type": "markdown",
   "metadata": {
    "hidden": true
   },
   "source": [
    "**Creating List using Literal Assignment Method**  \n",
    "**Multiple data types** is allowed in a list"
   ]
  },
  {
   "cell_type": "code",
   "execution_count": 1593,
   "metadata": {
    "hidden": true
   },
   "outputs": [],
   "source": [
    "mylist = [123,'abc',456]"
   ]
  },
  {
   "cell_type": "code",
   "execution_count": 1594,
   "metadata": {
    "hidden": true
   },
   "outputs": [],
   "source": [
    "food = ['bread','noodle','rice','biscuit']"
   ]
  },
  {
   "cell_type": "markdown",
   "metadata": {
    "hidden": true
   },
   "source": [
    "**Creating List using Constructor Method**  \n",
    "Note that **list(string)** will split the string into letters"
   ]
  },
  {
   "cell_type": "code",
   "execution_count": 1595,
   "metadata": {
    "hidden": true
   },
   "outputs": [
    {
     "data": {
      "text/plain": [
       "['h', 'e', 'l', 'l', 'o']"
      ]
     },
     "execution_count": 1595,
     "metadata": {},
     "output_type": "execute_result"
    }
   ],
   "source": [
    "list('hello')"
   ]
  },
  {
   "cell_type": "markdown",
   "metadata": {
    "hidden": true
   },
   "source": [
    "**Creating List using split() method**  \n",
    "Split base on spaces to create a list item"
   ]
  },
  {
   "cell_type": "code",
   "execution_count": 1596,
   "metadata": {
    "hidden": true
   },
   "outputs": [
    {
     "data": {
      "text/plain": [
       "['a', 'bunch', 'of', 'words']"
      ]
     },
     "execution_count": 1596,
     "metadata": {},
     "output_type": "execute_result"
    }
   ],
   "source": [
    "'a bunch of words'.split()"
   ]
  },
  {
   "cell_type": "markdown",
   "metadata": {
    "hidden": true
   },
   "source": [
    "Split doesn't break into items base on comma"
   ]
  },
  {
   "cell_type": "code",
   "execution_count": 1597,
   "metadata": {
    "hidden": true
   },
   "outputs": [
    {
     "data": {
      "text/plain": [
       "['a1,a2,a3,', 'a4']"
      ]
     },
     "execution_count": 1597,
     "metadata": {},
     "output_type": "execute_result"
    }
   ],
   "source": [
    "'a1,a2,a3, a4'.split()"
   ]
  },
  {
   "cell_type": "markdown",
   "metadata": {
    "hidden": true
   },
   "source": [
    "### Accessing Items"
   ]
  },
  {
   "cell_type": "markdown",
   "metadata": {
    "hidden": true
   },
   "source": [
    "**Access specific index**"
   ]
  },
  {
   "cell_type": "code",
   "execution_count": 1598,
   "metadata": {
    "hidden": true
   },
   "outputs": [
    {
     "name": "stdout",
     "output_type": "stream",
     "text": [
      "rice\n",
      "cake\n"
     ]
    }
   ],
   "source": [
    "food = list(['bread', 'noodle', 'rice', 'biscuit','jelly','cake'])\n",
    "print (food[2])  # 3rd item\n",
    "print (food[-1]) # last item"
   ]
  },
  {
   "cell_type": "markdown",
   "metadata": {
    "hidden": true
   },
   "source": [
    "**Access range of indexes**"
   ]
  },
  {
   "cell_type": "code",
   "execution_count": 1599,
   "metadata": {
    "hidden": true
   },
   "outputs": [
    {
     "name": "stdout",
     "output_type": "stream",
     "text": [
      "['bread', 'noodle', 'rice', 'biscuit']\n",
      "['biscuit', 'jelly', 'cake']\n",
      "['noodle', 'rice', 'biscuit', 'jelly']\n",
      "['cake', 'jelly', 'biscuit']\n",
      "['cake', 'jelly', 'biscuit', 'rice', 'noodle', 'bread']\n"
     ]
    }
   ],
   "source": [
    "print (food[:4])   # first 3 items\n",
    "print (food[-3:])  # last 3 items\n",
    "print (food[1:5])  # item 1 to 4\n",
    "print (food[5:2:-1]) # item 3 to 5, reverse order\n",
    "print (food[::-1]) # reverse order"
   ]
  },
  {
   "cell_type": "markdown",
   "metadata": {
    "hidden": true
   },
   "source": [
    "### Properties"
   ]
  },
  {
   "cell_type": "markdown",
   "metadata": {
    "hidden": true
   },
   "source": [
    "**Total Number of Items**"
   ]
  },
  {
   "cell_type": "code",
   "execution_count": 1600,
   "metadata": {
    "hidden": true
   },
   "outputs": [
    {
     "data": {
      "text/plain": [
       "6"
      ]
     },
     "execution_count": 1600,
     "metadata": {},
     "output_type": "execute_result"
    }
   ],
   "source": [
    "len(food)"
   ]
  },
  {
   "cell_type": "markdown",
   "metadata": {
    "hidden": true
   },
   "source": [
    "### Remove Item(s)\n",
    "**Search and remove first occurance** of an item"
   ]
  },
  {
   "cell_type": "code",
   "execution_count": 1601,
   "metadata": {
    "hidden": true
   },
   "outputs": [
    {
     "name": "stdout",
     "output_type": "stream",
     "text": [
      "['bread', 'rice', 'biscuit', 'jelly', 'cake']\n"
     ]
    }
   ],
   "source": [
    "food = list(['bread', 'noodle', 'rice', 'biscuit','jelly','cake'])\n",
    "food.remove('noodle')\n",
    "print (food)"
   ]
  },
  {
   "cell_type": "markdown",
   "metadata": {
    "hidden": true
   },
   "source": [
    "**Remove last item**"
   ]
  },
  {
   "cell_type": "code",
   "execution_count": 1602,
   "metadata": {
    "hidden": true
   },
   "outputs": [
    {
     "name": "stdout",
     "output_type": "stream",
     "text": [
      "['bread', 'rice', 'biscuit', 'jelly']\n"
     ]
    }
   ],
   "source": [
    "food.pop()\n",
    "print (food)"
   ]
  },
  {
   "cell_type": "markdown",
   "metadata": {
    "hidden": true
   },
   "source": [
    "**Remove item at specific position**"
   ]
  },
  {
   "cell_type": "code",
   "execution_count": 1603,
   "metadata": {
    "hidden": true
   },
   "outputs": [
    {
     "name": "stdout",
     "output_type": "stream",
     "text": [
      "['bread', 'biscuit', 'jelly']\n"
     ]
    }
   ],
   "source": [
    "food.pop(1)\n",
    "print(food)"
   ]
  },
  {
   "cell_type": "markdown",
   "metadata": {
    "hidden": true
   },
   "source": [
    "### Appending Item (s)"
   ]
  },
  {
   "cell_type": "markdown",
   "metadata": {
    "hidden": true
   },
   "source": [
    "**Append One Item**"
   ]
  },
  {
   "cell_type": "code",
   "execution_count": 1604,
   "metadata": {
    "hidden": true
   },
   "outputs": [
    {
     "name": "stdout",
     "output_type": "stream",
     "text": [
      "['bread', 'biscuit', 'jelly', 'jelly']\n"
     ]
    }
   ],
   "source": [
    "food.append('jelly')\n",
    "print (food)"
   ]
  },
  {
   "cell_type": "markdown",
   "metadata": {
    "hidden": true
   },
   "source": [
    "**Append Multiple Items**  \n",
    "**extend()** will expand the list/tupple argument and append as multiple items"
   ]
  },
  {
   "cell_type": "code",
   "execution_count": 1605,
   "metadata": {
    "hidden": true
   },
   "outputs": [
    {
     "name": "stdout",
     "output_type": "stream",
     "text": [
      "['bread', 'biscuit', 'jelly', 'jelly', 'nand', 'puff']\n"
     ]
    }
   ],
   "source": [
    "food.extend(['nand','puff'])\n",
    "print (food)"
   ]
  },
  {
   "cell_type": "markdown",
   "metadata": {
    "hidden": true
   },
   "source": [
    "### Concateneting Multiple Lists"
   ]
  },
  {
   "cell_type": "markdown",
   "metadata": {
    "hidden": true
   },
   "source": [
    "**Concatenating Lists**\n",
    "Although you can use '+' operator, however '-' operator is not supported"
   ]
  },
  {
   "cell_type": "code",
   "execution_count": 1606,
   "metadata": {
    "hidden": true
   },
   "outputs": [
    {
     "data": {
      "text/plain": [
       "['dog', 'cat', 'horse', 'elephant', 'tiger', 'sheep']"
      ]
     },
     "execution_count": 1606,
     "metadata": {},
     "output_type": "execute_result"
    }
   ],
   "source": [
    "['dog','cat','horse'] + ['elephant','tiger'] + ['sheep']"
   ]
  },
  {
   "cell_type": "markdown",
   "metadata": {
    "hidden": true
   },
   "source": [
    "### Other Methods ###"
   ]
  },
  {
   "cell_type": "markdown",
   "metadata": {
    "hidden": true
   },
   "source": [
    "**Reversing the order of the items**"
   ]
  },
  {
   "cell_type": "code",
   "execution_count": 1607,
   "metadata": {
    "hidden": true
   },
   "outputs": [
    {
     "data": {
      "text/plain": [
       "['puff', 'nand', 'jelly', 'jelly', 'biscuit', 'bread']"
      ]
     },
     "execution_count": 1607,
     "metadata": {},
     "output_type": "execute_result"
    }
   ],
   "source": [
    "food.reverse()\n",
    "food"
   ]
  },
  {
   "cell_type": "markdown",
   "metadata": {
    "hidden": true
   },
   "source": [
    "**Locating the Index Number of An Item**"
   ]
  },
  {
   "cell_type": "code",
   "execution_count": 1608,
   "metadata": {
    "hidden": true
   },
   "outputs": [
    {
     "data": {
      "text/plain": [
       "4"
      ]
     },
     "execution_count": 1608,
     "metadata": {},
     "output_type": "execute_result"
    }
   ],
   "source": [
    "food.index('biscuit')"
   ]
  },
  {
   "cell_type": "markdown",
   "metadata": {
    "hidden": true
   },
   "source": [
    "**Sorting The Order of Items**"
   ]
  },
  {
   "cell_type": "code",
   "execution_count": 1609,
   "metadata": {
    "hidden": true
   },
   "outputs": [
    {
     "name": "stdout",
     "output_type": "stream",
     "text": [
      "['biscuit', 'bread', 'jelly', 'jelly', 'nand', 'puff']\n"
     ]
    }
   ],
   "source": [
    "food.sort()\n",
    "print (food)"
   ]
  },
  {
   "cell_type": "markdown",
   "metadata": {
    "hidden": true
   },
   "source": [
    "### List is Mutable\n",
    "The reference list variable won't change after adding/removing its item"
   ]
  },
  {
   "cell_type": "code",
   "execution_count": 1610,
   "metadata": {
    "hidden": true
   },
   "outputs": [
    {
     "name": "stdout",
     "output_type": "stream",
     "text": [
      "food :  1763180698504\n",
      "food :  1763180698504\n"
     ]
    }
   ],
   "source": [
    "food = ['cake','jelly','roti','noodle']\n",
    "print ('food : ',id(food))\n",
    "food += ['salad','chicken']\n",
    "print ('food : ',id(food))"
   ]
  },
  {
   "cell_type": "code",
   "execution_count": 1611,
   "metadata": {
    "hidden": true
   },
   "outputs": [
    {
     "name": "stdout",
     "output_type": "stream",
     "text": [
      "[[1, 2, 3], 'abc']\n",
      "[[1, 2, 'k'], 'abc']\n"
     ]
    }
   ],
   "source": [
    "x = [1,2,3]\n",
    "y = [x,'abc']\n",
    "print (y)\n",
    "x[2] = 'k'\n",
    "print (y)"
   ]
  },
  {
   "cell_type": "markdown",
   "metadata": {
    "hidden": true
   },
   "source": [
    "Consider a function is an object, its variable (some_list) is immutable and hence its reference won't change, even data changes"
   ]
  },
  {
   "cell_type": "code",
   "execution_count": 1612,
   "metadata": {
    "hidden": true
   },
   "outputs": [
    {
     "name": "stdout",
     "output_type": "stream",
     "text": [
      "[1]\n",
      "[1, 2]\n",
      "[1, 2, 3]\n"
     ]
    }
   ],
   "source": [
    "def spam (elem, some_list=[]):\n",
    "    some_list.append(elem)\n",
    "    return some_list\n",
    "\n",
    "print (spam(1))\n",
    "print (spam(2))\n",
    "print (spam(3))"
   ]
  },
  {
   "cell_type": "markdown",
   "metadata": {
    "hidden": true
   },
   "source": [
    "## Dictionaries\n",
    "Dictionary is a list of index-value items."
   ]
  },
  {
   "cell_type": "markdown",
   "metadata": {
    "hidden": true
   },
   "source": [
    "### Creating dict\n",
    "**Creating dict with literals**"
   ]
  },
  {
   "cell_type": "markdown",
   "metadata": {
    "hidden": true
   },
   "source": [
    "Simple Dictionary"
   ]
  },
  {
   "cell_type": "code",
   "execution_count": 1613,
   "metadata": {
    "hidden": true
   },
   "outputs": [
    {
     "name": "stdout",
     "output_type": "stream",
     "text": [
      "{'cats': 2, 'dogs': 5, 'horses': 4}\n"
     ]
    }
   ],
   "source": [
    "animal_counts = { 'cats' : 2, 'dogs' : 5, 'horses':4}\n",
    "print (animal_counts)"
   ]
  },
  {
   "cell_type": "markdown",
   "metadata": {
    "hidden": true
   },
   "source": [
    "Dictionary with list"
   ]
  },
  {
   "cell_type": "code",
   "execution_count": 1614,
   "metadata": {
    "hidden": true
   },
   "outputs": [
    {
     "name": "stdout",
     "output_type": "stream",
     "text": [
      "{'cats': ['Walter', 'Ra'], 'dogs': ['Jim', 'Roy', 'John', 'Lucky', 'Row'], 'horses': ['Sax', 'Jack', 'Ann', 'Jeep']}\n"
     ]
    }
   ],
   "source": [
    "animal_names = {'cats':   ['Walter','Ra'],\n",
    "                'dogs':   ['Jim','Roy','John','Lucky','Row'],\n",
    "                'horses': ['Sax','Jack','Ann','Jeep']\n",
    "               }\n",
    "print (animal_names)"
   ]
  },
  {
   "cell_type": "markdown",
   "metadata": {
    "hidden": true
   },
   "source": [
    "**Creating dict with variables**"
   ]
  },
  {
   "cell_type": "code",
   "execution_count": 1615,
   "metadata": {
    "hidden": true
   },
   "outputs": [],
   "source": [
    "#cat_names : ['Walter','Ra','Jim']\n",
    "#dog_names  : ['Jim','Roy','John','Lucky','Row']\n",
    "#horse_names: ['Sax','Jack','Ann','Jeep']\n",
    "#animal_names = {'cats': cat_names,'dogs': dog_names, 'horses': horse_names}\n",
    "#animal_names"
   ]
  },
  {
   "cell_type": "markdown",
   "metadata": {
    "hidden": true
   },
   "source": [
    "### Accessing dict\n",
    "Find out the list of keys using **keys()**  "
   ]
  },
  {
   "cell_type": "code",
   "execution_count": 1616,
   "metadata": {
    "hidden": true
   },
   "outputs": [
    {
     "name": "stdout",
     "output_type": "stream",
     "text": [
      "dict_keys(['cats', 'dogs', 'horses'])\n",
      "['cats', 'dogs', 'horses']\n"
     ]
    }
   ],
   "source": [
    "print (animal_counts.keys())\n",
    "print (sorted(animal_counts.keys()))"
   ]
  },
  {
   "cell_type": "markdown",
   "metadata": {
    "hidden": true
   },
   "source": [
    "Find out the list of values using **values()**"
   ]
  },
  {
   "cell_type": "code",
   "execution_count": 1617,
   "metadata": {
    "hidden": true
   },
   "outputs": [
    {
     "name": "stdout",
     "output_type": "stream",
     "text": [
      "dict_values([2, 5, 4])\n",
      "[2, 4, 5]\n"
     ]
    }
   ],
   "source": [
    "print (animal_counts.values())\n",
    "print (sorted(animal_counts.values()))"
   ]
  },
  {
   "cell_type": "markdown",
   "metadata": {
    "hidden": true
   },
   "source": [
    "**Refer a dictionary item using index**"
   ]
  },
  {
   "cell_type": "code",
   "execution_count": 1618,
   "metadata": {
    "hidden": true
   },
   "outputs": [
    {
     "data": {
      "text/plain": [
       "5"
      ]
     },
     "execution_count": 1618,
     "metadata": {},
     "output_type": "execute_result"
    }
   ],
   "source": [
    "animal_counts['dogs']"
   ]
  },
  {
   "cell_type": "markdown",
   "metadata": {
    "hidden": true
   },
   "source": [
    "**Accessing non-existance key natively will return Error**"
   ]
  },
  {
   "cell_type": "code",
   "execution_count": 1619,
   "metadata": {
    "hidden": true
   },
   "outputs": [],
   "source": [
    "##animal_count['cow']"
   ]
  },
  {
   "cell_type": "markdown",
   "metadata": {
    "hidden": true
   },
   "source": [
    "**Accessing non-existance key** with **get()** will return None"
   ]
  },
  {
   "cell_type": "code",
   "execution_count": 1620,
   "metadata": {
    "hidden": true
   },
   "outputs": [
    {
     "name": "stdout",
     "output_type": "stream",
     "text": [
      "None\n"
     ]
    }
   ],
   "source": [
    "print (animal_counts.get('cow'))"
   ]
  },
  {
   "cell_type": "markdown",
   "metadata": {
    "hidden": true
   },
   "source": [
    "## Sets\n",
    "Set is unordered collection of unique items"
   ]
  },
  {
   "cell_type": "code",
   "execution_count": 1621,
   "metadata": {
    "hidden": true
   },
   "outputs": [
    {
     "name": "stdout",
     "output_type": "stream",
     "text": [
      "{'e', 'b', 'g', 'c', 'a', 'd', 'f'}\n"
     ]
    }
   ],
   "source": [
    "myset = {'a','b','c','d','a','b','e','f','g'}\n",
    "print (myset) # notice no repetition values"
   ]
  },
  {
   "cell_type": "markdown",
   "metadata": {
    "hidden": true
   },
   "source": [
    "### Membership Test"
   ]
  },
  {
   "cell_type": "code",
   "execution_count": 1622,
   "metadata": {
    "hidden": true
   },
   "outputs": [
    {
     "name": "stdout",
     "output_type": "stream",
     "text": [
      "True\n",
      "False\n"
     ]
    }
   ],
   "source": [
    "print ('a' in myset)      # is member ?\n",
    "print ('f' not in myset)  # is not member ?"
   ]
  },
  {
   "cell_type": "markdown",
   "metadata": {
    "hidden": true
   },
   "source": [
    "### Subset Test\n",
    "Subset Test : <=  \n",
    "Proper Subset Test : <"
   ]
  },
  {
   "cell_type": "code",
   "execution_count": 1623,
   "metadata": {
    "hidden": true
   },
   "outputs": [
    {
     "data": {
      "text/plain": [
       "True"
      ]
     },
     "execution_count": 1623,
     "metadata": {},
     "output_type": "execute_result"
    }
   ],
   "source": [
    "mysubset = {'d','g'}\n",
    "mysubset <= myset"
   ]
  },
  {
   "cell_type": "markdown",
   "metadata": {
    "hidden": true
   },
   "source": [
    "Proper Subset test that the master set **contain at least one element** which is not in the subset"
   ]
  },
  {
   "cell_type": "code",
   "execution_count": 1624,
   "metadata": {
    "hidden": true
   },
   "outputs": [
    {
     "name": "stdout",
     "output_type": "stream",
     "text": [
      "Is Subset :  True\n",
      "Is Proper Subet :  False\n"
     ]
    }
   ],
   "source": [
    "mysubset = {'b','a','d','c','e','f','g'}\n",
    "print ('Is Subset : ', mysubset <= myset)\n",
    "print ('Is Proper Subet : ', mysubset < myset)"
   ]
  },
  {
   "cell_type": "markdown",
   "metadata": {
    "hidden": true
   },
   "source": [
    "### Union using '|'"
   ]
  },
  {
   "cell_type": "code",
   "execution_count": 1625,
   "metadata": {
    "hidden": true
   },
   "outputs": [
    {
     "data": {
      "text/plain": [
       "{'a', 'b', 'c', 'e', 'f'}"
      ]
     },
     "execution_count": 1625,
     "metadata": {},
     "output_type": "execute_result"
    }
   ],
   "source": [
    "{'a','b','c'} | {'e','f'}"
   ]
  },
  {
   "cell_type": "markdown",
   "metadata": {
    "hidden": true
   },
   "source": [
    "### Intersection using '&'\n",
    "Any elments that exist in both left and right set"
   ]
  },
  {
   "cell_type": "code",
   "execution_count": 1626,
   "metadata": {
    "hidden": true
   },
   "outputs": [
    {
     "data": {
      "text/plain": [
       "{'c', 'd'}"
      ]
     },
     "execution_count": 1626,
     "metadata": {},
     "output_type": "execute_result"
    }
   ],
   "source": [
    "{'a','b','c','d'} & {'c','d','e','f'}"
   ]
  },
  {
   "cell_type": "markdown",
   "metadata": {
    "hidden": true
   },
   "source": [
    "### Difference using '-'\n",
    "Anything in **left** that is **not in right** "
   ]
  },
  {
   "cell_type": "code",
   "execution_count": 1627,
   "metadata": {
    "hidden": true
   },
   "outputs": [
    {
     "data": {
      "text/plain": [
       "{'a', 'b'}"
      ]
     },
     "execution_count": 1627,
     "metadata": {},
     "output_type": "execute_result"
    }
   ],
   "source": [
    "{'a','b','c','d'} - {'c','d','e','f'}"
   ]
  },
  {
   "cell_type": "markdown",
   "metadata": {
    "hidden": true
   },
   "source": [
    "## range\n",
    "**range(X)** generates sequence of integer object\n",
    "```\n",
    "range (lower_bound, upper_bound, step_size)  \n",
    "# lower bound is optional, default = 0\n",
    "# upper bound is not included in result\n",
    "# step is optional, default = 1\n",
    "```"
   ]
  },
  {
   "cell_type": "markdown",
   "metadata": {
    "hidden": true
   },
   "source": [
    "**Use list() to convert in order to view actual sequence of data**"
   ]
  },
  {
   "cell_type": "code",
   "execution_count": 1628,
   "metadata": {
    "hidden": true
   },
   "outputs": [
    {
     "name": "stdout",
     "output_type": "stream",
     "text": [
      "<class 'range'>\n",
      "range(0, 10)\n",
      "[0, 1, 2, 3, 4, 5, 6, 7, 8, 9]\n"
     ]
    }
   ],
   "source": [
    "r = range(10)     # default lower bound =0, step =1\n",
    "print (type (r))\n",
    "print (r)\n",
    "print (list(r))"
   ]
  },
  {
   "cell_type": "markdown",
   "metadata": {
    "hidden": true
   },
   "source": [
    "**More Examples**"
   ]
  },
  {
   "cell_type": "code",
   "execution_count": 1629,
   "metadata": {
    "hidden": true
   },
   "outputs": [
    {
     "name": "stdout",
     "output_type": "stream",
     "text": [
      "[2, 3, 4, 5, 6, 7]\n",
      "Odds Number :  [1, 3, 5, 7, 9]\n"
     ]
    }
   ],
   "source": [
    "print (list(range(2,8)))    # step not specified, default 1\n",
    "print ('Odds Number : ' , list(range(1,10,2))) # generate odds number"
   ]
  },
  {
   "cell_type": "markdown",
   "metadata": {
    "heading_collapsed": true
   },
   "source": [
    "# Control and Loops"
   ]
  },
  {
   "cell_type": "markdown",
   "metadata": {
    "hidden": true
   },
   "source": [
    "## If Statement"
   ]
  },
  {
   "cell_type": "code",
   "execution_count": 1630,
   "metadata": {
    "hidden": true
   },
   "outputs": [
    {
     "name": "stdout",
     "output_type": "stream",
     "text": [
      "hold\n",
      "end of programming\n"
     ]
    }
   ],
   "source": [
    "price = 102\n",
    "if price <100:\n",
    "    print ('buy')\n",
    "elif price < 110:\n",
    "    print ('hold')\n",
    "elif price < 120:\n",
    "    print ('think about it')\n",
    "else:\n",
    "    print ('sell')\n",
    "print('end of programming')"
   ]
  },
  {
   "cell_type": "markdown",
   "metadata": {
    "hidden": true
   },
   "source": [
    "## For Loops"
   ]
  },
  {
   "cell_type": "markdown",
   "metadata": {
    "hidden": true
   },
   "source": [
    "### For Loops with 'range' object"
   ]
  },
  {
   "cell_type": "code",
   "execution_count": 1631,
   "metadata": {
    "hidden": true
   },
   "outputs": [
    {
     "name": "stdout",
     "output_type": "stream",
     "text": [
      "Odds Number :  1\n",
      "Odds Number :  3\n",
      "Odds Number :  5\n",
      "Odds Number :  7\n",
      "Odds Number :  9\n"
     ]
    }
   ],
   "source": [
    "for i in range (1,10,2):\n",
    "    print ('Odds Number : ',i) "
   ]
  },
  {
   "cell_type": "markdown",
   "metadata": {
    "hidden": true
   },
   "source": [
    "### For Loops with 'list' object"
   ]
  },
  {
   "cell_type": "code",
   "execution_count": 1632,
   "metadata": {
    "hidden": true
   },
   "outputs": [
    {
     "name": "stdout",
     "output_type": "stream",
     "text": [
      "Letter :  a\n",
      "Letter :  b\n",
      "Letter :  c\n",
      "Letter :  d\n"
     ]
    }
   ],
   "source": [
    "letters = ['a','b','c','d']\n",
    "for e in letters:\n",
    "    print ('Letter : ',e)"
   ]
  },
  {
   "cell_type": "markdown",
   "metadata": {
    "heading_collapsed": true
   },
   "source": [
    "# Library and Functions\n",
    "Library are group of functions"
   ]
  },
  {
   "cell_type": "markdown",
   "metadata": {
    "hidden": true
   },
   "source": [
    "## Library Installation"
   ]
  },
  {
   "cell_type": "markdown",
   "metadata": {
    "hidden": true
   },
   "source": [
    "### Conda\n",
    "- Package manager for any language  \n",
    "- Install binaries"
   ]
  },
  {
   "cell_type": "markdown",
   "metadata": {
    "hidden": true
   },
   "source": [
    "### PIP\n",
    "- Package manager python only  \n",
    "- Compile from source  \n",
    "- Stands for Pip Installs Packages  \n",
    "- Python's officially-sanctioned package manager, and is most commonly used to install packages published on the **Python Package Index (PyPI)**  \n",
    "- Both pip and PyPI are governed and supported by the Python Packaging Authority (PyPA)."
   ]
  },
  {
   "cell_type": "markdown",
   "metadata": {
    "hidden": true
   },
   "source": [
    "## Importing Library\n",
    "\n",
    "There are two methods to import library functions:  \n",
    "\n",
    "**Standalone Namespace**\n",
    "```\n",
    "- import <libName>                        # access function through: libName.functionName\n",
    "- import <libName> as <shortName>         # access function through: shortName.functionName\n",
    "```\n",
    "**Global Namespace**\n",
    "```\n",
    "- from   <libName> import *               # all functions available at global namespace\n",
    "- from   <libName> import <functionName>  # access function through: functionName    \n",
    "- from   <libName> import <functions> as <shortFunctionName>  # access function through shortFunctionName\n",
    "```"
   ]
  },
  {
   "cell_type": "markdown",
   "metadata": {
    "hidden": true
   },
   "source": [
    "### Import Entire Library"
   ]
  },
  {
   "cell_type": "markdown",
   "metadata": {
    "hidden": true
   },
   "source": [
    "#### Import As An Object"
   ]
  },
  {
   "cell_type": "code",
   "execution_count": 1633,
   "metadata": {
    "hidden": true
   },
   "outputs": [
    {
     "data": {
      "text/plain": [
       "3.0"
      ]
     },
     "execution_count": 1633,
     "metadata": {},
     "output_type": "execute_result"
    }
   ],
   "source": [
    "import math\n",
    "math.sqrt(9)"
   ]
  },
  {
   "cell_type": "markdown",
   "metadata": {
    "hidden": true
   },
   "source": [
    "Use **as** for aliasing library name. This is useful if you have conflicting library name"
   ]
  },
  {
   "cell_type": "code",
   "execution_count": 1634,
   "metadata": {
    "hidden": true
   },
   "outputs": [
    {
     "data": {
      "text/plain": [
       "3.0"
      ]
     },
     "execution_count": 1634,
     "metadata": {},
     "output_type": "execute_result"
    }
   ],
   "source": [
    "import math as m\n",
    "m.sqrt(9)"
   ]
  },
  {
   "cell_type": "markdown",
   "metadata": {
    "hidden": true
   },
   "source": [
    "#### Import Into Global Name Space\n",
    "All functions in the library accessible through global namespace\n",
    "```\n",
    "from <libName> import *\n",
    "```"
   ]
  },
  {
   "cell_type": "markdown",
   "metadata": {
    "hidden": true
   },
   "source": [
    "### Import Specific Function"
   ]
  },
  {
   "cell_type": "code",
   "execution_count": 1635,
   "metadata": {
    "hidden": true
   },
   "outputs": [
    {
     "name": "stdout",
     "output_type": "stream",
     "text": [
      "3.0\n"
     ]
    }
   ],
   "source": [
    "from math import sqrt\n",
    "print (sqrt(9))"
   ]
  },
  {
   "cell_type": "markdown",
   "metadata": {
    "hidden": true
   },
   "source": [
    "Use **as** for aliasing function name"
   ]
  },
  {
   "cell_type": "code",
   "execution_count": 1636,
   "metadata": {
    "hidden": true
   },
   "outputs": [
    {
     "name": "stdout",
     "output_type": "stream",
     "text": [
      "3.0\n"
     ]
    }
   ],
   "source": [
    "from math import sqrt as sq\n",
    "print (sq(9))"
   ]
  },
  {
   "cell_type": "markdown",
   "metadata": {
    "hidden": true
   },
   "source": [
    "![alt text](img/ml_libraries.jpg)"
   ]
  },
  {
   "cell_type": "markdown",
   "metadata": {
    "hidden": true
   },
   "source": [
    "## Define Function"
   ]
  },
  {
   "cell_type": "markdown",
   "metadata": {
    "hidden": true
   },
   "source": [
    "### Function Arguments\n",
    "By default, arguments are assigned to function left to right"
   ]
  },
  {
   "cell_type": "code",
   "execution_count": 1637,
   "metadata": {
    "hidden": true
   },
   "outputs": [
    {
     "name": "stdout",
     "output_type": "stream",
     "text": [
      "x: 5\n",
      "y: 8\n"
     ]
    }
   ],
   "source": [
    "def myfun(x,y):\n",
    "    print ('x:',x)\n",
    "    print ('y:',y)\n",
    "    \n",
    "myfun(5,8)"
   ]
  },
  {
   "cell_type": "markdown",
   "metadata": {
    "hidden": true
   },
   "source": [
    "However, you can also specify the argument assigment during function call"
   ]
  },
  {
   "cell_type": "code",
   "execution_count": 1638,
   "metadata": {
    "hidden": true
   },
   "outputs": [
    {
     "name": "stdout",
     "output_type": "stream",
     "text": [
      "x: 5\n",
      "y: 8\n"
     ]
    }
   ],
   "source": [
    "myfun (y=8,x=5)"
   ]
  },
  {
   "cell_type": "markdown",
   "metadata": {
    "hidden": true
   },
   "source": [
    "Function can have **default argement value**"
   ]
  },
  {
   "cell_type": "code",
   "execution_count": 1639,
   "metadata": {
    "hidden": true
   },
   "outputs": [
    {
     "name": "stdout",
     "output_type": "stream",
     "text": [
      "x: 5\n",
      "y: 1\n"
     ]
    }
   ],
   "source": [
    "def myfun(x=1,y=1):  # default argument value is 1\n",
    "    print ('x:',x)\n",
    "    print ('y:',y)\n",
    "    \n",
    "myfun(5)  # pass only one argument"
   ]
  },
  {
   "cell_type": "markdown",
   "metadata": {
    "hidden": true
   },
   "source": [
    "### Return Statement"
   ]
  },
  {
   "cell_type": "code",
   "execution_count": 1640,
   "metadata": {
    "hidden": true
   },
   "outputs": [
    {
     "name": "stdout",
     "output_type": "stream",
     "text": [
      "8\n"
     ]
    }
   ],
   "source": [
    "def bigger(x,y):\n",
    "    if (x>y):\n",
    "        return x\n",
    "    else:\n",
    "        return y\n",
    "    \n",
    "print (bigger(5,8))"
   ]
  },
  {
   "cell_type": "markdown",
   "metadata": {
    "hidden": true
   },
   "source": [
    "### No Return Statement\n",
    "if no **return** statement, python return **None**"
   ]
  },
  {
   "cell_type": "code",
   "execution_count": 1641,
   "metadata": {
    "hidden": true
   },
   "outputs": [
    {
     "name": "stdout",
     "output_type": "stream",
     "text": [
      "This is a dummy function, return no value\n",
      "None\n"
     ]
    }
   ],
   "source": [
    "def dummy():\n",
    "    print ('This is a dummy function, return no value')\n",
    "\n",
    "print (dummy())"
   ]
  },
  {
   "cell_type": "markdown",
   "metadata": {
    "hidden": true
   },
   "source": [
    "### Return Multiple Value\n",
    "Multiple value is returned as **tuple**. Use multiple assignment to assign to multiple variable"
   ]
  },
  {
   "cell_type": "code",
   "execution_count": 1642,
   "metadata": {
    "hidden": true
   },
   "outputs": [
    {
     "name": "stdout",
     "output_type": "stream",
     "text": [
      "7 9\n",
      "(7, 9)\n"
     ]
    }
   ],
   "source": [
    "def minmax(x,y,z):\n",
    "    return min(x,y,z), max(x,y,z)\n",
    "\n",
    "a,b = minmax(7,8,9)     # multiple assignment\n",
    "c   = minmax(7,8,9)     # tuple\n",
    "\n",
    "print (a,b)\n",
    "print (c)    "
   ]
  },
  {
   "cell_type": "markdown",
   "metadata": {
    "hidden": true
   },
   "source": [
    "### Passing Function as Argument \n",
    "You can pass a function name as an argument to a function"
   ]
  },
  {
   "cell_type": "code",
   "execution_count": 1643,
   "metadata": {
    "hidden": true
   },
   "outputs": [
    {
     "name": "stdout",
     "output_type": "stream",
     "text": [
      "hello 54\n"
     ]
    }
   ],
   "source": [
    "def myfun(x,y,f):\n",
    "    f(x,y)\n",
    "\n",
    "myfun('hello',54,print)"
   ]
  },
  {
   "cell_type": "markdown",
   "metadata": {
    "heading_collapsed": true
   },
   "source": [
    "# datetime Library"
   ]
  },
  {
   "cell_type": "markdown",
   "metadata": {
    "hidden": true
   },
   "source": [
    "## Data Types\n",
    "datetime library contain **three data types**:  \n",
    "- **date** (year,month,day)  \n",
    "- **time** (hour,minute,second)  \n",
    "- **datetime** (year,month,day,hour,minute,second)  \n",
    "- **timedelta**: duration between two datetime or date object"
   ]
  },
  {
   "cell_type": "markdown",
   "metadata": {
    "hidden": true
   },
   "source": [
    "### date object"
   ]
  },
  {
   "cell_type": "code",
   "execution_count": 1644,
   "metadata": {
    "hidden": true
   },
   "outputs": [
    {
     "data": {
      "text/plain": [
       "datetime.date(2000, 1, 1)"
      ]
     },
     "execution_count": 1644,
     "metadata": {},
     "output_type": "execute_result"
    }
   ],
   "source": [
    "dt.date(2000,1,1)"
   ]
  },
  {
   "cell_type": "code",
   "execution_count": 1645,
   "metadata": {
    "hidden": true
   },
   "outputs": [
    {
     "data": {
      "text/plain": [
       "datetime.date(2000, 1, 1)"
      ]
     },
     "execution_count": 1645,
     "metadata": {},
     "output_type": "execute_result"
    }
   ],
   "source": [
    "dt.date(year=2000,month=1,day=1)"
   ]
  },
  {
   "cell_type": "markdown",
   "metadata": {
    "hidden": true
   },
   "source": [
    "### datetime object"
   ]
  },
  {
   "cell_type": "code",
   "execution_count": 1646,
   "metadata": {
    "hidden": true
   },
   "outputs": [
    {
     "data": {
      "text/plain": [
       "datetime.datetime(2000, 1, 1, 0, 0)"
      ]
     },
     "execution_count": 1646,
     "metadata": {},
     "output_type": "execute_result"
    }
   ],
   "source": [
    "dt.datetime(2000,1,1,0,0,0)"
   ]
  },
  {
   "cell_type": "code",
   "execution_count": 1647,
   "metadata": {
    "hidden": true
   },
   "outputs": [
    {
     "data": {
      "text/plain": [
       "datetime.datetime(2000, 1, 1, 23, 15, 55)"
      ]
     },
     "execution_count": 1647,
     "metadata": {},
     "output_type": "execute_result"
    }
   ],
   "source": [
    "dt.datetime(year=2000,month=1,day=1,hour=23,minute=15,second=55)"
   ]
  },
  {
   "cell_type": "markdown",
   "metadata": {
    "hidden": true
   },
   "source": [
    "### time object\n",
    "There is unfortunately no single function to extract the current time. Use **time()** function of an **datetime** object"
   ]
  },
  {
   "cell_type": "code",
   "execution_count": 1648,
   "metadata": {
    "hidden": true
   },
   "outputs": [
    {
     "data": {
      "text/plain": [
       "datetime.time(2, 0)"
      ]
     },
     "execution_count": 1648,
     "metadata": {},
     "output_type": "execute_result"
    }
   ],
   "source": [
    "dt.time(2)   #default single arugement, hour"
   ]
  },
  {
   "cell_type": "code",
   "execution_count": 1649,
   "metadata": {
    "hidden": true
   },
   "outputs": [
    {
     "data": {
      "text/plain": [
       "datetime.time(2, 15)"
      ]
     },
     "execution_count": 1649,
     "metadata": {},
     "output_type": "execute_result"
    }
   ],
   "source": [
    "dt.time(2,15) #default two arguments, hour, minute"
   ]
  },
  {
   "cell_type": "code",
   "execution_count": 1650,
   "metadata": {
    "hidden": true
   },
   "outputs": [
    {
     "data": {
      "text/plain": [
       "datetime.time(2, 15, 30)"
      ]
     },
     "execution_count": 1650,
     "metadata": {},
     "output_type": "execute_result"
    }
   ],
   "source": [
    "dt.time(hour=2,minute=15,second=30)"
   ]
  },
  {
   "cell_type": "markdown",
   "metadata": {
    "hidden": true
   },
   "source": [
    "### timedelta\n",
    "- **years** argument is **not supported**  \n",
    "- Apply timedelta on **datetime** object  \n",
    "- timedelta **cannot** be applied on **time object**  , because timedelta potentially go beyond single day (24H)"
   ]
  },
  {
   "cell_type": "code",
   "execution_count": 1651,
   "metadata": {
    "hidden": true
   },
   "outputs": [
    {
     "name": "stdout",
     "output_type": "stream",
     "text": [
      "delt+d :  2018-03-23 01:07:24.027874\n"
     ]
    }
   ],
   "source": [
    "delt = dt.timedelta(days=5,minutes=33,seconds=15)\n",
    "d = dt.datetime.now()\n",
    "\n",
    "print ('delt+d : ', delt + d)"
   ]
  },
  {
   "cell_type": "markdown",
   "metadata": {
    "hidden": true
   },
   "source": [
    "### Useful Functions"
   ]
  },
  {
   "cell_type": "markdown",
   "metadata": {
    "hidden": true
   },
   "source": [
    "#### .now (datetime)"
   ]
  },
  {
   "cell_type": "code",
   "execution_count": 1652,
   "metadata": {
    "hidden": true
   },
   "outputs": [
    {
     "data": {
      "text/plain": [
       "datetime.datetime(2018, 3, 18, 0, 34, 9, 42885)"
      ]
     },
     "execution_count": 1652,
     "metadata": {},
     "output_type": "execute_result"
    }
   ],
   "source": [
    "now = dt.datetime.now()\n",
    "now"
   ]
  },
  {
   "cell_type": "markdown",
   "metadata": {
    "hidden": true
   },
   "source": [
    "#### .today(datetime)"
   ]
  },
  {
   "cell_type": "code",
   "execution_count": 1653,
   "metadata": {
    "hidden": true
   },
   "outputs": [
    {
     "data": {
      "text/plain": [
       "datetime.datetime(2018, 3, 18, 0, 34, 9, 56895)"
      ]
     },
     "execution_count": 1653,
     "metadata": {},
     "output_type": "execute_result"
    }
   ],
   "source": [
    "hari_ini = dt.datetime.today()\n",
    "hari_ini"
   ]
  },
  {
   "cell_type": "markdown",
   "metadata": {
    "hidden": true
   },
   "source": [
    "#### date()"
   ]
  },
  {
   "cell_type": "code",
   "execution_count": 1654,
   "metadata": {
    "hidden": true
   },
   "outputs": [
    {
     "data": {
      "text/plain": [
       "datetime.date(2018, 3, 18)"
      ]
     },
     "execution_count": 1654,
     "metadata": {},
     "output_type": "execute_result"
    }
   ],
   "source": [
    "hari_ini.date()"
   ]
  },
  {
   "cell_type": "markdown",
   "metadata": {
    "hidden": true
   },
   "source": [
    "#### time()"
   ]
  },
  {
   "cell_type": "code",
   "execution_count": 1655,
   "metadata": {
    "hidden": true
   },
   "outputs": [
    {
     "data": {
      "text/plain": [
       "datetime.time(0, 34, 9, 42885)"
      ]
     },
     "execution_count": 1655,
     "metadata": {},
     "output_type": "execute_result"
    }
   ],
   "source": [
    "now.time()"
   ]
  },
  {
   "cell_type": "markdown",
   "metadata": {
    "hidden": true
   },
   "source": [
    "#### Combine Date and Time into DateTime (.combine)"
   ]
  },
  {
   "cell_type": "code",
   "execution_count": 1656,
   "metadata": {
    "hidden": true
   },
   "outputs": [
    {
     "data": {
      "text/plain": [
       "datetime.datetime(2018, 3, 18, 0, 34, 9, 42885)"
      ]
     },
     "execution_count": 1656,
     "metadata": {},
     "output_type": "execute_result"
    }
   ],
   "source": [
    "dt.datetime.combine(hari_ini.date(), now.time())"
   ]
  },
  {
   "cell_type": "markdown",
   "metadata": {
    "hidden": true
   },
   "source": [
    "## Datetime Parsing and Formating"
   ]
  },
  {
   "cell_type": "markdown",
   "metadata": {
    "hidden": true
   },
   "source": [
    "### String to DateTime, strptime()\n",
    "```\n",
    "%I : 12-hour\n",
    "%H : 24-hour\n",
    "%M : Minute\n",
    "%p : AM/PM\n",
    "%y : 18\n",
    "%Y : 2018\n",
    "%b : Mar\n",
    "%m : month (1 to 12)\n",
    "%d : day\n",
    "```"
   ]
  },
  {
   "cell_type": "code",
   "execution_count": 1657,
   "metadata": {
    "hidden": true
   },
   "outputs": [
    {
     "data": {
      "text/plain": [
       "datetime.datetime(2018, 1, 9, 0, 0)"
      ]
     },
     "execution_count": 1657,
     "metadata": {},
     "output_type": "execute_result"
    }
   ],
   "source": [
    "dt.datetime.strptime('9-01-18','%d-%m-%y')"
   ]
  },
  {
   "cell_type": "code",
   "execution_count": 1658,
   "metadata": {
    "hidden": true
   },
   "outputs": [
    {
     "data": {
      "text/plain": [
       "datetime.datetime(2018, 3, 9, 0, 0)"
      ]
     },
     "execution_count": 1658,
     "metadata": {},
     "output_type": "execute_result"
    }
   ],
   "source": [
    "dt.datetime.strptime('09-Mar-2018','%d-%b-%Y')"
   ]
  },
  {
   "cell_type": "code",
   "execution_count": 1659,
   "metadata": {
    "hidden": true
   },
   "outputs": [
    {
     "data": {
      "text/plain": [
       "datetime.datetime(2018, 2, 5, 16, 49)"
      ]
     },
     "execution_count": 1659,
     "metadata": {},
     "output_type": "execute_result"
    }
   ],
   "source": [
    "dt.datetime.strptime('2/5/2018 4:49 PM', '%m/%d/%Y %I:%M %p')"
   ]
  },
  {
   "cell_type": "markdown",
   "metadata": {
    "hidden": true
   },
   "source": [
    "### Date/DateTime To String"
   ]
  },
  {
   "cell_type": "markdown",
   "metadata": {
    "hidden": true
   },
   "source": [
    "#### str(), standard string format"
   ]
  },
  {
   "cell_type": "code",
   "execution_count": 1660,
   "metadata": {
    "hidden": true
   },
   "outputs": [
    {
     "data": {
      "text/plain": [
       "'2018-03-18 00:34:09.149968'"
      ]
     },
     "execution_count": 1660,
     "metadata": {},
     "output_type": "execute_result"
    }
   ],
   "source": [
    "str(dt.datetime.now())"
   ]
  },
  {
   "cell_type": "markdown",
   "metadata": {
    "hidden": true
   },
   "source": [
    "#### strftime(), custom string format"
   ]
  },
  {
   "cell_type": "code",
   "execution_count": 1661,
   "metadata": {
    "hidden": true
   },
   "outputs": [
    {
     "data": {
      "text/plain": [
       "'18-Mar-2018'"
      ]
     },
     "execution_count": 1661,
     "metadata": {},
     "output_type": "execute_result"
    }
   ],
   "source": [
    "d    = dt.datetime.now()\n",
    "dt.datetime.strftime(d, '%d-%b-%Y')"
   ]
  },
  {
   "cell_type": "markdown",
   "metadata": {
    "heading_collapsed": true
   },
   "source": [
    "# Getting External Data"
   ]
  },
  {
   "cell_type": "markdown",
   "metadata": {
    "hidden": true
   },
   "source": [
    " ## Webscraping using request & BeautifulSoup4\n",
    "Use webscraping technique only if API is not available"
   ]
  },
  {
   "cell_type": "markdown",
   "metadata": {
    "hidden": true
   },
   "source": [
    "### Library"
   ]
  },
  {
   "cell_type": "code",
   "execution_count": 1662,
   "metadata": {
    "hidden": true
   },
   "outputs": [],
   "source": [
    "import requests\n",
    "from bs4 import BeautifulSoup"
   ]
  },
  {
   "cell_type": "code",
   "execution_count": 1663,
   "metadata": {
    "hidden": true
   },
   "outputs": [
    {
     "name": "stdout",
     "output_type": "stream",
     "text": [
      "<!DOCTYPE html>\n",
      "<html>\n",
      " <head>\n",
      "  <meta charset=\"utf-8\"/>\n",
      "  <meta content=\"app-id=312101965\" name=\"apple-itunes-app\"/>\n",
      "  <title>\n",
      "   Search | Epicurious.com\n",
      "  </title>\n",
      "  <link href=\"//assets.adobedtm.com\" rel=\"dns-prefetch\"/>\n",
      "  <link href=\"https://www.google-analytics.com\" rel=\"dns-prefetch\"/>\n",
      "  <link href=\"//tpc.googlesyndication.com\" rel=\"dns-prefetch\"/>\n",
      "  <link href=\"//static.parsely.com\" rel=\"dns-prefetch\"/>\n",
      "  <link href=\"//condenast.demdex.net\" rel=\"dns-prefetch\"/>\n",
      "  <link href=\"//capture.condenastdigital.com\" rel=\"dns-prefetch\"/>\n",
      "  <link href=\"//pixel.condenastdigital.com\" rel=\"dns-prefetch\"/>\n",
      "  <link href=\"//use.typekit.net\" rel=\"dns-prefetch\"/>\n",
      "  <link href=\"//fonts.typekit.net\" rel=\"dns-prefetch\"/>\n",
      "  <link href=\"//p.typekit.net\" rel=\"dns-prefetch\"/>\n",
      "  <link href=\"//assets.epicurious.com\" rel=\"dns-prefetch\"/>\n",
      "  <link href=\"//ad.doubleclick.net\" rel=\"dns-prefetch\"/>\n",
      "  <link href=\"//pagead2.googlesyndication.com\" rel=\"dns-prefetch\"/>\n",
      "  <link href=\"//z.moatads.com\" rel=\"dns-prefetch\"/>\n",
      "  <meta content=\"en_US\" itemprop=\"inLanguage\" property=\"og:locale\"/>\n",
      "  <meta content=\"IE=edge\" http-equiv=\"x-ua-compatible\"/>\n",
      "  <meta content=\"no-cache\" http-equiv=\"cache-control\"/>\n",
      "  <meta content=\"no-cache\" http-equiv=\"pragma\"/>\n",
      "  <meta content=\"Search | Epicurious.com\" itemprop=\"name\"/>\n",
      "  <meta content=\"https://www.epicurious.com/static/img/misc/epicurious-social-logo.png\" itemprop=\"logo\"/>\n",
      "  <meta content=\"Easily search and browse more than 37,000 recipes, articles, galleries, menus, and videos from Epicurious.com, Bon Appétit, and other partners.\" name=\"description\"/>\n",
      "  <meta content=\"Epicurious\" itemprop=\"author\"/>\n",
      "  <link href=\"https://www.epicurious.com/search/tofu%20chill\" rel=\"canonical\"/>\n",
      "  <meta content=\"Copyright (c) 2018 Conde Nast\" name=\"copyright\"/>\n",
      "  <meta content=\"9c2002da922784afad64b638161c75f7\" name=\"p:domain_verify\"/>\n",
      "  <meta content=\"Search | Epicurious.com\" property=\"og:title\"/>\n",
      "  <meta content=\"website\" property=\"og:type\"/>\n",
      "  <meta content=\"https://www.epicurious.com/search/tofu%20chill\" property=\"og:url\"/>\n",
      "  <meta content=\"Easily search and browse more than 37,000 recipes, articles, galleries, menus, and videos from Epicurious.com, Bon Appétit, and other partners.\" property=\"og:description\"/>\n",
      "  <meta content=\"https://www.epicurious.com/static/img/misc/epicurious-social-logo.png\" property=\"og:image\"/>\n",
      "  <meta content=\"Epicurious\" property=\"og:site_name\"/>\n",
      "  <meta content=\"1636080783276430\" property=\"fb:app_id\"/>\n",
      "  <meta content=\"722582662\" property=\"fb:admins\"/>\n",
      "  <meta content=\"774348857\" property=\"fb:admins\"/>\n",
      "  <meta content=\"596666898\" property=\"fb:admins\"/>\n",
      "  <meta content=\"837402\" property=\"fb:admins\"/>\n",
      "  <meta content=\"685417657\" property=\"fb:admins\"/>\n",
      "  <meta content=\"22500087\" property=\"fb:admins\"/>\n",
      "  <meta content=\"1107036618\" property=\"fb:admins\"/>\n",
      "  <meta content=\"1045857449\" property=\"fb:admins\"/>\n",
      "  <meta content=\"14601235\" property=\"fb:admins\"/>\n",
      "  <link href=\"https://plus.google.com/106968200752753566855\" rel=\"publisher\"/>\n",
      "  <link href=\"/static/img/favicon.png\" rel=\"icon\" type=\"image/png\"/>\n",
      "  <meta content=\"#f93f23\" name=\"theme-color\"/>\n",
      "  <meta content=\"width=device-width, initial-scale=1.0\" name=\"viewport\"/>\n",
      "  <!-- metadataTags end -->\n",
      "  <script>\n",
      "   var EPI = EPI || {\n",
      "        barCnsCrtPage: false,\n",
      "        onCompleteActions: []\n",
      "    };\n",
      "\n",
      "    document.onreadystatechange = function () {\n",
      "        if (document.readyState === 'complete') {\n",
      "            EPI.onCompleteActions.forEach(function (callback) {\n",
      "                if (typeof callback === 'function') {\n",
      "                    callback();\n",
      "                }\n",
      "            });\n",
      "\n",
      "            if (window.location.search.substr(1).indexOf('ui-regression-test=true') >= 0) {\n",
      "                console.log('ui-regression-test-ready');\n",
      "            }\n",
      "        }\n",
      "    };\n",
      "\n",
      "    <!-- https://github.com/filamentgroup/loadJS -->\n",
      "    !function(a){var b=function(b,c){\"use strict\";var d=a.document.getElementsByTagName(\"script\")[0],e=a.document.createElement(\"script\");return e.src=b,e.async=!0,d.parentNode.insertBefore(e,d),c&&\"function\"==typeof c&&(e.onload=c),e};\"undefined\"!=typeof module?module.exports=b:a.loadJS=b}(\"undefined\"!=typeof global?global:this);    // loadCSS\n",
      "    (function(h){var d=function(d,e,n){function k(a){if(b.body)return a();setTimeout(function(){k(a)})}function f(){a.addEventListener&&a.removeEventListener(\"load\",f);a.media=n||\"all\"}var b=h.document,a=b.createElement(\"link\"),c;if(e)c=e;else{var l=(b.body||b.getElementsByTagName(\"head\")[0]).childNodes;c=l[l.length-1]}var m=b.styleSheets;a.rel=\"stylesheet\";a.href=d;a.media=\"only x\";k(function(){c.parentNode.insertBefore(a,e?c:c.nextSibling)});var g=function(b){for(var c=a.href,d=m.length;d--;)if(m[d].href===\n",
      "    c)return b();setTimeout(function(){g(b)})};a.addEventListener&&a.addEventListener(\"load\",f);a.onloadcssdefined=g;g(f);return a};\"undefined\"!==typeof exports?exports.loadCSS=d:h.loadCSS=d})(\"undefined\"!==typeof global?global:this);\n",
      "    \n",
      "    (function(a){if(a.loadCSS){var b=loadCSS.relpreload={};b.support=function(){try{return a.document.createElement(\"link\").relList.supports(\"preload\")}catch(b){return!1}};b.poly=function(){for(var b=a.document.getElementsByTagName(\"link\"),d=0;d<b.length;d++){var c=b[d];\"preload\"===c.rel&&\"style\"===c.getAttribute(\"as\")&&(a.loadCSS(c.href,c),c.rel=null)}};if(!b.support()){b.poly();var e=a.setInterval(b.poly,300);a.addEventListener&&a.addEventListener(\"load\",function(){a.clearInterval(e)});a.attachEvent&&\n",
      "    a.attachEvent(\"onload\",function(){a.clearInterval(e)})}}})(this);\n",
      "  </script>\n",
      "  <link as=\"style\" href=\"https://use.typekit.net/zpl6zji.css\" onload=\"this.rel='stylesheet'\" rel=\"preload\" type=\"text/css\"/>\n",
      "  <style>\n",
      "   @font-face{font-family:'Gotham SSm 5r';src:url(\"/static/fonts/GothamSSm5r.woff2\") format(\"woff2\"),url(\"/static/fonts/GothamSSm5r.woff\") format(\"woff\");font-weight:normal;font-style:normal}@font-face{font-family:'Gotham SSm 5i';src:url(\"/static/fonts/GothamSSm5i.woff2\") format(\"woff2\"),url(\"/static/fonts/GothamSSm5i.woff\") format(\"woff\");font-weight:normal;font-style:normal}@font-face{font-family:'Gotham SSm 7r';src:url(\"/static/fonts/GothamSSm7r.woff2\") format(\"woff2\"),url(\"/static/fonts/GothamSSm7r.woff\") format(\"woff\");font-weight:normal;font-style:normal}@font-face{font-family:'Gotham SSm 7i';src:url(\"/static/fonts/GothamSSm7i.woff2\") format(\"woff2\"),url(\"/static/fonts/GothamSSm7i.woff\") format(\"woff\");font-weight:normal;font-style:normal}@font-face{font-family:'Gotham Cond SSm 5r';src:url(\"/static/fonts/GothamCondSSm5r.woff2\") format(\"woff2\"),url(\"/static/fonts/GothamCondSSm5r.woff\") format(\"woff\");font-weight:normal;font-style:normal}@font-face{font-family:'Gotham Cond SSm 6r';src:url(\"/static/fonts/GothamCondSSm6r.woff2\") format(\"woff2\"),url(\"/static/fonts/GothamCondSSm6r.woff\") format(\"woff\");font-weight:normal;font-style:normal}header[role=\"banner\"],.search-dialog-form input[type=\"text\"]{font-family:\"Gotham SSm 7r\", sans-serif;font-weight:normal}[class$=\"-flash-message\"]{font-family:\"utopia-std-display\", serif;font-style:italic;font-weight:400}.icon-share{background-image:url(\"data:image/svg+xml;charset=US-ASCII,%3Csvg%20xmlns%3D%22http%3A%2F%2Fwww.w3.org%2F2000%2Fsvg%22%20viewBox%3D%22-64%20741%20128%20102%22%3E%3Cpath%20d%3D%22M37%20813.7v19.5h-88.7v-63.4h19.6l13.6-11.8H-64v87H49.4v-43.2zm-11.7-19.8s-54.7-14.2-69.4%2034.6c0%200-5.3-69.9%2069.4-69.9V741L64%20775.8l-38.7%2036v-17.9z%22%2F%3E%3C%2Fsvg%3E\");background-repeat:no-repeat}footer[role=\"contentinfo\"] .corporate-info .conde-nast-brands .nav-title:after{background-repeat:no-repeat;background-size:contain;height:1em;width:.7em}footer[role=\"contentinfo\"] .corporate-info .conde-nast-brands .nav-title:after{content:\"\";display:inline-block;position:relative;top:1px;vertical-align:baseline}footer[role=\"contentinfo\"] .corporate-info .conde-nast-brands .nav-title:after{background-position:100% 0%;margin-left:.5rem}footer[role=\"contentinfo\"] .corporate-info .conde-nast-brands .nav-title:after{background-image:url(\"data:image/svg+xml;base64,PHN2ZyB2aWV3Qm94PSIwIDAgNzAgMTAwIiB4bWxucz0iaHR0cDovL3d3dy53My5vcmcvMjAwMC9zdmciPjxwYXRoIGQ9Ik03MCA1MC44NTlMMCAwbDIxLjU4IDUwLjg1OUwwIDEwMHoiIGZpbGw9IiNDQ0MiIGZpbGwtcnVsZT0iZXZlbm9kZCIvPjwvc3ZnPg==\")}footer[role=\"contentinfo\"] .corporate-info>.section-title,.homepage-content-channel-link,.lightreg-dialog fieldset legend,header[role=\"banner\"] .epicurious-logo,footer[role=\"contentinfo\"] .epicurious-links .epi-social-links .nav-title,.main-navigation .facebook-social-channel-link,.branding .facebook-social-channel-link,footer[role=\"contentinfo\"] .epicurious-links .epi-social-links .facebook-link,footer[role=\"contentinfo\"] .epicurious-links .epi-social-links .feed-link,footer[role=\"contentinfo\"] .epicurious-links .epi-social-links .googleplus-link,header[role=\"banner\"] .show-main-navigation:hover,header[role=\"banner\"] .show-main-navigation,header[role=\"banner\"] .show-search-button:hover,.search-dialog-form [type=\"submit\"]:hover,header[role=\"banner\"] .show-search-button,.search-dialog-form [type=\"submit\"],.user-status[data-user-type=\"anonymous\"] .recipebox-status:hover,.user-status[data-user-type=\"anonymous\"] .recipebox-status,.user-status[data-user-type=\"authenticated\"] .recipebox-status,.main-navigation .instagram-social-channel-link,.branding .instagram-social-channel-link,footer[role=\"contentinfo\"] .epicurious-links .epi-social-links .instagram-link,footer[role=\"contentinfo\"] .epicurious-links .epi-social-links .pinterest-link,footer[role=\"contentinfo\"] .epicurious-links .epi-social-links .tumblr-link,.main-navigation .twitter-social-channel-link,.branding .twitter-social-channel-link,footer[role=\"contentinfo\"] .epicurious-links .epi-social-links .twitter-link,.search-dialog-form [type=\"reset\"]:hover,[class$=\"-form\"] .close-button,.search-dialog-form [type=\"reset\"],.dismiss-main-navigation:hover,[class$=\"-comment-form\"] .close-button,.dismiss-main-navigation,footer[role=\"contentinfo\"] .epicurious-links .epi-social-links .youtube-link{background-color:transparent;background-position:50% 50%;background-repeat:no-repeat;background-size:contain}footer[role=\"contentinfo\"] .corporate-info>.section-title{background-image:url(\"data:image/svg+xml;base64,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\")}.homepage-content-channel-link{background-image:url(\"data:image/svg+xml;base64,PHN2ZyB2aWV3Qm94PSIwIDAgMjU2IDI1NiIgeG1sbnM9Imh0dHA6Ly93d3cudzMub3JnLzIwMDAvc3ZnIj48ZyBmaWxsPSJub25lIiBmaWxsLXJ1bGU9ImV2ZW5vZGQiPjxjaXJjbGUgZmlsbD0iI0ZGRiIgY3g9IjEyOCIgY3k9IjEyOCIgcj0iMTE5Ii8+PHBhdGggZD0iTTY4LjQgOTVjLTYuNiAwLTExLjQgMTcuOC05IDM0LjJsMTguNi01YzAtMTUuOC0yLjgtMjkuMi05LjYtMjkuMnptNzMuOSA1LjNjLTIuOSAwLTUuMi45LTcuMSAyLjRWMTUzYzEuMiAxLjcgMy4yIDMgNi4yIDMgNy40IDAgMTMuMi03LjkgMTMuMi0yOSAwLTE0LjItMi42LTI2LjctMTIuMy0yNi43ek0xMjggMEM1Ny4zIDAgMCA1Ny4zIDAgMTI4YzAgNzAuNiA1Ny4zIDEyOCAxMjggMTI4czEyOC01Ny4zIDEyOC0xMjhTMTk4LjcgMCAxMjggMHptNzMuNiA1Ny45YzcuMSAwIDEyLjkgNS40IDEyLjkgMTEuOSAwIDYuNy01LjggMTEuOS0xMi45IDExLjktNy4xLjEtMTIuOS01LjItMTIuOS0xMS45czUuOC0xMS45IDEyLjktMTEuOXpNMTAyLjQgMTI0bC00MS43IDExLjhjLjkgNC43IDMuNSA5LjEgNy4xIDEyLjEgMy4xIDIuMSA2LjggMy41IDEwLjcgMy41IDEyLjUgMCAyMC43LTEwLjkgMjAuNy0xMC45bDEuOC42YzAgLjEtLjEuMy0uMS40aC4xYy0xLjEgNS43LTkuNCAyNi4xLTM0LjEgMjYuMS05LjYgMC0xNy4zLTMuMS0yMy4yLTguMi05LTcuMy0xNC0xOC45LTE0LTMxLjQgMC0yMS4xIDE0LjMtMzkuNCAzOC41LTM5LjQgMTguOSAwIDMzLjUgMTQuNiAzNC4yIDM1di40em00Ny40IDQzLjNjLTUuNiAwLTEwLjgtMS44LTE0LjUtNC45djM2LjNoLTI2LjZsLjEtMTA4LjdoMjUuOWwuNiA3YzQuNC01LjIgMTAuNi04LjUgMTcuOS04LjUgMTguNyAwIDI3LjcgMTguMyAyNy43IDM5LjQgMCAyMi44LTEzLjQgMzkuNC0zMS4xIDM5LjR6bTY1LjItMS44aC0yNi43bC4xLTc1LjNIMjE1djc1LjN6IiBmaWxsPSIjRjkzRjIzIiBmaWxsLXJ1bGU9Im5vbnplcm8iLz48L2c+PC9zdmc+\")}.lightreg-dialog fieldset legend,header[role=\"banner\"] .epicurious-logo{background-image:url(\"data:image/svg+xml;base64,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\")}footer[role=\"contentinfo\"] .epicurious-links .epi-social-links .nav-title{background-image:url(\"data:image/svg+xml;base64,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\")}.main-navigation .facebook-social-channel-link{background-image:url(\"data:image/svg+xml;base64,PHN2ZyB2aWV3Qm94PSIwIDAgMTM4IDI1NiIgeG1sbnM9Imh0dHA6Ly93d3cudzMub3JnLzIwMDAvc3ZnIj48cGF0aCBkPSJNMCAxMzcuMDIyaDM5LjE5M1YyNTZoNDkuMDExVjEzNy4wMjJoNDkuMDEyVjg4LjA5SDg4LjIwNFY2My4yN2MwLTguMjkyIDUuMjU3LTE1LjA1NSA5Ljc5Ni0xNS4wNTVoMzkuMjE2VjBIOThDNjUuNTU3LS4wMTIgMzkuMTkzIDI4LjYwNyAzOS4xOTMgNjMuOTc2Vjg4LjA5SDB2NDguOTMyeiIgZmlsbC1ydWxlPSJub256ZXJvIiBmaWxsPSIjRjkzRjIzIi8+PC9zdmc+\")}.branding .facebook-social-channel-link{background-image:url(\"data:image/svg+xml;base64,PHN2ZyB2aWV3Qm94PSIwIDAgNDIgNDIiIHhtbG5zPSJodHRwOi8vd3d3LnczLm9yZy8yMDAwL3N2ZyI+PGcgZmlsbD0ibm9uZSIgZmlsbC1ydWxlPSJldmVub2RkIj48cGF0aCBkPSJNMCAyMS4wM0MwIDkuNDM3IDkuMzkyIDAgMjEgMGMxMS42MDcgMCAyMSA5LjQzOCAyMSAyMS4wM0M0MiAzMi42MiAzMi42MDcgNDIgMjEgNDIgOS4zOTIgNDIgMCAzMi42MiAwIDIxLjAzeiIgZmlsbC1ydWxlPSJub256ZXJvIiBmaWxsPSIjRjkzRjIzIi8+PHBhdGggZD0iTTE1LjU1NCAyMS43NDdoMy4xMXY5LjQ0aDMuODl2LTkuNDRoMy44OXYtMy44ODRoLTMuODl2LTEuOTdjMC0uNjU3LjQxOC0xLjE5NC43OC0xLjE5NGgzLjExdi0zLjgyNmgtMy4xMWMtMi41NzYgMC00LjY3IDIuMjctNC42NyA1LjA3OHYxLjkxM2gtMy4xMXYzLjg4M3oiIGZpbGw9IiNGRkYiLz48L2c+PC9zdmc+\")}footer[role=\"contentinfo\"] .epicurious-links .epi-social-links .facebook-link{background-image:url(\"data:image/svg+xml;base64,PHN2ZyB4bWxucz0iaHR0cDovL3d3dy53My5vcmcvMjAwMC9zdmciIHZpZXdCb3g9Ii02NCA3MjggMTI4IDEyOCI+PHBhdGggZmlsbD0iI2ZmZmZmZiIgZD0iTS02NCA3OTJjMC0zNS4yIDI4LjUtNjQgNjQtNjRzNjQgMjguOCA2NCA2NC0yOC41IDY0LTY0IDY0LTY0LTI4LjYtNjQtNjR6bTQ3LjMgMi4xaDkuNHYyOC44SDQuNXYtMjguOGgxMS44di0xMS44SDQuNXYtNi4xYzAtMi4xIDEuMi0zLjYgMi40LTMuNmg5LjR2LTExLjVINi45Yy03LjkgMC0xNC4zIDctMTQuMyAxNS41djUuOGgtOS40bC4xIDExLjd6Ij48L3BhdGg+PC9zdmc+\")}footer[role=\"contentinfo\"] .epicurious-links .epi-social-links .feed-link{background-image:url(\"data:image/svg+xml;base64,PHN2ZyB4bWxucz0iaHR0cDovL3d3dy53My5vcmcvMjAwMC9zdmciIHZpZXdCb3g9Ii05NiA2NTMgMTI4IDEyOCI+PHBhdGggZmlsbD0iI2ZmZmZmZiIgZD0iTS0zMiA2NTNjLTM1LjMgMC02NCAyOC43LTY0IDY0czI4LjcgNjQgNjQgNjQgNjQtMjguNyA2NC02NC0yOC43LTY0LTY0LTY0em0tMjQgOTZjLTQuNCAwLTgtMy42LTgtOHMzLjYtOCA4LTggOCAzLjYgOCA4LTMuNiA4LTggOHptMjIgMGMwLTE2LjUtMTMuNS0zMC0zMC0zMHYtMTJjMjMuMiAwIDQyIDE4LjggNDIgNDJoLTEyem0yNCAwYzAtMTQuNC01LjYtMjgtMTUuOC0zOC4yQy0zNiA3MDAuNi00OS42IDY5NS02NCA2OTV2LTEyYzE3LjYgMCAzNC4yIDYuOSA0Ni43IDE5LjNDLTQuOSA3MTQuOCAyIDczMS40IDIgNzQ5aC0xMnoiPjwvcGF0aD48L3N2Zz4=\")}footer[role=\"contentinfo\"] .epicurious-links .epi-social-links .googleplus-link{background-image:url(\"data:image/svg+xml;base64,PHN2ZyB2aWV3Qm94PSIwIDAgMTI4IDEyOCIgeG1sbnM9Imh0dHA6Ly93d3cudzMub3JnLzIwMDAvc3ZnIj48cGF0aCBkPSJNMTI4IDY0LjAwMmMuMyAzNS4yLTI4LjUgNjQtNjQgNjRzLTY0LTI4LjgtNjQtNjRjMC0zNS41IDI4LjUtNjMuNyA2NC02NCAzNC45LS4zIDYzLjcgMjguNSA2NCA2NHptLTY5LjUtMTQuNmMwLTUuOC0uNi04LjgtNC45LTEwLjkgMC0xLjUgNy45LS42IDcuOS0zaC0xN3MtMTcuMy4zLTE3LjMgMTQuOWMwIDE0LjkgMTQuOSAxMyAxNC45IDEzdjMuOWMwIDEuNSAyLjEuOSAyLjQgMy45LTEuMiAwLTIwLjktLjYtMjAuOSAxMi40IDAgMTMuMyAxNy42IDEyLjQgMTcuNiAxMi40czIwLjMgMS4yIDIwLjMtMTUuNWMwLTkuNy0xMS41LTEzLTExLjUtMTdzOC41LTUgOC41LTE0LjF6bS0yNy45IDM0Yy0uMy01LjIgNS4yLTkuNyAxMi4xLTEwLjMgNy0uMyAxMyAzLjMgMTMuNiA4LjUuMyA1LjItNS4yIDkuNy0xMi4xIDEwLTcuMi45LTEzLjMtMy0xMy42LTguMnptOS40LTQ0LjljNC4yLTEuMiA4LjggMi40IDEwLjYgOC41IDEuNSA1LjgtLjYgMTEuNS00LjkgMTIuNC00LjIgMS4yLTguOC0yLjctMTAuNi04LjUtMS40LTUuNy43LTExLjIgNC45LTEyLjR6bTM3LjMgMjIuMnYtMTEuMkg3NHYxMS4ySDYzLjF2My4zSDc0djExLjJoMy4zdi0xMS4yaDEwLjl2LTMuM0g3Ny4zem0yMS45LTkuMXYyNy45aDUuMnYtMzkuMWgtMy45Yy0uNiAzLTEuOCA0LjktMy4zIDUuOC0xLjUuNi0zLjkgMS41LTcuNiAxLjh2My42aDkuNnoiIGZpbGwtcnVsZT0ibm9uemVybyIgZmlsbD0iI0ZGRiIvPjwvc3ZnPg==\")}header[role=\"banner\"] .show-main-navigation:hover{background-image:url(\"data:image/svg+xml;base64,PHN2ZyB2aWV3Qm94PSIwIDAgMjUgMTgiIHhtbG5zPSJodHRwOi8vd3d3LnczLm9yZy8yMDAwL3N2ZyI+PGcgZmlsbD0iIzMzMyIgZmlsbC1ydWxlPSJldmVub2RkIj48cGF0aCBkPSJNMCAwaDI1djJIMHpNMCA4aDI1djJIMHpNMCAxNmgyNXYySDB6Ii8+PC9nPjwvc3ZnPg==\")}header[role=\"banner\"] .show-main-navigation{background-image:url(\"data:image/svg+xml;base64,PHN2ZyB2aWV3Qm94PSIwIDAgMjUgMTgiIHhtbG5zPSJodHRwOi8vd3d3LnczLm9yZy8yMDAwL3N2ZyI+PGcgZmlsbD0iI0ExQTFBMSIgZmlsbC1ydWxlPSJldmVub2RkIj48cGF0aCBkPSJNMCAwaDI1djJIMHpNMCA4aDI1djJIMHpNMCAxNmgyNXYySDB6Ii8+PC9nPjwvc3ZnPg==\")}header[role=\"banner\"] .show-search-button:hover,.search-dialog-form [type=\"submit\"]:hover{background-image:url(\"data:image/svg+xml;base64,PHN2ZyB2aWV3Qm94PSIwIDAgNDIgNDIiIHhtbG5zPSJodHRwOi8vd3d3LnczLm9yZy8yMDAwL3N2ZyI+PHBhdGggZD0iTTQwLjgxIDM1LjMybC05Ljk4Ni05Ljk4NWExNi4yNiAxNi4yNiAwIDAgMCAyLjM3My04LjQ4NUMzMy4xOTcgNy44MjIgMjUuMzc0IDAgMTYuMzQ1IDAgNy4zMiAwIDAgNy4zMiAwIDE2LjM0N2MwIDkuMDI4IDcuODIyIDE2Ljg1IDE2Ljg1IDE2Ljg1IDMgMCA1LjgxMi0uODE0IDguMjMtMi4yMjZsMTAuMDM3IDEwLjA0YTIuNTE0IDIuNTE0IDAgMCAwIDMuNTU3IDBsMi40OS0yLjQ5Yy45ODMtLjk4Mi42MjctMi4yMi0uMzU1LTMuMnpNNS4wMyAxNi4zNDZjMC02LjI1IDUuMDY3LTExLjMxNyAxMS4zMTUtMTEuMzE3IDYuMjUgMCAxMS44MiA1LjU3IDExLjgyIDExLjgyUzIzLjEgMjguMTY3IDE2Ljg1IDI4LjE2N2MtNi4yNSAwLTExLjgyLTUuNTctMTEuODItMTEuODJ6IiBmaWxsPSIjMzMzIi8+PC9zdmc+\")}header[role=\"banner\"] .show-search-button,.search-dialog-form [type=\"submit\"]{background-image:url(\"data:image/svg+xml;base64,PHN2ZyB2aWV3Qm94PSIwIDAgNDIgNDIiIHhtbG5zPSJodHRwOi8vd3d3LnczLm9yZy8yMDAwL3N2ZyI+PHBhdGggZD0iTTQwLjgxIDM1LjMybC05Ljk4Ni05Ljk4NWExNi4yNiAxNi4yNiAwIDAgMCAyLjM3My04LjQ4NUMzMy4xOTcgNy44MjIgMjUuMzc0IDAgMTYuMzQ1IDAgNy4zMiAwIDAgNy4zMiAwIDE2LjM0N2MwIDkuMDI4IDcuODIyIDE2Ljg1IDE2Ljg1IDE2Ljg1IDMgMCA1LjgxMi0uODE0IDguMjMtMi4yMjZsMTAuMDM3IDEwLjA0YTIuNTE0IDIuNTE0IDAgMCAwIDMuNTU3IDBsMi40OS0yLjQ5Yy45ODMtLjk4Mi42MjctMi4yMi0uMzU1LTMuMnpNNS4wMyAxNi4zNDZjMC02LjI1IDUuMDY3LTExLjMxNyAxMS4zMTUtMTEuMzE3IDYuMjUgMCAxMS44MiA1LjU3IDExLjgyIDExLjgyUzIzLjEgMjguMTY3IDE2Ljg1IDI4LjE2N2MtNi4yNSAwLTExLjgyLTUuNTctMTEuODItMTEuODJ6IiBmaWxsPSIjYTFhMWExIi8+PC9zdmc+\")}.user-status[data-user-type=\"anonymous\"] .recipebox-status:hover{background-image:url(\"data:image/svg+xml;base64,PHN2ZyB2aWV3Qm94PSIwIDAgNDIgNDIiIHhtbG5zPSJodHRwOi8vd3d3LnczLm9yZy8yMDAwL3N2ZyIgeG1sbnM6eGxpbms9Imh0dHA6Ly93d3cudzMub3JnLzE5OTkveGxpbmsiPjxkZWZzPjxwYXRoIGQ9Ik0zNS44MjQgMS4xNThDMzAuNDc0LTEuNzM0IDIzLjQ3Ni45ODggMjEgNy4yMjYgMTguNTI0Ljk4NyAxMS41MjYtMS43MzcgNi4xNzYgMS4xNTkuNDc3IDQuMjUtMi4yNDggMTIuMTM4IDIuMjUzIDIxLjQ0MyA1LjQ0OSAyOC4wNjcgMTEuMTE1IDMzLjA1NiAyMSA0Mi4wMDFjOS44ODUtOC45NDUgMTUuNTUxLTEzLjkzOSAxOC43NDctMjAuNTU5IDQuNTAxLTkuMzA0IDEuNzc2LTE3LjE5NC0zLjkyMy0yMC4yODR6IiBpZD0iYSIvPjwvZGVmcz48ZyBmaWxsLXJ1bGU9Im5vbnplcm8iIGZpbGw9Im5vbmUiPjx1c2UgZmlsbD0iIzMzMyIgZmlsbC1ydWxlPSJldmVub2RkIiB4bGluazpocmVmPSIjYSIvPjxwYXRoIHN0cm9rZT0iMzMzIiBkPSJNMjEgNDEuMzI2Yy05LjczMy04LjgxLTEyLjA3OC0xMS4wNzUtMTQuODcxLTE0LjY1OS0xLjQxLTEuODA3LTIuNTI1LTMuNTc1LTMuNDI2LTUuNDQxQy0xLjM5OCAxMi43NDYuNDcyIDQuODIgNi40MTQgMS41OTljNS4xMy0yLjc3NyAxMS43NzUtLjEgMTQuMTIxIDUuODExTDIxIDguNTgxbC40NjUtMS4xN2MyLjM0NS01LjkxIDguOTktOC41ODcgMTQuMTIxLTUuODEzIDUuOTQyIDMuMjIyIDcuODEyIDExLjE0OCAzLjcxIDE5LjYyNi0uODk4IDEuODYxLTIuMDEgMy42MjQtMy40MTMgNS40MjctMi43OTYgMy41OS01LjE2NCA1Ljg3OC0xNC44ODMgMTQuNjc1eiIvPjwvZz48L3N2Zz4=\")}.user-status[data-user-type=\"anonymous\"] .recipebox-status{background-image:url(\"data:image/svg+xml;base64,PHN2ZyB2aWV3Qm94PSIwIDAgNDIgNDIiIHhtbG5zPSJodHRwOi8vd3d3LnczLm9yZy8yMDAwL3N2ZyIgeG1sbnM6eGxpbms9Imh0dHA6Ly93d3cudzMub3JnLzE5OTkveGxpbmsiPjxkZWZzPjxwYXRoIGQ9Ik0zNS44MjQgMS4xNThDMzAuNDc0LTEuNzM0IDIzLjQ3Ni45ODggMjEgNy4yMjYgMTguNTI0Ljk4NyAxMS41MjYtMS43MzcgNi4xNzYgMS4xNTkuNDc3IDQuMjUtMi4yNDggMTIuMTM4IDIuMjUzIDIxLjQ0MyA1LjQ0OSAyOC4wNjcgMTEuMTE1IDMzLjA1NiAyMSA0Mi4wMDFjOS44ODUtOC45NDUgMTUuNTUxLTEzLjkzOSAxOC43NDctMjAuNTU5IDQuNTAxLTkuMzA0IDEuNzc2LTE3LjE5NC0zLjkyMy0yMC4yODR6IiBpZD0iYSIvPjwvZGVmcz48ZyBmaWxsLXJ1bGU9Im5vbnplcm8iIGZpbGw9Im5vbmUiPjx1c2UgZmlsbD0iI2ExYTFhMSIgZmlsbC1ydWxlPSJldmVub2RkIiB4bGluazpocmVmPSIjYSIvPjxwYXRoIHN0cm9rZT0iI2ExYTFhMSIgZD0iTTIxIDQxLjMyNmMtOS43MzMtOC44MS0xMi4wNzgtMTEuMDc1LTE0Ljg3MS0xNC42NTktMS40MS0xLjgwNy0yLjUyNS0zLjU3NS0zLjQyNi01LjQ0MUMtMS4zOTggMTIuNzQ2LjQ3MiA0LjgyIDYuNDE0IDEuNTk5YzUuMTMtMi43NzcgMTEuNzc1LS4xIDE0LjEyMSA1LjgxMUwyMSA4LjU4MWwuNDY1LTEuMTdjMi4zNDUtNS45MSA4Ljk5LTguNTg3IDE0LjEyMS01LjgxMyA1Ljk0MiAzLjIyMiA3LjgxMiAxMS4xNDggMy43MSAxOS42MjYtLjg5OCAxLjg2MS0yLjAxIDMuNjI0LTMuNDEzIDUuNDI3LTIuNzk2IDMuNTktNS4xNjQgNS44NzgtMTQuODgzIDE0LjY3NXoiLz48L2c+PC9zdmc+\")}.user-status[data-user-type=\"authenticated\"] .recipebox-status{background-image:url(\"data:image/svg+xml;base64,PHN2ZyB2aWV3Qm94PSIwIDAgNDIgNDIiIHhtbG5zPSJodHRwOi8vd3d3LnczLm9yZy8yMDAwL3N2ZyIgeG1sbnM6eGxpbms9Imh0dHA6Ly93d3cudzMub3JnLzE5OTkveGxpbmsiPjxkZWZzPjxwYXRoIGQ9Ik0zNS44MjQgMS4xNThDMzAuNDc0LTEuNzM0IDIzLjQ3Ni45ODggMjEgNy4yMjYgMTguNTI0Ljk4NyAxMS41MjYtMS43MzcgNi4xNzYgMS4xNTkuNDc3IDQuMjUtMi4yNDggMTIuMTM4IDIuMjUzIDIxLjQ0MyA1LjQ0OSAyOC4wNjcgMTEuMTE1IDMzLjA1NiAyMSA0Mi4wMDFjOS44ODUtOC45NDUgMTUuNTUxLTEzLjkzOSAxOC43NDctMjAuNTU5IDQuNTAxLTkuMzA0IDEuNzc2LTE3LjE5NC0zLjkyMy0yMC4yODR6IiBpZD0iYSIvPjwvZGVmcz48ZyBmaWxsLXJ1bGU9Im5vbnplcm8iIGZpbGw9Im5vbmUiPjx1c2UgZmlsbD0iI0Y5M0YyMyIgZmlsbC1ydWxlPSJldmVub2RkIiB4bGluazpocmVmPSIjYSIvPjxwYXRoIHN0cm9rZT0iI0Y5M0YyMyIgZD0iTTIxIDQxLjMyNmMtOS43MzMtOC44MS0xMi4wNzgtMTEuMDc1LTE0Ljg3MS0xNC42NTktMS40MS0xLjgwNy0yLjUyNS0zLjU3NS0zLjQyNi01LjQ0MUMtMS4zOTggMTIuNzQ2LjQ3MiA0LjgyIDYuNDE0IDEuNTk5YzUuMTMtMi43NzcgMTEuNzc1LS4xIDE0LjEyMSA1LjgxMUwyMSA4LjU4MWwuNDY1LTEuMTdjMi4zNDUtNS45MSA4Ljk5LTguNTg3IDE0LjEyMS01LjgxMyA1Ljk0MiAzLjIyMiA3LjgxMiAxMS4xNDggMy43MSAxOS42MjYtLjg5OCAxLjg2MS0yLjAxIDMuNjI0LTMuNDEzIDUuNDI3LTIuNzk2IDMuNTktNS4xNjQgNS44NzgtMTQuODgzIDE0LjY3NXoiLz48L2c+PC9zdmc+\")}.main-navigation .instagram-social-channel-link{background-image:url(\"data:image/svg+xml;base64,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\")}.branding .instagram-social-channel-link{background-image:url(\"data:image/svg+xml;base64,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\")}footer[role=\"contentinfo\"] .epicurious-links .epi-social-links .instagram-link{background-image:url(\"data:image/svg+xml;base64,PHN2ZyB4bWxucz0iaHR0cDovL3d3dy53My5vcmcvMjAwMC9zdmciIHZpZXdCb3g9Ii02NCA3MjggMTI4IDEyOCI+PHBhdGggZmlsbD0iI2ZmZmZmZiIgZD0iTTExLjIgNzc4LjR2LTYuOGMwLTEuMyAxLTIuMyAyLjMtMi4zaDYuOGMxLjMgMCAyLjMgMS4xIDIuMyAyLjN2Ni44YzAgMS4zLTEgMi4zLTIuMyAyLjNoLTYuOGMtMS4zIDAtMi4zLTEuMS0yLjMtMi4zek02NCA3OTJjMCAzNS4zLTI4LjcgNjQtNjQgNjRzLTY0LTI4LjctNjQtNjQgMjguNy02NCA2NC02NCA2NCAyOC43IDY0IDY0em0tMzQuNi0yMi43YzAtMy44LTMtNi44LTYuOC02LjhoLTQ1LjNjLTMuOCAwLTYuOCAzLTYuOCA2Ljh2NDUuM2MwIDMuOCAzIDYuOCA2LjggNi44aDQ1LjNjMy43IDAgNi44LTMuMSA2LjgtNi44di00NS4zek0tLjEgODAzLjJjNi4yIDAgMTEuMy01LjEgMTEuMy0xMS4zLjEtNi4yLTUtMTEuMy0xMS4zLTExLjNzLTExLjMgNS4xLTExLjMgMTEuM2MwIDYuMyA1LjEgMTEuMyAxMS4zIDExLjN6bTE3LjYtMTUuOGMuNCAxLjQuNiAzIC42IDQuNSAwIDEwLTguMSAxOC4xLTE4LjEgMTguMXMtMTguMS04LjEtMTguMS0xOC4xYzAtMS42LjItMy4xLjYtNC41aC01LjF2MjQuOWMwIDEuMiAxIDIuMyAyLjMgMi4zaDQwLjhjMS4zIDAgMi4zLTEgMi4zLTIuM3YtMjQuOWgtNS4zeiI+PC9wYXRoPjwvc3ZnPg==\")}footer[role=\"contentinfo\"] .epicurious-links .epi-social-links .pinterest-link{background-image:url(\"data:image/svg+xml;base64,PHN2ZyB4bWxucz0iaHR0cDovL3d3dy53My5vcmcvMjAwMC9zdmciIHZpZXdCb3g9Ii02NCA3MjggMTI4IDEyOCI+PHBhdGggZmlsbD0iI2ZmZmZmZiIgZD0iTTY0IDc5MmMwIDM1LjUtMjguNSA2NC02NCA2NHMtNjQtMjguNS02NC02NCAyOC41LTY0IDY0LTY0YzM1LjIgMCA2NCAyOC41IDY0IDY0em0tMzcuMy0xM2MtMS4yLTEwLTEwLjMtMTguOC0yMS4yLTIwLTE3LTIuMS0zMi4yIDguNS0zMi41IDI0LjkgMCA3LjkgMi40IDEyLjcgOS40IDE1LjUgNC45LTQuOS0uOS03LjYtMS41LTEzLTEuNS0xNCAxNC45LTI3LjMgMjkuNC0xOC41IDEwLjMgNi4xIDguNSAzMS44LTMuOSAzNC4zLTIuNC4zLTUuOC0uMy02LjctMS41LTYuMS01LjggNC45LTE1LjIgMS4yLTIzLjQtMy03LTExLjUtMS41LTEyLjQgNC45LS42IDMuMyAxLjIgNi40IDEuMiA5LjQgMCA2LjctNC4yIDE2LjEtNS4yIDIyLjctLjYgMi43LS45IDguMi0uMyAxMC45aC0uMyA0LjVjMy01LjIgNS4yLTEzLjMgNi43LTIwLjMgMS4yLS42IDEuNSAxLjIgMi4xIDEuOCA1LjggNC4yIDE2LjEgMS44IDIwLjYtMi4xIDcuMS01LjMgOS44LTE2LjggOC45LTI1LjZ6Ij48L3BhdGg+PC9zdmc+\")}footer[role=\"contentinfo\"] .epicurious-links .epi-social-links .tumblr-link{background-image:url(\"data:image/svg+xml;base64,PHN2ZyB4bWxucz0iaHR0cDovL3d3dy53My5vcmcvMjAwMC9zdmciIHZpZXdCb3g9Ii02NCA3MjggMTI4IDEyOCI+PHBhdGggZmlsbD0iI2ZmZmZmZiIgZD0iTS42IDcyOGM4LjggMCAxNyAxLjggMjQuNiA1LjIgNy42IDMuNCAxNC4zIDcuOSAyMCAxMy43IDUuOCA1LjggMTAuMyAxMi41IDEzLjYgMjAuNCAzLjMgNy42IDUuMiAxNS44IDUuMiAyNC43IDAgOC44LTEuOCAxNy40LTUuMiAyNS0zLjMgNy45LTcuOSAxNC42LTEzLjYgMjAuNC01LjggNS44LTEyLjcgMTAuNC0yMC4zIDEzLjdDMTcgODU0LjUgOC44IDg1NiAwIDg1NnMtMTcuMy0xLjUtMjQuOS00LjljLTcuOS0zLTE0LjktNy42LTIwLjYtMTMuNHMtMTAuMy0xMi44LTEzLjYtMjAuNGMtMy4zLTcuOS00LjktMTYuMi00LjktMjVzMS41LTE3LjEgNC45LTI0LjdjMy4zLTcuNiA3LjktMTQuNiAxMy42LTIwLjRzMTIuNC0xMC40IDIwLjMtMTMuN2M3LjYtMy43IDE1LjgtNS41IDI0LjYtNS41SC42em0tMTYuNyA1OS43aDd2MThjMCAyLjQuMyA0LjMuNiA1LjIuMyAxLjIgMS4yIDIuMSAyLjQgMy40IDEuNSAxLjIgMyAyLjEgNC41IDIuNC45LjMgMS44LjMgMi40LjYuNi4zIDEuOC4zIDMgLjMgMi4xIDAgMy45LS4zIDUuOC0uNiAxLjgtLjYgMy45LTEuMiA1LjgtMi4xVjgwN2MtMi40IDEuNS00LjkgMi40LTcuNiAyLjQtMS44IDAtMy0uMy0zLjktLjktLjktLjYtMS41LTEuMi0yLjEtMi4xLS4zLS42LS4zLTIuNC0uMy01LjV2LTEzLjFoMTEuOHYtOS4xSDEuNVY3NjdoLTdjLS4zIDIuNy0uOSA0LjktMS44IDYuNC0uOSAxLjgtMi4xIDMuNC0zLjMgNC4zLS42LjYtMS41IDEuMi0yLjcgMS41LS45LjYtMi4xLjktMyAxLjJsLjIgNy4zeiI+PC9wYXRoPjwvc3ZnPg==\")}.main-navigation .twitter-social-channel-link{background-image:url(\"data:image/svg+xml;base64,PHN2ZyB2aWV3Qm94PSIwIDAgMzE0IDI1NiIgeG1sbnM9Imh0dHA6Ly93d3cudzMub3JnLzIwMDAvc3ZnIj48cGF0aCBkPSJNMzE0IDMwLjc5M2ExNDMuMzc3IDE0My4zNzcgMCAwIDEtMTguMTAyIDUuODgxYy02LjA1MyAxLjUwNi0xMi4zODcgMi44NTctMTkuMDAzIDQuMDY3IDYuNjE2LTQuMjIxIDEyLjM1OS05LjM0MyAxNy4yMDEtMTUuMzggNC44MjgtNi4wMzYgOC43NDEtMTIuNjY0IDExLjc2OC0xOS44OTZhMTg2OS4zNyAxODY5LjM3IDAgMCAxLTIwLjM2OSA5LjA0NyA4OS45MzEgODkuOTMxIDAgMCAxLTIyLjE1NiA2LjMzMiA1NS4zNiA1NS4zNiAwIDAgMC0xOS45MTgtMTUuMzhBNjEuOTEzIDYxLjkxMyAwIDAgMCAyMTcuMTgzLjAwNmMtMTcuNDk3IDAtMzIuNTg2IDYuMzMyLTQ1LjI1NSAxOS4wMS0xMi42NjkgMTIuNjUtMTkuMDAzIDI4LjA0NC0xOS4wMDMgNDYuMTExIDAgMy42My41OTEgOC40NyAxLjgxNiAxNC40OTMtMjcuMTQtMS4yMS01Mi4wNC03LjgyMy03NC42Ni0xOS44OTZhMTkwLjc5IDE5MC43OSAwIDAgMS01OC4zNjEtNDcuOTQgNjguNjE4IDY4LjYxOCAwIDAgMC04LjE1IDMyLjU0NmMwIDI0LjEzMiA5LjM2IDQxLjkzMiAyOC4wNTQgNTMuMzcyLTEwLjg1MyAwLTIwLjUxLTIuMzkyLTI4Ljk1NS03LjI0N3YuOTE1YzAgMTUuNjg5IDQuODI4IDI5LjQwOCAxNC40ODQgNDEuMTcyIDkuNjI4IDExLjczNSAyMS43MDYgMTkuMTM2IDM2LjE5IDIyLjE2MWE1NS45MDIgNTUuOTAyIDAgMCAxLTcuNjg1IDEuMzM3Yy0zLjE1Ni4zMzYtNi4zMjguNDktOS41MDIuNDY1LTIuNDIgMC02LjAzOS0uNTc3LTEwLjg2Ny0xLjgwMiAzLjYxOCAxMi42NSAxMC44NjcgMjMuMjE4IDIxLjcyIDMxLjY2IDEwLjg1MyA4LjQ0MyAyMy41MjIgMTIuOTYgMzguMDA2IDEzLjU2NS0yMi45MyAxOC4wOTUtNDkuNDY0IDI3LjE0My03OS42MyAyNy4xNDNIMGExNzkuODI4IDE3OS44MjggMCAwIDAgNDYuMTU2IDIxLjI0N0M2My4wMiAyNTMuNDUzIDgwLjUzMSAyNTYgOTguNjMzIDI1NmMyOS41NiAwIDU1Ljc5OC01LjU3MiA3OC43MjgtMTYuNzE2IDIyLjkzLTExLjE1OSA0Mi4wODktMjUuNDY5IDU3LjQ2LTQyLjk4N2ExODIuMDY1IDE4Mi4wNjUgMCAwIDAgMzQuODUzLTU4Ljc5YzcuODEyLTIxLjY5NyAxMS43NTMtNDMuNDIzIDExLjc1My02NS4xMlY2NC4yNGExMjkuOTEgMTI5LjkxIDAgMCAwIDE4LjEwMy0xNS44M2M1LjQxOS01LjcyNyAxMC4yNDctMTEuNjA5IDE0LjQ3LTE3LjYzMSIgZmlsbD0iI0Y5M0YyMyIgZmlsbC1ydWxlPSJldmVub2RkIi8+PC9zdmc+\")}.branding .twitter-social-channel-link{background-image:url(\"data:image/svg+xml;base64,PHN2ZyB2aWV3Qm94PSIwIDAgMTI4IDEyOCIgeG1sbnM9Imh0dHA6Ly93d3cudzMub3JnLzIwMDAvc3ZnIj48ZyBmaWxsPSJub25lIiBmaWxsLXJ1bGU9ImV2ZW5vZGQiPjxwYXRoIGQ9Ik0xMjggNjRjMCAzNS41LTI4LjUgNjQtNjQgNjQtMzUuMiAwLTY0LTI4LjgtNjQtNjRDMCAyOC41IDI4LjggMCA2NCAwYzM1LjUgMCA2NCAyOC41IDY0IDY0eiIgZmlsbC1ydWxlPSJub256ZXJvIiBmaWxsPSIjRjkzRjIzIi8+PHBhdGggZD0iTTkxLjMgNDcuNmMyLjctMS41IDQuNS00LjIgNS44LTctMi40IDEuMi01LjUgMi40LTguNSAzLTIuMS0yLjQtNS41LTQuMi05LjQtNC4yLTcgMC0xMyA1LjgtMTMgMTMgMCAuOS4zIDIuMS4zIDMtMTAuOS0uNi0yMC4zLTUuOC0yNi43LTEzLjYtMS4yIDIuMS0xLjUgNC4yLTEuNSA2LjcgMCA0LjUgMi4xIDguNSA1LjggMTAuNi0yLjEgMC00LjItLjYtNS44LTEuNXYuM2MwIDYuMSA0LjIgMTEuNSAxMC4zIDEyLjctLjkuMy0yLjEuMy0zLjMuMy0uNiAwLTEuNS0uMy0yLjEtLjMgMS41IDUuMiA2LjEgOC44IDEyLjEgOS4xLTQuMiAzLjMtMTAgNS41LTE2LjEgNS41aC0zQzQyIDg4LjggNDguNiA5MSA1NS45IDkxYzI0IDAgMzYuNy0xOS43IDM2LjctMzd2LTEuNWMyLjQtMS44IDQuOS00LjIgNi43LTYuNy0zLjEuNi01LjMgMS41LTggMS44eiIgZmlsbD0iI0ZGRiIvPjwvZz48L3N2Zz4=\")}footer[role=\"contentinfo\"] .epicurious-links .epi-social-links .twitter-link{background-image:url(\"data:image/svg+xml;base64,PHN2ZyB2aWV3Qm94PSIwIDAgMTI4IDEyOCIgeG1sbnM9Imh0dHA6Ly93d3cudzMub3JnLzIwMDAvc3ZnIj48cGF0aCBkPSJNMTI4IDY0YzAgMzUuNS0yOC41IDY0LTY0IDY0LTM1LjIgMC02NC0yOC44LTY0LTY0QzAgMjguNSAyOC44IDAgNjQgMGMzNS41IDAgNjQgMjguNSA2NCA2NHpNOTEuMyA0Ny42YzIuNy0xLjUgNC41LTQuMiA1LjgtNy0yLjQgMS4yLTUuNSAyLjQtOC41IDMtMi4xLTIuNC01LjUtNC4yLTkuNC00LjItNyAwLTEzIDUuOC0xMyAxMyAwIC45LjMgMi4xLjMgMy0xMC45LS42LTIwLjMtNS44LTI2LjctMTMuNi0xLjIgMi4xLTEuNSA0LjItMS41IDYuNyAwIDQuNSAyLjEgOC41IDUuOCAxMC42LTIuMSAwLTQuMi0uNi01LjgtMS41di4zYzAgNi4xIDQuMiAxMS41IDEwLjMgMTIuNy0uOS4zLTIuMS4zLTMuMy4zLS42IDAtMS41LS4zLTIuMS0uMyAxLjUgNS4yIDYuMSA4LjggMTIuMSA5LjEtNC4yIDMuMy0xMCA1LjUtMTYuMSA1LjVoLTNDNDIgODguOCA0OC42IDkxIDU1LjkgOTFjMjQgMCAzNi43LTE5LjcgMzYuNy0zN3YtMS41YzIuNC0xLjggNC45LTQuMiA2LjctNi43LTMuMS42LTUuMyAxLjUtOCAxLjh6IiBmaWxsLXJ1bGU9Im5vbnplcm8iIGZpbGw9IiNGRkYiLz48L3N2Zz4=\")}.search-dialog-form [type=\"reset\"]:hover{background-image:url(\"data:image/svg+xml;base64,PHN2ZyB2aWV3Qm94PSIwIDAgMjUgMjUiIHhtbG5zPSJodHRwOi8vd3d3LnczLm9yZy8yMDAwL3N2ZyI+PGcgZmlsbD0iIzMzMyI+PHBhdGggZD0iTTIyLjI0NCAwTDI1IDIuNzU2IDIuNzU2IDI1IDAgMjIuMjQ0IDIyLjI0NCAweiIvPjxwYXRoIGQ9Ik0yLjc1NSAwTDI1IDIyLjI0NSAyMi4yNDMgMjUgMCAyLjc1NSAyLjc1NSAweiIvPjwvZz48L3N2Zz4=\")}[class$=\"-form\"] .close-button,.search-dialog-form [type=\"reset\"],.dismiss-main-navigation:hover,[class$=\"-comment-form\"] .close-button{background-image:url(\"data:image/svg+xml;base64,PHN2ZyB2aWV3Qm94PSIwIDAgMjUgMjUiIHhtbG5zPSJodHRwOi8vd3d3LnczLm9yZy8yMDAwL3N2ZyI+PGcgZmlsbD0iI0ExQTFBMSI+PHBhdGggZD0iTTIyLjI0NCAwTDI1IDIuNzU2IDIuNzU2IDI1IDAgMjIuMjQ0IDIyLjI0NCAweiIvPjxwYXRoIGQ9Ik0yLjc1NSAwTDI1IDIyLjI0NSAyMi4yNDMgMjUgMCAyLjc1NSAyLjc1NSAweiIvPjwvZz48L3N2Zz4=\")}.dismiss-main-navigation{background-image:url(\"data:image/svg+xml;base64,PHN2ZyB2aWV3Qm94PSIwIDAgMjUgMjUiIHhtbG5zPSJodHRwOi8vd3d3LnczLm9yZy8yMDAwL3N2ZyI+PGcgZmlsbD0iI0NDQyI+PHBhdGggZD0iTTIyLjI0NCAwTDI1IDIuNzU2IDIuNzU2IDI1IDAgMjIuMjQ0IDIyLjI0NCAweiIvPjxwYXRoIGQ9Ik0yLjc1NSAwTDI1IDIyLjI0NSAyMi4yNDMgMjUgMCAyLjc1NSAyLjc1NSAweiIvPjwvZz48L3N2Zz4=\")}footer[role=\"contentinfo\"] .epicurious-links .epi-social-links .youtube-link{background-image:url(\"data:image/svg+xml;base64,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\")}footer[role=\"contentinfo\"] .corporate-info>.section-title,.lightreg-dialog fieldset legend,header[role=\"banner\"] .epicurious-logo,footer[role=\"contentinfo\"] .epicurious-links .epi-social-links .nav-title,.main-navigation .facebook-social-channel-link,.branding .facebook-social-channel-link,footer[role=\"contentinfo\"] .epicurious-links .epi-social-links .facebook-link,footer[role=\"contentinfo\"] .epicurious-links .epi-social-links .feed-link,footer[role=\"contentinfo\"] .epicurious-links .epi-social-links .googleplus-link,header[role=\"banner\"] .show-main-navigation,header[role=\"banner\"] .show-search-button,.search-dialog-form [type=\"submit\"],.user-status[data-user-type=\"anonymous\"] .recipebox-status:hover,.user-status[data-user-type=\"anonymous\"] .recipebox-status,.user-status[data-user-type=\"authenticated\"] .recipebox-status,.main-navigation .instagram-social-channel-link,.branding .instagram-social-channel-link,footer[role=\"contentinfo\"] .epicurious-links .epi-social-links .instagram-link,footer[role=\"contentinfo\"] .epicurious-links .epi-social-links .pinterest-link,footer[role=\"contentinfo\"] .epicurious-links .epi-social-links .tumblr-link,.main-navigation .twitter-social-channel-link,.branding .twitter-social-channel-link,footer[role=\"contentinfo\"] .epicurious-links .epi-social-links .twitter-link,[class$=\"-form\"] .close-button,.search-dialog-form [type=\"reset\"],.dismiss-main-navigation:hover,[class$=\"-comment-form\"] .close-button,.dismiss-main-navigation,footer[role=\"contentinfo\"] .epicurious-links .epi-social-links .youtube-link{border:none;direction:ltr;display:inline-block;overflow:hidden;padding:0;text-align:left;text-indent:-9999px}footer[role=\"contentinfo\"] .corporate-info>.section-title>a,.lightreg-dialog fieldset legend>a,header[role=\"banner\"] .epicurious-logo>a,footer[role=\"contentinfo\"] .epicurious-links .epi-social-links .nav-title>a,.main-navigation .facebook-social-channel-link>a,.branding .facebook-social-channel-link>a,footer[role=\"contentinfo\"] .epicurious-links .epi-social-links .facebook-link>a,footer[role=\"contentinfo\"] .epicurious-links .epi-social-links .feed-link>a,footer[role=\"contentinfo\"] .epicurious-links .epi-social-links .googleplus-link>a,header[role=\"banner\"] .show-main-navigation>a,header[role=\"banner\"] .show-search-button>a,.search-dialog-form [type=\"submit\"]>a,.user-status[data-user-type=\"anonymous\"] .recipebox-status:hover>a,.user-status[data-user-type=\"anonymous\"] .recipebox-status>a,.user-status[data-user-type=\"authenticated\"] .recipebox-status>a,.main-navigation .instagram-social-channel-link>a,.branding .instagram-social-channel-link>a,footer[role=\"contentinfo\"] .epicurious-links .epi-social-links .instagram-link>a,footer[role=\"contentinfo\"] .epicurious-links .epi-social-links .pinterest-link>a,footer[role=\"contentinfo\"] .epicurious-links .epi-social-links .tumblr-link>a,.main-navigation .twitter-social-channel-link>a,.branding .twitter-social-channel-link>a,footer[role=\"contentinfo\"] .epicurious-links .epi-social-links .twitter-link>a,[class$=\"-form\"] .close-button>a,.search-dialog-form [type=\"reset\"]>a,.dismiss-main-navigation:hover>a,[class$=\"-comment-form\"] .close-button>a,.dismiss-main-navigation>a,footer[role=\"contentinfo\"] .epicurious-links .epi-social-links .youtube-link>a{display:block;height:100%;width:100%}html,body,div,span,applet,object,iframe,h1,h2,h3,h4,h5,h6,p,blockquote,pre,a,abbr,acronym,address,big,cite,code,del,dfn,em,img,ins,kbd,q,s,samp,small,strike,strong,sub,sup,tt,var,b,u,i,center,dl,dt,dd,ol,ul,li,fieldset,form,label,legend,table,caption,tbody,tfoot,thead,tr,th,td,article,aside,canvas,details,embed,figure,figcaption,footer,header,hgroup,menu,nav,output,ruby,section,summary,time,mark,audio,video{margin:0;padding:0;border:0;font:inherit;font-size:100%;vertical-align:baseline}html{line-height:1}ol,ul{list-style:none}table{border-collapse:collapse;border-spacing:0}caption,th,td{text-align:left;font-weight:normal;vertical-align:middle}q,blockquote{quotes:none}q:before,q:after,blockquote:before,blockquote:after{content:\"\";content:none}a img{border:none}article,aside,details,figcaption,figure,footer,header,hgroup,main,menu,nav,section,summary{display:block}html{box-sizing:border-box;font-size:16px;line-height:1.625em}*,*:before,*:after{box-sizing:inherit}* html{font-size:100%}body{background:#fff;font-family:utopia-std, serif;font-weight:400;position:relative;color:#333;-webkit-font-smoothing:antialiased;-moz-osx-font-smoothing:grayscale}@media only screen and (max-width: 640px){body{-webkit-text-size-adjust:none;-ms-text-size-adjust:none;width:100%;min-width:0}}html,body{height:100%}h1,h2,h3,h4,h5,h6{line-height:1.15538em;padding:0.273em 0;text-rendering:optimizeLegibility}p{font-family:\"utopia-std\",serif;font-weight:400;font-size:1rem;margin-bottom:6px;line-height:.75em}[class$=\"-flash-message\"]{border:1px solid #eee;font-size:1rem;line-height:1.25;margin:1rem 0;padding:1rem}.confirm-flash-message{border-color:#83b838;color:#83b838}.error-flash-message{border-color:#f93f23;color:#f93f23}ol{list-style:decimal}img{max-width:100%;height:auto}.apply-social{line-height:0}.social-img picture,.apply-social picture{display:inline-block;line-height:0;position:relative}strong{font-weight:700;line-height:inherit}em{font-style:italic;line-height:inherit}hr{border:1px solid #ccc;clear:both;margin:1rem 0 1.125rem;height:0}.btn,.skiplink{display:inline-block;width:auto;-webkit-appearance:none;text-align:center}.btn>a,.btn input,.btn button,.skiplink>a,.skiplink input,.skiplink button{display:block;height:100%}.btn input,.btn button,.skiplink input,.skiplink button{background:none;border:none;width:100%;font-size:100%;cursor:pointer;-webkit-appearance:none;-moz-appearance:none;appearance:none}html{-webkit-overflow-scrolling:touch}a{color:#333;line-height:normal;text-decoration:none}a:hover,a:active{text-decoration:underline}button{border:none}button:focus{outline:0}button:hover{cursor:pointer}fieldset{border:none;margin:0;padding:0}.field .input{position:relative;padding:0 .625rem;background:#fff;border:1px solid #d8d8d8}img.photo,.photo-wrap img{max-width:none}img{-webkit-transition:opacity .7s;-moz-transition:opacity .7s;-o-transition:opacity .7s;transition:opacity .7s}img.pending{opacity:0}img.loaded{opacity:1}.component-lazy img{opacity:0}.component-lazy.img-loaded img,.component-lazy.img-error img{opacity:1}input{border-radius:0;-webkit-appearance:none}input:focus{outline:0}ul,li{margin:0;padding:0}.flag-inappropriate-content-button{font-family:\"Gotham SSm 7r\",sans-serif;font-weight:normal;color:#a1a1a1;font-size:.75rem;line-height:0rem;background-color:#fff;border:1px solid #a1a1a1;display:block;margin:0 auto;padding:1.4375rem 0 1.375rem;text-transform:uppercase;width:15rem}.flag-inappropriate-content-button:hover{border-color:#333;color:#333}.flagged.flag-inappropriate-content-button,.flagged.flag-inappropriate-content-button:hover{border-color:#f93f23;color:#f93f23;cursor:default}[class$=\"-form\"]{background-color:#fff;display:block;margin:0 auto;padding:2rem 0;width:100%;z-index:1}[class$=\"-form\"] ::selection{background-color:transparent}[class$=\"-form\"] a{color:inherit}[class$=\"-form\"] fieldset,[class$=\"-form\"] label,[class$=\"-form\"] p{font-family:\"Gotham SSm 5r\",sans-serif;font-weight:normal;color:#333;font-size:.875rem;line-height:1.25rem}[class$=\"-form\"] fieldset,[class$=\"-form\"] p{border:none;margin:0;padding:.5rem 2rem}[class$=\"-form\"] p{padding:0}[class$=\"-form\"] legend{font-family:\"Gotham Cond SSm 5r\",sans-serif;font-weight:normal;color:#333;font-size:1.875rem;line-height:1.875rem;margin:0 auto;padding:.5rem 0 .75rem}[class$=\"-form\"] label{cursor:default;display:none}[class$=\"-form\"] .description,[class$=\"-form\"] .warning{margin:1rem 0}[class$=\"-form\"] .warning{color:#f93f23}[class$=\"-form\"] input[type=\"checkbox\"],[class$=\"-form\"] input[type=\"checkbox\"]:focus{border:1px solid #ccc;border-radius:0;height:.75rem;width:.75rem}[class$=\"-form\"] input[type=\"checkbox\"]:checked,[class$=\"-form\"] input[type=\"checkbox\"]:focus:checked{background-color:#f93f23}[class$=\"-form\"] input[type=\"checkbox\"]:hover,[class$=\"-form\"] input[type=\"checkbox\"]:focus:hover{border-color:#333}[class$=\"-form\"] input[type=\"email\"],[class$=\"-form\"] input[type=\"password\"],[class$=\"-form\"] input[type=\"text\"],[class$=\"-form\"] textarea{font-family:\"Gotham SSm 5r\",sans-serif;font-weight:normal;color:#333;font-size:.875rem;line-height:.875rem;border:1px solid #ccc;display:block;margin:1rem 0;padding:1rem .5rem;width:100%}[class$=\"-form\"] input[type=\"email\"].error,[class$=\"-form\"] input[type=\"email\"]:invalid,[class$=\"-form\"] input[type=\"password\"].error,[class$=\"-form\"] input[type=\"password\"]:invalid,[class$=\"-form\"] input[type=\"text\"].error,[class$=\"-form\"] input[type=\"text\"]:invalid,[class$=\"-form\"] textarea.error,[class$=\"-form\"] textarea:invalid{border-color:#f93f23}[class$=\"-form\"] input[type=\"email\"]:focus,[class$=\"-form\"] input[type=\"password\"]:focus,[class$=\"-form\"] input[type=\"text\"]:focus,[class$=\"-form\"] textarea:focus{border-color:#999;outline:none}[class$=\"-form\"] input[type=\"email\"]::selection,[class$=\"-form\"] input[type=\"password\"]::selection,[class$=\"-form\"] input[type=\"text\"]::selection,[class$=\"-form\"] textarea::selection{background-color:#ccc}[class$=\"-form\"] textarea{overflow-y:auto;resize:none}[class$=\"-form\"] .close-button{background-color:transparent;background-repeat:no-repeat;background-position:50% 50%;background-size:.9375rem,.9375rem;border:none;direction:ltr;display:inline-block;height:.9375rem;overflow:hidden;padding:0;text-indent:-9999px;width:.9375rem;position:absolute;right:13px;top:11px}[class$=\"-form\"] .close-button>a{display:block;height:100%;width:100%}[class$=\"-form\"] .cancel-button,[class$=\"-form\"] .save-button,[class$=\"-form\"] .submit-button{font-family:\"Gotham SSm 7r\",sans-serif;font-weight:normal;color:#fff;font-size:.875rem;line-height:0rem;background-color:#333;border:1px solid #333;display:inline-block;margin:36px auto;padding:22px 0 21px;text-transform:uppercase;width:100%}[class$=\"-form\"] .cancel-button:focus,[class$=\"-form\"] .cancel-button:hover,[class$=\"-form\"] .save-button:focus,[class$=\"-form\"] .save-button:hover,[class$=\"-form\"] .submit-button:focus,[class$=\"-form\"] .submit-button:hover{background-color:#292929}[class$=\"-form\"] .cancel-button{background-color:#fff;border-color:#f93f23;color:#f93f23}[class$=\"-form\"] .cancel-button:focus,[class$=\"-form\"] .cancel-button:hover{background-color:#f93f23;color:#fff}[class$=\"-modal-dialog\"] [class$=\"-form\"]{background-color:#fff;display:block;margin:0 auto;padding:25px 0 0;width:90%}@media only screen and (min-width: 768px){[class$=\"-form\"] .close-button{right:15px;top:15px}[class$=\"-form\"] .submit-button{width:158px}}.contact-us-comment-form,.flag-inappropriate-content-comment-form{border:1px solid #ccc}[class$=\"-login-form\"],[class$=\"-registration-form\"],[class$=\"-reset-password-form\"],[class$=\"-update-password-form\"]{text-align:center}[class$=\"-login-form\"] .fine-print,[class$=\"-registration-form\"] .fine-print,[class$=\"-reset-password-form\"] .fine-print,[class$=\"-update-password-form\"] .fine-print{color:#9B9B9B;font-size:.625rem;text-align:center}[class$=\"-login-form\"] .fine-print a,[class$=\"-registration-form\"] .fine-print a,[class$=\"-reset-password-form\"] .fine-print a,[class$=\"-update-password-form\"] .fine-print a{text-decoration:underline}[class$=\"-login-form\"] .goto-counterpart a,[class$=\"-registration-form\"] .goto-counterpart a,[class$=\"-reset-password-form\"] .goto-counterpart a,[class$=\"-update-password-form\"] .goto-counterpart a{text-decoration:underline}[class$=\"-login-form\"] .forgot-password-link{display:block;margin:1rem 0;text-align:right;text-decoration:underline;text-transform:capitalize}.piano-ad-blocker-registration-form .close-button{display:none}.piano-engaged-user-registration-form .close-button{font-family:\"Gotham SSm 7r\",sans-serif;font-weight:normal;color:#ccc;font-size:.625rem;line-height:0rem;background:none;background-color:#e5e5e5;bottom:1rem;height:auto;margin-right:-50px;padding:15px 0 14px;right:50%;text-indent:0;top:initial;width:100px}.piano-engaged-user-registration-form .close-button:hover{color:#333}.piano-ad-blocker-modal-dialog,.piano-login-modal-dialog,.piano-reset-password-modal-dialog{font-family:\"Gotham SSm 5r\",sans-serif;font-weight:normal;color:#333;font-size:.875rem;line-height:1.25rem;padding:2rem 0 0;text-align:center}.piano-ad-blocker-modal-dialog .dialog-title,.piano-login-modal-dialog .dialog-title,.piano-reset-password-modal-dialog .dialog-title{font-family:\"Gotham Cond SSm 5r\",sans-serif;font-weight:normal;color:#f93f23;font-size:1.875rem;line-height:1.875rem;margin:0 auto;padding:8px 0 12px;width:40%}.piano-ad-blocker-modal-dialog .description,.piano-ad-blocker-modal-dialog .your-ad-blocker,.piano-login-modal-dialog .description,.piano-login-modal-dialog .your-ad-blocker,.piano-reset-password-modal-dialog .description,.piano-reset-password-modal-dialog .your-ad-blocker{font-family:\"Gotham SSm 5r\",sans-serif;font-weight:normal;color:#333;font-size:.875rem;line-height:1.25rem;display:block;margin:0 auto;padding:0 2rem}.piano-ad-blocker-modal-dialog .your-ad-blocker .what,.piano-login-modal-dialog .your-ad-blocker .what,.piano-reset-password-modal-dialog .your-ad-blocker .what{background-color:#ccc;display:block;margin:1rem 0;padding:1rem}.piano-ad-blocker-modal-dialog .your-ad-blocker .how,.piano-login-modal-dialog .your-ad-blocker .how,.piano-reset-password-modal-dialog .your-ad-blocker .how{display:block;text-decoration:underline}@media only screen and (min-width: 768px){.piano-ad-blocker-modal-dialog,.piano-login-modal-dialog,.piano-reset-password-modal-dialog{height:96%;top:2%}.piano-ad-blocker-modal-dialog .description,.piano-ad-blocker-modal-dialog .your-ad-blocker,.piano-login-modal-dialog .description,.piano-login-modal-dialog .your-ad-blocker,.piano-reset-password-modal-dialog .description,.piano-reset-password-modal-dialog .your-ad-blocker{padding:0 6rem}}.ReactModalPortal>div{opacity:0;transition:opacity 0.25s}.ReactModalPortal>div.ReactModal__Overlay--after-open{opacity:1}body[data-overlay=\"modal\"],body.ReactModal__Body--open{height:100%;overflow:hidden;padding-right:15px}body[data-overlay=\"modal\"] .content-wrapper,body[data-overlay=\"modal\"] .page-wrap,body.ReactModal__Body--open .content-wrapper,body.ReactModal__Body--open .page-wrap{display:block;filter:blur(5px);-moz-filter:blur(5px);-ms-filter:blur(5px);-o-filter:blur(5px);-webkit-filter:blur(5px)}[class$=\"-modal-dialog-wrapper\"],[class$=\"-modal-confirmation-wrapper\"]{background:rgba(0,0,0,0.7);display:block;height:100%;left:0;position:fixed;top:0;width:100%;z-index:9999999}[class$=\"-modal-confirmation-wrapper\"]{background:none}[class$=\"-modal-confirmation-wrapper\"] .recipbox-modal-confirmation{display:flex;justify-content:center;align-items:center}[class$=\"-modal-confirmation-wrapper\"] .recipbox-modal-confirmation p{font-family:\"Gotham SSm 5r\",sans-serif;font-weight:normal;color:#f93f23;font-size:.875rem;line-height:1.125rem;margin:0}[class$=\"-modal-dialog\"],[class$=\"-modal-confirmation\"]{background-color:#ffffff;display:block;height:90%;left:50%;margin-left:-45%;outline:none;position:fixed;top:5%;width:90%;z-index:999999}[class$=\"-modal-confirmation\"]{height:auto;margin-left:-30%;padding:1.1875rem;text-align:center;top:30%;width:14.5rem}@media only screen and (min-width: 768px){[class$=\"-modal-dialog\"],[class$=\"-modal-confirmation\"]{border:1px solid #ccc;height:80%;left:50%;margin-left:-300px;top:10%;width:600px}[class$=\"-modal-confirmation-wrapper\"] .recipbox-modal-confirmation p{font-family:\"Gotham SSm 5r\",sans-serif;font-weight:normal;color:#f93f23;font-size:1.0625rem;line-height:1.375rem}[class$=\"-modal-confirmation\"]{height:auto;left:50%;margin-left:-10%;padding:1.875rem;top:50%;width:24.875rem}.error-modal-dialog{height:auto}}.content-wrapper{margin:0 auto}.content-wrapper .main-content{-webkit-transition:-webkit-transform .3s linear;-moz-transition:-moz-transform .3s linear;-o-transition:-o-transform .3s linear;transition:transform .3s linear}.content-and-rail{*zoom:1}.content-and-rail:before,.content-and-rail:after{content:\"\";display:table}.content-and-rail:after{clear:both}.fullwidth{width:100%}.hide{display:none}.show{display:block}.locked{position:fixed}.modal.show{visibility:visible;opacity:1}.ad-container{line-height:0}.embed-video{*zoom:1;clear:both;position:relative}.embed-video:before,.embed-video:after{content:\"\";display:table}.embed-video:after{clear:both}.embed-video .video-container{position:relative;padding-bottom:56.25%;padding-top:30px;height:0;overflow:hidden}.embed-video .video-container iframe,.embed-video .video-container object,.embed-video .video-container embed{position:absolute;top:0;left:0;width:100%;height:100%}.embed-social{*zoom:1;clear:both;position:relative}.embed-social:before,.embed-social:after{content:\"\";display:table}.embed-social:after{clear:both}.embed-social .embed-facebook{margin-bottom:20px;position:relative;padding-top:0;padding-bottom:0}.embed-social .embed-facebook iframe,.embed-social .embed-facebook object,.embed-social .embed-facebook embed{position:absolute;top:0;left:0;width:100%;height:100%}.embed-social .embed-instagram{margin-bottom:20px;position:relative;padding-top:30px;padding-bottom:113%}.embed-social .embed-instagram blockquote{margin-left:0;margin-right:0;width:100%}.embed-social .embed-instagram blockquote:before{content:\"\"}@media only screen and (max-width: 640px){.embed-social .embed-instagram{padding-bottom:122%}}.embed-social .embed-instagram iframe,.embed-social .embed-instagram object,.embed-social .embed-instagram embed{position:absolute;top:0;left:0;width:100%;height:100%}.embed-social .embed-twitter{position:relative;padding-top:0px;padding-bottom:0px;text-align:-webkit-center}.embed-social .embed-twitter iframe,.embed-social .embed-twitter object,.embed-social .embed-twitter embed{position:absolute;top:0;left:0;width:100%;height:100%}.cnid-loader{position:fixed;top:45%;left:50%;margin-left:-8px;margin-top:-8px;background-color:#000;width:50px;height:50px;border-radius:10px;opacity:.8;z-index:1101}.cnid-loader img{position:absolute;top:16%;left:16%}.cnid-ios-scroll{-webkit-overflow-scrolling:touch;overflow-y:auto}div.social-img{display:inline-block;position:relative;line-height:0}.social-buttons{position:absolute;z-index:10;bottom:.625rem;right:.625rem;*zoom:1}.social-buttons:before,.social-buttons:after{content:\"\";display:table}.social-buttons:after{clear:both}.social-buttons div{float:left}.social-buttons div.facebook{margin-right:.375rem}.social-buttons div.social{display:block;line-height:0;height:1.75rem;width:1.75rem}.browsehappy{text-align:center;font-weight:normal;font-size:16px;font-family:\"Gotham SSm 5r\";background-color:#f1f2f2;position:fixed;height:26px;bottom:-14px;z-index:99999;width:100%}[class^=\"icon-\"]{background-position:50% 50%;background-repeat:no-repeat;background-size:100% 100%;cursor:pointer;display:block;direction:ltr;overflow:hidden;padding:0;text-indent:-9999px}[class^=\"icon-\"] a{display:block;height:100%;width:100%}.icon-epicurious{height:63px;margin:0 auto;overflow:initial;position:relative;width:304px}.print-controls{display:none}.content-container{width:100%;max-width:1024px;min-width:320px;margin:0 auto;padding-left:10px;padding-right:10px;*zoom:1}.content-container:before,.content-container:after{content:\"\";display:table}.content-container:after{clear:both}.content-container>*:first-child{margin-left:0}@media only screen and (max-width: 640px){.content-container{width:auto;min-width:0;margin-left:0;margin-right:0}}.rail-promo img{width:300px;min-height:300px}.main.has-rail{margin-left:1.953125%;float:left;min-height:1px;position:relative;-webkit-box-sizing:border-box;-moz-box-sizing:border-box;box-sizing:border-box;width:68.1396484375%;margin-left:0}@media only screen and (max-width: 640px){.main.has-rail{float:left;margin-left:0;width:100%}}.main.no-rail{padding:0;margin:0}.main.no-rail:before,.main.no-rail:after{content:\"\";display:table}.main.no-rail:after{clear:both}@media only screen and (min-width: 1024px){.mobile{display:none}body>.content-wrapper>div.main{margin-top:1.25rem}}.rail{margin-left:1.953125%;float:left;min-height:1px;position:relative;-webkit-box-sizing:border-box;-moz-box-sizing:border-box;box-sizing:border-box;width:29.9072265625%;position:static}@media only screen and (max-width: 640px){.rail{float:left;margin-left:0;width:100%}}.rail div.video{margin:0;padding:0}.video-container,.cne-interlude-player-container{width:100%}.video-container.sticky,.cne-interlude-player-container.sticky{position:fixed;width:18.75rem;z-index:15}.weather{width:300px;height:400px;background-color:#ccc}.rail div{margin-bottom:20px}.epi-sticky.stuck{position:fixed;margin-left:0;transform:translateZ(0);-webkit-transform:translateZ(0);z-index:9}.byline,.byline-divider,.pub-date{font:normal .6326875rem \"Gotham SSm 7r\";color:#f93f23;text-transform:uppercase;letter-spacing:normal}.byline.sponsored,.byline-divider.sponsored,.pub-date.sponsored{color:#f93f23;display:inline-block;border:1px solid #f93f23;padding:.375rem .75rem}.byline.mobile,.byline-divider.mobile,.pub-date.mobile{display:none}.pub-date,.byline-divider{color:#a4a4a4}.sponsor-logo{display:block;margin-bottom:.5rem}h3.tag,.sponsor-logo{text-transform:uppercase;margin:0 0 1.375rem 0;padding:0}h3.tag a,.sponsor-logo a{color:#a1a1a1;font:normal 20.169px \"Gotham Cond SSm 5r\"}.sponsor-logo{margin:0;padding:0 0 0.5rem}.fullwidth .section-header{max-width:62.75rem !important}.section-header{width:100%;max-width:1024px;min-width:320px;margin:0 auto;padding-left:10px;padding-right:10px;*zoom:1;text-align:center;overflow:hidden;max-width:62.75rem !important;margin:0 auto;padding:0}.section-header:before,.section-header:after{content:\"\";display:table}.section-header:after{clear:both}.section-header>*:first-child{margin-left:0}@media only screen and (max-width: 640px){.section-header{width:auto;min-width:0;margin-left:0;margin-right:0}}.section-header h2{display:inline-block;position:relative;letter-spacing:.04em}.section-header h2:before{content:\"\";position:absolute;border-top:2px solid #ccc;width:25rem;height:2px;display:block;left:-25.375rem;top:52%}.section-header h2:after{content:\"\";position:absolute;border-top:2px solid #ccc;width:25rem;height:2px;display:block;right:-25.375rem;top:52%}.top5 h2{color:#333;font:normal 50px \"Gotham Cond SSm 5r\";line-height:3.125rem;text-transform:uppercase}@media only screen and (min-width: 641px) and (max-width: 1023px){.mobile{display:none}.nav.mobile{display:block}.content-container{padding:0 1.625rem}.rail{float:none;margin:0;padding:0;text-align:center;width:100%}.content-block{padding:0}.tablet-ads1{*zoom:1;margin:0 0 1.75rem;text-align:center}.tablet-ads1:before,.tablet-ads1:after{content:\"\";display:table}.tablet-ads1:after{clear:both}.tablet-ads1 .ad,.tablet-ads1 .weather,.tablet-ads1 .cook-it{max-width:18.75rem}.tablet-ads1 .ad{margin-left:auto;margin-right:auto}.tablet-ads2{text-align:center}.section-header{overflow:hidden}.section-header h2:before{width:104%;left:-106%}.section-header h2:after{width:104%;right:-106%}.fullwidth .section-header{margin:0 3.25%;width:93.5%}}@media only screen and (max-width: 640px){body{overflow-x:hidden}body.modal-open{overflow:hidden}.content-container{padding:0}.rail{float:none;margin:0;padding:0 .625rem}.rail div{margin-left:auto;margin-right:auto;text-align:center}.rail div.zergnet{max-width:20rem;overflow:hidden}#zergnet-maincontainer{margin:0 auto !important}.content-block{padding:0 1rem}h3.tag a{font:normal 18.369px \"Gotham Cond SSm 5r\"}.section-header h2:before,.section-header h2:after{display:none}.top5 h2{font:normal 40px \"Gotham Cond SSm 5r\";line-height:2.5rem}.progression{*zoom:1}.progression:before,.progression:after{content:\"\";display:table}.progression:after{clear:both}.progression.mobile{display:inline-block}.progression li{text-indent:-9999px;float:left;margin:0 .75rem 0 0;background:url(\"/static/img/mobile-sprite.png\") 0 0 no-repeat;height:7px;width:7px}.progression li:last-child{margin-right:0}.progression li.on{background:url(\"/static/img/mobile-sprite.png\") 0 -7px no-repeat}.byline.sponsored{padding:.375rem .75rem;width:85%;text-align:center;margin-bottom:.25rem}.ad.ad-footer{display:block;position:fixed;bottom:0;margin-bottom:0;width:100%;background-color:#f1f2f2;text-align:center;padding:.375rem 0;z-index:9999}body.parallax-loaded .ad.ad-footer{position:relative}}.lightreg-overlay{background-color:rgba(0,0,0,0.8);bottom:0;top:0;left:0;position:fixed;right:0;z-index:9999999}.lightreg-dialog{background-color:#ffffff;background-clip:padding-box;font:normal .75rem \"Gotham SSm 5r\",sans-serif;height:80%;left:0;margin-left:0;outline:none;position:fixed;top:10%;width:100%}.lightreg-dialog a{color:#333;font-size:.75rem;text-decoration:none}.lightreg-dialog form{padding-top:2.25rem}.lightreg-dialog fieldset{margin:0 auto;padding:0;width:18.4375rem}.lightreg-dialog fieldset legend{display:block;height:3.625rem;margin:0 auto .5rem;width:17.5rem}.lightreg-dialog input:focus,.lightreg-dialog button:focus{outline:0}.lightreg-dialog input::-webkit-input-placeholder{color:#ccc;font-weight:normal;text-transform:uppercase}.lightreg-dialog input:-moz-placeholder{color:#ccc;font-weight:normal;text-transform:uppercase}.lightreg-dialog input::-moz-placeholder{color:#ccc;font-weight:normal;text-transform:uppercase}.lightreg-dialog input:-ms-input-placeholder{color:#ccc;font-weight:normal;text-transform:uppercase}.lightreg-dialog input[type=text],.lightreg-dialog input[type=email],.lightreg-dialog input[type=password]{border:1px solid #ccc;border-radius:0;color:#ccc;display:block;font:normal 1rem/1.125rem \"Gotham SSm 5r\",sans-serif;height:2.8125rem;margin:0 0 .9375rem;padding:0 0 0 .75rem;width:100%;-webkit-appearance:none}.lightreg-dialog input[type=password]{margin-bottom:.875rem}.lightreg-dialog input[type=text].error,.lightreg-dialog input[type=email].error,.lightreg-dialog input[type=password].error,.lightreg-dialog input:focus:invalid:focus,.lightreg-dialog textarea:focus:invalid:focus,.lightreg-dialog select:focus:invalid:focus{color:#f93f23;border:2px solid #f93f23}.lightreg-dialog textarea:focus,.lightreg-dialog input[type=\"text\"]:focus,.lightreg-dialog input[type=\"password\"]:focus,.lightreg-dialog input[type=\"datetime\"]:focus,.lightreg-dialog input[type=\"datetime-local\"]:focus,.lightreg-dialog input[type=\"date\"]:focus,.lightreg-dialog input[type=\"month\"]:focus,.lightreg-dialog input[type=\"time\"]:focus,.lightreg-dialog input[type=\"week\"]:focus,.lightreg-dialog input[type=\"number\"]:focus,.lightreg-dialog input[type=\"email\"]:focus,.lightreg-dialog input[type=\"url\"]:focus,.lightreg-dialog input[type=\"search\"]:focus,.lightreg-dialog input[type=\"tel\"]:focus,.lightreg-dialog input[type=\"color\"]:focus,.lightreg-dialog .uneditable-input:focus{border-color:#ccc}.lightreg-dialog .error-message{color:#f93f23;text-align:left;position:relative;top:-.75rem}.lightreg-dialog button.submit-button{font:normal 400 12.274px \"Gotham SSm 5r\";background:#333;border:0;border-radius:.25rem;color:#fff;cursor:pointer;display:block;font-size:.75rem;height:2.8125rem;margin:1.875rem 0 .8125rem;padding:.375rem .75rem;touch-action:manipulation;user-select:none;width:100%}.lightreg-dialog button.submit-button:hover,.lightreg-dialog button.submit-button:focus,.lightreg-dialog button.submit-button:active,.lightreg-dialog button.submit-button.active,.lightreg-dialog button.submit-button.disabled,.lightreg-dialog button.submit-button[disabled]{background-color:#333;color:#fff}.lightreg-dialog .description{font-family:\"Gotham SSm 5r\", sans-serif;font-size:.75rem;line-height:1rem;margin:0 0 1.25rem}.lightreg-dialog .forgot-password-link{margin:.8125rem 0 0}.lightreg-dialog .goto-counterpart{font-size:.75rem;text-align:center}.lightreg-dialog .fine-print{margin-top:.5625rem}.lightreg-dialog .fine-print,.lightreg-dialog .fine-print a{color:#9B9B9B;font-size:.6875rem;line-height:normal;padding:0;text-align:center}.lightreg-dialog .loading-message{margin:1.5rem 0 0}.lightreg-dialog p.success-message,.lightreg-dialog p.description,.lightreg-dialog p.fine-print{font-family:\"Gotham SSm 5r\", sans-serif}.lightreg-dialog .base-registration-form .fine-print{margin-top:1.5625rem}.lightreg-dialog .base-reset-password-form .success-message,.lightreg-dialog .base-update-password-form .success-message{font-size:1rem;margin-bottom:1.875rem}@media only screen and (min-width: 1024px){.lightreg-dialog{border:1px solid rgba(0,0,0,0.3);left:50%;margin-left:-18.75rem;width:37.5rem}}.loading-message-wrapper{background-color:rgba(255,255,255,0.7);height:100%;left:0;position:absolute;top:0;width:100%;z-index:1}.loading-message-wrapper:hover{cursor:wait}body[data-overlay=\"modal\"] .loading-message-wrapper{background-color:rgba(0,0,0,0.7);position:fixed;z-index:9999}@keyframes loading-spin{100%{transform:rotate(360deg);-webkit-transform:rotate(360deg);-moz-transform:rotate(360deg);-ms-transform:rotate(360deg);-o-transform:rotate(360deg)}}@-webkit-keyframes loading-spin{100%{-webkit-transform:rotate(360deg)}}@-moz-keyframes loading-spin{100%{-moz-transform:rotate(360deg)}}@-ms-keyframes loading-spin{100%{-ms-transform:rotate(360deg)}}@-o-keyframes loading-spin{100%{-o-transform:rotate(360deg)}}.loading-message{animation:loading-spin 0.7s infinite linear;border-bottom:7px solid rgba(161,161,161,0.2);border-left:7px solid rgba(161,161,161,0.2);border-radius:100%;border-right:7px solid rgba(161,161,161,0.2);border-top:7px solid #f93f23;direction:ltr;display:block;height:3rem;left:50%;margin:-1.5rem 0 0 -1.5rem;overflow:hidden;position:absolute;text-indent:-9999px;top:50%;width:3rem;-webkit-animation:loading-spin 0.7s infinite linear;-moz-animation:loading-spin 0.7s infinite linear;-ms-animation:loading-spin 0.7s infinite linear;-o-animation:loading-spin 0.7s infinite linear}.loading-message:hover{cursor:wait}.site-header-wrap{display:block;height:3.75rem}header[role=\"banner\"]{background-color:#fff;box-shadow:0 1px 3px 0 rgba(0,0,0,0.1);font-size:1rem;height:3.75rem;left:0;top:0;transition:top .5s;width:100%;z-index:20}header[role=\"banner\"] ::selection{background-color:transparent}header[role=\"banner\"] a{color:inherit}header[role=\"banner\"] fieldset,header[role=\"banner\"] form,header[role=\"banner\"] legend{margin:0;padding:0}header[role=\"banner\"] .nav-title,header[role=\"banner\"] .section-title{display:none}header[role=\"banner\"] .show-main-navigation{height:1.125rem;left:1.125rem;position:absolute;top:1.375rem;width:1.5625rem}header[role=\"banner\"] .epicurious-logo{height:1.8125rem;left:3.75rem;position:absolute;top:1rem;width:8.625rem}header[role=\"banner\"] .epicurious-logo a{display:block}header[role=\"banner\"] .show-search-button{height:1.625rem;outline:none;position:absolute;right:1.125rem;top:1.0625rem;width:1.625rem}body[data-bannerad-type=\"leaderboard\"][data-bannerad-flow=\"fixed\"][data-siteheader-flow=\"fixed\"][data-bannerad-display=\"hidden\"] header[role=\"banner\"]{top:0}body[data-bannerad-type=\"leaderboard\"][data-bannerad-flow=\"fixed\"][data-siteheader-flow=\"fixed\"][data-bannerad-display=\"visible\"] header[role=\"banner\"]{top:7.125rem}body[data-overlay=\"modal\"] header[role=\"banner\"],body.ReactModal__Body--open header[role=\"banner\"]{left:-8px}body[data-siteheader-flow=\"fixed\"] header[role=\"banner\"]{position:fixed}body[data-siteheader-flow=\"scroll\"] header[role=\"banner\"]{position:relative}@media only screen and (min-width: 768px){header[role=\"banner\"] .show-main-navigation{left:1.5rem}header[role=\"banner\"] .epicurious-logo{left:50%;transform:translateX(-50%)}header[role=\"banner\"] .epicurious-logo:hover{height:1.9375rem;top:.9375rem;width:8.75rem}header[role=\"banner\"] .show-search-button{right:1.25rem;top:1rem}}@media only screen and (min-width: 1024px){header[role=\"banner\"] .show-main-navigation{left:1.3125rem}header[role=\"banner\"] .show-search-button{background-position:100% 50%;background-size:1.3125rem;color:#a1a1a1;font-size:.8125rem;height:0;line-height:0;padding:.6875rem 1.625rem .625rem 0;right:1.4375rem;text-indent:0;top:1.3125rem;width:auto}header[role=\"banner\"] .show-search-button:hover{background-position:100% 50%;color:#333;text-decoration:none}}input:-webkit-autofill,select:-webkit-autofill,textarea:-webkit-autofill{background-color:inherit;background-image:inherit;color:inherit}.global-search-modal-dialog-wrapper{background:rgba(255,255,255,0.9)}.global-search-modal-dialog{background-color:transparent;border:none;height:100%;margin-left:-50%;top:0;width:100%}.global-search-modal-dialog .search-dialog-form{background-color:transparent;margin:0 .9375rem;padding:0;width:calc(100% - 30px)}.search-dialog-form{border-bottom:1px solid #ccc;position:relative}.search-dialog-form fieldset{padding:0}.search-dialog-form input[type=\"text\"]{background-color:transparent;border:0;font-size:1rem;line-height:1;margin:2.25rem 0 .8125rem 1.3125rem;padding:0;width:calc(100% - 20px)}.search-dialog-form input[type=\"text\"]:focus{color:#333}.search-dialog-form input[type=\"text\"]::placeholder{color:#ccc}.search-dialog-form input[type=\"text\"].error{color:#f30}.search-dialog-form [type=\"submit\"]{height:1rem;left:0;position:absolute;top:2.25rem;width:1rem}.search-dialog-form [type=\"submit\"]:hover{cursor:pointer}.search-dialog-form [type=\"reset\"]{background-size:.9375rem .9375rem;height:1.4375rem;position:absolute;right:0;top:.9375rem;width:1.4375rem}.search-dialog-form [type=\"reset\"]:hover{background-size:.9375rem .9375rem}@media only screen and (min-width: 768px){.global-search-modal-dialog .search-dialog-form{margin:0 auto;width:40rem}.search-dialog-form input[type=\"text\"]{font-size:2.6875rem;margin:11.5rem 0 2.125rem 2.875rem;width:calc(100% - 46px)}.search-dialog-form [type=\"submit\"]{height:2rem;left:0;top:12.125rem;width:2rem}.search-dialog-form [type=\"reset\"]{height:1.625rem;top:5.875rem;width:1.625rem}}@media only screen and (min-width: 1024px){.global-search-modal-dialog .search-dialog-form{width:51.875rem}.search-dialog-form [type=\"reset\"]{height:2rem;top:5.875rem;width:2rem}}.site-pushdown-ad-wrap{display:none}body[data-bannerad-type=\"crown\"] .site-header-ad-wrap{display:none}body[data-bannerad-type=\"crown\"] .site-header-ad-wrap.loaded{display:block}body[data-bannerad-type=\"mobile-banner\"],body[data-bannerad-type=\"mobile-leaderboard\"]{padding-bottom:4.625rem}body[data-bannerad-type=\"mobile-banner\"] .site-header-ad-wrap>div,body[data-bannerad-type=\"mobile-banner\"].homepage .site-pushdown-ad-wrap>div,body[data-bannerad-type=\"mobile-leaderboard\"] .site-header-ad-wrap>div,body[data-bannerad-type=\"mobile-leaderboard\"].homepage .site-pushdown-ad-wrap>div{background-color:#f1f2f2;bottom:0;height:3.875rem;overflow:hidden;position:fixed;padding:.375rem 0;text-align:center;width:100%;z-index:20}body[data-bannerad-type=\"leaderboard\"] .site-header-ad-wrap,body[data-bannerad-type=\"leaderboard\"].homepage .site-pushdown-ad-wrap{padding:0}body[data-bannerad-type=\"leaderboard\"] .site-header-ad-wrap>div,body[data-bannerad-type=\"leaderboard\"].homepage .site-pushdown-ad-wrap>div{height:7.125rem;overflow:hidden;padding:.75rem 0;transition:top .5s;width:100%;z-index:20}body[data-bannerad-type=\"leaderboard\"][data-bannerad-flow=\"fixed\"] .site-header-ad-wrap,body[data-bannerad-type=\"leaderboard\"][data-bannerad-flow=\"fixed\"].homepage .site-pushdown-ad-wrap{height:7.125rem}body[data-bannerad-type=\"leaderboard\"][data-bannerad-flow=\"fixed\"] .site-header-ad-wrap>div,body[data-bannerad-type=\"leaderboard\"][data-bannerad-flow=\"fixed\"].homepage .site-pushdown-ad-wrap>div{background-color:#f1f2f2;position:fixed}body[data-bannerad-type=\"leaderboard\"][data-bannerad-display=\"hidden\"] .site-header-ad-wrap>div,body[data-bannerad-type=\"leaderboard\"][data-bannerad-display=\"hidden\"].homepage .site-pushdown-ad-wrap>div{top:-7.125rem}body[data-bannerad-type=\"leaderboard\"][data-bannerad-display=\"visible\"] .site-header-ad-wrap>div,body[data-bannerad-type=\"leaderboard\"][data-bannerad-display=\"visible\"].homepage .site-pushdown-ad-wrap>div{top:0}@media only screen and (min-width: 768px){.site-header-ad-wrap{background-color:#f1f2f2;text-align:center;width:100%}.site-header-ad-wrap>div{display:block;left:0;margin:0 auto;top:0}body[data-bannerad-type=\"pushdown\"] .site-pushdown-ad-wrap{margin-top:1.875rem;margin-bottom:1.875rem}body[data-bannerad-type=\"other\"][data-bannerad-display=\"visible\"] .site-header-ad-wrap{margin-top:4.8125rem}body[data-bannerad-type=\"other\"][data-bannerad-display=\"visible\"] [id^='adUnitContainer']{margin-top:4.8125rem !important}}@media screen, print{.printable .site-header-ad-wrap{display:none}}.main-navigation{font-family:\"Gotham SSm 7r\",sans-serif;font-weight:normal;color:#333;font-size:.875rem;line-height:1em;background-color:#333;color:#fff;height:100%;left:-16.6875rem;letter-spacing:0.1px;line-height:3.125rem;padding-top:1.625rem;position:fixed;top:0;text-align:center;transition:transform 0.3s linear;width:16.6875rem;z-index:22}.main-navigation .logout-user-action{border:1px solid #f93f23;color:#f93f23;padding:.5rem 2rem}.main-navigation[aria-expanded=\"true\"]{-webkit-transform:translateX(16.6875rem);-moz-transform:translateX(16.6875rem);-ms-transform:translateX(16.6875rem);-o-transform:translateX(16.6875rem);transform:translateX(16.6875rem);overflow-y:auto}.dismiss-main-navigation{height:1.0625rem;left:1.625rem;position:absolute;top:1.375rem;width:1.0625rem}@media only screen and (min-width: 768px){.main-navigation{left:-20.125rem;padding-top:2.8125rem;width:20.125rem}.main-navigation[aria-expanded=\"true\"]{-webkit-transform:translateX(20.125rem);-moz-transform:translateX(20.125rem);-ms-transform:translateX(20.125rem);-o-transform:translateX(20.125rem);transform:translateX(20.125rem)}}@media screen, print{.printable .main-navigation{display:none}}.content-channel-links{text-transform:uppercase}[class$=\"-content-channel-link\"]{color:#fff;display:block;margin:1.875rem 0}[class$=\"-content-channel-link\"] a{display:block}[class$=\"-content-channel-link\"] a:hover{color:#f93f23;text-decoration:none}.homepage-content-channel-link{background-color:transparent;background-repeat:no-repeat;background-position:50% 50%;background-size:cover;border:none;direction:ltr;display:inline-block;height:3.4375rem;overflow:hidden;padding:0;text-indent:-9999px;width:3.4375rem;border:1px solid #f93f23;border-radius:100%;display:block;margin:0 auto 2.1875rem}.homepage-content-channel-link>a{display:block;height:100%;width:100%}.curated-content-channel-link{color:#83b838}body.recipes-menus .recipes-menus-content-channel-link,body.expert-advice .expert-advice-content-channel-link,body.ingredients .ingredients-content-channel-link,body.holidays-events .holidays-events-content-channel-link,body.community .community-content-channel-link,body.video .video-content-channel-link{color:#f93f23}@media only screen and (min-width: 768px){.homepage-content-channel-link{height:5.625rem;width:5.625rem}}.main-navigation .social-channel-links .section-title{display:block;font-size:.8125rem;padding:1.25rem 0 .5rem}.main-navigation .facebook-social-channel-link{width:.8125rem}.main-navigation .twitter-social-channel-link{width:1.875rem}.main-navigation .instagram-social-channel-link{width:1.5625rem}.main-navigation [class$=\"-social-channel-link\"]{height:1.5625rem;margin:0 .75rem}.branding .social-channel-links{display:none}@media only screen and (min-width: 1024px){.branding .social-channel-links{display:block;position:absolute;right:7.5rem;top:1rem}.branding .social-channel-links .section-title{color:#a1a1a1;display:inline-block;font-size:.8125rem;height:1em;line-height:1;overflow:hidden;padding:0;vertical-align:middle;width:50px}.branding .social-channel-links ul{display:inline-block;line-height:0;vertical-align:middle}.branding [class$=\"-social-channel-link\"]{height:1.5625rem;margin:0 .375rem;width:1.5625rem}}header[role=\"banner\"] .user-actions{background-color:inherit;font-size:12px;height:auto;padding:0}header[role=\"banner\"] .user-actions [class$=\"-user-action\"]{color:#333}header[role=\"banner\"] .user-actions[data-user-type=\"anonymous\"] [class$=\"-user-action\"]{display:none;position:absolute}header[role=\"banner\"] .user-actions[data-user-type=\"authenticated\"]{left:6.25rem;line-height:1em;position:absolute;top:2.1875rem;white-space:nowrap}header[role=\"banner\"] .user-actions[data-user-type=\"authenticated\"] .user-action-list{border-bottom:1px solid #e5e5e5;display:none;padding-top:16px}header[role=\"banner\"] .user-actions[data-user-type=\"authenticated\"] .user-action-list [class$=\"-user-action\"]{background-color:#fff;border:1px solid #e5e5e5;border-bottom:none;transition:background-color .5s}header[role=\"banner\"] .user-actions[data-user-type=\"authenticated\"] .user-action-list [class$=\"-user-action\"]:hover{background-color:#f93f23;color:#fff}header[role=\"banner\"] .user-actions[data-user-type=\"authenticated\"] .user-action-list [class$=\"-user-action\"] a{display:block;padding:15px}header[role=\"banner\"] .user-actions[data-user-type=\"authenticated\"][data-show-user-actions=\"true\"] .user-action-list{display:block}.user-status{display:block;position:absolute;right:3.8125rem}.user-status .loading-message-wrapper{height:2rem;left:10px;opacity:.25;top:6px;width:2rem}.user-status .loading-message-wrapper .loading-message{height:2rem;width:2rem}.user-status .recipebox-status{display:block;outline:none}.user-status[data-user-type=\"anonymous\"]{top:1.25rem}.user-status[data-user-type=\"anonymous\"] .recipebox-status{height:1.3125rem;width:1.3125rem}.user-status[data-user-type=\"anonymous\"] .login-register-actions{color:#a1a1a1;display:none;font-size:.8125rem;letter-spacing:0.1px;line-height:1;vertical-align:top}.user-status[data-user-type=\"anonymous\"] .login-register-actions a:hover{color:#333;text-decoration:none}.user-status[data-user-type=\"anonymous\"] .login-register-actions [title=\"Log-in\"]:after{color:#a1a1a1;content:\"/\"}.user-status[data-user-type=\"authenticated\"]{outline:none;top:.9375rem}.user-status[data-user-type=\"authenticated\"] .recipebox-status{height:1.75rem;width:1.75rem}.user-status[data-user-type=\"authenticated\"] .recipebox-size{font-family:\"Gotham SSm 7r\",sans-serif;font-weight:normal;color:#f93f23;font-size:.625rem;line-height:.625rem;background-color:#fff;border:solid 1px #a1a1a1;border-radius:100%;bottom:.5rem;display:block;height:1.25rem;overflow:hidden;padding:.25rem 0;position:absolute;right:-.625rem;text-align:center;width:1.25rem}.user-status[data-user-type=\"authenticated\"] .user-greeting{color:#f93f23;display:none}.user-status[data-user-type=\"authenticated\"]:hover .recipebox-size,.user-status[data-user-type=\"authenticated\"]:hover .user-greeting{text-decoration:underline}.main-navigation .user-status[data-user-type=\"anonymous\"]{margin-top:1.125rem;position:static}.main-navigation .user-status[data-user-type=\"anonymous\"] .recipebox-status{display:none}.main-navigation .user-status[data-user-type=\"anonymous\"] .login-register-actions{border:solid 1px #979797;color:#979797;display:inline-block;margin:0 auto;padding:.5rem 2rem}.main-navigation .user-status[data-user-type=\"anonymous\"] .login-register-actions a:hover{color:#f93f23}.main-navigation .user-status[data-user-type=\"authenticated\"]{display:none}@media only screen and (min-width: 768px){.user-status[data-user-type=\"anonymous\"]{top:1.0625rem}.user-status[data-user-type=\"anonymous\"] .recipebox-status{height:1.5rem;width:1.5rem}.user-status[data-user-type=\"authenticated\"]{right:4.3125rem}}@media only screen and (min-width: 1024px){.user-status{left:4.1875rem;right:initial;z-index:21}.user-status[data-user-type=\"anonymous\"]{top:1.3125rem}.user-status[data-user-type=\"anonymous\"] .recipebox-status{height:1.3125rem;width:1.3125rem}.user-status[data-user-type=\"anonymous\"] .login-register-actions{display:inline-block;margin:4px 0 0 12px}.user-status[data-user-type=\"authenticated\"]{right:initial}.user-status[data-user-type=\"authenticated\"] .user-greeting{display:inline-block;font-size:.8125rem;font-weight:normal;left:2.8125rem;letter-spacing:0.1px;position:absolute;top:.375rem;white-space:nowrap}}@media screen, print{.printable header[role=\"banner\"]{width:auto}.printable header[role=\"banner\"] .show-main-nvaigation,.printable header[role=\"banner\"] .user-status,.printable header[role=\"banner\"] .search-dialog{display:none}}[class$=\"-comment-form\"]{left:50%;margin-left:-45%;padding:25px 0 0;position:absolute;top:0}[class$=\"-comment-form\"] .title{font-family:\"Gotham Cond SSm 5r\",sans-serif;font-weight:normal;color:#333;font-size:1.875rem;line-height:1.875rem;padding:0 16px}[class$=\"-comment-form\"] .description,[class$=\"-comment-form\"] .warning{font-family:\"Gotham SSm 5r\",sans-serif;font-weight:normal;color:#333;font-size:.875rem;line-height:1.25rem;margin:12px 0;padding:0 16px}[class$=\"-comment-form\"] .warning{color:#f93f23}[class$=\"-comment-form\"] .actions,[class$=\"-comment-form\"] .fields{border:none;margin:0;padding:0 16px}[class$=\"-comment-form\"] .comment,[class$=\"-comment-form\"] .email,[class$=\"-comment-form\"] .name{font-family:\"Gotham SSm 5r\",sans-serif;font-weight:normal;color:#333;font-size:.875rem;line-height:.875rem;display:block;width:100%;border:1px solid #ccc;margin:.5rem 0;padding:.5rem}[class$=\"-comment-form\"] .comment.error,[class$=\"-comment-form\"] .comment:invalid,[class$=\"-comment-form\"] .email.error,[class$=\"-comment-form\"] .email:invalid,[class$=\"-comment-form\"] .name.error,[class$=\"-comment-form\"] .name:invalid{border-color:#f93f23}[class$=\"-comment-form\"] .comment:focus,[class$=\"-comment-form\"] .email:focus,[class$=\"-comment-form\"] .name:focus{border-color:#999;outline:none}[class$=\"-comment-form\"] .comment{overflow-y:auto;resize:none}[class$=\"-comment-form\"] .close-button{background-color:transparent;background-repeat:no-repeat;background-position:50% 50%;background-size:.9375rem,.9375rem;border:none;direction:ltr;display:inline-block;height:.9375rem;overflow:hidden;padding:0;text-indent:-9999px;width:.9375rem;position:absolute;right:13px;top:11px}[class$=\"-comment-form\"] .close-button>a{display:block;height:100%;width:100%}[class$=\"-comment-form\"] .submit-button{font-family:\"Gotham SSm 7r\",sans-serif;font-weight:normal;color:#fff;font-size:.875rem;line-height:0rem;background-color:#333;display:block;margin:36px auto;padding:23px 0 22px;width:100%}@media only screen and (min-width: 768px){[class$=\"-comment-form\"]{margin-left:-189px;padding:30px 0 0;width:378px}[class$=\"-comment-form\"] .title,[class$=\"-comment-form\"] .description,[class$=\"-comment-form\"] .warning{padding:0 30px}[class$=\"-comment-form\"] .fields,[class$=\"-comment-form\"] .actions{padding:0 30px}[class$=\"-comment-form\"] .name,[class$=\"-comment-form\"] .email,[class$=\"-comment-form\"] .comment{margin:8px 0}[class$=\"-comment-form\"] .close-button{right:15px;top:15px}[class$=\"-comment-form\"] .submit-button{width:158px}}footer[role=\"contentinfo\"]{-webkit-transition:-webkit-transform .3s linear;-moz-transition:-moz-transform .3s linear;-o-transition:-o-transform .3s linear;transition:transform .3s linear;background-color:#f93f23}footer[role=\"contentinfo\"] ::selection{background-color:transparent}footer[role=\"contentinfo\"] ul,footer[role=\"contentinfo\"] li{display:inline;margin:0;padding:0}footer[role=\"contentinfo\"] .epicurious-links,footer[role=\"contentinfo\"] .corporate-info{display:block;margin:0 auto;padding:52px 16px;width:100%}footer[role=\"contentinfo\"] .epicurious-links [class$=\"-link\"]{font-family:\"Gotham SSm 5r\",sans-serif;font-weight:normal;color:#fff;font-size:.625rem;line-height:1.5rem}footer[role=\"contentinfo\"] .epicurious-links>.section-title{display:none}footer[role=\"contentinfo\"] .epicurious-links .epi-social-links .nav-title{background-position:0 0;height:1.875rem;margin-bottom:1.25rem;vertical-align:top;width:100%}footer[role=\"contentinfo\"] .epicurious-links .epi-social-links .nav-title:hover{cursor:pointer}footer[role=\"contentinfo\"] .epicurious-links .epi-social-links .links-list [class$=\"-link\"]{display:inline-block;height:1.75rem;margin-right:.5rem;width:1.75rem}footer[role=\"contentinfo\"] .epicurious-links .channel-links,footer[role=\"contentinfo\"] .epicurious-links .helpful-links,footer[role=\"contentinfo\"] .epicurious-links .fig-links{display:none}footer[role=\"contentinfo\"] .epicurious-links .channel-links .nav-title,footer[role=\"contentinfo\"] .epicurious-links .channel-links .nav-title a,footer[role=\"contentinfo\"] .epicurious-links .helpful-links .nav-title,footer[role=\"contentinfo\"] .epicurious-links .helpful-links .nav-title a,footer[role=\"contentinfo\"] .epicurious-links .fig-links .nav-title,footer[role=\"contentinfo\"] .epicurious-links .fig-links .nav-title a{font-family:\"Gotham SSm 7r\",sans-serif;font-weight:normal;color:#fff;font-size:.875rem;line-height:1.125rem;margin-bottom:18px;text-transform:uppercase}footer[role=\"contentinfo\"] .corporate-info-wrap{background-color:#292929;padding-bottom:62px}footer[role=\"contentinfo\"] .corporate-info{font-family:\"Gotham SSm 5r\",sans-serif;font-weight:normal;color:#868686;font-size:.8125rem;line-height:.8125rem}footer[role=\"contentinfo\"] .corporate-info a:link,footer[role=\"contentinfo\"] .corporate-info a:visited{color:#868686}footer[role=\"contentinfo\"] .corporate-info>.section-title{display:block;height:23px;margin:0 0 17px;width:160px}footer[role=\"contentinfo\"] .corporate-info .conde-nast-brands{display:inline-block;position:relative}footer[role=\"contentinfo\"] .corporate-info .conde-nast-brands .nav-title{font-family:\"Gotham SSm 5r\",sans-serif;font-weight:normal;color:#868686;font-size:.875rem;line-height:.875rem;border:1px solid #5f5d5c;display:inline-block;height:0;line-height:0;padding:19px 13px 19px 0;text-align:center;vertical-align:middle;width:183px}footer[role=\"contentinfo\"] .corporate-info .conde-nast-brands .nav-title:after{height:8px;margin-left:5px;margin-top:-5px;position:absolute;top:50%;transform:rotate(90deg)}footer[role=\"contentinfo\"] .corporate-info .conde-nast-brands .nav-title:hover{cursor:pointer}footer[role=\"contentinfo\"] .corporate-info .conde-nast-brands .conde-nast-brands-list{background-color:#292929;border:1px solid #5f5d5c;bottom:41px;display:none;line-height:21px;padding:10px 0;position:absolute;width:183px}footer[role=\"contentinfo\"] .corporate-info .conde-nast-brands .conde-nast-brands-list .conde-nast-brand{display:block;margin:0 0 0 16px}footer[role=\"contentinfo\"] .corporate-info .conde-nast-brands[aria-hidden=\"false\"] .nav-title:after{margin-top:-1px;transform:rotate(-90deg)}footer[role=\"contentinfo\"] .corporate-info .conde-nast-brands[aria-hidden=\"false\"] .conde-nast-brands-list{display:block}footer[role=\"contentinfo\"] .corporate-info .conde-nast-services,footer[role=\"contentinfo\"] .corporate-info .legal-notice{margin-top:27px}footer[role=\"contentinfo\"] .corporate-info .conde-nast-services{display:none}footer[role=\"contentinfo\"] .corporate-info .conde-nast-services .conde-nast-service{font-family:\"Gotham SSm 7r\",sans-serif;font-weight:normal;color:#868686;font-size:.6875rem;line-height:.6875rem}footer[role=\"contentinfo\"] .corporate-info .legal-notice .title{display:none}footer[role=\"contentinfo\"] .corporate-info .legal-notice p{font-family:\"Gotham SSm 5r\",sans-serif;font-weight:normal;color:#868686;font-size:.75rem;line-height:.875rem;display:inline;margin-right:.375rem}@media only screen and (min-width: 768px){footer[role=\"contentinfo\"] .epicurious-links,footer[role=\"contentinfo\"] .corporate-info{padding:52px 0;width:44.75rem}footer[role=\"contentinfo\"] .epicurious-links .epi-social-links{border-bottom:1px solid #fff;margin-bottom:1.25rem;padding-bottom:1.25rem}footer[role=\"contentinfo\"] .epicurious-links .epi-social-links .nav-title{margin:0;width:50%}footer[role=\"contentinfo\"] .epicurious-links .epi-social-links .links-list{display:inline-block;text-align:right;width:50%}footer[role=\"contentinfo\"] .epicurious-links .epi-social-links .links-list [class$=\"-link\"]{height:1.75rem;margin-left:.5rem;margin-right:0;width:1.75rem}footer[role=\"contentinfo\"] .epicurious-links .channel-links,footer[role=\"contentinfo\"] .epicurious-links .helpful-links,footer[role=\"contentinfo\"] .epicurious-links .fig-links{display:inline-block;width:34%;vertical-align:top}footer[role=\"contentinfo\"] .epicurious-links .channel-links [class$=\"-link\"],footer[role=\"contentinfo\"] .epicurious-links .helpful-links [class$=\"-link\"],footer[role=\"contentinfo\"] .epicurious-links .fig-links [class$=\"-link\"]{display:block}footer[role=\"contentinfo\"] .epicurious-links .fig-links{float:right;width:auto}footer[role=\"contentinfo\"] .corporate-info-wrap{padding-bottom:0}footer[role=\"contentinfo\"] .corporate-info>.section-title{display:inline-block;margin:0 17px 0 0;position:relative;top:5px}footer[role=\"contentinfo\"] .corporate-info .conde-nast-services{display:block}footer[role=\"contentinfo\"] .corporate-info .conde-nast-services .nav-title{display:none}footer[role=\"contentinfo\"] .corporate-info .conde-nast-services .conde-nast-service{display:inline-block;margin:0 16px 0 0;text-transform:uppercase}}@media only screen and (min-width: 1024px){footer[role=\"contentinfo\"] .epicurious-links,footer[role=\"contentinfo\"] .corporate-info{width:62.75rem}footer[role=\"contentinfo\"] .epicurious-links .epi-social-links{border-bottom:none;display:inline-block;width:40%}footer[role=\"contentinfo\"] .epicurious-links .epi-social-links .nav-title{margin-bottom:1.25rem;width:50%}footer[role=\"contentinfo\"] .epicurious-links .epi-social-links .links-list{display:block;text-align:left;width:100%}footer[role=\"contentinfo\"] .epicurious-links .epi-social-links .links-list [class$=\"-link\"]{font-size:11px;height:1.75rem;margin-left:0;margin-right:.5rem}footer[role=\"contentinfo\"] .epicurious-links .channel-links,footer[role=\"contentinfo\"] .epicurious-links .helpful-links{width:19%}footer[role=\"contentinfo\"] .epicurious-links .fig-links{width:auto}footer[role=\"contentinfo\"] .epicurious-links .helpful-links{margin-left:0}footer[role=\"contentinfo\"] .corporate-info .conde-nast-services{float:right;margin-top:13px}footer[role=\"contentinfo\"] .corporate-info .conde-nast-services .conde-nast-service{margin:0 0 0 16px}}@media screen, print{.printable footer[role=\"contentinfo\"]{display:none}}\n",
      "  </style>\n",
      "  <link href=\"/static/css/search__3.12.1.css\" rel=\"stylesheet\"/>\n",
      "  <script type=\"text/javascript\">\n",
      "   var digitalData = {\n",
      "          \"display\" : \"Search Results\",\"pageType\" : \"search\",\"section\" : \"search\",\"canonical\" : \"https://www.epicurious.com/search/tofu%20chill\",\"pageValue\" : \"all\",\n",
      "        };\n",
      "  </script>\n",
      "  <script defer=\"\" src=\"https://assets.adobedtm.com/6372cf21ef88ee60bc2977a4898dcb5c7945a212/satelliteLib-b8937e0c536ed51fe92efb5ca25fc6f76fdeef0e.js\">\n",
      "  </script>\n",
      "  <script type=\"text/javascript\">\n",
      "   !function (e){\"use strict\";var t=e||{};window.cns=window.cns||{async:function(e,t){this.queue[e]||(this.queue[e]=[]),\"function\"==typeof t&&this.queue[e].push(t)},queue:{},embed:{backup:t.overwrite}};var n=document.createElement(\"script\");t.isAsync?n.async=!0:n.defer=!0,n.src=function(){if(t.overwrite)return t.overwrite;var e=location.hostname,n=\"\"!==location.port?\":\"+location.port:\"\",o=location.search.match(/CNS_SB=([^&\\s]+)[&\\s]?/)||[],s=o.length?\"-sandbox/\"+o[1]:\"\",c=!t.bucketer||s?\"\":t.bucketer(),i=\"\";if(!1!==t.bustCache){var r=new Date;r.setMinutes(Math.floor(r.getMinutes()/15),0,0),i+=\"?\"+r.getTime()}return\"//\"+(e+n)+\"/cns\"+s+c+\"/services.min.js\"+i}(),document.head.appendChild(n)}({});\n",
      "  </script>\n",
      " </head>\n",
      " <body class=\"search-page\">\n",
      "  <!--[if lte IE 9]>\n",
      "      <p class=\"browsehappy\">You are using an <strong>outdated</strong> browser. Please <a target=\"_new\" href=\"https://browsehappy.com/\">upgrade your browser</a> to improve your experience.</p>\n",
      "    <![endif]-->\n",
      "  <span class=\"page-wrap\" id=\"react-app\">\n",
      "   <span class=\"page\" data-react-checksum=\"452522313\" data-reactid=\"1\" data-reactroot=\"\">\n",
      "    <div class=\"header-wrapper\" data-reactid=\"2\">\n",
      "     <div class=\"header\" data-reactid=\"3\" role=\"banner\">\n",
      "      <h2 data-reactid=\"4\" itemtype=\"https://schema.org/Organization\">\n",
      "       <a data-reactid=\"5\" href=\"/\" itemprop=\"url\" title=\"Epicurious\">\n",
      "        Epicurious\n",
      "       </a>\n",
      "      </h2>\n",
      "      <div class=\"search-form-container\" data-reactid=\"6\">\n",
      "       <form action=\"/search/\" autocomplete=\"off\" data-reactid=\"7\" method=\"get\" role=\"search\">\n",
      "        <fieldset data-reactid=\"8\">\n",
      "         <button class=\"submit\" data-reactid=\"9\" type=\"submit\">\n",
      "          search\n",
      "         </button>\n",
      "         <input autocomplete=\"off\" data-reactid=\"10\" maxlength=\"120\" name=\"terms\" placeholder=\"Find a Recipe\" type=\"text\" value=\"tofu chill\"/>\n",
      "         <button class=\"filter mobile\" data-reactid=\"11\">\n",
      "          filters\n",
      "         </button>\n",
      "         <button class=\"filter tablet\" data-reactid=\"12\">\n",
      "          filter results\n",
      "         </button>\n",
      "        </fieldset>\n",
      "       </form>\n",
      "       <div class=\"ingredient-filters\" data-reactid=\"13\">\n",
      "        <h3 data-reactid=\"14\">\n",
      "         Include/Exclude Ingredients\n",
      "        </h3>\n",
      "        <form class=\"include-ingredients\" data-reactid=\"15\">\n",
      "         <fieldset data-reactid=\"16\">\n",
      "          <input aria-label=\"Include ingredients\" data-reactid=\"17\" placeholder=\"Include ingredients:\" type=\"text\"/>\n",
      "          <button data-reactid=\"18\">\n",
      "           include\n",
      "          </button>\n",
      "         </fieldset>\n",
      "        </form>\n",
      "        <form class=\"exclude-ingredients\" data-reactid=\"19\">\n",
      "         <fieldset data-reactid=\"20\">\n",
      "          <input aria-label=\"Exclude ingredients\" data-reactid=\"21\" placeholder=\"Exclude ingredients:\" type=\"text\"/>\n",
      "          <button data-reactid=\"22\">\n",
      "           exclude\n",
      "          </button>\n",
      "         </fieldset>\n",
      "        </form>\n",
      "       </div>\n",
      "       <button class=\"filter ingredient-filter\" data-reactid=\"23\">\n",
      "        include/exclude ingredients\n",
      "       </button>\n",
      "       <div class=\"search-tags\" data-reactid=\"24\">\n",
      "        <button class=\"clear-all\" data-reactid=\"25\">\n",
      "         Clear all\n",
      "        </button>\n",
      "       </div>\n",
      "      </div>\n",
      "     </div>\n",
      "     <div class=\"filters\" data-reactid=\"26\">\n",
      "      <div data-reactid=\"27\">\n",
      "       <!-- react-empty: 28 -->\n",
      "       <div class=\"filter-action-panel\" data-reactid=\"29\">\n",
      "        <p data-reactid=\"30\">\n",
      "         <!-- react-text: 31 -->\n",
      "         21\n",
      "         <!-- /react-text -->\n",
      "         <!-- react-text: 32 -->\n",
      "         matching results\n",
      "         <!-- /react-text -->\n",
      "        </p>\n",
      "        <button data-reactid=\"33\">\n",
      "         Apply\n",
      "        </button>\n",
      "        <button data-reactid=\"34\">\n",
      "         Cancel\n",
      "        </button>\n",
      "       </div>\n",
      "      </div>\n",
      "     </div>\n",
      "    </div>\n",
      "    <div class=\"search-results-status\" data-reactid=\"35\">\n",
      "     <div class=\"search-tags\" data-reactid=\"36\">\n",
      "      <button class=\"clear-all\" data-reactid=\"37\">\n",
      "       Clear all\n",
      "      </button>\n",
      "     </div>\n",
      "     <p class=\"results-message\" data-reactid=\"38\">\n",
      "      <span class=\"matching-count\" data-reactid=\"39\">\n",
      "       21\n",
      "      </span>\n",
      "      <!-- react-text: 40 -->\n",
      "      matching results for\n",
      "      <!-- /react-text -->\n",
      "      <em class=\"terms\" data-reactid=\"41\">\n",
      "       tofu chill\n",
      "      </em>\n",
      "     </p>\n",
      "     <div class=\"search-sort-container\" data-reactid=\"42\">\n",
      "      <div class=\"content-type-filter-options-menu\" data-reactid=\"43\">\n",
      "       <label aria-expanded=\"false\" data-reactid=\"44\" for=\"content-type-filter-options-menu\" role=\"button\">\n",
      "        <span class=\"options-menu-title\" data-reactid=\"45\">\n",
      "         Show\n",
      "        </span>\n",
      "        <span class=\"selected-option-text\" data-reactid=\"46\">\n",
      "         All Content\n",
      "        </span>\n",
      "       </label>\n",
      "       <select data-reactid=\"47\" id=\"content-type-filter-options-menu\" name=\"content-type-filter\">\n",
      "        <option data-reactid=\"48\" selected=\"\" value=\"all\">\n",
      "         All Content\n",
      "        </option>\n",
      "        <option data-reactid=\"49\" value=\"recipe\">\n",
      "         Recipes\n",
      "        </option>\n",
      "        <option data-reactid=\"50\" value=\"article\">\n",
      "         Articles\n",
      "        </option>\n",
      "        <option data-reactid=\"51\" value=\"package\">\n",
      "         Guides\n",
      "        </option>\n",
      "        <option data-reactid=\"52\" value=\"menu\">\n",
      "         Menus\n",
      "        </option>\n",
      "        <option data-reactid=\"53\" value=\"gallery\">\n",
      "         Galleries\n",
      "        </option>\n",
      "        <option data-reactid=\"54\" value=\"cnevideo\">\n",
      "         Videos\n",
      "        </option>\n",
      "       </select>\n",
      "      </div>\n",
      "      <div class=\"sort-filter-options-menu\" data-reactid=\"55\">\n",
      "       <label aria-expanded=\"false\" data-reactid=\"56\" for=\"sort-filter-options-menu\" role=\"button\">\n",
      "        <span class=\"options-menu-title\" data-reactid=\"57\">\n",
      "         Sort by\n",
      "        </span>\n",
      "        <span class=\"selected-option-text\" data-reactid=\"58\">\n",
      "         Relevance\n",
      "        </span>\n",
      "       </label>\n",
      "       <select data-reactid=\"59\" id=\"sort-filter-options-menu\" name=\"sort-filter\">\n",
      "        <option data-reactid=\"60\" selected=\"\" value=\"relevance\">\n",
      "         Relevance\n",
      "        </option>\n",
      "        <option data-reactid=\"61\" value=\"newest\">\n",
      "         Newest\n",
      "        </option>\n",
      "        <option data-reactid=\"62\" value=\"highestRated\">\n",
      "         Highest Rated\n",
      "        </option>\n",
      "        <option data-reactid=\"63\" value=\"mostReviewed\">\n",
      "         Most Reviewed\n",
      "        </option>\n",
      "        <option data-reactid=\"64\" value=\"makeItAgain\">\n",
      "         Make Again %\n",
      "        </option>\n",
      "       </select>\n",
      "      </div>\n",
      "     </div>\n",
      "    </div>\n",
      "    <section data-query=\"tofu chill\" data-reactid=\"65\" role=\"main\">\n",
      "     <h3 class=\"section-title\" data-reactid=\"66\">\n",
      "      Search Results\n",
      "     </h3>\n",
      "     <div class=\"results-group\" data-group-number=\"1\" data-reactid=\"67\">\n",
      "      <article class=\"recipe-content-card\" data-has-quickview=\"false\" data-index=\"0\" data-reactid=\"68\" itemscope=\"\" itemtype=\"https://schema.org/Recipe\">\n",
      "       <header class=\"summary\" data-reactid=\"69\">\n",
      "        <strong class=\"tag\" data-reactid=\"70\">\n",
      "         recipe\n",
      "        </strong>\n",
      "        <h4 class=\"hed\" data-reactid=\"71\" data-truncate=\"3\" itemprop=\"name\">\n",
      "         <a data-reactid=\"72\" href=\"/recipes/food/views/chilled-soba-with-tofu-and-sugar-snap-peas-242834\">\n",
      "          Chilled Soba with Tofu and Sugar Snap Peas\n",
      "         </a>\n",
      "        </h4>\n",
      "        <p class=\"dek\" data-reactid=\"73\" data-truncate=\"1\">\n",
      "         A bowl of these refreshing noodles—a riff on a Japanese classic that gets topped with silky tofu—is clean and light, yet still hearty enough to make a satisfying meal.\n",
      "        </p>\n",
      "        <dl class=\"recipes-ratings-summary\" data-reactid=\"74\" data-reviews-count=\"8\" data-reviews-rating=\"3.53\" itemprop=\"aggregateRating\" itemscope=\"\" itemtype=\"https://schema.org/AggregateRating\">\n",
      "         <dt class=\"rating-label\" data-reactid=\"75\">\n",
      "          Average user rating\n",
      "         </dt>\n",
      "         <span class=\"reviews-count-container\" data-reactid=\"76\">\n",
      "          <dd class=\"rating\" data-rating=\"3.5\" data-reactid=\"77\">\n",
      "           <span data-reactid=\"78\" itemprop=\"ratingValue\">\n",
      "            3.5\n",
      "           </span>\n",
      "           <!-- react-text: 79 -->\n",
      "           /\n",
      "           <!-- /react-text -->\n",
      "           <span data-reactid=\"80\" itemprop=\"bestRating\">\n",
      "            4\n",
      "           </span>\n",
      "           <meta content=\"0\" data-reactid=\"81\" itemprop=\"worstRating\"/>\n",
      "          </dd>\n",
      "          <dt class=\"reviews-count-label\" data-reactid=\"82\">\n",
      "           Reviews\n",
      "          </dt>\n",
      "          <dd class=\"reviews-count\" data-reactid=\"83\" itemprop=\"reviewCount\">\n",
      "           8\n",
      "          </dd>\n",
      "         </span>\n",
      "         <span class=\"make-again-container\" data-reactid=\"84\">\n",
      "          <dt class=\"make-again-percentage-label\" data-reactid=\"85\">\n",
      "           Percentage of reviewers who will make this recipe again\n",
      "          </dt>\n",
      "          <dd class=\"make-again-percentage\" data-reactid=\"86\">\n",
      "           <!-- react-text: 87 -->\n",
      "           75\n",
      "           <!-- /react-text -->\n",
      "           <!-- react-text: 88 -->\n",
      "           %\n",
      "           <!-- /react-text -->\n",
      "          </dd>\n",
      "         </span>\n",
      "        </dl>\n",
      "       </header>\n",
      "       <a class=\"photo-link\" data-reactid=\"89\" href=\"/recipes/food/views/chilled-soba-with-tofu-and-sugar-snap-peas-242834\">\n",
      "        <div class=\"photo-wrap\" data-reactid=\"90\">\n",
      "         <div class=\"component-lazy pending\" data-component=\"Lazy\" data-reactid=\"91\">\n",
      "         </div>\n",
      "        </div>\n",
      "       </a>\n",
      "       <a class=\"view-complete-item\" data-reactid=\"92\" href=\"/recipes/food/views/chilled-soba-with-tofu-and-sugar-snap-peas-242834\" itemprop=\"url\" title=\"Chilled Soba with Tofu and Sugar Snap Peas\">\n",
      "        <!-- react-text: 93 -->\n",
      "        View “\n",
      "        <!-- /react-text -->\n",
      "        <!-- react-text: 94 -->\n",
      "        Chilled Soba with Tofu and Sugar Snap Peas\n",
      "        <!-- /react-text -->\n",
      "        <!-- react-text: 95 -->\n",
      "        ”\n",
      "        <!-- /react-text -->\n",
      "       </a>\n",
      "       <div class=\"recipe-panel \" data-reactid=\"96\">\n",
      "        <a class=\"view-complete-item\" data-reactid=\"97\" href=\"/recipes/food/views/chilled-soba-with-tofu-and-sugar-snap-peas-242834\">\n",
      "         View Recipe\n",
      "        </a>\n",
      "        <div class=\"controls\" data-reactid=\"98\">\n",
      "         <a class=\"show-quick-view\" data-reactid=\"99\" href=\"/recipes/food/views/chilled-soba-with-tofu-and-sugar-snap-peas-242834\" title=\"Chilled Soba with Tofu and Sugar Snap Peas\">\n",
      "          Quick view\n",
      "         </a>\n",
      "         <a class=\"toggle-compare-state\" data-reactid=\"100\">\n",
      "          Compare Recipe\n",
      "         </a>\n",
      "        </div>\n",
      "       </div>\n",
      "      </article>\n",
      "      <article class=\"recipe-content-card\" data-has-quickview=\"false\" data-index=\"1\" data-reactid=\"101\" itemscope=\"\" itemtype=\"https://schema.org/Recipe\">\n",
      "       <header class=\"summary\" data-reactid=\"102\">\n",
      "        <strong class=\"tag\" data-reactid=\"103\">\n",
      "         recipe\n",
      "        </strong>\n",
      "        <h4 class=\"hed\" data-reactid=\"104\" data-truncate=\"3\" itemprop=\"name\">\n",
      "         <a data-reactid=\"105\" href=\"/recipes/food/views/new-wave-new-fave-baked-tofu-or-tempeh-394509\">\n",
      "          New Wave-New Fave Baked Tofu or Tempeh\n",
      "         </a>\n",
      "        </h4>\n",
      "        <p class=\"dek\" data-reactid=\"106\" data-truncate=\"1\">\n",
      "         I've been doing the previous marinades forever. This new one is first cousin to a good barbecued tofu: piquant, sweet-hot-rich, and scintillatingly tasty. The tofu is baked in the marinade/sauce, which cooks down and coats it, caramelizing them. You'll probably have to soak the baking dish overnight before washing it, but it's worth it. Vary this using fruit juice concentrate instead of honey or sugar, and adding extra ginger, orange zest, or both. For an incendiary smokiness, add chipotle in adobo.\n",
      "        </p>\n",
      "        <dl class=\"recipes-ratings-summary\" data-reactid=\"107\" data-reviews-count=\"1\" data-reviews-rating=\"3\" itemprop=\"aggregateRating\" itemscope=\"\" itemtype=\"https://schema.org/AggregateRating\">\n",
      "         <dt class=\"rating-label\" data-reactid=\"108\">\n",
      "          Average user rating\n",
      "         </dt>\n",
      "         <span class=\"reviews-count-container\" data-reactid=\"109\">\n",
      "          <dd class=\"rating\" data-rating=\"3\" data-reactid=\"110\">\n",
      "           <span data-reactid=\"111\" itemprop=\"ratingValue\">\n",
      "            3\n",
      "           </span>\n",
      "           <!-- react-text: 112 -->\n",
      "           /\n",
      "           <!-- /react-text -->\n",
      "           <span data-reactid=\"113\" itemprop=\"bestRating\">\n",
      "            4\n",
      "           </span>\n",
      "           <meta content=\"0\" data-reactid=\"114\" itemprop=\"worstRating\"/>\n",
      "          </dd>\n",
      "          <dt class=\"reviews-count-label\" data-reactid=\"115\">\n",
      "           Reviews\n",
      "          </dt>\n",
      "          <dd class=\"reviews-count\" data-reactid=\"116\" itemprop=\"reviewCount\">\n",
      "           1\n",
      "          </dd>\n",
      "         </span>\n",
      "         <span class=\"make-again-container\" data-reactid=\"117\">\n",
      "          <dt class=\"make-again-percentage-label\" data-reactid=\"118\">\n",
      "           Percentage of reviewers who will make this recipe again\n",
      "          </dt>\n",
      "          <dd class=\"make-again-percentage\" data-reactid=\"119\">\n",
      "           <!-- react-text: 120 -->\n",
      "           100\n",
      "           <!-- /react-text -->\n",
      "           <!-- react-text: 121 -->\n",
      "           %\n",
      "           <!-- /react-text -->\n",
      "          </dd>\n",
      "         </span>\n",
      "        </dl>\n",
      "       </header>\n",
      "       <a class=\"photo-link\" data-reactid=\"122\" href=\"/recipes/food/views/new-wave-new-fave-baked-tofu-or-tempeh-394509\">\n",
      "        <div class=\"photo-wrap\" data-reactid=\"123\">\n",
      "         <div class=\"component-lazy pending\" data-component=\"Lazy\" data-reactid=\"124\">\n",
      "         </div>\n",
      "        </div>\n",
      "       </a>\n",
      "       <a class=\"view-complete-item\" data-reactid=\"125\" href=\"/recipes/food/views/new-wave-new-fave-baked-tofu-or-tempeh-394509\" itemprop=\"url\" title=\"New Wave-New Fave Baked Tofu or Tempeh\">\n",
      "        <!-- react-text: 126 -->\n",
      "        View “\n",
      "        <!-- /react-text -->\n",
      "        <!-- react-text: 127 -->\n",
      "        New Wave-New Fave Baked Tofu or Tempeh\n",
      "        <!-- /react-text -->\n",
      "        <!-- react-text: 128 -->\n",
      "        ”\n",
      "        <!-- /react-text -->\n",
      "       </a>\n",
      "       <div class=\"recipe-panel \" data-reactid=\"129\">\n",
      "        <a class=\"view-complete-item\" data-reactid=\"130\" href=\"/recipes/food/views/new-wave-new-fave-baked-tofu-or-tempeh-394509\">\n",
      "         View Recipe\n",
      "        </a>\n",
      "        <div class=\"controls\" data-reactid=\"131\">\n",
      "         <a class=\"show-quick-view\" data-reactid=\"132\" href=\"/recipes/food/views/new-wave-new-fave-baked-tofu-or-tempeh-394509\" title=\"New Wave-New Fave Baked Tofu or Tempeh\">\n",
      "          Quick view\n",
      "         </a>\n",
      "         <a class=\"toggle-compare-state\" data-reactid=\"133\">\n",
      "          Compare Recipe\n",
      "         </a>\n",
      "        </div>\n",
      "       </div>\n",
      "      </article>\n",
      "      <article class=\"article-content-card\" data-has-quickview=\"false\" data-index=\"2\" data-reactid=\"134\" itemscope=\"\" itemtype=\"https://schema.org/ItemPage\">\n",
      "       <header class=\"summary\" data-reactid=\"135\">\n",
      "        <strong class=\"tag\" data-reactid=\"136\">\n",
      "         article\n",
      "        </strong>\n",
      "        <h4 class=\"hed\" data-reactid=\"137\" data-truncate=\"3\" itemprop=\"name\">\n",
      "         <a data-reactid=\"138\" href=\"/expert-advice/emily-gould-cooking-diary-article\">\n",
      "          What the Writer-Publisher-Mom Emily Gould Cooks in a Week\n",
      "         </a>\n",
      "        </h4>\n",
      "        <p class=\"dek\" data-reactid=\"139\" data-truncate=\"1\">\n",
      "         The novelist and independent book publisher relies on intuition, leftovers, and some very good cookbooks to make dinner happen.\n",
      "        </p>\n",
      "       </header>\n",
      "       <a class=\"photo-link\" data-reactid=\"140\" href=\"/expert-advice/emily-gould-cooking-diary-article\">\n",
      "        <div class=\"photo-wrap\" data-reactid=\"141\">\n",
      "         <div class=\"component-lazy pending\" data-component=\"Lazy\" data-reactid=\"142\">\n",
      "         </div>\n",
      "        </div>\n",
      "       </a>\n",
      "       <a class=\"view-complete-item\" data-reactid=\"143\" href=\"/expert-advice/emily-gould-cooking-diary-article\" itemprop=\"url\" title=\"What the Writer-Publisher-Mom Emily Gould Cooks in a Week  \">\n",
      "        <!-- react-text: 144 -->\n",
      "        View “\n",
      "        <!-- /react-text -->\n",
      "        <!-- react-text: 145 -->\n",
      "        What the Writer-Publisher-Mom Emily Gould Cooks in a Week\n",
      "        <!-- /react-text -->\n",
      "        <!-- react-text: 146 -->\n",
      "        ”\n",
      "        <!-- /react-text -->\n",
      "       </a>\n",
      "      </article>\n",
      "      <article class=\"article-content-card\" data-has-quickview=\"false\" data-index=\"3\" data-reactid=\"147\" itemscope=\"\" itemtype=\"https://schema.org/ItemPage\">\n",
      "       <header class=\"summary\" data-reactid=\"148\">\n",
      "        <strong class=\"tag\" data-reactid=\"149\">\n",
      "         article\n",
      "        </strong>\n",
      "        <h4 class=\"hed\" data-reactid=\"150\" data-truncate=\"3\" itemprop=\"name\">\n",
      "         <a data-reactid=\"151\" href=\"/recipes-menus/summer-dinner-ideas-peaches-tomatoes-article\">\n",
      "          This Week, It's All Peaches and Tomatoes\n",
      "         </a>\n",
      "        </h4>\n",
      "        <p class=\"dek\" data-reactid=\"152\" data-truncate=\"1\">\n",
      "         Stone fruits and tomatoes are both at their peak, why not get your fill of both in one flavor-packed summer week?\n",
      "        </p>\n",
      "       </header>\n",
      "       <a class=\"photo-link\" data-reactid=\"153\" href=\"/recipes-menus/summer-dinner-ideas-peaches-tomatoes-article\">\n",
      "        <div class=\"photo-wrap\" data-reactid=\"154\">\n",
      "         <div class=\"component-lazy pending\" data-component=\"Lazy\" data-reactid=\"155\">\n",
      "         </div>\n",
      "        </div>\n",
      "       </a>\n",
      "       <a class=\"view-complete-item\" data-reactid=\"156\" href=\"/recipes-menus/summer-dinner-ideas-peaches-tomatoes-article\" itemprop=\"url\" title=\"This Week, It's All Peaches and Tomatoes\">\n",
      "        <!-- react-text: 157 -->\n",
      "        View “\n",
      "        <!-- /react-text -->\n",
      "        <!-- react-text: 158 -->\n",
      "        This Week, It's All Peaches and Tomatoes\n",
      "        <!-- /react-text -->\n",
      "        <!-- react-text: 159 -->\n",
      "        ”\n",
      "        <!-- /react-text -->\n",
      "       </a>\n",
      "      </article>\n",
      "      <article class=\"article-content-card\" data-has-quickview=\"false\" data-index=\"4\" data-reactid=\"160\" itemscope=\"\" itemtype=\"https://schema.org/ItemPage\">\n",
      "       <header class=\"summary\" data-reactid=\"161\">\n",
      "        <strong class=\"tag\" data-reactid=\"162\">\n",
      "         article\n",
      "        </strong>\n",
      "        <h4 class=\"hed\" data-reactid=\"163\" data-truncate=\"3\" itemprop=\"name\">\n",
      "         <a data-reactid=\"164\" href=\"/expert-advice/dirty-secrets-of-a-home-cook-article\">\n",
      "          Dirty Secrets of a Home Cook\n",
      "         </a>\n",
      "        </h4>\n",
      "        <p class=\"dek\" data-reactid=\"165\" data-truncate=\"1\">\n",
      "         A food writer gives us a peek into what really happens behind the scenes in her kitchen. And some of it isn't pretty.\n",
      "        </p>\n",
      "       </header>\n",
      "       <a class=\"photo-link\" data-reactid=\"166\" href=\"/expert-advice/dirty-secrets-of-a-home-cook-article\">\n",
      "        <div class=\"photo-wrap\" data-reactid=\"167\">\n",
      "         <div class=\"component-lazy pending\" data-component=\"Lazy\" data-reactid=\"168\">\n",
      "         </div>\n",
      "        </div>\n",
      "       </a>\n",
      "       <a class=\"view-complete-item\" data-reactid=\"169\" href=\"/expert-advice/dirty-secrets-of-a-home-cook-article\" itemprop=\"url\" title=\"Dirty Secrets of a Home Cook\">\n",
      "        <!-- react-text: 170 -->\n",
      "        View “\n",
      "        <!-- /react-text -->\n",
      "        <!-- react-text: 171 -->\n",
      "        Dirty Secrets of a Home Cook\n",
      "        <!-- /react-text -->\n",
      "        <!-- react-text: 172 -->\n",
      "        ”\n",
      "        <!-- /react-text -->\n",
      "       </a>\n",
      "      </article>\n",
      "      <article class=\"article-content-card\" data-has-quickview=\"false\" data-index=\"5\" data-reactid=\"173\" itemscope=\"\" itemtype=\"https://schema.org/ItemPage\">\n",
      "       <header class=\"summary\" data-reactid=\"174\">\n",
      "        <strong class=\"tag\" data-reactid=\"175\">\n",
      "         article\n",
      "        </strong>\n",
      "        <h4 class=\"hed\" data-reactid=\"176\" data-truncate=\"3\" itemprop=\"name\">\n",
      "         <a data-reactid=\"177\" href=\"/ingredients/frozen-ethnic-international-thai-chinese-indian-ingredients-article\">\n",
      "          The International Ingredients You Need in Your Freezer Right Now\n",
      "         </a>\n",
      "        </h4>\n",
      "        <p class=\"dek\" data-reactid=\"178\" data-truncate=\"1\">\n",
      "         With these ingredients always on hand, there's no Thai (or Indian) (or Chinese) recipe you can't try.\n",
      "        </p>\n",
      "       </header>\n",
      "       <a class=\"photo-link\" data-reactid=\"179\" href=\"/ingredients/frozen-ethnic-international-thai-chinese-indian-ingredients-article\">\n",
      "        <div class=\"photo-wrap\" data-reactid=\"180\">\n",
      "         <div class=\"component-lazy pending\" data-component=\"Lazy\" data-reactid=\"181\">\n",
      "         </div>\n",
      "        </div>\n",
      "       </a>\n",
      "       <a class=\"view-complete-item\" data-reactid=\"182\" href=\"/ingredients/frozen-ethnic-international-thai-chinese-indian-ingredients-article\" itemprop=\"url\" title=\"The International Ingredients You Need in Your Freezer Right Now\">\n",
      "        <!-- react-text: 183 -->\n",
      "        View “\n",
      "        <!-- /react-text -->\n",
      "        <!-- react-text: 184 -->\n",
      "        The International Ingredients You Need in Your Freezer Right Now\n",
      "        <!-- /react-text -->\n",
      "        <!-- react-text: 185 -->\n",
      "        ”\n",
      "        <!-- /react-text -->\n",
      "       </a>\n",
      "      </article>\n",
      "      <article class=\"article-content-card\" data-has-quickview=\"false\" data-index=\"6\" data-reactid=\"186\" itemscope=\"\" itemtype=\"https://schema.org/ItemPage\">\n",
      "       <header class=\"summary\" data-reactid=\"187\">\n",
      "        <strong class=\"tag\" data-reactid=\"188\">\n",
      "         article\n",
      "        </strong>\n",
      "        <h4 class=\"hed\" data-reactid=\"189\" data-truncate=\"3\" itemprop=\"name\">\n",
      "         <a data-reactid=\"190\" href=\"/expert-advice/why-the-freezer-aisle-is-a-woks-best-friend-article\">\n",
      "          Frozen Vegetables Are a Wok's Best Friend\n",
      "         </a>\n",
      "        </h4>\n",
      "        <p class=\"dek\" data-reactid=\"191\" data-truncate=\"1\">\n",
      "         All of the flavor, none of the prep work.\n",
      "        </p>\n",
      "       </header>\n",
      "       <a class=\"photo-link\" data-reactid=\"192\" href=\"/expert-advice/why-the-freezer-aisle-is-a-woks-best-friend-article\">\n",
      "        <div class=\"photo-wrap\" data-reactid=\"193\">\n",
      "         <div class=\"component-lazy pending\" data-component=\"Lazy\" data-reactid=\"194\">\n",
      "         </div>\n",
      "        </div>\n",
      "       </a>\n",
      "       <a class=\"view-complete-item\" data-reactid=\"195\" href=\"/expert-advice/why-the-freezer-aisle-is-a-woks-best-friend-article\" itemprop=\"url\" title=\"Frozen Vegetables Are a Wok's Best Friend\">\n",
      "        <!-- react-text: 196 -->\n",
      "        View “\n",
      "        <!-- /react-text -->\n",
      "        <!-- react-text: 197 -->\n",
      "        Frozen Vegetables Are a Wok's Best Friend\n",
      "        <!-- /react-text -->\n",
      "        <!-- react-text: 198 -->\n",
      "        ”\n",
      "        <!-- /react-text -->\n",
      "       </a>\n",
      "      </article>\n",
      "      <article class=\"article-content-card\" data-has-quickview=\"false\" data-index=\"7\" data-reactid=\"199\" itemscope=\"\" itemtype=\"https://schema.org/ItemPage\">\n",
      "       <header class=\"summary\" data-reactid=\"200\">\n",
      "        <strong class=\"tag\" data-reactid=\"201\">\n",
      "         article\n",
      "        </strong>\n",
      "        <h4 class=\"hed\" data-reactid=\"202\" data-truncate=\"3\" itemprop=\"name\">\n",
      "         <a data-reactid=\"203\" href=\"/recipes-menus/five-spaghetti-workday-lunches-recipes-article\">\n",
      "          How to Turn 1 Box of Spaghetti Into  5 Workday Lunches\n",
      "         </a>\n",
      "        </h4>\n",
      "        <p class=\"dek\" data-reactid=\"204\" data-truncate=\"1\">\n",
      "         Love spaghetti? Here are five ways to turn a box of the quick-cooking pasta into lunch.\n",
      "        </p>\n",
      "       </header>\n",
      "       <a class=\"photo-link\" data-reactid=\"205\" href=\"/recipes-menus/five-spaghetti-workday-lunches-recipes-article\">\n",
      "        <div class=\"photo-wrap\" data-reactid=\"206\">\n",
      "         <div class=\"component-lazy pending\" data-component=\"Lazy\" data-reactid=\"207\">\n",
      "         </div>\n",
      "        </div>\n",
      "       </a>\n",
      "       <a class=\"view-complete-item\" data-reactid=\"208\" href=\"/recipes-menus/five-spaghetti-workday-lunches-recipes-article\" itemprop=\"url\" title=\"How to Turn 1 Box of Spaghetti Into  5 Workday Lunches\">\n",
      "        <!-- react-text: 209 -->\n",
      "        View “\n",
      "        <!-- /react-text -->\n",
      "        <!-- react-text: 210 -->\n",
      "        How to Turn 1 Box of Spaghetti Into  5 Workday Lunches\n",
      "        <!-- /react-text -->\n",
      "        <!-- react-text: 211 -->\n",
      "        ”\n",
      "        <!-- /react-text -->\n",
      "       </a>\n",
      "      </article>\n",
      "      <article class=\"article-content-card\" data-has-quickview=\"false\" data-index=\"8\" data-reactid=\"212\" itemscope=\"\" itemtype=\"https://schema.org/ItemPage\">\n",
      "       <header class=\"summary\" data-reactid=\"213\">\n",
      "        <strong class=\"tag\" data-reactid=\"214\">\n",
      "         article\n",
      "        </strong>\n",
      "        <h4 class=\"hed\" data-reactid=\"215\" data-truncate=\"3\" itemprop=\"name\">\n",
      "         <a data-reactid=\"216\" href=\"/ingredients/the-expert-shoppers-guide-to-japanese-noodles-article\">\n",
      "          The Expert Shopper's Guide to Japanese Noodles\n",
      "         </a>\n",
      "        </h4>\n",
      "        <p class=\"dek\" data-reactid=\"217\" data-truncate=\"1\">\n",
      "         What to look for when buying—and cooking—udon, soba, somen, and more.\n",
      "        </p>\n",
      "       </header>\n",
      "       <a class=\"photo-link\" data-reactid=\"218\" href=\"/ingredients/the-expert-shoppers-guide-to-japanese-noodles-article\">\n",
      "        <div class=\"photo-wrap\" data-reactid=\"219\">\n",
      "         <div class=\"component-lazy pending\" data-component=\"Lazy\" data-reactid=\"220\">\n",
      "         </div>\n",
      "        </div>\n",
      "       </a>\n",
      "       <a class=\"view-complete-item\" data-reactid=\"221\" href=\"/ingredients/the-expert-shoppers-guide-to-japanese-noodles-article\" itemprop=\"url\" title=\"The Expert Shopper's Guide to Japanese Noodles\">\n",
      "        <!-- react-text: 222 -->\n",
      "        View “\n",
      "        <!-- /react-text -->\n",
      "        <!-- react-text: 223 -->\n",
      "        The Expert Shopper's Guide to Japanese Noodles\n",
      "        <!-- /react-text -->\n",
      "        <!-- react-text: 224 -->\n",
      "        ”\n",
      "        <!-- /react-text -->\n",
      "       </a>\n",
      "      </article>\n",
      "      <article class=\"article-content-card\" data-has-quickview=\"false\" data-index=\"9\" data-reactid=\"225\" itemscope=\"\" itemtype=\"https://schema.org/ItemPage\">\n",
      "       <header class=\"summary\" data-reactid=\"226\">\n",
      "        <strong class=\"tag\" data-reactid=\"227\">\n",
      "         article\n",
      "        </strong>\n",
      "        <h4 class=\"hed\" data-reactid=\"228\" data-truncate=\"3\" itemprop=\"name\">\n",
      "         <a data-reactid=\"229\" href=\"/recipes-menus/7-delicious-ways-to-upgrade-your-smoothies-anytime-article\">\n",
      "          7 Delicious Ways to Upgrade Your Smoothies Anytime\n",
      "         </a>\n",
      "        </h4>\n",
      "        <p class=\"dek\" data-reactid=\"230\" data-truncate=\"1\">\n",
      "         Need to shake up your smoothie routine? These game-changing recipes and easy upgrades will turn your blend from blah to blissful in a matter of seconds.\n",
      "        </p>\n",
      "       </header>\n",
      "       <a class=\"photo-link\" data-reactid=\"231\" href=\"/recipes-menus/7-delicious-ways-to-upgrade-your-smoothies-anytime-article\">\n",
      "        <div class=\"photo-wrap\" data-reactid=\"232\">\n",
      "         <div class=\"component-lazy pending\" data-component=\"Lazy\" data-reactid=\"233\">\n",
      "         </div>\n",
      "        </div>\n",
      "       </a>\n",
      "       <a class=\"view-complete-item\" data-reactid=\"234\" href=\"/recipes-menus/7-delicious-ways-to-upgrade-your-smoothies-anytime-article\" itemprop=\"url\" title=\"7 Delicious Ways to Upgrade Your Smoothies Anytime\">\n",
      "        <!-- react-text: 235 -->\n",
      "        View “\n",
      "        <!-- /react-text -->\n",
      "        <!-- react-text: 236 -->\n",
      "        7 Delicious Ways to Upgrade Your Smoothies Anytime\n",
      "        <!-- /react-text -->\n",
      "        <!-- react-text: 237 -->\n",
      "        ”\n",
      "        <!-- /react-text -->\n",
      "       </a>\n",
      "      </article>\n",
      "      <article class=\"recipe-content-card\" data-has-quickview=\"false\" data-index=\"10\" data-reactid=\"238\" itemscope=\"\" itemtype=\"https://schema.org/Recipe\">\n",
      "       <header class=\"summary\" data-reactid=\"239\">\n",
      "        <strong class=\"tag\" data-reactid=\"240\">\n",
      "         recipe\n",
      "        </strong>\n",
      "        <h4 class=\"hed\" data-reactid=\"241\" data-truncate=\"3\" itemprop=\"name\">\n",
      "         <a data-reactid=\"242\" href=\"/recipes/food/views/chinese-egg-noodles-with-smoked-duck-and-snow-peas-354302\">\n",
      "          Chinese Egg Noodles with Smoked Duck and Snow Peas\n",
      "         </a>\n",
      "        </h4>\n",
      "        <p class=\"dek\" data-reactid=\"243\" data-truncate=\"1\">\n",
      "         If you live near a Chinese market, pick up barbecued or smoked duck there. Otherwise, smoked chicken or turkey from the supermarket (or leftover roast chicken) would be terrific tossed with the noodles. To make it a meal, add a platter of chilled silken tofu. Drizzle the tofu with soy sauce and chili sauce, then top with chopped green onions. Coconut ice cream with fresh berries and lychees would make a nice dessert.\n",
      "        </p>\n",
      "        <dl class=\"recipes-ratings-summary\" data-reactid=\"244\" data-reviews-count=\"4\" data-reviews-rating=\"2.25\" itemprop=\"aggregateRating\" itemscope=\"\" itemtype=\"https://schema.org/AggregateRating\">\n",
      "         <dt class=\"rating-label\" data-reactid=\"245\">\n",
      "          Average user rating\n",
      "         </dt>\n",
      "         <span class=\"reviews-count-container\" data-reactid=\"246\">\n",
      "          <dd class=\"rating\" data-rating=\"2.5\" data-reactid=\"247\">\n",
      "           <span data-reactid=\"248\" itemprop=\"ratingValue\">\n",
      "            2.5\n",
      "           </span>\n",
      "           <!-- react-text: 249 -->\n",
      "           /\n",
      "           <!-- /react-text -->\n",
      "           <span data-reactid=\"250\" itemprop=\"bestRating\">\n",
      "            4\n",
      "           </span>\n",
      "           <meta content=\"0\" data-reactid=\"251\" itemprop=\"worstRating\"/>\n",
      "          </dd>\n",
      "          <dt class=\"reviews-count-label\" data-reactid=\"252\">\n",
      "           Reviews\n",
      "          </dt>\n",
      "          <dd class=\"reviews-count\" data-reactid=\"253\" itemprop=\"reviewCount\">\n",
      "           4\n",
      "          </dd>\n",
      "         </span>\n",
      "         <span class=\"make-again-container\" data-reactid=\"254\">\n",
      "          <dt class=\"make-again-percentage-label\" data-reactid=\"255\">\n",
      "           Percentage of reviewers who will make this recipe again\n",
      "          </dt>\n",
      "          <dd class=\"make-again-percentage\" data-reactid=\"256\">\n",
      "           <!-- react-text: 257 -->\n",
      "           50\n",
      "           <!-- /react-text -->\n",
      "           <!-- react-text: 258 -->\n",
      "           %\n",
      "           <!-- /react-text -->\n",
      "          </dd>\n",
      "         </span>\n",
      "        </dl>\n",
      "       </header>\n",
      "       <a class=\"photo-link\" data-reactid=\"259\" href=\"/recipes/food/views/chinese-egg-noodles-with-smoked-duck-and-snow-peas-354302\">\n",
      "        <div class=\"photo-wrap\" data-reactid=\"260\">\n",
      "         <div class=\"component-lazy pending\" data-component=\"Lazy\" data-reactid=\"261\">\n",
      "         </div>\n",
      "        </div>\n",
      "       </a>\n",
      "       <a class=\"view-complete-item\" data-reactid=\"262\" href=\"/recipes/food/views/chinese-egg-noodles-with-smoked-duck-and-snow-peas-354302\" itemprop=\"url\" title=\"Chinese Egg Noodles with Smoked Duck and Snow Peas\">\n",
      "        <!-- react-text: 263 -->\n",
      "        View “\n",
      "        <!-- /react-text -->\n",
      "        <!-- react-text: 264 -->\n",
      "        Chinese Egg Noodles with Smoked Duck and Snow Peas\n",
      "        <!-- /react-text -->\n",
      "        <!-- react-text: 265 -->\n",
      "        ”\n",
      "        <!-- /react-text -->\n",
      "       </a>\n",
      "       <div class=\"recipe-panel \" data-reactid=\"266\">\n",
      "        <a class=\"view-complete-item\" data-reactid=\"267\" href=\"/recipes/food/views/chinese-egg-noodles-with-smoked-duck-and-snow-peas-354302\">\n",
      "         View Recipe\n",
      "        </a>\n",
      "        <div class=\"controls\" data-reactid=\"268\">\n",
      "         <a class=\"show-quick-view\" data-reactid=\"269\" href=\"/recipes/food/views/chinese-egg-noodles-with-smoked-duck-and-snow-peas-354302\" title=\"Chinese Egg Noodles with Smoked Duck and Snow Peas\">\n",
      "          Quick view\n",
      "         </a>\n",
      "         <a class=\"toggle-compare-state\" data-reactid=\"270\">\n",
      "          Compare Recipe\n",
      "         </a>\n",
      "        </div>\n",
      "       </div>\n",
      "      </article>\n",
      "      <article class=\"recipe-content-card\" data-has-quickview=\"false\" data-index=\"11\" data-reactid=\"271\" itemscope=\"\" itemtype=\"https://schema.org/Recipe\">\n",
      "       <header class=\"summary\" data-reactid=\"272\">\n",
      "        <strong class=\"tag\" data-reactid=\"273\">\n",
      "         recipe\n",
      "        </strong>\n",
      "        <h4 class=\"hed\" data-reactid=\"274\" data-truncate=\"3\" itemprop=\"name\">\n",
      "         <a data-reactid=\"275\" href=\"/recipes/food/views/steamed-chicken-with-xiao-fans-special-sauce-242313\">\n",
      "          Steamed Chicken with Xiao Fan's Special Sauce\n",
      "         </a>\n",
      "        </h4>\n",
      "        <p class=\"dek\" data-reactid=\"276\" data-truncate=\"1\">\n",
      "         Xiao Fan's spicy sauce will transform not only this steamed chicken but also plain rice, noodles, tofu, even grilled steak. The sauce can be doubled and leftovers chilled for a week. To reheat, add a bit of broth or water and simmer for about a minute.\n",
      "        </p>\n",
      "        <dl class=\"recipes-ratings-summary\" data-reactid=\"277\" data-reviews-count=\"5\" data-reviews-rating=\"3.33\" itemprop=\"aggregateRating\" itemscope=\"\" itemtype=\"https://schema.org/AggregateRating\">\n",
      "         <dt class=\"rating-label\" data-reactid=\"278\">\n",
      "          Average user rating\n",
      "         </dt>\n",
      "         <span class=\"reviews-count-container\" data-reactid=\"279\">\n",
      "          <dd class=\"rating\" data-rating=\"3.5\" data-reactid=\"280\">\n",
      "           <span data-reactid=\"281\" itemprop=\"ratingValue\">\n",
      "            3.5\n",
      "           </span>\n",
      "           <!-- react-text: 282 -->\n",
      "           /\n",
      "           <!-- /react-text -->\n",
      "           <span data-reactid=\"283\" itemprop=\"bestRating\">\n",
      "            4\n",
      "           </span>\n",
      "           <meta content=\"0\" data-reactid=\"284\" itemprop=\"worstRating\"/>\n",
      "          </dd>\n",
      "          <dt class=\"reviews-count-label\" data-reactid=\"285\">\n",
      "           Reviews\n",
      "          </dt>\n",
      "          <dd class=\"reviews-count\" data-reactid=\"286\" itemprop=\"reviewCount\">\n",
      "           5\n",
      "          </dd>\n",
      "         </span>\n",
      "         <span class=\"make-again-container\" data-reactid=\"287\">\n",
      "          <dt class=\"make-again-percentage-label\" data-reactid=\"288\">\n",
      "           Percentage of reviewers who will make this recipe again\n",
      "          </dt>\n",
      "          <dd class=\"make-again-percentage\" data-reactid=\"289\">\n",
      "           <!-- react-text: 290 -->\n",
      "           60\n",
      "           <!-- /react-text -->\n",
      "           <!-- react-text: 291 -->\n",
      "           %\n",
      "           <!-- /react-text -->\n",
      "          </dd>\n",
      "         </span>\n",
      "        </dl>\n",
      "       </header>\n",
      "       <a class=\"photo-link\" data-reactid=\"292\" href=\"/recipes/food/views/steamed-chicken-with-xiao-fans-special-sauce-242313\">\n",
      "        <div class=\"photo-wrap\" data-reactid=\"293\">\n",
      "         <div class=\"component-lazy pending\" data-component=\"Lazy\" data-reactid=\"294\">\n",
      "         </div>\n",
      "        </div>\n",
      "       </a>\n",
      "       <a class=\"view-complete-item\" data-reactid=\"295\" href=\"/recipes/food/views/steamed-chicken-with-xiao-fans-special-sauce-242313\" itemprop=\"url\" title=\"Steamed Chicken with Xiao Fan's Special Sauce\">\n",
      "        <!-- react-text: 296 -->\n",
      "        View “\n",
      "        <!-- /react-text -->\n",
      "        <!-- react-text: 297 -->\n",
      "        Steamed Chicken with Xiao Fan's Special Sauce\n",
      "        <!-- /react-text -->\n",
      "        <!-- react-text: 298 -->\n",
      "        ”\n",
      "        <!-- /react-text -->\n",
      "       </a>\n",
      "       <div class=\"recipe-panel \" data-reactid=\"299\">\n",
      "        <a class=\"view-complete-item\" data-reactid=\"300\" href=\"/recipes/food/views/steamed-chicken-with-xiao-fans-special-sauce-242313\">\n",
      "         View Recipe\n",
      "        </a>\n",
      "        <div class=\"controls\" data-reactid=\"301\">\n",
      "         <a class=\"show-quick-view\" data-reactid=\"302\" href=\"/recipes/food/views/steamed-chicken-with-xiao-fans-special-sauce-242313\" title=\"Steamed Chicken with Xiao Fan's Special Sauce\">\n",
      "          Quick view\n",
      "         </a>\n",
      "         <a class=\"toggle-compare-state\" data-reactid=\"303\">\n",
      "          Compare Recipe\n",
      "         </a>\n",
      "        </div>\n",
      "       </div>\n",
      "      </article>\n",
      "      <article class=\"article-content-card\" data-has-quickview=\"false\" data-index=\"12\" data-reactid=\"304\" itemscope=\"\" itemtype=\"https://schema.org/ItemPage\">\n",
      "       <header class=\"summary\" data-reactid=\"305\">\n",
      "        <strong class=\"tag\" data-reactid=\"306\">\n",
      "         article\n",
      "        </strong>\n",
      "        <h4 class=\"hed\" data-reactid=\"307\" data-truncate=\"3\" itemprop=\"name\">\n",
      "         <a data-reactid=\"308\" href=\"/expert-advice/how-to-throw-a-vegan-dinner-party-article\">\n",
      "          How to (Dinner) Party with a Vegan\n",
      "         </a>\n",
      "        </h4>\n",
      "        <p class=\"dek\" data-reactid=\"309\" data-truncate=\"1\">\n",
      "         Great news—your vegan friend is coming over for dinner! And...so is your carnivore pal. Here, vegan bloggers tip you off on how to satisfy both.\n",
      "        </p>\n",
      "       </header>\n",
      "       <a class=\"photo-link\" data-reactid=\"310\" href=\"/expert-advice/how-to-throw-a-vegan-dinner-party-article\">\n",
      "        <div class=\"photo-wrap\" data-reactid=\"311\">\n",
      "         <div class=\"component-lazy pending\" data-component=\"Lazy\" data-reactid=\"312\">\n",
      "         </div>\n",
      "        </div>\n",
      "       </a>\n",
      "       <a class=\"view-complete-item\" data-reactid=\"313\" href=\"/expert-advice/how-to-throw-a-vegan-dinner-party-article\" itemprop=\"url\" title=\"How to (Dinner) Party with a Vegan\">\n",
      "        <!-- react-text: 314 -->\n",
      "        View “\n",
      "        <!-- /react-text -->\n",
      "        <!-- react-text: 315 -->\n",
      "        How to (Dinner) Party with a Vegan\n",
      "        <!-- /react-text -->\n",
      "        <!-- react-text: 316 -->\n",
      "        ”\n",
      "        <!-- /react-text -->\n",
      "       </a>\n",
      "      </article>\n",
      "      <article class=\"recipe-content-card\" data-has-quickview=\"false\" data-index=\"13\" data-reactid=\"317\" itemscope=\"\" itemtype=\"https://schema.org/Recipe\">\n",
      "       <header class=\"summary\" data-reactid=\"318\">\n",
      "        <strong class=\"tag\" data-reactid=\"319\">\n",
      "         recipe\n",
      "        </strong>\n",
      "        <h4 class=\"hed\" data-reactid=\"320\" data-truncate=\"3\" itemprop=\"name\">\n",
      "         <a data-reactid=\"321\" href=\"/recipes/food/views/scallop-and-corn-pot-stickers-11846\">\n",
      "          Scallop and Corn Pot Stickers\n",
      "         </a>\n",
      "        </h4>\n",
      "        <dl class=\"recipes-ratings-summary\" data-reactid=\"322\" data-reviews-count=\"9\" data-reviews-rating=\"3.5\" itemprop=\"aggregateRating\" itemscope=\"\" itemtype=\"https://schema.org/AggregateRating\">\n",
      "         <dt class=\"rating-label\" data-reactid=\"323\">\n",
      "          Average user rating\n",
      "         </dt>\n",
      "         <span class=\"reviews-count-container\" data-reactid=\"324\">\n",
      "          <dd class=\"rating\" data-rating=\"3.5\" data-reactid=\"325\">\n",
      "           <span data-reactid=\"326\" itemprop=\"ratingValue\">\n",
      "            3.5\n",
      "           </span>\n",
      "           <!-- react-text: 327 -->\n",
      "           /\n",
      "           <!-- /react-text -->\n",
      "           <span data-reactid=\"328\" itemprop=\"bestRating\">\n",
      "            4\n",
      "           </span>\n",
      "           <meta content=\"0\" data-reactid=\"329\" itemprop=\"worstRating\"/>\n",
      "          </dd>\n",
      "          <dt class=\"reviews-count-label\" data-reactid=\"330\">\n",
      "           Reviews\n",
      "          </dt>\n",
      "          <dd class=\"reviews-count\" data-reactid=\"331\" itemprop=\"reviewCount\">\n",
      "           9\n",
      "          </dd>\n",
      "         </span>\n",
      "         <span class=\"make-again-container\" data-reactid=\"332\">\n",
      "          <dt class=\"make-again-percentage-label\" data-reactid=\"333\">\n",
      "           Percentage of reviewers who will make this recipe again\n",
      "          </dt>\n",
      "          <dd class=\"make-again-percentage\" data-reactid=\"334\">\n",
      "           <!-- react-text: 335 -->\n",
      "           100\n",
      "           <!-- /react-text -->\n",
      "           <!-- react-text: 336 -->\n",
      "           %\n",
      "           <!-- /react-text -->\n",
      "          </dd>\n",
      "         </span>\n",
      "        </dl>\n",
      "       </header>\n",
      "       <a class=\"photo-link\" data-reactid=\"337\" href=\"/recipes/food/views/scallop-and-corn-pot-stickers-11846\">\n",
      "        <div class=\"photo-wrap\" data-reactid=\"338\">\n",
      "         <div class=\"component-lazy pending\" data-component=\"Lazy\" data-reactid=\"339\">\n",
      "         </div>\n",
      "        </div>\n",
      "       </a>\n",
      "       <a class=\"view-complete-item\" data-reactid=\"340\" href=\"/recipes/food/views/scallop-and-corn-pot-stickers-11846\" itemprop=\"url\" title=\"Scallop and Corn Pot Stickers\">\n",
      "        <!-- react-text: 341 -->\n",
      "        View “\n",
      "        <!-- /react-text -->\n",
      "        <!-- react-text: 342 -->\n",
      "        Scallop and Corn Pot Stickers\n",
      "        <!-- /react-text -->\n",
      "        <!-- react-text: 343 -->\n",
      "        ”\n",
      "        <!-- /react-text -->\n",
      "       </a>\n",
      "       <div class=\"recipe-panel \" data-reactid=\"344\">\n",
      "        <a class=\"view-complete-item\" data-reactid=\"345\" href=\"/recipes/food/views/scallop-and-corn-pot-stickers-11846\">\n",
      "         View Recipe\n",
      "        </a>\n",
      "        <div class=\"controls\" data-reactid=\"346\">\n",
      "         <a class=\"show-quick-view\" data-reactid=\"347\" href=\"/recipes/food/views/scallop-and-corn-pot-stickers-11846\" title=\"Scallop and Corn Pot Stickers\">\n",
      "          Quick view\n",
      "         </a>\n",
      "         <a class=\"toggle-compare-state\" data-reactid=\"348\">\n",
      "          Compare Recipe\n",
      "         </a>\n",
      "        </div>\n",
      "       </div>\n",
      "      </article>\n",
      "      <article class=\"recipe-content-card\" data-has-quickview=\"false\" data-index=\"14\" data-reactid=\"349\" itemscope=\"\" itemtype=\"https://schema.org/Recipe\">\n",
      "       <header class=\"summary\" data-reactid=\"350\">\n",
      "        <strong class=\"tag\" data-reactid=\"351\">\n",
      "         recipe\n",
      "        </strong>\n",
      "        <h4 class=\"hed\" data-reactid=\"352\" data-truncate=\"3\" itemprop=\"name\">\n",
      "         <a data-reactid=\"353\" href=\"/recipes/food/views/vegan-chocolate-cheesecake-355990\">\n",
      "          Vegan Chocolate Cheesecake\n",
      "         </a>\n",
      "        </h4>\n",
      "        <p class=\"dek\" data-reactid=\"354\" data-truncate=\"1\">\n",
      "         Combining bittersweet chocolate and cocoa powder intensifies the chocolaty essence of this cheesecake to the nth degree. Silken tofu brings a delicate creaminess to the filling while also taking the place of eggs by acting as a binding agent.\n",
      "        </p>\n",
      "        <dl class=\"recipes-ratings-summary\" data-reactid=\"355\" data-reviews-count=\"14\" data-reviews-rating=\"2.88\" itemprop=\"aggregateRating\" itemscope=\"\" itemtype=\"https://schema.org/AggregateRating\">\n",
      "         <dt class=\"rating-label\" data-reactid=\"356\">\n",
      "          Average user rating\n",
      "         </dt>\n",
      "         <span class=\"reviews-count-container\" data-reactid=\"357\">\n",
      "          <dd class=\"rating\" data-rating=\"3\" data-reactid=\"358\">\n",
      "           <span data-reactid=\"359\" itemprop=\"ratingValue\">\n",
      "            3\n",
      "           </span>\n",
      "           <!-- react-text: 360 -->\n",
      "           /\n",
      "           <!-- /react-text -->\n",
      "           <span data-reactid=\"361\" itemprop=\"bestRating\">\n",
      "            4\n",
      "           </span>\n",
      "           <meta content=\"0\" data-reactid=\"362\" itemprop=\"worstRating\"/>\n",
      "          </dd>\n",
      "          <dt class=\"reviews-count-label\" data-reactid=\"363\">\n",
      "           Reviews\n",
      "          </dt>\n",
      "          <dd class=\"reviews-count\" data-reactid=\"364\" itemprop=\"reviewCount\">\n",
      "           14\n",
      "          </dd>\n",
      "         </span>\n",
      "         <span class=\"make-again-container\" data-reactid=\"365\">\n",
      "          <dt class=\"make-again-percentage-label\" data-reactid=\"366\">\n",
      "           Percentage of reviewers who will make this recipe again\n",
      "          </dt>\n",
      "          <dd class=\"make-again-percentage\" data-reactid=\"367\">\n",
      "           <!-- react-text: 368 -->\n",
      "           64\n",
      "           <!-- /react-text -->\n",
      "           <!-- react-text: 369 -->\n",
      "           %\n",
      "           <!-- /react-text -->\n",
      "          </dd>\n",
      "         </span>\n",
      "        </dl>\n",
      "       </header>\n",
      "       <a class=\"photo-link\" data-reactid=\"370\" href=\"/recipes/food/views/vegan-chocolate-cheesecake-355990\">\n",
      "        <div class=\"photo-wrap\" data-reactid=\"371\">\n",
      "         <div class=\"component-lazy pending\" data-component=\"Lazy\" data-reactid=\"372\">\n",
      "         </div>\n",
      "        </div>\n",
      "       </a>\n",
      "       <a class=\"view-complete-item\" data-reactid=\"373\" href=\"/recipes/food/views/vegan-chocolate-cheesecake-355990\" itemprop=\"url\" title=\"Vegan Chocolate Cheesecake\">\n",
      "        <!-- react-text: 374 -->\n",
      "        View “\n",
      "        <!-- /react-text -->\n",
      "        <!-- react-text: 375 -->\n",
      "        Vegan Chocolate Cheesecake\n",
      "        <!-- /react-text -->\n",
      "        <!-- react-text: 376 -->\n",
      "        ”\n",
      "        <!-- /react-text -->\n",
      "       </a>\n",
      "       <div class=\"recipe-panel \" data-reactid=\"377\">\n",
      "        <a class=\"view-complete-item\" data-reactid=\"378\" href=\"/recipes/food/views/vegan-chocolate-cheesecake-355990\">\n",
      "         View Recipe\n",
      "        </a>\n",
      "        <div class=\"controls\" data-reactid=\"379\">\n",
      "         <a class=\"show-quick-view\" data-reactid=\"380\" href=\"/recipes/food/views/vegan-chocolate-cheesecake-355990\" title=\"Vegan Chocolate Cheesecake\">\n",
      "          Quick view\n",
      "         </a>\n",
      "         <a class=\"toggle-compare-state\" data-reactid=\"381\">\n",
      "          Compare Recipe\n",
      "         </a>\n",
      "        </div>\n",
      "       </div>\n",
      "      </article>\n",
      "      <article class=\"recipe-content-card\" data-has-quickview=\"false\" data-index=\"15\" data-reactid=\"382\" itemscope=\"\" itemtype=\"https://schema.org/Recipe\">\n",
      "       <header class=\"summary\" data-reactid=\"383\">\n",
      "        <strong class=\"tag\" data-reactid=\"384\">\n",
      "         recipe\n",
      "        </strong>\n",
      "        <h4 class=\"hed\" data-reactid=\"385\" data-truncate=\"3\" itemprop=\"name\">\n",
      "         <a data-reactid=\"386\" href=\"/recipes/food/views/meyer-lemon-cream-pies-239225\">\n",
      "          Meyer Lemon Cream Pies\n",
      "         </a>\n",
      "        </h4>\n",
      "        <p class=\"dek\" data-reactid=\"387\" data-truncate=\"1\">\n",
      "         A Meyer lemon is a cross between a lemon and a mandarin orange. If you can't find any, substitute regular lemons. This pie's decadent cream filling is made from protein-rich tofu.\n",
      "        </p>\n",
      "        <dl class=\"recipes-ratings-summary\" data-reactid=\"388\" data-reviews-count=\"8\" data-reviews-rating=\"2.5\" itemprop=\"aggregateRating\" itemscope=\"\" itemtype=\"https://schema.org/AggregateRating\">\n",
      "         <dt class=\"rating-label\" data-reactid=\"389\">\n",
      "          Average user rating\n",
      "         </dt>\n",
      "         <span class=\"reviews-count-container\" data-reactid=\"390\">\n",
      "          <dd class=\"rating\" data-rating=\"2.5\" data-reactid=\"391\">\n",
      "           <span data-reactid=\"392\" itemprop=\"ratingValue\">\n",
      "            2.5\n",
      "           </span>\n",
      "           <!-- react-text: 393 -->\n",
      "           /\n",
      "           <!-- /react-text -->\n",
      "           <span data-reactid=\"394\" itemprop=\"bestRating\">\n",
      "            4\n",
      "           </span>\n",
      "           <meta content=\"0\" data-reactid=\"395\" itemprop=\"worstRating\"/>\n",
      "          </dd>\n",
      "          <dt class=\"reviews-count-label\" data-reactid=\"396\">\n",
      "           Reviews\n",
      "          </dt>\n",
      "          <dd class=\"reviews-count\" data-reactid=\"397\" itemprop=\"reviewCount\">\n",
      "           8\n",
      "          </dd>\n",
      "         </span>\n",
      "         <span class=\"make-again-container\" data-reactid=\"398\">\n",
      "          <dt class=\"make-again-percentage-label\" data-reactid=\"399\">\n",
      "           Percentage of reviewers who will make this recipe again\n",
      "          </dt>\n",
      "          <dd class=\"make-again-percentage\" data-reactid=\"400\">\n",
      "           <!-- react-text: 401 -->\n",
      "           50\n",
      "           <!-- /react-text -->\n",
      "           <!-- react-text: 402 -->\n",
      "           %\n",
      "           <!-- /react-text -->\n",
      "          </dd>\n",
      "         </span>\n",
      "        </dl>\n",
      "       </header>\n",
      "       <a class=\"photo-link\" data-reactid=\"403\" href=\"/recipes/food/views/meyer-lemon-cream-pies-239225\">\n",
      "        <div class=\"photo-wrap\" data-reactid=\"404\">\n",
      "         <div class=\"component-lazy pending\" data-component=\"Lazy\" data-reactid=\"405\">\n",
      "         </div>\n",
      "        </div>\n",
      "       </a>\n",
      "       <a class=\"view-complete-item\" data-reactid=\"406\" href=\"/recipes/food/views/meyer-lemon-cream-pies-239225\" itemprop=\"url\" title=\"Meyer Lemon Cream Pies\">\n",
      "        <!-- react-text: 407 -->\n",
      "        View “\n",
      "        <!-- /react-text -->\n",
      "        <!-- react-text: 408 -->\n",
      "        Meyer Lemon Cream Pies\n",
      "        <!-- /react-text -->\n",
      "        <!-- react-text: 409 -->\n",
      "        ”\n",
      "        <!-- /react-text -->\n",
      "       </a>\n",
      "       <div class=\"recipe-panel \" data-reactid=\"410\">\n",
      "        <a class=\"view-complete-item\" data-reactid=\"411\" href=\"/recipes/food/views/meyer-lemon-cream-pies-239225\">\n",
      "         View Recipe\n",
      "        </a>\n",
      "        <div class=\"controls\" data-reactid=\"412\">\n",
      "         <a class=\"show-quick-view\" data-reactid=\"413\" href=\"/recipes/food/views/meyer-lemon-cream-pies-239225\" title=\"Meyer Lemon Cream Pies\">\n",
      "          Quick view\n",
      "         </a>\n",
      "         <a class=\"toggle-compare-state\" data-reactid=\"414\">\n",
      "          Compare Recipe\n",
      "         </a>\n",
      "        </div>\n",
      "       </div>\n",
      "      </article>\n",
      "      <article class=\"recipe-content-card\" data-has-quickview=\"false\" data-index=\"16\" data-reactid=\"415\" itemscope=\"\" itemtype=\"https://schema.org/Recipe\">\n",
      "       <header class=\"summary\" data-reactid=\"416\">\n",
      "        <strong class=\"tag\" data-reactid=\"417\">\n",
      "         recipe\n",
      "        </strong>\n",
      "        <h4 class=\"hed\" data-reactid=\"418\" data-truncate=\"3\" itemprop=\"name\">\n",
      "         <a data-reactid=\"419\" href=\"/recipes/food/views/vegan-mayonnaise-366490\">\n",
      "          Vegan Mayonnaise\n",
      "         </a>\n",
      "        </h4>\n",
      "        <p class=\"dek\" data-reactid=\"420\" data-truncate=\"1\">\n",
      "         Wheat Free\n",
      "No need to worry if your local market doesn't carry egg-free mayo. Just whip up some of your own. This recipe works very well as a sandwich spread or in any mayonnaise-based dressing. As long as you use wheat-free vinegar, this mayo is indeed wheat-free.\n",
      "        </p>\n",
      "        <dl class=\"recipes-ratings-summary\" data-reactid=\"421\" data-reviews-count=\"3\" data-reviews-rating=\"1\" itemprop=\"aggregateRating\" itemscope=\"\" itemtype=\"https://schema.org/AggregateRating\">\n",
      "         <dt class=\"rating-label\" data-reactid=\"422\">\n",
      "          Average user rating\n",
      "         </dt>\n",
      "         <span class=\"reviews-count-container\" data-reactid=\"423\">\n",
      "          <dd class=\"rating\" data-rating=\"1\" data-reactid=\"424\">\n",
      "           <span data-reactid=\"425\" itemprop=\"ratingValue\">\n",
      "            1\n",
      "           </span>\n",
      "           <!-- react-text: 426 -->\n",
      "           /\n",
      "           <!-- /react-text -->\n",
      "           <span data-reactid=\"427\" itemprop=\"bestRating\">\n",
      "            4\n",
      "           </span>\n",
      "           <meta content=\"0\" data-reactid=\"428\" itemprop=\"worstRating\"/>\n",
      "          </dd>\n",
      "          <dt class=\"reviews-count-label\" data-reactid=\"429\">\n",
      "           Reviews\n",
      "          </dt>\n",
      "          <dd class=\"reviews-count\" data-reactid=\"430\" itemprop=\"reviewCount\">\n",
      "           3\n",
      "          </dd>\n",
      "         </span>\n",
      "         <span class=\"make-again-container\" data-reactid=\"431\">\n",
      "          <dt class=\"make-again-percentage-label\" data-reactid=\"432\">\n",
      "           Percentage of reviewers who will make this recipe again\n",
      "          </dt>\n",
      "          <dd class=\"make-again-percentage\" data-reactid=\"433\">\n",
      "           <!-- react-text: 434 -->\n",
      "           33\n",
      "           <!-- /react-text -->\n",
      "           <!-- react-text: 435 -->\n",
      "           %\n",
      "           <!-- /react-text -->\n",
      "          </dd>\n",
      "         </span>\n",
      "        </dl>\n",
      "       </header>\n",
      "       <a class=\"photo-link\" data-reactid=\"436\" href=\"/recipes/food/views/vegan-mayonnaise-366490\">\n",
      "        <div class=\"photo-wrap\" data-reactid=\"437\">\n",
      "         <div class=\"component-lazy pending\" data-component=\"Lazy\" data-reactid=\"438\">\n",
      "         </div>\n",
      "        </div>\n",
      "       </a>\n",
      "       <a class=\"view-complete-item\" data-reactid=\"439\" href=\"/recipes/food/views/vegan-mayonnaise-366490\" itemprop=\"url\" title=\"Vegan Mayonnaise\">\n",
      "        <!-- react-text: 440 -->\n",
      "        View “\n",
      "        <!-- /react-text -->\n",
      "        <!-- react-text: 441 -->\n",
      "        Vegan Mayonnaise\n",
      "        <!-- /react-text -->\n",
      "        <!-- react-text: 442 -->\n",
      "        ”\n",
      "        <!-- /react-text -->\n",
      "       </a>\n",
      "       <div class=\"recipe-panel \" data-reactid=\"443\">\n",
      "        <a class=\"view-complete-item\" data-reactid=\"444\" href=\"/recipes/food/views/vegan-mayonnaise-366490\">\n",
      "         View Recipe\n",
      "        </a>\n",
      "        <div class=\"controls\" data-reactid=\"445\">\n",
      "         <a class=\"show-quick-view\" data-reactid=\"446\" href=\"/recipes/food/views/vegan-mayonnaise-366490\" title=\"Vegan Mayonnaise\">\n",
      "          Quick view\n",
      "         </a>\n",
      "         <a class=\"toggle-compare-state\" data-reactid=\"447\">\n",
      "          Compare Recipe\n",
      "         </a>\n",
      "        </div>\n",
      "       </div>\n",
      "      </article>\n",
      "      <article class=\"recipe-content-card\" data-has-quickview=\"false\" data-index=\"17\" data-reactid=\"448\" itemscope=\"\" itemtype=\"https://schema.org/Recipe\">\n",
      "       <header class=\"summary\" data-reactid=\"449\">\n",
      "        <strong class=\"tag\" data-reactid=\"450\">\n",
      "         recipe\n",
      "        </strong>\n",
      "        <h4 class=\"hed\" data-reactid=\"451\" data-truncate=\"3\" itemprop=\"name\">\n",
      "         <a data-reactid=\"452\" href=\"/recipes/food/views/sea-bean-salad-with-daikon-and-cucumber-51199610\">\n",
      "          Sea Bean Salad with Daikon and Cucumber\n",
      "         </a>\n",
      "        </h4>\n",
      "        <p class=\"dek\" data-reactid=\"453\" data-truncate=\"1\">\n",
      "         When we visited Kyoto, a few hours' ride from Tokyo on the famous Bullet train, we found a little restaurant in the heart of town that won us over with the names of dishes listed on the menu: Firecracker Tofu, Pickled Mixed Radish Salad, and the mysterious sounding Okonomiyaki. The chefs were clearly having fun at this place, and we were blown away by the depth of flavor they achieved with such simple preparations. We threw back some sake and tore through plate after plate of food. This salad is inspired by that meal, featuring quirky sea beans (a seaweed-like swamp/beach vegetable) and the haunting flavor of shiso (Japanese mint). You can find fresh sea beans at a gourmet market. If they're not available, substitute pencil-thin asparagus. Look for shiso in Asian markets, but substitute fresh cilantro if you can't find it.\n",
      "        </p>\n",
      "        <dl class=\"recipes-ratings-summary\" data-reactid=\"454\" data-reviews-count=\"0\" data-reviews-rating=\"0\" itemprop=\"aggregateRating\" itemscope=\"\" itemtype=\"https://schema.org/AggregateRating\">\n",
      "         <dt class=\"rating-label\" data-reactid=\"455\">\n",
      "          Average user rating\n",
      "         </dt>\n",
      "         <span class=\"reviews-count-container\" data-reactid=\"456\">\n",
      "          <dd class=\"rating\" data-rating=\"unrated\" data-reactid=\"457\">\n",
      "           <span data-reactid=\"458\" itemprop=\"ratingValue\">\n",
      "            0\n",
      "           </span>\n",
      "           <!-- react-text: 459 -->\n",
      "           /\n",
      "           <!-- /react-text -->\n",
      "           <span data-reactid=\"460\" itemprop=\"bestRating\">\n",
      "            4\n",
      "           </span>\n",
      "           <meta content=\"0\" data-reactid=\"461\" itemprop=\"worstRating\"/>\n",
      "          </dd>\n",
      "          <dt class=\"reviews-count-label\" data-reactid=\"462\">\n",
      "           Reviews\n",
      "          </dt>\n",
      "          <dd class=\"reviews-count\" data-reactid=\"463\" itemprop=\"reviewCount\">\n",
      "           0\n",
      "          </dd>\n",
      "         </span>\n",
      "         <span class=\"make-again-container\" data-reactid=\"464\">\n",
      "          <dt class=\"make-again-percentage-label\" data-reactid=\"465\">\n",
      "           Percentage of reviewers who will make this recipe again\n",
      "          </dt>\n",
      "          <dd class=\"make-again-percentage\" data-reactid=\"466\">\n",
      "           <!-- react-text: 467 -->\n",
      "           0\n",
      "           <!-- /react-text -->\n",
      "           <!-- react-text: 468 -->\n",
      "           %\n",
      "           <!-- /react-text -->\n",
      "          </dd>\n",
      "         </span>\n",
      "        </dl>\n",
      "       </header>\n",
      "       <a class=\"photo-link\" data-reactid=\"469\" href=\"/recipes/food/views/sea-bean-salad-with-daikon-and-cucumber-51199610\">\n",
      "        <div class=\"photo-wrap\" data-reactid=\"470\">\n",
      "         <div class=\"component-lazy pending\" data-component=\"Lazy\" data-reactid=\"471\">\n",
      "         </div>\n",
      "        </div>\n",
      "       </a>\n",
      "       <a class=\"view-complete-item\" data-reactid=\"472\" href=\"/recipes/food/views/sea-bean-salad-with-daikon-and-cucumber-51199610\" itemprop=\"url\" title=\"Sea Bean Salad with Daikon and Cucumber\">\n",
      "        <!-- react-text: 473 -->\n",
      "        View “\n",
      "        <!-- /react-text -->\n",
      "        <!-- react-text: 474 -->\n",
      "        Sea Bean Salad with Daikon and Cucumber\n",
      "        <!-- /react-text -->\n",
      "        <!-- react-text: 475 -->\n",
      "        ”\n",
      "        <!-- /react-text -->\n",
      "       </a>\n",
      "       <div class=\"recipe-panel \" data-reactid=\"476\">\n",
      "        <a class=\"view-complete-item\" data-reactid=\"477\" href=\"/recipes/food/views/sea-bean-salad-with-daikon-and-cucumber-51199610\">\n",
      "         View Recipe\n",
      "        </a>\n",
      "        <div class=\"controls\" data-reactid=\"478\">\n",
      "         <a class=\"show-quick-view\" data-reactid=\"479\" href=\"/recipes/food/views/sea-bean-salad-with-daikon-and-cucumber-51199610\" title=\"Sea Bean Salad with Daikon and Cucumber\">\n",
      "          Quick view\n",
      "         </a>\n",
      "         <a class=\"toggle-compare-state\" data-reactid=\"480\">\n",
      "          Compare Recipe\n",
      "         </a>\n",
      "        </div>\n",
      "       </div>\n",
      "      </article>\n",
      "      <footer class=\"results-group-footer\" data-reactid=\"481\">\n",
      "       <p class=\"results-message\" data-reactid=\"482\">\n",
      "        <span class=\"matching-count\" data-reactid=\"483\">\n",
      "         3\n",
      "        </span>\n",
      "        <!-- react-text: 484 -->\n",
      "        results remaining for\n",
      "        <!-- /react-text -->\n",
      "        <em class=\"terms\" data-reactid=\"485\">\n",
      "         tofu chill\n",
      "        </em>\n",
      "       </p>\n",
      "      </footer>\n",
      "     </div>\n",
      "     <nav class=\"common-pagination\" data-reactid=\"486\" data-total-pages=\"2\" role=\"navigation\">\n",
      "      <h6 class=\"nav-title\" data-reactid=\"487\">\n",
      "       Pagination\n",
      "      </h6>\n",
      "      <span class=\"the-current-page\" data-reactid=\"488\">\n",
      "       1\n",
      "      </span>\n",
      "      <a class=\"last-page\" data-reactid=\"489\" href=\"/search/tofu chill?page=2\" rel=\"nofollow\" title=\"page 2\">\n",
      "       2\n",
      "      </a>\n",
      "      <a class=\"the-next-page\" data-reactid=\"490\" href=\"/search/tofu chill?page=2\" rel=\"next\" title=\"(next) page 2\">\n",
      "       next\n",
      "      </a>\n",
      "     </nav>\n",
      "    </section>\n",
      "    <!-- react-text: 491 -->\n",
      "    <!-- /react-text -->\n",
      "    <!-- react-empty: 492 -->\n",
      "    <footer class=\"site-footer\" data-reactid=\"493\" role=\"contentinfo\">\n",
      "     <section class=\"corporate-info-wrap\" data-reactid=\"494\">\n",
      "      <span class=\"corporate-info\" data-reactid=\"495\">\n",
      "       <h3 class=\"section-title\" data-reactid=\"496\">\n",
      "        Condé Nast\n",
      "       </h3>\n",
      "       <nav aria-hidden=\"true\" class=\"conde-nast-brands\" data-reactid=\"497\">\n",
      "        <h4 class=\"nav-title\" data-reactid=\"498\">\n",
      "         Condé Nast Websites\n",
      "        </h4>\n",
      "        <ul class=\"conde-nast-brands-list\" data-reactid=\"499\">\n",
      "         <li data-reactid=\"500\">\n",
      "          <a class=\"conde-nast-brand\" data-reactid=\"501\" data-track-location=\"footer\" data-track-source=\"navigation\" href=\"http://www.allure.com\" rel=\"noopener noreferrer\" target=\"_blank\" title=\"Allure\">\n",
      "           Allure\n",
      "          </a>\n",
      "         </li>\n",
      "         <li data-reactid=\"502\">\n",
      "          <a class=\"conde-nast-brand\" data-reactid=\"503\" data-track-location=\"footer\" data-track-source=\"navigation\" href=\"http://www.architecturaldigest.com\" rel=\"noopener noreferrer\" target=\"_blank\" title=\"Architectural Digest\">\n",
      "           Architectural Digest\n",
      "          </a>\n",
      "         </li>\n",
      "         <li data-reactid=\"504\">\n",
      "          <a class=\"conde-nast-brand\" data-reactid=\"505\" data-track-location=\"footer\" data-track-source=\"navigation\" href=\"http://www.arstechnica.com\" rel=\"noopener noreferrer\" target=\"_blank\" title=\"Ars Technica\">\n",
      "           Ars Technica\n",
      "          </a>\n",
      "         </li>\n",
      "         <li data-reactid=\"506\">\n",
      "          <a class=\"conde-nast-brand\" data-reactid=\"507\" data-track-location=\"footer\" data-track-source=\"navigation\" href=\"http://www.bonappetit.com\" rel=\"noopener noreferrer\" target=\"_blank\" title=\"Bon Appétit\">\n",
      "           Bon Appétit\n",
      "          </a>\n",
      "         </li>\n",
      "         <li data-reactid=\"508\">\n",
      "          <a class=\"conde-nast-brand\" data-reactid=\"509\" data-track-location=\"footer\" data-track-source=\"navigation\" href=\"http://www.brides.com\" rel=\"noopener noreferrer\" target=\"_blank\" title=\"Brides.com\">\n",
      "           Brides.com\n",
      "          </a>\n",
      "         </li>\n",
      "         <li data-reactid=\"510\">\n",
      "          <a class=\"conde-nast-brand\" data-reactid=\"511\" data-track-location=\"footer\" data-track-source=\"navigation\" href=\"http://www.concierge.com/cntraveler\" rel=\"noopener noreferrer\" target=\"_blank\" title=\"Condé Nast Traveler\">\n",
      "           Condé Nast Traveler\n",
      "          </a>\n",
      "         </li>\n",
      "         <li data-reactid=\"512\">\n",
      "          <a class=\"conde-nast-brand\" data-reactid=\"513\" data-track-location=\"footer\" data-track-source=\"navigation\" href=\"http://www.concierge.com\" rel=\"noopener noreferrer\" target=\"_blank\" title=\"Concierge\">\n",
      "           Concierge\n",
      "          </a>\n",
      "         </li>\n",
      "         <li data-reactid=\"514\">\n",
      "          <a class=\"conde-nast-brand\" data-reactid=\"515\" data-track-location=\"footer\" data-track-source=\"navigation\" href=\"http://www.details.com\" rel=\"noopener noreferrer\" target=\"_blank\" title=\"Details\">\n",
      "           Details\n",
      "          </a>\n",
      "         </li>\n",
      "         <li data-reactid=\"516\">\n",
      "          <a class=\"conde-nast-brand\" data-reactid=\"517\" data-track-location=\"footer\" data-track-source=\"navigation\" href=\"http://www.glamour.com\" rel=\"noopener noreferrer\" target=\"_blank\" title=\"Glamour\">\n",
      "           Glamour\n",
      "          </a>\n",
      "         </li>\n",
      "         <li data-reactid=\"518\">\n",
      "          <a class=\"conde-nast-brand\" data-reactid=\"519\" data-track-location=\"footer\" data-track-source=\"navigation\" href=\"http://www.golfdigest.com\" rel=\"noopener noreferrer\" target=\"_blank\" title=\"Golf Digest\">\n",
      "           Golf Digest\n",
      "          </a>\n",
      "         </li>\n",
      "         <li data-reactid=\"520\">\n",
      "          <a class=\"conde-nast-brand\" data-reactid=\"521\" data-track-location=\"footer\" data-track-source=\"navigation\" href=\"http://www.golfworld.com\" rel=\"noopener noreferrer\" target=\"_blank\" title=\"Golf World\">\n",
      "           Golf World\n",
      "          </a>\n",
      "         </li>\n",
      "         <li data-reactid=\"522\">\n",
      "          <a class=\"conde-nast-brand\" data-reactid=\"523\" data-track-location=\"footer\" data-track-source=\"navigation\" href=\"http://www.gq.com\" rel=\"noopener noreferrer\" target=\"_blank\" title=\"GQ\">\n",
      "           GQ\n",
      "          </a>\n",
      "         </li>\n",
      "         <li data-reactid=\"524\">\n",
      "          <a class=\"conde-nast-brand\" data-reactid=\"525\" data-track-location=\"footer\" data-track-source=\"navigation\" href=\"http://www.hotelchatter.com\" rel=\"noopener noreferrer\" target=\"_blank\" title=\"Hotel Chatter\">\n",
      "           Hotel Chatter\n",
      "          </a>\n",
      "         </li>\n",
      "         <li data-reactid=\"526\">\n",
      "          <a class=\"conde-nast-brand\" data-reactid=\"527\" data-track-location=\"footer\" data-track-source=\"navigation\" href=\"http://www.jaunted.com\" rel=\"noopener noreferrer\" target=\"_blank\" title=\"Jaunted\">\n",
      "           Jaunted\n",
      "          </a>\n",
      "         </li>\n",
      "         <li data-reactid=\"528\">\n",
      "          <a class=\"conde-nast-brand\" data-reactid=\"529\" data-track-location=\"footer\" data-track-source=\"navigation\" href=\"http://www.luckymag.com\" rel=\"noopener noreferrer\" target=\"_blank\" title=\"Lucky\">\n",
      "           Lucky\n",
      "          </a>\n",
      "         </li>\n",
      "         <li data-reactid=\"530\">\n",
      "          <a class=\"conde-nast-brand\" data-reactid=\"531\" data-track-location=\"footer\" data-track-source=\"navigation\" href=\"http://www.nutritiondata.com\" rel=\"noopener noreferrer\" target=\"_blank\" title=\"NutritionData\">\n",
      "           NutritionData\n",
      "          </a>\n",
      "         </li>\n",
      "         <li data-reactid=\"532\">\n",
      "          <a class=\"conde-nast-brand\" data-reactid=\"533\" data-track-location=\"footer\" data-track-source=\"navigation\" href=\"http://www.reddit.com\" rel=\"noopener noreferrer\" target=\"_blank\" title=\"Reddit\">\n",
      "           Reddit\n",
      "          </a>\n",
      "         </li>\n",
      "         <li data-reactid=\"534\">\n",
      "          <a class=\"conde-nast-brand\" data-reactid=\"535\" data-track-location=\"footer\" data-track-source=\"navigation\" href=\"http://www.self.com\" rel=\"noopener noreferrer\" target=\"_blank\" title=\"Self\">\n",
      "           Self\n",
      "          </a>\n",
      "         </li>\n",
      "         <li data-reactid=\"536\">\n",
      "          <a class=\"conde-nast-brand\" data-reactid=\"537\" data-track-location=\"footer\" data-track-source=\"navigation\" href=\"http://www.style.com\" rel=\"noopener noreferrer\" target=\"_blank\" title=\"Style\">\n",
      "           Style\n",
      "          </a>\n",
      "         </li>\n",
      "         <li data-reactid=\"538\">\n",
      "          <a class=\"conde-nast-brand\" data-reactid=\"539\" data-track-location=\"footer\" data-track-source=\"navigation\" href=\"http://www.teenvogue.com\" rel=\"noopener noreferrer\" target=\"_blank\" title=\"Teen Vogue\">\n",
      "           Teen Vogue\n",
      "          </a>\n",
      "         </li>\n",
      "         <li data-reactid=\"540\">\n",
      "          <a class=\"conde-nast-brand\" data-reactid=\"541\" data-track-location=\"footer\" data-track-source=\"navigation\" href=\"http://www.newyorker.com\" rel=\"noopener noreferrer\" target=\"_blank\" title=\"The New Yorker\">\n",
      "           The New Yorker\n",
      "          </a>\n",
      "         </li>\n",
      "         <li data-reactid=\"542\">\n",
      "          <a class=\"conde-nast-brand\" data-reactid=\"543\" data-track-location=\"footer\" data-track-source=\"navigation\" href=\"http://thescene.com\" rel=\"noopener noreferrer\" target=\"_blank\" title=\"The Scene\">\n",
      "           The Scene\n",
      "          </a>\n",
      "         </li>\n",
      "         <li data-reactid=\"544\">\n",
      "          <a class=\"conde-nast-brand\" data-reactid=\"545\" data-track-location=\"footer\" data-track-source=\"navigation\" href=\"http://www.vanityfair.com\" rel=\"noopener noreferrer\" target=\"_blank\" title=\"Vanity Fair\">\n",
      "           Vanity Fair\n",
      "          </a>\n",
      "         </li>\n",
      "         <li data-reactid=\"546\">\n",
      "          <a class=\"conde-nast-brand\" data-reactid=\"547\" data-track-location=\"footer\" data-track-source=\"navigation\" href=\"http://www.vegaschatter.com\" rel=\"noopener noreferrer\" target=\"_blank\" title=\"Vegas Chatter\">\n",
      "           Vegas Chatter\n",
      "          </a>\n",
      "         </li>\n",
      "         <li data-reactid=\"548\">\n",
      "          <a class=\"conde-nast-brand\" data-reactid=\"549\" data-track-location=\"footer\" data-track-source=\"navigation\" href=\"http://www.vogue.com\" rel=\"noopener noreferrer\" target=\"_blank\" title=\"Vogue\">\n",
      "           Vogue\n",
      "          </a>\n",
      "         </li>\n",
      "         <li data-reactid=\"550\">\n",
      "          <a class=\"conde-nast-brand\" data-reactid=\"551\" data-track-location=\"footer\" data-track-source=\"navigation\" href=\"http://www.wmagazine.com\" rel=\"noopener noreferrer\" target=\"_blank\" title=\"W\">\n",
      "           W\n",
      "          </a>\n",
      "         </li>\n",
      "         <li data-reactid=\"552\">\n",
      "          <a class=\"conde-nast-brand\" data-reactid=\"553\" data-track-location=\"footer\" data-track-source=\"navigation\" href=\"http://www.wired.com\" rel=\"noopener noreferrer\" target=\"_blank\" title=\"Wired\">\n",
      "           Wired\n",
      "          </a>\n",
      "         </li>\n",
      "        </ul>\n",
      "       </nav>\n",
      "       <nav class=\"conde-nast-services\" data-reactid=\"554\">\n",
      "        <h4 class=\"nav-title\" data-reactid=\"555\">\n",
      "         Condé Nast Services\n",
      "        </h4>\n",
      "        <ul data-reactid=\"556\">\n",
      "         <li data-reactid=\"557\">\n",
      "          <a class=\"conde-nast-service\" data-reactid=\"558\" data-track-location=\"footer\" data-track-source=\"navigation\" href=\"/services/subscriptions\" title=\"Subscription Services\">\n",
      "           Subscription Services\n",
      "          </a>\n",
      "         </li>\n",
      "         <li data-reactid=\"559\">\n",
      "          <a class=\"conde-nast-service\" data-reactid=\"560\" data-track-location=\"footer\" data-track-source=\"navigation\" href=\"http://www.condenast.com/careers\" rel=\"noopener noreferrer\" target=\"_blank\" title=\"Condé Nast Careers\">\n",
      "           Careers\n",
      "          </a>\n",
      "         </li>\n",
      "         <li data-reactid=\"561\">\n",
      "          <a class=\"conde-nast-service\" data-reactid=\"562\" data-track-location=\"footer\" data-track-source=\"navigation\" href=\"http://www.condenaststore.com/\" rel=\"noopener noreferrer\" target=\"_blank\" title=\"Condé Nast Store\">\n",
      "           Condé Nast Store\n",
      "          </a>\n",
      "         </li>\n",
      "         <li data-reactid=\"563\">\n",
      "          <a class=\"conde-nast-service\" data-reactid=\"564\" data-track-location=\"footer\" data-track-source=\"navigation\" href=\"http://www.condenast.com/reprints-permissions\" rel=\"noopener noreferrer\" target=\"_blank\" title=\"Reprints/Permissions\">\n",
      "           Reprints/Permissions\n",
      "          </a>\n",
      "         </li>\n",
      "        </ul>\n",
      "       </nav>\n",
      "       <article class=\"legal-notice\" data-reactid=\"565\">\n",
      "        <h4 class=\"title\" data-reactid=\"566\">\n",
      "         Legal Notice\n",
      "        </h4>\n",
      "        <p data-reactid=\"567\">\n",
      "         <!-- react-text: 568 -->\n",
      "         ©\n",
      "         <!-- /react-text -->\n",
      "         <!-- react-text: 569 -->\n",
      "         2018\n",
      "         <!-- /react-text -->\n",
      "         <!-- react-text: 570 -->\n",
      "         Condé Nast. All rights reserved\n",
      "         <!-- /react-text -->\n",
      "        </p>\n",
      "        <p data-reactid=\"571\">\n",
      "         <!-- react-text: 572 -->\n",
      "         Use of this site constitutes acceptance of our\n",
      "         <!-- /react-text -->\n",
      "         <a data-reactid=\"573\" data-track-location=\"footer\" data-track-source=\"navigation\" href=\"http://www.condenast.com/privacy-policy\" rel=\"noopener noreferrer\" target=\"_blank\" title=\"User Agreement\">\n",
      "          User Agreement\n",
      "         </a>\n",
      "         <!-- react-text: 574 -->\n",
      "         (effective 1/2/2014) and\n",
      "         <!-- /react-text -->\n",
      "         <a data-reactid=\"575\" data-track-location=\"footer\" data-track-source=\"navigation\" href=\"http://www.condenast.com/privacy-policy#privacypolicy\" rel=\"noopener noreferrer\" target=\"_blank\" title=\"Privacy Policy\">\n",
      "          Privacy Policy\n",
      "         </a>\n",
      "         <!-- react-text: 576 -->\n",
      "         (effective 1/2/2014)\n",
      "         <!-- /react-text -->\n",
      "        </p>\n",
      "        <p data-reactid=\"577\">\n",
      "         <a data-reactid=\"578\" data-track-location=\"footer\" data-track-source=\"navigation\" href=\"http://www.condenast.com/privacy-policy#privacypolicy-california\" rel=\"noopener noreferrer\" target=\"_blank\" title=\"Your California Privacy Rights\">\n",
      "          Your California Privacy Rights\n",
      "         </a>\n",
      "        </p>\n",
      "        <p data-reactid=\"579\">\n",
      "         The material on this site may not be reproduced, distributed, transmitted, cached or otherwise used, except with the prior written permission of Condé Nast.\n",
      "        </p>\n",
      "        <a class=\"ad-choice\" data-reactid=\"580\" data-track-location=\"footer\" data-track-source=\"navigation\" href=\"http://www.condenast.com/privacy-policy#privacypolicy-optout\" rel=\"noopener noreferrer\" target=\"_blank\" title=\"Ad Choices\">\n",
      "         Ad Choices\n",
      "        </a>\n",
      "       </article>\n",
      "      </span>\n",
      "     </section>\n",
      "    </footer>\n",
      "    <!-- react-empty: 581 -->\n",
      "    <!-- react-empty: 582 -->\n",
      "   </span>\n",
      "  </span>\n",
      "  <div aria-hidden=\"true\" aria-labelledby=\"cnid-modalLabel\" class=\"modal cnid-modal hide fade\" id=\"cnid-modal\" role=\"dialog\" tabindex=\"-1\">\n",
      "   <div class=\"frameContainer modal-body cnid-modal-body cnid-ios-scroll\">\n",
      "    <button aria-hidden=\"true\" class=\"close cnid-close\" data-dismiss=\"modal\" type=\"button\">\n",
      "     x\n",
      "    </button>\n",
      "    <iframe class=\"cnid-signin-iframe\" frameborder=\"0\" height=\"100%\" id=\"cnidClient\" marginheight=\"0\" marginwidth=\"0\" src=\"\" width=\"100%\">\n",
      "    </iframe>\n",
      "   </div>\n",
      "   <!-- loader overlay -->\n",
      "   <div class=\"loader-container hide\">\n",
      "    <div class=\"cnid-overlay-bg\">\n",
      "    </div>\n",
      "    <div class=\"cnid-loader\">\n",
      "     <img src=\"https://cnid.condenastdigital.com/client/assets/img/spinner.gif\"/>\n",
      "    </div>\n",
      "   </div>\n",
      "   <!-- alerts overlay -->\n",
      "   <!-- overlay is used to display screen centered server-side error messages on mobile devices -->\n",
      "   <div class=\"cnid-alerts-container hide\">\n",
      "    <div class=\"cnid-overlay-bg\">\n",
      "    </div>\n",
      "    <div class=\"cnid-alert-message alert text-center alert-success\">\n",
      "     <p class=\"alert-txt\">\n",
      "     </p>\n",
      "     <button class=\"btn-conde okay-btn cnid-btn\" type=\"button\">\n",
      "      Okay\n",
      "     </button>\n",
      "    </div>\n",
      "   </div>\n",
      "  </div>\n",
      "  <div class=\"modal-backdrop\">\n",
      "  </div>\n",
      "  <script>\n",
      "   var _app = {\"cookieDomain\":\".epicurious.com\",\"endpoints\":{\"contextual\":\"/api/dataintelligence/v1/content/recommended\",\"rotd\":\"/api/content/v1/rotd/count/1\"},\"env\":\"PROD\",\"facebook\":{\"appId\":\"1636080783276430\"},\"https\":\"true\",\"media\":{\"bp\":{\"xs\":0,\"s\":600,\"m\":768,\"l\":1024,\"xl\":1360,\"w\":1710}},\"newsletters\":{\"current\":[{\"description\":\"Become a better cook instantly with this weekly report of our ten most helpful tips, tricks, and kitchen secrets. Don't miss it!\",\"id\":\"5\",\"name\":\"The Top Ten\"},{\"description\":\"Love recipes, but hate searching? We do the work for you. You'll get our favorite seasonal recipe plus collections of our exclusive editors' picks.\",\"id\":\"5117\",\"name\":\"Cook This Now\"},{\"description\":\"Get a daily dose of the hottest recipes from Epicurious, Bon Appétit, and other great sites.\",\"id\":\"195169\",\"name\":\"Trending Recipes\"},{\"id\":\"248781\",\"name\":\"Announcements\"},{\"id\":\"248789\",\"name\":\"Cook 90\"},{\"id\":\"248818\",\"name\":\"Diabetes Friendly\"},{\"id\":\"248842\",\"name\":\"Small Plates\"}]},\"server\":\"https://www.epicurious.com\",\"services\":{\"endpoints\":{\"articles\":{\"latest\":\"/api/search/v1/query?size=20&content=article&sort=newest&q=\"},\"branded\":{\"article\":\"/api/branded/v1/article/:brandCode/:slug\"},\"content\":{\"channel\":\"/api/content/v1/channel/\",\"component\":\"/api/content/v1/component\",\"contextual\":\"/api/dataintelligence/v1/content/recommended\",\"featuredIn\":\"/api/content/v1/featuredin/\",\"homepage\":\"/api/content/v1/homepage\",\"latestRecipes\":\"/api/content/v1/component/latestrecipes\",\"memberLookup\":\"/api/users/v2/user/\",\"navItems\":\"/api/content/v1/component/navitems\",\"nutritionalInfo\":\"/api/nutritiondata/v2/\",\"reviews\":\"/api/recipes/v2/\",\"reviewsFeed\":\"/api/recipes/v3/\",\"reviewsSuffix\":\"/reviews\",\"reviewsFeedSuffix\":\"/reviews/feed\",\"rotd\":\"/api/content/v1/rotd/count/1\",\"search\":\"/api/content/v1/search\",\"videoSearchByKeywords\":\"/api/video/v1/keywords/\"},\"contributors\":{\"details\":\"/api/contributors/v1/:contributor/bundle\",\"feed\":\"/api/contributors/v1/:contributor/feed\"},\"cookbooks\":{\"details\":\"/api/cookbooks/v1/:slug\",\"index\":\"/api/cookbooks/v1\"},\"menus\":{\"details\":\"/api/users/v1/:userId/menus/:menuId\",\"index\":\"/api/users/v1/:userId/menus\"},\"photos\":{\"instagramPosts\":\"/api/instagram/v1\",\"menuCover\":\"/api/photos/v1/menu-cover\",\"searchCard\":\"/api/photos/v1/search-card\",\"searchUtility\":\"/api/photos/v1/search-utility\"},\"recipeBox\":{\"search\":\"/api/recipe-box/v1/:userId/search/:term\"},\"recipes\":{\"byKeywords\":\"/api/recipes/v2/keywords/\",\"byKeywordsForMenus\":\"/api/menus/v1/keywords/\",\"latest\":\"/api/recipes/v2/latest\"},\"search\":{\"details\":\"/api/recipes/v3/detail\",\"facets\":\"/api/search/v1/facets\",\"query\":\"/api/search/v1/query\",\"suggest\":\"/api/search/v1/suggest\"},\"users\":{\"authenticate\":\"/api/users/v2/authenticate\",\"info\":\"/api/users/v2/user/:uuid\",\"newsletterSubscriptions\":\"/api/newsletters/v1/subscription/:email\",\"recipeBoxSearch\":\"/api/users/v1/:userId/recipe-box/search/:query\",\"recipes\":\"/api/users/v1/:userId/recipes\",\"reviews\":\"/api/users/v1/:userId/reviews\",\"updateEmail\":\"/api/users/v2/user/email\",\"updatePassword\":\"/api/users/v2/user/password\",\"updateUsername\":\"/api/users/v2/user/displayname\",\"updateSettings\":\"/api/users/v2/user\"}}},\"servicesHost\":\"https://services.epicurious.com\",\"simpleReach\":{\"pid\":\"570d6b7d736b79bf1d000d27\"},\"user\":{\"cookies\":{\"keys\":{\"id\":\"amg_user_partner\",\"username\":\"amg_user_info\"},\"names\":[\"amg_user_ext\",\"amg_user_info\",\"amg_user_partner\",\"amg_user_update\",\"cn_uid\"]},\"email\":{\"regExp\":{}},\"password\":{\"regExp\":{},\"messages\":{\"requirements\":\"A password must be at least 6 characters long. It cannot begin or end with a space.\"}},\"serviceKey\":\"NtibqP3y1qSJM/Gsy3blJgNWt/o=\",\"serviceHost\":\"https://user-service.condenastdigital.com\"},\"userServiceHost\":\"https://user-service.condenastdigital.com\",\"userServiceKey\":\"NtibqP3y1qSJM/Gsy3blJgNWt/o=\",\"vulcan\":{\"host\":\"https://assets.epicurious.com\",\"path\":\"/photos/\"}};\n",
      "\n",
      "    <!-- Google Analytics -->\n",
      "    (function(i,s,o,g,r,a,m){i['GoogleAnalyticsObject']=r;i[r]=i[r]||function(){\n",
      "    (i[r].q=i[r].q||[]).push(arguments)},i[r].l=1*new Date();a=s.createElement(o),\n",
      "    m=s.getElementsByTagName(o)[0];a.async=1;a.src=g;m.parentNode.insertBefore(a,m)\n",
      "    })(window,document,'script','https://www.google-analytics.com/analytics.js','ga');\n",
      "    \n",
      "    ga('create', 'UA-2624365-1', 'auto');\n",
      "    ga('send', 'pageview');\n",
      "    <!-- End Google Analytics -->    \n",
      "    function insertOptimizely() {\n",
      "      var projectId = 2716630229;\n",
      "      var protocol = ('https:' == document.location.protocol ?\n",
      "      'https://' : 'http://');\n",
      "      var scriptTag = document.createElement('script');\n",
      "      scriptTag.type = 'text/javascript';\n",
      "      scriptTag.async = true;\n",
      "      scriptTag.src = protocol + 'cdn.optimizely.com/js/' +\n",
      "      projectId + '.js';\n",
      "      var s = document.getElementsByTagName('script')[0];\n",
      "      s.parentNode.insertBefore(scriptTag, s);\n",
      "    };\n",
      "    \n",
      "    function optimizelyTimeout() {\n",
      "      window.optimizely = window.optimizely|| [];\n",
      "      if (!window.optimizely.data) {\n",
      "        window.optimizely.push(\"timeout\");\n",
      "      }\n",
      "    }\n",
      "    \n",
      "    if (false) {\n",
      "      insertOptimizely();\n",
      "      setTimeout(optimizelyTimeout, 1000);\n",
      "    }\n",
      "  </script>\n",
      "  <script type=\"text/javascript\">\n",
      "   window._state = \"%7B%22context%22%3A%7B%22dispatcher%22%3A%7B%22stores%22%3A%7B%22AdStore%22%3A%7B%22displayLeaderboard%22%3Atrue%2C%22pageCreated%22%3Afalse%2C%22pageSlots%22%3A%7B%7D%2C%22env%22%3A%22production%22%2C%22pageConfig%22%3A%7B%22channel%22%3A%22search%22%2C%22slug%22%3A%22search%22%2C%22sub_channel%22%3A%22%22%2C%22targeting%22%3A%7B%22tags%22%3A%5B%22search%22%2C%22tofu%252520chill%22%2C%22food%22%2C%22content%22%5D%7D%2C%22templateType%22%3A%22search%22%7D%7D%2C%22ApplicationStore%22%3A%7B%22analyticsLocation%22%3A%22section1%22%2C%22analyticsSource%22%3A%22section1%22%2C%22config%22%3A%7B%22cookieDomain%22%3A%22.epicurious.com%22%2C%22endpoints%22%3A%7B%22contextual%22%3A%22%2Fapi%2Fdataintelligence%2Fv1%2Fcontent%2Frecommended%22%2C%22rotd%22%3A%22%2Fapi%2Fcontent%2Fv1%2Frotd%2Fcount%2F1%22%7D%2C%22env%22%3A%22PROD%22%2C%22facebook%22%3A%7B%22appId%22%3A%221636080783276430%22%7D%2C%22https%22%3A%22true%22%2C%22media%22%3A%7B%22bp%22%3A%7B%22xs%22%3A0%2C%22s%22%3A600%2C%22m%22%3A768%2C%22l%22%3A1024%2C%22xl%22%3A1360%2C%22w%22%3A1710%7D%7D%2C%22newsletters%22%3A%7B%22current%22%3A%5B%7B%22description%22%3A%22Become%20a%20better%20cook%20instantly%20with%20this%20weekly%20report%20of%20our%20ten%20most%20helpful%20tips%2C%20tricks%2C%20and%20kitchen%20secrets.%20Don't%20miss%20it!%22%2C%22id%22%3A%225%22%2C%22name%22%3A%22The%20Top%20Ten%22%7D%2C%7B%22description%22%3A%22Love%20recipes%2C%20but%20hate%20searching%3F%20We%20do%20the%20work%20for%20you.%20You'll%20get%20our%20favorite%20seasonal%20recipe%20plus%20collections%20of%20our%20exclusive%20editors'%20picks.%22%2C%22id%22%3A%225117%22%2C%22name%22%3A%22Cook%20This%20Now%22%7D%2C%7B%22description%22%3A%22Get%20a%20daily%20dose%20of%20the%20hottest%20recipes%20from%20Epicurious%2C%20Bon%20App%C3%A9tit%2C%20and%20other%20great%20sites.%22%2C%22id%22%3A%22195169%22%2C%22name%22%3A%22Trending%20Recipes%22%7D%2C%7B%22id%22%3A%22248781%22%2C%22name%22%3A%22Announcements%22%7D%2C%7B%22id%22%3A%22248789%22%2C%22name%22%3A%22Cook%2090%22%7D%2C%7B%22id%22%3A%22248818%22%2C%22name%22%3A%22Diabetes%20Friendly%22%7D%2C%7B%22id%22%3A%22248842%22%2C%22name%22%3A%22Small%20Plates%22%7D%5D%7D%2C%22server%22%3A%22https%3A%2F%2Fwww.epicurious.com%22%2C%22services%22%3A%7B%22endpoints%22%3A%7B%22articles%22%3A%7B%22latest%22%3A%22%2Fapi%2Fsearch%2Fv1%2Fquery%3Fsize%3D20%26content%3Darticle%26sort%3Dnewest%26q%3D%22%7D%2C%22branded%22%3A%7B%22article%22%3A%22%2Fapi%2Fbranded%2Fv1%2Farticle%2F%3AbrandCode%2F%3Aslug%22%7D%2C%22content%22%3A%7B%22channel%22%3A%22%2Fapi%2Fcontent%2Fv1%2Fchannel%2F%22%2C%22component%22%3A%22%2Fapi%2Fcontent%2Fv1%2Fcomponent%22%2C%22contextual%22%3A%22%2Fapi%2Fdataintelligence%2Fv1%2Fcontent%2Frecommended%22%2C%22featuredIn%22%3A%22%2Fapi%2Fcontent%2Fv1%2Ffeaturedin%2F%22%2C%22homepage%22%3A%22%2Fapi%2Fcontent%2Fv1%2Fhomepage%22%2C%22latestRecipes%22%3A%22%2Fapi%2Fcontent%2Fv1%2Fcomponent%2Flatestrecipes%22%2C%22memberLookup%22%3A%22%2Fapi%2Fusers%2Fv2%2Fuser%2F%22%2C%22navItems%22%3A%22%2Fapi%2Fcontent%2Fv1%2Fcomponent%2Fnavitems%22%2C%22nutritionalInfo%22%3A%22%2Fapi%2Fnutritiondata%2Fv2%2F%22%2C%22reviews%22%3A%22%2Fapi%2Frecipes%2Fv2%2F%22%2C%22reviewsFeed%22%3A%22%2Fapi%2Frecipes%2Fv3%2F%22%2C%22reviewsSuffix%22%3A%22%2Freviews%22%2C%22reviewsFeedSuffix%22%3A%22%2Freviews%2Ffeed%22%2C%22rotd%22%3A%22%2Fapi%2Fcontent%2Fv1%2Frotd%2Fcount%2F1%22%2C%22search%22%3A%22%2Fapi%2Fcontent%2Fv1%2Fsearch%22%2C%22videoSearchByKeywords%22%3A%22%2Fapi%2Fvideo%2Fv1%2Fkeywords%2F%22%7D%2C%22contributors%22%3A%7B%22details%22%3A%22%2Fapi%2Fcontributors%2Fv1%2F%3Acontributor%2Fbundle%22%2C%22feed%22%3A%22%2Fapi%2Fcontributors%2Fv1%2F%3Acontributor%2Ffeed%22%7D%2C%22cookbooks%22%3A%7B%22details%22%3A%22%2Fapi%2Fcookbooks%2Fv1%2F%3Aslug%22%2C%22index%22%3A%22%2Fapi%2Fcookbooks%2Fv1%22%7D%2C%22menus%22%3A%7B%22details%22%3A%22%2Fapi%2Fusers%2Fv1%2F%3AuserId%2Fmenus%2F%3AmenuId%22%2C%22index%22%3A%22%2Fapi%2Fusers%2Fv1%2F%3AuserId%2Fmenus%22%7D%2C%22photos%22%3A%7B%22instagramPosts%22%3A%22%2Fapi%2Finstagram%2Fv1%22%2C%22menuCover%22%3A%22%2Fapi%2Fphotos%2Fv1%2Fmenu-cover%22%2C%22searchCard%22%3A%22%2Fapi%2Fphotos%2Fv1%2Fsearch-card%22%2C%22searchUtility%22%3A%22%2Fapi%2Fphotos%2Fv1%2Fsearch-utility%22%7D%2C%22recipeBox%22%3A%7B%22search%22%3A%22%2Fapi%2Frecipe-box%2Fv1%2F%3AuserId%2Fsearch%2F%3Aterm%22%7D%2C%22recipes%22%3A%7B%22byKeywords%22%3A%22%2Fapi%2Frecipes%2Fv2%2Fkeywords%2F%22%2C%22byKeywordsForMenus%22%3A%22%2Fapi%2Fmenus%2Fv1%2Fkeywords%2F%22%2C%22latest%22%3A%22%2Fapi%2Frecipes%2Fv2%2Flatest%22%7D%2C%22search%22%3A%7B%22details%22%3A%22%2Fapi%2Frecipes%2Fv3%2Fdetail%22%2C%22facets%22%3A%22%2Fapi%2Fsearch%2Fv1%2Ffacets%22%2C%22query%22%3A%22%2Fapi%2Fsearch%2Fv1%2Fquery%22%2C%22suggest%22%3A%22%2Fapi%2Fsearch%2Fv1%2Fsuggest%22%7D%2C%22users%22%3A%7B%22authenticate%22%3A%22%2Fapi%2Fusers%2Fv2%2Fauthenticate%22%2C%22info%22%3A%22%2Fapi%2Fusers%2Fv2%2Fuser%2F%3Auuid%22%2C%22newsletterSubscriptions%22%3A%22%2Fapi%2Fnewsletters%2Fv1%2Fsubscription%2F%3Aemail%22%2C%22recipeBoxSearch%22%3A%22%2Fapi%2Fusers%2Fv1%2F%3AuserId%2Frecipe-box%2Fsearch%2F%3Aquery%22%2C%22recipes%22%3A%22%2Fapi%2Fusers%2Fv1%2F%3AuserId%2Frecipes%22%2C%22reviews%22%3A%22%2Fapi%2Fusers%2Fv1%2F%3AuserId%2Freviews%22%2C%22updateEmail%22%3A%22%2Fapi%2Fusers%2Fv2%2Fuser%2Femail%22%2C%22updatePassword%22%3A%22%2Fapi%2Fusers%2Fv2%2Fuser%2Fpassword%22%2C%22updateUsername%22%3A%22%2Fapi%2Fusers%2Fv2%2Fuser%2Fdisplayname%22%2C%22updateSettings%22%3A%22%2Fapi%2Fusers%2Fv2%2Fuser%22%7D%7D%7D%2C%22servicesHost%22%3A%22https%3A%2F%2Fservices.epicurious.com%22%2C%22simpleReach%22%3A%7B%22pid%22%3A%22570d6b7d736b79bf1d000d27%22%7D%2C%22user%22%3A%7B%22cookies%22%3A%7B%22keys%22%3A%7B%22id%22%3A%22amg_user_partner%22%2C%22username%22%3A%22amg_user_info%22%7D%2C%22names%22%3A%5B%22amg_user_ext%22%2C%22amg_user_info%22%2C%22amg_user_partner%22%2C%22amg_user_update%22%2C%22cn_uid%22%5D%7D%2C%22email%22%3A%7B%22regExp%22%3A%7B%7D%7D%2C%22password%22%3A%7B%22regExp%22%3A%7B%7D%2C%22messages%22%3A%7B%22requirements%22%3A%22A%20password%20must%20be%20at%20least%206%20characters%20long.%20It%20cannot%20begin%20or%20end%20with%20a%20space.%22%7D%7D%2C%22serviceKey%22%3A%22NtibqP3y1qSJM%2FGsy3blJgNWt%2Fo%3D%22%2C%22serviceHost%22%3A%22https%3A%2F%2Fuser-service.condenastdigital.com%22%7D%2C%22userServiceHost%22%3A%22https%3A%2F%2Fuser-service.condenastdigital.com%22%2C%22userServiceKey%22%3A%22NtibqP3y1qSJM%2FGsy3blJgNWt%2Fo%3D%22%2C%22vulcan%22%3A%7B%22host%22%3A%22https%3A%2F%2Fassets.epicurious.com%22%2C%22path%22%3A%22%2Fphotos%2F%22%7D%7D%2C%22pageName%22%3A%22search%22%2C%22siteFooter%22%3A%7B%22hasEpicuriousLinks%22%3Afalse%7D%7D%2C%22SearchStore%22%3A%7B%22activeFilters%22%3A%5B%5D%2C%22stagedFilters%22%3A%5B%5D%2C%22activeFilterGroup%22%3A%22%22%2C%22includeIngredients%22%3A%5B%5D%2C%22excludeIngredients%22%3A%5B%5D%2C%22stagedIncludeIngredients%22%3A%5B%5D%2C%22stagedExcludeIngredients%22%3A%5B%5D%2C%22api%22%3A%7B%22detailsUri%22%3A%22https%3A%2F%2Fservices.epicurious.com%2Fapi%2Frecipes%2Fv3%2Fdetail%22%2C%22facetUri%22%3A%22https%3A%2F%2Fservices.epicurious.com%2Fapi%2Fsearch%2Fv1%2Ffacets%22%2C%22searchUri%22%3A%22https%3A%2F%2Fservices.epicurious.com%2Fapi%2Fsearch%2Fv1%2Fquery%22%2C%22suggestUri%22%3A%22https%3A%2F%2Fservices.epicurious.com%2Fapi%2Fsearch%2Fv1%2Fsuggest%22%7D%2C%22compareRecipes%22%3A%5B%5D%2C%22numFound%22%3A21%2C%22moreResults%22%3Afalse%2C%22newSearch%22%3Afalse%2C%22page%22%3A%7B%22generatedAt%22%3A%222018-03-17T16%3A29%3A22.454Z%22%2C%22count%22%3A2%2C%22number%22%3A1%2C%22size%22%3A18%2C%22totalCount%22%3A21%2C%22nextUri%22%3A%22%2Fapi%2Fsearch%2Fv1%2Fquery%3Fsize%3D18%26page%3D2%26q%3Dtofu%2520chill%22%2C%22previousNumber%22%3A1%7D%2C%22exclusiveFilters%22%3A%7B%7D%2C%22facets%22%3A%7B%22technique%22%3A%7B%22grill-barbecue%22%3A%7B%22id%22%3A%22grill-barbecue%22%2C%22name%22%3A%22Barbecue%22%2C%22category%22%3A%22technique%22%2C%22orderCount%22%3A0%2C%22count%22%3A0%7D%2C%22bake%22%3A%7B%22id%22%3A%22bake%22%2C%22name%22%3A%22Bake%22%2C%22category%22%3A%22technique%22%2C%22orderCount%22%3A0%2C%22count%22%3A3%7D%2C%22roast%22%3A%7B%22id%22%3A%22roast%22%2C%22name%22%3A%22Roast%22%2C%22category%22%3A%22technique%22%2C%22orderCount%22%3A0%2C%22count%22%3A0%7D%2C%22braise%22%3A%7B%22id%22%3A%22braise%22%2C%22name%22%3A%22Braise%22%2C%22category%22%3A%22technique%22%2C%22orderCount%22%3A0%2C%22count%22%3A0%7D%2C%22saute%22%3A%7B%22id%22%3A%22saute%22%2C%22name%22%3A%22Saut%C3%A9%22%2C%22category%22%3A%22technique%22%2C%22orderCount%22%3A0%2C%22count%22%3A0%7D%2C%22no-cook%22%3A%7B%22id%22%3A%22no-cook%22%2C%22name%22%3A%22No-Cook%22%2C%22category%22%3A%22technique%22%2C%22orderCount%22%3A0%2C%22count%22%3A0%7D%2C%22stir-fry%22%3A%7B%22id%22%3A%22stir-fry%22%2C%22name%22%3A%22Stir-Fry%22%2C%22category%22%3A%22technique%22%2C%22orderCount%22%3A0%2C%22count%22%3A2%7D%2C%22pan-fry%22%3A%7B%22id%22%3A%22pan-fry%22%2C%22name%22%3A%22Pan-Fry%22%2C%22category%22%3A%22technique%22%2C%22orderCount%22%3A0%2C%22count%22%3A0%7D%2C%22marinate%22%3A%7B%22id%22%3A%22marinate%22%2C%22name%22%3A%22Marinate%22%2C%22orderCount%22%3A0%2C%22count%22%3A2%7D%2C%22broil%22%3A%7B%22id%22%3A%22broil%22%2C%22name%22%3A%22Broil%22%2C%22category%22%3A%22technique%22%2C%22orderCount%22%3A0%2C%22count%22%3A0%7D%2C%22stew%22%3A%7B%22id%22%3A%22stew%22%2C%22name%22%3A%22Stew%22%2C%22category%22%3A%22technique%22%2C%22orderCount%22%3A0%2C%22count%22%3A0%7D%2C%22fry%22%3A%7B%22id%22%3A%22fry%22%2C%22name%22%3A%22Fry%22%2C%22orderCount%22%3A0%2C%22count%22%3A1%7D%2C%22chill%22%3A%7B%22id%22%3A%22chill%22%2C%22name%22%3A%22Chill%22%2C%22category%22%3A%22technique%22%2C%22orderCount%22%3A0%2C%22count%22%3A9%7D%2C%22steam%22%3A%7B%22id%22%3A%22steam%22%2C%22name%22%3A%22Steam%22%2C%22orderCount%22%3A0%2C%22count%22%3A1%7D%2C%22simmer%22%3A%7B%22id%22%3A%22simmer%22%2C%22name%22%3A%22Simmer%22%2C%22orderCount%22%3A0%2C%22count%22%3A1%7D%2C%22poach%22%3A%7B%22id%22%3A%22poach%22%2C%22name%22%3A%22Poach%22%2C%22orderCount%22%3A0%2C%22count%22%3A0%7D%2C%22boil%22%3A%7B%22id%22%3A%22boil%22%2C%22name%22%3A%22Boil%22%2C%22category%22%3A%22technique%22%2C%22orderCount%22%3A0%2C%22count%22%3A0%7D%2C%22brine%22%3A%7B%22id%22%3A%22brine%22%2C%22name%22%3A%22Brine%22%2C%22orderCount%22%3A0%2C%22count%22%3A0%7D%2C%22freeze-chill%22%3A%7B%22id%22%3A%22freeze-chill%22%2C%22name%22%3A%22Freeze%22%2C%22category%22%3A%22technique%22%2C%22orderCount%22%3A0%2C%22count%22%3A1%7D%2C%22deep-fry%22%3A%7B%22id%22%3A%22deep-fry%22%2C%22name%22%3A%22Deep%20Fry%22%2C%22orderCount%22%3A0%2C%22count%22%3A0%7D%2C%22advance-prep-required%22%3A%7B%22id%22%3A%22advance-prep-required%22%2C%22name%22%3A%22Advance%20Prep%20Req'd%22%2C%22orderCount%22%3A0%2C%22count%22%3A2%7D%7D%2C%22meal%22%3A%7B%22dinner%22%3A%7B%22id%22%3A%22dinner%22%2C%22name%22%3A%22Dinner%22%2C%22category%22%3A%22meal%22%2C%22orderCount%22%3A0%2C%22count%22%3A5%7D%2C%22dessert%22%3A%7B%22id%22%3A%22dessert%22%2C%22name%22%3A%22Dessert%22%2C%22category%22%3A%22meal%22%2C%22orderCount%22%3A0%2C%22count%22%3A2%7D%2C%22appetizer%22%3A%7B%22id%22%3A%22appetizer%22%2C%22name%22%3A%22Appetizer%22%2C%22category%22%3A%22meal%22%2C%22orderCount%22%3A0%2C%22count%22%3A2%7D%2C%22side%22%3A%7B%22id%22%3A%22side%22%2C%22name%22%3A%22Side%22%2C%22category%22%3A%22meal%22%2C%22orderCount%22%3A0%2C%22count%22%3A3%7D%2C%22breakfast%22%3A%7B%22id%22%3A%22breakfast%22%2C%22name%22%3A%22Breakfast%22%2C%22category%22%3A%22meal%22%2C%22orderCount%22%3A0%2C%22count%22%3A1%7D%2C%22lunch%22%3A%7B%22id%22%3A%22lunch%22%2C%22name%22%3A%22Lunch%22%2C%22category%22%3A%22meal%22%2C%22orderCount%22%3A0%2C%22count%22%3A1%7D%2C%22brunch%22%3A%7B%22id%22%3A%22brunch%22%2C%22name%22%3A%22Brunch%22%2C%22category%22%3A%22meal%22%2C%22orderCount%22%3A0%2C%22count%22%3A0%7D%2C%22buffet%22%3A%7B%22id%22%3A%22buffet%22%2C%22name%22%3A%22Buffet%22%2C%22category%22%3A%22meal%22%2C%22orderCount%22%3A0%2C%22count%22%3A0%7D%7D%2C%22type%22%3A%7B%22soup-stew%22%3A%7B%22id%22%3A%22soup-stew%22%2C%22name%22%3A%22Soup%2FStew%22%2C%22category%22%3A%22type%22%2C%22orderCount%22%3A0%2C%22count%22%3A2%7D%2C%22salad%22%3A%7B%22id%22%3A%22salad%22%2C%22name%22%3A%22Salad%22%2C%22category%22%3A%22type%22%2C%22orderCount%22%3A0%2C%22count%22%3A2%7D%2C%22cookie%22%3A%7B%22id%22%3A%22cookie%22%2C%22name%22%3A%22Cookie%22%2C%22category%22%3A%22type%22%2C%22orderCount%22%3A0%2C%22count%22%3A0%7D%2C%22stuffing-dressing%22%3A%7B%22id%22%3A%22stuffing-dressing%22%2C%22name%22%3A%22Stuffing%2FDressing%22%2C%22orderCount%22%3A0%2C%22count%22%3A0%7D%2C%22cake%22%3A%7B%22id%22%3A%22cake%22%2C%22name%22%3A%22Cake%22%2C%22category%22%3A%22type%22%2C%22orderCount%22%3A0%2C%22count%22%3A0%7D%2C%22bread%22%3A%7B%22id%22%3A%22bread%22%2C%22name%22%3A%22Bread%22%2C%22category%22%3A%22type%22%2C%22orderCount%22%3A0%2C%22count%22%3A0%7D%2C%22edible-gift%22%3A%7B%22id%22%3A%22edible-gift%22%2C%22name%22%3A%22Edible%20Gift%22%2C%22orderCount%22%3A0%2C%22count%22%3A0%7D%2C%22sandwich%22%3A%7B%22id%22%3A%22sandwich%22%2C%22name%22%3A%22Sandwich%22%2C%22category%22%3A%22type%22%2C%22orderCount%22%3A0%2C%22count%22%3A0%7D%2C%22sauce%22%3A%7B%22id%22%3A%22sauce%22%2C%22name%22%3A%22Sauce%22%2C%22category%22%3A%22type%22%2C%22orderCount%22%3A0%2C%22count%22%3A1%7D%2C%22cocktail%22%3A%7B%22id%22%3A%22cocktail%22%2C%22name%22%3A%22Cocktail%22%2C%22category%22%3A%22type%22%2C%22orderCount%22%3A0%2C%22count%22%3A0%7D%2C%22candy%22%3A%7B%22id%22%3A%22candy%22%2C%22name%22%3A%22Candy%22%2C%22category%22%3A%22type%22%2C%22orderCount%22%3A0%2C%22count%22%3A0%7D%2C%22condiment-spread%22%3A%7B%22id%22%3A%22condiment-spread%22%2C%22name%22%3A%22Condiment%2FSpread%22%2C%22category%22%3A%22type%22%2C%22orderCount%22%3A0%2C%22count%22%3A1%7D%2C%22casserole-gratin%22%3A%7B%22id%22%3A%22casserole-gratin%22%2C%22name%22%3A%22Casserole%2FGratin%22%2C%22category%22%3A%22type%22%2C%22orderCount%22%3A0%2C%22count%22%3A0%7D%2C%22frozen-dessert%22%3A%7B%22id%22%3A%22frozen-dessert%22%2C%22name%22%3A%22Frozen%20Dessert%22%2C%22category%22%3A%22type%22%2C%22orderCount%22%3A0%2C%22count%22%3A0%7D%2C%22salad-dressing%22%3A%7B%22id%22%3A%22salad-dressing%22%2C%22name%22%3A%22Salad%20Dressing%22%2C%22category%22%3A%22type%22%2C%22orderCount%22%3A0%2C%22count%22%3A0%7D%2C%22pastry%22%3A%7B%22id%22%3A%22pastry%22%2C%22name%22%3A%22Pastry%22%2C%22category%22%3A%22type%22%2C%22orderCount%22%3A0%2C%22count%22%3A0%7D%2C%22ice-cream%22%3A%7B%22id%22%3A%22ice-cream%22%2C%22name%22%3A%22Ice%20Cream%22%2C%22category%22%3A%22type%22%2C%22orderCount%22%3A0%2C%22count%22%3A0%7D%2C%22sangria%22%3A%7B%22id%22%3A%22sangria%22%2C%22name%22%3A%22Sangria%22%2C%22orderCount%22%3A0%2C%22count%22%3A0%7D%2C%22margarita%22%3A%7B%22id%22%3A%22margarita%22%2C%22name%22%3A%22Margarita%22%2C%22orderCount%22%3A0%2C%22count%22%3A0%7D%2C%22martini%22%3A%7B%22id%22%3A%22martini%22%2C%22name%22%3A%22Martini%22%2C%22orderCount%22%3A0%2C%22count%22%3A0%7D%2C%22iced-tea%22%3A%7B%22id%22%3A%22iced-tea%22%2C%22name%22%3A%22Iced%20Tea%22%2C%22orderCount%22%3A0%2C%22count%22%3A0%7D%2C%22aperitif%22%3A%7B%22id%22%3A%22aperitif%22%2C%22name%22%3A%22Aperitif%22%2C%22orderCount%22%3A0%2C%22count%22%3A0%7D%2C%22digestif%22%3A%7B%22id%22%3A%22digestif%22%2C%22name%22%3A%22Digestif%22%2C%22orderCount%22%3A0%2C%22count%22%3A0%7D%2C%22biscuit%22%3A%7B%22id%22%3A%22biscuit%22%2C%22name%22%3A%22Biscuit%22%2C%22orderCount%22%3A0%2C%22count%22%3A0%7D%2C%22brownie%22%3A%7B%22id%22%3A%22brownie%22%2C%22name%22%3A%22Brownie%22%2C%22orderCount%22%3A0%2C%22count%22%3A0%7D%2C%22burrito%22%3A%7B%22id%22%3A%22burrito%22%2C%22name%22%3A%22Burrito%22%2C%22orderCount%22%3A0%2C%22count%22%3A0%7D%2C%22cheesecake%22%3A%7B%22id%22%3A%22cheesecake%22%2C%22name%22%3A%22Cheesecake%22%2C%22orderCount%22%3A0%2C%22count%22%3A0%7D%2C%22chili%22%3A%7B%22id%22%3A%22chili%22%2C%22name%22%3A%22Chili%22%2C%22category%22%3A%22type%22%2C%22orderCount%22%3A0%2C%22count%22%3A0%7D%2C%22chowder%22%3A%7B%22id%22%3A%22chowder%22%2C%22name%22%3A%22Chowder%22%2C%22orderCount%22%3A0%2C%22count%22%3A0%7D%2C%22cobbler-crumble%22%3A%7B%22id%22%3A%22cobbler-crumble%22%2C%22name%22%3A%22Cobbler%2FCrumble%22%2C%22orderCount%22%3A0%2C%22count%22%3A0%7D%2C%22crepe%22%3A%7B%22id%22%3A%22crepe%22%2C%22name%22%3A%22Cr%C3%AApe%22%2C%22orderCount%22%3A0%2C%22count%22%3A0%7D%2C%22cranberry-sauce%22%3A%7B%22id%22%3A%22cranberry-sauce%22%2C%22name%22%3A%22Cranberry%20Sauce%22%2C%22orderCount%22%3A0%2C%22count%22%3A0%7D%2C%22cupcake%22%3A%7B%22id%22%3A%22cupcake%22%2C%22name%22%3A%22Cupcake%22%2C%22category%22%3A%22type%22%2C%22orderCount%22%3A0%2C%22count%22%3A0%7D%2C%22custard%22%3A%7B%22id%22%3A%22custard%22%2C%22name%22%3A%22Custard%22%2C%22category%22%3A%22type%22%2C%22orderCount%22%3A0%2C%22count%22%3A0%7D%2C%22dip%22%3A%7B%22id%22%3A%22dip%22%2C%22name%22%3A%22Dip%22%2C%22category%22%3A%22type%22%2C%22orderCount%22%3A0%2C%22count%22%3A0%7D%2C%22flat-bread%22%3A%7B%22id%22%3A%22flat-bread%22%2C%22name%22%3A%22Flat%20Bread%22%2C%22orderCount%22%3A0%2C%22count%22%3A0%7D%2C%22frittata%22%3A%7B%22id%22%3A%22frittata%22%2C%22name%22%3A%22Frittata%22%2C%22orderCount%22%3A0%2C%22count%22%3A0%7D%2C%22fritter%22%3A%7B%22id%22%3A%22fritter%22%2C%22name%22%3A%22Fritter%22%2C%22orderCount%22%3A0%2C%22count%22%3A0%7D%2C%22guacamole%22%3A%7B%22id%22%3A%22guacamole%22%2C%22name%22%3A%22Guacamole%22%2C%22orderCount%22%3A0%2C%22count%22%3A0%7D%2C%22hamburger%22%3A%7B%22id%22%3A%22hamburger%22%2C%22name%22%3A%22Hamburger%22%2C%22category%22%3A%22type%22%2C%22orderCount%22%3A0%2C%22count%22%3A0%7D%7D%2C%22special-consideration%22%3A%7B%22vegetarian%22%3A%7B%22id%22%3A%22vegetarian%22%2C%22name%22%3A%22Vegetarian%22%2C%22category%22%3A%22special-consideration%22%2C%22orderCount%22%3A0%2C%22count%22%3A6%7D%2C%22quick-and-easy%22%3A%7B%22id%22%3A%22quick-and-easy%22%2C%22name%22%3A%22Quick%20%26%20Easy%22%2C%22category%22%3A%22special-consideration%22%2C%22orderCount%22%3A0%2C%22count%22%3A2%7D%2C%22kid-friendly%22%3A%7B%22id%22%3A%22kid-friendly%22%2C%22name%22%3A%22Kid%20Friendly%22%2C%22category%22%3A%22special-consideration%22%2C%22orderCount%22%3A0%2C%22count%22%3A1%7D%2C%22healthy%22%3A%7B%22id%22%3A%22healthy%22%2C%22name%22%3A%22Healthy%22%2C%22category%22%3A%22special-consideration%22%2C%22orderCount%22%3A0%2C%22count%22%3A3%7D%2C%22wheat-gluten-free%22%3A%7B%22id%22%3A%22wheat-gluten-free%22%2C%22name%22%3A%22Wheat%2FGluten-Free%22%2C%22category%22%3A%22special-consideration%22%2C%22orderCount%22%3A0%2C%22count%22%3A6%7D%2C%22vegan%22%3A%7B%22id%22%3A%22vegan%22%2C%22name%22%3A%22Vegan%22%2C%22category%22%3A%22special-consideration%22%2C%22orderCount%22%3A0%2C%22count%22%3A6%7D%2C%22low-fat%22%3A%7B%22id%22%3A%22low-fat%22%2C%22name%22%3A%22Low%20Fat%22%2C%22category%22%3A%22special-consideration%22%2C%22orderCount%22%3A0%2C%22count%22%3A1%7D%2C%22low-no-sugar%22%3A%7B%22id%22%3A%22low-no-sugar%22%2C%22name%22%3A%22Low%2FNo%20Sugar%22%2C%22category%22%3A%22special-consideration%22%2C%22orderCount%22%3A0%2C%22count%22%3A0%7D%2C%22low-sodium%22%3A%7B%22id%22%3A%22low-sodium%22%2C%22name%22%3A%22Low%20Sodium%22%2C%22orderCount%22%3A0%2C%22count%22%3A0%7D%2C%22high-fiber%22%3A%7B%22id%22%3A%22high-fiber%22%2C%22name%22%3A%22High%20Fiber%22%2C%22category%22%3A%22special-consideration%22%2C%22orderCount%22%3A0%2C%22count%22%3A1%7D%2C%22kosher%22%3A%7B%22id%22%3A%22kosher%22%2C%22name%22%3A%22Kosher%22%2C%22category%22%3A%22special-consideration%22%2C%22orderCount%22%3A0%2C%22count%22%3A8%7D%2C%22low-cholesterol%22%3A%7B%22id%22%3A%22low-cholesterol%22%2C%22name%22%3A%22Low%20Cholesterol%22%2C%22orderCount%22%3A0%2C%22count%22%3A0%7D%2C%22raw%22%3A%7B%22id%22%3A%22raw%22%2C%22name%22%3A%22Raw%22%2C%22orderCount%22%3A0%2C%22count%22%3A0%7D%2C%22kosher-for-passover%22%3A%7B%22id%22%3A%22kosher-for-passover%22%2C%22name%22%3A%22Kosher%20for%20Passover%22%2C%22orderCount%22%3A0%2C%22count%22%3A0%7D%2C%22organic%22%3A%7B%22id%22%3A%22organic%22%2C%22name%22%3A%22Organic%22%2C%22orderCount%22%3A0%2C%22count%22%3A0%7D%7D%2C%22ingredient%22%3A%7B%22chicken%22%3A%7B%22id%22%3A%22chicken%22%2C%22name%22%3A%22Chicken%22%2C%22category%22%3A%22ingredient%22%2C%22orderCount%22%3A0%2C%22count%22%3A2%7D%2C%22beef%22%3A%7B%22id%22%3A%22beef%22%2C%22name%22%3A%22Beef%22%2C%22category%22%3A%22ingredient%22%2C%22orderCount%22%3A0%2C%22count%22%3A0%7D%2C%22fish%22%3A%7B%22id%22%3A%22fish%22%2C%22name%22%3A%22Fish%22%2C%22category%22%3A%22ingredient%22%2C%22orderCount%22%3A0%2C%22count%22%3A1%7D%2C%22pork%22%3A%7B%22id%22%3A%22pork%22%2C%22name%22%3A%22Pork%22%2C%22category%22%3A%22ingredient%22%2C%22orderCount%22%3A0%2C%22count%22%3A0%7D%2C%22vegetable%22%3A%7B%22id%22%3A%22vegetable%22%2C%22name%22%3A%22Vegetable%22%2C%22category%22%3A%22ingredient%22%2C%22orderCount%22%3A0%2C%22count%22%3A2%7D%2C%22turkey%22%3A%7B%22id%22%3A%22turkey%22%2C%22name%22%3A%22Turkey%22%2C%22category%22%3A%22ingredient%22%2C%22orderCount%22%3A0%2C%22count%22%3A1%7D%2C%22potato%22%3A%7B%22id%22%3A%22potato%22%2C%22name%22%3A%22Potato%22%2C%22category%22%3A%22ingredient%22%2C%22orderCount%22%3A0%2C%22count%22%3A0%7D%2C%22pasta%22%3A%7B%22id%22%3A%22pasta%22%2C%22name%22%3A%22Pasta%22%2C%22category%22%3A%22ingredient%22%2C%22orderCount%22%3A0%2C%22count%22%3A1%7D%2C%22seafood%22%3A%7B%22id%22%3A%22seafood%22%2C%22name%22%3A%22Seafood%22%2C%22category%22%3A%22ingredient%22%2C%22orderCount%22%3A0%2C%22count%22%3A1%7D%2C%22egg%22%3A%7B%22id%22%3A%22egg%22%2C%22name%22%3A%22Egg%22%2C%22category%22%3A%22ingredient%22%2C%22orderCount%22%3A0%2C%22count%22%3A0%7D%2C%22lamb%22%3A%7B%22id%22%3A%22lamb%22%2C%22name%22%3A%22Lamb%22%2C%22category%22%3A%22ingredient%22%2C%22orderCount%22%3A0%2C%22count%22%3A0%7D%2C%22chocolate%22%3A%7B%22id%22%3A%22chocolate%22%2C%22name%22%3A%22Chocolate%22%2C%22category%22%3A%22ingredient%22%2C%22orderCount%22%3A0%2C%22count%22%3A1%7D%2C%22cranberry%22%3A%7B%22id%22%3A%22cranberry%22%2C%22name%22%3A%22Cranberry%22%2C%22orderCount%22%3A0%2C%22count%22%3A0%7D%2C%22salmon%22%3A%7B%22id%22%3A%22salmon%22%2C%22name%22%3A%22Salmon%22%2C%22category%22%3A%22ingredient%22%2C%22orderCount%22%3A0%2C%22count%22%3A0%7D%2C%22bean%22%3A%7B%22id%22%3A%22bean%22%2C%22name%22%3A%22Bean%22%2C%22category%22%3A%22ingredient%22%2C%22orderCount%22%3A0%2C%22count%22%3A0%7D%2C%22shellfish%22%3A%7B%22id%22%3A%22shellfish%22%2C%22name%22%3A%22Shellfish%22%2C%22category%22%3A%22ingredient%22%2C%22orderCount%22%3A0%2C%22count%22%3A0%7D%2C%22fruit%22%3A%7B%22id%22%3A%22fruit%22%2C%22name%22%3A%22Fruit%22%2C%22category%22%3A%22ingredient%22%2C%22orderCount%22%3A0%2C%22count%22%3A0%7D%2C%22duck%22%3A%7B%22id%22%3A%22duck%22%2C%22name%22%3A%22Duck%22%2C%22orderCount%22%3A0%2C%22count%22%3A1%7D%2C%22shrimp%22%3A%7B%22id%22%3A%22shrimp%22%2C%22name%22%3A%22Shrimp%22%2C%22category%22%3A%22ingredient%22%2C%22orderCount%22%3A0%2C%22count%22%3A0%7D%2C%22mushroom%22%3A%7B%22id%22%3A%22mushroom%22%2C%22name%22%3A%22Mushroom%22%2C%22category%22%3A%22ingredient%22%2C%22orderCount%22%3A0%2C%22count%22%3A0%7D%2C%22tomato%22%3A%7B%22id%22%3A%22tomato%22%2C%22name%22%3A%22Tomato%22%2C%22category%22%3A%22ingredient%22%2C%22orderCount%22%3A0%2C%22count%22%3A1%7D%2C%22rice%22%3A%7B%22id%22%3A%22rice%22%2C%22name%22%3A%22Rice%22%2C%22category%22%3A%22ingredient%22%2C%22orderCount%22%3A0%2C%22count%22%3A1%7D%2C%22poultry%22%3A%7B%22id%22%3A%22poultry%22%2C%22name%22%3A%22Poultry%22%2C%22orderCount%22%3A0%2C%22count%22%3A1%7D%2C%22scallop%22%3A%7B%22id%22%3A%22scallop%22%2C%22name%22%3A%22Scallop%22%2C%22category%22%3A%22ingredient%22%2C%22orderCount%22%3A0%2C%22count%22%3A1%7D%2C%22ham%22%3A%7B%22id%22%3A%22ham%22%2C%22name%22%3A%22Ham%22%2C%22orderCount%22%3A0%2C%22count%22%3A0%7D%2C%22carrot%22%3A%7B%22id%22%3A%22carrot%22%2C%22name%22%3A%22Carrot%22%2C%22category%22%3A%22ingredient%22%2C%22orderCount%22%3A0%2C%22count%22%3A0%7D%2C%22eggplant%22%3A%7B%22id%22%3A%22eggplant%22%2C%22name%22%3A%22Eggplant%22%2C%22category%22%3A%22ingredient%22%2C%22orderCount%22%3A0%2C%22count%22%3A0%7D%2C%22leafy-green%22%3A%7B%22id%22%3A%22leafy-green%22%2C%22name%22%3A%22Leafy%20Green%22%2C%22category%22%3A%22ingredient%22%2C%22orderCount%22%3A0%2C%22count%22%3A1%7D%2C%22apple%22%3A%7B%22id%22%3A%22apple%22%2C%22name%22%3A%22Apple%22%2C%22category%22%3A%22ingredient%22%2C%22orderCount%22%3A0%2C%22count%22%3A0%7D%2C%22green-bean%22%3A%7B%22id%22%3A%22green-bean%22%2C%22name%22%3A%22Green%20Bean%22%2C%22category%22%3A%22ingredient%22%2C%22orderCount%22%3A0%2C%22count%22%3A0%7D%2C%22broccoli%22%3A%7B%22id%22%3A%22broccoli%22%2C%22name%22%3A%22Broccoli%22%2C%22category%22%3A%22ingredient%22%2C%22orderCount%22%3A0%2C%22count%22%3A0%7D%2C%22zucchini%22%3A%7B%22id%22%3A%22zucchini%22%2C%22name%22%3A%22Zucchini%22%2C%22category%22%3A%22ingredient%22%2C%22orderCount%22%3A0%2C%22count%22%3A0%7D%2C%22cabbage%22%3A%7B%22id%22%3A%22cabbage%22%2C%22name%22%3A%22Cabbage%22%2C%22category%22%3A%22ingredient%22%2C%22orderCount%22%3A0%2C%22count%22%3A0%7D%2C%22ground-beef%22%3A%7B%22id%22%3A%22ground-beef%22%2C%22name%22%3A%22Ground%20Beef%22%2C%22category%22%3A%22ingredient%22%2C%22orderCount%22%3A0%2C%22count%22%3A0%7D%2C%22lemon%22%3A%7B%22id%22%3A%22lemon%22%2C%22name%22%3A%22Lemon%22%2C%22category%22%3A%22ingredient%22%2C%22orderCount%22%3A0%2C%22count%22%3A1%7D%2C%22sweet-potato-yam%22%3A%7B%22id%22%3A%22sweet-potato-yam%22%2C%22name%22%3A%22Sweet%20Potato%22%2C%22category%22%3A%22ingredient%22%2C%22orderCount%22%3A0%2C%22count%22%3A0%7D%2C%22citrus%22%3A%7B%22id%22%3A%22citrus%22%2C%22name%22%3A%22Citrus%22%2C%22category%22%3A%22ingredient%22%2C%22orderCount%22%3A0%2C%22count%22%3A1%7D%2C%22kale%22%3A%7B%22id%22%3A%22kale%22%2C%22name%22%3A%22Kale%22%2C%22category%22%3A%22ingredient%22%2C%22orderCount%22%3A0%2C%22count%22%3A0%7D%2C%22spinach%22%3A%7B%22id%22%3A%22spinach%22%2C%22name%22%3A%22Spinach%22%2C%22category%22%3A%22ingredient%22%2C%22orderCount%22%3A0%2C%22count%22%3A1%7D%7D%2C%22cuisine%22%3A%7B%22italian%22%3A%7B%22id%22%3A%22italian%22%2C%22name%22%3A%22Italian%22%2C%22category%22%3A%22cuisine%22%2C%22orderCount%22%3A0%2C%22count%22%3A0%7D%2C%22mexican%22%3A%7B%22id%22%3A%22mexican%22%2C%22name%22%3A%22Mexican%22%2C%22category%22%3A%22cuisine%22%2C%22orderCount%22%3A0%2C%22count%22%3A0%7D%2C%22moroccan%22%3A%7B%22id%22%3A%22moroccan%22%2C%22name%22%3A%22Moroccan%22%2C%22category%22%3A%22cuisine%22%2C%22orderCount%22%3A0%2C%22count%22%3A0%7D%2C%22french%22%3A%7B%22id%22%3A%22french%22%2C%22name%22%3A%22French%22%2C%22category%22%3A%22cuisine%22%2C%22orderCount%22%3A0%2C%22count%22%3A0%7D%2C%22asian%22%3A%7B%22id%22%3A%22asian%22%2C%22name%22%3A%22Asian%22%2C%22category%22%3A%22cuisine%22%2C%22orderCount%22%3A0%2C%22count%22%3A5%7D%2C%22indian%22%3A%7B%22id%22%3A%22indian%22%2C%22name%22%3A%22Indian%22%2C%22category%22%3A%22cuisine%22%2C%22orderCount%22%3A0%2C%22count%22%3A1%7D%2C%22thai%22%3A%7B%22id%22%3A%22thai%22%2C%22name%22%3A%22Thai%22%2C%22category%22%3A%22cuisine%22%2C%22orderCount%22%3A0%2C%22count%22%3A1%7D%2C%22mediterranean%22%3A%7B%22id%22%3A%22mediterranean%22%2C%22name%22%3A%22Mediterranean%22%2C%22category%22%3A%22cuisine%22%2C%22orderCount%22%3A0%2C%22count%22%3A0%7D%2C%22middle-eastern%22%3A%7B%22id%22%3A%22middle-eastern%22%2C%22name%22%3A%22Middle%20Eastern%22%2C%22category%22%3A%22cuisine%22%2C%22orderCount%22%3A0%2C%22count%22%3A0%7D%2C%22spanish-portuguese%22%3A%7B%22id%22%3A%22spanish-portuguese%22%2C%22name%22%3A%22Spanish%2FPortuguese%22%2C%22category%22%3A%22cuisine%22%2C%22orderCount%22%3A0%2C%22count%22%3A0%7D%2C%22greek%22%3A%7B%22id%22%3A%22greek%22%2C%22name%22%3A%22Greek%22%2C%22category%22%3A%22cuisine%22%2C%22orderCount%22%3A0%2C%22count%22%3A0%7D%2C%22american%22%3A%7B%22id%22%3A%22american%22%2C%22name%22%3A%22American%22%2C%22category%22%3A%22cuisine%22%2C%22orderCount%22%3A0%2C%22count%22%3A0%7D%2C%22chinese%22%3A%7B%22id%22%3A%22chinese%22%2C%22name%22%3A%22Chinese%22%2C%22category%22%3A%22cuisine%22%2C%22orderCount%22%3A0%2C%22count%22%3A3%7D%2C%22cajun-creole%22%3A%7B%22id%22%3A%22cajun-creole%22%2C%22name%22%3A%22Cajun%2FCreole%22%2C%22category%22%3A%22cuisine%22%2C%22orderCount%22%3A0%2C%22count%22%3A0%7D%2C%22central-south-american%22%3A%7B%22id%22%3A%22central-south-american%22%2C%22name%22%3A%22Central%2FS.%20American%22%2C%22category%22%3A%22cuisine%22%2C%22orderCount%22%3A0%2C%22count%22%3A0%7D%2C%22southern%22%3A%7B%22id%22%3A%22southern%22%2C%22name%22%3A%22Southern%22%2C%22orderCount%22%3A0%2C%22count%22%3A0%7D%2C%22german%22%3A%7B%22id%22%3A%22german%22%2C%22name%22%3A%22German%22%2C%22orderCount%22%3A0%2C%22count%22%3A0%7D%2C%22african%22%3A%7B%22id%22%3A%22african%22%2C%22name%22%3A%22African%22%2C%22category%22%3A%22cuisine%22%2C%22orderCount%22%3A0%2C%22count%22%3A0%7D%2C%22scandinavian%22%3A%7B%22id%22%3A%22scandinavian%22%2C%22name%22%3A%22Scandinavian%22%2C%22orderCount%22%3A0%2C%22count%22%3A0%7D%2C%22eastern-european-russian%22%3A%7B%22id%22%3A%22eastern-european-russian%22%2C%22name%22%3A%22Eastern%20European%22%2C%22orderCount%22%3A0%2C%22count%22%3A0%7D%2C%22irish%22%3A%7B%22id%22%3A%22irish%22%2C%22name%22%3A%22Irish%22%2C%22category%22%3A%22cuisine%22%2C%22orderCount%22%3A0%2C%22count%22%3A0%7D%2C%22japanese%22%3A%7B%22id%22%3A%22japanese%22%2C%22name%22%3A%22Japanese%22%2C%22category%22%3A%22cuisine%22%2C%22orderCount%22%3A0%2C%22count%22%3A4%7D%2C%22southwestern%22%3A%7B%22id%22%3A%22southwestern%22%2C%22name%22%3A%22Southwestern%22%2C%22orderCount%22%3A0%2C%22count%22%3A0%7D%2C%22vietnamese%22%3A%7B%22id%22%3A%22vietnamese%22%2C%22name%22%3A%22Vietnamese%22%2C%22category%22%3A%22cuisine%22%2C%22orderCount%22%3A0%2C%22count%22%3A0%7D%2C%22english%22%3A%7B%22id%22%3A%22english%22%2C%22name%22%3A%22English%22%2C%22category%22%3A%22cuisine%22%2C%22orderCount%22%3A0%2C%22count%22%3A0%7D%2C%22jewish%22%3A%7B%22id%22%3A%22jewish%22%2C%22name%22%3A%22Jewish%22%2C%22category%22%3A%22cuisine%22%2C%22orderCount%22%3A0%2C%22count%22%3A0%7D%2C%22central-american-caribbean%22%3A%7B%22id%22%3A%22central-american-caribbean%22%2C%22name%22%3A%22Caribbean%22%2C%22category%22%3A%22cuisine%22%2C%22orderCount%22%3A0%2C%22count%22%3A0%7D%2C%22latin-american%22%3A%7B%22id%22%3A%22latin-american%22%2C%22name%22%3A%22Latin%20American%22%2C%22category%22%3A%22cuisine%22%2C%22orderCount%22%3A0%2C%22count%22%3A0%7D%2C%22tex-mex%22%3A%7B%22id%22%3A%22tex-mex%22%2C%22name%22%3A%22Tex-Mex%22%2C%22orderCount%22%3A0%2C%22count%22%3A0%7D%2C%22italian-american%22%3A%7B%22id%22%3A%22italian-american%22%2C%22name%22%3A%22Italian%20American%22%2C%22category%22%3A%22cuisine%22%2C%22orderCount%22%3A0%2C%22count%22%3A0%7D%2C%22turkish%22%3A%7B%22id%22%3A%22turkish%22%2C%22name%22%3A%22Turkish%22%2C%22category%22%3A%22cuisine%22%2C%22orderCount%22%3A0%2C%22count%22%3A0%7D%2C%22korean%22%3A%7B%22id%22%3A%22korean%22%2C%22name%22%3A%22Korean%22%2C%22category%22%3A%22cuisine%22%2C%22orderCount%22%3A0%2C%22count%22%3A0%7D%2C%22southeast-asian%22%3A%7B%22id%22%3A%22southeast-asian%22%2C%22name%22%3A%22Southeast%20Asian%22%2C%22category%22%3A%22cuisine%22%2C%22orderCount%22%3A0%2C%22count%22%3A0%7D%2C%22european%22%3A%7B%22id%22%3A%22european%22%2C%22name%22%3A%22European%22%2C%22category%22%3A%22cuisine%22%2C%22orderCount%22%3A0%2C%22count%22%3A0%7D%2C%22british%22%3A%7B%22id%22%3A%22british%22%2C%22name%22%3A%22British%22%2C%22orderCount%22%3A0%2C%22count%22%3A0%7D%2C%22cuban%22%3A%7B%22id%22%3A%22cuban%22%2C%22name%22%3A%22Cuban%22%2C%22category%22%3A%22cuisine%22%2C%22orderCount%22%3A0%2C%22count%22%3A0%7D%2C%22south-american%22%3A%7B%22id%22%3A%22south-american%22%2C%22name%22%3A%22South%20American%22%2C%22category%22%3A%22cuisine%22%2C%22orderCount%22%3A0%2C%22count%22%3A0%7D%2C%22nuevo-latino%22%3A%7B%22id%22%3A%22nuevo-latino%22%2C%22name%22%3A%22Nuevo%20Latino%22%2C%22orderCount%22%3A0%2C%22count%22%3A0%7D%2C%22californian%22%3A%7B%22id%22%3A%22californian%22%2C%22name%22%3A%22Californian%22%2C%22orderCount%22%3A0%2C%22count%22%3A0%7D%2C%22south-asian%22%3A%7B%22id%22%3A%22south-asian%22%2C%22name%22%3A%22South%20Asian%22%2C%22orderCount%22%3A0%2C%22count%22%3A0%7D%7D%2C%22occasion%22%3A%7B%22summer%22%3A%7B%22id%22%3A%22summer%22%2C%22name%22%3A%22Summer%22%2C%22category%22%3A%22occasion%22%2C%22orderCount%22%3A0%2C%22count%22%3A3%7D%2C%22fourth-of-july%22%3A%7B%22id%22%3A%22fourth-of-july%22%2C%22name%22%3A%22Fourth%20of%20July%22%2C%22orderCount%22%3A0%2C%22count%22%3A0%7D%2C%22fall%22%3A%7B%22id%22%3A%22fall%22%2C%22name%22%3A%22Fall%22%2C%22orderCount%22%3A0%2C%22count%22%3A1%7D%2C%22thanksgiving%22%3A%7B%22id%22%3A%22thanksgiving%22%2C%22name%22%3A%22Thanksgiving%22%2C%22category%22%3A%22occasion%22%2C%22orderCount%22%3A0%2C%22count%22%3A1%7D%2C%22christmas%22%3A%7B%22id%22%3A%22christmas%22%2C%22name%22%3A%22Christmas%22%2C%22category%22%3A%22occasion%22%2C%22orderCount%22%3A0%2C%22count%22%3A0%7D%2C%22new-years-eve%22%3A%7B%22id%22%3A%22new-years-eve%22%2C%22name%22%3A%22New%20Year's%20Eve%22%2C%22category%22%3A%22occasion%22%2C%22orderCount%22%3A0%2C%22count%22%3A0%7D%2C%22easter%22%3A%7B%22id%22%3A%22easter%22%2C%22name%22%3A%22Easter%22%2C%22category%22%3A%22occasion%22%2C%22orderCount%22%3A0%2C%22count%22%3A0%7D%2C%22passover%22%3A%7B%22id%22%3A%22passover%22%2C%22name%22%3A%22Passover%22%2C%22category%22%3A%22occasion%22%2C%22orderCount%22%3A0%2C%22count%22%3A0%7D%2C%22backyard-bbq%22%3A%7B%22id%22%3A%22backyard-bbq%22%2C%22name%22%3A%22Backyard%20BBQ%22%2C%22orderCount%22%3A0%2C%22count%22%3A1%7D%2C%22picnic%22%3A%7B%22id%22%3A%22picnic%22%2C%22name%22%3A%22Picnic%22%2C%22orderCount%22%3A0%2C%22count%22%3A2%7D%2C%22potluck%22%3A%7B%22id%22%3A%22potluck%22%2C%22name%22%3A%22Potluck%22%2C%22category%22%3A%22occasion%22%2C%22orderCount%22%3A0%2C%22count%22%3A1%7D%2C%22tailgating%22%3A%7B%22id%22%3A%22tailgating%22%2C%22name%22%3A%22Tailgating%22%2C%22orderCount%22%3A0%2C%22count%22%3A0%7D%2C%22birthday%22%3A%7B%22id%22%3A%22birthday%22%2C%22name%22%3A%22Birthday%22%2C%22category%22%3A%22occasion%22%2C%22orderCount%22%3A0%2C%22count%22%3A0%7D%2C%22party%22%3A%7B%22id%22%3A%22party%22%2C%22name%22%3A%22Party%22%2C%22category%22%3A%22occasion%22%2C%22orderCount%22%3A0%2C%22count%22%3A0%7D%2C%22super-bowl%22%3A%7B%22id%22%3A%22super-bowl%22%2C%22name%22%3A%22Super%20Bowl%22%2C%22orderCount%22%3A0%2C%22count%22%3A0%7D%2C%22winter%22%3A%7B%22id%22%3A%22winter%22%2C%22name%22%3A%22Winter%22%2C%22category%22%3A%22occasion%22%2C%22orderCount%22%3A0%2C%22count%22%3A1%7D%2C%22cocktail-party%22%3A%7B%22id%22%3A%22cocktail-party%22%2C%22name%22%3A%22Cocktail%20Party%22%2C%22category%22%3A%22occasion%22%2C%22orderCount%22%3A0%2C%22count%22%3A0%7D%2C%22christmas-eve%22%3A%7B%22id%22%3A%22christmas-eve%22%2C%22name%22%3A%22Christmas%20Eve%22%2C%22orderCount%22%3A0%2C%22count%22%3A0%7D%2C%22spring%22%3A%7B%22id%22%3A%22spring%22%2C%22name%22%3A%22Spring%22%2C%22category%22%3A%22occasion%22%2C%22orderCount%22%3A0%2C%22count%22%3A1%7D%2C%22valentines-day%22%3A%7B%22id%22%3A%22valentines-day%22%2C%22name%22%3A%22Valentine's%20Day%22%2C%22orderCount%22%3A0%2C%22count%22%3A0%7D%2C%22halloween%22%3A%7B%22id%22%3A%22halloween%22%2C%22name%22%3A%22Halloween%22%2C%22orderCount%22%3A0%2C%22count%22%3A0%7D%2C%22cinco-de-mayo%22%3A%7B%22id%22%3A%22cinco-de-mayo%22%2C%22name%22%3A%22Cinco%20de%20Mayo%22%2C%22orderCount%22%3A0%2C%22count%22%3A0%7D%2C%22wedding%22%3A%7B%22id%22%3A%22wedding%22%2C%22name%22%3A%22Wedding%22%2C%22orderCount%22%3A0%2C%22count%22%3A0%7D%2C%22mothers-day%22%3A%7B%22id%22%3A%22mothers-day%22%2C%22name%22%3A%22Mother's%20Day%22%2C%22orderCount%22%3A0%2C%22count%22%3A0%7D%2C%22st-patricks-day%22%3A%7B%22id%22%3A%22st-patricks-day%22%2C%22name%22%3A%22St.%20Patrick's%20Day%22%2C%22category%22%3A%22occasion%22%2C%22orderCount%22%3A0%2C%22count%22%3A0%7D%2C%22hanukkah%22%3A%7B%22id%22%3A%22hanukkah%22%2C%22name%22%3A%22Hanukkah%22%2C%22orderCount%22%3A0%2C%22count%22%3A0%7D%2C%22shower%22%3A%7B%22id%22%3A%22shower%22%2C%22name%22%3A%22Shower%22%2C%22category%22%3A%22occasion%22%2C%22orderCount%22%3A0%2C%22count%22%3A0%7D%2C%22mardi-gras%22%3A%7B%22id%22%3A%22mardi-gras%22%2C%22name%22%3A%22Mardi%20Gras%22%2C%22orderCount%22%3A0%2C%22count%22%3A0%7D%2C%22family-reunion%22%3A%7B%22id%22%3A%22family-reunion%22%2C%22name%22%3A%22Family%20Reunion%22%2C%22orderCount%22%3A0%2C%22count%22%3A0%7D%2C%22new-years-day%22%3A%7B%22id%22%3A%22new-years-day%22%2C%22name%22%3A%22New%20Year's%20Day%22%2C%22orderCount%22%3A0%2C%22count%22%3A0%7D%2C%22kentucky-derby%22%3A%7B%22id%22%3A%22kentucky-derby%22%2C%22name%22%3A%22Kentucky%20Derby%22%2C%22orderCount%22%3A0%2C%22count%22%3A0%7D%2C%22engagement-party%22%3A%7B%22id%22%3A%22engagement-party%22%2C%22name%22%3A%22Engagement%20Party%22%2C%22orderCount%22%3A0%2C%22count%22%3A0%7D%2C%22poker-game-night%22%3A%7B%22id%22%3A%22poker-game-night%22%2C%22name%22%3A%22Poker%2FGame%20Night%22%2C%22orderCount%22%3A0%2C%22count%22%3A0%7D%2C%22oscars%22%3A%7B%22id%22%3A%22oscars%22%2C%22name%22%3A%22Oscars%22%2C%22category%22%3A%22occasion%22%2C%22orderCount%22%3A0%2C%22count%22%3A0%7D%2C%22fathers-day%22%3A%7B%22id%22%3A%22fathers-day%22%2C%22name%22%3A%22Father's%20Day%22%2C%22orderCount%22%3A0%2C%22count%22%3A0%7D%2C%22anniversary%22%3A%7B%22id%22%3A%22anniversary%22%2C%22name%22%3A%22Anniversary%22%2C%22orderCount%22%3A0%2C%22count%22%3A0%7D%2C%22graduation%22%3A%7B%22id%22%3A%22graduation%22%2C%22name%22%3A%22Graduation%22%2C%22orderCount%22%3A0%2C%22count%22%3A0%7D%2C%22rosh-hashanah-yom-kippur%22%3A%7B%22id%22%3A%22rosh-hashanah-yom-kippur%22%2C%22name%22%3A%22Rosh%20Hashanah%22%2C%22orderCount%22%3A0%2C%22count%22%3A0%7D%2C%22ramadan%22%3A%7B%22id%22%3A%22ramadan%22%2C%22name%22%3A%22Ramadan%22%2C%22orderCount%22%3A0%2C%22count%22%3A0%7D%2C%22bastille-day%22%3A%7B%22id%22%3A%22bastille-day%22%2C%22name%22%3A%22Bastille%20Day%22%2C%22orderCount%22%3A0%2C%22count%22%3A0%7D%7D%7D%2C%22filterCount%22%3A21%2C%22historyPop%22%3Afalse%2C%22idWithQuickView%22%3A%22%22%2C%22initialFacets%22%3A%7B%22content%22%3A%7B%22article%22%3A10%2C%22recipe%22%3A11%7D%7D%2C%22inputTerms%22%3A%22tofu%20chill%22%2C%22searchTerms%22%3A%22tofu%20chill%22%2C%22refreshResults%22%3Afalse%2C%22resultGroups%22%3A%5Bnull%2C%7B%22items%22%3A%5B%7B%22id%22%3A%2254a42e8319925f464b381eab%22%2C%22dek%22%3A%22A%20bowl%20of%20these%20refreshing%20noodles%E2%80%94a%20riff%20on%20a%20Japanese%20classic%20that%20gets%20topped%20with%20silky%20tofu%E2%80%94is%20clean%20and%20light%2C%20yet%20still%20hearty%20enough%20to%20make%20a%20satisfying%20meal.%22%2C%22hed%22%3A%22Chilled%20Soba%20with%20Tofu%20and%20Sugar%20Snap%20Peas%22%2C%22pubDate%22%3A%222008-09-18T16%3A43%3A55.000Z%22%2C%22author%22%3A%5B%7B%22name%22%3A%22%20Lillian%20Chou%22%7D%5D%2C%22type%22%3A%22recipe%22%2C%22url%22%3A%22%2Frecipes%2Ffood%2Fviews%2Fchilled-soba-with-tofu-and-sugar-snap-peas-242834%22%2C%22photoData%22%3A%7B%22id%22%3A%22560d78b17b55306961bf3470%22%2C%22filename%22%3A%22242834_hires.jpg%22%2C%22caption%22%3A%22Chilled%20Soba%20with%20Tofu%20and%20Sugar%20Snap%20Peas%22%2C%22credit%22%3A%22Romulo%20Yanes%22%2C%22promoTitle%22%3A%22Chilled%20Soba%20with%20Tofu%20and%20Sugar%20Snap%20Peas%22%2C%22title%22%3A%22Chilled%20Soba%20with%20Tofu%20and%20Sugar%20Snap%20Peas%22%2C%22orientation%22%3A%22portrait%22%2C%22restrictCropping%22%3Afalse%7D%2C%22tag%22%3A%7B%22category%22%3A%22cuisine%22%2C%22name%22%3A%22Japanese%22%2C%22url%22%3A%22%22%2C%22photosBadgeAltText%22%3A%22%22%2C%22photosBadgeFileName%22%3A%22%22%2C%22photosBadgeID%22%3A%22%22%2C%22photosBadgeRelatedUri%22%3A%22%22%7D%2C%22aggregateRating%22%3A3.53%2C%22ingredients%22%3A%5B%221%20large%20dried%20shiitake%20mushroom%22%2C%222%201%2F2%20cups%20water%22%2C%228%20(1-inch)%20pieces%20kombu%20(dried%20kelp)%22%2C%221%2F2%20cup%20soy%20sauce%20(preferably%20Japanese)%22%2C%221%2F4%20cup%20mirin%20(Japanese%20sweet%20rice%20wine)%22%2C%223%20tablespoons%20ponzu%20sauce%20(not%20containing%20dashi)%22%2C%221%20tablespoon%20sugar%22%2C%221%20tablespoon%20Asian%20sesame%20oil%22%2C%221%20pound%20sugar%20snap%20peas%2C%20thinly%20sliced%22%2C%2210%20ounces%20baby%20spinach%20(16%20cups)%22%2C%221%20pound%20dried%20soba%20noodles%22%2C%221%20(14-%20to%2018-ounce)%20package%20silken%20tofu%22%2C%221%20cup%20thinly%20sliced%20scallions%2C%20divided%22%2C%222%20tablespoons%20thin%20matchsticks%20of%20peeled%20ginger%22%5D%2C%22prepSteps%22%3A%5B%22Simmer%20mushroom%20in%20water%20in%20a%20small%20saucepan%2C%20covered%2C%2015%20minutes.%20Add%20kombu%20and%20barely%20simmer%2C%20covered%2C%205%20minutes.%20Remove%20from%20heat%20and%20let%20stand%2C%20covered%2C%205%20minutes.%20Strain%20through%20a%20fine-mesh%20sieve%20into%20a%20large%20glass%20measure%2C%20pressing%20on%20and%20discarding%20solids.%20Return%202%20cups%20liquid%20(add%20water%20if%20necessary)%20to%20saucepan.%20Add%20soy%20sauce%2C%20mirin%2C%20ponzu%2C%20sugar%2C%20and%201%2F4%20teaspoon%20salt%20and%20bring%20to%20a%20boil%2C%20stirring%20until%20sugar%20has%20dissolved.%20Remove%20from%20heat.%20Stir%20in%20sesame%20oil%2C%20then%20cool%20in%20pan%20in%20a%20large%20ice%20bath.%22%2C%22Blanch%20sugar%20snaps%20in%20a%20large%20pot%20of%20unsalted%20boiling%20water%20until%20crisp-tender%2C%20about%202%20minutes.%20Transfer%20with%20a%20slotted%20spoon%20to%20a%20large%20colander%20set%20in%20ice%20bath%20to%20stop%20cooking.%20Lift%20colander%20to%20drain.%20Transfer%20sugar%20snaps%20to%20a%20bowl.%20Meanwhile%2C%20return%20water%20to%20a%20boil.%20Blanch%20spinach%20until%20just%20wilted%2C%20about%2030%20seconds%2C%20then%20cool%20and%20drain%20in%20same%20manner.%20Squeeze%20out%20excess%20water.%20Add%20to%20sugar%20snaps.%22%2C%22Return%20water%20to%20a%20boil.%22%2C%22Add%20noodles%20and%20cook%20according%20to%20package%20directions%2C%20stirring%20occasionally%2C%20until%20tender.%20Drain%20in%20colander%20and%20rinse%20with%20cold%20water.%20Cool%20in%20ice%20bath%20until%20very%20cold%20(add%20more%20ice%20to%20water%20as%20necessary).%20Drain%20well.%22%2C%22Carefully%20drain%20tofu%20and%20pat%20dry.%20Cut%20into%203%2F4-inch%20cubes.%22%2C%22Whisk%20sauce%2C%20then%20pour%201%201%2F2%20cups%20sauce%20into%20a%20large%20bowl.%20Add%20noodles%2C%20sugar%20snaps%2C%20spinach%2C%20and%20half%20of%20scallions%20and%20toss.%20Serve%20in%20shallow%20bowls%2C%20topped%20with%20tofu%2C%20remaining%20scallions%2C%20and%20ginger.%20Drizzle%20with%20some%20of%20remaining%20sauce%20and%20serve%20remainder%20on%20the%20side.%22%5D%2C%22reviewsCount%22%3A8%2C%22willMakeAgainPct%22%3A75%7D%2C%7B%22id%22%3A%2254a4216a19925f464b3785c7%22%2C%22dek%22%3A%22I've%20been%20doing%20the%20previous%20marinades%20forever.%20This%20new%20one%20is%20first%20cousin%20to%20a%20good%20barbecued%20tofu%3A%20piquant%2C%20sweet-hot-rich%2C%20and%20scintillatingly%20tasty.%20The%20tofu%20is%20baked%20in%20the%20marinade%2Fsauce%2C%20which%20cooks%20down%20and%20coats%20it%2C%20caramelizing%20them.%20You'll%20probably%20have%20to%20soak%20the%20baking%20dish%20overnight%20before%20washing%20it%2C%20but%20it's%20worth%20it.%20Vary%20this%20using%20fruit%20juice%20concentrate%20instead%20of%20honey%20or%20sugar%2C%20and%20adding%20extra%20ginger%2C%20orange%20zest%2C%20or%20both.%20For%20an%20incendiary%20smokiness%2C%20add%20chipotle%20in%20adobo.%22%2C%22hed%22%3A%22New%20Wave-New%20Fave%20Baked%20Tofu%20or%20Tempeh%22%2C%22pubDate%22%3A%222012-02-10T04%3A00%3A00.000Z%22%2C%22author%22%3A%5B%7B%22name%22%3A%22Crescent%20Dragonwagon%22%7D%5D%2C%22type%22%3A%22recipe%22%2C%22url%22%3A%22%2Frecipes%2Ffood%2Fviews%2Fnew-wave-new-fave-baked-tofu-or-tempeh-394509%22%2C%22photoData%22%3A%7B%22id%22%3A%225a0ddb046e013d11dde39630%22%2C%22filename%22%3A%22no-recipe-card-green-15112017.jpg%22%2C%22caption%22%3A%22No%20Recipe%20Card-%20GREEN%22%2C%22credit%22%3A%22Photo%20by%20Chelsea%20Kyle%22%2C%22colors%22%3A%7B%22average%22%3A%22%23000000%22%7D%2C%22type%22%3A%22photo%22%7D%2C%22tag%22%3A%7B%22category%22%3A%22ingredient%22%2C%22name%22%3A%22Soy%22%2C%22url%22%3A%22%22%2C%22photosBadgeAltText%22%3A%22%22%2C%22photosBadgeFileName%22%3A%22%22%2C%22photosBadgeID%22%3A%22%22%2C%22photosBadgeRelatedUri%22%3A%22%22%7D%2C%22aggregateRating%22%3A3%2C%22ingredients%22%3A%5B%221%2F3%20cup%20natural%2C%20unhydrogenated%20peanut%20butter%22%2C%221%2F3%20cup%20tamari%20or%20shoyu%20soy%20sauce%22%2C%221%2F3%20cup%20honey%2C%20light%20brown%20sugar%2C%20maple%20syrup%2C%20or%20thawed%2C%20undiluted%20frozen%20apple%20or%20pineapple%20juice%20concentrate%22%2C%221%2F4%20cup%20apple%20cider%20vinegar%22%2C%224%20to%206%20cloves%20garlic%2C%20quartered%20lengthwise%22%2C%22About%201%20tablespoon%20chopped%20fresh%20ginger%20(optional)%22%2C%221%20to%202%20tablespoons%20tomato%20paste%20or%20ketchup%22%2C%221%20canned%20chipotle%20pepper%20in%20adobo%20sauce%2C%201%2F2%20teaspoon%20cayenne%2C%20or%201%20fresh%20serrano%20or%20jalape%C3%B1o%20pepper%2C%20de-stemmed%22%2C%22Juice%20and%20grated%20zest%20of%201%20orange%20(optional%2C%20but%20good)%22%2C%2212%20to%2014%20ounces%20drained%2C%20sliced%20traditional%20water-packed%20firm%20or%20extra-firm%20tofu%20or%20tempeh%22%2C%22Vegetable%20oil%20cooking%20spray%22%5D%2C%22prepSteps%22%3A%5B%221.%20Combine%20the%20peanut%20butter%2C%20tamari%2C%20honey%2C%20apple%20cider%20vinegar%2C%20garlic%2C%20ginger%2C%20tomato%20paste%2C%20chipotle%2C%20and%20orange%20juice%20and%20zest%20in%20a%20food%20processor%20and%20buzz%20until%20the%20ginger%20is%20finely%20chopped.%22%2C%222.%20To%20use%20the%20marinade%2C%20place%20the%20tofu%20in%20a%20nonreactive%20bowl%20or%20zip-top%20bag%20and%20pour%20or%20spoon%20this%20luscious%20mixture%20over%20it.%20Refrigerate%20the%20tofu%2C%20covered%2C%20overnight.%22%2C%223.%20The%20next%20day%2C%20preheat%20the%20oven%20to%20375%C2%B0F%20and%20generously%20spray%20a%20nonreactive%20baking%20dish%20with%20oil%20(I%20use%20an%208%20or%209%20by%2012-inch%20deep%20glass%20baking%20dish).%22%2C%224.%20Place%20the%20tofu%20and%20its%20marinade%20in%20the%20baking%20dish%2C%20spreading%20the%20marinade%20as%20needed%20so%20both%20sides%20of%20the%20tofu%20slices%20get%20a%20good%20smear%20of%20it.%20Bake%2C%20turning%20once%2C%20until%20fragrant%2C%20firmed%20up%2C%20and%20golden%20to%20deep%20brown%20in%20spots%20with%20the%20marinade%20considerably%20thickened%2C%20about%2030%20minutes.%22%5D%2C%22reviewsCount%22%3A1%2C%22willMakeAgainPct%22%3A100%7D%2C%7B%22id%22%3A%225a0330ea57e96a30a35d163c%22%2C%22dek%22%3A%22The%20novelist%20and%20independent%20book%20publisher%20relies%20on%20intuition%2C%20leftovers%2C%20and%20some%20very%20good%20cookbooks%20to%20make%20dinner%20happen.%22%2C%22hed%22%3A%22What%20the%20Writer-Publisher-Mom%20Emily%20Gould%20Cooks%20in%20a%20Week%20%20%22%2C%22pubDate%22%3A%222017-11-08T18%3A39%3A04.371Z%22%2C%22author%22%3A%5B%7B%22name%22%3A%22Emily%20Gould%22%7D%5D%2C%22type%22%3A%22article%22%2C%22url%22%3A%22%2Fexpert-advice%2Femily-gould-cooking-diary-article%22%2C%22photoData%22%3A%7B%22id%22%3A%225a021ac7d63f7339eb97b547%22%2C%22filename%22%3A%22Small-Plates-Dinner-Diary-Emily-Gould-Alt-2.jpg%22%2C%22caption%22%3A%22%22%2C%22credit%22%3A%22Photo%20by%20Caleb%20Adams%22%2C%22promoTitle%22%3A%22%22%2C%22title%22%3A%22Small%20Plates%20Dinner%20Diary%20Emily%20Gould%20Alt-2%22%2C%22orientation%22%3A%22landscape%22%2C%22restrictCropping%22%3Afalse%7D%7D%2C%7B%22id%22%3A%2257b4d92bfd214db6472a3163%22%2C%22dek%22%3A%22Stone%20fruits%20and%20tomatoes%20are%20both%20at%20their%20peak%2C%20why%20not%20get%20your%20fill%20of%20both%20in%20one%20flavor-packed%20summer%20week%3F%22%2C%22hed%22%3A%22This%20Week%2C%20It's%20All%20Peaches%20and%20Tomatoes%22%2C%22pubDate%22%3A%222016-08-28T14%3A03%3A42.549Z%22%2C%22author%22%3A%5B%7B%22name%22%3A%22Epicurious%20Editors%22%7D%5D%2C%22type%22%3A%22article%22%2C%22url%22%3A%22%2Frecipes-menus%2Fsummer-dinner-ideas-peaches-tomatoes-article%22%2C%22photoData%22%3A%7B%22id%22%3A%2255afe113a188eea213e613e6%22%2C%22filename%22%3A%2256389709_tomato-peach-salad_1x1.jpg%22%2C%22caption%22%3A%22Tomato-Peach%20Salad%20with%20Tofu%20Cream%22%2C%22credit%22%3A%22Photo%20by%20Christopher%20Testani%22%2C%22promoTitle%22%3A%22Tomato-Peach%20Salad%20with%20Tofu%20Cream%22%2C%22title%22%3A%22Tomato-Peach%20Salad%20with%20Tofu%20Cream%22%2C%22orientation%22%3A%22landscape%22%2C%22restrictCropping%22%3Afalse%7D%7D%2C%7B%22id%22%3A%2257180141136b9a220ecd7dce%22%2C%22dek%22%3A%22A%20food%20writer%20gives%20us%20a%20peek%20into%20what%20really%20happens%20behind%20the%20scenes%20in%20her%20kitchen.%20And%20some%20of%20it%20isn't%20pretty.%22%2C%22hed%22%3A%22Dirty%20Secrets%20of%20a%20Home%20Cook%22%2C%22pubDate%22%3A%222016-04-21T23%3A30%3A00.000Z%22%2C%22author%22%3A%5B%7B%22name%22%3A%22Laurie%20Woolever%22%7D%5D%2C%22type%22%3A%22article%22%2C%22url%22%3A%22%2Fexpert-advice%2Fdirty-secrets-of-a-home-cook-article%22%2C%22photoData%22%3A%7B%22id%22%3A%2254b5b5bb2889f660285a7982%22%2C%22filename%22%3A%22EP_20140912_boone-3_6x4-lpr.jpg%22%2C%22caption%22%3A%22%22%2C%22credit%22%3A%22Photo%20by%20Rhoda%20Boone%22%2C%22promoTitle%22%3A%22%22%2C%22title%22%3A%22raw%20cubed%20beef%20chuck%22%2C%22orientation%22%3A%22landscape%22%2C%22restrictCropping%22%3Afalse%7D%7D%2C%7B%22id%22%3A%2256290173e82ff50f71a50a27%22%2C%22dek%22%3A%22With%20these%20ingredients%20always%20on%20hand%2C%20there's%20no%20Thai%20(or%20Indian)%20(or%20Chinese)%20recipe%20you%20can't%20try.%22%2C%22hed%22%3A%22The%20International%20Ingredients%20You%20Need%20in%20Your%20Freezer%20Right%20Now%22%2C%22pubDate%22%3A%222015-10-23T16%3A04%3A27.286Z%22%2C%22author%22%3A%5B%7B%22name%22%3A%22The%20Epicurious%20Editors%22%7D%5D%2C%22type%22%3A%22article%22%2C%22url%22%3A%22%2Fingredients%2Ffrozen-ethnic-international-thai-chinese-indian-ingredients-article%22%2C%22photoData%22%3A%7B%22id%22%3A%225628f99dc538d7c61b19af94%22%2C%22filename%22%3A%22EP_10212015_EthnicFoods_hero.jpg%22%2C%22caption%22%3A%22%22%2C%22credit%22%3A%22Photo%20by%20Chelsea%20Kyle%2C%20Prop%20Styling%20by%20Alex%20Brannian%22%2C%22promoTitle%22%3A%22%22%2C%22title%22%3A%22Freezer%20Pantry%20Ethnic%20Foods-%20HERO%22%2C%22orientation%22%3A%22landscape%22%2C%22restrictCropping%22%3Afalse%7D%7D%2C%7B%22id%22%3A%22562a62dab3d63be14330b17c%22%2C%22dek%22%3A%22All%20of%20the%20flavor%2C%20none%20of%20the%20prep%20work.%22%2C%22hed%22%3A%22Frozen%20Vegetables%20Are%20a%20Wok's%20Best%20Friend%22%2C%22pubDate%22%3A%222015-10-23T19%3A30%3A00.000Z%22%2C%22author%22%3A%5B%7B%22name%22%3A%22Matt%20Rodbard%22%7D%5D%2C%22type%22%3A%22article%22%2C%22url%22%3A%22%2Fexpert-advice%2Fwhy-the-freezer-aisle-is-a-woks-best-friend-article%22%2C%22photoData%22%3A%7B%22id%22%3A%225570c1b281ac1e5023671e80%22%2C%22filename%22%3A%22EP-04142015-wok-7-6x4-CP.jpg%22%2C%22caption%22%3A%22%22%2C%22credit%22%3A%22Photo%20by%20Chelsea%20Kyle%22%2C%22promoTitle%22%3A%22northern%20style%20carbon-steel%20round-bottomed%20wok%22%2C%22title%22%3A%22northern%20style%20carbon-steel%20round-bottomed%20wok%22%2C%22orientation%22%3A%22landscape%22%2C%22restrictCropping%22%3Afalse%7D%7D%2C%7B%22id%22%3A%2255675e0850e46c5c01e986ed%22%2C%22dek%22%3A%22Love%20spaghetti%3F%20Here%20are%20five%20ways%20to%20turn%20a%20box%20of%20the%20quick-cooking%20pasta%20into%20lunch.%22%2C%22hed%22%3A%22How%20to%20Turn%201%20Box%20of%20Spaghetti%20Into%20%205%20Workday%20Lunches%22%2C%22pubDate%22%3A%222015-06-03T20%3A26%3A51.000Z%22%2C%22author%22%3A%5B%7B%22name%22%3A%22Katherine%20Sacks%22%2C%22uri%22%3A%22http%3A%2F%2Fwww.epicurious.com%2Fcontributors%2Fkatherine-sacks%22%7D%5D%2C%22type%22%3A%22article%22%2C%22url%22%3A%22%2Frecipes-menus%2Ffive-spaghetti-workday-lunches-recipes-article%22%2C%22photoData%22%3A%7B%22id%22%3A%225537e208a628db523848a35f%22%2C%22filename%22%3A%2256389373_ramp-pesto-spaghetti_1x1.jpg%22%2C%22caption%22%3A%22Ramp%20Pesto%20Spaghetti%22%2C%22credit%22%3A%22Danny%20Kim%22%2C%22promoTitle%22%3A%22Ramp%20Pesto%20Spaghetti%22%2C%22title%22%3A%22Ramp%20Pesto%20Spaghetti%22%2C%22orientation%22%3A%22landscape%22%2C%22restrictCropping%22%3Afalse%7D%7D%2C%7B%22id%22%3A%2258913f7eeb3e360a3e384079%22%2C%22dek%22%3A%22What%20to%20look%20for%20when%20buying%E2%80%94and%20cooking%E2%80%94udon%2C%20soba%2C%20somen%2C%20and%20more.%22%2C%22hed%22%3A%22The%20Expert%20Shopper's%20Guide%20to%20Japanese%20Noodles%22%2C%22pubDate%22%3A%222017-02-09T20%3A00%3A00.000Z%22%2C%22author%22%3A%5B%7B%22name%22%3A%22Janet%20Rausa%20Fuller%22%7D%5D%2C%22type%22%3A%22article%22%2C%22url%22%3A%22%2Fingredients%2Fthe-expert-shoppers-guide-to-japanese-noodles-article%22%2C%22photoData%22%3A%7B%22id%22%3A%2254ad3c796529d92b2c04179f%22%2C%22filename%22%3A%2251205280_soba-mushrooms-soy_1x1.jpg%22%2C%22caption%22%3A%22Soba%20and%20Maitake%20Mushrooms%20in%20Soy%20Broth%22%2C%22credit%22%3A%22Hirsheimer%20%26%20Hamilton%22%2C%22promoTitle%22%3A%22Soba%20and%20Maitake%20Mushrooms%20in%20Soy%20Broth%22%2C%22title%22%3A%22Soba%20and%20Maitake%20Mushrooms%20in%20Soy%20Broth%22%2C%22orientation%22%3A%22landscape%22%2C%22restrictCropping%22%3Afalse%7D%7D%2C%7B%22id%22%3A%2254ac556c6529d92b2c03b44a%22%2C%22dek%22%3A%22Need%20to%20shake%20up%20your%20smoothie%20routine%3F%20These%20game-changing%20recipes%20and%20easy%20upgrades%20will%20turn%20your%20blend%20from%20blah%20to%20blissful%20in%20a%20matter%20of%20seconds.%22%2C%22hed%22%3A%227%20Delicious%20Ways%20to%20Upgrade%20Your%20Smoothies%20Anytime%22%2C%22pubDate%22%3A%222015-01-27T21%3A04%3A18.991Z%22%2C%22author%22%3A%5B%7B%22name%22%3A%22Gabriella%20Vigoreaux%22%7D%5D%2C%22type%22%3A%22article%22%2C%22url%22%3A%22%2Frecipes-menus%2F7-delicious-ways-to-upgrade-your-smoothies-anytime-article%22%2C%22photoData%22%3A%7B%22id%22%3A%2254c903a01f13bb9b2edf3620%22%2C%22filename%22%3A%22Peachy-Chia-Chai-Smoothie-9x4.jpg%22%2C%22caption%22%3A%22%22%2C%22credit%22%3A%22Photo%20by%20Tatsuro%20Nishimura%2C%20food%20styling%20by%20Rhoda%20Boone%22%2C%22promoTitle%22%3A%22%22%2C%22title%22%3A%22Peachy-Chia-Chai-Smoothie-9x4.jpg%22%2C%22orientation%22%3A%22landscape%22%2C%22restrictCropping%22%3Afalse%7D%7D%2C%7B%22id%22%3A%2254a428a26529d92b2c00d920%22%2C%22dek%22%3A%22If%20you%20live%20near%20a%20Chinese%20market%2C%20pick%20up%20barbecued%20or%20smoked%20duck%20there.%20Otherwise%2C%20smoked%20chicken%20or%20turkey%20from%20the%20supermarket%20(or%20leftover%20roast%20chicken)%20would%20be%20terrific%20tossed%20with%20the%20noodles.%20To%20make%20it%20a%20meal%2C%20add%20a%20platter%20of%20chilled%20silken%20tofu.%20Drizzle%20the%20tofu%20with%20soy%20sauce%20and%20chili%20sauce%2C%20then%20top%20with%20chopped%20green%20onions.%20Coconut%20ice%20cream%20with%20fresh%20berries%20and%20lychees%20would%20make%20a%20nice%20dessert.%22%2C%22hed%22%3A%22Chinese%20Egg%20Noodles%20with%20Smoked%20Duck%20and%20Snow%20Peas%22%2C%22pubDate%22%3A%222009-07-02T04%3A00%3A00.000Z%22%2C%22author%22%3A%5B%7B%22name%22%3A%22Jill%20Dupleix%22%7D%5D%2C%22type%22%3A%22recipe%22%2C%22url%22%3A%22%2Frecipes%2Ffood%2Fviews%2Fchinese-egg-noodles-with-smoked-duck-and-snow-peas-354302%22%2C%22photoData%22%3A%7B%22id%22%3A%2254cd1c181f13bb9b2edfc482%22%2C%22filename%22%3A%22ChineseEggNoodleswithSmokedDuckandSnowPeas_6x4.jpg%22%2C%22caption%22%3A%22%22%2C%22credit%22%3A%22Photo%20by%20Misha%20Gravenor%22%2C%22promoTitle%22%3A%22%22%2C%22title%22%3A%22Chinese%20Egg%20Noodles%20with%20Smoked%20Duck%20and%20Snow%20Peas%22%2C%22orientation%22%3A%22landscape%22%2C%22restrictCropping%22%3Afalse%7D%2C%22tag%22%3A%7B%22category%22%3A%22cuisine%22%2C%22name%22%3A%22Asian%22%2C%22url%22%3A%22%22%2C%22photosBadgeAltText%22%3A%22%22%2C%22photosBadgeFileName%22%3A%22%22%2C%22photosBadgeID%22%3A%22%22%2C%22photosBadgeRelatedUri%22%3A%22%22%7D%2C%22aggregateRating%22%3A2.25%2C%22ingredients%22%3A%5B%222%20tablespoons%20soy%20sauce%22%2C%222%20tablespoons%20olive%20oil%22%2C%221%20tablespoon%20hoisin%20sauce*%22%2C%221%20tablespoon%20unseasoned%20rice%20vinegar%22%2C%223%201%2F2%20ounces%20snow%20peas%20or%20sugar%20snap%20peas%2C%20thinly%20sliced%20lengthwise%20(about%201%201%2F2%20cups)%22%2C%221%20red%20bell%20pepper%2C%20cut%20into%20matchstick-size%20strips%22%2C%221%2017-ounce%20(425-gram)%20package%20thin%20fresh%20Chinese%20egg%20noodles**%22%2C%221%20pound%20smoked%20duck%2C%20turkey%2C%20or%20chicken%2C%20cut%20into%203x1%2F4-inch%20strips%22%2C%221%2F2%20cup%20fresh%20cilantro%20leaves%22%2C%222%20tablespoons%20thinly%20sliced%20green%20onion%22%2C%221%20tablespoon%20thinly%20sliced%20jalape%C3%B1o%20chile%20with%20seeds%20(preferably%20red)%22%5D%2C%22prepSteps%22%3A%5B%22Whisk%20soy%20sauce%2C%20olive%20oil%2C%20hoisin%20sauce%2C%20and%20rice%20vinegar%20in%20large%20bowl%20to%20blend.%20Let%20dressing%20stand%20at%20room%20temperature%20while%20preparing%20noodles.%22%2C%22Place%20sliced%20snow%20peas%20and%20bell%20pepper%20strips%20in%20medium%20bowl.%20Bring%20kettle%20or%20large%20saucepan%20of%20water%20to%20boil.%20Pour%20boiling%20water%20over%20snow%20pea%20mixture%20and%20let%20soak%2010%20seconds.%20Drain%20well.%20Rinse%20mixture%20with%20cold%20water%20and%20drain%20again.%20Place%20egg%20noodles%20in%20large%20bowl.%20Bring%20kettle%20or%20large%20saucepan%20of%20water%20to%20boil%2C%20then%20pour%20boiling%20water%20over%20noodles%3B%20stir%20noodles%20to%20separate.%20Let%20noodles%20soak%2010%20seconds.%20Drain%20well.%20Rinse%20noodles%20with%20cold%20water%3B%20drain%20again.%22%2C%22Add%20snow%20pea%20mixture%2C%20egg%20noodles%2C%20smoked%20duck%2C%20cilantro%20leaves%2C%20green%20onion%2C%20and%20jalape%C3%B1o%20to%20bowl%20with%20dressing.%20Toss%20well%20to%20coat.%20Divide%20noodle%20mixture%20among%20plates%20and%20serve.%22%2C%22*%20Hoisin%20sauce%20is%20available%20in%20the%20Asian%20foods%20section%20of%20many%20supermarkets%20and%20at%20Asian%20markets.%22%2C%22**%20Fresh%20Chinese%20egg%20noodles%20are%20available%20in%20the%20refrigerated%20section%20of%20Asian%20markets.%22%5D%2C%22reviewsCount%22%3A4%2C%22willMakeAgainPct%22%3A50%7D%2C%7B%22id%22%3A%2254a42a896529d92b2c00f252%22%2C%22dek%22%3A%22Xiao%20Fan's%20spicy%20sauce%20will%20transform%20not%20only%20this%20steamed%20chicken%20but%20also%20plain%20rice%2C%20noodles%2C%20tofu%2C%20even%20grilled%20steak.%20The%20sauce%20can%20be%20doubled%20and%20leftovers%20chilled%20for%20a%20week.%20To%20reheat%2C%20add%20a%20bit%20of%20broth%20or%20water%20and%20simmer%20for%20about%20a%20minute.%22%2C%22hed%22%3A%22Steamed%20Chicken%20with%20Xiao%20Fan's%20Special%20Sauce%22%2C%22pubDate%22%3A%222008-04-15T22%3A02%3A19.000Z%22%2C%22author%22%3A%5B%7B%22name%22%3A%22Fan%20Nianfeng%20%22%7D%5D%2C%22type%22%3A%22recipe%22%2C%22url%22%3A%22%2Frecipes%2Ffood%2Fviews%2Fsteamed-chicken-with-xiao-fans-special-sauce-242313%22%2C%22photoData%22%3A%7B%22id%22%3A%22560d7866f9a841923089d67d%22%2C%22filename%22%3A%22242313_hires.jpg%22%2C%22caption%22%3A%22Steamed%20Chicken%20with%20Xiao%20Fan's%20Special%20Sauce%22%2C%22credit%22%3A%22Romulo%20Yanes%22%2C%22promoTitle%22%3A%22Steamed%20Chicken%20with%20Xiao%20Fan's%20Special%20Sauce%22%2C%22title%22%3A%22Steamed%20Chicken%20with%20Xiao%20Fan's%20Special%20Sauce%22%2C%22orientation%22%3A%22portrait%22%2C%22restrictCropping%22%3Afalse%7D%2C%22tag%22%3A%7B%22category%22%3A%22cuisine%22%2C%22name%22%3A%22Chinese%22%2C%22url%22%3A%22%22%2C%22photosBadgeAltText%22%3A%22%22%2C%22photosBadgeFileName%22%3A%22%22%2C%22photosBadgeID%22%3A%22%22%2C%22photosBadgeRelatedUri%22%3A%22%22%7D%2C%22aggregateRating%22%3A3.33%2C%22ingredients%22%3A%5B%221%20chicken%20(about%203%201%2F2%20pounds)%2C%20halved%20lengthwise%22%2C%222%20tablespoons%20thin%20matchsticks%20of%20peeled%20ginger%22%2C%221%201%2F2%20tablespoons%20peanut%20or%20vegetable%20oil%22%2C%224%20garlic%20cloves%2C%20minced%22%2C%223%20to%204%20(2-inch)%20fresh%20hot%20Thai%20chiles%2C%20minced%2C%20including%20seeds%22%2C%221%2F2%20cup%20coarsely%20chopped%20cilantro%22%2C%221%2F4%20cup%20water%22%2C%221%20teaspoon%20soy%20sauce%22%2C%221%20teaspoon%20rice%20vinegar%20(not%20seasoned)%22%5D%2C%22prepSteps%22%3A%5B%22Fit%20a%20large%20steamer%20rack%20inside%20a%20large%20wide%20pot.%20Add%20enough%20water%20to%20reach%20within%201%2F2%20inch%20of%20bottom%20of%20rack.%20Bring%20to%20a%20boil.%22%2C%22Pat%20chicken%20dry%20and%20put%2C%20skin%20side%20up%2C%20in%20a%20shallow%20bowl%20(that%20will%20fit%20on%20steamer%20rack%20inside%20pot).%20Sprinkle%20with%20ginger%20and%20steam%2C%20covered%2C%20over%20high%20heat%2C%20until%20chicken%20is%20just%20cooked%20through%2C%2030%20to%2035%20minutes%20(replenish%20water%20if%20necessary).%22%2C%22Carefully%20remove%20bowl%20with%20chicken.%20Pour%20off%20juices%20into%20a%20glass%20measure%20and%20set%20aside%201%2F4%20cup%20(reserve%20remainder%20for%20another%20use).%20Return%20chicken%20in%20bowl%20to%20pot%20and%20keep%20warm%2C%20covered%2C%20off%20heat.%22%2C%22Heat%20a%20wok%20or%20large%20heavy%20skillet%20(not%20nonstick)%20over%20high%20heat%20until%20smoking%2C%20then%20drizzle%20oil%20down%20side%20of%20wok%20and%20swirl%20to%20coat.%20Reduce%20heat%20to%20medium%2C%20then%20add%20garlic%20and%20stir-fry%2015%20seconds.%20Add%20chiles%20and%20stir-fry%2015%20seconds.%20Add%20cilantro%20and%20stir-fry%201%20minute.%20Stir%20in%20remaining%20ingredients%2C%201%2F4%20teaspoon%20salt%2C%20and%201%2F4%20cup%20chicken%20juices%20and%20simmer%201%20minute.%20Transfer%20to%20a%20bowl.%22%2C%22Drizzle%20some%20sauce%20over%20chicken%20(include%20some%20solids%20for%20a%20spicier%20sauce)%3B%20serve%20the%20rest%20on%20the%20side.%20Season%20chicken%20with%20salt.%22%5D%2C%22reviewsCount%22%3A5%2C%22willMakeAgainPct%22%3A60%7D%2C%7B%22id%22%3A%2254c15e80e231becc7f3db57e%22%2C%22dek%22%3A%22Great%20news%E2%80%94your%20vegan%20friend%20is%20coming%20over%20for%20dinner!%20And...so%20is%20your%20carnivore%20pal.%20Here%2C%20vegan%20bloggers%20tip%20you%20off%20on%20how%20to%20satisfy%20both.%22%2C%22hed%22%3A%22How%20to%20(Dinner)%20Party%20with%20a%20Vegan%22%2C%22pubDate%22%3A%222015-02-01T22%3A33%3A00.000Z%22%2C%22author%22%3A%5B%7B%22name%22%3A%22Gabriella%20Vigoreaux%22%7D%5D%2C%22type%22%3A%22article%22%2C%22url%22%3A%22%2Fexpert-advice%2Fhow-to-throw-a-vegan-dinner-party-article%22%2C%22photoData%22%3A%7B%22id%22%3A%2254c6a057e231becc7f3de323%22%2C%22filename%22%3A%22EP_20150121_kim-3_6x4-hpr.jpg%22%2C%22caption%22%3A%22%22%2C%22credit%22%3A%22Photo%20by%20Danny%20Kim%20Styling%20by%20Chelsea%20Zimmer%22%2C%22promoTitle%22%3A%22%22%2C%22title%22%3A%22Vegan%20Dinner%20%22%2C%22orientation%22%3A%22landscape%22%2C%22restrictCropping%22%3Afalse%7D%7D%2C%7B%22id%22%3A%2254a4729919925f464b399731%22%2C%22dek%22%3A%22%22%2C%22hed%22%3A%22Scallop%20and%20Corn%20Pot%20Stickers%22%2C%22pubDate%22%3A%222004-08-20T04%3A00%3A00.000Z%22%2C%22author%22%3A%5B%5D%2C%22type%22%3A%22recipe%22%2C%22url%22%3A%22%2Frecipes%2Ffood%2Fviews%2Fscallop-and-corn-pot-stickers-11846%22%2C%22photoData%22%3A%7B%22id%22%3A%225a0ddb06f110de5830af9a10%22%2C%22filename%22%3A%22no-recipe-card-red-15112017.jpg%22%2C%22caption%22%3A%22No%20Recipe%20card-%20RED%22%2C%22credit%22%3A%22Photo%20by%20Chelsea%20Kyle%22%2C%22colors%22%3A%7B%22average%22%3A%22%23000000%22%7D%2C%22type%22%3A%22photo%22%7D%2C%22tag%22%3A%7B%22category%22%3A%22cuisine%22%2C%22name%22%3A%22Asian%22%2C%22url%22%3A%22%22%2C%22photosBadgeAltText%22%3A%22%22%2C%22photosBadgeFileName%22%3A%22%22%2C%22photosBadgeID%22%3A%22%22%2C%22photosBadgeRelatedUri%22%3A%22%22%7D%2C%22aggregateRating%22%3A3.5%2C%22ingredients%22%3A%5B%221%2F2%20pound%20sea%20scallops%22%2C%221%2F4%20teaspoon%20salt%22%2C%221%2F4%20cup%20soft%20tofu%20(preferably%20silken)%22%2C%221%2F4%20cup%20cooked%20corn%22%2C%221%2F4%20cup%20minced%20red%20bell%20pepper%22%2C%223%20tablespoons%20minced%20scallion%22%2C%222%20tablespoons%20finely%20chopped%20fresh%20coriander%22%2C%22eighteen%203-to-4%20inch%20round%20won%20ton%20or%20dumpling%20or%20gyozo%20wrappers%2C%C2%A0thawed%20if%20frozen%22%2C%22cornstarch%20for%20dusting%20tray%22%2C%22Sesame%20Vinaigrette%22%5D%2C%22prepSteps%22%3A%5B%22Discard%20small%20tough%20muscle%20from%20side%20of%20each%20scallop%20and%20in%20a%20food%20processor%20pur%C3%A9e%20half%20scallops%20with%20salt.%20With%20motor%20running%20add%20tofu%20in%20a%20stream%20and%20blend%20until%20just%20combined.%22%2C%22Transfer%20scallop%20mousse%20to%20a%20small%20bowl.%20Chop%20fine%20remaining%20scallops%20and%20stir%20into%20mousse%20with%20corn%2C%20bell%20pepper%2C%20scallion%2C%20and%20coriander.%22%2C%22Put%20about%201%20tablespoon%20filling%20in%20center%20of%201%20wrapper%20and%20moisten%20edge%20of%20wrapper.%20Gather%20edge%20of%20wrapper%20up%20and%20around%20filling%2C%20pleating%20edge.%20Gently%20squeeze%20middle%20of%20pot%20sticker%20to%20form%20a%20waist%2C%20keeping%20filling%20level%20with%20top%20of%20wrapper.%20(Pot%20sticker%20will%20resemble%20a%20sack%20filled%20to%20top.)%22%2C%22Make%2017%20more%20pot%20stickers%20in%20same%20manner%20and%20arrange%20on%20a%20tray%20dusted%20lightly%20with%20cornstarch.%20Pot%20stickers%20may%20be%20made%20up%20to%20this%20point%201%20day%20ahead%20and%20chilled%2C%20covered%20with%20plastic%20wrap.%22%2C%22In%20a%20large%20non-stick%20skillet%20heat%20oil%20over%20moderately%20high%20heat%20until%20hot%20but%20not%20smoking%20and%20fry%20pot-sticker%20bottoms%20until%20golden%2C%20about%201%20minute.%20Add%20water%20and%20steam%20pot%20stickers%2C%20covered%2C%203%20to%204%20minutes%2C%20or%20until%20filling%20is%20springy%20to%20touch.%20Remove%20lid%20and%20cook%20pot%20stickers%20until%20liquid%20is%20evaporated%20and%20bottoms%20are%20recrisped.%22%2C%22Serve%20pot%20stickers%20with%20vinaigrette%20and%20garnish%20with%20coriander.%22%5D%2C%22reviewsCount%22%3A9%2C%22willMakeAgainPct%22%3A100%7D%2C%7B%22id%22%3A%2254a4276219925f464b37c5f1%22%2C%22dek%22%3A%22Combining%20bittersweet%20chocolate%20and%20cocoa%20powder%20intensifies%20the%20chocolaty%20essence%20of%20this%20cheesecake%20to%20the%20nth%20degree.%20Silken%20tofu%20brings%20a%20delicate%20creaminess%20to%20the%20filling%20while%20also%20taking%20the%20place%20of%20eggs%20by%20acting%20as%20a%20binding%20agent.%22%2C%22hed%22%3A%22Vegan%20Chocolate%20Cheesecake%22%2C%22pubDate%22%3A%222009-10-15T04%3A00%3A00.000Z%22%2C%22author%22%3A%5B%7B%22name%22%3A%22Gina%20Marie%20Miraglia%20Eriquez%22%7D%5D%2C%22type%22%3A%22recipe%22%2C%22url%22%3A%22%2Frecipes%2Ffood%2Fviews%2Fvegan-chocolate-cheesecake-355990%22%2C%22photoData%22%3A%7B%22id%22%3A%225609a773e0acd286555dba9e%22%2C%22filename%22%3A%22355990_hires.jpg%22%2C%22caption%22%3A%22Vegan%20Chocolate%20Cheesecake%22%2C%22credit%22%3A%22Romulo%20Yanes%22%2C%22promoTitle%22%3A%22Vegan%20Chocolate%20Cheesecake%22%2C%22title%22%3A%22Vegan%20Chocolate%20Cheesecake%22%2C%22orientation%22%3A%22landscape%22%2C%22restrictCropping%22%3Afalse%7D%2C%22tag%22%3A%7B%22category%22%3A%22equipment%22%2C%22name%22%3A%22Food%20Processor%22%2C%22url%22%3A%22%22%2C%22photosBadgeAltText%22%3A%22%22%2C%22photosBadgeFileName%22%3A%22%22%2C%22photosBadgeID%22%3A%22%22%2C%22photosBadgeRelatedUri%22%3A%22%22%7D%2C%22aggregateRating%22%3A2.88%2C%22ingredients%22%3A%5B%221%201%2F4%20cups%20chocolate%20or%20regular%20graham%20cracker%20crumbs%20(from%20nine%205-by%202%201%2F2-inch%20graham%20crackers)%22%2C%223%20tablespoons%20sugar%22%2C%224%20tablespoons%20Earth%20Balance%20vegan%20buttery%20spread%2C%20melted%20and%20cooled%2C%20plus%20additional%20for%20greasing%20pan%22%2C%222%201%2F4%20cups%20sugar%2C%20divided%22%2C%221%2F3%20cup%20water%22%2C%228%20ounces%20bittersweet%20chocolate%20(no%20more%20than%2060%25%20cacao)%2C%20chopped%22%2C%222%20(1-pound%20packages%20silken%20tofu%2C%20drained%22%2C%221%2F4%20cup%20unsweetened%20cocoa%20powder%20(not%20Dutch-process)%22%2C%222%20(8-ounces)%20containers%20soy%20cream%20cheese%20at%20room%20temperature%22%2C%221%20teaspoon%20pure%20vanilla%20extract%22%2C%22Rounded%201%2F4%20teaspoon%20salt%22%2C%22Equipment%3A%20a%209-inch%20springform%20pan%22%5D%2C%22prepSteps%22%3A%5B%22Preheat%20oven%20to%20350%C2%B0F%20with%20racks%20in%20middle%20and%20lower%20third%20and%20put%20a%20baking%20sheet%20on%20lower%20rack.%20Flip%20bottom%20of%20springform%20pan%20so%20lip%20is%20facing%20down%2C%20then%20lock%20in%20place.%20Grease%20bottom%20and%20side%20of%20pan.%22%2C%22Stir%20together%20all%20crust%20ingredients%2C%20then%20press%20onto%20bottom%20and%201%20inch%20up%20side%20of%20pan.%20Bake%20until%20set%2C%2010%20to%2012%20minutes%2C%20then%20cool%20completely%2C%20about%2045%20minutes.%22%2C%22Heat%201%20cup%20sugar%20in%20a%201%201%2F2-to%202-quart%20heavy%20saucepan%20over%20medium%20heat%2C%20stirring%20with%20a%20fork%20to%20heat%20sugar%20evenly%2C%20until%20it%20starts%20to%20melt%2C%20then%20stop%20stirring%20and%20cook%2C%20swirling%20pan%20occasionally%20so%20sugar%20melts%20evenly%2C%20until%20it%20is%20dark%20amber.%20Remove%20from%20heat%20and%20carefully%20stir%20in%20water%20(mixture%20will%20bubble%20up%20and%20steam%20and%20caramel%20will%20harden)%2C%20then%20cook%20over%20medium-low%20heat%2C%20stirring%2C%20until%20caramel%20has%20dissolved.%20Remove%20from%20heat%20and%20whisk%20in%20chopped%20chocolate%20until%20smooth.%20Cool%20fudge%20sauce%20slightly.%22%2C%22Pur%C3%A9e%20tofu%20and%20cocoa%20in%20a%20food%20processor%20until%20smooth.%22%2C%22Beat%20soy%20cream%20cheese%20and%20remaining%201%201%2F4%20cups%20sugar%20with%20an%20electric%20mixer%20at%20medium-high%20speed%20until%20fluffy.%20At%20low%20speed%2C%20beat%20in%20tofu%20pur%C3%A9e%2C%20vanilla%2C%20salt%2C%20and%20fudge%20sauce%20until%20incorporated.%22%2C%22Pour%20filling%20into%20crust%20and%20bake%20on%20middle%20rack%20until%20top%20of%20cake%20is%20shiny%20but%20center%20is%20still%20slightly%20wobbly%20when%20pan%20is%20gently%20shaken%2C%20about%201%20hour.%20Turn%20oven%20off%20and%20leave%20cake%20in%20oven%201%20hour%20more.%22%2C%22Run%20a%20knife%20around%20top%20edge%20of%20cake%20to%20loosen%2C%20then%20cool%20completely%20in%20pan%20on%20rack%20(cake%20will%20continue%20to%20set%20as%20it%20cools).%20Chill%20cake%2C%20loosely%20covered%2C%20at%20least%206%20hours.%20Remove%20side%20of%20pan%20and%20transfer%20cake%20to%20a%20plate.%20Bring%20to%20room%20temperature%20before%20serving%20if%20desired.%22%5D%2C%22reviewsCount%22%3A14%2C%22willMakeAgainPct%22%3A64%7D%2C%7B%22id%22%3A%2254a4332f6529d92b2c016045%22%2C%22dek%22%3A%22A%20Meyer%20lemon%20is%20a%20cross%20between%20a%20lemon%20and%20a%20mandarin%20orange.%20If%20you%20can't%20find%20any%2C%20substitute%20regular%20lemons.%20This%20pie's%20decadent%20cream%20filling%20is%20made%20from%20protein-rich%20tofu.%22%2C%22hed%22%3A%22Meyer%20Lemon%20Cream%20Pies%22%2C%22pubDate%22%3A%222007-07-16T04%3A09%3A02.000Z%22%2C%22author%22%3A%5B%5D%2C%22type%22%3A%22recipe%22%2C%22url%22%3A%22%2Frecipes%2Ffood%2Fviews%2Fmeyer-lemon-cream-pies-239225%22%2C%22photoData%22%3A%7B%22id%22%3A%2256f30156c98a9a676e4e6bce%22%2C%22filename%22%3A%22239225_hires.jpg%22%2C%22caption%22%3A%22%22%2C%22credit%22%3A%22Photo%20by%20Yunhee%20Kim%22%2C%22promoTitle%22%3A%22%22%2C%22title%22%3A%22Meyer%20Lemon%20Cream%20Pies%22%2C%22orientation%22%3A%22landscape%22%2C%22restrictCropping%22%3Afalse%7D%2C%22tag%22%3A%7B%22category%22%3A%22ingredient%22%2C%22name%22%3A%22Citrus%22%2C%22url%22%3A%22%22%2C%22photosBadgeAltText%22%3A%22%22%2C%22photosBadgeFileName%22%3A%22%22%2C%22photosBadgeID%22%3A%22%22%2C%22photosBadgeRelatedUri%22%3A%22%22%7D%2C%22aggregateRating%22%3A2.5%2C%22ingredients%22%3A%5B%221%201%2F4%20cups%20graham-cracker%20crumbs%22%2C%222%20tablespoons%20sugar%22%2C%225%20tablespoons%20unsalted%20butter%2C%20melted%22%2C%222%20(12-ounce)%20containers%20firm%20silken%20tofu%20(such%20as%20Mori-Nu)%22%2C%22Grated%20zest%20and%20juice%20of%202%20Meyer%20lemons%22%2C%221%2F2%20cup%20confectioners'%20sugar%22%5D%2C%22prepSteps%22%3A%5B%221.%20Preheat%20oven%20to%20350%C2%B0F.%22%2C%222.%20In%20a%20medium%20bowl%2C%20mix%20together%20all%20the%20crust%20ingredients.%20Press%20the%20mixture%20into%20the%20bottom%20and%20sides%20of%20four%20tartlet%20molds%20or%204-ounce%20ramekins.%22%2C%223.%20Bake%20until%20golden%20brown%2C%208%20to%2010%20minutes.%20Remove%20and%20let%20cool%20completely.%22%2C%224.%20In%20a%20blender%2C%20combine%20all%20the%20filling%20ingredients%20until%20smooth%2C%20spoon%20the%20mixture%20into%20the%20crusts%2C%20and%20refrigerate%20for%20at%20least%201%20hour.%22%5D%2C%22reviewsCount%22%3A8%2C%22willMakeAgainPct%22%3A50%7D%2C%7B%22id%22%3A%2254a427be6529d92b2c00cd4c%22%2C%22dek%22%3A%22Wheat%20Free%5CnNo%20need%20to%20worry%20if%20your%20local%20market%20doesn't%20carry%20egg-free%20mayo.%20Just%20whip%20up%20some%20of%20your%20own.%20This%20recipe%20works%20very%20well%20as%20a%20sandwich%20spread%20or%20in%20any%20mayonnaise-based%20dressing.%20As%20long%20as%20you%20use%20wheat-free%20vinegar%2C%20this%20mayo%20is%20indeed%20wheat-free.%22%2C%22hed%22%3A%22Vegan%20Mayonnaise%22%2C%22pubDate%22%3A%222011-06-23T04%3A00%3A00.000Z%22%2C%22author%22%3A%5B%7B%22name%22%3A%22Joni%20Marie%20Newman%22%7D%5D%2C%22type%22%3A%22recipe%22%2C%22url%22%3A%22%2Frecipes%2Ffood%2Fviews%2Fvegan-mayonnaise-366490%22%2C%22photoData%22%3A%7B%22id%22%3A%2254b2afd611c5d6af478b2759%22%2C%22filename%22%3A%22366490_vegan-mayonnaise_1x1.jpg%22%2C%22caption%22%3A%22Vegan%20Mayonnaise%22%2C%22credit%22%3A%22Rockport%20Publishers%22%2C%22promoTitle%22%3A%22Vegan%20Mayonnaise%22%2C%22title%22%3A%22Vegan%20Mayonnaise%22%2C%22orientation%22%3A%22landscape%22%2C%22restrictCropping%22%3Afalse%7D%2C%22tag%22%3A%7B%22category%22%3A%22type%22%2C%22name%22%3A%22Condiment%2FSpread%22%2C%22url%22%3A%22%22%2C%22photosBadgeAltText%22%3A%22%22%2C%22photosBadgeFileName%22%3A%22%22%2C%22photosBadgeID%22%3A%22%22%2C%22photosBadgeRelatedUri%22%3A%22%22%7D%2C%22aggregateRating%22%3A1%2C%22ingredients%22%3A%5B%227%20ounces%20(195%20g)%20extra-firm%20tofu%2C%20drained%20and%20pressed%22%2C%221%2F4%20cup%20(35%20g)%20raw%20cashews%2C%20ground%20into%20a%20very%20fine%20powder%22%2C%221%20tablespoon%20(15%20ml)%20lemon%20juice%22%2C%221%20tablespoon%20(12%20g)%20raw%20sugar%20or%20(21%20g)%20agave%20nectar%22%2C%221%201%2F2%20teaspoons%20brown%20or%20Dijon%20mustard%22%2C%221%20teaspoon%20apple%20cider%20or%20rice%20wine%20vinegar%22%2C%221%2F2%20teaspoon%20sea%20salt%22%2C%226%20tablespoons%20(90%20ml)%20canola%20oil%22%5D%2C%22prepSteps%22%3A%5B%22Place%20the%20tofu%2C%20cashews%2C%20lemon%20juice%2C%20sugar%2C%20mustard%2C%20vinegar%2C%20and%20salt%20in%20a%20blender%20or%20food%20processor%20and%20process%20until%20smooth.%22%2C%22Slowly%20drizzle%20in%20the%20oil%20and%20pulse%20until%20you%20get%20the%20consistency%20that%20you%20like.%22%2C%22Store%20in%20an%20airtight%20container%20in%20the%20refrigerator%20for%20up%20to%202%20weeks.%22%5D%2C%22reviewsCount%22%3A3%2C%22willMakeAgainPct%22%3A33%7D%2C%7B%22id%22%3A%2254a422f56529d92b2c0096e8%22%2C%22dek%22%3A%22When%20we%20visited%20Kyoto%2C%20a%20few%20hours'%20ride%20from%20Tokyo%20on%20the%20famous%20Bullet%20train%2C%20we%20found%20a%20little%20restaurant%20in%20the%20heart%20of%20town%20that%20won%20us%20over%20with%20the%20names%20of%20dishes%20listed%20on%20the%20menu%3A%20Firecracker%20Tofu%2C%20Pickled%20Mixed%20Radish%20Salad%2C%20and%20the%20mysterious%20sounding%20Okonomiyaki.%20The%20chefs%20were%20clearly%20having%20fun%20at%20this%20place%2C%20and%20we%20were%20blown%20away%20by%20the%20depth%20of%20flavor%20they%20achieved%20with%20such%20simple%20preparations.%20We%20threw%20back%20some%20sake%20and%20tore%20through%20plate%20after%20plate%20of%20food.%20This%20salad%20is%20inspired%20by%20that%20meal%2C%20featuring%20quirky%20sea%20beans%20(a%20seaweed-like%20swamp%2Fbeach%20vegetable)%20and%20the%20haunting%20flavor%20of%20shiso%20(Japanese%20mint).%20You%20can%20find%20fresh%20sea%20beans%20at%20a%20gourmet%20market.%20If%20they're%20not%20available%2C%20substitute%20pencil-thin%20asparagus.%20Look%20for%20shiso%20in%20Asian%20markets%2C%20but%20substitute%20fresh%20cilantro%20if%20you%20can't%20find%20it.%22%2C%22hed%22%3A%22Sea%20Bean%20Salad%20with%20Daikon%20and%20Cucumber%22%2C%22pubDate%22%3A%222013-10-14T04%3A00%3A00.000Z%22%2C%22author%22%3A%5B%7B%22name%22%3A%22Rich%20Landau%20%22%7D%2C%7B%22name%22%3A%22%20Kate%20Jacoby%22%7D%5D%2C%22type%22%3A%22recipe%22%2C%22url%22%3A%22%2Frecipes%2Ffood%2Fviews%2Fsea-bean-salad-with-daikon-and-cucumber-51199610%22%2C%22photoData%22%3A%7B%22id%22%3A%2254ad4bf76529d92b2c043930%22%2C%22filename%22%3A%2251199610_sea-bean-salad-daikon_1x1.jpg%22%2C%22caption%22%3A%22Sea%20Bean%20Salad%20with%20Daikon%20and%20Cucumber%22%2C%22credit%22%3A%22Michael%20Spain-Smith%22%2C%22promoTitle%22%3A%22Sea%20Bean%20Salad%20with%20Daikon%20and%20Cucumber%22%2C%22title%22%3A%22Sea%20Bean%20Salad%20with%20Daikon%20and%20Cucumber%22%2C%22orientation%22%3A%22landscape%22%2C%22restrictCropping%22%3Afalse%7D%2C%22tag%22%3A%7B%22category%22%3A%22cuisine%22%2C%22name%22%3A%22Asian%22%2C%22url%22%3A%22%22%2C%22photosBadgeAltText%22%3A%22%22%2C%22photosBadgeFileName%22%3A%22%22%2C%22photosBadgeID%22%3A%22%22%2C%22photosBadgeRelatedUri%22%3A%22%22%7D%2C%22aggregateRating%22%3A0%2C%22ingredients%22%3A%5B%222%20large%20cucumbers%2C%20peeled%20(about%201%201%2F2%20pounds)%22%2C%221%20large%20daikon%20radish%2C%20peeled%22%2C%224%20scallions%22%2C%221%2F2%20pound%20sea%20beans%2C%20ends%20trimmed%22%2C%223%20tablespoons%20rice%20wine%20vinegar%22%2C%222%20tablespoons%20canola%20oil%22%2C%222%20tablespoons%20toasted%20sesame%20oil%22%2C%222%20tablespoons%20tamari%22%2C%222%20teaspoons%20black%20sesame%20seeds%22%2C%222%20teaspoons%20white%20sesame%20seeds%22%2C%221%20teaspoon%20sugar%22%2C%222%20fresh%20shiso%20leaves%2C%20finely%20chopped%22%5D%2C%22prepSteps%22%3A%5B%221.%20Cut%20the%20flesh%20of%20the%20cucumber%20into%20very%20thin%20noodle-like%20strips.%20Avoid%20the%20seeds%20by%20not%20cutting%20the%20very%20center%20of%20the%20cucumber.%20A%20mandoline%20works%20best%2C%20or%20use%20a%20knife%20and%20slice%20really%20thin.%22%2C%222.%20Cut%20the%20daikon%20into%20the%20same%20thin%20noodle-like%20strips.%20Here%20there%20are%20no%20seeds%2C%20so%20you%20can%20cut%20through%20the%20entire%20vegetable.%22%2C%223.%20Trim%20the%20roots%20of%20the%20scallions%2C%20then%20slice%20them%20into%20fine%20rings.%20Start%20at%20the%20white%20bottom%20and%20use%20about%20three-quarters%20of%20each%20scallion%2C%20until%20the%20leaves%20become%20much%20darker%20green%20and%20thicker.%22%2C%224.%20Combine%20the%20remaining%20ingredients%20in%20a%20medium%20bowl%20to%20ensure%20they%20are%20well%20mixed%2C%20then%20add%20all%20of%20the%20vegetables.%20Toss%20to%20combine%2C%20then%20cover%20and%20place%20in%20the%20refrigerator%20to%20marinate%20for%20at%20least%2030%20minutes%2C%20but%20no%20longer%20than%2024%20hours%20or%20they%20will%20get%20mushy.%20Serve%20chilled.%22%5D%2C%22reviewsCount%22%3A0%2C%22willMakeAgainPct%22%3A0%7D%5D%2C%22page%22%3A%7B%22generatedAt%22%3A%222018-03-17T16%3A29%3A22.454Z%22%2C%22count%22%3A2%2C%22number%22%3A1%2C%22size%22%3A18%2C%22totalCount%22%3A21%2C%22nextUri%22%3A%22%2Fapi%2Fsearch%2Fv1%2Fquery%3Fsize%3D18%26page%3D2%26q%3Dtofu%2520chill%22%2C%22previousNumber%22%3A1%7D%7D%5D%2C%22resultGroupDisplaySize%22%3A18%2C%22spellcheck%22%3A%7B%22requested%22%3A%22tofu%20chill%22%7D%2C%22suggestions%22%3A%5B%5D%2C%22walkthrough%22%3A%7B%7D%2C%22items%22%3A%5B%7B%22id%22%3A%2254a42e8319925f464b381eab%22%2C%22dek%22%3A%22A%20bowl%20of%20these%20refreshing%20noodles%E2%80%94a%20riff%20on%20a%20Japanese%20classic%20that%20gets%20topped%20with%20silky%20tofu%E2%80%94is%20clean%20and%20light%2C%20yet%20still%20hearty%20enough%20to%20make%20a%20satisfying%20meal.%22%2C%22hed%22%3A%22Chilled%20Soba%20with%20Tofu%20and%20Sugar%20Snap%20Peas%22%2C%22pubDate%22%3A%222008-09-18T16%3A43%3A55.000Z%22%2C%22author%22%3A%5B%7B%22name%22%3A%22%20Lillian%20Chou%22%7D%5D%2C%22type%22%3A%22recipe%22%2C%22url%22%3A%22%2Frecipes%2Ffood%2Fviews%2Fchilled-soba-with-tofu-and-sugar-snap-peas-242834%22%2C%22photoData%22%3A%7B%22id%22%3A%22560d78b17b55306961bf3470%22%2C%22filename%22%3A%22242834_hires.jpg%22%2C%22caption%22%3A%22Chilled%20Soba%20with%20Tofu%20and%20Sugar%20Snap%20Peas%22%2C%22credit%22%3A%22Romulo%20Yanes%22%2C%22promoTitle%22%3A%22Chilled%20Soba%20with%20Tofu%20and%20Sugar%20Snap%20Peas%22%2C%22title%22%3A%22Chilled%20Soba%20with%20Tofu%20and%20Sugar%20Snap%20Peas%22%2C%22orientation%22%3A%22portrait%22%2C%22restrictCropping%22%3Afalse%7D%2C%22tag%22%3A%7B%22category%22%3A%22cuisine%22%2C%22name%22%3A%22Japanese%22%2C%22url%22%3A%22%22%2C%22photosBadgeAltText%22%3A%22%22%2C%22photosBadgeFileName%22%3A%22%22%2C%22photosBadgeID%22%3A%22%22%2C%22photosBadgeRelatedUri%22%3A%22%22%7D%2C%22aggregateRating%22%3A3.53%2C%22ingredients%22%3A%5B%221%20large%20dried%20shiitake%20mushroom%22%2C%222%201%2F2%20cups%20water%22%2C%228%20(1-inch)%20pieces%20kombu%20(dried%20kelp)%22%2C%221%2F2%20cup%20soy%20sauce%20(preferably%20Japanese)%22%2C%221%2F4%20cup%20mirin%20(Japanese%20sweet%20rice%20wine)%22%2C%223%20tablespoons%20ponzu%20sauce%20(not%20containing%20dashi)%22%2C%221%20tablespoon%20sugar%22%2C%221%20tablespoon%20Asian%20sesame%20oil%22%2C%221%20pound%20sugar%20snap%20peas%2C%20thinly%20sliced%22%2C%2210%20ounces%20baby%20spinach%20(16%20cups)%22%2C%221%20pound%20dried%20soba%20noodles%22%2C%221%20(14-%20to%2018-ounce)%20package%20silken%20tofu%22%2C%221%20cup%20thinly%20sliced%20scallions%2C%20divided%22%2C%222%20tablespoons%20thin%20matchsticks%20of%20peeled%20ginger%22%5D%2C%22prepSteps%22%3A%5B%22Simmer%20mushroom%20in%20water%20in%20a%20small%20saucepan%2C%20covered%2C%2015%20minutes.%20Add%20kombu%20and%20barely%20simmer%2C%20covered%2C%205%20minutes.%20Remove%20from%20heat%20and%20let%20stand%2C%20covered%2C%205%20minutes.%20Strain%20through%20a%20fine-mesh%20sieve%20into%20a%20large%20glass%20measure%2C%20pressing%20on%20and%20discarding%20solids.%20Return%202%20cups%20liquid%20(add%20water%20if%20necessary)%20to%20saucepan.%20Add%20soy%20sauce%2C%20mirin%2C%20ponzu%2C%20sugar%2C%20and%201%2F4%20teaspoon%20salt%20and%20bring%20to%20a%20boil%2C%20stirring%20until%20sugar%20has%20dissolved.%20Remove%20from%20heat.%20Stir%20in%20sesame%20oil%2C%20then%20cool%20in%20pan%20in%20a%20large%20ice%20bath.%22%2C%22Blanch%20sugar%20snaps%20in%20a%20large%20pot%20of%20unsalted%20boiling%20water%20until%20crisp-tender%2C%20about%202%20minutes.%20Transfer%20with%20a%20slotted%20spoon%20to%20a%20large%20colander%20set%20in%20ice%20bath%20to%20stop%20cooking.%20Lift%20colander%20to%20drain.%20Transfer%20sugar%20snaps%20to%20a%20bowl.%20Meanwhile%2C%20return%20water%20to%20a%20boil.%20Blanch%20spinach%20until%20just%20wilted%2C%20about%2030%20seconds%2C%20then%20cool%20and%20drain%20in%20same%20manner.%20Squeeze%20out%20excess%20water.%20Add%20to%20sugar%20snaps.%22%2C%22Return%20water%20to%20a%20boil.%22%2C%22Add%20noodles%20and%20cook%20according%20to%20package%20directions%2C%20stirring%20occasionally%2C%20until%20tender.%20Drain%20in%20colander%20and%20rinse%20with%20cold%20water.%20Cool%20in%20ice%20bath%20until%20very%20cold%20(add%20more%20ice%20to%20water%20as%20necessary).%20Drain%20well.%22%2C%22Carefully%20drain%20tofu%20and%20pat%20dry.%20Cut%20into%203%2F4-inch%20cubes.%22%2C%22Whisk%20sauce%2C%20then%20pour%201%201%2F2%20cups%20sauce%20into%20a%20large%20bowl.%20Add%20noodles%2C%20sugar%20snaps%2C%20spinach%2C%20and%20half%20of%20scallions%20and%20toss.%20Serve%20in%20shallow%20bowls%2C%20topped%20with%20tofu%2C%20remaining%20scallions%2C%20and%20ginger.%20Drizzle%20with%20some%20of%20remaining%20sauce%20and%20serve%20remainder%20on%20the%20side.%22%5D%2C%22reviewsCount%22%3A8%2C%22willMakeAgainPct%22%3A75%7D%2C%7B%22id%22%3A%2254a4216a19925f464b3785c7%22%2C%22dek%22%3A%22I've%20been%20doing%20the%20previous%20marinades%20forever.%20This%20new%20one%20is%20first%20cousin%20to%20a%20good%20barbecued%20tofu%3A%20piquant%2C%20sweet-hot-rich%2C%20and%20scintillatingly%20tasty.%20The%20tofu%20is%20baked%20in%20the%20marinade%2Fsauce%2C%20which%20cooks%20down%20and%20coats%20it%2C%20caramelizing%20them.%20You'll%20probably%20have%20to%20soak%20the%20baking%20dish%20overnight%20before%20washing%20it%2C%20but%20it's%20worth%20it.%20Vary%20this%20using%20fruit%20juice%20concentrate%20instead%20of%20honey%20or%20sugar%2C%20and%20adding%20extra%20ginger%2C%20orange%20zest%2C%20or%20both.%20For%20an%20incendiary%20smokiness%2C%20add%20chipotle%20in%20adobo.%22%2C%22hed%22%3A%22New%20Wave-New%20Fave%20Baked%20Tofu%20or%20Tempeh%22%2C%22pubDate%22%3A%222012-02-10T04%3A00%3A00.000Z%22%2C%22author%22%3A%5B%7B%22name%22%3A%22Crescent%20Dragonwagon%22%7D%5D%2C%22type%22%3A%22recipe%22%2C%22url%22%3A%22%2Frecipes%2Ffood%2Fviews%2Fnew-wave-new-fave-baked-tofu-or-tempeh-394509%22%2C%22photoData%22%3A%7B%22id%22%3A%225a0ddb046e013d11dde39630%22%2C%22filename%22%3A%22no-recipe-card-green-15112017.jpg%22%2C%22caption%22%3A%22No%20Recipe%20Card-%20GREEN%22%2C%22credit%22%3A%22Photo%20by%20Chelsea%20Kyle%22%2C%22colors%22%3A%7B%22average%22%3A%22%23000000%22%7D%2C%22type%22%3A%22photo%22%7D%2C%22tag%22%3A%7B%22category%22%3A%22ingredient%22%2C%22name%22%3A%22Soy%22%2C%22url%22%3A%22%22%2C%22photosBadgeAltText%22%3A%22%22%2C%22photosBadgeFileName%22%3A%22%22%2C%22photosBadgeID%22%3A%22%22%2C%22photosBadgeRelatedUri%22%3A%22%22%7D%2C%22aggregateRating%22%3A3%2C%22ingredients%22%3A%5B%221%2F3%20cup%20natural%2C%20unhydrogenated%20peanut%20butter%22%2C%221%2F3%20cup%20tamari%20or%20shoyu%20soy%20sauce%22%2C%221%2F3%20cup%20honey%2C%20light%20brown%20sugar%2C%20maple%20syrup%2C%20or%20thawed%2C%20undiluted%20frozen%20apple%20or%20pineapple%20juice%20concentrate%22%2C%221%2F4%20cup%20apple%20cider%20vinegar%22%2C%224%20to%206%20cloves%20garlic%2C%20quartered%20lengthwise%22%2C%22About%201%20tablespoon%20chopped%20fresh%20ginger%20(optional)%22%2C%221%20to%202%20tablespoons%20tomato%20paste%20or%20ketchup%22%2C%221%20canned%20chipotle%20pepper%20in%20adobo%20sauce%2C%201%2F2%20teaspoon%20cayenne%2C%20or%201%20fresh%20serrano%20or%20jalape%C3%B1o%20pepper%2C%20de-stemmed%22%2C%22Juice%20and%20grated%20zest%20of%201%20orange%20(optional%2C%20but%20good)%22%2C%2212%20to%2014%20ounces%20drained%2C%20sliced%20traditional%20water-packed%20firm%20or%20extra-firm%20tofu%20or%20tempeh%22%2C%22Vegetable%20oil%20cooking%20spray%22%5D%2C%22prepSteps%22%3A%5B%221.%20Combine%20the%20peanut%20butter%2C%20tamari%2C%20honey%2C%20apple%20cider%20vinegar%2C%20garlic%2C%20ginger%2C%20tomato%20paste%2C%20chipotle%2C%20and%20orange%20juice%20and%20zest%20in%20a%20food%20processor%20and%20buzz%20until%20the%20ginger%20is%20finely%20chopped.%22%2C%222.%20To%20use%20the%20marinade%2C%20place%20the%20tofu%20in%20a%20nonreactive%20bowl%20or%20zip-top%20bag%20and%20pour%20or%20spoon%20this%20luscious%20mixture%20over%20it.%20Refrigerate%20the%20tofu%2C%20covered%2C%20overnight.%22%2C%223.%20The%20next%20day%2C%20preheat%20the%20oven%20to%20375%C2%B0F%20and%20generously%20spray%20a%20nonreactive%20baking%20dish%20with%20oil%20(I%20use%20an%208%20or%209%20by%2012-inch%20deep%20glass%20baking%20dish).%22%2C%224.%20Place%20the%20tofu%20and%20its%20marinade%20in%20the%20baking%20dish%2C%20spreading%20the%20marinade%20as%20needed%20so%20both%20sides%20of%20the%20tofu%20slices%20get%20a%20good%20smear%20of%20it.%20Bake%2C%20turning%20once%2C%20until%20fragrant%2C%20firmed%20up%2C%20and%20golden%20to%20deep%20brown%20in%20spots%20with%20the%20marinade%20considerably%20thickened%2C%20about%2030%20minutes.%22%5D%2C%22reviewsCount%22%3A1%2C%22willMakeAgainPct%22%3A100%7D%2C%7B%22id%22%3A%225a0330ea57e96a30a35d163c%22%2C%22dek%22%3A%22The%20novelist%20and%20independent%20book%20publisher%20relies%20on%20intuition%2C%20leftovers%2C%20and%20some%20very%20good%20cookbooks%20to%20make%20dinner%20happen.%22%2C%22hed%22%3A%22What%20the%20Writer-Publisher-Mom%20Emily%20Gould%20Cooks%20in%20a%20Week%20%20%22%2C%22pubDate%22%3A%222017-11-08T18%3A39%3A04.371Z%22%2C%22author%22%3A%5B%7B%22name%22%3A%22Emily%20Gould%22%7D%5D%2C%22type%22%3A%22article%22%2C%22url%22%3A%22%2Fexpert-advice%2Femily-gould-cooking-diary-article%22%2C%22photoData%22%3A%7B%22id%22%3A%225a021ac7d63f7339eb97b547%22%2C%22filename%22%3A%22Small-Plates-Dinner-Diary-Emily-Gould-Alt-2.jpg%22%2C%22caption%22%3A%22%22%2C%22credit%22%3A%22Photo%20by%20Caleb%20Adams%22%2C%22promoTitle%22%3A%22%22%2C%22title%22%3A%22Small%20Plates%20Dinner%20Diary%20Emily%20Gould%20Alt-2%22%2C%22orientation%22%3A%22landscape%22%2C%22restrictCropping%22%3Afalse%7D%7D%2C%7B%22id%22%3A%2257b4d92bfd214db6472a3163%22%2C%22dek%22%3A%22Stone%20fruits%20and%20tomatoes%20are%20both%20at%20their%20peak%2C%20why%20not%20get%20your%20fill%20of%20both%20in%20one%20flavor-packed%20summer%20week%3F%22%2C%22hed%22%3A%22This%20Week%2C%20It's%20All%20Peaches%20and%20Tomatoes%22%2C%22pubDate%22%3A%222016-08-28T14%3A03%3A42.549Z%22%2C%22author%22%3A%5B%7B%22name%22%3A%22Epicurious%20Editors%22%7D%5D%2C%22type%22%3A%22article%22%2C%22url%22%3A%22%2Frecipes-menus%2Fsummer-dinner-ideas-peaches-tomatoes-article%22%2C%22photoData%22%3A%7B%22id%22%3A%2255afe113a188eea213e613e6%22%2C%22filename%22%3A%2256389709_tomato-peach-salad_1x1.jpg%22%2C%22caption%22%3A%22Tomato-Peach%20Salad%20with%20Tofu%20Cream%22%2C%22credit%22%3A%22Photo%20by%20Christopher%20Testani%22%2C%22promoTitle%22%3A%22Tomato-Peach%20Salad%20with%20Tofu%20Cream%22%2C%22title%22%3A%22Tomato-Peach%20Salad%20with%20Tofu%20Cream%22%2C%22orientation%22%3A%22landscape%22%2C%22restrictCropping%22%3Afalse%7D%7D%2C%7B%22id%22%3A%2257180141136b9a220ecd7dce%22%2C%22dek%22%3A%22A%20food%20writer%20gives%20us%20a%20peek%20into%20what%20really%20happens%20behind%20the%20scenes%20in%20her%20kitchen.%20And%20some%20of%20it%20isn't%20pretty.%22%2C%22hed%22%3A%22Dirty%20Secrets%20of%20a%20Home%20Cook%22%2C%22pubDate%22%3A%222016-04-21T23%3A30%3A00.000Z%22%2C%22author%22%3A%5B%7B%22name%22%3A%22Laurie%20Woolever%22%7D%5D%2C%22type%22%3A%22article%22%2C%22url%22%3A%22%2Fexpert-advice%2Fdirty-secrets-of-a-home-cook-article%22%2C%22photoData%22%3A%7B%22id%22%3A%2254b5b5bb2889f660285a7982%22%2C%22filename%22%3A%22EP_20140912_boone-3_6x4-lpr.jpg%22%2C%22caption%22%3A%22%22%2C%22credit%22%3A%22Photo%20by%20Rhoda%20Boone%22%2C%22promoTitle%22%3A%22%22%2C%22title%22%3A%22raw%20cubed%20beef%20chuck%22%2C%22orientation%22%3A%22landscape%22%2C%22restrictCropping%22%3Afalse%7D%7D%2C%7B%22id%22%3A%2256290173e82ff50f71a50a27%22%2C%22dek%22%3A%22With%20these%20ingredients%20always%20on%20hand%2C%20there's%20no%20Thai%20(or%20Indian)%20(or%20Chinese)%20recipe%20you%20can't%20try.%22%2C%22hed%22%3A%22The%20International%20Ingredients%20You%20Need%20in%20Your%20Freezer%20Right%20Now%22%2C%22pubDate%22%3A%222015-10-23T16%3A04%3A27.286Z%22%2C%22author%22%3A%5B%7B%22name%22%3A%22The%20Epicurious%20Editors%22%7D%5D%2C%22type%22%3A%22article%22%2C%22url%22%3A%22%2Fingredients%2Ffrozen-ethnic-international-thai-chinese-indian-ingredients-article%22%2C%22photoData%22%3A%7B%22id%22%3A%225628f99dc538d7c61b19af94%22%2C%22filename%22%3A%22EP_10212015_EthnicFoods_hero.jpg%22%2C%22caption%22%3A%22%22%2C%22credit%22%3A%22Photo%20by%20Chelsea%20Kyle%2C%20Prop%20Styling%20by%20Alex%20Brannian%22%2C%22promoTitle%22%3A%22%22%2C%22title%22%3A%22Freezer%20Pantry%20Ethnic%20Foods-%20HERO%22%2C%22orientation%22%3A%22landscape%22%2C%22restrictCropping%22%3Afalse%7D%7D%2C%7B%22id%22%3A%22562a62dab3d63be14330b17c%22%2C%22dek%22%3A%22All%20of%20the%20flavor%2C%20none%20of%20the%20prep%20work.%22%2C%22hed%22%3A%22Frozen%20Vegetables%20Are%20a%20Wok's%20Best%20Friend%22%2C%22pubDate%22%3A%222015-10-23T19%3A30%3A00.000Z%22%2C%22author%22%3A%5B%7B%22name%22%3A%22Matt%20Rodbard%22%7D%5D%2C%22type%22%3A%22article%22%2C%22url%22%3A%22%2Fexpert-advice%2Fwhy-the-freezer-aisle-is-a-woks-best-friend-article%22%2C%22photoData%22%3A%7B%22id%22%3A%225570c1b281ac1e5023671e80%22%2C%22filename%22%3A%22EP-04142015-wok-7-6x4-CP.jpg%22%2C%22caption%22%3A%22%22%2C%22credit%22%3A%22Photo%20by%20Chelsea%20Kyle%22%2C%22promoTitle%22%3A%22northern%20style%20carbon-steel%20round-bottomed%20wok%22%2C%22title%22%3A%22northern%20style%20carbon-steel%20round-bottomed%20wok%22%2C%22orientation%22%3A%22landscape%22%2C%22restrictCropping%22%3Afalse%7D%7D%2C%7B%22id%22%3A%2255675e0850e46c5c01e986ed%22%2C%22dek%22%3A%22Love%20spaghetti%3F%20Here%20are%20five%20ways%20to%20turn%20a%20box%20of%20the%20quick-cooking%20pasta%20into%20lunch.%22%2C%22hed%22%3A%22How%20to%20Turn%201%20Box%20of%20Spaghetti%20Into%20%205%20Workday%20Lunches%22%2C%22pubDate%22%3A%222015-06-03T20%3A26%3A51.000Z%22%2C%22author%22%3A%5B%7B%22name%22%3A%22Katherine%20Sacks%22%2C%22uri%22%3A%22http%3A%2F%2Fwww.epicurious.com%2Fcontributors%2Fkatherine-sacks%22%7D%5D%2C%22type%22%3A%22article%22%2C%22url%22%3A%22%2Frecipes-menus%2Ffive-spaghetti-workday-lunches-recipes-article%22%2C%22photoData%22%3A%7B%22id%22%3A%225537e208a628db523848a35f%22%2C%22filename%22%3A%2256389373_ramp-pesto-spaghetti_1x1.jpg%22%2C%22caption%22%3A%22Ramp%20Pesto%20Spaghetti%22%2C%22credit%22%3A%22Danny%20Kim%22%2C%22promoTitle%22%3A%22Ramp%20Pesto%20Spaghetti%22%2C%22title%22%3A%22Ramp%20Pesto%20Spaghetti%22%2C%22orientation%22%3A%22landscape%22%2C%22restrictCropping%22%3Afalse%7D%7D%2C%7B%22id%22%3A%2258913f7eeb3e360a3e384079%22%2C%22dek%22%3A%22What%20to%20look%20for%20when%20buying%E2%80%94and%20cooking%E2%80%94udon%2C%20soba%2C%20somen%2C%20and%20more.%22%2C%22hed%22%3A%22The%20Expert%20Shopper's%20Guide%20to%20Japanese%20Noodles%22%2C%22pubDate%22%3A%222017-02-09T20%3A00%3A00.000Z%22%2C%22author%22%3A%5B%7B%22name%22%3A%22Janet%20Rausa%20Fuller%22%7D%5D%2C%22type%22%3A%22article%22%2C%22url%22%3A%22%2Fingredients%2Fthe-expert-shoppers-guide-to-japanese-noodles-article%22%2C%22photoData%22%3A%7B%22id%22%3A%2254ad3c796529d92b2c04179f%22%2C%22filename%22%3A%2251205280_soba-mushrooms-soy_1x1.jpg%22%2C%22caption%22%3A%22Soba%20and%20Maitake%20Mushrooms%20in%20Soy%20Broth%22%2C%22credit%22%3A%22Hirsheimer%20%26%20Hamilton%22%2C%22promoTitle%22%3A%22Soba%20and%20Maitake%20Mushrooms%20in%20Soy%20Broth%22%2C%22title%22%3A%22Soba%20and%20Maitake%20Mushrooms%20in%20Soy%20Broth%22%2C%22orientation%22%3A%22landscape%22%2C%22restrictCropping%22%3Afalse%7D%7D%2C%7B%22id%22%3A%2254ac556c6529d92b2c03b44a%22%2C%22dek%22%3A%22Need%20to%20shake%20up%20your%20smoothie%20routine%3F%20These%20game-changing%20recipes%20and%20easy%20upgrades%20will%20turn%20your%20blend%20from%20blah%20to%20blissful%20in%20a%20matter%20of%20seconds.%22%2C%22hed%22%3A%227%20Delicious%20Ways%20to%20Upgrade%20Your%20Smoothies%20Anytime%22%2C%22pubDate%22%3A%222015-01-27T21%3A04%3A18.991Z%22%2C%22author%22%3A%5B%7B%22name%22%3A%22Gabriella%20Vigoreaux%22%7D%5D%2C%22type%22%3A%22article%22%2C%22url%22%3A%22%2Frecipes-menus%2F7-delicious-ways-to-upgrade-your-smoothies-anytime-article%22%2C%22photoData%22%3A%7B%22id%22%3A%2254c903a01f13bb9b2edf3620%22%2C%22filename%22%3A%22Peachy-Chia-Chai-Smoothie-9x4.jpg%22%2C%22caption%22%3A%22%22%2C%22credit%22%3A%22Photo%20by%20Tatsuro%20Nishimura%2C%20food%20styling%20by%20Rhoda%20Boone%22%2C%22promoTitle%22%3A%22%22%2C%22title%22%3A%22Peachy-Chia-Chai-Smoothie-9x4.jpg%22%2C%22orientation%22%3A%22landscape%22%2C%22restrictCropping%22%3Afalse%7D%7D%2C%7B%22id%22%3A%2254a428a26529d92b2c00d920%22%2C%22dek%22%3A%22If%20you%20live%20near%20a%20Chinese%20market%2C%20pick%20up%20barbecued%20or%20smoked%20duck%20there.%20Otherwise%2C%20smoked%20chicken%20or%20turkey%20from%20the%20supermarket%20(or%20leftover%20roast%20chicken)%20would%20be%20terrific%20tossed%20with%20the%20noodles.%20To%20make%20it%20a%20meal%2C%20add%20a%20platter%20of%20chilled%20silken%20tofu.%20Drizzle%20the%20tofu%20with%20soy%20sauce%20and%20chili%20sauce%2C%20then%20top%20with%20chopped%20green%20onions.%20Coconut%20ice%20cream%20with%20fresh%20berries%20and%20lychees%20would%20make%20a%20nice%20dessert.%22%2C%22hed%22%3A%22Chinese%20Egg%20Noodles%20with%20Smoked%20Duck%20and%20Snow%20Peas%22%2C%22pubDate%22%3A%222009-07-02T04%3A00%3A00.000Z%22%2C%22author%22%3A%5B%7B%22name%22%3A%22Jill%20Dupleix%22%7D%5D%2C%22type%22%3A%22recipe%22%2C%22url%22%3A%22%2Frecipes%2Ffood%2Fviews%2Fchinese-egg-noodles-with-smoked-duck-and-snow-peas-354302%22%2C%22photoData%22%3A%7B%22id%22%3A%2254cd1c181f13bb9b2edfc482%22%2C%22filename%22%3A%22ChineseEggNoodleswithSmokedDuckandSnowPeas_6x4.jpg%22%2C%22caption%22%3A%22%22%2C%22credit%22%3A%22Photo%20by%20Misha%20Gravenor%22%2C%22promoTitle%22%3A%22%22%2C%22title%22%3A%22Chinese%20Egg%20Noodles%20with%20Smoked%20Duck%20and%20Snow%20Peas%22%2C%22orientation%22%3A%22landscape%22%2C%22restrictCropping%22%3Afalse%7D%2C%22tag%22%3A%7B%22category%22%3A%22cuisine%22%2C%22name%22%3A%22Asian%22%2C%22url%22%3A%22%22%2C%22photosBadgeAltText%22%3A%22%22%2C%22photosBadgeFileName%22%3A%22%22%2C%22photosBadgeID%22%3A%22%22%2C%22photosBadgeRelatedUri%22%3A%22%22%7D%2C%22aggregateRating%22%3A2.25%2C%22ingredients%22%3A%5B%222%20tablespoons%20soy%20sauce%22%2C%222%20tablespoons%20olive%20oil%22%2C%221%20tablespoon%20hoisin%20sauce*%22%2C%221%20tablespoon%20unseasoned%20rice%20vinegar%22%2C%223%201%2F2%20ounces%20snow%20peas%20or%20sugar%20snap%20peas%2C%20thinly%20sliced%20lengthwise%20(about%201%201%2F2%20cups)%22%2C%221%20red%20bell%20pepper%2C%20cut%20into%20matchstick-size%20strips%22%2C%221%2017-ounce%20(425-gram)%20package%20thin%20fresh%20Chinese%20egg%20noodles**%22%2C%221%20pound%20smoked%20duck%2C%20turkey%2C%20or%20chicken%2C%20cut%20into%203x1%2F4-inch%20strips%22%2C%221%2F2%20cup%20fresh%20cilantro%20leaves%22%2C%222%20tablespoons%20thinly%20sliced%20green%20onion%22%2C%221%20tablespoon%20thinly%20sliced%20jalape%C3%B1o%20chile%20with%20seeds%20(preferably%20red)%22%5D%2C%22prepSteps%22%3A%5B%22Whisk%20soy%20sauce%2C%20olive%20oil%2C%20hoisin%20sauce%2C%20and%20rice%20vinegar%20in%20large%20bowl%20to%20blend.%20Let%20dressing%20stand%20at%20room%20temperature%20while%20preparing%20noodles.%22%2C%22Place%20sliced%20snow%20peas%20and%20bell%20pepper%20strips%20in%20medium%20bowl.%20Bring%20kettle%20or%20large%20saucepan%20of%20water%20to%20boil.%20Pour%20boiling%20water%20over%20snow%20pea%20mixture%20and%20let%20soak%2010%20seconds.%20Drain%20well.%20Rinse%20mixture%20with%20cold%20water%20and%20drain%20again.%20Place%20egg%20noodles%20in%20large%20bowl.%20Bring%20kettle%20or%20large%20saucepan%20of%20water%20to%20boil%2C%20then%20pour%20boiling%20water%20over%20noodles%3B%20stir%20noodles%20to%20separate.%20Let%20noodles%20soak%2010%20seconds.%20Drain%20well.%20Rinse%20noodles%20with%20cold%20water%3B%20drain%20again.%22%2C%22Add%20snow%20pea%20mixture%2C%20egg%20noodles%2C%20smoked%20duck%2C%20cilantro%20leaves%2C%20green%20onion%2C%20and%20jalape%C3%B1o%20to%20bowl%20with%20dressing.%20Toss%20well%20to%20coat.%20Divide%20noodle%20mixture%20among%20plates%20and%20serve.%22%2C%22*%20Hoisin%20sauce%20is%20available%20in%20the%20Asian%20foods%20section%20of%20many%20supermarkets%20and%20at%20Asian%20markets.%22%2C%22**%20Fresh%20Chinese%20egg%20noodles%20are%20available%20in%20the%20refrigerated%20section%20of%20Asian%20markets.%22%5D%2C%22reviewsCount%22%3A4%2C%22willMakeAgainPct%22%3A50%7D%2C%7B%22id%22%3A%2254a42a896529d92b2c00f252%22%2C%22dek%22%3A%22Xiao%20Fan's%20spicy%20sauce%20will%20transform%20not%20only%20this%20steamed%20chicken%20but%20also%20plain%20rice%2C%20noodles%2C%20tofu%2C%20even%20grilled%20steak.%20The%20sauce%20can%20be%20doubled%20and%20leftovers%20chilled%20for%20a%20week.%20To%20reheat%2C%20add%20a%20bit%20of%20broth%20or%20water%20and%20simmer%20for%20about%20a%20minute.%22%2C%22hed%22%3A%22Steamed%20Chicken%20with%20Xiao%20Fan's%20Special%20Sauce%22%2C%22pubDate%22%3A%222008-04-15T22%3A02%3A19.000Z%22%2C%22author%22%3A%5B%7B%22name%22%3A%22Fan%20Nianfeng%20%22%7D%5D%2C%22type%22%3A%22recipe%22%2C%22url%22%3A%22%2Frecipes%2Ffood%2Fviews%2Fsteamed-chicken-with-xiao-fans-special-sauce-242313%22%2C%22photoData%22%3A%7B%22id%22%3A%22560d7866f9a841923089d67d%22%2C%22filename%22%3A%22242313_hires.jpg%22%2C%22caption%22%3A%22Steamed%20Chicken%20with%20Xiao%20Fan's%20Special%20Sauce%22%2C%22credit%22%3A%22Romulo%20Yanes%22%2C%22promoTitle%22%3A%22Steamed%20Chicken%20with%20Xiao%20Fan's%20Special%20Sauce%22%2C%22title%22%3A%22Steamed%20Chicken%20with%20Xiao%20Fan's%20Special%20Sauce%22%2C%22orientation%22%3A%22portrait%22%2C%22restrictCropping%22%3Afalse%7D%2C%22tag%22%3A%7B%22category%22%3A%22cuisine%22%2C%22name%22%3A%22Chinese%22%2C%22url%22%3A%22%22%2C%22photosBadgeAltText%22%3A%22%22%2C%22photosBadgeFileName%22%3A%22%22%2C%22photosBadgeID%22%3A%22%22%2C%22photosBadgeRelatedUri%22%3A%22%22%7D%2C%22aggregateRating%22%3A3.33%2C%22ingredients%22%3A%5B%221%20chicken%20(about%203%201%2F2%20pounds)%2C%20halved%20lengthwise%22%2C%222%20tablespoons%20thin%20matchsticks%20of%20peeled%20ginger%22%2C%221%201%2F2%20tablespoons%20peanut%20or%20vegetable%20oil%22%2C%224%20garlic%20cloves%2C%20minced%22%2C%223%20to%204%20(2-inch)%20fresh%20hot%20Thai%20chiles%2C%20minced%2C%20including%20seeds%22%2C%221%2F2%20cup%20coarsely%20chopped%20cilantro%22%2C%221%2F4%20cup%20water%22%2C%221%20teaspoon%20soy%20sauce%22%2C%221%20teaspoon%20rice%20vinegar%20(not%20seasoned)%22%5D%2C%22prepSteps%22%3A%5B%22Fit%20a%20large%20steamer%20rack%20inside%20a%20large%20wide%20pot.%20Add%20enough%20water%20to%20reach%20within%201%2F2%20inch%20of%20bottom%20of%20rack.%20Bring%20to%20a%20boil.%22%2C%22Pat%20chicken%20dry%20and%20put%2C%20skin%20side%20up%2C%20in%20a%20shallow%20bowl%20(that%20will%20fit%20on%20steamer%20rack%20inside%20pot).%20Sprinkle%20with%20ginger%20and%20steam%2C%20covered%2C%20over%20high%20heat%2C%20until%20chicken%20is%20just%20cooked%20through%2C%2030%20to%2035%20minutes%20(replenish%20water%20if%20necessary).%22%2C%22Carefully%20remove%20bowl%20with%20chicken.%20Pour%20off%20juices%20into%20a%20glass%20measure%20and%20set%20aside%201%2F4%20cup%20(reserve%20remainder%20for%20another%20use).%20Return%20chicken%20in%20bowl%20to%20pot%20and%20keep%20warm%2C%20covered%2C%20off%20heat.%22%2C%22Heat%20a%20wok%20or%20large%20heavy%20skillet%20(not%20nonstick)%20over%20high%20heat%20until%20smoking%2C%20then%20drizzle%20oil%20down%20side%20of%20wok%20and%20swirl%20to%20coat.%20Reduce%20heat%20to%20medium%2C%20then%20add%20garlic%20and%20stir-fry%2015%20seconds.%20Add%20chiles%20and%20stir-fry%2015%20seconds.%20Add%20cilantro%20and%20stir-fry%201%20minute.%20Stir%20in%20remaining%20ingredients%2C%201%2F4%20teaspoon%20salt%2C%20and%201%2F4%20cup%20chicken%20juices%20and%20simmer%201%20minute.%20Transfer%20to%20a%20bowl.%22%2C%22Drizzle%20some%20sauce%20over%20chicken%20(include%20some%20solids%20for%20a%20spicier%20sauce)%3B%20serve%20the%20rest%20on%20the%20side.%20Season%20chicken%20with%20salt.%22%5D%2C%22reviewsCount%22%3A5%2C%22willMakeAgainPct%22%3A60%7D%2C%7B%22id%22%3A%2254c15e80e231becc7f3db57e%22%2C%22dek%22%3A%22Great%20news%E2%80%94your%20vegan%20friend%20is%20coming%20over%20for%20dinner!%20And...so%20is%20your%20carnivore%20pal.%20Here%2C%20vegan%20bloggers%20tip%20you%20off%20on%20how%20to%20satisfy%20both.%22%2C%22hed%22%3A%22How%20to%20(Dinner)%20Party%20with%20a%20Vegan%22%2C%22pubDate%22%3A%222015-02-01T22%3A33%3A00.000Z%22%2C%22author%22%3A%5B%7B%22name%22%3A%22Gabriella%20Vigoreaux%22%7D%5D%2C%22type%22%3A%22article%22%2C%22url%22%3A%22%2Fexpert-advice%2Fhow-to-throw-a-vegan-dinner-party-article%22%2C%22photoData%22%3A%7B%22id%22%3A%2254c6a057e231becc7f3de323%22%2C%22filename%22%3A%22EP_20150121_kim-3_6x4-hpr.jpg%22%2C%22caption%22%3A%22%22%2C%22credit%22%3A%22Photo%20by%20Danny%20Kim%20Styling%20by%20Chelsea%20Zimmer%22%2C%22promoTitle%22%3A%22%22%2C%22title%22%3A%22Vegan%20Dinner%20%22%2C%22orientation%22%3A%22landscape%22%2C%22restrictCropping%22%3Afalse%7D%7D%2C%7B%22id%22%3A%2254a4729919925f464b399731%22%2C%22dek%22%3A%22%22%2C%22hed%22%3A%22Scallop%20and%20Corn%20Pot%20Stickers%22%2C%22pubDate%22%3A%222004-08-20T04%3A00%3A00.000Z%22%2C%22author%22%3A%5B%5D%2C%22type%22%3A%22recipe%22%2C%22url%22%3A%22%2Frecipes%2Ffood%2Fviews%2Fscallop-and-corn-pot-stickers-11846%22%2C%22photoData%22%3A%7B%22id%22%3A%225a0ddb06f110de5830af9a10%22%2C%22filename%22%3A%22no-recipe-card-red-15112017.jpg%22%2C%22caption%22%3A%22No%20Recipe%20card-%20RED%22%2C%22credit%22%3A%22Photo%20by%20Chelsea%20Kyle%22%2C%22colors%22%3A%7B%22average%22%3A%22%23000000%22%7D%2C%22type%22%3A%22photo%22%7D%2C%22tag%22%3A%7B%22category%22%3A%22cuisine%22%2C%22name%22%3A%22Asian%22%2C%22url%22%3A%22%22%2C%22photosBadgeAltText%22%3A%22%22%2C%22photosBadgeFileName%22%3A%22%22%2C%22photosBadgeID%22%3A%22%22%2C%22photosBadgeRelatedUri%22%3A%22%22%7D%2C%22aggregateRating%22%3A3.5%2C%22ingredients%22%3A%5B%221%2F2%20pound%20sea%20scallops%22%2C%221%2F4%20teaspoon%20salt%22%2C%221%2F4%20cup%20soft%20tofu%20(preferably%20silken)%22%2C%221%2F4%20cup%20cooked%20corn%22%2C%221%2F4%20cup%20minced%20red%20bell%20pepper%22%2C%223%20tablespoons%20minced%20scallion%22%2C%222%20tablespoons%20finely%20chopped%20fresh%20coriander%22%2C%22eighteen%203-to-4%20inch%20round%20won%20ton%20or%20dumpling%20or%20gyozo%20wrappers%2C%C2%A0thawed%20if%20frozen%22%2C%22cornstarch%20for%20dusting%20tray%22%2C%22Sesame%20Vinaigrette%22%5D%2C%22prepSteps%22%3A%5B%22Discard%20small%20tough%20muscle%20from%20side%20of%20each%20scallop%20and%20in%20a%20food%20processor%20pur%C3%A9e%20half%20scallops%20with%20salt.%20With%20motor%20running%20add%20tofu%20in%20a%20stream%20and%20blend%20until%20just%20combined.%22%2C%22Transfer%20scallop%20mousse%20to%20a%20small%20bowl.%20Chop%20fine%20remaining%20scallops%20and%20stir%20into%20mousse%20with%20corn%2C%20bell%20pepper%2C%20scallion%2C%20and%20coriander.%22%2C%22Put%20about%201%20tablespoon%20filling%20in%20center%20of%201%20wrapper%20and%20moisten%20edge%20of%20wrapper.%20Gather%20edge%20of%20wrapper%20up%20and%20around%20filling%2C%20pleating%20edge.%20Gently%20squeeze%20middle%20of%20pot%20sticker%20to%20form%20a%20waist%2C%20keeping%20filling%20level%20with%20top%20of%20wrapper.%20(Pot%20sticker%20will%20resemble%20a%20sack%20filled%20to%20top.)%22%2C%22Make%2017%20more%20pot%20stickers%20in%20same%20manner%20and%20arrange%20on%20a%20tray%20dusted%20lightly%20with%20cornstarch.%20Pot%20stickers%20may%20be%20made%20up%20to%20this%20point%201%20day%20ahead%20and%20chilled%2C%20covered%20with%20plastic%20wrap.%22%2C%22In%20a%20large%20non-stick%20skillet%20heat%20oil%20over%20moderately%20high%20heat%20until%20hot%20but%20not%20smoking%20and%20fry%20pot-sticker%20bottoms%20until%20golden%2C%20about%201%20minute.%20Add%20water%20and%20steam%20pot%20stickers%2C%20covered%2C%203%20to%204%20minutes%2C%20or%20until%20filling%20is%20springy%20to%20touch.%20Remove%20lid%20and%20cook%20pot%20stickers%20until%20liquid%20is%20evaporated%20and%20bottoms%20are%20recrisped.%22%2C%22Serve%20pot%20stickers%20with%20vinaigrette%20and%20garnish%20with%20coriander.%22%5D%2C%22reviewsCount%22%3A9%2C%22willMakeAgainPct%22%3A100%7D%2C%7B%22id%22%3A%2254a4276219925f464b37c5f1%22%2C%22dek%22%3A%22Combining%20bittersweet%20chocolate%20and%20cocoa%20powder%20intensifies%20the%20chocolaty%20essence%20of%20this%20cheesecake%20to%20the%20nth%20degree.%20Silken%20tofu%20brings%20a%20delicate%20creaminess%20to%20the%20filling%20while%20also%20taking%20the%20place%20of%20eggs%20by%20acting%20as%20a%20binding%20agent.%22%2C%22hed%22%3A%22Vegan%20Chocolate%20Cheesecake%22%2C%22pubDate%22%3A%222009-10-15T04%3A00%3A00.000Z%22%2C%22author%22%3A%5B%7B%22name%22%3A%22Gina%20Marie%20Miraglia%20Eriquez%22%7D%5D%2C%22type%22%3A%22recipe%22%2C%22url%22%3A%22%2Frecipes%2Ffood%2Fviews%2Fvegan-chocolate-cheesecake-355990%22%2C%22photoData%22%3A%7B%22id%22%3A%225609a773e0acd286555dba9e%22%2C%22filename%22%3A%22355990_hires.jpg%22%2C%22caption%22%3A%22Vegan%20Chocolate%20Cheesecake%22%2C%22credit%22%3A%22Romulo%20Yanes%22%2C%22promoTitle%22%3A%22Vegan%20Chocolate%20Cheesecake%22%2C%22title%22%3A%22Vegan%20Chocolate%20Cheesecake%22%2C%22orientation%22%3A%22landscape%22%2C%22restrictCropping%22%3Afalse%7D%2C%22tag%22%3A%7B%22category%22%3A%22equipment%22%2C%22name%22%3A%22Food%20Processor%22%2C%22url%22%3A%22%22%2C%22photosBadgeAltText%22%3A%22%22%2C%22photosBadgeFileName%22%3A%22%22%2C%22photosBadgeID%22%3A%22%22%2C%22photosBadgeRelatedUri%22%3A%22%22%7D%2C%22aggregateRating%22%3A2.88%2C%22ingredients%22%3A%5B%221%201%2F4%20cups%20chocolate%20or%20regular%20graham%20cracker%20crumbs%20(from%20nine%205-by%202%201%2F2-inch%20graham%20crackers)%22%2C%223%20tablespoons%20sugar%22%2C%224%20tablespoons%20Earth%20Balance%20vegan%20buttery%20spread%2C%20melted%20and%20cooled%2C%20plus%20additional%20for%20greasing%20pan%22%2C%222%201%2F4%20cups%20sugar%2C%20divided%22%2C%221%2F3%20cup%20water%22%2C%228%20ounces%20bittersweet%20chocolate%20(no%20more%20than%2060%25%20cacao)%2C%20chopped%22%2C%222%20(1-pound%20packages%20silken%20tofu%2C%20drained%22%2C%221%2F4%20cup%20unsweetened%20cocoa%20powder%20(not%20Dutch-process)%22%2C%222%20(8-ounces)%20containers%20soy%20cream%20cheese%20at%20room%20temperature%22%2C%221%20teaspoon%20pure%20vanilla%20extract%22%2C%22Rounded%201%2F4%20teaspoon%20salt%22%2C%22Equipment%3A%20a%209-inch%20springform%20pan%22%5D%2C%22prepSteps%22%3A%5B%22Preheat%20oven%20to%20350%C2%B0F%20with%20racks%20in%20middle%20and%20lower%20third%20and%20put%20a%20baking%20sheet%20on%20lower%20rack.%20Flip%20bottom%20of%20springform%20pan%20so%20lip%20is%20facing%20down%2C%20then%20lock%20in%20place.%20Grease%20bottom%20and%20side%20of%20pan.%22%2C%22Stir%20together%20all%20crust%20ingredients%2C%20then%20press%20onto%20bottom%20and%201%20inch%20up%20side%20of%20pan.%20Bake%20until%20set%2C%2010%20to%2012%20minutes%2C%20then%20cool%20completely%2C%20about%2045%20minutes.%22%2C%22Heat%201%20cup%20sugar%20in%20a%201%201%2F2-to%202-quart%20heavy%20saucepan%20over%20medium%20heat%2C%20stirring%20with%20a%20fork%20to%20heat%20sugar%20evenly%2C%20until%20it%20starts%20to%20melt%2C%20then%20stop%20stirring%20and%20cook%2C%20swirling%20pan%20occasionally%20so%20sugar%20melts%20evenly%2C%20until%20it%20is%20dark%20amber.%20Remove%20from%20heat%20and%20carefully%20stir%20in%20water%20(mixture%20will%20bubble%20up%20and%20steam%20and%20caramel%20will%20harden)%2C%20then%20cook%20over%20medium-low%20heat%2C%20stirring%2C%20until%20caramel%20has%20dissolved.%20Remove%20from%20heat%20and%20whisk%20in%20chopped%20chocolate%20until%20smooth.%20Cool%20fudge%20sauce%20slightly.%22%2C%22Pur%C3%A9e%20tofu%20and%20cocoa%20in%20a%20food%20processor%20until%20smooth.%22%2C%22Beat%20soy%20cream%20cheese%20and%20remaining%201%201%2F4%20cups%20sugar%20with%20an%20electric%20mixer%20at%20medium-high%20speed%20until%20fluffy.%20At%20low%20speed%2C%20beat%20in%20tofu%20pur%C3%A9e%2C%20vanilla%2C%20salt%2C%20and%20fudge%20sauce%20until%20incorporated.%22%2C%22Pour%20filling%20into%20crust%20and%20bake%20on%20middle%20rack%20until%20top%20of%20cake%20is%20shiny%20but%20center%20is%20still%20slightly%20wobbly%20when%20pan%20is%20gently%20shaken%2C%20about%201%20hour.%20Turn%20oven%20off%20and%20leave%20cake%20in%20oven%201%20hour%20more.%22%2C%22Run%20a%20knife%20around%20top%20edge%20of%20cake%20to%20loosen%2C%20then%20cool%20completely%20in%20pan%20on%20rack%20(cake%20will%20continue%20to%20set%20as%20it%20cools).%20Chill%20cake%2C%20loosely%20covered%2C%20at%20least%206%20hours.%20Remove%20side%20of%20pan%20and%20transfer%20cake%20to%20a%20plate.%20Bring%20to%20room%20temperature%20before%20serving%20if%20desired.%22%5D%2C%22reviewsCount%22%3A14%2C%22willMakeAgainPct%22%3A64%7D%2C%7B%22id%22%3A%2254a4332f6529d92b2c016045%22%2C%22dek%22%3A%22A%20Meyer%20lemon%20is%20a%20cross%20between%20a%20lemon%20and%20a%20mandarin%20orange.%20If%20you%20can't%20find%20any%2C%20substitute%20regular%20lemons.%20This%20pie's%20decadent%20cream%20filling%20is%20made%20from%20protein-rich%20tofu.%22%2C%22hed%22%3A%22Meyer%20Lemon%20Cream%20Pies%22%2C%22pubDate%22%3A%222007-07-16T04%3A09%3A02.000Z%22%2C%22author%22%3A%5B%5D%2C%22type%22%3A%22recipe%22%2C%22url%22%3A%22%2Frecipes%2Ffood%2Fviews%2Fmeyer-lemon-cream-pies-239225%22%2C%22photoData%22%3A%7B%22id%22%3A%2256f30156c98a9a676e4e6bce%22%2C%22filename%22%3A%22239225_hires.jpg%22%2C%22caption%22%3A%22%22%2C%22credit%22%3A%22Photo%20by%20Yunhee%20Kim%22%2C%22promoTitle%22%3A%22%22%2C%22title%22%3A%22Meyer%20Lemon%20Cream%20Pies%22%2C%22orientation%22%3A%22landscape%22%2C%22restrictCropping%22%3Afalse%7D%2C%22tag%22%3A%7B%22category%22%3A%22ingredient%22%2C%22name%22%3A%22Citrus%22%2C%22url%22%3A%22%22%2C%22photosBadgeAltText%22%3A%22%22%2C%22photosBadgeFileName%22%3A%22%22%2C%22photosBadgeID%22%3A%22%22%2C%22photosBadgeRelatedUri%22%3A%22%22%7D%2C%22aggregateRating%22%3A2.5%2C%22ingredients%22%3A%5B%221%201%2F4%20cups%20graham-cracker%20crumbs%22%2C%222%20tablespoons%20sugar%22%2C%225%20tablespoons%20unsalted%20butter%2C%20melted%22%2C%222%20(12-ounce)%20containers%20firm%20silken%20tofu%20(such%20as%20Mori-Nu)%22%2C%22Grated%20zest%20and%20juice%20of%202%20Meyer%20lemons%22%2C%221%2F2%20cup%20confectioners'%20sugar%22%5D%2C%22prepSteps%22%3A%5B%221.%20Preheat%20oven%20to%20350%C2%B0F.%22%2C%222.%20In%20a%20medium%20bowl%2C%20mix%20together%20all%20the%20crust%20ingredients.%20Press%20the%20mixture%20into%20the%20bottom%20and%20sides%20of%20four%20tartlet%20molds%20or%204-ounce%20ramekins.%22%2C%223.%20Bake%20until%20golden%20brown%2C%208%20to%2010%20minutes.%20Remove%20and%20let%20cool%20completely.%22%2C%224.%20In%20a%20blender%2C%20combine%20all%20the%20filling%20ingredients%20until%20smooth%2C%20spoon%20the%20mixture%20into%20the%20crusts%2C%20and%20refrigerate%20for%20at%20least%201%20hour.%22%5D%2C%22reviewsCount%22%3A8%2C%22willMakeAgainPct%22%3A50%7D%2C%7B%22id%22%3A%2254a427be6529d92b2c00cd4c%22%2C%22dek%22%3A%22Wheat%20Free%5CnNo%20need%20to%20worry%20if%20your%20local%20market%20doesn't%20carry%20egg-free%20mayo.%20Just%20whip%20up%20some%20of%20your%20own.%20This%20recipe%20works%20very%20well%20as%20a%20sandwich%20spread%20or%20in%20any%20mayonnaise-based%20dressing.%20As%20long%20as%20you%20use%20wheat-free%20vinegar%2C%20this%20mayo%20is%20indeed%20wheat-free.%22%2C%22hed%22%3A%22Vegan%20Mayonnaise%22%2C%22pubDate%22%3A%222011-06-23T04%3A00%3A00.000Z%22%2C%22author%22%3A%5B%7B%22name%22%3A%22Joni%20Marie%20Newman%22%7D%5D%2C%22type%22%3A%22recipe%22%2C%22url%22%3A%22%2Frecipes%2Ffood%2Fviews%2Fvegan-mayonnaise-366490%22%2C%22photoData%22%3A%7B%22id%22%3A%2254b2afd611c5d6af478b2759%22%2C%22filename%22%3A%22366490_vegan-mayonnaise_1x1.jpg%22%2C%22caption%22%3A%22Vegan%20Mayonnaise%22%2C%22credit%22%3A%22Rockport%20Publishers%22%2C%22promoTitle%22%3A%22Vegan%20Mayonnaise%22%2C%22title%22%3A%22Vegan%20Mayonnaise%22%2C%22orientation%22%3A%22landscape%22%2C%22restrictCropping%22%3Afalse%7D%2C%22tag%22%3A%7B%22category%22%3A%22type%22%2C%22name%22%3A%22Condiment%2FSpread%22%2C%22url%22%3A%22%22%2C%22photosBadgeAltText%22%3A%22%22%2C%22photosBadgeFileName%22%3A%22%22%2C%22photosBadgeID%22%3A%22%22%2C%22photosBadgeRelatedUri%22%3A%22%22%7D%2C%22aggregateRating%22%3A1%2C%22ingredients%22%3A%5B%227%20ounces%20(195%20g)%20extra-firm%20tofu%2C%20drained%20and%20pressed%22%2C%221%2F4%20cup%20(35%20g)%20raw%20cashews%2C%20ground%20into%20a%20very%20fine%20powder%22%2C%221%20tablespoon%20(15%20ml)%20lemon%20juice%22%2C%221%20tablespoon%20(12%20g)%20raw%20sugar%20or%20(21%20g)%20agave%20nectar%22%2C%221%201%2F2%20teaspoons%20brown%20or%20Dijon%20mustard%22%2C%221%20teaspoon%20apple%20cider%20or%20rice%20wine%20vinegar%22%2C%221%2F2%20teaspoon%20sea%20salt%22%2C%226%20tablespoons%20(90%20ml)%20canola%20oil%22%5D%2C%22prepSteps%22%3A%5B%22Place%20the%20tofu%2C%20cashews%2C%20lemon%20juice%2C%20sugar%2C%20mustard%2C%20vinegar%2C%20and%20salt%20in%20a%20blender%20or%20food%20processor%20and%20process%20until%20smooth.%22%2C%22Slowly%20drizzle%20in%20the%20oil%20and%20pulse%20until%20you%20get%20the%20consistency%20that%20you%20like.%22%2C%22Store%20in%20an%20airtight%20container%20in%20the%20refrigerator%20for%20up%20to%202%20weeks.%22%5D%2C%22reviewsCount%22%3A3%2C%22willMakeAgainPct%22%3A33%7D%2C%7B%22id%22%3A%2254a422f56529d92b2c0096e8%22%2C%22dek%22%3A%22When%20we%20visited%20Kyoto%2C%20a%20few%20hours'%20ride%20from%20Tokyo%20on%20the%20famous%20Bullet%20train%2C%20we%20found%20a%20little%20restaurant%20in%20the%20heart%20of%20town%20that%20won%20us%20over%20with%20the%20names%20of%20dishes%20listed%20on%20the%20menu%3A%20Firecracker%20Tofu%2C%20Pickled%20Mixed%20Radish%20Salad%2C%20and%20the%20mysterious%20sounding%20Okonomiyaki.%20The%20chefs%20were%20clearly%20having%20fun%20at%20this%20place%2C%20and%20we%20were%20blown%20away%20by%20the%20depth%20of%20flavor%20they%20achieved%20with%20such%20simple%20preparations.%20We%20threw%20back%20some%20sake%20and%20tore%20through%20plate%20after%20plate%20of%20food.%20This%20salad%20is%20inspired%20by%20that%20meal%2C%20featuring%20quirky%20sea%20beans%20(a%20seaweed-like%20swamp%2Fbeach%20vegetable)%20and%20the%20haunting%20flavor%20of%20shiso%20(Japanese%20mint).%20You%20can%20find%20fresh%20sea%20beans%20at%20a%20gourmet%20market.%20If%20they're%20not%20available%2C%20substitute%20pencil-thin%20asparagus.%20Look%20for%20shiso%20in%20Asian%20markets%2C%20but%20substitute%20fresh%20cilantro%20if%20you%20can't%20find%20it.%22%2C%22hed%22%3A%22Sea%20Bean%20Salad%20with%20Daikon%20and%20Cucumber%22%2C%22pubDate%22%3A%222013-10-14T04%3A00%3A00.000Z%22%2C%22author%22%3A%5B%7B%22name%22%3A%22Rich%20Landau%20%22%7D%2C%7B%22name%22%3A%22%20Kate%20Jacoby%22%7D%5D%2C%22type%22%3A%22recipe%22%2C%22url%22%3A%22%2Frecipes%2Ffood%2Fviews%2Fsea-bean-salad-with-daikon-and-cucumber-51199610%22%2C%22photoData%22%3A%7B%22id%22%3A%2254ad4bf76529d92b2c043930%22%2C%22filename%22%3A%2251199610_sea-bean-salad-daikon_1x1.jpg%22%2C%22caption%22%3A%22Sea%20Bean%20Salad%20with%20Daikon%20and%20Cucumber%22%2C%22credit%22%3A%22Michael%20Spain-Smith%22%2C%22promoTitle%22%3A%22Sea%20Bean%20Salad%20with%20Daikon%20and%20Cucumber%22%2C%22title%22%3A%22Sea%20Bean%20Salad%20with%20Daikon%20and%20Cucumber%22%2C%22orientation%22%3A%22landscape%22%2C%22restrictCropping%22%3Afalse%7D%2C%22tag%22%3A%7B%22category%22%3A%22cuisine%22%2C%22name%22%3A%22Asian%22%2C%22url%22%3A%22%22%2C%22photosBadgeAltText%22%3A%22%22%2C%22photosBadgeFileName%22%3A%22%22%2C%22photosBadgeID%22%3A%22%22%2C%22photosBadgeRelatedUri%22%3A%22%22%7D%2C%22aggregateRating%22%3A0%2C%22ingredients%22%3A%5B%222%20large%20cucumbers%2C%20peeled%20(about%201%201%2F2%20pounds)%22%2C%221%20large%20daikon%20radish%2C%20peeled%22%2C%224%20scallions%22%2C%221%2F2%20pound%20sea%20beans%2C%20ends%20trimmed%22%2C%223%20tablespoons%20rice%20wine%20vinegar%22%2C%222%20tablespoons%20canola%20oil%22%2C%222%20tablespoons%20toasted%20sesame%20oil%22%2C%222%20tablespoons%20tamari%22%2C%222%20teaspoons%20black%20sesame%20seeds%22%2C%222%20teaspoons%20white%20sesame%20seeds%22%2C%221%20teaspoon%20sugar%22%2C%222%20fresh%20shiso%20leaves%2C%20finely%20chopped%22%5D%2C%22prepSteps%22%3A%5B%221.%20Cut%20the%20flesh%20of%20the%20cucumber%20into%20very%20thin%20noodle-like%20strips.%20Avoid%20the%20seeds%20by%20not%20cutting%20the%20very%20center%20of%20the%20cucumber.%20A%20mandoline%20works%20best%2C%20or%20use%20a%20knife%20and%20slice%20really%20thin.%22%2C%222.%20Cut%20the%20daikon%20into%20the%20same%20thin%20noodle-like%20strips.%20Here%20there%20are%20no%20seeds%2C%20so%20you%20can%20cut%20through%20the%20entire%20vegetable.%22%2C%223.%20Trim%20the%20roots%20of%20the%20scallions%2C%20then%20slice%20them%20into%20fine%20rings.%20Start%20at%20the%20white%20bottom%20and%20use%20about%20three-quarters%20of%20each%20scallion%2C%20until%20the%20leaves%20become%20much%20darker%20green%20and%20thicker.%22%2C%224.%20Combine%20the%20remaining%20ingredients%20in%20a%20medium%20bowl%20to%20ensure%20they%20are%20well%20mixed%2C%20then%20add%20all%20of%20the%20vegetables.%20Toss%20to%20combine%2C%20then%20cover%20and%20place%20in%20the%20refrigerator%20to%20marinate%20for%20at%20least%2030%20minutes%2C%20but%20no%20longer%20than%2024%20hours%20or%20they%20will%20get%20mushy.%20Serve%20chilled.%22%5D%2C%22reviewsCount%22%3A0%2C%22willMakeAgainPct%22%3A0%7D%5D%7D%7D%7D%2C%22options%22%3A%7B%22optimizePromiseCallback%22%3Afalse%7D%2C%22plugins%22%3A%7B%7D%7D%2C%22plugins%22%3A%7B%7D%7D\";\n",
      "  </script>\n",
      "  <script async=\"\" src=\"/static/js/dist/search__3.12.1.js\">\n",
      "  </script>\n",
      "  <script>\n",
      "   // Drop meta data about ads on page.\n",
      "    _app.adInit = {\"channel\":\"search\",\"contentType\":\"search\",\"env\":\"production\",\"slug\":\"tofu%20chill\",\"subChannel\":\"\",\"targeting\":[\"search\",\"tofu%252520chill\",\"food\",\"content\"]}\n",
      "  </script>\n",
      "  <!-- START Parse.ly Include: Async -->\n",
      "  <div id=\"parsely-root\" style=\"display: none\">\n",
      "   <a data-parsely-site=\"epicurious.com\" href=\"https://parsely.com\" id=\"parsely-cfg\">\n",
      "    Powered by the Parse.ly Publisher Platform (P3).\n",
      "   </a>\n",
      "  </div>\n",
      "  <script type=\"text/javascript\">\n",
      "   (function(w, d, s) {\n",
      "      function go() {\n",
      "          var js,\n",
      "              fjs = d.getElementsByTagName(s)[0],\n",
      "              load = function(url, id, opts) {\n",
      "                  if (d.getElementById(id)) {return;}\n",
      "                  js = d.createElement(s);\n",
      "                  js.src = url;\n",
      "                  js.id = id;\n",
      "                  if (opts && opts.divId) {\n",
      "                      document.getElementById(opts.divId).appendChild(js);\n",
      "                  } else {\n",
      "                      fjs.parentNode.insertBefore(js, fjs);\n",
      "                  }\n",
      "              };\n",
      "          load('https://d1z2jf7jlzjs58.cloudfront.net/p.js', 'parsely', { divId : 'parsely-root'});\n",
      "      }\n",
      "      go();\n",
      "  }(window, document, 'script'));\n",
      "  </script>\n",
      "  <!-- END Parse.ly Include: Async -->\n",
      "  <script type=\"text/javascript\">\n",
      "   if (document.querySelectorAll('.embed-instagram').length > 0) {\n",
      "      EPI.onCompleteActions.push(function () {\n",
      "        var script = document.createElement('script');\n",
      "        script.async = true;\n",
      "        script.defer = true;\n",
      "        script.src = \"https://platform.instagram.com/en_US/embeds.js\";\n",
      "        document.getElementsByTagName('head')[0].appendChild(script);\n",
      "      });\n",
      "    }\n",
      "\n",
      "    if (document.querySelectorAll('.embed-twitter').length > 0) {\n",
      "      EPI.onCompleteActions.push(function () {\n",
      "        var script = document.createElement('script');\n",
      "        script.async = true;\n",
      "        script.defer = true;\n",
      "        script.src = \"https://platform.twitter.com/widgets.js\";\n",
      "        document.getElementsByTagName('head')[0].appendChild(script);\n",
      "      });\n",
      "    }\n",
      "\n",
      "    if (document.querySelectorAll('body.recipe-detail, body.article, body.gallery-page').length) {\n",
      "      EPI.onCompleteActions.push(function () {\n",
      "        var script = document.createElement('script');\n",
      "        script.async = true;\n",
      "        script.defer = true;\n",
      "        script.src = \"https://wms.assoc-amazon.com/20070822/US/js/auto-tagger.js?tag=epicuriousfig-20&locale=US&overwrite=Y\";\n",
      "        document.getElementsByTagName('head')[0].appendChild(script);\n",
      "      });\n",
      "    }\n",
      "\n",
      "    if (document.querySelectorAll('.fb-video').length > 0) {\n",
      "      window.fbAsyncInit = function () {\n",
      "        FB.init({\n",
      "          appId      : '1636080783276430',\n",
      "          xfbml      : true,\n",
      "          version    : 'v2.10'\n",
      "        });\n",
      "      };\n",
      "\n",
      "      EPI.onCompleteActions.push(function () {\n",
      "        (function (d, s, id) {\n",
      "        var js, fjs = d.getElementsByTagName(s)[0];\n",
      "        if (d.getElementById(id)) return;\n",
      "        js = d.createElement(s); js.id = id;\n",
      "        js.src = \"https://connect.facebook.net/en_US/sdk.js\";\n",
      "        fjs.parentNode.insertBefore(js, fjs);\n",
      "        }(document, 'script', 'facebook-jssdk'));\n",
      "      });\n",
      "    }\n",
      "  </script>\n",
      "  <script>\n",
      "   (function (root) {\n",
      "/* -- Data -- */\n",
      "root.__INITIAL_STATE__ || (root.__INITIAL_STATE__ = {});\n",
      "root.__INITIAL_STATE__.config = {\"cookieDomain\":\".epicurious.com\",\"endpoints\":{\"contextual\":\"\\u002Fapi\\u002Fdataintelligence\\u002Fv1\\u002Fcontent\\u002Frecommended\",\"rotd\":\"\\u002Fapi\\u002Fcontent\\u002Fv1\\u002Frotd\\u002Fcount\\u002F1\"},\"env\":\"PROD\",\"facebook\":{\"appId\":\"1636080783276430\"},\"https\":\"true\",\"media\":{\"bp\":{\"xs\":0,\"s\":600,\"m\":768,\"l\":1024,\"xl\":1360,\"w\":1710}},\"newsletters\":{\"current\":[{\"description\":\"Become a better cook instantly with this weekly report of our ten most helpful tips, tricks, and kitchen secrets. Don't miss it!\",\"id\":\"5\",\"name\":\"The Top Ten\"},{\"description\":\"Love recipes, but hate searching? We do the work for you. You'll get our favorite seasonal recipe plus collections of our exclusive editors' picks.\",\"id\":\"5117\",\"name\":\"Cook This Now\"},{\"description\":\"Get a daily dose of the hottest recipes from Epicurious, Bon Appétit, and other great sites.\",\"id\":\"195169\",\"name\":\"Trending Recipes\"},{\"id\":\"248781\",\"name\":\"Announcements\"},{\"id\":\"248789\",\"name\":\"Cook 90\"},{\"id\":\"248818\",\"name\":\"Diabetes Friendly\"},{\"id\":\"248842\",\"name\":\"Small Plates\"}]},\"server\":\"https:\\u002F\\u002Fwww.epicurious.com\",\"services\":{\"endpoints\":{\"articles\":{\"latest\":\"\\u002Fapi\\u002Fsearch\\u002Fv1\\u002Fquery?size=20&content=article&sort=newest&q=\"},\"branded\":{\"article\":\"\\u002Fapi\\u002Fbranded\\u002Fv1\\u002Farticle\\u002F:brandCode\\u002F:slug\"},\"content\":{\"channel\":\"\\u002Fapi\\u002Fcontent\\u002Fv1\\u002Fchannel\\u002F\",\"component\":\"\\u002Fapi\\u002Fcontent\\u002Fv1\\u002Fcomponent\",\"contextual\":\"\\u002Fapi\\u002Fdataintelligence\\u002Fv1\\u002Fcontent\\u002Frecommended\",\"featuredIn\":\"\\u002Fapi\\u002Fcontent\\u002Fv1\\u002Ffeaturedin\\u002F\",\"homepage\":\"\\u002Fapi\\u002Fcontent\\u002Fv1\\u002Fhomepage\",\"latestRecipes\":\"\\u002Fapi\\u002Fcontent\\u002Fv1\\u002Fcomponent\\u002Flatestrecipes\",\"memberLookup\":\"\\u002Fapi\\u002Fusers\\u002Fv2\\u002Fuser\\u002F\",\"navItems\":\"\\u002Fapi\\u002Fcontent\\u002Fv1\\u002Fcomponent\\u002Fnavitems\",\"nutritionalInfo\":\"\\u002Fapi\\u002Fnutritiondata\\u002Fv2\\u002F\",\"reviews\":\"\\u002Fapi\\u002Frecipes\\u002Fv2\\u002F\",\"reviewsFeed\":\"\\u002Fapi\\u002Frecipes\\u002Fv3\\u002F\",\"reviewsSuffix\":\"\\u002Freviews\",\"reviewsFeedSuffix\":\"\\u002Freviews\\u002Ffeed\",\"rotd\":\"\\u002Fapi\\u002Fcontent\\u002Fv1\\u002Frotd\\u002Fcount\\u002F1\",\"search\":\"\\u002Fapi\\u002Fcontent\\u002Fv1\\u002Fsearch\",\"videoSearchByKeywords\":\"\\u002Fapi\\u002Fvideo\\u002Fv1\\u002Fkeywords\\u002F\"},\"contributors\":{\"details\":\"\\u002Fapi\\u002Fcontributors\\u002Fv1\\u002F:contributor\\u002Fbundle\",\"feed\":\"\\u002Fapi\\u002Fcontributors\\u002Fv1\\u002F:contributor\\u002Ffeed\"},\"cookbooks\":{\"details\":\"\\u002Fapi\\u002Fcookbooks\\u002Fv1\\u002F:slug\",\"index\":\"\\u002Fapi\\u002Fcookbooks\\u002Fv1\"},\"menus\":{\"details\":\"\\u002Fapi\\u002Fusers\\u002Fv1\\u002F:userId\\u002Fmenus\\u002F:menuId\",\"index\":\"\\u002Fapi\\u002Fusers\\u002Fv1\\u002F:userId\\u002Fmenus\"},\"photos\":{\"instagramPosts\":\"\\u002Fapi\\u002Finstagram\\u002Fv1\",\"menuCover\":\"\\u002Fapi\\u002Fphotos\\u002Fv1\\u002Fmenu-cover\",\"searchCard\":\"\\u002Fapi\\u002Fphotos\\u002Fv1\\u002Fsearch-card\",\"searchUtility\":\"\\u002Fapi\\u002Fphotos\\u002Fv1\\u002Fsearch-utility\"},\"recipeBox\":{\"search\":\"\\u002Fapi\\u002Frecipe-box\\u002Fv1\\u002F:userId\\u002Fsearch\\u002F:term\"},\"recipes\":{\"byKeywords\":\"\\u002Fapi\\u002Frecipes\\u002Fv2\\u002Fkeywords\\u002F\",\"byKeywordsForMenus\":\"\\u002Fapi\\u002Fmenus\\u002Fv1\\u002Fkeywords\\u002F\",\"latest\":\"\\u002Fapi\\u002Frecipes\\u002Fv2\\u002Flatest\"},\"search\":{\"details\":\"\\u002Fapi\\u002Frecipes\\u002Fv3\\u002Fdetail\",\"facets\":\"\\u002Fapi\\u002Fsearch\\u002Fv1\\u002Ffacets\",\"query\":\"\\u002Fapi\\u002Fsearch\\u002Fv1\\u002Fquery\",\"suggest\":\"\\u002Fapi\\u002Fsearch\\u002Fv1\\u002Fsuggest\"},\"users\":{\"authenticate\":\"\\u002Fapi\\u002Fusers\\u002Fv2\\u002Fauthenticate\",\"info\":\"\\u002Fapi\\u002Fusers\\u002Fv2\\u002Fuser\\u002F:uuid\",\"newsletterSubscriptions\":\"\\u002Fapi\\u002Fnewsletters\\u002Fv1\\u002Fsubscription\\u002F:email\",\"recipeBoxSearch\":\"\\u002Fapi\\u002Fusers\\u002Fv1\\u002F:userId\\u002Frecipe-box\\u002Fsearch\\u002F:query\",\"recipes\":\"\\u002Fapi\\u002Fusers\\u002Fv1\\u002F:userId\\u002Frecipes\",\"reviews\":\"\\u002Fapi\\u002Fusers\\u002Fv1\\u002F:userId\\u002Freviews\",\"updateEmail\":\"\\u002Fapi\\u002Fusers\\u002Fv2\\u002Fuser\\u002Femail\",\"updatePassword\":\"\\u002Fapi\\u002Fusers\\u002Fv2\\u002Fuser\\u002Fpassword\",\"updateUsername\":\"\\u002Fapi\\u002Fusers\\u002Fv2\\u002Fuser\\u002Fdisplayname\",\"updateSettings\":\"\\u002Fapi\\u002Fusers\\u002Fv2\\u002Fuser\"}}},\"servicesHost\":\"https:\\u002F\\u002Fservices.epicurious.com\",\"simpleReach\":{\"pid\":\"570d6b7d736b79bf1d000d27\"},\"user\":{\"cookies\":{\"keys\":{\"id\":\"amg_user_partner\",\"username\":\"amg_user_info\"},\"names\":[\"amg_user_ext\",\"amg_user_info\",\"amg_user_partner\",\"amg_user_update\",\"cn_uid\"]},\"email\":{\"regExp\":/^(([^<>()[\\]\\.,;:\\s@\\\"]+(\\.[^<>()[\\]\\.,;:\\s@\\\"]+)*)|(\\\".+\\\"))@(([^<>()[\\]\\.,;:\\s@\\\"]+\\.)+[^<>()[\\]\\.,;:\\s@\\\"]{2,})$/i},\"password\":{\"regExp\":/^[a-zA-Z0-9!\"\\#$%&'()*+,\\-.\\/:;<=>?@\\[\\\\\\]^_`{|}~][a-zA-Z0-9 !\"\\#$%&'()*+,\\-.\\/:;<=>?@\\[\\\\\\]^_`{|}~]{4,253}[a-zA-Z0-9!\"\\#$%&'()*+,\\-.\\/:;<=>?@\\[\\\\\\]^_`{|}~]$/,\"messages\":{\"requirements\":\"A password must be at least 6 characters long. It cannot begin or end with a space.\"}},\"serviceKey\":\"NtibqP3y1qSJM\\u002FGsy3blJgNWt\\u002Fo=\",\"serviceHost\":\"https:\\u002F\\u002Fuser-service.condenastdigital.com\"},\"userServiceHost\":\"https:\\u002F\\u002Fuser-service.condenastdigital.com\",\"userServiceKey\":\"NtibqP3y1qSJM\\u002FGsy3blJgNWt\\u002Fo=\",\"vulcan\":{\"host\":\"https:\\u002F\\u002Fassets.epicurious.com\",\"path\":\"\\u002Fphotos\\u002F\"}};\n",
      "root.__INITIAL_STATE__.siteHeader = {\"config\":{\"cookieDomain\":\".epicurious.com\",\"endpoints\":{\"contextual\":\"\\u002Fapi\\u002Fdataintelligence\\u002Fv1\\u002Fcontent\\u002Frecommended\",\"rotd\":\"\\u002Fapi\\u002Fcontent\\u002Fv1\\u002Frotd\\u002Fcount\\u002F1\"},\"env\":\"PROD\",\"facebook\":{\"appId\":\"1636080783276430\"},\"https\":\"true\",\"media\":{\"bp\":{\"xs\":0,\"s\":600,\"m\":768,\"l\":1024,\"xl\":1360,\"w\":1710}},\"newsletters\":{\"current\":[{\"description\":\"Become a better cook instantly with this weekly report of our ten most helpful tips, tricks, and kitchen secrets. Don't miss it!\",\"id\":\"5\",\"name\":\"The Top Ten\"},{\"description\":\"Love recipes, but hate searching? We do the work for you. You'll get our favorite seasonal recipe plus collections of our exclusive editors' picks.\",\"id\":\"5117\",\"name\":\"Cook This Now\"},{\"description\":\"Get a daily dose of the hottest recipes from Epicurious, Bon Appétit, and other great sites.\",\"id\":\"195169\",\"name\":\"Trending Recipes\"},{\"id\":\"248781\",\"name\":\"Announcements\"},{\"id\":\"248789\",\"name\":\"Cook 90\"},{\"id\":\"248818\",\"name\":\"Diabetes Friendly\"},{\"id\":\"248842\",\"name\":\"Small Plates\"}]},\"server\":\"https:\\u002F\\u002Fwww.epicurious.com\",\"services\":{\"endpoints\":{\"articles\":{\"latest\":\"\\u002Fapi\\u002Fsearch\\u002Fv1\\u002Fquery?size=20&content=article&sort=newest&q=\"},\"branded\":{\"article\":\"\\u002Fapi\\u002Fbranded\\u002Fv1\\u002Farticle\\u002F:brandCode\\u002F:slug\"},\"content\":{\"channel\":\"\\u002Fapi\\u002Fcontent\\u002Fv1\\u002Fchannel\\u002F\",\"component\":\"\\u002Fapi\\u002Fcontent\\u002Fv1\\u002Fcomponent\",\"contextual\":\"\\u002Fapi\\u002Fdataintelligence\\u002Fv1\\u002Fcontent\\u002Frecommended\",\"featuredIn\":\"\\u002Fapi\\u002Fcontent\\u002Fv1\\u002Ffeaturedin\\u002F\",\"homepage\":\"\\u002Fapi\\u002Fcontent\\u002Fv1\\u002Fhomepage\",\"latestRecipes\":\"\\u002Fapi\\u002Fcontent\\u002Fv1\\u002Fcomponent\\u002Flatestrecipes\",\"memberLookup\":\"\\u002Fapi\\u002Fusers\\u002Fv2\\u002Fuser\\u002F\",\"navItems\":\"\\u002Fapi\\u002Fcontent\\u002Fv1\\u002Fcomponent\\u002Fnavitems\",\"nutritionalInfo\":\"\\u002Fapi\\u002Fnutritiondata\\u002Fv2\\u002F\",\"reviews\":\"\\u002Fapi\\u002Frecipes\\u002Fv2\\u002F\",\"reviewsFeed\":\"\\u002Fapi\\u002Frecipes\\u002Fv3\\u002F\",\"reviewsSuffix\":\"\\u002Freviews\",\"reviewsFeedSuffix\":\"\\u002Freviews\\u002Ffeed\",\"rotd\":\"\\u002Fapi\\u002Fcontent\\u002Fv1\\u002Frotd\\u002Fcount\\u002F1\",\"search\":\"\\u002Fapi\\u002Fcontent\\u002Fv1\\u002Fsearch\",\"videoSearchByKeywords\":\"\\u002Fapi\\u002Fvideo\\u002Fv1\\u002Fkeywords\\u002F\"},\"contributors\":{\"details\":\"\\u002Fapi\\u002Fcontributors\\u002Fv1\\u002F:contributor\\u002Fbundle\",\"feed\":\"\\u002Fapi\\u002Fcontributors\\u002Fv1\\u002F:contributor\\u002Ffeed\"},\"cookbooks\":{\"details\":\"\\u002Fapi\\u002Fcookbooks\\u002Fv1\\u002F:slug\",\"index\":\"\\u002Fapi\\u002Fcookbooks\\u002Fv1\"},\"menus\":{\"details\":\"\\u002Fapi\\u002Fusers\\u002Fv1\\u002F:userId\\u002Fmenus\\u002F:menuId\",\"index\":\"\\u002Fapi\\u002Fusers\\u002Fv1\\u002F:userId\\u002Fmenus\"},\"photos\":{\"instagramPosts\":\"\\u002Fapi\\u002Finstagram\\u002Fv1\",\"menuCover\":\"\\u002Fapi\\u002Fphotos\\u002Fv1\\u002Fmenu-cover\",\"searchCard\":\"\\u002Fapi\\u002Fphotos\\u002Fv1\\u002Fsearch-card\",\"searchUtility\":\"\\u002Fapi\\u002Fphotos\\u002Fv1\\u002Fsearch-utility\"},\"recipeBox\":{\"search\":\"\\u002Fapi\\u002Frecipe-box\\u002Fv1\\u002F:userId\\u002Fsearch\\u002F:term\"},\"recipes\":{\"byKeywords\":\"\\u002Fapi\\u002Frecipes\\u002Fv2\\u002Fkeywords\\u002F\",\"byKeywordsForMenus\":\"\\u002Fapi\\u002Fmenus\\u002Fv1\\u002Fkeywords\\u002F\",\"latest\":\"\\u002Fapi\\u002Frecipes\\u002Fv2\\u002Flatest\"},\"search\":{\"details\":\"\\u002Fapi\\u002Frecipes\\u002Fv3\\u002Fdetail\",\"facets\":\"\\u002Fapi\\u002Fsearch\\u002Fv1\\u002Ffacets\",\"query\":\"\\u002Fapi\\u002Fsearch\\u002Fv1\\u002Fquery\",\"suggest\":\"\\u002Fapi\\u002Fsearch\\u002Fv1\\u002Fsuggest\"},\"users\":{\"authenticate\":\"\\u002Fapi\\u002Fusers\\u002Fv2\\u002Fauthenticate\",\"info\":\"\\u002Fapi\\u002Fusers\\u002Fv2\\u002Fuser\\u002F:uuid\",\"newsletterSubscriptions\":\"\\u002Fapi\\u002Fnewsletters\\u002Fv1\\u002Fsubscription\\u002F:email\",\"recipeBoxSearch\":\"\\u002Fapi\\u002Fusers\\u002Fv1\\u002F:userId\\u002Frecipe-box\\u002Fsearch\\u002F:query\",\"recipes\":\"\\u002Fapi\\u002Fusers\\u002Fv1\\u002F:userId\\u002Frecipes\",\"reviews\":\"\\u002Fapi\\u002Fusers\\u002Fv1\\u002F:userId\\u002Freviews\",\"updateEmail\":\"\\u002Fapi\\u002Fusers\\u002Fv2\\u002Fuser\\u002Femail\",\"updatePassword\":\"\\u002Fapi\\u002Fusers\\u002Fv2\\u002Fuser\\u002Fpassword\",\"updateUsername\":\"\\u002Fapi\\u002Fusers\\u002Fv2\\u002Fuser\\u002Fdisplayname\",\"updateSettings\":\"\\u002Fapi\\u002Fusers\\u002Fv2\\u002Fuser\"}}},\"servicesHost\":\"https:\\u002F\\u002Fservices.epicurious.com\",\"simpleReach\":{\"pid\":\"570d6b7d736b79bf1d000d27\"},\"user\":{\"cookies\":{\"keys\":{\"id\":\"amg_user_partner\",\"username\":\"amg_user_info\"},\"names\":[\"amg_user_ext\",\"amg_user_info\",\"amg_user_partner\",\"amg_user_update\",\"cn_uid\"]},\"email\":{\"regExp\":/^(([^<>()[\\]\\.,;:\\s@\\\"]+(\\.[^<>()[\\]\\.,;:\\s@\\\"]+)*)|(\\\".+\\\"))@(([^<>()[\\]\\.,;:\\s@\\\"]+\\.)+[^<>()[\\]\\.,;:\\s@\\\"]{2,})$/i},\"password\":{\"regExp\":/^[a-zA-Z0-9!\"\\#$%&'()*+,\\-.\\/:;<=>?@\\[\\\\\\]^_`{|}~][a-zA-Z0-9 !\"\\#$%&'()*+,\\-.\\/:;<=>?@\\[\\\\\\]^_`{|}~]{4,253}[a-zA-Z0-9!\"\\#$%&'()*+,\\-.\\/:;<=>?@\\[\\\\\\]^_`{|}~]$/,\"messages\":{\"requirements\":\"A password must be at least 6 characters long. It cannot begin or end with a space.\"}},\"serviceKey\":\"NtibqP3y1qSJM\\u002FGsy3blJgNWt\\u002Fo=\",\"serviceHost\":\"https:\\u002F\\u002Fuser-service.condenastdigital.com\"},\"userServiceHost\":\"https:\\u002F\\u002Fuser-service.condenastdigital.com\",\"userServiceKey\":\"NtibqP3y1qSJM\\u002FGsy3blJgNWt\\u002Fo=\",\"vulcan\":{\"host\":\"https:\\u002F\\u002Fassets.epicurious.com\",\"path\":\"\\u002Fphotos\\u002F\"}}};\n",
      "root.__INITIAL_STATE__.contentType = \"search\";\n",
      "}(this));\n",
      "\n",
      "    window.copilot = window.copilot || window.__INITIAL_STATE__.copilotData;\n",
      "  </script>\n",
      "  <link as=\"style\" href=\"/static/css/patch.css\" onload=\"this.rel='stylesheet'\" rel=\"preload\"/>\n",
      "  <noscript>\n",
      "   <link href=\"/static/css/patch.css\" rel=\"stylesheet\"/>\n",
      "  </noscript>\n",
      "  <span data-react-checksum=\"-664854917\" data-reactid=\"1\" data-reactroot=\"\" id=\"boomerang-beacon\">\n",
      "   <!-- react-empty: 2 -->\n",
      "  </span>\n",
      " </body>\n",
      "</html>\n",
      "\n"
     ]
    }
   ],
   "source": [
    "url = \"https://www.epicurious.com/search/tofu%20chill\"\n",
    "res = requests.get(url)\n",
    "if (res.status_code == 200):\n",
    "    soup = BeautifulSoup(res.content,'lxml')\n",
    "    print (soup.prettify())\n",
    "else:\n",
    "    print('Failure')"
   ]
  },
  {
   "cell_type": "markdown",
   "metadata": {
    "heading_collapsed": true
   },
   "source": [
    "# Plydata (dplyr for Python)"
   ]
  },
  {
   "cell_type": "markdown",
   "metadata": {
    "heading_collapsed": true,
    "hidden": true
   },
   "source": [
    "## Sample Data"
   ]
  },
  {
   "cell_type": "code",
   "execution_count": 1664,
   "metadata": {
    "hidden": true
   },
   "outputs": [
    {
     "data": {
      "text/plain": [
       "  comp dept grp     value1     value2\n",
       "0   C2   D1  G1  48.121380  21.689478\n",
       "1   C3   D3  G1  62.875720  18.609808\n",
       "2   C3   D3  G2  50.400016  21.396460\n",
       "3   C3   D5  G1  54.020253  20.734398\n",
       "4   C2   D5  G1  49.830573  17.899649"
      ]
     },
     "execution_count": 1664,
     "metadata": {},
     "output_type": "execute_result"
    }
   ],
   "source": [
    "n = 200\n",
    "comp = ['C' + i for i in np.random.randint( 1,4, size  = n).astype(str)] # 3x Company\n",
    "dept = ['D' + i for i in np.random.randint( 1,6, size  = n).astype(str)] # 5x Department\n",
    "grp =  ['G' + i for i in np.random.randint( 1,3, size  = n).astype(str)] # 2x Groups\n",
    "value1 = np.random.normal( loc=50 , scale=5 , size = n)\n",
    "value2 = np.random.normal( loc=20 , scale=3 , size = n)\n",
    "#value3 = np.random.normal( loc=5 , scale=30 , size = n)\n",
    "\n",
    "mydf = pd.DataFrame({\n",
    "    'comp':comp, \n",
    "    'dept':dept, \n",
    "    'grp': grp,\n",
    "    'value1':value1, \n",
    "    'value2':value2\n",
    "    #'value3':value3 \n",
    "})\n",
    "mydf.head()"
   ]
  },
  {
   "cell_type": "markdown",
   "metadata": {
    "hidden": true
   },
   "source": [
    "## Column Manipulation"
   ]
  },
  {
   "cell_type": "markdown",
   "metadata": {
    "hidden": true
   },
   "source": [
    "### Copy Column"
   ]
  },
  {
   "cell_type": "code",
   "execution_count": 1665,
   "metadata": {
    "hidden": true
   },
   "outputs": [
    {
     "data": {
      "text/plain": [
       "    comp dept grp     value1     value2     newcol\n",
       "0     C2   D1  G1  48.121380  21.689478  48.121380\n",
       "1     C3   D3  G1  62.875720  18.609808  62.875720\n",
       "2     C3   D3  G2  50.400016  21.396460  50.400016\n",
       "3     C3   D5  G1  54.020253  20.734398  54.020253\n",
       "4     C2   D5  G1  49.830573  17.899649  49.830573\n",
       "..   ...  ...  ..        ...        ...        ...\n",
       "195   C2   D2  G1  49.741731  21.296630  49.741731\n",
       "196   C2   D4  G2  43.722306  14.807422  43.722306\n",
       "197   C1   D1  G1  48.110746  19.180297  48.110746\n",
       "198   C1   D5  G1  54.441408  17.041714  54.441408\n",
       "199   C3   D4  G2  52.059855  20.029649  52.059855\n",
       "\n",
       "[200 rows x 6 columns]"
      ]
     },
     "execution_count": 1665,
     "metadata": {},
     "output_type": "execute_result"
    }
   ],
   "source": [
    "mydf >> define(newcol = 'value1')                 # simple method for one column"
   ]
  },
  {
   "cell_type": "code",
   "execution_count": 1666,
   "metadata": {
    "hidden": true,
    "scrolled": true
   },
   "outputs": [
    {
     "data": {
      "text/plain": [
       "    comp dept grp     value1     value2    newcol1    newcol2\n",
       "0     C2   D1  G1  48.121380  21.689478  48.121380  21.689478\n",
       "1     C3   D3  G1  62.875720  18.609808  62.875720  18.609808\n",
       "2     C3   D3  G2  50.400016  21.396460  50.400016  21.396460\n",
       "3     C3   D5  G1  54.020253  20.734398  54.020253  20.734398\n",
       "4     C2   D5  G1  49.830573  17.899649  49.830573  17.899649\n",
       "..   ...  ...  ..        ...        ...        ...        ...\n",
       "195   C2   D2  G1  49.741731  21.296630  49.741731  21.296630\n",
       "196   C2   D4  G2  43.722306  14.807422  43.722306  14.807422\n",
       "197   C1   D1  G1  48.110746  19.180297  48.110746  19.180297\n",
       "198   C1   D5  G1  54.441408  17.041714  54.441408  17.041714\n",
       "199   C3   D4  G2  52.059855  20.029649  52.059855  20.029649\n",
       "\n",
       "[200 rows x 7 columns]"
      ]
     },
     "execution_count": 1666,
     "metadata": {},
     "output_type": "execute_result"
    }
   ],
   "source": [
    "mydf >> define (('newcol1', 'value1'), newcol2='value2')  # method for muiltiple new columns"
   ]
  },
  {
   "cell_type": "markdown",
   "metadata": {
    "hidden": true
   },
   "source": [
    "### New Column from existing Column"
   ]
  },
  {
   "cell_type": "markdown",
   "metadata": {
    "hidden": true
   },
   "source": [
    "**Without specify the new column name**, it will be derived from expression"
   ]
  },
  {
   "cell_type": "code",
   "execution_count": 1667,
   "metadata": {
    "hidden": true
   },
   "outputs": [
    {
     "data": {
      "text/plain": [
       "    comp dept grp     value1     value2    value1*2\n",
       "0     C2   D1  G1  48.121380  21.689478   96.242759\n",
       "1     C3   D3  G1  62.875720  18.609808  125.751440\n",
       "2     C3   D3  G2  50.400016  21.396460  100.800032\n",
       "3     C3   D5  G1  54.020253  20.734398  108.040506\n",
       "4     C2   D5  G1  49.830573  17.899649   99.661146\n",
       "..   ...  ...  ..        ...        ...         ...\n",
       "195   C2   D2  G1  49.741731  21.296630   99.483463\n",
       "196   C2   D4  G2  43.722306  14.807422   87.444612\n",
       "197   C1   D1  G1  48.110746  19.180297   96.221492\n",
       "198   C1   D5  G1  54.441408  17.041714  108.882817\n",
       "199   C3   D4  G2  52.059855  20.029649  104.119709\n",
       "\n",
       "[200 rows x 6 columns]"
      ]
     },
     "execution_count": 1667,
     "metadata": {},
     "output_type": "execute_result"
    }
   ],
   "source": [
    "mydf >> define ('value1*2')"
   ]
  },
  {
   "cell_type": "markdown",
   "metadata": {
    "hidden": true
   },
   "source": [
    "**Specify the new column name**"
   ]
  },
  {
   "cell_type": "code",
   "execution_count": 1668,
   "metadata": {
    "hidden": true
   },
   "outputs": [
    {
     "data": {
      "text/plain": [
       "    comp dept grp     value1     value2      value3\n",
       "0     C2   D1  G1  48.121380  21.689478   96.242759\n",
       "1     C3   D3  G1  62.875720  18.609808  125.751440\n",
       "2     C3   D3  G2  50.400016  21.396460  100.800032\n",
       "3     C3   D5  G1  54.020253  20.734398  108.040506\n",
       "4     C2   D5  G1  49.830573  17.899649   99.661146\n",
       "..   ...  ...  ..        ...        ...         ...\n",
       "195   C2   D2  G1  49.741731  21.296630   99.483463\n",
       "196   C2   D4  G2  43.722306  14.807422   87.444612\n",
       "197   C1   D1  G1  48.110746  19.180297   96.221492\n",
       "198   C1   D5  G1  54.441408  17.041714  108.882817\n",
       "199   C3   D4  G2  52.059855  20.029649  104.119709\n",
       "\n",
       "[200 rows x 6 columns]"
      ]
     },
     "execution_count": 1668,
     "metadata": {},
     "output_type": "execute_result"
    }
   ],
   "source": [
    "mydf >> define(value3 = 'value1*2')"
   ]
  },
  {
   "cell_type": "markdown",
   "metadata": {
    "hidden": true
   },
   "source": [
    "Define **multiple** new columns in one go. Observe there are three ways to specify the new columns"
   ]
  },
  {
   "cell_type": "code",
   "execution_count": 1669,
   "metadata": {
    "hidden": true
   },
   "outputs": [
    {
     "data": {
      "text/plain": [
       "    comp dept grp     value1     value2    value1*2    newcol2    newcol3\n",
       "0     C2   D1  G1  48.121380  21.689478   96.242759  43.378957  65.068435\n",
       "1     C3   D3  G1  62.875720  18.609808  125.751440  37.219616  55.829424\n",
       "2     C3   D3  G2  50.400016  21.396460  100.800032  42.792921  64.189381\n",
       "3     C3   D5  G1  54.020253  20.734398  108.040506  41.468795  62.203193\n",
       "4     C2   D5  G1  49.830573  17.899649   99.661146  35.799298  53.698946\n",
       "..   ...  ...  ..        ...        ...         ...        ...        ...\n",
       "195   C2   D2  G1  49.741731  21.296630   99.483463  42.593259  63.889889\n",
       "196   C2   D4  G2  43.722306  14.807422   87.444612  29.614845  44.422267\n",
       "197   C1   D1  G1  48.110746  19.180297   96.221492  38.360595  57.540892\n",
       "198   C1   D5  G1  54.441408  17.041714  108.882817  34.083428  51.125142\n",
       "199   C3   D4  G2  52.059855  20.029649  104.119709  40.059297  60.088946\n",
       "\n",
       "[200 rows x 8 columns]"
      ]
     },
     "execution_count": 1669,
     "metadata": {},
     "output_type": "execute_result"
    }
   ],
   "source": [
    "mydf >> define('value1*2',('newcol2','value2*2'),newcol3='value2*3')"
   ]
  },
  {
   "cell_type": "markdown",
   "metadata": {
    "hidden": true
   },
   "source": [
    "### Select Column(s)"
   ]
  },
  {
   "cell_type": "code",
   "execution_count": 1670,
   "metadata": {
    "hidden": true
   },
   "outputs": [
    {
     "name": "stdout",
     "output_type": "stream",
     "text": [
      "<class 'pandas.core.frame.DataFrame'>\n",
      "RangeIndex: 200 entries, 0 to 199\n",
      "Data columns (total 7 columns):\n",
      "comp       200 non-null object\n",
      "dept       200 non-null object\n",
      "grp        200 non-null object\n",
      "value1     200 non-null float64\n",
      "value2     200 non-null float64\n",
      "newcol1    200 non-null float64\n",
      "newcol2    200 non-null float64\n",
      "dtypes: float64(4), object(3)\n",
      "memory usage: 11.0+ KB\n"
     ]
    }
   ],
   "source": [
    "mydf2 = mydf >> define(newcol1='value1',newcol2='value2')\n",
    "mydf2.info()"
   ]
  },
  {
   "cell_type": "markdown",
   "metadata": {
    "hidden": true
   },
   "source": [
    "#### By Column Names\n",
    "**Exact Coumn Name**"
   ]
  },
  {
   "cell_type": "code",
   "execution_count": 1671,
   "metadata": {
    "hidden": true
   },
   "outputs": [
    {
     "data": {
      "text/plain": [
       "    comp dept     value1\n",
       "0     C2   D1  48.121380\n",
       "1     C3   D3  62.875720\n",
       "2     C3   D3  50.400016\n",
       "3     C3   D5  54.020253\n",
       "4     C2   D5  49.830573\n",
       "..   ...  ...        ...\n",
       "195   C2   D2  49.741731\n",
       "196   C2   D4  43.722306\n",
       "197   C1   D1  48.110746\n",
       "198   C1   D5  54.441408\n",
       "199   C3   D4  52.059855\n",
       "\n",
       "[200 rows x 3 columns]"
      ]
     },
     "execution_count": 1671,
     "metadata": {},
     "output_type": "execute_result"
    }
   ],
   "source": [
    "mydf2 >> select ('comp','dept','value1')"
   ]
  },
  {
   "cell_type": "markdown",
   "metadata": {
    "hidden": true
   },
   "source": [
    "**Column Name Starts With** ..."
   ]
  },
  {
   "cell_type": "code",
   "execution_count": 1672,
   "metadata": {
    "hidden": true
   },
   "outputs": [
    {
     "data": {
      "text/plain": [
       "    comp     value1     value2\n",
       "0     C2  48.121380  21.689478\n",
       "1     C3  62.875720  18.609808\n",
       "2     C3  50.400016  21.396460\n",
       "3     C3  54.020253  20.734398\n",
       "4     C2  49.830573  17.899649\n",
       "..   ...        ...        ...\n",
       "195   C2  49.741731  21.296630\n",
       "196   C2  43.722306  14.807422\n",
       "197   C1  48.110746  19.180297\n",
       "198   C1  54.441408  17.041714\n",
       "199   C3  52.059855  20.029649\n",
       "\n",
       "[200 rows x 3 columns]"
      ]
     },
     "execution_count": 1672,
     "metadata": {},
     "output_type": "execute_result"
    }
   ],
   "source": [
    "mydf2 >> select ('comp', startswith='val')"
   ]
  },
  {
   "cell_type": "markdown",
   "metadata": {
    "hidden": true
   },
   "source": [
    "**Column Name Ends With ...**"
   ]
  },
  {
   "cell_type": "code",
   "execution_count": 1673,
   "metadata": {
    "hidden": true
   },
   "outputs": [
    {
     "data": {
      "text/plain": [
       "    comp     value1     value2    newcol1    newcol2\n",
       "0     C2  48.121380  21.689478  48.121380  21.689478\n",
       "1     C3  62.875720  18.609808  62.875720  18.609808\n",
       "2     C3  50.400016  21.396460  50.400016  21.396460\n",
       "3     C3  54.020253  20.734398  54.020253  20.734398\n",
       "4     C2  49.830573  17.899649  49.830573  17.899649\n",
       "..   ...        ...        ...        ...        ...\n",
       "195   C2  49.741731  21.296630  49.741731  21.296630\n",
       "196   C2  43.722306  14.807422  43.722306  14.807422\n",
       "197   C1  48.110746  19.180297  48.110746  19.180297\n",
       "198   C1  54.441408  17.041714  54.441408  17.041714\n",
       "199   C3  52.059855  20.029649  52.059855  20.029649\n",
       "\n",
       "[200 rows x 5 columns]"
      ]
     },
     "execution_count": 1673,
     "metadata": {},
     "output_type": "execute_result"
    }
   ],
   "source": [
    "mydf2 >> select ('comp',endswith=('1','2','3'))"
   ]
  },
  {
   "cell_type": "markdown",
   "metadata": {
    "hidden": true
   },
   "source": [
    "**Column Name Contains ...**"
   ]
  },
  {
   "cell_type": "code",
   "execution_count": 1674,
   "metadata": {
    "hidden": true
   },
   "outputs": [
    {
     "data": {
      "text/plain": [
       "    comp     value1     value2    newcol1    newcol2\n",
       "0     C2  48.121380  21.689478  48.121380  21.689478\n",
       "1     C3  62.875720  18.609808  62.875720  18.609808\n",
       "2     C3  50.400016  21.396460  50.400016  21.396460\n",
       "3     C3  54.020253  20.734398  54.020253  20.734398\n",
       "4     C2  49.830573  17.899649  49.830573  17.899649\n",
       "..   ...        ...        ...        ...        ...\n",
       "195   C2  49.741731  21.296630  49.741731  21.296630\n",
       "196   C2  43.722306  14.807422  43.722306  14.807422\n",
       "197   C1  48.110746  19.180297  48.110746  19.180297\n",
       "198   C1  54.441408  17.041714  54.441408  17.041714\n",
       "199   C3  52.059855  20.029649  52.059855  20.029649\n",
       "\n",
       "[200 rows x 5 columns]"
      ]
     },
     "execution_count": 1674,
     "metadata": {},
     "output_type": "execute_result"
    }
   ],
   "source": [
    "mydf2 >> select('comp', contains=('col','val'))"
   ]
  },
  {
   "cell_type": "markdown",
   "metadata": {
    "hidden": true
   },
   "source": [
    "#### Specify Column Range"
   ]
  },
  {
   "cell_type": "code",
   "execution_count": 1675,
   "metadata": {
    "hidden": true
   },
   "outputs": [
    {
     "data": {
      "text/plain": [
       "    comp     value1     value2    newcol1    newcol2\n",
       "0     C2  48.121380  21.689478  48.121380  21.689478\n",
       "1     C3  62.875720  18.609808  62.875720  18.609808\n",
       "2     C3  50.400016  21.396460  50.400016  21.396460\n",
       "3     C3  54.020253  20.734398  54.020253  20.734398\n",
       "4     C2  49.830573  17.899649  49.830573  17.899649\n",
       "..   ...        ...        ...        ...        ...\n",
       "195   C2  49.741731  21.296630  49.741731  21.296630\n",
       "196   C2  43.722306  14.807422  43.722306  14.807422\n",
       "197   C1  48.110746  19.180297  48.110746  19.180297\n",
       "198   C1  54.441408  17.041714  54.441408  17.041714\n",
       "199   C3  52.059855  20.029649  52.059855  20.029649\n",
       "\n",
       "[200 rows x 5 columns]"
      ]
     },
     "execution_count": 1675,
     "metadata": {},
     "output_type": "execute_result"
    }
   ],
   "source": [
    "mydf2 >> select ('comp', slice('value1','newcol2'))"
   ]
  },
  {
   "cell_type": "markdown",
   "metadata": {
    "hidden": true
   },
   "source": [
    "### Drop Column(s)"
   ]
  },
  {
   "cell_type": "code",
   "execution_count": 1676,
   "metadata": {
    "hidden": true
   },
   "outputs": [
    {
     "data": {
      "text/plain": [
       "    comp dept grp     value1     value2\n",
       "0     C2   D1  G1  48.121380  21.689478\n",
       "1     C3   D3  G1  62.875720  18.609808\n",
       "2     C3   D3  G2  50.400016  21.396460\n",
       "3     C3   D5  G1  54.020253  20.734398\n",
       "4     C2   D5  G1  49.830573  17.899649\n",
       "..   ...  ...  ..        ...        ...\n",
       "195   C2   D2  G1  49.741731  21.296630\n",
       "196   C2   D4  G2  43.722306  14.807422\n",
       "197   C1   D1  G1  48.110746  19.180297\n",
       "198   C1   D5  G1  54.441408  17.041714\n",
       "199   C3   D4  G2  52.059855  20.029649\n",
       "\n",
       "[200 rows x 5 columns]"
      ]
     },
     "execution_count": 1676,
     "metadata": {},
     "output_type": "execute_result"
    }
   ],
   "source": [
    "mydf2 >> select('newcol1','newcol2',drop=True)"
   ]
  },
  {
   "cell_type": "markdown",
   "metadata": {
    "hidden": true
   },
   "source": [
    "## Rename Column"
   ]
  },
  {
   "cell_type": "code",
   "execution_count": 1677,
   "metadata": {
    "hidden": true
   },
   "outputs": [
    {
     "data": {
      "text/plain": [
       "   comp dept grp     value1     value2\n",
       "0    C2   D1  G1  48.121380  21.689478\n",
       "1    C3   D3  G1  62.875720  18.609808\n",
       "2    C3   D3  G2  50.400016  21.396460\n",
       "3    C3   D5  G1  54.020253  20.734398\n",
       "4    C2   D5  G1  49.830573  17.899649\n",
       "..  ...  ...  ..        ...        ...\n",
       "75   C3   D2  G1  54.873038  18.156872\n",
       "76   C3   D1  G1  46.675058  26.091928\n",
       "77   C1   D5  G2  50.361224  20.380371\n",
       "78   C1   D5  G2  54.161807  16.234352\n",
       "79   C1   D4  G2  53.710542  23.706887\n",
       "\n",
       "[80 rows x 5 columns]"
      ]
     },
     "execution_count": 1677,
     "metadata": {},
     "output_type": "execute_result"
    }
   ],
   "source": [
    "mydf.head(80)"
   ]
  },
  {
   "cell_type": "markdown",
   "metadata": {
    "hidden": true
   },
   "source": [
    "**Assignment Method**  \n",
    "Use when column name does not contain special character"
   ]
  },
  {
   "cell_type": "code",
   "execution_count": 1678,
   "metadata": {
    "hidden": true,
    "scrolled": true
   },
   "outputs": [
    {
     "data": {
      "text/plain": [
       "    comp dept grp       val1       val2\n",
       "0     C2   D1  G1  48.121380  21.689478\n",
       "1     C3   D3  G1  62.875720  18.609808\n",
       "2     C3   D3  G2  50.400016  21.396460\n",
       "3     C3   D5  G1  54.020253  20.734398\n",
       "4     C2   D5  G1  49.830573  17.899649\n",
       "..   ...  ...  ..        ...        ...\n",
       "195   C2   D2  G1  49.741731  21.296630\n",
       "196   C2   D4  G2  43.722306  14.807422\n",
       "197   C1   D1  G1  48.110746  19.180297\n",
       "198   C1   D5  G1  54.441408  17.041714\n",
       "199   C3   D4  G2  52.059855  20.029649\n",
       "\n",
       "[200 rows x 5 columns]"
      ]
     },
     "execution_count": 1678,
     "metadata": {},
     "output_type": "execute_result"
    }
   ],
   "source": [
    "mydf >> rename( val1='value1', val2='value2' )"
   ]
  },
  {
   "cell_type": "markdown",
   "metadata": {
    "hidden": true
   },
   "source": [
    "**Dictionary Method**  \n",
    "Use when column name contain special character"
   ]
  },
  {
   "cell_type": "code",
   "execution_count": 1679,
   "metadata": {
    "hidden": true
   },
   "outputs": [
    {
     "data": {
      "text/plain": [
       "    comp dept grp      val.1      val.2\n",
       "0     C2   D1  G1  48.121380  21.689478\n",
       "1     C3   D3  G1  62.875720  18.609808\n",
       "2     C3   D3  G2  50.400016  21.396460\n",
       "3     C3   D5  G1  54.020253  20.734398\n",
       "4     C2   D5  G1  49.830573  17.899649\n",
       "..   ...  ...  ..        ...        ...\n",
       "195   C2   D2  G1  49.741731  21.296630\n",
       "196   C2   D4  G2  43.722306  14.807422\n",
       "197   C1   D1  G1  48.110746  19.180297\n",
       "198   C1   D5  G1  54.441408  17.041714\n",
       "199   C3   D4  G2  52.059855  20.029649\n",
       "\n",
       "[200 rows x 5 columns]"
      ]
     },
     "execution_count": 1679,
     "metadata": {},
     "output_type": "execute_result"
    }
   ],
   "source": [
    "mydf >> rename( {'val.1' : 'value1',\n",
    "                 'val.2' : 'value2' })"
   ]
  },
  {
   "cell_type": "markdown",
   "metadata": {
    "hidden": true
   },
   "source": [
    "**Combined Method**  \n",
    "Combine both assignment and dictionary method"
   ]
  },
  {
   "cell_type": "code",
   "execution_count": 1680,
   "metadata": {
    "hidden": true
   },
   "outputs": [
    {
     "data": {
      "text/plain": [
       "    comp dept group      val.1      val.2\n",
       "0     C2   D1    G1  48.121380  21.689478\n",
       "1     C3   D3    G1  62.875720  18.609808\n",
       "2     C3   D3    G2  50.400016  21.396460\n",
       "3     C3   D5    G1  54.020253  20.734398\n",
       "4     C2   D5    G1  49.830573  17.899649\n",
       "..   ...  ...   ...        ...        ...\n",
       "195   C2   D2    G1  49.741731  21.296630\n",
       "196   C2   D4    G2  43.722306  14.807422\n",
       "197   C1   D1    G1  48.110746  19.180297\n",
       "198   C1   D5    G1  54.441408  17.041714\n",
       "199   C3   D4    G2  52.059855  20.029649\n",
       "\n",
       "[200 rows x 5 columns]"
      ]
     },
     "execution_count": 1680,
     "metadata": {},
     "output_type": "execute_result"
    }
   ],
   "source": [
    "mydf >> rename( {'val.1' : 'value1',\n",
    "                 'val.2' : 'value2'\n",
    "              }, group = 'grp' )"
   ]
  },
  {
   "cell_type": "markdown",
   "metadata": {
    "hidden": true
   },
   "source": [
    "## Sorting (arrange)\n",
    "Use **'-colName'** for decending"
   ]
  },
  {
   "cell_type": "code",
   "execution_count": 1681,
   "metadata": {
    "hidden": true
   },
   "outputs": [
    {
     "data": {
      "text/plain": [
       "    comp dept grp     value1     value2\n",
       "193   C1   D2  G1  60.935035  19.234928\n",
       "174   C1   D1  G1  60.843202  21.189968\n",
       "45    C1   D4  G1  59.601031  17.724704\n",
       "146   C1   D3  G1  59.101964  22.832255\n",
       "114   C1   D2  G2  57.637285  19.968075\n",
       "..   ...  ...  ..        ...        ...\n",
       "134   C3   D4  G2  42.667569  20.020827\n",
       "95    C3   D3  G2  42.468844  21.815070\n",
       "144   C3   D3  G1  41.744455  21.076430\n",
       "50    C3   D1  G1  41.429596  20.130498\n",
       "10    C3   D1  G1  39.351217  22.055384\n",
       "\n",
       "[200 rows x 5 columns]"
      ]
     },
     "execution_count": 1681,
     "metadata": {},
     "output_type": "execute_result"
    }
   ],
   "source": [
    "mydf >> arrange('comp', '-value1')"
   ]
  },
  {
   "cell_type": "code",
   "execution_count": null,
   "metadata": {
    "hidden": true
   },
   "outputs": [],
   "source": []
  },
  {
   "cell_type": "code",
   "execution_count": null,
   "metadata": {
    "hidden": true
   },
   "outputs": [],
   "source": []
  },
  {
   "cell_type": "markdown",
   "metadata": {
    "hidden": true
   },
   "source": [
    "## Grouping"
   ]
  },
  {
   "cell_type": "code",
   "execution_count": 1682,
   "metadata": {
    "hidden": true
   },
   "outputs": [
    {
     "name": "stdout",
     "output_type": "stream",
     "text": [
      "<class 'pandas.core.frame.DataFrame'>\n",
      "RangeIndex: 200 entries, 0 to 199\n",
      "Data columns (total 5 columns):\n",
      "comp      200 non-null object\n",
      "dept      200 non-null object\n",
      "grp       200 non-null object\n",
      "value1    200 non-null float64\n",
      "value2    200 non-null float64\n",
      "dtypes: float64(2), object(3)\n",
      "memory usage: 7.9+ KB\n"
     ]
    }
   ],
   "source": [
    "mydf.info()"
   ]
  },
  {
   "cell_type": "code",
   "execution_count": 1683,
   "metadata": {
    "hidden": true
   },
   "outputs": [
    {
     "data": {
      "text/plain": [
       "plydata.types.GroupedDataFrame"
      ]
     },
     "execution_count": 1683,
     "metadata": {},
     "output_type": "execute_result"
    }
   ],
   "source": [
    "gdf = mydf >> group_by('comp','dept')\n",
    "type(gdf)"
   ]
  },
  {
   "cell_type": "markdown",
   "metadata": {
    "hidden": true
   },
   "source": [
    "## Summarization"
   ]
  },
  {
   "cell_type": "markdown",
   "metadata": {
    "hidden": true
   },
   "source": [
    "### Simple Method\n",
    "**Passing Multiple Expressions**"
   ]
  },
  {
   "cell_type": "code",
   "execution_count": 1684,
   "metadata": {
    "hidden": true
   },
   "outputs": [
    {
     "data": {
      "text/plain": [
       "   comp dept  n()  sum(value1)  mean(value2)\n",
       "0    C2   D1   15   770.574721     18.376925\n",
       "1    C3   D3   16   818.673810     19.575662\n",
       "2    C3   D5    7   350.485873     21.120434\n",
       "3    C2   D5   11   537.250645     21.150366\n",
       "4    C2   D4   13   664.881518     19.817824\n",
       "..  ...  ...  ...          ...           ...\n",
       "10   C1   D5   16   788.283285     21.160896\n",
       "11   C1   D4    9   441.050532     19.882458\n",
       "12   C1   D2   11   572.631918     20.067193\n",
       "13   C3   D2   12   632.639616     20.069331\n",
       "14   C2   D3   15   725.543345     19.692025\n",
       "\n",
       "[15 rows x 5 columns]"
      ]
     },
     "execution_count": 1684,
     "metadata": {},
     "output_type": "execute_result"
    }
   ],
   "source": [
    "gdf >> summarize('n()','sum(value1)','mean(value2)')"
   ]
  },
  {
   "cell_type": "markdown",
   "metadata": {
    "hidden": true
   },
   "source": [
    "### Specify Summarized Column Name"
   ]
  },
  {
   "cell_type": "markdown",
   "metadata": {
    "hidden": true
   },
   "source": [
    "**Assignment Method**  \n",
    "- Passing colName='expression'**  \n",
    "- Column name cannot contain special character"
   ]
  },
  {
   "cell_type": "code",
   "execution_count": 1685,
   "metadata": {
    "hidden": true
   },
   "outputs": [
    {
     "data": {
      "text/plain": [
       "   comp dept  count       v1sum    v2_mean\n",
       "0    C2   D1     15  770.574721  18.376925\n",
       "1    C3   D3     16  818.673810  19.575662\n",
       "2    C3   D5      7  350.485873  21.120434\n",
       "3    C2   D5     11  537.250645  21.150366\n",
       "4    C2   D4     13  664.881518  19.817824\n",
       "..  ...  ...    ...         ...        ...\n",
       "10   C1   D5     16  788.283285  21.160896\n",
       "11   C1   D4      9  441.050532  19.882458\n",
       "12   C1   D2     11  572.631918  20.067193\n",
       "13   C3   D2     12  632.639616  20.069331\n",
       "14   C2   D3     15  725.543345  19.692025\n",
       "\n",
       "[15 rows x 5 columns]"
      ]
     },
     "execution_count": 1685,
     "metadata": {},
     "output_type": "execute_result"
    }
   ],
   "source": [
    "gdf >> summarize(count='n()',v1sum='sum(value1)',v2_mean='mean(value2)')"
   ]
  },
  {
   "cell_type": "markdown",
   "metadata": {
    "hidden": true
   },
   "source": [
    "**Tuple Method ('colName','expression')**  \n",
    "Use when the column name contain special character"
   ]
  },
  {
   "cell_type": "code",
   "execution_count": 1686,
   "metadata": {
    "hidden": true
   },
   "outputs": [
    {
     "data": {
      "text/plain": [
       "   comp dept  count      v1.sum      s2.sum     v2mean\n",
       "0    C2   D1     15  770.574721  275.653869  20.116691\n",
       "1    C3   D3     16  818.673810  313.210586  20.116691\n",
       "2    C3   D5      7  350.485873  147.843036  20.116691\n",
       "3    C2   D5     11  537.250645  232.654028  20.116691\n",
       "4    C2   D4     13  664.881518  257.631715  20.116691\n",
       "..  ...  ...    ...         ...         ...        ...\n",
       "10   C1   D5     16  788.283285  338.574337  20.116691\n",
       "11   C1   D4      9  441.050532  178.942125  20.116691\n",
       "12   C1   D2     11  572.631918  220.739120  20.116691\n",
       "13   C3   D2     12  632.639616  240.831971  20.116691\n",
       "14   C2   D3     15  725.543345  295.380375  20.116691\n",
       "\n",
       "[15 rows x 6 columns]"
      ]
     },
     "execution_count": 1686,
     "metadata": {},
     "output_type": "execute_result"
    }
   ],
   "source": [
    "gdf >> summarize(('count','n()'),('v1.sum','sum(value1)'),('s2.sum','sum(value2)'),v2mean=np.mean(value2))"
   ]
  },
  {
   "cell_type": "markdown",
   "metadata": {
    "hidden": true
   },
   "source": [
    "### Number of Rows in Group\n",
    "- n()        : total rows in group  \n",
    "- n_unique() : total of rows with unique value"
   ]
  },
  {
   "cell_type": "code",
   "execution_count": 1687,
   "metadata": {
    "hidden": true
   },
   "outputs": [
    {
     "data": {
      "text/plain": [
       "   comp dept  count  va11_unique\n",
       "0    C2   D1     15           15\n",
       "1    C3   D3     16           16\n",
       "2    C3   D5      7            7\n",
       "3    C2   D5     11           11\n",
       "4    C2   D4     13           13\n",
       "..  ...  ...    ...          ...\n",
       "10   C1   D5     16           16\n",
       "11   C1   D4      9            9\n",
       "12   C1   D2     11           11\n",
       "13   C3   D2     12           12\n",
       "14   C2   D3     15           15\n",
       "\n",
       "[15 rows x 4 columns]"
      ]
     },
     "execution_count": 1687,
     "metadata": {},
     "output_type": "execute_result"
    }
   ],
   "source": [
    "gdf >> summarize(count='n()', va11_unique='n_unique(value1)')"
   ]
  }
 ],
 "metadata": {
  "hide_input": false,
  "kernelspec": {
   "display_name": "Python 3",
   "language": "python",
   "name": "python3"
  },
  "language_info": {
   "codemirror_mode": {
    "name": "ipython",
    "version": 3
   },
   "file_extension": ".py",
   "mimetype": "text/x-python",
   "name": "python",
   "nbconvert_exporter": "python",
   "pygments_lexer": "ipython3",
   "version": "3.6.3"
  },
  "toc": {
   "nav_menu": {},
   "number_sections": true,
   "sideBar": true,
   "skip_h1_title": false,
   "toc_cell": false,
   "toc_position": {
    "height": "944px",
    "left": "0px",
    "right": "1035.6px",
    "top": "110px",
    "width": "357px"
   },
   "toc_section_display": "block",
   "toc_window_display": true
  },
  "varInspector": {
   "cols": {
    "lenName": 16,
    "lenType": 16,
    "lenVar": 40
   },
   "kernels_config": {
    "python": {
     "delete_cmd_postfix": "",
     "delete_cmd_prefix": "del ",
     "library": "var_list.py",
     "varRefreshCmd": "print(var_dic_list())"
    },
    "r": {
     "delete_cmd_postfix": ") ",
     "delete_cmd_prefix": "rm(",
     "library": "var_list.r",
     "varRefreshCmd": "cat(var_dic_list()) "
    }
   },
   "types_to_exclude": [
    "module",
    "function",
    "builtin_function_or_method",
    "instance",
    "_Feature"
   ],
   "window_display": false
  }
 },
 "nbformat": 4,
 "nbformat_minor": 2
}
