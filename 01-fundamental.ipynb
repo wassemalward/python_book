{
 "cells": [
  {
   "cell_type": "markdown",
   "metadata": {},
   "source": [
    "# Environment Setup"
   ]
  },
  {
   "cell_type": "markdown",
   "metadata": {},
   "source": [
    "## Notebook Setup"
   ]
  },
  {
   "cell_type": "code",
   "execution_count": 1,
   "metadata": {},
   "outputs": [
    {
     "data": {
      "text/html": [
       "<style>.container { width:75% !important; margin-left:350px; }</style>"
      ],
      "text/plain": [
       "<IPython.core.display.HTML object>"
      ]
     },
     "metadata": {},
     "output_type": "display_data"
    }
   ],
   "source": [
    "from IPython.core.display import display, HTML\n",
    "display(HTML(\"<style>.container { width:75% !important; margin-left:350px; }</style>\"))"
   ]
  },
  {
   "cell_type": "markdown",
   "metadata": {},
   "source": [
    "## Most Common Libraries"
   ]
  },
  {
   "cell_type": "code",
   "execution_count": 5,
   "metadata": {},
   "outputs": [],
   "source": [
    "import numpy as np\n",
    "import pandas as pd\n",
    "import datetime as dt\n",
    "\n",
    "import matplotlib\n",
    "import matplotlib.pyplot as plt\n",
    "\n",
    "from plydata import define, query, select, group_by, summarize, arrange, head, rename\n",
    "import plotnine\n",
    "from plotnine import *"
   ]
  },
  {
   "cell_type": "markdown",
   "metadata": {},
   "source": [
    "### numpy\n",
    "- large multi-dimensional array and matrices  \n",
    "- High level mathematical funcitons to operate on them \n",
    "- Efficient array computation, modeled after matlab  \n",
    "- Support vectorized array math functions (built on C, hence faster than python for loop and list)  \n"
   ]
  },
  {
   "cell_type": "markdown",
   "metadata": {},
   "source": [
    "### scipy\n",
    "- Collection of mathematical algorithms and convenience functions built on the numpy extension  \n",
    "- Built uponi **numpy**"
   ]
  },
  {
   "cell_type": "markdown",
   "metadata": {},
   "source": [
    "### Pandas\n",
    "- Data manipulation and analysis \n",
    "- Offer data structures and operations for manipulating numerical tables and time series  \n",
    "- Good for analyzing tabular data  \n",
    "- Use for exploratory data analysis, data pre-processing, statistics and visualization\n",
    "- Built upon **numpy**"
   ]
  },
  {
   "cell_type": "markdown",
   "metadata": {},
   "source": [
    "### scikit-learn\n",
    "- Machine learning functions  \n",
    "- Built on top of scipy"
   ]
  },
  {
   "cell_type": "markdown",
   "metadata": {},
   "source": [
    "### matplotlib\n",
    "- Data Visualization"
   ]
  },
  {
   "cell_type": "markdown",
   "metadata": {},
   "source": [
    "## Magic Functions"
   ]
  },
  {
   "cell_type": "markdown",
   "metadata": {},
   "source": [
    "- IPython has a set of predefined ‘magic functions’ that you can call with a command line style syntax  \n",
    "- There are two types of magics:  \n",
    "    - **Line Magic**  \n",
    "    Prefix with %, and work much like OS command-line calls: they get as an argument the rest of the line, where arguments are passed without parentheses or quotes. Lines magics can return results and can be used in the right hand side of an assignment  \n",
    "    - **Cell Magic**  \n",
    "    Prefix with %%, and they are functions that get as an argument not only the rest of the line, but also the lines below it in a separate argument."
   ]
  },
  {
   "cell_type": "markdown",
   "metadata": {},
   "source": [
    "### %matplotlib\n",
    "Output graph inline to frontend (Jupyter Notebook). Therefore is stored in the Notebook document"
   ]
  },
  {
   "cell_type": "code",
   "execution_count": 6,
   "metadata": {},
   "outputs": [],
   "source": [
    "%matplotlib inline"
   ]
  },
  {
   "cell_type": "markdown",
   "metadata": {},
   "source": [
    "## Package Management\n",
    "### Conda"
   ]
  },
  {
   "cell_type": "markdown",
   "metadata": {},
   "source": [
    "#### Conda Environment"
   ]
  },
  {
   "cell_type": "code",
   "execution_count": 7,
   "metadata": {},
   "outputs": [
    {
     "name": "stdout",
     "output_type": "stream",
     "text": [
      "\n",
      "     active environment : base\n",
      "    active env location : C:\\ProgramData\\Anaconda3\n",
      "            shell level : 1\n",
      "       user config file : C:\\Users\\keh-soon.yong\\.condarc\n",
      " populated config files : C:\\Users\\keh-soon.yong\\.condarc\n",
      "          conda version : 4.5.4\n",
      "    conda-build version : 3.0.27\n",
      "         python version : 3.6.5.final.0\n",
      "       base environment : C:\\ProgramData\\Anaconda3  (read only)\n",
      "           channel URLs : https://repo.anaconda.com/pkgs/main/win-64\n",
      "                          https://repo.anaconda.com/pkgs/main/noarch\n",
      "                          https://repo.anaconda.com/pkgs/free/win-64\n",
      "                          https://repo.anaconda.com/pkgs/free/noarch\n",
      "                          https://repo.anaconda.com/pkgs/r/win-64\n",
      "                          https://repo.anaconda.com/pkgs/r/noarch\n",
      "                          https://repo.anaconda.com/pkgs/pro/win-64\n",
      "                          https://repo.anaconda.com/pkgs/pro/noarch\n",
      "                          https://repo.anaconda.com/pkgs/msys2/win-64\n",
      "                          https://repo.anaconda.com/pkgs/msys2/noarch\n",
      "          package cache : C:\\ProgramData\\Anaconda3\\pkgs\n",
      "                          C:\\Users\\keh-soon.yong\\AppData\\Local\\conda\\conda\\pkgs\n",
      "       envs directories : C:\\Users\\keh-soon.yong\\AppData\\Local\\conda\\conda\\envs\n",
      "                          C:\\ProgramData\\Anaconda3\\envs\n",
      "                          C:\\Users\\keh-soon.yong\\.conda\\envs\n",
      "               platform : win-64\n",
      "             user-agent : conda/4.5.4 requests/2.18.4 CPython/3.6.5 Windows/10 Windows/10.0.14393\n",
      "          administrator : False\n",
      "             netrc file : None\n",
      "           offline mode : False\n",
      "\n"
     ]
    }
   ],
   "source": [
    "!conda info"
   ]
  },
  {
   "cell_type": "markdown",
   "metadata": {},
   "source": [
    "#### Package Version"
   ]
  },
  {
   "cell_type": "code",
   "execution_count": 8,
   "metadata": {},
   "outputs": [
    {
     "name": "stdout",
     "output_type": "stream",
     "text": [
      "# packages in environment at C:\\ProgramData\\Anaconda3:\n",
      "#\n",
      "# Name                    Version                   Build  Channel\n",
      "_ipyw_jlab_nb_ext_conf    0.1.0            py36he6757f0_0  \n",
      "alabaster                 0.7.10           py36hcd07829_0  \n",
      "anaconda                  custom           py36h363777c_0  \n",
      "anaconda-client           1.6.14                   py36_0  \n",
      "anaconda-navigator        1.8.7                    py36_0  \n",
      "anaconda-project          0.8.0            py36h8b3bf89_0  \n",
      "asn1crypto                0.22.0           py36h8e79faa_1  \n",
      "astroid                   1.5.3            py36h9d85297_0  \n",
      "astropy                   2.0.2            py36h06391c4_4  \n",
      "babel                     2.5.0            py36h35444c1_0  \n",
      "backports                 1.0              py36h81696a8_1  \n",
      "backports.shutil_get_terminal_size 1.0.0            py36h79ab834_2  \n",
      "beautifulsoup4            4.6.0            py36hd4cc5e8_1  \n",
      "bitarray                  0.8.1            py36h6af124b_0  \n",
      "bkcharts                  0.2              py36h7e685f7_0  \n",
      "blaze                     0.11.3           py36h8a29ca5_0  \n",
      "bleach                    2.0.0            py36h0a7e3d6_0  \n",
      "bokeh                     0.12.16                  py36_0  \n",
      "boto                      2.48.0           py36h1a776d2_1  \n",
      "bottleneck                1.2.1            py36hd119dfa_0  \n",
      "bzip2                     1.0.6                    vc14_1  [vc14]  conda-forge\n",
      "ca-certificates           2018.03.07                    0  \n",
      "cachecontrol              0.12.3           py36hfe50d7b_0  \n",
      "certifi                   2018.4.16                py36_0  \n",
      "cffi                      1.10.0           py36hae3d1b5_1  \n",
      "chardet                   3.0.4            py36h420ce6e_1  \n",
      "click                     6.7              py36hec8c647_0  \n",
      "cloudpickle               0.4.0            py36h639d8dc_0  \n",
      "clyent                    1.2.2            py36hb10d595_1  \n",
      "colorama                  0.3.9            py36h029ae33_0  \n",
      "comtypes                  1.1.2            py36heb9b3d1_0  \n",
      "conda                     4.5.4                    py36_0  \n",
      "conda-build               3.0.27           py36h309a530_0  \n",
      "conda-env                 2.6.0                h36134e3_1  \n",
      "conda-verify              2.0.0            py36h065de53_0  \n",
      "console_shortcut          0.1.1                h6bb2dd7_3  \n",
      "contextlib2               0.5.5            py36he5d52c0_0  \n",
      "cryptography              2.0.3            py36h123decb_1  \n",
      "curl                      7.55.1           vc14hdaba4a4_3  [vc14]\n",
      "cycler                    0.10.0           py36h009560c_0  \n",
      "cython                    0.26.1           py36h18049ac_0  \n",
      "cytoolz                   0.8.2            py36h547e66e_0  \n",
      "dask                      0.15.3           py36h396fcb9_0  \n",
      "dask-core                 0.15.3           py36hd651449_0  \n",
      "datashape                 0.5.4            py36h5770b85_0  \n",
      "decorator                 4.1.2            py36he63a57b_0  \n",
      "distlib                   0.2.5            py36h51371be_0  \n",
      "distributed               1.19.1           py36h8504682_0  \n",
      "docutils                  0.14             py36h6012d8f_0  \n",
      "entrypoints               0.2.3            py36hfd66bb0_2  \n",
      "et_xmlfile                1.0.1            py36h3d2d736_0  \n",
      "fastcache                 1.0.2            py36hffdae1b_0  \n",
      "filelock                  2.0.12           py36hd7ddd41_0  \n",
      "flask                     0.12.2           py36h98b5e8f_0  \n",
      "flask-cors                3.0.3            py36h8a3855d_0  \n",
      "freetype                  2.8.1                    vc14_0  [vc14]  conda-forge\n",
      "get_terminal_size         1.0.0                h38e98db_0  \n",
      "gevent                    1.2.2            py36h342a76c_0  \n",
      "glob2                     0.5              py36h11cc1bd_1  \n",
      "greenlet                  0.4.12           py36ha00ad21_0  \n",
      "h5py                      2.7.0            py36hfbe0a52_1  \n",
      "hdf5                      1.10.1           vc14hb361328_0  [vc14]\n",
      "heapdict                  1.0.0            py36h21fa5f4_0  \n",
      "html5lib                  0.999999999      py36ha09b1f3_0  \n",
      "icc_rt                    2017.0.4             h97af966_0  \n",
      "icu                       58.2                     vc14_0  [vc14]  conda-forge\n",
      "idna                      2.6              py36h148d497_1  \n",
      "imageio                   2.2.0            py36had6c2d2_0  \n",
      "imagesize                 0.7.1            py36he29f638_0  \n",
      "intel-openmp              2018.0.0             hcd89f80_7  \n",
      "ipykernel                 4.6.1            py36hbb77b34_0  \n",
      "ipython                   6.1.0            py36h236ecc8_1  \n",
      "ipython_genutils          0.2.0            py36h3c5d0ee_0  \n",
      "ipywidgets                7.0.0            py36h2e74ada_0  \n",
      "isort                     4.2.15           py36h6198cc5_0  \n",
      "itsdangerous              0.24             py36hb6c5a24_1  \n",
      "jdcal                     1.3              py36h64a5255_0  \n",
      "jedi                      0.10.2           py36hed927a0_0  \n",
      "jinja2                    2.9.6            py36h10aa3a0_1  \n",
      "jpeg                      9b                       vc14_2  [vc14]  conda-forge\n",
      "jsonschema                2.6.0            py36h7636477_0  \n",
      "jupyter                   1.0.0            py36h422fd7e_2  \n",
      "jupyter_client            5.2.2                    py36_0  \n",
      "jupyter_console           5.2.0            py36h6d89b47_1  \n",
      "jupyter_contrib_core      0.3.3                    py36_1    conda-forge\n",
      "jupyter_contrib_nbextensions 0.3.3                    py36_0    conda-forge\n",
      "jupyter_core              4.4.0            py36h56e9d50_0  \n",
      "jupyter_highlight_selected_word 0.1.0                    py36_0    conda-forge\n",
      "jupyter_latex_envs        1.3.8.2                  py36_1    conda-forge\n",
      "jupyter_nbextensions_configurator 0.4.0                    py36_0    conda-forge\n",
      "jupyterlab                0.32.1                   py36_0  \n",
      "jupyterlab_launcher       0.10.2                   py36_0  \n",
      "kiwisolver                1.0.1            py36h12c3424_0  \n",
      "lazy-object-proxy         1.3.1            py36hd1c21d2_0  \n",
      "libiconv                  1.14                     vc14_4  [vc14]  conda-forge\n",
      "libpng                    1.6.34                   vc14_0  [vc14]  conda-forge\n",
      "libsodium                 1.0.16               h9d3ae62_0  \n",
      "libssh2                   1.8.0            vc14hcf584a9_2  [vc14]\n",
      "libtiff                   4.0.9                    vc14_0  [vc14]  conda-forge\n",
      "libxml2                   2.9.5                    vc14_1  [vc14]  conda-forge\n",
      "libxslt                   1.1.32                   vc14_0  [vc14]  conda-forge\n",
      "llvmlite                  0.20.0                   py36_0  \n",
      "locket                    0.2.0            py36hfed976d_1  \n",
      "lockfile                  0.12.2           py36h0468280_0  \n",
      "lxml                      4.1.0            py36h0dcd83c_0  \n",
      "lzo                       2.10             vc14h0a64fa6_1  [vc14]\n",
      "m2w64-gcc-libgfortran     5.3.0                         6  \n",
      "m2w64-gcc-libs            5.3.0                         7  \n",
      "m2w64-gcc-libs-core       5.3.0                         7  \n",
      "m2w64-gmp                 6.1.0                         2  \n",
      "m2w64-libwinpthread-git   5.0.0.4634.697f757               2  \n",
      "markupsafe                1.0              py36h0e26971_1  \n",
      "matplotlib                2.2.2            py36h153e9ff_0  \n",
      "mccabe                    0.6.1            py36hb41005a_1  \n",
      "menuinst                  1.4.10           py36h42196fb_0  \n",
      "mistune                   0.7.4            py36h4874169_0  \n",
      "mizani                    0.4.4                      py_0    conda-forge\n",
      "mkl                       2018.0.3                      1  \n",
      "mkl-service               1.1.2            py36h57e144c_4  \n",
      "mkl_fft                   1.0.1            py36h452e1ab_0  \n",
      "mkl_random                1.0.1            py36h9258bd6_0  \n",
      "mpmath                    0.19             py36he326802_2  \n",
      "msgpack-python            0.4.8            py36h58b1e9d_0  \n",
      "msys2-conda-epoch         20160418                      1  \n",
      "multipledispatch          0.4.9            py36he44c36e_0  \n",
      "navigator-updater         0.1.0            py36h8a7b86b_0  \n",
      "nbconvert                 5.3.1            py36h8dc0fde_0  \n",
      "nbformat                  4.4.0            py36h3a5bc1b_0  \n",
      "nbmerge                   0.0.4                     <pip>\n",
      "networkx                  2.0              py36hff991e3_0  \n",
      "nltk                      3.2.4            py36hd0e0a39_0  \n",
      "nose                      1.3.7            py36h1c3779e_2  \n",
      "notebook                  5.5.0                    py36_0  \n",
      "numba                     0.35.0             np113py36_10  \n",
      "numexpr                   2.6.2            py36h7ca04dc_1  \n",
      "numpy                     1.13.3           py36h5c71026_4  \n",
      "numpydoc                  0.7.0            py36ha25429e_0  \n",
      "odo                       0.5.1            py36h7560279_0  \n",
      "olefile                   0.44             py36h0a7bdd2_0  \n",
      "openpyxl                  2.4.8            py36hf3b77f6_1  \n",
      "openssl                   1.0.2o               h8ea7d77_0  \n",
      "packaging                 16.8             py36ha0986f6_1  \n",
      "palettable                3.1.0                      py_0    conda-forge\n",
      "pandas                    0.23.0           py36h830ac7b_0  \n",
      "pandoc                    1.19.2.1             hb2460c7_1  \n",
      "pandocfilters             1.4.2            py36h3ef6317_1  \n",
      "partd                     0.3.8            py36hc8e763b_0  \n",
      "path.py                   10.3.1           py36h3dd8b46_0  \n",
      "pathlib2                  2.3.0            py36h7bfb78b_0  \n",
      "patsy                     0.4.1            py36h42cefec_0  \n",
      "pep8                      1.7.0            py36h0f3d67a_0  \n",
      "pickleshare               0.7.4            py36h9de030f_0  \n",
      "pillow                    4.2.1            py36hdb25ab2_0  \n",
      "pip                       10.0.1                   py36_0  \n",
      "pkginfo                   1.4.1            py36hb0f9cfa_1  \n",
      "plotnine                  0.3.0                      py_0    conda-forge\n",
      "ply                       3.10             py36h1211beb_0  \n",
      "plydata                   0.3.2                     <pip>\n",
      "progress                  1.3              py36hbeca8d3_0  \n",
      "prompt_toolkit            1.0.15           py36h60b8f86_0  \n",
      "psutil                    5.4.0            py36h4e662fb_0  \n",
      "py                        1.4.34           py36ha4aca3a_1  \n",
      "pycodestyle               2.3.1            py36h7cc55cd_0  \n",
      "pycosat                   0.6.3            py36h413d8a4_0  \n",
      "pycparser                 2.18             py36hd053e01_1  \n",
      "pycrypto                  2.6.1            py36he68e6e2_1  \n",
      "pycurl                    7.43.0           py36h086bf4c_3  \n",
      "pyflakes                  1.6.0            py36h0b975d6_0  \n",
      "pygments                  2.2.0            py36hb010967_0  \n",
      "pylint                    1.7.4            py36ha4e6ded_0  \n",
      "pyodbc                    4.0.17           py36h0006bc2_0  \n",
      "pyopenssl                 17.2.0           py36h15ca2fc_0  \n",
      "pyparsing                 2.2.0            py36h785a196_1  \n",
      "pyqt                      5.6.0            py36hb5ed885_5  \n",
      "pysocks                   1.6.7            py36h698d350_1  \n",
      "pytables                  3.4.2            py36h71138e3_2  \n",
      "pytest                    3.2.1            py36h753b05e_1  \n",
      "python                    3.6.5                h0c2934d_0  \n",
      "python-dateutil           2.6.1            py36h509ddcb_1  \n",
      "pytz                      2017.2           py36h05d413f_1  \n",
      "pywavelets                0.5.2            py36hc649158_0  \n",
      "pywin32                   221              py36h9c10281_0  \n",
      "pywinpty                  0.5.1                    py36_0  \n",
      "pyyaml                    3.12             py36h1d1928f_1  \n",
      "pyzmq                     17.0.0           py36hfa6e2cd_1  \n",
      "qt                        5.6.2                    vc14_1  [vc14]  conda-forge\n",
      "qtawesome                 0.4.4            py36h5aa48f6_0  \n",
      "qtconsole                 4.3.1            py36h99a29a9_0  \n",
      "qtpy                      1.4.2                    py36_0  \n",
      "requests                  2.18.4           py36h4371aae_1  \n",
      "rope                      0.10.5           py36hcaf5641_0  \n",
      "ruamel_yaml               0.11.14          py36h9b16331_2  \n",
      "scikit-image              0.13.1           py36hfa6e2cd_1  \n",
      "scikit-learn              0.19.1           py36h53aea1b_0  \n",
      "scipy                     1.1.0            py36h672f292_0  \n",
      "seaborn                   0.8.1            py36h9b69545_0  \n",
      "send2trash                1.4.2                    py36_0  \n",
      "setuptools                36.5.0           py36h65f9e6e_0  \n",
      "simplegeneric             0.8.1            py36heab741f_0  \n",
      "singledispatch            3.4.0.3          py36h17d0c80_0  \n",
      "sip                       4.18.1           py36h9c25514_2  \n",
      "six                       1.11.0           py36h4db2310_1  \n",
      "snowballstemmer           1.2.1            py36h763602f_0  \n",
      "sortedcollections         0.5.3            py36hbefa0ab_0  \n",
      "sortedcontainers          1.5.7            py36ha90ac20_0  \n",
      "sphinx                    1.6.3            py36h9bb690b_0  \n",
      "sphinxcontrib             1.0              py36hbbac3d2_1  \n",
      "sphinxcontrib-websupport  1.0.1            py36hb5e5916_1  \n",
      "spyder                    3.2.8                    py36_0  \n",
      "spyder-notebook           0.1.1                    py36_0    spyder-ide\n",
      "sqlalchemy                1.1.13           py36h5948d12_0  \n",
      "sqlite                    3.20.1                   vc14_2  [vc14]  conda-forge\n",
      "statsmodels               0.8.0            py36h6189b4c_0  \n",
      "sympy                     1.1.1            py36h96708e0_0  \n",
      "tblib                     1.3.2            py36h30f5020_0  \n",
      "terminado                 0.8.1                    py36_1  \n",
      "testpath                  0.3.1            py36h2698cfe_0  \n",
      "tk                        8.6.7                    vc14_0  [vc14]  conda-forge\n",
      "toolz                     0.8.2            py36he152a52_0  \n",
      "tornado                   4.5.2            py36h57f6048_0  \n",
      "traitlets                 4.3.2            py36h096827d_0  \n",
      "typing                    3.6.2            py36hb035bda_0  \n",
      "unicodecsv                0.14.1           py36h6450c06_0  \n",
      "urllib3                   1.22             py36h276f60a_0  \n",
      "vc                        14                   h2379b0c_2  \n",
      "vs2015_runtime            14.0.25123           hd4c4e62_2  \n",
      "wcwidth                   0.1.7            py36h3d5aa90_0  \n",
      "webencodings              0.5.1            py36h67c50ae_1  \n",
      "werkzeug                  0.12.2           py36h866a736_0  \n",
      "wheel                     0.29.0           py36h6ce6cde_1  \n",
      "widgetsnbextension        3.0.2            py36h364476f_1  \n",
      "win_inet_pton             1.0.1            py36he67d7fd_1  \n",
      "win_unicode_console       0.5              py36hcdbd4b5_0  \n",
      "wincertstore              0.2              py36h7fe50ca_0  \n",
      "winpty                    0.4.3                    vc14_2  [vc14]  conda-forge\n",
      "wrapt                     1.10.11          py36he5f5981_0  \n",
      "xlrd                      1.1.0            py36h1cb58dc_1  \n",
      "xlsxwriter                1.0.2            py36hf723b7d_0  \n",
      "xlwings                   0.11.4           py36hd3cf94d_0  \n",
      "xlwt                      1.3.0            py36h1a4751e_0  \n",
      "yaml                      0.1.7                    vc14_0  [vc14]  conda-forge\n",
      "zeromq                    4.2.5                hc6251cf_0  \n",
      "zict                      0.1.3            py36h2d8e73e_0  \n",
      "zlib                      1.2.11                   vc14_0  [vc14]  conda-forge\n"
     ]
    }
   ],
   "source": [
    "!conda list"
   ]
  },
  {
   "cell_type": "markdown",
   "metadata": {},
   "source": [
    "#### Package Installation\n",
    "Conda is recommended distribution.  \n",
    "\n",
    "To install from **official** conda channel:\n",
    "```\n",
    "conda install <package_name>  # always install latest\n",
    "conda install <package_name=version_number>\n",
    "```\n",
    "To install from **conda-forge community** channel:\n",
    "```\n",
    "conda install -c conda-forge <package_name>\n",
    "conda install -c conda-forge <package_name=version_number>\n",
    "```"
   ]
  },
  {
   "cell_type": "markdown",
   "metadata": {},
   "source": [
    "```\n",
    "# conda official channel\n",
    "conda install numpy\n",
    "conda install scipy\n",
    "conda install pandas\n",
    "conda install matpotlib\n",
    "conda install scikit-learn\n",
    "conda install seaborn\n",
    "conda install pip\n",
    "\n",
    "# conda-forge community channel\n",
    "conda install -c conda-forge plotnine\n",
    "```"
   ]
  },
  {
   "cell_type": "markdown",
   "metadata": {},
   "source": [
    "### PIP\n",
    "Use **pip** if the package is not available in conda."
   ]
  },
  {
   "cell_type": "markdown",
   "metadata": {},
   "source": [
    "#### Package Version"
   ]
  },
  {
   "cell_type": "code",
   "execution_count": 9,
   "metadata": {},
   "outputs": [
    {
     "name": "stdout",
     "output_type": "stream",
     "text": [
      "Package                            Version            \n",
      "---------------------------------- -------------------\n",
      "alabaster                          0.7.10             \n",
      "anaconda-client                    1.6.14             \n",
      "anaconda-navigator                 1.8.7              \n",
      "anaconda-project                   0.8.0              \n",
      "asn1crypto                         0.22.0             \n",
      "astroid                            1.5.3              \n",
      "astropy                            2.0.2              \n",
      "babel                              2.5.0              \n",
      "backports.shutil-get-terminal-size 1.0.0              \n",
      "beautifulsoup4                     4.6.0              \n",
      "bitarray                           0.8.1              \n",
      "bkcharts                           0.2                \n",
      "blaze                              0.11.3             \n",
      "bleach                             2.0.0              \n",
      "bokeh                              0.12.16            \n",
      "boto                               2.48.0             \n",
      "Bottleneck                         1.2.1              \n",
      "CacheControl                       0.12.3             \n",
      "certifi                            2018.4.16          \n",
      "cffi                               1.10.0             \n",
      "chardet                            3.0.4              \n",
      "click                              6.7                \n",
      "cloudpickle                        0.4.0              \n",
      "clyent                             1.2.2              \n",
      "colorama                           0.3.9              \n",
      "comtypes                           1.1.2              \n",
      "conda                              4.5.4              \n",
      "conda-build                        3.0.27             \n",
      "conda-verify                       2.0.0              \n",
      "contextlib2                        0.5.5              \n",
      "cryptography                       2.0.3              \n",
      "cycler                             0.10.0             \n",
      "Cython                             0.26.1             \n",
      "cytoolz                            0.8.2              \n",
      "dask                               0.15.3             \n",
      "datashape                          0.5.4              \n",
      "decorator                          4.1.2              \n",
      "distlib                            0.2.5              \n",
      "distributed                        1.19.1             \n",
      "docutils                           0.14               \n",
      "entrypoints                        0.2.3              \n",
      "et-xmlfile                         1.0.1              \n",
      "fastcache                          1.0.2              \n",
      "filelock                           2.0.12             \n",
      "Flask                              0.12.2             \n",
      "Flask-Cors                         3.0.3              \n",
      "gevent                             1.2.2              \n",
      "glob2                              0.5                \n",
      "greenlet                           0.4.12             \n",
      "h5py                               2.7.0              \n",
      "heapdict                           1.0.0              \n",
      "html5lib                           0.999999999        \n",
      "idna                               2.6                \n",
      "imageio                            2.2.0              \n",
      "imagesize                          0.7.1              \n",
      "ipykernel                          4.6.1              \n",
      "ipython                            6.1.0              \n",
      "ipython-genutils                   0.2.0              \n",
      "ipywidgets                         7.0.0              \n",
      "isort                              4.2.15             \n",
      "itsdangerous                       0.24               \n",
      "jdcal                              1.3                \n",
      "jedi                               0.10.2             \n",
      "Jinja2                             2.9.6              \n",
      "jsonschema                         2.6.0              \n",
      "jupyter-client                     5.2.2              \n",
      "jupyter-console                    5.2.0              \n",
      "jupyter-contrib-core               0.3.3              \n",
      "jupyter-contrib-nbextensions       0.3.3              \n",
      "jupyter-core                       4.4.0              \n",
      "jupyter-highlight-selected-word    0.1.0              \n",
      "jupyter-latex-envs                 1.3.8.2            \n",
      "jupyter-nbextensions-configurator  0.4.0              \n",
      "jupyterlab                         0.32.1             \n",
      "jupyterlab-launcher                0.10.2             \n",
      "kiwisolver                         1.0.1              \n",
      "lazy-object-proxy                  1.3.1              \n",
      "llvmlite                           0.20.0             \n",
      "locket                             0.2.0              \n",
      "lockfile                           0.12.2             \n",
      "lxml                               4.1.0              \n",
      "MarkupSafe                         1.0                \n",
      "matplotlib                         2.2.2              \n",
      "mccabe                             0.6.1              \n",
      "menuinst                           1.4.10             \n",
      "mistune                            0.7.4              \n",
      "mizani                             0.4.4              \n",
      "mkl-fft                            1.0.0              \n",
      "mkl-random                         1.0.1              \n",
      "mpmath                             0.19               \n",
      "msgpack-python                     0.4.8              \n",
      "multipledispatch                   0.4.9              \n",
      "navigator-updater                  0.1.0              \n",
      "nbconvert                          5.3.1              \n",
      "nbformat                           4.4.0              \n",
      "nbmerge                            0.0.4              \n",
      "networkx                           2.0                \n",
      "nltk                               3.2.4              \n",
      "nose                               1.3.7              \n",
      "notebook                           5.5.0              \n",
      "numba                              0.35.0+10.g143f70e \n",
      "numexpr                            2.6.2              \n",
      "numpy                              1.13.3             \n",
      "numpydoc                           0.7.0              \n",
      "odo                                0.5.1              \n",
      "olefile                            0.44               \n",
      "openpyxl                           2.4.8              \n",
      "packaging                          16.8               \n",
      "palettable                         3.1.0              \n",
      "pandas                             0.23.0             \n",
      "pandocfilters                      1.4.2              \n",
      "partd                              0.3.8              \n",
      "path.py                            10.3.1             \n",
      "pathlib2                           2.3.0              \n",
      "patsy                              0.4.1              \n",
      "pep8                               1.7.0              \n",
      "pickleshare                        0.7.4              \n",
      "Pillow                             4.2.1              \n",
      "pip                                10.0.1             \n",
      "pkginfo                            1.4.1              \n",
      "plotnine                           0.3.0              \n",
      "ply                                3.10               \n",
      "plydata                            0.3.2              \n",
      "progress                           1.3                \n",
      "prompt-toolkit                     1.0.15             \n",
      "psutil                             5.4.0              \n",
      "py                                 1.4.34             \n",
      "pycodestyle                        2.3.1              \n",
      "pycosat                            0.6.3              \n",
      "pycparser                          2.18               \n",
      "pycrypto                           2.6.1              \n",
      "pycurl                             7.43.0             \n",
      "pyflakes                           1.6.0              \n",
      "Pygments                           2.2.0              \n",
      "pylint                             1.7.4              \n",
      "pyodbc                             4.0.17             \n",
      "pyOpenSSL                          17.2.0             \n",
      "pyparsing                          2.2.0              \n",
      "PySocks                            1.6.7              \n",
      "pytest                             3.2.1              \n",
      "python-dateutil                    2.6.1              \n",
      "pytz                               2017.2             \n",
      "PyWavelets                         0.5.2              \n",
      "pywin32                            221                \n",
      "pywinpty                           0.5.1              \n",
      "PyYAML                             3.12               \n",
      "pyzmq                              17.0.0             \n",
      "QtAwesome                          0.4.4              \n",
      "qtconsole                          4.3.1              \n",
      "QtPy                               1.4.2              \n",
      "requests                           2.18.4             \n",
      "rope                               0.10.5             \n",
      "ruamel-yaml                        0.11.14            \n",
      "scikit-image                       0.13.1             \n",
      "scikit-learn                       0.19.1             \n",
      "scipy                              1.1.0              \n",
      "seaborn                            0.8.1              \n",
      "Send2Trash                         1.4.2              \n",
      "setuptools                         36.5.0.post20170921\n",
      "simplegeneric                      0.8.1              \n",
      "singledispatch                     3.4.0.3            \n",
      "six                                1.11.0             \n",
      "snowballstemmer                    1.2.1              \n",
      "sortedcollections                  0.5.3              \n",
      "sortedcontainers                   1.5.7              \n",
      "Sphinx                             1.6.3              \n",
      "sphinxcontrib-websupport           1.0.1              \n",
      "spyder                             3.2.8              \n",
      "spyder-notebook                    0.1.1              \n",
      "SQLAlchemy                         1.1.13             \n",
      "statsmodels                        0.8.0              \n",
      "sympy                              1.1.1              \n",
      "tables                             3.4.2              \n",
      "tblib                              1.3.2              \n",
      "terminado                          0.8.1              \n",
      "testpath                           0.3.1              \n",
      "toolz                              0.8.2              \n",
      "tornado                            4.5.2              \n",
      "traitlets                          4.3.2              \n",
      "typing                             3.6.2              \n",
      "unicodecsv                         0.14.1             \n",
      "urllib3                            1.22               \n",
      "wcwidth                            0.1.7              \n",
      "webencodings                       0.5.1              \n",
      "Werkzeug                           0.12.2             \n",
      "wheel                              0.29.0             \n",
      "widgetsnbextension                 3.0.2              \n",
      "win-inet-pton                      1.0.1              \n",
      "win-unicode-console                0.5                \n",
      "wincertstore                       0.2                \n",
      "wrapt                              1.10.11            \n",
      "xlrd                               1.1.0              \n",
      "XlsxWriter                         1.0.2              \n",
      "xlwings                            0.11.4             \n",
      "xlwt                               1.3.0              \n",
      "zict                               0.1.3              \n"
     ]
    }
   ],
   "source": [
    "!pip list"
   ]
  },
  {
   "cell_type": "markdown",
   "metadata": {},
   "source": [
    "#### Package Installation\n",
    "```\n",
    "pip install <package_name>\n",
    "\n",
    "pip install plydata\n",
    "```"
   ]
  },
  {
   "cell_type": "markdown",
   "metadata": {
    "heading_collapsed": true
   },
   "source": [
    "# Python Fundamental"
   ]
  },
  {
   "cell_type": "markdown",
   "metadata": {
    "hidden": true
   },
   "source": [
    "## Variable and Values\n",
    "- Every varibales in python are **objects**  \n",
    "- Every variable assginment is **reference based**, that is, each object value is the reference to memory block of data "
   ]
  },
  {
   "cell_type": "code",
   "execution_count": 10,
   "metadata": {
    "hidden": true
   },
   "outputs": [
    {
     "name": "stdout",
     "output_type": "stream",
     "text": [
      "Data of a = 123 \n",
      "Data of b = 123\n",
      "ID of a =  1881045888\n",
      "ID of b =  1881045888\n"
     ]
    }
   ],
   "source": [
    "# a,b refer to the same memory location\n",
    "a = 123\n",
    "b = a  \n",
    "print ('Data of a =',a,'\\nData of b =',b)\n",
    "print ('ID of a = ', id(a))\n",
    "print ('ID of b = ',id(b))"
   ]
  },
  {
   "cell_type": "markdown",
   "metadata": {
    "hidden": true
   },
   "source": [
    "Changing data value (using assignment) actually changed the reference value"
   ]
  },
  {
   "cell_type": "code",
   "execution_count": 11,
   "metadata": {
    "hidden": true
   },
   "outputs": [
    {
     "name": "stdout",
     "output_type": "stream",
     "text": [
      "Data of a = 456 \n",
      "Data of b = 123\n",
      "ID of a =  2208390210320\n",
      "ID of b =  1881045888\n"
     ]
    }
   ],
   "source": [
    "a = 123\n",
    "b = a\n",
    "a = 456  # reassignemnt changed a memory reference\n",
    "         # b memory reference not changed\n",
    "print ('Data of a =',a,'\\nData of b =',b)\n",
    "print ('ID of a = ', id(a))\n",
    "print ('ID of b = ',id(b))"
   ]
  },
  {
   "cell_type": "markdown",
   "metadata": {
    "heading_collapsed": true,
    "hidden": true
   },
   "source": [
    "## Assignment"
   ]
  },
  {
   "cell_type": "markdown",
   "metadata": {
    "hidden": true
   },
   "source": [
    "### Multiple Assignment"
   ]
  },
  {
   "cell_type": "code",
   "execution_count": 12,
   "metadata": {
    "hidden": true
   },
   "outputs": [
    {
     "name": "stdout",
     "output_type": "stream",
     "text": [
      "3 3\n"
     ]
    }
   ],
   "source": [
    "x = y = 3\n",
    "print (x,y)"
   ]
  },
  {
   "cell_type": "markdown",
   "metadata": {
    "hidden": true
   },
   "source": [
    "### Augmented Assignment"
   ]
  },
  {
   "cell_type": "code",
   "execution_count": 13,
   "metadata": {
    "hidden": true
   },
   "outputs": [
    {
     "name": "stdout",
     "output_type": "stream",
     "text": [
      "3\n"
     ]
    }
   ],
   "source": [
    "x = 1\n",
    "y = x + 1\n",
    "y += 1\n",
    "print (y)"
   ]
  },
  {
   "cell_type": "markdown",
   "metadata": {
    "hidden": true
   },
   "source": [
    "### Unpacking Assingment"
   ]
  },
  {
   "cell_type": "code",
   "execution_count": 14,
   "metadata": {
    "hidden": true
   },
   "outputs": [
    {
     "name": "stdout",
     "output_type": "stream",
     "text": [
      "1 3\n"
     ]
    }
   ],
   "source": [
    "x,y = 1,3\n",
    "print (x,y)"
   ]
  },
  {
   "cell_type": "markdown",
   "metadata": {
    "heading_collapsed": true
   },
   "source": [
    "# Built-in Data Types"
   ]
  },
  {
   "cell_type": "markdown",
   "metadata": {
    "heading_collapsed": true,
    "hidden": true
   },
   "source": [
    "## Numbers"
   ]
  },
  {
   "cell_type": "markdown",
   "metadata": {
    "hidden": true
   },
   "source": [
    "### Integer"
   ]
  },
  {
   "cell_type": "code",
   "execution_count": 15,
   "metadata": {
    "hidden": true
   },
   "outputs": [
    {
     "data": {
      "text/plain": [
       "int"
      ]
     },
     "execution_count": 15,
     "metadata": {},
     "output_type": "execute_result"
    }
   ],
   "source": [
    "n = 123\n",
    "type (n)"
   ]
  },
  {
   "cell_type": "markdown",
   "metadata": {
    "hidden": true
   },
   "source": [
    "### Float"
   ]
  },
  {
   "cell_type": "code",
   "execution_count": 16,
   "metadata": {
    "hidden": true
   },
   "outputs": [
    {
     "data": {
      "text/plain": [
       "float"
      ]
     },
     "execution_count": 16,
     "metadata": {},
     "output_type": "execute_result"
    }
   ],
   "source": [
    "f = 123.4\n",
    "type (f)"
   ]
  },
  {
   "cell_type": "markdown",
   "metadata": {
    "hidden": true
   },
   "source": [
    "### Number Operators"
   ]
  },
  {
   "cell_type": "markdown",
   "metadata": {
    "hidden": true
   },
   "source": [
    "**Division** always return float"
   ]
  },
  {
   "cell_type": "code",
   "execution_count": 17,
   "metadata": {
    "hidden": true
   },
   "outputs": [
    {
     "name": "stdout",
     "output_type": "stream",
     "text": [
      "2.0\n"
     ]
    },
    {
     "data": {
      "text/plain": [
       "float"
      ]
     },
     "execution_count": 17,
     "metadata": {},
     "output_type": "execute_result"
    }
   ],
   "source": [
    "print(4/2)  # return int\n",
    "type(4/2)"
   ]
  },
  {
   "cell_type": "markdown",
   "metadata": {
    "hidden": true
   },
   "source": [
    "**Integer Division** return truncated int or float"
   ]
  },
  {
   "cell_type": "code",
   "execution_count": 18,
   "metadata": {
    "hidden": true
   },
   "outputs": [
    {
     "name": "stdout",
     "output_type": "stream",
     "text": [
      "2\n",
      "2.0\n"
     ]
    }
   ],
   "source": [
    "print (8//3)    # return int\n",
    "print (8//3.2)  # return float"
   ]
  },
  {
   "cell_type": "markdown",
   "metadata": {
    "hidden": true
   },
   "source": [
    "**Remainder** return either float or integer"
   ]
  },
  {
   "cell_type": "code",
   "execution_count": 19,
   "metadata": {
    "hidden": true
   },
   "outputs": [
    {
     "name": "stdout",
     "output_type": "stream",
     "text": [
      "2\n",
      "1.5999999999999996\n"
     ]
    }
   ],
   "source": [
    "print (8%3)    # return int\n",
    "print (8%3.2)  # return float"
   ]
  },
  {
   "cell_type": "markdown",
   "metadata": {
    "hidden": true
   },
   "source": [
    "**Power** return int or float"
   ]
  },
  {
   "cell_type": "code",
   "execution_count": 20,
   "metadata": {
    "hidden": true
   },
   "outputs": [
    {
     "name": "stdout",
     "output_type": "stream",
     "text": [
      "8\n",
      "9.261000000000001\n",
      "8.574187700290345\n"
     ]
    }
   ],
   "source": [
    "print (2**3)    # return int\n",
    "print (2.1**3)  # return float\n",
    "print (2**3.1)  # return float"
   ]
  },
  {
   "cell_type": "markdown",
   "metadata": {
    "hidden": true
   },
   "source": [
    "## String\n",
    "String is a **ordered collection of letters**  "
   ]
  },
  {
   "cell_type": "markdown",
   "metadata": {
    "hidden": true
   },
   "source": [
    "### Immutable\n",
    "- String is **immuatable**. Changing its content will result in **error** \n",
    "- Changing the variable completley change the reference"
   ]
  },
  {
   "cell_type": "code",
   "execution_count": 21,
   "metadata": {
    "hidden": true
   },
   "outputs": [
    {
     "name": "stdout",
     "output_type": "stream",
     "text": [
      "s :  2208390536864\n",
      "s :  2208390535744\n"
     ]
    }
   ],
   "source": [
    "s = 'abcde'\n",
    "print ('s : ', id(s))\n",
    "s = 'efgh'\n",
    "print ('s : ', id(s))"
   ]
  },
  {
   "cell_type": "code",
   "execution_count": 22,
   "metadata": {
    "hidden": true
   },
   "outputs": [],
   "source": [
    "## s[1] = 'z' # error"
   ]
  },
  {
   "cell_type": "markdown",
   "metadata": {
    "hidden": true
   },
   "source": [
    "### Slicing\n",
    "```\n",
    "string[start:end:step]  # default step:1, start:0, end:last\n",
    "```\n",
    "If step is negative, start value must be lower than end value"
   ]
  },
  {
   "cell_type": "code",
   "execution_count": 23,
   "metadata": {
    "hidden": true
   },
   "outputs": [
    {
     "name": "stdout",
     "output_type": "stream",
     "text": [
      "a\n",
      "abc\n",
      "ceg\n",
      "k\n",
      "ijk\n",
      "kjihgfedcba\n",
      "ihgfed\n"
     ]
    }
   ],
   "source": [
    "s = 'abcdefghijk'\n",
    "print (s[0])      # first later\n",
    "print (s[:3])     # first 3 letters\n",
    "print (s[2:8:2])  # stepping\n",
    "print (s[-1])     # last letter\n",
    "print (s[-3:])    # last three letters\n",
    "print (s[::-1])   # reverse everything\n",
    "print (s[8:2:-1])"
   ]
  },
  {
   "cell_type": "markdown",
   "metadata": {
    "hidden": true
   },
   "source": [
    "### Searching\n",
    "```\n",
    "string.find() return position of first occurance. **-1 if not found**\n",
    "```"
   ]
  },
  {
   "cell_type": "code",
   "execution_count": 24,
   "metadata": {
    "hidden": true
   },
   "outputs": [
    {
     "name": "stdout",
     "output_type": "stream",
     "text": [
      "2\n",
      "-1\n"
     ]
    }
   ],
   "source": [
    "s='I love karaoke, I know you love it oo'\n",
    "print (s.find('lov'))\n",
    "print (s.find('kemuning'))"
   ]
  },
  {
   "cell_type": "markdown",
   "metadata": {
    "hidden": true
   },
   "source": [
    "### Concatenating Strings"
   ]
  },
  {
   "cell_type": "code",
   "execution_count": 25,
   "metadata": {
    "hidden": true
   },
   "outputs": [
    {
     "data": {
      "text/plain": [
       "'this is awesome'"
      ]
     },
     "execution_count": 25,
     "metadata": {},
     "output_type": "execute_result"
    }
   ],
   "source": [
    "'this is ' + 'awesome'"
   ]
  },
  {
   "cell_type": "markdown",
   "metadata": {
    "hidden": true
   },
   "source": [
    "### Splitting Strings\n",
    "Splitting delimeter is specified. Observe the empty spaces were conserved in result array"
   ]
  },
  {
   "cell_type": "code",
   "execution_count": 26,
   "metadata": {
    "hidden": true
   },
   "outputs": [
    {
     "data": {
      "text/plain": [
       "['a1', 'a2 ', 'a3', ' a4']"
      ]
     },
     "execution_count": 26,
     "metadata": {},
     "output_type": "execute_result"
    }
   ],
   "source": [
    "animals = 'a1,a2 ,a3, a4'\n",
    "animals.split(',')"
   ]
  },
  {
   "cell_type": "markdown",
   "metadata": {
    "hidden": true
   },
   "source": [
    "### Stripping Off Trailing Empty Spaces (Front and Back)"
   ]
  },
  {
   "cell_type": "code",
   "execution_count": 27,
   "metadata": {
    "hidden": true
   },
   "outputs": [
    {
     "data": {
      "text/plain": [
       "'myexce l.   xls'"
      ]
     },
     "execution_count": 27,
     "metadata": {},
     "output_type": "execute_result"
    }
   ],
   "source": [
    "filename = '  myexce l.   xls   '\n",
    "filename.strip()"
   ]
  },
  {
   "cell_type": "markdown",
   "metadata": {
    "hidden": true
   },
   "source": [
    "### Convert to Upper/Lower Case"
   ]
  },
  {
   "cell_type": "code",
   "execution_count": 28,
   "metadata": {
    "hidden": true
   },
   "outputs": [
    {
     "data": {
      "text/plain": [
       "'MYEXEEL.XLS'"
      ]
     },
     "execution_count": 28,
     "metadata": {},
     "output_type": "execute_result"
    }
   ],
   "source": [
    "filename = 'myEXEel.xls'\n",
    "filename.upper()"
   ]
  },
  {
   "cell_type": "code",
   "execution_count": 29,
   "metadata": {
    "hidden": true
   },
   "outputs": [
    {
     "data": {
      "text/plain": [
       "'myexeel.xls'"
      ]
     },
     "execution_count": 29,
     "metadata": {},
     "output_type": "execute_result"
    }
   ],
   "source": [
    "filename.lower()"
   ]
  },
  {
   "cell_type": "markdown",
   "metadata": {
    "hidden": true
   },
   "source": [
    "## Boolean"
   ]
  },
  {
   "cell_type": "code",
   "execution_count": 30,
   "metadata": {
    "code_folding": [],
    "hidden": true
   },
   "outputs": [
    {
     "name": "stdout",
     "output_type": "stream",
     "text": [
      "It is fake\n"
     ]
    }
   ],
   "source": [
    "b = False\n",
    "\n",
    "if (b):\n",
    "    print ('It is true')\n",
    "else:\n",
    "    print ('It is fake')\n",
    "    "
   ]
  },
  {
   "cell_type": "markdown",
   "metadata": {
    "hidden": true
   },
   "source": [
    "### What is Considered False ?\n",
    "Everything below are false, anything else are true"
   ]
  },
  {
   "cell_type": "code",
   "execution_count": 31,
   "metadata": {
    "hidden": true
   },
   "outputs": [
    {
     "name": "stdout",
     "output_type": "stream",
     "text": [
      "False\n",
      "False\n",
      "False\n",
      "False\n",
      "False\n",
      "False\n",
      "False\n"
     ]
    }
   ],
   "source": [
    "print (bool(0))      # zero\n",
    "print (bool(None))   # none\n",
    "print (bool(''))     # empty string\n",
    "print (bool([]))     # empty list\n",
    "print (bool(()))     # empty tupple\n",
    "print (bool(False))  # False\n",
    "print (bool(2-2))    # expression that return any value above"
   ]
  },
  {
   "cell_type": "markdown",
   "metadata": {
    "hidden": true
   },
   "source": [
    "### 'and' operator\n",
    "- **and** can return different data types  \n",
    "- If evaluated result is **True**, the last **True Value** is returned (because python need to evaluate up to the last value)  \n",
    "- If evaluated result is **False**, the first **False Value** will be returned (because python return it immediately when detecting False value)"
   ]
  },
  {
   "cell_type": "code",
   "execution_count": 32,
   "metadata": {
    "hidden": true
   },
   "outputs": [
    {
     "name": "stdout",
     "output_type": "stream",
     "text": [
      "1\n",
      "()\n"
     ]
    }
   ],
   "source": [
    "print (123 and 2 and 1)\n",
    "print (123 and () and 2)"
   ]
  },
  {
   "cell_type": "markdown",
   "metadata": {
    "hidden": true
   },
   "source": [
    "### 'not' operator"
   ]
  },
  {
   "cell_type": "code",
   "execution_count": 33,
   "metadata": {
    "hidden": true
   },
   "outputs": [
    {
     "data": {
      "text/plain": [
       "False"
      ]
     },
     "execution_count": 33,
     "metadata": {},
     "output_type": "execute_result"
    }
   ],
   "source": [
    "not (True or False)"
   ]
  },
  {
   "cell_type": "markdown",
   "metadata": {
    "hidden": true
   },
   "source": [
    "### 'or' operator\n",
    "- **or** can return different data type  \n",
    "- If evaluated result is True, first **True Value** will be returned  (right hand side value **need not be evaluated**)  \n",
    "- If evaluated result is False, last **Fasle Value** will be returned (need to evalute all items before concluding False)"
   ]
  },
  {
   "cell_type": "code",
   "execution_count": 34,
   "metadata": {
    "hidden": true
   },
   "outputs": [
    {
     "name": "stdout",
     "output_type": "stream",
     "text": [
      "1\n",
      "1\n",
      "[]\n"
     ]
    }
   ],
   "source": [
    "print (1 or 2)\n",
    "print (0 or 1 or 1)\n",
    "print (0 or () or [])"
   ]
  },
  {
   "cell_type": "markdown",
   "metadata": {
    "hidden": true
   },
   "source": [
    "## None\n",
    "- None is a Python **object**  \n",
    "- Any operation to None object will result in **error**  \n",
    "- For array data with None elements, verification is required to check through iteration to determine if the item is not None. It is very computaionaly heavy "
   ]
  },
  {
   "cell_type": "code",
   "execution_count": 35,
   "metadata": {
    "hidden": true
   },
   "outputs": [
    {
     "data": {
      "text/plain": [
       "dtype('int32')"
      ]
     },
     "execution_count": 35,
     "metadata": {},
     "output_type": "execute_result"
    }
   ],
   "source": [
    "t = np.array([1,2,3,4,5])\n",
    "t.dtype  #  its an integer"
   ]
  },
  {
   "cell_type": "code",
   "execution_count": 36,
   "metadata": {
    "hidden": true
   },
   "outputs": [
    {
     "data": {
      "text/plain": [
       "dtype('O')"
      ]
     },
     "execution_count": 36,
     "metadata": {},
     "output_type": "execute_result"
    }
   ],
   "source": [
    "t = np.array([1, 2, 3, None, 4, 5])\n",
    "t.dtype  # it's an object"
   ]
  },
  {
   "cell_type": "markdown",
   "metadata": {},
   "source": [
    "# Built-In Data Structure"
   ]
  },
  {
   "cell_type": "markdown",
   "metadata": {},
   "source": [
    "## Tuple\n",
    "Tuple is an **immutable list**. Any attempt to change/update tuple will return error.\n",
    "\n",
    "Benefits of tuple against List are:\n",
    "- **Faster** than list\n",
    "- **Protects** your data against accidental change\n",
    "- Can be used as key in dictionaries, list can't"
   ]
  },
  {
   "cell_type": "markdown",
   "metadata": {},
   "source": [
    "### Assignment"
   ]
  },
  {
   "cell_type": "markdown",
   "metadata": {},
   "source": [
    "#### (item1, item2, item3)\n",
    "This is a formal syntax for defining tuple, items inside (  ) notation"
   ]
  },
  {
   "cell_type": "code",
   "execution_count": 37,
   "metadata": {},
   "outputs": [
    {
     "data": {
      "text/plain": [
       "(1, 2, 3, 'o', 'apple')"
      ]
     },
     "execution_count": 37,
     "metadata": {},
     "output_type": "execute_result"
    }
   ],
   "source": [
    "t = (1,2,3,'o','apple')\n",
    "t"
   ]
  },
  {
   "cell_type": "code",
   "execution_count": 38,
   "metadata": {},
   "outputs": [
    {
     "data": {
      "text/plain": [
       "tuple"
      ]
     },
     "execution_count": 38,
     "metadata": {},
     "output_type": "execute_result"
    }
   ],
   "source": [
    "type(t)"
   ]
  },
  {
   "cell_type": "markdown",
   "metadata": {},
   "source": [
    "#### item1, item2, item3\n",
    "- Without (  ) notation, it is also considered as tuple  \n",
    "- However, some functions may not consider this method "
   ]
  },
  {
   "cell_type": "code",
   "execution_count": 39,
   "metadata": {},
   "outputs": [
    {
     "data": {
      "text/plain": [
       "(1, 2, 3, 'o', 'apple')"
      ]
     },
     "execution_count": 39,
     "metadata": {},
     "output_type": "execute_result"
    }
   ],
   "source": [
    "1,2,3,'o','apple'"
   ]
  },
  {
   "cell_type": "markdown",
   "metadata": {},
   "source": [
    "### Accessing"
   ]
  },
  {
   "cell_type": "code",
   "execution_count": 40,
   "metadata": {},
   "outputs": [
    {
     "name": "stdout",
     "output_type": "stream",
     "text": [
      "2\n",
      "<class 'int'>\n"
     ]
    }
   ],
   "source": [
    "print (t[1])\n",
    "print (type(t[1]))"
   ]
  },
  {
   "cell_type": "code",
   "execution_count": 41,
   "metadata": {
    "scrolled": true
   },
   "outputs": [
    {
     "name": "stdout",
     "output_type": "stream",
     "text": [
      "(2, 3)\n"
     ]
    },
    {
     "data": {
      "text/plain": [
       "list"
      ]
     },
     "execution_count": 41,
     "metadata": {},
     "output_type": "execute_result"
    }
   ],
   "source": [
    "print (t[1:3])\n",
    "type ([t[1:3]])"
   ]
  },
  {
   "cell_type": "markdown",
   "metadata": {},
   "source": [
    "## List\n",
    "- List is a collection of **ordered** items, where the items **can be different data types**  \n",
    "- You can pack list of items by placing them into []  \n",
    "- List is mutable"
   ]
  },
  {
   "cell_type": "markdown",
   "metadata": {},
   "source": [
    "### Creating List\n",
    "**Creating Empty List**"
   ]
  },
  {
   "cell_type": "code",
   "execution_count": 42,
   "metadata": {},
   "outputs": [
    {
     "name": "stdout",
     "output_type": "stream",
     "text": [
      "[]\n"
     ]
    },
    {
     "data": {
      "text/plain": [
       "list"
      ]
     },
     "execution_count": 42,
     "metadata": {},
     "output_type": "execute_result"
    }
   ],
   "source": [
    "empty = []      # literal assignment method\n",
    "empty = list()  # constructor method\n",
    "print (empty)\n",
    "type(empty)"
   ]
  },
  {
   "cell_type": "markdown",
   "metadata": {},
   "source": [
    "**Creating List using Literal Assignment Method**  \n",
    "- **Multiple data types** is allowed in a list"
   ]
  },
  {
   "cell_type": "code",
   "execution_count": 43,
   "metadata": {},
   "outputs": [],
   "source": [
    "mylist = [123,'abc',456]"
   ]
  },
  {
   "cell_type": "code",
   "execution_count": 44,
   "metadata": {},
   "outputs": [],
   "source": [
    "food = ['bread','noodle','rice','biscuit']"
   ]
  },
  {
   "cell_type": "markdown",
   "metadata": {},
   "source": [
    "**Creating List using Constructor Method**  \n",
    "- Note that **list(string)** will split the string into letters"
   ]
  },
  {
   "cell_type": "code",
   "execution_count": 45,
   "metadata": {},
   "outputs": [
    {
     "data": {
      "text/plain": [
       "['h', 'e', 'l', 'l', 'o']"
      ]
     },
     "execution_count": 45,
     "metadata": {},
     "output_type": "execute_result"
    }
   ],
   "source": [
    "list('hello')"
   ]
  },
  {
   "cell_type": "markdown",
   "metadata": {},
   "source": [
    "**Creating List using split() method**  \n",
    "- Split base on spaces (by default) to create a list item"
   ]
  },
  {
   "cell_type": "code",
   "execution_count": 46,
   "metadata": {},
   "outputs": [
    {
     "data": {
      "text/plain": [
       "['a', 'bunch', 'of', 'words']"
      ]
     },
     "execution_count": 46,
     "metadata": {},
     "output_type": "execute_result"
    }
   ],
   "source": [
    "'a bunch of words'.split()"
   ]
  },
  {
   "cell_type": "markdown",
   "metadata": {},
   "source": [
    "- Split can also break into items base on specified delimter"
   ]
  },
  {
   "cell_type": "code",
   "execution_count": 47,
   "metadata": {},
   "outputs": [
    {
     "data": {
      "text/plain": [
       "['a1', 'a2', 'a3', ' a4']"
      ]
     },
     "execution_count": 47,
     "metadata": {},
     "output_type": "execute_result"
    }
   ],
   "source": [
    "'a1,a2,a3, a4'.split(',')"
   ]
  },
  {
   "cell_type": "markdown",
   "metadata": {},
   "source": [
    "### Accessing Items"
   ]
  },
  {
   "cell_type": "markdown",
   "metadata": {},
   "source": [
    "**Access specific index number**"
   ]
  },
  {
   "cell_type": "code",
   "execution_count": 48,
   "metadata": {},
   "outputs": [
    {
     "name": "stdout",
     "output_type": "stream",
     "text": [
      "rice\n",
      "cake\n"
     ]
    }
   ],
   "source": [
    "food = list(['bread', 'noodle', 'rice', 'biscuit','jelly','cake'])\n",
    "print (food[2])  # 3rd item\n",
    "print (food[-1]) # last item"
   ]
  },
  {
   "cell_type": "markdown",
   "metadata": {},
   "source": [
    "**Access range of indexes**"
   ]
  },
  {
   "cell_type": "code",
   "execution_count": 49,
   "metadata": {},
   "outputs": [
    {
     "name": "stdout",
     "output_type": "stream",
     "text": [
      "['bread', 'noodle', 'rice', 'biscuit']\n",
      "['biscuit', 'jelly', 'cake']\n",
      "['noodle', 'rice', 'biscuit', 'jelly']\n",
      "['cake', 'jelly', 'biscuit']\n",
      "['cake', 'jelly', 'biscuit', 'rice', 'noodle', 'bread']\n"
     ]
    }
   ],
   "source": [
    "print (food[:4])   # first 3 items\n",
    "print (food[-3:])  # last 3 items\n",
    "print (food[1:5])  # item 1 to 4\n",
    "print (food[5:2:-1]) # item 3 to 5, reverse order\n",
    "print (food[::-1]) # reverse order"
   ]
  },
  {
   "cell_type": "markdown",
   "metadata": {},
   "source": [
    "### Properties"
   ]
  },
  {
   "cell_type": "markdown",
   "metadata": {},
   "source": [
    "**Total Number of Items**"
   ]
  },
  {
   "cell_type": "code",
   "execution_count": 50,
   "metadata": {},
   "outputs": [
    {
     "data": {
      "text/plain": [
       "6"
      ]
     },
     "execution_count": 50,
     "metadata": {},
     "output_type": "execute_result"
    }
   ],
   "source": [
    "len(food)"
   ]
  },
  {
   "cell_type": "markdown",
   "metadata": {},
   "source": [
    "### Remove Item(s)\n",
    "**Search and remove first occurance** of an item"
   ]
  },
  {
   "cell_type": "code",
   "execution_count": 51,
   "metadata": {},
   "outputs": [
    {
     "name": "stdout",
     "output_type": "stream",
     "text": [
      "['bread', 'rice', 'biscuit', 'jelly', 'cake', 'noodle']\n"
     ]
    }
   ],
   "source": [
    "food = list(['bread', 'noodle', 'rice', 'biscuit','jelly','cake','noodle'])\n",
    "food.remove('noodle')\n",
    "print (food)"
   ]
  },
  {
   "cell_type": "markdown",
   "metadata": {},
   "source": [
    "**Remove last item**"
   ]
  },
  {
   "cell_type": "code",
   "execution_count": 52,
   "metadata": {},
   "outputs": [
    {
     "name": "stdout",
     "output_type": "stream",
     "text": [
      "['bread', 'rice', 'biscuit', 'jelly', 'cake']\n"
     ]
    }
   ],
   "source": [
    "food.pop()\n",
    "print (food)"
   ]
  },
  {
   "cell_type": "markdown",
   "metadata": {},
   "source": [
    "**Remove item at specific position**"
   ]
  },
  {
   "cell_type": "code",
   "execution_count": 53,
   "metadata": {},
   "outputs": [
    {
     "name": "stdout",
     "output_type": "stream",
     "text": [
      "['bread', 'biscuit', 'jelly', 'cake']\n"
     ]
    }
   ],
   "source": [
    "food.pop(1)  # counter start from 0\n",
    "print(food)"
   ]
  },
  {
   "cell_type": "markdown",
   "metadata": {},
   "source": [
    "### Appending Item (s)"
   ]
  },
  {
   "cell_type": "markdown",
   "metadata": {},
   "source": [
    "**Append One Item**"
   ]
  },
  {
   "cell_type": "code",
   "execution_count": 54,
   "metadata": {},
   "outputs": [
    {
     "name": "stdout",
     "output_type": "stream",
     "text": [
      "['bread', 'biscuit', 'jelly', 'cake', 'jelly']\n"
     ]
    }
   ],
   "source": [
    "food.append('jelly')\n",
    "print (food)"
   ]
  },
  {
   "cell_type": "markdown",
   "metadata": {},
   "source": [
    "**Append Multiple Items**  \n",
    "**extend()** will expand the list/tupple argument and append as multiple items"
   ]
  },
  {
   "cell_type": "code",
   "execution_count": 55,
   "metadata": {},
   "outputs": [
    {
     "name": "stdout",
     "output_type": "stream",
     "text": [
      "['bread', 'biscuit', 'jelly', 'cake', 'jelly', 'nand', 'puff']\n"
     ]
    }
   ],
   "source": [
    "food.extend(['nand','puff'])\n",
    "print (food)"
   ]
  },
  {
   "cell_type": "markdown",
   "metadata": {},
   "source": [
    "### Concateneting Multiple Lists"
   ]
  },
  {
   "cell_type": "markdown",
   "metadata": {},
   "source": [
    "**Concatenating Lists**\n",
    "Although you can use '+' operator, however '-' operator is not supported"
   ]
  },
  {
   "cell_type": "code",
   "execution_count": 56,
   "metadata": {},
   "outputs": [
    {
     "data": {
      "text/plain": [
       "['dog', 'cat', 'horse', 'elephant', 'tiger', 'sheep']"
      ]
     },
     "execution_count": 56,
     "metadata": {},
     "output_type": "execute_result"
    }
   ],
   "source": [
    "['dog','cat','horse'] + ['elephant','tiger'] + ['sheep']"
   ]
  },
  {
   "cell_type": "markdown",
   "metadata": {},
   "source": [
    "### Other Methods ###"
   ]
  },
  {
   "cell_type": "markdown",
   "metadata": {},
   "source": [
    "**Reversing the order of the items**"
   ]
  },
  {
   "cell_type": "code",
   "execution_count": 57,
   "metadata": {},
   "outputs": [
    {
     "data": {
      "text/plain": [
       "['puff', 'nand', 'jelly', 'cake', 'jelly', 'biscuit', 'bread']"
      ]
     },
     "execution_count": 57,
     "metadata": {},
     "output_type": "execute_result"
    }
   ],
   "source": [
    "food.reverse()\n",
    "food"
   ]
  },
  {
   "cell_type": "markdown",
   "metadata": {},
   "source": [
    "**Locating the Index Number of An Item**"
   ]
  },
  {
   "cell_type": "code",
   "execution_count": 58,
   "metadata": {},
   "outputs": [
    {
     "data": {
      "text/plain": [
       "5"
      ]
     },
     "execution_count": 58,
     "metadata": {},
     "output_type": "execute_result"
    }
   ],
   "source": [
    "food.index('biscuit')"
   ]
  },
  {
   "cell_type": "markdown",
   "metadata": {},
   "source": [
    "**Sorting The Order of Items**"
   ]
  },
  {
   "cell_type": "code",
   "execution_count": 59,
   "metadata": {},
   "outputs": [
    {
     "name": "stdout",
     "output_type": "stream",
     "text": [
      "['biscuit', 'bread', 'cake', 'jelly', 'jelly', 'nand', 'puff']\n"
     ]
    }
   ],
   "source": [
    "food.sort()\n",
    "print (food)"
   ]
  },
  {
   "cell_type": "markdown",
   "metadata": {},
   "source": [
    "### List is Mutable\n",
    "The reference list variable won't change after adding/removing its item"
   ]
  },
  {
   "cell_type": "code",
   "execution_count": 60,
   "metadata": {},
   "outputs": [
    {
     "name": "stdout",
     "output_type": "stream",
     "text": [
      "food :  2208390642696\n",
      "food :  2208390642696\n"
     ]
    }
   ],
   "source": [
    "food = ['cake','jelly','roti','noodle']\n",
    "print ('food : ',id(food))\n",
    "food += ['salad','chicken']\n",
    "print ('food : ',id(food))"
   ]
  },
  {
   "cell_type": "code",
   "execution_count": 61,
   "metadata": {},
   "outputs": [
    {
     "name": "stdout",
     "output_type": "stream",
     "text": [
      "[[1, 2, 3], 'abc']\n",
      "[[1, 2, 'k'], 'abc']\n"
     ]
    }
   ],
   "source": [
    "x = [1,2,3]\n",
    "y = [x,'abc']\n",
    "print (y)\n",
    "x[2] = 'k'\n",
    "print (y)"
   ]
  },
  {
   "cell_type": "markdown",
   "metadata": {},
   "source": [
    "Consider a function is an object, its variable (some_list) is immutable and hence its reference won't change, even data changes"
   ]
  },
  {
   "cell_type": "code",
   "execution_count": 62,
   "metadata": {},
   "outputs": [
    {
     "name": "stdout",
     "output_type": "stream",
     "text": [
      "[1]\n",
      "[1, 2]\n",
      "[1, 2, 3]\n"
     ]
    }
   ],
   "source": [
    "def spam (elem, some_list=[]):\n",
    "    some_list.append(elem)\n",
    "    return some_list\n",
    "\n",
    "print (spam(1))\n",
    "print (spam(2))\n",
    "print (spam(3))"
   ]
  },
  {
   "cell_type": "markdown",
   "metadata": {},
   "source": [
    "## Dictionaries\n",
    "Dictionary is a list of index-value items."
   ]
  },
  {
   "cell_type": "markdown",
   "metadata": {},
   "source": [
    "### Creating dict\n",
    "**Creating dict with literals**"
   ]
  },
  {
   "cell_type": "markdown",
   "metadata": {},
   "source": [
    "Simple Dictionary"
   ]
  },
  {
   "cell_type": "code",
   "execution_count": 63,
   "metadata": {},
   "outputs": [
    {
     "name": "stdout",
     "output_type": "stream",
     "text": [
      "{'cats': 2, 'dogs': 5, 'horses': 4}\n"
     ]
    }
   ],
   "source": [
    "animal_counts = { 'cats' : 2, 'dogs' : 5, 'horses':4}\n",
    "print (animal_counts)"
   ]
  },
  {
   "cell_type": "markdown",
   "metadata": {},
   "source": [
    "Dictionary with list"
   ]
  },
  {
   "cell_type": "code",
   "execution_count": 64,
   "metadata": {},
   "outputs": [
    {
     "name": "stdout",
     "output_type": "stream",
     "text": [
      "{'cats': ['Walter', 'Ra'], 'dogs': ['Jim', 'Roy', 'John', 'Lucky', 'Row'], 'horses': ['Sax', 'Jack', 'Ann', 'Jeep']}\n"
     ]
    }
   ],
   "source": [
    "animal_names = {'cats':   ['Walter','Ra'],\n",
    "                'dogs':   ['Jim','Roy','John','Lucky','Row'],\n",
    "                'horses': ['Sax','Jack','Ann','Jeep']\n",
    "               }\n",
    "print (animal_names)"
   ]
  },
  {
   "cell_type": "markdown",
   "metadata": {},
   "source": [
    "**Creating dict with variables**"
   ]
  },
  {
   "cell_type": "code",
   "execution_count": 65,
   "metadata": {},
   "outputs": [],
   "source": [
    "#cat_names : ['Walter','Ra','Jim']\n",
    "#dog_names  : ['Jim','Roy','John','Lucky','Row']\n",
    "#horse_names: ['Sax','Jack','Ann','Jeep']\n",
    "#animal_names = {'cats': cat_names,'dogs': dog_names, 'horses': horse_names}\n",
    "#animal_names"
   ]
  },
  {
   "cell_type": "markdown",
   "metadata": {},
   "source": [
    "### Accessing dict\n",
    "Find out the list of keys using **keys()**  "
   ]
  },
  {
   "cell_type": "code",
   "execution_count": 66,
   "metadata": {},
   "outputs": [
    {
     "name": "stdout",
     "output_type": "stream",
     "text": [
      "dict_keys(['cats', 'dogs', 'horses'])\n",
      "['cats', 'dogs', 'horses']\n"
     ]
    }
   ],
   "source": [
    "print (animal_counts.keys())\n",
    "print (sorted(animal_counts.keys()))"
   ]
  },
  {
   "cell_type": "markdown",
   "metadata": {},
   "source": [
    "Find out the list of values using **values()**"
   ]
  },
  {
   "cell_type": "code",
   "execution_count": 67,
   "metadata": {},
   "outputs": [
    {
     "name": "stdout",
     "output_type": "stream",
     "text": [
      "dict_values([2, 5, 4])\n",
      "[2, 4, 5]\n"
     ]
    }
   ],
   "source": [
    "print (animal_counts.values())\n",
    "print (sorted(animal_counts.values()))"
   ]
  },
  {
   "cell_type": "markdown",
   "metadata": {},
   "source": [
    "**Refer a dictionary item using index**"
   ]
  },
  {
   "cell_type": "code",
   "execution_count": 68,
   "metadata": {},
   "outputs": [
    {
     "data": {
      "text/plain": [
       "5"
      ]
     },
     "execution_count": 68,
     "metadata": {},
     "output_type": "execute_result"
    }
   ],
   "source": [
    "animal_counts['dogs']"
   ]
  },
  {
   "cell_type": "markdown",
   "metadata": {},
   "source": [
    "**Accessing non-existance key natively will return Error**"
   ]
  },
  {
   "cell_type": "code",
   "execution_count": 69,
   "metadata": {},
   "outputs": [],
   "source": [
    "##animal_count['cow']"
   ]
  },
  {
   "cell_type": "markdown",
   "metadata": {},
   "source": [
    "**Accessing non-existance key** with **get()** will return None"
   ]
  },
  {
   "cell_type": "code",
   "execution_count": 70,
   "metadata": {},
   "outputs": [
    {
     "name": "stdout",
     "output_type": "stream",
     "text": [
      "None\n"
     ]
    }
   ],
   "source": [
    "print (animal_counts.get('cow'))"
   ]
  },
  {
   "cell_type": "markdown",
   "metadata": {},
   "source": [
    "## Sets\n",
    "Set is unordered collection of unique items"
   ]
  },
  {
   "cell_type": "code",
   "execution_count": 71,
   "metadata": {},
   "outputs": [
    {
     "name": "stdout",
     "output_type": "stream",
     "text": [
      "{'f', 'a', 'e', 'g', 'c', 'b', 'd'}\n"
     ]
    }
   ],
   "source": [
    "myset = {'a','b','c','d','a','b','e','f','g'}\n",
    "print (myset) # notice no repetition values"
   ]
  },
  {
   "cell_type": "markdown",
   "metadata": {},
   "source": [
    "### Membership Test"
   ]
  },
  {
   "cell_type": "code",
   "execution_count": 72,
   "metadata": {},
   "outputs": [
    {
     "name": "stdout",
     "output_type": "stream",
     "text": [
      "True\n",
      "False\n"
     ]
    }
   ],
   "source": [
    "print ('a' in myset)      # is member ?\n",
    "print ('f' not in myset)  # is not member ?"
   ]
  },
  {
   "cell_type": "markdown",
   "metadata": {},
   "source": [
    "### Subset Test\n",
    "Subset Test : <=  \n",
    "Proper Subset Test : <"
   ]
  },
  {
   "cell_type": "code",
   "execution_count": 73,
   "metadata": {},
   "outputs": [
    {
     "data": {
      "text/plain": [
       "True"
      ]
     },
     "execution_count": 73,
     "metadata": {},
     "output_type": "execute_result"
    }
   ],
   "source": [
    "mysubset = {'d','g'}\n",
    "mysubset <= myset"
   ]
  },
  {
   "cell_type": "markdown",
   "metadata": {},
   "source": [
    "Proper Subset test that the master set **contain at least one element** which is not in the subset"
   ]
  },
  {
   "cell_type": "code",
   "execution_count": 74,
   "metadata": {},
   "outputs": [
    {
     "name": "stdout",
     "output_type": "stream",
     "text": [
      "Is Subset :  True\n",
      "Is Proper Subet :  False\n"
     ]
    }
   ],
   "source": [
    "mysubset = {'b','a','d','c','e','f','g'}\n",
    "print ('Is Subset : ', mysubset <= myset)\n",
    "print ('Is Proper Subet : ', mysubset < myset)"
   ]
  },
  {
   "cell_type": "markdown",
   "metadata": {},
   "source": [
    "### Union using '|'"
   ]
  },
  {
   "cell_type": "code",
   "execution_count": 75,
   "metadata": {},
   "outputs": [
    {
     "data": {
      "text/plain": [
       "{'a', 'b', 'c', 'e', 'f'}"
      ]
     },
     "execution_count": 75,
     "metadata": {},
     "output_type": "execute_result"
    }
   ],
   "source": [
    "{'a','b','c'} | {'e','f'}"
   ]
  },
  {
   "cell_type": "markdown",
   "metadata": {},
   "source": [
    "### Intersection using '&'\n",
    "Any elments that exist in both left and right set"
   ]
  },
  {
   "cell_type": "code",
   "execution_count": 76,
   "metadata": {},
   "outputs": [
    {
     "data": {
      "text/plain": [
       "{'c', 'd'}"
      ]
     },
     "execution_count": 76,
     "metadata": {},
     "output_type": "execute_result"
    }
   ],
   "source": [
    "{'a','b','c','d'} & {'c','d','e','f'}"
   ]
  },
  {
   "cell_type": "markdown",
   "metadata": {},
   "source": [
    "### Difference using '-'\n",
    "Anything in **left** that is **not in right** "
   ]
  },
  {
   "cell_type": "code",
   "execution_count": 77,
   "metadata": {},
   "outputs": [
    {
     "data": {
      "text/plain": [
       "{'a', 'b'}"
      ]
     },
     "execution_count": 77,
     "metadata": {},
     "output_type": "execute_result"
    }
   ],
   "source": [
    "{'a','b','c','d'} - {'c','d','e','f'}"
   ]
  },
  {
   "cell_type": "markdown",
   "metadata": {},
   "source": [
    "## range\n",
    "**range(X)** generates sequence of integer object\n",
    "```\n",
    "range (lower_bound, upper_bound, step_size)  \n",
    "# lower bound is optional, default = 0\n",
    "# upper bound is not included in result\n",
    "# step is optional, default = 1\n",
    "```"
   ]
  },
  {
   "cell_type": "markdown",
   "metadata": {},
   "source": [
    "**Use list() to convert in order to view actual sequence of data**"
   ]
  },
  {
   "cell_type": "code",
   "execution_count": 78,
   "metadata": {},
   "outputs": [
    {
     "name": "stdout",
     "output_type": "stream",
     "text": [
      "<class 'range'>\n",
      "range(0, 10)\n",
      "[0, 1, 2, 3, 4, 5, 6, 7, 8, 9]\n"
     ]
    }
   ],
   "source": [
    "r = range(10)     # default lower bound =0, step =1\n",
    "print (type (r))\n",
    "print (r)\n",
    "print (list(r))"
   ]
  },
  {
   "cell_type": "markdown",
   "metadata": {},
   "source": [
    "**More Examples**"
   ]
  },
  {
   "cell_type": "code",
   "execution_count": 79,
   "metadata": {},
   "outputs": [
    {
     "name": "stdout",
     "output_type": "stream",
     "text": [
      "[2, 3, 4, 5, 6, 7]\n",
      "Odds Number :  [1, 3, 5, 7, 9]\n"
     ]
    }
   ],
   "source": [
    "print (list(range(2,8)))    # step not specified, default 1\n",
    "print ('Odds Number : ' , list(range(1,10,2))) # generate odds number"
   ]
  },
  {
   "cell_type": "markdown",
   "metadata": {},
   "source": [
    "# Control and Loops"
   ]
  },
  {
   "cell_type": "markdown",
   "metadata": {},
   "source": [
    "## If Statement"
   ]
  },
  {
   "cell_type": "code",
   "execution_count": 80,
   "metadata": {},
   "outputs": [
    {
     "name": "stdout",
     "output_type": "stream",
     "text": [
      "hold\n",
      "end of programming\n"
     ]
    }
   ],
   "source": [
    "price = 102\n",
    "if price <100:\n",
    "    print ('buy')\n",
    "elif price < 110:\n",
    "    print ('hold')\n",
    "elif price < 120:\n",
    "    print ('think about it')\n",
    "else:\n",
    "    print ('sell')\n",
    "print('end of programming')"
   ]
  },
  {
   "cell_type": "markdown",
   "metadata": {},
   "source": [
    "## For Loops"
   ]
  },
  {
   "cell_type": "markdown",
   "metadata": {},
   "source": [
    "### Loop thorugh 'range'"
   ]
  },
  {
   "cell_type": "code",
   "execution_count": 81,
   "metadata": {},
   "outputs": [
    {
     "name": "stdout",
     "output_type": "stream",
     "text": [
      "Odds Number :  1\n",
      "Odds Number :  3\n",
      "Odds Number :  5\n",
      "Odds Number :  7\n",
      "Odds Number :  9\n"
     ]
    }
   ],
   "source": [
    "for i in range (1,10,2):\n",
    "    print ('Odds Number : ',i) "
   ]
  },
  {
   "cell_type": "markdown",
   "metadata": {},
   "source": [
    "### Loop through 'list'"
   ]
  },
  {
   "cell_type": "code",
   "execution_count": 82,
   "metadata": {},
   "outputs": [
    {
     "name": "stdout",
     "output_type": "stream",
     "text": [
      "Letter :  a\n",
      "Letter :  b\n",
      "Letter :  c\n",
      "Letter :  d\n"
     ]
    }
   ],
   "source": [
    "letters = ['a','b','c','d']\n",
    "for e in letters:\n",
    "    print ('Letter : ',e)"
   ]
  },
  {
   "cell_type": "markdown",
   "metadata": {},
   "source": [
    "### Loop Through 'Dictionary'"
   ]
  },
  {
   "cell_type": "code",
   "execution_count": 83,
   "metadata": {
    "scrolled": true
   },
   "outputs": [
    {
     "name": "stdout",
     "output_type": "stream",
     "text": [
      "x 1\n",
      "y 2\n"
     ]
    }
   ],
   "source": [
    "d = {\"x\": 1, \"y\": 2}\n",
    "for key in d:\n",
    "    print (key, d[key])"
   ]
  },
  {
   "cell_type": "markdown",
   "metadata": {},
   "source": [
    "## Generators"
   ]
  },
  {
   "cell_type": "markdown",
   "metadata": {},
   "source": [
    "- Generator is lazy, produce items only if asked for, hence more memory efficient\n",
    "- Generator is **function** with 'yield' instead of 'return'  \n",
    "- Generator contains one or more yields statement  \n",
    "- When called, it returns an object (iterator) but **does not start execution** immediately  \n",
    "- Methods like __iter__() and __next__() are implemented automatically. So we can iterate through the items using **next()**  \n",
    "- Once the function yields, the **function is paused** and the control is transferred to the caller  \n",
    "- Local variables and their states are **remembered** between successive calls  \n",
    "- Finally, when the function **terminates**, **StopIteration** is raised automatically on further calls"
   ]
  },
  {
   "cell_type": "markdown",
   "metadata": {},
   "source": [
    "### Basic Generator Function\n",
    "Below example give clear understanding of how generator works"
   ]
  },
  {
   "cell_type": "code",
   "execution_count": 84,
   "metadata": {},
   "outputs": [],
   "source": [
    "def my_gen():\n",
    "    n = 1\n",
    "    print('This is printed first')\n",
    "    # Generator function contains yield statements\n",
    "    yield n\n",
    "\n",
    "    n += 1\n",
    "    print('This is printed second')\n",
    "    yield n\n",
    "\n",
    "    n += 1\n",
    "    print('This is printed at last')\n",
    "    yield n"
   ]
  },
  {
   "cell_type": "code",
   "execution_count": 85,
   "metadata": {},
   "outputs": [
    {
     "data": {
      "text/plain": [
       "generator"
      ]
     },
     "execution_count": 85,
     "metadata": {},
     "output_type": "execute_result"
    }
   ],
   "source": [
    "a = my_gen()\n",
    "type(a)"
   ]
  },
  {
   "cell_type": "code",
   "execution_count": 86,
   "metadata": {},
   "outputs": [
    {
     "name": "stdout",
     "output_type": "stream",
     "text": [
      "This is printed first\n"
     ]
    },
    {
     "data": {
      "text/plain": [
       "1"
      ]
     },
     "execution_count": 86,
     "metadata": {},
     "output_type": "execute_result"
    }
   ],
   "source": [
    "next(a)"
   ]
  },
  {
   "cell_type": "code",
   "execution_count": 87,
   "metadata": {},
   "outputs": [
    {
     "name": "stdout",
     "output_type": "stream",
     "text": [
      "This is printed second\n"
     ]
    },
    {
     "data": {
      "text/plain": [
       "2"
      ]
     },
     "execution_count": 87,
     "metadata": {},
     "output_type": "execute_result"
    }
   ],
   "source": [
    "next(a)"
   ]
  },
  {
   "cell_type": "code",
   "execution_count": 88,
   "metadata": {},
   "outputs": [
    {
     "name": "stdout",
     "output_type": "stream",
     "text": [
      "This is printed at last\n"
     ]
    },
    {
     "data": {
      "text/plain": [
       "3"
      ]
     },
     "execution_count": 88,
     "metadata": {},
     "output_type": "execute_result"
    }
   ],
   "source": [
    "next(a)"
   ]
  },
  {
   "cell_type": "code",
   "execution_count": 107,
   "metadata": {},
   "outputs": [
    {
     "ename": "StopIteration",
     "evalue": "",
     "output_type": "error",
     "traceback": [
      "\u001b[1;31m---------------------------------------------------------------------------\u001b[0m",
      "\u001b[1;31mStopIteration\u001b[0m                             Traceback (most recent call last)",
      "\u001b[1;32m<ipython-input-107-3f6e2eea332d>\u001b[0m in \u001b[0;36m<module>\u001b[1;34m()\u001b[0m\n\u001b[1;32m----> 1\u001b[1;33m \u001b[0mnext\u001b[0m\u001b[1;33m(\u001b[0m\u001b[0ma\u001b[0m\u001b[1;33m)\u001b[0m\u001b[1;33m\u001b[0m\u001b[0m\n\u001b[0m",
      "\u001b[1;31mStopIteration\u001b[0m: "
     ]
    }
   ],
   "source": [
    "next(a)"
   ]
  },
  {
   "cell_type": "markdown",
   "metadata": {},
   "source": [
    "### Useful Generator Fuction\n",
    "Generator is only useful when it uses **for-loop**\n",
    "- for-loop within generator\n",
    "- for-loop to iterate through a generator"
   ]
  },
  {
   "cell_type": "code",
   "execution_count": 89,
   "metadata": {},
   "outputs": [],
   "source": [
    "def rev_str(my_str):\n",
    "    length = len(my_str)\n",
    "    for i in range(length - 1,-1,-1):\n",
    "        yield my_str[i]"
   ]
  },
  {
   "cell_type": "code",
   "execution_count": 90,
   "metadata": {},
   "outputs": [
    {
     "name": "stdout",
     "output_type": "stream",
     "text": [
      "o\n",
      "l\n",
      "l\n",
      "e\n",
      "h\n"
     ]
    }
   ],
   "source": [
    "for c in rev_str(\"hello\"):\n",
    "     print(c)"
   ]
  },
  {
   "cell_type": "markdown",
   "metadata": {},
   "source": [
    "### Generator Expression\n",
    "Use () to create an annonymous generator function"
   ]
  },
  {
   "cell_type": "code",
   "execution_count": 91,
   "metadata": {},
   "outputs": [],
   "source": [
    "my_list = [1, 3, 6, 10]\n",
    "a = (x**2 for x in my_list)"
   ]
  },
  {
   "cell_type": "code",
   "execution_count": 92,
   "metadata": {},
   "outputs": [
    {
     "data": {
      "text/plain": [
       "1"
      ]
     },
     "execution_count": 92,
     "metadata": {},
     "output_type": "execute_result"
    }
   ],
   "source": [
    "next(a)"
   ]
  },
  {
   "cell_type": "code",
   "execution_count": 93,
   "metadata": {},
   "outputs": [
    {
     "data": {
      "text/plain": [
       "9"
      ]
     },
     "execution_count": 93,
     "metadata": {},
     "output_type": "execute_result"
    }
   ],
   "source": [
    "next(a)"
   ]
  },
  {
   "cell_type": "code",
   "execution_count": 94,
   "metadata": {},
   "outputs": [
    {
     "data": {
      "text/plain": [
       "136"
      ]
     },
     "execution_count": 94,
     "metadata": {},
     "output_type": "execute_result"
    }
   ],
   "source": [
    "sum(a) # sum the power of 6,10"
   ]
  },
  {
   "cell_type": "markdown",
   "metadata": {},
   "source": [
    "### Compare to Iterator Class"
   ]
  },
  {
   "cell_type": "code",
   "execution_count": 95,
   "metadata": {},
   "outputs": [],
   "source": [
    "class PowTwo:\n",
    "    def __init__(self, max = 0):\n",
    "        self.max = max\n",
    "\n",
    "    def __iter__(self):\n",
    "        self.n = 0\n",
    "        return self\n",
    "\n",
    "    def __next__(self):\n",
    "        if self.n > self.max:\n",
    "            raise StopIteration\n",
    "\n",
    "        result = 2 ** self.n\n",
    "        self.n += 1\n",
    "        return result"
   ]
  },
  {
   "cell_type": "markdown",
   "metadata": {},
   "source": [
    "**Obviously, Generator is more concise and cleaner**"
   ]
  },
  {
   "cell_type": "code",
   "execution_count": null,
   "metadata": {},
   "outputs": [],
   "source": [
    "def PowTwoGen(max = 0):\n",
    "    n = 0\n",
    "    while n < max:\n",
    "        yield 2 ** n\n",
    "        n += 1"
   ]
  },
  {
   "cell_type": "markdown",
   "metadata": {
    "heading_collapsed": true
   },
   "source": [
    "# Library and Functions\n",
    "Library are group of functions"
   ]
  },
  {
   "cell_type": "markdown",
   "metadata": {
    "hidden": true
   },
   "source": [
    "## Package Source"
   ]
  },
  {
   "cell_type": "markdown",
   "metadata": {
    "hidden": true
   },
   "source": [
    "### Conda\n",
    "- Package manager for any language  \n",
    "- Install binaries"
   ]
  },
  {
   "cell_type": "markdown",
   "metadata": {
    "hidden": true
   },
   "source": [
    "### PIP\n",
    "- Package manager python only  \n",
    "- Compile from source  \n",
    "- Stands for Pip Installs Packages  \n",
    "- Python's officially-sanctioned package manager, and is most commonly used to install packages published on the **Python Package Index (PyPI)**  \n",
    "- Both pip and PyPI are governed and supported by the Python Packaging Authority (PyPA)."
   ]
  },
  {
   "cell_type": "markdown",
   "metadata": {
    "hidden": true
   },
   "source": [
    "## Importing Library\n",
    "\n",
    "There are two methods to import library functions:  \n",
    "\n",
    "**Standalone Namespace**\n",
    "```\n",
    "- import <libName>                        # access function through: libName.functionName\n",
    "- import <libName> as <shortName>         # access function through: shortName.functionName\n",
    "```\n",
    "**Global Namespace**\n",
    "```\n",
    "- from   <libName> import *               # all functions available at global namespace\n",
    "- from   <libName> import <functionName>  # access function through: functionName    \n",
    "- from   <libName> import <functionName> as <shortFunctionName>  # access function through shortFunctionName\n",
    "```"
   ]
  },
  {
   "cell_type": "markdown",
   "metadata": {
    "hidden": true
   },
   "source": [
    "### Import Entire Library"
   ]
  },
  {
   "cell_type": "markdown",
   "metadata": {
    "hidden": true
   },
   "source": [
    "#### Import Into Standalone Namespace"
   ]
  },
  {
   "cell_type": "code",
   "execution_count": null,
   "metadata": {
    "hidden": true
   },
   "outputs": [],
   "source": [
    "import math\n",
    "math.sqrt(9)"
   ]
  },
  {
   "cell_type": "markdown",
   "metadata": {
    "hidden": true
   },
   "source": [
    "Use **as** for aliasing library name. This is useful if you have conflicting library name"
   ]
  },
  {
   "cell_type": "code",
   "execution_count": null,
   "metadata": {
    "hidden": true
   },
   "outputs": [],
   "source": [
    "import math as m\n",
    "m.sqrt(9)"
   ]
  },
  {
   "cell_type": "markdown",
   "metadata": {
    "hidden": true
   },
   "source": [
    "#### Import Into Global Name Space\n",
    "All functions in the library accessible through global namespace\n",
    "```\n",
    "from <libName> import *\n",
    "```"
   ]
  },
  {
   "cell_type": "markdown",
   "metadata": {
    "hidden": true
   },
   "source": [
    "### Import Specific Function"
   ]
  },
  {
   "cell_type": "code",
   "execution_count": null,
   "metadata": {
    "hidden": true
   },
   "outputs": [],
   "source": [
    "from math import sqrt\n",
    "print (sqrt(9))"
   ]
  },
  {
   "cell_type": "markdown",
   "metadata": {
    "hidden": true
   },
   "source": [
    "Use **as** for aliasing function name"
   ]
  },
  {
   "cell_type": "code",
   "execution_count": null,
   "metadata": {
    "hidden": true
   },
   "outputs": [],
   "source": [
    "from math import sqrt as sq\n",
    "print (sq(9))"
   ]
  },
  {
   "cell_type": "markdown",
   "metadata": {
    "hidden": true
   },
   "source": [
    "![alt text](img/ml_libraries.jpg)"
   ]
  },
  {
   "cell_type": "markdown",
   "metadata": {
    "hidden": true
   },
   "source": [
    "## Define Function"
   ]
  },
  {
   "cell_type": "markdown",
   "metadata": {
    "hidden": true
   },
   "source": [
    "### Function Arguments\n",
    "By default, arguments are assigned to function left to right"
   ]
  },
  {
   "cell_type": "code",
   "execution_count": null,
   "metadata": {
    "hidden": true
   },
   "outputs": [],
   "source": [
    "def myfun(x,y):\n",
    "    print ('x:',x)\n",
    "    print ('y:',y)\n",
    "    \n",
    "myfun(5,8)"
   ]
  },
  {
   "cell_type": "markdown",
   "metadata": {
    "hidden": true
   },
   "source": [
    "However, you can also specify the argument assigment during function call"
   ]
  },
  {
   "cell_type": "code",
   "execution_count": null,
   "metadata": {
    "hidden": true
   },
   "outputs": [],
   "source": [
    "myfun (y=8,x=5)"
   ]
  },
  {
   "cell_type": "markdown",
   "metadata": {
    "hidden": true
   },
   "source": [
    "Function can have **default argement value**"
   ]
  },
  {
   "cell_type": "code",
   "execution_count": null,
   "metadata": {
    "hidden": true
   },
   "outputs": [],
   "source": [
    "def myfun(x=1,y=1):  # default argument value is 1\n",
    "    print ('x:',x)\n",
    "    print ('y:',y)\n",
    "    \n",
    "myfun(5)  # pass only one argument"
   ]
  },
  {
   "cell_type": "markdown",
   "metadata": {
    "hidden": true
   },
   "source": [
    "### List Within Function\n",
    "\n",
    "Consider a function is an object, its variable (some_list) is immutable and hence its reference won't change, even data changes"
   ]
  },
  {
   "cell_type": "code",
   "execution_count": null,
   "metadata": {
    "hidden": true
   },
   "outputs": [],
   "source": [
    "def spam (elem, some_list=[]):\n",
    "    some_list.append(elem)\n",
    "    return some_list\n",
    "\n",
    "print (spam(1))\n",
    "print (spam(2))\n",
    "print (spam(3))"
   ]
  },
  {
   "cell_type": "markdown",
   "metadata": {
    "hidden": true
   },
   "source": [
    "### Return Statement"
   ]
  },
  {
   "cell_type": "code",
   "execution_count": null,
   "metadata": {
    "hidden": true
   },
   "outputs": [],
   "source": [
    "def bigger(x,y):\n",
    "    if (x>y):\n",
    "        return x\n",
    "    else:\n",
    "        return y\n",
    "    \n",
    "print (bigger(5,8))"
   ]
  },
  {
   "cell_type": "markdown",
   "metadata": {
    "hidden": true
   },
   "source": [
    "### No Return Statement\n",
    "if no **return** statement, python return **None**"
   ]
  },
  {
   "cell_type": "code",
   "execution_count": null,
   "metadata": {
    "hidden": true
   },
   "outputs": [],
   "source": [
    "def dummy():\n",
    "    print ('This is a dummy function, return no value')\n",
    "\n",
    "print (dummy())"
   ]
  },
  {
   "cell_type": "markdown",
   "metadata": {
    "hidden": true
   },
   "source": [
    "### Return Multiple Value\n",
    "Multiple value is returned as **tuple**. Use multiple assignment to assign to multiple variable"
   ]
  },
  {
   "cell_type": "code",
   "execution_count": null,
   "metadata": {
    "hidden": true
   },
   "outputs": [],
   "source": [
    "def minmax(x,y,z):\n",
    "    return min(x,y,z), max(x,y,z)\n",
    "\n",
    "a,b = minmax(7,8,9)     # multiple assignment\n",
    "c   = minmax(7,8,9)     # tuple\n",
    "\n",
    "print (a,b)\n",
    "print (c)    "
   ]
  },
  {
   "cell_type": "markdown",
   "metadata": {
    "hidden": true
   },
   "source": [
    "### Passing Function as Argument \n",
    "You can pass a function name as an argument to a function"
   ]
  },
  {
   "cell_type": "code",
   "execution_count": null,
   "metadata": {
    "hidden": true
   },
   "outputs": [],
   "source": [
    "def myfun(x,y,f):\n",
    "    f(x,y)\n",
    "\n",
    "myfun('hello',54,print)"
   ]
  },
  {
   "cell_type": "markdown",
   "metadata": {},
   "source": [
    "# Object Oriented Programming"
   ]
  },
  {
   "cell_type": "markdown",
   "metadata": {},
   "source": [
    "## Defining Class"
   ]
  },
  {
   "cell_type": "markdown",
   "metadata": {},
   "source": [
    "- Every function within a class **must have** at least one parameter - **self**, accept it\n",
    "- Use **init** as the constructor function. **init** is optional"
   ]
  },
  {
   "cell_type": "code",
   "execution_count": 17,
   "metadata": {},
   "outputs": [],
   "source": [
    "class Person:\n",
    "    wallet = 0  # \n",
    "    def __init__(self, myname,money=0):   # constructor\n",
    "        self.name = myname\n",
    "        self.wallet=money\n",
    "    def say_hi(self):\n",
    "        print('Hello, my name is : ', self.name)\n",
    "    def say_bye(self):\n",
    "        print('Goodbye', Person.ID)\n",
    "    def take(self,amount):\n",
    "        self.wallet+=amount\n",
    "    def balance(self):\n",
    "        print('Wallet Balance:',self.wallet)"
   ]
  },
  {
   "cell_type": "markdown",
   "metadata": {},
   "source": [
    "## Object Class Assignment"
   ]
  },
  {
   "cell_type": "code",
   "execution_count": 18,
   "metadata": {},
   "outputs": [],
   "source": [
    "#p = Person() ## this will fail, as the constructor expect a parameter\n",
    "p1 = Person('Yong')  \n",
    "p2 = Person('Gan',200)"
   ]
  },
  {
   "cell_type": "markdown",
   "metadata": {},
   "source": [
    "## Calling Method"
   ]
  },
  {
   "cell_type": "code",
   "execution_count": 19,
   "metadata": {},
   "outputs": [
    {
     "name": "stdout",
     "output_type": "stream",
     "text": [
      "Hello, my name is :  Yong\n",
      "Wallet Balance: 0\n"
     ]
    }
   ],
   "source": [
    "p1.say_hi()\n",
    "p1.balance()"
   ]
  },
  {
   "cell_type": "code",
   "execution_count": 20,
   "metadata": {},
   "outputs": [
    {
     "name": "stdout",
     "output_type": "stream",
     "text": [
      "Hello, my name is :  Gan\n",
      "Wallet Balance: 200\n"
     ]
    }
   ],
   "source": [
    "p2.say_hi()\n",
    "p2.balance()"
   ]
  },
  {
   "cell_type": "markdown",
   "metadata": {},
   "source": [
    "## Getting Property"
   ]
  },
  {
   "cell_type": "code",
   "execution_count": 24,
   "metadata": {},
   "outputs": [
    {
     "data": {
      "text/plain": [
       "0"
      ]
     },
     "execution_count": 24,
     "metadata": {},
     "output_type": "execute_result"
    }
   ],
   "source": [
    "p1.wallet"
   ]
  },
  {
   "cell_type": "code",
   "execution_count": 23,
   "metadata": {},
   "outputs": [
    {
     "data": {
      "text/plain": [
       "200"
      ]
     },
     "execution_count": 23,
     "metadata": {},
     "output_type": "execute_result"
    }
   ],
   "source": [
    "p2.wallet"
   ]
  },
  {
   "cell_type": "markdown",
   "metadata": {},
   "source": [
    "## Setting Property"
   ]
  },
  {
   "cell_type": "code",
   "execution_count": 25,
   "metadata": {},
   "outputs": [
    {
     "data": {
      "text/plain": [
       "900"
      ]
     },
     "execution_count": 25,
     "metadata": {},
     "output_type": "execute_result"
    }
   ],
   "source": [
    "p1.wallet = 900\n",
    "p1.wallet"
   ]
  },
  {
   "cell_type": "markdown",
   "metadata": {
    "heading_collapsed": true
   },
   "source": [
    "# datetime Library"
   ]
  },
  {
   "cell_type": "markdown",
   "metadata": {
    "hidden": true
   },
   "source": [
    "## Data Types\n",
    "datetime library contain **three data types**:  \n",
    "- **date** (year,month,day)  \n",
    "- **time** (hour,minute,second)  \n",
    "- **datetime** (year,month,day,hour,minute,second)  \n",
    "- **timedelta**: duration between two datetime or date object"
   ]
  },
  {
   "cell_type": "markdown",
   "metadata": {
    "hidden": true
   },
   "source": [
    "### date object"
   ]
  },
  {
   "cell_type": "code",
   "execution_count": null,
   "metadata": {
    "hidden": true
   },
   "outputs": [],
   "source": [
    "dt.date(2000,1,1)"
   ]
  },
  {
   "cell_type": "code",
   "execution_count": null,
   "metadata": {
    "hidden": true
   },
   "outputs": [],
   "source": [
    "dt.date(year=2000,month=1,day=1)"
   ]
  },
  {
   "cell_type": "markdown",
   "metadata": {
    "hidden": true
   },
   "source": [
    "### datetime object"
   ]
  },
  {
   "cell_type": "code",
   "execution_count": null,
   "metadata": {
    "hidden": true
   },
   "outputs": [],
   "source": [
    "dt.datetime(2000,1,1,0,0,0)"
   ]
  },
  {
   "cell_type": "code",
   "execution_count": null,
   "metadata": {
    "hidden": true
   },
   "outputs": [],
   "source": [
    "dt.datetime(year=2000,month=1,day=1,hour=23,minute=15,second=55)"
   ]
  },
  {
   "cell_type": "markdown",
   "metadata": {
    "hidden": true
   },
   "source": [
    "### time object\n",
    "There is unfortunately no single function to extract the current time. Use **time()** function of an **datetime** object"
   ]
  },
  {
   "cell_type": "code",
   "execution_count": null,
   "metadata": {
    "hidden": true
   },
   "outputs": [],
   "source": [
    "dt.time(2)   #default single arugement, hour"
   ]
  },
  {
   "cell_type": "code",
   "execution_count": null,
   "metadata": {
    "hidden": true
   },
   "outputs": [],
   "source": [
    "dt.time(2,15) #default two arguments, hour, minute"
   ]
  },
  {
   "cell_type": "code",
   "execution_count": null,
   "metadata": {
    "hidden": true
   },
   "outputs": [],
   "source": [
    "dt.time(hour=2,minute=15,second=30)"
   ]
  },
  {
   "cell_type": "markdown",
   "metadata": {
    "hidden": true
   },
   "source": [
    "### timedelta\n",
    "- **years** argument is **not supported**  \n",
    "- Apply timedelta on **datetime** object  \n",
    "- timedelta **cannot** be applied on **time object**  , because timedelta potentially go beyond single day (24H)"
   ]
  },
  {
   "cell_type": "code",
   "execution_count": null,
   "metadata": {
    "hidden": true
   },
   "outputs": [],
   "source": [
    "delt = dt.timedelta(days=5,minutes=33,seconds=15)\n",
    "d = dt.datetime.now()\n",
    "\n",
    "print ('delt+d : ', delt + d)"
   ]
  },
  {
   "cell_type": "markdown",
   "metadata": {
    "hidden": true
   },
   "source": [
    "### Useful Functions"
   ]
  },
  {
   "cell_type": "markdown",
   "metadata": {
    "hidden": true
   },
   "source": [
    "#### .now (datetime)"
   ]
  },
  {
   "cell_type": "code",
   "execution_count": null,
   "metadata": {
    "hidden": true
   },
   "outputs": [],
   "source": [
    "now = dt.datetime.now()\n",
    "now"
   ]
  },
  {
   "cell_type": "markdown",
   "metadata": {
    "hidden": true
   },
   "source": [
    "#### .today(datetime)"
   ]
  },
  {
   "cell_type": "code",
   "execution_count": null,
   "metadata": {
    "hidden": true
   },
   "outputs": [],
   "source": [
    "hari_ini = dt.datetime.today()\n",
    "hari_ini"
   ]
  },
  {
   "cell_type": "markdown",
   "metadata": {
    "hidden": true
   },
   "source": [
    "#### date()"
   ]
  },
  {
   "cell_type": "code",
   "execution_count": null,
   "metadata": {
    "hidden": true
   },
   "outputs": [],
   "source": [
    "hari_ini.date()"
   ]
  },
  {
   "cell_type": "markdown",
   "metadata": {
    "hidden": true
   },
   "source": [
    "#### time()"
   ]
  },
  {
   "cell_type": "code",
   "execution_count": null,
   "metadata": {
    "hidden": true
   },
   "outputs": [],
   "source": [
    "now.time()"
   ]
  },
  {
   "cell_type": "markdown",
   "metadata": {
    "hidden": true
   },
   "source": [
    "#### Combine Date and Time into DateTime (.combine)"
   ]
  },
  {
   "cell_type": "code",
   "execution_count": null,
   "metadata": {
    "hidden": true
   },
   "outputs": [],
   "source": [
    "dt.datetime.combine(hari_ini.date(), now.time())"
   ]
  },
  {
   "cell_type": "markdown",
   "metadata": {
    "hidden": true
   },
   "source": [
    "## Datetime Parsing and Formating"
   ]
  },
  {
   "cell_type": "markdown",
   "metadata": {
    "hidden": true
   },
   "source": [
    "### String to DateTime, strptime()\n",
    "```\n",
    "%I : 12-hour\n",
    "%H : 24-hour\n",
    "%M : Minute\n",
    "%p : AM/PM\n",
    "%y : 18\n",
    "%Y : 2018\n",
    "%b : Mar\n",
    "%m : month (1 to 12)\n",
    "%d : day\n",
    "```"
   ]
  },
  {
   "cell_type": "code",
   "execution_count": null,
   "metadata": {
    "hidden": true
   },
   "outputs": [],
   "source": [
    "dt.datetime.strptime('9-01-18','%d-%m-%y')"
   ]
  },
  {
   "cell_type": "code",
   "execution_count": null,
   "metadata": {
    "hidden": true
   },
   "outputs": [],
   "source": [
    "dt.datetime.strptime('09-Mar-2018','%d-%b-%Y')"
   ]
  },
  {
   "cell_type": "code",
   "execution_count": null,
   "metadata": {
    "hidden": true
   },
   "outputs": [],
   "source": [
    "dt.datetime.strptime('2/5/2018 4:49 PM', '%m/%d/%Y %I:%M %p')"
   ]
  },
  {
   "cell_type": "markdown",
   "metadata": {
    "hidden": true
   },
   "source": [
    "### Date/DateTime To String"
   ]
  },
  {
   "cell_type": "markdown",
   "metadata": {
    "hidden": true
   },
   "source": [
    "#### str(), standard string format"
   ]
  },
  {
   "cell_type": "code",
   "execution_count": null,
   "metadata": {
    "hidden": true
   },
   "outputs": [],
   "source": [
    "str(dt.datetime.now())"
   ]
  },
  {
   "cell_type": "markdown",
   "metadata": {
    "hidden": true
   },
   "source": [
    "#### strftime(), custom string format"
   ]
  },
  {
   "cell_type": "code",
   "execution_count": null,
   "metadata": {
    "hidden": true
   },
   "outputs": [],
   "source": [
    "d    = dt.datetime.now()\n",
    "dt.datetime.strftime(d, '%d-%b-%Y')"
   ]
  },
  {
   "cell_type": "markdown",
   "metadata": {
    "heading_collapsed": true
   },
   "source": [
    "# Getting External Data"
   ]
  },
  {
   "cell_type": "markdown",
   "metadata": {
    "hidden": true
   },
   "source": [
    " ## Webscraping using request & BeautifulSoup4\n",
    "Use webscraping technique only if API is not available"
   ]
  },
  {
   "cell_type": "markdown",
   "metadata": {
    "hidden": true
   },
   "source": [
    "### Library"
   ]
  },
  {
   "cell_type": "code",
   "execution_count": null,
   "metadata": {
    "hidden": true
   },
   "outputs": [],
   "source": [
    "import requests\n",
    "from bs4 import BeautifulSoup"
   ]
  },
  {
   "cell_type": "code",
   "execution_count": null,
   "metadata": {
    "hidden": true
   },
   "outputs": [],
   "source": [
    "url = \"https://www.epicurious.com/search/tofu%20chill\"\n",
    "res = requests.get(url)\n",
    "if (res.status_code == 200):\n",
    "    soup = BeautifulSoup(res.content,'lxml')\n",
    "    print (soup.prettify())\n",
    "else:\n",
    "    print('Failure')"
   ]
  },
  {
   "cell_type": "markdown",
   "metadata": {
    "heading_collapsed": true
   },
   "source": [
    "# Plydata (dplyr for Python)"
   ]
  },
  {
   "cell_type": "markdown",
   "metadata": {
    "heading_collapsed": true,
    "hidden": true
   },
   "source": [
    "## Sample Data"
   ]
  },
  {
   "cell_type": "code",
   "execution_count": null,
   "metadata": {
    "hidden": true
   },
   "outputs": [],
   "source": [
    "n = 200\n",
    "comp = ['C' + i for i in np.random.randint( 1,4, size  = n).astype(str)] # 3x Company\n",
    "dept = ['D' + i for i in np.random.randint( 1,6, size  = n).astype(str)] # 5x Department\n",
    "grp =  ['G' + i for i in np.random.randint( 1,3, size  = n).astype(str)] # 2x Groups\n",
    "value1 = np.random.normal( loc=50 , scale=5 , size = n)\n",
    "value2 = np.random.normal( loc=20 , scale=3 , size = n)\n",
    "#value3 = np.random.normal( loc=5 , scale=30 , size = n)\n",
    "\n",
    "mydf = pd.DataFrame({\n",
    "    'comp':comp, \n",
    "    'dept':dept, \n",
    "    'grp': grp,\n",
    "    'value1':value1, \n",
    "    'value2':value2\n",
    "    #'value3':value3 \n",
    "})\n",
    "mydf.head()"
   ]
  },
  {
   "cell_type": "markdown",
   "metadata": {
    "hidden": true
   },
   "source": [
    "## Column Manipulation"
   ]
  },
  {
   "cell_type": "markdown",
   "metadata": {
    "hidden": true
   },
   "source": [
    "### Copy Column"
   ]
  },
  {
   "cell_type": "code",
   "execution_count": null,
   "metadata": {
    "hidden": true
   },
   "outputs": [],
   "source": [
    "mydf >> define(newcol = 'value1')                 # simple method for one column"
   ]
  },
  {
   "cell_type": "code",
   "execution_count": null,
   "metadata": {
    "hidden": true,
    "scrolled": true
   },
   "outputs": [],
   "source": [
    "mydf >> define (('newcol1', 'value1'), newcol2='value2')  # method for muiltiple new columns"
   ]
  },
  {
   "cell_type": "markdown",
   "metadata": {
    "hidden": true
   },
   "source": [
    "### New Column from existing Column"
   ]
  },
  {
   "cell_type": "markdown",
   "metadata": {
    "hidden": true
   },
   "source": [
    "**Without specify the new column name**, it will be derived from expression"
   ]
  },
  {
   "cell_type": "code",
   "execution_count": null,
   "metadata": {
    "hidden": true
   },
   "outputs": [],
   "source": [
    "mydf >> define ('value1*2')"
   ]
  },
  {
   "cell_type": "markdown",
   "metadata": {
    "hidden": true
   },
   "source": [
    "**Specify the new column name**"
   ]
  },
  {
   "cell_type": "code",
   "execution_count": null,
   "metadata": {
    "hidden": true
   },
   "outputs": [],
   "source": [
    "mydf >> define(value3 = 'value1*2')"
   ]
  },
  {
   "cell_type": "markdown",
   "metadata": {
    "hidden": true
   },
   "source": [
    "Define **multiple** new columns in one go. Observe there are three ways to specify the new columns"
   ]
  },
  {
   "cell_type": "code",
   "execution_count": null,
   "metadata": {
    "hidden": true
   },
   "outputs": [],
   "source": [
    "mydf >> define('value1*2',('newcol2','value2*2'),newcol3='value2*3')"
   ]
  },
  {
   "cell_type": "markdown",
   "metadata": {
    "hidden": true
   },
   "source": [
    "### Select Column(s)"
   ]
  },
  {
   "cell_type": "code",
   "execution_count": null,
   "metadata": {
    "hidden": true
   },
   "outputs": [],
   "source": [
    "mydf2 = mydf >> define(newcol1='value1',newcol2='value2')\n",
    "mydf2.info()"
   ]
  },
  {
   "cell_type": "markdown",
   "metadata": {
    "hidden": true
   },
   "source": [
    "#### By Column Names\n",
    "**Exact Coumn Name**"
   ]
  },
  {
   "cell_type": "code",
   "execution_count": null,
   "metadata": {
    "hidden": true
   },
   "outputs": [],
   "source": [
    "mydf2 >> select ('comp','dept','value1')"
   ]
  },
  {
   "cell_type": "markdown",
   "metadata": {
    "hidden": true
   },
   "source": [
    "**Column Name Starts With** ..."
   ]
  },
  {
   "cell_type": "code",
   "execution_count": null,
   "metadata": {
    "hidden": true
   },
   "outputs": [],
   "source": [
    "mydf2 >> select ('comp', startswith='val')"
   ]
  },
  {
   "cell_type": "markdown",
   "metadata": {
    "hidden": true
   },
   "source": [
    "**Column Name Ends With ...**"
   ]
  },
  {
   "cell_type": "code",
   "execution_count": null,
   "metadata": {
    "hidden": true
   },
   "outputs": [],
   "source": [
    "mydf2 >> select ('comp',endswith=('1','2','3'))"
   ]
  },
  {
   "cell_type": "markdown",
   "metadata": {
    "hidden": true
   },
   "source": [
    "**Column Name Contains ...**"
   ]
  },
  {
   "cell_type": "code",
   "execution_count": null,
   "metadata": {
    "hidden": true
   },
   "outputs": [],
   "source": [
    "mydf2 >> select('comp', contains=('col','val'))"
   ]
  },
  {
   "cell_type": "markdown",
   "metadata": {
    "hidden": true
   },
   "source": [
    "#### Specify Column Range"
   ]
  },
  {
   "cell_type": "code",
   "execution_count": null,
   "metadata": {
    "hidden": true
   },
   "outputs": [],
   "source": [
    "mydf2 >> select ('comp', slice('value1','newcol2'))"
   ]
  },
  {
   "cell_type": "markdown",
   "metadata": {
    "hidden": true
   },
   "source": [
    "### Drop Column(s)"
   ]
  },
  {
   "cell_type": "code",
   "execution_count": null,
   "metadata": {
    "hidden": true
   },
   "outputs": [],
   "source": [
    "mydf2 >> select('newcol1','newcol2',drop=True)"
   ]
  },
  {
   "cell_type": "markdown",
   "metadata": {
    "hidden": true
   },
   "source": [
    "## Rename Column"
   ]
  },
  {
   "cell_type": "code",
   "execution_count": null,
   "metadata": {
    "hidden": true
   },
   "outputs": [],
   "source": [
    "mydf.head(80)"
   ]
  },
  {
   "cell_type": "markdown",
   "metadata": {
    "hidden": true
   },
   "source": [
    "**Assignment Method**  \n",
    "Use when column name does not contain special character"
   ]
  },
  {
   "cell_type": "code",
   "execution_count": null,
   "metadata": {
    "hidden": true,
    "scrolled": true
   },
   "outputs": [],
   "source": [
    "mydf >> rename( val1='value1', val2='value2' )"
   ]
  },
  {
   "cell_type": "markdown",
   "metadata": {
    "hidden": true
   },
   "source": [
    "**Dictionary Method**  \n",
    "Use when column name contain special character"
   ]
  },
  {
   "cell_type": "code",
   "execution_count": null,
   "metadata": {
    "hidden": true
   },
   "outputs": [],
   "source": [
    "mydf >> rename( {'val.1' : 'value1',\n",
    "                 'val.2' : 'value2' })"
   ]
  },
  {
   "cell_type": "markdown",
   "metadata": {
    "hidden": true
   },
   "source": [
    "**Combined Method**  \n",
    "Combine both assignment and dictionary method"
   ]
  },
  {
   "cell_type": "code",
   "execution_count": null,
   "metadata": {
    "hidden": true
   },
   "outputs": [],
   "source": [
    "mydf >> rename( {'val.1' : 'value1',\n",
    "                 'val.2' : 'value2'\n",
    "              }, group = 'grp' )"
   ]
  },
  {
   "cell_type": "markdown",
   "metadata": {
    "hidden": true
   },
   "source": [
    "## Sorting (arrange)\n",
    "Use **'-colName'** for decending"
   ]
  },
  {
   "cell_type": "code",
   "execution_count": null,
   "metadata": {
    "hidden": true
   },
   "outputs": [],
   "source": [
    "mydf >> arrange('comp', '-value1')"
   ]
  },
  {
   "cell_type": "code",
   "execution_count": null,
   "metadata": {
    "hidden": true
   },
   "outputs": [],
   "source": []
  },
  {
   "cell_type": "code",
   "execution_count": null,
   "metadata": {
    "hidden": true
   },
   "outputs": [],
   "source": []
  },
  {
   "cell_type": "markdown",
   "metadata": {
    "hidden": true
   },
   "source": [
    "## Grouping"
   ]
  },
  {
   "cell_type": "code",
   "execution_count": null,
   "metadata": {
    "hidden": true
   },
   "outputs": [],
   "source": [
    "mydf.info()"
   ]
  },
  {
   "cell_type": "code",
   "execution_count": null,
   "metadata": {
    "hidden": true
   },
   "outputs": [],
   "source": [
    "gdf = mydf >> group_by('comp','dept')\n",
    "type(gdf)"
   ]
  },
  {
   "cell_type": "markdown",
   "metadata": {
    "hidden": true
   },
   "source": [
    "## Summarization"
   ]
  },
  {
   "cell_type": "markdown",
   "metadata": {
    "hidden": true
   },
   "source": [
    "### Simple Method\n",
    "**Passing Multiple Expressions**"
   ]
  },
  {
   "cell_type": "code",
   "execution_count": null,
   "metadata": {
    "hidden": true
   },
   "outputs": [],
   "source": [
    "gdf >> summarize('n()','sum(value1)','mean(value2)')"
   ]
  },
  {
   "cell_type": "markdown",
   "metadata": {
    "hidden": true
   },
   "source": [
    "### Specify Summarized Column Name"
   ]
  },
  {
   "cell_type": "markdown",
   "metadata": {
    "hidden": true
   },
   "source": [
    "**Assignment Method**  \n",
    "- Passing colName='expression'**  \n",
    "- Column name cannot contain special character"
   ]
  },
  {
   "cell_type": "code",
   "execution_count": null,
   "metadata": {
    "hidden": true
   },
   "outputs": [],
   "source": [
    "gdf >> summarize(count='n()',v1sum='sum(value1)',v2_mean='mean(value2)')"
   ]
  },
  {
   "cell_type": "markdown",
   "metadata": {
    "hidden": true
   },
   "source": [
    "**Tuple Method ('colName','expression')**  \n",
    "Use when the column name contain special character"
   ]
  },
  {
   "cell_type": "code",
   "execution_count": null,
   "metadata": {
    "hidden": true
   },
   "outputs": [],
   "source": [
    "gdf >> summarize(('count','n()'),('v1.sum','sum(value1)'),('s2.sum','sum(value2)'),v2mean=np.mean(value2))"
   ]
  },
  {
   "cell_type": "markdown",
   "metadata": {
    "hidden": true
   },
   "source": [
    "### Number of Rows in Group\n",
    "- n()        : total rows in group  \n",
    "- n_unique() : total of rows with unique value"
   ]
  },
  {
   "cell_type": "code",
   "execution_count": null,
   "metadata": {
    "hidden": true
   },
   "outputs": [],
   "source": [
    "gdf >> summarize(count='n()', va11_unique='n_unique(value1)')"
   ]
  }
 ],
 "metadata": {
  "hide_input": false,
  "kernelspec": {
   "display_name": "Python 3",
   "language": "python",
   "name": "python3"
  },
  "language_info": {
   "codemirror_mode": {
    "name": "ipython",
    "version": 3
   },
   "file_extension": ".py",
   "mimetype": "text/x-python",
   "name": "python",
   "nbconvert_exporter": "python",
   "pygments_lexer": "ipython3",
   "version": "3.6.5"
  },
  "toc": {
   "nav_menu": {},
   "number_sections": true,
   "sideBar": true,
   "skip_h1_title": false,
   "toc_cell": false,
   "toc_position": {
    "height": "944px",
    "left": "0px",
    "right": "1035.6px",
    "top": "110px",
    "width": "390px"
   },
   "toc_section_display": "block",
   "toc_window_display": true
  },
  "varInspector": {
   "cols": {
    "lenName": 16,
    "lenType": 16,
    "lenVar": 40
   },
   "kernels_config": {
    "python": {
     "delete_cmd_postfix": "",
     "delete_cmd_prefix": "del ",
     "library": "var_list.py",
     "varRefreshCmd": "print(var_dic_list())"
    },
    "r": {
     "delete_cmd_postfix": ") ",
     "delete_cmd_prefix": "rm(",
     "library": "var_list.r",
     "varRefreshCmd": "cat(var_dic_list()) "
    }
   },
   "types_to_exclude": [
    "module",
    "function",
    "builtin_function_or_method",
    "instance",
    "_Feature"
   ],
   "window_display": false
  }
 },
 "nbformat": 4,
 "nbformat_minor": 2
}
