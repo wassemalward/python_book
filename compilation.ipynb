{
 "cells": [
  {
   "cell_type": "markdown",
   "metadata": {},
   "source": [
    "# Convert Notebook to HTML_TOC \n",
    "- Convert notebook to static pages, as index.html  \n",
    "- Output to ./docs folder, so that github-pages can pick up the static pages\n"
   ]
  },
  {
   "cell_type": "markdown",
   "metadata": {},
   "source": [
    "## Required Library"
   ]
  },
  {
   "cell_type": "markdown",
   "metadata": {},
   "source": [
    "**nbmerge** is required. To install:\n",
    "```\n",
    "pip install nbmerge\n",
    "```"
   ]
  },
  {
   "cell_type": "code",
   "execution_count": 1,
   "metadata": {},
   "outputs": [],
   "source": [
    "import os\n",
    "import shutil\n",
    "from distutils.dir_util import copy_tree"
   ]
  },
  {
   "cell_type": "markdown",
   "metadata": {},
   "source": [
    "## Current Working Directory"
   ]
  },
  {
   "cell_type": "markdown",
   "metadata": {},
   "source": [
    "### Current Working Directory"
   ]
  },
  {
   "cell_type": "code",
   "execution_count": 2,
   "metadata": {},
   "outputs": [
    {
     "name": "stdout",
     "output_type": "stream",
     "text": [
      "D:\\Dropbox\\Dropbox\\github\\python_book\n"
     ]
    }
   ],
   "source": [
    "print(os.getcwd())"
   ]
  },
  {
   "cell_type": "markdown",
   "metadata": {},
   "source": [
    "### List of Files"
   ]
  },
  {
   "cell_type": "code",
   "execution_count": 3,
   "metadata": {},
   "outputs": [
    {
     "data": {
      "text/plain": [
       "['.git',\n",
       " '.ipynb_checkpoints',\n",
       " '01-fundamental.ipynb',\n",
       " '02-numpy.ipynb',\n",
       " '03-pandas.ipynb',\n",
       " '04-visualization.ipynb',\n",
       " '05-sklearn.ipynb',\n",
       " '06-regression.ipynb',\n",
       " 'compilation.ipynb',\n",
       " 'data',\n",
       " 'docs',\n",
       " 'img']"
      ]
     },
     "execution_count": 3,
     "metadata": {},
     "output_type": "execute_result"
    }
   ],
   "source": [
    "os.listdir()"
   ]
  },
  {
   "cell_type": "markdown",
   "metadata": {},
   "source": [
    "## Cleanup ./docs directory\n",
    "Delete ./docs and re-create. This ensure the content of ./docs is always relevant"
   ]
  },
  {
   "cell_type": "code",
   "execution_count": 4,
   "metadata": {},
   "outputs": [],
   "source": [
    "shutil.rmtree(path='./docs',ignore_errors=True)\n",
    "os.mkdir('docs')\n",
    "os.mkdir('docs\\img')"
   ]
  },
  {
   "cell_type": "markdown",
   "metadata": {},
   "source": [
    "## Merging Multiple Chapters into One Notebook\n",
    "Merge all notebooks with filename containing '-' into _merged.ipynb. This is a temporary notebook."
   ]
  },
  {
   "cell_type": "code",
   "execution_count": 5,
   "metadata": {},
   "outputs": [],
   "source": [
    "!nbmerge --recursive -i -p \".*-.*\" -o _python_book.ipynb"
   ]
  },
  {
   "cell_type": "markdown",
   "metadata": {},
   "source": [
    "## Convert Into Static HTML with TOC\n",
    "- Convert the merged notebook into HTML, in '/docs' directory  \n",
    "- Tag cell to \"remove_cell\" in order to 'hide' from final html output"
   ]
  },
  {
   "cell_type": "code",
   "execution_count": 6,
   "metadata": {
    "scrolled": true
   },
   "outputs": [
    {
     "name": "stderr",
     "output_type": "stream",
     "text": [
      "[NbConvertApp] Converting notebook _python_book.ipynb to html_toc\n",
      "[NbConvertApp] Support files will be in index_files\\\n",
      "[NbConvertApp] Making directory ./docs\\index_files\n",
      "[NbConvertApp] Making directory ./docs\\index_files\n",
      "[NbConvertApp] Making directory ./docs\\index_files\n",
      "[NbConvertApp] Making directory ./docs\\index_files\n",
      "[NbConvertApp] Making directory ./docs\\index_files\n",
      "[NbConvertApp] Making directory ./docs\\index_files\n",
      "[NbConvertApp] Making directory ./docs\\index_files\n",
      "[NbConvertApp] Making directory ./docs\\index_files\n",
      "[NbConvertApp] Making directory ./docs\\index_files\n",
      "[NbConvertApp] Making directory ./docs\\index_files\n",
      "[NbConvertApp] Making directory ./docs\\index_files\n",
      "[NbConvertApp] Making directory ./docs\\index_files\n",
      "[NbConvertApp] Making directory ./docs\\index_files\n",
      "[NbConvertApp] Making directory ./docs\\index_files\n",
      "[NbConvertApp] Making directory ./docs\\index_files\n",
      "[NbConvertApp] Making directory ./docs\\index_files\n",
      "[NbConvertApp] Making directory ./docs\\index_files\n",
      "[NbConvertApp] Making directory ./docs\\index_files\n",
      "[NbConvertApp] Making directory ./docs\\index_files\n",
      "[NbConvertApp] Making directory ./docs\\index_files\n",
      "[NbConvertApp] Making directory ./docs\\index_files\n",
      "[NbConvertApp] Making directory ./docs\\index_files\n",
      "[NbConvertApp] Making directory ./docs\\index_files\n",
      "[NbConvertApp] Making directory ./docs\\index_files\n",
      "[NbConvertApp] Making directory ./docs\\index_files\n",
      "[NbConvertApp] Making directory ./docs\\index_files\n",
      "[NbConvertApp] Making directory ./docs\\index_files\n",
      "[NbConvertApp] Making directory ./docs\\index_files\n",
      "[NbConvertApp] Making directory ./docs\\index_files\n",
      "[NbConvertApp] Making directory ./docs\\index_files\n",
      "[NbConvertApp] Making directory ./docs\\index_files\n",
      "[NbConvertApp] Making directory ./docs\\index_files\n",
      "[NbConvertApp] Making directory ./docs\\index_files\n",
      "[NbConvertApp] Making directory ./docs\\index_files\n",
      "[NbConvertApp] Making directory ./docs\\index_files\n",
      "[NbConvertApp] Making directory ./docs\\index_files\n",
      "[NbConvertApp] Making directory ./docs\\index_files\n",
      "[NbConvertApp] Making directory ./docs\\index_files\n",
      "[NbConvertApp] Making directory ./docs\\index_files\n",
      "[NbConvertApp] Making directory ./docs\\index_files\n",
      "[NbConvertApp] Making directory ./docs\\index_files\n",
      "[NbConvertApp] Making directory ./docs\\index_files\n",
      "[NbConvertApp] Making directory ./docs\\index_files\n",
      "[NbConvertApp] Making directory ./docs\\index_files\n",
      "[NbConvertApp] Making directory ./docs\\index_files\n",
      "[NbConvertApp] Making directory ./docs\\index_files\n",
      "[NbConvertApp] Making directory ./docs\\index_files\n",
      "[NbConvertApp] Making directory ./docs\\index_files\n",
      "[NbConvertApp] Making directory ./docs\\index_files\n",
      "[NbConvertApp] Making directory ./docs\\index_files\n",
      "[NbConvertApp] Making directory ./docs\\index_files\n",
      "[NbConvertApp] Making directory ./docs\\index_files\n",
      "[NbConvertApp] Making directory ./docs\\index_files\n",
      "[NbConvertApp] Making directory ./docs\\index_files\n",
      "[NbConvertApp] Making directory ./docs\\index_files\n",
      "[NbConvertApp] Making directory ./docs\\index_files\n",
      "[NbConvertApp] Making directory ./docs\\index_files\n",
      "[NbConvertApp] Making directory ./docs\\index_files\n",
      "[NbConvertApp] Making directory ./docs\\index_files\n",
      "[NbConvertApp] Making directory ./docs\\index_files\n",
      "[NbConvertApp] Making directory ./docs\\index_files\n",
      "[NbConvertApp] Making directory ./docs\\index_files\n",
      "[NbConvertApp] Making directory ./docs\\index_files\n",
      "[NbConvertApp] Writing 1281908 bytes to ./docs\\index.html\n"
     ]
    }
   ],
   "source": [
    "!jupyter nbconvert _python_book.ipynb --TagRemovePreprocessor.remove_cell_tags={\\\"remove_cell\\\"} --to html_toc --output-dir='./docs' --output index.html  "
   ]
  },
  {
   "cell_type": "markdown",
   "metadata": {},
   "source": [
    "## Copy Image Files"
   ]
  },
  {
   "cell_type": "code",
   "execution_count": 7,
   "metadata": {},
   "outputs": [
    {
     "data": {
      "text/plain": [
       "['./docs/img\\\\bias-variance-tradeoff.png',\n",
       " './docs/img\\\\confusion_table.jpg',\n",
       " './docs/img\\\\distribution_chart.gif',\n",
       " './docs/img\\\\dplyr_anti_join.png',\n",
       " './docs/img\\\\dplyr_full_join.png',\n",
       " './docs/img\\\\dplyr_inner_join.png',\n",
       " './docs/img\\\\dplyr_intersect.png',\n",
       " './docs/img\\\\dplyr_left_join.png',\n",
       " './docs/img\\\\dplyr_right_join.png',\n",
       " './docs/img\\\\dplyr_semi_join.png',\n",
       " './docs/img\\\\dplyr_setdiff.png',\n",
       " './docs/img\\\\dplyr_union.png',\n",
       " './docs/img\\\\dtree_split.jpg',\n",
       " './docs/img\\\\dtree_structure.jpg',\n",
       " './docs/img\\\\entropy_gini.jpg',\n",
       " './docs/img\\\\explain_sst.jpg',\n",
       " './docs/img\\\\fitting.png',\n",
       " './docs/img\\\\heteroscedastic.jpg',\n",
       " './docs/img\\\\kfold-cross-validation.png',\n",
       " './docs/img\\\\kfold.jpg',\n",
       " './docs/img\\\\kfold_cross_validation.png',\n",
       " './docs/img\\\\line_types.jpg',\n",
       " './docs/img\\\\logistic_vs_linear.png',\n",
       " './docs/img\\\\ml_libraries.jpg',\n",
       " './docs/img\\\\model_complexity.jpg',\n",
       " './docs/img\\\\point_shapes.jpg',\n",
       " './docs/img\\\\random_forest.png',\n",
       " './docs/img\\\\read_performance.jpg',\n",
       " './docs/img\\\\roc_curve.gif',\n",
       " './docs/img\\\\roc_threshold_demo.gif',\n",
       " './docs/img\\\\sample_excel_import.jpg',\n",
       " './docs/img\\\\scikit_learn_split.jpg',\n",
       " './docs/img\\\\train_test_split_1.jpg',\n",
       " './docs/img\\\\train_test_split_2.jpg',\n",
       " './docs/img\\\\underfitting-overfitting.png']"
      ]
     },
     "execution_count": 7,
     "metadata": {},
     "output_type": "execute_result"
    }
   ],
   "source": [
    "copy_tree('./img', './docs/img')"
   ]
  },
  {
   "cell_type": "markdown",
   "metadata": {},
   "source": [
    "## Final Cleanup\n",
    "Cleanup (remove) merged notebook"
   ]
  },
  {
   "cell_type": "code",
   "execution_count": 8,
   "metadata": {},
   "outputs": [],
   "source": [
    "os.remove('_python_book.ipynb')"
   ]
  },
  {
   "cell_type": "code",
   "execution_count": 9,
   "metadata": {},
   "outputs": [
    {
     "name": "stdout",
     "output_type": "stream",
     "text": [
      "On branch master\n",
      "Changes not staged for commit:\n",
      "  (use \"git add/rm <file>...\" to update what will be committed)\n",
      "  (use \"git checkout -- <file>...\" to discard changes in working directory)\n",
      "\n",
      "\tmodified:   .ipynb_checkpoints/01-fundamental-checkpoint.ipynb\n",
      "\tmodified:   .ipynb_checkpoints/03-pandas-checkpoint.ipynb\n",
      "\tmodified:   01-fundamental.ipynb\n",
      "\tmodified:   03-pandas.ipynb\n",
      "\tmodified:   04-visualization.ipynb\n",
      "\tmodified:   compilation.ipynb\n",
      "\tmodified:   docs/index.html\n",
      "\tdeleted:    docs/index_files/index_1002_0.png\n",
      "\tdeleted:    docs/index_files/index_1004_0.png\n",
      "\tdeleted:    docs/index_files/index_1006_0.png\n",
      "\tdeleted:    docs/index_files/index_1009_0.png\n",
      "\tdeleted:    docs/index_files/index_1011_0.png\n",
      "\tdeleted:    docs/index_files/index_1012_1.png\n",
      "\tdeleted:    docs/index_files/index_1014_0.png\n",
      "\tdeleted:    docs/index_files/index_1016_1.png\n",
      "\tdeleted:    docs/index_files/index_1018_0.png\n",
      "\tdeleted:    docs/index_files/index_1020_0.png\n",
      "\tdeleted:    docs/index_files/index_1022_0.png\n",
      "\tdeleted:    docs/index_files/index_1025_1.png\n",
      "\tdeleted:    docs/index_files/index_1031_0.png\n",
      "\tdeleted:    docs/index_files/index_1032_0.png\n",
      "\tdeleted:    docs/index_files/index_1034_0.png\n",
      "\tdeleted:    docs/index_files/index_1036_0.png\n",
      "\tdeleted:    docs/index_files/index_1038_0.png\n",
      "\tdeleted:    docs/index_files/index_1041_0.png\n",
      "\tmodified:   docs/index_files/index_1043_0.png\n",
      "\tmodified:   docs/index_files/index_1046_0.png\n",
      "\tdeleted:    docs/index_files/index_1049_1.png\n",
      "\tdeleted:    docs/index_files/index_1050_1.png\n",
      "\tdeleted:    docs/index_files/index_1054_2.png\n",
      "\tdeleted:    docs/index_files/index_1057_2.png\n",
      "\tdeleted:    docs/index_files/index_1059_2.png\n",
      "\tdeleted:    docs/index_files/index_1062_0.png\n",
      "\tdeleted:    docs/index_files/index_1063_0.png\n",
      "\tdeleted:    docs/index_files/index_1065_1.png\n",
      "\tdeleted:    docs/index_files/index_1068_1.png\n",
      "\tdeleted:    docs/index_files/index_1070_0.png\n",
      "\tdeleted:    docs/index_files/index_1075_1.png\n",
      "\tdeleted:    docs/index_files/index_1076_0.png\n",
      "\tdeleted:    docs/index_files/index_1077_0.png\n",
      "\tdeleted:    docs/index_files/index_1080_0.png\n",
      "\tmodified:   docs/index_files/index_1083_0.png\n",
      "\tmodified:   docs/index_files/index_1085_0.png\n",
      "\tdeleted:    docs/index_files/index_1086_0.png\n",
      "\tdeleted:    docs/index_files/index_1087_0.png\n",
      "\tdeleted:    docs/index_files/index_1089_0.png\n",
      "\tdeleted:    docs/index_files/index_1091_1.png\n",
      "\tdeleted:    docs/index_files/index_1092_0.png\n",
      "\tdeleted:    docs/index_files/index_1095_0.png\n",
      "\tdeleted:    docs/index_files/index_1097_0.png\n",
      "\tdeleted:    docs/index_files/index_1098_0.png\n",
      "\tdeleted:    docs/index_files/index_1100_0.png\n",
      "\tdeleted:    docs/index_files/index_1105_0.png\n",
      "\tdeleted:    docs/index_files/index_1140_2.png\n",
      "\tdeleted:    docs/index_files/index_1267_0.png\n",
      "\tdeleted:    docs/index_files/index_1268_0.png\n",
      "\tdeleted:    docs/index_files/index_1311_0.png\n",
      "\tdeleted:    docs/index_files/index_1316_1.png\n",
      "\tdeleted:    docs/index_files/index_1319_0.png\n",
      "\tdeleted:    docs/index_files/index_1321_1.png\n",
      "\tdeleted:    docs/index_files/index_1323_1.png\n",
      "\tdeleted:    docs/index_files/index_979_0.png\n",
      "\tdeleted:    docs/index_files/index_981_0.png\n",
      "\tdeleted:    docs/index_files/index_986_0.png\n",
      "\tdeleted:    docs/index_files/index_988_0.png\n",
      "\tdeleted:    docs/index_files/index_992_1.png\n",
      "\tdeleted:    docs/index_files/index_994_1.png\n",
      "\tdeleted:    docs/index_files/index_996_0.png\n",
      "\tdeleted:    docs/index_files/index_997_0.png\n",
      "\tdeleted:    docs/index_files/index_999_0.png\n",
      "\n",
      "Untracked files:\n",
      "  (use \"git add <file>...\" to include in what will be committed)\n",
      "\n",
      "\tdocs/index_files/index_1026_0.png\n",
      "\tdocs/index_files/index_1028_0.png\n",
      "\tdocs/index_files/index_1033_0.png\n",
      "\tdocs/index_files/index_1035_0.png\n",
      "\tdocs/index_files/index_1039_1.png\n",
      "\tdocs/index_files/index_1041_1.png\n",
      "\tdocs/index_files/index_1044_0.png\n",
      "\tdocs/index_files/index_1049_0.png\n",
      "\tdocs/index_files/index_1051_0.png\n",
      "\tdocs/index_files/index_1053_0.png\n",
      "\tdocs/index_files/index_1056_0.png\n",
      "\tdocs/index_files/index_1058_0.png\n",
      "\tdocs/index_files/index_1059_1.png\n",
      "\tdocs/index_files/index_1061_0.png\n",
      "\tdocs/index_files/index_1063_1.png\n",
      "\tdocs/index_files/index_1065_0.png\n",
      "\tdocs/index_files/index_1067_0.png\n",
      "\tdocs/index_files/index_1069_0.png\n",
      "\tdocs/index_files/index_1072_1.png\n",
      "\tdocs/index_files/index_1078_0.png\n",
      "\tdocs/index_files/index_1079_0.png\n",
      "\tdocs/index_files/index_1081_0.png\n",
      "\tdocs/index_files/index_1088_0.png\n",
      "\tdocs/index_files/index_1090_0.png\n",
      "\tdocs/index_files/index_1093_0.png\n",
      "\tdocs/index_files/index_1096_1.png\n",
      "\tdocs/index_files/index_1097_1.png\n",
      "\tdocs/index_files/index_1101_2.png\n",
      "\tdocs/index_files/index_1104_2.png\n",
      "\tdocs/index_files/index_1106_2.png\n",
      "\tdocs/index_files/index_1109_0.png\n",
      "\tdocs/index_files/index_1110_0.png\n",
      "\tdocs/index_files/index_1112_1.png\n",
      "\tdocs/index_files/index_1115_1.png\n",
      "\tdocs/index_files/index_1117_0.png\n",
      "\tdocs/index_files/index_1122_1.png\n",
      "\tdocs/index_files/index_1123_0.png\n",
      "\tdocs/index_files/index_1124_0.png\n",
      "\tdocs/index_files/index_1127_0.png\n",
      "\tdocs/index_files/index_1130_0.png\n",
      "\tdocs/index_files/index_1132_0.png\n",
      "\tdocs/index_files/index_1133_0.png\n",
      "\tdocs/index_files/index_1134_0.png\n",
      "\tdocs/index_files/index_1136_0.png\n",
      "\tdocs/index_files/index_1138_1.png\n",
      "\tdocs/index_files/index_1139_0.png\n",
      "\tdocs/index_files/index_1142_0.png\n",
      "\tdocs/index_files/index_1144_0.png\n",
      "\tdocs/index_files/index_1145_0.png\n",
      "\tdocs/index_files/index_1147_0.png\n",
      "\tdocs/index_files/index_1152_0.png\n",
      "\tdocs/index_files/index_1187_2.png\n",
      "\tdocs/index_files/index_1314_0.png\n",
      "\tdocs/index_files/index_1315_0.png\n",
      "\tdocs/index_files/index_1358_0.png\n",
      "\tdocs/index_files/index_1363_1.png\n",
      "\tdocs/index_files/index_1366_0.png\n",
      "\tdocs/index_files/index_1368_1.png\n",
      "\tdocs/index_files/index_1370_1.png\n",
      "\n",
      "no changes added to commit (use \"git add\" and/or \"git commit -a\")\n"
     ]
    }
   ],
   "source": [
    "!git status"
   ]
  },
  {
   "cell_type": "code",
   "execution_count": 10,
   "metadata": {},
   "outputs": [
    {
     "name": "stderr",
     "output_type": "stream",
     "text": [
      "warning: LF will be replaced by CRLF in .ipynb_checkpoints/01-fundamental-checkpoint.ipynb.\n",
      "The file will have its original line endings in your working directory\n",
      "warning: LF will be replaced by CRLF in .ipynb_checkpoints/03-pandas-checkpoint.ipynb.\n",
      "The file will have its original line endings in your working directory\n",
      "warning: LF will be replaced by CRLF in 01-fundamental.ipynb.\n",
      "The file will have its original line endings in your working directory\n",
      "warning: LF will be replaced by CRLF in 03-pandas.ipynb.\n",
      "The file will have its original line endings in your working directory\n",
      "warning: LF will be replaced by CRLF in 04-visualization.ipynb.\n",
      "The file will have its original line endings in your working directory\n",
      "warning: LF will be replaced by CRLF in compilation.ipynb.\n",
      "The file will have its original line endings in your working directory\n"
     ]
    },
    {
     "name": "stdout",
     "output_type": "stream",
     "text": [
      "[master 9463967] update\n",
      " 70 files changed, 3177 insertions(+), 641 deletions(-)\n",
      " rename docs/index_files/{index_979_0.png => index_1026_0.png} (100%)\n",
      " rename docs/index_files/{index_981_0.png => index_1028_0.png} (100%)\n",
      " rename docs/index_files/{index_986_0.png => index_1033_0.png} (100%)\n",
      " rename docs/index_files/{index_988_0.png => index_1035_0.png} (100%)\n",
      " rename docs/index_files/{index_992_1.png => index_1039_1.png} (100%)\n",
      " rename docs/index_files/{index_1011_0.png => index_1041_1.png} (100%)\n",
      " rename docs/index_files/{index_996_0.png => index_1043_0.png} (100%)\n",
      " rename docs/index_files/{index_997_0.png => index_1044_0.png} (100%)\n",
      " rename docs/index_files/{index_999_0.png => index_1046_0.png} (100%)\n",
      " rename docs/index_files/{index_1002_0.png => index_1049_0.png} (100%)\n",
      " rename docs/index_files/{index_1004_0.png => index_1051_0.png} (100%)\n",
      " rename docs/index_files/{index_1006_0.png => index_1053_0.png} (100%)\n",
      " rename docs/index_files/{index_1009_0.png => index_1056_0.png} (100%)\n",
      " rename docs/index_files/{index_1018_0.png => index_1058_0.png} (100%)\n",
      " rename docs/index_files/{index_1012_1.png => index_1059_1.png} (100%)\n",
      " rename docs/index_files/{index_1014_0.png => index_1061_0.png} (100%)\n",
      " rename docs/index_files/{index_1016_1.png => index_1063_1.png} (100%)\n",
      " rename docs/index_files/{index_994_1.png => index_1065_0.png} (100%)\n",
      " rename docs/index_files/{index_1020_0.png => index_1067_0.png} (100%)\n",
      " rename docs/index_files/{index_1022_0.png => index_1069_0.png} (100%)\n",
      " rename docs/index_files/{index_1025_1.png => index_1072_1.png} (100%)\n",
      " rename docs/index_files/{index_1031_0.png => index_1078_0.png} (100%)\n",
      " rename docs/index_files/{index_1032_0.png => index_1079_0.png} (100%)\n",
      " rename docs/index_files/{index_1034_0.png => index_1081_0.png} (100%)\n",
      " rename docs/index_files/{index_1036_0.png => index_1083_0.png} (100%)\n",
      " rename docs/index_files/{index_1038_0.png => index_1085_0.png} (100%)\n",
      " rename docs/index_files/{index_1041_0.png => index_1088_0.png} (100%)\n",
      " rename docs/index_files/{index_1043_0.png => index_1090_0.png} (100%)\n",
      " rename docs/index_files/{index_1046_0.png => index_1093_0.png} (100%)\n",
      " rename docs/index_files/{index_1049_1.png => index_1096_1.png} (100%)\n",
      " rename docs/index_files/{index_1050_1.png => index_1097_1.png} (100%)\n",
      " rename docs/index_files/{index_1054_2.png => index_1101_2.png} (100%)\n",
      " rename docs/index_files/{index_1057_2.png => index_1104_2.png} (100%)\n",
      " rename docs/index_files/{index_1059_2.png => index_1106_2.png} (100%)\n",
      " rename docs/index_files/{index_1062_0.png => index_1109_0.png} (100%)\n",
      " rename docs/index_files/{index_1063_0.png => index_1110_0.png} (100%)\n",
      " rename docs/index_files/{index_1065_1.png => index_1112_1.png} (100%)\n",
      " rename docs/index_files/{index_1068_1.png => index_1115_1.png} (100%)\n",
      " rename docs/index_files/{index_1070_0.png => index_1117_0.png} (100%)\n",
      " rename docs/index_files/{index_1075_1.png => index_1122_1.png} (100%)\n",
      " rename docs/index_files/{index_1076_0.png => index_1123_0.png} (100%)\n",
      " rename docs/index_files/{index_1077_0.png => index_1124_0.png} (100%)\n",
      " rename docs/index_files/{index_1080_0.png => index_1127_0.png} (100%)\n",
      " rename docs/index_files/{index_1083_0.png => index_1130_0.png} (100%)\n",
      " rename docs/index_files/{index_1085_0.png => index_1132_0.png} (100%)\n",
      " rename docs/index_files/{index_1086_0.png => index_1133_0.png} (100%)\n",
      " rename docs/index_files/{index_1087_0.png => index_1134_0.png} (100%)\n",
      " rename docs/index_files/{index_1089_0.png => index_1136_0.png} (100%)\n",
      " rename docs/index_files/{index_1091_1.png => index_1138_1.png} (100%)\n",
      " rename docs/index_files/{index_1092_0.png => index_1139_0.png} (100%)\n",
      " rename docs/index_files/{index_1095_0.png => index_1142_0.png} (100%)\n",
      " rename docs/index_files/{index_1097_0.png => index_1144_0.png} (100%)\n",
      " rename docs/index_files/{index_1098_0.png => index_1145_0.png} (100%)\n",
      " rename docs/index_files/{index_1100_0.png => index_1147_0.png} (100%)\n",
      " rename docs/index_files/{index_1105_0.png => index_1152_0.png} (100%)\n",
      " rename docs/index_files/{index_1140_2.png => index_1187_2.png} (100%)\n",
      " rename docs/index_files/{index_1267_0.png => index_1314_0.png} (100%)\n",
      " rename docs/index_files/{index_1268_0.png => index_1315_0.png} (100%)\n",
      " rename docs/index_files/{index_1311_0.png => index_1358_0.png} (100%)\n",
      " rename docs/index_files/{index_1316_1.png => index_1363_1.png} (100%)\n",
      " rename docs/index_files/{index_1319_0.png => index_1366_0.png} (100%)\n",
      " rename docs/index_files/{index_1321_1.png => index_1368_1.png} (100%)\n",
      " rename docs/index_files/{index_1323_1.png => index_1370_1.png} (100%)\n"
     ]
    },
    {
     "name": "stderr",
     "output_type": "stream",
     "text": [
      "To https://github.com/yongks/python_book.git\n",
      "   e51906b..9463967  master -> master\n"
     ]
    }
   ],
   "source": [
    "!git add *\n",
    "!git commit -m \"update\"\n",
    "!git push origin master"
   ]
  },
  {
   "cell_type": "code",
   "execution_count": null,
   "metadata": {},
   "outputs": [],
   "source": []
  }
 ],
 "metadata": {
  "kernelspec": {
   "display_name": "Python 3",
   "language": "python",
   "name": "python3"
  },
  "language_info": {
   "codemirror_mode": {
    "name": "ipython",
    "version": 3
   },
   "file_extension": ".py",
   "mimetype": "text/x-python",
   "name": "python",
   "nbconvert_exporter": "python",
   "pygments_lexer": "ipython3",
   "version": "3.6.5"
  },
  "toc": {
   "nav_menu": {},
   "number_sections": true,
   "sideBar": true,
   "skip_h1_title": false,
   "toc_cell": false,
   "toc_position": {},
   "toc_section_display": "block",
   "toc_window_display": true
  },
  "varInspector": {
   "cols": {
    "lenName": 16,
    "lenType": 16,
    "lenVar": 40
   },
   "kernels_config": {
    "python": {
     "delete_cmd_postfix": "",
     "delete_cmd_prefix": "del ",
     "library": "var_list.py",
     "varRefreshCmd": "print(var_dic_list())"
    },
    "r": {
     "delete_cmd_postfix": ") ",
     "delete_cmd_prefix": "rm(",
     "library": "var_list.r",
     "varRefreshCmd": "cat(var_dic_list()) "
    }
   },
   "types_to_exclude": [
    "module",
    "function",
    "builtin_function_or_method",
    "instance",
    "_Feature"
   ],
   "window_display": false
  }
 },
 "nbformat": 4,
 "nbformat_minor": 2
}
