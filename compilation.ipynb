{
 "cells": [
  {
   "cell_type": "markdown",
   "metadata": {},
   "source": [
    "# Convert Notebook to HTML_TOC \n",
    "- Convert notebook to static pages, as index.html  \n",
    "- Output to ./docs folder, so that github-pages can pick up the static pages\n"
   ]
  },
  {
   "cell_type": "markdown",
   "metadata": {},
   "source": [
    "## Required Library"
   ]
  },
  {
   "cell_type": "markdown",
   "metadata": {},
   "source": [
    "**nbmerge** is required. To install:\n",
    "```\n",
    "pip install nbmerge\n",
    "```"
   ]
  },
  {
   "cell_type": "code",
   "execution_count": 9,
   "metadata": {},
   "outputs": [],
   "source": [
    "import os\n",
    "import shutil\n",
    "from distutils.dir_util import copy_tree"
   ]
  },
  {
   "cell_type": "markdown",
   "metadata": {},
   "source": [
    "## Current Working Directory"
   ]
  },
  {
   "cell_type": "markdown",
   "metadata": {},
   "source": [
    "### Current Working Directory"
   ]
  },
  {
   "cell_type": "code",
   "execution_count": 10,
   "metadata": {},
   "outputs": [
    {
     "name": "stdout",
     "output_type": "stream",
     "text": [
      "D:\\Dropbox\\github\\python_book\n"
     ]
    }
   ],
   "source": [
    "print(os.getcwd())"
   ]
  },
  {
   "cell_type": "markdown",
   "metadata": {},
   "source": [
    "### List of Files"
   ]
  },
  {
   "cell_type": "code",
   "execution_count": 11,
   "metadata": {},
   "outputs": [
    {
     "data": {
      "text/plain": [
       "['.git',\n",
       " '.ipynb_checkpoints',\n",
       " '01-fundamental.ipynb',\n",
       " '02-numpy.ipynb',\n",
       " '03-pandas.ipynb',\n",
       " '04-visualization.ipynb',\n",
       " '05-sklearn.ipynb',\n",
       " '06-regression.ipynb',\n",
       " 'compilation.ipynb',\n",
       " 'data',\n",
       " 'docs',\n",
       " 'img']"
      ]
     },
     "execution_count": 11,
     "metadata": {},
     "output_type": "execute_result"
    }
   ],
   "source": [
    "os.listdir()"
   ]
  },
  {
   "cell_type": "markdown",
   "metadata": {},
   "source": [
    "## Cleanup ./docs directory\n",
    "Delete ./docs and re-create. This ensure the content of ./docs is always relevant"
   ]
  },
  {
   "cell_type": "code",
   "execution_count": 12,
   "metadata": {},
   "outputs": [],
   "source": [
    "shutil.rmtree(path='./docs',ignore_errors=True)\n",
    "os.mkdir('docs')\n",
    "os.mkdir('docs\\img')"
   ]
  },
  {
   "cell_type": "markdown",
   "metadata": {},
   "source": [
    "## Merging Multiple Chapters into One Notebook\n",
    "Merge all notebooks with filename containing '-' into _merged.ipynb. This is a temporary notebook."
   ]
  },
  {
   "cell_type": "code",
   "execution_count": 13,
   "metadata": {},
   "outputs": [],
   "source": [
    "!nbmerge --recursive -i -p \".*-.*\" -o _python_book.ipynb"
   ]
  },
  {
   "cell_type": "markdown",
   "metadata": {},
   "source": [
    "## Convert Into Static HTML with TOC\n",
    "- Convert the merged notebook into HTML, in '/docs' directory  \n",
    "- Tag cell to \"remove_cell\" in order to 'hide' from final html output"
   ]
  },
  {
   "cell_type": "code",
   "execution_count": 14,
   "metadata": {
    "scrolled": true
   },
   "outputs": [
    {
     "name": "stderr",
     "output_type": "stream",
     "text": [
      "[NbConvertApp] Converting notebook _python_book.ipynb to html_toc\n",
      "[NbConvertApp] Support files will be in index_files\\\n",
      "[NbConvertApp] Making directory ./docs\\index_files\n",
      "[NbConvertApp] Making directory ./docs\\index_files\n",
      "[NbConvertApp] Making directory ./docs\\index_files\n",
      "[NbConvertApp] Making directory ./docs\\index_files\n",
      "[NbConvertApp] Making directory ./docs\\index_files\n",
      "[NbConvertApp] Making directory ./docs\\index_files\n",
      "[NbConvertApp] Making directory ./docs\\index_files\n",
      "[NbConvertApp] Making directory ./docs\\index_files\n",
      "[NbConvertApp] Making directory ./docs\\index_files\n",
      "[NbConvertApp] Making directory ./docs\\index_files\n",
      "[NbConvertApp] Making directory ./docs\\index_files\n",
      "[NbConvertApp] Making directory ./docs\\index_files\n",
      "[NbConvertApp] Making directory ./docs\\index_files\n",
      "[NbConvertApp] Making directory ./docs\\index_files\n",
      "[NbConvertApp] Making directory ./docs\\index_files\n",
      "[NbConvertApp] Making directory ./docs\\index_files\n",
      "[NbConvertApp] Making directory ./docs\\index_files\n",
      "[NbConvertApp] Making directory ./docs\\index_files\n",
      "[NbConvertApp] Making directory ./docs\\index_files\n",
      "[NbConvertApp] Making directory ./docs\\index_files\n",
      "[NbConvertApp] Making directory ./docs\\index_files\n",
      "[NbConvertApp] Making directory ./docs\\index_files\n",
      "[NbConvertApp] Making directory ./docs\\index_files\n",
      "[NbConvertApp] Making directory ./docs\\index_files\n",
      "[NbConvertApp] Making directory ./docs\\index_files\n",
      "[NbConvertApp] Making directory ./docs\\index_files\n",
      "[NbConvertApp] Making directory ./docs\\index_files\n",
      "[NbConvertApp] Making directory ./docs\\index_files\n",
      "[NbConvertApp] Making directory ./docs\\index_files\n",
      "[NbConvertApp] Making directory ./docs\\index_files\n",
      "[NbConvertApp] Making directory ./docs\\index_files\n",
      "[NbConvertApp] Making directory ./docs\\index_files\n",
      "[NbConvertApp] Making directory ./docs\\index_files\n",
      "[NbConvertApp] Making directory ./docs\\index_files\n",
      "[NbConvertApp] Making directory ./docs\\index_files\n",
      "[NbConvertApp] Making directory ./docs\\index_files\n",
      "[NbConvertApp] Making directory ./docs\\index_files\n",
      "[NbConvertApp] Making directory ./docs\\index_files\n",
      "[NbConvertApp] Making directory ./docs\\index_files\n",
      "[NbConvertApp] Making directory ./docs\\index_files\n",
      "[NbConvertApp] Making directory ./docs\\index_files\n",
      "[NbConvertApp] Making directory ./docs\\index_files\n",
      "[NbConvertApp] Making directory ./docs\\index_files\n",
      "[NbConvertApp] Making directory ./docs\\index_files\n",
      "[NbConvertApp] Making directory ./docs\\index_files\n",
      "[NbConvertApp] Making directory ./docs\\index_files\n",
      "[NbConvertApp] Making directory ./docs\\index_files\n",
      "[NbConvertApp] Making directory ./docs\\index_files\n",
      "[NbConvertApp] Making directory ./docs\\index_files\n",
      "[NbConvertApp] Making directory ./docs\\index_files\n",
      "[NbConvertApp] Making directory ./docs\\index_files\n",
      "[NbConvertApp] Making directory ./docs\\index_files\n",
      "[NbConvertApp] Making directory ./docs\\index_files\n",
      "[NbConvertApp] Making directory ./docs\\index_files\n",
      "[NbConvertApp] Making directory ./docs\\index_files\n",
      "[NbConvertApp] Making directory ./docs\\index_files\n",
      "[NbConvertApp] Making directory ./docs\\index_files\n",
      "[NbConvertApp] Making directory ./docs\\index_files\n",
      "[NbConvertApp] Making directory ./docs\\index_files\n",
      "[NbConvertApp] Making directory ./docs\\index_files\n",
      "[NbConvertApp] Making directory ./docs\\index_files\n",
      "[NbConvertApp] Making directory ./docs\\index_files\n",
      "[NbConvertApp] Making directory ./docs\\index_files\n",
      "[NbConvertApp] Writing 1468049 bytes to ./docs\\index.html\n"
     ]
    }
   ],
   "source": [
    "!jupyter nbconvert _python_book.ipynb --TagRemovePreprocessor.remove_cell_tags={\\\"remove_cell\\\"} --to html_toc --output-dir='./docs' --output index.html  "
   ]
  },
  {
   "cell_type": "markdown",
   "metadata": {},
   "source": [
    "## Copy Image Files"
   ]
  },
  {
   "cell_type": "code",
   "execution_count": 15,
   "metadata": {},
   "outputs": [
    {
     "data": {
      "text/plain": [
       "['./docs/img\\\\bias-variance-tradeoff.png',\n",
       " './docs/img\\\\confusion_table.jpg',\n",
       " './docs/img\\\\distribution_chart.gif',\n",
       " './docs/img\\\\dplyr_anti_join.png',\n",
       " './docs/img\\\\dplyr_full_join.png',\n",
       " './docs/img\\\\dplyr_inner_join.png',\n",
       " './docs/img\\\\dplyr_intersect.png',\n",
       " './docs/img\\\\dplyr_left_join.png',\n",
       " './docs/img\\\\dplyr_right_join.png',\n",
       " './docs/img\\\\dplyr_semi_join.png',\n",
       " './docs/img\\\\dplyr_setdiff.png',\n",
       " './docs/img\\\\dplyr_union.png',\n",
       " './docs/img\\\\dtree_split.jpg',\n",
       " './docs/img\\\\dtree_structure.jpg',\n",
       " './docs/img\\\\entropy_gini.jpg',\n",
       " './docs/img\\\\explain_sst.jpg',\n",
       " './docs/img\\\\fitting.png',\n",
       " './docs/img\\\\heteroscedastic.jpg',\n",
       " './docs/img\\\\kfold-cross-validation.png',\n",
       " './docs/img\\\\kfold.jpg',\n",
       " './docs/img\\\\kfold_cross_validation.png',\n",
       " './docs/img\\\\line_types.jpg',\n",
       " './docs/img\\\\logistic_vs_linear.png',\n",
       " './docs/img\\\\ml_libraries.jpg',\n",
       " './docs/img\\\\model_complexity.jpg',\n",
       " './docs/img\\\\numpy.png',\n",
       " './docs/img\\\\point_shapes.jpg',\n",
       " './docs/img\\\\random_forest.png',\n",
       " './docs/img\\\\read_performance.jpg',\n",
       " './docs/img\\\\roc_curve.gif',\n",
       " './docs/img\\\\roc_threshold_demo.gif',\n",
       " './docs/img\\\\sample_excel_import.jpg',\n",
       " './docs/img\\\\scikit_learn_split.jpg',\n",
       " './docs/img\\\\train_test_split_1.jpg',\n",
       " './docs/img\\\\train_test_split_2.jpg',\n",
       " './docs/img\\\\underfitting-overfitting.png']"
      ]
     },
     "execution_count": 15,
     "metadata": {},
     "output_type": "execute_result"
    }
   ],
   "source": [
    "copy_tree('./img', './docs/img')"
   ]
  },
  {
   "cell_type": "markdown",
   "metadata": {},
   "source": [
    "## Final Cleanup\n",
    "Cleanup (remove) merged notebook"
   ]
  },
  {
   "cell_type": "code",
   "execution_count": 16,
   "metadata": {},
   "outputs": [],
   "source": [
    "os.remove('_python_book.ipynb')"
   ]
  },
  {
   "cell_type": "code",
   "execution_count": 17,
   "metadata": {},
   "outputs": [
    {
     "name": "stdout",
     "output_type": "stream",
     "text": [
      "On branch master\n",
      "Changes not staged for commit:\n",
      "  (use \"git add/rm <file>...\" to update what will be committed)\n",
      "  (use \"git checkout -- <file>...\" to discard changes in working directory)\n",
      "\n",
      "\tmodified:   .ipynb_checkpoints/01-fundamental-checkpoint.ipynb\n",
      "\tmodified:   .ipynb_checkpoints/03-pandas-checkpoint.ipynb\n",
      "\tmodified:   01-fundamental.ipynb\n",
      "\tmodified:   03-pandas.ipynb\n",
      "\tmodified:   docs/index.html\n",
      "\tdeleted:    docs/index_files/index_1208_0.png\n",
      "\tdeleted:    docs/index_files/index_1210_0.png\n",
      "\tdeleted:    docs/index_files/index_1215_0.png\n",
      "\tdeleted:    docs/index_files/index_1217_0.png\n",
      "\tdeleted:    docs/index_files/index_1221_1.png\n",
      "\tdeleted:    docs/index_files/index_1223_1.png\n",
      "\tdeleted:    docs/index_files/index_1225_0.png\n",
      "\tdeleted:    docs/index_files/index_1226_0.png\n",
      "\tdeleted:    docs/index_files/index_1228_0.png\n",
      "\tdeleted:    docs/index_files/index_1231_0.png\n",
      "\tdeleted:    docs/index_files/index_1233_0.png\n",
      "\tdeleted:    docs/index_files/index_1235_0.png\n",
      "\tdeleted:    docs/index_files/index_1238_0.png\n",
      "\tdeleted:    docs/index_files/index_1240_0.png\n",
      "\tdeleted:    docs/index_files/index_1241_1.png\n",
      "\tdeleted:    docs/index_files/index_1243_0.png\n",
      "\tdeleted:    docs/index_files/index_1246_1.png\n",
      "\tdeleted:    docs/index_files/index_1248_0.png\n",
      "\tmodified:   docs/index_files/index_1250_0.png\n",
      "\tmodified:   docs/index_files/index_1252_0.png\n",
      "\tdeleted:    docs/index_files/index_1255_1.png\n",
      "\tdeleted:    docs/index_files/index_1261_0.png\n",
      "\tmodified:   docs/index_files/index_1262_0.png\n",
      "\tdeleted:    docs/index_files/index_1264_0.png\n",
      "\tdeleted:    docs/index_files/index_1266_0.png\n",
      "\tdeleted:    docs/index_files/index_1268_0.png\n",
      "\tmodified:   docs/index_files/index_1271_0.png\n",
      "\tdeleted:    docs/index_files/index_1273_0.png\n",
      "\tdeleted:    docs/index_files/index_1276_0.png\n",
      "\tdeleted:    docs/index_files/index_1279_1.png\n",
      "\tdeleted:    docs/index_files/index_1280_1.png\n",
      "\tdeleted:    docs/index_files/index_1284_2.png\n",
      "\tdeleted:    docs/index_files/index_1287_2.png\n",
      "\tdeleted:    docs/index_files/index_1289_2.png\n",
      "\tmodified:   docs/index_files/index_1292_0.png\n",
      "\tdeleted:    docs/index_files/index_1293_0.png\n",
      "\tdeleted:    docs/index_files/index_1295_1.png\n",
      "\tmodified:   docs/index_files/index_1298_1.png\n",
      "\tdeleted:    docs/index_files/index_1300_0.png\n",
      "\tdeleted:    docs/index_files/index_1305_1.png\n",
      "\tdeleted:    docs/index_files/index_1306_0.png\n",
      "\tdeleted:    docs/index_files/index_1307_0.png\n",
      "\tdeleted:    docs/index_files/index_1310_0.png\n",
      "\tdeleted:    docs/index_files/index_1313_0.png\n",
      "\tdeleted:    docs/index_files/index_1315_0.png\n",
      "\tdeleted:    docs/index_files/index_1316_0.png\n",
      "\tdeleted:    docs/index_files/index_1317_0.png\n",
      "\tmodified:   docs/index_files/index_1319_0.png\n",
      "\tdeleted:    docs/index_files/index_1321_1.png\n",
      "\tdeleted:    docs/index_files/index_1322_0.png\n",
      "\tmodified:   docs/index_files/index_1325_0.png\n",
      "\tdeleted:    docs/index_files/index_1327_0.png\n",
      "\tdeleted:    docs/index_files/index_1328_0.png\n",
      "\tdeleted:    docs/index_files/index_1330_0.png\n",
      "\tmodified:   docs/index_files/index_1335_0.png\n",
      "\tdeleted:    docs/index_files/index_1370_2.png\n",
      "\tdeleted:    docs/index_files/index_1497_0.png\n",
      "\tdeleted:    docs/index_files/index_1498_0.png\n",
      "\tdeleted:    docs/index_files/index_1541_0.png\n",
      "\tdeleted:    docs/index_files/index_1546_1.png\n",
      "\tdeleted:    docs/index_files/index_1549_0.png\n",
      "\tdeleted:    docs/index_files/index_1551_1.png\n",
      "\tdeleted:    docs/index_files/index_1553_1.png\n",
      "\n",
      "Untracked files:\n",
      "  (use \"git add <file>...\" to include in what will be committed)\n",
      "\n",
      "\tdocs/index_files/index_1227_0.png\n",
      "\tdocs/index_files/index_1229_0.png\n",
      "\tdocs/index_files/index_1234_0.png\n",
      "\tdocs/index_files/index_1236_0.png\n",
      "\tdocs/index_files/index_1240_1.png\n",
      "\tdocs/index_files/index_1242_1.png\n",
      "\tdocs/index_files/index_1244_0.png\n",
      "\tdocs/index_files/index_1245_0.png\n",
      "\tdocs/index_files/index_1247_0.png\n",
      "\tdocs/index_files/index_1254_0.png\n",
      "\tdocs/index_files/index_1257_0.png\n",
      "\tdocs/index_files/index_1259_0.png\n",
      "\tdocs/index_files/index_1260_1.png\n",
      "\tdocs/index_files/index_1265_1.png\n",
      "\tdocs/index_files/index_1267_0.png\n",
      "\tdocs/index_files/index_1269_0.png\n",
      "\tdocs/index_files/index_1274_1.png\n",
      "\tdocs/index_files/index_1280_0.png\n",
      "\tdocs/index_files/index_1281_0.png\n",
      "\tdocs/index_files/index_1283_0.png\n",
      "\tdocs/index_files/index_1285_0.png\n",
      "\tdocs/index_files/index_1287_0.png\n",
      "\tdocs/index_files/index_1290_0.png\n",
      "\tdocs/index_files/index_1295_0.png\n",
      "\tdocs/index_files/index_1299_1.png\n",
      "\tdocs/index_files/index_1303_2.png\n",
      "\tdocs/index_files/index_1306_2.png\n",
      "\tdocs/index_files/index_1308_2.png\n",
      "\tdocs/index_files/index_1311_0.png\n",
      "\tdocs/index_files/index_1312_0.png\n",
      "\tdocs/index_files/index_1314_1.png\n",
      "\tdocs/index_files/index_1317_1.png\n",
      "\tdocs/index_files/index_1324_1.png\n",
      "\tdocs/index_files/index_1326_0.png\n",
      "\tdocs/index_files/index_1329_0.png\n",
      "\tdocs/index_files/index_1332_0.png\n",
      "\tdocs/index_files/index_1334_0.png\n",
      "\tdocs/index_files/index_1336_0.png\n",
      "\tdocs/index_files/index_1338_0.png\n",
      "\tdocs/index_files/index_1340_1.png\n",
      "\tdocs/index_files/index_1341_0.png\n",
      "\tdocs/index_files/index_1344_0.png\n",
      "\tdocs/index_files/index_1346_0.png\n",
      "\tdocs/index_files/index_1347_0.png\n",
      "\tdocs/index_files/index_1349_0.png\n",
      "\tdocs/index_files/index_1354_0.png\n",
      "\tdocs/index_files/index_1389_2.png\n",
      "\tdocs/index_files/index_1516_0.png\n",
      "\tdocs/index_files/index_1517_0.png\n",
      "\tdocs/index_files/index_1560_0.png\n",
      "\tdocs/index_files/index_1565_1.png\n",
      "\tdocs/index_files/index_1568_0.png\n",
      "\tdocs/index_files/index_1570_1.png\n",
      "\tdocs/index_files/index_1572_1.png\n",
      "\n",
      "no changes added to commit (use \"git add\" and/or \"git commit -a\")\n"
     ]
    }
   ],
   "source": [
    "!git status"
   ]
  },
  {
   "cell_type": "code",
   "execution_count": 19,
   "metadata": {
    "scrolled": true
   },
   "outputs": [
    {
     "name": "stderr",
     "output_type": "stream",
     "text": [
      "warning: LF will be replaced by CRLF in compilation.ipynb.\n",
      "The file will have its original line endings in your working directory\n"
     ]
    },
    {
     "name": "stdout",
     "output_type": "stream",
     "text": [
      "[master 9c62162] update\n",
      " 1 file changed, 131 insertions(+), 231 deletions(-)\n"
     ]
    },
    {
     "name": "stderr",
     "output_type": "stream",
     "text": [
      "To https://github.com/yongks/python_book.git\n",
      " ! [remote rejected] master -> master (pre-receive hook declined)\n",
      "error: failed to push some refs to 'https://github.com/yongks/python_book.git'\n"
     ]
    }
   ],
   "source": [
    "!git add *\n",
    "!git commit -m \"update\"\n",
    "!git push origin master"
   ]
  }
 ],
 "metadata": {
  "kernelspec": {
   "display_name": "Python 3",
   "language": "python",
   "name": "python3"
  },
  "language_info": {
   "codemirror_mode": {
    "name": "ipython",
    "version": 3
   },
   "file_extension": ".py",
   "mimetype": "text/x-python",
   "name": "python",
   "nbconvert_exporter": "python",
   "pygments_lexer": "ipython3",
   "version": "3.7.1"
  },
  "toc": {
   "base_numbering": 1,
   "nav_menu": {},
   "number_sections": true,
   "sideBar": true,
   "skip_h1_title": false,
   "title_cell": "Table of Contents",
   "title_sidebar": "Contents",
   "toc_cell": false,
   "toc_position": {},
   "toc_section_display": "block",
   "toc_window_display": true
  },
  "varInspector": {
   "cols": {
    "lenName": 16,
    "lenType": 16,
    "lenVar": 40
   },
   "kernels_config": {
    "python": {
     "delete_cmd_postfix": "",
     "delete_cmd_prefix": "del ",
     "library": "var_list.py",
     "varRefreshCmd": "print(var_dic_list())"
    },
    "r": {
     "delete_cmd_postfix": ") ",
     "delete_cmd_prefix": "rm(",
     "library": "var_list.r",
     "varRefreshCmd": "cat(var_dic_list()) "
    }
   },
   "types_to_exclude": [
    "module",
    "function",
    "builtin_function_or_method",
    "instance",
    "_Feature"
   ],
   "window_display": false
  }
 },
 "nbformat": 4,
 "nbformat_minor": 2
}
