{
 "cells": [
  {
   "cell_type": "markdown",
   "metadata": {},
   "source": [
    "# Convert Notebook to HTML_TOC \n",
    "- Convert notebook to static pages, as index.html  \n",
    "- Output to ./docs folder, so that github-pages can pick up the static pages\n"
   ]
  },
  {
   "cell_type": "markdown",
   "metadata": {},
   "source": [
    "## Required Library"
   ]
  },
  {
   "cell_type": "markdown",
   "metadata": {},
   "source": [
    "**nbmerge** is required. To install:\n",
    "```\n",
    "pip install nbmerge\n",
    "```"
   ]
  },
  {
   "cell_type": "code",
   "execution_count": 61,
   "metadata": {},
   "outputs": [],
   "source": [
    "import os\n",
    "import shutil\n",
    "from distutils.dir_util import copy_tree"
   ]
  },
  {
   "cell_type": "markdown",
   "metadata": {},
   "source": [
    "## Current Working Directory"
   ]
  },
  {
   "cell_type": "markdown",
   "metadata": {},
   "source": [
    "### Current Working Directory"
   ]
  },
  {
   "cell_type": "code",
   "execution_count": 62,
   "metadata": {},
   "outputs": [
    {
     "name": "stdout",
     "output_type": "stream",
     "text": [
      "D:\\Dropbox\\Dropbox\\github\\python_book\n"
     ]
    }
   ],
   "source": [
    "print(os.getcwd())"
   ]
  },
  {
   "cell_type": "markdown",
   "metadata": {},
   "source": [
    "### List of Files"
   ]
  },
  {
   "cell_type": "code",
   "execution_count": 63,
   "metadata": {},
   "outputs": [
    {
     "data": {
      "text/plain": [
       "['.git',\n",
       " '.ipynb_checkpoints',\n",
       " '01-fundamental.ipynb',\n",
       " '02-numpy.ipynb',\n",
       " '03-pandas.ipynb',\n",
       " '04-visualization.ipynb',\n",
       " '05-sklearn.ipynb',\n",
       " '06-regression.ipynb',\n",
       " 'compilation.ipynb',\n",
       " 'data',\n",
       " 'docs',\n",
       " 'img']"
      ]
     },
     "execution_count": 63,
     "metadata": {},
     "output_type": "execute_result"
    }
   ],
   "source": [
    "os.listdir()"
   ]
  },
  {
   "cell_type": "markdown",
   "metadata": {},
   "source": [
    "## Cleanup ./docs directory\n",
    "Delete ./docs and re-create. This ensure the content of ./docs is always relevant"
   ]
  },
  {
   "cell_type": "code",
   "execution_count": 64,
   "metadata": {},
   "outputs": [],
   "source": [
    "shutil.rmtree(path='./docs',ignore_errors=True)\n",
    "os.mkdir('docs')\n",
    "os.mkdir('docs\\img')"
   ]
  },
  {
   "cell_type": "markdown",
   "metadata": {},
   "source": [
    "## Merging Multiple Chapters into One Notebook\n",
    "Merge all notebooks with filename containing '-' into _merged.ipynb. This is a temporary notebook."
   ]
  },
  {
   "cell_type": "code",
   "execution_count": 65,
   "metadata": {},
   "outputs": [],
   "source": [
    "!nbmerge --recursive -i -p \".*-.*\" -o _python_book.ipynb"
   ]
  },
  {
   "cell_type": "markdown",
   "metadata": {},
   "source": [
    "## Convert Into Static HTML with TOC\n",
    "- Convert the merged notebook into HTML, in '/docs' directory  \n",
    "- Tag cell to \"remove_cell\" in order to 'hide' from final html output"
   ]
  },
  {
   "cell_type": "code",
   "execution_count": 66,
   "metadata": {
    "scrolled": true
   },
   "outputs": [
    {
     "name": "stderr",
     "output_type": "stream",
     "text": [
      "[NbConvertApp] Converting notebook _python_book.ipynb to html_toc\n",
      "[NbConvertApp] Support files will be in index_files\\\n",
      "[NbConvertApp] Making directory ./docs\\index_files\n",
      "[NbConvertApp] Making directory ./docs\\index_files\n",
      "[NbConvertApp] Making directory ./docs\\index_files\n",
      "[NbConvertApp] Making directory ./docs\\index_files\n",
      "[NbConvertApp] Making directory ./docs\\index_files\n",
      "[NbConvertApp] Making directory ./docs\\index_files\n",
      "[NbConvertApp] Making directory ./docs\\index_files\n",
      "[NbConvertApp] Making directory ./docs\\index_files\n",
      "[NbConvertApp] Making directory ./docs\\index_files\n",
      "[NbConvertApp] Making directory ./docs\\index_files\n",
      "[NbConvertApp] Making directory ./docs\\index_files\n",
      "[NbConvertApp] Making directory ./docs\\index_files\n",
      "[NbConvertApp] Making directory ./docs\\index_files\n",
      "[NbConvertApp] Making directory ./docs\\index_files\n",
      "[NbConvertApp] Making directory ./docs\\index_files\n",
      "[NbConvertApp] Making directory ./docs\\index_files\n",
      "[NbConvertApp] Making directory ./docs\\index_files\n",
      "[NbConvertApp] Making directory ./docs\\index_files\n",
      "[NbConvertApp] Making directory ./docs\\index_files\n",
      "[NbConvertApp] Making directory ./docs\\index_files\n",
      "[NbConvertApp] Making directory ./docs\\index_files\n",
      "[NbConvertApp] Making directory ./docs\\index_files\n",
      "[NbConvertApp] Making directory ./docs\\index_files\n",
      "[NbConvertApp] Making directory ./docs\\index_files\n",
      "[NbConvertApp] Making directory ./docs\\index_files\n",
      "[NbConvertApp] Making directory ./docs\\index_files\n",
      "[NbConvertApp] Making directory ./docs\\index_files\n",
      "[NbConvertApp] Making directory ./docs\\index_files\n",
      "[NbConvertApp] Making directory ./docs\\index_files\n",
      "[NbConvertApp] Making directory ./docs\\index_files\n",
      "[NbConvertApp] Making directory ./docs\\index_files\n",
      "[NbConvertApp] Making directory ./docs\\index_files\n",
      "[NbConvertApp] Making directory ./docs\\index_files\n",
      "[NbConvertApp] Making directory ./docs\\index_files\n",
      "[NbConvertApp] Making directory ./docs\\index_files\n",
      "[NbConvertApp] Making directory ./docs\\index_files\n",
      "[NbConvertApp] Making directory ./docs\\index_files\n",
      "[NbConvertApp] Making directory ./docs\\index_files\n",
      "[NbConvertApp] Making directory ./docs\\index_files\n",
      "[NbConvertApp] Making directory ./docs\\index_files\n",
      "[NbConvertApp] Making directory ./docs\\index_files\n",
      "[NbConvertApp] Making directory ./docs\\index_files\n",
      "[NbConvertApp] Making directory ./docs\\index_files\n",
      "[NbConvertApp] Making directory ./docs\\index_files\n",
      "[NbConvertApp] Making directory ./docs\\index_files\n",
      "[NbConvertApp] Making directory ./docs\\index_files\n",
      "[NbConvertApp] Making directory ./docs\\index_files\n",
      "[NbConvertApp] Making directory ./docs\\index_files\n",
      "[NbConvertApp] Making directory ./docs\\index_files\n",
      "[NbConvertApp] Making directory ./docs\\index_files\n",
      "[NbConvertApp] Making directory ./docs\\index_files\n",
      "[NbConvertApp] Making directory ./docs\\index_files\n",
      "[NbConvertApp] Making directory ./docs\\index_files\n",
      "[NbConvertApp] Making directory ./docs\\index_files\n",
      "[NbConvertApp] Making directory ./docs\\index_files\n",
      "[NbConvertApp] Making directory ./docs\\index_files\n",
      "[NbConvertApp] Making directory ./docs\\index_files\n",
      "[NbConvertApp] Making directory ./docs\\index_files\n",
      "[NbConvertApp] Making directory ./docs\\index_files\n",
      "[NbConvertApp] Making directory ./docs\\index_files\n",
      "[NbConvertApp] Making directory ./docs\\index_files\n",
      "[NbConvertApp] Making directory ./docs\\index_files\n",
      "[NbConvertApp] Making directory ./docs\\index_files\n",
      "[NbConvertApp] Writing 1435746 bytes to ./docs\\index.html\n"
     ]
    }
   ],
   "source": [
    "!jupyter nbconvert _python_book.ipynb --TagRemovePreprocessor.remove_cell_tags={\\\"remove_cell\\\"} --to html_toc --output-dir='./docs' --output index.html  "
   ]
  },
  {
   "cell_type": "markdown",
   "metadata": {},
   "source": [
    "## Copy Image Files"
   ]
  },
  {
   "cell_type": "code",
   "execution_count": 67,
   "metadata": {},
   "outputs": [
    {
     "data": {
      "text/plain": [
       "['./docs/img\\\\bias-variance-tradeoff.png',\n",
       " './docs/img\\\\confusion_table.jpg',\n",
       " './docs/img\\\\distribution_chart.gif',\n",
       " './docs/img\\\\dplyr_anti_join.png',\n",
       " './docs/img\\\\dplyr_full_join.png',\n",
       " './docs/img\\\\dplyr_inner_join.png',\n",
       " './docs/img\\\\dplyr_intersect.png',\n",
       " './docs/img\\\\dplyr_left_join.png',\n",
       " './docs/img\\\\dplyr_right_join.png',\n",
       " './docs/img\\\\dplyr_semi_join.png',\n",
       " './docs/img\\\\dplyr_setdiff.png',\n",
       " './docs/img\\\\dplyr_union.png',\n",
       " './docs/img\\\\dtree_split.jpg',\n",
       " './docs/img\\\\dtree_structure.jpg',\n",
       " './docs/img\\\\entropy_gini.jpg',\n",
       " './docs/img\\\\explain_sst.jpg',\n",
       " './docs/img\\\\fitting.png',\n",
       " './docs/img\\\\heteroscedastic.jpg',\n",
       " './docs/img\\\\kfold-cross-validation.png',\n",
       " './docs/img\\\\kfold.jpg',\n",
       " './docs/img\\\\kfold_cross_validation.png',\n",
       " './docs/img\\\\line_types.jpg',\n",
       " './docs/img\\\\logistic_vs_linear.png',\n",
       " './docs/img\\\\ml_libraries.jpg',\n",
       " './docs/img\\\\model_complexity.jpg',\n",
       " './docs/img\\\\numpy.png',\n",
       " './docs/img\\\\point_shapes.jpg',\n",
       " './docs/img\\\\random_forest.png',\n",
       " './docs/img\\\\read_performance.jpg',\n",
       " './docs/img\\\\roc_curve.gif',\n",
       " './docs/img\\\\roc_threshold_demo.gif',\n",
       " './docs/img\\\\sample_excel_import.jpg',\n",
       " './docs/img\\\\scikit_learn_split.jpg',\n",
       " './docs/img\\\\train_test_split_1.jpg',\n",
       " './docs/img\\\\train_test_split_2.jpg',\n",
       " './docs/img\\\\underfitting-overfitting.png']"
      ]
     },
     "execution_count": 67,
     "metadata": {},
     "output_type": "execute_result"
    }
   ],
   "source": [
    "copy_tree('./img', './docs/img')"
   ]
  },
  {
   "cell_type": "markdown",
   "metadata": {},
   "source": [
    "## Final Cleanup\n",
    "Cleanup (remove) merged notebook"
   ]
  },
  {
   "cell_type": "code",
   "execution_count": 68,
   "metadata": {},
   "outputs": [],
   "source": [
    "os.remove('_python_book.ipynb')"
   ]
  },
  {
   "cell_type": "code",
   "execution_count": 69,
   "metadata": {},
   "outputs": [
    {
     "name": "stdout",
     "output_type": "stream",
     "text": [
      "On branch master\n",
      "Changes not staged for commit:\n",
      "  (use \"git add/rm <file>...\" to update what will be committed)\n",
      "  (use \"git checkout -- <file>...\" to discard changes in working directory)\n",
      "\n",
      "\tmodified:   .ipynb_checkpoints/03-pandas-checkpoint.ipynb\n",
      "\tmodified:   03-pandas.ipynb\n",
      "\tmodified:   compilation.ipynb\n",
      "\tmodified:   docs/index.html\n",
      "\tdeleted:    docs/index_files/index_1174_0.png\n",
      "\tdeleted:    docs/index_files/index_1176_0.png\n",
      "\tdeleted:    docs/index_files/index_1181_0.png\n",
      "\tmodified:   docs/index_files/index_1183_0.png\n",
      "\tdeleted:    docs/index_files/index_1187_1.png\n",
      "\tdeleted:    docs/index_files/index_1189_1.png\n",
      "\tdeleted:    docs/index_files/index_1191_0.png\n",
      "\tmodified:   docs/index_files/index_1192_0.png\n",
      "\tdeleted:    docs/index_files/index_1194_0.png\n",
      "\tdeleted:    docs/index_files/index_1197_0.png\n",
      "\tdeleted:    docs/index_files/index_1199_0.png\n",
      "\tmodified:   docs/index_files/index_1201_0.png\n",
      "\tdeleted:    docs/index_files/index_1204_0.png\n",
      "\tmodified:   docs/index_files/index_1206_0.png\n",
      "\tdeleted:    docs/index_files/index_1207_1.png\n",
      "\tdeleted:    docs/index_files/index_1209_0.png\n",
      "\tdeleted:    docs/index_files/index_1212_1.png\n",
      "\tdeleted:    docs/index_files/index_1214_0.png\n",
      "\tdeleted:    docs/index_files/index_1216_0.png\n",
      "\tmodified:   docs/index_files/index_1218_0.png\n",
      "\tmodified:   docs/index_files/index_1221_1.png\n",
      "\tmodified:   docs/index_files/index_1227_0.png\n",
      "\tdeleted:    docs/index_files/index_1228_0.png\n",
      "\tdeleted:    docs/index_files/index_1230_0.png\n",
      "\tdeleted:    docs/index_files/index_1232_0.png\n",
      "\tdeleted:    docs/index_files/index_1234_0.png\n",
      "\tmodified:   docs/index_files/index_1237_0.png\n",
      "\tmodified:   docs/index_files/index_1239_0.png\n",
      "\tdeleted:    docs/index_files/index_1242_0.png\n",
      "\tdeleted:    docs/index_files/index_1245_1.png\n",
      "\tdeleted:    docs/index_files/index_1246_1.png\n",
      "\tdeleted:    docs/index_files/index_1250_2.png\n",
      "\tdeleted:    docs/index_files/index_1253_2.png\n",
      "\tdeleted:    docs/index_files/index_1255_2.png\n",
      "\tdeleted:    docs/index_files/index_1258_0.png\n",
      "\tdeleted:    docs/index_files/index_1259_0.png\n",
      "\tdeleted:    docs/index_files/index_1261_1.png\n",
      "\tdeleted:    docs/index_files/index_1264_1.png\n",
      "\tdeleted:    docs/index_files/index_1266_0.png\n",
      "\tdeleted:    docs/index_files/index_1271_1.png\n",
      "\tdeleted:    docs/index_files/index_1272_0.png\n",
      "\tdeleted:    docs/index_files/index_1273_0.png\n",
      "\tdeleted:    docs/index_files/index_1276_0.png\n",
      "\tdeleted:    docs/index_files/index_1279_0.png\n",
      "\tmodified:   docs/index_files/index_1281_0.png\n",
      "\tmodified:   docs/index_files/index_1282_0.png\n",
      "\tdeleted:    docs/index_files/index_1283_0.png\n",
      "\tmodified:   docs/index_files/index_1285_0.png\n",
      "\tdeleted:    docs/index_files/index_1287_1.png\n",
      "\tmodified:   docs/index_files/index_1288_0.png\n",
      "\tmodified:   docs/index_files/index_1291_0.png\n",
      "\tdeleted:    docs/index_files/index_1293_0.png\n",
      "\tmodified:   docs/index_files/index_1294_0.png\n",
      "\tdeleted:    docs/index_files/index_1296_0.png\n",
      "\tdeleted:    docs/index_files/index_1301_0.png\n",
      "\tdeleted:    docs/index_files/index_1336_2.png\n",
      "\tdeleted:    docs/index_files/index_1463_0.png\n",
      "\tdeleted:    docs/index_files/index_1464_0.png\n",
      "\tdeleted:    docs/index_files/index_1507_0.png\n",
      "\tdeleted:    docs/index_files/index_1512_1.png\n",
      "\tdeleted:    docs/index_files/index_1515_0.png\n",
      "\tdeleted:    docs/index_files/index_1517_1.png\n",
      "\tdeleted:    docs/index_files/index_1519_1.png\n",
      "\n",
      "Untracked files:\n",
      "  (use \"git add <file>...\" to include in what will be committed)\n",
      "\n",
      "\tdocs/index_files/index_1185_0.png\n",
      "\tdocs/index_files/index_1190_0.png\n",
      "\tdocs/index_files/index_1196_1.png\n",
      "\tdocs/index_files/index_1198_1.png\n",
      "\tdocs/index_files/index_1200_0.png\n",
      "\tdocs/index_files/index_1203_0.png\n",
      "\tdocs/index_files/index_1208_0.png\n",
      "\tdocs/index_files/index_1210_0.png\n",
      "\tdocs/index_files/index_1213_0.png\n",
      "\tdocs/index_files/index_1215_0.png\n",
      "\tdocs/index_files/index_1216_1.png\n",
      "\tdocs/index_files/index_1223_0.png\n",
      "\tdocs/index_files/index_1225_0.png\n",
      "\tdocs/index_files/index_1230_1.png\n",
      "\tdocs/index_files/index_1236_0.png\n",
      "\tdocs/index_files/index_1241_0.png\n",
      "\tdocs/index_files/index_1243_0.png\n",
      "\tdocs/index_files/index_1246_0.png\n",
      "\tdocs/index_files/index_1248_0.png\n",
      "\tdocs/index_files/index_1251_0.png\n",
      "\tdocs/index_files/index_1254_1.png\n",
      "\tdocs/index_files/index_1255_1.png\n",
      "\tdocs/index_files/index_1259_2.png\n",
      "\tdocs/index_files/index_1262_2.png\n",
      "\tdocs/index_files/index_1264_2.png\n",
      "\tdocs/index_files/index_1267_0.png\n",
      "\tdocs/index_files/index_1268_0.png\n",
      "\tdocs/index_files/index_1270_1.png\n",
      "\tdocs/index_files/index_1273_1.png\n",
      "\tdocs/index_files/index_1275_0.png\n",
      "\tdocs/index_files/index_1280_1.png\n",
      "\tdocs/index_files/index_1290_0.png\n",
      "\tdocs/index_files/index_1292_0.png\n",
      "\tdocs/index_files/index_1296_1.png\n",
      "\tdocs/index_files/index_1297_0.png\n",
      "\tdocs/index_files/index_1300_0.png\n",
      "\tdocs/index_files/index_1302_0.png\n",
      "\tdocs/index_files/index_1303_0.png\n",
      "\tdocs/index_files/index_1305_0.png\n",
      "\tdocs/index_files/index_1310_0.png\n",
      "\tdocs/index_files/index_1345_2.png\n",
      "\tdocs/index_files/index_1472_0.png\n",
      "\tdocs/index_files/index_1473_0.png\n",
      "\tdocs/index_files/index_1516_0.png\n",
      "\tdocs/index_files/index_1521_1.png\n",
      "\tdocs/index_files/index_1524_0.png\n",
      "\tdocs/index_files/index_1526_1.png\n",
      "\tdocs/index_files/index_1528_1.png\n",
      "\n",
      "no changes added to commit (use \"git add\" and/or \"git commit -a\")\n"
     ]
    }
   ],
   "source": [
    "!git status"
   ]
  },
  {
   "cell_type": "code",
   "execution_count": 70,
   "metadata": {},
   "outputs": [
    {
     "name": "stderr",
     "output_type": "stream",
     "text": [
      "warning: LF will be replaced by CRLF in .ipynb_checkpoints/03-pandas-checkpoint.ipynb.\n",
      "The file will have its original line endings in your working directory\n",
      "warning: LF will be replaced by CRLF in 03-pandas.ipynb.\n",
      "The file will have its original line endings in your working directory\n",
      "warning: LF will be replaced by CRLF in compilation.ipynb.\n",
      "The file will have its original line endings in your working directory\n"
     ]
    },
    {
     "name": "stdout",
     "output_type": "stream",
     "text": [
      "[master ce1948b] update\n",
      " 67 files changed, 4984 insertions(+), 4901 deletions(-)\n",
      " rewrite compilation.ipynb (78%)\n",
      " rename docs/index_files/{index_1174_0.png => index_1183_0.png} (100%)\n",
      " rename docs/index_files/{index_1176_0.png => index_1185_0.png} (100%)\n",
      " rename docs/index_files/{index_1181_0.png => index_1190_0.png} (100%)\n",
      " rename docs/index_files/{index_1183_0.png => index_1192_0.png} (100%)\n",
      " rename docs/index_files/{index_1187_1.png => index_1196_1.png} (100%)\n",
      " rename docs/index_files/{index_1189_1.png => index_1198_1.png} (100%)\n",
      " rename docs/index_files/{index_1191_0.png => index_1200_0.png} (100%)\n",
      " rename docs/index_files/{index_1192_0.png => index_1201_0.png} (100%)\n",
      " rename docs/index_files/{index_1194_0.png => index_1203_0.png} (100%)\n",
      " rename docs/index_files/{index_1197_0.png => index_1206_0.png} (100%)\n",
      " rename docs/index_files/{index_1199_0.png => index_1208_0.png} (100%)\n",
      " rename docs/index_files/{index_1201_0.png => index_1210_0.png} (100%)\n",
      " rename docs/index_files/{index_1204_0.png => index_1213_0.png} (100%)\n",
      " rename docs/index_files/{index_1206_0.png => index_1215_0.png} (100%)\n",
      " rename docs/index_files/{index_1207_1.png => index_1216_1.png} (100%)\n",
      " rename docs/index_files/{index_1209_0.png => index_1218_0.png} (100%)\n",
      " rename docs/index_files/{index_1212_1.png => index_1221_1.png} (100%)\n",
      " rename docs/index_files/{index_1214_0.png => index_1223_0.png} (100%)\n",
      " rename docs/index_files/{index_1216_0.png => index_1225_0.png} (100%)\n",
      " rename docs/index_files/{index_1218_0.png => index_1227_0.png} (100%)\n",
      " rename docs/index_files/{index_1221_1.png => index_1230_1.png} (100%)\n",
      " rename docs/index_files/{index_1227_0.png => index_1236_0.png} (100%)\n",
      " rename docs/index_files/{index_1228_0.png => index_1237_0.png} (100%)\n",
      " rename docs/index_files/{index_1230_0.png => index_1239_0.png} (100%)\n",
      " rename docs/index_files/{index_1232_0.png => index_1241_0.png} (100%)\n",
      " rename docs/index_files/{index_1234_0.png => index_1243_0.png} (100%)\n",
      " rename docs/index_files/{index_1237_0.png => index_1246_0.png} (100%)\n",
      " rename docs/index_files/{index_1239_0.png => index_1248_0.png} (100%)\n",
      " rename docs/index_files/{index_1242_0.png => index_1251_0.png} (100%)\n",
      " rename docs/index_files/{index_1245_1.png => index_1254_1.png} (100%)\n",
      " rename docs/index_files/{index_1246_1.png => index_1255_1.png} (100%)\n",
      " rename docs/index_files/{index_1250_2.png => index_1259_2.png} (100%)\n",
      " rename docs/index_files/{index_1253_2.png => index_1262_2.png} (100%)\n",
      " rename docs/index_files/{index_1255_2.png => index_1264_2.png} (100%)\n",
      " rename docs/index_files/{index_1258_0.png => index_1267_0.png} (100%)\n",
      " rename docs/index_files/{index_1259_0.png => index_1268_0.png} (100%)\n",
      " rename docs/index_files/{index_1261_1.png => index_1270_1.png} (100%)\n",
      " rename docs/index_files/{index_1264_1.png => index_1273_1.png} (100%)\n",
      " rename docs/index_files/{index_1266_0.png => index_1275_0.png} (100%)\n",
      " rename docs/index_files/{index_1271_1.png => index_1280_1.png} (100%)\n",
      " rename docs/index_files/{index_1272_0.png => index_1281_0.png} (100%)\n",
      " rename docs/index_files/{index_1273_0.png => index_1282_0.png} (100%)\n",
      " rename docs/index_files/{index_1276_0.png => index_1285_0.png} (100%)\n",
      " rename docs/index_files/{index_1279_0.png => index_1288_0.png} (100%)\n",
      " rename docs/index_files/{index_1281_0.png => index_1290_0.png} (100%)\n",
      " rename docs/index_files/{index_1282_0.png => index_1291_0.png} (100%)\n",
      " rename docs/index_files/{index_1283_0.png => index_1292_0.png} (100%)\n",
      " rename docs/index_files/{index_1285_0.png => index_1294_0.png} (100%)\n",
      " rename docs/index_files/{index_1287_1.png => index_1296_1.png} (100%)\n",
      " rename docs/index_files/{index_1288_0.png => index_1297_0.png} (100%)\n",
      " rename docs/index_files/{index_1291_0.png => index_1300_0.png} (100%)\n",
      " rename docs/index_files/{index_1293_0.png => index_1302_0.png} (100%)\n",
      " rename docs/index_files/{index_1294_0.png => index_1303_0.png} (100%)\n",
      " rename docs/index_files/{index_1296_0.png => index_1305_0.png} (100%)\n",
      " rename docs/index_files/{index_1301_0.png => index_1310_0.png} (100%)\n",
      " rename docs/index_files/{index_1336_2.png => index_1345_2.png} (100%)\n",
      " rename docs/index_files/{index_1463_0.png => index_1472_0.png} (100%)\n",
      " rename docs/index_files/{index_1464_0.png => index_1473_0.png} (100%)\n",
      " rename docs/index_files/{index_1507_0.png => index_1516_0.png} (100%)\n",
      " rename docs/index_files/{index_1512_1.png => index_1521_1.png} (100%)\n",
      " rename docs/index_files/{index_1515_0.png => index_1524_0.png} (100%)\n",
      " rename docs/index_files/{index_1517_1.png => index_1526_1.png} (100%)\n",
      " rename docs/index_files/{index_1519_1.png => index_1528_1.png} (100%)\n"
     ]
    },
    {
     "name": "stderr",
     "output_type": "stream",
     "text": [
      "fatal: TaskCanceledException encountered.\n",
      "   A task was canceled.\n",
      "To https://github.com/yongks/python_book.git\n",
      "   569d5ef..ce1948b  master -> master\n"
     ]
    }
   ],
   "source": [
    "!git add *\n",
    "!git commit -m \"update\"\n",
    "!git push origin master"
   ]
  }
 ],
 "metadata": {
  "kernelspec": {
   "display_name": "Python 3",
   "language": "python",
   "name": "python3"
  },
  "language_info": {
   "codemirror_mode": {
    "name": "ipython",
    "version": 3
   },
   "file_extension": ".py",
   "mimetype": "text/x-python",
   "name": "python",
   "nbconvert_exporter": "python",
   "pygments_lexer": "ipython3",
   "version": "3.7.2"
  },
  "toc": {
   "base_numbering": 1,
   "nav_menu": {},
   "number_sections": true,
   "sideBar": true,
   "skip_h1_title": false,
   "title_cell": "Table of Contents",
   "title_sidebar": "Contents",
   "toc_cell": false,
   "toc_position": {},
   "toc_section_display": "block",
   "toc_window_display": true
  },
  "varInspector": {
   "cols": {
    "lenName": 16,
    "lenType": 16,
    "lenVar": 40
   },
   "kernels_config": {
    "python": {
     "delete_cmd_postfix": "",
     "delete_cmd_prefix": "del ",
     "library": "var_list.py",
     "varRefreshCmd": "print(var_dic_list())"
    },
    "r": {
     "delete_cmd_postfix": ") ",
     "delete_cmd_prefix": "rm(",
     "library": "var_list.r",
     "varRefreshCmd": "cat(var_dic_list()) "
    }
   },
   "types_to_exclude": [
    "module",
    "function",
    "builtin_function_or_method",
    "instance",
    "_Feature"
   ],
   "window_display": false
  }
 },
 "nbformat": 4,
 "nbformat_minor": 2
}
