{
 "cells": [
  {
   "cell_type": "markdown",
   "metadata": {},
   "source": [
    "# Convert Notebook to HTML_TOC \n",
    "- Convert notebook to static pages, as index.html  \n",
    "- Output to ./docs folder, so that github-pages can pick up the static pages\n"
   ]
  },
  {
   "cell_type": "markdown",
   "metadata": {},
   "source": [
    "## Required Library"
   ]
  },
  {
   "cell_type": "markdown",
   "metadata": {},
   "source": [
    "**nbmerge** is required. To install:\n",
    "```\n",
    "pip install nbmerge\n",
    "```"
   ]
  },
  {
   "cell_type": "code",
   "execution_count": 31,
   "metadata": {},
   "outputs": [],
   "source": [
    "import os\n",
    "import shutil\n",
    "from distutils.dir_util import copy_tree"
   ]
  },
  {
   "cell_type": "markdown",
   "metadata": {},
   "source": [
    "## Current Working Directory"
   ]
  },
  {
   "cell_type": "markdown",
   "metadata": {},
   "source": [
    "### Current Working Directory"
   ]
  },
  {
   "cell_type": "code",
   "execution_count": 32,
   "metadata": {},
   "outputs": [
    {
     "name": "stdout",
     "output_type": "stream",
     "text": [
      "D:\\Dropbox\\Dropbox\\github\\python_book\n"
     ]
    }
   ],
   "source": [
    "print(os.getcwd())"
   ]
  },
  {
   "cell_type": "markdown",
   "metadata": {},
   "source": [
    "### List of Files"
   ]
  },
  {
   "cell_type": "code",
   "execution_count": 33,
   "metadata": {},
   "outputs": [
    {
     "data": {
      "text/plain": [
       "['.git',\n",
       " '.ipynb_checkpoints',\n",
       " '01-fundamental.ipynb',\n",
       " '02-numpy.ipynb',\n",
       " '03-pandas.ipynb',\n",
       " '04-visualization.ipynb',\n",
       " '05-sklearn.ipynb',\n",
       " '06-regression.ipynb',\n",
       " 'compilation.ipynb',\n",
       " 'data',\n",
       " 'docs',\n",
       " 'img']"
      ]
     },
     "execution_count": 33,
     "metadata": {},
     "output_type": "execute_result"
    }
   ],
   "source": [
    "os.listdir()"
   ]
  },
  {
   "cell_type": "markdown",
   "metadata": {},
   "source": [
    "## Cleanup ./docs directory\n",
    "Delete ./docs and re-create. This ensure the content of ./docs is always relevant"
   ]
  },
  {
   "cell_type": "code",
   "execution_count": 34,
   "metadata": {},
   "outputs": [],
   "source": [
    "shutil.rmtree(path='./docs',ignore_errors=True)\n",
    "os.mkdir('docs')\n",
    "os.mkdir('docs\\img')"
   ]
  },
  {
   "cell_type": "markdown",
   "metadata": {},
   "source": [
    "## Merging Multiple Chapters into One Notebook\n",
    "Merge all notebooks with filename containing '-' into _merged.ipynb. This is a temporary notebook."
   ]
  },
  {
   "cell_type": "code",
   "execution_count": 35,
   "metadata": {},
   "outputs": [],
   "source": [
    "!nbmerge --recursive -i -p \".*-.*\" -o _python_book.ipynb"
   ]
  },
  {
   "cell_type": "markdown",
   "metadata": {},
   "source": [
    "## Convert Into Static HTML with TOC\n",
    "- Convert the merged notebook into HTML, in '/docs' directory  \n",
    "- Tag cell to \"remove_cell\" in order to 'hide' from final html output"
   ]
  },
  {
   "cell_type": "code",
   "execution_count": 36,
   "metadata": {
    "scrolled": true
   },
   "outputs": [
    {
     "name": "stderr",
     "output_type": "stream",
     "text": [
      "[NbConvertApp] Converting notebook _python_book.ipynb to html_toc\n",
      "[NbConvertApp] Support files will be in index_files\\\n",
      "[NbConvertApp] Making directory ./docs\\index_files\n",
      "[NbConvertApp] Making directory ./docs\\index_files\n",
      "[NbConvertApp] Making directory ./docs\\index_files\n",
      "[NbConvertApp] Making directory ./docs\\index_files\n",
      "[NbConvertApp] Making directory ./docs\\index_files\n",
      "[NbConvertApp] Making directory ./docs\\index_files\n",
      "[NbConvertApp] Making directory ./docs\\index_files\n",
      "[NbConvertApp] Making directory ./docs\\index_files\n",
      "[NbConvertApp] Making directory ./docs\\index_files\n",
      "[NbConvertApp] Making directory ./docs\\index_files\n",
      "[NbConvertApp] Making directory ./docs\\index_files\n",
      "[NbConvertApp] Making directory ./docs\\index_files\n",
      "[NbConvertApp] Making directory ./docs\\index_files\n",
      "[NbConvertApp] Making directory ./docs\\index_files\n",
      "[NbConvertApp] Making directory ./docs\\index_files\n",
      "[NbConvertApp] Making directory ./docs\\index_files\n",
      "[NbConvertApp] Making directory ./docs\\index_files\n",
      "[NbConvertApp] Making directory ./docs\\index_files\n",
      "[NbConvertApp] Making directory ./docs\\index_files\n",
      "[NbConvertApp] Making directory ./docs\\index_files\n",
      "[NbConvertApp] Making directory ./docs\\index_files\n",
      "[NbConvertApp] Making directory ./docs\\index_files\n",
      "[NbConvertApp] Making directory ./docs\\index_files\n",
      "[NbConvertApp] Making directory ./docs\\index_files\n",
      "[NbConvertApp] Making directory ./docs\\index_files\n",
      "[NbConvertApp] Making directory ./docs\\index_files\n",
      "[NbConvertApp] Making directory ./docs\\index_files\n",
      "[NbConvertApp] Making directory ./docs\\index_files\n",
      "[NbConvertApp] Making directory ./docs\\index_files\n",
      "[NbConvertApp] Making directory ./docs\\index_files\n",
      "[NbConvertApp] Making directory ./docs\\index_files\n",
      "[NbConvertApp] Making directory ./docs\\index_files\n",
      "[NbConvertApp] Making directory ./docs\\index_files\n",
      "[NbConvertApp] Making directory ./docs\\index_files\n",
      "[NbConvertApp] Making directory ./docs\\index_files\n",
      "[NbConvertApp] Making directory ./docs\\index_files\n",
      "[NbConvertApp] Making directory ./docs\\index_files\n",
      "[NbConvertApp] Making directory ./docs\\index_files\n",
      "[NbConvertApp] Making directory ./docs\\index_files\n",
      "[NbConvertApp] Making directory ./docs\\index_files\n",
      "[NbConvertApp] Making directory ./docs\\index_files\n",
      "[NbConvertApp] Making directory ./docs\\index_files\n",
      "[NbConvertApp] Making directory ./docs\\index_files\n",
      "[NbConvertApp] Making directory ./docs\\index_files\n",
      "[NbConvertApp] Making directory ./docs\\index_files\n",
      "[NbConvertApp] Making directory ./docs\\index_files\n",
      "[NbConvertApp] Making directory ./docs\\index_files\n",
      "[NbConvertApp] Making directory ./docs\\index_files\n",
      "[NbConvertApp] Making directory ./docs\\index_files\n",
      "[NbConvertApp] Making directory ./docs\\index_files\n",
      "[NbConvertApp] Making directory ./docs\\index_files\n",
      "[NbConvertApp] Making directory ./docs\\index_files\n",
      "[NbConvertApp] Making directory ./docs\\index_files\n",
      "[NbConvertApp] Making directory ./docs\\index_files\n",
      "[NbConvertApp] Making directory ./docs\\index_files\n",
      "[NbConvertApp] Making directory ./docs\\index_files\n",
      "[NbConvertApp] Making directory ./docs\\index_files\n",
      "[NbConvertApp] Making directory ./docs\\index_files\n",
      "[NbConvertApp] Making directory ./docs\\index_files\n",
      "[NbConvertApp] Making directory ./docs\\index_files\n",
      "[NbConvertApp] Making directory ./docs\\index_files\n",
      "[NbConvertApp] Making directory ./docs\\index_files\n",
      "[NbConvertApp] Making directory ./docs\\index_files\n",
      "[NbConvertApp] Writing 1378279 bytes to ./docs\\index.html\n"
     ]
    }
   ],
   "source": [
    "!jupyter nbconvert _python_book.ipynb --TagRemovePreprocessor.remove_cell_tags={\\\"remove_cell\\\"} --to html_toc --output-dir='./docs' --output index.html  "
   ]
  },
  {
   "cell_type": "markdown",
   "metadata": {},
   "source": [
    "## Copy Image Files"
   ]
  },
  {
   "cell_type": "code",
   "execution_count": 37,
   "metadata": {},
   "outputs": [
    {
     "data": {
      "text/plain": [
       "['./docs/img\\\\bias-variance-tradeoff.png',\n",
       " './docs/img\\\\confusion_table.jpg',\n",
       " './docs/img\\\\distribution_chart.gif',\n",
       " './docs/img\\\\dplyr_anti_join.png',\n",
       " './docs/img\\\\dplyr_full_join.png',\n",
       " './docs/img\\\\dplyr_inner_join.png',\n",
       " './docs/img\\\\dplyr_intersect.png',\n",
       " './docs/img\\\\dplyr_left_join.png',\n",
       " './docs/img\\\\dplyr_right_join.png',\n",
       " './docs/img\\\\dplyr_semi_join.png',\n",
       " './docs/img\\\\dplyr_setdiff.png',\n",
       " './docs/img\\\\dplyr_union.png',\n",
       " './docs/img\\\\dtree_split.jpg',\n",
       " './docs/img\\\\dtree_structure.jpg',\n",
       " './docs/img\\\\entropy_gini.jpg',\n",
       " './docs/img\\\\explain_sst.jpg',\n",
       " './docs/img\\\\fitting.png',\n",
       " './docs/img\\\\heteroscedastic.jpg',\n",
       " './docs/img\\\\kfold-cross-validation.png',\n",
       " './docs/img\\\\kfold.jpg',\n",
       " './docs/img\\\\kfold_cross_validation.png',\n",
       " './docs/img\\\\line_types.jpg',\n",
       " './docs/img\\\\logistic_vs_linear.png',\n",
       " './docs/img\\\\ml_libraries.jpg',\n",
       " './docs/img\\\\model_complexity.jpg',\n",
       " './docs/img\\\\numpy.png',\n",
       " './docs/img\\\\point_shapes.jpg',\n",
       " './docs/img\\\\random_forest.png',\n",
       " './docs/img\\\\read_performance.jpg',\n",
       " './docs/img\\\\roc_curve.gif',\n",
       " './docs/img\\\\roc_threshold_demo.gif',\n",
       " './docs/img\\\\sample_excel_import.jpg',\n",
       " './docs/img\\\\scikit_learn_split.jpg',\n",
       " './docs/img\\\\train_test_split_1.jpg',\n",
       " './docs/img\\\\train_test_split_2.jpg',\n",
       " './docs/img\\\\underfitting-overfitting.png']"
      ]
     },
     "execution_count": 37,
     "metadata": {},
     "output_type": "execute_result"
    }
   ],
   "source": [
    "copy_tree('./img', './docs/img')"
   ]
  },
  {
   "cell_type": "markdown",
   "metadata": {},
   "source": [
    "## Final Cleanup\n",
    "Cleanup (remove) merged notebook"
   ]
  },
  {
   "cell_type": "code",
   "execution_count": 38,
   "metadata": {},
   "outputs": [],
   "source": [
    "os.remove('_python_book.ipynb')"
   ]
  },
  {
   "cell_type": "code",
   "execution_count": 39,
   "metadata": {},
   "outputs": [
    {
     "name": "stdout",
     "output_type": "stream",
     "text": [
      "On branch master\n",
      "Changes not staged for commit:\n",
      "  (use \"git add/rm <file>...\" to update what will be committed)\n",
      "  (use \"git checkout -- <file>...\" to discard changes in working directory)\n",
      "\n",
      "\tmodified:   .ipynb_checkpoints/02-numpy-checkpoint.ipynb\n",
      "\tmodified:   02-numpy.ipynb\n",
      "\tmodified:   compilation.ipynb\n",
      "\tmodified:   docs/index.html\n",
      "\tdeleted:    docs/index_files/index_1101_0.png\n",
      "\tdeleted:    docs/index_files/index_1103_0.png\n",
      "\tdeleted:    docs/index_files/index_1108_0.png\n",
      "\tdeleted:    docs/index_files/index_1110_0.png\n",
      "\tdeleted:    docs/index_files/index_1114_1.png\n",
      "\tdeleted:    docs/index_files/index_1116_1.png\n",
      "\tmodified:   docs/index_files/index_1118_0.png\n",
      "\tdeleted:    docs/index_files/index_1119_0.png\n",
      "\tdeleted:    docs/index_files/index_1121_0.png\n",
      "\tdeleted:    docs/index_files/index_1124_0.png\n",
      "\tmodified:   docs/index_files/index_1126_0.png\n",
      "\tdeleted:    docs/index_files/index_1128_0.png\n",
      "\tdeleted:    docs/index_files/index_1131_0.png\n",
      "\tdeleted:    docs/index_files/index_1133_0.png\n",
      "\tdeleted:    docs/index_files/index_1134_1.png\n",
      "\tmodified:   docs/index_files/index_1136_0.png\n",
      "\tdeleted:    docs/index_files/index_1139_1.png\n",
      "\tdeleted:    docs/index_files/index_1143_0.png\n",
      "\tdeleted:    docs/index_files/index_1145_0.png\n",
      "\tdeleted:    docs/index_files/index_1148_1.png\n",
      "\tdeleted:    docs/index_files/index_1154_0.png\n",
      "\tdeleted:    docs/index_files/index_1155_0.png\n",
      "\tdeleted:    docs/index_files/index_1157_0.png\n",
      "\tdeleted:    docs/index_files/index_1159_0.png\n",
      "\tdeleted:    docs/index_files/index_1161_0.png\n",
      "\tdeleted:    docs/index_files/index_1164_0.png\n",
      "\tdeleted:    docs/index_files/index_1166_0.png\n",
      "\tmodified:   docs/index_files/index_1169_0.png\n",
      "\tdeleted:    docs/index_files/index_1172_1.png\n",
      "\tdeleted:    docs/index_files/index_1173_1.png\n",
      "\tdeleted:    docs/index_files/index_1177_2.png\n",
      "\tdeleted:    docs/index_files/index_1180_2.png\n",
      "\tdeleted:    docs/index_files/index_1182_2.png\n",
      "\tdeleted:    docs/index_files/index_1185_0.png\n",
      "\tdeleted:    docs/index_files/index_1186_0.png\n",
      "\tdeleted:    docs/index_files/index_1188_1.png\n",
      "\tdeleted:    docs/index_files/index_1191_1.png\n",
      "\tmodified:   docs/index_files/index_1193_0.png\n",
      "\tdeleted:    docs/index_files/index_1198_1.png\n",
      "\tdeleted:    docs/index_files/index_1199_0.png\n",
      "\tdeleted:    docs/index_files/index_1200_0.png\n",
      "\tdeleted:    docs/index_files/index_1203_0.png\n",
      "\tdeleted:    docs/index_files/index_1206_0.png\n",
      "\tmodified:   docs/index_files/index_1208_0.png\n",
      "\tdeleted:    docs/index_files/index_1209_0.png\n",
      "\tdeleted:    docs/index_files/index_1210_0.png\n",
      "\tdeleted:    docs/index_files/index_1212_0.png\n",
      "\tdeleted:    docs/index_files/index_1214_1.png\n",
      "\tdeleted:    docs/index_files/index_1215_0.png\n",
      "\tmodified:   docs/index_files/index_1218_0.png\n",
      "\tmodified:   docs/index_files/index_1220_0.png\n",
      "\tdeleted:    docs/index_files/index_1221_0.png\n",
      "\tmodified:   docs/index_files/index_1223_0.png\n",
      "\tmodified:   docs/index_files/index_1228_0.png\n",
      "\tdeleted:    docs/index_files/index_1263_2.png\n",
      "\tdeleted:    docs/index_files/index_1390_0.png\n",
      "\tdeleted:    docs/index_files/index_1391_0.png\n",
      "\tdeleted:    docs/index_files/index_1434_0.png\n",
      "\tdeleted:    docs/index_files/index_1439_1.png\n",
      "\tdeleted:    docs/index_files/index_1444_1.png\n",
      "\tdeleted:    docs/index_files/index_1446_1.png\n",
      "\n",
      "Untracked files:\n",
      "  (use \"git add <file>...\" to include in what will be committed)\n",
      "\n",
      "\tdocs/index_files/index_1109_0.png\n",
      "\tdocs/index_files/index_1111_0.png\n",
      "\tdocs/index_files/index_1116_0.png\n",
      "\tdocs/index_files/index_1122_1.png\n",
      "\tdocs/index_files/index_1124_1.png\n",
      "\tdocs/index_files/index_1127_0.png\n",
      "\tdocs/index_files/index_1129_0.png\n",
      "\tdocs/index_files/index_1132_0.png\n",
      "\tdocs/index_files/index_1134_0.png\n",
      "\tdocs/index_files/index_1139_0.png\n",
      "\tdocs/index_files/index_1142_1.png\n",
      "\tdocs/index_files/index_1144_0.png\n",
      "\tdocs/index_files/index_1147_1.png\n",
      "\tdocs/index_files/index_1149_0.png\n",
      "\tdocs/index_files/index_1151_0.png\n",
      "\tdocs/index_files/index_1153_0.png\n",
      "\tdocs/index_files/index_1156_1.png\n",
      "\tdocs/index_files/index_1162_0.png\n",
      "\tdocs/index_files/index_1163_0.png\n",
      "\tdocs/index_files/index_1165_0.png\n",
      "\tdocs/index_files/index_1167_0.png\n",
      "\tdocs/index_files/index_1172_0.png\n",
      "\tdocs/index_files/index_1174_0.png\n",
      "\tdocs/index_files/index_1177_0.png\n",
      "\tdocs/index_files/index_1180_1.png\n",
      "\tdocs/index_files/index_1181_1.png\n",
      "\tdocs/index_files/index_1185_2.png\n",
      "\tdocs/index_files/index_1188_2.png\n",
      "\tdocs/index_files/index_1190_2.png\n",
      "\tdocs/index_files/index_1194_0.png\n",
      "\tdocs/index_files/index_1196_1.png\n",
      "\tdocs/index_files/index_1199_1.png\n",
      "\tdocs/index_files/index_1201_0.png\n",
      "\tdocs/index_files/index_1206_1.png\n",
      "\tdocs/index_files/index_1207_0.png\n",
      "\tdocs/index_files/index_1211_0.png\n",
      "\tdocs/index_files/index_1214_0.png\n",
      "\tdocs/index_files/index_1216_0.png\n",
      "\tdocs/index_files/index_1217_0.png\n",
      "\tdocs/index_files/index_1222_1.png\n",
      "\tdocs/index_files/index_1226_0.png\n",
      "\tdocs/index_files/index_1229_0.png\n",
      "\tdocs/index_files/index_1231_0.png\n",
      "\tdocs/index_files/index_1236_0.png\n",
      "\tdocs/index_files/index_1271_2.png\n",
      "\tdocs/index_files/index_1398_0.png\n",
      "\tdocs/index_files/index_1399_0.png\n",
      "\tdocs/index_files/index_1447_1.png\n",
      "\tdocs/index_files/index_1450_0.png\n",
      "\tdocs/index_files/index_1452_1.png\n",
      "\tdocs/index_files/index_1454_1.png\n",
      "\n",
      "no changes added to commit (use \"git add\" and/or \"git commit -a\")\n"
     ]
    }
   ],
   "source": [
    "!git status"
   ]
  },
  {
   "cell_type": "code",
   "execution_count": 40,
   "metadata": {},
   "outputs": [
    {
     "name": "stderr",
     "output_type": "stream",
     "text": [
      "warning: LF will be replaced by CRLF in .ipynb_checkpoints/02-numpy-checkpoint.ipynb.\n",
      "The file will have its original line endings in your working directory\n",
      "warning: LF will be replaced by CRLF in 02-numpy.ipynb.\n",
      "The file will have its original line endings in your working directory\n",
      "warning: LF will be replaced by CRLF in compilation.ipynb.\n",
      "The file will have its original line endings in your working directory\n"
     ]
    },
    {
     "name": "stdout",
     "output_type": "stream",
     "text": [
      "[master 38513ef] update\n",
      " 65 files changed, 1851 insertions(+), 1350 deletions(-)\n",
      " rename docs/index_files/{index_1101_0.png => index_1109_0.png} (100%)\n",
      " rename docs/index_files/{index_1103_0.png => index_1111_0.png} (100%)\n",
      " rename docs/index_files/{index_1108_0.png => index_1116_0.png} (100%)\n",
      " rename docs/index_files/{index_1110_0.png => index_1118_0.png} (100%)\n",
      " rename docs/index_files/{index_1114_1.png => index_1122_1.png} (100%)\n",
      " rename docs/index_files/{index_1116_1.png => index_1124_1.png} (100%)\n",
      " rename docs/index_files/{index_1118_0.png => index_1126_0.png} (100%)\n",
      " rename docs/index_files/{index_1119_0.png => index_1127_0.png} (100%)\n",
      " rename docs/index_files/{index_1121_0.png => index_1129_0.png} (100%)\n",
      " rename docs/index_files/{index_1124_0.png => index_1132_0.png} (100%)\n",
      " rename docs/index_files/{index_1126_0.png => index_1134_0.png} (100%)\n",
      " rename docs/index_files/{index_1128_0.png => index_1136_0.png} (100%)\n",
      " rename docs/index_files/{index_1131_0.png => index_1139_0.png} (100%)\n",
      " rename docs/index_files/{index_1134_1.png => index_1142_1.png} (100%)\n",
      " rename docs/index_files/{index_1136_0.png => index_1144_0.png} (100%)\n",
      " rename docs/index_files/{index_1139_1.png => index_1147_1.png} (100%)\n",
      " rename docs/index_files/{index_1133_0.png => index_1149_0.png} (100%)\n",
      " rename docs/index_files/{index_1143_0.png => index_1151_0.png} (100%)\n",
      " rename docs/index_files/{index_1145_0.png => index_1153_0.png} (100%)\n",
      " rename docs/index_files/{index_1148_1.png => index_1156_1.png} (100%)\n",
      " rename docs/index_files/{index_1154_0.png => index_1162_0.png} (100%)\n",
      " rename docs/index_files/{index_1155_0.png => index_1163_0.png} (100%)\n",
      " rename docs/index_files/{index_1157_0.png => index_1165_0.png} (100%)\n",
      " rename docs/index_files/{index_1159_0.png => index_1167_0.png} (100%)\n",
      " rename docs/index_files/{index_1161_0.png => index_1169_0.png} (100%)\n",
      " rename docs/index_files/{index_1164_0.png => index_1172_0.png} (100%)\n",
      " rename docs/index_files/{index_1166_0.png => index_1174_0.png} (100%)\n",
      " rename docs/index_files/{index_1169_0.png => index_1177_0.png} (100%)\n",
      " rename docs/index_files/{index_1172_1.png => index_1180_1.png} (100%)\n",
      " rename docs/index_files/{index_1173_1.png => index_1181_1.png} (100%)\n",
      " rename docs/index_files/{index_1177_2.png => index_1185_2.png} (100%)\n",
      " rename docs/index_files/{index_1180_2.png => index_1188_2.png} (100%)\n",
      " rename docs/index_files/{index_1182_2.png => index_1190_2.png} (100%)\n",
      " rename docs/index_files/{index_1185_0.png => index_1193_0.png} (100%)\n",
      " rename docs/index_files/{index_1186_0.png => index_1194_0.png} (100%)\n",
      " rename docs/index_files/{index_1188_1.png => index_1196_1.png} (100%)\n",
      " rename docs/index_files/{index_1191_1.png => index_1199_1.png} (100%)\n",
      " rename docs/index_files/{index_1193_0.png => index_1201_0.png} (100%)\n",
      " rename docs/index_files/{index_1198_1.png => index_1206_1.png} (100%)\n",
      " rename docs/index_files/{index_1199_0.png => index_1207_0.png} (100%)\n",
      " rename docs/index_files/{index_1200_0.png => index_1208_0.png} (100%)\n",
      " rename docs/index_files/{index_1203_0.png => index_1211_0.png} (100%)\n",
      " rename docs/index_files/{index_1206_0.png => index_1214_0.png} (100%)\n",
      " rename docs/index_files/{index_1208_0.png => index_1216_0.png} (100%)\n",
      " rename docs/index_files/{index_1209_0.png => index_1217_0.png} (100%)\n",
      " rename docs/index_files/{index_1210_0.png => index_1218_0.png} (100%)\n",
      " rename docs/index_files/{index_1212_0.png => index_1220_0.png} (100%)\n",
      " rename docs/index_files/{index_1214_1.png => index_1222_1.png} (100%)\n",
      " rename docs/index_files/{index_1215_0.png => index_1223_0.png} (100%)\n",
      " rename docs/index_files/{index_1218_0.png => index_1226_0.png} (100%)\n",
      " rename docs/index_files/{index_1220_0.png => index_1228_0.png} (100%)\n",
      " rename docs/index_files/{index_1221_0.png => index_1229_0.png} (100%)\n",
      " rename docs/index_files/{index_1223_0.png => index_1231_0.png} (100%)\n",
      " rename docs/index_files/{index_1228_0.png => index_1236_0.png} (100%)\n",
      " rename docs/index_files/{index_1263_2.png => index_1271_2.png} (100%)\n",
      " rename docs/index_files/{index_1390_0.png => index_1398_0.png} (100%)\n",
      " rename docs/index_files/{index_1391_0.png => index_1399_0.png} (100%)\n",
      " rename docs/index_files/{index_1439_1.png => index_1447_1.png} (100%)\n",
      " rename docs/index_files/{index_1434_0.png => index_1450_0.png} (100%)\n",
      " rename docs/index_files/{index_1444_1.png => index_1452_1.png} (100%)\n",
      " rename docs/index_files/{index_1446_1.png => index_1454_1.png} (100%)\n"
     ]
    },
    {
     "name": "stderr",
     "output_type": "stream",
     "text": [
      "To https://github.com/yongks/python_book.git\n",
      "   c8f4962..38513ef  master -> master\n"
     ]
    }
   ],
   "source": [
    "!git add *\n",
    "!git commit -m \"update\"\n",
    "!git push origin master"
   ]
  }
 ],
 "metadata": {
  "kernelspec": {
   "display_name": "Python 3",
   "language": "python",
   "name": "python3"
  },
  "language_info": {
   "codemirror_mode": {
    "name": "ipython",
    "version": 3
   },
   "file_extension": ".py",
   "mimetype": "text/x-python",
   "name": "python",
   "nbconvert_exporter": "python",
   "pygments_lexer": "ipython3",
   "version": "3.7.2"
  },
  "toc": {
   "base_numbering": 1,
   "nav_menu": {},
   "number_sections": true,
   "sideBar": true,
   "skip_h1_title": false,
   "title_cell": "Table of Contents",
   "title_sidebar": "Contents",
   "toc_cell": false,
   "toc_position": {},
   "toc_section_display": "block",
   "toc_window_display": true
  },
  "varInspector": {
   "cols": {
    "lenName": 16,
    "lenType": 16,
    "lenVar": 40
   },
   "kernels_config": {
    "python": {
     "delete_cmd_postfix": "",
     "delete_cmd_prefix": "del ",
     "library": "var_list.py",
     "varRefreshCmd": "print(var_dic_list())"
    },
    "r": {
     "delete_cmd_postfix": ") ",
     "delete_cmd_prefix": "rm(",
     "library": "var_list.r",
     "varRefreshCmd": "cat(var_dic_list()) "
    }
   },
   "types_to_exclude": [
    "module",
    "function",
    "builtin_function_or_method",
    "instance",
    "_Feature"
   ],
   "window_display": false
  }
 },
 "nbformat": 4,
 "nbformat_minor": 2
}
