{
 "cells": [
  {
   "cell_type": "markdown",
   "metadata": {},
   "source": [
    "# Convert Notebook to HTML_TOC \n",
    "- Convert notebook to static pages, as index.html  \n",
    "- Output to ./docs folder, so that github-pages can pick up the static pages\n"
   ]
  },
  {
   "cell_type": "markdown",
   "metadata": {},
   "source": [
    "## Required Library"
   ]
  },
  {
   "cell_type": "markdown",
   "metadata": {},
   "source": [
    "**nbmerge** is required. To install:\n",
    "```\n",
    "pip install nbmerge\n",
    "```"
   ]
  },
  {
   "cell_type": "code",
   "execution_count": 1,
   "metadata": {},
   "outputs": [],
   "source": [
    "import os\n",
    "import shutil"
   ]
  },
  {
   "cell_type": "markdown",
   "metadata": {},
   "source": [
    "## Current Working Directory"
   ]
  },
  {
   "cell_type": "markdown",
   "metadata": {},
   "source": [
    "### Current Working Directory"
   ]
  },
  {
   "cell_type": "code",
   "execution_count": 2,
   "metadata": {},
   "outputs": [
    {
     "name": "stdout",
     "output_type": "stream",
     "text": [
      "c:\\Users\\YKS-NIC\\Dropbox\\github\\python_book\n"
     ]
    }
   ],
   "source": [
    "print(os.getcwd())"
   ]
  },
  {
   "cell_type": "markdown",
   "metadata": {},
   "source": [
    "### List of Files"
   ]
  },
  {
   "cell_type": "code",
   "execution_count": 3,
   "metadata": {},
   "outputs": [
    {
     "data": {
      "text/plain": [
       "['.git',\n",
       " '.ipynb_checkpoints',\n",
       " '01-fundamental.ipynb',\n",
       " '02-numpy.ipynb',\n",
       " '03-pandas.ipynb',\n",
       " '04-visualization.ipynb',\n",
       " '05-sklearn.ipynb',\n",
       " 'compilation.ipynb',\n",
       " 'data',\n",
       " 'docs',\n",
       " 'img']"
      ]
     },
     "execution_count": 3,
     "metadata": {},
     "output_type": "execute_result"
    }
   ],
   "source": [
    "os.listdir()"
   ]
  },
  {
   "cell_type": "markdown",
   "metadata": {},
   "source": [
    "## Cleanup ./docs directory\n",
    "Delete ./docs and re-create. This ensure the content of ./docs is always relevant"
   ]
  },
  {
   "cell_type": "code",
   "execution_count": 4,
   "metadata": {},
   "outputs": [],
   "source": [
    "shutil.rmtree(path='./docs',ignore_errors=True)\n",
    "os.mkdir('docs')"
   ]
  },
  {
   "cell_type": "markdown",
   "metadata": {},
   "source": [
    "## Merging Multiple Chapters into One Notebook\n",
    "Merge all notebooks with filename containing '-' into _merged.ipynb. This is a temporary notebook."
   ]
  },
  {
   "cell_type": "code",
   "execution_count": 5,
   "metadata": {},
   "outputs": [],
   "source": [
    "!nbmerge --recursive -i -p \".*-.*\" -o _python_book.ipynb"
   ]
  },
  {
   "cell_type": "markdown",
   "metadata": {},
   "source": [
    "## Convert Into Static HTML with TOC\n",
    "- Convert the merged notebook into HTML, in '/docs' directory  \n",
    "- Tag cell to \"remove_cell\" in order to 'hide' from final html output"
   ]
  },
  {
   "cell_type": "code",
   "execution_count": 6,
   "metadata": {
    "scrolled": true
   },
   "outputs": [
    {
     "name": "stderr",
     "output_type": "stream",
     "text": [
      "[NbConvertApp] Converting notebook _python_book.ipynb to html_toc\n",
      "[NbConvertApp] Support files will be in index_files\\\n",
      "[NbConvertApp] Making directory ./docs\\index_files\n",
      "[NbConvertApp] Making directory ./docs\\index_files\n",
      "[NbConvertApp] Making directory ./docs\\index_files\n",
      "[NbConvertApp] Making directory ./docs\\index_files\n",
      "[NbConvertApp] Making directory ./docs\\index_files\n",
      "[NbConvertApp] Making directory ./docs\\index_files\n",
      "[NbConvertApp] Making directory ./docs\\index_files\n",
      "[NbConvertApp] Making directory ./docs\\index_files\n",
      "[NbConvertApp] Making directory ./docs\\index_files\n",
      "[NbConvertApp] Making directory ./docs\\index_files\n",
      "[NbConvertApp] Making directory ./docs\\index_files\n",
      "[NbConvertApp] Making directory ./docs\\index_files\n",
      "[NbConvertApp] Making directory ./docs\\index_files\n",
      "[NbConvertApp] Making directory ./docs\\index_files\n",
      "[NbConvertApp] Making directory ./docs\\index_files\n",
      "[NbConvertApp] Making directory ./docs\\index_files\n",
      "[NbConvertApp] Making directory ./docs\\index_files\n",
      "[NbConvertApp] Making directory ./docs\\index_files\n",
      "[NbConvertApp] Making directory ./docs\\index_files\n",
      "[NbConvertApp] Making directory ./docs\\index_files\n",
      "[NbConvertApp] Making directory ./docs\\index_files\n",
      "[NbConvertApp] Making directory ./docs\\index_files\n",
      "[NbConvertApp] Making directory ./docs\\index_files\n",
      "[NbConvertApp] Making directory ./docs\\index_files\n",
      "[NbConvertApp] Making directory ./docs\\index_files\n",
      "[NbConvertApp] Making directory ./docs\\index_files\n",
      "[NbConvertApp] Making directory ./docs\\index_files\n",
      "[NbConvertApp] Making directory ./docs\\index_files\n",
      "[NbConvertApp] Making directory ./docs\\index_files\n",
      "[NbConvertApp] Making directory ./docs\\index_files\n",
      "[NbConvertApp] Making directory ./docs\\index_files\n",
      "[NbConvertApp] Making directory ./docs\\index_files\n",
      "[NbConvertApp] Making directory ./docs\\index_files\n",
      "[NbConvertApp] Making directory ./docs\\index_files\n",
      "[NbConvertApp] Making directory ./docs\\index_files\n",
      "[NbConvertApp] Making directory ./docs\\index_files\n",
      "[NbConvertApp] Making directory ./docs\\index_files\n",
      "[NbConvertApp] Making directory ./docs\\index_files\n",
      "[NbConvertApp] Making directory ./docs\\index_files\n",
      "[NbConvertApp] Making directory ./docs\\index_files\n",
      "[NbConvertApp] Making directory ./docs\\index_files\n",
      "[NbConvertApp] Making directory ./docs\\index_files\n",
      "[NbConvertApp] Making directory ./docs\\index_files\n",
      "[NbConvertApp] Making directory ./docs\\index_files\n",
      "[NbConvertApp] Making directory ./docs\\index_files\n",
      "[NbConvertApp] Making directory ./docs\\index_files\n",
      "[NbConvertApp] Making directory ./docs\\index_files\n",
      "[NbConvertApp] Making directory ./docs\\index_files\n",
      "[NbConvertApp] Making directory ./docs\\index_files\n",
      "[NbConvertApp] Making directory ./docs\\index_files\n",
      "[NbConvertApp] Making directory ./docs\\index_files\n",
      "[NbConvertApp] Making directory ./docs\\index_files\n",
      "[NbConvertApp] Making directory ./docs\\index_files\n",
      "[NbConvertApp] Making directory ./docs\\index_files\n",
      "[NbConvertApp] Making directory ./docs\\index_files\n",
      "[NbConvertApp] Making directory ./docs\\index_files\n",
      "[NbConvertApp] Making directory ./docs\\index_files\n",
      "[NbConvertApp] Making directory ./docs\\index_files\n",
      "[NbConvertApp] Making directory ./docs\\index_files\n",
      "[NbConvertApp] Making directory ./docs\\index_files\n",
      "[NbConvertApp] Making directory ./docs\\index_files\n",
      "[NbConvertApp] Writing 1159811 bytes to ./docs\\index.html\n"
     ]
    }
   ],
   "source": [
    "!jupyter nbconvert _python_book.ipynb --TagRemovePreprocessor.remove_cell_tags={\\\"remove_cell\\\"} --to html_toc --output-dir='./docs' --output index.html  "
   ]
  },
  {
   "cell_type": "markdown",
   "metadata": {},
   "source": [
    "## Final Cleanup\n",
    "Cleanup (remove) merged notebook"
   ]
  },
  {
   "cell_type": "code",
   "execution_count": 7,
   "metadata": {},
   "outputs": [],
   "source": [
    "os.remove('_python_book.ipynb')"
   ]
  },
  {
   "cell_type": "code",
   "execution_count": 8,
   "metadata": {},
   "outputs": [
    {
     "name": "stdout",
     "output_type": "stream",
     "text": [
      "On branch master\n",
      "Changes not staged for commit:\n",
      "  (use \"git add/rm <file>...\" to update what will be committed)\n",
      "  (use \"git checkout -- <file>...\" to discard changes in working directory)\n",
      "\n",
      "\tmodified:   .ipynb_checkpoints/01-fundamental-checkpoint.ipynb\n",
      "\tmodified:   .ipynb_checkpoints/02-numpy-checkpoint.ipynb\n",
      "\tmodified:   .ipynb_checkpoints/03-pandas-checkpoint.ipynb\n",
      "\tmodified:   .ipynb_checkpoints/04-visualization-checkpoint.ipynb\n",
      "\tmodified:   .ipynb_checkpoints/05-sklearn-checkpoint.ipynb\n",
      "\tmodified:   .ipynb_checkpoints/compilation-checkpoint.ipynb\n",
      "\tmodified:   02-numpy.ipynb\n",
      "\tmodified:   03-pandas.ipynb\n",
      "\tmodified:   04-visualization.ipynb\n",
      "\tmodified:   05-sklearn.ipynb\n",
      "\tmodified:   compilation.ipynb\n",
      "\tmodified:   docs/index.html\n",
      "\tdeleted:    docs/index_files/index_1001_2.png\n",
      "\tdeleted:    docs/index_files/index_1004_0.png\n",
      "\tdeleted:    docs/index_files/index_1005_0.png\n",
      "\tdeleted:    docs/index_files/index_1007_1.png\n",
      "\tdeleted:    docs/index_files/index_1010_1.png\n",
      "\tdeleted:    docs/index_files/index_1012_0.png\n",
      "\tdeleted:    docs/index_files/index_1017_1.png\n",
      "\tdeleted:    docs/index_files/index_1018_0.png\n",
      "\tdeleted:    docs/index_files/index_1019_0.png\n",
      "\tdeleted:    docs/index_files/index_1022_0.png\n",
      "\tmodified:   docs/index_files/index_1025_0.png\n",
      "\tdeleted:    docs/index_files/index_1028_0.png\n",
      "\tmodified:   docs/index_files/index_1029_0.png\n",
      "\tdeleted:    docs/index_files/index_1031_0.png\n",
      "\tdeleted:    docs/index_files/index_1033_1.png\n",
      "\tdeleted:    docs/index_files/index_1034_0.png\n",
      "\tmodified:   docs/index_files/index_1037_0.png\n",
      "\tdeleted:    docs/index_files/index_1039_0.png\n",
      "\tmodified:   docs/index_files/index_1040_0.png\n",
      "\tdeleted:    docs/index_files/index_1042_0.png\n",
      "\tdeleted:    docs/index_files/index_1047_0.png\n",
      "\tdeleted:    docs/index_files/index_1144_0.png\n",
      "\tdeleted:    docs/index_files/index_1145_0.png\n",
      "\tdeleted:    docs/index_files/index_1190_0.png\n",
      "\tdeleted:    docs/index_files/index_1195_1.png\n",
      "\tdeleted:    docs/index_files/index_1198_0.png\n",
      "\tmodified:   docs/index_files/index_1200_1.png\n",
      "\tdeleted:    docs/index_files/index_1202_1.png\n",
      "\tmodified:   docs/index_files/index_921_0.png\n",
      "\tdeleted:    docs/index_files/index_923_0.png\n",
      "\tmodified:   docs/index_files/index_928_0.png\n",
      "\tdeleted:    docs/index_files/index_930_0.png\n",
      "\tmodified:   docs/index_files/index_934_1.png\n",
      "\tdeleted:    docs/index_files/index_936_1.png\n",
      "\tdeleted:    docs/index_files/index_938_0.png\n",
      "\tmodified:   docs/index_files/index_939_0.png\n",
      "\tdeleted:    docs/index_files/index_941_0.png\n",
      "\tmodified:   docs/index_files/index_944_0.png\n",
      "\tmodified:   docs/index_files/index_946_0.png\n",
      "\tdeleted:    docs/index_files/index_948_0.png\n",
      "\tmodified:   docs/index_files/index_951_0.png\n",
      "\tdeleted:    docs/index_files/index_953_0.png\n",
      "\tdeleted:    docs/index_files/index_954_1.png\n",
      "\tdeleted:    docs/index_files/index_956_0.png\n",
      "\tdeleted:    docs/index_files/index_958_1.png\n",
      "\tmodified:   docs/index_files/index_960_0.png\n",
      "\tmodified:   docs/index_files/index_962_0.png\n",
      "\tdeleted:    docs/index_files/index_964_0.png\n",
      "\tdeleted:    docs/index_files/index_967_1.png\n",
      "\tdeleted:    docs/index_files/index_973_0.png\n",
      "\tmodified:   docs/index_files/index_974_0.png\n",
      "\tmodified:   docs/index_files/index_976_0.png\n",
      "\tmodified:   docs/index_files/index_978_0.png\n",
      "\tdeleted:    docs/index_files/index_980_0.png\n",
      "\tmodified:   docs/index_files/index_983_0.png\n",
      "\tdeleted:    docs/index_files/index_985_0.png\n",
      "\tdeleted:    docs/index_files/index_988_0.png\n",
      "\tdeleted:    docs/index_files/index_991_1.png\n",
      "\tdeleted:    docs/index_files/index_992_1.png\n",
      "\tdeleted:    docs/index_files/index_996_2.png\n",
      "\tmodified:   docs/index_files/index_999_2.png\n",
      "\n",
      "Untracked files:\n",
      "  (use \"git add <file>...\" to include in what will be committed)\n",
      "\n",
      "\tdata/Presentation1.pptx\n",
      "\tdocs/index_files/index_1002_0.png\n",
      "\tdocs/index_files/index_1003_0.png\n",
      "\tdocs/index_files/index_1005_1.png\n",
      "\tdocs/index_files/index_1008_1.png\n",
      "\tdocs/index_files/index_1010_0.png\n",
      "\tdocs/index_files/index_1015_1.png\n",
      "\tdocs/index_files/index_1016_0.png\n",
      "\tdocs/index_files/index_1017_0.png\n",
      "\tdocs/index_files/index_1020_0.png\n",
      "\tdocs/index_files/index_1023_0.png\n",
      "\tdocs/index_files/index_1026_0.png\n",
      "\tdocs/index_files/index_1031_1.png\n",
      "\tdocs/index_files/index_1032_0.png\n",
      "\tdocs/index_files/index_1035_0.png\n",
      "\tdocs/index_files/index_1038_0.png\n",
      "\tdocs/index_files/index_1045_0.png\n",
      "\tdocs/index_files/index_1149_0.png\n",
      "\tdocs/index_files/index_1195_0.png\n",
      "\tdocs/index_files/index_1203_0.png\n",
      "\tdocs/index_files/index_1205_1.png\n",
      "\tdocs/index_files/index_1207_1.png\n",
      "\tdocs/index_files/index_919_0.png\n",
      "\tdocs/index_files/index_926_0.png\n",
      "\tdocs/index_files/index_932_1.png\n",
      "\tdocs/index_files/index_936_0.png\n",
      "\tdocs/index_files/index_937_0.png\n",
      "\tdocs/index_files/index_942_0.png\n",
      "\tdocs/index_files/index_949_0.png\n",
      "\tdocs/index_files/index_952_1.png\n",
      "\tdocs/index_files/index_954_0.png\n",
      "\tdocs/index_files/index_956_1.png\n",
      "\tdocs/index_files/index_958_0.png\n",
      "\tdocs/index_files/index_965_1.png\n",
      "\tdocs/index_files/index_971_0.png\n",
      "\tdocs/index_files/index_972_0.png\n",
      "\tdocs/index_files/index_981_0.png\n",
      "\tdocs/index_files/index_986_0.png\n",
      "\tdocs/index_files/index_989_1.png\n",
      "\tdocs/index_files/index_990_1.png\n",
      "\tdocs/index_files/index_994_2.png\n",
      "\tdocs/index_files/index_997_2.png\n",
      "\timg/scikit_learn_split.jpg\n",
      "\timg/scikit_learn_split.jpg.jpg\n",
      "\n",
      "no changes added to commit (use \"git add\" and/or \"git commit -a\")\n"
     ]
    }
   ],
   "source": [
    "!git status"
   ]
  },
  {
   "cell_type": "code",
   "execution_count": 10,
   "metadata": {},
   "outputs": [],
   "source": [
    "#!git add *\n",
    "#!git commit -m \"update\"\n",
    "#!git push origin master"
   ]
  },
  {
   "cell_type": "code",
   "execution_count": null,
   "metadata": {},
   "outputs": [],
   "source": []
  }
 ],
 "metadata": {
  "kernelspec": {
   "display_name": "Python 3",
   "language": "python",
   "name": "python3"
  },
  "language_info": {
   "codemirror_mode": {
    "name": "ipython",
    "version": 3
   },
   "file_extension": ".py",
   "mimetype": "text/x-python",
   "name": "python",
   "nbconvert_exporter": "python",
   "pygments_lexer": "ipython3",
   "version": "3.6.5"
  },
  "toc": {
   "nav_menu": {},
   "number_sections": true,
   "sideBar": true,
   "skip_h1_title": false,
   "toc_cell": false,
   "toc_position": {},
   "toc_section_display": "block",
   "toc_window_display": true
  },
  "varInspector": {
   "cols": {
    "lenName": 16,
    "lenType": 16,
    "lenVar": 40
   },
   "kernels_config": {
    "python": {
     "delete_cmd_postfix": "",
     "delete_cmd_prefix": "del ",
     "library": "var_list.py",
     "varRefreshCmd": "print(var_dic_list())"
    },
    "r": {
     "delete_cmd_postfix": ") ",
     "delete_cmd_prefix": "rm(",
     "library": "var_list.r",
     "varRefreshCmd": "cat(var_dic_list()) "
    }
   },
   "types_to_exclude": [
    "module",
    "function",
    "builtin_function_or_method",
    "instance",
    "_Feature"
   ],
   "window_display": false
  }
 },
 "nbformat": 4,
 "nbformat_minor": 2
}
