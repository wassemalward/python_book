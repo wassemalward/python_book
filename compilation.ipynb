{
 "cells": [
  {
   "cell_type": "markdown",
   "metadata": {},
   "source": [
    "# Convert Notebook to HTML_TOC \n",
    "- Convert notebook to static pages, as index.html  \n",
    "- Output to ./docs folder, so that github-pages can pick up the static pages\n"
   ]
  },
  {
   "cell_type": "markdown",
   "metadata": {},
   "source": [
    "## Required Library"
   ]
  },
  {
   "cell_type": "markdown",
   "metadata": {},
   "source": [
    "**nbmerge** is required. To install:\n",
    "```\n",
    "pip install nbmerge\n",
    "```"
   ]
  },
  {
   "cell_type": "code",
   "execution_count": 68,
   "metadata": {},
   "outputs": [],
   "source": [
    "import os\n",
    "import shutil"
   ]
  },
  {
   "cell_type": "markdown",
   "metadata": {},
   "source": [
    "## Current Working Directory"
   ]
  },
  {
   "cell_type": "markdown",
   "metadata": {},
   "source": [
    "### Current Working Directory"
   ]
  },
  {
   "cell_type": "code",
   "execution_count": 69,
   "metadata": {},
   "outputs": [
    {
     "name": "stdout",
     "output_type": "stream",
     "text": [
      "C:\\Users\\YKS-NIC\\Dropbox\\github\\python_book\n"
     ]
    }
   ],
   "source": [
    "print(os.getcwd())"
   ]
  },
  {
   "cell_type": "markdown",
   "metadata": {},
   "source": [
    "### List of Files"
   ]
  },
  {
   "cell_type": "code",
   "execution_count": 70,
   "metadata": {},
   "outputs": [
    {
     "data": {
      "text/plain": [
       "['.git',\n",
       " '.ipynb_checkpoints',\n",
       " '01-fundamental.ipynb',\n",
       " '02-numpy.ipynb',\n",
       " '03-matplotlib.ipynb',\n",
       " '04-pandas.ipynb',\n",
       " '05-sklearn.ipynb',\n",
       " 'compilation.ipynb',\n",
       " 'data',\n",
       " 'docs',\n",
       " 'img']"
      ]
     },
     "execution_count": 70,
     "metadata": {},
     "output_type": "execute_result"
    }
   ],
   "source": [
    "os.listdir()"
   ]
  },
  {
   "cell_type": "markdown",
   "metadata": {},
   "source": [
    "## Cleanup ./docs directory\n",
    "Delete ./docs and re-create. This ensure the content of ./docs is always relevant"
   ]
  },
  {
   "cell_type": "code",
   "execution_count": 71,
   "metadata": {},
   "outputs": [],
   "source": [
    "shutil.rmtree(path='./docs',ignore_errors=True)\n",
    "os.mkdir('docs')"
   ]
  },
  {
   "cell_type": "markdown",
   "metadata": {},
   "source": [
    "## Merging Multiple Chapters into One Notebook\n",
    "Merge all notebooks with filename containing '-' into _merged.ipynb. This is a temporary notebook."
   ]
  },
  {
   "cell_type": "code",
   "execution_count": 72,
   "metadata": {},
   "outputs": [],
   "source": [
    "!nbmerge --recursive -i -p \".*-.*\" -o _merged.ipynb"
   ]
  },
  {
   "cell_type": "markdown",
   "metadata": {},
   "source": [
    "## Convert Into Static HTML with TOC\n",
    "Convert the merged notebook into HTML, in '/docs' directory"
   ]
  },
  {
   "cell_type": "code",
   "execution_count": 73,
   "metadata": {
    "scrolled": true
   },
   "outputs": [
    {
     "name": "stderr",
     "output_type": "stream",
     "text": [
      "[NbConvertApp] Converting notebook _merged.ipynb to html_toc\n",
      "[NbConvertApp] Support files will be in index_files\\\n",
      "[NbConvertApp] Making directory ./docs\\index_files\n",
      "[NbConvertApp] Making directory ./docs\\index_files\n",
      "[NbConvertApp] Making directory ./docs\\index_files\n",
      "[NbConvertApp] Making directory ./docs\\index_files\n",
      "[NbConvertApp] Making directory ./docs\\index_files\n",
      "[NbConvertApp] Making directory ./docs\\index_files\n",
      "[NbConvertApp] Making directory ./docs\\index_files\n",
      "[NbConvertApp] Making directory ./docs\\index_files\n",
      "[NbConvertApp] Making directory ./docs\\index_files\n",
      "[NbConvertApp] Making directory ./docs\\index_files\n",
      "[NbConvertApp] Making directory ./docs\\index_files\n",
      "[NbConvertApp] Making directory ./docs\\index_files\n",
      "[NbConvertApp] Making directory ./docs\\index_files\n",
      "[NbConvertApp] Making directory ./docs\\index_files\n",
      "[NbConvertApp] Making directory ./docs\\index_files\n",
      "[NbConvertApp] Making directory ./docs\\index_files\n",
      "[NbConvertApp] Making directory ./docs\\index_files\n",
      "[NbConvertApp] Making directory ./docs\\index_files\n",
      "[NbConvertApp] Making directory ./docs\\index_files\n",
      "[NbConvertApp] Making directory ./docs\\index_files\n",
      "[NbConvertApp] Making directory ./docs\\index_files\n",
      "[NbConvertApp] Making directory ./docs\\index_files\n",
      "[NbConvertApp] Making directory ./docs\\index_files\n",
      "[NbConvertApp] Making directory ./docs\\index_files\n",
      "[NbConvertApp] Making directory ./docs\\index_files\n",
      "[NbConvertApp] Making directory ./docs\\index_files\n",
      "[NbConvertApp] Making directory ./docs\\index_files\n",
      "[NbConvertApp] Making directory ./docs\\index_files\n",
      "[NbConvertApp] Making directory ./docs\\index_files\n",
      "[NbConvertApp] Making directory ./docs\\index_files\n",
      "[NbConvertApp] Making directory ./docs\\index_files\n",
      "[NbConvertApp] Making directory ./docs\\index_files\n",
      "[NbConvertApp] Making directory ./docs\\index_files\n",
      "[NbConvertApp] Making directory ./docs\\index_files\n",
      "[NbConvertApp] Making directory ./docs\\index_files\n",
      "[NbConvertApp] Writing 1371246 bytes to ./docs\\index.html\n"
     ]
    }
   ],
   "source": [
    "!jupyter nbconvert _merged.ipynb --TagRemovePreprocessor.remove_cell_tags={\\\"remove_cell\\\"} --to html_toc --output-dir='./docs' --output index.html  "
   ]
  },
  {
   "cell_type": "markdown",
   "metadata": {},
   "source": [
    "## Final Cleanup\n",
    "Cleanup (remove) merged notebook"
   ]
  },
  {
   "cell_type": "code",
   "execution_count": 74,
   "metadata": {},
   "outputs": [],
   "source": [
    "os.remove('_merged.ipynb')"
   ]
  },
  {
   "cell_type": "code",
   "execution_count": 75,
   "metadata": {},
   "outputs": [
    {
     "name": "stdout",
     "output_type": "stream",
     "text": [
      "On branch master\n",
      "Changes not staged for commit:\n",
      "  (use \"git add/rm <file>...\" to update what will be committed)\n",
      "  (use \"git checkout -- <file>...\" to discard changes in working directory)\n",
      "\n",
      "\tmodified:   .ipynb_checkpoints/01-fundamental-checkpoint.ipynb\n",
      "\tmodified:   01-fundamental.ipynb\n",
      "\tmodified:   docs/index.html\n",
      "\tdeleted:    docs/index_files/index_1041_0.png\n",
      "\tdeleted:    docs/index_files/index_1042_0.png\n",
      "\tdeleted:    docs/index_files/index_1087_0.png\n",
      "\tdeleted:    docs/index_files/index_1092_1.png\n",
      "\tdeleted:    docs/index_files/index_1095_0.png\n",
      "\tdeleted:    docs/index_files/index_1097_1.png\n",
      "\tdeleted:    docs/index_files/index_1099_1.png\n",
      "\tdeleted:    docs/index_files/index_299_0.png\n",
      "\tdeleted:    docs/index_files/index_300_0.png\n",
      "\tdeleted:    docs/index_files/index_301_0.png\n",
      "\tdeleted:    docs/index_files/index_303_1.png\n",
      "\tdeleted:    docs/index_files/index_304_0.png\n",
      "\tdeleted:    docs/index_files/index_306_0.png\n",
      "\tdeleted:    docs/index_files/index_307_0.png\n",
      "\tdeleted:    docs/index_files/index_309_0.png\n",
      "\tdeleted:    docs/index_files/index_311_1.png\n",
      "\tdeleted:    docs/index_files/index_312_0.png\n",
      "\tdeleted:    docs/index_files/index_314_0.png\n",
      "\tdeleted:    docs/index_files/index_318_0.png\n",
      "\tdeleted:    docs/index_files/index_320_1.png\n",
      "\tdeleted:    docs/index_files/index_321_0.png\n",
      "\tdeleted:    docs/index_files/index_322_0.png\n",
      "\tdeleted:    docs/index_files/index_325_0.png\n",
      "\tdeleted:    docs/index_files/index_328_0.png\n",
      "\tdeleted:    docs/index_files/index_330_0.png\n",
      "\tdeleted:    docs/index_files/index_331_0.png\n",
      "\tdeleted:    docs/index_files/index_332_0.png\n",
      "\tdeleted:    docs/index_files/index_334_0.png\n",
      "\tdeleted:    docs/index_files/index_336_1.png\n",
      "\tdeleted:    docs/index_files/index_337_0.png\n",
      "\tdeleted:    docs/index_files/index_340_0.png\n",
      "\tdeleted:    docs/index_files/index_342_0.png\n",
      "\tdeleted:    docs/index_files/index_343_0.png\n",
      "\tdeleted:    docs/index_files/index_345_0.png\n",
      "\tdeleted:    docs/index_files/index_350_0.png\n",
      "\tdeleted:    docs/index_files/index_494_0.png\n",
      "\tdeleted:    docs/index_files/index_495_0.png\n",
      "\tdeleted:    docs/index_files/index_496_0.png\n",
      "\tdeleted:    docs/index_files/index_498_1.png\n",
      "\tdeleted:    docs/index_files/index_499_0.png\n",
      "\tdeleted:    docs/index_files/index_501_0.png\n",
      "\tdeleted:    docs/index_files/index_502_0.png\n",
      "\tdeleted:    docs/index_files/index_504_0.png\n",
      "\tdeleted:    docs/index_files/index_506_1.png\n",
      "\tdeleted:    docs/index_files/index_507_0.png\n",
      "\tdeleted:    docs/index_files/index_509_0.png\n",
      "\tdeleted:    docs/index_files/index_513_0.png\n",
      "\tdeleted:    docs/index_files/index_515_1.png\n",
      "\tdeleted:    docs/index_files/index_516_0.png\n",
      "\tdeleted:    docs/index_files/index_517_0.png\n",
      "\tdeleted:    docs/index_files/index_520_0.png\n",
      "\tdeleted:    docs/index_files/index_523_0.png\n",
      "\tdeleted:    docs/index_files/index_525_0.png\n",
      "\tdeleted:    docs/index_files/index_526_0.png\n",
      "\tdeleted:    docs/index_files/index_527_0.png\n",
      "\tdeleted:    docs/index_files/index_529_0.png\n",
      "\tdeleted:    docs/index_files/index_531_1.png\n",
      "\tdeleted:    docs/index_files/index_532_0.png\n",
      "\tdeleted:    docs/index_files/index_535_0.png\n",
      "\tdeleted:    docs/index_files/index_537_0.png\n",
      "\tdeleted:    docs/index_files/index_538_0.png\n",
      "\tdeleted:    docs/index_files/index_540_0.png\n",
      "\tdeleted:    docs/index_files/index_545_0.png\n",
      "\n",
      "Untracked files:\n",
      "  (use \"git add <file>...\" to include in what will be committed)\n",
      "\n",
      "\tdocs/index_files/index_1028_0.png\n",
      "\tdocs/index_files/index_1033_1.png\n",
      "\tdocs/index_files/index_1036_0.png\n",
      "\tdocs/index_files/index_1038_1.png\n",
      "\tdocs/index_files/index_1040_1.png\n",
      "\tdocs/index_files/index_435_0.png\n",
      "\tdocs/index_files/index_436_0.png\n",
      "\tdocs/index_files/index_437_0.png\n",
      "\tdocs/index_files/index_439_1.png\n",
      "\tdocs/index_files/index_440_0.png\n",
      "\tdocs/index_files/index_442_0.png\n",
      "\tdocs/index_files/index_443_0.png\n",
      "\tdocs/index_files/index_445_0.png\n",
      "\tdocs/index_files/index_447_1.png\n",
      "\tdocs/index_files/index_448_0.png\n",
      "\tdocs/index_files/index_450_0.png\n",
      "\tdocs/index_files/index_454_0.png\n",
      "\tdocs/index_files/index_456_1.png\n",
      "\tdocs/index_files/index_457_0.png\n",
      "\tdocs/index_files/index_458_0.png\n",
      "\tdocs/index_files/index_461_0.png\n",
      "\tdocs/index_files/index_464_0.png\n",
      "\tdocs/index_files/index_466_0.png\n",
      "\tdocs/index_files/index_467_0.png\n",
      "\tdocs/index_files/index_468_0.png\n",
      "\tdocs/index_files/index_470_0.png\n",
      "\tdocs/index_files/index_472_1.png\n",
      "\tdocs/index_files/index_473_0.png\n",
      "\tdocs/index_files/index_476_0.png\n",
      "\tdocs/index_files/index_478_0.png\n",
      "\tdocs/index_files/index_479_0.png\n",
      "\tdocs/index_files/index_481_0.png\n",
      "\tdocs/index_files/index_486_0.png\n",
      "\tdocs/index_files/index_982_0.png\n",
      "\tdocs/index_files/index_983_0.png\n",
      "\n",
      "no changes added to commit (use \"git add\" and/or \"git commit -a\")\n"
     ]
    }
   ],
   "source": [
    "!git status"
   ]
  },
  {
   "cell_type": "code",
   "execution_count": 76,
   "metadata": {},
   "outputs": [],
   "source": [
    "#!git add *"
   ]
  },
  {
   "cell_type": "code",
   "execution_count": null,
   "metadata": {},
   "outputs": [],
   "source": []
  }
 ],
 "metadata": {
  "kernelspec": {
   "display_name": "Python 3",
   "language": "python",
   "name": "python3"
  },
  "language_info": {
   "codemirror_mode": {
    "name": "ipython",
    "version": 3
   },
   "file_extension": ".py",
   "mimetype": "text/x-python",
   "name": "python",
   "nbconvert_exporter": "python",
   "pygments_lexer": "ipython3",
   "version": "3.6.3"
  },
  "toc": {
   "nav_menu": {},
   "number_sections": true,
   "sideBar": true,
   "skip_h1_title": false,
   "toc_cell": false,
   "toc_position": {},
   "toc_section_display": "block",
   "toc_window_display": true
  },
  "varInspector": {
   "cols": {
    "lenName": 16,
    "lenType": 16,
    "lenVar": 40
   },
   "kernels_config": {
    "python": {
     "delete_cmd_postfix": "",
     "delete_cmd_prefix": "del ",
     "library": "var_list.py",
     "varRefreshCmd": "print(var_dic_list())"
    },
    "r": {
     "delete_cmd_postfix": ") ",
     "delete_cmd_prefix": "rm(",
     "library": "var_list.r",
     "varRefreshCmd": "cat(var_dic_list()) "
    }
   },
   "types_to_exclude": [
    "module",
    "function",
    "builtin_function_or_method",
    "instance",
    "_Feature"
   ],
   "window_display": false
  }
 },
 "nbformat": 4,
 "nbformat_minor": 2
}
