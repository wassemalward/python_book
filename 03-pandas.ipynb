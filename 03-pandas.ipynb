{
 "cells": [
  {
   "cell_type": "markdown",
   "metadata": {
    "toc-hr-collapsed": false
   },
   "source": [
    "# pandas"
   ]
  },
  {
   "cell_type": "markdown",
   "metadata": {
    "tags": [
     "remove_cell"
    ],
    "toc-hr-collapsed": true
   },
   "source": [
    "## Environment Setup <a class=\"tocSkip\">"
   ]
  },
  {
   "cell_type": "code",
   "execution_count": 1,
   "metadata": {
    "tags": [
     "remove_cell"
    ]
   },
   "outputs": [
    {
     "data": {
      "text/html": [
       "<style>.container { width:70% !important; margin-left:350px; }</style>"
      ],
      "text/plain": [
       "<IPython.core.display.HTML object>"
      ]
     },
     "metadata": {},
     "output_type": "display_data"
    }
   ],
   "source": [
    "from IPython.core.display import display, HTML\n",
    "display(HTML(\"<style>.container { width:70% !important; margin-left:350px; }</style>\"))"
   ]
  },
  {
   "cell_type": "markdown",
   "metadata": {
    "toc-hr-collapsed": true
   },
   "source": [
    "## Modules Import"
   ]
  },
  {
   "cell_type": "code",
   "execution_count": 2,
   "metadata": {
    "tags": [
     "remove_cell"
    ]
   },
   "outputs": [],
   "source": [
    "import pandas as pd\n",
    "\n",
    "## Other Libraries\n",
    "import numpy as np\n",
    "import datetime as dt\n",
    "from datetime import datetime\n",
    "from datetime import date"
   ]
  },
  {
   "cell_type": "markdown",
   "metadata": {},
   "source": [
    "### Display Setup\n",
    "It is good idea to configure output setup as prefered "
   ]
  },
  {
   "cell_type": "code",
   "execution_count": 3,
   "metadata": {},
   "outputs": [],
   "source": [
    "pd.set_option( 'display.notebook_repr_html', False)  # render Series and DataFrame as text, not HTML\n",
    "pd.set_option( 'display.max_column', 10)    # number of columns\n",
    "pd.set_option( 'display.max_rows', 10)     # number of rows\n",
    "pd.set_option( 'display.width', 80)        # number of characters per row"
   ]
  },
  {
   "cell_type": "markdown",
   "metadata": {
    "toc-hr-collapsed": false
   },
   "source": [
    "## Pandas Objects\n",
    "### Pandas Data Types\n",
    "- pandas.Timestamp\n",
    "- pandas.Timedelta\n",
    "- pandas.Period\n",
    "- pandas.Interval\n",
    "- pandas.DateTimeIndex"
   ]
  },
  {
   "cell_type": "markdown",
   "metadata": {
    "hide_input": false
   },
   "source": [
    "\n",
    "### Pandas Data Structure  \n",
    "\n",
    "|Type        | Dimension | Size      | Value   | Constructor\n",
    "|:---------- |:----------|:----------|:--------|:----------------------------------------------------\n",
    "|Series      | 1         | Immutable | Mutable | pandas.DataFrame( data, index, dtype, copy)  \n",
    "|DataFrame   | 2         | Mutable   | Mutable | pandas.DataFrame( data, index, columns, dtype, copy)\n",
    "|Panel       | 3         | Mutable   | Mutable | \n",
    "\n",
    "**data** can be ndarray, list, constants  \n",
    "**index** must be unique and same length as data. Can be integer or string\n",
    "**dtype** if none, it will be inferred  \n",
    "**copy** copy data. Default false\n",
    "\n"
   ]
  },
  {
   "cell_type": "markdown",
   "metadata": {
    "toc-hr-collapsed": true
   },
   "source": [
    "## Class Method"
   ]
  },
  {
   "cell_type": "markdown",
   "metadata": {
    "toc-hr-collapsed": true
   },
   "source": [
    "### Convert to ```Timestamp```\n",
    "Use ```to_datetime```, resulting data structure depends on structure.  \n",
    "Source can be **string, date, datetime object**"
   ]
  },
  {
   "cell_type": "markdown",
   "metadata": {},
   "source": [
    "#### From List to ```DateTimeIndex```"
   ]
  },
  {
   "cell_type": "code",
   "execution_count": 4,
   "metadata": {},
   "outputs": [
    {
     "data": {
      "text/plain": [
       "DatetimeIndex(['2011-01-03 00:00:00', '2018-04-13 00:00:00',\n",
       "               '2018-03-01 07:30:00'],\n",
       "              dtype='datetime64[ns]', freq=None)"
      ]
     },
     "execution_count": 4,
     "metadata": {},
     "output_type": "execute_result"
    }
   ],
   "source": [
    "dti = pd.to_datetime(['2011-01-03',      # from string\n",
    "                date(2018,4,13),        # from date\n",
    "                datetime(2018,3,1,7,30)]# from datetime\n",
    "              )\n",
    "dti"
   ]
  },
  {
   "cell_type": "markdown",
   "metadata": {},
   "source": [
    "#### From Series to Series"
   ]
  },
  {
   "cell_type": "code",
   "execution_count": 5,
   "metadata": {},
   "outputs": [],
   "source": [
    "sdt = pd.to_datetime(pd.Series(['2011-01-03',      # from string\n",
    "                date(2018,4,13),        # from date\n",
    "                datetime(2018,3,1,7,30)]# from datetime\n",
    "              ))"
   ]
  },
  {
   "cell_type": "code",
   "execution_count": 6,
   "metadata": {},
   "outputs": [
    {
     "data": {
      "text/plain": [
       "Timestamp('2018-04-13 00:00:00')"
      ]
     },
     "execution_count": 6,
     "metadata": {},
     "output_type": "execute_result"
    }
   ],
   "source": [
    "sdt[1]"
   ]
  },
  {
   "cell_type": "markdown",
   "metadata": {},
   "source": [
    "#### From Scalar to Timestamp"
   ]
  },
  {
   "cell_type": "code",
   "execution_count": 7,
   "metadata": {},
   "outputs": [
    {
     "name": "stdout",
     "output_type": "stream",
     "text": [
      "2011-01-03 00:00:00\n",
      "2011-01-03 00:00:00\n",
      "2011-01-03 05:30:00\n"
     ]
    }
   ],
   "source": [
    "print( pd.to_datetime('2011-01-03'))    # from string\n",
    "print( pd.to_datetime(date(2011,1,3)))  # from date\n",
    "print( pd.to_datetime(datetime(2011,1,3,5,30))) # from datetime"
   ]
  },
  {
   "cell_type": "markdown",
   "metadata": {
    "toc-hr-collapsed": true
   },
   "source": [
    "### Generate Timestamp Sequence"
   ]
  },
  {
   "cell_type": "markdown",
   "metadata": {},
   "source": [
    "#### ```date_range()```\n",
    "Return ```DateTimeIndex``` object"
   ]
  },
  {
   "cell_type": "markdown",
   "metadata": {},
   "source": [
    "Generate **sequence of HOURS**"
   ]
  },
  {
   "cell_type": "code",
   "execution_count": 8,
   "metadata": {},
   "outputs": [
    {
     "data": {
      "text/plain": [
       "DatetimeIndex(['2018-01-01 00:00:00', '2018-01-01 01:00:00',\n",
       "               '2018-01-01 02:00:00'],\n",
       "              dtype='datetime64[ns]', freq='H')"
      ]
     },
     "execution_count": 8,
     "metadata": {},
     "output_type": "execute_result"
    }
   ],
   "source": [
    "## Specify start, Periods, Frequency\n",
    "## Start from Date Only\n",
    "pd.date_range('2018-01-01', periods=3, freq='H')"
   ]
  },
  {
   "cell_type": "code",
   "execution_count": 9,
   "metadata": {},
   "outputs": [],
   "source": [
    "## Start from DateTime\n",
    "dti = pd.date_range(datetime(2018,1,1,12,30), periods=3, freq='H')"
   ]
  },
  {
   "cell_type": "code",
   "execution_count": 10,
   "metadata": {},
   "outputs": [
    {
     "name": "stdout",
     "output_type": "stream",
     "text": [
      "DatetimeIndex(['2018-01-03 12:30:00', '2018-01-03 13:30:00',\n",
      "               '2018-01-03 14:30:00', '2018-01-03 15:30:00',\n",
      "               '2018-01-03 16:30:00', '2018-01-03 17:30:00',\n",
      "               '2018-01-03 18:30:00'],\n",
      "              dtype='datetime64[ns]', freq='H')\n"
     ]
    }
   ],
   "source": [
    "## Specify start, End and Frequency\n",
    "dti = pd.date_range(start='2018-01-03-1230', end='2018-01-03-18:30', freq='H')\n",
    "print(dti)"
   ]
  },
  {
   "cell_type": "markdown",
   "metadata": {},
   "source": [
    "Generate **sequence of DAYS**"
   ]
  },
  {
   "cell_type": "code",
   "execution_count": 11,
   "metadata": {},
   "outputs": [
    {
     "data": {
      "text/plain": [
       "DatetimeIndex(['2018-01-02', '2018-01-03', '2018-01-04'], dtype='datetime64[ns]', freq='D')"
      ]
     },
     "execution_count": 11,
     "metadata": {},
     "output_type": "execute_result"
    }
   ],
   "source": [
    "pd.date_range(date(2018,1,2), periods=3, freq='D')"
   ]
  },
  {
   "cell_type": "code",
   "execution_count": 12,
   "metadata": {},
   "outputs": [
    {
     "data": {
      "text/plain": [
       "DatetimeIndex(['2018-01-01 12:30:00', '2018-01-02 12:30:00',\n",
       "               '2018-01-03 12:30:00', '2018-01-04 12:30:00'],\n",
       "              dtype='datetime64[ns]', freq='D')"
      ]
     },
     "execution_count": 12,
     "metadata": {},
     "output_type": "execute_result"
    }
   ],
   "source": [
    "pd.date_range('2018-01-01-1230', periods=4, freq='D')"
   ]
  },
  {
   "cell_type": "markdown",
   "metadata": {},
   "source": [
    "Generate **sequence of Start of Month**"
   ]
  },
  {
   "cell_type": "code",
   "execution_count": 13,
   "metadata": {
    "scrolled": true
   },
   "outputs": [
    {
     "data": {
      "text/plain": [
       "DatetimeIndex(['2018-01-01', '2018-02-01', '2018-03-01', '2018-04-01'], dtype='datetime64[ns]', freq='MS')"
      ]
     },
     "execution_count": 13,
     "metadata": {},
     "output_type": "execute_result"
    }
   ],
   "source": [
    "pd.date_range('2018-01', periods=4, freq='MS')"
   ]
  },
  {
   "cell_type": "code",
   "execution_count": 14,
   "metadata": {},
   "outputs": [
    {
     "data": {
      "text/plain": [
       "DatetimeIndex(['2018-02-01 12:30:00', '2018-03-01 12:30:00',\n",
       "               '2018-04-01 12:30:00', '2018-05-01 12:30:00'],\n",
       "              dtype='datetime64[ns]', freq='MS')"
      ]
     },
     "execution_count": 14,
     "metadata": {},
     "output_type": "execute_result"
    }
   ],
   "source": [
    "pd.date_range(datetime(2018,1,3,12,30), periods=4, freq='MS')"
   ]
  },
  {
   "cell_type": "markdown",
   "metadata": {},
   "source": [
    "Generate **sequence of End of Month**"
   ]
  },
  {
   "cell_type": "code",
   "execution_count": 15,
   "metadata": {},
   "outputs": [
    {
     "data": {
      "text/plain": [
       "DatetimeIndex(['2018-02-28', '2018-03-31', '2018-04-30', '2018-05-31'], dtype='datetime64[ns]', freq='M')"
      ]
     },
     "execution_count": 15,
     "metadata": {},
     "output_type": "execute_result"
    }
   ],
   "source": [
    "dti = pd.date_range('2018-02', periods=4, freq='M')\n",
    "dti"
   ]
  },
  {
   "cell_type": "markdown",
   "metadata": {
    "toc-hr-collapsed": true
   },
   "source": [
    "## Timestamp\n",
    "This is an enhanced version to datetime standard library.  \n",
    "https://pandas.pydata.org/pandas-docs/stable/reference/api/pandas.Timestamp.html#pandas.Timestamp"
   ]
  },
  {
   "cell_type": "markdown",
   "metadata": {
    "toc-hr-collapsed": true
   },
   "source": [
    "### Constructor\n",
    "#### From Number"
   ]
  },
  {
   "cell_type": "code",
   "execution_count": 16,
   "metadata": {},
   "outputs": [
    {
     "name": "stdout",
     "output_type": "stream",
     "text": [
      "2017-01-01 00:00:00\n",
      "2017-01-01 00:00:00\n",
      "2017-12-11 05:45:00\n",
      "2017-12-11 05:45:55.000999\n",
      "2017-12-11 05:45:55.000999008\n",
      "<class 'pandas._libs.tslibs.timestamps.Timestamp'>\n"
     ]
    }
   ],
   "source": [
    "print( pd.Timestamp(year=2017, month=1, day=1) ) #date-like numbers\n",
    "print( pd.Timestamp(2017,1,1) )                  # date-like numbers\n",
    "print( pd.Timestamp(2017,12,11,5,45))            # datetime-like numbers\n",
    "print( pd.Timestamp(2017,12,11,5,45,55,999))     # + microseconds\n",
    "print( pd.Timestamp(2017,12,11,5,45,55,999,8))   # + nanoseconds\n",
    "print( type(pd.Timestamp(2017,12,11,5,45,55,999,8)))"
   ]
  },
  {
   "cell_type": "markdown",
   "metadata": {
    "toc-hr-collapsed": false
   },
   "source": [
    "#### From String\n",
    "Observe that pandas support many string input format  \n",
    "**Year Month Day**, default no timezone"
   ]
  },
  {
   "cell_type": "code",
   "execution_count": 17,
   "metadata": {},
   "outputs": [
    {
     "name": "stdout",
     "output_type": "stream",
     "text": [
      "2017-12-11 00:00:00\n",
      "2017-12-11 00:00:00\n",
      "2017-12-11 00:00:00\n",
      "2017-12-11 00:00:00\n"
     ]
    }
   ],
   "source": [
    "print( pd.Timestamp('2017-12-11'))      # date-like string: year-month-day\n",
    "print( pd.Timestamp('2017 12 11'))      # date-like string: year-month-day\n",
    "print( pd.Timestamp('2017 Dec 11'))      # date-like string: year-month-day\n",
    "print( pd.Timestamp('Dec 11, 2017'))      # date-like string: year-month-day"
   ]
  },
  {
   "cell_type": "markdown",
   "metadata": {},
   "source": [
    "**YMD Hour Minute Second Ms**"
   ]
  },
  {
   "cell_type": "code",
   "execution_count": 18,
   "metadata": {},
   "outputs": [
    {
     "name": "stdout",
     "output_type": "stream",
     "text": [
      "2017-12-11 05:45:00\n",
      "2017-12-11 05:45:00\n",
      "2017-12-11 05:45:00\n",
      "2017-12-11 05:45:33\n",
      "2017-12-11 05:45:33\n"
     ]
    }
   ],
   "source": [
    "print( pd.Timestamp('2017-12-11 0545'))     ## hour minute\n",
    "print( pd.Timestamp('2017-12-11-05:45'))\n",
    "print( pd.Timestamp('2017-12-11T0545'))\n",
    "\n",
    "print( pd.Timestamp('2017-12-11 054533'))   ## hour minute seconds\n",
    "print( pd.Timestamp('2017-12-11 05:45:33'))"
   ]
  },
  {
   "cell_type": "markdown",
   "metadata": {},
   "source": [
    "**Timezone**"
   ]
  },
  {
   "cell_type": "code",
   "execution_count": 19,
   "metadata": {},
   "outputs": [
    {
     "name": "stdout",
     "output_type": "stream",
     "text": [
      "2017-01-01 05:45:00+00:00\n",
      "2017-01-01 05:45:00+09:00\n",
      "2017-01-01 05:45:00+08:00\n"
     ]
    }
   ],
   "source": [
    "print( pd.Timestamp('2017-01-01T0545Z'))     # GMT \n",
    "print( pd.Timestamp('2017-01-01T0545+9'))    # GMT+9\n",
    "print( pd.Timestamp('2017-01-01T0545+0800')) # GMT+0800"
   ]
  },
  {
   "cell_type": "markdown",
   "metadata": {},
   "source": [
    "#### From Standard Library ```datetime``` and ```date``` Object"
   ]
  },
  {
   "cell_type": "code",
   "execution_count": 20,
   "metadata": {},
   "outputs": [
    {
     "name": "stdout",
     "output_type": "stream",
     "text": [
      "2017-03-05 00:00:00\n",
      "2017-03-05 04:30:00\n",
      "2017-03-05 04:30:00+08:00\n"
     ]
    }
   ],
   "source": [
    "print( pd.Timestamp(date(2017,3,5)) )           # from date\n",
    "print( pd.Timestamp(datetime(2017,3,5,4,30)))   # from datetime\n",
    "print( pd.Timestamp(datetime(2017,3,5,4,30), tz='Asia/Kuala_Lumpur'))   # from datetime, + tz"
   ]
  },
  {
   "cell_type": "markdown",
   "metadata": {
    "toc-hr-collapsed": true
   },
   "source": [
    "### Attributes"
   ]
  },
  {
   "cell_type": "code",
   "execution_count": 21,
   "metadata": {},
   "outputs": [
    {
     "name": "stdout",
     "output_type": "stream",
     "text": [
      "1\n",
      "1\n",
      "2017\n",
      "5\n",
      "45\n",
      "33\n",
      "0\n",
      "0\n",
      "pytz.FixedOffset(480)\n"
     ]
    }
   ],
   "source": [
    "ts = pd.Timestamp('2017-01-01T054533+0800') # GMT+0800\n",
    "print( ts.month )\n",
    "print( ts.day   )\n",
    "print( ts.year   )\n",
    "print( ts.hour  )\n",
    "print( ts.minute)\n",
    "print( ts.second)\n",
    "print( ts.microsecond)\n",
    "print( ts.nanosecond)\n",
    "print( ts.tz)"
   ]
  },
  {
   "cell_type": "code",
   "execution_count": 22,
   "metadata": {},
   "outputs": [
    {
     "name": "stdout",
     "output_type": "stream",
     "text": [
      "Asia/Kuala_Lumpur\n",
      "pytz.FixedOffset(480)\n",
      "None\n"
     ]
    }
   ],
   "source": [
    "ts1 = pd.Timestamp(datetime(2017,3,5,4,30), tz='Asia/Kuala_Lumpur')   # from datetime, + tz\n",
    "ts2 = pd.Timestamp('2017-01-01T054533+0800') # GMT+0800\n",
    "ts3 = pd.Timestamp('2017-01-01T0545')\n",
    "\n",
    "print( ts1.tz )\n",
    "print( ts2.tz )\n",
    "print( ts3.tz )"
   ]
  },
  {
   "cell_type": "markdown",
   "metadata": {},
   "source": [
    "### Operator"
   ]
  },
  {
   "cell_type": "code",
   "execution_count": null,
   "metadata": {},
   "outputs": [],
   "source": []
  },
  {
   "cell_type": "code",
   "execution_count": null,
   "metadata": {},
   "outputs": [],
   "source": []
  },
  {
   "cell_type": "markdown",
   "metadata": {
    "toc-hr-collapsed": true
   },
   "source": [
    "### Instance Methods\n",
    "#### Useful Methods"
   ]
  },
  {
   "cell_type": "code",
   "execution_count": 23,
   "metadata": {},
   "outputs": [
    {
     "name": "stdout",
     "output_type": "stream",
     "text": [
      "6\n",
      "7\n"
     ]
    }
   ],
   "source": [
    "ts = pd.Timestamp(2017,1,1)\n",
    "print( ts.weekday()  )\n",
    "print( ts.isoweekday() )"
   ]
  },
  {
   "cell_type": "markdown",
   "metadata": {
    "toc-hr-collapsed": true
   },
   "source": [
    "#### Convert To datetime"
   ]
  },
  {
   "cell_type": "markdown",
   "metadata": {},
   "source": [
    "Use ```to_pydatetime()``` to convert into standard library ```datetime.datetime```, optionally to ```datetime.date```"
   ]
  },
  {
   "cell_type": "code",
   "execution_count": 24,
   "metadata": {},
   "outputs": [
    {
     "data": {
      "text/plain": [
       "datetime.datetime(2017, 1, 10, 7, 30, 52)"
      ]
     },
     "execution_count": 24,
     "metadata": {},
     "output_type": "execute_result"
    }
   ],
   "source": [
    "ts = pd.Timestamp(2017,1,10,7,30,52)  # to datetime.datetime\n",
    "ts.to_pydatetime()"
   ]
  },
  {
   "cell_type": "code",
   "execution_count": 25,
   "metadata": {},
   "outputs": [
    {
     "data": {
      "text/plain": [
       "datetime.date(2017, 1, 10)"
      ]
     },
     "execution_count": 25,
     "metadata": {},
     "output_type": "execute_result"
    }
   ],
   "source": [
    "ts = pd.Timestamp(2017,1,10,7,30,52)  # to datetime.date\n",
    "ts.to_pydatetime().date()"
   ]
  },
  {
   "cell_type": "markdown",
   "metadata": {},
   "source": [
    "#### Convert To ```numpy```"
   ]
  },
  {
   "cell_type": "markdown",
   "metadata": {},
   "source": [
    "Use ```to_datetime64()``` to convert into ```numpy.datetime64```"
   ]
  },
  {
   "cell_type": "code",
   "execution_count": 26,
   "metadata": {},
   "outputs": [
    {
     "data": {
      "text/plain": [
       "numpy.datetime64('2017-01-10T07:30:52.000000000')"
      ]
     },
     "execution_count": 26,
     "metadata": {},
     "output_type": "execute_result"
    }
   ],
   "source": [
    "ts = pd.Timestamp(2017,1,10,7,30,52)\n",
    "ts.to_datetime64()"
   ]
  },
  {
   "cell_type": "markdown",
   "metadata": {
    "toc-hr-collapsed": true
   },
   "source": [
    "#### Formatting with ```strftime```"
   ]
  },
  {
   "cell_type": "markdown",
   "metadata": {},
   "source": [
    "Use **```strftime()```** to customize string format. For complete directive, see below:  \n",
    "https://docs.python.org/3/library/datetime.html#strftime-strptime-behavior"
   ]
  },
  {
   "cell_type": "code",
   "execution_count": 27,
   "metadata": {},
   "outputs": [
    {
     "data": {
      "text/plain": [
       "'01/10'"
      ]
     },
     "execution_count": 27,
     "metadata": {},
     "output_type": "execute_result"
    }
   ],
   "source": [
    "ts = pd.Timestamp(2017,1,10,7,30,52)\n",
    "ts.strftime(\"%m/%d\")"
   ]
  },
  {
   "cell_type": "markdown",
   "metadata": {},
   "source": [
    "#### Add Timezone\n",
    "Add timezone to tz-naive or tz-non-existance object. Clock will not be shifted as there is no original offset"
   ]
  },
  {
   "cell_type": "code",
   "execution_count": 28,
   "metadata": {},
   "outputs": [
    {
     "data": {
      "text/plain": [
       "Timestamp('2017-01-10 10:34:00+0800', tz='Asia/Kuala_Lumpur')"
      ]
     },
     "execution_count": 28,
     "metadata": {},
     "output_type": "execute_result"
    }
   ],
   "source": [
    "ts = pd.Timestamp(2017,1,10,10,34)   ## No timezone\n",
    "ts = ts.tz_localize('Asia/Kuala_Lumpur')  ## Add timezone\n",
    "ts"
   ]
  },
  {
   "cell_type": "markdown",
   "metadata": {},
   "source": [
    "#### Convert Timezone\n",
    "Convert timezone to tz-aware object. The clock will be shifted according to the offset"
   ]
  },
  {
   "cell_type": "code",
   "execution_count": 29,
   "metadata": {},
   "outputs": [
    {
     "data": {
      "text/plain": [
       "Timestamp('2017-01-10 02:34:00+0000', tz='UTC')"
      ]
     },
     "execution_count": 29,
     "metadata": {},
     "output_type": "execute_result"
    }
   ],
   "source": [
    "ts = pd.Timestamp(2017,1,10,10,34)        ## No timezone\n",
    "ts = ts.tz_localize('Asia/Kuala_Lumpur')  ## Add timezone\n",
    "ts = ts.tz_convert('UTC')                 ## Convert timezone\n",
    "ts"
   ]
  },
  {
   "cell_type": "markdown",
   "metadata": {},
   "source": [
    "#### Removing TImezone"
   ]
  },
  {
   "cell_type": "code",
   "execution_count": 30,
   "metadata": {},
   "outputs": [
    {
     "data": {
      "text/plain": [
       "Timestamp('2017-01-10 10:34:00')"
      ]
     },
     "execution_count": 30,
     "metadata": {},
     "output_type": "execute_result"
    }
   ],
   "source": [
    "ts = pd.Timestamp(2017,1,10,10,34)        ## No timezone\n",
    "ts = ts.tz_localize('Asia/Kuala_Lumpur')  ## Add timezone\n",
    "ts = ts.tz_localize(None)                 ## Convert timezone\n",
    "ts"
   ]
  },
  {
   "cell_type": "markdown",
   "metadata": {},
   "source": [
    "#### Formatting with ```isoformat```"
   ]
  },
  {
   "cell_type": "markdown",
   "metadata": {},
   "source": [
    "Use **```isoformat()```** to format ISO string (**without timezone**)"
   ]
  },
  {
   "cell_type": "code",
   "execution_count": 31,
   "metadata": {},
   "outputs": [
    {
     "data": {
      "text/plain": [
       "'2017-01-10T10:34:00'"
      ]
     },
     "execution_count": 31,
     "metadata": {},
     "output_type": "execute_result"
    }
   ],
   "source": [
    "ts.isoformat()"
   ]
  },
  {
   "cell_type": "markdown",
   "metadata": {},
   "source": [
    "#### ```ceil```"
   ]
  },
  {
   "cell_type": "code",
   "execution_count": 32,
   "metadata": {},
   "outputs": [
    {
     "name": "stdout",
     "output_type": "stream",
     "text": [
      "2017-01-11 00:00:00\n"
     ]
    }
   ],
   "source": [
    "print( ts.ceil(freq='D') ) # ceiling to day"
   ]
  },
  {
   "cell_type": "markdown",
   "metadata": {},
   "source": [
    "#### ```replace()```"
   ]
  },
  {
   "cell_type": "code",
   "execution_count": 33,
   "metadata": {},
   "outputs": [
    {
     "data": {
      "text/plain": [
       "Timestamp('2000-01-01 10:34:00')"
      ]
     },
     "execution_count": 33,
     "metadata": {},
     "output_type": "execute_result"
    }
   ],
   "source": [
    "ts.replace(year=2000, month=1,day=1)"
   ]
  },
  {
   "cell_type": "markdown",
   "metadata": {
    "toc-hr-collapsed": true
   },
   "source": [
    "## Series"
   ]
  },
  {
   "cell_type": "markdown",
   "metadata": {
    "toc-hr-collapsed": true
   },
   "source": [
    "### Constructor"
   ]
  },
  {
   "cell_type": "markdown",
   "metadata": {},
   "source": [
    "#### Empty Series\n",
    "Passing empty parameter result in empty series"
   ]
  },
  {
   "cell_type": "code",
   "execution_count": 34,
   "metadata": {},
   "outputs": [
    {
     "name": "stdout",
     "output_type": "stream",
     "text": [
      "Series([], dtype: float64)\n"
     ]
    },
    {
     "data": {
      "text/plain": [
       "pandas.core.series.Series"
      ]
     },
     "execution_count": 34,
     "metadata": {},
     "output_type": "execute_result"
    }
   ],
   "source": [
    "s = pd.Series()\n",
    "print (s)\n",
    "type(s)"
   ]
  },
  {
   "cell_type": "markdown",
   "metadata": {},
   "source": [
    "#### From Scalar\n",
    "If data is a scalar value, an **index must be provided**. The **value will be repeated** to match the length of index"
   ]
  },
  {
   "cell_type": "code",
   "execution_count": 35,
   "metadata": {},
   "outputs": [
    {
     "data": {
      "text/plain": [
       "a    1\n",
       "b    1\n",
       "c    1\n",
       "d    1\n",
       "dtype: int64"
      ]
     },
     "execution_count": 35,
     "metadata": {},
     "output_type": "execute_result"
    }
   ],
   "source": [
    "pd.Series( 1, index = ['a','b','c','d'])"
   ]
  },
  {
   "cell_type": "markdown",
   "metadata": {},
   "source": [
    "#### From array-like\n",
    "**From numpy.array**  \n",
    "If index is not specified, default to 0 and continue incrementally"
   ]
  },
  {
   "cell_type": "code",
   "execution_count": 36,
   "metadata": {},
   "outputs": [
    {
     "data": {
      "text/plain": [
       "0    a\n",
       "1    b\n",
       "2    c\n",
       "3    d\n",
       "4    e\n",
       "dtype: object"
      ]
     },
     "execution_count": 36,
     "metadata": {},
     "output_type": "execute_result"
    }
   ],
   "source": [
    "pd.Series(np.array(['a','b','c','d','e']))  # from np.array"
   ]
  },
  {
   "cell_type": "markdown",
   "metadata": {},
   "source": [
    "**From list**"
   ]
  },
  {
   "cell_type": "code",
   "execution_count": 37,
   "metadata": {},
   "outputs": [
    {
     "data": {
      "text/plain": [
       "0    a\n",
       "1    b\n",
       "2    c\n",
       "3    d\n",
       "4    e\n",
       "dtype: object"
      ]
     },
     "execution_count": 37,
     "metadata": {},
     "output_type": "execute_result"
    }
   ],
   "source": [
    "pd.Series(['a','b','c','d','e'])           # from Python list"
   ]
  },
  {
   "cell_type": "markdown",
   "metadata": {},
   "source": [
    "**From DateTimeIndex**"
   ]
  },
  {
   "cell_type": "code",
   "execution_count": 38,
   "metadata": {},
   "outputs": [
    {
     "data": {
      "text/plain": [
       "DatetimeIndex(['2011-01-01', '2011-01-02', '2011-01-03'], dtype='datetime64[ns]', freq='D')"
      ]
     },
     "execution_count": 38,
     "metadata": {},
     "output_type": "execute_result"
    }
   ],
   "source": [
    "dti = pd.date_range('2011-1-1','2011-1-3')\n",
    "dti"
   ]
  },
  {
   "cell_type": "code",
   "execution_count": 39,
   "metadata": {},
   "outputs": [
    {
     "data": {
      "text/plain": [
       "0   2011-01-01\n",
       "1   2011-01-02\n",
       "2   2011-01-03\n",
       "dtype: datetime64[ns]"
      ]
     },
     "execution_count": 39,
     "metadata": {},
     "output_type": "execute_result"
    }
   ],
   "source": [
    "pd.Series(pd.date_range('2011-1-1','2011-1-3'))"
   ]
  },
  {
   "cell_type": "markdown",
   "metadata": {},
   "source": [
    "#### From Dictionary\n",
    "The **dictionary key** will be the index"
   ]
  },
  {
   "cell_type": "markdown",
   "metadata": {},
   "source": [
    "If **index sequence is not specified**, then the Series will be **automatically sorted** according to the key"
   ]
  },
  {
   "cell_type": "code",
   "execution_count": 40,
   "metadata": {},
   "outputs": [
    {
     "data": {
      "text/plain": [
       "a    0.0\n",
       "c    1.0\n",
       "b    2.0\n",
       "dtype: float64"
      ]
     },
     "execution_count": 40,
     "metadata": {},
     "output_type": "execute_result"
    }
   ],
   "source": [
    "pd.Series({'a' : 0., 'c' : 1., 'b' : 2.})  # from Python dict, autosort by default key"
   ]
  },
  {
   "cell_type": "markdown",
   "metadata": {},
   "source": [
    "If **index sequence** is specifeid, then Series will forllow the index order  \n",
    "Objerve that **missing data** (index without value) will be marked as NaN"
   ]
  },
  {
   "cell_type": "code",
   "execution_count": 41,
   "metadata": {},
   "outputs": [
    {
     "data": {
      "text/plain": [
       "a    0.0\n",
       "b    2.0\n",
       "c    1.0\n",
       "d    NaN\n",
       "dtype: float64"
      ]
     },
     "execution_count": 41,
     "metadata": {},
     "output_type": "execute_result"
    }
   ],
   "source": [
    "pd.Series({'a' : 0., 'c' : 1., 'b' : 2.},index = ['a','b','c','d'])  # from Python Dict, index specified, no auto sort"
   ]
  },
  {
   "cell_type": "markdown",
   "metadata": {},
   "source": [
    "#### Specify Index During Creation"
   ]
  },
  {
   "cell_type": "code",
   "execution_count": 42,
   "metadata": {},
   "outputs": [
    {
     "data": {
      "text/plain": [
       "10    a\n",
       "20    b\n",
       "30    c\n",
       "40    d\n",
       "50    e\n",
       "dtype: object"
      ]
     },
     "execution_count": 42,
     "metadata": {},
     "output_type": "execute_result"
    }
   ],
   "source": [
    "pd.Series(['a','b','c','d','e'], index=[10,20,30,40,50])"
   ]
  },
  {
   "cell_type": "markdown",
   "metadata": {
    "toc-hr-collapsed": true
   },
   "source": [
    "### Accessing Series\n",
    "```\n",
    "series     ( single/list/range_of_row_label/number ) # can cause confusion\n",
    "series.loc ( single/list/range_of_row_label )\n",
    "series.iloc( single/list/range_of_row_number )\n",
    "```"
   ]
  },
  {
   "cell_type": "markdown",
   "metadata": {},
   "source": [
    "#### Sample Data"
   ]
  },
  {
   "cell_type": "code",
   "execution_count": 43,
   "metadata": {},
   "outputs": [
    {
     "data": {
      "text/plain": [
       "a    1\n",
       "b    2\n",
       "c    3\n",
       "d    4\n",
       "e    5\n",
       "dtype: int64"
      ]
     },
     "execution_count": 43,
     "metadata": {},
     "output_type": "execute_result"
    }
   ],
   "source": [
    "s = pd.Series([1,2,3,4,5],index=['a','b','c','d','e']) \n",
    "s"
   ]
  },
  {
   "cell_type": "markdown",
   "metadata": {},
   "source": [
    "#### by Row Number(s)"
   ]
  },
  {
   "cell_type": "markdown",
   "metadata": {},
   "source": [
    "**Single Item**"
   ]
  },
  {
   "cell_type": "code",
   "execution_count": 44,
   "metadata": {},
   "outputs": [
    {
     "data": {
      "text/plain": [
       "2"
      ]
     },
     "execution_count": 44,
     "metadata": {},
     "output_type": "execute_result"
    }
   ],
   "source": [
    "s.iloc[1]"
   ]
  },
  {
   "cell_type": "markdown",
   "metadata": {},
   "source": [
    "**Multiple Items**"
   ]
  },
  {
   "cell_type": "code",
   "execution_count": 45,
   "metadata": {},
   "outputs": [
    {
     "data": {
      "text/plain": [
       "b    2\n",
       "d    4\n",
       "dtype: int64"
      ]
     },
     "execution_count": 45,
     "metadata": {},
     "output_type": "execute_result"
    }
   ],
   "source": [
    "s.iloc[[1,3]] "
   ]
  },
  {
   "cell_type": "markdown",
   "metadata": {},
   "source": [
    "**Range (First 3)**"
   ]
  },
  {
   "cell_type": "code",
   "execution_count": 46,
   "metadata": {},
   "outputs": [
    {
     "data": {
      "text/plain": [
       "a    1\n",
       "b    2\n",
       "c    3\n",
       "dtype: int64"
      ]
     },
     "execution_count": 46,
     "metadata": {},
     "output_type": "execute_result"
    }
   ],
   "source": [
    "s.iloc[:3]"
   ]
  },
  {
   "cell_type": "markdown",
   "metadata": {},
   "source": [
    "**Range (Last 3)**"
   ]
  },
  {
   "cell_type": "code",
   "execution_count": 47,
   "metadata": {
    "scrolled": true
   },
   "outputs": [
    {
     "data": {
      "text/plain": [
       "c    3\n",
       "d    4\n",
       "e    5\n",
       "dtype: int64"
      ]
     },
     "execution_count": 47,
     "metadata": {},
     "output_type": "execute_result"
    }
   ],
   "source": [
    "s.iloc[-3:]"
   ]
  },
  {
   "cell_type": "markdown",
   "metadata": {},
   "source": [
    "**Range (in between)**"
   ]
  },
  {
   "cell_type": "code",
   "execution_count": 48,
   "metadata": {},
   "outputs": [
    {
     "data": {
      "text/plain": [
       "c    3\n",
       "dtype: int64"
      ]
     },
     "execution_count": 48,
     "metadata": {},
     "output_type": "execute_result"
    }
   ],
   "source": [
    "s.iloc[2:3]"
   ]
  },
  {
   "cell_type": "markdown",
   "metadata": {},
   "source": [
    "#### by Index(es)"
   ]
  },
  {
   "cell_type": "markdown",
   "metadata": {},
   "source": [
    "**Single Label**"
   ]
  },
  {
   "cell_type": "code",
   "execution_count": 49,
   "metadata": {},
   "outputs": [
    {
     "data": {
      "text/plain": [
       "3"
      ]
     },
     "execution_count": 49,
     "metadata": {},
     "output_type": "execute_result"
    }
   ],
   "source": [
    "s.loc['c'] \n",
    "# or  ... s[['c']]"
   ]
  },
  {
   "cell_type": "markdown",
   "metadata": {},
   "source": [
    "**Multiple Labels**"
   ]
  },
  {
   "cell_type": "code",
   "execution_count": 50,
   "metadata": {},
   "outputs": [
    {
     "data": {
      "text/plain": [
       "b    2\n",
       "c    3\n",
       "dtype: int64"
      ]
     },
     "execution_count": 50,
     "metadata": {},
     "output_type": "execute_result"
    }
   ],
   "source": [
    "s.loc[['b','c']]"
   ]
  },
  {
   "cell_type": "markdown",
   "metadata": {},
   "source": [
    "** Range of Labels **"
   ]
  },
  {
   "cell_type": "code",
   "execution_count": 51,
   "metadata": {},
   "outputs": [
    {
     "data": {
      "text/plain": [
       "b    2\n",
       "c    3\n",
       "d    4\n",
       "dtype: int64"
      ]
     },
     "execution_count": 51,
     "metadata": {},
     "output_type": "execute_result"
    }
   ],
   "source": [
    "s.loc['b':'d']"
   ]
  },
  {
   "cell_type": "markdown",
   "metadata": {},
   "source": [
    "#### Filtering Criteria\n",
    "Use logical array to filter"
   ]
  },
  {
   "cell_type": "code",
   "execution_count": 52,
   "metadata": {},
   "outputs": [
    {
     "data": {
      "text/plain": [
       "0    1\n",
       "1    2\n",
       "2    3\n",
       "3    4\n",
       "dtype: int64"
      ]
     },
     "execution_count": 52,
     "metadata": {},
     "output_type": "execute_result"
    }
   ],
   "source": [
    "s = pd.Series(range(1,8))\n",
    "s[s<5]"
   ]
  },
  {
   "cell_type": "markdown",
   "metadata": {},
   "source": [
    "Use **logical array** with **where**"
   ]
  },
  {
   "cell_type": "code",
   "execution_count": 53,
   "metadata": {},
   "outputs": [
    {
     "data": {
      "text/plain": [
       "0    NaN\n",
       "1    NaN\n",
       "2    NaN\n",
       "3    NaN\n",
       "4    5.0\n",
       "5    6.0\n",
       "6    7.0\n",
       "dtype: float64"
      ]
     },
     "execution_count": 53,
     "metadata": {},
     "output_type": "execute_result"
    }
   ],
   "source": [
    "s.where(s>4)"
   ]
  },
  {
   "cell_type": "code",
   "execution_count": 54,
   "metadata": {},
   "outputs": [
    {
     "data": {
      "text/plain": [
       "0    None\n",
       "1    None\n",
       "2    None\n",
       "3    None\n",
       "4       5\n",
       "5       6\n",
       "6       7\n",
       "dtype: object"
      ]
     },
     "execution_count": 54,
     "metadata": {},
     "output_type": "execute_result"
    }
   ],
   "source": [
    "s.where(s>4,None)"
   ]
  },
  {
   "cell_type": "markdown",
   "metadata": {
    "toc-hr-collapsed": true
   },
   "source": [
    "### Modifying Series\n",
    "#### by Row Number(s)"
   ]
  },
  {
   "cell_type": "code",
   "execution_count": 55,
   "metadata": {},
   "outputs": [
    {
     "data": {
      "text/plain": [
       "a      1\n",
       "b      2\n",
       "c    999\n",
       "d    888\n",
       "e    777\n",
       "f      6\n",
       "dtype: int64"
      ]
     },
     "execution_count": 55,
     "metadata": {},
     "output_type": "execute_result"
    }
   ],
   "source": [
    "s = pd.Series(range(1,7), index=['a','b','c','d','e','f'])\n",
    "s[2] = 999\n",
    "s[[3,4]] = 888,777\n",
    "s"
   ]
  },
  {
   "cell_type": "markdown",
   "metadata": {},
   "source": [
    "#### by Index(es)"
   ]
  },
  {
   "cell_type": "code",
   "execution_count": 56,
   "metadata": {},
   "outputs": [
    {
     "data": {
      "text/plain": [
       "a      1\n",
       "b      2\n",
       "c    777\n",
       "d    888\n",
       "e    888\n",
       "f      6\n",
       "dtype: int64"
      ]
     },
     "execution_count": 56,
     "metadata": {},
     "output_type": "execute_result"
    }
   ],
   "source": [
    "s = pd.Series(range(1,7), index=['a','b','c','d','e','f'])\n",
    "s['e'] = 888\n",
    "s[['c','d']] = 777,888\n",
    "s"
   ]
  },
  {
   "cell_type": "markdown",
   "metadata": {
    "toc-hr-collapsed": true
   },
   "source": [
    "### Series Attributes"
   ]
  },
  {
   "cell_type": "markdown",
   "metadata": {},
   "source": [
    "#### ```index```"
   ]
  },
  {
   "cell_type": "code",
   "execution_count": 57,
   "metadata": {},
   "outputs": [
    {
     "data": {
      "text/plain": [
       "Index(['a', 'b', 'c', 'd', 'e'], dtype='object')"
      ]
     },
     "execution_count": 57,
     "metadata": {},
     "output_type": "execute_result"
    }
   ],
   "source": [
    "s = pd.Series([1,2,3,4,5],index=['a','b','c','d','e']) \n",
    "s.index"
   ]
  },
  {
   "cell_type": "markdown",
   "metadata": {},
   "source": [
    "#### ```dtype```"
   ]
  },
  {
   "cell_type": "code",
   "execution_count": 58,
   "metadata": {},
   "outputs": [
    {
     "data": {
      "text/plain": [
       "dtype('int64')"
      ]
     },
     "execution_count": 58,
     "metadata": {},
     "output_type": "execute_result"
    }
   ],
   "source": [
    "s = pd.Series([1,2,3,4,5],index=['a','b','c','d','e']) \n",
    "s.dtype"
   ]
  },
  {
   "cell_type": "markdown",
   "metadata": {},
   "source": [
    "#### Dimensions"
   ]
  },
  {
   "cell_type": "code",
   "execution_count": 59,
   "metadata": {},
   "outputs": [
    {
     "name": "stdout",
     "output_type": "stream",
     "text": [
      "a    1\n",
      "b    2\n",
      "c    3\n",
      "d    4\n",
      "e    5\n",
      "dtype: int64\n",
      "5\n"
     ]
    }
   ],
   "source": [
    "print(s)\n",
    "print( s.size  )"
   ]
  },
  {
   "cell_type": "code",
   "execution_count": 60,
   "metadata": {},
   "outputs": [
    {
     "name": "stdout",
     "output_type": "stream",
     "text": [
      "(5,)\n",
      "1\n"
     ]
    }
   ],
   "source": [
    "print( s.shape )\n",
    "print( s.ndim  )"
   ]
  },
  {
   "cell_type": "markdown",
   "metadata": {
    "toc-hr-collapsed": true
   },
   "source": [
    "### Instance Methods"
   ]
  },
  {
   "cell_type": "markdown",
   "metadata": {},
   "source": [
    "#### .reset_index ()\n",
    "Resetting index will:  \n",
    "- Convert index to a normal column  \n",
    "- Index numbering became 0,1,2,3"
   ]
  },
  {
   "cell_type": "code",
   "execution_count": 61,
   "metadata": {},
   "outputs": [
    {
     "data": {
      "text/plain": [
       "  index  0\n",
       "0     a  1\n",
       "1     b  2\n",
       "2     c  3\n",
       "3     d  4\n",
       "4     e  5"
      ]
     },
     "execution_count": 61,
     "metadata": {},
     "output_type": "execute_result"
    }
   ],
   "source": [
    "s.reset_index()"
   ]
  },
  {
   "cell_type": "code",
   "execution_count": 62,
   "metadata": {},
   "outputs": [
    {
     "data": {
      "text/plain": [
       "Index(['a', 'b', 'c', 'd', 'e'], dtype='object')"
      ]
     },
     "execution_count": 62,
     "metadata": {},
     "output_type": "execute_result"
    }
   ],
   "source": [
    "s.index"
   ]
  },
  {
   "cell_type": "markdown",
   "metadata": {},
   "source": [
    "#### Structure Conversion\n",
    "**Use ```to_numpy()``` to convert into ```numpy.ndarray```**"
   ]
  },
  {
   "cell_type": "code",
   "execution_count": 63,
   "metadata": {},
   "outputs": [],
   "source": [
    "#npa = s.to_numpy()\n",
    "#print( npa )\n",
    "#print( type(npa) )"
   ]
  },
  {
   "cell_type": "markdown",
   "metadata": {},
   "source": [
    "**Use ```to_list()``` to convert into standard python ```list```**"
   ]
  },
  {
   "cell_type": "code",
   "execution_count": 64,
   "metadata": {},
   "outputs": [],
   "source": [
    "#ll = s.to_list()\n",
    "##print( ll )\n",
    "#print( type(ll) )"
   ]
  },
  {
   "cell_type": "markdown",
   "metadata": {},
   "source": [
    "#### DataType Conversion\n",
    "Use **```astype()```** to convert to another numpy supproted datatypes"
   ]
  },
  {
   "cell_type": "code",
   "execution_count": 65,
   "metadata": {},
   "outputs": [
    {
     "data": {
      "text/plain": [
       "0    1\n",
       "1    2\n",
       "dtype: int32"
      ]
     },
     "execution_count": 65,
     "metadata": {},
     "output_type": "execute_result"
    }
   ],
   "source": [
    "ser = pd.Series([1, 2], dtype='int32')\n",
    "ser"
   ]
  },
  {
   "cell_type": "code",
   "execution_count": 66,
   "metadata": {},
   "outputs": [
    {
     "data": {
      "text/plain": [
       "0    1\n",
       "1    2\n",
       "dtype: int8"
      ]
     },
     "execution_count": 66,
     "metadata": {},
     "output_type": "execute_result"
    }
   ],
   "source": [
    "ser.astype('int8')"
   ]
  },
  {
   "cell_type": "markdown",
   "metadata": {
    "toc-hr-collapsed": true
   },
   "source": [
    "### Series Operators"
   ]
  },
  {
   "cell_type": "markdown",
   "metadata": {},
   "source": [
    "The result of applying operator (arithmetic or logic) to Series object **returns a new Series object**"
   ]
  },
  {
   "cell_type": "markdown",
   "metadata": {},
   "source": [
    "#### Arithmetic Operator"
   ]
  },
  {
   "cell_type": "code",
   "execution_count": 67,
   "metadata": {},
   "outputs": [],
   "source": [
    "s1 = pd.Series( [100,200,300,400,500] )\n",
    "s2 = pd.Series( [10, 20, 30, 40, 50] )"
   ]
  },
  {
   "cell_type": "markdown",
   "metadata": {},
   "source": [
    "**Apply To One Series Object**"
   ]
  },
  {
   "cell_type": "code",
   "execution_count": 68,
   "metadata": {},
   "outputs": [
    {
     "data": {
      "text/plain": [
       "0    90\n",
       "1    80\n",
       "2    70\n",
       "3    60\n",
       "4    50\n",
       "dtype: int64"
      ]
     },
     "execution_count": 68,
     "metadata": {},
     "output_type": "execute_result"
    }
   ],
   "source": [
    "100 - s2"
   ]
  },
  {
   "cell_type": "markdown",
   "metadata": {},
   "source": [
    "**Apply To Two Series Objects**"
   ]
  },
  {
   "cell_type": "code",
   "execution_count": 69,
   "metadata": {},
   "outputs": [
    {
     "data": {
      "text/plain": [
       "0     90\n",
       "1    180\n",
       "2    270\n",
       "3    360\n",
       "4    450\n",
       "dtype: int64"
      ]
     },
     "execution_count": 69,
     "metadata": {},
     "output_type": "execute_result"
    }
   ],
   "source": [
    "s1 - s2"
   ]
  },
  {
   "cell_type": "markdown",
   "metadata": {},
   "source": [
    "#### Logic Operator\n",
    "- Apply logic operator to a Series return a **new Series** of boolean result  \n",
    "- This can be used for **Series or DataFrame filtering**"
   ]
  },
  {
   "cell_type": "code",
   "execution_count": 70,
   "metadata": {},
   "outputs": [
    {
     "data": {
      "text/plain": [
       "0    0\n",
       "1    1\n",
       "2    2\n",
       "3    3\n",
       "4    4\n",
       "5    5\n",
       "6    6\n",
       "7    7\n",
       "8    8\n",
       "9    9\n",
       "dtype: int64"
      ]
     },
     "execution_count": 70,
     "metadata": {},
     "output_type": "execute_result"
    }
   ],
   "source": [
    "bs = pd.Series(range(0,10))\n",
    "bs"
   ]
  },
  {
   "cell_type": "code",
   "execution_count": 71,
   "metadata": {},
   "outputs": [
    {
     "name": "stdout",
     "output_type": "stream",
     "text": [
      "0    False\n",
      "1    False\n",
      "2    False\n",
      "3    False\n",
      "4     True\n",
      "5     True\n",
      "6     True\n",
      "7     True\n",
      "8     True\n",
      "9     True\n",
      "dtype: bool\n",
      "<class 'pandas.core.series.Series'>\n"
     ]
    }
   ],
   "source": [
    "print (bs>3)\n",
    "print (type (bs>3))"
   ]
  },
  {
   "cell_type": "code",
   "execution_count": 72,
   "metadata": {},
   "outputs": [
    {
     "data": {
      "text/plain": [
       "0     True\n",
       "1     True\n",
       "2     True\n",
       "3     True\n",
       "4    False\n",
       "5    False\n",
       "6    False\n",
       "7    False\n",
       "8     True\n",
       "9     True\n",
       "dtype: bool"
      ]
     },
     "execution_count": 72,
     "metadata": {},
     "output_type": "execute_result"
    }
   ],
   "source": [
    "~((bs>3) & (bs<8))"
   ]
  },
  {
   "cell_type": "markdown",
   "metadata": {
    "toc-hr-collapsed": true
   },
   "source": []
  },
  {
   "cell_type": "markdown",
   "metadata": {
    "toc-hr-collapsed": true
   },
   "source": [
    "### Series String Accesor ```.str```\n",
    "\n",
    "If the underlying data is **str** type, then pandas exposed various properties and methos through **```str``` accessor**. \n",
    "\n",
    "- This chapter focus on various functions that can be applied to entire Series data  \n",
    "```\n",
    "SeriesObj.str.operatorFunction()\n",
    "``` "
   ]
  },
  {
   "cell_type": "markdown",
   "metadata": {},
   "source": [
    "**Pandas ```str``` Method**"
   ]
  },
  {
   "cell_type": "markdown",
   "metadata": {},
   "source": [
    "Nearly all Python's built-in string methods are mirrored by a Pandas vectorized string method. Here is a list of Pandas str methods that mirror Python string methods:  \n",
    "\n",
    "len()\tlower()\ttranslate()\tislower()\n",
    "ljust()\tupper()\tstartswith()\tisupper()\n",
    "rjust()\tfind()\tendswith()\tisnumeric()\n",
    "center()\trfind()\tisalnum()\tisdecimal()\n",
    "zfill()\tindex()\tisalpha()\tsplit()\n",
    "strip()\trindex()\tisdigit()\trsplit()\n",
    "rstrip()\tcapitalize()\tisspace()\tpartition()\n",
    "lstrip()\tswapcase()\tistitle()\trpartition()"
   ]
  },
  {
   "cell_type": "markdown",
   "metadata": {
    "toc-hr-collapsed": true
   },
   "source": [
    "#### Splitting"
   ]
  },
  {
   "cell_type": "code",
   "execution_count": 267,
   "metadata": {},
   "outputs": [
    {
     "data": {
      "text/plain": [
       "0        a_b_c\n",
       "1        c_d_e\n",
       "2          NaN\n",
       "3    f_g_h_i_j\n",
       "dtype: object"
      ]
     },
     "execution_count": 267,
     "metadata": {},
     "output_type": "execute_result"
    }
   ],
   "source": [
    "s = pd.Series(['a_b_c', 'c_d_e', np.nan, 'f_g_h_i_j'])\n",
    "s"
   ]
  },
  {
   "cell_type": "markdown",
   "metadata": {},
   "source": [
    "**```str.split()```**\n",
    "By default, split will split the string into **array**"
   ]
  },
  {
   "cell_type": "code",
   "execution_count": 268,
   "metadata": {},
   "outputs": [
    {
     "data": {
      "text/plain": [
       "0          [a, b, c]\n",
       "1          [c, d, e]\n",
       "2                NaN\n",
       "3    [f, g, h, i, j]\n",
       "dtype: object"
      ]
     },
     "execution_count": 268,
     "metadata": {},
     "output_type": "execute_result"
    }
   ],
   "source": [
    "s.str.split('_')"
   ]
  },
  {
   "cell_type": "markdown",
   "metadata": {},
   "source": [
    "After split, **select rows** to return"
   ]
  },
  {
   "cell_type": "code",
   "execution_count": 269,
   "metadata": {},
   "outputs": [
    {
     "name": "stdout",
     "output_type": "stream",
     "text": [
      "['c', 'd', 'e']\n",
      "['c', 'd', 'e']\n"
     ]
    }
   ],
   "source": [
    "print( s.str.split('_').get(1) )\n",
    "print( s.str.split('_')[1] )"
   ]
  },
  {
   "cell_type": "markdown",
   "metadata": {},
   "source": [
    "**```str.split( expand=True, n= )```**"
   ]
  },
  {
   "cell_type": "markdown",
   "metadata": {},
   "source": [
    "**```split```** and **```expand=True```** will return a **dataframe** instead of series"
   ]
  },
  {
   "cell_type": "code",
   "execution_count": 270,
   "metadata": {},
   "outputs": [
    {
     "name": "stdout",
     "output_type": "stream",
     "text": [
      "     0    1    2     3     4\n",
      "0    a    b    c  None  None\n",
      "1    c    d    e  None  None\n",
      "2  NaN  NaN  NaN   NaN   NaN\n",
      "3    f    g    h     i     j\n"
     ]
    }
   ],
   "source": [
    "print( s.str.split('_', expand=True) )"
   ]
  },
  {
   "cell_type": "markdown",
   "metadata": {},
   "source": [
    "It is possible to limit the number of columns splitted"
   ]
  },
  {
   "cell_type": "code",
   "execution_count": 271,
   "metadata": {},
   "outputs": [
    {
     "name": "stdout",
     "output_type": "stream",
     "text": [
      "     0        1\n",
      "0    a      b_c\n",
      "1    c      d_e\n",
      "2  NaN      NaN\n",
      "3    f  g_h_i_j\n"
     ]
    }
   ],
   "source": [
    "print( s.str.split('_', expand=True, n=1) )"
   ]
  },
  {
   "cell_type": "markdown",
   "metadata": {},
   "source": [
    "**```str.rsplit()```**"
   ]
  },
  {
   "cell_type": "markdown",
   "metadata": {},
   "source": [
    "**```rsplit```** stands for **reverse split**, it works the same way, except it is reversed"
   ]
  },
  {
   "cell_type": "code",
   "execution_count": 272,
   "metadata": {},
   "outputs": [
    {
     "name": "stdout",
     "output_type": "stream",
     "text": [
      "         0    1\n",
      "0      a_b    c\n",
      "1      c_d    e\n",
      "2      NaN  NaN\n",
      "3  f_g_h_i    j\n"
     ]
    }
   ],
   "source": [
    "print( s.str.rsplit('_', expand=True, n=1) )"
   ]
  },
  {
   "cell_type": "markdown",
   "metadata": {},
   "source": [
    "#### Matching"
   ]
  },
  {
   "cell_type": "code",
   "execution_count": 273,
   "metadata": {},
   "outputs": [
    {
     "data": {
      "text/plain": [
       "0    Graham Chapman\n",
       "1       John Cleese\n",
       "2     Terry Gilliam\n",
       "3         Eric Idle\n",
       "4       Terry Jones\n",
       "5     Michael Palin\n",
       "dtype: object"
      ]
     },
     "execution_count": 273,
     "metadata": {},
     "output_type": "execute_result"
    }
   ],
   "source": [
    "monte = pd.Series(['Graham Chapman', 'John Cleese', 'Terry Gilliam',\n",
    "                   'Eric Idle', 'Terry Jones', 'Michael Palin'])\n",
    "monte"
   ]
  },
  {
   "cell_type": "markdown",
   "metadata": {},
   "source": [
    "**```startwith```**"
   ]
  },
  {
   "cell_type": "code",
   "execution_count": 274,
   "metadata": {},
   "outputs": [
    {
     "data": {
      "text/plain": [
       "0    False\n",
       "1    False\n",
       "2     True\n",
       "3    False\n",
       "4     True\n",
       "5    False\n",
       "dtype: bool"
      ]
     },
     "execution_count": 274,
     "metadata": {},
     "output_type": "execute_result"
    }
   ],
   "source": [
    "monte.str.startswith('T')"
   ]
  },
  {
   "cell_type": "code",
   "execution_count": 275,
   "metadata": {},
   "outputs": [
    {
     "data": {
      "text/plain": [
       "0    [Graham, Chapman]\n",
       "1       [John, Cleese]\n",
       "2     [Terry, Gilliam]\n",
       "3         [Eric, Idle]\n",
       "4       [Terry, Jones]\n",
       "5     [Michael, Palin]\n",
       "dtype: object"
      ]
     },
     "execution_count": 275,
     "metadata": {},
     "output_type": "execute_result"
    }
   ],
   "source": [
    "monte.str.split()"
   ]
  },
  {
   "cell_type": "markdown",
   "metadata": {},
   "source": [
    "**```Slicing```**"
   ]
  },
  {
   "cell_type": "code",
   "execution_count": 276,
   "metadata": {},
   "outputs": [
    {
     "data": {
      "text/plain": [
       "0    Gra\n",
       "1    Joh\n",
       "2    Ter\n",
       "3    Eri\n",
       "4    Ter\n",
       "5    Mic\n",
       "dtype: object"
      ]
     },
     "execution_count": 276,
     "metadata": {},
     "output_type": "execute_result"
    }
   ],
   "source": [
    "monte.str[0:3]"
   ]
  },
  {
   "cell_type": "code",
   "execution_count": 277,
   "metadata": {},
   "outputs": [
    {
     "data": {
      "text/plain": [
       "0    Graham Chapma\n",
       "1       John Clees\n",
       "2     Terry Gillia\n",
       "3         Eric Idl\n",
       "4       Terry Jone\n",
       "5     Michael Pali\n",
       "dtype: object"
      ]
     },
     "execution_count": 277,
     "metadata": {},
     "output_type": "execute_result"
    }
   ],
   "source": [
    "monte.str[0:-1]"
   ]
  },
  {
   "cell_type": "code",
   "execution_count": 73,
   "metadata": {},
   "outputs": [],
   "source": [
    "s = pd.Series(['A', 'B', 'C', 'Aaba', 'Baca', np.nan, 'CABA', 'dog', 'cat'])"
   ]
  },
  {
   "cell_type": "markdown",
   "metadata": {},
   "source": [
    "#### Case Conversion\n",
    "```\n",
    "SeriesObj.str.upper()\n",
    "SeriesObj.str.lower()\n",
    "```"
   ]
  },
  {
   "cell_type": "code",
   "execution_count": 74,
   "metadata": {},
   "outputs": [
    {
     "data": {
      "text/plain": [
       "0       A\n",
       "1       B\n",
       "2       C\n",
       "3    AABA\n",
       "4    BACA\n",
       "5     NaN\n",
       "6    CABA\n",
       "7     DOG\n",
       "8     CAT\n",
       "dtype: object"
      ]
     },
     "execution_count": 74,
     "metadata": {},
     "output_type": "execute_result"
    }
   ],
   "source": [
    "s.str.upper()"
   ]
  },
  {
   "cell_type": "markdown",
   "metadata": {},
   "source": [
    "#### Number of Characters"
   ]
  },
  {
   "cell_type": "code",
   "execution_count": 75,
   "metadata": {},
   "outputs": [
    {
     "data": {
      "text/plain": [
       "0    1.0\n",
       "1    1.0\n",
       "2    1.0\n",
       "3    4.0\n",
       "4    4.0\n",
       "5    NaN\n",
       "6    4.0\n",
       "7    3.0\n",
       "8    3.0\n",
       "dtype: float64"
      ]
     },
     "execution_count": 75,
     "metadata": {},
     "output_type": "execute_result"
    }
   ],
   "source": [
    "s.str.len()"
   ]
  },
  {
   "cell_type": "code",
   "execution_count": 264,
   "metadata": {},
   "outputs": [
    {
     "data": {
      "text/plain": [
       "0    Peter\n",
       "1     Paul\n",
       "2     Yong\n",
       "3     Mary\n",
       "4    Guido\n",
       "dtype: object"
      ]
     },
     "execution_count": 264,
     "metadata": {},
     "output_type": "execute_result"
    }
   ],
   "source": [
    "names = pd.Series(data)\n",
    "names.str.capitalize()"
   ]
  },
  {
   "cell_type": "markdown",
   "metadata": {},
   "source": [
    "#### String Indexing"
   ]
  },
  {
   "cell_type": "code",
   "execution_count": 76,
   "metadata": {},
   "outputs": [
    {
     "data": {
      "text/plain": [
       "0       A\n",
       "1       B\n",
       "2       C\n",
       "3    Aaba\n",
       "4    Baca\n",
       "5     NaN\n",
       "6    CABA\n",
       "7     dog\n",
       "8     cat\n",
       "dtype: object"
      ]
     },
     "execution_count": 76,
     "metadata": {},
     "output_type": "execute_result"
    }
   ],
   "source": [
    "s = pd.Series(['A', 'B', 'C', 'Aaba', 'Baca', np.nan,'CABA', 'dog', 'cat'])\n",
    "s"
   ]
  },
  {
   "cell_type": "code",
   "execution_count": 77,
   "metadata": {},
   "outputs": [
    {
     "data": {
      "text/plain": [
       "0    NaN\n",
       "1    NaN\n",
       "2    NaN\n",
       "3      a\n",
       "4      a\n",
       "5    NaN\n",
       "6      A\n",
       "7      o\n",
       "8      a\n",
       "dtype: object"
      ]
     },
     "execution_count": 77,
     "metadata": {},
     "output_type": "execute_result"
    }
   ],
   "source": [
    "s.str[1]  # return char-1 (second char) of every item"
   ]
  },
  {
   "cell_type": "markdown",
   "metadata": {},
   "source": [
    "#### Splitting"
   ]
  },
  {
   "cell_type": "markdown",
   "metadata": {},
   "source": [
    "**Sample Data**"
   ]
  },
  {
   "cell_type": "code",
   "execution_count": 78,
   "metadata": {},
   "outputs": [],
   "source": [
    "s = pd.Series(['a_b_c', 'c_d_e', np.nan, 'f_g_h'])"
   ]
  },
  {
   "cell_type": "markdown",
   "metadata": {},
   "source": [
    "**Splitting base on a a delimieter**\n",
    "Result is a SeriesObj with list of splitted characters"
   ]
  },
  {
   "cell_type": "code",
   "execution_count": 79,
   "metadata": {},
   "outputs": [
    {
     "data": {
      "text/plain": [
       "0    [a, b, c]\n",
       "1    [c, d, e]\n",
       "2          NaN\n",
       "3    [f, g, h]\n",
       "dtype: object"
      ]
     },
     "execution_count": 79,
     "metadata": {},
     "output_type": "execute_result"
    }
   ],
   "source": [
    "sp = s.str.split('_')\n",
    "sp"
   ]
  },
  {
   "cell_type": "markdown",
   "metadata": {},
   "source": [
    "**Retrieving Split Result**  \n",
    "Use **.str.get()** to retrieve splitted elments "
   ]
  },
  {
   "cell_type": "code",
   "execution_count": 80,
   "metadata": {},
   "outputs": [
    {
     "data": {
      "text/plain": [
       "0      c\n",
       "1      e\n",
       "2    NaN\n",
       "3      h\n",
       "dtype: object"
      ]
     },
     "execution_count": 80,
     "metadata": {},
     "output_type": "execute_result"
    }
   ],
   "source": [
    "sp.str.get(-1) "
   ]
  },
  {
   "cell_type": "markdown",
   "metadata": {},
   "source": [
    "Alternatively, use **str[ ]** for the same result"
   ]
  },
  {
   "cell_type": "code",
   "execution_count": 81,
   "metadata": {},
   "outputs": [
    {
     "data": {
      "text/plain": [
       "0      c\n",
       "1      e\n",
       "2    NaN\n",
       "3      h\n",
       "dtype: object"
      ]
     },
     "execution_count": 81,
     "metadata": {},
     "output_type": "execute_result"
    }
   ],
   "source": [
    "sp.str[-1]"
   ]
  },
  {
   "cell_type": "markdown",
   "metadata": {},
   "source": [
    "#### Split and Expand Into DataFrame"
   ]
  },
  {
   "cell_type": "code",
   "execution_count": 82,
   "metadata": {},
   "outputs": [
    {
     "data": {
      "text/plain": [
       "     0    1    2\n",
       "0    a    b    c\n",
       "1    c    d    e\n",
       "2  NaN  NaN  NaN\n",
       "3    f    g    h"
      ]
     },
     "execution_count": 82,
     "metadata": {},
     "output_type": "execute_result"
    }
   ],
   "source": [
    "s.str.split('_',expand=True, n=5)  # limit expansion into n columns"
   ]
  },
  {
   "cell_type": "markdown",
   "metadata": {
    "toc-hr-collapsed": true
   },
   "source": [
    "#### Series Substring Extraction"
   ]
  },
  {
   "cell_type": "markdown",
   "metadata": {},
   "source": [
    "**Sample Data**"
   ]
  },
  {
   "cell_type": "code",
   "execution_count": 83,
   "metadata": {},
   "outputs": [
    {
     "data": {
      "text/plain": [
       "0    a1\n",
       "1    b2\n",
       "2    c3\n",
       "dtype: object"
      ]
     },
     "execution_count": 83,
     "metadata": {},
     "output_type": "execute_result"
    }
   ],
   "source": [
    "s = pd.Series(['a1', 'b2', 'c3'])\n",
    "s"
   ]
  },
  {
   "cell_type": "markdown",
   "metadata": {},
   "source": [
    "**Extract absed on regex matching**  \n",
    "... to improve ..."
   ]
  },
  {
   "cell_type": "code",
   "execution_count": 84,
   "metadata": {},
   "outputs": [
    {
     "data": {
      "text/plain": [
       "pandas.core.frame.DataFrame"
      ]
     },
     "execution_count": 84,
     "metadata": {},
     "output_type": "execute_result"
    }
   ],
   "source": [
    "type(s.str.extract('([ab])(\\d)', expand=False))"
   ]
  },
  {
   "cell_type": "markdown",
   "metadata": {
    "toc-hr-collapsed": true
   },
   "source": [
    "### Series DateTime Accessor ```.dt```\n",
    "\n",
    "If the underlying data is **datetime64** type, then pandas exposed various properties and methos through **```dt``` accessor**. "
   ]
  },
  {
   "cell_type": "markdown",
   "metadata": {},
   "source": [
    "#### Sample Data"
   ]
  },
  {
   "cell_type": "code",
   "execution_count": 85,
   "metadata": {},
   "outputs": [
    {
     "data": {
      "text/plain": [
       "0   2000-01-01 00:00:00\n",
       "1   1999-12-15 12:34:55\n",
       "2   2020-03-08 05:07:12\n",
       "3   2018-01-01 00:00:00\n",
       "4   2003-03-04 05:06:07\n",
       "dtype: datetime64[ns]"
      ]
     },
     "execution_count": 85,
     "metadata": {},
     "output_type": "execute_result"
    }
   ],
   "source": [
    "s = pd.Series([\n",
    "    datetime(2000,1,1,0,0,0),\n",
    "    datetime(1999,12,15,12,34,55),\n",
    "    datetime(2020,3,8,5,7,12),\n",
    "    datetime(2018,1,1,0,0,0),\n",
    "    datetime(2003,3,4,5,6,7)\n",
    "])\n",
    "s"
   ]
  },
  {
   "cell_type": "markdown",
   "metadata": {},
   "source": [
    "#### Convert To \n",
    "**datetime.datetime**  \n",
    "Use **```to_pydatetime()```** to convert into **```numpy.array```** of standard library **```datetime.datetime```**  "
   ]
  },
  {
   "cell_type": "code",
   "execution_count": 86,
   "metadata": {},
   "outputs": [
    {
     "name": "stdout",
     "output_type": "stream",
     "text": [
      "<class 'numpy.ndarray'>\n"
     ]
    },
    {
     "data": {
      "text/plain": [
       "array([datetime.datetime(2000, 1, 1, 0, 0),\n",
       "       datetime.datetime(1999, 12, 15, 12, 34, 55),\n",
       "       datetime.datetime(2020, 3, 8, 5, 7, 12),\n",
       "       datetime.datetime(2018, 1, 1, 0, 0),\n",
       "       datetime.datetime(2003, 3, 4, 5, 6, 7)], dtype=object)"
      ]
     },
     "execution_count": 86,
     "metadata": {},
     "output_type": "execute_result"
    }
   ],
   "source": [
    "pdt  = s.dt.to_pydatetime()\n",
    "print( type(pdt) )\n",
    "pdt"
   ]
  },
  {
   "cell_type": "markdown",
   "metadata": {},
   "source": [
    "**datetime.date**  \n",
    "Use **```dt.date```** to convert into **```pandas.Series```** of standard library **```datetime.date```**   \n",
    "Is it possible to have a pandas.Series of datetime.datetime ? No, because Pandas want it as its own Timestamp."
   ]
  },
  {
   "cell_type": "code",
   "execution_count": 87,
   "metadata": {},
   "outputs": [
    {
     "name": "stdout",
     "output_type": "stream",
     "text": [
      "<class 'datetime.date'>\n",
      "<class 'pandas.core.series.Series'>\n"
     ]
    },
    {
     "data": {
      "text/plain": [
       "0    2000-01-01\n",
       "1    1999-12-15\n",
       "2    2020-03-08\n",
       "3    2018-01-01\n",
       "4    2003-03-04\n",
       "dtype: object"
      ]
     },
     "execution_count": 87,
     "metadata": {},
     "output_type": "execute_result"
    }
   ],
   "source": [
    "sdt = s.dt.date\n",
    "print( type(sdt[1] ))\n",
    "print( type(sdt))\n",
    "sdt"
   ]
  },
  {
   "cell_type": "markdown",
   "metadata": {},
   "source": [
    "#### Timestamp Attributes\n",
    "A Series::DateTime object support below properties:  \n",
    "- date  \n",
    "- month  \n",
    "- day  \n",
    "- year  \n",
    "- dayofweek  \n",
    "- dayofyear  \n",
    "- weekday  \n",
    "- weekday_name  \n",
    "- quarter  \n",
    "- daysinmonth  \n",
    "- hour\n",
    "- minute\n",
    "\n",
    "Full list below:  \n",
    "https://pandas.pydata.org/pandas-docs/stable/reference/series.html#datetimelike-properties"
   ]
  },
  {
   "cell_type": "code",
   "execution_count": 88,
   "metadata": {},
   "outputs": [
    {
     "data": {
      "text/plain": [
       "0    2000-01-01\n",
       "1    1999-12-15\n",
       "2    2020-03-08\n",
       "3    2018-01-01\n",
       "4    2003-03-04\n",
       "dtype: object"
      ]
     },
     "execution_count": 88,
     "metadata": {},
     "output_type": "execute_result"
    }
   ],
   "source": [
    "s.dt.date"
   ]
  },
  {
   "cell_type": "code",
   "execution_count": 89,
   "metadata": {},
   "outputs": [
    {
     "data": {
      "text/plain": [
       "0     1\n",
       "1    12\n",
       "2     3\n",
       "3     1\n",
       "4     3\n",
       "dtype: int64"
      ]
     },
     "execution_count": 89,
     "metadata": {},
     "output_type": "execute_result"
    }
   ],
   "source": [
    "s.dt.month"
   ]
  },
  {
   "cell_type": "code",
   "execution_count": 90,
   "metadata": {},
   "outputs": [
    {
     "data": {
      "text/plain": [
       "0    5\n",
       "1    2\n",
       "2    6\n",
       "3    0\n",
       "4    1\n",
       "dtype: int64"
      ]
     },
     "execution_count": 90,
     "metadata": {},
     "output_type": "execute_result"
    }
   ],
   "source": [
    "s.dt.dayofweek"
   ]
  },
  {
   "cell_type": "code",
   "execution_count": 91,
   "metadata": {},
   "outputs": [
    {
     "data": {
      "text/plain": [
       "0    5\n",
       "1    2\n",
       "2    6\n",
       "3    0\n",
       "4    1\n",
       "dtype: int64"
      ]
     },
     "execution_count": 91,
     "metadata": {},
     "output_type": "execute_result"
    }
   ],
   "source": [
    "s.dt.weekday"
   ]
  },
  {
   "cell_type": "code",
   "execution_count": 92,
   "metadata": {},
   "outputs": [
    {
     "data": {
      "text/plain": [
       "0     Saturday\n",
       "1    Wednesday\n",
       "2       Sunday\n",
       "3       Monday\n",
       "4      Tuesday\n",
       "dtype: object"
      ]
     },
     "execution_count": 92,
     "metadata": {},
     "output_type": "execute_result"
    }
   ],
   "source": [
    "s.dt.weekday_name"
   ]
  },
  {
   "cell_type": "code",
   "execution_count": 93,
   "metadata": {},
   "outputs": [
    {
     "data": {
      "text/plain": [
       "0    1\n",
       "1    4\n",
       "2    1\n",
       "3    1\n",
       "4    1\n",
       "dtype: int64"
      ]
     },
     "execution_count": 93,
     "metadata": {},
     "output_type": "execute_result"
    }
   ],
   "source": [
    "s.dt.quarter"
   ]
  },
  {
   "cell_type": "code",
   "execution_count": 94,
   "metadata": {},
   "outputs": [
    {
     "data": {
      "text/plain": [
       "0    31\n",
       "1    31\n",
       "2    31\n",
       "3    31\n",
       "4    31\n",
       "dtype: int64"
      ]
     },
     "execution_count": 94,
     "metadata": {},
     "output_type": "execute_result"
    }
   ],
   "source": [
    "s.dt.daysinmonth"
   ]
  },
  {
   "cell_type": "code",
   "execution_count": 95,
   "metadata": {},
   "outputs": [
    {
     "data": {
      "text/plain": [
       "0    00:00:00\n",
       "1    12:34:55\n",
       "2    05:07:12\n",
       "3    00:00:00\n",
       "4    05:06:07\n",
       "dtype: object"
      ]
     },
     "execution_count": 95,
     "metadata": {},
     "output_type": "execute_result"
    }
   ],
   "source": [
    "s.dt.time   # extract time as time Object"
   ]
  },
  {
   "cell_type": "code",
   "execution_count": 96,
   "metadata": {},
   "outputs": [
    {
     "data": {
      "text/plain": [
       "0     0\n",
       "1    12\n",
       "2     5\n",
       "3     0\n",
       "4     5\n",
       "dtype: int64"
      ]
     },
     "execution_count": 96,
     "metadata": {},
     "output_type": "execute_result"
    }
   ],
   "source": [
    "s.dt.hour  # extract hour as integer"
   ]
  },
  {
   "cell_type": "code",
   "execution_count": 97,
   "metadata": {},
   "outputs": [
    {
     "data": {
      "text/plain": [
       "0     0\n",
       "1    34\n",
       "2     7\n",
       "3     0\n",
       "4     6\n",
       "dtype: int64"
      ]
     },
     "execution_count": 97,
     "metadata": {},
     "output_type": "execute_result"
    }
   ],
   "source": [
    "s.dt.minute # extract minute as integer"
   ]
  },
  {
   "cell_type": "markdown",
   "metadata": {
    "toc-hr-collapsed": false
   },
   "source": [
    "## DataFrame"
   ]
  },
  {
   "cell_type": "markdown",
   "metadata": {
    "toc-hr-collapsed": true
   },
   "source": [
    "### Constructor"
   ]
  },
  {
   "cell_type": "markdown",
   "metadata": {},
   "source": [
    "#### From Row Oriented Data (List of Lists)\n",
    "Create from **List of Lists**\n",
    "```\n",
    "DataFrame( [row_list1, row_list2, row_list3] )\n",
    "DataFrame( [row_list1, row_list2, row_list3], column=columnName_list )\n",
    "DataFrame( [row_list1, row_list2, row_list3], index=row_label_list )\n",
    "```"
   ]
  },
  {
   "cell_type": "markdown",
   "metadata": {},
   "source": [
    "**Basic DataFrame with default Row Label and Column Header**"
   ]
  },
  {
   "cell_type": "code",
   "execution_count": 98,
   "metadata": {},
   "outputs": [
    {
     "data": {
      "text/plain": [
       "     0        1      2     3\n",
       "0  101    Alice  40000  2017\n",
       "1  102      Bob  24000  2017\n",
       "2  103  Charles  31000  2017"
      ]
     },
     "execution_count": 98,
     "metadata": {},
     "output_type": "execute_result"
    }
   ],
   "source": [
    "pd.DataFrame ([[101,'Alice',40000,2017],\n",
    "               [102,'Bob',  24000, 2017], \n",
    "               [103,'Charles',31000,2017]] )"
   ]
  },
  {
   "cell_type": "markdown",
   "metadata": {},
   "source": [
    "**Specify Column Header during Creation**"
   ]
  },
  {
   "cell_type": "code",
   "execution_count": 99,
   "metadata": {},
   "outputs": [
    {
     "data": {
      "text/plain": [
       "   empID     name  salary  year\n",
       "0    101    Alice   40000  2017\n",
       "1    102      Bob   24000  2017\n",
       "2    103  Charles   31000  2017"
      ]
     },
     "execution_count": 99,
     "metadata": {},
     "output_type": "execute_result"
    }
   ],
   "source": [
    "pd.DataFrame ([[101,'Alice',40000,2017],\n",
    "               [102,'Bob',  24000, 2017], \n",
    "               [103,'Charles',31000,2017]], columns = ['empID','name','salary','year'])"
   ]
  },
  {
   "cell_type": "markdown",
   "metadata": {},
   "source": [
    "**Specify Row Label during Creation**"
   ]
  },
  {
   "cell_type": "code",
   "execution_count": 100,
   "metadata": {},
   "outputs": [
    {
     "data": {
      "text/plain": [
       "      0        1      2     3\n",
       "r1  101    Alice  40000  2017\n",
       "r2  102      Bob  24000  2017\n",
       "r3  103  Charles  31000  2017"
      ]
     },
     "execution_count": 100,
     "metadata": {},
     "output_type": "execute_result"
    }
   ],
   "source": [
    "pd.DataFrame ([[101,'Alice',40000,2017],\n",
    "               [102,'Bob',  24000, 2017], \n",
    "               [103,'Charles',31000,2017]], index   = ['r1','r2','r3'] )"
   ]
  },
  {
   "cell_type": "markdown",
   "metadata": {},
   "source": [
    "#### From Row Oriented Data (List of Dictionary)\n",
    "```\n",
    "DataFrame( [dict1, dict2, dict3] )\n",
    "DataFrame( [row_list1, row_list2, row_list3], column=np.arrange )\n",
    "DataFrame( [row_list1, row_list2, row_list3], index=row_label_list )\n",
    "\n",
    "by default,keys will become collumn names, and autosorted\n",
    "```"
   ]
  },
  {
   "cell_type": "markdown",
   "metadata": {},
   "source": [
    "**Default Column Name Follow Dictionary Key**  \n",
    "Note missing info as NaN"
   ]
  },
  {
   "cell_type": "code",
   "execution_count": 101,
   "metadata": {},
   "outputs": [
    {
     "data": {
      "text/plain": [
       "   id  name   zkey\n",
       "0   1  Yong  101.0\n",
       "1   2   Gan    NaN"
      ]
     },
     "execution_count": 101,
     "metadata": {},
     "output_type": "execute_result"
    }
   ],
   "source": [
    "pd.DataFrame ([{\"name\":\"Yong\", \"id\":1,\"zkey\":101},{\"name\":\"Gan\",\"id\":2}])"
   ]
  },
  {
   "cell_type": "markdown",
   "metadata": {},
   "source": [
    "**Specify Index**"
   ]
  },
  {
   "cell_type": "code",
   "execution_count": 102,
   "metadata": {},
   "outputs": [
    {
     "data": {
      "text/plain": [
       "    id  name\n",
       "1  wd1  Yong\n",
       "2  wd2   Gan"
      ]
     },
     "execution_count": 102,
     "metadata": {},
     "output_type": "execute_result"
    }
   ],
   "source": [
    "pd.DataFrame ([{\"name\":\"Yong\", \"id\":'wd1'},{\"name\":\"Gan\",\"id\":'wd2'}], \n",
    "             index = (1,2))"
   ]
  },
  {
   "cell_type": "markdown",
   "metadata": {},
   "source": [
    "**Specify Column Header during Creation**, can acts as column filter and manual arrangement  \n",
    "Note missing info as NaN"
   ]
  },
  {
   "cell_type": "code",
   "execution_count": 103,
   "metadata": {},
   "outputs": [
    {
     "data": {
      "text/plain": [
       "   name  id   zkey\n",
       "0  Yong   1  101.0\n",
       "1   Gan   2    NaN"
      ]
     },
     "execution_count": 103,
     "metadata": {},
     "output_type": "execute_result"
    }
   ],
   "source": [
    "pd.DataFrame ([{\"name\":\"Yong\", \"id\":1, \"zkey\":101},{\"name\":\"Gan\",\"id\":2}], \n",
    "              columns=(\"name\",\"id\",\"zkey\"))"
   ]
  },
  {
   "cell_type": "markdown",
   "metadata": {},
   "source": [
    "#### From Column Oriented Data\n",
    "Create from **Dictrionary of List**\n",
    "```\n",
    "DataFrame(  { 'column1': list1,\n",
    "              'column2': list2,\n",
    "              'column3': list3 } , \n",
    "              index    = row_label_list, \n",
    "              columns  = column_list)\n",
    "              \n",
    "```\n",
    "By default, DataFrame will **arrange the columns alphabetically**, unless **columns** is specified"
   ]
  },
  {
   "cell_type": "markdown",
   "metadata": {},
   "source": [
    "**Default Row Label**"
   ]
  },
  {
   "cell_type": "code",
   "execution_count": 104,
   "metadata": {},
   "outputs": [
    {
     "data": {
      "text/plain": [
       "   empID  year  salary     name\n",
       "0    100  2017   40000    Alice\n",
       "1    101  2017   24000      Bob\n",
       "2    102  2017   31000  Charles\n",
       "3    103  2018   20000    David\n",
       "4    104  2018   30000     Eric"
      ]
     },
     "execution_count": 104,
     "metadata": {},
     "output_type": "execute_result"
    }
   ],
   "source": [
    "data = {'empID':  [100,      101,    102,      103,     104],\n",
    "        'year':   [2017,     2017,   2017,      2018,    2018],\n",
    "        'salary': [40000,    24000,  31000,     20000,   30000],\n",
    "        'name':   ['Alice', 'Bob',  'Charles', 'David', 'Eric']}\n",
    "pd.DataFrame(data)"
   ]
  },
  {
   "cell_type": "markdown",
   "metadata": {},
   "source": [
    "**Specify Row Label during Creation**"
   ]
  },
  {
   "cell_type": "code",
   "execution_count": 105,
   "metadata": {},
   "outputs": [
    {
     "data": {
      "text/plain": [
       "    empID     name  year  salary\n",
       "r1    100    Alice  2017   40000\n",
       "r2    101      Bob  2017   24000\n",
       "r3    102  Charles  2017   31000\n",
       "r4    103    David  2018   20000\n",
       "r5    104     Eric  2018   30000"
      ]
     },
     "execution_count": 105,
     "metadata": {},
     "output_type": "execute_result"
    }
   ],
   "source": [
    "data = {'empID':  [100,      101,    102,      103,     104],\n",
    "        'name':   ['Alice', 'Bob',  'Charles', 'David', 'Eric'],\n",
    "        'year':   [2017,     2017,   2017,      2018,    2018],\n",
    "        'salary': [40000,    24000,  31000,     20000,   30000] }\n",
    "pd.DataFrame (data, index=['r1','r2','r3','r4','r5'])"
   ]
  },
  {
   "cell_type": "markdown",
   "metadata": {},
   "source": [
    "**Manualy Choose Columns and Arrangement**"
   ]
  },
  {
   "cell_type": "code",
   "execution_count": 106,
   "metadata": {},
   "outputs": [
    {
     "data": {
      "text/plain": [
       "    empID     name  salary\n",
       "r1    100    Alice   40000\n",
       "r2    101      Bob   24000\n",
       "r3    102  Charles   31000\n",
       "r4    103    David   20000\n",
       "r5    104     Eric   30000"
      ]
     },
     "execution_count": 106,
     "metadata": {},
     "output_type": "execute_result"
    }
   ],
   "source": [
    "data = {'empID':  [100,      101,    102,      103,     104],\n",
    "        'name':   ['Alice', 'Bob',  'Charles', 'David', 'Eric'],\n",
    "        'year':   [2017,     2017,   2017,      2018,    2018],\n",
    "        'salary': [40000,    24000,  31000,     20000,   30000] }\n",
    "pd.DataFrame (data, columns=('empID','name','salary'), index=['r1','r2','r3','r4','r5'])"
   ]
  },
  {
   "cell_type": "markdown",
   "metadata": {
    "toc-hr-collapsed": true
   },
   "source": [
    "### Attributes"
   ]
  },
  {
   "cell_type": "code",
   "execution_count": 107,
   "metadata": {},
   "outputs": [],
   "source": [
    "df = pd.DataFrame(\n",
    "    { 'empID':  [100,      101,    102,      103,     104],\n",
    "      'year1':   [2017,     2017,   2017,      2018,    2018],\n",
    "      'name':   ['Alice',  'Bob',  'Charles','David', 'Eric'],\n",
    "      'year2':   [2001,     1907,   2003,      1998,    2011],\n",
    "      'salary': [40000,    24000,  31000,     20000,   30000]},\n",
    "    columns = ['year1','salary','year2','empID','name'])"
   ]
  },
  {
   "cell_type": "markdown",
   "metadata": {},
   "source": [
    "#### Dimensions"
   ]
  },
  {
   "cell_type": "code",
   "execution_count": 108,
   "metadata": {},
   "outputs": [
    {
     "data": {
      "text/plain": [
       "(5, 5)"
      ]
     },
     "execution_count": 108,
     "metadata": {},
     "output_type": "execute_result"
    }
   ],
   "source": [
    "df.shape"
   ]
  },
  {
   "cell_type": "markdown",
   "metadata": {},
   "source": [
    "#### Index"
   ]
  },
  {
   "cell_type": "code",
   "execution_count": 109,
   "metadata": {},
   "outputs": [
    {
     "data": {
      "text/plain": [
       "RangeIndex(start=0, stop=5, step=1)"
      ]
     },
     "execution_count": 109,
     "metadata": {},
     "output_type": "execute_result"
    }
   ],
   "source": [
    "df.index"
   ]
  },
  {
   "cell_type": "markdown",
   "metadata": {},
   "source": [
    "**Underlying Index values are numpy object**"
   ]
  },
  {
   "cell_type": "code",
   "execution_count": 110,
   "metadata": {},
   "outputs": [
    {
     "data": {
      "text/plain": [
       "array([0, 1, 2, 3, 4], dtype=int64)"
      ]
     },
     "execution_count": 110,
     "metadata": {},
     "output_type": "execute_result"
    }
   ],
   "source": [
    "df.index.values"
   ]
  },
  {
   "cell_type": "markdown",
   "metadata": {},
   "source": [
    "#### Columns"
   ]
  },
  {
   "cell_type": "code",
   "execution_count": 111,
   "metadata": {},
   "outputs": [
    {
     "data": {
      "text/plain": [
       "Index(['year1', 'salary', 'year2', 'empID', 'name'], dtype='object')"
      ]
     },
     "execution_count": 111,
     "metadata": {},
     "output_type": "execute_result"
    }
   ],
   "source": [
    "df.columns"
   ]
  },
  {
   "cell_type": "markdown",
   "metadata": {},
   "source": [
    "**Underlying Index values are numpy object**"
   ]
  },
  {
   "cell_type": "code",
   "execution_count": 112,
   "metadata": {},
   "outputs": [
    {
     "data": {
      "text/plain": [
       "array(['year1', 'salary', 'year2', 'empID', 'name'], dtype=object)"
      ]
     },
     "execution_count": 112,
     "metadata": {},
     "output_type": "execute_result"
    }
   ],
   "source": [
    "df.columns.values"
   ]
  },
  {
   "cell_type": "markdown",
   "metadata": {},
   "source": [
    "#### Values"
   ]
  },
  {
   "cell_type": "markdown",
   "metadata": {},
   "source": [
    "**Underlying Column values are numpy object**"
   ]
  },
  {
   "cell_type": "code",
   "execution_count": 113,
   "metadata": {},
   "outputs": [
    {
     "data": {
      "text/plain": [
       "array([[2017, 40000, 2001, 100, 'Alice'],\n",
       "       [2017, 24000, 1907, 101, 'Bob'],\n",
       "       [2017, 31000, 2003, 102, 'Charles'],\n",
       "       [2018, 20000, 1998, 103, 'David'],\n",
       "       [2018, 30000, 2011, 104, 'Eric']], dtype=object)"
      ]
     },
     "execution_count": 113,
     "metadata": {},
     "output_type": "execute_result"
    }
   ],
   "source": [
    "df.values"
   ]
  },
  {
   "cell_type": "markdown",
   "metadata": {
    "toc-hr-collapsed": true
   },
   "source": [
    "### Index Manipulation\n",
    "**index** and **row label** are used interchangeably in this book"
   ]
  },
  {
   "cell_type": "markdown",
   "metadata": {
    "toc-hr-collapsed": true
   },
   "source": [
    "#### Sample Data\n",
    "Columns are intentionaly ordered in a messy way "
   ]
  },
  {
   "cell_type": "code",
   "execution_count": 114,
   "metadata": {},
   "outputs": [
    {
     "name": "stdout",
     "output_type": "stream",
     "text": [
      "   year1  salary  year2  empID     name\n",
      "0   2017   40000   2001    100    Alice\n",
      "1   2017   24000   1907    101      Bob\n",
      "2   2017   31000   2003    102  Charles\n",
      "3   2018   20000   1998    103    David\n",
      "4   2018   30000   2011    104     Eric \n",
      "\n",
      "RangeIndex(start=0, stop=5, step=1)\n"
     ]
    }
   ],
   "source": [
    "df = pd.DataFrame(\n",
    "    { 'empID':  [100,      101,    102,      103,     104],\n",
    "      'year1':   [2017,     2017,   2017,      2018,    2018],\n",
    "      'name':   ['Alice',  'Bob',  'Charles','David', 'Eric'],\n",
    "      'year2':   [2001,     1907,   2003,      1998,    2011],\n",
    "      'salary': [40000,    24000,  31000,     20000,   30000]},\n",
    "    columns = ['year1','salary','year2','empID','name'])\n",
    "\n",
    "print (df, '\\n')\n",
    "print (df.index)"
   ]
  },
  {
   "cell_type": "markdown",
   "metadata": {},
   "source": [
    "#### Convert Column To Index\n",
    "```\n",
    "set_index('column_name', inplace=False)\n",
    "```\n",
    "**inplace=True** means don't create a new dataframe. Modify existing dataframe    \n",
    "**inplace=False** means return a new dataframe"
   ]
  },
  {
   "cell_type": "code",
   "execution_count": 115,
   "metadata": {},
   "outputs": [
    {
     "name": "stdout",
     "output_type": "stream",
     "text": [
      "   year1  salary  year2  empID     name\n",
      "0   2017   40000   2001    100    Alice\n",
      "1   2017   24000   1907    101      Bob\n",
      "2   2017   31000   2003    102  Charles\n",
      "3   2018   20000   1998    103    David\n",
      "4   2018   30000   2011    104     Eric\n",
      "RangeIndex(start=0, stop=5, step=1) \n",
      "\n",
      "       year1  salary  year2     name\n",
      "empID                               \n",
      "100     2017   40000   2001    Alice\n",
      "101     2017   24000   1907      Bob\n",
      "102     2017   31000   2003  Charles\n",
      "103     2018   20000   1998    David\n",
      "104     2018   30000   2011     Eric\n",
      "Int64Index([100, 101, 102, 103, 104], dtype='int64', name='empID')\n"
     ]
    }
   ],
   "source": [
    "print(df)\n",
    "print(df.index,'\\n')\n",
    "\n",
    "df.set_index('empID',inplace=True) \n",
    "print(df)\n",
    "print(df.index) # return new DataFrameObj"
   ]
  },
  {
   "cell_type": "markdown",
   "metadata": {},
   "source": [
    "#### Convert Index Back To Column\n",
    "- Reseting index will resequence the index as 0,1,2 etc  \n",
    "- Old index column will be converted back as normal column  \n",
    "- Operation support inplace** option"
   ]
  },
  {
   "cell_type": "code",
   "execution_count": 116,
   "metadata": {},
   "outputs": [
    {
     "name": "stdout",
     "output_type": "stream",
     "text": [
      "   empID  year1  salary  year2     name\n",
      "0    100   2017   40000   2001    Alice\n",
      "1    101   2017   24000   1907      Bob\n",
      "2    102   2017   31000   2003  Charles\n",
      "3    103   2018   20000   1998    David\n",
      "4    104   2018   30000   2011     Eric\n"
     ]
    }
   ],
   "source": [
    "df.reset_index(inplace=True)\n",
    "print(df)"
   ]
  },
  {
   "cell_type": "markdown",
   "metadata": {},
   "source": [
    "#### Updating Index ( .index= )\n",
    "**Warning:**  \n",
    "- Updating index doesn't reorder the data sequence  \n",
    "- Number of elements before and after reorder must match, otherwise **error**  \n",
    "- Same label are **allowed to repeat**\n",
    "- Not reversable"
   ]
  },
  {
   "cell_type": "code",
   "execution_count": 117,
   "metadata": {},
   "outputs": [
    {
     "name": "stdout",
     "output_type": "stream",
     "text": [
      "     empID  year1  salary  year2     name\n",
      "101    100   2017   40000   2001    Alice\n",
      "101    101   2017   24000   1907      Bob\n",
      "101    102   2017   31000   2003  Charles\n",
      "102    103   2018   20000   1998    David\n",
      "103    104   2018   30000   2011     Eric\n"
     ]
    }
   ],
   "source": [
    "df.index = [101, 101, 101, 102, 103]\n",
    "print( df )"
   ]
  },
  {
   "cell_type": "markdown",
   "metadata": {},
   "source": [
    "#### Reordering Index (. reindex )\n",
    "- Reindex will reorder the rows according to new index  \n",
    "- The operation is not reversable"
   ]
  },
  {
   "cell_type": "markdown",
   "metadata": {},
   "source": [
    "**Start from this original dataframe**"
   ]
  },
  {
   "cell_type": "markdown",
   "metadata": {},
   "source": [
    "**Change the order of Index**, always return a new dataframe"
   ]
  },
  {
   "cell_type": "code",
   "execution_count": 118,
   "metadata": {},
   "outputs": [
    {
     "name": "stdout",
     "output_type": "stream",
     "text": [
      "     empID  year1  salary  year2     name\n",
      "101    100   2017   40000   2001    Alice\n",
      "102    101   2017   24000   1907      Bob\n",
      "103    102   2017   31000   2003  Charles\n",
      "104    103   2018   20000   1998    David\n",
      "105    104   2018   30000   2011     Eric\n",
      "     empID  year1  salary  year2     name\n",
      "103    102   2017   31000   2003  Charles\n",
      "102    101   2017   24000   1907      Bob\n",
      "101    100   2017   40000   2001    Alice\n",
      "104    103   2018   20000   1998    David\n",
      "105    104   2018   30000   2011     Eric\n"
     ]
    }
   ],
   "source": [
    "df.index = [101,102,103,104,105]\n",
    "print( df )                                ## original sequence\n",
    "print( df.reindex([103,102,101,104,105]) ) ## new sequence, new dataframe"
   ]
  },
  {
   "cell_type": "markdown",
   "metadata": {
    "toc-hr-collapsed": true
   },
   "source": [
    "### Subsetting Columns\n",
    "**Select Single Column** Return **Series**\n",
    "```\n",
    "dataframe.columnName               # single column, name based, return Series object\n",
    "dataframe[ single_col_name ]       # single column, name based, return Series object\n",
    "dataframe[ [single_col_name] ]     # single column, name based, return DataFrame object\n",
    "```\n",
    "**Select Single/Multiple Columns** Return **DataFrame**\n",
    "```\n",
    "dataframe[ single/list_of_col_names ]                       # name based, return Dataframe object\n",
    "dataframe.loc[ : , single_col_name  ]  # single column, series\n",
    "dataframe.loc[ : , col_name_list    ]  # multiple columns, dataframe\n",
    "dataframe.loc[ : , col_name_ranage  ]  # multiple columns, dataframe\n",
    "\n",
    "dataframe.iloc[ : , col_number      ]  # single column, series\n",
    "dataframe.iloc[ : , col_number_list ]  # multiple columns, dataframe\n",
    "dataframe.iloc[ : , number_range    ]  # multiple columns, dataframe\n",
    "```"
   ]
  },
  {
   "cell_type": "markdown",
   "metadata": {},
   "source": [
    "#### Select Single Column\n",
    "Selecting single column always return as ```panda::Series```"
   ]
  },
  {
   "cell_type": "code",
   "execution_count": 119,
   "metadata": {},
   "outputs": [
    {
     "data": {
      "text/plain": [
       "101      Alice\n",
       "102        Bob\n",
       "103    Charles\n",
       "104      David\n",
       "105       Eric\n",
       "Name: name, dtype: object"
      ]
     },
     "execution_count": 119,
     "metadata": {},
     "output_type": "execute_result"
    }
   ],
   "source": [
    "df.name"
   ]
  },
  {
   "cell_type": "code",
   "execution_count": 120,
   "metadata": {},
   "outputs": [
    {
     "data": {
      "text/plain": [
       "101      Alice\n",
       "102        Bob\n",
       "103    Charles\n",
       "104      David\n",
       "105       Eric\n",
       "Name: name, dtype: object"
      ]
     },
     "execution_count": 120,
     "metadata": {},
     "output_type": "execute_result"
    }
   ],
   "source": [
    "df['name']"
   ]
  },
  {
   "cell_type": "code",
   "execution_count": 121,
   "metadata": {},
   "outputs": [
    {
     "data": {
      "text/plain": [
       "101      Alice\n",
       "102        Bob\n",
       "103    Charles\n",
       "104      David\n",
       "105       Eric\n",
       "Name: name, dtype: object"
      ]
     },
     "execution_count": 121,
     "metadata": {},
     "output_type": "execute_result"
    }
   ],
   "source": [
    "df.loc[:, 'name']"
   ]
  },
  {
   "cell_type": "code",
   "execution_count": 122,
   "metadata": {},
   "outputs": [
    {
     "data": {
      "text/plain": [
       "101    2001\n",
       "102    1907\n",
       "103    2003\n",
       "104    1998\n",
       "105    2011\n",
       "Name: year2, dtype: int64"
      ]
     },
     "execution_count": 122,
     "metadata": {},
     "output_type": "execute_result"
    }
   ],
   "source": [
    "df.iloc[:, 3]"
   ]
  },
  {
   "cell_type": "markdown",
   "metadata": {},
   "source": [
    "#### Select Multiple Columns\n",
    "Multiple columns return as **panda::Dataframe** object`"
   ]
  },
  {
   "cell_type": "code",
   "execution_count": 123,
   "metadata": {},
   "outputs": [
    {
     "data": {
      "text/plain": [
       "        name\n",
       "101    Alice\n",
       "102      Bob\n",
       "103  Charles\n",
       "104    David\n",
       "105     Eric"
      ]
     },
     "execution_count": 123,
     "metadata": {},
     "output_type": "execute_result"
    }
   ],
   "source": [
    "df[['name']]  # return one column dataframe"
   ]
  },
  {
   "cell_type": "code",
   "execution_count": 124,
   "metadata": {},
   "outputs": [
    {
     "name": "stdout",
     "output_type": "stream",
     "text": [
      "Index(['empID', 'year1', 'salary', 'year2', 'name'], dtype='object')\n"
     ]
    },
    {
     "data": {
      "text/plain": [
       "        name  year1\n",
       "101    Alice   2017\n",
       "102      Bob   2017\n",
       "103  Charles   2017\n",
       "104    David   2018\n",
       "105     Eric   2018"
      ]
     },
     "execution_count": 124,
     "metadata": {},
     "output_type": "execute_result"
    }
   ],
   "source": [
    "print(df.columns)\n",
    "df[['name','year1']]"
   ]
  },
  {
   "cell_type": "code",
   "execution_count": 125,
   "metadata": {},
   "outputs": [
    {
     "data": {
      "text/plain": [
       "        name  year1\n",
       "101    Alice   2017\n",
       "102      Bob   2017\n",
       "103  Charles   2017\n",
       "104    David   2018\n",
       "105     Eric   2018"
      ]
     },
     "execution_count": 125,
     "metadata": {},
     "output_type": "execute_result"
    }
   ],
   "source": [
    "df.loc[:,['name','year1']]"
   ]
  },
  {
   "cell_type": "code",
   "execution_count": 126,
   "metadata": {},
   "outputs": [
    {
     "data": {
      "text/plain": [
       "     year1  salary  year2\n",
       "101   2017   40000   2001\n",
       "102   2017   24000   1907\n",
       "103   2017   31000   2003\n",
       "104   2018   20000   1998\n",
       "105   2018   30000   2011"
      ]
     },
     "execution_count": 126,
     "metadata": {},
     "output_type": "execute_result"
    }
   ],
   "source": [
    "df.loc[:,'year1':'year2']  # range of columns"
   ]
  },
  {
   "cell_type": "code",
   "execution_count": 127,
   "metadata": {},
   "outputs": [
    {
     "data": {
      "text/plain": [
       "     empID  year2\n",
       "101    100   2001\n",
       "102    101   1907\n",
       "103    102   2003\n",
       "104    103   1998\n",
       "105    104   2011"
      ]
     },
     "execution_count": 127,
     "metadata": {},
     "output_type": "execute_result"
    }
   ],
   "source": [
    "df.iloc[:,[0,3]]"
   ]
  },
  {
   "cell_type": "code",
   "execution_count": 128,
   "metadata": {},
   "outputs": [
    {
     "data": {
      "text/plain": [
       "     empID  year1  salary\n",
       "101    100   2017   40000\n",
       "102    101   2017   24000\n",
       "103    102   2017   31000\n",
       "104    103   2018   20000\n",
       "105    104   2018   30000"
      ]
     },
     "execution_count": 128,
     "metadata": {},
     "output_type": "execute_result"
    }
   ],
   "source": [
    "df.iloc[:,0:3]"
   ]
  },
  {
   "cell_type": "markdown",
   "metadata": {},
   "source": [
    "#### Selection by Data Type\n",
    "\n",
    "```\n",
    "df.select_dtypes(include=None, exclude=None)\n",
    "```\n",
    "Always return **panda::DataFrame**, even though only single column matches.  \n",
    "Allowed types are:\n",
    "- number (integer and float)  \n",
    "- integer / float \n",
    "- datetime  \n",
    "- timedelta  \n",
    "- category  "
   ]
  },
  {
   "cell_type": "code",
   "execution_count": 129,
   "metadata": {},
   "outputs": [
    {
     "data": {
      "text/plain": [
       "int64     4\n",
       "object    1\n",
       "dtype: int64"
      ]
     },
     "execution_count": 129,
     "metadata": {},
     "output_type": "execute_result"
    }
   ],
   "source": [
    "df.get_dtype_counts()"
   ]
  },
  {
   "cell_type": "code",
   "execution_count": 130,
   "metadata": {},
   "outputs": [
    {
     "data": {
      "text/plain": [
       "        name\n",
       "101    Alice\n",
       "102      Bob\n",
       "103  Charles\n",
       "104    David\n",
       "105     Eric"
      ]
     },
     "execution_count": 130,
     "metadata": {},
     "output_type": "execute_result"
    }
   ],
   "source": [
    "df.select_dtypes(exclude='number')"
   ]
  },
  {
   "cell_type": "code",
   "execution_count": 131,
   "metadata": {},
   "outputs": [
    {
     "data": {
      "text/plain": [
       "Empty DataFrame\n",
       "Columns: []\n",
       "Index: [101, 102, 103, 104, 105]"
      ]
     },
     "execution_count": 131,
     "metadata": {},
     "output_type": "execute_result"
    }
   ],
   "source": [
    "df.select_dtypes(exclude=('number','object'))"
   ]
  },
  {
   "cell_type": "markdown",
   "metadata": {
    "toc-hr-collapsed": true
   },
   "source": [
    "#### Subset by ```filter()```\n",
    "```.filter(items=None, like=None, regex=None, axis=1)```  "
   ]
  },
  {
   "cell_type": "markdown",
   "metadata": {},
   "source": [
    "**like = Substring Matches**  "
   ]
  },
  {
   "cell_type": "code",
   "execution_count": 132,
   "metadata": {},
   "outputs": [
    {
     "data": {
      "text/plain": [
       "     year1  year2\n",
       "101   2017   2001\n",
       "102   2017   1907\n",
       "103   2017   2003\n",
       "104   2018   1998\n",
       "105   2018   2011"
      ]
     },
     "execution_count": 132,
     "metadata": {},
     "output_type": "execute_result"
    }
   ],
   "source": [
    "df.filter( like='year',  axis='columns')  ## or axis = 1"
   ]
  },
  {
   "cell_type": "markdown",
   "metadata": {},
   "source": [
    "**items = list of column names**"
   ]
  },
  {
   "cell_type": "code",
   "execution_count": 133,
   "metadata": {},
   "outputs": [
    {
     "data": {
      "text/plain": [
       "     year1  year2\n",
       "101   2017   2001\n",
       "102   2017   1907\n",
       "103   2017   2003\n",
       "104   2018   1998\n",
       "105   2018   2011"
      ]
     },
     "execution_count": 133,
     "metadata": {},
     "output_type": "execute_result"
    }
   ],
   "source": [
    "df.filter( items=('year1','year2'),  axis=1)  ## or axis = 1"
   ]
  },
  {
   "cell_type": "markdown",
   "metadata": {},
   "source": [
    "**regex = Regular Expression**  \n",
    "Select column names that contain integer"
   ]
  },
  {
   "cell_type": "code",
   "execution_count": 134,
   "metadata": {},
   "outputs": [
    {
     "data": {
      "text/plain": [
       "     year1  year2\n",
       "101   2017   2001\n",
       "102   2017   1907\n",
       "103   2017   2003\n",
       "104   2018   1998\n",
       "105   2018   2011"
      ]
     },
     "execution_count": 134,
     "metadata": {},
     "output_type": "execute_result"
    }
   ],
   "source": [
    "df.filter(regex='\\d')  ## default axis=1 if DataFrame"
   ]
  },
  {
   "cell_type": "markdown",
   "metadata": {
    "toc-hr-collapsed": true
   },
   "source": [
    "### Column Manipulation"
   ]
  },
  {
   "cell_type": "markdown",
   "metadata": {},
   "source": [
    "#### Sample Data"
   ]
  },
  {
   "cell_type": "code",
   "execution_count": 135,
   "metadata": {},
   "outputs": [
    {
     "data": {
      "text/plain": [
       "     empID  year1  salary  year2     name\n",
       "101    100   2017   40000   2001    Alice\n",
       "102    101   2017   24000   1907      Bob\n",
       "103    102   2017   31000   2003  Charles\n",
       "104    103   2018   20000   1998    David\n",
       "105    104   2018   30000   2011     Eric"
      ]
     },
     "execution_count": 135,
     "metadata": {},
     "output_type": "execute_result"
    }
   ],
   "source": [
    "df"
   ]
  },
  {
   "cell_type": "markdown",
   "metadata": {},
   "source": [
    "#### Renaming Columns"
   ]
  },
  {
   "cell_type": "markdown",
   "metadata": {},
   "source": [
    "**Method 1 : Rename All Columns (.columns =)**  \n",
    "- Construct the new column names, **check if there is no missing** column names   \n",
    "- **Missing columns** will return **error**  \n",
    "- Direct Assignment to column property result in change to dataframe"
   ]
  },
  {
   "cell_type": "code",
   "execution_count": 136,
   "metadata": {},
   "outputs": [
    {
     "data": {
      "text/plain": [
       "     year.1  salary  year.2  empID   name\n",
       "101     100    2017   40000   2001  Alice\n",
       "102     101    2017   24000   1907    Bob"
      ]
     },
     "execution_count": 136,
     "metadata": {},
     "output_type": "execute_result"
    }
   ],
   "source": [
    "new_columns = ['year.1','salary','year.2','empID','name']\n",
    "df.columns = new_columns\n",
    "df.head(2)"
   ]
  },
  {
   "cell_type": "markdown",
   "metadata": {},
   "source": [
    "**Method 2 : Renaming Specific Column (.rename (columns=) )** \n",
    "- Change column name through **rename** function  \n",
    "- Support **inpalce** option for original dataframe change  \n",
    "- Missing column is OK"
   ]
  },
  {
   "cell_type": "code",
   "execution_count": 137,
   "metadata": {},
   "outputs": [
    {
     "data": {
      "text/plain": [
       "     year1  salary  year2  empID   name\n",
       "101    100    2017  40000   2001  Alice\n",
       "102    101    2017  24000   1907    Bob"
      ]
     },
     "execution_count": 137,
     "metadata": {},
     "output_type": "execute_result"
    }
   ],
   "source": [
    "df.rename( columns={'year.1':'year1', 'year.2':'year2'}, inplace=True)\n",
    "df.head(2)"
   ]
  },
  {
   "cell_type": "markdown",
   "metadata": {},
   "source": [
    "#### Reordering Columns\n",
    "Always return a new dataframe.  There is **no inplace option** for reordering columns  \n",
    "\n",
    "**Method 1 - reindex(columns = )**  \n",
    "- **reindex** may sounds like operation on row labels, but it works  \n",
    "- **Missmatch** column names will result in **NA** for the unfound column"
   ]
  },
  {
   "cell_type": "code",
   "execution_count": 138,
   "metadata": {},
   "outputs": [
    {
     "data": {
      "text/plain": [
       "     empID   name  salary  year1  year2\n",
       "101   2001  Alice    2017    100  40000\n",
       "102   1907    Bob    2017    101  24000"
      ]
     },
     "execution_count": 138,
     "metadata": {},
     "output_type": "execute_result"
    }
   ],
   "source": [
    "new_colorder = [ 'empID', 'name', 'salary', 'year1', 'year2']\n",
    "df.reindex(columns = new_colorder).head(2)"
   ]
  },
  {
   "cell_type": "markdown",
   "metadata": {},
   "source": [
    "**Method 2 - [ ] notation**  \n",
    "- **Missmatch** column will result in **ERROR**  "
   ]
  },
  {
   "cell_type": "code",
   "execution_count": 139,
   "metadata": {},
   "outputs": [
    {
     "data": {
      "text/plain": [
       "     empID     name  salary  year1  year2\n",
       "101   2001    Alice    2017    100  40000\n",
       "102   1907      Bob    2017    101  24000\n",
       "103   2003  Charles    2017    102  31000\n",
       "104   1998    David    2018    103  20000\n",
       "105   2011     Eric    2018    104  30000"
      ]
     },
     "execution_count": 139,
     "metadata": {},
     "output_type": "execute_result"
    }
   ],
   "source": [
    "new_colorder = [ 'empID', 'name', 'salary', 'year1', 'year2']\n",
    "df[new_colorder]"
   ]
  },
  {
   "cell_type": "markdown",
   "metadata": {},
   "source": [
    "#### Duplicating or Replacing Column\n",
    "- **New Column** will be created instantly using **[] notation**  \n",
    "- **DO NOT USE dot Notation** because it is view only attribute"
   ]
  },
  {
   "cell_type": "code",
   "execution_count": 140,
   "metadata": {},
   "outputs": [
    {
     "data": {
      "text/plain": [
       "     year1  salary  year2  empID     name  year3\n",
       "101    100    2017  40000   2001    Alice    100\n",
       "102    101    2017  24000   1907      Bob    101\n",
       "103    102    2017  31000   2003  Charles    102\n",
       "104    103    2018  20000   1998    David    103\n",
       "105    104    2018  30000   2011     Eric    104"
      ]
     },
     "execution_count": 140,
     "metadata": {},
     "output_type": "execute_result"
    }
   ],
   "source": [
    "df['year3'] = df.year1\n",
    "df"
   ]
  },
  {
   "cell_type": "markdown",
   "metadata": {},
   "source": [
    "#### Dropping Columns (.drop)\n",
    "```\n",
    "dataframe.drop( columns='column_name',    inplace=True/False)   # delete single column\n",
    "dataframe.drop( columns=list_of_colnames, inplace=True/False)   # delete multiple column\n",
    "\n",
    "dataframe.drop( index='row_label',         inplace=True/False)   # delete single row\n",
    "dataframe.drop( index= list_of_row_labels, inplace=True/False)   # delete multiple rows\n",
    "\n",
    "```\n",
    "**inplace=True** means column will be deleted from original dataframe. **Default is False**, which return a copy of dataframe  "
   ]
  },
  {
   "cell_type": "markdown",
   "metadata": {},
   "source": [
    "**By Column Name(s)**"
   ]
  },
  {
   "cell_type": "code",
   "execution_count": 141,
   "metadata": {},
   "outputs": [
    {
     "data": {
      "text/plain": [
       "     salary  year2  empID     name  year3\n",
       "101    2017  40000   2001    Alice    100\n",
       "102    2017  24000   1907      Bob    101\n",
       "103    2017  31000   2003  Charles    102\n",
       "104    2018  20000   1998    David    103\n",
       "105    2018  30000   2011     Eric    104"
      ]
     },
     "execution_count": 141,
     "metadata": {},
     "output_type": "execute_result"
    }
   ],
   "source": [
    "df.drop( columns='year1') # drop single column"
   ]
  },
  {
   "cell_type": "code",
   "execution_count": 142,
   "metadata": {},
   "outputs": [
    {
     "data": {
      "text/plain": [
       "     year1  salary  empID     name\n",
       "101    100    2017   2001    Alice\n",
       "102    101    2017   1907      Bob\n",
       "103    102    2017   2003  Charles\n",
       "104    103    2018   1998    David\n",
       "105    104    2018   2011     Eric"
      ]
     },
     "execution_count": 142,
     "metadata": {},
     "output_type": "execute_result"
    }
   ],
   "source": [
    "df.drop(columns=['year2','year3'])  # drop multiple columns"
   ]
  },
  {
   "cell_type": "markdown",
   "metadata": {},
   "source": [
    "**By Column Number(s)**   \n",
    "Use dataframe.columns to produce interim list of column names"
   ]
  },
  {
   "cell_type": "code",
   "execution_count": 143,
   "metadata": {},
   "outputs": [
    {
     "data": {
      "text/plain": [
       "     year1  salary  year2\n",
       "101    100    2017  40000\n",
       "102    101    2017  24000\n",
       "103    102    2017  31000\n",
       "104    103    2018  20000\n",
       "105    104    2018  30000"
      ]
     },
     "execution_count": 143,
     "metadata": {},
     "output_type": "execute_result"
    }
   ],
   "source": [
    "df.drop( columns=df.columns[[3,4,5]] )   # delete columns by list of column number"
   ]
  },
  {
   "cell_type": "code",
   "execution_count": 144,
   "metadata": {},
   "outputs": [
    {
     "data": {
      "text/plain": [
       "     year1  salary  year2\n",
       "101    100    2017  40000\n",
       "102    101    2017  24000\n",
       "103    102    2017  31000\n",
       "104    103    2018  20000\n",
       "105    104    2018  30000"
      ]
     },
     "execution_count": 144,
     "metadata": {},
     "output_type": "execute_result"
    }
   ],
   "source": [
    "df.drop( columns=df.columns[3:6] )       # delete columns by range of column number"
   ]
  },
  {
   "cell_type": "markdown",
   "metadata": {
    "toc-hr-collapsed": true
   },
   "source": [
    "### Subsetting Rows\n",
    "```\n",
    "dataframe.loc[ row_label       ]  # return series, single row\n",
    "dataframe.loc[ row_label_list  ]  # multiple rows\n",
    "dataframe.loc[ boolean_list    ]  # multiple rows\n",
    "\n",
    "dataframe.iloc[ row_number       ]  # return series, single row\n",
    "dataframe.iloc[ row_number_list  ]  # multiple rows\n",
    "dataframe.iloc[ number_range     ]  # multiple rows\n",
    "\n",
    "dataframe.sample(frac=)                                        # frac = 0.6 means sampling 60% of rows randomly\n",
    "```"
   ]
  },
  {
   "cell_type": "markdown",
   "metadata": {},
   "source": [
    "#### Sample Data"
   ]
  },
  {
   "cell_type": "code",
   "execution_count": 287,
   "metadata": {},
   "outputs": [
    {
     "data": {
      "text/plain": [
       "       year1  salary  year2     name\n",
       "empID                               \n",
       "100     2017   40000   2001    Alice\n",
       "101     2017   24000   1907      Bob\n",
       "102     2017   31000   2003  Charles\n",
       "103     2018   20000   1998    David\n",
       "104     2018   30000   2011     Eric"
      ]
     },
     "execution_count": 287,
     "metadata": {},
     "output_type": "execute_result"
    }
   ],
   "source": [
    "df = pd.DataFrame(\n",
    "    { 'empID':  [100,      101,    102,      103,     104],\n",
    "      'year1':   [2017,     2017,   2017,      2018,    2018],\n",
    "      'name':   ['Alice',  'Bob',  'Charles','David', 'Eric'],\n",
    "      'year2':   [2001,     1907,   2003,      1998,    2011],\n",
    "      'salary': [40000,    24000,  31000,     20000,   30000]},\n",
    "    columns = ['year1','salary','year2','empID','name']).set_index(['empID'])\n",
    "df"
   ]
  },
  {
   "cell_type": "markdown",
   "metadata": {},
   "source": [
    "#### By Index or Boolean"
   ]
  },
  {
   "cell_type": "markdown",
   "metadata": {},
   "source": [
    "**Single Index** return Series\n"
   ]
  },
  {
   "cell_type": "code",
   "execution_count": 146,
   "metadata": {},
   "outputs": [
    {
     "data": {
      "text/plain": [
       "year1      2017\n",
       "salary    24000\n",
       "year2      1907\n",
       "name        Bob\n",
       "Name: 101, dtype: object"
      ]
     },
     "execution_count": 146,
     "metadata": {},
     "output_type": "execute_result"
    }
   ],
   "source": [
    "df.loc[101]         # by single row label, return series"
   ]
  },
  {
   "cell_type": "markdown",
   "metadata": {},
   "source": [
    "**List or Range of Indexes** returns DataFrame"
   ]
  },
  {
   "cell_type": "code",
   "execution_count": 147,
   "metadata": {},
   "outputs": [
    {
     "data": {
      "text/plain": [
       "       year1  salary  year2   name\n",
       "empID                             \n",
       "100     2017   40000   2001  Alice\n",
       "103     2018   20000   1998  David"
      ]
     },
     "execution_count": 147,
     "metadata": {},
     "output_type": "execute_result"
    }
   ],
   "source": [
    "df.loc[ [100,103] ]  # by multiple row labels"
   ]
  },
  {
   "cell_type": "code",
   "execution_count": 148,
   "metadata": {},
   "outputs": [
    {
     "data": {
      "text/plain": [
       "       year1  salary  year2     name\n",
       "empID                               \n",
       "100     2017   40000   2001    Alice\n",
       "101     2017   24000   1907      Bob\n",
       "102     2017   31000   2003  Charles\n",
       "103     2018   20000   1998    David"
      ]
     },
     "execution_count": 148,
     "metadata": {},
     "output_type": "execute_result"
    }
   ],
   "source": [
    "df.loc[  100:103  ]  # by range of row labels"
   ]
  },
  {
   "cell_type": "markdown",
   "metadata": {},
   "source": [
    "**List of Boolean** returns DataFrame"
   ]
  },
  {
   "cell_type": "code",
   "execution_count": 335,
   "metadata": {},
   "outputs": [
    {
     "name": "stdout",
     "output_type": "stream",
     "text": [
      "empID\n",
      "100     True\n",
      "101    False\n",
      "102     True\n",
      "103    False\n",
      "104    False\n",
      "dtype: bool\n",
      "       year1  salary  year2     name\n",
      "empID                               \n",
      "100     2017   40000   2001    Alice\n",
      "102     2017   31000   2003  Charles\n"
     ]
    }
   ],
   "source": [
    "criteria = (df.salary > 30000) & (df.year1==2017)\n",
    "print (criteria)\n",
    "print (df.loc[criteria])"
   ]
  },
  {
   "cell_type": "markdown",
   "metadata": {},
   "source": [
    "#### By Row Number\n",
    "**Single Row** return Series"
   ]
  },
  {
   "cell_type": "code",
   "execution_count": 149,
   "metadata": {},
   "outputs": [
    {
     "data": {
      "text/plain": [
       "year1      2017\n",
       "salary    24000\n",
       "year2      1907\n",
       "name        Bob\n",
       "Name: 101, dtype: object"
      ]
     },
     "execution_count": 149,
     "metadata": {},
     "output_type": "execute_result"
    }
   ],
   "source": [
    "df.iloc[1]  # by single row number"
   ]
  },
  {
   "cell_type": "markdown",
   "metadata": {},
   "source": [
    "Multiple rows **returned as dataframe** object"
   ]
  },
  {
   "cell_type": "code",
   "execution_count": 150,
   "metadata": {},
   "outputs": [
    {
     "data": {
      "text/plain": [
       "       year1  salary  year2   name\n",
       "empID                             \n",
       "100     2017   40000   2001  Alice\n",
       "103     2018   20000   1998  David"
      ]
     },
     "execution_count": 150,
     "metadata": {},
     "output_type": "execute_result"
    }
   ],
   "source": [
    "df.iloc[ [0,3] ]    # by row numbers"
   ]
  },
  {
   "cell_type": "code",
   "execution_count": 151,
   "metadata": {},
   "outputs": [
    {
     "data": {
      "text/plain": [
       "       year1  salary  year2     name\n",
       "empID                               \n",
       "100     2017   40000   2001    Alice\n",
       "101     2017   24000   1907      Bob\n",
       "102     2017   31000   2003  Charles"
      ]
     },
     "execution_count": 151,
     "metadata": {},
     "output_type": "execute_result"
    }
   ],
   "source": [
    "df.iloc[  0:3  ]    # by row number range"
   ]
  },
  {
   "cell_type": "markdown",
   "metadata": {},
   "source": [
    "#### ```query()```\n",
    "```.query(expr, inplace=False)```"
   ]
  },
  {
   "cell_type": "code",
   "execution_count": 153,
   "metadata": {},
   "outputs": [
    {
     "data": {
      "text/plain": [
       "       year1  salary  year2     name\n",
       "empID                               \n",
       "101     2017   24000   1907      Bob\n",
       "102     2017   31000   2003  Charles"
      ]
     },
     "execution_count": 153,
     "metadata": {},
     "output_type": "execute_result"
    }
   ],
   "source": [
    "df.query('salary<=31000 and year1 == 2017')"
   ]
  },
  {
   "cell_type": "markdown",
   "metadata": {},
   "source": [
    "#### ```sample()```"
   ]
  },
  {
   "cell_type": "code",
   "execution_count": 154,
   "metadata": {},
   "outputs": [
    {
     "data": {
      "text/plain": [
       "       year1  salary  year2     name\n",
       "empID                               \n",
       "102     2017   31000   2003  Charles\n",
       "103     2018   20000   1998    David\n",
       "104     2018   30000   2011     Eric"
      ]
     },
     "execution_count": 154,
     "metadata": {},
     "output_type": "execute_result"
    }
   ],
   "source": [
    "np.random.seed(15)\n",
    "df.sample(frac=0.6) #randomly pick 60% of rows, without replacement"
   ]
  },
  {
   "cell_type": "markdown",
   "metadata": {
    "toc-hr-collapsed": true
   },
   "source": [
    "### Row Manipulation"
   ]
  },
  {
   "cell_type": "markdown",
   "metadata": {},
   "source": [
    "#### Sample Data"
   ]
  },
  {
   "cell_type": "markdown",
   "metadata": {},
   "source": [
    "#### Dropping Rows (.drop)\n",
    "```.drop(labels=None, axis=0, index=None, columns=None, level=None, inplace=False, errors='raise')```"
   ]
  },
  {
   "cell_type": "markdown",
   "metadata": {},
   "source": [
    "**By Row Label(s)**"
   ]
  },
  {
   "cell_type": "code",
   "execution_count": 155,
   "metadata": {},
   "outputs": [
    {
     "data": {
      "text/plain": [
       "       year1  salary  year2     name\n",
       "empID                               \n",
       "101     2017   24000   1907      Bob\n",
       "102     2017   31000   2003  Charles\n",
       "103     2018   20000   1998    David\n",
       "104     2018   30000   2011     Eric"
      ]
     },
     "execution_count": 155,
     "metadata": {},
     "output_type": "execute_result"
    }
   ],
   "source": [
    "df.drop(index=100)       # single row"
   ]
  },
  {
   "cell_type": "code",
   "execution_count": 156,
   "metadata": {},
   "outputs": [
    {
     "data": {
      "text/plain": [
       "       year1  salary  year2     name\n",
       "empID                               \n",
       "101     2017   24000   1907      Bob\n",
       "102     2017   31000   2003  Charles\n",
       "104     2018   30000   2011     Eric"
      ]
     },
     "execution_count": 156,
     "metadata": {},
     "output_type": "execute_result"
    }
   ],
   "source": [
    "df.drop(index=[100,103])   # multiple rows"
   ]
  },
  {
   "cell_type": "markdown",
   "metadata": {
    "toc-hr-collapsed": true
   },
   "source": [
    "### Slicing"
   ]
  },
  {
   "cell_type": "markdown",
   "metadata": {},
   "source": [
    "#### Sample Data"
   ]
  },
  {
   "cell_type": "code",
   "execution_count": 336,
   "metadata": {},
   "outputs": [
    {
     "data": {
      "text/plain": [
       "       year1  salary  year2     name\n",
       "empID                               \n",
       "100     2017   40000   2001    Alice\n",
       "101     1999   24000   1907      Bob\n",
       "102     2017   31000   2003  Charles\n",
       "103     2018   20000   1998    David\n",
       "104     2018   30000   2011     Eric"
      ]
     },
     "execution_count": 336,
     "metadata": {},
     "output_type": "execute_result"
    }
   ],
   "source": [
    "df"
   ]
  },
  {
   "cell_type": "markdown",
   "metadata": {},
   "source": [
    "#### Getting One Cell  \n",
    "**By Row Label and Column Name (loc)**"
   ]
  },
  {
   "cell_type": "markdown",
   "metadata": {},
   "source": [
    "```\n",
    "dataframe.loc [ row_label , col_name   ]    # by row label and column names\n",
    "dataframe.loc [ bool_list , col_name   ]    # by row label and column names\n",
    "dataframe.iloc[ row_number, col_number ]    # by row and column number\n",
    "```"
   ]
  },
  {
   "cell_type": "code",
   "execution_count": 338,
   "metadata": {},
   "outputs": [
    {
     "name": "stdout",
     "output_type": "stream",
     "text": [
      "2017\n"
     ]
    }
   ],
   "source": [
    "print (df.loc[100,'year1'])"
   ]
  },
  {
   "cell_type": "markdown",
   "metadata": {},
   "source": [
    "**By Row Number and Column Number (iloc)**"
   ]
  },
  {
   "cell_type": "code",
   "execution_count": 318,
   "metadata": {},
   "outputs": [
    {
     "name": "stdout",
     "output_type": "stream",
     "text": [
      "1907\n"
     ]
    }
   ],
   "source": [
    "print (df.iloc[1,2])"
   ]
  },
  {
   "cell_type": "markdown",
   "metadata": {},
   "source": [
    "#### Getting Multiple Cells\n",
    "Specify rows and columns (by individual or range)\n",
    "\n",
    "```\n",
    "dataframe.loc [ list/range_of_row_labels , list/range_col_names   ]    # by row label and column names\n",
    "dataframe.iloc[ list/range_row_numbers,    list/range_col_numbers ]    # by row number\n",
    "```"
   ]
  },
  {
   "cell_type": "markdown",
   "metadata": {},
   "source": [
    "**By Index and Column Name (loc)**"
   ]
  },
  {
   "cell_type": "code",
   "execution_count": 327,
   "metadata": {},
   "outputs": [
    {
     "name": "stdout",
     "output_type": "stream",
     "text": [
      "        name  year1\n",
      "empID              \n",
      "101      Bob   1999\n",
      "103    David   2018 \n",
      "\n",
      "       year1  salary  year2\n",
      "empID                      \n",
      "101     1999   24000   1907\n",
      "102     2017   31000   2003\n",
      "103     2018   20000   1998\n",
      "104     2018   30000   2011 \n",
      "\n"
     ]
    }
   ],
   "source": [
    "print (df.loc[ [101,103], ['name','year1'] ], '\\n')  # by list of row label and column names\n",
    "print (df.loc[  101:104 ,  'year1':'year2'  ], '\\n')  # by range of row label and column names"
   ]
  },
  {
   "cell_type": "markdown",
   "metadata": {},
   "source": [
    "**By Boolean Row and Column Names (loc)**"
   ]
  },
  {
   "cell_type": "code",
   "execution_count": 345,
   "metadata": {},
   "outputs": [
    {
     "data": {
      "text/plain": [
       "       year1  salary  year2\n",
       "empID                      \n",
       "100     2017   40000   2001\n",
       "102     2017   31000   2003"
      ]
     },
     "execution_count": 345,
     "metadata": {},
     "output_type": "execute_result"
    }
   ],
   "source": [
    "df.loc[df.year1==2017, 'year1':'year2']"
   ]
  },
  {
   "cell_type": "markdown",
   "metadata": {},
   "source": [
    "**By Row and Column Number (iloc)**"
   ]
  },
  {
   "cell_type": "code",
   "execution_count": 344,
   "metadata": {},
   "outputs": [
    {
     "name": "stdout",
     "output_type": "stream",
     "text": [
      "       year1  name\n",
      "empID             \n",
      "101     1999   Bob\n",
      "104     2018  Eric \n",
      "\n",
      "       year1  salary  year2\n",
      "empID                      \n",
      "101     1999   24000   1907\n",
      "102     2017   31000   2003\n",
      "103     2018   20000   1998 \n",
      "\n"
     ]
    }
   ],
   "source": [
    "print (df.iloc[ [1,4], [0,3]],'\\n' )   # by individual rows/columns\n",
    "print (df.iloc[  1:4 ,  0:3], '\\n')    # by range"
   ]
  },
  {
   "cell_type": "markdown",
   "metadata": {
    "toc-hr-collapsed": true
   },
   "source": [
    "### Chained Indexing"
   ]
  },
  {
   "cell_type": "markdown",
   "metadata": {},
   "source": [
    "**Chained Index** Method creates a copy of dataframe, any modification of data on original dataframe does not affect the copy  \n",
    "```\n",
    "dataframe.loc  [...]  [...]\n",
    "dataframe.iloc [...]  [...]\n",
    "```\n",
    "Suggesting, **never use** chain indexing"
   ]
  },
  {
   "cell_type": "code",
   "execution_count": 382,
   "metadata": {},
   "outputs": [
    {
     "data": {
      "text/plain": [
       "       year1  salary  year2     name\n",
       "empID                               \n",
       "100     2017   40000   2001    Alice\n",
       "101     2017   24000   1907      Bob\n",
       "102     2017   31000   2003  Charles\n",
       "103     2018   20000   1998    David\n",
       "104     2018   30000   2011     Eric"
      ]
     },
     "execution_count": 382,
     "metadata": {},
     "output_type": "execute_result"
    }
   ],
   "source": [
    "df = pd.DataFrame(\n",
    "    { 'empID':  [100,      101,    102,      103,     104],\n",
    "      'year1':   [2017,     2017,   2017,      2018,    2018],\n",
    "      'name':   ['Alice',  'Bob',  'Charles','David', 'Eric'],\n",
    "      'year2':   [2001,     1907,   2003,      1998,    2011],\n",
    "      'salary': [40000,    24000,  31000,     20000,   30000]},\n",
    "    columns = ['year1','salary','year2','empID','name']).set_index(['empID'])\n",
    "df"
   ]
  },
  {
   "cell_type": "code",
   "execution_count": 384,
   "metadata": {},
   "outputs": [
    {
     "name": "stderr",
     "output_type": "stream",
     "text": [
      "C:\\ProgramData\\Anaconda3\\lib\\site-packages\\ipykernel_launcher.py:1: SettingWithCopyWarning: \n",
      "A value is trying to be set on a copy of a slice from a DataFrame\n",
      "\n",
      "See the caveats in the documentation: http://pandas.pydata.org/pandas-docs/stable/indexing.html#indexing-view-versus-copy\n",
      "  \"\"\"Entry point for launching an IPython kernel.\n"
     ]
    },
    {
     "data": {
      "text/plain": [
       "       year1  salary  year2     name\n",
       "empID                               \n",
       "100     2017   40000   2001    Alice\n",
       "101     2017   24000   1907      Bob\n",
       "102     2017   31000   2003  Charles\n",
       "103     2018   20000   1998    David\n",
       "104     2018   30000   2011     Eric"
      ]
     },
     "execution_count": 384,
     "metadata": {},
     "output_type": "execute_result"
    }
   ],
   "source": [
    "df.loc[100]['year'] =2000\n",
    "df  ## notice row label 100 had not been updated, because data was updated on a copy due to chain indexing"
   ]
  },
  {
   "cell_type": "markdown",
   "metadata": {
    "toc-hr-collapsed": true
   },
   "source": [
    "### Data Structure"
   ]
  },
  {
   "cell_type": "markdown",
   "metadata": {},
   "source": [
    "#### Instance Methods - Structure\n",
    "Find out the column names, data type in a summary. Output is for display only, not a data object"
   ]
  },
  {
   "cell_type": "code",
   "execution_count": 165,
   "metadata": {},
   "outputs": [
    {
     "name": "stdout",
     "output_type": "stream",
     "text": [
      "<class 'pandas.core.frame.DataFrame'>\n",
      "Int64Index: 5 entries, 100 to 104\n",
      "Data columns (total 4 columns):\n",
      "year1     5 non-null int64\n",
      "salary    5 non-null int64\n",
      "year2     5 non-null int64\n",
      "name      5 non-null object\n",
      "dtypes: int64(3), object(1)\n",
      "memory usage: 360.0+ bytes\n"
     ]
    }
   ],
   "source": [
    "df.info()  # return text output"
   ]
  },
  {
   "cell_type": "code",
   "execution_count": 166,
   "metadata": {},
   "outputs": [
    {
     "data": {
      "text/plain": [
       "int64     3\n",
       "object    1\n",
       "dtype: int64"
      ]
     },
     "execution_count": 166,
     "metadata": {},
     "output_type": "execute_result"
    }
   ],
   "source": [
    "df.get_dtype_counts() # return Series"
   ]
  },
  {
   "cell_type": "markdown",
   "metadata": {},
   "source": [
    "#### Conversion To Other Format"
   ]
  },
  {
   "cell_type": "code",
   "execution_count": 390,
   "metadata": {},
   "outputs": [
    {
     "data": {
      "text/plain": [
       "'{\"year1\":{\"100\":2017,\"101\":1999,\"102\":2017,\"103\":2018,\"104\":2018},\"salary\":{\"100\":40000,\"101\":24000,\"102\":31000,\"103\":20000,\"104\":30000},\"year2\":{\"100\":2001,\"101\":1907,\"102\":2003,\"103\":1998,\"104\":2011},\"name\":{\"100\":\"Alice\",\"101\":\"Bob\",\"102\":\"Charles\",\"103\":\"David\",\"104\":\"Eric\"}}'"
      ]
     },
     "execution_count": 390,
     "metadata": {},
     "output_type": "execute_result"
    }
   ],
   "source": [
    "df.to_json()"
   ]
  },
  {
   "cell_type": "code",
   "execution_count": 391,
   "metadata": {},
   "outputs": [
    {
     "data": {
      "text/plain": [
       "rec.array([(100, 2017, 40000, 2001, 'Alice'),\n",
       "           (101, 1999, 24000, 1907, 'Bob'),\n",
       "           (102, 2017, 31000, 2003, 'Charles'),\n",
       "           (103, 2018, 20000, 1998, 'David'),\n",
       "           (104, 2018, 30000, 2011, 'Eric')],\n",
       "          dtype=[('empID', '<i8'), ('year1', '<i8'), ('salary', '<i8'), ('year2', '<i8'), ('name', 'O')])"
      ]
     },
     "execution_count": 391,
     "metadata": {},
     "output_type": "execute_result"
    }
   ],
   "source": [
    "df.to_records()"
   ]
  },
  {
   "cell_type": "code",
   "execution_count": 394,
   "metadata": {},
   "outputs": [
    {
     "data": {
      "text/plain": [
       "'empID,year1,salary,year2,name\\n100,2017,40000,2001,Alice\\n101,1999,24000,1907,Bob\\n102,2017,31000,2003,Charles\\n103,2018,20000,1998,David\\n104,2018,30000,2011,Eric\\n'"
      ]
     },
     "execution_count": 394,
     "metadata": {},
     "output_type": "execute_result"
    }
   ],
   "source": [
    "df.to_csv()"
   ]
  },
  {
   "cell_type": "markdown",
   "metadata": {
    "toc-hr-collapsed": true
   },
   "source": [
    "### Exploratory Analysis"
   ]
  },
  {
   "cell_type": "markdown",
   "metadata": {},
   "source": [
    "#### Sample Data"
   ]
  },
  {
   "cell_type": "code",
   "execution_count": 167,
   "metadata": {},
   "outputs": [
    {
     "data": {
      "text/plain": [
       "       year1  salary  year2     name\n",
       "empID                               \n",
       "100     2017   40000   2001    Alice\n",
       "101     2017   24000   1907      Bob\n",
       "102     2017   31000   2003  Charles\n",
       "103     2018   20000   1998    David\n",
       "104     2018   30000   2011     Eric"
      ]
     },
     "execution_count": 167,
     "metadata": {},
     "output_type": "execute_result"
    }
   ],
   "source": [
    "df"
   ]
  },
  {
   "cell_type": "markdown",
   "metadata": {},
   "source": [
    "#### All Stats in One  - .describe()"
   ]
  },
  {
   "cell_type": "markdown",
   "metadata": {},
   "source": [
    "```\n",
    "df.describe(include='number') # default\n",
    "df.describe(include='object') # display for non-numeric columns\n",
    "df.describe(include='all')    # display both numeric and non-numeric\n",
    "```\n",
    "\n",
    "When applied to DataFrame object, describe shows all **basic statistic** for **all numeric** columns:\n",
    "- Count (non-NA)  \n",
    "- Unique (for string)  \n",
    "- Top (for string)   \n",
    "- Frequency (for string)  \n",
    "- Percentile  \n",
    "- Mean  \n",
    "- Min / Max  \n",
    "- Standard Deviation  "
   ]
  },
  {
   "cell_type": "markdown",
   "metadata": {},
   "source": [
    "**For Numeric Columns only**  \n",
    "You can **customize the percentiles requred**. Notice 0.5 percentile is always there although not specified"
   ]
  },
  {
   "cell_type": "code",
   "execution_count": 168,
   "metadata": {},
   "outputs": [
    {
     "data": {
      "text/plain": [
       "             year1        salary        year2\n",
       "count     5.000000      5.000000     5.000000\n",
       "mean   2017.400000  29000.000000  1984.000000\n",
       "std       0.547723   7615.773106    43.312816\n",
       "min    2017.000000  20000.000000  1907.000000\n",
       "25%    2017.000000  24000.000000  1998.000000\n",
       "50%    2017.000000  30000.000000  2001.000000\n",
       "75%    2018.000000  31000.000000  2003.000000\n",
       "max    2018.000000  40000.000000  2011.000000"
      ]
     },
     "execution_count": 168,
     "metadata": {},
     "output_type": "execute_result"
    }
   ],
   "source": [
    "df.describe()"
   ]
  },
  {
   "cell_type": "code",
   "execution_count": 169,
   "metadata": {},
   "outputs": [
    {
     "data": {
      "text/plain": [
       "             year1        salary        year2\n",
       "count     5.000000      5.000000     5.000000\n",
       "mean   2017.400000  29000.000000  1984.000000\n",
       "std       0.547723   7615.773106    43.312816\n",
       "min    2017.000000  20000.000000  1907.000000\n",
       "10%    2017.000000  21600.000000  1943.400000\n",
       "20%    2017.000000  23200.000000  1979.800000\n",
       "30%    2017.000000  25200.000000  1998.600000\n",
       "50%    2017.000000  30000.000000  2001.000000\n",
       "90%    2018.000000  36400.000000  2007.800000\n",
       "max    2018.000000  40000.000000  2011.000000"
      ]
     },
     "execution_count": 169,
     "metadata": {},
     "output_type": "execute_result"
    }
   ],
   "source": [
    "df.describe(percentiles=[0.9,0.3,0.2,0.1])"
   ]
  },
  {
   "cell_type": "markdown",
   "metadata": {},
   "source": [
    "**For both Numeric and Object**"
   ]
  },
  {
   "cell_type": "code",
   "execution_count": 170,
   "metadata": {},
   "outputs": [
    {
     "data": {
      "text/plain": [
       "         year1   salary   year2 name\n",
       "count      5.0      5.0     5.0    5\n",
       "unique     NaN      NaN     NaN    5\n",
       "top        NaN      NaN     NaN  Bob\n",
       "freq       NaN      NaN     NaN    1\n",
       "mean    2017.4  29000.0  1984.0  NaN\n",
       "...        ...      ...     ...  ...\n",
       "min     2017.0  20000.0  1907.0  NaN\n",
       "25%     2017.0  24000.0  1998.0  NaN\n",
       "50%     2017.0  30000.0  2001.0  NaN\n",
       "75%     2018.0  31000.0  2003.0  NaN\n",
       "max     2018.0  40000.0  2011.0  NaN\n",
       "\n",
       "[11 rows x 4 columns]"
      ]
     },
     "execution_count": 170,
     "metadata": {},
     "output_type": "execute_result"
    }
   ],
   "source": [
    "df.describe(include='all')"
   ]
  },
  {
   "cell_type": "markdown",
   "metadata": {},
   "source": [
    "#### min/max/mean/median"
   ]
  },
  {
   "cell_type": "code",
   "execution_count": 171,
   "metadata": {},
   "outputs": [
    {
     "data": {
      "text/plain": [
       "year1      2017\n",
       "salary    20000\n",
       "year2      1907\n",
       "name      Alice\n",
       "dtype: object"
      ]
     },
     "execution_count": 171,
     "metadata": {},
     "output_type": "execute_result"
    }
   ],
   "source": [
    "df.min()  # default axis=0, column-wise"
   ]
  },
  {
   "cell_type": "code",
   "execution_count": 172,
   "metadata": {},
   "outputs": [
    {
     "data": {
      "text/plain": [
       "empID\n",
       "100    2001\n",
       "101    1907\n",
       "102    2003\n",
       "103    1998\n",
       "104    2011\n",
       "dtype: int64"
      ]
     },
     "execution_count": 172,
     "metadata": {},
     "output_type": "execute_result"
    }
   ],
   "source": [
    "df.min(axis=1) # axis=1, row-wise"
   ]
  },
  {
   "cell_type": "markdown",
   "metadata": {},
   "source": [
    "Observe, sum on **string will concatenate column-wise**, whereas row-wise only sum up numeric fields"
   ]
  },
  {
   "cell_type": "code",
   "execution_count": 173,
   "metadata": {},
   "outputs": [
    {
     "data": {
      "text/plain": [
       "year1                        10087\n",
       "salary                      145000\n",
       "year2                         9920\n",
       "name      AliceBobCharlesDavidEric\n",
       "dtype: object"
      ]
     },
     "execution_count": 173,
     "metadata": {},
     "output_type": "execute_result"
    }
   ],
   "source": [
    "df.sum(0)"
   ]
  },
  {
   "cell_type": "code",
   "execution_count": 174,
   "metadata": {},
   "outputs": [
    {
     "data": {
      "text/plain": [
       "empID\n",
       "100    44018\n",
       "101    27924\n",
       "102    35020\n",
       "103    24016\n",
       "104    34029\n",
       "dtype: int64"
      ]
     },
     "execution_count": 174,
     "metadata": {},
     "output_type": "execute_result"
    }
   ],
   "source": [
    "df.sum(1)"
   ]
  },
  {
   "cell_type": "markdown",
   "metadata": {},
   "source": [
    "### Plotting"
   ]
  },
  {
   "cell_type": "code",
   "execution_count": null,
   "metadata": {},
   "outputs": [],
   "source": []
  },
  {
   "cell_type": "code",
   "execution_count": null,
   "metadata": {},
   "outputs": [],
   "source": []
  },
  {
   "cell_type": "markdown",
   "metadata": {
    "toc-hr-collapsed": true
   },
   "source": [
    "## Categories"
   ]
  },
  {
   "cell_type": "markdown",
   "metadata": {},
   "source": [
    "### Creating"
   ]
  },
  {
   "cell_type": "markdown",
   "metadata": {},
   "source": [
    "#### From List\n",
    "**Basic (Auto Category Mapping)**  \n",
    "Basic syntax return categorical index with sequence with code 0,1,2,3... mapping to first found category   \n",
    "In this case, **low(0), high(1), medium(2)**"
   ]
  },
  {
   "cell_type": "code",
   "execution_count": 178,
   "metadata": {},
   "outputs": [
    {
     "data": {
      "text/plain": [
       "[low, high, medium, high, high, low, medium, medium, high]\n",
       "Categories (3, object): [high, low, medium]"
      ]
     },
     "execution_count": 178,
     "metadata": {},
     "output_type": "execute_result"
    }
   ],
   "source": [
    "temp = ['low','high','medium','high','high','low','medium','medium','high']\n",
    "temp_cat = pd.Categorical(temp)\n",
    "temp_cat"
   ]
  },
  {
   "cell_type": "code",
   "execution_count": 179,
   "metadata": {},
   "outputs": [
    {
     "data": {
      "text/plain": [
       "pandas.core.arrays.categorical.Categorical"
      ]
     },
     "execution_count": 179,
     "metadata": {},
     "output_type": "execute_result"
    }
   ],
   "source": [
    "type( temp_cat )"
   ]
  },
  {
   "cell_type": "markdown",
   "metadata": {},
   "source": [
    "**Manual Category Mapping**  \n",
    "During creation, we can specify mapping of codes to category: **low(0), medium(1), high(2)**"
   ]
  },
  {
   "cell_type": "code",
   "execution_count": 180,
   "metadata": {},
   "outputs": [
    {
     "data": {
      "text/plain": [
       "[low, high, medium, high, high, low, medium, medium, high]\n",
       "Categories (3, object): [low, medium, high]"
      ]
     },
     "execution_count": 180,
     "metadata": {},
     "output_type": "execute_result"
    }
   ],
   "source": [
    "temp_cat = pd.Categorical(temp, categories=['low','medium','high'])\n",
    "temp_cat"
   ]
  },
  {
   "cell_type": "markdown",
   "metadata": {},
   "source": [
    "#### From Series\n",
    "- We can 'add' categorical structure into a Series. With these methods, additional property (.cat) is added as a **categorical accessor**  \n",
    "- Through this accessor, you gain access to various properties of the category such as .codes, .categories. But not .get_values() as the information is in the Series itself  \n",
    "- Can we manual map category ?????"
   ]
  },
  {
   "cell_type": "code",
   "execution_count": 181,
   "metadata": {},
   "outputs": [
    {
     "name": "stdout",
     "output_type": "stream",
     "text": [
      "<class 'pandas.core.series.Series'>\n",
      "<class 'pandas.core.arrays.categorical.CategoricalAccessor'>\n"
     ]
    }
   ],
   "source": [
    "temp = ['low','high','medium','high','high','low','medium','medium','high']\n",
    "temp_cat = pd.Series(temp, dtype='category')\n",
    "print (type(temp_cat))       # Series object\n",
    "print (type(temp_cat.cat))   # Categorical Accessor"
   ]
  },
  {
   "cell_type": "markdown",
   "metadata": {},
   "source": [
    "- Method below has the same result as above by using **.astype('category')**  \n",
    "- It is useful adding category structure into existing series."
   ]
  },
  {
   "cell_type": "code",
   "execution_count": 182,
   "metadata": {},
   "outputs": [
    {
     "name": "stdout",
     "output_type": "stream",
     "text": [
      "<class 'pandas.core.series.Series'>\n",
      "<class 'pandas.core.arrays.categorical.CategoricalAccessor'>\n"
     ]
    }
   ],
   "source": [
    "temp_ser = pd.Series(temp)\n",
    "temp_cat = pd.Series(temp).astype('category')\n",
    "print (type(temp_cat))       # Series object\n",
    "print (type(temp_cat.cat))   # Categorical Accessor"
   ]
  },
  {
   "cell_type": "code",
   "execution_count": 183,
   "metadata": {},
   "outputs": [
    {
     "data": {
      "text/plain": [
       "Index(['high', 'low', 'medium'], dtype='object')"
      ]
     },
     "execution_count": 183,
     "metadata": {},
     "output_type": "execute_result"
    }
   ],
   "source": [
    "temp_cat.cat.categories"
   ]
  },
  {
   "cell_type": "markdown",
   "metadata": {},
   "source": [
    "#### Ordering Category"
   ]
  },
  {
   "cell_type": "code",
   "execution_count": 184,
   "metadata": {},
   "outputs": [
    {
     "data": {
      "text/plain": [
       "[low, high, medium, high, high, low, medium, medium, high]\n",
       "Categories (3, object): [low < medium < high]"
      ]
     },
     "execution_count": 184,
     "metadata": {},
     "output_type": "execute_result"
    }
   ],
   "source": [
    "temp = ['low','high','medium','high','high','low','medium','medium','high']\n",
    "temp_cat = pd.Categorical(temp, categories=['low','medium','high'], ordered=True)\n",
    "temp_cat"
   ]
  },
  {
   "cell_type": "code",
   "execution_count": 185,
   "metadata": {},
   "outputs": [
    {
     "data": {
      "text/plain": [
       "array(['low', 'high', 'medium', 'high', 'high', 'low', 'medium', 'medium',\n",
       "       'high'], dtype=object)"
      ]
     },
     "execution_count": 185,
     "metadata": {},
     "output_type": "execute_result"
    }
   ],
   "source": [
    "temp_cat.get_values()"
   ]
  },
  {
   "cell_type": "code",
   "execution_count": 186,
   "metadata": {},
   "outputs": [
    {
     "data": {
      "text/plain": [
       "array([0, 2, 1, 2, 2, 0, 1, 1, 2], dtype=int8)"
      ]
     },
     "execution_count": 186,
     "metadata": {},
     "output_type": "execute_result"
    }
   ],
   "source": [
    "temp_cat.codes"
   ]
  },
  {
   "cell_type": "code",
   "execution_count": 187,
   "metadata": {},
   "outputs": [
    {
     "data": {
      "text/plain": [
       "False"
      ]
     },
     "execution_count": 187,
     "metadata": {},
     "output_type": "execute_result"
    }
   ],
   "source": [
    "temp_cat[0] < temp_cat[3]"
   ]
  },
  {
   "cell_type": "markdown",
   "metadata": {
    "heading_collapsed": true
   },
   "source": [
    "### Properties"
   ]
  },
  {
   "cell_type": "markdown",
   "metadata": {
    "hidden": true
   },
   "source": [
    "#### .categories\n",
    "first element's code = 0  \n",
    "second element's code = 1  \n",
    "third element's code = 2"
   ]
  },
  {
   "cell_type": "code",
   "execution_count": 188,
   "metadata": {
    "hidden": true
   },
   "outputs": [
    {
     "data": {
      "text/plain": [
       "Index(['low', 'medium', 'high'], dtype='object')"
      ]
     },
     "execution_count": 188,
     "metadata": {},
     "output_type": "execute_result"
    }
   ],
   "source": [
    "temp_cat.categories"
   ]
  },
  {
   "cell_type": "markdown",
   "metadata": {
    "hidden": true
   },
   "source": [
    "#### .codes\n",
    "Codes are actual **integer** value stored as array. 1 represent 'high', "
   ]
  },
  {
   "cell_type": "code",
   "execution_count": 189,
   "metadata": {
    "hidden": true
   },
   "outputs": [
    {
     "data": {
      "text/plain": [
       "array([0, 2, 1, 2, 2, 0, 1, 1, 2], dtype=int8)"
      ]
     },
     "execution_count": 189,
     "metadata": {},
     "output_type": "execute_result"
    }
   ],
   "source": [
    "temp_cat.codes"
   ]
  },
  {
   "cell_type": "markdown",
   "metadata": {
    "heading_collapsed": true
   },
   "source": [
    "### Rename Category"
   ]
  },
  {
   "cell_type": "markdown",
   "metadata": {
    "hidden": true
   },
   "source": [
    "#### Renamce To New Category Object\n",
    "**.rename_categories()** method return a new category object with new changed categories"
   ]
  },
  {
   "cell_type": "code",
   "execution_count": 190,
   "metadata": {
    "hidden": true
   },
   "outputs": [
    {
     "data": {
      "text/plain": [
       "[sejuk, panas, sederhana, panas, panas, sejuk, sederhana, sederhana, panas]\n",
       "Categories (3, object): [sejuk < sederhana < panas]"
      ]
     },
     "execution_count": 190,
     "metadata": {},
     "output_type": "execute_result"
    }
   ],
   "source": [
    "temp = ['low','high','medium','high','high','low','medium','medium','high']\n",
    "new_temp_cat = temp_cat.rename_categories(['sejuk','sederhana','panas'])\n",
    "new_temp_cat "
   ]
  },
  {
   "cell_type": "code",
   "execution_count": 191,
   "metadata": {
    "hidden": true
   },
   "outputs": [
    {
     "data": {
      "text/plain": [
       "[low, high, medium, high, high, low, medium, medium, high]\n",
       "Categories (3, object): [low < medium < high]"
      ]
     },
     "execution_count": 191,
     "metadata": {},
     "output_type": "execute_result"
    }
   ],
   "source": [
    "temp_cat   # original category object categories not changed"
   ]
  },
  {
   "cell_type": "markdown",
   "metadata": {
    "hidden": true
   },
   "source": [
    "#### Rename Inplace\n",
    "Observe the original categories had been changed using **.rename()**"
   ]
  },
  {
   "cell_type": "code",
   "execution_count": 192,
   "metadata": {
    "hidden": true
   },
   "outputs": [
    {
     "data": {
      "text/plain": [
       "[sejuk, panas, sederhana, panas, panas, sejuk, sederhana, sederhana, panas]\n",
       "Categories (3, object): [sejuk < sederhana < panas]"
      ]
     },
     "execution_count": 192,
     "metadata": {},
     "output_type": "execute_result"
    }
   ],
   "source": [
    "temp_cat.categories = ['sejuk','sederhana','panas']\n",
    "temp_cat   # original category object categories is changed"
   ]
  },
  {
   "cell_type": "markdown",
   "metadata": {
    "heading_collapsed": true
   },
   "source": [
    "### Adding New Category\n",
    "This return a new category object with added categories"
   ]
  },
  {
   "cell_type": "code",
   "execution_count": 193,
   "metadata": {
    "hidden": true
   },
   "outputs": [
    {
     "data": {
      "text/plain": [
       "[sejuk, panas, sederhana, panas, panas, sejuk, sederhana, sederhana, panas]\n",
       "Categories (5, object): [sejuk < sederhana < panas < susah < senang]"
      ]
     },
     "execution_count": 193,
     "metadata": {},
     "output_type": "execute_result"
    }
   ],
   "source": [
    "temp_cat_more = temp_cat.add_categories(['susah','senang'])\n",
    "temp_cat_more"
   ]
  },
  {
   "cell_type": "markdown",
   "metadata": {
    "heading_collapsed": true
   },
   "source": [
    "### Removing Category\n",
    "This is **not in place**, hence return a new categorical object  "
   ]
  },
  {
   "cell_type": "markdown",
   "metadata": {
    "hidden": true
   },
   "source": [
    "#### Remove Specific Categor(ies)\n",
    "Elements with its category removed will become **NaN**"
   ]
  },
  {
   "cell_type": "code",
   "execution_count": 194,
   "metadata": {
    "hidden": true
   },
   "outputs": [
    {
     "data": {
      "text/plain": [
       "[NaN, high, medium, high, high, NaN, medium, medium, high]\n",
       "Categories (2, object): [high, medium]"
      ]
     },
     "execution_count": 194,
     "metadata": {},
     "output_type": "execute_result"
    }
   ],
   "source": [
    "temp = ['low','high','medium','high','high','low','medium','medium','high']\n",
    "temp_cat = pd.Categorical(temp)\n",
    "temp_cat_removed = temp_cat.remove_categories('low')\n",
    "temp_cat_removed"
   ]
  },
  {
   "cell_type": "markdown",
   "metadata": {
    "hidden": true
   },
   "source": [
    "#### Remove Unused Category\n",
    "Since categories removed are not used, there is no impact to the element"
   ]
  },
  {
   "cell_type": "code",
   "execution_count": 195,
   "metadata": {
    "hidden": true
   },
   "outputs": [
    {
     "name": "stdout",
     "output_type": "stream",
     "text": [
      "[sejuk, panas, sederhana, panas, panas, sejuk, sederhana, sederhana, panas]\n",
      "Categories (5, object): [sejuk < sederhana < panas < susah < senang]\n"
     ]
    },
    {
     "data": {
      "text/plain": [
       "[sejuk, panas, sederhana, panas, panas, sejuk, sederhana, sederhana, panas]\n",
       "Categories (3, object): [sejuk < sederhana < panas]"
      ]
     },
     "execution_count": 195,
     "metadata": {},
     "output_type": "execute_result"
    }
   ],
   "source": [
    "print (temp_cat_more)\n",
    "temp_cat_more.remove_unused_categories()"
   ]
  },
  {
   "cell_type": "markdown",
   "metadata": {
    "heading_collapsed": true
   },
   "source": [
    "### Add and Remove Categories In One Step - Set()"
   ]
  },
  {
   "cell_type": "code",
   "execution_count": 196,
   "metadata": {
    "hidden": true
   },
   "outputs": [
    {
     "data": {
      "text/plain": [
       "[low, high, medium, high, high, low, medium, medium, high]\n",
       "Categories (3, object): [high < low < medium]"
      ]
     },
     "execution_count": 196,
     "metadata": {},
     "output_type": "execute_result"
    }
   ],
   "source": [
    "temp = ['low','high','medium','high','high','low','medium','medium','high']\n",
    "temp_cat = pd.Categorical(temp, ordered=True)\n",
    "temp_cat"
   ]
  },
  {
   "cell_type": "code",
   "execution_count": 197,
   "metadata": {
    "hidden": true
   },
   "outputs": [
    {
     "data": {
      "text/plain": [
       "[low, NaN, medium, NaN, NaN, low, medium, medium, NaN]\n",
       "Categories (5, object): [low < medium < sederhana < susah < senang]"
      ]
     },
     "execution_count": 197,
     "metadata": {},
     "output_type": "execute_result"
    }
   ],
   "source": [
    "temp_cat.set_categories(['low','medium','sederhana','susah','senang'])"
   ]
  },
  {
   "cell_type": "markdown",
   "metadata": {
    "heading_collapsed": true
   },
   "source": [
    "### Categorical Descriptive Analysis "
   ]
  },
  {
   "cell_type": "markdown",
   "metadata": {
    "hidden": true
   },
   "source": [
    "#### At One Glance"
   ]
  },
  {
   "cell_type": "code",
   "execution_count": 198,
   "metadata": {
    "hidden": true
   },
   "outputs": [
    {
     "data": {
      "text/plain": [
       "            counts     freqs\n",
       "categories                  \n",
       "high             4  0.444444\n",
       "low              2  0.222222\n",
       "medium           3  0.333333"
      ]
     },
     "execution_count": 198,
     "metadata": {},
     "output_type": "execute_result"
    }
   ],
   "source": [
    "temp_cat.describe()"
   ]
  },
  {
   "cell_type": "markdown",
   "metadata": {
    "hidden": true
   },
   "source": [
    "#### Frequency Count"
   ]
  },
  {
   "cell_type": "code",
   "execution_count": 199,
   "metadata": {
    "hidden": true,
    "scrolled": true
   },
   "outputs": [
    {
     "data": {
      "text/plain": [
       "high      4\n",
       "low       2\n",
       "medium    3\n",
       "dtype: int64"
      ]
     },
     "execution_count": 199,
     "metadata": {},
     "output_type": "execute_result"
    }
   ],
   "source": [
    "temp_cat.value_counts()"
   ]
  },
  {
   "cell_type": "markdown",
   "metadata": {
    "hidden": true
   },
   "source": [
    "#### Least Frequent Category, Most Frequent Category, and Most Frequent Category"
   ]
  },
  {
   "cell_type": "code",
   "execution_count": 200,
   "metadata": {
    "hidden": true
   },
   "outputs": [
    {
     "data": {
      "text/plain": [
       "('high', 'medium', [high]\n",
       " Categories (3, object): [high < low < medium])"
      ]
     },
     "execution_count": 200,
     "metadata": {},
     "output_type": "execute_result"
    }
   ],
   "source": [
    "( temp_cat.min(), temp_cat.max(), temp_cat.mode() )"
   ]
  },
  {
   "cell_type": "markdown",
   "metadata": {},
   "source": [
    "### Other Methods"
   ]
  },
  {
   "cell_type": "markdown",
   "metadata": {},
   "source": [
    "#### .get_values()\n",
    "Since actual value stored by categorical object are integer **codes**, get_values() function return values translated from *.codes** property"
   ]
  },
  {
   "cell_type": "code",
   "execution_count": 201,
   "metadata": {},
   "outputs": [
    {
     "data": {
      "text/plain": [
       "array(['low', 'high', 'medium', 'high', 'high', 'low', 'medium', 'medium',\n",
       "       'high'], dtype=object)"
      ]
     },
     "execution_count": 201,
     "metadata": {},
     "output_type": "execute_result"
    }
   ],
   "source": [
    "temp_cat.get_values()  #array"
   ]
  },
  {
   "cell_type": "markdown",
   "metadata": {
    "toc-hr-collapsed": true
   },
   "source": [
    "## Dummies\n",
    "\n",
    "- **get_dummies** creates columns for each categories \n",
    "- The underlying data can be string or pd.Categorical  \n",
    "- It produces a **new pd.DataFrame**"
   ]
  },
  {
   "cell_type": "markdown",
   "metadata": {},
   "source": [
    "### Sample Data"
   ]
  },
  {
   "cell_type": "code",
   "execution_count": 202,
   "metadata": {},
   "outputs": [
    {
     "data": {
      "text/plain": [
       "    A   B    C\n",
       "0  A1  B1   C1\n",
       "1  A2  B2   C2\n",
       "2  A3  B3   C3\n",
       "3  A1  B1   C1\n",
       "4  A3  B1  NaN\n",
       "5  A1  B3  NaN"
      ]
     },
     "execution_count": 202,
     "metadata": {},
     "output_type": "execute_result"
    }
   ],
   "source": [
    "df = pd.DataFrame (\n",
    "    {'A': ['A1', 'A2', 'A3','A1','A3','A1'], \n",
    "     'B': ['B1','B2','B3','B1','B1','B3'],\n",
    "     'C': ['C1','C2','C3','C1',np.nan,np.nan]})\n",
    "df"
   ]
  },
  {
   "cell_type": "markdown",
   "metadata": {},
   "source": [
    "### Dummies on Array-Like Data"
   ]
  },
  {
   "cell_type": "code",
   "execution_count": 203,
   "metadata": {},
   "outputs": [
    {
     "data": {
      "text/plain": [
       "   A1  A2  A3\n",
       "0   1   0   0\n",
       "1   0   1   0\n",
       "2   0   0   1\n",
       "3   1   0   0\n",
       "4   0   0   1\n",
       "5   1   0   0"
      ]
     },
     "execution_count": 203,
     "metadata": {},
     "output_type": "execute_result"
    }
   ],
   "source": [
    "pd.get_dummies(df.A)"
   ]
  },
  {
   "cell_type": "markdown",
   "metadata": {
    "toc-hr-collapsed": true
   },
   "source": [
    "### Dummies on DataFrame (multiple columns)"
   ]
  },
  {
   "cell_type": "markdown",
   "metadata": {},
   "source": [
    "#### All Columns"
   ]
  },
  {
   "cell_type": "code",
   "execution_count": 204,
   "metadata": {},
   "outputs": [
    {
     "data": {
      "text/plain": [
       "   A_A1  A_A2  A_A3  B_B1  B_B2  B_B3  C_C1  C_C2  C_C3\n",
       "0     1     0     0     1     0     0     1     0     0\n",
       "1     0     1     0     0     1     0     0     1     0\n",
       "2     0     0     1     0     0     1     0     0     1\n",
       "3     1     0     0     1     0     0     1     0     0\n",
       "4     0     0     1     1     0     0     0     0     0\n",
       "5     1     0     0     0     0     1     0     0     0"
      ]
     },
     "execution_count": 204,
     "metadata": {},
     "output_type": "execute_result"
    }
   ],
   "source": [
    "pd.get_dummies(df)"
   ]
  },
  {
   "cell_type": "markdown",
   "metadata": {},
   "source": [
    "#### Selected Columns"
   ]
  },
  {
   "cell_type": "code",
   "execution_count": 205,
   "metadata": {},
   "outputs": [
    {
     "data": {
      "text/plain": [
       "   A_A1  A_A2  A_A3  B_B1  B_B2  B_B3\n",
       "0     1     0     0     1     0     0\n",
       "1     0     1     0     0     1     0\n",
       "2     0     0     1     0     0     1\n",
       "3     1     0     0     1     0     0\n",
       "4     0     0     1     1     0     0\n",
       "5     1     0     0     0     0     1"
      ]
     },
     "execution_count": 205,
     "metadata": {},
     "output_type": "execute_result"
    }
   ],
   "source": [
    "cols = ['A','B']\n",
    "pd.get_dummies(df[cols])"
   ]
  },
  {
   "cell_type": "markdown",
   "metadata": {},
   "source": [
    "### Dummies with na\n",
    "By default, nan values are ignored"
   ]
  },
  {
   "cell_type": "code",
   "execution_count": 206,
   "metadata": {},
   "outputs": [
    {
     "data": {
      "text/plain": [
       "   C1  C2  C3\n",
       "0   1   0   0\n",
       "1   0   1   0\n",
       "2   0   0   1\n",
       "3   1   0   0\n",
       "4   0   0   0\n",
       "5   0   0   0"
      ]
     },
     "execution_count": 206,
     "metadata": {},
     "output_type": "execute_result"
    }
   ],
   "source": [
    "pd.get_dummies(df.C)"
   ]
  },
  {
   "cell_type": "markdown",
   "metadata": {},
   "source": [
    "**Make NaN as a dummy variable**"
   ]
  },
  {
   "cell_type": "code",
   "execution_count": 207,
   "metadata": {},
   "outputs": [
    {
     "data": {
      "text/plain": [
       "   C1  C2  C3  NaN\n",
       "0   1   0   0    0\n",
       "1   0   1   0    0\n",
       "2   0   0   1    0\n",
       "3   1   0   0    0\n",
       "4   0   0   0    1\n",
       "5   0   0   0    1"
      ]
     },
     "execution_count": 207,
     "metadata": {},
     "output_type": "execute_result"
    }
   ],
   "source": [
    "pd.get_dummies(df.C,dummy_na=True)"
   ]
  },
  {
   "cell_type": "markdown",
   "metadata": {},
   "source": [
    "### Specify Prefixes"
   ]
  },
  {
   "cell_type": "code",
   "execution_count": 208,
   "metadata": {},
   "outputs": [
    {
     "data": {
      "text/plain": [
       "   col_A1  col_A2  col_A3\n",
       "0       1       0       0\n",
       "1       0       1       0\n",
       "2       0       0       1\n",
       "3       1       0       0\n",
       "4       0       0       1\n",
       "5       1       0       0"
      ]
     },
     "execution_count": 208,
     "metadata": {},
     "output_type": "execute_result"
    }
   ],
   "source": [
    "pd.get_dummies(df.A, prefix='col')"
   ]
  },
  {
   "cell_type": "code",
   "execution_count": 209,
   "metadata": {},
   "outputs": [
    {
     "data": {
      "text/plain": [
       "   colA_A1  colA_A2  colA_A3  colB_B1  colB_B2  colB_B3\n",
       "0        1        0        0        1        0        0\n",
       "1        0        1        0        0        1        0\n",
       "2        0        0        1        0        0        1\n",
       "3        1        0        0        1        0        0\n",
       "4        0        0        1        1        0        0\n",
       "5        1        0        0        0        0        1"
      ]
     },
     "execution_count": 209,
     "metadata": {},
     "output_type": "execute_result"
    }
   ],
   "source": [
    "pd.get_dummies(df[cols], prefix=['colA','colB'])"
   ]
  },
  {
   "cell_type": "markdown",
   "metadata": {},
   "source": [
    "### Dropping First Column\n",
    "- Dummies cause **colinearity issue** for regression as it has redundant column.  \n",
    "- Dropping a column **does not loose any information** technically"
   ]
  },
  {
   "cell_type": "code",
   "execution_count": 210,
   "metadata": {},
   "outputs": [
    {
     "data": {
      "text/plain": [
       "   A_A2  A_A3  B_B2  B_B3\n",
       "0     0     0     0     0\n",
       "1     1     0     1     0\n",
       "2     0     1     0     1\n",
       "3     0     0     0     0\n",
       "4     0     1     0     0\n",
       "5     0     0     0     1"
      ]
     },
     "execution_count": 210,
     "metadata": {},
     "output_type": "execute_result"
    }
   ],
   "source": [
    "pd.get_dummies(df[cols],drop_first=True)"
   ]
  },
  {
   "cell_type": "markdown",
   "metadata": {
    "toc-hr-collapsed": true
   },
   "source": [
    "## Getting External Data"
   ]
  },
  {
   "cell_type": "markdown",
   "metadata": {},
   "source": [
    "### html_table parser"
   ]
  },
  {
   "cell_type": "markdown",
   "metadata": {},
   "source": [
    "- Read the web page, create a list: which contain one or more dataframes that maps to each html table found\n",
    "- Auto detect column header\n",
    "- Auto create index using number starting from 0\n",
    "```\n",
    "read_html(url)  # return list of dataframe(s) that maps to web table(s) structure\n",
    "```"
   ]
  },
  {
   "cell_type": "code",
   "execution_count": 211,
   "metadata": {},
   "outputs": [],
   "source": [
    "#df_list = pd.read_html('https://www.bloomberg.com/markets/currencies')\n",
    "#print ('Total Table(s) Found : ', len(df_list))\n",
    "#df = df_list[0]\n",
    "#print (df)"
   ]
  },
  {
   "cell_type": "markdown",
   "metadata": {
    "toc-hr-collapsed": true
   },
   "source": [
    "### CSV Import"
   ]
  },
  {
   "cell_type": "markdown",
   "metadata": {},
   "source": [
    "#### Syntax\n",
    "```\n",
    "pandas.read_csv( \n",
    "    'url or filePath',                     # path to file or url \n",
    "    encoding    = 'utf_8',                 # optional: default is 'utf_8'\n",
    "    index_col   = ['colName1', ...],       # optional: specify one or more index column\n",
    "    parse_dates = ['dateCol1', ...],       # optional: specify multiple string column to convert to date\n",
    "    na_values   = ['.','na','NA','N/A'],   # optional: values that is considered NA\n",
    "    names       = ['newColName1', ... ],   # optional: overwrite column names\n",
    "    thousands   = '.',                     # optional: thousand seperator symbol\n",
    "    nrows       = n,                       # optional: load only first n rows\n",
    "    skiprows    = 0                        # optional: don't load first n rows\n",
    ")\n",
    "```\n",
    "Refer to full codec [Python Codec](https://docs.python.org/3/library/codecs.html#standard-encodings)."
   ]
  },
  {
   "cell_type": "markdown",
   "metadata": {},
   "source": [
    "#### Default Import\n",
    "**By default:**  \n",
    "- index is sequence of integer 0,1,2...  \n",
    "- only two data type: number and string (auto detection)\n",
    "- **date is not parsed**, hence stayed as string"
   ]
  },
  {
   "cell_type": "code",
   "execution_count": 212,
   "metadata": {},
   "outputs": [],
   "source": [
    "goo = pd.read_csv('data/goog.csv', encoding='utf_8')"
   ]
  },
  {
   "cell_type": "code",
   "execution_count": 213,
   "metadata": {
    "scrolled": true
   },
   "outputs": [
    {
     "data": {
      "text/plain": [
       "         Date        Open        High         Low       Close   Volume\n",
       "0  12/19/2016  790.219971  797.659973  786.270020  794.200012  1225900\n",
       "1  12/20/2016  796.760010  798.650024  793.270020  796.419983   925100\n",
       "2  12/21/2016  795.840027  796.676025  787.099976  794.559998  1208700\n",
       "3  12/22/2016  792.359985  793.320007  788.580017  791.260010   969100\n",
       "4  12/23/2016  790.900024  792.739990  787.280029  789.909973   623400"
      ]
     },
     "execution_count": 213,
     "metadata": {},
     "output_type": "execute_result"
    }
   ],
   "source": [
    "goo.head()"
   ]
  },
  {
   "cell_type": "code",
   "execution_count": 214,
   "metadata": {},
   "outputs": [
    {
     "name": "stdout",
     "output_type": "stream",
     "text": [
      "<class 'pandas.core.frame.DataFrame'>\n",
      "RangeIndex: 61 entries, 0 to 60\n",
      "Data columns (total 6 columns):\n",
      "Date      61 non-null object\n",
      "Open      61 non-null float64\n",
      "High      61 non-null float64\n",
      "Low       61 non-null float64\n",
      "Close     61 non-null float64\n",
      "Volume    61 non-null int64\n",
      "dtypes: float64(4), int64(1), object(1)\n",
      "memory usage: 2.9+ KB\n"
     ]
    }
   ],
   "source": [
    "goo.info()"
   ]
  },
  {
   "cell_type": "markdown",
   "metadata": {},
   "source": [
    "#### Specify Data Types\n",
    "By default ```read_csv``` only import data types of float64 and **object(str)**. This is done through auto detection.  \n",
    "To customize the data type, use **```dtype```** parameter with a **dict** of definition."
   ]
  },
  {
   "cell_type": "code",
   "execution_count": 215,
   "metadata": {},
   "outputs": [
    {
     "data": {
      "text/plain": [
       "         Date        Open        High         Low       Close   Volume\n",
       "0  12/19/2016  790.219971  797.659973  786.270020  794.200012  1225900\n",
       "1  12/20/2016  796.760010  798.650024  793.270020  796.419983   925100\n",
       "2  12/21/2016  795.840027  796.676025  787.099976  794.559998  1208700\n",
       "3  12/22/2016  792.359985  793.320007  788.580017  791.260010   969100\n",
       "4  12/23/2016  790.900024  792.739990  787.280029  789.909973   623400"
      ]
     },
     "execution_count": 215,
     "metadata": {},
     "output_type": "execute_result"
    }
   ],
   "source": [
    "d_types = {'Volume': str}\n",
    "pd.read_csv('data/goog.csv', dtype=d_types).head()"
   ]
  },
  {
   "cell_type": "code",
   "execution_count": 216,
   "metadata": {},
   "outputs": [
    {
     "name": "stdout",
     "output_type": "stream",
     "text": [
      "<class 'pandas.core.frame.DataFrame'>\n",
      "RangeIndex: 61 entries, 0 to 60\n",
      "Data columns (total 6 columns):\n",
      "Date      61 non-null object\n",
      "Open      61 non-null float64\n",
      "High      61 non-null float64\n",
      "Low       61 non-null float64\n",
      "Close     61 non-null float64\n",
      "Volume    61 non-null object\n",
      "dtypes: float64(4), object(2)\n",
      "memory usage: 2.9+ KB\n"
     ]
    }
   ],
   "source": [
    "pd.read_csv('data/goog.csv', dtype=d_types).info()"
   ]
  },
  {
   "cell_type": "markdown",
   "metadata": {},
   "source": [
    "#### On The Fly Date Parsing and Indexing\n",
    "You can specify multiple date-alike column for parsing"
   ]
  },
  {
   "cell_type": "code",
   "execution_count": 217,
   "metadata": {},
   "outputs": [
    {
     "data": {
      "text/plain": [
       "        Date        Open        High         Low       Close   Volume\n",
       "0 2016-12-19  790.219971  797.659973  786.270020  794.200012  1225900\n",
       "1 2016-12-20  796.760010  798.650024  793.270020  796.419983   925100\n",
       "2 2016-12-21  795.840027  796.676025  787.099976  794.559998  1208700\n",
       "3 2016-12-22  792.359985  793.320007  788.580017  791.260010   969100\n",
       "4 2016-12-23  790.900024  792.739990  787.280029  789.909973   623400"
      ]
     },
     "execution_count": 217,
     "metadata": {},
     "output_type": "execute_result"
    }
   ],
   "source": [
    "pd.read_csv('data/goog.csv', parse_dates=['Date']).head()"
   ]
  },
  {
   "cell_type": "code",
   "execution_count": 218,
   "metadata": {},
   "outputs": [
    {
     "name": "stdout",
     "output_type": "stream",
     "text": [
      "<class 'pandas.core.frame.DataFrame'>\n",
      "RangeIndex: 61 entries, 0 to 60\n",
      "Data columns (total 6 columns):\n",
      "Date      61 non-null datetime64[ns]\n",
      "Open      61 non-null float64\n",
      "High      61 non-null float64\n",
      "Low       61 non-null float64\n",
      "Close     61 non-null float64\n",
      "Volume    61 non-null int64\n",
      "dtypes: datetime64[ns](1), float64(4), int64(1)\n",
      "memory usage: 2.9 KB\n"
     ]
    }
   ],
   "source": [
    "pd.read_csv('data/goog.csv', parse_dates=['Date']).info()"
   ]
  },
  {
   "cell_type": "markdown",
   "metadata": {},
   "source": [
    "#### Parse Date, Then Set as Index\n",
    "When date is set as index, the type is **```DateTimeIndex```**"
   ]
  },
  {
   "cell_type": "code",
   "execution_count": 219,
   "metadata": {},
   "outputs": [],
   "source": [
    "goo3 = pd.read_csv('data/goog.csv',index_col='Date', parse_dates=['Date'])"
   ]
  },
  {
   "cell_type": "code",
   "execution_count": 220,
   "metadata": {},
   "outputs": [
    {
     "data": {
      "text/plain": [
       "                  Open        High         Low       Close   Volume\n",
       "Date                                                               \n",
       "2016-12-19  790.219971  797.659973  786.270020  794.200012  1225900\n",
       "2016-12-20  796.760010  798.650024  793.270020  796.419983   925100\n",
       "2016-12-21  795.840027  796.676025  787.099976  794.559998  1208700\n",
       "2016-12-22  792.359985  793.320007  788.580017  791.260010   969100\n",
       "2016-12-23  790.900024  792.739990  787.280029  789.909973   623400"
      ]
     },
     "execution_count": 220,
     "metadata": {},
     "output_type": "execute_result"
    }
   ],
   "source": [
    "goo3.head()"
   ]
  },
  {
   "cell_type": "markdown",
   "metadata": {},
   "source": [
    "**Observe index is now DateTime data type**"
   ]
  },
  {
   "cell_type": "code",
   "execution_count": 221,
   "metadata": {},
   "outputs": [
    {
     "data": {
      "text/plain": [
       "pandas.core.indexes.datetimes.DatetimeIndex"
      ]
     },
     "execution_count": 221,
     "metadata": {},
     "output_type": "execute_result"
    }
   ],
   "source": [
    "type(goo3.index)"
   ]
  },
  {
   "cell_type": "markdown",
   "metadata": {
    "toc-hr-collapsed": true
   },
   "source": [
    "## Frequency Table (crosstab)\n",
    "\n",
    "crosstab returns **Dataframe Object**\n",
    "```\n",
    "crosstab( index = <SeriesObj>, columns = <colName> )                    # one dimension table\n",
    "crosstab( index = <SeriesObj>, columns = <SeriesObj> )                  # two dimension table\n",
    "crosstab( index = <SeriesObj>, columns = [<SeriesObj1>, <SeriesObj2>] ) # multi dimension table   \n",
    "crosstab( index = <SeriesObj>, columns = <SeriesObj>, margines=True )   # add column and row margins\n",
    "```"
   ]
  },
  {
   "cell_type": "markdown",
   "metadata": {},
   "source": [
    "### Sample Data"
   ]
  },
  {
   "cell_type": "code",
   "execution_count": 222,
   "metadata": {},
   "outputs": [
    {
     "data": {
      "text/plain": [
       "  comp dept grp     value1     value2     value3\n",
       "0   C1   D3  G2  45.132603  20.170157   6.740557\n",
       "1   C1   D3  G2  46.180146  19.885813  -7.651088\n",
       "2   C2   D2  G2  54.856648  17.716647 -22.138893\n",
       "3   C3   D4  G1  56.956977  20.149642  33.682010\n",
       "4   C2   D2  G1  50.188809  22.869554  64.539563"
      ]
     },
     "execution_count": 222,
     "metadata": {},
     "output_type": "execute_result"
    }
   ],
   "source": [
    "n = 200\n",
    "comp = ['C' + i for i in np.random.randint( 1,4, size  = n).astype(str)] # 3x Company\n",
    "dept = ['D' + i for i in np.random.randint( 1,6, size  = n).astype(str)] # 5x Department\n",
    "grp =  ['G' + i for i in np.random.randint( 1,3, size  = n).astype(str)] # 2x Groups\n",
    "value1 = np.random.normal( loc=50 , scale=5 , size = n)\n",
    "value2 = np.random.normal( loc=20 , scale=3 , size = n)\n",
    "value3 = np.random.normal( loc=5 , scale=30 , size = n)\n",
    "\n",
    "mydf = pd.DataFrame({\n",
    "    'comp':comp, \n",
    "    'dept':dept, \n",
    "    'grp': grp,\n",
    "    'value1':value1, \n",
    "    'value2':value2,\n",
    "    'value3':value3 })\n",
    "mydf.head()"
   ]
  },
  {
   "cell_type": "markdown",
   "metadata": {},
   "source": [
    "### One DimensionTable"
   ]
  },
  {
   "cell_type": "code",
   "execution_count": 223,
   "metadata": {},
   "outputs": [
    {
     "data": {
      "text/plain": [
       "col_0  counter\n",
       "comp          \n",
       "C1          78\n",
       "C2          62\n",
       "C3          60"
      ]
     },
     "execution_count": 223,
     "metadata": {},
     "output_type": "execute_result"
    }
   ],
   "source": [
    "pd.crosstab(index=mydf.comp, columns='counter')"
   ]
  },
  {
   "cell_type": "code",
   "execution_count": 224,
   "metadata": {},
   "outputs": [
    {
     "data": {
      "text/plain": [
       "pandas.core.frame.DataFrame"
      ]
     },
     "execution_count": 224,
     "metadata": {},
     "output_type": "execute_result"
    }
   ],
   "source": [
    "type(pd.crosstab(index=mydf.comp, columns='counter'))"
   ]
  },
  {
   "cell_type": "markdown",
   "metadata": {},
   "source": [
    "### Two Dimension Table"
   ]
  },
  {
   "cell_type": "code",
   "execution_count": 225,
   "metadata": {},
   "outputs": [
    {
     "data": {
      "text/plain": [
       "dept  D1  D2  D3  D4  D5\n",
       "comp                    \n",
       "C1    13  13  17  21  14\n",
       "C2     9  13  13  17  10\n",
       "C3    12  13  10  13  12"
      ]
     },
     "execution_count": 225,
     "metadata": {},
     "output_type": "execute_result"
    }
   ],
   "source": [
    "pd.crosstab(index=mydf.comp, columns=mydf.dept)"
   ]
  },
  {
   "cell_type": "markdown",
   "metadata": {},
   "source": [
    "### Higher Dimension Table"
   ]
  },
  {
   "cell_type": "code",
   "execution_count": 226,
   "metadata": {},
   "outputs": [
    {
     "data": {
      "text/plain": [
       "dept D1    D2    D3      D4     D5   \n",
       "grp  G1 G2 G1 G2 G1  G2  G1  G2 G1 G2\n",
       "comp                                 \n",
       "C1    7  6  6  7  7  10   9  12  7  7\n",
       "C2    5  4  6  7  6   7  10   7  3  7\n",
       "C3    4  8  8  5  3   7   4   9  4  8"
      ]
     },
     "execution_count": 226,
     "metadata": {},
     "output_type": "execute_result"
    }
   ],
   "source": [
    "tb = pd.crosstab(index=mydf.comp, columns=[mydf.dept, mydf.grp])\n",
    "tb"
   ]
  },
  {
   "cell_type": "markdown",
   "metadata": {},
   "source": [
    "Get the **subtable** under D2"
   ]
  },
  {
   "cell_type": "code",
   "execution_count": 227,
   "metadata": {},
   "outputs": [
    {
     "data": {
      "text/plain": [
       "grp   G1  G2\n",
       "comp        \n",
       "C1     6   7\n",
       "C2     6   7\n",
       "C3     8   5"
      ]
     },
     "execution_count": 227,
     "metadata": {},
     "output_type": "execute_result"
    }
   ],
   "source": [
    "tb['D2']"
   ]
  },
  {
   "cell_type": "markdown",
   "metadata": {},
   "source": [
    "### Getting Margin\n",
    "New column and row labeled 'All' will be created"
   ]
  },
  {
   "cell_type": "code",
   "execution_count": 228,
   "metadata": {},
   "outputs": [
    {
     "data": {
      "text/plain": [
       "grp   G1   G2  All\n",
       "dept              \n",
       "D1    16   18   34\n",
       "D2    20   19   39\n",
       "D3    16   24   40\n",
       "D4    23   28   51\n",
       "D5    14   22   36\n",
       "All   89  111  200"
      ]
     },
     "execution_count": 228,
     "metadata": {},
     "output_type": "execute_result"
    }
   ],
   "source": [
    "tb = pd.crosstab(index=mydf.dept, columns=mydf.grp, margins=True)\n",
    "tb"
   ]
  },
  {
   "cell_type": "code",
   "execution_count": 229,
   "metadata": {},
   "outputs": [
    {
     "data": {
      "text/plain": [
       "dept\n",
       "D1      34\n",
       "D2      39\n",
       "D3      40\n",
       "D4      51\n",
       "D5      36\n",
       "All    200\n",
       "Name: All, dtype: int64"
      ]
     },
     "execution_count": 229,
     "metadata": {},
     "output_type": "execute_result"
    }
   ],
   "source": [
    "tb['All']   # row total, return a Series"
   ]
  },
  {
   "cell_type": "code",
   "execution_count": 230,
   "metadata": {},
   "outputs": [
    {
     "data": {
      "text/plain": [
       "grp\n",
       "G1      89\n",
       "G2     111\n",
       "All    200\n",
       "Name: All, dtype: int64"
      ]
     },
     "execution_count": 230,
     "metadata": {},
     "output_type": "execute_result"
    }
   ],
   "source": [
    "tb.loc['All'] # column total, return a Series"
   ]
  },
  {
   "cell_type": "markdown",
   "metadata": {},
   "source": [
    "### Getting Proportion\n",
    "Use matrix operation divide for each cells over the margin"
   ]
  },
  {
   "cell_type": "code",
   "execution_count": 231,
   "metadata": {},
   "outputs": [
    {
     "data": {
      "text/plain": [
       "grp         G1        G2    All\n",
       "dept                           \n",
       "D1    0.179775  0.162162  0.170\n",
       "D2    0.224719  0.171171  0.195\n",
       "D3    0.179775  0.216216  0.200\n",
       "D4    0.258427  0.252252  0.255\n",
       "D5    0.157303  0.198198  0.180\n",
       "All   1.000000  1.000000  1.000"
      ]
     },
     "execution_count": 231,
     "metadata": {},
     "output_type": "execute_result"
    }
   ],
   "source": [
    "tb/tb.loc['All']"
   ]
  },
  {
   "cell_type": "markdown",
   "metadata": {},
   "source": [
    "### Reseting Index\n",
    "- When creating a crosstab, **column specified by index** will become index  \n",
    "- To convert it to normal column, use **reset_index()**\n",
    "```\n",
    "DataFrameObj.reset_index( inpalce=False )\n",
    "```\n"
   ]
  },
  {
   "cell_type": "code",
   "execution_count": 232,
   "metadata": {},
   "outputs": [
    {
     "data": {
      "text/plain": [
       "grp dept  G1   G2  All\n",
       "0     D1  16   18   34\n",
       "1     D2  20   19   39\n",
       "2     D3  16   24   40\n",
       "3     D4  23   28   51\n",
       "4     D5  14   22   36\n",
       "5    All  89  111  200"
      ]
     },
     "execution_count": 232,
     "metadata": {},
     "output_type": "execute_result"
    }
   ],
   "source": [
    "tb.reset_index()"
   ]
  },
  {
   "cell_type": "markdown",
   "metadata": {
    "toc-hr-collapsed": true
   },
   "source": [
    "## GroupBy\n",
    "- Aggretation and summarization require creating **DataFrameGroupBy** object from existing DataFrame  \n",
    "- The **GroupBy** object is a **very flexible abstraction**. In many ways, you can simply treat it as if it's a **collection of DataFrames**, and it does the difficult things under the hood  "
   ]
  },
  {
   "cell_type": "code",
   "execution_count": 386,
   "metadata": {},
   "outputs": [
    {
     "data": {
      "text/plain": [
       "  Company Department      Name  Age  Salary  Birthdate\n",
       "0      C1         D1      Yong   45   15000   1/1/1970\n",
       "1      C1         D1      Chew   35   12000   2/1/1980\n",
       "2      C1         D2       Lim   34    8000  2/19/1977\n",
       "3      C1         D3     Jessy   23    2500  3/15/1990\n",
       "4      C1         D3  Hoi Ming   55   25000  4/15/1987"
      ]
     },
     "execution_count": 386,
     "metadata": {},
     "output_type": "execute_result"
    }
   ],
   "source": [
    "company = pd.read_csv('data/company.csv')\n",
    "company.head()"
   ]
  },
  {
   "cell_type": "markdown",
   "metadata": {},
   "source": [
    "### Creating Groups"
   ]
  },
  {
   "cell_type": "code",
   "execution_count": 389,
   "metadata": {},
   "outputs": [
    {
     "data": {
      "text/plain": [
       "<pandas.core.groupby.groupby.DataFrameGroupBy object at 0x0000028FAE43BE10>"
      ]
     },
     "execution_count": 389,
     "metadata": {},
     "output_type": "execute_result"
    }
   ],
   "source": [
    "com_grp = company.groupby(['Company','Department'])\n",
    "com_grp"
   ]
  },
  {
   "cell_type": "markdown",
   "metadata": {},
   "source": [
    "### Properties"
   ]
  },
  {
   "cell_type": "markdown",
   "metadata": {},
   "source": [
    "#### Number of Groups Created"
   ]
  },
  {
   "cell_type": "code",
   "execution_count": 236,
   "metadata": {},
   "outputs": [
    {
     "data": {
      "text/plain": [
       "9"
      ]
     },
     "execution_count": 236,
     "metadata": {},
     "output_type": "execute_result"
    }
   ],
   "source": [
    "com_grp.ngroups"
   ]
  },
  {
   "cell_type": "markdown",
   "metadata": {},
   "source": [
    "#### Row Numbers Associated For Each Group"
   ]
  },
  {
   "cell_type": "code",
   "execution_count": 237,
   "metadata": {},
   "outputs": [
    {
     "data": {
      "text/plain": [
       "{('C1', 'D1'): Int64Index([0, 1], dtype='int64'),\n",
       " ('C1', 'D2'): Int64Index([2], dtype='int64'),\n",
       " ('C1', 'D3'): Int64Index([3, 4, 5], dtype='int64'),\n",
       " ('C2', 'D1'): Int64Index([6], dtype='int64'),\n",
       " ('C2', 'D2'): Int64Index([7, 8, 9], dtype='int64'),\n",
       " ('C2', 'D3'): Int64Index([10, 11, 12], dtype='int64'),\n",
       " ('C3', 'D1'): Int64Index([14], dtype='int64'),\n",
       " ('C3', 'D2'): Int64Index([15], dtype='int64'),\n",
       " ('C3', 'D3'): Int64Index([13, 16, 17], dtype='int64')}"
      ]
     },
     "execution_count": 237,
     "metadata": {},
     "output_type": "execute_result"
    }
   ],
   "source": [
    "com_grp.groups  # return Dictionary"
   ]
  },
  {
   "cell_type": "markdown",
   "metadata": {},
   "source": [
    "### Methods"
   ]
  },
  {
   "cell_type": "markdown",
   "metadata": {},
   "source": [
    "#### Number of Rows In Each Group"
   ]
  },
  {
   "cell_type": "code",
   "execution_count": 238,
   "metadata": {},
   "outputs": [
    {
     "data": {
      "text/plain": [
       "Company  Department\n",
       "C1       D1            2\n",
       "         D2            1\n",
       "         D3            3\n",
       "C2       D1            1\n",
       "         D2            3\n",
       "         D3            3\n",
       "C3       D1            1\n",
       "         D2            1\n",
       "         D3            3\n",
       "dtype: int64"
      ]
     },
     "execution_count": 238,
     "metadata": {},
     "output_type": "execute_result"
    }
   ],
   "source": [
    "com_grp.size()  # return panda Series object"
   ]
  },
  {
   "cell_type": "markdown",
   "metadata": {},
   "source": [
    "#### Valid (not Null) Data Count For Each Fields In The Group"
   ]
  },
  {
   "cell_type": "code",
   "execution_count": 239,
   "metadata": {},
   "outputs": [
    {
     "data": {
      "text/plain": [
       "                    Name  Age  Salary  Birthdate\n",
       "Company Department                              \n",
       "C1      D1             2    2       2          2\n",
       "        D2             1    1       1          1\n",
       "        D3             3    3       3          3\n",
       "C2      D1             1    1       1          1\n",
       "        D2             3    3       3          3\n",
       "        D3             3    3       3          3\n",
       "C3      D1             1    1       1          1\n",
       "        D2             1    1       1          1\n",
       "        D3             3    3       3          3"
      ]
     },
     "execution_count": 239,
     "metadata": {},
     "output_type": "execute_result"
    }
   ],
   "source": [
    "com_grp.count()  # return panda DataFrame object"
   ]
  },
  {
   "cell_type": "markdown",
   "metadata": {},
   "source": [
    "### Retrieve Rows\n",
    "All row retrieval operations **return a dataframe**"
   ]
  },
  {
   "cell_type": "markdown",
   "metadata": {},
   "source": [
    "#### Retrieve N Rows For Each Groups\n",
    "Example below retrieve 2 rows from each group"
   ]
  },
  {
   "cell_type": "code",
   "execution_count": 240,
   "metadata": {},
   "outputs": [
    {
     "data": {
      "text/plain": [
       "   Company Department      Name  Age  Salary   Birthdate\n",
       "0       C1         D1      Yong   45   15000    1/1/1970\n",
       "1       C1         D1      Chew   35   12000    2/1/1980\n",
       "2       C1         D2       Lim   34    8000   2/19/1977\n",
       "3       C1         D3     Jessy   23    2500   3/15/1990\n",
       "4       C1         D3  Hoi Ming   55   25000   4/15/1987\n",
       "..     ...        ...       ...  ...     ...         ...\n",
       "11      C2         D3   Jeannie   30   12500  12/31/1980\n",
       "13      C3         D3     Chang   32    7900   7/26/1973\n",
       "14      C3         D1       Ong   44   17500   8/21/1980\n",
       "15      C3         D2      Lily   41   15300   7/17/1990\n",
       "16      C3         D3     Sally   54   21000   7/19/1968\n",
       "\n",
       "[14 rows x 6 columns]"
      ]
     },
     "execution_count": 240,
     "metadata": {},
     "output_type": "execute_result"
    }
   ],
   "source": [
    "com_grp.head(2)"
   ]
  },
  {
   "cell_type": "markdown",
   "metadata": {},
   "source": [
    "#### Retrieve Rows In One Specific Group"
   ]
  },
  {
   "cell_type": "code",
   "execution_count": 241,
   "metadata": {},
   "outputs": [
    {
     "data": {
      "text/plain": [
       "  Company Department      Name  Age  Salary  Birthdate\n",
       "3      C1         D3     Jessy   23    2500  3/15/1990\n",
       "4      C1         D3  Hoi Ming   55   25000  4/15/1987\n",
       "5      C1         D3   Sui Wei   56    3000  6/15/1990"
      ]
     },
     "execution_count": 241,
     "metadata": {},
     "output_type": "execute_result"
    }
   ],
   "source": [
    "com_grp.get_group(('C1','D3'))"
   ]
  },
  {
   "cell_type": "markdown",
   "metadata": {},
   "source": [
    "#### Retrieve n-th Row From Each Group\n",
    "Row number is 0-based"
   ]
  },
  {
   "cell_type": "code",
   "execution_count": 242,
   "metadata": {},
   "outputs": [
    {
     "data": {
      "text/plain": [
       "                    Age   Birthdate     Name  Salary\n",
       "Company Department                                  \n",
       "C1      D1           35    2/1/1980     Chew   12000\n",
       "        D2           34   2/19/1977      Lim    8000\n",
       "        D3           56   6/15/1990  Sui Wei    3000\n",
       "C2      D1           18   7/15/1997     Anne     400\n",
       "        D2           46  10/31/1988    Jimmy   14000\n",
       "        D3           29   12/1/1963  Bernard    9800\n",
       "C3      D1           44   8/21/1980      Ong   17500\n",
       "        D2           41   7/17/1990     Lily   15300\n",
       "        D3           37   3/16/1969   Esther   13500"
      ]
     },
     "execution_count": 242,
     "metadata": {},
     "output_type": "execute_result"
    }
   ],
   "source": [
    "com_grp.nth(-1)    # retireve last row from each group"
   ]
  },
  {
   "cell_type": "markdown",
   "metadata": {},
   "source": [
    "### Iteration\n",
    "**DataFrameGroupBy** object can be thought as a collection of named groups"
   ]
  },
  {
   "cell_type": "code",
   "execution_count": 243,
   "metadata": {},
   "outputs": [
    {
     "name": "stdout",
     "output_type": "stream",
     "text": [
      "('C1', 'D1')\n",
      "  Company Department  Name  Age  Salary Birthdate\n",
      "0      C1         D1  Yong   45   15000  1/1/1970\n",
      "1      C1         D1  Chew   35   12000  2/1/1980\n",
      "('C1', 'D2')\n",
      "  Company Department Name  Age  Salary  Birthdate\n",
      "2      C1         D2  Lim   34    8000  2/19/1977\n",
      "('C1', 'D3')\n",
      "  Company Department      Name  Age  Salary  Birthdate\n",
      "3      C1         D3     Jessy   23    2500  3/15/1990\n",
      "4      C1         D3  Hoi Ming   55   25000  4/15/1987\n",
      "('C2', 'D1')\n",
      "  Company Department  Name  Age  Salary  Birthdate\n",
      "6      C2         D1  Anne   18     400  7/15/1997\n",
      "('C2', 'D2')\n",
      "  Company Department     Name  Age  Salary  Birthdate\n",
      "7      C2         D2  Deborah   30    8600  8/15/1984\n",
      "8      C2         D2  Nikalus   51   12000  9/18/2000\n",
      "('C2', 'D3')\n",
      "   Company Department     Name  Age  Salary   Birthdate\n",
      "10      C2         D3  Michael   38   17000  11/30/1997\n",
      "11      C2         D3  Jeannie   30   12500  12/31/1980\n",
      "('C3', 'D1')\n",
      "   Company Department Name  Age  Salary  Birthdate\n",
      "14      C3         D1  Ong   44   17500  8/21/1980\n",
      "('C3', 'D2')\n",
      "   Company Department  Name  Age  Salary  Birthdate\n",
      "15      C3         D2  Lily   41   15300  7/17/1990\n",
      "('C3', 'D3')\n",
      "   Company Department   Name  Age  Salary  Birthdate\n",
      "13      C3         D3  Chang   32    7900  7/26/1973\n",
      "16      C3         D3  Sally   54   21000  7/19/1968\n"
     ]
    }
   ],
   "source": [
    "def print_groups (g):\n",
    "    for name,group in g:\n",
    "        print (name)\n",
    "        print (group[:2])\n",
    "        \n",
    "print_groups (com_grp)"
   ]
  },
  {
   "cell_type": "code",
   "execution_count": 244,
   "metadata": {},
   "outputs": [
    {
     "data": {
      "text/plain": [
       "<pandas.core.groupby.groupby.DataFrameGroupBy object at 0x0000028FADC90B70>"
      ]
     },
     "execution_count": 244,
     "metadata": {},
     "output_type": "execute_result"
    }
   ],
   "source": [
    "com_grp"
   ]
  },
  {
   "cell_type": "markdown",
   "metadata": {},
   "source": [
    "### Apply Aggregate Functions to Groups\n",
    "Aggregate apply functions to columns in every groups, and return a summary data for each group"
   ]
  },
  {
   "cell_type": "markdown",
   "metadata": {},
   "source": [
    "#### Apply One Function to One or More Columns"
   ]
  },
  {
   "cell_type": "code",
   "execution_count": 245,
   "metadata": {},
   "outputs": [
    {
     "data": {
      "text/plain": [
       "Company  Department\n",
       "C1       D1             80\n",
       "         D2             34\n",
       "         D3            134\n",
       "C2       D1             18\n",
       "         D2            127\n",
       "         D3             97\n",
       "C3       D1             44\n",
       "         D2             41\n",
       "         D3            123\n",
       "Name: Age, dtype: int64"
      ]
     },
     "execution_count": 245,
     "metadata": {},
     "output_type": "execute_result"
    }
   ],
   "source": [
    "com_grp['Age'].sum()"
   ]
  },
  {
   "cell_type": "code",
   "execution_count": 246,
   "metadata": {},
   "outputs": [
    {
     "data": {
      "text/plain": [
       "                    Age  Salary\n",
       "Company Department             \n",
       "C1      D1           80   27000\n",
       "        D2           34    8000\n",
       "        D3          134   30500\n",
       "C2      D1           18     400\n",
       "        D2          127   34600\n",
       "        D3           97   39300\n",
       "C3      D1           44   17500\n",
       "        D2           41   15300\n",
       "        D3          123   42400"
      ]
     },
     "execution_count": 246,
     "metadata": {},
     "output_type": "execute_result"
    }
   ],
   "source": [
    "com_grp[['Age','Salary']].sum()"
   ]
  },
  {
   "cell_type": "markdown",
   "metadata": {},
   "source": [
    "#### Apply One or More Functions To All Columns"
   ]
  },
  {
   "cell_type": "code",
   "execution_count": 247,
   "metadata": {},
   "outputs": [
    {
     "data": {
      "text/plain": [
       "                          Age        Salary\n",
       "Company Department                         \n",
       "C1      D1          40.000000  13500.000000\n",
       "        D2          34.000000   8000.000000\n",
       "        D3          44.666667  10166.666667\n",
       "C2      D1          18.000000    400.000000\n",
       "        D2          42.333333  11533.333333\n",
       "        D3          32.333333  13100.000000\n",
       "C3      D1          44.000000  17500.000000\n",
       "        D2          41.000000  15300.000000\n",
       "        D3          41.000000  14133.333333"
      ]
     },
     "execution_count": 247,
     "metadata": {},
     "output_type": "execute_result"
    }
   ],
   "source": [
    "com_grp.agg(np.mean)"
   ]
  },
  {
   "cell_type": "code",
   "execution_count": 248,
   "metadata": {},
   "outputs": [
    {
     "data": {
      "text/plain": [
       "                          Age             Salary       \n",
       "                         mean  sum          mean    sum\n",
       "Company Department                                     \n",
       "C1      D1          40.000000   80  13500.000000  27000\n",
       "        D2          34.000000   34   8000.000000   8000\n",
       "        D3          44.666667  134  10166.666667  30500\n",
       "C2      D1          18.000000   18    400.000000    400\n",
       "        D2          42.333333  127  11533.333333  34600\n",
       "        D3          32.333333   97  13100.000000  39300\n",
       "C3      D1          44.000000   44  17500.000000  17500\n",
       "        D2          41.000000   41  15300.000000  15300\n",
       "        D3          41.000000  123  14133.333333  42400"
      ]
     },
     "execution_count": 248,
     "metadata": {},
     "output_type": "execute_result"
    }
   ],
   "source": [
    "com_grp.agg([np.mean,np.sum])"
   ]
  },
  {
   "cell_type": "markdown",
   "metadata": {},
   "source": [
    "#### Apply Different Functions To Different Columns"
   ]
  },
  {
   "cell_type": "code",
   "execution_count": 249,
   "metadata": {},
   "outputs": [
    {
     "data": {
      "text/plain": [
       "                          Age Salary       \n",
       "                         mean   amin   amax\n",
       "Company Department                         \n",
       "C1      D1          40.000000  12000  15000\n",
       "        D2          34.000000   8000   8000\n",
       "        D3          44.666667   2500  25000\n",
       "C2      D1          18.000000    400    400\n",
       "        D2          42.333333   8600  14000\n",
       "        D3          32.333333   9800  17000\n",
       "C3      D1          44.000000  17500  17500\n",
       "        D2          41.000000  15300  15300\n",
       "        D3          41.000000   7900  21000"
      ]
     },
     "execution_count": 249,
     "metadata": {},
     "output_type": "execute_result"
    }
   ],
   "source": [
    "com_grp.agg({'Age':np.mean, 'Salary': [np.min,np.max]})"
   ]
  },
  {
   "cell_type": "markdown",
   "metadata": {},
   "source": [
    "### Transform"
   ]
  },
  {
   "cell_type": "markdown",
   "metadata": {},
   "source": [
    "- Transform is an operation used combined with **DataFrameGroupBy** object  \n",
    "- **transform()** return a **new DataFrame object**  "
   ]
  },
  {
   "cell_type": "code",
   "execution_count": 250,
   "metadata": {},
   "outputs": [
    {
     "data": {
      "text/plain": [
       "Company\n",
       "C1    6\n",
       "C2    7\n",
       "C3    5\n",
       "dtype: int64"
      ]
     },
     "execution_count": 250,
     "metadata": {},
     "output_type": "execute_result"
    }
   ],
   "source": [
    "grp = company.groupby('Company')\n",
    "grp.size()"
   ]
  },
  {
   "cell_type": "markdown",
   "metadata": {},
   "source": [
    "**transform()** perform a function to a group, and **expands and replicate** it to multiple rows according to original DataFrame"
   ]
  },
  {
   "cell_type": "code",
   "execution_count": 251,
   "metadata": {},
   "outputs": [
    {
     "data": {
      "text/plain": [
       "    Age  Salary\n",
       "0   248   65500\n",
       "1   248   65500\n",
       "2   248   65500\n",
       "3   248   65500\n",
       "4   248   65500\n",
       "..  ...     ...\n",
       "13  208   75200\n",
       "14  208   75200\n",
       "15  208   75200\n",
       "16  208   75200\n",
       "17  208   75200\n",
       "\n",
       "[18 rows x 2 columns]"
      ]
     },
     "execution_count": 251,
     "metadata": {},
     "output_type": "execute_result"
    }
   ],
   "source": [
    "grp[['Age','Salary']].transform('sum')"
   ]
  },
  {
   "cell_type": "code",
   "execution_count": 252,
   "metadata": {},
   "outputs": [
    {
     "data": {
      "text/plain": [
       "    Age  Salary\n",
       "0    55   15010\n",
       "1    45   12010\n",
       "2    44    8010\n",
       "3    33    2510\n",
       "4    65   25010\n",
       "..  ...     ...\n",
       "13   42    7910\n",
       "14   54   17510\n",
       "15   51   15310\n",
       "16   64   21010\n",
       "17   47   13510\n",
       "\n",
       "[18 rows x 2 columns]"
      ]
     },
     "execution_count": 252,
     "metadata": {},
     "output_type": "execute_result"
    }
   ],
   "source": [
    "grp.transform( lambda x:x+10 )"
   ]
  },
  {
   "cell_type": "markdown",
   "metadata": {
    "toc-hr-collapsed": true
   },
   "source": [
    "## Concat"
   ]
  },
  {
   "cell_type": "markdown",
   "metadata": {},
   "source": [
    "### Sample Data"
   ]
  },
  {
   "cell_type": "code",
   "execution_count": 253,
   "metadata": {},
   "outputs": [
    {
     "data": {
      "text/plain": [
       "    A   B\n",
       "0  A1  B1\n",
       "1  A2  B2\n",
       "2  A3  B3\n",
       "3  A4  B4"
      ]
     },
     "execution_count": 253,
     "metadata": {},
     "output_type": "execute_result"
    }
   ],
   "source": [
    "s1 = pd.Series(['A1','A2','A3','A4'])\n",
    "s2 = pd.Series(['B1','B2','B3','B4'])\n",
    "s3 = pd.Series(['C1','C2','C3','C4'])\n",
    "df = pd.DataFrame({ 'A': s1, 'B': s2})\n",
    "df"
   ]
  },
  {
   "cell_type": "markdown",
   "metadata": {},
   "source": [
    "### Column-Wise"
   ]
  },
  {
   "cell_type": "markdown",
   "metadata": {},
   "source": [
    "#### Multiple Arrays/Series\n",
    "- Added series will have 0,1,2,... column names"
   ]
  },
  {
   "cell_type": "code",
   "execution_count": 254,
   "metadata": {},
   "outputs": [
    {
     "data": {
      "text/plain": [
       "    0   1   2\n",
       "0  A1  B1  C1\n",
       "1  A2  B2  C2\n",
       "2  A3  B3  C3\n",
       "3  A4  B4  C4"
      ]
     },
     "execution_count": 254,
     "metadata": {},
     "output_type": "execute_result"
    }
   ],
   "source": [
    "pd.concat([s1,s2,s3],axis=1)"
   ]
  },
  {
   "cell_type": "markdown",
   "metadata": {},
   "source": [
    "#### DataFrame and Series\n",
    "- No change to original data frame column name\n",
    "- Added columns from series will have 0,1,2,3,.. column name"
   ]
  },
  {
   "cell_type": "code",
   "execution_count": 255,
   "metadata": {},
   "outputs": [
    {
     "data": {
      "text/plain": [
       "    A   B   0   1\n",
       "0  A1  B1  C1  A1\n",
       "1  A2  B2  C2  A2\n",
       "2  A3  B3  C3  A3\n",
       "3  A4  B4  C4  A4"
      ]
     },
     "execution_count": 255,
     "metadata": {},
     "output_type": "execute_result"
    }
   ],
   "source": [
    "pd.concat([df,s3,s1],axis=1)"
   ]
  },
  {
   "cell_type": "markdown",
   "metadata": {},
   "source": [
    "### Row-Wise"
   ]
  },
  {
   "cell_type": "code",
   "execution_count": null,
   "metadata": {},
   "outputs": [],
   "source": []
  },
  {
   "cell_type": "code",
   "execution_count": null,
   "metadata": {},
   "outputs": [],
   "source": []
  },
  {
   "cell_type": "code",
   "execution_count": null,
   "metadata": {},
   "outputs": [],
   "source": []
  },
  {
   "cell_type": "markdown",
   "metadata": {
    "heading_collapsed": true,
    "toc-hr-collapsed": true
   },
   "source": [
    "## Fundamental Analysis"
   ]
  },
  {
   "cell_type": "markdown",
   "metadata": {
    "hidden": true
   },
   "source": [
    "### Structure of the Dataframe (.info())\n",
    "**info()** is a function that print information to screen. It doesn't return any object\n",
    "```\n",
    "dataframe.info()  # display columns and number of rows (that has no missing data)\n",
    "```"
   ]
  },
  {
   "cell_type": "code",
   "execution_count": 256,
   "metadata": {
    "hidden": true
   },
   "outputs": [
    {
     "name": "stdout",
     "output_type": "stream",
     "text": [
      "<class 'pandas.core.frame.DataFrame'>\n",
      "RangeIndex: 4 entries, 0 to 3\n",
      "Data columns (total 2 columns):\n",
      "A    4 non-null object\n",
      "B    4 non-null object\n",
      "dtypes: object(2)\n",
      "memory usage: 144.0+ bytes\n"
     ]
    }
   ],
   "source": [
    "df.info()"
   ]
  },
  {
   "cell_type": "markdown",
   "metadata": {
    "hidden": true
   },
   "source": [
    "### First Few Rows (.head())\n",
    "```\n",
    "dataframe.head (n) # return dataframe of first n rows, default n = 5\n",
    "```"
   ]
  },
  {
   "cell_type": "code",
   "execution_count": 257,
   "metadata": {
    "hidden": true
   },
   "outputs": [
    {
     "data": {
      "text/plain": [
       "    A   B\n",
       "0  A1  B1\n",
       "1  A2  B2\n",
       "2  A3  B3\n",
       "3  A4  B4"
      ]
     },
     "execution_count": 257,
     "metadata": {},
     "output_type": "execute_result"
    }
   ],
   "source": [
    "df.head()"
   ]
  },
  {
   "cell_type": "markdown",
   "metadata": {
    "toc-hr-collapsed": true
   },
   "source": [
    "## Missing Data"
   ]
  },
  {
   "cell_type": "markdown",
   "metadata": {},
   "source": [
    "### What Is Considered Missing Data ? "
   ]
  },
  {
   "cell_type": "markdown",
   "metadata": {},
   "source": [
    "### Sample Data"
   ]
  },
  {
   "cell_type": "code",
   "execution_count": 258,
   "metadata": {},
   "outputs": [
    {
     "data": {
      "text/plain": [
       "        one       two     three four   five\n",
       "a  0.366083 -0.690501 -0.736248  bar   True\n",
       "b       NaN       NaN       NaN  NaN    NaN\n",
       "c -0.607350  0.800183 -0.412550  bar  False\n",
       "d       NaN       NaN       NaN  NaN    NaN\n",
       "e  0.684213 -0.148327 -1.432006  bar   True\n",
       "f  0.469932  0.420283  0.586002  bar   True\n",
       "g       NaN       NaN       NaN  NaN    NaN\n",
       "h -1.700706 -0.289902 -1.803585  bar  False"
      ]
     },
     "execution_count": 258,
     "metadata": {},
     "output_type": "execute_result"
    }
   ],
   "source": [
    "df = pd.DataFrame( np.random.randn(5, 3), \n",
    "                   index   =['a', 'c', 'e', 'f', 'h'],\n",
    "                   columns =['one', 'two', 'three'])\n",
    "df['four'] = 'bar'\n",
    "df['five'] = df['one'] > 0\n",
    "df\n",
    "df.reindex(['a', 'b', 'c', 'd', 'e', 'f', 'g', 'h'])\n"
   ]
  },
  {
   "cell_type": "markdown",
   "metadata": {},
   "source": [
    "**How Missing Data For Each Column ?**"
   ]
  },
  {
   "cell_type": "code",
   "execution_count": 259,
   "metadata": {},
   "outputs": [
    {
     "data": {
      "text/plain": [
       "one      5\n",
       "two      5\n",
       "three    5\n",
       "four     5\n",
       "five     5\n",
       "dtype: int64"
      ]
     },
     "execution_count": 259,
     "metadata": {},
     "output_type": "execute_result"
    }
   ],
   "source": [
    "\n",
    "df.count()"
   ]
  },
  {
   "cell_type": "code",
   "execution_count": 260,
   "metadata": {},
   "outputs": [
    {
     "data": {
      "text/plain": [
       "one      0\n",
       "two      0\n",
       "three    0\n",
       "four     0\n",
       "five     0\n",
       "dtype: int64"
      ]
     },
     "execution_count": 260,
     "metadata": {},
     "output_type": "execute_result"
    }
   ],
   "source": [
    "len(df.index) - df.count()"
   ]
  },
  {
   "cell_type": "code",
   "execution_count": 261,
   "metadata": {},
   "outputs": [
    {
     "data": {
      "text/plain": [
       "     one    two  three   four   five\n",
       "a  False  False  False  False  False\n",
       "c  False  False  False  False  False\n",
       "e  False  False  False  False  False\n",
       "f  False  False  False  False  False\n",
       "h  False  False  False  False  False"
      ]
     },
     "execution_count": 261,
     "metadata": {},
     "output_type": "execute_result"
    }
   ],
   "source": [
    "df.isnull()"
   ]
  },
  {
   "cell_type": "code",
   "execution_count": 262,
   "metadata": {},
   "outputs": [
    {
     "data": {
      "text/plain": [
       "            one       two     three\n",
       "count  5.000000  5.000000  5.000000\n",
       "mean  -0.157566  0.018347 -0.759677\n",
       "std    0.995005  0.591203  0.931889\n",
       "min   -1.700706 -0.690501 -1.803585\n",
       "25%   -0.607350 -0.289902 -1.432006\n",
       "50%    0.366083 -0.148327 -0.736248\n",
       "75%    0.469932  0.420283 -0.412550\n",
       "max    0.684213  0.800183  0.586002"
      ]
     },
     "execution_count": 262,
     "metadata": {},
     "output_type": "execute_result"
    }
   ],
   "source": [
    "df.describe()"
   ]
  },
  {
   "cell_type": "markdown",
   "metadata": {},
   "source": [
    "## Pandas DateTime\n",
    "pandas contains **extensive capabilities and features** for working with time series data for all domains. Using the NumPy **datetime64 and timedelta64** dtypes  \n",
    "\n",
    "**```panda.Timestamp```**, a subclass of **datetime.datetime**, is pandas’ scalar type for timezone-naive or timezone-aware datetime data. It mimics datetime.datime"
   ]
  },
  {
   "cell_type": "markdown",
   "metadata": {
    "toc-hr-collapsed": true
   },
   "source": [
    "## DatetimeIndex\n",
    "### Creating \n",
    "Source can be **string, date, datetime object**"
   ]
  },
  {
   "cell_type": "markdown",
   "metadata": {},
   "source": [
    "#### Convert From\n",
    "When the input is **list-like**, **```to_datetime```** convert to **DateTimeIndex**"
   ]
  },
  {
   "cell_type": "code",
   "execution_count": 278,
   "metadata": {},
   "outputs": [
    {
     "data": {
      "text/plain": [
       "DatetimeIndex(['2011-01-03 00:00:00', '2018-04-13 00:00:00',\n",
       "               '2018-03-01 07:30:00'],\n",
       "              dtype='datetime64[ns]', freq=None)"
      ]
     },
     "execution_count": 278,
     "metadata": {},
     "output_type": "execute_result"
    }
   ],
   "source": [
    "dti = pd.to_datetime(['2011-01-03',      # from string\n",
    "                date(2018,4,13),        # from date\n",
    "                datetime(2018,3,1,7,30)]# from datetime\n",
    "              )\n",
    "dti"
   ]
  },
  {
   "cell_type": "code",
   "execution_count": 279,
   "metadata": {},
   "outputs": [
    {
     "data": {
      "text/plain": [
       "Timestamp('2018-04-13 00:00:00')"
      ]
     },
     "execution_count": 279,
     "metadata": {},
     "output_type": "execute_result"
    }
   ],
   "source": [
    "dti[1]"
   ]
  },
  {
   "cell_type": "markdown",
   "metadata": {},
   "source": [
    "### Instance Method"
   ]
  },
  {
   "cell_type": "markdown",
   "metadata": {},
   "source": [
    "#### Convert to datetime.datetime \n",
    "Use **```to_pydatetime```** to convert into python standard datetime object"
   ]
  },
  {
   "cell_type": "code",
   "execution_count": 280,
   "metadata": {},
   "outputs": [
    {
     "data": {
      "text/plain": [
       "array([datetime.datetime(2011, 1, 3, 0, 0),\n",
       "       datetime.datetime(2018, 4, 13, 0, 0),\n",
       "       datetime.datetime(2018, 3, 1, 7, 30)], dtype=object)"
      ]
     },
     "execution_count": 280,
     "metadata": {},
     "output_type": "execute_result"
    }
   ],
   "source": [
    "dti.to_pydatetime()"
   ]
  },
  {
   "cell_type": "markdown",
   "metadata": {},
   "source": [
    "#### Convert to Series ```to_series```\n",
    "This creates **index and data** with the same value"
   ]
  },
  {
   "cell_type": "code",
   "execution_count": 281,
   "metadata": {},
   "outputs": [
    {
     "name": "stdout",
     "output_type": "stream",
     "text": [
      "2018-02-28   2018-02-28\n",
      "2018-03-31   2018-03-31\n",
      "2018-04-30   2018-04-30\n",
      "2018-05-31   2018-05-31\n",
      "Freq: M, dtype: datetime64[ns]\n"
     ]
    }
   ],
   "source": [
    "dti = pd.date_range('2018-02', periods=4, freq='M')\n",
    "dts = dti.to_series()\n",
    "print( dts)"
   ]
  },
  {
   "cell_type": "code",
   "execution_count": null,
   "metadata": {},
   "outputs": [],
   "source": []
  },
  {
   "cell_type": "markdown",
   "metadata": {},
   "source": [
    "#### Convert to DataFrame ```to_frame()```\n",
    "This convert to **single column** dataframe with index as the same value"
   ]
  },
  {
   "cell_type": "code",
   "execution_count": 282,
   "metadata": {},
   "outputs": [
    {
     "data": {
      "text/plain": [
       "                    0\n",
       "2018-02-28 2018-02-28\n",
       "2018-03-31 2018-03-31\n",
       "2018-04-30 2018-04-30\n",
       "2018-05-31 2018-05-31"
      ]
     },
     "execution_count": 282,
     "metadata": {},
     "output_type": "execute_result"
    }
   ],
   "source": [
    "dtf = dti.to_frame()\n",
    "dtf"
   ]
  },
  {
   "cell_type": "code",
   "execution_count": 283,
   "metadata": {},
   "outputs": [
    {
     "name": "stdout",
     "output_type": "stream",
     "text": [
      "<class 'pandas.core.frame.DataFrame'>\n",
      "DatetimeIndex: 4 entries, 2018-02-28 to 2018-05-31\n",
      "Freq: M\n",
      "Data columns (total 1 columns):\n",
      "0    4 non-null datetime64[ns]\n",
      "dtypes: datetime64[ns](1)\n",
      "memory usage: 64.0 bytes\n"
     ]
    }
   ],
   "source": [
    "dtf.info()"
   ]
  },
  {
   "cell_type": "code",
   "execution_count": null,
   "metadata": {},
   "outputs": [],
   "source": []
  },
  {
   "cell_type": "markdown",
   "metadata": {},
   "source": [
    "### Properties"
   ]
  },
  {
   "cell_type": "code",
   "execution_count": 284,
   "metadata": {},
   "outputs": [],
   "source": [
    "dti = pd.date_range('2018-02', periods=4, freq='D')"
   ]
  },
  {
   "cell_type": "code",
   "execution_count": 285,
   "metadata": {},
   "outputs": [
    {
     "name": "stdout",
     "output_type": "stream",
     "text": [
      "Int64Index([3, 4, 5, 6], dtype='int64')\n",
      "Int64Index([2, 2, 2, 2], dtype='int64')\n"
     ]
    }
   ],
   "source": [
    "print( dti.weekday )\n",
    "print( dti.month   )"
   ]
  },
  {
   "cell_type": "code",
   "execution_count": null,
   "metadata": {},
   "outputs": [],
   "source": []
  },
  {
   "cell_type": "code",
   "execution_count": null,
   "metadata": {},
   "outputs": [],
   "source": []
  }
 ],
 "metadata": {
  "kernelspec": {
   "display_name": "Python 3",
   "language": "python",
   "name": "python3"
  },
  "language_info": {
   "codemirror_mode": {
    "name": "ipython",
    "version": 3
   },
   "file_extension": ".py",
   "mimetype": "text/x-python",
   "name": "python",
   "nbconvert_exporter": "python",
   "pygments_lexer": "ipython3",
   "version": "3.7.1"
  },
  "toc": {
   "base_numbering": 1,
   "nav_menu": {},
   "number_sections": true,
   "sideBar": true,
   "skip_h1_title": false,
   "title_cell": "Table of Contents",
   "title_sidebar": "Contents",
   "toc_cell": false,
   "toc_position": {
    "height": "927px",
    "left": "0px",
    "right": "1035.6px",
    "top": "110px",
    "width": "332.535px"
   },
   "toc_section_display": "block",
   "toc_window_display": true
  },
  "toc-autonumbering": true,
  "toc-showcode": false,
  "toc-showtags": false,
  "varInspector": {
   "cols": {
    "lenName": 16,
    "lenType": 16,
    "lenVar": 40
   },
   "kernels_config": {
    "python": {
     "delete_cmd_postfix": "",
     "delete_cmd_prefix": "del ",
     "library": "var_list.py",
     "varRefreshCmd": "print(var_dic_list())"
    },
    "r": {
     "delete_cmd_postfix": ") ",
     "delete_cmd_prefix": "rm(",
     "library": "var_list.r",
     "varRefreshCmd": "cat(var_dic_list()) "
    }
   },
   "types_to_exclude": [
    "module",
    "function",
    "builtin_function_or_method",
    "instance",
    "_Feature"
   ],
   "window_display": false
  }
 },
 "nbformat": 4,
 "nbformat_minor": 2
}
