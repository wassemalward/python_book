{
 "cells": [
  {
   "cell_type": "markdown",
   "metadata": {},
   "source": [
    "# Environment Setup"
   ]
  },
  {
   "cell_type": "markdown",
   "metadata": {},
   "source": [
    "## Notebook Setup"
   ]
  },
  {
   "cell_type": "code",
   "execution_count": 111,
   "metadata": {},
   "outputs": [
    {
     "data": {
      "text/html": [
       "<style>.container { width:75% !important; margin-left:350px; }</style>"
      ],
      "text/plain": [
       "<IPython.core.display.HTML object>"
      ]
     },
     "metadata": {},
     "output_type": "display_data"
    }
   ],
   "source": [
    "from IPython.core.display import display, HTML\n",
    "display(HTML(\"<style>.container { width:75% !important; margin-left:350px; }</style>\"))"
   ]
  },
  {
   "cell_type": "markdown",
   "metadata": {},
   "source": [
    "## Most Common Libraries"
   ]
  },
  {
   "cell_type": "code",
   "execution_count": 2,
   "metadata": {},
   "outputs": [],
   "source": [
    "import numpy as np\n",
    "import pandas as pd\n",
    "import datetime as dt\n",
    "\n",
    "import matplotlib\n",
    "import matplotlib.pyplot as plt\n",
    "\n",
    "#from plydata import define, query, select, group_by, summarize, arrange, head, rename\n",
    "#import plotnine\n",
    "#from plotnine import *"
   ]
  },
  {
   "cell_type": "markdown",
   "metadata": {},
   "source": [
    "### numpy\n",
    "- large multi-dimensional array and matrices  \n",
    "- High level mathematical funcitons to operate on them \n",
    "- Efficient array computation, modeled after matlab  \n",
    "- Support vectorized array math functions (built on C, hence faster than python for loop and list)  \n"
   ]
  },
  {
   "cell_type": "markdown",
   "metadata": {},
   "source": [
    "### scipy\n",
    "- Collection of mathematical algorithms and convenience functions built on the numpy extension  \n",
    "- Built uponi **numpy**"
   ]
  },
  {
   "cell_type": "markdown",
   "metadata": {},
   "source": [
    "### Pandas\n",
    "- Data manipulation and analysis \n",
    "- Offer data structures and operations for manipulating numerical tables and time series  \n",
    "- Good for analyzing tabular data  \n",
    "- Use for exploratory data analysis, data pre-processing, statistics and visualization\n",
    "- Built upon **numpy**"
   ]
  },
  {
   "cell_type": "markdown",
   "metadata": {},
   "source": [
    "### scikit-learn\n",
    "- Machine learning functions  \n",
    "- Built on top of scipy"
   ]
  },
  {
   "cell_type": "markdown",
   "metadata": {},
   "source": [
    "### matplotlib\n",
    "- Data Visualization"
   ]
  },
  {
   "cell_type": "markdown",
   "metadata": {},
   "source": [
    "## Magic Functions"
   ]
  },
  {
   "cell_type": "markdown",
   "metadata": {},
   "source": [
    "- IPython has a set of predefined ‘magic functions’ that you can call with a command line style syntax  \n",
    "- There are two types of magics:  \n",
    "    - **Line Magic** : prefix with %  \n",
    "    Work much like OS command-line calls: they get as an argument the rest of the line, where arguments are passed without parentheses or quotes. Lines magics can return results and can be used in the right hand side of an assignment  \n",
    "    - **Cell Magic**  : prefix with %%  \n",
    "    They are functions that get as an argument not only the rest of the line, but also the lines below it in a separate argument."
   ]
  },
  {
   "cell_type": "markdown",
   "metadata": {},
   "source": [
    "### List of Magic "
   ]
  },
  {
   "cell_type": "code",
   "execution_count": 82,
   "metadata": {},
   "outputs": [
    {
     "data": {
      "application/json": {
       "cell": {
        "!": "OSMagics",
        "HTML": "Other",
        "SVG": "Other",
        "bash": "Other",
        "capture": "ExecutionMagics",
        "cmd": "Other",
        "debug": "ExecutionMagics",
        "file": "Other",
        "html": "DisplayMagics",
        "javascript": "DisplayMagics",
        "js": "DisplayMagics",
        "latex": "DisplayMagics",
        "markdown": "DisplayMagics",
        "perl": "Other",
        "prun": "ExecutionMagics",
        "pypy": "Other",
        "python": "Other",
        "python2": "Other",
        "python3": "Other",
        "ruby": "Other",
        "script": "ScriptMagics",
        "sh": "Other",
        "svg": "DisplayMagics",
        "sx": "OSMagics",
        "system": "OSMagics",
        "time": "ExecutionMagics",
        "timeit": "ExecutionMagics",
        "writefile": "OSMagics"
       },
       "line": {
        "alias": "OSMagics",
        "alias_magic": "BasicMagics",
        "autocall": "AutoMagics",
        "automagic": "AutoMagics",
        "autosave": "KernelMagics",
        "bookmark": "OSMagics",
        "cd": "OSMagics",
        "clear": "KernelMagics",
        "cls": "KernelMagics",
        "colors": "BasicMagics",
        "config": "ConfigMagics",
        "connect_info": "KernelMagics",
        "copy": "Other",
        "ddir": "Other",
        "debug": "ExecutionMagics",
        "dhist": "OSMagics",
        "dirs": "OSMagics",
        "doctest_mode": "BasicMagics",
        "echo": "Other",
        "ed": "Other",
        "edit": "KernelMagics",
        "env": "OSMagics",
        "gui": "BasicMagics",
        "hist": "Other",
        "history": "HistoryMagics",
        "killbgscripts": "ScriptMagics",
        "ldir": "Other",
        "less": "KernelMagics",
        "load": "CodeMagics",
        "load_ext": "ExtensionMagics",
        "loadpy": "CodeMagics",
        "logoff": "LoggingMagics",
        "logon": "LoggingMagics",
        "logstart": "LoggingMagics",
        "logstate": "LoggingMagics",
        "logstop": "LoggingMagics",
        "ls": "Other",
        "lsmagic": "BasicMagics",
        "macro": "ExecutionMagics",
        "magic": "BasicMagics",
        "matplotlib": "PylabMagics",
        "mkdir": "Other",
        "more": "KernelMagics",
        "notebook": "BasicMagics",
        "page": "BasicMagics",
        "pastebin": "CodeMagics",
        "pdb": "ExecutionMagics",
        "pdef": "NamespaceMagics",
        "pdoc": "NamespaceMagics",
        "pfile": "NamespaceMagics",
        "pinfo": "NamespaceMagics",
        "pinfo2": "NamespaceMagics",
        "pip": "BasicMagics",
        "popd": "OSMagics",
        "pprint": "BasicMagics",
        "precision": "BasicMagics",
        "profile": "BasicMagics",
        "prun": "ExecutionMagics",
        "psearch": "NamespaceMagics",
        "psource": "NamespaceMagics",
        "pushd": "OSMagics",
        "pwd": "OSMagics",
        "pycat": "OSMagics",
        "pylab": "PylabMagics",
        "qtconsole": "KernelMagics",
        "quickref": "BasicMagics",
        "recall": "HistoryMagics",
        "rehashx": "OSMagics",
        "reload_ext": "ExtensionMagics",
        "ren": "Other",
        "rep": "Other",
        "rerun": "HistoryMagics",
        "reset": "NamespaceMagics",
        "reset_selective": "NamespaceMagics",
        "rmdir": "Other",
        "run": "ExecutionMagics",
        "save": "CodeMagics",
        "sc": "OSMagics",
        "set_env": "OSMagics",
        "store": "StoreMagics",
        "sx": "OSMagics",
        "system": "OSMagics",
        "tb": "ExecutionMagics",
        "time": "ExecutionMagics",
        "timeit": "ExecutionMagics",
        "unalias": "OSMagics",
        "unload_ext": "ExtensionMagics",
        "who": "NamespaceMagics",
        "who_ls": "NamespaceMagics",
        "whos": "NamespaceMagics",
        "xdel": "NamespaceMagics",
        "xmode": "BasicMagics"
       }
      },
      "text/plain": [
       "Available line magics:\n",
       "%alias  %alias_magic  %autocall  %automagic  %autosave  %bookmark  %cd  %clear  %cls  %colors  %config  %connect_info  %copy  %ddir  %debug  %dhist  %dirs  %doctest_mode  %echo  %ed  %edit  %env  %gui  %hist  %history  %killbgscripts  %ldir  %less  %load  %load_ext  %loadpy  %logoff  %logon  %logstart  %logstate  %logstop  %ls  %lsmagic  %macro  %magic  %matplotlib  %mkdir  %more  %notebook  %page  %pastebin  %pdb  %pdef  %pdoc  %pfile  %pinfo  %pinfo2  %popd  %pprint  %precision  %profile  %prun  %psearch  %psource  %pushd  %pwd  %pycat  %pylab  %qtconsole  %quickref  %recall  %rehashx  %reload_ext  %ren  %rep  %rerun  %reset  %reset_selective  %rmdir  %run  %save  %sc  %set_env  %store  %sx  %system  %tb  %time  %timeit  %unalias  %unload_ext  %who  %who_ls  %whos  %xdel  %xmode\n",
       "\n",
       "Available cell magics:\n",
       "%%!  %%HTML  %%SVG  %%bash  %%capture  %%cmd  %%debug  %%file  %%html  %%javascript  %%js  %%latex  %%markdown  %%perl  %%prun  %%pypy  %%python  %%python2  %%python3  %%ruby  %%script  %%sh  %%svg  %%sx  %%system  %%time  %%timeit  %%writefile\n",
       "\n",
       "Automagic is ON, % prefix IS NOT needed for line magics."
      ]
     },
     "execution_count": 82,
     "metadata": {},
     "output_type": "execute_result"
    }
   ],
   "source": [
    "%lsmagic"
   ]
  },
  {
   "cell_type": "markdown",
   "metadata": {},
   "source": [
    "### Line Magic\n",
    "Execute magic on each line"
   ]
  },
  {
   "cell_type": "markdown",
   "metadata": {},
   "source": [
    "#### %timeit\n",
    "- Run the line for default 7 times (use -r to specify)\n",
    "- Each **run** has default 100,000,000 loops (use -n to specify)"
   ]
  },
  {
   "cell_type": "code",
   "execution_count": 83,
   "metadata": {},
   "outputs": [
    {
     "name": "stdout",
     "output_type": "stream",
     "text": [
      "36.4 ns ± 0 ns per loop (mean ± std. dev. of 2 runs, 100 loops each)\n"
     ]
    }
   ],
   "source": [
    "%timeit -r 2 -n 100 3+1000/0.25*100"
   ]
  },
  {
   "cell_type": "markdown",
   "metadata": {},
   "source": [
    "#### %matplotlib\n",
    "Output graph inline to frontend (Jupyter Notebook). Therefore is stored in the Notebook document"
   ]
  },
  {
   "cell_type": "code",
   "execution_count": 84,
   "metadata": {},
   "outputs": [],
   "source": [
    "%matplotlib inline"
   ]
  },
  {
   "cell_type": "markdown",
   "metadata": {},
   "source": [
    "#### %who\n",
    "- Analyse variables of global scope  \n",
    "- Specify optional type to filter the variables"
   ]
  },
  {
   "cell_type": "code",
   "execution_count": 85,
   "metadata": {},
   "outputs": [
    {
     "data": {
      "text/plain": [
       "int"
      ]
     },
     "execution_count": 85,
     "metadata": {},
     "output_type": "execute_result"
    }
   ],
   "source": [
    "a = 1\n",
    "type(a)"
   ]
  },
  {
   "cell_type": "code",
   "execution_count": 86,
   "metadata": {},
   "outputs": [
    {
     "name": "stdout",
     "output_type": "stream",
     "text": [
      "a\t \n"
     ]
    }
   ],
   "source": [
    "%who int"
   ]
  },
  {
   "cell_type": "code",
   "execution_count": 87,
   "metadata": {},
   "outputs": [
    {
     "name": "stdout",
     "output_type": "stream",
     "text": [
      "HTML\t NamespaceMagics\t a\t aes\t annotate\t arrange\t arrow\t as_labeller\t coord_cartesian\t \n",
      "coord_equal\t coord_fixed\t coord_flip\t coord_trans\t define\t display\t dt\t element_blank\t element_line\t \n",
      "element_rect\t element_text\t expand_limits\t facet_grid\t facet_null\t facet_wrap\t geom_abline\t geom_area\t geom_bar\t \n",
      "geom_bin2d\t geom_blank\t geom_boxplot\t geom_col\t geom_count\t geom_crossbar\t geom_density\t geom_dotplot\t geom_errorbar\t \n",
      "geom_errorbarh\t geom_freqpoly\t geom_histogram\t geom_hline\t geom_jitter\t geom_label\t geom_line\t geom_linerange\t geom_path\t \n",
      "geom_point\t geom_pointrange\t geom_polygon\t geom_qq\t geom_quantile\t geom_rect\t geom_ribbon\t geom_rug\t geom_segment\t \n",
      "geom_smooth\t geom_spoke\t geom_step\t geom_text\t geom_tile\t geom_violin\t geom_vline\t get_ipython\t getsizeof\t \n",
      "ggplot\t ggsave\t ggtitle\t group_by\t guide_colorbar\t guide_colourbar\t guide_legend\t guides\t head\t \n",
      "json\t label_both\t label_context\t label_value\t labeller\t labs\t lims\t matplotlib\t np\t \n",
      "pd\t plotnine\t plt\t position_dodge\t position_fill\t position_identity\t position_jitter\t position_jitterdodge\t position_nudge\t \n",
      "position_stack\t qplot\t query\t rename\t scale_alpha\t scale_alpha_continuous\t scale_alpha_datetime\t scale_alpha_discrete\t scale_alpha_identity\t \n",
      "scale_alpha_manual\t scale_color_brewer\t scale_color_cmap\t scale_color_continuous\t scale_color_datetime\t scale_color_desaturate\t scale_color_discrete\t scale_color_distiller\t scale_color_gradient\t \n",
      "scale_color_gradient2\t scale_color_gradientn\t scale_color_gray\t scale_color_grey\t scale_color_hue\t scale_color_identity\t scale_color_manual\t scale_colour_brewer\t scale_colour_cmap\t \n",
      "scale_colour_continuous\t scale_colour_datetime\t scale_colour_desaturate\t scale_colour_discrete\t scale_colour_distiller\t scale_colour_gradient\t scale_colour_gradient2\t scale_colour_gradientn\t scale_colour_gray\t \n",
      "scale_colour_grey\t scale_colour_hue\t scale_colour_identity\t scale_colour_manual\t scale_fill_brewer\t scale_fill_cmap\t scale_fill_continuous\t scale_fill_datetime\t scale_fill_desaturate\t \n",
      "scale_fill_discrete\t scale_fill_distiller\t scale_fill_gradient\t scale_fill_gradient2\t scale_fill_gradientn\t scale_fill_gray\t scale_fill_grey\t scale_fill_hue\t scale_fill_identity\t \n",
      "scale_fill_manual\t scale_linetype\t scale_linetype_continuous\t scale_linetype_discrete\t scale_linetype_identity\t scale_linetype_manual\t scale_shape\t scale_shape_continuous\t scale_shape_discrete\t \n",
      "scale_shape_identity\t scale_shape_manual\t scale_size\t scale_size_area\t scale_size_continuous\t scale_size_datetime\t scale_size_discrete\t scale_size_identity\t scale_size_manual\t \n",
      "scale_size_radius\t scale_stroke\t scale_stroke_continuous\t scale_stroke_discrete\t scale_x_continuous\t scale_x_date\t scale_x_datetime\t scale_x_discrete\t scale_x_log10\t \n",
      "scale_x_reverse\t scale_x_sqrt\t scale_x_timedelta\t scale_y_continuous\t scale_y_date\t scale_y_datetime\t scale_y_discrete\t scale_y_log10\t scale_y_reverse\t \n",
      "scale_y_sqrt\t scale_y_timedelta\t select\t stat_bin\t stat_bin2d\t stat_bin_2d\t stat_bindot\t stat_boxplot\t stat_count\t \n",
      "stat_density\t stat_ecdf\t stat_function\t stat_identity\t stat_qq\t stat_quantile\t stat_smooth\t stat_sum\t stat_summary\t \n",
      "stat_summary_bin\t stat_unique\t stat_ydensity\t summarize\t theme\t theme_538\t theme_bw\t theme_classic\t theme_dark\t \n",
      "theme_get\t theme_gray\t theme_grey\t theme_light\t theme_linedraw\t theme_matplotlib\t theme_minimal\t theme_seaborn\t theme_set\t \n",
      "theme_update\t theme_void\t theme_xkcd\t time\t var_dic_list\t watermark\t xlab\t xlim\t ylab\t \n",
      "ylim\t \n"
     ]
    }
   ],
   "source": [
    "%who"
   ]
  },
  {
   "cell_type": "markdown",
   "metadata": {},
   "source": [
    "### Cell Magic\n",
    "Execute magic on the entire cell"
   ]
  },
  {
   "cell_type": "markdown",
   "metadata": {},
   "source": [
    "#### %%timeit\n",
    "- Run the line for default 7 times (use -r to specify)\n",
    "- Each **run** has default 100,000,000 loops (use -n to specify)"
   ]
  },
  {
   "cell_type": "code",
   "execution_count": 88,
   "metadata": {},
   "outputs": [
    {
     "name": "stdout",
     "output_type": "stream",
     "text": [
      "1.25 s ± 0 ns per loop (mean ± std. dev. of 1 run, 10 loops each)\n"
     ]
    }
   ],
   "source": [
    "%%timeit -r 1 -n 10\n",
    "import time\n",
    "for _ in range(100):\n",
    "    time.sleep(0.01)# sleep for 0.01 seconds"
   ]
  },
  {
   "cell_type": "markdown",
   "metadata": {},
   "source": [
    "## Package Management\n",
    "### Conda"
   ]
  },
  {
   "cell_type": "markdown",
   "metadata": {},
   "source": [
    "#### Conda Environment"
   ]
  },
  {
   "cell_type": "code",
   "execution_count": 89,
   "metadata": {},
   "outputs": [
    {
     "name": "stdout",
     "output_type": "stream",
     "text": [
      "\n",
      "     active environment : base\n",
      "    active env location : C:\\ProgramData\\Anaconda3\n",
      "            shell level : 1\n",
      "       user config file : C:\\Users\\YKS-NIC\\.condarc\n",
      " populated config files : C:\\Users\\YKS-NIC\\.condarc\n",
      "          conda version : 4.5.4\n",
      "    conda-build version : 3.10.7\n",
      "         python version : 3.6.5.final.0\n",
      "       base environment : C:\\ProgramData\\Anaconda3  (read only)\n",
      "           channel URLs : https://repo.anaconda.com/pkgs/main/win-64\n",
      "                          https://repo.anaconda.com/pkgs/main/noarch\n",
      "                          https://repo.anaconda.com/pkgs/free/win-64\n",
      "                          https://repo.anaconda.com/pkgs/free/noarch\n",
      "                          https://repo.anaconda.com/pkgs/r/win-64\n",
      "                          https://repo.anaconda.com/pkgs/r/noarch\n",
      "                          https://repo.anaconda.com/pkgs/pro/win-64\n",
      "                          https://repo.anaconda.com/pkgs/pro/noarch\n",
      "                          https://repo.anaconda.com/pkgs/msys2/win-64\n",
      "                          https://repo.anaconda.com/pkgs/msys2/noarch\n",
      "          package cache : C:\\ProgramData\\Anaconda3\\pkgs\n",
      "                          C:\\Users\\YKS-NIC\\AppData\\Local\\conda\\conda\\pkgs\n",
      "       envs directories : C:\\Users\\YKS-NIC\\AppData\\Local\\conda\\conda\\envs\n",
      "                          C:\\ProgramData\\Anaconda3\\envs\n",
      "                          C:\\Users\\YKS-NIC\\.conda\\envs\n",
      "               platform : win-64\n",
      "             user-agent : conda/4.5.4 requests/2.18.4 CPython/3.6.5 Windows/10 Windows/10.0.17134\n",
      "          administrator : False\n",
      "             netrc file : None\n",
      "           offline mode : False\n",
      "\n"
     ]
    }
   ],
   "source": [
    "!conda info"
   ]
  },
  {
   "cell_type": "markdown",
   "metadata": {},
   "source": [
    "#### Package Version"
   ]
  },
  {
   "cell_type": "code",
   "execution_count": 90,
   "metadata": {},
   "outputs": [
    {
     "name": "stdout",
     "output_type": "stream",
     "text": [
      "# packages in environment at C:\\ProgramData\\Anaconda3:\n",
      "#\n",
      "# Name                    Version                   Build  Channel\n",
      "_ipyw_jlab_nb_ext_conf    0.1.0            py36he6757f0_0  \n",
      "alabaster                 0.7.10           py36hcd07829_0  \n",
      "anaconda                  custom           py36h363777c_0  \n",
      "anaconda-client           1.6.14                   py36_0  \n",
      "anaconda-navigator        1.8.7                    py36_0  \n",
      "anaconda-project          0.8.2            py36hfad2e28_0  \n",
      "asn1crypto                0.22.0           py36h8e79faa_1  \n",
      "astroid                   1.5.3            py36h9d85297_0  \n",
      "astropy                   2.0.2            py36h06391c4_4  \n",
      "babel                     2.5.0            py36h35444c1_0  \n",
      "backcall                  0.1.0                    py36_0  \n",
      "backports                 1.0              py36h81696a8_1  \n",
      "backports.shutil_get_terminal_size 1.0.0            py36h79ab834_2  \n",
      "beautifulsoup4            4.6.0            py36hd4cc5e8_1  \n",
      "bitarray                  0.8.1            py36h6af124b_0  \n",
      "bkcharts                  0.2              py36h7e685f7_0  \n",
      "blaze                     0.11.3           py36h8a29ca5_0  \n",
      "bleach                    2.0.0            py36h0a7e3d6_0  \n",
      "bokeh                     0.12.16                  py36_0  \n",
      "boto                      2.48.0           py36h1a776d2_1  \n",
      "bottleneck                1.2.1            py36hd119dfa_0  \n",
      "bzip2                     1.0.6                    vc14_1  [vc14]  conda-forge\n",
      "ca-certificates           2018.03.07                    0  \n",
      "cachecontrol              0.12.3           py36hfe50d7b_0  \n",
      "certifi                   2018.4.16                py36_0  \n",
      "cffi                      1.10.0           py36hae3d1b5_1  \n",
      "chardet                   3.0.4            py36h420ce6e_1  \n",
      "click                     6.7              py36hec8c647_0  \n",
      "cloudpickle               0.4.0            py36h639d8dc_0  \n",
      "clyent                    1.2.2            py36hb10d595_1  \n",
      "colorama                  0.3.9            py36h029ae33_0  \n",
      "comtypes                  1.1.2            py36heb9b3d1_0  \n",
      "conda                     4.5.4                    py36_0  \n",
      "conda-build               3.10.7                   py36_0  \n",
      "conda-env                 2.6.0                h36134e3_1  \n",
      "conda-verify              2.0.0            py36h065de53_0  \n",
      "console_shortcut          0.1.1                h6bb2dd7_3  \n",
      "contextlib2               0.5.5            py36he5d52c0_0  \n",
      "cryptography              2.0.3            py36h123decb_1  \n",
      "curl                      7.55.1           vc14hdaba4a4_3  [vc14]\n",
      "cycler                    0.10.0           py36h009560c_0  \n",
      "cython                    0.26.1           py36h18049ac_0  \n",
      "cytoolz                   0.8.2            py36h547e66e_0  \n",
      "dask                      0.15.3           py36h396fcb9_0  \n",
      "dask-core                 0.15.3           py36hd651449_0  \n",
      "datashape                 0.5.4            py36h5770b85_0  \n",
      "decorator                 4.1.2            py36he63a57b_0  \n",
      "distlib                   0.2.5            py36h51371be_0  \n",
      "distributed               1.19.1           py36h8504682_0  \n",
      "docutils                  0.14             py36h6012d8f_0  \n",
      "entrypoints               0.2.3            py36hfd66bb0_2  \n",
      "et_xmlfile                1.0.1            py36h3d2d736_0  \n",
      "fastcache                 1.0.2            py36hffdae1b_0  \n",
      "filelock                  2.0.12           py36hd7ddd41_0  \n",
      "flask                     0.12.2           py36h98b5e8f_0  \n",
      "flask-cors                3.0.3            py36h8a3855d_0  \n",
      "freetype                  2.8.1                    vc14_0  [vc14]  conda-forge\n",
      "get_terminal_size         1.0.0                h38e98db_0  \n",
      "gevent                    1.2.2            py36h342a76c_0  \n",
      "glob2                     0.5              py36h11cc1bd_1  \n",
      "greenlet                  0.4.12           py36ha00ad21_0  \n",
      "h5py                      2.7.0            py36hfbe0a52_1  \n",
      "hdf5                      1.10.1           vc14hb361328_0  [vc14]\n",
      "heapdict                  1.0.0            py36h21fa5f4_0  \n",
      "html5lib                  0.999999999      py36ha09b1f3_0  \n",
      "icc_rt                    2017.0.4             h97af966_0  \n",
      "icu                       58.2                     vc14_0  [vc14]  conda-forge\n",
      "idna                      2.6              py36h148d497_1  \n",
      "imageio                   2.2.0            py36had6c2d2_0  \n",
      "imagesize                 0.7.1            py36he29f638_0  \n",
      "intel-openmp              2018.0.0             hcd89f80_7  \n",
      "ipykernel                 4.6.1            py36hbb77b34_0  \n",
      "ipython                   6.4.0                    py36_0  \n",
      "ipython_genutils          0.2.0            py36h3c5d0ee_0  \n",
      "ipywidgets                7.2.1                    py36_0  \n",
      "isort                     4.2.15           py36h6198cc5_0  \n",
      "itsdangerous              0.24             py36hb6c5a24_1  \n",
      "jdcal                     1.3              py36h64a5255_0  \n",
      "jedi                      0.10.2           py36hed927a0_0  \n",
      "jinja2                    2.9.6            py36h10aa3a0_1  \n",
      "jpeg                      9b                       vc14_2  [vc14]  conda-forge\n",
      "jsonschema                2.6.0            py36h7636477_0  \n",
      "jupyter                   1.0.0            py36h422fd7e_2  \n",
      "jupyter_client            5.2.2                    py36_0  \n",
      "jupyter_console           5.2.0            py36h6d89b47_1  \n",
      "jupyter_contrib_core      0.3.3                    py36_1    conda-forge\n",
      "jupyter_contrib_nbextensions 0.3.3                    py36_0    conda-forge\n",
      "jupyter_core              4.4.0            py36h56e9d50_0  \n",
      "jupyter_highlight_selected_word 0.1.0                    py36_0    conda-forge\n",
      "jupyter_latex_envs        1.3.8.2                  py36_1    conda-forge\n",
      "jupyter_nbextensions_configurator 0.4.0                    py36_0    conda-forge\n",
      "jupyterlab                0.32.1                   py36_0  \n",
      "jupyterlab_launcher       0.10.2                   py36_0  \n",
      "lazy-object-proxy         1.3.1            py36hd1c21d2_0  \n",
      "libiconv                  1.14                     vc14_4  [vc14]  conda-forge\n",
      "libpng                    1.6.34                   vc14_0  [vc14]  conda-forge\n",
      "libsodium                 1.0.16               h9d3ae62_0  \n",
      "libssh2                   1.8.0            vc14hcf584a9_2  [vc14]\n",
      "libtiff                   4.0.9                    vc14_0  [vc14]  conda-forge\n",
      "libxml2                   2.9.5                    vc14_1  [vc14]  conda-forge\n",
      "libxslt                   1.1.32                   vc14_0  [vc14]  conda-forge\n",
      "llvmlite                  0.20.0                   py36_0  \n",
      "locket                    0.2.0            py36hfed976d_1  \n",
      "lockfile                  0.12.2           py36h0468280_0  \n",
      "lxml                      4.1.0            py36h0dcd83c_0  \n",
      "lzo                       2.10             vc14h0a64fa6_1  [vc14]\n",
      "m2w64-gcc-libgfortran     5.3.0                         6  \n",
      "m2w64-gcc-libs            5.3.0                         7  \n",
      "m2w64-gcc-libs-core       5.3.0                         7  \n",
      "m2w64-gmp                 6.1.0                         2  \n",
      "m2w64-libwinpthread-git   5.0.0.4634.697f757               2  \n",
      "markupsafe                1.0              py36h0e26971_1  \n",
      "matplotlib                2.1.0            py36h11b4b9c_0  \n",
      "mccabe                    0.6.1            py36hb41005a_1  \n",
      "menuinst                  1.4.10           py36h42196fb_0  \n",
      "mistune                   0.7.4            py36h4874169_0  \n",
      "mizani                    0.4.4                      py_0    conda-forge\n",
      "mkl                       2018.0.0             h36b65af_4  \n",
      "mkl-service               1.1.2            py36h57e144c_4  \n",
      "mpmath                    0.19             py36he326802_2  \n",
      "msgpack-python            0.4.8            py36h58b1e9d_0  \n",
      "msys2-conda-epoch         20160418                      1  \n",
      "multipledispatch          0.4.9            py36he44c36e_0  \n",
      "navigator-updater         0.1.0            py36h8a7b86b_0  \n",
      "nbconvert                 5.3.1            py36h8dc0fde_0  \n",
      "nbformat                  4.4.0            py36h3a5bc1b_0  \n",
      "nbmerge                   0.0.4                     <pip>\n",
      "networkx                  2.0              py36hff991e3_0  \n",
      "nltk                      3.2.4            py36hd0e0a39_0  \n",
      "nose                      1.3.7            py36h1c3779e_2  \n",
      "notebook                  5.5.0                    py36_0  \n",
      "numba                     0.35.0             np113py36_10  \n",
      "numexpr                   2.6.2            py36h7ca04dc_1  \n",
      "numpy                     1.13.3           py36ha320f96_0  \n",
      "numpydoc                  0.7.0            py36ha25429e_0  \n",
      "odo                       0.5.1            py36h7560279_0  \n",
      "olefile                   0.44             py36h0a7bdd2_0  \n",
      "openpyxl                  2.4.8            py36hf3b77f6_1  \n",
      "openssl                   1.0.2o               h8ea7d77_0  \n",
      "packaging                 16.8             py36ha0986f6_1  \n",
      "palettable                3.1.0                      py_0    conda-forge\n",
      "pandas                    0.22.0           py36h6538335_0  \n",
      "pandoc                    1.19.2.1             hb2460c7_1  \n",
      "pandocfilters             1.4.2            py36h3ef6317_1  \n",
      "partd                     0.3.8            py36hc8e763b_0  \n",
      "path.py                   10.3.1           py36h3dd8b46_0  \n",
      "pathlib2                  2.3.0            py36h7bfb78b_0  \n",
      "patsy                     0.4.1            py36h42cefec_0  \n",
      "pep8                      1.7.0            py36h0f3d67a_0  \n",
      "pickleshare               0.7.4            py36h9de030f_0  \n",
      "pillow                    4.2.1            py36hdb25ab2_0  \n",
      "pip                       9.0.1            py36hadba87b_3  \n",
      "pkginfo                   1.4.1            py36hb0f9cfa_1  \n",
      "plotnine                  0.3.0                      py_0    conda-forge\n",
      "ply                       3.10             py36h1211beb_0  \n",
      "plydata                   0.3.2                     <pip>\n",
      "progress                  1.3              py36hbeca8d3_0  \n",
      "prompt_toolkit            1.0.15           py36h60b8f86_0  \n",
      "psutil                    5.4.0            py36h4e662fb_0  \n",
      "py                        1.4.34           py36ha4aca3a_1  \n",
      "pycodestyle               2.3.1            py36h7cc55cd_0  \n",
      "pycosat                   0.6.3            py36h413d8a4_0  \n",
      "pycparser                 2.18             py36hd053e01_1  \n",
      "pycrypto                  2.6.1            py36he68e6e2_1  \n",
      "pycurl                    7.43.0           py36h086bf4c_3  \n",
      "pyflakes                  1.6.0            py36h0b975d6_0  \n",
      "pygments                  2.2.0            py36hb010967_0  \n",
      "pylint                    1.7.4            py36ha4e6ded_0  \n",
      "pyodbc                    4.0.17           py36h0006bc2_0  \n",
      "pyopenssl                 17.2.0           py36h15ca2fc_0  \n",
      "pyparsing                 2.2.0            py36h785a196_1  \n",
      "pyqt                      5.6.0            py36hb5ed885_5  \n",
      "pysocks                   1.6.7            py36h698d350_1  \n",
      "pytables                  3.4.2            py36h71138e3_2  \n",
      "pytest                    3.2.1            py36h753b05e_1  \n",
      "python                    3.6.5                h0c2934d_0  \n",
      "python-dateutil           2.6.1            py36h509ddcb_1  \n",
      "pytz                      2017.2           py36h05d413f_1  \n",
      "pywavelets                0.5.2            py36hc649158_0  \n",
      "pywin32                   221              py36h9c10281_0  \n",
      "pywinpty                  0.5.3                    py36_0  \n",
      "pyyaml                    3.12             py36h1d1928f_1  \n",
      "pyzmq                     17.0.0           py36hfa6e2cd_1  \n",
      "qt                        5.6.2                    vc14_1  [vc14]  conda-forge\n",
      "qtawesome                 0.4.4            py36h5aa48f6_0  \n",
      "qtconsole                 4.3.1            py36h99a29a9_0  \n",
      "qtpy                      1.4.2                    py36_0  \n",
      "requests                  2.18.4           py36h4371aae_1  \n",
      "rope                      0.10.5           py36hcaf5641_0  \n",
      "ruamel_yaml               0.11.14          py36h9b16331_2  \n",
      "scikit-image              0.13.0           py36h6dffa3f_1  \n",
      "scikit-learn              0.19.1           py36h53aea1b_0  \n",
      "scipy                     1.0.0            py36h1260518_0  \n",
      "seaborn                   0.8.0            py36h62cb67c_0  \n",
      "send2trash                1.4.2                    py36_0  \n",
      "setuptools                36.5.0           py36h65f9e6e_0  \n",
      "simplegeneric             0.8.1            py36heab741f_0  \n",
      "singledispatch            3.4.0.3          py36h17d0c80_0  \n",
      "sip                       4.18.1           py36h9c25514_2  \n",
      "six                       1.11.0           py36h4db2310_1  \n",
      "snowballstemmer           1.2.1            py36h763602f_0  \n",
      "sortedcollections         0.5.3            py36hbefa0ab_0  \n",
      "sortedcontainers          1.5.7            py36ha90ac20_0  \n",
      "sphinx                    1.6.3            py36h9bb690b_0  \n",
      "sphinxcontrib             1.0              py36hbbac3d2_1  \n",
      "sphinxcontrib-websupport  1.0.1            py36hb5e5916_1  \n",
      "spyder                    3.2.7                    py36_0  \n",
      "spyder-notebook           0.1.1                    py36_0    spyder-ide\n",
      "sqlalchemy                1.1.13           py36h5948d12_0  \n",
      "sqlite                    3.20.1                   vc14_2  [vc14]  conda-forge\n",
      "statsmodels               0.8.0            py36h6189b4c_0  \n",
      "sympy                     1.1.1            py36h96708e0_0  \n",
      "tblib                     1.3.2            py36h30f5020_0  \n",
      "terminado                 0.8.1                    py36_1  \n",
      "testpath                  0.3.1            py36h2698cfe_0  \n",
      "tk                        8.6.7                    vc14_0  [vc14]  conda-forge\n",
      "toolz                     0.8.2            py36he152a52_0  \n",
      "tornado                   4.5.2            py36h57f6048_0  \n",
      "traitlets                 4.3.2            py36h096827d_0  \n",
      "typing                    3.6.2            py36hb035bda_0  \n",
      "unicodecsv                0.14.1           py36h6450c06_0  \n",
      "urllib3                   1.22             py36h276f60a_0  \n",
      "vc                        14                   h2379b0c_2  \n",
      "vs2015_runtime            14.0.25123           hd4c4e62_2  \n",
      "wcwidth                   0.1.7            py36h3d5aa90_0  \n",
      "webencodings              0.5.1            py36h67c50ae_1  \n",
      "werkzeug                  0.12.2           py36h866a736_0  \n",
      "wheel                     0.29.0           py36h6ce6cde_1  \n",
      "widgetsnbextension        3.2.1                    py36_0  \n",
      "win_inet_pton             1.0.1            py36he67d7fd_1  \n",
      "win_unicode_console       0.5              py36hcdbd4b5_0  \n",
      "wincertstore              0.2              py36h7fe50ca_0  \n",
      "winpty                    0.4.3                         4  \n",
      "wrapt                     1.10.11          py36he5f5981_0  \n",
      "xlrd                      1.1.0            py36h1cb58dc_1  \n",
      "xlsxwriter                1.0.2            py36hf723b7d_0  \n",
      "xlwings                   0.11.4           py36hd3cf94d_0  \n",
      "xlwt                      1.3.0            py36h1a4751e_0  \n",
      "yaml                      0.1.7                    vc14_0  [vc14]  conda-forge\n",
      "zeromq                    4.2.5                hc6251cf_0  \n",
      "zict                      0.1.3            py36h2d8e73e_0  \n",
      "zlib                      1.2.11                   vc14_0  [vc14]  conda-forge\n"
     ]
    }
   ],
   "source": [
    "!conda list"
   ]
  },
  {
   "cell_type": "markdown",
   "metadata": {},
   "source": [
    "#### Package Installation\n",
    "Conda is recommended distribution.  \n",
    "\n",
    "To install from **official** conda channel:\n",
    "```\n",
    "conda install <package_name>  # always install latest\n",
    "conda install <package_name=version_number>\n",
    "```\n",
    "To install from **conda-forge community** channel:\n",
    "```\n",
    "conda install -c conda-forge <package_name>\n",
    "conda install -c conda-forge <package_name=version_number>\n",
    "```"
   ]
  },
  {
   "cell_type": "markdown",
   "metadata": {},
   "source": [
    "```\n",
    "# conda official channel\n",
    "conda install numpy\n",
    "conda install scipy\n",
    "conda install pandas\n",
    "conda install matpotlib\n",
    "conda install scikit-learn\n",
    "conda install seaborn\n",
    "conda install pip\n",
    "\n",
    "# conda-forge community channel\n",
    "conda install -c conda-forge plotnine\n",
    "```"
   ]
  },
  {
   "cell_type": "markdown",
   "metadata": {},
   "source": [
    "### PIP\n",
    "Use **pip** if the package is not available in conda."
   ]
  },
  {
   "cell_type": "markdown",
   "metadata": {},
   "source": [
    "#### Package Version"
   ]
  },
  {
   "cell_type": "code",
   "execution_count": 91,
   "metadata": {},
   "outputs": [
    {
     "name": "stdout",
     "output_type": "stream",
     "text": [
      "alabaster (0.7.10)\n",
      "anaconda-client (1.6.14)\n",
      "anaconda-navigator (1.8.7)\n",
      "anaconda-project (0.8.2)\n",
      "asn1crypto (0.22.0)\n",
      "astroid (1.5.3)\n",
      "astropy (2.0.2)\n",
      "babel (2.5.0)\n",
      "backcall (0.1.0)\n",
      "backports.shutil-get-terminal-size (1.0.0)\n",
      "beautifulsoup4 (4.6.0)\n",
      "bitarray (0.8.1)\n",
      "bkcharts (0.2)\n",
      "blaze (0.11.3)\n",
      "bleach (2.0.0)\n",
      "bokeh (0.12.16)\n",
      "boto (2.48.0)\n",
      "Bottleneck (1.2.1)\n",
      "CacheControl (0.12.3)\n",
      "certifi (2018.4.16)\n",
      "cffi (1.10.0)\n",
      "chardet (3.0.4)\n",
      "click (6.7)\n",
      "cloudpickle (0.4.0)\n",
      "clyent (1.2.2)\n",
      "colorama (0.3.9)\n",
      "comtypes (1.1.2)\n",
      "conda (4.5.4)\n",
      "conda-build (3.10.7)\n",
      "conda-verify (2.0.0)\n",
      "contextlib2 (0.5.5)\n",
      "cryptography (2.0.3)\n",
      "cycler (0.10.0)\n",
      "Cython (0.26.1)\n",
      "cytoolz (0.8.2)\n",
      "dask (0.15.3)\n",
      "datashape (0.5.4)\n",
      "decorator (4.1.2)\n",
      "distlib (0.2.5)\n",
      "distributed (1.19.1)\n",
      "docutils (0.14)\n",
      "entrypoints (0.2.3)\n",
      "et-xmlfile (1.0.1)\n",
      "fastcache (1.0.2)\n",
      "filelock (2.0.12)\n",
      "Flask (0.12.2)\n",
      "Flask-Cors (3.0.3)\n",
      "gevent (1.2.2)\n",
      "glob2 (0.5)\n",
      "greenlet (0.4.12)\n",
      "h5py (2.7.0)\n",
      "heapdict (1.0.0)\n",
      "html5lib (0.999999999)\n",
      "idna (2.6)\n",
      "imageio (2.2.0)\n",
      "imagesize (0.7.1)\n",
      "ipykernel (4.6.1)\n",
      "ipython (6.4.0)\n",
      "ipython-genutils (0.2.0)\n",
      "ipywidgets (7.2.1)\n",
      "isort (4.2.15)\n",
      "itsdangerous (0.24)\n",
      "jdcal (1.3)\n",
      "jedi (0.10.2)\n",
      "Jinja2 (2.9.6)\n",
      "jsonschema (2.6.0)\n",
      "jupyter-client (5.2.2)\n",
      "jupyter-console (5.2.0)\n",
      "jupyter-contrib-core (0.3.3)\n",
      "jupyter-contrib-nbextensions (0.3.3)\n",
      "jupyter-core (4.4.0)\n",
      "jupyter-highlight-selected-word (0.1.0)\n",
      "jupyter-latex-envs (1.3.8.2)\n",
      "jupyter-nbextensions-configurator (0.4.0)\n",
      "jupyterlab (0.32.1)\n",
      "jupyterlab-launcher (0.10.2)\n",
      "lazy-object-proxy (1.3.1)\n",
      "llvmlite (0.20.0)\n",
      "locket (0.2.0)\n",
      "lockfile (0.12.2)\n",
      "lxml (4.1.0)\n",
      "MarkupSafe (1.0)\n",
      "matplotlib (2.1.0)\n",
      "mccabe (0.6.1)\n",
      "menuinst (1.4.10)\n",
      "mistune (0.7.4)\n",
      "mizani (0.4.4)\n",
      "mpmath (0.19)\n",
      "msgpack-python (0.4.8)\n",
      "multipledispatch (0.4.9)\n",
      "navigator-updater (0.1.0)\n",
      "nbconvert (5.3.1)\n",
      "nbformat (4.4.0)\n",
      "nbmerge (0.0.4)\n",
      "networkx (2.0)\n",
      "nltk (3.2.4)\n",
      "nose (1.3.7)\n",
      "notebook (5.5.0)\n",
      "numba (0.35.0+10.g143f70e)\n",
      "numexpr (2.6.2)\n",
      "numpy (1.13.3)\n",
      "numpydoc (0.7.0)\n",
      "odo (0.5.1)\n",
      "olefile (0.44)\n",
      "openpyxl (2.4.8)\n",
      "packaging (16.8)\n",
      "palettable (3.1.0)\n",
      "pandas (0.22.0)\n",
      "pandocfilters (1.4.2)\n",
      "partd (0.3.8)\n",
      "path.py (10.3.1)\n",
      "pathlib2 (2.3.0)\n",
      "patsy (0.4.1)\n",
      "pep8 (1.7.0)\n",
      "pickleshare (0.7.4)\n",
      "Pillow (4.2.1)\n",
      "pip (9.0.1)\n",
      "pkginfo (1.4.1)\n",
      "plotnine (0.3.0)\n",
      "ply (3.10)\n",
      "plydata (0.3.2)\n",
      "progress (1.3)\n",
      "prompt-toolkit (1.0.15)\n",
      "psutil (5.4.0)\n",
      "py (1.4.34)\n",
      "pycodestyle (2.3.1)\n",
      "pycosat (0.6.3)\n",
      "pycparser (2.18)\n",
      "pycrypto (2.6.1)\n",
      "pycurl (7.43.0)\n",
      "pyflakes (1.6.0)\n",
      "Pygments (2.2.0)\n",
      "pylint (1.7.4)\n",
      "pyodbc (4.0.17)\n",
      "pyOpenSSL (17.2.0)\n",
      "pyparsing (2.2.0)\n",
      "PySocks (1.6.7)\n",
      "pytest (3.2.1)\n",
      "python-dateutil (2.6.1)\n",
      "pytz (2017.2)\n",
      "PyWavelets (0.5.2)\n",
      "pywin32 (221)\n",
      "pywinpty (0.5.3)\n",
      "PyYAML (3.12)\n",
      "pyzmq (17.0.0)\n",
      "QtAwesome (0.4.4)\n",
      "qtconsole (4.3.1)\n",
      "QtPy (1.4.2)\n",
      "requests (2.18.4)\n",
      "rope (0.10.5)\n",
      "ruamel-yaml (0.11.14)\n",
      "scikit-image (0.13.0)\n",
      "scikit-learn (0.19.1)\n",
      "scipy (1.0.0)\n",
      "seaborn (0.8)\n",
      "Send2Trash (1.4.2)\n",
      "setuptools (36.5.0.post20170921)\n",
      "simplegeneric (0.8.1)\n",
      "singledispatch (3.4.0.3)\n",
      "six (1.11.0)\n",
      "snowballstemmer (1.2.1)\n",
      "sortedcollections (0.5.3)\n",
      "sortedcontainers (1.5.7)\n",
      "Sphinx (1.6.3)\n",
      "sphinxcontrib-websupport (1.0.1)\n",
      "spyder (3.2.7)\n",
      "spyder-notebook (0.1.1)\n",
      "SQLAlchemy (1.1.13)\n",
      "statsmodels (0.8.0)\n",
      "sympy (1.1.1)\n",
      "tables (3.4.2)\n",
      "tblib (1.3.2)\n",
      "terminado (0.8.1)\n",
      "testpath (0.3.1)\n",
      "toolz (0.8.2)\n",
      "tornado (4.5.2)\n",
      "traitlets (4.3.2)\n",
      "typing (3.6.2)\n",
      "unicodecsv (0.14.1)\n",
      "urllib3 (1.22)\n",
      "wcwidth (0.1.7)\n",
      "webencodings (0.5.1)\n",
      "Werkzeug (0.12.2)\n",
      "wheel (0.29.0)\n",
      "widgetsnbextension (3.2.1)\n",
      "win-inet-pton (1.0.1)\n",
      "win-unicode-console (0.5)\n",
      "wincertstore (0.2)\n",
      "wrapt (1.10.11)\n",
      "xlrd (1.1.0)\n",
      "XlsxWriter (1.0.2)\n",
      "xlwings (0.11.4)\n",
      "xlwt (1.3.0)\n",
      "zict (0.1.3)\n"
     ]
    },
    {
     "name": "stderr",
     "output_type": "stream",
     "text": [
      "DEPRECATION: The default format will switch to columns in the future. You can use --format=(legacy|columns) (or define a format=(legacy|columns) in your pip.conf under the [list] section) to disable this warning.\n",
      "You are using pip version 9.0.1, however version 10.0.1 is available.\n",
      "You should consider upgrading via the 'python -m pip install --upgrade pip' command.\n"
     ]
    }
   ],
   "source": [
    "!pip list"
   ]
  },
  {
   "cell_type": "markdown",
   "metadata": {},
   "source": [
    "#### Package Installation\n",
    "```\n",
    "pip install <package_name>\n",
    "\n",
    "pip install plydata\n",
    "```"
   ]
  },
  {
   "cell_type": "markdown",
   "metadata": {
    "heading_collapsed": true
   },
   "source": [
    "# Python Fundamental"
   ]
  },
  {
   "cell_type": "markdown",
   "metadata": {
    "hidden": true
   },
   "source": [
    "## Variable and Values\n",
    "- Every varibales in python are **objects**  \n",
    "- Every variable assginment is **reference based**, that is, each object value is the reference to memory block of data "
   ]
  },
  {
   "cell_type": "code",
   "execution_count": 92,
   "metadata": {
    "hidden": true
   },
   "outputs": [
    {
     "name": "stdout",
     "output_type": "stream",
     "text": [
      "Data of a = 123 \n",
      "Data of b = 123\n",
      "ID of a =  1990753152\n",
      "ID of b =  1990753152\n"
     ]
    }
   ],
   "source": [
    "# a,b refer to the same memory location\n",
    "a = 123\n",
    "b = a  \n",
    "print ('Data of a =',a,'\\nData of b =',b)\n",
    "print ('ID of a = ', id(a))\n",
    "print ('ID of b = ',id(b))"
   ]
  },
  {
   "cell_type": "markdown",
   "metadata": {
    "hidden": true
   },
   "source": [
    "Changing data value (using assignment) actually changed the reference value"
   ]
  },
  {
   "cell_type": "code",
   "execution_count": 93,
   "metadata": {
    "hidden": true
   },
   "outputs": [
    {
     "name": "stdout",
     "output_type": "stream",
     "text": [
      "Data of a = 456 \n",
      "Data of b = 123\n",
      "ID of a =  1761565045776\n",
      "ID of b =  1990753152\n"
     ]
    }
   ],
   "source": [
    "a = 123\n",
    "b = a\n",
    "a = 456  # reassignemnt changed a memory reference\n",
    "         # b memory reference not changed\n",
    "print ('Data of a =',a,'\\nData of b =',b)\n",
    "print ('ID of a = ', id(a))\n",
    "print ('ID of b = ',id(b))"
   ]
  },
  {
   "cell_type": "markdown",
   "metadata": {
    "heading_collapsed": true,
    "hidden": true
   },
   "source": [
    "## Assignment"
   ]
  },
  {
   "cell_type": "markdown",
   "metadata": {
    "hidden": true
   },
   "source": [
    "### Multiple Assignment"
   ]
  },
  {
   "cell_type": "code",
   "execution_count": 94,
   "metadata": {
    "hidden": true
   },
   "outputs": [
    {
     "name": "stdout",
     "output_type": "stream",
     "text": [
      "3 3\n"
     ]
    }
   ],
   "source": [
    "x = y = 3\n",
    "print (x,y)"
   ]
  },
  {
   "cell_type": "markdown",
   "metadata": {
    "hidden": true
   },
   "source": [
    "### Augmented Assignment"
   ]
  },
  {
   "cell_type": "code",
   "execution_count": 95,
   "metadata": {
    "hidden": true
   },
   "outputs": [
    {
     "name": "stdout",
     "output_type": "stream",
     "text": [
      "3\n"
     ]
    }
   ],
   "source": [
    "x = 1\n",
    "y = x + 1\n",
    "y += 1\n",
    "print (y)"
   ]
  },
  {
   "cell_type": "markdown",
   "metadata": {
    "hidden": true
   },
   "source": [
    "### Unpacking Assingment"
   ]
  },
  {
   "cell_type": "code",
   "execution_count": 96,
   "metadata": {
    "hidden": true
   },
   "outputs": [
    {
     "name": "stdout",
     "output_type": "stream",
     "text": [
      "1 3\n"
     ]
    }
   ],
   "source": [
    "x,y = 1,3\n",
    "print (x,y)"
   ]
  },
  {
   "cell_type": "markdown",
   "metadata": {},
   "source": [
    "# Built-in Data Types"
   ]
  },
  {
   "cell_type": "markdown",
   "metadata": {
    "heading_collapsed": true
   },
   "source": [
    "## Numbers"
   ]
  },
  {
   "cell_type": "markdown",
   "metadata": {
    "hidden": true
   },
   "source": [
    "### Integer"
   ]
  },
  {
   "cell_type": "code",
   "execution_count": 97,
   "metadata": {
    "hidden": true
   },
   "outputs": [
    {
     "data": {
      "text/plain": [
       "int"
      ]
     },
     "execution_count": 97,
     "metadata": {},
     "output_type": "execute_result"
    }
   ],
   "source": [
    "n = 123\n",
    "type (n)"
   ]
  },
  {
   "cell_type": "markdown",
   "metadata": {
    "hidden": true
   },
   "source": [
    "### Float"
   ]
  },
  {
   "cell_type": "code",
   "execution_count": 98,
   "metadata": {
    "hidden": true
   },
   "outputs": [
    {
     "data": {
      "text/plain": [
       "float"
      ]
     },
     "execution_count": 98,
     "metadata": {},
     "output_type": "execute_result"
    }
   ],
   "source": [
    "f = 123.4\n",
    "type (f)"
   ]
  },
  {
   "cell_type": "markdown",
   "metadata": {
    "hidden": true
   },
   "source": [
    "### Number Operators"
   ]
  },
  {
   "cell_type": "markdown",
   "metadata": {
    "hidden": true
   },
   "source": [
    "**Division** always return float"
   ]
  },
  {
   "cell_type": "code",
   "execution_count": 99,
   "metadata": {
    "hidden": true
   },
   "outputs": [
    {
     "name": "stdout",
     "output_type": "stream",
     "text": [
      "2.0\n"
     ]
    },
    {
     "data": {
      "text/plain": [
       "float"
      ]
     },
     "execution_count": 99,
     "metadata": {},
     "output_type": "execute_result"
    }
   ],
   "source": [
    "print(4/2)  # return int\n",
    "type(4/2)"
   ]
  },
  {
   "cell_type": "markdown",
   "metadata": {
    "hidden": true
   },
   "source": [
    "**Integer Division** return truncated int or float"
   ]
  },
  {
   "cell_type": "code",
   "execution_count": 100,
   "metadata": {
    "hidden": true
   },
   "outputs": [
    {
     "name": "stdout",
     "output_type": "stream",
     "text": [
      "2\n",
      "2.0\n"
     ]
    }
   ],
   "source": [
    "print (8//3)    # return int\n",
    "print (8//3.2)  # return float"
   ]
  },
  {
   "cell_type": "markdown",
   "metadata": {
    "hidden": true
   },
   "source": [
    "**Remainder** return either float or integer"
   ]
  },
  {
   "cell_type": "code",
   "execution_count": 101,
   "metadata": {
    "hidden": true
   },
   "outputs": [
    {
     "name": "stdout",
     "output_type": "stream",
     "text": [
      "2\n",
      "1.5999999999999996\n"
     ]
    }
   ],
   "source": [
    "print (8%3)    # return int\n",
    "print (8%3.2)  # return float"
   ]
  },
  {
   "cell_type": "markdown",
   "metadata": {
    "hidden": true
   },
   "source": [
    "**Power** return int or float"
   ]
  },
  {
   "cell_type": "code",
   "execution_count": 102,
   "metadata": {
    "hidden": true
   },
   "outputs": [
    {
     "name": "stdout",
     "output_type": "stream",
     "text": [
      "8\n",
      "9.261000000000001\n",
      "8.574187700290345\n"
     ]
    }
   ],
   "source": [
    "print (2**3)    # return int\n",
    "print (2.1**3)  # return float\n",
    "print (2**3.1)  # return float"
   ]
  },
  {
   "cell_type": "markdown",
   "metadata": {},
   "source": [
    "## String\n",
    "### A List of Characters\n",
    "String is an object class 'str'. It is an **ordered collection of letters**, an array of object type **str**"
   ]
  },
  {
   "cell_type": "markdown",
   "metadata": {},
   "source": [
    "### Load Library"
   ]
  },
  {
   "cell_type": "code",
   "execution_count": 204,
   "metadata": {},
   "outputs": [],
   "source": [
    "import string"
   ]
  },
  {
   "cell_type": "markdown",
   "metadata": {},
   "source": [
    "### Constructor\n",
    "#### Classical Method\n",
    "```class str(object='')```"
   ]
  },
  {
   "cell_type": "code",
   "execution_count": 279,
   "metadata": {},
   "outputs": [],
   "source": [
    "my_string = str()        ## empty string"
   ]
  },
  {
   "cell_type": "markdown",
   "metadata": {},
   "source": [
    "```class str(object=b'', encoding='utf-8', errors='strict')```"
   ]
  },
  {
   "cell_type": "code",
   "execution_count": 280,
   "metadata": {},
   "outputs": [],
   "source": [
    "my_string = str('abc')"
   ]
  },
  {
   "cell_type": "markdown",
   "metadata": {},
   "source": [
    "#### Shortcut Method"
   ]
  },
  {
   "cell_type": "code",
   "execution_count": 199,
   "metadata": {},
   "outputs": [
    {
     "name": "stdout",
     "output_type": "stream",
     "text": [
      "<class 'str'>\n",
      "3\n"
     ]
    }
   ],
   "source": [
    "my_string = 'abc'"
   ]
  },
  {
   "cell_type": "markdown",
   "metadata": {},
   "source": [
    "#### Multiline Method"
   ]
  },
  {
   "cell_type": "code",
   "execution_count": 278,
   "metadata": {},
   "outputs": [
    {
     "name": "stdout",
     "output_type": "stream",
     "text": [
      "\n",
      "This is me.\n",
      "Yong Keh Soon\n",
      "\n"
     ]
    },
    {
     "data": {
      "text/plain": [
       "'\\nThis is me.\\nYong Keh Soon\\n'"
      ]
     },
     "execution_count": 278,
     "metadata": {},
     "output_type": "execute_result"
    }
   ],
   "source": [
    "my_string = '''\n",
    "This is me.\n",
    "Yong Keh Soon\n",
    "'''\n",
    "print(my_string)\n",
    "my_string"
   ]
  },
  {
   "cell_type": "code",
   "execution_count": 295,
   "metadata": {},
   "outputs": [
    {
     "name": "stdout",
     "output_type": "stream",
     "text": [
      "\n",
      "This is me.\n",
      "Yong Keh Soon\n",
      "\n"
     ]
    },
    {
     "data": {
      "text/plain": [
       "'\\nThis is me.\\nYong Keh Soon\\n'"
      ]
     },
     "execution_count": 295,
     "metadata": {},
     "output_type": "execute_result"
    }
   ],
   "source": [
    "my_string = '''\n",
    "This is me.\n",
    "Yong Keh Soon\n",
    "'''\n",
    "print(my_string)\n",
    "my_string"
   ]
  },
  {
   "cell_type": "code",
   "execution_count": 12,
   "metadata": {},
   "outputs": [
    {
     "name": "stdout",
     "output_type": "stream",
     "text": [
      "<class 'str'>\n",
      "a b c\n",
      "5\n",
      "<class 'str'>\n"
     ]
    }
   ],
   "source": [
    "s='abcde'\n",
    "print( type(s) )\n",
    "print( s[0], s[1], s[2] )\n",
    "print( len(s) )\n",
    "print(type(s[1]))"
   ]
  },
  {
   "cell_type": "markdown",
   "metadata": {},
   "source": [
    "#### Immutability\n",
    "- String is **immuatable**. Changing its content will result in **error** \n",
    "- Changing the variable completley change the reference (for new object)"
   ]
  },
  {
   "cell_type": "code",
   "execution_count": 1,
   "metadata": {},
   "outputs": [
    {
     "name": "stdout",
     "output_type": "stream",
     "text": [
      "s :  1786613484712\n",
      "s :  1786613484544\n"
     ]
    }
   ],
   "source": [
    "s = 'abcde'\n",
    "print ('s : ', id(s))\n",
    "s = 'efgh'\n",
    "print ('s : ', id(s))"
   ]
  },
  {
   "cell_type": "code",
   "execution_count": 104,
   "metadata": {},
   "outputs": [],
   "source": [
    "## s[1] = 'z' # error"
   ]
  },
  {
   "cell_type": "markdown",
   "metadata": {},
   "source": [
    "### Class Constants"
   ]
  },
  {
   "cell_type": "markdown",
   "metadata": {},
   "source": [
    "**Letters**"
   ]
  },
  {
   "cell_type": "code",
   "execution_count": 206,
   "metadata": {},
   "outputs": [
    {
     "name": "stdout",
     "output_type": "stream",
     "text": [
      "abcdefghijklmnopqrstuvwxyzABCDEFGHIJKLMNOPQRSTUVWXYZ\n",
      "abcdefghijklmnopqrstuvwxyz\n",
      "ABCDEFGHIJKLMNOPQRSTUVWXYZ\n"
     ]
    }
   ],
   "source": [
    "print( string.ascii_letters )\n",
    "print( string.ascii_lowercase )\n",
    "print( string.ascii_uppercase )"
   ]
  },
  {
   "cell_type": "markdown",
   "metadata": {},
   "source": [
    "**Digits**"
   ]
  },
  {
   "cell_type": "code",
   "execution_count": 210,
   "metadata": {},
   "outputs": [
    {
     "data": {
      "text/plain": [
       "'0123456789'"
      ]
     },
     "execution_count": 210,
     "metadata": {},
     "output_type": "execute_result"
    }
   ],
   "source": [
    "string.digits"
   ]
  },
  {
   "cell_type": "markdown",
   "metadata": {},
   "source": [
    "**White Spaces**"
   ]
  },
  {
   "cell_type": "code",
   "execution_count": 209,
   "metadata": {},
   "outputs": [
    {
     "data": {
      "text/plain": [
       "' \\t\\n\\r\\x0b\\x0c'"
      ]
     },
     "execution_count": 209,
     "metadata": {},
     "output_type": "execute_result"
    }
   ],
   "source": [
    "string.whitespace"
   ]
  },
  {
   "cell_type": "markdown",
   "metadata": {},
   "source": [
    "### Instance Methods"
   ]
  },
  {
   "cell_type": "markdown",
   "metadata": {},
   "source": [
    "#### Substitution : **```format()```**\n",
    "**By Positional**"
   ]
  },
  {
   "cell_type": "code",
   "execution_count": 226,
   "metadata": {},
   "outputs": [
    {
     "data": {
      "text/plain": [
       "'a + b + c'"
      ]
     },
     "execution_count": 226,
     "metadata": {},
     "output_type": "execute_result"
    }
   ],
   "source": [
    "'{} + {} + {}'.format('a', 'b', 'c')  # auto sequence"
   ]
  },
  {
   "cell_type": "code",
   "execution_count": 232,
   "metadata": {},
   "outputs": [
    {
     "data": {
      "text/plain": [
       "'aa + bb = cc'"
      ]
     },
     "execution_count": 232,
     "metadata": {},
     "output_type": "execute_result"
    }
   ],
   "source": [
    " '{0} + {1} = {2}'.format('aa', 'bb', 'cc') # manual sequence"
   ]
  },
  {
   "cell_type": "code",
   "execution_count": 231,
   "metadata": {},
   "outputs": [
    {
     "data": {
      "text/plain": [
       "'c + b = c'"
      ]
     },
     "execution_count": 231,
     "metadata": {},
     "output_type": "execute_result"
    }
   ],
   "source": [
    " '{2} + {1} = {2}'.format('a', 'b', 'c') # manual sequence"
   ]
  },
  {
   "cell_type": "markdown",
   "metadata": {},
   "source": [
    "**By Name**"
   ]
  },
  {
   "cell_type": "code",
   "execution_count": 237,
   "metadata": {},
   "outputs": [
    {
     "data": {
      "text/plain": [
       "'Coordinates: 37.24N, -115.81W'"
      ]
     },
     "execution_count": 237,
     "metadata": {},
     "output_type": "execute_result"
    }
   ],
   "source": [
    "'Coordinates: {latitude}, {longitude}'.format(latitude='37.24N', longitude='-115.81W') ## constant"
   ]
  },
  {
   "cell_type": "code",
   "execution_count": 236,
   "metadata": {},
   "outputs": [
    {
     "data": {
      "text/plain": [
       "'Coordinates: 37.24N, -115.81W'"
      ]
     },
     "execution_count": 236,
     "metadata": {},
     "output_type": "execute_result"
    }
   ],
   "source": [
    "coord = {'latitude': '37.24N', 'longitude': '-115.81W'} ## dictionary key/value\n",
    "'Coordinates: {latitude}, {longitude}'.format(**coord)"
   ]
  },
  {
   "cell_type": "markdown",
   "metadata": {},
   "source": [
    "**Formatting Number**  \n",
    "Float"
   ]
  },
  {
   "cell_type": "code",
   "execution_count": 243,
   "metadata": {},
   "outputs": [
    {
     "data": {
      "text/plain": [
       "'+3.140000; -3.140000'"
      ]
     },
     "execution_count": 243,
     "metadata": {},
     "output_type": "execute_result"
    }
   ],
   "source": [
    "'{:+f}; {:+f}'.format(3.14, -3.14)  # show it always"
   ]
  },
  {
   "cell_type": "code",
   "execution_count": 244,
   "metadata": {},
   "outputs": [
    {
     "data": {
      "text/plain": [
       "' 3.140000; -3.140000'"
      ]
     },
     "execution_count": 244,
     "metadata": {},
     "output_type": "execute_result"
    }
   ],
   "source": [
    "'{: f}; {: f}'.format(3.14, -3.14)  # show a space for positive numbers"
   ]
  },
  {
   "cell_type": "code",
   "execution_count": 273,
   "metadata": {},
   "outputs": [
    {
     "data": {
      "text/plain": [
       "'Correct answers: 55676.35'"
      ]
     },
     "execution_count": 273,
     "metadata": {},
     "output_type": "execute_result"
    }
   ],
   "source": [
    "'Correct answers: {:.2f}'.format(55676.345345)"
   ]
  },
  {
   "cell_type": "markdown",
   "metadata": {},
   "source": [
    "Integer, Percentage"
   ]
  },
  {
   "cell_type": "code",
   "execution_count": 274,
   "metadata": {},
   "outputs": [
    {
     "data": {
      "text/plain": [
       "'1,234,567,890  5,567,634.53%'"
      ]
     },
     "execution_count": 274,
     "metadata": {},
     "output_type": "execute_result"
    }
   ],
   "source": [
    "'{:,}  {:,.2%}'.format(1234567890, 55676.345345)"
   ]
  },
  {
   "cell_type": "markdown",
   "metadata": {},
   "source": [
    "**Alignment**"
   ]
  },
  {
   "cell_type": "code",
   "execution_count": 281,
   "metadata": {},
   "outputs": [
    {
     "data": {
      "text/plain": [
       "'left aligned                  '"
      ]
     },
     "execution_count": 281,
     "metadata": {},
     "output_type": "execute_result"
    }
   ],
   "source": [
    "'{:<30}'.format('left aligned')"
   ]
  },
  {
   "cell_type": "code",
   "execution_count": 282,
   "metadata": {},
   "outputs": [
    {
     "data": {
      "text/plain": [
       "'                 right aligned'"
      ]
     },
     "execution_count": 282,
     "metadata": {},
     "output_type": "execute_result"
    }
   ],
   "source": [
    "'{:>30}'.format('right aligned')"
   ]
  },
  {
   "cell_type": "code",
   "execution_count": 284,
   "metadata": {},
   "outputs": [
    {
     "data": {
      "text/plain": [
       "'           centered           '"
      ]
     },
     "execution_count": 284,
     "metadata": {},
     "output_type": "execute_result"
    }
   ],
   "source": [
    "'{:^30}'.format('centered')  # use '*' as a fill char"
   ]
  },
  {
   "cell_type": "code",
   "execution_count": 285,
   "metadata": {},
   "outputs": [
    {
     "data": {
      "text/plain": [
       "'***********centered***********'"
      ]
     },
     "execution_count": 285,
     "metadata": {},
     "output_type": "execute_result"
    }
   ],
   "source": [
    "'{:*^30}'.format('centered')  # use '*' as a fill char"
   ]
  },
  {
   "cell_type": "markdown",
   "metadata": {},
   "source": [
    "#### Substitution : **```f-string```**"
   ]
  },
  {
   "cell_type": "code",
   "execution_count": 268,
   "metadata": {},
   "outputs": [
    {
     "data": {
      "text/plain": [
       "'Hello, Yong Keh Soon, your salary is 11,123.35 !'"
      ]
     },
     "execution_count": 268,
     "metadata": {},
     "output_type": "execute_result"
    }
   ],
   "source": [
    "my_name = 'Yong Keh Soon'\n",
    "salary = 11123.346\n",
    "f'Hello, {my_name}, your salary is {salary:,.2f} !'"
   ]
  },
  {
   "cell_type": "markdown",
   "metadata": {},
   "source": [
    "#### Conversion: ```upper() lower()```"
   ]
  },
  {
   "cell_type": "code",
   "execution_count": 34,
   "metadata": {},
   "outputs": [
    {
     "data": {
      "text/plain": [
       "'MYEXEEL.XLS'"
      ]
     },
     "execution_count": 34,
     "metadata": {},
     "output_type": "execute_result"
    }
   ],
   "source": [
    "'myEXEel.xls'.upper()"
   ]
  },
  {
   "cell_type": "code",
   "execution_count": 35,
   "metadata": {},
   "outputs": [
    {
     "data": {
      "text/plain": [
       "'myexeel.xls'"
      ]
     },
     "execution_count": 35,
     "metadata": {},
     "output_type": "execute_result"
    }
   ],
   "source": [
    "'myEXEel.xls'.lower()"
   ]
  },
  {
   "cell_type": "markdown",
   "metadata": {},
   "source": [
    "#### ```find()``` pattern position\n",
    "```\n",
    "string.find() return position of first occurance. -1 if not found\n",
    "```"
   ]
  },
  {
   "cell_type": "code",
   "execution_count": 302,
   "metadata": {},
   "outputs": [
    {
     "name": "stdout",
     "output_type": "stream",
     "text": [
      "2\n",
      "-1\n"
     ]
    }
   ],
   "source": [
    "s='I love karaoke, I know you love it oo'\n",
    "print (s.find('lov'))\n",
    "print (s.find('kemuning'))"
   ]
  },
  {
   "cell_type": "markdown",
   "metadata": {},
   "source": [
    "#### ```strip()``` off blank spaces"
   ]
  },
  {
   "cell_type": "code",
   "execution_count": 109,
   "metadata": {},
   "outputs": [
    {
     "data": {
      "text/plain": [
       "'myexce l.   xls'"
      ]
     },
     "execution_count": 109,
     "metadata": {},
     "output_type": "execute_result"
    }
   ],
   "source": [
    "filename = '  myexce l.   xls   '\n",
    "filename.strip()"
   ]
  },
  {
   "cell_type": "markdown",
   "metadata": {},
   "source": [
    "#### List Related: ```split()```"
   ]
  },
  {
   "cell_type": "markdown",
   "metadata": {},
   "source": [
    "Splitting delimeter is specified. Observe the empty spaces were conserved in result array"
   ]
  },
  {
   "cell_type": "code",
   "execution_count": 108,
   "metadata": {},
   "outputs": [
    {
     "data": {
      "text/plain": [
       "['a1', 'a2 ', 'a3', ' a4']"
      ]
     },
     "execution_count": 108,
     "metadata": {},
     "output_type": "execute_result"
    }
   ],
   "source": [
    "animals = 'a1,a2 ,a3, a4'\n",
    "animals.split(',')"
   ]
  },
  {
   "cell_type": "markdown",
   "metadata": {},
   "source": [
    "#### List Related: ```join()```"
   ]
  },
  {
   "cell_type": "code",
   "execution_count": 300,
   "metadata": {},
   "outputs": [
    {
     "data": {
      "text/plain": [
       "'1-2-3-4'"
      ]
     },
     "execution_count": 300,
     "metadata": {},
     "output_type": "execute_result"
    }
   ],
   "source": [
    "'-'.join(['1', '2', '3', '4'])"
   ]
  },
  {
   "cell_type": "markdown",
   "metadata": {},
   "source": [
    "### Operator\n",
    "#### ```%``` Old Style Substitution"
   ]
  },
  {
   "cell_type": "markdown",
   "metadata": {},
   "source": [
    "https://docs.python.org/3/library/stdtypes.html#old-string-formatting"
   ]
  },
  {
   "cell_type": "code",
   "execution_count": 292,
   "metadata": {
    "scrolled": true
   },
   "outputs": [
    {
     "data": {
      "text/plain": [
       "'Hey Yong, how are you !'"
      ]
     },
     "execution_count": 292,
     "metadata": {},
     "output_type": "execute_result"
    }
   ],
   "source": [
    "name = 'Yong'\n",
    "'Hey %s, how are you !' % name"
   ]
  },
  {
   "cell_type": "code",
   "execution_count": 294,
   "metadata": {},
   "outputs": [
    {
     "data": {
      "text/plain": [
       "'Hey Yong, there is a 123 error!'"
      ]
     },
     "execution_count": 294,
     "metadata": {},
     "output_type": "execute_result"
    }
   ],
   "source": [
    "name = 'Yong'\n",
    "errno = 123\n",
    "'Hey %s, there is a %d error!' % (name, errno)"
   ]
  },
  {
   "cell_type": "markdown",
   "metadata": {},
   "source": [
    "#### ```+``` Concatenation"
   ]
  },
  {
   "cell_type": "code",
   "execution_count": 296,
   "metadata": {},
   "outputs": [
    {
     "data": {
      "text/plain": [
       "'this is awesome'"
      ]
     },
     "execution_count": 296,
     "metadata": {},
     "output_type": "execute_result"
    }
   ],
   "source": [
    "'this is ' + 'awesome'"
   ]
  },
  {
   "cell_type": "markdown",
   "metadata": {},
   "source": [
    "#### ```in```  matching\n",
    "\n",
    "For single string, **partial match**"
   ]
  },
  {
   "cell_type": "code",
   "execution_count": 29,
   "metadata": {},
   "outputs": [
    {
     "name": "stdout",
     "output_type": "stream",
     "text": [
      "True\n"
     ]
    }
   ],
   "source": [
    "print( 'abc' in '123abcdefg' )"
   ]
  },
  {
   "cell_type": "markdown",
   "metadata": {},
   "source": [
    "For list of strings, **exact match**. Workaround for partial match in list of strings, **convert list to single string**"
   ]
  },
  {
   "cell_type": "code",
   "execution_count": 31,
   "metadata": {},
   "outputs": [
    {
     "name": "stdout",
     "output_type": "stream",
     "text": [
      "False\n",
      "False\n",
      "True\n",
      "True\n"
     ]
    }
   ],
   "source": [
    "print( 'abc' in ['123','abcdefg'] )\n",
    "print( 'abc' in ['abcdefg','123'] )\n",
    "print( 'abc' in ['123','abc','def'] )\n",
    "print( 'abc' in str(['123','abcdefg']) )"
   ]
  },
  {
   "cell_type": "markdown",
   "metadata": {},
   "source": [
    "#### Comparitor"
   ]
  },
  {
   "cell_type": "code",
   "execution_count": 39,
   "metadata": {},
   "outputs": [
    {
     "name": "stdout",
     "output_type": "stream",
     "text": [
      "True\n",
      "False\n"
     ]
    }
   ],
   "source": [
    "a='abc'\n",
    "b='abc'\n",
    "print(a==b)\n",
    "print(a!=b)"
   ]
  },
  {
   "cell_type": "markdown",
   "metadata": {},
   "source": [
    "### Iterations\n",
    "```\n",
    "string[start:end:step]  # default step:1, start:0, end:last\n",
    "```\n",
    "If step is negative, end value must be lower than start value"
   ]
  },
  {
   "cell_type": "code",
   "execution_count": 105,
   "metadata": {},
   "outputs": [
    {
     "name": "stdout",
     "output_type": "stream",
     "text": [
      "a\n",
      "abc\n",
      "ceg\n",
      "k\n",
      "ijk\n",
      "kjihgfedcba\n",
      "ihgfed\n"
     ]
    }
   ],
   "source": [
    "s = 'abcdefghijk'\n",
    "print (s[0])      # first later\n",
    "print (s[:3])     # first 3 letters\n",
    "print (s[2:8:2])  # stepping\n",
    "print (s[-1])     # last letter\n",
    "print (s[-3:])    # last three letters\n",
    "print (s[::-1])   # reverse everything\n",
    "print (s[8:2:-1])"
   ]
  },
  {
   "cell_type": "markdown",
   "metadata": {},
   "source": [
    "## Boolean"
   ]
  },
  {
   "cell_type": "code",
   "execution_count": 36,
   "metadata": {
    "code_folding": []
   },
   "outputs": [
    {
     "name": "stdout",
     "output_type": "stream",
     "text": [
      "It is fake\n"
     ]
    }
   ],
   "source": [
    "b = False\n",
    "\n",
    "if (b):\n",
    "    print ('It is true')\n",
    "else:\n",
    "    print ('It is fake')\n",
    "    "
   ]
  },
  {
   "cell_type": "markdown",
   "metadata": {},
   "source": [
    "### What is Considered False ?\n",
    "Everything below are false, **anything else are true**"
   ]
  },
  {
   "cell_type": "code",
   "execution_count": 113,
   "metadata": {},
   "outputs": [
    {
     "name": "stdout",
     "output_type": "stream",
     "text": [
      "False\n",
      "False\n",
      "False\n",
      "False\n",
      "False\n",
      "False\n",
      "False\n"
     ]
    }
   ],
   "source": [
    "print (bool(0))      # zero\n",
    "print (bool(None))   # none\n",
    "print (bool(''))     # empty string\n",
    "print (bool([]))     # empty list\n",
    "print (bool(()))     # empty tupple\n",
    "print (bool(False))  # False\n",
    "print (bool(2-2))    # expression that return any value above"
   ]
  },
  {
   "cell_type": "markdown",
   "metadata": {},
   "source": [
    "### ```and``` operator\n",
    "- **and** can return different data types  \n",
    "- If evaluated result is **True**, the last **True Value** is returned (because python need to evaluate up to the last value)  \n",
    "- If evaluated result is **False**, the first **False Value** will be returned (because python return it immediately when detecting False value)"
   ]
  },
  {
   "cell_type": "code",
   "execution_count": 114,
   "metadata": {},
   "outputs": [
    {
     "name": "stdout",
     "output_type": "stream",
     "text": [
      "1\n",
      "()\n"
     ]
    }
   ],
   "source": [
    "print (123 and 2 and 1)\n",
    "print (123 and () and 2)"
   ]
  },
  {
   "cell_type": "markdown",
   "metadata": {},
   "source": [
    "### ```not``` operator"
   ]
  },
  {
   "cell_type": "code",
   "execution_count": 115,
   "metadata": {},
   "outputs": [
    {
     "data": {
      "text/plain": [
       "False"
      ]
     },
     "execution_count": 115,
     "metadata": {},
     "output_type": "execute_result"
    }
   ],
   "source": [
    "not (True or False)"
   ]
  },
  {
   "cell_type": "markdown",
   "metadata": {},
   "source": [
    "### ```or``` operator\n",
    "- **or** can return different data type  \n",
    "- If evaluated result is True, first **True Value** will be returned  (right hand side value **need not be evaluated**)  \n",
    "- If evaluated result is False, last **Fasle Value** will be returned (need to evalute all items before concluding False)"
   ]
  },
  {
   "cell_type": "code",
   "execution_count": 116,
   "metadata": {},
   "outputs": [
    {
     "name": "stdout",
     "output_type": "stream",
     "text": [
      "1\n",
      "1\n",
      "[]\n"
     ]
    }
   ],
   "source": [
    "print (1 or 2)\n",
    "print (0 or 1 or 1)\n",
    "print (0 or () or [])"
   ]
  },
  {
   "cell_type": "markdown",
   "metadata": {},
   "source": [
    "## None\n",
    "### None is Object\n",
    "- None is a Python **object NonType**  \n",
    "- Any operation to None object will result in **error**  \n",
    "- For array data with None elements, verification is required to check through iteration to determine if the item is not None. It is very computaionaly heavy "
   ]
  },
  {
   "cell_type": "code",
   "execution_count": 96,
   "metadata": {},
   "outputs": [
    {
     "data": {
      "text/plain": [
       "NoneType"
      ]
     },
     "execution_count": 96,
     "metadata": {},
     "output_type": "execute_result"
    }
   ],
   "source": [
    "type(None)"
   ]
  },
  {
   "cell_type": "code",
   "execution_count": 117,
   "metadata": {},
   "outputs": [
    {
     "data": {
      "text/plain": [
       "dtype('int32')"
      ]
     },
     "execution_count": 117,
     "metadata": {},
     "output_type": "execute_result"
    }
   ],
   "source": [
    "t = np.array([1,2,3,4,5])\n",
    "t.dtype  #  its an integer"
   ]
  },
  {
   "cell_type": "code",
   "execution_count": 118,
   "metadata": {
    "scrolled": false
   },
   "outputs": [
    {
     "data": {
      "text/plain": [
       "dtype('O')"
      ]
     },
     "execution_count": 118,
     "metadata": {},
     "output_type": "execute_result"
    }
   ],
   "source": [
    "t = np.array([1, 2, 3, None, 4, 5])\n",
    "t.dtype  # it's an object"
   ]
  },
  {
   "cell_type": "markdown",
   "metadata": {},
   "source": [
    "### Comparing None\n",
    "**Not Prefered Method**"
   ]
  },
  {
   "cell_type": "code",
   "execution_count": 101,
   "metadata": {},
   "outputs": [
    {
     "name": "stdout",
     "output_type": "stream",
     "text": [
      "True\n"
     ]
    }
   ],
   "source": [
    "null_variable = None\n",
    "print( null_variable == None )"
   ]
  },
  {
   "cell_type": "markdown",
   "metadata": {},
   "source": [
    "**Prefered**"
   ]
  },
  {
   "cell_type": "code",
   "execution_count": 106,
   "metadata": {},
   "outputs": [
    {
     "name": "stdout",
     "output_type": "stream",
     "text": [
      "True\n",
      "False\n"
     ]
    }
   ],
   "source": [
    "print( null_variable is None )\n",
    "print( null_variable is not None )"
   ]
  },
  {
   "cell_type": "markdown",
   "metadata": {},
   "source": [
    "# Built-In Data Structure"
   ]
  },
  {
   "cell_type": "markdown",
   "metadata": {},
   "source": [
    "## Tuple\n",
    "Tuple is an **immutable list**. Any attempt to change/update tuple will return error. It can contain **different types** of object.\n",
    "\n",
    "Benefits of tuple against List are:\n",
    "- **Faster** than list\n",
    "- **Protects** your data against accidental change\n",
    "- Can be used as key in dictionaries, list can't"
   ]
  },
  {
   "cell_type": "markdown",
   "metadata": {},
   "source": [
    "### Assignment"
   ]
  },
  {
   "cell_type": "markdown",
   "metadata": {},
   "source": [
    "#### (item1, item2, item3)\n",
    "This is a formal syntax for defining tuple, items inside (  ) notation"
   ]
  },
  {
   "cell_type": "code",
   "execution_count": 119,
   "metadata": {},
   "outputs": [
    {
     "data": {
      "text/plain": [
       "(1, 2, 3, 'o', 'apple')"
      ]
     },
     "execution_count": 119,
     "metadata": {},
     "output_type": "execute_result"
    }
   ],
   "source": [
    "t = (1,2,3,'o','apple')\n",
    "t"
   ]
  },
  {
   "cell_type": "code",
   "execution_count": 120,
   "metadata": {},
   "outputs": [
    {
     "data": {
      "text/plain": [
       "tuple"
      ]
     },
     "execution_count": 120,
     "metadata": {},
     "output_type": "execute_result"
    }
   ],
   "source": [
    "type(t)"
   ]
  },
  {
   "cell_type": "markdown",
   "metadata": {},
   "source": [
    "#### item1, item2, item3\n",
    "- Without (  ) notation, it is also considered as tuple  \n",
    "- However, some functions may not consider this method "
   ]
  },
  {
   "cell_type": "code",
   "execution_count": 121,
   "metadata": {},
   "outputs": [
    {
     "data": {
      "text/plain": [
       "(1, 2, 3, 'o', 'apple')"
      ]
     },
     "execution_count": 121,
     "metadata": {},
     "output_type": "execute_result"
    }
   ],
   "source": [
    "1,2,3,'o','apple'"
   ]
  },
  {
   "cell_type": "markdown",
   "metadata": {},
   "source": [
    "### Accessing"
   ]
  },
  {
   "cell_type": "code",
   "execution_count": 122,
   "metadata": {},
   "outputs": [
    {
     "name": "stdout",
     "output_type": "stream",
     "text": [
      "2\n",
      "<class 'int'>\n"
     ]
    }
   ],
   "source": [
    "print (t[1])\n",
    "print (type(t[1]))"
   ]
  },
  {
   "cell_type": "code",
   "execution_count": 123,
   "metadata": {
    "scrolled": true
   },
   "outputs": [
    {
     "name": "stdout",
     "output_type": "stream",
     "text": [
      "(2, 3)\n"
     ]
    },
    {
     "data": {
      "text/plain": [
       "list"
      ]
     },
     "execution_count": 123,
     "metadata": {},
     "output_type": "execute_result"
    }
   ],
   "source": [
    "print (t[1:3])\n",
    "type ([t[1:3]])"
   ]
  },
  {
   "cell_type": "markdown",
   "metadata": {},
   "source": [
    "### Duplicating Tuple"
   ]
  },
  {
   "cell_type": "code",
   "execution_count": 154,
   "metadata": {},
   "outputs": [
    {
     "name": "stdout",
     "output_type": "stream",
     "text": [
      "(1, 2, 3, 4, 5)\n",
      "(1, 2, 3, 4, 5)\n"
     ]
    }
   ],
   "source": [
    "original = (1,2,3,4,5)\n",
    "copy_test = original\n",
    "print(original)\n",
    "print(copy_test)"
   ]
  },
  {
   "cell_type": "code",
   "execution_count": 155,
   "metadata": {},
   "outputs": [
    {
     "name": "stdout",
     "output_type": "stream",
     "text": [
      "Original ID:  1786618835280\n",
      "Copy ID:      1786618835280\n"
     ]
    }
   ],
   "source": [
    "print('Original ID: ', id(original))\n",
    "print('Copy ID:     ', id(copy_test))"
   ]
  },
  {
   "cell_type": "markdown",
   "metadata": {},
   "source": [
    "## List\n",
    "- List is a collection of **ordered** items, where the items **can be different data types**  \n",
    "- You can pack list of items by placing them into []  \n",
    "- List is mutable"
   ]
  },
  {
   "cell_type": "markdown",
   "metadata": {},
   "source": [
    "### Creating List"
   ]
  },
  {
   "cell_type": "markdown",
   "metadata": {},
   "source": [
    "#### List is An Object"
   ]
  },
  {
   "cell_type": "code",
   "execution_count": 135,
   "metadata": {},
   "outputs": [
    {
     "data": {
      "text/plain": [
       "list"
      ]
     },
     "execution_count": 135,
     "metadata": {},
     "output_type": "execute_result"
    }
   ],
   "source": [
    "test = [1,2,34,5]\n",
    "type(test)"
   ]
  },
  {
   "cell_type": "markdown",
   "metadata": {},
   "source": [
    "#### Empty List"
   ]
  },
  {
   "cell_type": "code",
   "execution_count": 124,
   "metadata": {},
   "outputs": [
    {
     "name": "stdout",
     "output_type": "stream",
     "text": [
      "[]\n"
     ]
    },
    {
     "data": {
      "text/plain": [
       "list"
      ]
     },
     "execution_count": 124,
     "metadata": {},
     "output_type": "execute_result"
    }
   ],
   "source": [
    "empty = []      # literal assignment method\n",
    "empty = list()  # constructor method\n",
    "print (empty)\n",
    "type(empty)"
   ]
  },
  {
   "cell_type": "markdown",
   "metadata": {},
   "source": [
    "#### Literal Assignment Method\n",
    "- **Multiple data types** is allowed in a list"
   ]
  },
  {
   "cell_type": "code",
   "execution_count": 125,
   "metadata": {},
   "outputs": [],
   "source": [
    "mylist = [123,'abc',456]"
   ]
  },
  {
   "cell_type": "markdown",
   "metadata": {},
   "source": [
    "**Creating List using Constructor Method**  \n",
    "- Note that **list(string)** will split the string into letters"
   ]
  },
  {
   "cell_type": "code",
   "execution_count": 127,
   "metadata": {},
   "outputs": [
    {
     "data": {
      "text/plain": [
       "['h', 'e', 'l', 'l', 'o']"
      ]
     },
     "execution_count": 127,
     "metadata": {},
     "output_type": "execute_result"
    }
   ],
   "source": [
    "list('hello')"
   ]
  },
  {
   "cell_type": "markdown",
   "metadata": {},
   "source": [
    "**Creating List using split() method**  \n",
    "- Split base on spaces (by default) to create a list item"
   ]
  },
  {
   "cell_type": "code",
   "execution_count": 128,
   "metadata": {},
   "outputs": [
    {
     "data": {
      "text/plain": [
       "['a', 'bunch', 'of', 'words']"
      ]
     },
     "execution_count": 128,
     "metadata": {},
     "output_type": "execute_result"
    }
   ],
   "source": [
    "'a bunch of words'.split()"
   ]
  },
  {
   "cell_type": "markdown",
   "metadata": {},
   "source": [
    "- Split can also break into items base on specified delimter"
   ]
  },
  {
   "cell_type": "code",
   "execution_count": 129,
   "metadata": {},
   "outputs": [
    {
     "data": {
      "text/plain": [
       "['a1', 'a2', 'a3', ' a4']"
      ]
     },
     "execution_count": 129,
     "metadata": {},
     "output_type": "execute_result"
    }
   ],
   "source": [
    "'a1,a2,a3, a4'.split(',')"
   ]
  },
  {
   "cell_type": "markdown",
   "metadata": {},
   "source": [
    "### Accessing Items"
   ]
  },
  {
   "cell_type": "markdown",
   "metadata": {},
   "source": [
    "**Access specific index number**"
   ]
  },
  {
   "cell_type": "code",
   "execution_count": 45,
   "metadata": {},
   "outputs": [
    {
     "name": "stdout",
     "output_type": "stream",
     "text": [
      "rice\n",
      "cake\n"
     ]
    }
   ],
   "source": [
    "food = ['bread', 'noodle', 'rice', 'biscuit','jelly','cake']\n",
    "print (food[2])  # 3rd item\n",
    "print (food[-1]) # last item"
   ]
  },
  {
   "cell_type": "markdown",
   "metadata": {},
   "source": [
    "**Access range of indexes**"
   ]
  },
  {
   "cell_type": "code",
   "execution_count": 46,
   "metadata": {},
   "outputs": [
    {
     "name": "stdout",
     "output_type": "stream",
     "text": [
      "['bread', 'noodle', 'rice', 'biscuit']\n",
      "['biscuit', 'jelly', 'cake']\n",
      "['noodle', 'rice', 'biscuit', 'jelly']\n",
      "['cake', 'jelly', 'biscuit']\n",
      "['cake', 'jelly', 'biscuit', 'rice', 'noodle', 'bread']\n"
     ]
    }
   ],
   "source": [
    "print (food[:4])     # first 3 items\n",
    "print (food[-3:])    # last 3 items\n",
    "print (food[1:5])    # item 1 to 4\n",
    "print (food[5:2:-1]) # item 3 to 5, reverse order\n",
    "print (food[::-1])   # reverse order"
   ]
  },
  {
   "cell_type": "markdown",
   "metadata": {},
   "source": [
    "### Remove Item(s)\n",
    "Removal of non-existance item will result in error\n",
    "\n",
    "**Search and remove first occurance** of an item"
   ]
  },
  {
   "cell_type": "code",
   "execution_count": 116,
   "metadata": {},
   "outputs": [
    {
     "name": "stdout",
     "output_type": "stream",
     "text": [
      "['bread', 'rice', 'biscuit', 'jelly', 'cake', 'noodle']\n"
     ]
    }
   ],
   "source": [
    "food = list(['bread', 'noodle', 'rice', 'biscuit','jelly','cake','noodle'])\n",
    "food.remove('noodle')\n",
    "print (food)"
   ]
  },
  {
   "cell_type": "markdown",
   "metadata": {},
   "source": [
    "**Remove last item**"
   ]
  },
  {
   "cell_type": "code",
   "execution_count": 117,
   "metadata": {},
   "outputs": [
    {
     "name": "stdout",
     "output_type": "stream",
     "text": [
      "['bread', 'rice', 'biscuit', 'jelly', 'cake']\n"
     ]
    }
   ],
   "source": [
    "food.pop()\n",
    "print (food)"
   ]
  },
  {
   "cell_type": "markdown",
   "metadata": {},
   "source": [
    "**Remove item at specific position**"
   ]
  },
  {
   "cell_type": "code",
   "execution_count": 118,
   "metadata": {},
   "outputs": [
    {
     "name": "stdout",
     "output_type": "stream",
     "text": [
      "['bread', 'biscuit', 'jelly', 'cake']\n"
     ]
    }
   ],
   "source": [
    "food.pop(1)  # counter start from 0\n",
    "print(food)"
   ]
  },
  {
   "cell_type": "code",
   "execution_count": 119,
   "metadata": {},
   "outputs": [
    {
     "name": "stdout",
     "output_type": "stream",
     "text": [
      "['bread', 'biscuit', 'cake']\n"
     ]
    }
   ],
   "source": [
    "food.remove('jelly')\n",
    "print(food)"
   ]
  },
  {
   "cell_type": "markdown",
   "metadata": {},
   "source": [
    "### Appending Item (s)"
   ]
  },
  {
   "cell_type": "markdown",
   "metadata": {},
   "source": [
    "**Append One Item**"
   ]
  },
  {
   "cell_type": "code",
   "execution_count": 136,
   "metadata": {},
   "outputs": [
    {
     "name": "stdout",
     "output_type": "stream",
     "text": [
      "['bread', 'biscuit', 'jelly', 'cake', 'jelly']\n"
     ]
    }
   ],
   "source": [
    "food.append('jelly')\n",
    "print (food)"
   ]
  },
  {
   "cell_type": "markdown",
   "metadata": {},
   "source": [
    "**Append Multiple Items**  **```extend()```** will expand the list/tupple argument and append as multiple items"
   ]
  },
  {
   "cell_type": "code",
   "execution_count": 137,
   "metadata": {},
   "outputs": [
    {
     "name": "stdout",
     "output_type": "stream",
     "text": [
      "['bread', 'biscuit', 'jelly', 'cake', 'jelly', 'nand', 'puff']\n"
     ]
    }
   ],
   "source": [
    "food.extend(['nand','puff'])\n",
    "print (food)"
   ]
  },
  {
   "cell_type": "markdown",
   "metadata": {},
   "source": [
    "### Concateneting Multiple Lists"
   ]
  },
  {
   "cell_type": "markdown",
   "metadata": {},
   "source": [
    "**Concatenating Lists**\n",
    "Although you can use '+' operator, however '-' operator is not supported"
   ]
  },
  {
   "cell_type": "code",
   "execution_count": 138,
   "metadata": {},
   "outputs": [
    {
     "data": {
      "text/plain": [
       "['dog', 'cat', 'horse', 'elephant', 'tiger', 'sheep']"
      ]
     },
     "execution_count": 138,
     "metadata": {},
     "output_type": "execute_result"
    }
   ],
   "source": [
    "['dog','cat','horse'] + ['elephant','tiger'] + ['sheep']"
   ]
  },
  {
   "cell_type": "markdown",
   "metadata": {},
   "source": [
    "### Other Methods ###"
   ]
  },
  {
   "cell_type": "markdown",
   "metadata": {},
   "source": [
    "**Reversing the order of the items**"
   ]
  },
  {
   "cell_type": "code",
   "execution_count": 139,
   "metadata": {},
   "outputs": [
    {
     "data": {
      "text/plain": [
       "['puff', 'nand', 'jelly', 'cake', 'jelly', 'biscuit', 'bread']"
      ]
     },
     "execution_count": 139,
     "metadata": {},
     "output_type": "execute_result"
    }
   ],
   "source": [
    "food.reverse()\n",
    "food"
   ]
  },
  {
   "cell_type": "markdown",
   "metadata": {},
   "source": [
    "**Locating the Index Number of An Item**"
   ]
  },
  {
   "cell_type": "code",
   "execution_count": 140,
   "metadata": {},
   "outputs": [
    {
     "data": {
      "text/plain": [
       "5"
      ]
     },
     "execution_count": 140,
     "metadata": {},
     "output_type": "execute_result"
    }
   ],
   "source": [
    "food.index('biscuit')"
   ]
  },
  {
   "cell_type": "markdown",
   "metadata": {},
   "source": [
    "**Count occurance**"
   ]
  },
  {
   "cell_type": "code",
   "execution_count": 120,
   "metadata": {},
   "outputs": [
    {
     "data": {
      "text/plain": [
       "3"
      ]
     },
     "execution_count": 120,
     "metadata": {},
     "output_type": "execute_result"
    }
   ],
   "source": [
    "test = ['a','a','a','b','c']\n",
    "test.count('a')"
   ]
  },
  {
   "cell_type": "markdown",
   "metadata": {},
   "source": [
    "**Sorting The Order of Items**"
   ]
  },
  {
   "cell_type": "code",
   "execution_count": 141,
   "metadata": {},
   "outputs": [
    {
     "name": "stdout",
     "output_type": "stream",
     "text": [
      "['biscuit', 'bread', 'cake', 'jelly', 'jelly', 'nand', 'puff']\n"
     ]
    }
   ],
   "source": [
    "food.sort()\n",
    "print (food)"
   ]
  },
  {
   "cell_type": "markdown",
   "metadata": {},
   "source": [
    "### List is Mutable\n",
    "The reference list variable won't change after adding/removing its item"
   ]
  },
  {
   "cell_type": "code",
   "execution_count": 142,
   "metadata": {},
   "outputs": [
    {
     "name": "stdout",
     "output_type": "stream",
     "text": [
      "food :  1761565257672\n",
      "food :  1761565257672\n"
     ]
    }
   ],
   "source": [
    "food = ['cake','jelly','roti','noodle']\n",
    "print ('food : ',id(food))\n",
    "food += ['salad','chicken']\n",
    "print ('food : ',id(food))"
   ]
  },
  {
   "cell_type": "code",
   "execution_count": 143,
   "metadata": {},
   "outputs": [
    {
     "name": "stdout",
     "output_type": "stream",
     "text": [
      "[[1, 2, 3], 'abc']\n",
      "[[1, 2, 'k'], 'abc']\n"
     ]
    }
   ],
   "source": [
    "x = [1,2,3]\n",
    "y = [x,'abc']\n",
    "print (y)\n",
    "x[2] = 'k'\n",
    "print (y)"
   ]
  },
  {
   "cell_type": "markdown",
   "metadata": {},
   "source": [
    "A function is actually an **object**, which reference never change, hence **mutable**"
   ]
  },
  {
   "cell_type": "code",
   "execution_count": 57,
   "metadata": {},
   "outputs": [
    {
     "name": "stdout",
     "output_type": "stream",
     "text": [
      "['x', 1]\n",
      "['a', 'b', 2]\n",
      "['a', 'b', 2, 3]\n"
     ]
    }
   ],
   "source": [
    "def spam (elem, some_list=['a','b']):\n",
    "    some_list.append(elem)\n",
    "    return some_list\n",
    "\n",
    "print (spam(1,['x']))\n",
    "print (spam(2)) ## second parameter is not passed\n",
    "print (spam(3)) ##  notice the default was remembered"
   ]
  },
  {
   "cell_type": "markdown",
   "metadata": {},
   "source": [
    "### Duplicate or Reference"
   ]
  },
  {
   "cell_type": "markdown",
   "metadata": {},
   "source": [
    "**Use =** : It just copy the refernce. IDs are similar"
   ]
  },
  {
   "cell_type": "code",
   "execution_count": 164,
   "metadata": {},
   "outputs": [
    {
     "name": "stdout",
     "output_type": "stream",
     "text": [
      "Original ID:  1786620135432\n",
      "Copy ID:      1786620135432\n"
     ]
    }
   ],
   "source": [
    "original = [1,2,3,4,5]\n",
    "copy_test = original\n",
    "print('Original ID: ', id(original))\n",
    "print('Copy ID:     ', id(copy_test))                          "
   ]
  },
  {
   "cell_type": "code",
   "execution_count": 171,
   "metadata": {},
   "outputs": [
    {
     "name": "stdout",
     "output_type": "stream",
     "text": [
      "[999, 2, 3, 4, 5]\n",
      "[1, 2, 3, 4, 5]\n"
     ]
    }
   ],
   "source": [
    "original[0]=999   ## change original\n",
    "print(original)\n",
    "print(copy_test)  ## copy affected"
   ]
  },
  {
   "cell_type": "markdown",
   "metadata": {},
   "source": [
    "**Duplicate A List Object** with **```copy()```**. Resulting IDs are different"
   ]
  },
  {
   "cell_type": "code",
   "execution_count": 167,
   "metadata": {},
   "outputs": [
    {
     "name": "stdout",
     "output_type": "stream",
     "text": [
      "[1, 2, 3, 4, 5]\n",
      "[1, 2, 3, 4, 5]\n"
     ]
    }
   ],
   "source": [
    "original = [1,2,3,4,5]\n",
    "copy_test = original.copy()\n",
    "print(original)\n",
    "print(copy_test)"
   ]
  },
  {
   "cell_type": "code",
   "execution_count": 168,
   "metadata": {},
   "outputs": [
    {
     "name": "stdout",
     "output_type": "stream",
     "text": [
      "Original ID:  1786620112776\n",
      "Copy ID:      1786619865544\n"
     ]
    }
   ],
   "source": [
    "print('Original ID: ', id(original))\n",
    "print('Copy ID:     ', id(copy_test))"
   ]
  },
  {
   "cell_type": "code",
   "execution_count": 170,
   "metadata": {},
   "outputs": [
    {
     "name": "stdout",
     "output_type": "stream",
     "text": [
      "[999, 2, 3, 4, 5]\n",
      "[1, 2, 3, 4, 5]\n"
     ]
    }
   ],
   "source": [
    "original[0] = 999  ## change original\n",
    "print(original)    \n",
    "print(copy_test)   ## copy not affected"
   ]
  },
  {
   "cell_type": "markdown",
   "metadata": {},
   "source": [
    "**Passing To Function As Reference**"
   ]
  },
  {
   "cell_type": "code",
   "execution_count": 149,
   "metadata": {
    "scrolled": true
   },
   "outputs": [
    {
     "name": "stdout",
     "output_type": "stream",
     "text": [
      "ID outside Function:  1786619973128\n",
      "[1, 2, 3, 4, 5]\n",
      "ID in Function:       1786619973128\n",
      "[1, 2, 3, 4, 5, 6]\n"
     ]
    }
   ],
   "source": [
    "def func(x):\n",
    "    print (x)\n",
    "    print('ID in Function:      ', id(x))\n",
    "    x.append(6)    ## modify the refrence\n",
    "    \n",
    "my_list = [1,2,3,4,5]\n",
    "print('ID outside Function: ', id(my_list))\n",
    "\n",
    "func(my_list)  ## call the function, pass the reference\n",
    "print(my_list) ## content was altered"
   ]
  },
  {
   "cell_type": "markdown",
   "metadata": {},
   "source": [
    "### List Is Iterable"
   ]
  },
  {
   "cell_type": "markdown",
   "metadata": {},
   "source": [
    "#### For Loop"
   ]
  },
  {
   "cell_type": "code",
   "execution_count": 50,
   "metadata": {},
   "outputs": [
    {
     "name": "stdout",
     "output_type": "stream",
     "text": [
      "abc\n",
      "abcd\n"
     ]
    }
   ],
   "source": [
    "s = ['abc','abcd','bcde','bcdee','cdefg']\n",
    "for x in s:\n",
    "    if 'abc' in x:\n",
    "        print (x)"
   ]
  },
  {
   "cell_type": "code",
   "execution_count": 59,
   "metadata": {},
   "outputs": [
    {
     "name": "stdout",
     "output_type": "stream",
     "text": [
      "['abc', 'abcd']\n"
     ]
    }
   ],
   "source": [
    "new_list = []\n",
    "old_list = ['abc','abcd','bcde','bcdee','cdefg']\n",
    "for x in old_list:\n",
    "    if 'abc' in x:\n",
    "        new_list.append(x)\n",
    "        \n",
    "print( new_list )"
   ]
  },
  {
   "cell_type": "code",
   "execution_count": 62,
   "metadata": {},
   "outputs": [
    {
     "name": "stdout",
     "output_type": "stream",
     "text": [
      "['abc', 'abcd']\n"
     ]
    }
   ],
   "source": [
    "new_list = [x for x in old_list if 'abc' in x]\n",
    "print( new_list)"
   ]
  },
  {
   "cell_type": "markdown",
   "metadata": {},
   "source": [
    "### Conversion\n",
    "Convert mutable list to immutable **tuple** with **```tuple()```**"
   ]
  },
  {
   "cell_type": "code",
   "execution_count": 173,
   "metadata": {},
   "outputs": [
    {
     "name": "stdout",
     "output_type": "stream",
     "text": [
      "1786620112776\n",
      "1786618835280\n"
     ]
    }
   ],
   "source": [
    "original_tuple = tuple(original)\n",
    "print( id(original) )\n",
    "print(id(original_tuple))"
   ]
  },
  {
   "cell_type": "markdown",
   "metadata": {},
   "source": [
    "### Built-In Functions Applicable To List\n",
    "**Number of Elements**"
   ]
  },
  {
   "cell_type": "code",
   "execution_count": 122,
   "metadata": {},
   "outputs": [
    {
     "data": {
      "text/plain": [
       "3"
      ]
     },
     "execution_count": 122,
     "metadata": {},
     "output_type": "execute_result"
    }
   ],
   "source": [
    "len(food)"
   ]
  },
  {
   "cell_type": "markdown",
   "metadata": {},
   "source": [
    "**Max Value**"
   ]
  },
  {
   "cell_type": "code",
   "execution_count": 128,
   "metadata": {},
   "outputs": [
    {
     "data": {
      "text/plain": [
       "3"
      ]
     },
     "execution_count": 128,
     "metadata": {},
     "output_type": "execute_result"
    }
   ],
   "source": [
    "test = [1,2,3,5,5,3,2,1]\n",
    "m = max(test)\n",
    "test.index(m)  ## only first occurance is found"
   ]
  },
  {
   "cell_type": "markdown",
   "metadata": {},
   "source": [
    "## Dictionaries\n",
    "Dictionary is a list of index-value items."
   ]
  },
  {
   "cell_type": "markdown",
   "metadata": {},
   "source": [
    "### Creating dict\n",
    "**Creating dict with literals**"
   ]
  },
  {
   "cell_type": "markdown",
   "metadata": {},
   "source": [
    "Simple Dictionary"
   ]
  },
  {
   "cell_type": "code",
   "execution_count": 76,
   "metadata": {},
   "outputs": [
    {
     "name": "stdout",
     "output_type": "stream",
     "text": [
      "{'cats': 2, 'dogs': 5, 'horses': 4}\n",
      "<class 'dict'>\n"
     ]
    }
   ],
   "source": [
    "animal_counts = { 'cats' : 2, 'dogs' : 5, 'horses':4}\n",
    "print (animal_counts)\n",
    "print( type(animal_counts) )"
   ]
  },
  {
   "cell_type": "markdown",
   "metadata": {},
   "source": [
    "Dictionary with list"
   ]
  },
  {
   "cell_type": "code",
   "execution_count": 69,
   "metadata": {},
   "outputs": [
    {
     "data": {
      "text/plain": [
       "{'cats': ['Walter', 'Ra'],\n",
       " 'dogs': ['Jim', 'Roy', 'John', 'Lucky', 'Row'],\n",
       " 'horses': ['Sax', 'Jack', 'Ann', 'Jeep']}"
      ]
     },
     "execution_count": 69,
     "metadata": {},
     "output_type": "execute_result"
    }
   ],
   "source": [
    "animal_names = {'cats':   ['Walter','Ra'],\n",
    "                'dogs':   ['Jim','Roy','John','Lucky','Row'],\n",
    "                'horses': ['Sax','Jack','Ann','Jeep']\n",
    "               }\n",
    "animal_names"
   ]
  },
  {
   "cell_type": "markdown",
   "metadata": {},
   "source": [
    "**Creating dict with variables**"
   ]
  },
  {
   "cell_type": "code",
   "execution_count": 83,
   "metadata": {},
   "outputs": [
    {
     "data": {
      "text/plain": [
       "{'cats': ['Walter', 'Ra', 'Jim'],\n",
       " 'dogs': ['Jim', 'Roy', 'John', 'Lucky', 'Row'],\n",
       " 'horses': ['Sax', 'Jack', 'Ann', 'Jeep']}"
      ]
     },
     "execution_count": 83,
     "metadata": {},
     "output_type": "execute_result"
    }
   ],
   "source": [
    "cat_names = ['Walter','Ra','Jim']\n",
    "dog_names = ['Jim','Roy','John','Lucky','Row']\n",
    "horse_names= ['Sax','Jack','Ann','Jeep']\n",
    "animal_names = {'cats': cat_names, 'dogs': dog_names, 'horses': horse_names}\n",
    "animal_names"
   ]
  },
  {
   "cell_type": "markdown",
   "metadata": {},
   "source": [
    "### Accessing dict\n",
    "Find out the list of keys using **keys()**  "
   ]
  },
  {
   "cell_type": "code",
   "execution_count": 74,
   "metadata": {},
   "outputs": [
    {
     "name": "stdout",
     "output_type": "stream",
     "text": [
      "dict_keys(['cats', 'dogs', 'horses'])\n",
      "['cats', 'dogs', 'horses']\n"
     ]
    }
   ],
   "source": [
    "print (animal_names.keys())\n",
    "print (sorted(animal_names.keys()))"
   ]
  },
  {
   "cell_type": "markdown",
   "metadata": {},
   "source": [
    "Find out the list of values using **values()**"
   ]
  },
  {
   "cell_type": "code",
   "execution_count": 77,
   "metadata": {},
   "outputs": [
    {
     "name": "stdout",
     "output_type": "stream",
     "text": [
      "dict_values([['Walter', 'Ra'], ['Jim', 'Roy', 'John', 'Lucky', 'Row'], ['Sax', 'Jack', 'Ann', 'Jeep']])\n",
      "[['Jim', 'Roy', 'John', 'Lucky', 'Row'], ['Sax', 'Jack', 'Ann', 'Jeep'], ['Walter', 'Ra']]\n"
     ]
    }
   ],
   "source": [
    "print (animal_names.values())\n",
    "print (sorted(animal_names.values()))"
   ]
  },
  {
   "cell_type": "markdown",
   "metadata": {},
   "source": [
    "**Refer a dictionary item using index**"
   ]
  },
  {
   "cell_type": "code",
   "execution_count": 78,
   "metadata": {},
   "outputs": [
    {
     "data": {
      "text/plain": [
       "['Jim', 'Roy', 'John', 'Lucky', 'Row']"
      ]
     },
     "execution_count": 78,
     "metadata": {},
     "output_type": "execute_result"
    }
   ],
   "source": [
    "animal_names['dogs']"
   ]
  },
  {
   "cell_type": "markdown",
   "metadata": {},
   "source": [
    "**Accessing non-existance key natively will return Error**"
   ]
  },
  {
   "cell_type": "code",
   "execution_count": 151,
   "metadata": {},
   "outputs": [],
   "source": [
    "##animal_count['cow']"
   ]
  },
  {
   "cell_type": "markdown",
   "metadata": {},
   "source": [
    "**Accessing non-existance key** with **get()** will return None"
   ]
  },
  {
   "cell_type": "code",
   "execution_count": 152,
   "metadata": {},
   "outputs": [
    {
     "name": "stdout",
     "output_type": "stream",
     "text": [
      "None\n"
     ]
    }
   ],
   "source": [
    "print (animal_counts.get('cow'))"
   ]
  },
  {
   "cell_type": "markdown",
   "metadata": {},
   "source": [
    "### Dict are Mutable\n",
    "Use **[key]** notation to update the content of element. However, if the key is non-existance, this will return error."
   ]
  },
  {
   "cell_type": "code",
   "execution_count": 90,
   "metadata": {},
   "outputs": [
    {
     "data": {
      "text/plain": [
       "{'cats': ['Walter', 'Ra', 'Jim'],\n",
       " 'dogs': ['Ali', 'Abu', 'Bakar'],\n",
       " 'horses': ['Sax', 'Jack', 'Ann', 'Jeep']}"
      ]
     },
     "execution_count": 90,
     "metadata": {},
     "output_type": "execute_result"
    }
   ],
   "source": [
    "animal_names['dogs'] = ['Ali','Abu','Bakar']\n",
    "animal_names"
   ]
  },
  {
   "cell_type": "markdown",
   "metadata": {},
   "source": [
    "Use **```clear()```** to erase all elements"
   ]
  },
  {
   "cell_type": "code",
   "execution_count": null,
   "metadata": {},
   "outputs": [],
   "source": [
    "animal_names.clear()"
   ]
  },
  {
   "cell_type": "markdown",
   "metadata": {},
   "source": [
    "## Sets\n",
    "Set is unordered collection of unique items"
   ]
  },
  {
   "cell_type": "code",
   "execution_count": 153,
   "metadata": {},
   "outputs": [
    {
     "name": "stdout",
     "output_type": "stream",
     "text": [
      "{'g', 'd', 'f', 'c', 'a', 'b', 'e'}\n"
     ]
    }
   ],
   "source": [
    "myset = {'a','b','c','d','a','b','e','f','g'}\n",
    "print (myset) # notice no repetition values"
   ]
  },
  {
   "cell_type": "markdown",
   "metadata": {},
   "source": [
    "### Membership Test"
   ]
  },
  {
   "cell_type": "code",
   "execution_count": 154,
   "metadata": {},
   "outputs": [
    {
     "name": "stdout",
     "output_type": "stream",
     "text": [
      "True\n",
      "False\n"
     ]
    }
   ],
   "source": [
    "print ('a' in myset)      # is member ?\n",
    "print ('f' not in myset)  # is not member ?"
   ]
  },
  {
   "cell_type": "markdown",
   "metadata": {},
   "source": [
    "### Subset Test\n",
    "Subset Test : <=  \n",
    "Proper Subset Test : <"
   ]
  },
  {
   "cell_type": "code",
   "execution_count": 155,
   "metadata": {},
   "outputs": [
    {
     "data": {
      "text/plain": [
       "True"
      ]
     },
     "execution_count": 155,
     "metadata": {},
     "output_type": "execute_result"
    }
   ],
   "source": [
    "mysubset = {'d','g'}\n",
    "mysubset <= myset"
   ]
  },
  {
   "cell_type": "markdown",
   "metadata": {},
   "source": [
    "Proper Subset test that the master set **contain at least one element** which is not in the subset"
   ]
  },
  {
   "cell_type": "code",
   "execution_count": 156,
   "metadata": {},
   "outputs": [
    {
     "name": "stdout",
     "output_type": "stream",
     "text": [
      "Is Subset :  True\n",
      "Is Proper Subet :  False\n"
     ]
    }
   ],
   "source": [
    "mysubset = {'b','a','d','c','e','f','g'}\n",
    "print ('Is Subset : ', mysubset <= myset)\n",
    "print ('Is Proper Subet : ', mysubset < myset)"
   ]
  },
  {
   "cell_type": "markdown",
   "metadata": {},
   "source": [
    "### Union using '|'"
   ]
  },
  {
   "cell_type": "code",
   "execution_count": 157,
   "metadata": {},
   "outputs": [
    {
     "data": {
      "text/plain": [
       "{'a', 'b', 'c', 'e', 'f'}"
      ]
     },
     "execution_count": 157,
     "metadata": {},
     "output_type": "execute_result"
    }
   ],
   "source": [
    "{'a','b','c'} | {'e','f'}"
   ]
  },
  {
   "cell_type": "markdown",
   "metadata": {},
   "source": [
    "### Intersection using '&'\n",
    "Any elments that exist in both left and right set"
   ]
  },
  {
   "cell_type": "code",
   "execution_count": 158,
   "metadata": {},
   "outputs": [
    {
     "data": {
      "text/plain": [
       "{'c', 'd'}"
      ]
     },
     "execution_count": 158,
     "metadata": {},
     "output_type": "execute_result"
    }
   ],
   "source": [
    "{'a','b','c','d'} & {'c','d','e','f'}"
   ]
  },
  {
   "cell_type": "markdown",
   "metadata": {},
   "source": [
    "### Difference using '-'\n",
    "Anything in **left** that is **not in right** "
   ]
  },
  {
   "cell_type": "code",
   "execution_count": 159,
   "metadata": {},
   "outputs": [
    {
     "data": {
      "text/plain": [
       "{'a', 'b'}"
      ]
     },
     "execution_count": 159,
     "metadata": {},
     "output_type": "execute_result"
    }
   ],
   "source": [
    "{'a','b','c','d'} - {'c','d','e','f'}"
   ]
  },
  {
   "cell_type": "markdown",
   "metadata": {},
   "source": [
    "## range\n",
    "**range(X)** generates sequence of integer object\n",
    "```\n",
    "range (lower_bound, upper_bound, step_size)  \n",
    "# lower bound is optional, default = 0\n",
    "# upper bound is not included in result\n",
    "# step is optional, default = 1\n",
    "```"
   ]
  },
  {
   "cell_type": "markdown",
   "metadata": {},
   "source": [
    "**Use list() to convert in order to view actual sequence of data**"
   ]
  },
  {
   "cell_type": "code",
   "execution_count": 160,
   "metadata": {},
   "outputs": [
    {
     "name": "stdout",
     "output_type": "stream",
     "text": [
      "<class 'range'>\n",
      "range(0, 10)\n",
      "[0, 1, 2, 3, 4, 5, 6, 7, 8, 9]\n"
     ]
    }
   ],
   "source": [
    "r = range(10)     # default lower bound =0, step =1\n",
    "print (type (r))\n",
    "print (r)\n",
    "print (list(r))"
   ]
  },
  {
   "cell_type": "markdown",
   "metadata": {},
   "source": [
    "**More Examples**"
   ]
  },
  {
   "cell_type": "code",
   "execution_count": 161,
   "metadata": {},
   "outputs": [
    {
     "name": "stdout",
     "output_type": "stream",
     "text": [
      "[2, 3, 4, 5, 6, 7]\n",
      "Odds Number :  [1, 3, 5, 7, 9]\n"
     ]
    }
   ],
   "source": [
    "print (list(range(2,8)))    # step not specified, default 1\n",
    "print ('Odds Number : ' , list(range(1,10,2))) # generate odds number"
   ]
  },
  {
   "cell_type": "markdown",
   "metadata": {},
   "source": [
    "# Control and Loops"
   ]
  },
  {
   "cell_type": "markdown",
   "metadata": {},
   "source": [
    "## If Statement\n",
    "### Multiline If.. Statements"
   ]
  },
  {
   "cell_type": "code",
   "execution_count": 162,
   "metadata": {},
   "outputs": [
    {
     "name": "stdout",
     "output_type": "stream",
     "text": [
      "hold\n",
      "end of programming\n"
     ]
    }
   ],
   "source": [
    "price = 102\n",
    "if price <100:\n",
    "    print ('buy')\n",
    "elif price < 110:\n",
    "    print ('hold')\n",
    "elif price < 120:\n",
    "    print ('think about it')\n",
    "else:\n",
    "    print ('sell')\n",
    "print('end of programming')"
   ]
  },
  {
   "cell_type": "markdown",
   "metadata": {},
   "source": [
    "### Single Line If .. Statement"
   ]
  },
  {
   "cell_type": "code",
   "execution_count": 4,
   "metadata": {},
   "outputs": [
    {
     "name": "stdout",
     "output_type": "stream",
     "text": [
      "buy\n"
     ]
    }
   ],
   "source": [
    "price = 70\n",
    "if price<80: print('buy')"
   ]
  },
  {
   "cell_type": "code",
   "execution_count": 5,
   "metadata": {},
   "outputs": [
    {
     "data": {
      "text/plain": [
       "'dont buy'"
      ]
     },
     "execution_count": 5,
     "metadata": {},
     "output_type": "execute_result"
    }
   ],
   "source": [
    "price = 85\n",
    "'buy' if (price<80) else 'dont buy'"
   ]
  },
  {
   "cell_type": "markdown",
   "metadata": {},
   "source": [
    "## For Loops"
   ]
  },
  {
   "cell_type": "markdown",
   "metadata": {},
   "source": [
    "### Loop thorugh 'range'"
   ]
  },
  {
   "cell_type": "code",
   "execution_count": 163,
   "metadata": {},
   "outputs": [
    {
     "name": "stdout",
     "output_type": "stream",
     "text": [
      "Odds Number :  1\n",
      "Odds Number :  3\n",
      "Odds Number :  5\n",
      "Odds Number :  7\n",
      "Odds Number :  9\n"
     ]
    }
   ],
   "source": [
    "for i in range (1,10,2):\n",
    "    print ('Odds Number : ',i) "
   ]
  },
  {
   "cell_type": "markdown",
   "metadata": {},
   "source": [
    "### Loop through 'list'\n",
    "#### Standard For Loop"
   ]
  },
  {
   "cell_type": "code",
   "execution_count": 164,
   "metadata": {},
   "outputs": [
    {
     "name": "stdout",
     "output_type": "stream",
     "text": [
      "Letter :  a\n",
      "Letter :  b\n",
      "Letter :  c\n",
      "Letter :  d\n"
     ]
    }
   ],
   "source": [
    "letters = ['a','b','c','d']\n",
    "for e in letters:\n",
    "    print ('Letter : ',e)"
   ]
  },
  {
   "cell_type": "markdown",
   "metadata": {},
   "source": [
    "#### List Comprehension"
   ]
  },
  {
   "cell_type": "markdown",
   "metadata": {},
   "source": [
    "Iterate through existing list, and **build new list** based on condition  \n",
    "```new_list = [expression(i) for i in old_list]```"
   ]
  },
  {
   "cell_type": "code",
   "execution_count": 47,
   "metadata": {},
   "outputs": [
    {
     "data": {
      "text/plain": [
       "['ABC', 'ABCD', 'BCDE', 'BCDEE', 'CDEFG']"
      ]
     },
     "execution_count": 47,
     "metadata": {},
     "output_type": "execute_result"
    }
   ],
   "source": [
    "s = ['abc','abcd','bcde','bcdee','cdefg']\n",
    "[x.upper() for x in s]"
   ]
  },
  {
   "cell_type": "markdown",
   "metadata": {},
   "source": [
    "Extend list comprehension can be extended with **```if```** condition**  \n",
    "```new_list = [expression(i) for i in old_list if filter(i)]```"
   ]
  },
  {
   "cell_type": "code",
   "execution_count": 53,
   "metadata": {},
   "outputs": [
    {
     "name": "stdout",
     "output_type": "stream",
     "text": [
      "['ABCD', 'BCDE', 'BCDEE']\n"
     ]
    }
   ],
   "source": [
    "old_list    = ['abc','abcd','bcde','bcdee','cdefg']\n",
    "matching = [ x.upper() for x in old_list if 'bcd' in x ]\n",
    "print( matching )"
   ]
  },
  {
   "cell_type": "markdown",
   "metadata": {},
   "source": [
    "### Loop Through 'Dictionary'\n",
    "Looping through dict will picup **key**"
   ]
  },
  {
   "cell_type": "code",
   "execution_count": 165,
   "metadata": {
    "scrolled": true
   },
   "outputs": [
    {
     "name": "stdout",
     "output_type": "stream",
     "text": [
      "x 1\n",
      "y 2\n"
     ]
    }
   ],
   "source": [
    "d = {\"x\": 1, \"y\": 2}\n",
    "for key in d:\n",
    "    print (key, d[key])"
   ]
  },
  {
   "cell_type": "markdown",
   "metadata": {},
   "source": [
    "## Generators"
   ]
  },
  {
   "cell_type": "markdown",
   "metadata": {},
   "source": [
    "- Generator is lazy, produce items only if asked for, hence more memory efficient\n",
    "- Generator is **function** with 'yield' instead of 'return'  \n",
    "- Generator contains one or more yields statement  \n",
    "- When called, it returns an object (iterator) but **does not start execution** immediately  \n",
    "- Methods like __iter__() and __next__() are implemented automatically. So we can iterate through the items using **next()**  \n",
    "- Once the function yields, the **function is paused** and the control is transferred to the caller  \n",
    "- Local variables and their states are **remembered** between successive calls  \n",
    "- Finally, when the function **terminates**, **StopIteration** is raised automatically on further calls"
   ]
  },
  {
   "cell_type": "markdown",
   "metadata": {},
   "source": [
    "### Basic Generator Function\n",
    "Below example give clear understanding of how generator works"
   ]
  },
  {
   "cell_type": "code",
   "execution_count": 166,
   "metadata": {},
   "outputs": [],
   "source": [
    "def my_gen():\n",
    "    n = 1\n",
    "    print('This is printed first')\n",
    "    # Generator function contains yield statements\n",
    "    yield n\n",
    "\n",
    "    n += 1\n",
    "    print('This is printed second')\n",
    "    yield n\n",
    "\n",
    "    n += 1\n",
    "    print('This is printed at last')\n",
    "    yield n"
   ]
  },
  {
   "cell_type": "code",
   "execution_count": 167,
   "metadata": {},
   "outputs": [
    {
     "data": {
      "text/plain": [
       "generator"
      ]
     },
     "execution_count": 167,
     "metadata": {},
     "output_type": "execute_result"
    }
   ],
   "source": [
    "a = my_gen()\n",
    "type(a)"
   ]
  },
  {
   "cell_type": "code",
   "execution_count": 168,
   "metadata": {},
   "outputs": [
    {
     "name": "stdout",
     "output_type": "stream",
     "text": [
      "This is printed first\n"
     ]
    },
    {
     "data": {
      "text/plain": [
       "1"
      ]
     },
     "execution_count": 168,
     "metadata": {},
     "output_type": "execute_result"
    }
   ],
   "source": [
    "next(a)"
   ]
  },
  {
   "cell_type": "code",
   "execution_count": 169,
   "metadata": {},
   "outputs": [
    {
     "name": "stdout",
     "output_type": "stream",
     "text": [
      "This is printed second\n"
     ]
    },
    {
     "data": {
      "text/plain": [
       "2"
      ]
     },
     "execution_count": 169,
     "metadata": {},
     "output_type": "execute_result"
    }
   ],
   "source": [
    "next(a)"
   ]
  },
  {
   "cell_type": "code",
   "execution_count": 170,
   "metadata": {},
   "outputs": [
    {
     "name": "stdout",
     "output_type": "stream",
     "text": [
      "This is printed at last\n"
     ]
    },
    {
     "data": {
      "text/plain": [
       "3"
      ]
     },
     "execution_count": 170,
     "metadata": {},
     "output_type": "execute_result"
    }
   ],
   "source": [
    "next(a)"
   ]
  },
  {
   "cell_type": "code",
   "execution_count": 171,
   "metadata": {},
   "outputs": [
    {
     "ename": "StopIteration",
     "evalue": "",
     "output_type": "error",
     "traceback": [
      "\u001b[1;31m---------------------------------------------------------------------------\u001b[0m",
      "\u001b[1;31mStopIteration\u001b[0m                             Traceback (most recent call last)",
      "\u001b[1;32m<ipython-input-171-15841f3f11d4>\u001b[0m in \u001b[0;36m<module>\u001b[1;34m()\u001b[0m\n\u001b[1;32m----> 1\u001b[1;33m \u001b[0mnext\u001b[0m\u001b[1;33m(\u001b[0m\u001b[0ma\u001b[0m\u001b[1;33m)\u001b[0m\u001b[1;33m\u001b[0m\u001b[0m\n\u001b[0m",
      "\u001b[1;31mStopIteration\u001b[0m: "
     ]
    }
   ],
   "source": [
    "next(a)"
   ]
  },
  {
   "cell_type": "markdown",
   "metadata": {},
   "source": [
    "### Useful Generator Fuction\n",
    "Generator is only useful when it uses **for-loop**\n",
    "- for-loop within generator\n",
    "- for-loop to iterate through a generator"
   ]
  },
  {
   "cell_type": "code",
   "execution_count": null,
   "metadata": {},
   "outputs": [],
   "source": [
    "def rev_str(my_str):\n",
    "    length = len(my_str)\n",
    "    for i in range(length - 1,-1,-1):\n",
    "        yield my_str[i]"
   ]
  },
  {
   "cell_type": "code",
   "execution_count": null,
   "metadata": {},
   "outputs": [],
   "source": [
    "for c in rev_str(\"hello\"):\n",
    "     print(c)"
   ]
  },
  {
   "cell_type": "markdown",
   "metadata": {},
   "source": [
    "### Generator Expression\n",
    "Use () to create an annonymous generator function"
   ]
  },
  {
   "cell_type": "code",
   "execution_count": null,
   "metadata": {},
   "outputs": [],
   "source": [
    "my_list = [1, 3, 6, 10]\n",
    "a = (x**2 for x in my_list)"
   ]
  },
  {
   "cell_type": "code",
   "execution_count": null,
   "metadata": {},
   "outputs": [],
   "source": [
    "next(a)"
   ]
  },
  {
   "cell_type": "code",
   "execution_count": null,
   "metadata": {},
   "outputs": [],
   "source": [
    "next(a)"
   ]
  },
  {
   "cell_type": "code",
   "execution_count": null,
   "metadata": {},
   "outputs": [],
   "source": [
    "sum(a) # sum the power of 6,10"
   ]
  },
  {
   "cell_type": "markdown",
   "metadata": {},
   "source": [
    "### Compare to Iterator Class"
   ]
  },
  {
   "cell_type": "code",
   "execution_count": null,
   "metadata": {},
   "outputs": [],
   "source": [
    "class PowTwo:\n",
    "    def __init__(self, max = 0):\n",
    "        self.max = max\n",
    "\n",
    "    def __iter__(self):\n",
    "        self.n = 0\n",
    "        return self\n",
    "\n",
    "    def __next__(self):\n",
    "        if self.n > self.max:\n",
    "            raise StopIteration\n",
    "\n",
    "        result = 2 ** self.n\n",
    "        self.n += 1\n",
    "        return result"
   ]
  },
  {
   "cell_type": "markdown",
   "metadata": {},
   "source": [
    "**Obviously, Generator is more concise and cleaner**"
   ]
  },
  {
   "cell_type": "code",
   "execution_count": null,
   "metadata": {},
   "outputs": [],
   "source": [
    "def PowTwoGen(max = 0):\n",
    "    n = 0\n",
    "    while n < max:\n",
    "        yield 2 ** n\n",
    "        n += 1"
   ]
  },
  {
   "cell_type": "markdown",
   "metadata": {},
   "source": [
    "# Library and Functions\n",
    "Library are group of functions"
   ]
  },
  {
   "cell_type": "markdown",
   "metadata": {},
   "source": [
    "## Package Source"
   ]
  },
  {
   "cell_type": "markdown",
   "metadata": {},
   "source": [
    "### Conda\n",
    "- Package manager for any language  \n",
    "- Install binaries"
   ]
  },
  {
   "cell_type": "markdown",
   "metadata": {},
   "source": [
    "### PIP\n",
    "- Package manager python only  \n",
    "- Compile from source  \n",
    "- Stands for Pip Installs Packages  \n",
    "- Python's officially-sanctioned package manager, and is most commonly used to install packages published on the **Python Package Index (PyPI)**  \n",
    "- Both pip and PyPI are governed and supported by the Python Packaging Authority (PyPA)."
   ]
  },
  {
   "cell_type": "markdown",
   "metadata": {},
   "source": [
    "## Importing Library\n",
    "\n",
    "There are two methods to import library functions:  \n",
    "\n",
    "**Standalone Namespace**\n",
    "```\n",
    "- import <libName>                        # access function through: libName.functionName\n",
    "- import <libName> as <shortName>         # access function through: shortName.functionName\n",
    "```\n",
    "**Global Namespace**\n",
    "```\n",
    "- from   <libName> import *               # all functions available at global namespace\n",
    "- from   <libName> import <functionName>  # access function through: functionName    \n",
    "- from   <libName> import <functionName> as <shortFunctionName>  # access function through shortFunctionName\n",
    "```"
   ]
  },
  {
   "cell_type": "markdown",
   "metadata": {},
   "source": [
    "### Import Entire Library"
   ]
  },
  {
   "cell_type": "markdown",
   "metadata": {},
   "source": [
    "#### Import Into Standalone Namespace"
   ]
  },
  {
   "cell_type": "code",
   "execution_count": null,
   "metadata": {},
   "outputs": [],
   "source": [
    "import math\n",
    "math.sqrt(9)"
   ]
  },
  {
   "cell_type": "markdown",
   "metadata": {},
   "source": [
    "Use **as** for aliasing library name. This is useful if you have conflicting library name"
   ]
  },
  {
   "cell_type": "code",
   "execution_count": null,
   "metadata": {},
   "outputs": [],
   "source": [
    "import math as m\n",
    "m.sqrt(9)"
   ]
  },
  {
   "cell_type": "markdown",
   "metadata": {},
   "source": [
    "#### Import Into Global Name Space\n",
    "All functions in the library accessible through global namespace\n",
    "```\n",
    "from <libName> import *\n",
    "```"
   ]
  },
  {
   "cell_type": "markdown",
   "metadata": {},
   "source": [
    "### Import Specific Function"
   ]
  },
  {
   "cell_type": "code",
   "execution_count": null,
   "metadata": {},
   "outputs": [],
   "source": [
    "from math import sqrt\n",
    "print (sqrt(9))"
   ]
  },
  {
   "cell_type": "markdown",
   "metadata": {},
   "source": [
    "Use **as** for aliasing function name"
   ]
  },
  {
   "cell_type": "code",
   "execution_count": null,
   "metadata": {},
   "outputs": [],
   "source": [
    "from math import sqrt as sq\n",
    "print (sq(9))"
   ]
  },
  {
   "cell_type": "markdown",
   "metadata": {},
   "source": [
    "### Machine Learning Packages"
   ]
  },
  {
   "cell_type": "markdown",
   "metadata": {},
   "source": [
    "![alt text](img/ml_libraries.jpg)"
   ]
  },
  {
   "cell_type": "markdown",
   "metadata": {},
   "source": [
    "## Define Function"
   ]
  },
  {
   "cell_type": "markdown",
   "metadata": {},
   "source": [
    "### Function Arguments\n",
    "By default, arguments are assigned to function left to right"
   ]
  },
  {
   "cell_type": "code",
   "execution_count": 215,
   "metadata": {},
   "outputs": [
    {
     "name": "stdout",
     "output_type": "stream",
     "text": [
      "x: 5\n",
      "y: 8\n"
     ]
    }
   ],
   "source": [
    "def myfun(x,y):\n",
    "    print ('x:',x)\n",
    "    print ('y:',y)\n",
    "    \n",
    "myfun(5,8)"
   ]
  },
  {
   "cell_type": "markdown",
   "metadata": {},
   "source": [
    "However, you can also specify the argument assigment during function call"
   ]
  },
  {
   "cell_type": "code",
   "execution_count": 216,
   "metadata": {},
   "outputs": [
    {
     "name": "stdout",
     "output_type": "stream",
     "text": [
      "x: 5\n",
      "y: 8\n"
     ]
    }
   ],
   "source": [
    "myfun (y=8,x=5)"
   ]
  },
  {
   "cell_type": "markdown",
   "metadata": {},
   "source": [
    "Function can have **default argement value**"
   ]
  },
  {
   "cell_type": "code",
   "execution_count": 110,
   "metadata": {},
   "outputs": [
    {
     "name": "stdout",
     "output_type": "stream",
     "text": [
      "x: 5\n",
      "y: 1\n"
     ]
    }
   ],
   "source": [
    "def myfun(x=1,y=1):  # default argument value is 1\n",
    "    print ('x:',x)\n",
    "    print ('y:',y)\n",
    "    \n",
    "myfun(5)  # pass only one argument"
   ]
  },
  {
   "cell_type": "markdown",
   "metadata": {},
   "source": [
    "### List Within Function\n",
    "\n",
    "Consider a function is an object, its variable (some_list) is immutable and hence its reference won't change, even data changes"
   ]
  },
  {
   "cell_type": "code",
   "execution_count": null,
   "metadata": {},
   "outputs": [],
   "source": [
    "def spam (elem, some_list=[]):\n",
    "    some_list.append(elem)\n",
    "    return some_list\n",
    "\n",
    "print (spam(1))\n",
    "print (spam(2))\n",
    "print (spam(3))"
   ]
  },
  {
   "cell_type": "markdown",
   "metadata": {},
   "source": [
    "### Return Statement"
   ]
  },
  {
   "cell_type": "code",
   "execution_count": null,
   "metadata": {},
   "outputs": [],
   "source": [
    "def bigger(x,y):\n",
    "    if (x>y):\n",
    "        return x\n",
    "    else:\n",
    "        return y\n",
    "    \n",
    "print (bigger(5,8))"
   ]
  },
  {
   "cell_type": "markdown",
   "metadata": {},
   "source": [
    "### No Return Statement\n",
    "if no **return** statement, python return **None**"
   ]
  },
  {
   "cell_type": "code",
   "execution_count": 120,
   "metadata": {},
   "outputs": [
    {
     "name": "stdout",
     "output_type": "stream",
     "text": [
      "This is a dummy function, return no value\n"
     ]
    }
   ],
   "source": [
    "def dummy():\n",
    "    print ('This is a dummy function, return no value')\n",
    "\n",
    "dummy()"
   ]
  },
  {
   "cell_type": "markdown",
   "metadata": {},
   "source": [
    "### Return Multiple Value\n",
    "Multiple value is returned as **tuple**. Use multiple assignment to assign to multiple variable"
   ]
  },
  {
   "cell_type": "code",
   "execution_count": null,
   "metadata": {},
   "outputs": [],
   "source": [
    "def minmax(x,y,z):\n",
    "    return min(x,y,z), max(x,y,z)\n",
    "\n",
    "a,b = minmax(7,8,9)     # multiple assignment\n",
    "c   = minmax(7,8,9)     # tuple\n",
    "\n",
    "print (a,b)\n",
    "print (c)    "
   ]
  },
  {
   "cell_type": "markdown",
   "metadata": {},
   "source": [
    "### Passing Function as Argument \n",
    "You can pass a function name as an argument to a function"
   ]
  },
  {
   "cell_type": "code",
   "execution_count": 121,
   "metadata": {
    "code_folding": []
   },
   "outputs": [
    {
     "name": "stdout",
     "output_type": "stream",
     "text": [
      "hello 54\n"
     ]
    }
   ],
   "source": [
    "def myfun(x,y,f):\n",
    "    f(x,y)\n",
    "\n",
    "myfun('hello',54,print)"
   ]
  },
  {
   "cell_type": "markdown",
   "metadata": {},
   "source": [
    "### Arguments\n",
    "\n",
    "args is a **tuple**"
   ]
  },
  {
   "cell_type": "markdown",
   "metadata": {},
   "source": [
    "#### Example 1\n",
    "Error example, too many parameters passed over to function"
   ]
  },
  {
   "cell_type": "code",
   "execution_count": 197,
   "metadata": {},
   "outputs": [
    {
     "ename": "TypeError",
     "evalue": "myfun() takes 2 positional arguments but 3 were given",
     "output_type": "error",
     "traceback": [
      "\u001b[1;31m---------------------------------------------------------------------------\u001b[0m",
      "\u001b[1;31mTypeError\u001b[0m                                 Traceback (most recent call last)",
      "\u001b[1;32m<ipython-input-197-baa9bece46e7>\u001b[0m in \u001b[0;36m<module>\u001b[1;34m()\u001b[0m\n\u001b[0;32m      4\u001b[0m     \u001b[0mprint\u001b[0m \u001b[1;33m(\u001b[0m\u001b[0mz\u001b[0m\u001b[1;33m)\u001b[0m\u001b[1;33m\u001b[0m\u001b[0m\n\u001b[0;32m      5\u001b[0m \u001b[1;33m\u001b[0m\u001b[0m\n\u001b[1;32m----> 6\u001b[1;33m \u001b[0mmyfun\u001b[0m\u001b[1;33m(\u001b[0m\u001b[1;36m1\u001b[0m\u001b[1;33m,\u001b[0m\u001b[1;36m2\u001b[0m\u001b[1;33m,\u001b[0m\u001b[1;36m3\u001b[0m\u001b[1;33m)\u001b[0m\u001b[1;33m\u001b[0m\u001b[0m\n\u001b[0m",
      "\u001b[1;31mTypeError\u001b[0m: myfun() takes 2 positional arguments but 3 were given"
     ]
    }
   ],
   "source": [
    "def myfun(x,y):\n",
    "    print (x)\n",
    "    print (y)\n",
    "    print (z)\n",
    "    \n",
    "myfun(1,2,3)"
   ]
  },
  {
   "cell_type": "markdown",
   "metadata": {},
   "source": [
    "#### Example 2\n",
    "First argument goes to x, remaining goes to args as tuple"
   ]
  },
  {
   "cell_type": "code",
   "execution_count": 109,
   "metadata": {},
   "outputs": [
    {
     "name": "stdout",
     "output_type": "stream",
     "text": [
      "1\n",
      "(2, 3, 4, 5, 'abc')\n"
     ]
    }
   ],
   "source": [
    "def myfun(x,*args):\n",
    "    print (x)\n",
    "    print (args)     #tuple\n",
    "    \n",
    "myfun(1,2,3,4,5,'abc')"
   ]
  },
  {
   "cell_type": "markdown",
   "metadata": {},
   "source": [
    "#### Example 3\n",
    "First argument goes to x, second argument goest to y, remaining goes to args"
   ]
  },
  {
   "cell_type": "code",
   "execution_count": 185,
   "metadata": {},
   "outputs": [
    {
     "name": "stdout",
     "output_type": "stream",
     "text": [
      "1\n",
      "2\n",
      "(3,)\n"
     ]
    }
   ],
   "source": [
    "def myfun(x,y,*args):\n",
    "    print (x)\n",
    "    print (y)\n",
    "    print (args)     #tuple\n",
    "    \n",
    "myfun(1,2,3)"
   ]
  },
  {
   "cell_type": "markdown",
   "metadata": {},
   "source": [
    "#### Example 4"
   ]
  },
  {
   "cell_type": "code",
   "execution_count": 198,
   "metadata": {},
   "outputs": [
    {
     "name": "stdout",
     "output_type": "stream",
     "text": [
      "1\n",
      "9\n",
      "(2, 3, 4, 5)\n"
     ]
    }
   ],
   "source": [
    "def myfun(x,*args, y=9):\n",
    "    print (x)\n",
    "    print (y)\n",
    "    print (args)     #tuple\n",
    "    \n",
    "myfun(1,2,3,4,5)"
   ]
  },
  {
   "cell_type": "markdown",
   "metadata": {},
   "source": [
    "#### Example 5\n",
    "All goes to args"
   ]
  },
  {
   "cell_type": "code",
   "execution_count": 188,
   "metadata": {},
   "outputs": [
    {
     "name": "stdout",
     "output_type": "stream",
     "text": [
      "(1, 2, 3, 4, 5)\n"
     ]
    }
   ],
   "source": [
    "def myfun(*args):\n",
    "    print (args)     #tuple\n",
    "    \n",
    "myfun(1,2,3,4,5)"
   ]
  },
  {
   "cell_type": "markdown",
   "metadata": {},
   "source": [
    "#### Example 6 Empty args"
   ]
  },
  {
   "cell_type": "code",
   "execution_count": 200,
   "metadata": {},
   "outputs": [
    {
     "name": "stdout",
     "output_type": "stream",
     "text": [
      "1\n",
      "2\n",
      "()\n"
     ]
    }
   ],
   "source": [
    "def myfun(x,y,*args):\n",
    "    print (x)\n",
    "    print (y)\n",
    "    print (args)\n",
    "    \n",
    "myfun(1,2)"
   ]
  },
  {
   "cell_type": "markdown",
   "metadata": {},
   "source": [
    "### keyword arguments\n",
    "kwargs is a **dictionary**"
   ]
  },
  {
   "cell_type": "markdown",
   "metadata": {},
   "source": [
    "#### Example 1"
   ]
  },
  {
   "cell_type": "code",
   "execution_count": 211,
   "metadata": {},
   "outputs": [
    {
     "name": "stdout",
     "output_type": "stream",
     "text": [
      "{'a': 1, 'b': 2, 'c': 3}\n"
     ]
    }
   ],
   "source": [
    "def foo(**kwargs):\n",
    "    print(kwargs)\n",
    "    \n",
    "foo(a=1,b=2,c=3)"
   ]
  },
  {
   "cell_type": "markdown",
   "metadata": {},
   "source": [
    "#### Example 2"
   ]
  },
  {
   "cell_type": "code",
   "execution_count": 202,
   "metadata": {},
   "outputs": [
    {
     "name": "stdout",
     "output_type": "stream",
     "text": [
      "9\n",
      "{'a': 1, 'b': 2, 'c': 3}\n"
     ]
    }
   ],
   "source": [
    "def foo(x,**kwargs):\n",
    "    print(x)\n",
    "    print(kwargs)\n",
    "    \n",
    "foo(9,a=1,b=2,c=3)"
   ]
  },
  {
   "cell_type": "code",
   "execution_count": 204,
   "metadata": {},
   "outputs": [
    {
     "name": "stdout",
     "output_type": "stream",
     "text": [
      "9\n",
      "{}\n"
     ]
    }
   ],
   "source": [
    "foo(9) #empty dictionary"
   ]
  },
  {
   "cell_type": "markdown",
   "metadata": {},
   "source": [
    "#### Example 3"
   ]
  },
  {
   "cell_type": "code",
   "execution_count": 217,
   "metadata": {},
   "outputs": [
    {
     "name": "stdout",
     "output_type": "stream",
     "text": [
      "2\n",
      "3\n",
      "4\n",
      "1\n"
     ]
    }
   ],
   "source": [
    "def foo(a,b,c,d=1):\n",
    "    print(a)\n",
    "    print(b)\n",
    "    print(c)\n",
    "    print(d)\n",
    "    \n",
    "foo(**{\"a\":2,\"b\":3,\"c\":4})"
   ]
  },
  {
   "cell_type": "markdown",
   "metadata": {},
   "source": [
    "### Mixing *args, **kwargs\n",
    "\n",
    "Always put args **before** kwargs"
   ]
  },
  {
   "cell_type": "markdown",
   "metadata": {},
   "source": [
    "#### Example 1"
   ]
  },
  {
   "cell_type": "code",
   "execution_count": 210,
   "metadata": {},
   "outputs": [
    {
     "name": "stdout",
     "output_type": "stream",
     "text": [
      "1\n",
      "2\n",
      "{'c': 3, 'd': 4}\n"
     ]
    }
   ],
   "source": [
    "def foo(x,y=1,**kwargs):\n",
    "    print (x)\n",
    "    print (y)\n",
    "    print (kwargs)\n",
    "    \n",
    "foo(1,2,c=3,d=4)"
   ]
  },
  {
   "cell_type": "markdown",
   "metadata": {},
   "source": [
    "#### Example 2"
   ]
  },
  {
   "cell_type": "code",
   "execution_count": 212,
   "metadata": {},
   "outputs": [
    {
     "name": "stdout",
     "output_type": "stream",
     "text": [
      "1\n",
      "2\n",
      "(3, 4, 5)\n",
      "{'c': 6, 'd': 7}\n"
     ]
    }
   ],
   "source": [
    "def foo(x,y=2,*args,**kwargs):\n",
    "    print (x)\n",
    "    print (y)\n",
    "    print (args)\n",
    "    print (kwargs)\n",
    "    \n",
    "foo(1,2,3,4,5,c=6,d=7)"
   ]
  },
  {
   "cell_type": "markdown",
   "metadata": {},
   "source": [
    "# Object Oriented Programming"
   ]
  },
  {
   "cell_type": "markdown",
   "metadata": {},
   "source": [
    "## Defining Class"
   ]
  },
  {
   "cell_type": "markdown",
   "metadata": {},
   "source": [
    "- Every function within a class **must have** at least one parameter - **self**, accept it\n",
    "- Use **init** as the constructor function. **init** is optional"
   ]
  },
  {
   "cell_type": "code",
   "execution_count": null,
   "metadata": {},
   "outputs": [],
   "source": [
    "class Person:\n",
    "    wallet = 0  # \n",
    "    def __init__(self, myname,money=0):   # constructor\n",
    "        self.name = myname\n",
    "        self.wallet=money\n",
    "    def say_hi(self):\n",
    "        print('Hello, my name is : ', self.name)\n",
    "    def say_bye(self):\n",
    "        print('Goodbye', Person.ID)\n",
    "    def take(self,amount):\n",
    "        self.wallet+=amount\n",
    "    def balance(self):\n",
    "        print('Wallet Balance:',self.wallet)"
   ]
  },
  {
   "cell_type": "markdown",
   "metadata": {},
   "source": [
    "## Object Class Assignment"
   ]
  },
  {
   "cell_type": "code",
   "execution_count": null,
   "metadata": {},
   "outputs": [],
   "source": [
    "#p = Person() ## this will fail, as the constructor expect a parameter\n",
    "p1 = Person('Yong')  \n",
    "p2 = Person('Gan',200)"
   ]
  },
  {
   "cell_type": "markdown",
   "metadata": {},
   "source": [
    "## Calling Method"
   ]
  },
  {
   "cell_type": "code",
   "execution_count": null,
   "metadata": {},
   "outputs": [],
   "source": [
    "p1.say_hi()\n",
    "p1.balance()"
   ]
  },
  {
   "cell_type": "code",
   "execution_count": null,
   "metadata": {},
   "outputs": [],
   "source": [
    "p2.say_hi()\n",
    "p2.balance()"
   ]
  },
  {
   "cell_type": "markdown",
   "metadata": {},
   "source": [
    "## Getting Property"
   ]
  },
  {
   "cell_type": "code",
   "execution_count": null,
   "metadata": {},
   "outputs": [],
   "source": [
    "p1.wallet"
   ]
  },
  {
   "cell_type": "code",
   "execution_count": null,
   "metadata": {},
   "outputs": [],
   "source": [
    "p2.wallet"
   ]
  },
  {
   "cell_type": "markdown",
   "metadata": {},
   "source": [
    "## Setting Property"
   ]
  },
  {
   "cell_type": "code",
   "execution_count": null,
   "metadata": {},
   "outputs": [],
   "source": [
    "p1.wallet = 900\n",
    "p1.wallet"
   ]
  },
  {
   "cell_type": "markdown",
   "metadata": {},
   "source": [
    "# Decorator"
   ]
  },
  {
   "cell_type": "markdown",
   "metadata": {},
   "source": [
    "## Definition\n",
    "- **Decorator** is a function that accept callable as the **only argument**\n",
    "- The main purpose of decarator is to **enhance** the program of the decorated function\n",
    "- It returns a **callable**"
   ]
  },
  {
   "cell_type": "markdown",
   "metadata": {},
   "source": [
    "## Examples"
   ]
  },
  {
   "cell_type": "markdown",
   "metadata": {},
   "source": [
    "### Example 1 - Plain decorator function\n",
    "- Many times, it is useful to register a function elsewhere - for example, registering a task in a task runner, or a functin with signal handler\n",
    "- **register** is a decarator, it accept **decorated** as the only argument\n",
    "- foo() and bar() are the **decorated function** of **register**"
   ]
  },
  {
   "cell_type": "code",
   "execution_count": 8,
   "metadata": {},
   "outputs": [],
   "source": [
    "registry = []\n",
    "\n",
    "def register(decorated):\n",
    "    registry.append(decorated)\n",
    "    return decorated\n",
    "\n",
    "@register\n",
    "def foo():\n",
    "    return 3\n",
    "\n",
    "@register\n",
    "def bar():\n",
    "    return 5"
   ]
  },
  {
   "cell_type": "code",
   "execution_count": 4,
   "metadata": {},
   "outputs": [
    {
     "data": {
      "text/plain": [
       "[<function __main__.foo>, <function __main__.bar>]"
      ]
     },
     "execution_count": 4,
     "metadata": {},
     "output_type": "execute_result"
    }
   ],
   "source": [
    "registry"
   ]
  },
  {
   "cell_type": "code",
   "execution_count": 11,
   "metadata": {},
   "outputs": [
    {
     "data": {
      "text/plain": [
       "3"
      ]
     },
     "execution_count": 11,
     "metadata": {},
     "output_type": "execute_result"
    }
   ],
   "source": [
    "registry[0]()"
   ]
  },
  {
   "cell_type": "code",
   "execution_count": 12,
   "metadata": {},
   "outputs": [
    {
     "data": {
      "text/plain": [
       "5"
      ]
     },
     "execution_count": 12,
     "metadata": {},
     "output_type": "execute_result"
    }
   ],
   "source": [
    "registry[1]()"
   ]
  },
  {
   "cell_type": "markdown",
   "metadata": {},
   "source": [
    "### Example 2 - Decorator with Class\n",
    "- Extending the use case above\n",
    "- register is the **decarator**, it has only one argument"
   ]
  },
  {
   "cell_type": "code",
   "execution_count": 103,
   "metadata": {},
   "outputs": [],
   "source": [
    "class Registry(object):\n",
    "    def __init__(self):\n",
    "        self._functions = []\n",
    "    def register(self,decorated):\n",
    "        self._functions.append(decorated)\n",
    "        return decorated\n",
    "    def run_all(self,*args,**kwargs):\n",
    "        return_values = []\n",
    "        for func in self._functions:\n",
    "            return_values.append(func(*args,**kwargs))\n",
    "        return return_values"
   ]
  },
  {
   "cell_type": "markdown",
   "metadata": {},
   "source": [
    "The decorator will decorate two functions, for both object **a** and **b**"
   ]
  },
  {
   "cell_type": "code",
   "execution_count": 104,
   "metadata": {},
   "outputs": [],
   "source": [
    "a = Registry()\n",
    "b = Registry()\n",
    "\n",
    "@a.register\n",
    "def foo(x=3):\n",
    "    return x\n",
    "\n",
    "@b.register\n",
    "def bar(x=5):\n",
    "    return x\n",
    "\n",
    "@a.register\n",
    "@b.register\n",
    "def bax(x=7):\n",
    "    return x"
   ]
  },
  {
   "cell_type": "markdown",
   "metadata": {},
   "source": [
    "Observe the result"
   ]
  },
  {
   "cell_type": "code",
   "execution_count": 108,
   "metadata": {},
   "outputs": [
    {
     "name": "stdout",
     "output_type": "stream",
     "text": [
      "[<function foo at 0x000002AB7B6C6BF8>, <function bax at 0x000002AB7B6C80D0>]\n",
      "[<function bar at 0x000002AB7B6C6C80>, <function bax at 0x000002AB7B6C80D0>]\n"
     ]
    }
   ],
   "source": [
    "print (a._functions)\n",
    "print (b._functions)"
   ]
  },
  {
   "cell_type": "code",
   "execution_count": 105,
   "metadata": {},
   "outputs": [
    {
     "name": "stdout",
     "output_type": "stream",
     "text": [
      "[3, 7]\n",
      "[5, 7]\n"
     ]
    }
   ],
   "source": [
    "print (a.run_all())\n",
    "print (b.run_all())"
   ]
  },
  {
   "cell_type": "code",
   "execution_count": null,
   "metadata": {},
   "outputs": [],
   "source": []
  },
  {
   "cell_type": "code",
   "execution_count": 106,
   "metadata": {},
   "outputs": [
    {
     "name": "stdout",
     "output_type": "stream",
     "text": [
      "[9, 9]\n",
      "[9, 9]\n"
     ]
    }
   ],
   "source": [
    "print ( a.run_all(x=9) )\n",
    "print ( b.run_all(x=9) )"
   ]
  },
  {
   "cell_type": "markdown",
   "metadata": {},
   "source": [
    "# datetime Standard Library\n",
    "This is a built-in library by Python. There is no need to install this library.\n",
    "\n",
    "## ISO8601\n",
    "\n",
    "https://en.wikipedia.org/wiki/ISO_8601#Time_zone_designators\n",
    "\n",
    "### Date Time\n",
    "```UTC:   \"2007-04-05T14:30Z\"      #notice Z\n",
    "GMT+8:  \"2007-04-05T12:30+08:00  #notice +08:00\n",
    "GMT+8:  \"2007-04-05T12:30+0800   #notice +0800\n",
    "GMT+8:  \"2007-04-05T12:30+08     #notice +08```\n",
    "\n",
    "### Date\n",
    "2019-02-04 #notice no timezone available"
   ]
  },
  {
   "cell_type": "markdown",
   "metadata": {},
   "source": [
    "## Module Import"
   ]
  },
  {
   "cell_type": "code",
   "execution_count": 176,
   "metadata": {},
   "outputs": [],
   "source": [
    "from datetime import date     # module for date object\n",
    "from datetime import time     # module for time object\n",
    "from datetime import datetime # module for datetime object\n",
    "from datetime import timedelta"
   ]
  },
  {
   "cell_type": "markdown",
   "metadata": {},
   "source": [
    "## Class\n",
    "datetime library contain **three class of objects**:  \n",
    "- **date** (year,month,day)  \n",
    "- **time** (hour,minute,second)  \n",
    "- **datetime** (year,month,day,hour,minute,second)  \n",
    "- **timedelta**: duration between two datetime or date object"
   ]
  },
  {
   "cell_type": "markdown",
   "metadata": {},
   "source": [
    "## date"
   ]
  },
  {
   "cell_type": "markdown",
   "metadata": {},
   "source": [
    "### Constructor"
   ]
  },
  {
   "cell_type": "code",
   "execution_count": 177,
   "metadata": {},
   "outputs": [
    {
     "name": "stdout",
     "output_type": "stream",
     "text": [
      "2000-01-01\n",
      "2000-01-01\n",
      "<class 'datetime.date'>\n"
     ]
    }
   ],
   "source": [
    "print( date(2000,1,1) )\n",
    "print( date(year=2000,month=1,day=1) )\n",
    "print( type(date(year=2000,month=1,day=1)))"
   ]
  },
  {
   "cell_type": "markdown",
   "metadata": {},
   "source": [
    "### Class Method"
   ]
  },
  {
   "cell_type": "markdown",
   "metadata": {},
   "source": [
    "#### ```today```\n",
    "This is **local date** (not UTC)"
   ]
  },
  {
   "cell_type": "code",
   "execution_count": 39,
   "metadata": {},
   "outputs": [
    {
     "data": {
      "text/plain": [
       "datetime.date(2019, 2, 5)"
      ]
     },
     "execution_count": 39,
     "metadata": {},
     "output_type": "execute_result"
    }
   ],
   "source": [
    "date.today()"
   ]
  },
  {
   "cell_type": "code",
   "execution_count": 40,
   "metadata": {},
   "outputs": [
    {
     "name": "stdout",
     "output_type": "stream",
     "text": [
      "2019-02-05\n"
     ]
    }
   ],
   "source": [
    "print( date.today() )"
   ]
  },
  {
   "cell_type": "markdown",
   "metadata": {},
   "source": [
    "#### Convert From ISO ```fromisoformat```\n",
    "```strptime``` is **not available for date** conversion. It is only for datetime conversion"
   ]
  },
  {
   "cell_type": "code",
   "execution_count": 13,
   "metadata": {},
   "outputs": [
    {
     "data": {
      "text/plain": [
       "datetime.date(2011, 11, 11)"
      ]
     },
     "execution_count": 13,
     "metadata": {},
     "output_type": "execute_result"
    }
   ],
   "source": [
    "date.fromisoformat('2011-11-11')"
   ]
  },
  {
   "cell_type": "markdown",
   "metadata": {},
   "source": [
    "To convert **non-iso format** date string to date object, **convert to datetime first**, then to date"
   ]
  },
  {
   "cell_type": "markdown",
   "metadata": {},
   "source": [
    "### Instance Method"
   ]
  },
  {
   "cell_type": "markdown",
   "metadata": {},
   "source": [
    "#### ```replace()```\n",
    "- Replace **year/month/day** with specified parameter, non specified params will remain unchange.  \n",
    "- Example below change only month. You can change year or day in combination"
   ]
  },
  {
   "cell_type": "code",
   "execution_count": 9,
   "metadata": {},
   "outputs": [
    {
     "name": "stdout",
     "output_type": "stream",
     "text": [
      "2019-02-05\n",
      "2019-08-05\n"
     ]
    }
   ],
   "source": [
    "print( date.today() )\n",
    "print( date.today().replace(month=8) )"
   ]
  },
  {
   "cell_type": "markdown",
   "metadata": {},
   "source": [
    "#### ```weekday(), isoweekday()```\n",
    "For ```weekday()```, Zero being Monday   \n",
    "For ```isoweekday()```, Zero being Sunday"
   ]
  },
  {
   "cell_type": "code",
   "execution_count": 106,
   "metadata": {},
   "outputs": [
    {
     "name": "stdout",
     "output_type": "stream",
     "text": [
      "1\n",
      "2\n"
     ]
    }
   ],
   "source": [
    "print( date.today().weekday() )\n",
    "print( date.today().isoweekday() )"
   ]
  },
  {
   "cell_type": "code",
   "execution_count": 61,
   "metadata": {},
   "outputs": [
    {
     "name": "stdout",
     "output_type": "stream",
     "text": [
      "2019-02-05 is day 1 which is Tue\n"
     ]
    }
   ],
   "source": [
    "weekdays = ['Mon','Tue','Wed','Thu','Fri','Sat','Sun']\n",
    "wd = date.today().weekday()\n",
    "print( date.today(), \"is day\", wd ,\"which is\", weekdays[wd] )"
   ]
  },
  {
   "cell_type": "markdown",
   "metadata": {},
   "source": [
    "#### Formating with ```isoformat()```\n",
    "```isoformat()``` return **ISO 8601 String (YYYY-MM-DD)**"
   ]
  },
  {
   "cell_type": "code",
   "execution_count": 12,
   "metadata": {},
   "outputs": [
    {
     "data": {
      "text/plain": [
       "'2019-02-05'"
      ]
     },
     "execution_count": 12,
     "metadata": {},
     "output_type": "execute_result"
    }
   ],
   "source": [
    "date.today().isoformat() # return string"
   ]
  },
  {
   "cell_type": "markdown",
   "metadata": {},
   "source": [
    "#### Formating with ```strftime```\n",
    "For complete directive, see below:  \n",
    "https://docs.python.org/3/library/datetime.html#strftime-strptime-behavior"
   ]
  },
  {
   "cell_type": "code",
   "execution_count": 17,
   "metadata": {},
   "outputs": [
    {
     "data": {
      "text/plain": [
       "'02/05'"
      ]
     },
     "execution_count": 17,
     "metadata": {},
     "output_type": "execute_result"
    }
   ],
   "source": [
    "date.today().strftime(\"%m/%d\")"
   ]
  },
  {
   "cell_type": "markdown",
   "metadata": {},
   "source": [
    "#### ```isocalendar()```\n",
    "```isocalendar``` return a 3-tuple, **(ISO year, ISO week number, ISO weekday)**."
   ]
  },
  {
   "cell_type": "code",
   "execution_count": 179,
   "metadata": {},
   "outputs": [
    {
     "data": {
      "text/plain": [
       "(2019, 23, 1)"
      ]
     },
     "execution_count": 179,
     "metadata": {},
     "output_type": "execute_result"
    }
   ],
   "source": [
    "date.today().isocalendar() ## return tuple "
   ]
  },
  {
   "cell_type": "markdown",
   "metadata": {},
   "source": [
    "### Attributes"
   ]
  },
  {
   "cell_type": "code",
   "execution_count": 105,
   "metadata": {},
   "outputs": [
    {
     "name": "stdout",
     "output_type": "stream",
     "text": [
      "2019\n",
      "2\n",
      "5\n"
     ]
    }
   ],
   "source": [
    "print( date.today().year )\n",
    "print( date.today().month )\n",
    "print( date.today().day )"
   ]
  },
  {
   "cell_type": "markdown",
   "metadata": {},
   "source": [
    "## datetime\n",
    "### Constructor"
   ]
  },
  {
   "cell_type": "code",
   "execution_count": 185,
   "metadata": {},
   "outputs": [
    {
     "name": "stdout",
     "output_type": "stream",
     "text": [
      "2000-01-01 00:00:00\n",
      "2000-01-01 23:15:55\n",
      "<class 'datetime.datetime'>\n"
     ]
    }
   ],
   "source": [
    "print( datetime(2000,1,1,0,0,0))\n",
    "print( datetime(year=2000,month=1,day=1,hour=23,minute=15,second=55))\n",
    "print(type(datetime(2000,1,1,0,0,0)))"
   ]
  },
  {
   "cell_type": "markdown",
   "metadata": {},
   "source": [
    "### Class Method\n",
    "#### ```now``` and ```today```\n",
    "Both ```now()``` and ```today()``` return current **local**  datetime"
   ]
  },
  {
   "cell_type": "code",
   "execution_count": 65,
   "metadata": {},
   "outputs": [
    {
     "data": {
      "text/plain": [
       "datetime.datetime(2019, 2, 5, 0, 58, 6, 627911)"
      ]
     },
     "execution_count": 65,
     "metadata": {},
     "output_type": "execute_result"
    }
   ],
   "source": [
    "datetime.now()"
   ]
  },
  {
   "cell_type": "code",
   "execution_count": 66,
   "metadata": {},
   "outputs": [
    {
     "data": {
      "text/plain": [
       "datetime.datetime(2019, 2, 5, 0, 58, 9, 154960)"
      ]
     },
     "execution_count": 66,
     "metadata": {},
     "output_type": "execute_result"
    }
   ],
   "source": [
    "datetime.today()"
   ]
  },
  {
   "cell_type": "markdown",
   "metadata": {},
   "source": [
    "#### ```utcnow```"
   ]
  },
  {
   "cell_type": "code",
   "execution_count": 112,
   "metadata": {},
   "outputs": [
    {
     "data": {
      "text/plain": [
       "datetime.datetime(2019, 2, 4, 17, 55, 59, 797875)"
      ]
     },
     "execution_count": 112,
     "metadata": {},
     "output_type": "execute_result"
    }
   ],
   "source": [
    "datetime.utcnow()"
   ]
  },
  {
   "cell_type": "markdown",
   "metadata": {},
   "source": [
    "#### ```combine()``` date and time\n",
    "Apply ```datetime.combine()``` module method on both **date and time**  object to get **datetime**"
   ]
  },
  {
   "cell_type": "code",
   "execution_count": 187,
   "metadata": {},
   "outputs": [
    {
     "data": {
      "text/plain": [
       "datetime.datetime(2019, 6, 3, 23, 1, 30, 179182)"
      ]
     },
     "execution_count": 187,
     "metadata": {},
     "output_type": "execute_result"
    }
   ],
   "source": [
    "now = datetime.now()\n",
    "datetime.combine(now.date(), now.time())"
   ]
  },
  {
   "cell_type": "markdown",
   "metadata": {},
   "source": [
    "#### Convert from String ```strptime()```\n",
    "Use **```strptime```** to convert string into **datetime** object\n",
    "```\n",
    "%I : 12-hour\n",
    "%H : 24-hour\n",
    "%M : Minute\n",
    "%p : AM/PM\n",
    "%y : 18\n",
    "%Y : 2018\n",
    "%b : Mar\n",
    "%m : month (1 to 12)\n",
    "%d : day```"
   ]
  },
  {
   "cell_type": "code",
   "execution_count": 117,
   "metadata": {},
   "outputs": [
    {
     "data": {
      "text/plain": [
       "datetime.datetime(2011, 2, 25, 0, 0)"
      ]
     },
     "execution_count": 117,
     "metadata": {},
     "output_type": "execute_result"
    }
   ],
   "source": [
    "datetime.strptime('2011-02-25','%Y-%m-%d')"
   ]
  },
  {
   "cell_type": "code",
   "execution_count": 81,
   "metadata": {},
   "outputs": [
    {
     "data": {
      "text/plain": [
       "datetime.datetime(2018, 1, 9, 0, 0)"
      ]
     },
     "execution_count": 81,
     "metadata": {},
     "output_type": "execute_result"
    }
   ],
   "source": [
    "datetime.strptime('9-01-18','%d-%m-%y')"
   ]
  },
  {
   "cell_type": "code",
   "execution_count": 78,
   "metadata": {},
   "outputs": [
    {
     "data": {
      "text/plain": [
       "datetime.datetime(2018, 3, 9, 0, 0)"
      ]
     },
     "execution_count": 78,
     "metadata": {},
     "output_type": "execute_result"
    }
   ],
   "source": [
    "datetime.strptime('09-Mar-2018','%d-%b-%Y')"
   ]
  },
  {
   "cell_type": "code",
   "execution_count": 79,
   "metadata": {},
   "outputs": [
    {
     "data": {
      "text/plain": [
       "datetime.datetime(2018, 2, 5, 16, 49)"
      ]
     },
     "execution_count": 79,
     "metadata": {},
     "output_type": "execute_result"
    }
   ],
   "source": [
    "datetime.strptime('2/5/2018 4:49 PM', '%m/%d/%Y %I:%M %p')"
   ]
  },
  {
   "cell_type": "markdown",
   "metadata": {},
   "source": [
    "#### Convert from ISO ```fromisoformat```\n",
    "- ```fromisoformat()``` is intend to be reverse of ```isoformat()```  \n",
    "-  It actually **not ISO compliance**: when Z or +8 is included at the nd of the string, error occur"
   ]
  },
  {
   "cell_type": "code",
   "execution_count": 9,
   "metadata": {},
   "outputs": [
    {
     "data": {
      "text/plain": [
       "datetime.datetime(2019, 2, 5, 10, 22, 33)"
      ]
     },
     "execution_count": 9,
     "metadata": {},
     "output_type": "execute_result"
    }
   ],
   "source": [
    "s = datetime.now().isoformat()\n",
    "datetime.fromisoformat(\"2019-02-05T10:22:33\")"
   ]
  },
  {
   "cell_type": "markdown",
   "metadata": {},
   "source": [
    "### Instance Method\n",
    "#### ```weekday```"
   ]
  },
  {
   "cell_type": "code",
   "execution_count": 24,
   "metadata": {},
   "outputs": [
    {
     "data": {
      "text/plain": [
       "1"
      ]
     },
     "execution_count": 24,
     "metadata": {},
     "output_type": "execute_result"
    }
   ],
   "source": [
    "datetime.now().weekday()"
   ]
  },
  {
   "cell_type": "markdown",
   "metadata": {},
   "source": [
    "#### ```replace```"
   ]
  },
  {
   "cell_type": "code",
   "execution_count": 25,
   "metadata": {},
   "outputs": [
    {
     "data": {
      "text/plain": [
       "datetime.datetime(1999, 2, 5, 9, 42, 34, 38400)"
      ]
     },
     "execution_count": 25,
     "metadata": {},
     "output_type": "execute_result"
    }
   ],
   "source": [
    "datetime.now().replace(year=1999)"
   ]
  },
  {
   "cell_type": "markdown",
   "metadata": {},
   "source": [
    "#### convert to ```.time()```"
   ]
  },
  {
   "cell_type": "code",
   "execution_count": 34,
   "metadata": {
    "scrolled": true
   },
   "outputs": [
    {
     "data": {
      "text/plain": [
       "datetime.time(9, 52, 47, 719398)"
      ]
     },
     "execution_count": 34,
     "metadata": {},
     "output_type": "execute_result"
    }
   ],
   "source": [
    "datetime.now().time()"
   ]
  },
  {
   "cell_type": "markdown",
   "metadata": {},
   "source": [
    "#### Convert to ```.date()```"
   ]
  },
  {
   "cell_type": "code",
   "execution_count": 44,
   "metadata": {},
   "outputs": [
    {
     "data": {
      "text/plain": [
       "datetime.date(2019, 2, 5)"
      ]
     },
     "execution_count": 44,
     "metadata": {},
     "output_type": "execute_result"
    }
   ],
   "source": [
    "datetime.now().date()"
   ]
  },
  {
   "cell_type": "markdown",
   "metadata": {},
   "source": [
    "#### Convert to String\n",
    "**```str```**"
   ]
  },
  {
   "cell_type": "code",
   "execution_count": 17,
   "metadata": {},
   "outputs": [
    {
     "data": {
      "text/plain": [
       "'2019-02-05 15:10:11.093005'"
      ]
     },
     "execution_count": 17,
     "metadata": {},
     "output_type": "execute_result"
    }
   ],
   "source": [
    "str( datetime.now() )"
   ]
  },
  {
   "cell_type": "markdown",
   "metadata": {},
   "source": [
    "**Use ```strftime()```**"
   ]
  },
  {
   "cell_type": "code",
   "execution_count": 22,
   "metadata": {
    "scrolled": true
   },
   "outputs": [
    {
     "data": {
      "text/plain": [
       "'05-Feb-2019'"
      ]
     },
     "execution_count": 22,
     "metadata": {},
     "output_type": "execute_result"
    }
   ],
   "source": [
    "datetime.now().strftime('%d-%b-%Y')"
   ]
  },
  {
   "cell_type": "code",
   "execution_count": 24,
   "metadata": {},
   "outputs": [
    {
     "data": {
      "text/plain": [
       "'2019-02-05T07:13:54.691364Z'"
      ]
     },
     "execution_count": 24,
     "metadata": {},
     "output_type": "execute_result"
    }
   ],
   "source": [
    "datetime.utcnow().strftime('%Y-%m-%dT%H:%M:%S.%fZ')  ## ISO 8601 UTC"
   ]
  },
  {
   "cell_type": "markdown",
   "metadata": {},
   "source": [
    "**Use ```isoformat()```**"
   ]
  },
  {
   "cell_type": "code",
   "execution_count": 53,
   "metadata": {},
   "outputs": [
    {
     "data": {
      "text/plain": [
       "'2019-02-05T02:29:11.607484'"
      ]
     },
     "execution_count": 53,
     "metadata": {},
     "output_type": "execute_result"
    }
   ],
   "source": [
    "datetime.utcnow().isoformat()"
   ]
  },
  {
   "cell_type": "markdown",
   "metadata": {},
   "source": [
    "### Attributes"
   ]
  },
  {
   "cell_type": "code",
   "execution_count": 22,
   "metadata": {},
   "outputs": [
    {
     "name": "stdout",
     "output_type": "stream",
     "text": [
      "2019\n",
      "2\n",
      "5\n",
      "9\n",
      "41\n"
     ]
    }
   ],
   "source": [
    "print( datetime.now().year )\n",
    "print( datetime.now().month )\n",
    "print( datetime.now().day )\n",
    "print( datetime.now().hour )\n",
    "print( datetime.now().minute )"
   ]
  },
  {
   "cell_type": "markdown",
   "metadata": {},
   "source": [
    "## time"
   ]
  },
  {
   "cell_type": "markdown",
   "metadata": {},
   "source": [
    "### Constructor"
   ]
  },
  {
   "cell_type": "code",
   "execution_count": 124,
   "metadata": {},
   "outputs": [
    {
     "name": "stdout",
     "output_type": "stream",
     "text": [
      "02:00:00\n",
      "02:15:00\n",
      "02:15:30\n"
     ]
    }
   ],
   "source": [
    "print( time(2) )    #default single arugement, hour\n",
    "print( time(2,15) ) #default two arguments, hour, minute\n",
    "print( time(hour=2,minute=15,second=30) )"
   ]
  },
  {
   "cell_type": "markdown",
   "metadata": {},
   "source": [
    "### Class Method\n",
    "#### ```now()```\n",
    "There is unfortunately no single function to extract the current time. Use **time()** function of an **datetime** object"
   ]
  },
  {
   "cell_type": "code",
   "execution_count": 33,
   "metadata": {},
   "outputs": [
    {
     "data": {
      "text/plain": [
       "datetime.time(9, 52, 3, 374617)"
      ]
     },
     "execution_count": 33,
     "metadata": {},
     "output_type": "execute_result"
    }
   ],
   "source": [
    "datetime.now().time()"
   ]
  },
  {
   "cell_type": "markdown",
   "metadata": {},
   "source": [
    "### Attributes"
   ]
  },
  {
   "cell_type": "code",
   "execution_count": 36,
   "metadata": {},
   "outputs": [
    {
     "name": "stdout",
     "output_type": "stream",
     "text": [
      "9\n",
      "54\n",
      "16\n"
     ]
    }
   ],
   "source": [
    "print( datetime.now().time().hour )\n",
    "print( datetime.now().time().minute )\n",
    "print( datetime.now().time().second )"
   ]
  },
  {
   "cell_type": "markdown",
   "metadata": {},
   "source": [
    "## timedelta\n",
    "- **years** argument is **not supported**  \n",
    "- Apply timedelta on **datetime** object  \n",
    "- timedelta **cannot** be applied on **time object**  , because timedelta potentially go beyond single day (24H)"
   ]
  },
  {
   "cell_type": "code",
   "execution_count": 188,
   "metadata": {},
   "outputs": [],
   "source": [
    "delt = timedelta(days=365,minutes=33,seconds=15)"
   ]
  },
  {
   "cell_type": "code",
   "execution_count": 189,
   "metadata": {},
   "outputs": [
    {
     "name": "stdout",
     "output_type": "stream",
     "text": [
      "delt+now :  2020-06-02 23:39:00.392096\n"
     ]
    }
   ],
   "source": [
    "now = datetime.now()\n",
    "print ('delt+now : ', now+delt)"
   ]
  },
  {
   "cell_type": "markdown",
   "metadata": {
    "heading_collapsed": true
   },
   "source": [
    "# Getting External Data"
   ]
  },
  {
   "cell_type": "markdown",
   "metadata": {
    "hidden": true
   },
   "source": [
    " ## Webscraping using request & BeautifulSoup4\n",
    "Use webscraping technique only if API is not available"
   ]
  },
  {
   "cell_type": "markdown",
   "metadata": {
    "hidden": true
   },
   "source": [
    "### Library"
   ]
  },
  {
   "cell_type": "code",
   "execution_count": 190,
   "metadata": {
    "hidden": true
   },
   "outputs": [],
   "source": [
    "import requests\n",
    "from bs4 import BeautifulSoup"
   ]
  },
  {
   "cell_type": "code",
   "execution_count": 191,
   "metadata": {
    "hidden": true
   },
   "outputs": [
    {
     "name": "stdout",
     "output_type": "stream",
     "text": [
      "<!DOCTYPE html>\n",
      "<html>\n",
      " <head>\n",
      "  <meta charset=\"utf-8\"/>\n",
      "  <meta content=\"app-id=312101965\" name=\"apple-itunes-app\"/>\n",
      "  <title>\n",
      "   Search | Epicurious.com\n",
      "  </title>\n",
      "  <link href=\"//assets.adobedtm.com\" rel=\"dns-prefetch\"/>\n",
      "  <link href=\"https://www.google-analytics.com\" rel=\"dns-prefetch\"/>\n",
      "  <link href=\"//tpc.googlesyndication.com\" rel=\"dns-prefetch\"/>\n",
      "  <link href=\"//static.parsely.com\" rel=\"dns-prefetch\"/>\n",
      "  <link href=\"//condenast.demdex.net\" rel=\"dns-prefetch\"/>\n",
      "  <link href=\"//capture.condenastdigital.com\" rel=\"dns-prefetch\"/>\n",
      "  <link href=\"//pixel.condenastdigital.com\" rel=\"dns-prefetch\"/>\n",
      "  <link href=\"//use.typekit.net\" rel=\"dns-prefetch\"/>\n",
      "  <link href=\"//fonts.typekit.net\" rel=\"dns-prefetch\"/>\n",
      "  <link href=\"//p.typekit.net\" rel=\"dns-prefetch\"/>\n",
      "  <link href=\"//assets.epicurious.com\" rel=\"dns-prefetch\"/>\n",
      "  <link href=\"//ad.doubleclick.net\" rel=\"dns-prefetch\"/>\n",
      "  <link href=\"//pagead2.googlesyndication.com\" rel=\"dns-prefetch\"/>\n",
      "  <link href=\"//z.moatads.com\" rel=\"dns-prefetch\"/>\n",
      "  <meta content=\"en_US\" itemprop=\"inLanguage\" property=\"og:locale\"/>\n",
      "  <meta content=\"IE=edge\" http-equiv=\"x-ua-compatible\"/>\n",
      "  <meta content=\"no-cache\" http-equiv=\"cache-control\"/>\n",
      "  <meta content=\"no-cache\" http-equiv=\"pragma\"/>\n",
      "  <meta content=\"Search | Epicurious.com\" itemprop=\"name\"/>\n",
      "  <meta content=\"https://www.epicurious.com/static/img/misc/epicurious-social-logo.png\" itemprop=\"logo\"/>\n",
      "  <meta content=\"Easily search and browse more than 37,000 recipes, articles, galleries, menus, and videos from Epicurious.com, Bon Appétit, and other partners.\" name=\"description\"/>\n",
      "  <meta content=\"Epicurious\" itemprop=\"author\"/>\n",
      "  <link href=\"https://www.epicurious.com/search/tofu%20chill\" rel=\"canonical\"/>\n",
      "  <meta content=\"Copyright (c) 2019 Conde Nast\" name=\"copyright\"/>\n",
      "  <meta content=\"9c2002da922784afad64b638161c75f7\" name=\"p:domain_verify\"/>\n",
      "  <meta content=\"Search | Epicurious.com\" property=\"og:title\"/>\n",
      "  <meta content=\"website\" property=\"og:type\"/>\n",
      "  <meta content=\"https://www.epicurious.com/search/tofu%20chill\" property=\"og:url\"/>\n",
      "  <meta content=\"Easily search and browse more than 37,000 recipes, articles, galleries, menus, and videos from Epicurious.com, Bon Appétit, and other partners.\" property=\"og:description\"/>\n",
      "  <meta content=\"https://www.epicurious.com/static/img/misc/epicurious-social-logo.png\" property=\"og:image\"/>\n",
      "  <meta content=\"Epicurious\" property=\"og:site_name\"/>\n",
      "  <meta content=\"1636080783276430\" property=\"fb:app_id\"/>\n",
      "  <meta content=\"722582662\" property=\"fb:admins\"/>\n",
      "  <meta content=\"774348857\" property=\"fb:admins\"/>\n",
      "  <meta content=\"596666898\" property=\"fb:admins\"/>\n",
      "  <meta content=\"837402\" property=\"fb:admins\"/>\n",
      "  <meta content=\"685417657\" property=\"fb:admins\"/>\n",
      "  <meta content=\"22500087\" property=\"fb:admins\"/>\n",
      "  <meta content=\"1107036618\" property=\"fb:admins\"/>\n",
      "  <meta content=\"1045857449\" property=\"fb:admins\"/>\n",
      "  <meta content=\"14601235\" property=\"fb:admins\"/>\n",
      "  <link href=\"https://plus.google.com/106968200752753566855\" rel=\"publisher\"/>\n",
      "  <link href=\"/static/img/favicon.png\" rel=\"icon\" type=\"image/png\"/>\n",
      "  <meta content=\"#f93f23\" name=\"theme-color\"/>\n",
      "  <meta content=\"width=device-width, initial-scale=1.0\" name=\"viewport\"/>\n",
      "  <!-- metadataTags end -->\n",
      "  <script>\n",
      "   var EPI = EPI || {\n",
      "        barCnsCrtPage: false,\n",
      "        onCompleteActions: []\n",
      "    };\n",
      "\n",
      "    document.onreadystatechange = function () {\n",
      "        if (document.readyState === 'complete') {\n",
      "            EPI.onCompleteActions.forEach(function (callback) {\n",
      "                if (typeof callback === 'function') {\n",
      "                    callback();\n",
      "                }\n",
      "            });\n",
      "\n",
      "            if (window.location.search.substr(1).indexOf('ui-regression-test=true') >= 0) {\n",
      "                console.log('ui-regression-test-ready');\n",
      "            }\n",
      "        }\n",
      "    };\n",
      "\n",
      "    <!-- https://github.com/filamentgroup/loadJS -->\n",
      "    !function(a){var b=function(b,c){\"use strict\";var d=a.document.getElementsByTagName(\"script\")[0],e=a.document.createElement(\"script\");return e.src=b,e.async=!0,d.parentNode.insertBefore(e,d),c&&\"function\"==typeof c&&(e.onload=c),e};\"undefined\"!=typeof module?module.exports=b:a.loadJS=b}(\"undefined\"!=typeof global?global:this);    // loadCSS\n",
      "    (function(h){var d=function(d,e,n){function k(a){if(b.body)return a();setTimeout(function(){k(a)})}function f(){a.addEventListener&&a.removeEventListener(\"load\",f);a.media=n||\"all\"}var b=h.document,a=b.createElement(\"link\"),c;if(e)c=e;else{var l=(b.body||b.getElementsByTagName(\"head\")[0]).childNodes;c=l[l.length-1]}var m=b.styleSheets;a.rel=\"stylesheet\";a.href=d;a.media=\"only x\";k(function(){c.parentNode.insertBefore(a,e?c:c.nextSibling)});var g=function(b){for(var c=a.href,d=m.length;d--;)if(m[d].href===\n",
      "    c)return b();setTimeout(function(){g(b)})};a.addEventListener&&a.addEventListener(\"load\",f);a.onloadcssdefined=g;g(f);return a};\"undefined\"!==typeof exports?exports.loadCSS=d:h.loadCSS=d})(\"undefined\"!==typeof global?global:this);\n",
      "    \n",
      "    (function(a){if(a.loadCSS){var b=loadCSS.relpreload={};b.support=function(){try{return a.document.createElement(\"link\").relList.supports(\"preload\")}catch(b){return!1}};b.poly=function(){for(var b=a.document.getElementsByTagName(\"link\"),d=0;d<b.length;d++){var c=b[d];\"preload\"===c.rel&&\"style\"===c.getAttribute(\"as\")&&(a.loadCSS(c.href,c),c.rel=null)}};if(!b.support()){b.poly();var e=a.setInterval(b.poly,300);a.addEventListener&&a.addEventListener(\"load\",function(){a.clearInterval(e)});a.attachEvent&&\n",
      "    a.attachEvent(\"onload\",function(){a.clearInterval(e)})}}})(this);\n",
      "  </script>\n",
      "  <link as=\"style\" href=\"https://use.typekit.net/zpl6zji.css\" onload=\"this.rel='stylesheet'\" rel=\"preload\" type=\"text/css\"/>\n",
      "  <style>\n",
      "   @font-face{src:url(\"/static/fonts/renner/renner-thin.woff2\") format(\"woff2\"),url(\"/static/fonts/renner/renner-thin.woff\") format(\"woff\");font-family:'Renner';font-weight:100;font-style:normal}@font-face{src:url(\"/static/fonts/renner/renner-thinitalic.woff2\") format(\"woff2\"),url(\"/static/fonts/renner/renner-thinitalic.woff\") format(\"woff\");font-family:'Renner';font-weight:100;font-style:italic}@font-face{src:url(\"/static/fonts/renner/renner-light.woff2\") format(\"woff2\"),url(\"/static/fonts/renner/renner-light.woff\") format(\"woff\");font-family:'Renner';font-weight:200;font-style:normal}@font-face{src:url(\"/static/fonts/renner/renner-lightitalic.woff2\") format(\"woff2\"),url(\"/static/fonts/renner/renner-lightitalic.woff\") format(\"woff\");font-family:'Renner';font-weight:200;font-style:italic}@font-face{src:url(\"/static/fonts/renner/renner-book.woff2\") format(\"woff2\"),url(\"/static/fonts/renner/renner-book.woff\") format(\"woff\");font-family:'Renner';font-weight:300;font-style:normal}@font-face{src:url(\"/static/fonts/renner/renner-bookitalic.woff2\") format(\"woff2\"),url(\"/static/fonts/renner/renner-bookitalic.woff\") format(\"woff\");font-family:'Renner';font-weight:300;font-style:italic}@font-face{src:url(\"/static/fonts/renner/renner-medium.woff2\") format(\"woff2\"),url(\"/static/fonts/renner/renner-medium.woff\") format(\"woff\");font-family:'Renner';font-weight:500;font-style:normal}@font-face{src:url(\"/static/fonts/renner/renner-mediumitalic.woff2\") format(\"woff2\"),url(\"/static/fonts/renner/renner-mediumitalic.woff\") format(\"woff\");font-family:'Renner';font-weight:500;font-style:italic}@font-face{src:url(\"/static/fonts/renner/renner-bold.woff2\") format(\"woff2\"),url(\"/static/fonts/renner/renner-bold.woff\") format(\"woff\");font-family:'Renner';font-weight:bold;font-style:normal}@font-face{src:url(\"/static/fonts/renner/renner-boldtalic.woff2\") format(\"woff2\"),url(\"/static/fonts/renner/renner-boldtalic.woff\") format(\"woff\");font-family:'Renner';font-weight:bold;font-style:italic}@font-face{src:url(\"/static/fonts/renner/renner-black.woff2\") format(\"woff2\"),url(\"/static/fonts/renner/renner-black.woff\") format(\"woff\");font-family:'Renner';font-weight:800;font-style:normal}@font-face{src:url(\"/static/fonts/renner/renner-blackitalic.woff2\") format(\"woff2\"),url(\"/static/fonts/renner/renner-blackitalic.woff\") format(\"woff\");font-family:'Renner';font-weight:800;font-style:italic}@font-face{src:url(\"/static/fonts/source-serif-pro/source-serif-pro-regular.woff2\") format(\"woff2\"),url(\"/static/fonts/source-serif-pro/source-serif-pro-regular.woff\") format(\"woff\");font-family:'Source Serif Pro';font-weight:normal;font-style:normal}@font-face{src:url(\"/static/fonts/source-serif-pro/source-serif-pro-semibold.woff2\") format(\"woff2\"),url(\"/static/fonts/source-serif-pro/source-serif-pro-semibold.woff\") format(\"woff\");font-family:'Source Serif Pro';font-weight:600;font-style:normal}@font-face{src:url(\"/static/fonts/source-serif-pro/source-serif-pro-bold.woff2\") format(\"woff2\"),url(\"/static/fonts/source-serif-pro/source-serif-pro-bold.woff\") format(\"woff\");font-family:'Source Serif Pro';font-weight:bold;font-style:normal}header[role=\"banner\"]{font-family:\"Renner\",sans-serif;font-weight:bold}[class$=\"-flash-message\"]{font-family:\"Source Serif Pro\",serif;font-style:italic;font-weight:normal}.icon-share{background-image:url(\"data:image/svg+xml;charset=US-ASCII,%3Csvg%20xmlns%3D%22http%3A%2F%2Fwww.w3.org%2F2000%2Fsvg%22%20viewBox%3D%22-64%20741%20128%20102%22%3E%3Cpath%20d%3D%22M37%20813.7v19.5h-88.7v-63.4h19.6l13.6-11.8H-64v87H49.4v-43.2zm-11.7-19.8s-54.7-14.2-69.4%2034.6c0%200-5.3-69.9%2069.4-69.9V741L64%20775.8l-38.7%2036v-17.9z%22%2F%3E%3C%2Fsvg%3E\");background-repeat:no-repeat}footer[role=\"contentinfo\"] .corporate-info .conde-nast-brands .nav-title:after{background-repeat:no-repeat;background-size:contain;height:1em;width:.7em}footer[role=\"contentinfo\"] .corporate-info .conde-nast-brands .nav-title:after{content:\"\";display:inline-block;position:relative;top:1px;vertical-align:baseline}footer[role=\"contentinfo\"] .corporate-info .conde-nast-brands .nav-title:after{background-position:100% 0%;margin-left:.5rem}footer[role=\"contentinfo\"] .corporate-info .conde-nast-brands .nav-title:after{background-image:url(\"data:image/svg+xml;base64,PHN2ZyB2aWV3Qm94PSIwIDAgNzAgMTAwIiB4bWxucz0iaHR0cDovL3d3dy53My5vcmcvMjAwMC9zdmciPjxwYXRoIGQ9Ik03MCA1MC44NTlMMCAwbDIxLjU4IDUwLjg1OUwwIDEwMHoiIGZpbGw9IiNDQ0MiIGZpbGwtcnVsZT0iZXZlbm9kZCIvPjwvc3ZnPg==\")}footer[role=\"contentinfo\"] .corporate-info>.section-title,.homepage-content-channel-link,.lightreg-dialog fieldset legend,header[role=\"banner\"] .epicurious-logo,footer[role=\"contentinfo\"] .epicurious-links .epi-social-links .nav-title,.main-navigation .facebook-social-channel-link,.branding .facebook-social-channel-link,footer[role=\"contentinfo\"] .epicurious-links .epi-social-links .facebook-link,footer[role=\"contentinfo\"] .epicurious-links .epi-social-links .feed-link,footer[role=\"contentinfo\"] .epicurious-links .epi-social-links .googleplus-link,header[role=\"banner\"] .show-main-navigation:hover,header[role=\"banner\"] .show-main-navigation,header[role=\"banner\"] .show-search-button:hover,.search-dialog-form [type=\"submit\"]:hover,header[role=\"banner\"] .show-search-button,.search-dialog-form [type=\"submit\"],.user-status[data-user-type=\"anonymous\"] .recipebox-status:hover,.user-status[data-user-type=\"anonymous\"] .recipebox-status,.user-status[data-user-type=\"authenticated\"] .recipebox-status,.main-navigation .instagram-social-channel-link,.branding .instagram-social-channel-link,footer[role=\"contentinfo\"] .epicurious-links .epi-social-links .instagram-link,footer[role=\"contentinfo\"] .epicurious-links .epi-social-links .pinterest-link,footer[role=\"contentinfo\"] .epicurious-links .epi-social-links .tumblr-link,.main-navigation .twitter-social-channel-link,.branding .twitter-social-channel-link,footer[role=\"contentinfo\"] .epicurious-links .epi-social-links .twitter-link,.search-dialog-form [type=\"reset\"]:hover,[class$=\"-form\"] .close-button,.search-dialog-form [type=\"reset\"],.dismiss-main-navigation:hover,[class$=\"-comment-form\"] .close-button,.dismiss-main-navigation,footer[role=\"contentinfo\"] .epicurious-links .epi-social-links .youtube-link{background-color:transparent;background-position:50% 50%;background-repeat:no-repeat;background-size:contain}footer[role=\"contentinfo\"] .corporate-info>.section-title{background-image:url(\"data:image/svg+xml;base64,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\")}.homepage-content-channel-link{background-image:url(\"data:image/svg+xml;base64,PHN2ZyB2aWV3Qm94PSIwIDAgMjU2IDI1NiIgeG1sbnM9Imh0dHA6Ly93d3cudzMub3JnLzIwMDAvc3ZnIj48ZyBmaWxsPSJub25lIiBmaWxsLXJ1bGU9ImV2ZW5vZGQiPjxjaXJjbGUgZmlsbD0iI0ZGRiIgY3g9IjEyOCIgY3k9IjEyOCIgcj0iMTE5Ii8+PHBhdGggZD0iTTY4LjQgOTVjLTYuNiAwLTExLjQgMTcuOC05IDM0LjJsMTguNi01YzAtMTUuOC0yLjgtMjkuMi05LjYtMjkuMnptNzMuOSA1LjNjLTIuOSAwLTUuMi45LTcuMSAyLjRWMTUzYzEuMiAxLjcgMy4yIDMgNi4yIDMgNy40IDAgMTMuMi03LjkgMTMuMi0yOSAwLTE0LjItMi42LTI2LjctMTIuMy0yNi43ek0xMjggMEM1Ny4zIDAgMCA1Ny4zIDAgMTI4YzAgNzAuNiA1Ny4zIDEyOCAxMjggMTI4czEyOC01Ny4zIDEyOC0xMjhTMTk4LjcgMCAxMjggMHptNzMuNiA1Ny45YzcuMSAwIDEyLjkgNS40IDEyLjkgMTEuOSAwIDYuNy01LjggMTEuOS0xMi45IDExLjktNy4xLjEtMTIuOS01LjItMTIuOS0xMS45czUuOC0xMS45IDEyLjktMTEuOXpNMTAyLjQgMTI0bC00MS43IDExLjhjLjkgNC43IDMuNSA5LjEgNy4xIDEyLjEgMy4xIDIuMSA2LjggMy41IDEwLjcgMy41IDEyLjUgMCAyMC43LTEwLjkgMjAuNy0xMC45bDEuOC42YzAgLjEtLjEuMy0uMS40aC4xYy0xLjEgNS43LTkuNCAyNi4xLTM0LjEgMjYuMS05LjYgMC0xNy4zLTMuMS0yMy4yLTguMi05LTcuMy0xNC0xOC45LTE0LTMxLjQgMC0yMS4xIDE0LjMtMzkuNCAzOC41LTM5LjQgMTguOSAwIDMzLjUgMTQuNiAzNC4yIDM1di40em00Ny40IDQzLjNjLTUuNiAwLTEwLjgtMS44LTE0LjUtNC45djM2LjNoLTI2LjZsLjEtMTA4LjdoMjUuOWwuNiA3YzQuNC01LjIgMTAuNi04LjUgMTcuOS04LjUgMTguNyAwIDI3LjcgMTguMyAyNy43IDM5LjQgMCAyMi44LTEzLjQgMzkuNC0zMS4xIDM5LjR6bTY1LjItMS44aC0yNi43bC4xLTc1LjNIMjE1djc1LjN6IiBmaWxsPSIjRjkzRjIzIiBmaWxsLXJ1bGU9Im5vbnplcm8iLz48L2c+PC9zdmc+\")}.lightreg-dialog fieldset legend,header[role=\"banner\"] .epicurious-logo{background-image:url(\"data:image/svg+xml;base64,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\")}footer[role=\"contentinfo\"] .epicurious-links .epi-social-links .nav-title{background-image:url(\"data:image/svg+xml;base64,PHN2ZyB2aWV3Qm94PSIwIDAgNjEyIDEyOCIgeG1sbnM9Imh0dHA6Ly93d3cudzMub3JnLzIwMDAvc3ZnIj48cGF0aCBkPSJNMTAwLjYgODguOWMtMi44IDAtNC41LTEuMS01LjUtMi44VjQwLjhjMS43LTEuMyAzLjgtMi4yIDYuMy0yLjIgOC43IDAgMTEuMSAxMS4yIDExLjEgMjQuMS0uMSAxOS4xLTUuNCAyNi4yLTExLjkgMjYuMnptMTAuNS02MC43Yy02LjYgMC0xMi4xIDMtMTYuMSA3LjZsLS41LTYuM0g3MS4ybC0uMSA5Ny45aDI0Vjk0LjdjMy4zIDIuOCA4IDQuNCAxMyA0LjQgMTYgMCAyOC0xNSAyOC0zNS41IDAtMTktOC4xLTM1LjQtMjUtMzUuNHptMjY2LjIgMS41aDIzLjl2NjcuOGgtMjMuOVYyOS43ek0zNzEgNDIuM2MwIDcuOS00LjUgMTMuMy0xMS44IDEzLjMtNy4yIDAtMTEtNS4yLTExLTEwLjIgMC0xLjcuNi01IDIuMy03LjUtMy0xLjYtMTEuNCAxLjgtMTQuNCAxMS42djQ4aC0yMy45VjI5LjdoMjMuNUwzMzYgNDFjNC4zLTguMSAxMC44LTEyLjggMTguOS0xMi44IDEwLjUgMCAxNi4xIDYuNiAxNi4xIDE0LjF6bS05Mi4yLTEyLjZoMjMuOXY2Ny44aC0yMy45di0xNWMtMi40IDYuNi04LjIgMTYuNi0yMC41IDE2LjYtMTIuOCAwLTE5LTEwLjEtMTktMjAuOVYzOS41YzAtNS4xLTEuNC03LjYtMy4zLTguNXYtMS4zaDI3LjJ2NDEuNmMwIDEwLjMgNC42IDExIDcuMyAxMSAzLjggMCA2LjYtMy4zIDguMy04VjI5Ljd6TTYxMiA3NS41YzAgMTMuNy0xMi4yIDIzLjQtMjkuNyAyMy40LTkuMiAwLTE4LTQuNi0yMy00LjYtMy42IDAtNC41IDEtNC41IDFsLS44LTE4LjhoMi4xYzkuNiAxMi43IDE2LjIgMTguMyAyNi4xIDE4LjMgNi40IDAgMTEuOC0zLjIgMTEuOC04LjcgMC01LjktNS4zLTcuMy0xMy05LjItMjAuNy01LjMtMjYuNS0xNC4zLTI2LjUtMjYuNCAwLTEzLjQgMTEuNy0yMi41IDI2LjMtMjIuNSA1IDAgOS43IDEgMTMuMyAyLjIgMi4yLjcgOC42IDMuNSAxMi45IDMuMnYxOC4yaC0yQzU5Ni45IDM5LjggNTg5LjkgMzIgNTgxIDMyYy01LjYgMC04LjggMy41LTguOCA4IDAgNS41IDUuMiA3IDE0LjUgOS43IDE2LjggNS4yIDI1LjMgMTEuNyAyNS4zIDI1Ljh6bS04OS4zLTQ1LjhoMjMuOXY2Ny44aC0yMy45di0xNWMtMi40IDYuNi04LjIgMTYuNi0yMC41IDE2LjYtMTIuOCAwLTE5LTEwLjEtMTktMjAuOVYzOS41YzAtNS4xLTEuNC03LjYtMy4zLTguNXYtMS4zaDI3LjJ2NDEuNmMwIDEwLjMgNC42IDExIDcuMyAxMSAzLjggMCA2LjYtMy4zIDguMy04VjI5Ljd6bS04MC43IDY1Yy02LjkgMC05LjQtOS40LTkuNC0zMS4yIDAtMjEuOCAyLjUtMzEuMiA5LjQtMzEuMnM5LjQgOS40IDkuNCAzMS4yYzAgMjEuOC0yLjYgMzEuMi05LjQgMzEuMnptMC02Ni41Yy0yMS42IDAtMzQuMSAxNS44LTM0LjEgMzUuMyAwIDE5LjUgMTIuNSAzNS4zIDM0LjEgMzUuM3MzNC0xNS44IDM0LTM1LjNjMC0xOS41LTEyLjUtMzUuMy0zNC0zNS4zem0tMjk5LjEgMS41aDIzLjl2NjcuOGgtMjMuOVYyOS43em04OSA0NS4zbDEuNS41Yy0xLjcgOS0xMCAyMy41LTI4LjcgMjMuNS0yMS4xIDAtMzEuMi0xNi40LTMxLjItMzUuNCAwLTIwLjQgMTMuNC0zNS41IDMzLjQtMzUuNSAxNC44IDAgMjMuOSA3LjkgMjMuOSAxNi40IDAgNS4yLTMuOSA5LjQtOS43IDkuNC00LjIgMC04LjUtMy45LTguNS04LjcgMC00LjkgMy03LjYgNi41LTguMi0xLjItMi4yLTMuMy0zLjktNy4xLTMuOS02LjUgMC0xMy45IDguMS0xMy45IDI3LjYgMCAxMi44IDYuMiAyNC4xIDE4LjkgMjQuMSAxMC4yIDAgMTQuOS05LjggMTQuOS05Ljh6bTE0NS42LTYzLjdjMC02IDUuMi0xMC44IDExLjctMTAuOCA2LjQgMCAxMS43IDQuOCAxMS43IDEwLjggMCA2LTUuMiAxMC44LTExLjcgMTAuOC02LjUgMC0xMS43LTQuOC0xMS43LTEwLjh6bS0yMzQuNCAwYzAtNiA1LjItMTAuOCAxMS43LTEwLjggNi40IDAgMTEuNyA0LjggMTEuNyAxMC44IDAgNi01LjIgMTAuOC0xMS43IDEwLjgtNi41IDAtMTEuNy00LjgtMTEuNy0xMC44ek0yNi44IDY0LjhDMjQuNyA1MC4xIDI4LjkgMzQgMzQuOSAzNGM2LjEgMCA4LjYgMTIuMSA4LjcgMjYuMmwtMTYuOCA0LjZ6bTcuOC0zNi41QzEyLjkgMjguMyAwIDQ0LjggMCA2My43IDAgNzUgNC41IDg1LjQgMTIuNiA5MmM1LjMgNC42IDEyLjMgNy40IDIwLjkgNy40IDIyLjIgMCAyOS43LTE4LjMgMzAuNy0yMy41aC0uMWMwLS4xIDAtLjIuMS0uM2wtMS41LS41cy03LjQgOS44LTE4LjYgOS44Yy0zLjUgMC02LjgtMS4yLTkuNi0zLjItMy4zLTIuNy01LjYtNi43LTYuNC0xMC45TDY1LjUgNjB2LS4zYy0uOC0xOC4zLTEzLjgtMzEuNC0zMC45LTMxLjR6IiBmaWxsPSIjRkZGRkZGIi8+PC9zdmc+\")}.main-navigation .facebook-social-channel-link{background-image:url(\"data:image/svg+xml;base64,PHN2ZyB2aWV3Qm94PSIwIDAgMTM4IDI1NiIgeG1sbnM9Imh0dHA6Ly93d3cudzMub3JnLzIwMDAvc3ZnIj48cGF0aCBkPSJNMCAxMzcuMDIyaDM5LjE5M1YyNTZoNDkuMDExVjEzNy4wMjJoNDkuMDEyVjg4LjA5SDg4LjIwNFY2My4yN2MwLTguMjkyIDUuMjU3LTE1LjA1NSA5Ljc5Ni0xNS4wNTVoMzkuMjE2VjBIOThDNjUuNTU3LS4wMTIgMzkuMTkzIDI4LjYwNyAzOS4xOTMgNjMuOTc2Vjg4LjA5SDB2NDguOTMyeiIgZmlsbC1ydWxlPSJub256ZXJvIiBmaWxsPSIjRjkzRjIzIi8+PC9zdmc+\")}.branding .facebook-social-channel-link{background-image:url(\"data:image/svg+xml;base64,PHN2ZyB2aWV3Qm94PSIwIDAgNDIgNDIiIHhtbG5zPSJodHRwOi8vd3d3LnczLm9yZy8yMDAwL3N2ZyI+PGcgZmlsbD0ibm9uZSIgZmlsbC1ydWxlPSJldmVub2RkIj48cGF0aCBkPSJNMCAyMS4wM0MwIDkuNDM3IDkuMzkyIDAgMjEgMGMxMS42MDcgMCAyMSA5LjQzOCAyMSAyMS4wM0M0MiAzMi42MiAzMi42MDcgNDIgMjEgNDIgOS4zOTIgNDIgMCAzMi42MiAwIDIxLjAzeiIgZmlsbC1ydWxlPSJub256ZXJvIiBmaWxsPSIjRjkzRjIzIi8+PHBhdGggZD0iTTE1LjU1NCAyMS43NDdoMy4xMXY5LjQ0aDMuODl2LTkuNDRoMy44OXYtMy44ODRoLTMuODl2LTEuOTdjMC0uNjU3LjQxOC0xLjE5NC43OC0xLjE5NGgzLjExdi0zLjgyNmgtMy4xMWMtMi41NzYgMC00LjY3IDIuMjctNC42NyA1LjA3OHYxLjkxM2gtMy4xMXYzLjg4M3oiIGZpbGw9IiNGRkYiLz48L2c+PC9zdmc+\")}footer[role=\"contentinfo\"] .epicurious-links .epi-social-links .facebook-link{background-image:url(\"data:image/svg+xml;base64,PHN2ZyB4bWxucz0iaHR0cDovL3d3dy53My5vcmcvMjAwMC9zdmciIHZpZXdCb3g9Ii02NCA3MjggMTI4IDEyOCI+PHBhdGggZmlsbD0iI2ZmZmZmZiIgZD0iTS02NCA3OTJjMC0zNS4yIDI4LjUtNjQgNjQtNjRzNjQgMjguOCA2NCA2NC0yOC41IDY0LTY0IDY0LTY0LTI4LjYtNjQtNjR6bTQ3LjMgMi4xaDkuNHYyOC44SDQuNXYtMjguOGgxMS44di0xMS44SDQuNXYtNi4xYzAtMi4xIDEuMi0zLjYgMi40LTMuNmg5LjR2LTExLjVINi45Yy03LjkgMC0xNC4zIDctMTQuMyAxNS41djUuOGgtOS40bC4xIDExLjd6Ij48L3BhdGg+PC9zdmc+\")}footer[role=\"contentinfo\"] .epicurious-links .epi-social-links .feed-link{background-image:url(\"data:image/svg+xml;base64,PHN2ZyB4bWxucz0iaHR0cDovL3d3dy53My5vcmcvMjAwMC9zdmciIHZpZXdCb3g9Ii05NiA2NTMgMTI4IDEyOCI+PHBhdGggZmlsbD0iI2ZmZmZmZiIgZD0iTS0zMiA2NTNjLTM1LjMgMC02NCAyOC43LTY0IDY0czI4LjcgNjQgNjQgNjQgNjQtMjguNyA2NC02NC0yOC43LTY0LTY0LTY0em0tMjQgOTZjLTQuNCAwLTgtMy42LTgtOHMzLjYtOCA4LTggOCAzLjYgOCA4LTMuNiA4LTggOHptMjIgMGMwLTE2LjUtMTMuNS0zMC0zMC0zMHYtMTJjMjMuMiAwIDQyIDE4LjggNDIgNDJoLTEyem0yNCAwYzAtMTQuNC01LjYtMjgtMTUuOC0zOC4yQy0zNiA3MDAuNi00OS42IDY5NS02NCA2OTV2LTEyYzE3LjYgMCAzNC4yIDYuOSA0Ni43IDE5LjNDLTQuOSA3MTQuOCAyIDczMS40IDIgNzQ5aC0xMnoiPjwvcGF0aD48L3N2Zz4=\")}footer[role=\"contentinfo\"] .epicurious-links .epi-social-links .googleplus-link{background-image:url(\"data:image/svg+xml;base64,PHN2ZyB2aWV3Qm94PSIwIDAgMTI4IDEyOCIgeG1sbnM9Imh0dHA6Ly93d3cudzMub3JnLzIwMDAvc3ZnIj48cGF0aCBkPSJNMTI4IDY0LjAwMmMuMyAzNS4yLTI4LjUgNjQtNjQgNjRzLTY0LTI4LjgtNjQtNjRjMC0zNS41IDI4LjUtNjMuNyA2NC02NCAzNC45LS4zIDYzLjcgMjguNSA2NCA2NHptLTY5LjUtMTQuNmMwLTUuOC0uNi04LjgtNC45LTEwLjkgMC0xLjUgNy45LS42IDcuOS0zaC0xN3MtMTcuMy4zLTE3LjMgMTQuOWMwIDE0LjkgMTQuOSAxMyAxNC45IDEzdjMuOWMwIDEuNSAyLjEuOSAyLjQgMy45LTEuMiAwLTIwLjktLjYtMjAuOSAxMi40IDAgMTMuMyAxNy42IDEyLjQgMTcuNiAxMi40czIwLjMgMS4yIDIwLjMtMTUuNWMwLTkuNy0xMS41LTEzLTExLjUtMTdzOC41LTUgOC41LTE0LjF6bS0yNy45IDM0Yy0uMy01LjIgNS4yLTkuNyAxMi4xLTEwLjMgNy0uMyAxMyAzLjMgMTMuNiA4LjUuMyA1LjItNS4yIDkuNy0xMi4xIDEwLTcuMi45LTEzLjMtMy0xMy42LTguMnptOS40LTQ0LjljNC4yLTEuMiA4LjggMi40IDEwLjYgOC41IDEuNSA1LjgtLjYgMTEuNS00LjkgMTIuNC00LjIgMS4yLTguOC0yLjctMTAuNi04LjUtMS40LTUuNy43LTExLjIgNC45LTEyLjR6bTM3LjMgMjIuMnYtMTEuMkg3NHYxMS4ySDYzLjF2My4zSDc0djExLjJoMy4zdi0xMS4yaDEwLjl2LTMuM0g3Ny4zem0yMS45LTkuMXYyNy45aDUuMnYtMzkuMWgtMy45Yy0uNiAzLTEuOCA0LjktMy4zIDUuOC0xLjUuNi0zLjkgMS41LTcuNiAxLjh2My42aDkuNnoiIGZpbGwtcnVsZT0ibm9uemVybyIgZmlsbD0iI0ZGRiIvPjwvc3ZnPg==\")}header[role=\"banner\"] .show-main-navigation:hover{background-image:url(\"data:image/svg+xml;base64,PHN2ZyB2aWV3Qm94PSIwIDAgMjUgMTgiIHhtbG5zPSJodHRwOi8vd3d3LnczLm9yZy8yMDAwL3N2ZyI+PGcgZmlsbD0iIzMzMyIgZmlsbC1ydWxlPSJldmVub2RkIj48cGF0aCBkPSJNMCAwaDI1djJIMHpNMCA4aDI1djJIMHpNMCAxNmgyNXYySDB6Ii8+PC9nPjwvc3ZnPg==\")}header[role=\"banner\"] .show-main-navigation{background-image:url(\"data:image/svg+xml;base64,PHN2ZyB2aWV3Qm94PSIwIDAgMjUgMTgiIHhtbG5zPSJodHRwOi8vd3d3LnczLm9yZy8yMDAwL3N2ZyI+PGcgZmlsbD0iI0ExQTFBMSIgZmlsbC1ydWxlPSJldmVub2RkIj48cGF0aCBkPSJNMCAwaDI1djJIMHpNMCA4aDI1djJIMHpNMCAxNmgyNXYySDB6Ii8+PC9nPjwvc3ZnPg==\")}header[role=\"banner\"] .show-search-button:hover,.search-dialog-form [type=\"submit\"]:hover{background-image:url(\"data:image/svg+xml;base64,PHN2ZyB2aWV3Qm94PSIwIDAgNDIgNDIiIHhtbG5zPSJodHRwOi8vd3d3LnczLm9yZy8yMDAwL3N2ZyI+PHBhdGggZD0iTTQwLjgxIDM1LjMybC05Ljk4Ni05Ljk4NWExNi4yNiAxNi4yNiAwIDAgMCAyLjM3My04LjQ4NUMzMy4xOTcgNy44MjIgMjUuMzc0IDAgMTYuMzQ1IDAgNy4zMiAwIDAgNy4zMiAwIDE2LjM0N2MwIDkuMDI4IDcuODIyIDE2Ljg1IDE2Ljg1IDE2Ljg1IDMgMCA1LjgxMi0uODE0IDguMjMtMi4yMjZsMTAuMDM3IDEwLjA0YTIuNTE0IDIuNTE0IDAgMCAwIDMuNTU3IDBsMi40OS0yLjQ5Yy45ODMtLjk4Mi42MjctMi4yMi0uMzU1LTMuMnpNNS4wMyAxNi4zNDZjMC02LjI1IDUuMDY3LTExLjMxNyAxMS4zMTUtMTEuMzE3IDYuMjUgMCAxMS44MiA1LjU3IDExLjgyIDExLjgyUzIzLjEgMjguMTY3IDE2Ljg1IDI4LjE2N2MtNi4yNSAwLTExLjgyLTUuNTctMTEuODItMTEuODJ6IiBmaWxsPSIjMzMzIi8+PC9zdmc+\")}header[role=\"banner\"] .show-search-button,.search-dialog-form [type=\"submit\"]{background-image:url(\"data:image/svg+xml;base64,PHN2ZyB2aWV3Qm94PSIwIDAgNDIgNDIiIHhtbG5zPSJodHRwOi8vd3d3LnczLm9yZy8yMDAwL3N2ZyI+PHBhdGggZD0iTTQwLjgxIDM1LjMybC05Ljk4Ni05Ljk4NWExNi4yNiAxNi4yNiAwIDAgMCAyLjM3My04LjQ4NUMzMy4xOTcgNy44MjIgMjUuMzc0IDAgMTYuMzQ1IDAgNy4zMiAwIDAgNy4zMiAwIDE2LjM0N2MwIDkuMDI4IDcuODIyIDE2Ljg1IDE2Ljg1IDE2Ljg1IDMgMCA1LjgxMi0uODE0IDguMjMtMi4yMjZsMTAuMDM3IDEwLjA0YTIuNTE0IDIuNTE0IDAgMCAwIDMuNTU3IDBsMi40OS0yLjQ5Yy45ODMtLjk4Mi42MjctMi4yMi0uMzU1LTMuMnpNNS4wMyAxNi4zNDZjMC02LjI1IDUuMDY3LTExLjMxNyAxMS4zMTUtMTEuMzE3IDYuMjUgMCAxMS44MiA1LjU3IDExLjgyIDExLjgyUzIzLjEgMjguMTY3IDE2Ljg1IDI4LjE2N2MtNi4yNSAwLTExLjgyLTUuNTctMTEuODItMTEuODJ6IiBmaWxsPSIjYTFhMWExIi8+PC9zdmc+\")}.user-status[data-user-type=\"anonymous\"] .recipebox-status:hover{background-image:url(\"data:image/svg+xml;base64,PHN2ZyB2aWV3Qm94PSIwIDAgNDIgNDIiIHhtbG5zPSJodHRwOi8vd3d3LnczLm9yZy8yMDAwL3N2ZyIgeG1sbnM6eGxpbms9Imh0dHA6Ly93d3cudzMub3JnLzE5OTkveGxpbmsiPjxkZWZzPjxwYXRoIGQ9Ik0zNS44MjQgMS4xNThDMzAuNDc0LTEuNzM0IDIzLjQ3Ni45ODggMjEgNy4yMjYgMTguNTI0Ljk4NyAxMS41MjYtMS43MzcgNi4xNzYgMS4xNTkuNDc3IDQuMjUtMi4yNDggMTIuMTM4IDIuMjUzIDIxLjQ0MyA1LjQ0OSAyOC4wNjcgMTEuMTE1IDMzLjA1NiAyMSA0Mi4wMDFjOS44ODUtOC45NDUgMTUuNTUxLTEzLjkzOSAxOC43NDctMjAuNTU5IDQuNTAxLTkuMzA0IDEuNzc2LTE3LjE5NC0zLjkyMy0yMC4yODR6IiBpZD0iYSIvPjwvZGVmcz48ZyBmaWxsLXJ1bGU9Im5vbnplcm8iIGZpbGw9Im5vbmUiPjx1c2UgZmlsbD0iIzMzMyIgZmlsbC1ydWxlPSJldmVub2RkIiB4bGluazpocmVmPSIjYSIvPjxwYXRoIHN0cm9rZT0iMzMzIiBkPSJNMjEgNDEuMzI2Yy05LjczMy04LjgxLTEyLjA3OC0xMS4wNzUtMTQuODcxLTE0LjY1OS0xLjQxLTEuODA3LTIuNTI1LTMuNTc1LTMuNDI2LTUuNDQxQy0xLjM5OCAxMi43NDYuNDcyIDQuODIgNi40MTQgMS41OTljNS4xMy0yLjc3NyAxMS43NzUtLjEgMTQuMTIxIDUuODExTDIxIDguNTgxbC40NjUtMS4xN2MyLjM0NS01LjkxIDguOTktOC41ODcgMTQuMTIxLTUuODEzIDUuOTQyIDMuMjIyIDcuODEyIDExLjE0OCAzLjcxIDE5LjYyNi0uODk4IDEuODYxLTIuMDEgMy42MjQtMy40MTMgNS40MjctMi43OTYgMy41OS01LjE2NCA1Ljg3OC0xNC44ODMgMTQuNjc1eiIvPjwvZz48L3N2Zz4=\")}.user-status[data-user-type=\"anonymous\"] .recipebox-status{background-image:url(\"data:image/svg+xml;base64,PHN2ZyB2aWV3Qm94PSIwIDAgNDIgNDIiIHhtbG5zPSJodHRwOi8vd3d3LnczLm9yZy8yMDAwL3N2ZyIgeG1sbnM6eGxpbms9Imh0dHA6Ly93d3cudzMub3JnLzE5OTkveGxpbmsiPjxkZWZzPjxwYXRoIGQ9Ik0zNS44MjQgMS4xNThDMzAuNDc0LTEuNzM0IDIzLjQ3Ni45ODggMjEgNy4yMjYgMTguNTI0Ljk4NyAxMS41MjYtMS43MzcgNi4xNzYgMS4xNTkuNDc3IDQuMjUtMi4yNDggMTIuMTM4IDIuMjUzIDIxLjQ0MyA1LjQ0OSAyOC4wNjcgMTEuMTE1IDMzLjA1NiAyMSA0Mi4wMDFjOS44ODUtOC45NDUgMTUuNTUxLTEzLjkzOSAxOC43NDctMjAuNTU5IDQuNTAxLTkuMzA0IDEuNzc2LTE3LjE5NC0zLjkyMy0yMC4yODR6IiBpZD0iYSIvPjwvZGVmcz48ZyBmaWxsLXJ1bGU9Im5vbnplcm8iIGZpbGw9Im5vbmUiPjx1c2UgZmlsbD0iI2ExYTFhMSIgZmlsbC1ydWxlPSJldmVub2RkIiB4bGluazpocmVmPSIjYSIvPjxwYXRoIHN0cm9rZT0iI2ExYTFhMSIgZD0iTTIxIDQxLjMyNmMtOS43MzMtOC44MS0xMi4wNzgtMTEuMDc1LTE0Ljg3MS0xNC42NTktMS40MS0xLjgwNy0yLjUyNS0zLjU3NS0zLjQyNi01LjQ0MUMtMS4zOTggMTIuNzQ2LjQ3MiA0LjgyIDYuNDE0IDEuNTk5YzUuMTMtMi43NzcgMTEuNzc1LS4xIDE0LjEyMSA1LjgxMUwyMSA4LjU4MWwuNDY1LTEuMTdjMi4zNDUtNS45MSA4Ljk5LTguNTg3IDE0LjEyMS01LjgxMyA1Ljk0MiAzLjIyMiA3LjgxMiAxMS4xNDggMy43MSAxOS42MjYtLjg5OCAxLjg2MS0yLjAxIDMuNjI0LTMuNDEzIDUuNDI3LTIuNzk2IDMuNTktNS4xNjQgNS44NzgtMTQuODgzIDE0LjY3NXoiLz48L2c+PC9zdmc+\")}.user-status[data-user-type=\"authenticated\"] .recipebox-status{background-image:url(\"data:image/svg+xml;base64,PHN2ZyB2aWV3Qm94PSIwIDAgNDIgNDIiIHhtbG5zPSJodHRwOi8vd3d3LnczLm9yZy8yMDAwL3N2ZyIgeG1sbnM6eGxpbms9Imh0dHA6Ly93d3cudzMub3JnLzE5OTkveGxpbmsiPjxkZWZzPjxwYXRoIGQ9Ik0zNS44MjQgMS4xNThDMzAuNDc0LTEuNzM0IDIzLjQ3Ni45ODggMjEgNy4yMjYgMTguNTI0Ljk4NyAxMS41MjYtMS43MzcgNi4xNzYgMS4xNTkuNDc3IDQuMjUtMi4yNDggMTIuMTM4IDIuMjUzIDIxLjQ0MyA1LjQ0OSAyOC4wNjcgMTEuMTE1IDMzLjA1NiAyMSA0Mi4wMDFjOS44ODUtOC45NDUgMTUuNTUxLTEzLjkzOSAxOC43NDctMjAuNTU5IDQuNTAxLTkuMzA0IDEuNzc2LTE3LjE5NC0zLjkyMy0yMC4yODR6IiBpZD0iYSIvPjwvZGVmcz48ZyBmaWxsLXJ1bGU9Im5vbnplcm8iIGZpbGw9Im5vbmUiPjx1c2UgZmlsbD0iI0Y5M0YyMyIgZmlsbC1ydWxlPSJldmVub2RkIiB4bGluazpocmVmPSIjYSIvPjxwYXRoIHN0cm9rZT0iI0Y5M0YyMyIgZD0iTTIxIDQxLjMyNmMtOS43MzMtOC44MS0xMi4wNzgtMTEuMDc1LTE0Ljg3MS0xNC42NTktMS40MS0xLjgwNy0yLjUyNS0zLjU3NS0zLjQyNi01LjQ0MUMtMS4zOTggMTIuNzQ2LjQ3MiA0LjgyIDYuNDE0IDEuNTk5YzUuMTMtMi43NzcgMTEuNzc1LS4xIDE0LjEyMSA1LjgxMUwyMSA4LjU4MWwuNDY1LTEuMTdjMi4zNDUtNS45MSA4Ljk5LTguNTg3IDE0LjEyMS01LjgxMyA1Ljk0MiAzLjIyMiA3LjgxMiAxMS4xNDggMy43MSAxOS42MjYtLjg5OCAxLjg2MS0yLjAxIDMuNjI0LTMuNDEzIDUuNDI3LTIuNzk2IDMuNTktNS4xNjQgNS44NzgtMTQuODgzIDE0LjY3NXoiLz48L2c+PC9zdmc+\")}.main-navigation .instagram-social-channel-link{background-image:url(\"data:image/svg+xml;base64,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\")}.branding .instagram-social-channel-link{background-image:url(\"data:image/svg+xml;base64,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\")}footer[role=\"contentinfo\"] .epicurious-links .epi-social-links .instagram-link{background-image:url(\"data:image/svg+xml;base64,PHN2ZyB4bWxucz0iaHR0cDovL3d3dy53My5vcmcvMjAwMC9zdmciIHZpZXdCb3g9Ii02NCA3MjggMTI4IDEyOCI+PHBhdGggZmlsbD0iI2ZmZmZmZiIgZD0iTTExLjIgNzc4LjR2LTYuOGMwLTEuMyAxLTIuMyAyLjMtMi4zaDYuOGMxLjMgMCAyLjMgMS4xIDIuMyAyLjN2Ni44YzAgMS4zLTEgMi4zLTIuMyAyLjNoLTYuOGMtMS4zIDAtMi4zLTEuMS0yLjMtMi4zek02NCA3OTJjMCAzNS4zLTI4LjcgNjQtNjQgNjRzLTY0LTI4LjctNjQtNjQgMjguNy02NCA2NC02NCA2NCAyOC43IDY0IDY0em0tMzQuNi0yMi43YzAtMy44LTMtNi44LTYuOC02LjhoLTQ1LjNjLTMuOCAwLTYuOCAzLTYuOCA2Ljh2NDUuM2MwIDMuOCAzIDYuOCA2LjggNi44aDQ1LjNjMy43IDAgNi44LTMuMSA2LjgtNi44di00NS4zek0tLjEgODAzLjJjNi4yIDAgMTEuMy01LjEgMTEuMy0xMS4zLjEtNi4yLTUtMTEuMy0xMS4zLTExLjNzLTExLjMgNS4xLTExLjMgMTEuM2MwIDYuMyA1LjEgMTEuMyAxMS4zIDExLjN6bTE3LjYtMTUuOGMuNCAxLjQuNiAzIC42IDQuNSAwIDEwLTguMSAxOC4xLTE4LjEgMTguMXMtMTguMS04LjEtMTguMS0xOC4xYzAtMS42LjItMy4xLjYtNC41aC01LjF2MjQuOWMwIDEuMiAxIDIuMyAyLjMgMi4zaDQwLjhjMS4zIDAgMi4zLTEgMi4zLTIuM3YtMjQuOWgtNS4zeiI+PC9wYXRoPjwvc3ZnPg==\")}footer[role=\"contentinfo\"] .epicurious-links .epi-social-links .pinterest-link{background-image:url(\"data:image/svg+xml;base64,PHN2ZyB4bWxucz0iaHR0cDovL3d3dy53My5vcmcvMjAwMC9zdmciIHZpZXdCb3g9Ii02NCA3MjggMTI4IDEyOCI+PHBhdGggZmlsbD0iI2ZmZmZmZiIgZD0iTTY0IDc5MmMwIDM1LjUtMjguNSA2NC02NCA2NHMtNjQtMjguNS02NC02NCAyOC41LTY0IDY0LTY0YzM1LjIgMCA2NCAyOC41IDY0IDY0em0tMzcuMy0xM2MtMS4yLTEwLTEwLjMtMTguOC0yMS4yLTIwLTE3LTIuMS0zMi4yIDguNS0zMi41IDI0LjkgMCA3LjkgMi40IDEyLjcgOS40IDE1LjUgNC45LTQuOS0uOS03LjYtMS41LTEzLTEuNS0xNCAxNC45LTI3LjMgMjkuNC0xOC41IDEwLjMgNi4xIDguNSAzMS44LTMuOSAzNC4zLTIuNC4zLTUuOC0uMy02LjctMS41LTYuMS01LjggNC45LTE1LjIgMS4yLTIzLjQtMy03LTExLjUtMS41LTEyLjQgNC45LS42IDMuMyAxLjIgNi40IDEuMiA5LjQgMCA2LjctNC4yIDE2LjEtNS4yIDIyLjctLjYgMi43LS45IDguMi0uMyAxMC45aC0uMyA0LjVjMy01LjIgNS4yLTEzLjMgNi43LTIwLjMgMS4yLS42IDEuNSAxLjIgMi4xIDEuOCA1LjggNC4yIDE2LjEgMS44IDIwLjYtMi4xIDcuMS01LjMgOS44LTE2LjggOC45LTI1LjZ6Ij48L3BhdGg+PC9zdmc+\")}footer[role=\"contentinfo\"] .epicurious-links .epi-social-links .tumblr-link{background-image:url(\"data:image/svg+xml;base64,PHN2ZyB4bWxucz0iaHR0cDovL3d3dy53My5vcmcvMjAwMC9zdmciIHZpZXdCb3g9Ii02NCA3MjggMTI4IDEyOCI+PHBhdGggZmlsbD0iI2ZmZmZmZiIgZD0iTS42IDcyOGM4LjggMCAxNyAxLjggMjQuNiA1LjIgNy42IDMuNCAxNC4zIDcuOSAyMCAxMy43IDUuOCA1LjggMTAuMyAxMi41IDEzLjYgMjAuNCAzLjMgNy42IDUuMiAxNS44IDUuMiAyNC43IDAgOC44LTEuOCAxNy40LTUuMiAyNS0zLjMgNy45LTcuOSAxNC42LTEzLjYgMjAuNC01LjggNS44LTEyLjcgMTAuNC0yMC4zIDEzLjdDMTcgODU0LjUgOC44IDg1NiAwIDg1NnMtMTcuMy0xLjUtMjQuOS00LjljLTcuOS0zLTE0LjktNy42LTIwLjYtMTMuNHMtMTAuMy0xMi44LTEzLjYtMjAuNGMtMy4zLTcuOS00LjktMTYuMi00LjktMjVzMS41LTE3LjEgNC45LTI0LjdjMy4zLTcuNiA3LjktMTQuNiAxMy42LTIwLjRzMTIuNC0xMC40IDIwLjMtMTMuN2M3LjYtMy43IDE1LjgtNS41IDI0LjYtNS41SC42em0tMTYuNyA1OS43aDd2MThjMCAyLjQuMyA0LjMuNiA1LjIuMyAxLjIgMS4yIDIuMSAyLjQgMy40IDEuNSAxLjIgMyAyLjEgNC41IDIuNC45LjMgMS44LjMgMi40LjYuNi4zIDEuOC4zIDMgLjMgMi4xIDAgMy45LS4zIDUuOC0uNiAxLjgtLjYgMy45LTEuMiA1LjgtMi4xVjgwN2MtMi40IDEuNS00LjkgMi40LTcuNiAyLjQtMS44IDAtMy0uMy0zLjktLjktLjktLjYtMS41LTEuMi0yLjEtMi4xLS4zLS42LS4zLTIuNC0uMy01LjV2LTEzLjFoMTEuOHYtOS4xSDEuNVY3NjdoLTdjLS4zIDIuNy0uOSA0LjktMS44IDYuNC0uOSAxLjgtMi4xIDMuNC0zLjMgNC4zLS42LjYtMS41IDEuMi0yLjcgMS41LS45LjYtMi4xLjktMyAxLjJsLjIgNy4zeiI+PC9wYXRoPjwvc3ZnPg==\")}.main-navigation .twitter-social-channel-link{background-image:url(\"data:image/svg+xml;base64,PHN2ZyB2aWV3Qm94PSIwIDAgMzE0IDI1NiIgeG1sbnM9Imh0dHA6Ly93d3cudzMub3JnLzIwMDAvc3ZnIj48cGF0aCBkPSJNMzE0IDMwLjc5M2ExNDMuMzc3IDE0My4zNzcgMCAwIDEtMTguMTAyIDUuODgxYy02LjA1MyAxLjUwNi0xMi4zODcgMi44NTctMTkuMDAzIDQuMDY3IDYuNjE2LTQuMjIxIDEyLjM1OS05LjM0MyAxNy4yMDEtMTUuMzggNC44MjgtNi4wMzYgOC43NDEtMTIuNjY0IDExLjc2OC0xOS44OTZhMTg2OS4zNyAxODY5LjM3IDAgMCAxLTIwLjM2OSA5LjA0NyA4OS45MzEgODkuOTMxIDAgMCAxLTIyLjE1NiA2LjMzMiA1NS4zNiA1NS4zNiAwIDAgMC0xOS45MTgtMTUuMzhBNjEuOTEzIDYxLjkxMyAwIDAgMCAyMTcuMTgzLjAwNmMtMTcuNDk3IDAtMzIuNTg2IDYuMzMyLTQ1LjI1NSAxOS4wMS0xMi42NjkgMTIuNjUtMTkuMDAzIDI4LjA0NC0xOS4wMDMgNDYuMTExIDAgMy42My41OTEgOC40NyAxLjgxNiAxNC40OTMtMjcuMTQtMS4yMS01Mi4wNC03LjgyMy03NC42Ni0xOS44OTZhMTkwLjc5IDE5MC43OSAwIDAgMS01OC4zNjEtNDcuOTQgNjguNjE4IDY4LjYxOCAwIDAgMC04LjE1IDMyLjU0NmMwIDI0LjEzMiA5LjM2IDQxLjkzMiAyOC4wNTQgNTMuMzcyLTEwLjg1MyAwLTIwLjUxLTIuMzkyLTI4Ljk1NS03LjI0N3YuOTE1YzAgMTUuNjg5IDQuODI4IDI5LjQwOCAxNC40ODQgNDEuMTcyIDkuNjI4IDExLjczNSAyMS43MDYgMTkuMTM2IDM2LjE5IDIyLjE2MWE1NS45MDIgNTUuOTAyIDAgMCAxLTcuNjg1IDEuMzM3Yy0zLjE1Ni4zMzYtNi4zMjguNDktOS41MDIuNDY1LTIuNDIgMC02LjAzOS0uNTc3LTEwLjg2Ny0xLjgwMiAzLjYxOCAxMi42NSAxMC44NjcgMjMuMjE4IDIxLjcyIDMxLjY2IDEwLjg1MyA4LjQ0MyAyMy41MjIgMTIuOTYgMzguMDA2IDEzLjU2NS0yMi45MyAxOC4wOTUtNDkuNDY0IDI3LjE0My03OS42MyAyNy4xNDNIMGExNzkuODI4IDE3OS44MjggMCAwIDAgNDYuMTU2IDIxLjI0N0M2My4wMiAyNTMuNDUzIDgwLjUzMSAyNTYgOTguNjMzIDI1NmMyOS41NiAwIDU1Ljc5OC01LjU3MiA3OC43MjgtMTYuNzE2IDIyLjkzLTExLjE1OSA0Mi4wODktMjUuNDY5IDU3LjQ2LTQyLjk4N2ExODIuMDY1IDE4Mi4wNjUgMCAwIDAgMzQuODUzLTU4Ljc5YzcuODEyLTIxLjY5NyAxMS43NTMtNDMuNDIzIDExLjc1My02NS4xMlY2NC4yNGExMjkuOTEgMTI5LjkxIDAgMCAwIDE4LjEwMy0xNS44M2M1LjQxOS01LjcyNyAxMC4yNDctMTEuNjA5IDE0LjQ3LTE3LjYzMSIgZmlsbD0iI0Y5M0YyMyIgZmlsbC1ydWxlPSJldmVub2RkIi8+PC9zdmc+\")}.branding .twitter-social-channel-link{background-image:url(\"data:image/svg+xml;base64,PHN2ZyB2aWV3Qm94PSIwIDAgMTI4IDEyOCIgeG1sbnM9Imh0dHA6Ly93d3cudzMub3JnLzIwMDAvc3ZnIj48ZyBmaWxsPSJub25lIiBmaWxsLXJ1bGU9ImV2ZW5vZGQiPjxwYXRoIGQ9Ik0xMjggNjRjMCAzNS41LTI4LjUgNjQtNjQgNjQtMzUuMiAwLTY0LTI4LjgtNjQtNjRDMCAyOC41IDI4LjggMCA2NCAwYzM1LjUgMCA2NCAyOC41IDY0IDY0eiIgZmlsbC1ydWxlPSJub256ZXJvIiBmaWxsPSIjRjkzRjIzIi8+PHBhdGggZD0iTTkxLjMgNDcuNmMyLjctMS41IDQuNS00LjIgNS44LTctMi40IDEuMi01LjUgMi40LTguNSAzLTIuMS0yLjQtNS41LTQuMi05LjQtNC4yLTcgMC0xMyA1LjgtMTMgMTMgMCAuOS4zIDIuMS4zIDMtMTAuOS0uNi0yMC4zLTUuOC0yNi43LTEzLjYtMS4yIDIuMS0xLjUgNC4yLTEuNSA2LjcgMCA0LjUgMi4xIDguNSA1LjggMTAuNi0yLjEgMC00LjItLjYtNS44LTEuNXYuM2MwIDYuMSA0LjIgMTEuNSAxMC4zIDEyLjctLjkuMy0yLjEuMy0zLjMuMy0uNiAwLTEuNS0uMy0yLjEtLjMgMS41IDUuMiA2LjEgOC44IDEyLjEgOS4xLTQuMiAzLjMtMTAgNS41LTE2LjEgNS41aC0zQzQyIDg4LjggNDguNiA5MSA1NS45IDkxYzI0IDAgMzYuNy0xOS43IDM2LjctMzd2LTEuNWMyLjQtMS44IDQuOS00LjIgNi43LTYuNy0zLjEuNi01LjMgMS41LTggMS44eiIgZmlsbD0iI0ZGRiIvPjwvZz48L3N2Zz4=\")}footer[role=\"contentinfo\"] .epicurious-links .epi-social-links .twitter-link{background-image:url(\"data:image/svg+xml;base64,PHN2ZyB2aWV3Qm94PSIwIDAgMTI4IDEyOCIgeG1sbnM9Imh0dHA6Ly93d3cudzMub3JnLzIwMDAvc3ZnIj48cGF0aCBkPSJNMTI4IDY0YzAgMzUuNS0yOC41IDY0LTY0IDY0LTM1LjIgMC02NC0yOC44LTY0LTY0QzAgMjguNSAyOC44IDAgNjQgMGMzNS41IDAgNjQgMjguNSA2NCA2NHpNOTEuMyA0Ny42YzIuNy0xLjUgNC41LTQuMiA1LjgtNy0yLjQgMS4yLTUuNSAyLjQtOC41IDMtMi4xLTIuNC01LjUtNC4yLTkuNC00LjItNyAwLTEzIDUuOC0xMyAxMyAwIC45LjMgMi4xLjMgMy0xMC45LS42LTIwLjMtNS44LTI2LjctMTMuNi0xLjIgMi4xLTEuNSA0LjItMS41IDYuNyAwIDQuNSAyLjEgOC41IDUuOCAxMC42LTIuMSAwLTQuMi0uNi01LjgtMS41di4zYzAgNi4xIDQuMiAxMS41IDEwLjMgMTIuNy0uOS4zLTIuMS4zLTMuMy4zLS42IDAtMS41LS4zLTIuMS0uMyAxLjUgNS4yIDYuMSA4LjggMTIuMSA5LjEtNC4yIDMuMy0xMCA1LjUtMTYuMSA1LjVoLTNDNDIgODguOCA0OC42IDkxIDU1LjkgOTFjMjQgMCAzNi43LTE5LjcgMzYuNy0zN3YtMS41YzIuNC0xLjggNC45LTQuMiA2LjctNi43LTMuMS42LTUuMyAxLjUtOCAxLjh6IiBmaWxsLXJ1bGU9Im5vbnplcm8iIGZpbGw9IiNGRkYiLz48L3N2Zz4=\")}.search-dialog-form [type=\"reset\"]:hover{background-image:url(\"data:image/svg+xml;base64,PHN2ZyB2aWV3Qm94PSIwIDAgMjUgMjUiIHhtbG5zPSJodHRwOi8vd3d3LnczLm9yZy8yMDAwL3N2ZyI+PGcgZmlsbD0iIzMzMyI+PHBhdGggZD0iTTIyLjI0NCAwTDI1IDIuNzU2IDIuNzU2IDI1IDAgMjIuMjQ0IDIyLjI0NCAweiIvPjxwYXRoIGQ9Ik0yLjc1NSAwTDI1IDIyLjI0NSAyMi4yNDMgMjUgMCAyLjc1NSAyLjc1NSAweiIvPjwvZz48L3N2Zz4=\")}[class$=\"-form\"] .close-button,.search-dialog-form [type=\"reset\"],.dismiss-main-navigation:hover,[class$=\"-comment-form\"] .close-button{background-image:url(\"data:image/svg+xml;base64,PHN2ZyB2aWV3Qm94PSIwIDAgMjUgMjUiIHhtbG5zPSJodHRwOi8vd3d3LnczLm9yZy8yMDAwL3N2ZyI+PGcgZmlsbD0iI0ExQTFBMSI+PHBhdGggZD0iTTIyLjI0NCAwTDI1IDIuNzU2IDIuNzU2IDI1IDAgMjIuMjQ0IDIyLjI0NCAweiIvPjxwYXRoIGQ9Ik0yLjc1NSAwTDI1IDIyLjI0NSAyMi4yNDMgMjUgMCAyLjc1NSAyLjc1NSAweiIvPjwvZz48L3N2Zz4=\")}.dismiss-main-navigation{background-image:url(\"data:image/svg+xml;base64,PHN2ZyB2aWV3Qm94PSIwIDAgMjUgMjUiIHhtbG5zPSJodHRwOi8vd3d3LnczLm9yZy8yMDAwL3N2ZyI+PGcgZmlsbD0iI0NDQyI+PHBhdGggZD0iTTIyLjI0NCAwTDI1IDIuNzU2IDIuNzU2IDI1IDAgMjIuMjQ0IDIyLjI0NCAweiIvPjxwYXRoIGQ9Ik0yLjc1NSAwTDI1IDIyLjI0NSAyMi4yNDMgMjUgMCAyLjc1NSAyLjc1NSAweiIvPjwvZz48L3N2Zz4=\")}footer[role=\"contentinfo\"] .epicurious-links .epi-social-links .youtube-link{background-image:url(\"data:image/svg+xml;base64,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\")}footer[role=\"contentinfo\"] .corporate-info>.section-title,.lightreg-dialog fieldset legend,header[role=\"banner\"] .epicurious-logo,footer[role=\"contentinfo\"] .epicurious-links .epi-social-links .nav-title,.main-navigation .facebook-social-channel-link,.branding .facebook-social-channel-link,footer[role=\"contentinfo\"] .epicurious-links .epi-social-links .facebook-link,footer[role=\"contentinfo\"] .epicurious-links .epi-social-links .feed-link,footer[role=\"contentinfo\"] .epicurious-links .epi-social-links .googleplus-link,header[role=\"banner\"] .show-main-navigation,header[role=\"banner\"] .show-search-button,.search-dialog-form [type=\"submit\"],.user-status[data-user-type=\"anonymous\"] .recipebox-status:hover,.user-status[data-user-type=\"anonymous\"] .recipebox-status,.user-status[data-user-type=\"authenticated\"] .recipebox-status,.main-navigation .instagram-social-channel-link,.branding .instagram-social-channel-link,footer[role=\"contentinfo\"] .epicurious-links .epi-social-links .instagram-link,footer[role=\"contentinfo\"] .epicurious-links .epi-social-links .pinterest-link,footer[role=\"contentinfo\"] .epicurious-links .epi-social-links .tumblr-link,.main-navigation .twitter-social-channel-link,.branding .twitter-social-channel-link,footer[role=\"contentinfo\"] .epicurious-links .epi-social-links .twitter-link,[class$=\"-form\"] .close-button,.search-dialog-form [type=\"reset\"],.dismiss-main-navigation:hover,[class$=\"-comment-form\"] .close-button,.dismiss-main-navigation,footer[role=\"contentinfo\"] .epicurious-links .epi-social-links .youtube-link{border:none;direction:ltr;display:inline-block;overflow:hidden;padding:0;text-align:left;text-indent:-9999px}footer[role=\"contentinfo\"] .corporate-info>.section-title>a,.lightreg-dialog fieldset legend>a,header[role=\"banner\"] .epicurious-logo>a,footer[role=\"contentinfo\"] .epicurious-links .epi-social-links .nav-title>a,.main-navigation .facebook-social-channel-link>a,.branding .facebook-social-channel-link>a,footer[role=\"contentinfo\"] .epicurious-links .epi-social-links .facebook-link>a,footer[role=\"contentinfo\"] .epicurious-links .epi-social-links .feed-link>a,footer[role=\"contentinfo\"] .epicurious-links .epi-social-links .googleplus-link>a,header[role=\"banner\"] .show-main-navigation>a,header[role=\"banner\"] .show-search-button>a,.search-dialog-form [type=\"submit\"]>a,.user-status[data-user-type=\"anonymous\"] .recipebox-status:hover>a,.user-status[data-user-type=\"anonymous\"] .recipebox-status>a,.user-status[data-user-type=\"authenticated\"] .recipebox-status>a,.main-navigation .instagram-social-channel-link>a,.branding .instagram-social-channel-link>a,footer[role=\"contentinfo\"] .epicurious-links .epi-social-links .instagram-link>a,footer[role=\"contentinfo\"] .epicurious-links .epi-social-links .pinterest-link>a,footer[role=\"contentinfo\"] .epicurious-links .epi-social-links .tumblr-link>a,.main-navigation .twitter-social-channel-link>a,.branding .twitter-social-channel-link>a,footer[role=\"contentinfo\"] .epicurious-links .epi-social-links .twitter-link>a,[class$=\"-form\"] .close-button>a,.search-dialog-form [type=\"reset\"]>a,.dismiss-main-navigation:hover>a,[class$=\"-comment-form\"] .close-button>a,.dismiss-main-navigation>a,footer[role=\"contentinfo\"] .epicurious-links .epi-social-links .youtube-link>a{display:block;height:100%;width:100%}html,body,div,span,applet,object,iframe,h1,h2,h3,h4,h5,h6,p,blockquote,pre,a,abbr,acronym,address,big,cite,code,del,dfn,em,img,ins,kbd,q,s,samp,small,strike,strong,sub,sup,tt,var,b,u,i,center,dl,dt,dd,ol,ul,li,fieldset,form,label,legend,table,caption,tbody,tfoot,thead,tr,th,td,article,aside,canvas,details,embed,figure,figcaption,footer,header,hgroup,menu,nav,output,ruby,section,summary,time,mark,audio,video{margin:0;padding:0;border:0;font:inherit;font-size:100%;vertical-align:baseline}html{line-height:1}ol,ul{list-style:none}table{border-collapse:collapse;border-spacing:0}caption,th,td{text-align:left;font-weight:normal;vertical-align:middle}q,blockquote{quotes:none}q:before,q:after,blockquote:before,blockquote:after{content:\"\";content:none}a img{border:none}article,aside,details,figcaption,figure,footer,header,hgroup,main,menu,nav,section,summary{display:block}html{box-sizing:border-box;font-size:16px;line-height:1.625em}*,*:before,*:after{box-sizing:inherit}* html{font-size:100%}body{background:#fff;font-family:\"Source Serif Pro\",serif;font-weight:400;position:relative;color:#333;-webkit-font-smoothing:antialiased;-moz-osx-font-smoothing:grayscale}@media only screen and (max-width: 640px){body{-webkit-text-size-adjust:none;-ms-text-size-adjust:none;width:100%;min-width:0}}html,body{height:100%}h1,h2,h3,h4,h5,h6{line-height:1.15538em;padding:0.273em 0;text-rendering:optimizeLegibility}p{font-family:\"Source Serif Pro\",serif;font-weight:400;font-size:1rem;margin-bottom:6px;line-height:.75em}[class$=\"-flash-message\"]{border:1px solid #eee;font-size:1rem;line-height:1.25;margin:1rem 0;padding:1rem}.confirm-flash-message{border-color:#83b838;color:#83b838}.error-flash-message{border-color:#f93f23;color:#f93f23}ol{list-style:decimal}img{max-width:100%;height:auto}.apply-social{line-height:0}.social-img picture,.apply-social picture{display:inline-block;line-height:0;position:relative}strong{font-weight:700;line-height:inherit}em{font-style:italic;line-height:inherit}hr{border:1px solid #ccc;clear:both;margin:1rem 0 1.125rem;height:0}.btn,.skiplink{display:inline-block;width:auto;-webkit-appearance:none;text-align:center}.btn>a,.btn input,.btn button,.skiplink>a,.skiplink input,.skiplink button{display:block;height:100%}.btn input,.btn button,.skiplink input,.skiplink button{background:none;border:none;width:100%;font-size:100%;cursor:pointer;-webkit-appearance:none;-moz-appearance:none;appearance:none}html{-webkit-overflow-scrolling:touch}a{color:#333;line-height:normal;text-decoration:none}a:hover,a:active{text-decoration:underline}button{border:none}button:focus{outline:0}button:hover{cursor:pointer}fieldset{border:none;margin:0;padding:0}.field .input{position:relative;padding:0 .625rem;background:#fff;border:1px solid #d8d8d8}img.photo,.photo-wrap img{max-width:none}img{-webkit-transition:opacity .7s;-moz-transition:opacity .7s;-o-transition:opacity .7s;transition:opacity .7s}img.pending{opacity:0}img.loaded{opacity:1}.component-lazy img{opacity:0}.component-lazy.img-loaded img,.component-lazy.img-error img{opacity:1}input{border-radius:0;-webkit-appearance:none}input:focus{outline:0}ul,li{margin:0;padding:0}.flag-inappropriate-content-button{font-family:\"Renner\",sans-serif;font-style:normal;font-weight:bold;color:#a1a1a1;font-size:.75rem;line-height:0rem;background-color:#fff;border:1px solid #a1a1a1;display:block;margin:0 auto;padding:1.4375rem 0 1.375rem;text-transform:uppercase;width:15rem}.flag-inappropriate-content-button:hover{border-color:#333;color:#333}.flagged.flag-inappropriate-content-button,.flagged.flag-inappropriate-content-button:hover{border-color:#f93f23;color:#f93f23;cursor:default}[class$=\"-form\"]{background-color:#fff;display:block;margin:0 auto;padding:2rem 0;width:100%;z-index:1}[class$=\"-form\"] ::selection{background-color:transparent}[class$=\"-form\"] a{color:inherit}[class$=\"-form\"] fieldset,[class$=\"-form\"] label,[class$=\"-form\"] p{font-family:\"Renner\",sans-serif;font-style:normal;font-weight:normal;color:#333;font-size:.875rem;line-height:1.25rem}[class$=\"-form\"] fieldset,[class$=\"-form\"] p{border:none;margin:0;padding:.5rem 2rem}[class$=\"-form\"] p{padding:0}[class$=\"-form\"] legend{font-family:\"Renner\",sans-serif;font-style:normal;font-weight:normal;color:#333;font-size:1.875rem;line-height:1.875rem;margin:0 auto;padding:.5rem 0 .75rem}[class$=\"-form\"] label{cursor:default;display:none}[class$=\"-form\"] .description,[class$=\"-form\"] .warning{margin:1rem 0}[class$=\"-form\"] .warning{color:#f93f23}[class$=\"-form\"] input[type=\"checkbox\"],[class$=\"-form\"] input[type=\"checkbox\"]:focus{border:1px solid #ccc;border-radius:0;height:.75rem;width:.75rem}[class$=\"-form\"] input[type=\"checkbox\"]:checked,[class$=\"-form\"] input[type=\"checkbox\"]:focus:checked{background-color:#f93f23}[class$=\"-form\"] input[type=\"checkbox\"]:hover,[class$=\"-form\"] input[type=\"checkbox\"]:focus:hover{border-color:#333}[class$=\"-form\"] input[type=\"email\"],[class$=\"-form\"] input[type=\"password\"],[class$=\"-form\"] input[type=\"text\"],[class$=\"-form\"] textarea{font-family:\"Renner\",sans-serif;font-style:normal;font-weight:normal;color:#333;font-size:.875rem;line-height:.875rem;border:1px solid #ccc;display:block;margin:1rem 0;padding:1rem .5rem;width:100%}[class$=\"-form\"] input[type=\"email\"].error,[class$=\"-form\"] input[type=\"email\"]:invalid,[class$=\"-form\"] input[type=\"password\"].error,[class$=\"-form\"] input[type=\"password\"]:invalid,[class$=\"-form\"] input[type=\"text\"].error,[class$=\"-form\"] input[type=\"text\"]:invalid,[class$=\"-form\"] textarea.error,[class$=\"-form\"] textarea:invalid{border-color:#f93f23}[class$=\"-form\"] input[type=\"email\"]:focus,[class$=\"-form\"] input[type=\"password\"]:focus,[class$=\"-form\"] input[type=\"text\"]:focus,[class$=\"-form\"] textarea:focus{border-color:#999;outline:none}[class$=\"-form\"] input[type=\"email\"]::selection,[class$=\"-form\"] input[type=\"password\"]::selection,[class$=\"-form\"] input[type=\"text\"]::selection,[class$=\"-form\"] textarea::selection{background-color:#ccc}[class$=\"-form\"] textarea{overflow-y:auto;resize:none}[class$=\"-form\"] .close-button{background-color:transparent;background-repeat:no-repeat;background-position:50% 50%;background-size:.9375rem,.9375rem;border:none;direction:ltr;display:inline-block;height:.9375rem;overflow:hidden;padding:0;text-indent:-9999px;width:.9375rem;position:absolute;right:13px;top:11px}[class$=\"-form\"] .close-button>a{display:block;height:100%;width:100%}[class$=\"-form\"] .cancel-button,[class$=\"-form\"] .save-button,[class$=\"-form\"] .submit-button{font-family:\"Renner\",sans-serif;font-style:normal;font-weight:bold;color:#fff;font-size:.875rem;line-height:0rem;background-color:#333;border:1px solid #333;display:inline-block;margin:36px auto;padding:22px 0 21px;text-transform:uppercase;width:100%}[class$=\"-form\"] .cancel-button:focus,[class$=\"-form\"] .cancel-button:hover,[class$=\"-form\"] .save-button:focus,[class$=\"-form\"] .save-button:hover,[class$=\"-form\"] .submit-button:focus,[class$=\"-form\"] .submit-button:hover{background-color:#292929}[class$=\"-form\"] .cancel-button{background-color:#fff;border-color:#f93f23;color:#f93f23}[class$=\"-form\"] .cancel-button:focus,[class$=\"-form\"] .cancel-button:hover{background-color:#f93f23;color:#fff}[class$=\"-modal-dialog\"] [class$=\"-form\"]{background-color:#fff;display:block;margin:0 auto;padding:25px 0 0;width:90%}@media only screen and (min-width: 768px){[class$=\"-form\"] .close-button{right:15px;top:15px}[class$=\"-form\"] .submit-button{width:158px}}.contact-us-comment-form,.flag-inappropriate-content-comment-form{border:1px solid #ccc}[class$=\"-login-form\"],[class$=\"-registration-form\"],[class$=\"-reset-password-form\"],[class$=\"-update-password-form\"]{text-align:center}[class$=\"-login-form\"] .fine-print,[class$=\"-registration-form\"] .fine-print,[class$=\"-reset-password-form\"] .fine-print,[class$=\"-update-password-form\"] .fine-print{color:#9B9B9B;font-size:.625rem;text-align:center}[class$=\"-login-form\"] .fine-print a,[class$=\"-registration-form\"] .fine-print a,[class$=\"-reset-password-form\"] .fine-print a,[class$=\"-update-password-form\"] .fine-print a{text-decoration:underline}[class$=\"-login-form\"] .goto-counterpart a,[class$=\"-registration-form\"] .goto-counterpart a,[class$=\"-reset-password-form\"] .goto-counterpart a,[class$=\"-update-password-form\"] .goto-counterpart a{text-decoration:underline}[class$=\"-login-form\"] .forgot-password-link{display:block;margin:1rem 0;text-align:right;text-decoration:underline;text-transform:capitalize}.piano-ad-blocker-registration-form .close-button{display:none}.piano-engaged-user-registration-form .close-button{font-family:\"Renner\",sans-serif;font-style:normal;font-weight:bold;color:#ccc;font-size:.625rem;line-height:0rem;background:none;background-color:#e5e5e5;bottom:1rem;height:auto;margin-right:-50px;padding:15px 0 14px;right:50%;text-indent:0;top:initial;width:100px}.piano-engaged-user-registration-form .close-button:hover{color:#333}.piano-ad-blocker-modal-dialog,.piano-login-modal-dialog,.piano-reset-password-modal-dialog{font-family:\"Renner\",sans-serif;font-style:normal;font-weight:normal;color:#333;font-size:.875rem;line-height:1.25rem;padding:2rem 0 0;text-align:center}.piano-ad-blocker-modal-dialog .dialog-title,.piano-login-modal-dialog .dialog-title,.piano-reset-password-modal-dialog .dialog-title{font-family:\"Renner\",sans-serif;font-style:normal;font-weight:normal;color:#f93f23;font-size:1.875rem;line-height:1.875rem;margin:0 auto;padding:8px 0 12px;width:40%}.piano-ad-blocker-modal-dialog .description,.piano-ad-blocker-modal-dialog .your-ad-blocker,.piano-login-modal-dialog .description,.piano-login-modal-dialog .your-ad-blocker,.piano-reset-password-modal-dialog .description,.piano-reset-password-modal-dialog .your-ad-blocker{font-family:\"Renner\",sans-serif;font-style:normal;font-weight:normal;color:#333;font-size:.875rem;line-height:1.25rem;display:block;margin:0 auto;padding:0 2rem}.piano-ad-blocker-modal-dialog .your-ad-blocker .what,.piano-login-modal-dialog .your-ad-blocker .what,.piano-reset-password-modal-dialog .your-ad-blocker .what{background-color:#ccc;display:block;margin:1rem 0;padding:1rem}.piano-ad-blocker-modal-dialog .your-ad-blocker .how,.piano-login-modal-dialog .your-ad-blocker .how,.piano-reset-password-modal-dialog .your-ad-blocker .how{display:block;text-decoration:underline}@media only screen and (min-width: 768px){.piano-ad-blocker-modal-dialog,.piano-login-modal-dialog,.piano-reset-password-modal-dialog{height:96%;top:2%}.piano-ad-blocker-modal-dialog .description,.piano-ad-blocker-modal-dialog .your-ad-blocker,.piano-login-modal-dialog .description,.piano-login-modal-dialog .your-ad-blocker,.piano-reset-password-modal-dialog .description,.piano-reset-password-modal-dialog .your-ad-blocker{padding:0 6rem}}.ReactModalPortal>div{opacity:0;transition:opacity 0.25s}.ReactModalPortal>div.ReactModal__Overlay--after-open{opacity:1}body[data-overlay=\"modal\"],body.ReactModal__Body--open{height:100%;overflow:hidden;padding-right:15px}body[data-overlay=\"modal\"] .content-wrapper,body[data-overlay=\"modal\"] .page-wrap,body.ReactModal__Body--open .content-wrapper,body.ReactModal__Body--open .page-wrap{display:block;filter:blur(5px);-moz-filter:blur(5px);-ms-filter:blur(5px);-o-filter:blur(5px);-webkit-filter:blur(5px)}[class$=\"-modal-dialog-wrapper\"],[class$=\"-modal-confirmation-wrapper\"]{background:rgba(0,0,0,0.7);display:block;height:100%;left:0;position:fixed;top:0;width:100%;z-index:9999999}[class$=\"-modal-confirmation-wrapper\"]{background:none}[class$=\"-modal-confirmation-wrapper\"] .recipbox-modal-confirmation{display:flex;justify-content:center;align-items:center}[class$=\"-modal-confirmation-wrapper\"] .recipbox-modal-confirmation p{font-family:\"Renner\",sans-serif;font-style:normal;font-weight:normal;color:#f93f23;font-size:.875rem;line-height:1.125rem;margin:0}[class$=\"-modal-dialog\"],[class$=\"-modal-confirmation\"]{background-color:#ffffff;display:block;height:90%;left:50%;margin-left:-45%;outline:none;position:fixed;top:5%;width:90%;z-index:999999}[class$=\"-modal-confirmation\"]{height:auto;margin-left:-30%;padding:1.1875rem;text-align:center;top:30%;width:14.5rem}@media only screen and (min-width: 768px){[class$=\"-modal-dialog\"],[class$=\"-modal-confirmation\"]{border:1px solid #ccc;height:80%;left:50%;margin-left:-300px;top:10%;width:600px}[class$=\"-modal-confirmation-wrapper\"] .recipbox-modal-confirmation p{font-family:\"Renner\",sans-serif;font-style:normal;font-weight:normal;color:#f93f23;font-size:1.0625rem;line-height:1.375rem}[class$=\"-modal-confirmation\"]{height:auto;left:50%;margin-left:-10%;padding:1.875rem;top:50%;width:24.875rem}.error-modal-dialog{height:auto}}.content-wrapper{margin:0 auto}.content-wrapper .main-content{-webkit-transition:-webkit-transform .3s linear;-moz-transition:-moz-transform .3s linear;-o-transition:-o-transform .3s linear;transition:transform .3s linear}.content-and-rail{*zoom:1}.content-and-rail:before,.content-and-rail:after{content:\"\";display:table}.content-and-rail:after{clear:both}.fullwidth{width:100%}.hide{display:none}.show{display:block}.locked{position:fixed}.modal.show{visibility:visible;opacity:1}.ad-container{line-height:0}.embed-video{*zoom:1;clear:both;position:relative}.embed-video:before,.embed-video:after{content:\"\";display:table}.embed-video:after{clear:both}.embed-video .video-container{position:relative;padding-bottom:56.25%;padding-top:30px;height:0;overflow:hidden}.embed-video .video-container iframe,.embed-video .video-container object,.embed-video .video-container embed{position:absolute;top:0;left:0;width:100%;height:100%}.embed-social{*zoom:1;clear:both;position:relative}.embed-social:before,.embed-social:after{content:\"\";display:table}.embed-social:after{clear:both}.embed-social .embed-facebook{margin-bottom:20px;position:relative;padding-top:0;padding-bottom:0}.embed-social .embed-facebook iframe,.embed-social .embed-facebook object,.embed-social .embed-facebook embed{position:absolute;top:0;left:0;width:100%;height:100%}.embed-social .embed-instagram{margin-bottom:20px;position:relative;padding-top:30px;padding-bottom:113%}.embed-social .embed-instagram blockquote{margin-left:0;margin-right:0;width:100%}.embed-social .embed-instagram blockquote:before{content:\"\"}@media only screen and (max-width: 640px){.embed-social .embed-instagram{padding-bottom:122%}}.embed-social .embed-instagram iframe,.embed-social .embed-instagram object,.embed-social .embed-instagram embed{position:absolute;top:0;left:0;width:100%;height:100%}.embed-social .embed-twitter{position:relative;padding-top:0px;padding-bottom:0px;text-align:-webkit-center}.embed-social .embed-twitter iframe,.embed-social .embed-twitter object,.embed-social .embed-twitter embed{position:absolute;top:0;left:0;width:100%;height:100%}.cnid-loader{position:fixed;top:45%;left:50%;margin-left:-8px;margin-top:-8px;background-color:#000;width:50px;height:50px;border-radius:10px;opacity:.8;z-index:1101}.cnid-loader img{position:absolute;top:16%;left:16%}.cnid-ios-scroll{-webkit-overflow-scrolling:touch;overflow-y:auto}div.social-img{display:inline-block;position:relative;line-height:0}.social-buttons{position:absolute;z-index:10;bottom:.625rem;right:.625rem;*zoom:1}.social-buttons:before,.social-buttons:after{content:\"\";display:table}.social-buttons:after{clear:both}.social-buttons div{float:left}.social-buttons div.facebook{margin-right:.375rem}.social-buttons div.social{display:block;line-height:0;height:1.75rem;width:1.75rem}.browsehappy{text-align:center;font-weight:normal;font-size:16px;font-family:\"Renner\",sans-serif;background-color:#f1f2f2;position:fixed;height:26px;bottom:-14px;z-index:99999;width:100%}[class^=\"icon-\"]{background-position:50% 50%;background-repeat:no-repeat;background-size:100% 100%;cursor:pointer;display:block;direction:ltr;overflow:hidden;padding:0;text-indent:-9999px}[class^=\"icon-\"] a{display:block;height:100%;width:100%}.icon-epicurious{height:63px;margin:0 auto;overflow:initial;position:relative;width:304px}.print-controls{display:none}.content-container{width:100%;max-width:1024px;min-width:320px;margin:0 auto;padding-left:10px;padding-right:10px;*zoom:1}.content-container:before,.content-container:after{content:\"\";display:table}.content-container:after{clear:both}.content-container>*:first-child{margin-left:0}@media only screen and (max-width: 640px){.content-container{width:auto;min-width:0;margin-left:0;margin-right:0}}.rail-promo img{width:300px;min-height:300px}.main.has-rail{margin-left:1.953125%;float:left;min-height:1px;position:relative;-webkit-box-sizing:border-box;-moz-box-sizing:border-box;box-sizing:border-box;width:68.1396484375%;margin-left:0}@media only screen and (max-width: 640px){.main.has-rail{float:left;margin-left:0;width:100%}}.main.no-rail{padding:0;margin:0}.main.no-rail:before,.main.no-rail:after{content:\"\";display:table}.main.no-rail:after{clear:both}@media only screen and (min-width: 1024px){.mobile{display:none}body>.content-wrapper>div.main{margin-top:1.25rem}}.rail{margin-left:1.953125%;float:left;min-height:1px;position:relative;-webkit-box-sizing:border-box;-moz-box-sizing:border-box;box-sizing:border-box;width:29.9072265625%;position:static}@media only screen and (max-width: 640px){.rail{float:left;margin-left:0;width:100%}}.rail div.video{margin:0;padding:0}.video-container,.cne-interlude-player-container{width:100%}.video-container.sticky,.cne-interlude-player-container.sticky{position:fixed;width:18.75rem;z-index:15}.weather{width:300px;height:400px;background-color:#ccc}.rail div{margin-bottom:20px}.epi-sticky.stuck{position:fixed;margin-left:0;transform:translateZ(0);-webkit-transform:translateZ(0);z-index:9}.byline,.byline-divider,.pub-date{font:normal bold .6326875rem \"Renner\",sans-serif;color:#f93f23;text-transform:uppercase;letter-spacing:1px}.byline.sponsored,.byline-divider.sponsored,.pub-date.sponsored{color:#f93f23;display:inline-block;border:1px solid #f93f23;padding:.375rem .75rem}.byline.mobile,.byline-divider.mobile,.pub-date.mobile{display:none}.pub-date,.byline-divider{color:#a4a4a4}.sponsor-logo{display:block;margin-bottom:.5rem}h3.tag,.sponsor-logo{text-transform:uppercase;margin:0 0 1.375rem 0;padding:0}h3.tag a,.sponsor-logo a{color:#a1a1a1;font:normal 20.169px \"Renner\",sans-serif}.sponsor-logo{margin:0;padding:0 0 0.5rem}.fullwidth .section-header{max-width:62.75rem !important}.section-header{width:100%;max-width:1024px;min-width:320px;margin:0 auto;padding-left:10px;padding-right:10px;*zoom:1;text-align:center;overflow:hidden;max-width:62.75rem !important;margin:0 auto;padding:0}.section-header:before,.section-header:after{content:\"\";display:table}.section-header:after{clear:both}.section-header>*:first-child{margin-left:0}@media only screen and (max-width: 640px){.section-header{width:auto;min-width:0;margin-left:0;margin-right:0}}.section-header h2{display:inline-block;position:relative}.section-header h2:before{content:\"\";position:absolute;border-top:2px solid #ccc;width:25rem;height:2px;display:block;left:-25.375rem;top:54%}.section-header h2:after{content:\"\";position:absolute;border-top:2px solid #ccc;width:25rem;height:2px;display:block;right:-25.375rem;top:54%}.top5 h2{color:#333;font:bold 2.375rem/3.125rem \"Source Serif Pro\",serif;text-transform:none}@media only screen and (min-width: 641px) and (max-width: 1023px){.mobile{display:none}.nav.mobile{display:block}.content-container{padding:0 1.625rem}.rail{float:none;margin:0;padding:0;text-align:center;width:100%}.content-block{padding:0}.tablet-ads1{*zoom:1;margin:0 0 1.75rem;text-align:center}.tablet-ads1:before,.tablet-ads1:after{content:\"\";display:table}.tablet-ads1:after{clear:both}.tablet-ads1 .ad,.tablet-ads1 .weather,.tablet-ads1 .cook-it{max-width:18.75rem}.tablet-ads1 .ad{margin-left:auto;margin-right:auto}.tablet-ads2{text-align:center}.section-header{overflow:hidden}.section-header h2:before{width:104%;left:-106%}.section-header h2:after{width:104%;right:-106%}.fullwidth .section-header{margin:0 3.25%;width:93.5%}}@media only screen and (max-width: 640px){body{overflow-x:hidden}body.modal-open{overflow:hidden}.content-container{padding:0}.rail{float:none;margin:0;padding:0 .625rem}.rail div{margin-left:auto;margin-right:auto;text-align:center}.content-block{padding:0 1rem}h3.tag a{font:normal 18.369px \"Renner\",sans-serif}.section-header h2:before,.section-header h2:after{display:none}.top5 h2{font-size:1.625rem;line-height:2rem}.progression{*zoom:1}.progression:before,.progression:after{content:\"\";display:table}.progression:after{clear:both}.progression.mobile{display:inline-block}.progression li{text-indent:-9999px;float:left;margin:0 .75rem 0 0;background:url(\"/static/img/mobile-sprite.png\") 0 0 no-repeat;height:7px;width:7px}.progression li:last-child{margin-right:0}.progression li.on{background:url(\"/static/img/mobile-sprite.png\") 0 -7px no-repeat}.byline.sponsored{padding:.375rem .75rem;width:85%;text-align:center;margin-bottom:.25rem}.ad.ad-footer{display:block;position:fixed;bottom:0;margin-bottom:0;width:100%;background-color:#f1f2f2;text-align:center;padding:.375rem 0;z-index:9999}body.parallax-loaded .ad.ad-footer{position:relative}}.lightreg-overlay{background-color:rgba(0,0,0,0.8);bottom:0;top:0;left:0;position:fixed;right:0;z-index:9999999}.lightreg-dialog{background-color:#ffffff;background-clip:padding-box;font:normal .75rem \"Renner\",sans-serif;height:80%;left:0;margin-left:0;outline:none;position:fixed;top:10%;width:100%}.lightreg-dialog a{color:#333;font-size:.75rem;text-decoration:none;letter-spacing:1px}.lightreg-dialog form{padding-top:2.25rem}.lightreg-dialog fieldset{margin:0 auto;padding:0;width:18.4375rem}.lightreg-dialog fieldset legend{display:block;height:3.625rem;margin:0 auto .5rem;width:17.5rem}.lightreg-dialog input:focus,.lightreg-dialog button:focus{outline:0}.lightreg-dialog input::-webkit-input-placeholder{color:#ccc;font-weight:normal;text-transform:uppercase}.lightreg-dialog input:-moz-placeholder{color:#ccc;font-weight:normal;text-transform:uppercase}.lightreg-dialog input::-moz-placeholder{color:#ccc;font-weight:normal;text-transform:uppercase}.lightreg-dialog input:-ms-input-placeholder{color:#ccc;font-weight:normal;text-transform:uppercase}.lightreg-dialog input[type=text],.lightreg-dialog input[type=email],.lightreg-dialog input[type=password]{border:1px solid #ccc;border-radius:0;color:#ccc;display:block;font:normal 1rem/1.125rem \"Renner\",sans-serif;letter-spacing:1px;height:2.8125rem;margin:0 0 .9375rem;padding:0 0 0 .75rem;width:100%;-webkit-appearance:none}.lightreg-dialog input[type=password]{margin-bottom:.875rem}.lightreg-dialog input[type=text].error,.lightreg-dialog input[type=email].error,.lightreg-dialog input[type=password].error,.lightreg-dialog input:focus:invalid:focus,.lightreg-dialog textarea:focus:invalid:focus,.lightreg-dialog select:focus:invalid:focus{color:#f93f23;border:2px solid #f93f23}.lightreg-dialog textarea:focus,.lightreg-dialog input[type=\"text\"]:focus,.lightreg-dialog input[type=\"password\"]:focus,.lightreg-dialog input[type=\"datetime\"]:focus,.lightreg-dialog input[type=\"datetime-local\"]:focus,.lightreg-dialog input[type=\"date\"]:focus,.lightreg-dialog input[type=\"month\"]:focus,.lightreg-dialog input[type=\"time\"]:focus,.lightreg-dialog input[type=\"week\"]:focus,.lightreg-dialog input[type=\"number\"]:focus,.lightreg-dialog input[type=\"email\"]:focus,.lightreg-dialog input[type=\"url\"]:focus,.lightreg-dialog input[type=\"search\"]:focus,.lightreg-dialog input[type=\"tel\"]:focus,.lightreg-dialog input[type=\"color\"]:focus,.lightreg-dialog .uneditable-input:focus{border-color:#ccc}.lightreg-dialog .error-message{color:#f93f23;text-align:left;position:relative;top:-.75rem}.lightreg-dialog button.submit-button{font:normal 12.274px \"Renner\",sans-serif;letter-spacing:1px;background:#333;border:0;border-radius:.25rem;color:#fff;cursor:pointer;display:block;font-size:.75rem;height:2.8125rem;margin:1.875rem 0 .8125rem;padding:.375rem .75rem;touch-action:manipulation;user-select:none;width:100%}.lightreg-dialog button.submit-button:hover,.lightreg-dialog button.submit-button:focus,.lightreg-dialog button.submit-button:active,.lightreg-dialog button.submit-button.active,.lightreg-dialog button.submit-button.disabled,.lightreg-dialog button.submit-button[disabled]{background-color:#333;color:#fff}.lightreg-dialog .description{font-family:\"Renner\",sans-serif;font-size:.75rem;line-height:1rem;margin:0 0 1.25rem}.lightreg-dialog .forgot-password-link{margin:.8125rem 0 0}.lightreg-dialog .goto-counterpart{font-size:.75rem;letter-spacing:1px;text-align:center}.lightreg-dialog .fine-print{margin-top:.5625rem}.lightreg-dialog .fine-print,.lightreg-dialog .fine-print a{color:#9B9B9B;font-size:.6875rem;line-height:normal;letter-spacing:1px;padding:0;text-align:center}.lightreg-dialog .loading-message{margin:1.5rem 0 0}.lightreg-dialog p.success-message,.lightreg-dialog p.description,.lightreg-dialog p.fine-print{font-family:\"Renner\",sans-serif}.lightreg-dialog .base-registration-form .fine-print{margin-top:1.5625rem}.lightreg-dialog .base-reset-password-form .success-message,.lightreg-dialog .base-update-password-form .success-message{font-size:1rem;margin-bottom:1.875rem}@media only screen and (min-width: 1024px){.lightreg-dialog{border:1px solid rgba(0,0,0,0.3);left:50%;margin-left:-18.75rem;width:37.5rem}}.loading-message-wrapper{background-color:rgba(255,255,255,0.7);height:100%;left:0;position:absolute;top:0;width:100%;z-index:1}.loading-message-wrapper:hover{cursor:wait}body[data-overlay=\"modal\"] .loading-message-wrapper{background-color:rgba(0,0,0,0.7);position:fixed;z-index:9999}@keyframes loading-spin{100%{transform:rotate(360deg);-webkit-transform:rotate(360deg);-moz-transform:rotate(360deg);-ms-transform:rotate(360deg);-o-transform:rotate(360deg)}}@-webkit-keyframes loading-spin{100%{-webkit-transform:rotate(360deg)}}@-moz-keyframes loading-spin{100%{-moz-transform:rotate(360deg)}}@-ms-keyframes loading-spin{100%{-ms-transform:rotate(360deg)}}@-o-keyframes loading-spin{100%{-o-transform:rotate(360deg)}}.loading-message{animation:loading-spin 0.7s infinite linear;border-bottom:7px solid rgba(161,161,161,0.2);border-left:7px solid rgba(161,161,161,0.2);border-radius:100%;border-right:7px solid rgba(161,161,161,0.2);border-top:7px solid #f93f23;direction:ltr;display:block;height:3rem;left:50%;margin:-1.5rem 0 0 -1.5rem;overflow:hidden;position:absolute;text-indent:-9999px;top:50%;width:3rem;-webkit-animation:loading-spin 0.7s infinite linear;-moz-animation:loading-spin 0.7s infinite linear;-ms-animation:loading-spin 0.7s infinite linear;-o-animation:loading-spin 0.7s infinite linear}.loading-message:hover{cursor:wait}.site-header-wrap{display:block;height:3.75rem}header[role=\"banner\"]{font:bold .8125rem/normal \"Renner\",sans-serif;background-color:#fff;box-shadow:0 1px 3px 0 rgba(0,0,0,0.1);font-size:1rem;height:3.75rem;left:0;top:0;transition:top .5s;width:100%;z-index:20}header[role=\"banner\"] ::selection{background-color:transparent}header[role=\"banner\"] a{color:inherit}header[role=\"banner\"] fieldset,header[role=\"banner\"] form,header[role=\"banner\"] legend{margin:0;padding:0}header[role=\"banner\"] .nav-title,header[role=\"banner\"] .section-title{display:none}header[role=\"banner\"] .show-main-navigation{height:1.125rem;left:1.125rem;position:absolute;top:1.375rem;width:1.5625rem}header[role=\"banner\"] .epicurious-logo{height:1.8125rem;left:3.75rem;position:absolute;top:1rem;width:8.625rem}header[role=\"banner\"] .epicurious-logo a{display:block}header[role=\"banner\"] .show-search-button{height:1.625rem;outline:none;position:absolute;right:1.125rem;top:1.0625rem;width:1.625rem}body[data-bannerad-type=\"leaderboard\"][data-bannerad-flow=\"fixed\"][data-siteheader-flow=\"fixed\"][data-bannerad-display=\"hidden\"] header[role=\"banner\"]{top:0}body[data-bannerad-type=\"leaderboard\"][data-bannerad-flow=\"fixed\"][data-siteheader-flow=\"fixed\"][data-bannerad-display=\"visible\"] header[role=\"banner\"]{top:7.125rem}body[data-overlay=\"modal\"] header[role=\"banner\"],body.ReactModal__Body--open header[role=\"banner\"]{left:-8px}body[data-siteheader-flow=\"fixed\"] header[role=\"banner\"]{position:fixed}body[data-siteheader-flow=\"scroll\"] header[role=\"banner\"]{position:relative}@media only screen and (min-width: 768px){header[role=\"banner\"] .show-main-navigation{left:1.5rem}header[role=\"banner\"] .epicurious-logo{left:50%;transform:translateX(-50%)}header[role=\"banner\"] .epicurious-logo:hover{height:1.9375rem;top:.9375rem;width:8.75rem}header[role=\"banner\"] .show-search-button{right:1.25rem;top:1rem}}@media only screen and (min-width: 1024px){header[role=\"banner\"] .show-main-navigation{left:1.3125rem}header[role=\"banner\"] .show-search-button{background-position:100% 50%;background-size:1.3125rem;color:#a1a1a1;font-size:.8125rem;height:0;line-height:0;letter-spacing:1px;padding:.6875rem 1.625rem .625rem 0;right:1.4375rem;text-indent:0;top:1.3125rem;width:auto}header[role=\"banner\"] .show-search-button:hover{background-position:100% 50%;color:#333;text-decoration:none}}input:-webkit-autofill,select:-webkit-autofill,textarea:-webkit-autofill{background-color:inherit;background-image:inherit;color:inherit}.global-search-modal-dialog-wrapper{background:rgba(255,255,255,0.9)}.global-search-modal-dialog{background-color:transparent;border:none;height:100%;margin-left:-50%;top:0;width:100%}.global-search-modal-dialog .search-dialog-form{background-color:transparent;margin:0 .9375rem;padding:0;width:calc(100% - 30px)}.search-dialog-form{border-bottom:1px solid #ccc;position:relative}.search-dialog-form fieldset{padding:0}.search-dialog-form input[type=\"text\"]{font:bold 1rem/1 \"Renner\",sans-serif;background-color:transparent;border:0;margin:2.25rem 0 .8125rem 1.3125rem;padding:0;width:calc(100% - 20px)}.search-dialog-form input[type=\"text\"]:focus{color:#333}.search-dialog-form input[type=\"text\"]::placeholder{color:#ccc}.search-dialog-form input[type=\"text\"].error{color:#f30}.search-dialog-form [type=\"submit\"]{height:1rem;left:0;position:absolute;top:2.25rem;width:1rem}.search-dialog-form [type=\"submit\"]:hover{cursor:pointer}.search-dialog-form [type=\"reset\"]{background-size:.9375rem .9375rem;height:1.4375rem;position:absolute;right:0;top:.9375rem;width:1.4375rem}.search-dialog-form [type=\"reset\"]:hover{background-size:.9375rem .9375rem}@media only screen and (min-width: 768px){.global-search-modal-dialog .search-dialog-form{margin:0 auto;width:40rem}.search-dialog-form input[type=\"text\"]{font-size:2.6875rem;margin:11.5rem 0 2.125rem 2.875rem;width:calc(100% - 46px)}.search-dialog-form [type=\"submit\"]{height:2rem;left:0;top:12.125rem;width:2rem}.search-dialog-form [type=\"reset\"]{height:1.625rem;top:5.875rem;width:1.625rem}}@media only screen and (min-width: 1024px){.global-search-modal-dialog .search-dialog-form{width:51.875rem}.search-dialog-form [type=\"reset\"]{height:2rem;top:5.875rem;width:2rem}}.site-pushdown-ad-wrap{display:none}body[data-bannerad-type=\"crown\"] .site-header-ad-wrap{display:none}body[data-bannerad-type=\"crown\"] .site-header-ad-wrap.loaded{display:block}body[data-bannerad-type=\"mobile-banner\"],body[data-bannerad-type=\"mobile-leaderboard\"]{padding-bottom:4.625rem}body[data-bannerad-type=\"mobile-banner\"] .site-header-ad-wrap>div,body[data-bannerad-type=\"mobile-banner\"].homepage .site-pushdown-ad-wrap>div,body[data-bannerad-type=\"mobile-leaderboard\"] .site-header-ad-wrap>div,body[data-bannerad-type=\"mobile-leaderboard\"].homepage .site-pushdown-ad-wrap>div{background-color:#f1f2f2;bottom:0;height:3.875rem;overflow:hidden;position:fixed;padding:.375rem 0;text-align:center;width:100%;z-index:20}body[data-bannerad-type=\"leaderboard\"] .site-header-ad-wrap,body[data-bannerad-type=\"leaderboard\"].homepage .site-pushdown-ad-wrap{padding:0}body[data-bannerad-type=\"leaderboard\"] .site-header-ad-wrap>div,body[data-bannerad-type=\"leaderboard\"].homepage .site-pushdown-ad-wrap>div{height:7.125rem;overflow:hidden;padding:.75rem 0;transition:top .5s;width:100%;z-index:20}body[data-bannerad-type=\"leaderboard\"][data-bannerad-flow=\"fixed\"] .site-header-ad-wrap,body[data-bannerad-type=\"leaderboard\"][data-bannerad-flow=\"fixed\"].homepage .site-pushdown-ad-wrap{height:7.125rem}body[data-bannerad-type=\"leaderboard\"][data-bannerad-flow=\"fixed\"] .site-header-ad-wrap>div,body[data-bannerad-type=\"leaderboard\"][data-bannerad-flow=\"fixed\"].homepage .site-pushdown-ad-wrap>div{background-color:#f1f2f2;position:fixed}body[data-bannerad-type=\"leaderboard\"][data-bannerad-display=\"hidden\"] .site-header-ad-wrap>div,body[data-bannerad-type=\"leaderboard\"][data-bannerad-display=\"hidden\"].homepage .site-pushdown-ad-wrap>div{top:-7.125rem}body[data-bannerad-type=\"leaderboard\"][data-bannerad-display=\"visible\"] .site-header-ad-wrap>div,body[data-bannerad-type=\"leaderboard\"][data-bannerad-display=\"visible\"].homepage .site-pushdown-ad-wrap>div{top:0}@media only screen and (min-width: 768px){.site-header-ad-wrap{background-color:#f1f2f2;text-align:center;width:100%}.site-header-ad-wrap>div{display:block;left:0;margin:0 auto;top:0}body[data-bannerad-type=\"pushdown\"] .site-pushdown-ad-wrap{margin-top:1.875rem;margin-bottom:1.875rem}body[data-bannerad-type=\"other\"][data-bannerad-display=\"visible\"] .site-header-ad-wrap{margin-top:4.8125rem}body[data-bannerad-type=\"other\"][data-bannerad-display=\"visible\"] [id^='adUnitContainer']{margin-top:4.8125rem !important}}@media screen, print{.printable .site-header-ad-wrap{display:none}}.main-navigation{font-family:\"Renner\",sans-serif;font-style:normal;font-weight:bold;color:#333;font-size:.875rem;line-height:1em;background-color:#333;color:#fff;height:100%;left:-16.6875rem;letter-spacing:0.1px;line-height:3.125rem;padding-top:1.625rem;position:fixed;top:0;text-align:center;transition:transform 0.3s linear;width:16.6875rem;z-index:22}.main-navigation .logout-user-action{border:1px solid #f93f23;color:#f93f23;padding:.5rem 2rem}.main-navigation[aria-expanded=\"true\"]{-webkit-transform:translateX(16.6875rem);-moz-transform:translateX(16.6875rem);-ms-transform:translateX(16.6875rem);-o-transform:translateX(16.6875rem);transform:translateX(16.6875rem);overflow-y:auto}.dismiss-main-navigation{height:1.0625rem;left:1.625rem;position:absolute;top:1.375rem;width:1.0625rem}@media only screen and (min-width: 768px){.main-navigation{left:-20.125rem;padding-top:2.8125rem;width:20.125rem}.main-navigation[aria-expanded=\"true\"]{-webkit-transform:translateX(20.125rem);-moz-transform:translateX(20.125rem);-ms-transform:translateX(20.125rem);-o-transform:translateX(20.125rem);transform:translateX(20.125rem)}}@media screen, print{.printable .main-navigation{display:none}}.content-channel-links{text-transform:uppercase}[class$=\"-content-channel-link\"]{color:#fff;display:block;margin:1.875rem 0}[class$=\"-content-channel-link\"] a{display:block;letter-spacing:1px}[class$=\"-content-channel-link\"] a:hover{color:#f93f23;text-decoration:none}.homepage-content-channel-link{background-color:transparent;background-repeat:no-repeat;background-position:50% 50%;background-size:cover;border:none;direction:ltr;display:inline-block;height:3.4375rem;overflow:hidden;padding:0;text-indent:-9999px;width:3.4375rem;border:1px solid #f93f23;border-radius:100%;display:block;margin:0 auto 2.1875rem}.homepage-content-channel-link>a{display:block;height:100%;width:100%}.curated-content-channel-link{color:#83b838}body.recipes-menus .recipes-menus-content-channel-link,body.expert-advice .expert-advice-content-channel-link,body.ingredients .ingredients-content-channel-link,body.holidays-events .holidays-events-content-channel-link,body.community .community-content-channel-link,body.video .video-content-channel-link{color:#f93f23}@media only screen and (min-width: 768px){.homepage-content-channel-link{height:5.625rem;width:5.625rem}}.main-navigation .social-channel-links .section-title{display:block;font-size:.8125rem;letter-spacing:1px;padding:1.25rem 0 .5rem}.main-navigation .facebook-social-channel-link{width:.8125rem}.main-navigation .twitter-social-channel-link{width:1.875rem}.main-navigation .instagram-social-channel-link{width:1.5625rem}.main-navigation [class$=\"-social-channel-link\"]{height:1.5625rem;margin:0 .75rem}.branding .social-channel-links{display:none}@media only screen and (min-width: 1024px){.branding .social-channel-links{display:block;position:absolute;right:7.5rem;top:1rem}.branding .social-channel-links .section-title{color:#a1a1a1;display:inline-block;font-size:.8125rem;letter-spacing:1px;height:1em;line-height:1;overflow:hidden;padding:0;vertical-align:middle;width:50px}.branding .social-channel-links ul{display:inline-block;line-height:0;vertical-align:middle}.branding [class$=\"-social-channel-link\"]{height:1.5625rem;margin:0 .375rem;width:1.5625rem}}header[role=\"banner\"] .user-actions{background-color:inherit;font-size:12px;height:auto;padding:0}header[role=\"banner\"] .user-actions [class$=\"-user-action\"]{color:#333}header[role=\"banner\"] .user-actions[data-user-type=\"anonymous\"] [class$=\"-user-action\"]{display:none;position:absolute}header[role=\"banner\"] .user-actions[data-user-type=\"authenticated\"]{left:6.25rem;line-height:1em;position:absolute;top:2.1875rem;white-space:nowrap}header[role=\"banner\"] .user-actions[data-user-type=\"authenticated\"] .user-action-list{border-bottom:1px solid #e5e5e5;display:none;padding-top:16px}header[role=\"banner\"] .user-actions[data-user-type=\"authenticated\"] .user-action-list [class$=\"-user-action\"]{background-color:#fff;border:1px solid #e5e5e5;border-bottom:none;transition:background-color .5s}header[role=\"banner\"] .user-actions[data-user-type=\"authenticated\"] .user-action-list [class$=\"-user-action\"]:hover{background-color:#f93f23;color:#fff}header[role=\"banner\"] .user-actions[data-user-type=\"authenticated\"] .user-action-list [class$=\"-user-action\"] a{display:block;padding:15px}header[role=\"banner\"] .user-actions[data-user-type=\"authenticated\"][data-show-user-actions=\"true\"] .user-action-list{display:block}.user-status{display:block;position:absolute;right:3.8125rem}.user-status .loading-message-wrapper{height:2rem;left:10px;opacity:.25;top:6px;width:2rem}.user-status .loading-message-wrapper .loading-message{height:2rem;width:2rem}.user-status .recipebox-status{display:block;outline:none}.user-status[data-user-type=\"anonymous\"]{top:1.25rem}.user-status[data-user-type=\"anonymous\"] .recipebox-status{height:1.3125rem;width:1.3125rem}.user-status[data-user-type=\"anonymous\"] .login-register-actions{color:#a1a1a1;display:none;font-size:.8125rem;letter-spacing:1px;line-height:1;vertical-align:top}.user-status[data-user-type=\"anonymous\"] .login-register-actions a:hover{color:#333;text-decoration:none}.user-status[data-user-type=\"anonymous\"] .login-register-actions [title=\"Log-in\"]:after{color:#a1a1a1;content:\"/\"}.user-status[data-user-type=\"authenticated\"]{outline:none;top:.9375rem}.user-status[data-user-type=\"authenticated\"] .recipebox-status{height:1.75rem;width:1.75rem}.user-status[data-user-type=\"authenticated\"] .recipebox-size{font-family:\"Renner\",sans-serif;font-style:normal;font-weight:bold;color:#f93f23;font-size:.625rem;line-height:.625rem;background-color:#fff;border:solid 1px #a1a1a1;border-radius:100%;bottom:.5rem;display:block;height:1.25rem;overflow:hidden;padding:.25rem 0;position:absolute;right:-.625rem;text-align:center;width:1.25rem}.user-status[data-user-type=\"authenticated\"] .user-greeting{color:#f93f23;display:none}.user-status[data-user-type=\"authenticated\"]:hover .recipebox-size,.user-status[data-user-type=\"authenticated\"]:hover .user-greeting{text-decoration:underline}.main-navigation .user-status[data-user-type=\"anonymous\"]{margin-top:1.125rem;position:static}.main-navigation .user-status[data-user-type=\"anonymous\"] .recipebox-status{display:none}.main-navigation .user-status[data-user-type=\"anonymous\"] .login-register-actions{border:solid 1px #979797;color:#979797;display:inline-block;margin:0 auto;padding:.5rem 2rem}.main-navigation .user-status[data-user-type=\"anonymous\"] .login-register-actions a:hover{color:#f93f23}.main-navigation .user-status[data-user-type=\"authenticated\"]{display:none}@media only screen and (min-width: 768px){.user-status[data-user-type=\"anonymous\"]{top:1.0625rem}.user-status[data-user-type=\"anonymous\"] .recipebox-status{height:1.5rem;width:1.5rem}.user-status[data-user-type=\"authenticated\"]{right:4.3125rem}}@media only screen and (min-width: 1024px){.user-status{left:4.1875rem;right:initial;z-index:21}.user-status[data-user-type=\"anonymous\"]{top:1.3125rem}.user-status[data-user-type=\"anonymous\"] .recipebox-status{height:1.3125rem;width:1.3125rem}.user-status[data-user-type=\"anonymous\"] .login-register-actions{display:inline-block;margin:4px 0 0 12px}.user-status[data-user-type=\"authenticated\"]{right:initial}.user-status[data-user-type=\"authenticated\"] .user-greeting{display:inline-block;font-size:.8125rem;font-weight:normal;left:2.8125rem;letter-spacing:0.1px;position:absolute;top:.375rem;white-space:nowrap}}@media screen, print{.printable header[role=\"banner\"]{width:auto}.printable header[role=\"banner\"] .show-main-nvaigation,.printable header[role=\"banner\"] .user-status,.printable header[role=\"banner\"] .search-dialog{display:none}}[class$=\"-comment-form\"]{left:50%;margin-left:-45%;padding:25px 0 0;position:absolute;top:0}[class$=\"-comment-form\"] .title{font-family:\"Renner\",sans-serif;font-style:normal;font-weight:normal;color:#333;font-size:1.875rem;line-height:1.875rem;padding:0 16px}[class$=\"-comment-form\"] .description,[class$=\"-comment-form\"] .warning{font-family:\"Renner\",sans-serif;font-style:normal;font-weight:normal;color:#333;font-size:.875rem;line-height:1.25rem;margin:12px 0;padding:0 16px}[class$=\"-comment-form\"] .warning{color:#f93f23}[class$=\"-comment-form\"] .actions,[class$=\"-comment-form\"] .fields{border:none;margin:0;padding:0 16px}[class$=\"-comment-form\"] .comment,[class$=\"-comment-form\"] .email,[class$=\"-comment-form\"] .name{font-family:\"Renner\",sans-serif;font-style:normal;font-weight:normal;color:#333;font-size:.875rem;line-height:.875rem;display:block;width:100%;border:1px solid #ccc;margin:.5rem 0;padding:.5rem}[class$=\"-comment-form\"] .comment.error,[class$=\"-comment-form\"] .comment:invalid,[class$=\"-comment-form\"] .email.error,[class$=\"-comment-form\"] .email:invalid,[class$=\"-comment-form\"] .name.error,[class$=\"-comment-form\"] .name:invalid{border-color:#f93f23}[class$=\"-comment-form\"] .comment:focus,[class$=\"-comment-form\"] .email:focus,[class$=\"-comment-form\"] .name:focus{border-color:#999;outline:none}[class$=\"-comment-form\"] .comment{overflow-y:auto;resize:none}[class$=\"-comment-form\"] .close-button{background-color:transparent;background-repeat:no-repeat;background-position:50% 50%;background-size:.9375rem,.9375rem;border:none;direction:ltr;display:inline-block;height:.9375rem;overflow:hidden;padding:0;text-indent:-9999px;width:.9375rem;position:absolute;right:13px;top:11px}[class$=\"-comment-form\"] .close-button>a{display:block;height:100%;width:100%}[class$=\"-comment-form\"] .submit-button{font-family:\"Renner\",sans-serif;font-style:normal;font-weight:bold;color:#fff;font-size:.875rem;line-height:0rem;background-color:#333;display:block;margin:36px auto;padding:23px 0 22px;width:100%}@media only screen and (min-width: 768px){[class$=\"-comment-form\"]{margin-left:-189px;padding:30px 0 0;width:378px}[class$=\"-comment-form\"] .title,[class$=\"-comment-form\"] .description,[class$=\"-comment-form\"] .warning{padding:0 30px}[class$=\"-comment-form\"] .fields,[class$=\"-comment-form\"] .actions{padding:0 30px}[class$=\"-comment-form\"] .name,[class$=\"-comment-form\"] .email,[class$=\"-comment-form\"] .comment{margin:8px 0}[class$=\"-comment-form\"] .close-button{right:15px;top:15px}[class$=\"-comment-form\"] .submit-button{width:158px}}footer[role=\"contentinfo\"]{-webkit-transition:-webkit-transform .3s linear;-moz-transition:-moz-transform .3s linear;-o-transition:-o-transform .3s linear;transition:transform .3s linear;background-color:#f93f23}footer[role=\"contentinfo\"] ::selection{background-color:transparent}footer[role=\"contentinfo\"] ul,footer[role=\"contentinfo\"] li{display:inline;margin:0;padding:0}footer[role=\"contentinfo\"] .epicurious-links,footer[role=\"contentinfo\"] .corporate-info{display:block;margin:0 auto;padding:52px 16px;width:100%}footer[role=\"contentinfo\"] .epicurious-links [class$=\"-link\"]{font:bold .75rem/1.0625rem \"Renner\",sans-serif;color:#fff;letter-spacing:1px;padding:5px 0}footer[role=\"contentinfo\"] .epicurious-links>.section-title{display:none}footer[role=\"contentinfo\"] .epicurious-links .epi-social-links .nav-title{background-position:0 0;height:1.875rem;margin-bottom:1.25rem;vertical-align:top;width:100%}footer[role=\"contentinfo\"] .epicurious-links .epi-social-links .nav-title:hover{cursor:pointer}footer[role=\"contentinfo\"] .epicurious-links .epi-social-links .links-list [class$=\"-link\"]{display:inline-block;height:1.75rem;margin-right:.5rem;width:1.75rem}footer[role=\"contentinfo\"] .epicurious-links .channel-links,footer[role=\"contentinfo\"] .epicurious-links .helpful-links,footer[role=\"contentinfo\"] .epicurious-links .fig-links{display:none}footer[role=\"contentinfo\"] .epicurious-links .channel-links .nav-title,footer[role=\"contentinfo\"] .epicurious-links .channel-links .nav-title a,footer[role=\"contentinfo\"] .epicurious-links .helpful-links .nav-title,footer[role=\"contentinfo\"] .epicurious-links .helpful-links .nav-title a,footer[role=\"contentinfo\"] .epicurious-links .fig-links .nav-title,footer[role=\"contentinfo\"] .epicurious-links .fig-links .nav-title a{font:bold .875rem/1.125rem \"Renner\",sans-serif;color:#fff;margin-bottom:18px;text-transform:uppercase;letter-spacing:1px}footer[role=\"contentinfo\"] .corporate-info-wrap{background-color:#292929;padding-bottom:62px}footer[role=\"contentinfo\"] .corporate-info{font:normal .8125rem/.8125rem \"Renner\",sans-serif;color:#868686}footer[role=\"contentinfo\"] .corporate-info a:link,footer[role=\"contentinfo\"] .corporate-info a:visited{color:#868686}footer[role=\"contentinfo\"] .corporate-info>.section-title{display:block;height:23px;margin:0 0 17px;width:160px}footer[role=\"contentinfo\"] .corporate-info .conde-nast-brands{display:inline-block;position:relative}footer[role=\"contentinfo\"] .corporate-info .conde-nast-brands .nav-title{font:normal .75rem/0 \"Renner\",sans-serif;color:#868686;letter-spacing:1px;border:1px solid #5f5d5c;display:inline-block;height:0;padding:19px 13px 19px 0;text-align:center;vertical-align:middle;width:183px}footer[role=\"contentinfo\"] .corporate-info .conde-nast-brands .nav-title:after{height:8px;margin-left:5px;margin-top:-5px;position:absolute;top:50%;transform:rotate(90deg)}footer[role=\"contentinfo\"] .corporate-info .conde-nast-brands .nav-title:hover{cursor:pointer}footer[role=\"contentinfo\"] .corporate-info .conde-nast-brands .conde-nast-brands-list{background-color:#292929;border:1px solid #5f5d5c;bottom:41px;display:none;line-height:21px;padding:10px 0;position:absolute;width:183px}footer[role=\"contentinfo\"] .corporate-info .conde-nast-brands .conde-nast-brands-list .conde-nast-brand{display:block;margin:0 0 0 16px}footer[role=\"contentinfo\"] .corporate-info .conde-nast-brands[aria-hidden=\"false\"] .nav-title:after{margin-top:-1px;transform:rotate(-90deg)}footer[role=\"contentinfo\"] .corporate-info .conde-nast-brands[aria-hidden=\"false\"] .conde-nast-brands-list{display:block}footer[role=\"contentinfo\"] .corporate-info .conde-nast-services,footer[role=\"contentinfo\"] .corporate-info .legal-notice{margin-top:27px}footer[role=\"contentinfo\"] .corporate-info .conde-nast-services{display:none}footer[role=\"contentinfo\"] .corporate-info .conde-nast-services .conde-nast-service{font:bold .625rem/1.125rem \"Renner\",sans-serif;color:#868686;letter-spacing:1px}footer[role=\"contentinfo\"] .corporate-info .legal-notice .title{display:none}footer[role=\"contentinfo\"] .corporate-info .legal-notice p{font:normal .75rem/1rem \"Renner\",sans-serif;color:#868686;letter-spacing:1px;display:inline;margin-right:.375rem}@media only screen and (min-width: 768px){footer[role=\"contentinfo\"] .epicurious-links,footer[role=\"contentinfo\"] .corporate-info{padding:52px 0;width:44.75rem}footer[role=\"contentinfo\"] .epicurious-links .epi-social-links{border-bottom:1px solid #fff;margin-bottom:1.25rem;padding-bottom:1.25rem}footer[role=\"contentinfo\"] .epicurious-links .epi-social-links .nav-title{margin:0;width:50%}footer[role=\"contentinfo\"] .epicurious-links .epi-social-links .links-list{display:inline-block;text-align:right;width:50%}footer[role=\"contentinfo\"] .epicurious-links .epi-social-links .links-list [class$=\"-link\"]{height:1.75rem;margin-left:.5rem;margin-right:0;width:1.75rem}footer[role=\"contentinfo\"] .epicurious-links .channel-links,footer[role=\"contentinfo\"] .epicurious-links .helpful-links,footer[role=\"contentinfo\"] .epicurious-links .fig-links{display:inline-block;width:34%;vertical-align:top}footer[role=\"contentinfo\"] .epicurious-links .channel-links [class$=\"-link\"],footer[role=\"contentinfo\"] .epicurious-links .helpful-links [class$=\"-link\"],footer[role=\"contentinfo\"] .epicurious-links .fig-links [class$=\"-link\"]{display:block}footer[role=\"contentinfo\"] .epicurious-links .fig-links{float:right;width:auto}footer[role=\"contentinfo\"] .corporate-info-wrap{padding-bottom:0}footer[role=\"contentinfo\"] .corporate-info>.section-title{display:inline-block;margin:0 17px 0 0;position:relative;top:5px}footer[role=\"contentinfo\"] .corporate-info .conde-nast-services{display:block}footer[role=\"contentinfo\"] .corporate-info .conde-nast-services .nav-title{display:none}footer[role=\"contentinfo\"] .corporate-info .conde-nast-services .conde-nast-service{display:inline-block;margin:0 16px 0 0;text-transform:uppercase}}@media only screen and (min-width: 1024px){footer[role=\"contentinfo\"] .epicurious-links,footer[role=\"contentinfo\"] .corporate-info{width:62.75rem}footer[role=\"contentinfo\"] .epicurious-links .epi-social-links{border-bottom:none;display:inline-block;width:40%}footer[role=\"contentinfo\"] .epicurious-links .epi-social-links .nav-title{margin-bottom:1.25rem;width:50%}footer[role=\"contentinfo\"] .epicurious-links .epi-social-links .links-list{display:block;text-align:left;width:100%}footer[role=\"contentinfo\"] .epicurious-links .epi-social-links .links-list [class$=\"-link\"]{font-size:11px;height:1.75rem;margin-left:0;margin-right:.5rem}footer[role=\"contentinfo\"] .epicurious-links .channel-links,footer[role=\"contentinfo\"] .epicurious-links .helpful-links{width:19%}footer[role=\"contentinfo\"] .epicurious-links .fig-links{width:auto}footer[role=\"contentinfo\"] .epicurious-links .helpful-links{margin-left:0}footer[role=\"contentinfo\"] .corporate-info .conde-nast-services{float:right;margin-top:13px}footer[role=\"contentinfo\"] .corporate-info .conde-nast-services .conde-nast-service{margin:0 0 0 16px}}@media screen, print{.printable footer[role=\"contentinfo\"]{display:none}}\n",
      "  </style>\n",
      "  <link href=\"/static/css/search__3.23.0.css\" rel=\"stylesheet\"/>\n",
      "  <script type=\"text/javascript\">\n",
      "   var digitalData = {\n",
      "          \"display\" : \"Search Results\",\"pageType\" : \"search\",\"section\" : \"search\",\"canonical\" : \"https://www.epicurious.com/search/tofu%20chill\",\"pageValue\" : \"all\",\n",
      "        };\n",
      "  </script>\n",
      "  <script defer=\"\" src=\"https://assets.adobedtm.com/6372cf21ef88ee60bc2977a4898dcb5c7945a212/satelliteLib-b8937e0c536ed51fe92efb5ca25fc6f76fdeef0e.js\">\n",
      "  </script>\n",
      "  <!-- Google Tag Manager -->\n",
      "  <script type=\"text/javascript\">\n",
      "   (function(w,d,s,l,i){w[l]=w[l]||[];w[l].push({'gtm.start':\n",
      "      new Date().getTime(),event:'gtm.js'});var f=d.getElementsByTagName(s)[0],\n",
      "      j=d.createElement(s),dl=l!='dataLayer'?'&l='+l:'';j.async=true;j.src=\n",
      "      'https://www.googletagmanager.com/gtm.js?id='+i+dl;f.parentNode.insertBefore(j,f);\n",
      "      })(window,document,'script','dataLayer','GTM-PCTXLQR');\n",
      "  </script>\n",
      "  <script async=\"\" id=\"gpt-script\" src=\"https://www.googletagservices.com/tag/js/gpt.js\">\n",
      "  </script>\n",
      "  <script>\n",
      "   window.googletag=window.googletag||{};window.googletag.cmd=window.googletag.cmd||[];window.cns=window.cns||{};window.cns.queue=[];window.cns.async=function(s,c){cns.queue.push({service:s,callback:c})};window.sparrowQueue=window.sparrowQueue||[];\n",
      "  </script>\n",
      "  <link href=\"https://securepubads.g.doubleclick.net\" rel=\"preconnect\"/>\n",
      "  <link href=\"//aax.amazon-adsystem.com\" rel=\"dns-prefetch\"/>\n",
      "  <link crossorigin=\"\" href=\"//aax.amazon-adsystem.com\" rel=\"preconnect\"/>\n",
      "  <script id=\"cns-head-include\">\n",
      "   !function(){\"use strict\";var n,t=(function(n,t){var r=function(){var n=0;function t(n){var t=[],r=0,i=0;this.push=function(s){r-i>=n&&++i>=n&&(i=0,r=n-1),t[r%n]=s,r++},this.asArray=function(){var s=t.slice(i,Math.min(r,n)),u=t.slice(0,Math.max(r-n,0));return s.concat(u)},this.list=t}function r(t,r){for(var i=r,s=0;s<t.length;s++){var u=t[s],a=i.r;a[u]||(a[u]={w:u,r:{},i:n++}),i=a[u]}return i}function i(n,t,r){var i;return r[n]?i=r[n]:(i=function(n,t){for(var r=[[t,0]],i={},s=[];r.length;){var u=r.shift(),a=u[0],e=u[1],o=a.r,f=n[e];if(void 0===f&&a.fn&&!i[a.i]?(i[a.i]=1,s.push(a.fn)):o[f]&&r.push([o[f],e+1]),o[\"#\"])for(var h=e;h<=n.length;h++)r.push([o[\"#\"],h]);f&&o[\"*\"]&&r.push([o[\"*\"],e+1])}return s}(n.split(\".\"),t),r[n]=i),i}var s=function(){var s={w:\"\",r:{},i:n++},u={},a=new t(9999);function e(n,t){var i=r(n.split(\".\"),s),a=i.fn||[];return a.push(t),i.fn=a,u={},function(){var n=a.indexOf(t);n>-1&&a.splice(n,1)}}function o(n,t){var r=Date.now();a.push([n,r]);for(var e=i(n,s,u),o={topic:n},f=0;f<e.length;f++)for(var h=e[f],c=0;c<h.length;c++)h[c](t,o)}this.emit=o,this.on=e,this.history=function(t){var s={w:\"\",r:{},i:n++};r(t.split(\".\"),s).fn=1;for(var u=[],e={},o=a.asArray(),f=0;f<o.length;f++){var h=o[f];i(h[0],s,e).length&&u.push(h)}return u},this.publish=o,this.subscribe=e};return s.Ring=t,s}();n.exports=r}(n={exports:{}}),n.exports);window.cnBus=window.cnBus||new t,window.cns=window.cns||{};var r=window.cns;r.fastAdsHead=\"6.28.2\",r.timing=r.timing||{},r.timing.headerStart=Date.now(),r.queue=r.queue||[],r.flags={}}();\n",
      "  </script>\n",
      "  <script async=\"\" src=\"https://c.amazon-adsystem.com/aax2/apstag.js\">\n",
      "  </script>\n",
      "  <script async=\"\" src=\"https://js-sec.indexww.com/ht/htw-condenast.js\">\n",
      "  </script>\n",
      "  <script type=\"text/javascript\">\n",
      "   window.__CORE_DATALAYER__ = {\"content\":{\"contentLength\":12,\"display\":\"Search Results\",\"pageAssets\":\"5a0330ea57e96a30a35d163c|57180141136b9a220ecd7dce|562a62dab3d63be14330b17c|54a422f56529d92b2c0096e8|54a422d96529d92b2c009609|54a4216a19925f464b3785c7|54a427be6529d92b2c00cd4c|54a42a5219925f464b37ea8a|54a4276219925f464b37c5f1|54a42e8319925f464b381eab|54a4332f6529d92b2c016045|54a4729919925f464b399731\",\"pageType\":\"search\",\"pageValue\":\"all\",\"section\":\"search\"},\"page\":{\"canonical\":\"https://www.epicurious.com/search/tofu%20chill\",\"canonicalPathName\":\"/search/tofu%20chill\",\"pageURL\":\"https://www.epicurious.com/search/tofu%20chill?page=1\"},\"search\":{\"searchTerms\":\"tofu chill\"}};\n",
      "  </script>\n",
      " </head>\n",
      " <body class=\"search-page\">\n",
      "  <!-- NoScript - Google Tag Manager -->\n",
      "  <noscript>\n",
      "   <iframe height=\"0\" src=\"https://www.googletagmanager.com/ns.html?id=GTM-PCTXLQR\" style=\"display:none;visibility:hidden\" width=\"0\">\n",
      "   </iframe>\n",
      "  </noscript>\n",
      "  <!--[if lte IE 9]>\n",
      "      <p class=\"browsehappy\">You are using an <strong>outdated</strong> browser. Please <a target=\"_new\" href=\"https://browsehappy.com/\">upgrade your browser</a> to improve your experience.</p>\n",
      "    <![endif]-->\n",
      "  <span class=\"page-wrap\" id=\"react-app\">\n",
      "   <span class=\"page\" data-react-checksum=\"772623644\" data-reactid=\"1\" data-reactroot=\"\">\n",
      "    <div class=\"header-wrapper\" data-reactid=\"2\">\n",
      "     <div class=\"header\" data-reactid=\"3\" role=\"banner\">\n",
      "      <h2 data-reactid=\"4\" itemtype=\"https://schema.org/Organization\">\n",
      "       <a data-reactid=\"5\" href=\"/\" itemprop=\"url\" title=\"Epicurious\">\n",
      "        Epicurious\n",
      "       </a>\n",
      "      </h2>\n",
      "      <div class=\"search-form-container\" data-reactid=\"6\">\n",
      "       <form action=\"/search/\" autocomplete=\"off\" data-reactid=\"7\" method=\"get\" role=\"search\">\n",
      "        <fieldset data-reactid=\"8\">\n",
      "         <button class=\"submit\" data-reactid=\"9\" type=\"submit\">\n",
      "          search\n",
      "         </button>\n",
      "         <input autocomplete=\"off\" data-reactid=\"10\" maxlength=\"120\" name=\"terms\" placeholder=\"Find a Recipe\" type=\"text\" value=\"tofu chill\"/>\n",
      "         <button class=\"filter mobile\" data-reactid=\"11\">\n",
      "          filters\n",
      "         </button>\n",
      "         <button class=\"filter tablet\" data-reactid=\"12\">\n",
      "          filter results\n",
      "         </button>\n",
      "        </fieldset>\n",
      "       </form>\n",
      "       <div class=\"ingredient-filters\" data-reactid=\"13\">\n",
      "        <h3 data-reactid=\"14\">\n",
      "         Include/Exclude Ingredients\n",
      "        </h3>\n",
      "        <form class=\"include-ingredients\" data-reactid=\"15\">\n",
      "         <fieldset data-reactid=\"16\">\n",
      "          <input aria-label=\"Include ingredients\" data-reactid=\"17\" placeholder=\"Include ingredients:\" type=\"text\"/>\n",
      "          <button data-reactid=\"18\">\n",
      "           include\n",
      "          </button>\n",
      "         </fieldset>\n",
      "        </form>\n",
      "        <form class=\"exclude-ingredients\" data-reactid=\"19\">\n",
      "         <fieldset data-reactid=\"20\">\n",
      "          <input aria-label=\"Exclude ingredients\" data-reactid=\"21\" placeholder=\"Exclude ingredients:\" type=\"text\"/>\n",
      "          <button data-reactid=\"22\">\n",
      "           exclude\n",
      "          </button>\n",
      "         </fieldset>\n",
      "        </form>\n",
      "       </div>\n",
      "       <button class=\"filter ingredient-filter\" data-reactid=\"23\">\n",
      "        include/exclude ingredients\n",
      "       </button>\n",
      "       <div class=\"search-tags\" data-reactid=\"24\">\n",
      "        <button class=\"clear-all\" data-reactid=\"25\">\n",
      "         Clear all\n",
      "        </button>\n",
      "       </div>\n",
      "      </div>\n",
      "     </div>\n",
      "     <div class=\"filters\" data-reactid=\"26\">\n",
      "      <div data-reactid=\"27\">\n",
      "       <!-- react-empty: 28 -->\n",
      "       <div class=\"filter-action-panel\" data-reactid=\"29\">\n",
      "        <p data-reactid=\"30\">\n",
      "         <!-- react-text: 31 -->\n",
      "         12\n",
      "         <!-- /react-text -->\n",
      "         <!-- react-text: 32 -->\n",
      "         matching results\n",
      "         <!-- /react-text -->\n",
      "        </p>\n",
      "        <button data-reactid=\"33\">\n",
      "         Apply\n",
      "        </button>\n",
      "        <button data-reactid=\"34\">\n",
      "         Cancel\n",
      "        </button>\n",
      "       </div>\n",
      "      </div>\n",
      "     </div>\n",
      "    </div>\n",
      "    <div class=\"search-results-status\" data-reactid=\"35\">\n",
      "     <div class=\"search-tags\" data-reactid=\"36\">\n",
      "      <button class=\"clear-all\" data-reactid=\"37\">\n",
      "       Clear all\n",
      "      </button>\n",
      "     </div>\n",
      "     <p class=\"results-message\" data-reactid=\"38\">\n",
      "      <span class=\"matching-count\" data-reactid=\"39\">\n",
      "       12\n",
      "      </span>\n",
      "      <!-- react-text: 40 -->\n",
      "      matching results for\n",
      "      <!-- /react-text -->\n",
      "      <em class=\"terms\" data-reactid=\"41\">\n",
      "       tofu chill\n",
      "      </em>\n",
      "     </p>\n",
      "     <div class=\"search-sort-container\" data-reactid=\"42\">\n",
      "      <div class=\"content-type-filter-options-menu\" data-reactid=\"43\">\n",
      "       <label aria-expanded=\"false\" data-reactid=\"44\" for=\"content-type-filter-options-menu\" role=\"button\">\n",
      "        <span class=\"options-menu-title\" data-reactid=\"45\">\n",
      "         Show\n",
      "        </span>\n",
      "        <span class=\"selected-option-text\" data-reactid=\"46\">\n",
      "         All Content\n",
      "        </span>\n",
      "       </label>\n",
      "       <select data-reactid=\"47\" id=\"content-type-filter-options-menu\" name=\"content-type-filter\">\n",
      "        <option data-reactid=\"48\" selected=\"\" value=\"all\">\n",
      "         All Content\n",
      "        </option>\n",
      "        <option data-reactid=\"49\" value=\"recipe\">\n",
      "         Recipes\n",
      "        </option>\n",
      "        <option data-reactid=\"50\" value=\"article\">\n",
      "         Articles\n",
      "        </option>\n",
      "        <option data-reactid=\"51\" disabled=\"\" value=\"package\">\n",
      "         Guides\n",
      "        </option>\n",
      "        <option data-reactid=\"52\" value=\"menu\">\n",
      "         Menus\n",
      "        </option>\n",
      "        <option data-reactid=\"53\" value=\"gallery\">\n",
      "         Galleries\n",
      "        </option>\n",
      "        <option data-reactid=\"54\" value=\"cnevideo\">\n",
      "         Videos\n",
      "        </option>\n",
      "       </select>\n",
      "      </div>\n",
      "      <div class=\"sort-filter-options-menu\" data-reactid=\"55\">\n",
      "       <label aria-expanded=\"false\" data-reactid=\"56\" for=\"sort-filter-options-menu\" role=\"button\">\n",
      "        <span class=\"options-menu-title\" data-reactid=\"57\">\n",
      "         Sort by\n",
      "        </span>\n",
      "        <span class=\"selected-option-text\" data-reactid=\"58\">\n",
      "         Relevance\n",
      "        </span>\n",
      "       </label>\n",
      "       <select data-reactid=\"59\" id=\"sort-filter-options-menu\" name=\"sort-filter\">\n",
      "        <option data-reactid=\"60\" selected=\"\" value=\"relevance\">\n",
      "         Relevance\n",
      "        </option>\n",
      "        <option data-reactid=\"61\" value=\"newest\">\n",
      "         Newest\n",
      "        </option>\n",
      "        <option data-reactid=\"62\" value=\"highestRated\">\n",
      "         Highest Rated\n",
      "        </option>\n",
      "        <option data-reactid=\"63\" value=\"mostReviewed\">\n",
      "         Most Reviewed\n",
      "        </option>\n",
      "        <option data-reactid=\"64\" value=\"makeItAgain\">\n",
      "         Make Again %\n",
      "        </option>\n",
      "       </select>\n",
      "      </div>\n",
      "     </div>\n",
      "    </div>\n",
      "    <section data-query=\"tofu chill\" data-reactid=\"65\" role=\"main\">\n",
      "     <h3 class=\"section-title\" data-reactid=\"66\">\n",
      "      Search Results\n",
      "     </h3>\n",
      "     <div class=\"results-group\" data-group-number=\"1\" data-reactid=\"67\">\n",
      "      <article class=\"article-content-card\" data-has-quickview=\"false\" data-index=\"0\" data-reactid=\"68\" itemscope=\"\" itemtype=\"https://schema.org/ItemPage\">\n",
      "       <header class=\"summary\" data-reactid=\"69\">\n",
      "        <strong class=\"tag\" data-reactid=\"70\">\n",
      "         article\n",
      "        </strong>\n",
      "        <h4 class=\"hed\" data-reactid=\"71\" data-truncate=\"3\" itemprop=\"name\">\n",
      "         <a data-reactid=\"72\" href=\"/expert-advice/emily-gould-cooking-diary-article\">\n",
      "          What the Writer-Publisher-Mom Emily Gould Cooks in a Week\n",
      "         </a>\n",
      "        </h4>\n",
      "        <p class=\"dek\" data-reactid=\"73\" data-truncate=\"1\">\n",
      "         The novelist and independent book publisher relies on intuition, leftovers, and some very good cookbooks to make dinner happen.\n",
      "        </p>\n",
      "       </header>\n",
      "       <a class=\"photo-link\" data-reactid=\"74\" href=\"/expert-advice/emily-gould-cooking-diary-article\">\n",
      "        <div class=\"photo-wrap\" data-reactid=\"75\">\n",
      "         <div class=\"component-lazy pending\" data-component=\"Lazy\" data-reactid=\"76\">\n",
      "         </div>\n",
      "        </div>\n",
      "       </a>\n",
      "       <a class=\"view-complete-item\" data-reactid=\"77\" href=\"/expert-advice/emily-gould-cooking-diary-article\" itemprop=\"url\" title=\"What the Writer-Publisher-Mom Emily Gould Cooks in a Week  \">\n",
      "        <!-- react-text: 78 -->\n",
      "        View “\n",
      "        <!-- /react-text -->\n",
      "        <!-- react-text: 79 -->\n",
      "        What the Writer-Publisher-Mom Emily Gould Cooks in a Week\n",
      "        <!-- /react-text -->\n",
      "        <!-- react-text: 80 -->\n",
      "        ”\n",
      "        <!-- /react-text -->\n",
      "       </a>\n",
      "      </article>\n",
      "      <article class=\"article-content-card\" data-has-quickview=\"false\" data-index=\"1\" data-reactid=\"81\" itemscope=\"\" itemtype=\"https://schema.org/ItemPage\">\n",
      "       <header class=\"summary\" data-reactid=\"82\">\n",
      "        <strong class=\"tag\" data-reactid=\"83\">\n",
      "         article\n",
      "        </strong>\n",
      "        <h4 class=\"hed\" data-reactid=\"84\" data-truncate=\"3\" itemprop=\"name\">\n",
      "         <a data-reactid=\"85\" href=\"/expert-advice/dirty-secrets-of-a-home-cook-article\">\n",
      "          Dirty Secrets of a Home Cook\n",
      "         </a>\n",
      "        </h4>\n",
      "        <p class=\"dek\" data-reactid=\"86\" data-truncate=\"1\">\n",
      "         A food writer gives us a peek into what really happens behind the scenes in her kitchen. And some of it isn't pretty.\n",
      "        </p>\n",
      "       </header>\n",
      "       <a class=\"photo-link\" data-reactid=\"87\" href=\"/expert-advice/dirty-secrets-of-a-home-cook-article\">\n",
      "        <div class=\"photo-wrap\" data-reactid=\"88\">\n",
      "         <div class=\"component-lazy pending\" data-component=\"Lazy\" data-reactid=\"89\">\n",
      "         </div>\n",
      "        </div>\n",
      "       </a>\n",
      "       <a class=\"view-complete-item\" data-reactid=\"90\" href=\"/expert-advice/dirty-secrets-of-a-home-cook-article\" itemprop=\"url\" title=\"Dirty Secrets of a Home Cook\">\n",
      "        <!-- react-text: 91 -->\n",
      "        View “\n",
      "        <!-- /react-text -->\n",
      "        <!-- react-text: 92 -->\n",
      "        Dirty Secrets of a Home Cook\n",
      "        <!-- /react-text -->\n",
      "        <!-- react-text: 93 -->\n",
      "        ”\n",
      "        <!-- /react-text -->\n",
      "       </a>\n",
      "      </article>\n",
      "      <article class=\"article-content-card\" data-has-quickview=\"false\" data-index=\"2\" data-reactid=\"94\" itemscope=\"\" itemtype=\"https://schema.org/ItemPage\">\n",
      "       <header class=\"summary\" data-reactid=\"95\">\n",
      "        <strong class=\"tag\" data-reactid=\"96\">\n",
      "         article\n",
      "        </strong>\n",
      "        <h4 class=\"hed\" data-reactid=\"97\" data-truncate=\"3\" itemprop=\"name\">\n",
      "         <a data-reactid=\"98\" href=\"/expert-advice/why-the-freezer-aisle-is-a-woks-best-friend-article\">\n",
      "          Frozen Vegetables Are a Wok's Best Friend\n",
      "         </a>\n",
      "        </h4>\n",
      "        <p class=\"dek\" data-reactid=\"99\" data-truncate=\"1\">\n",
      "         All of the flavor, none of the prep work.\n",
      "        </p>\n",
      "       </header>\n",
      "       <a class=\"photo-link\" data-reactid=\"100\" href=\"/expert-advice/why-the-freezer-aisle-is-a-woks-best-friend-article\">\n",
      "        <div class=\"photo-wrap\" data-reactid=\"101\">\n",
      "         <div class=\"component-lazy pending\" data-component=\"Lazy\" data-reactid=\"102\">\n",
      "         </div>\n",
      "        </div>\n",
      "       </a>\n",
      "       <a class=\"view-complete-item\" data-reactid=\"103\" href=\"/expert-advice/why-the-freezer-aisle-is-a-woks-best-friend-article\" itemprop=\"url\" title=\"Frozen Vegetables Are a Wok's Best Friend\">\n",
      "        <!-- react-text: 104 -->\n",
      "        View “\n",
      "        <!-- /react-text -->\n",
      "        <!-- react-text: 105 -->\n",
      "        Frozen Vegetables Are a Wok's Best Friend\n",
      "        <!-- /react-text -->\n",
      "        <!-- react-text: 106 -->\n",
      "        ”\n",
      "        <!-- /react-text -->\n",
      "       </a>\n",
      "      </article>\n",
      "      <article class=\"recipe-content-card\" data-has-quickview=\"false\" data-index=\"3\" data-reactid=\"107\" itemscope=\"\" itemtype=\"https://schema.org/Recipe\">\n",
      "       <header class=\"summary\" data-reactid=\"108\">\n",
      "        <strong class=\"tag\" data-reactid=\"109\">\n",
      "         recipe\n",
      "        </strong>\n",
      "        <h4 class=\"hed\" data-reactid=\"110\" data-truncate=\"3\" itemprop=\"name\">\n",
      "         <a data-reactid=\"111\" href=\"/recipes/food/views/sea-bean-salad-with-daikon-and-cucumber-51199610\">\n",
      "          Sea Bean Salad with Daikon and Cucumber\n",
      "         </a>\n",
      "        </h4>\n",
      "        <p class=\"dek\" data-reactid=\"112\" data-truncate=\"1\">\n",
      "         When we visited Kyoto, a few hours' ride from Tokyo on the famous Bullet train, we found a little restaurant in the heart of town that won us over with the names of dishes listed on the menu: Firecracker Tofu, Pickled Mixed Radish Salad, and the mysterious sounding Okonomiyaki. The chefs were clearly having fun at this place, and we were blown away by the depth of flavor they achieved with such simple preparations. We threw back some sake and tore through plate after plate of food. This salad is inspired by that meal, featuring quirky sea beans (a seaweed-like swamp/beach vegetable) and the haunting flavor of shiso (Japanese mint). You can find fresh sea beans at a gourmet market. If they're not available, substitute pencil-thin asparagus. Look for shiso in Asian markets, but substitute fresh cilantro if you can't find it.\n",
      "        </p>\n",
      "        <dl class=\"recipes-ratings-summary\" data-reactid=\"113\" data-reviews-count=\"0\" data-reviews-rating=\"0\" itemprop=\"aggregateRating\" itemscope=\"\" itemtype=\"https://schema.org/AggregateRating\">\n",
      "         <dt class=\"rating-label\" data-reactid=\"114\">\n",
      "          Average user rating\n",
      "         </dt>\n",
      "         <span class=\"reviews-count-container\" data-reactid=\"115\">\n",
      "          <dd class=\"rating\" data-rating=\"unrated\" data-reactid=\"116\">\n",
      "           <span data-reactid=\"117\" itemprop=\"ratingValue\">\n",
      "            0\n",
      "           </span>\n",
      "           <!-- react-text: 118 -->\n",
      "           /\n",
      "           <!-- /react-text -->\n",
      "           <span data-reactid=\"119\" itemprop=\"bestRating\">\n",
      "            4\n",
      "           </span>\n",
      "           <meta content=\"0\" data-reactid=\"120\" itemprop=\"worstRating\"/>\n",
      "          </dd>\n",
      "          <dt class=\"reviews-count-label\" data-reactid=\"121\">\n",
      "           Reviews\n",
      "          </dt>\n",
      "          <dd class=\"reviews-count\" data-reactid=\"122\" itemprop=\"reviewCount\">\n",
      "           0\n",
      "          </dd>\n",
      "         </span>\n",
      "         <span class=\"make-again-container\" data-reactid=\"123\">\n",
      "          <dt class=\"make-again-percentage-label\" data-reactid=\"124\">\n",
      "           Percentage of reviewers who will make this recipe again\n",
      "          </dt>\n",
      "          <dd class=\"make-again-percentage\" data-reactid=\"125\">\n",
      "           <!-- react-text: 126 -->\n",
      "           0\n",
      "           <!-- /react-text -->\n",
      "           <!-- react-text: 127 -->\n",
      "           %\n",
      "           <!-- /react-text -->\n",
      "          </dd>\n",
      "         </span>\n",
      "        </dl>\n",
      "       </header>\n",
      "       <a class=\"photo-link\" data-reactid=\"128\" href=\"/recipes/food/views/sea-bean-salad-with-daikon-and-cucumber-51199610\">\n",
      "        <div class=\"photo-wrap\" data-reactid=\"129\">\n",
      "         <div class=\"component-lazy pending\" data-component=\"Lazy\" data-reactid=\"130\">\n",
      "         </div>\n",
      "        </div>\n",
      "       </a>\n",
      "       <a class=\"view-complete-item\" data-reactid=\"131\" href=\"/recipes/food/views/sea-bean-salad-with-daikon-and-cucumber-51199610\" itemprop=\"url\" title=\"Sea Bean Salad with Daikon and Cucumber\">\n",
      "        <!-- react-text: 132 -->\n",
      "        View “\n",
      "        <!-- /react-text -->\n",
      "        <!-- react-text: 133 -->\n",
      "        Sea Bean Salad with Daikon and Cucumber\n",
      "        <!-- /react-text -->\n",
      "        <!-- react-text: 134 -->\n",
      "        ”\n",
      "        <!-- /react-text -->\n",
      "       </a>\n",
      "       <div class=\"recipe-panel \" data-reactid=\"135\">\n",
      "        <a class=\"view-complete-item\" data-reactid=\"136\" href=\"/recipes/food/views/sea-bean-salad-with-daikon-and-cucumber-51199610\">\n",
      "         View Recipe\n",
      "        </a>\n",
      "        <div class=\"controls\" data-reactid=\"137\">\n",
      "         <a class=\"show-quick-view\" data-reactid=\"138\" href=\"/recipes/food/views/sea-bean-salad-with-daikon-and-cucumber-51199610\" title=\"Sea Bean Salad with Daikon and Cucumber\">\n",
      "          Quick view\n",
      "         </a>\n",
      "         <a class=\"toggle-compare-state\" data-reactid=\"139\">\n",
      "          Compare Recipe\n",
      "         </a>\n",
      "        </div>\n",
      "       </div>\n",
      "      </article>\n",
      "      <article class=\"recipe-content-card\" data-has-quickview=\"false\" data-index=\"4\" data-reactid=\"140\" itemscope=\"\" itemtype=\"https://schema.org/Recipe\">\n",
      "       <header class=\"summary\" data-reactid=\"141\">\n",
      "        <strong class=\"tag\" data-reactid=\"142\">\n",
      "         recipe\n",
      "        </strong>\n",
      "        <h4 class=\"hed\" data-reactid=\"143\" data-truncate=\"3\" itemprop=\"name\">\n",
      "         <a data-reactid=\"144\" href=\"/recipes/food/views/pickled-red-onions-51196620\">\n",
      "          Pickled Red Onions\n",
      "         </a>\n",
      "        </h4>\n",
      "        <p class=\"dek\" data-reactid=\"145\" data-truncate=\"1\">\n",
      "         Vegan (when made with agave nectar or sugar)\n",
      "This trick will alter and augment your cooking: Pour boiling water over sliced or diced red onions, then transfer them to a solution of vinegar, sweetener, and salt. The onions will brighten into a gaudy shade of purplish-pink and will keep indefinitely, mysteriously retaining their bright color and crisp texture. rather than slice, the onions, if they are headed for one of the cold soups.)\n",
      "You can vary the cut of the onions—and also the amounts of sweet and salt. Use as a dramatically colorful and refreshing tiara atop dinner plates, open-faced sandwiches, salads, cheeses, grilled tofu, or fish—anything savory. I use these often as an ingredient in cold soups and saladitas. (Mince, rather than slice, the onions, if they are headed for one of the cold soups.)\n",
      "• Use a very sharp knife or a food processor with a thin slicing attachment to cut the onions most easily.\n",
      "        </p>\n",
      "        <dl class=\"recipes-ratings-summary\" data-reactid=\"146\" data-reviews-count=\"5\" data-reviews-rating=\"3.14\" itemprop=\"aggregateRating\" itemscope=\"\" itemtype=\"https://schema.org/AggregateRating\">\n",
      "         <dt class=\"rating-label\" data-reactid=\"147\">\n",
      "          Average user rating\n",
      "         </dt>\n",
      "         <span class=\"reviews-count-container\" data-reactid=\"148\">\n",
      "          <dd class=\"rating\" data-rating=\"3\" data-reactid=\"149\">\n",
      "           <span data-reactid=\"150\" itemprop=\"ratingValue\">\n",
      "            3\n",
      "           </span>\n",
      "           <!-- react-text: 151 -->\n",
      "           /\n",
      "           <!-- /react-text -->\n",
      "           <span data-reactid=\"152\" itemprop=\"bestRating\">\n",
      "            4\n",
      "           </span>\n",
      "           <meta content=\"0\" data-reactid=\"153\" itemprop=\"worstRating\"/>\n",
      "          </dd>\n",
      "          <dt class=\"reviews-count-label\" data-reactid=\"154\">\n",
      "           Reviews\n",
      "          </dt>\n",
      "          <dd class=\"reviews-count\" data-reactid=\"155\" itemprop=\"reviewCount\">\n",
      "           5\n",
      "          </dd>\n",
      "         </span>\n",
      "         <span class=\"make-again-container\" data-reactid=\"156\">\n",
      "          <dt class=\"make-again-percentage-label\" data-reactid=\"157\">\n",
      "           Percentage of reviewers who will make this recipe again\n",
      "          </dt>\n",
      "          <dd class=\"make-again-percentage\" data-reactid=\"158\">\n",
      "           <!-- react-text: 159 -->\n",
      "           60\n",
      "           <!-- /react-text -->\n",
      "           <!-- react-text: 160 -->\n",
      "           %\n",
      "           <!-- /react-text -->\n",
      "          </dd>\n",
      "         </span>\n",
      "        </dl>\n",
      "       </header>\n",
      "       <a class=\"photo-link\" data-reactid=\"161\" href=\"/recipes/food/views/pickled-red-onions-51196620\">\n",
      "        <div class=\"photo-wrap\" data-reactid=\"162\">\n",
      "         <div class=\"component-lazy pending\" data-component=\"Lazy\" data-reactid=\"163\">\n",
      "         </div>\n",
      "        </div>\n",
      "       </a>\n",
      "       <a class=\"view-complete-item\" data-reactid=\"164\" href=\"/recipes/food/views/pickled-red-onions-51196620\" itemprop=\"url\" title=\"Pickled Red Onions\">\n",
      "        <!-- react-text: 165 -->\n",
      "        View “\n",
      "        <!-- /react-text -->\n",
      "        <!-- react-text: 166 -->\n",
      "        Pickled Red Onions\n",
      "        <!-- /react-text -->\n",
      "        <!-- react-text: 167 -->\n",
      "        ”\n",
      "        <!-- /react-text -->\n",
      "       </a>\n",
      "       <div class=\"recipe-panel \" data-reactid=\"168\">\n",
      "        <a class=\"view-complete-item\" data-reactid=\"169\" href=\"/recipes/food/views/pickled-red-onions-51196620\">\n",
      "         View Recipe\n",
      "        </a>\n",
      "        <div class=\"controls\" data-reactid=\"170\">\n",
      "         <a class=\"show-quick-view\" data-reactid=\"171\" href=\"/recipes/food/views/pickled-red-onions-51196620\" title=\"Pickled Red Onions\">\n",
      "          Quick view\n",
      "         </a>\n",
      "         <a class=\"toggle-compare-state\" data-reactid=\"172\">\n",
      "          Compare Recipe\n",
      "         </a>\n",
      "        </div>\n",
      "       </div>\n",
      "      </article>\n",
      "      <article class=\"recipe-content-card\" data-has-quickview=\"false\" data-index=\"5\" data-reactid=\"173\" itemscope=\"\" itemtype=\"https://schema.org/Recipe\">\n",
      "       <header class=\"summary\" data-reactid=\"174\">\n",
      "        <strong class=\"tag\" data-reactid=\"175\">\n",
      "         recipe\n",
      "        </strong>\n",
      "        <h4 class=\"hed\" data-reactid=\"176\" data-truncate=\"3\" itemprop=\"name\">\n",
      "         <a data-reactid=\"177\" href=\"/recipes/food/views/new-wave-new-fave-baked-tofu-or-tempeh-394509\">\n",
      "          New Wave-New Fave Baked Tofu or Tempeh\n",
      "         </a>\n",
      "        </h4>\n",
      "        <p class=\"dek\" data-reactid=\"178\" data-truncate=\"1\">\n",
      "         I've been doing the previous marinades forever. This new one is first cousin to a good barbecued tofu: piquant, sweet-hot-rich, and scintillatingly tasty. The tofu is baked in the marinade/sauce, which cooks down and coats it, caramelizing them. You'll probably have to soak the baking dish overnight before washing it, but it's worth it. Vary this using fruit juice concentrate instead of honey or sugar, and adding extra ginger, orange zest, or both. For an incendiary smokiness, add chipotle in adobo.\n",
      "        </p>\n",
      "        <dl class=\"recipes-ratings-summary\" data-reactid=\"179\" data-reviews-count=\"1\" data-reviews-rating=\"3\" itemprop=\"aggregateRating\" itemscope=\"\" itemtype=\"https://schema.org/AggregateRating\">\n",
      "         <dt class=\"rating-label\" data-reactid=\"180\">\n",
      "          Average user rating\n",
      "         </dt>\n",
      "         <span class=\"reviews-count-container\" data-reactid=\"181\">\n",
      "          <dd class=\"rating\" data-rating=\"3\" data-reactid=\"182\">\n",
      "           <span data-reactid=\"183\" itemprop=\"ratingValue\">\n",
      "            3\n",
      "           </span>\n",
      "           <!-- react-text: 184 -->\n",
      "           /\n",
      "           <!-- /react-text -->\n",
      "           <span data-reactid=\"185\" itemprop=\"bestRating\">\n",
      "            4\n",
      "           </span>\n",
      "           <meta content=\"0\" data-reactid=\"186\" itemprop=\"worstRating\"/>\n",
      "          </dd>\n",
      "          <dt class=\"reviews-count-label\" data-reactid=\"187\">\n",
      "           Reviews\n",
      "          </dt>\n",
      "          <dd class=\"reviews-count\" data-reactid=\"188\" itemprop=\"reviewCount\">\n",
      "           1\n",
      "          </dd>\n",
      "         </span>\n",
      "         <span class=\"make-again-container\" data-reactid=\"189\">\n",
      "          <dt class=\"make-again-percentage-label\" data-reactid=\"190\">\n",
      "           Percentage of reviewers who will make this recipe again\n",
      "          </dt>\n",
      "          <dd class=\"make-again-percentage\" data-reactid=\"191\">\n",
      "           <!-- react-text: 192 -->\n",
      "           100\n",
      "           <!-- /react-text -->\n",
      "           <!-- react-text: 193 -->\n",
      "           %\n",
      "           <!-- /react-text -->\n",
      "          </dd>\n",
      "         </span>\n",
      "        </dl>\n",
      "       </header>\n",
      "       <a class=\"photo-link\" data-reactid=\"194\" href=\"/recipes/food/views/new-wave-new-fave-baked-tofu-or-tempeh-394509\">\n",
      "        <div class=\"photo-wrap\" data-reactid=\"195\">\n",
      "         <div class=\"component-lazy pending\" data-component=\"Lazy\" data-reactid=\"196\">\n",
      "         </div>\n",
      "        </div>\n",
      "       </a>\n",
      "       <a class=\"view-complete-item\" data-reactid=\"197\" href=\"/recipes/food/views/new-wave-new-fave-baked-tofu-or-tempeh-394509\" itemprop=\"url\" title=\"New Wave-New Fave Baked Tofu or Tempeh\">\n",
      "        <!-- react-text: 198 -->\n",
      "        View “\n",
      "        <!-- /react-text -->\n",
      "        <!-- react-text: 199 -->\n",
      "        New Wave-New Fave Baked Tofu or Tempeh\n",
      "        <!-- /react-text -->\n",
      "        <!-- react-text: 200 -->\n",
      "        ”\n",
      "        <!-- /react-text -->\n",
      "       </a>\n",
      "       <div class=\"recipe-panel \" data-reactid=\"201\">\n",
      "        <a class=\"view-complete-item\" data-reactid=\"202\" href=\"/recipes/food/views/new-wave-new-fave-baked-tofu-or-tempeh-394509\">\n",
      "         View Recipe\n",
      "        </a>\n",
      "        <div class=\"controls\" data-reactid=\"203\">\n",
      "         <a class=\"show-quick-view\" data-reactid=\"204\" href=\"/recipes/food/views/new-wave-new-fave-baked-tofu-or-tempeh-394509\" title=\"New Wave-New Fave Baked Tofu or Tempeh\">\n",
      "          Quick view\n",
      "         </a>\n",
      "         <a class=\"toggle-compare-state\" data-reactid=\"205\">\n",
      "          Compare Recipe\n",
      "         </a>\n",
      "        </div>\n",
      "       </div>\n",
      "      </article>\n",
      "      <article class=\"recipe-content-card\" data-has-quickview=\"false\" data-index=\"6\" data-reactid=\"206\" itemscope=\"\" itemtype=\"https://schema.org/Recipe\">\n",
      "       <header class=\"summary\" data-reactid=\"207\">\n",
      "        <strong class=\"tag\" data-reactid=\"208\">\n",
      "         recipe\n",
      "        </strong>\n",
      "        <h4 class=\"hed\" data-reactid=\"209\" data-truncate=\"3\" itemprop=\"name\">\n",
      "         <a data-reactid=\"210\" href=\"/recipes/food/views/vegan-mayonnaise-366490\">\n",
      "          Vegan Mayonnaise\n",
      "         </a>\n",
      "        </h4>\n",
      "        <p class=\"dek\" data-reactid=\"211\" data-truncate=\"1\">\n",
      "         Wheat Free\n",
      "No need to worry if your local market doesn't carry egg-free mayo. Just whip up some of your own. This recipe works very well as a sandwich spread or in any mayonnaise-based dressing. As long as you use wheat-free vinegar, this mayo is indeed wheat-free.\n",
      "        </p>\n",
      "        <dl class=\"recipes-ratings-summary\" data-reactid=\"212\" data-reviews-count=\"3\" data-reviews-rating=\"1\" itemprop=\"aggregateRating\" itemscope=\"\" itemtype=\"https://schema.org/AggregateRating\">\n",
      "         <dt class=\"rating-label\" data-reactid=\"213\">\n",
      "          Average user rating\n",
      "         </dt>\n",
      "         <span class=\"reviews-count-container\" data-reactid=\"214\">\n",
      "          <dd class=\"rating\" data-rating=\"1\" data-reactid=\"215\">\n",
      "           <span data-reactid=\"216\" itemprop=\"ratingValue\">\n",
      "            1\n",
      "           </span>\n",
      "           <!-- react-text: 217 -->\n",
      "           /\n",
      "           <!-- /react-text -->\n",
      "           <span data-reactid=\"218\" itemprop=\"bestRating\">\n",
      "            4\n",
      "           </span>\n",
      "           <meta content=\"0\" data-reactid=\"219\" itemprop=\"worstRating\"/>\n",
      "          </dd>\n",
      "          <dt class=\"reviews-count-label\" data-reactid=\"220\">\n",
      "           Reviews\n",
      "          </dt>\n",
      "          <dd class=\"reviews-count\" data-reactid=\"221\" itemprop=\"reviewCount\">\n",
      "           3\n",
      "          </dd>\n",
      "         </span>\n",
      "         <span class=\"make-again-container\" data-reactid=\"222\">\n",
      "          <dt class=\"make-again-percentage-label\" data-reactid=\"223\">\n",
      "           Percentage of reviewers who will make this recipe again\n",
      "          </dt>\n",
      "          <dd class=\"make-again-percentage\" data-reactid=\"224\">\n",
      "           <!-- react-text: 225 -->\n",
      "           33\n",
      "           <!-- /react-text -->\n",
      "           <!-- react-text: 226 -->\n",
      "           %\n",
      "           <!-- /react-text -->\n",
      "          </dd>\n",
      "         </span>\n",
      "        </dl>\n",
      "       </header>\n",
      "       <a class=\"photo-link\" data-reactid=\"227\" href=\"/recipes/food/views/vegan-mayonnaise-366490\">\n",
      "        <div class=\"photo-wrap\" data-reactid=\"228\">\n",
      "         <div class=\"component-lazy pending\" data-component=\"Lazy\" data-reactid=\"229\">\n",
      "         </div>\n",
      "        </div>\n",
      "       </a>\n",
      "       <a class=\"view-complete-item\" data-reactid=\"230\" href=\"/recipes/food/views/vegan-mayonnaise-366490\" itemprop=\"url\" title=\"Vegan Mayonnaise\">\n",
      "        <!-- react-text: 231 -->\n",
      "        View “\n",
      "        <!-- /react-text -->\n",
      "        <!-- react-text: 232 -->\n",
      "        Vegan Mayonnaise\n",
      "        <!-- /react-text -->\n",
      "        <!-- react-text: 233 -->\n",
      "        ”\n",
      "        <!-- /react-text -->\n",
      "       </a>\n",
      "       <div class=\"recipe-panel \" data-reactid=\"234\">\n",
      "        <a class=\"view-complete-item\" data-reactid=\"235\" href=\"/recipes/food/views/vegan-mayonnaise-366490\">\n",
      "         View Recipe\n",
      "        </a>\n",
      "        <div class=\"controls\" data-reactid=\"236\">\n",
      "         <a class=\"show-quick-view\" data-reactid=\"237\" href=\"/recipes/food/views/vegan-mayonnaise-366490\" title=\"Vegan Mayonnaise\">\n",
      "          Quick view\n",
      "         </a>\n",
      "         <a class=\"toggle-compare-state\" data-reactid=\"238\">\n",
      "          Compare Recipe\n",
      "         </a>\n",
      "        </div>\n",
      "       </div>\n",
      "      </article>\n",
      "      <article class=\"recipe-content-card\" data-has-quickview=\"false\" data-index=\"7\" data-reactid=\"239\" itemscope=\"\" itemtype=\"https://schema.org/Recipe\">\n",
      "       <header class=\"summary\" data-reactid=\"240\">\n",
      "        <strong class=\"tag\" data-reactid=\"241\">\n",
      "         recipe\n",
      "        </strong>\n",
      "        <h4 class=\"hed\" data-reactid=\"242\" data-truncate=\"3\" itemprop=\"name\">\n",
      "         <a data-reactid=\"243\" href=\"/recipes/food/views/teriyaki-black-cod-with-sticky-rice-cakes-and-seared-baby-bok-choy-363330\">\n",
      "          Teriyaki Black Cod with Sticky Rice Cakes and Seared Baby Bok Choy\n",
      "         </a>\n",
      "        </h4>\n",
      "        <p class=\"dek\" data-reactid=\"244\" data-truncate=\"1\">\n",
      "         A staple of classic Japanese cooking, teriyaki is wonderful with not only seafood but also poultry, beef, vegetables, and tofu. Often, however, this versatile sauce can be quite sweet. My version uses fresh orange juice, which adds just a touch of natural sweetness as well as some acidity to temper the sweet mirin. Pouring some of the teriyaki sauce into the hot pan with the fish further reduces it so the sauce really coats the fish with a deep, caramel glaze that enhances the delectable moist, buttery, and tender qualities of black cod perfectly. Other good fish for this dish are Alaskan cod, true cod, sablefish, or wild salmon. Searing each side of the sticky rice cake gives a nutty flavor and crisp texture. I also like to serve these rice cakes with vegetable stir-fries in place of plain rice. If you have a rice cooker, use it to prepare the rice according to the manufacturer's directions. If not, follow the instructions in the recipe to prepare it in a saucepan.\n",
      "        </p>\n",
      "        <dl class=\"recipes-ratings-summary\" data-reactid=\"245\" data-reviews-count=\"9\" data-reviews-rating=\"3.25\" itemprop=\"aggregateRating\" itemscope=\"\" itemtype=\"https://schema.org/AggregateRating\">\n",
      "         <dt class=\"rating-label\" data-reactid=\"246\">\n",
      "          Average user rating\n",
      "         </dt>\n",
      "         <span class=\"reviews-count-container\" data-reactid=\"247\">\n",
      "          <dd class=\"rating\" data-rating=\"3.5\" data-reactid=\"248\">\n",
      "           <span data-reactid=\"249\" itemprop=\"ratingValue\">\n",
      "            3.5\n",
      "           </span>\n",
      "           <!-- react-text: 250 -->\n",
      "           /\n",
      "           <!-- /react-text -->\n",
      "           <span data-reactid=\"251\" itemprop=\"bestRating\">\n",
      "            4\n",
      "           </span>\n",
      "           <meta content=\"0\" data-reactid=\"252\" itemprop=\"worstRating\"/>\n",
      "          </dd>\n",
      "          <dt class=\"reviews-count-label\" data-reactid=\"253\">\n",
      "           Reviews\n",
      "          </dt>\n",
      "          <dd class=\"reviews-count\" data-reactid=\"254\" itemprop=\"reviewCount\">\n",
      "           9\n",
      "          </dd>\n",
      "         </span>\n",
      "         <span class=\"make-again-container\" data-reactid=\"255\">\n",
      "          <dt class=\"make-again-percentage-label\" data-reactid=\"256\">\n",
      "           Percentage of reviewers who will make this recipe again\n",
      "          </dt>\n",
      "          <dd class=\"make-again-percentage\" data-reactid=\"257\">\n",
      "           <!-- react-text: 258 -->\n",
      "           88\n",
      "           <!-- /react-text -->\n",
      "           <!-- react-text: 259 -->\n",
      "           %\n",
      "           <!-- /react-text -->\n",
      "          </dd>\n",
      "         </span>\n",
      "        </dl>\n",
      "       </header>\n",
      "       <a class=\"photo-link\" data-reactid=\"260\" href=\"/recipes/food/views/teriyaki-black-cod-with-sticky-rice-cakes-and-seared-baby-bok-choy-363330\">\n",
      "        <div class=\"photo-wrap\" data-reactid=\"261\">\n",
      "         <div class=\"component-lazy pending\" data-component=\"Lazy\" data-reactid=\"262\">\n",
      "         </div>\n",
      "        </div>\n",
      "       </a>\n",
      "       <a class=\"view-complete-item\" data-reactid=\"263\" href=\"/recipes/food/views/teriyaki-black-cod-with-sticky-rice-cakes-and-seared-baby-bok-choy-363330\" itemprop=\"url\" title=\"Teriyaki Black Cod with Sticky Rice Cakes and Seared Baby Bok Choy\">\n",
      "        <!-- react-text: 264 -->\n",
      "        View “\n",
      "        <!-- /react-text -->\n",
      "        <!-- react-text: 265 -->\n",
      "        Teriyaki Black Cod with Sticky Rice Cakes and Seared Baby Bok Choy\n",
      "        <!-- /react-text -->\n",
      "        <!-- react-text: 266 -->\n",
      "        ”\n",
      "        <!-- /react-text -->\n",
      "       </a>\n",
      "       <div class=\"recipe-panel \" data-reactid=\"267\">\n",
      "        <a class=\"view-complete-item\" data-reactid=\"268\" href=\"/recipes/food/views/teriyaki-black-cod-with-sticky-rice-cakes-and-seared-baby-bok-choy-363330\">\n",
      "         View Recipe\n",
      "        </a>\n",
      "        <div class=\"controls\" data-reactid=\"269\">\n",
      "         <a class=\"show-quick-view\" data-reactid=\"270\" href=\"/recipes/food/views/teriyaki-black-cod-with-sticky-rice-cakes-and-seared-baby-bok-choy-363330\" title=\"Teriyaki Black Cod with Sticky Rice Cakes and Seared Baby Bok Choy\">\n",
      "          Quick view\n",
      "         </a>\n",
      "         <a class=\"toggle-compare-state\" data-reactid=\"271\">\n",
      "          Compare Recipe\n",
      "         </a>\n",
      "        </div>\n",
      "       </div>\n",
      "      </article>\n",
      "      <article class=\"recipe-content-card\" data-has-quickview=\"false\" data-index=\"8\" data-reactid=\"272\" itemscope=\"\" itemtype=\"https://schema.org/Recipe\">\n",
      "       <header class=\"summary\" data-reactid=\"273\">\n",
      "        <strong class=\"tag\" data-reactid=\"274\">\n",
      "         recipe\n",
      "        </strong>\n",
      "        <h4 class=\"hed\" data-reactid=\"275\" data-truncate=\"3\" itemprop=\"name\">\n",
      "         <a data-reactid=\"276\" href=\"/recipes/food/views/vegan-chocolate-cheesecake-355990\">\n",
      "          Vegan Chocolate Cheesecake\n",
      "         </a>\n",
      "        </h4>\n",
      "        <p class=\"dek\" data-reactid=\"277\" data-truncate=\"1\">\n",
      "         Combining bittersweet chocolate and cocoa powder intensifies the chocolaty essence of this cheesecake to the nth degree. Silken tofu brings a delicate creaminess to the filling while also taking the place of eggs by acting as a binding agent.\n",
      "        </p>\n",
      "        <dl class=\"recipes-ratings-summary\" data-reactid=\"278\" data-reviews-count=\"15\" data-reviews-rating=\"2.76\" itemprop=\"aggregateRating\" itemscope=\"\" itemtype=\"https://schema.org/AggregateRating\">\n",
      "         <dt class=\"rating-label\" data-reactid=\"279\">\n",
      "          Average user rating\n",
      "         </dt>\n",
      "         <span class=\"reviews-count-container\" data-reactid=\"280\">\n",
      "          <dd class=\"rating\" data-rating=\"3\" data-reactid=\"281\">\n",
      "           <span data-reactid=\"282\" itemprop=\"ratingValue\">\n",
      "            3\n",
      "           </span>\n",
      "           <!-- react-text: 283 -->\n",
      "           /\n",
      "           <!-- /react-text -->\n",
      "           <span data-reactid=\"284\" itemprop=\"bestRating\">\n",
      "            4\n",
      "           </span>\n",
      "           <meta content=\"0\" data-reactid=\"285\" itemprop=\"worstRating\"/>\n",
      "          </dd>\n",
      "          <dt class=\"reviews-count-label\" data-reactid=\"286\">\n",
      "           Reviews\n",
      "          </dt>\n",
      "          <dd class=\"reviews-count\" data-reactid=\"287\" itemprop=\"reviewCount\">\n",
      "           15\n",
      "          </dd>\n",
      "         </span>\n",
      "         <span class=\"make-again-container\" data-reactid=\"288\">\n",
      "          <dt class=\"make-again-percentage-label\" data-reactid=\"289\">\n",
      "           Percentage of reviewers who will make this recipe again\n",
      "          </dt>\n",
      "          <dd class=\"make-again-percentage\" data-reactid=\"290\">\n",
      "           <!-- react-text: 291 -->\n",
      "           58\n",
      "           <!-- /react-text -->\n",
      "           <!-- react-text: 292 -->\n",
      "           %\n",
      "           <!-- /react-text -->\n",
      "          </dd>\n",
      "         </span>\n",
      "        </dl>\n",
      "       </header>\n",
      "       <a class=\"photo-link\" data-reactid=\"293\" href=\"/recipes/food/views/vegan-chocolate-cheesecake-355990\">\n",
      "        <div class=\"photo-wrap\" data-reactid=\"294\">\n",
      "         <div class=\"component-lazy pending\" data-component=\"Lazy\" data-reactid=\"295\">\n",
      "         </div>\n",
      "        </div>\n",
      "       </a>\n",
      "       <a class=\"view-complete-item\" data-reactid=\"296\" href=\"/recipes/food/views/vegan-chocolate-cheesecake-355990\" itemprop=\"url\" title=\"Vegan Chocolate Cheesecake\">\n",
      "        <!-- react-text: 297 -->\n",
      "        View “\n",
      "        <!-- /react-text -->\n",
      "        <!-- react-text: 298 -->\n",
      "        Vegan Chocolate Cheesecake\n",
      "        <!-- /react-text -->\n",
      "        <!-- react-text: 299 -->\n",
      "        ”\n",
      "        <!-- /react-text -->\n",
      "       </a>\n",
      "       <div class=\"recipe-panel \" data-reactid=\"300\">\n",
      "        <a class=\"view-complete-item\" data-reactid=\"301\" href=\"/recipes/food/views/vegan-chocolate-cheesecake-355990\">\n",
      "         View Recipe\n",
      "        </a>\n",
      "        <div class=\"controls\" data-reactid=\"302\">\n",
      "         <a class=\"show-quick-view\" data-reactid=\"303\" href=\"/recipes/food/views/vegan-chocolate-cheesecake-355990\" title=\"Vegan Chocolate Cheesecake\">\n",
      "          Quick view\n",
      "         </a>\n",
      "         <a class=\"toggle-compare-state\" data-reactid=\"304\">\n",
      "          Compare Recipe\n",
      "         </a>\n",
      "        </div>\n",
      "       </div>\n",
      "      </article>\n",
      "      <article class=\"recipe-content-card\" data-has-quickview=\"false\" data-index=\"9\" data-reactid=\"305\" itemscope=\"\" itemtype=\"https://schema.org/Recipe\">\n",
      "       <header class=\"summary\" data-reactid=\"306\">\n",
      "        <strong class=\"tag\" data-reactid=\"307\">\n",
      "         recipe\n",
      "        </strong>\n",
      "        <h4 class=\"hed\" data-reactid=\"308\" data-truncate=\"3\" itemprop=\"name\">\n",
      "         <a data-reactid=\"309\" href=\"/recipes/food/views/chilled-soba-with-tofu-and-sugar-snap-peas-242834\">\n",
      "          Chilled Soba with Tofu and Sugar Snap Peas\n",
      "         </a>\n",
      "        </h4>\n",
      "        <p class=\"dek\" data-reactid=\"310\" data-truncate=\"1\">\n",
      "         A bowl of these refreshing noodles—a riff on a Japanese classic that gets topped with silky tofu—is clean and light, yet still hearty enough to make a satisfying meal.\n",
      "        </p>\n",
      "        <dl class=\"recipes-ratings-summary\" data-reactid=\"311\" data-reviews-count=\"8\" data-reviews-rating=\"3.53\" itemprop=\"aggregateRating\" itemscope=\"\" itemtype=\"https://schema.org/AggregateRating\">\n",
      "         <dt class=\"rating-label\" data-reactid=\"312\">\n",
      "          Average user rating\n",
      "         </dt>\n",
      "         <span class=\"reviews-count-container\" data-reactid=\"313\">\n",
      "          <dd class=\"rating\" data-rating=\"3.5\" data-reactid=\"314\">\n",
      "           <span data-reactid=\"315\" itemprop=\"ratingValue\">\n",
      "            3.5\n",
      "           </span>\n",
      "           <!-- react-text: 316 -->\n",
      "           /\n",
      "           <!-- /react-text -->\n",
      "           <span data-reactid=\"317\" itemprop=\"bestRating\">\n",
      "            4\n",
      "           </span>\n",
      "           <meta content=\"0\" data-reactid=\"318\" itemprop=\"worstRating\"/>\n",
      "          </dd>\n",
      "          <dt class=\"reviews-count-label\" data-reactid=\"319\">\n",
      "           Reviews\n",
      "          </dt>\n",
      "          <dd class=\"reviews-count\" data-reactid=\"320\" itemprop=\"reviewCount\">\n",
      "           8\n",
      "          </dd>\n",
      "         </span>\n",
      "         <span class=\"make-again-container\" data-reactid=\"321\">\n",
      "          <dt class=\"make-again-percentage-label\" data-reactid=\"322\">\n",
      "           Percentage of reviewers who will make this recipe again\n",
      "          </dt>\n",
      "          <dd class=\"make-again-percentage\" data-reactid=\"323\">\n",
      "           <!-- react-text: 324 -->\n",
      "           75\n",
      "           <!-- /react-text -->\n",
      "           <!-- react-text: 325 -->\n",
      "           %\n",
      "           <!-- /react-text -->\n",
      "          </dd>\n",
      "         </span>\n",
      "        </dl>\n",
      "       </header>\n",
      "       <a class=\"photo-link\" data-reactid=\"326\" href=\"/recipes/food/views/chilled-soba-with-tofu-and-sugar-snap-peas-242834\">\n",
      "        <div class=\"photo-wrap\" data-reactid=\"327\">\n",
      "         <div class=\"component-lazy pending\" data-component=\"Lazy\" data-reactid=\"328\">\n",
      "         </div>\n",
      "        </div>\n",
      "       </a>\n",
      "       <a class=\"view-complete-item\" data-reactid=\"329\" href=\"/recipes/food/views/chilled-soba-with-tofu-and-sugar-snap-peas-242834\" itemprop=\"url\" title=\"Chilled Soba with Tofu and Sugar Snap Peas\">\n",
      "        <!-- react-text: 330 -->\n",
      "        View “\n",
      "        <!-- /react-text -->\n",
      "        <!-- react-text: 331 -->\n",
      "        Chilled Soba with Tofu and Sugar Snap Peas\n",
      "        <!-- /react-text -->\n",
      "        <!-- react-text: 332 -->\n",
      "        ”\n",
      "        <!-- /react-text -->\n",
      "       </a>\n",
      "       <div class=\"recipe-panel \" data-reactid=\"333\">\n",
      "        <a class=\"view-complete-item\" data-reactid=\"334\" href=\"/recipes/food/views/chilled-soba-with-tofu-and-sugar-snap-peas-242834\">\n",
      "         View Recipe\n",
      "        </a>\n",
      "        <div class=\"controls\" data-reactid=\"335\">\n",
      "         <a class=\"show-quick-view\" data-reactid=\"336\" href=\"/recipes/food/views/chilled-soba-with-tofu-and-sugar-snap-peas-242834\" title=\"Chilled Soba with Tofu and Sugar Snap Peas\">\n",
      "          Quick view\n",
      "         </a>\n",
      "         <a class=\"toggle-compare-state\" data-reactid=\"337\">\n",
      "          Compare Recipe\n",
      "         </a>\n",
      "        </div>\n",
      "       </div>\n",
      "      </article>\n",
      "      <article class=\"recipe-content-card\" data-has-quickview=\"false\" data-index=\"10\" data-reactid=\"338\" itemscope=\"\" itemtype=\"https://schema.org/Recipe\">\n",
      "       <header class=\"summary\" data-reactid=\"339\">\n",
      "        <strong class=\"tag\" data-reactid=\"340\">\n",
      "         recipe\n",
      "        </strong>\n",
      "        <h4 class=\"hed\" data-reactid=\"341\" data-truncate=\"3\" itemprop=\"name\">\n",
      "         <a data-reactid=\"342\" href=\"/recipes/food/views/meyer-lemon-cream-pies-239225\">\n",
      "          Meyer Lemon Cream Pies\n",
      "         </a>\n",
      "        </h4>\n",
      "        <p class=\"dek\" data-reactid=\"343\" data-truncate=\"1\">\n",
      "         A Meyer lemon is a cross between a lemon and a mandarin orange. If you can't find any, substitute regular lemons. This pie's decadent cream filling is made from protein-rich tofu.\n",
      "        </p>\n",
      "        <dl class=\"recipes-ratings-summary\" data-reactid=\"344\" data-reviews-count=\"8\" data-reviews-rating=\"2.5\" itemprop=\"aggregateRating\" itemscope=\"\" itemtype=\"https://schema.org/AggregateRating\">\n",
      "         <dt class=\"rating-label\" data-reactid=\"345\">\n",
      "          Average user rating\n",
      "         </dt>\n",
      "         <span class=\"reviews-count-container\" data-reactid=\"346\">\n",
      "          <dd class=\"rating\" data-rating=\"2.5\" data-reactid=\"347\">\n",
      "           <span data-reactid=\"348\" itemprop=\"ratingValue\">\n",
      "            2.5\n",
      "           </span>\n",
      "           <!-- react-text: 349 -->\n",
      "           /\n",
      "           <!-- /react-text -->\n",
      "           <span data-reactid=\"350\" itemprop=\"bestRating\">\n",
      "            4\n",
      "           </span>\n",
      "           <meta content=\"0\" data-reactid=\"351\" itemprop=\"worstRating\"/>\n",
      "          </dd>\n",
      "          <dt class=\"reviews-count-label\" data-reactid=\"352\">\n",
      "           Reviews\n",
      "          </dt>\n",
      "          <dd class=\"reviews-count\" data-reactid=\"353\" itemprop=\"reviewCount\">\n",
      "           8\n",
      "          </dd>\n",
      "         </span>\n",
      "         <span class=\"make-again-container\" data-reactid=\"354\">\n",
      "          <dt class=\"make-again-percentage-label\" data-reactid=\"355\">\n",
      "           Percentage of reviewers who will make this recipe again\n",
      "          </dt>\n",
      "          <dd class=\"make-again-percentage\" data-reactid=\"356\">\n",
      "           <!-- react-text: 357 -->\n",
      "           50\n",
      "           <!-- /react-text -->\n",
      "           <!-- react-text: 358 -->\n",
      "           %\n",
      "           <!-- /react-text -->\n",
      "          </dd>\n",
      "         </span>\n",
      "        </dl>\n",
      "       </header>\n",
      "       <a class=\"photo-link\" data-reactid=\"359\" href=\"/recipes/food/views/meyer-lemon-cream-pies-239225\">\n",
      "        <div class=\"photo-wrap\" data-reactid=\"360\">\n",
      "         <div class=\"component-lazy pending\" data-component=\"Lazy\" data-reactid=\"361\">\n",
      "         </div>\n",
      "        </div>\n",
      "       </a>\n",
      "       <a class=\"view-complete-item\" data-reactid=\"362\" href=\"/recipes/food/views/meyer-lemon-cream-pies-239225\" itemprop=\"url\" title=\"Meyer Lemon Cream Pies\">\n",
      "        <!-- react-text: 363 -->\n",
      "        View “\n",
      "        <!-- /react-text -->\n",
      "        <!-- react-text: 364 -->\n",
      "        Meyer Lemon Cream Pies\n",
      "        <!-- /react-text -->\n",
      "        <!-- react-text: 365 -->\n",
      "        ”\n",
      "        <!-- /react-text -->\n",
      "       </a>\n",
      "       <div class=\"recipe-panel \" data-reactid=\"366\">\n",
      "        <a class=\"view-complete-item\" data-reactid=\"367\" href=\"/recipes/food/views/meyer-lemon-cream-pies-239225\">\n",
      "         View Recipe\n",
      "        </a>\n",
      "        <div class=\"controls\" data-reactid=\"368\">\n",
      "         <a class=\"show-quick-view\" data-reactid=\"369\" href=\"/recipes/food/views/meyer-lemon-cream-pies-239225\" title=\"Meyer Lemon Cream Pies\">\n",
      "          Quick view\n",
      "         </a>\n",
      "         <a class=\"toggle-compare-state\" data-reactid=\"370\">\n",
      "          Compare Recipe\n",
      "         </a>\n",
      "        </div>\n",
      "       </div>\n",
      "      </article>\n",
      "      <article class=\"recipe-content-card\" data-has-quickview=\"false\" data-index=\"11\" data-reactid=\"371\" itemscope=\"\" itemtype=\"https://schema.org/Recipe\">\n",
      "       <header class=\"summary\" data-reactid=\"372\">\n",
      "        <strong class=\"tag\" data-reactid=\"373\">\n",
      "         recipe\n",
      "        </strong>\n",
      "        <h4 class=\"hed\" data-reactid=\"374\" data-truncate=\"3\" itemprop=\"name\">\n",
      "         <a data-reactid=\"375\" href=\"/recipes/food/views/scallop-and-corn-pot-stickers-11846\">\n",
      "          Scallop and Corn Pot Stickers\n",
      "         </a>\n",
      "        </h4>\n",
      "        <dl class=\"recipes-ratings-summary\" data-reactid=\"376\" data-reviews-count=\"9\" data-reviews-rating=\"3.5\" itemprop=\"aggregateRating\" itemscope=\"\" itemtype=\"https://schema.org/AggregateRating\">\n",
      "         <dt class=\"rating-label\" data-reactid=\"377\">\n",
      "          Average user rating\n",
      "         </dt>\n",
      "         <span class=\"reviews-count-container\" data-reactid=\"378\">\n",
      "          <dd class=\"rating\" data-rating=\"3.5\" data-reactid=\"379\">\n",
      "           <span data-reactid=\"380\" itemprop=\"ratingValue\">\n",
      "            3.5\n",
      "           </span>\n",
      "           <!-- react-text: 381 -->\n",
      "           /\n",
      "           <!-- /react-text -->\n",
      "           <span data-reactid=\"382\" itemprop=\"bestRating\">\n",
      "            4\n",
      "           </span>\n",
      "           <meta content=\"0\" data-reactid=\"383\" itemprop=\"worstRating\"/>\n",
      "          </dd>\n",
      "          <dt class=\"reviews-count-label\" data-reactid=\"384\">\n",
      "           Reviews\n",
      "          </dt>\n",
      "          <dd class=\"reviews-count\" data-reactid=\"385\" itemprop=\"reviewCount\">\n",
      "           9\n",
      "          </dd>\n",
      "         </span>\n",
      "         <span class=\"make-again-container\" data-reactid=\"386\">\n",
      "          <dt class=\"make-again-percentage-label\" data-reactid=\"387\">\n",
      "           Percentage of reviewers who will make this recipe again\n",
      "          </dt>\n",
      "          <dd class=\"make-again-percentage\" data-reactid=\"388\">\n",
      "           <!-- react-text: 389 -->\n",
      "           100\n",
      "           <!-- /react-text -->\n",
      "           <!-- react-text: 390 -->\n",
      "           %\n",
      "           <!-- /react-text -->\n",
      "          </dd>\n",
      "         </span>\n",
      "        </dl>\n",
      "       </header>\n",
      "       <a class=\"photo-link\" data-reactid=\"391\" href=\"/recipes/food/views/scallop-and-corn-pot-stickers-11846\">\n",
      "        <div class=\"photo-wrap\" data-reactid=\"392\">\n",
      "         <div class=\"component-lazy pending\" data-component=\"Lazy\" data-reactid=\"393\">\n",
      "         </div>\n",
      "        </div>\n",
      "       </a>\n",
      "       <a class=\"view-complete-item\" data-reactid=\"394\" href=\"/recipes/food/views/scallop-and-corn-pot-stickers-11846\" itemprop=\"url\" title=\"Scallop and Corn Pot Stickers\">\n",
      "        <!-- react-text: 395 -->\n",
      "        View “\n",
      "        <!-- /react-text -->\n",
      "        <!-- react-text: 396 -->\n",
      "        Scallop and Corn Pot Stickers\n",
      "        <!-- /react-text -->\n",
      "        <!-- react-text: 397 -->\n",
      "        ”\n",
      "        <!-- /react-text -->\n",
      "       </a>\n",
      "       <div class=\"recipe-panel \" data-reactid=\"398\">\n",
      "        <a class=\"view-complete-item\" data-reactid=\"399\" href=\"/recipes/food/views/scallop-and-corn-pot-stickers-11846\">\n",
      "         View Recipe\n",
      "        </a>\n",
      "        <div class=\"controls\" data-reactid=\"400\">\n",
      "         <a class=\"show-quick-view\" data-reactid=\"401\" href=\"/recipes/food/views/scallop-and-corn-pot-stickers-11846\" title=\"Scallop and Corn Pot Stickers\">\n",
      "          Quick view\n",
      "         </a>\n",
      "         <a class=\"toggle-compare-state\" data-reactid=\"402\">\n",
      "          Compare Recipe\n",
      "         </a>\n",
      "        </div>\n",
      "       </div>\n",
      "      </article>\n",
      "      <footer class=\"results-group-footer\" data-reactid=\"403\">\n",
      "      </footer>\n",
      "     </div>\n",
      "     <nav class=\"common-pagination\" data-reactid=\"404\" data-total-pages=\"1\" role=\"navigation\">\n",
      "      <h6 class=\"nav-title\" data-reactid=\"405\">\n",
      "       Pagination\n",
      "      </h6>\n",
      "      <span class=\"the-current-page\" data-reactid=\"406\">\n",
      "       1\n",
      "      </span>\n",
      "     </nav>\n",
      "    </section>\n",
      "    <!-- react-text: 407 -->\n",
      "    <!-- /react-text -->\n",
      "    <!-- react-empty: 408 -->\n",
      "    <footer class=\"site-footer\" data-reactid=\"409\" role=\"contentinfo\">\n",
      "     <section class=\"corporate-info-wrap\" data-reactid=\"410\">\n",
      "      <span class=\"corporate-info\" data-reactid=\"411\">\n",
      "       <h3 class=\"section-title\" data-reactid=\"412\">\n",
      "        Condé Nast\n",
      "       </h3>\n",
      "       <nav aria-hidden=\"true\" class=\"conde-nast-brands\" data-reactid=\"413\">\n",
      "        <h4 class=\"nav-title\" data-reactid=\"414\">\n",
      "         Condé Nast Websites\n",
      "        </h4>\n",
      "        <ul class=\"conde-nast-brands-list\" data-reactid=\"415\">\n",
      "         <li data-reactid=\"416\">\n",
      "          <a class=\"conde-nast-brand\" data-reactid=\"417\" data-track-location=\"footer\" data-track-source=\"navigation\" href=\"http://www.allure.com\" rel=\"noopener noreferrer\" target=\"_blank\" title=\"Allure\">\n",
      "           Allure\n",
      "          </a>\n",
      "         </li>\n",
      "         <li data-reactid=\"418\">\n",
      "          <a class=\"conde-nast-brand\" data-reactid=\"419\" data-track-location=\"footer\" data-track-source=\"navigation\" href=\"http://www.architecturaldigest.com\" rel=\"noopener noreferrer\" target=\"_blank\" title=\"Architectural Digest\">\n",
      "           Architectural Digest\n",
      "          </a>\n",
      "         </li>\n",
      "         <li data-reactid=\"420\">\n",
      "          <a class=\"conde-nast-brand\" data-reactid=\"421\" data-track-location=\"footer\" data-track-source=\"navigation\" href=\"http://www.arstechnica.com\" rel=\"noopener noreferrer\" target=\"_blank\" title=\"Ars Technica\">\n",
      "           Ars Technica\n",
      "          </a>\n",
      "         </li>\n",
      "         <li data-reactid=\"422\">\n",
      "          <a class=\"conde-nast-brand\" data-reactid=\"423\" data-track-location=\"footer\" data-track-source=\"navigation\" href=\"http://www.bonappetit.com\" rel=\"noopener noreferrer\" target=\"_blank\" title=\"Bon Appétit\">\n",
      "           Bon Appétit\n",
      "          </a>\n",
      "         </li>\n",
      "         <li data-reactid=\"424\">\n",
      "          <a class=\"conde-nast-brand\" data-reactid=\"425\" data-track-location=\"footer\" data-track-source=\"navigation\" href=\"http://www.brides.com\" rel=\"noopener noreferrer\" target=\"_blank\" title=\"Brides.com\">\n",
      "           Brides.com\n",
      "          </a>\n",
      "         </li>\n",
      "         <li data-reactid=\"426\">\n",
      "          <a class=\"conde-nast-brand\" data-reactid=\"427\" data-track-location=\"footer\" data-track-source=\"navigation\" href=\"http://www.concierge.com/cntraveler\" rel=\"noopener noreferrer\" target=\"_blank\" title=\"Condé Nast Traveler\">\n",
      "           Condé Nast Traveler\n",
      "          </a>\n",
      "         </li>\n",
      "         <li data-reactid=\"428\">\n",
      "          <a class=\"conde-nast-brand\" data-reactid=\"429\" data-track-location=\"footer\" data-track-source=\"navigation\" href=\"http://www.concierge.com\" rel=\"noopener noreferrer\" target=\"_blank\" title=\"Concierge\">\n",
      "           Concierge\n",
      "          </a>\n",
      "         </li>\n",
      "         <li data-reactid=\"430\">\n",
      "          <a class=\"conde-nast-brand\" data-reactid=\"431\" data-track-location=\"footer\" data-track-source=\"navigation\" href=\"http://www.details.com\" rel=\"noopener noreferrer\" target=\"_blank\" title=\"Details\">\n",
      "           Details\n",
      "          </a>\n",
      "         </li>\n",
      "         <li data-reactid=\"432\">\n",
      "          <a class=\"conde-nast-brand\" data-reactid=\"433\" data-track-location=\"footer\" data-track-source=\"navigation\" href=\"http://www.glamour.com\" rel=\"noopener noreferrer\" target=\"_blank\" title=\"Glamour\">\n",
      "           Glamour\n",
      "          </a>\n",
      "         </li>\n",
      "         <li data-reactid=\"434\">\n",
      "          <a class=\"conde-nast-brand\" data-reactid=\"435\" data-track-location=\"footer\" data-track-source=\"navigation\" href=\"http://www.golfdigest.com\" rel=\"noopener noreferrer\" target=\"_blank\" title=\"Golf Digest\">\n",
      "           Golf Digest\n",
      "          </a>\n",
      "         </li>\n",
      "         <li data-reactid=\"436\">\n",
      "          <a class=\"conde-nast-brand\" data-reactid=\"437\" data-track-location=\"footer\" data-track-source=\"navigation\" href=\"http://www.golfworld.com\" rel=\"noopener noreferrer\" target=\"_blank\" title=\"Golf World\">\n",
      "           Golf World\n",
      "          </a>\n",
      "         </li>\n",
      "         <li data-reactid=\"438\">\n",
      "          <a class=\"conde-nast-brand\" data-reactid=\"439\" data-track-location=\"footer\" data-track-source=\"navigation\" href=\"http://www.gq.com\" rel=\"noopener noreferrer\" target=\"_blank\" title=\"GQ\">\n",
      "           GQ\n",
      "          </a>\n",
      "         </li>\n",
      "         <li data-reactid=\"440\">\n",
      "          <a class=\"conde-nast-brand\" data-reactid=\"441\" data-track-location=\"footer\" data-track-source=\"navigation\" href=\"http://www.hotelchatter.com\" rel=\"noopener noreferrer\" target=\"_blank\" title=\"Hotel Chatter\">\n",
      "           Hotel Chatter\n",
      "          </a>\n",
      "         </li>\n",
      "         <li data-reactid=\"442\">\n",
      "          <a class=\"conde-nast-brand\" data-reactid=\"443\" data-track-location=\"footer\" data-track-source=\"navigation\" href=\"http://www.jaunted.com\" rel=\"noopener noreferrer\" target=\"_blank\" title=\"Jaunted\">\n",
      "           Jaunted\n",
      "          </a>\n",
      "         </li>\n",
      "         <li data-reactid=\"444\">\n",
      "          <a class=\"conde-nast-brand\" data-reactid=\"445\" data-track-location=\"footer\" data-track-source=\"navigation\" href=\"http://www.luckymag.com\" rel=\"noopener noreferrer\" target=\"_blank\" title=\"Lucky\">\n",
      "           Lucky\n",
      "          </a>\n",
      "         </li>\n",
      "         <li data-reactid=\"446\">\n",
      "          <a class=\"conde-nast-brand\" data-reactid=\"447\" data-track-location=\"footer\" data-track-source=\"navigation\" href=\"http://www.nutritiondata.com\" rel=\"noopener noreferrer\" target=\"_blank\" title=\"NutritionData\">\n",
      "           NutritionData\n",
      "          </a>\n",
      "         </li>\n",
      "         <li data-reactid=\"448\">\n",
      "          <a class=\"conde-nast-brand\" data-reactid=\"449\" data-track-location=\"footer\" data-track-source=\"navigation\" href=\"http://www.reddit.com\" rel=\"noopener noreferrer\" target=\"_blank\" title=\"Reddit\">\n",
      "           Reddit\n",
      "          </a>\n",
      "         </li>\n",
      "         <li data-reactid=\"450\">\n",
      "          <a class=\"conde-nast-brand\" data-reactid=\"451\" data-track-location=\"footer\" data-track-source=\"navigation\" href=\"http://www.self.com\" rel=\"noopener noreferrer\" target=\"_blank\" title=\"Self\">\n",
      "           Self\n",
      "          </a>\n",
      "         </li>\n",
      "         <li data-reactid=\"452\">\n",
      "          <a class=\"conde-nast-brand\" data-reactid=\"453\" data-track-location=\"footer\" data-track-source=\"navigation\" href=\"http://www.style.com\" rel=\"noopener noreferrer\" target=\"_blank\" title=\"Style\">\n",
      "           Style\n",
      "          </a>\n",
      "         </li>\n",
      "         <li data-reactid=\"454\">\n",
      "          <a class=\"conde-nast-brand\" data-reactid=\"455\" data-track-location=\"footer\" data-track-source=\"navigation\" href=\"http://www.teenvogue.com\" rel=\"noopener noreferrer\" target=\"_blank\" title=\"Teen Vogue\">\n",
      "           Teen Vogue\n",
      "          </a>\n",
      "         </li>\n",
      "         <li data-reactid=\"456\">\n",
      "          <a class=\"conde-nast-brand\" data-reactid=\"457\" data-track-location=\"footer\" data-track-source=\"navigation\" href=\"http://www.newyorker.com\" rel=\"noopener noreferrer\" target=\"_blank\" title=\"The New Yorker\">\n",
      "           The New Yorker\n",
      "          </a>\n",
      "         </li>\n",
      "         <li data-reactid=\"458\">\n",
      "          <a class=\"conde-nast-brand\" data-reactid=\"459\" data-track-location=\"footer\" data-track-source=\"navigation\" href=\"http://thescene.com\" rel=\"noopener noreferrer\" target=\"_blank\" title=\"The Scene\">\n",
      "           The Scene\n",
      "          </a>\n",
      "         </li>\n",
      "         <li data-reactid=\"460\">\n",
      "          <a class=\"conde-nast-brand\" data-reactid=\"461\" data-track-location=\"footer\" data-track-source=\"navigation\" href=\"http://www.vanityfair.com\" rel=\"noopener noreferrer\" target=\"_blank\" title=\"Vanity Fair\">\n",
      "           Vanity Fair\n",
      "          </a>\n",
      "         </li>\n",
      "         <li data-reactid=\"462\">\n",
      "          <a class=\"conde-nast-brand\" data-reactid=\"463\" data-track-location=\"footer\" data-track-source=\"navigation\" href=\"http://www.vegaschatter.com\" rel=\"noopener noreferrer\" target=\"_blank\" title=\"Vegas Chatter\">\n",
      "           Vegas Chatter\n",
      "          </a>\n",
      "         </li>\n",
      "         <li data-reactid=\"464\">\n",
      "          <a class=\"conde-nast-brand\" data-reactid=\"465\" data-track-location=\"footer\" data-track-source=\"navigation\" href=\"http://www.vogue.com\" rel=\"noopener noreferrer\" target=\"_blank\" title=\"Vogue\">\n",
      "           Vogue\n",
      "          </a>\n",
      "         </li>\n",
      "         <li data-reactid=\"466\">\n",
      "          <a class=\"conde-nast-brand\" data-reactid=\"467\" data-track-location=\"footer\" data-track-source=\"navigation\" href=\"http://www.wmagazine.com\" rel=\"noopener noreferrer\" target=\"_blank\" title=\"W\">\n",
      "           W\n",
      "          </a>\n",
      "         </li>\n",
      "         <li data-reactid=\"468\">\n",
      "          <a class=\"conde-nast-brand\" data-reactid=\"469\" data-track-location=\"footer\" data-track-source=\"navigation\" href=\"http://www.wired.com\" rel=\"noopener noreferrer\" target=\"_blank\" title=\"Wired\">\n",
      "           Wired\n",
      "          </a>\n",
      "         </li>\n",
      "        </ul>\n",
      "       </nav>\n",
      "       <nav class=\"conde-nast-services\" data-reactid=\"470\">\n",
      "        <h4 class=\"nav-title\" data-reactid=\"471\">\n",
      "         Condé Nast Services\n",
      "        </h4>\n",
      "        <ul data-reactid=\"472\">\n",
      "         <li data-reactid=\"473\">\n",
      "          <a class=\"conde-nast-service\" data-reactid=\"474\" data-track-location=\"footer\" data-track-source=\"navigation\" href=\"/services/subscriptions\" title=\"Subscription Services\">\n",
      "           Subscription Services\n",
      "          </a>\n",
      "         </li>\n",
      "         <li data-reactid=\"475\">\n",
      "          <a class=\"conde-nast-service\" data-reactid=\"476\" data-track-location=\"footer\" data-track-source=\"navigation\" href=\"http://www.condenast.com/careers\" rel=\"noopener noreferrer\" target=\"_blank\" title=\"Condé Nast Careers\">\n",
      "           Careers\n",
      "          </a>\n",
      "         </li>\n",
      "         <li data-reactid=\"477\">\n",
      "          <a class=\"conde-nast-service\" data-reactid=\"478\" data-track-location=\"footer\" data-track-source=\"navigation\" href=\"http://www.condenaststore.com/\" rel=\"noopener noreferrer\" target=\"_blank\" title=\"Condé Nast Store\">\n",
      "           Condé Nast Store\n",
      "          </a>\n",
      "         </li>\n",
      "         <li data-reactid=\"479\">\n",
      "          <a class=\"conde-nast-service\" data-reactid=\"480\" data-track-location=\"footer\" data-track-source=\"navigation\" href=\"http://www.condenast.com/reprints-permissions\" rel=\"noopener noreferrer\" target=\"_blank\" title=\"Reprints/Permissions\">\n",
      "           Reprints/Permissions\n",
      "          </a>\n",
      "         </li>\n",
      "        </ul>\n",
      "       </nav>\n",
      "       <article class=\"legal-notice\" data-reactid=\"481\">\n",
      "        <h4 class=\"title\" data-reactid=\"482\">\n",
      "         Legal Notice\n",
      "        </h4>\n",
      "        <p data-reactid=\"483\">\n",
      "         <!-- react-text: 484 -->\n",
      "         ©\n",
      "         <!-- /react-text -->\n",
      "         <!-- react-text: 485 -->\n",
      "         2019\n",
      "         <!-- /react-text -->\n",
      "         <!-- react-text: 486 -->\n",
      "         Condé Nast. All rights reserved.\n",
      "         <!-- /react-text -->\n",
      "        </p>\n",
      "        <p data-reactid=\"487\">\n",
      "         <!-- react-text: 488 -->\n",
      "         Use of and/or registration on any portion of this site constitutes acceptance of our\n",
      "         <!-- /react-text -->\n",
      "         <a data-reactid=\"489\" data-track-location=\"footer\" data-track-source=\"navigation\" href=\"http://www.condenast.com/privacy-policy\" rel=\"noopener noreferrer\" target=\"_blank\" title=\"User Agreement\">\n",
      "          User Agreement\n",
      "         </a>\n",
      "         <!-- react-text: 490 -->\n",
      "         (updated 5/25/18) and\n",
      "         <!-- /react-text -->\n",
      "         <a data-reactid=\"491\" data-track-location=\"footer\" data-track-source=\"navigation\" href=\"http://www.condenast.com/privacy-policy#privacypolicy\" rel=\"noopener noreferrer\" target=\"_blank\" title=\"Privacy Policy\">\n",
      "          Privacy Policy and Cookie Statement\n",
      "         </a>\n",
      "         <!-- react-text: 492 -->\n",
      "         (updated 5/25/18).\n",
      "         <!-- /react-text -->\n",
      "        </p>\n",
      "        <p data-reactid=\"493\">\n",
      "         <a data-reactid=\"494\" data-track-location=\"footer\" data-track-source=\"navigation\" href=\"http://www.condenast.com/privacy-policy#privacypolicy-california\" rel=\"noopener noreferrer\" target=\"_blank\" title=\"Your California Privacy Rights\">\n",
      "          Your California Privacy Rights\n",
      "         </a>\n",
      "        </p>\n",
      "        <p data-reactid=\"495\">\n",
      "         The material on this site may not be reproduced, distributed, transmitted, cached or otherwise used, except with the prior written permission of Condé Nast.\n",
      "        </p>\n",
      "        <a class=\"ad-choice\" data-reactid=\"496\" data-track-location=\"footer\" data-track-source=\"navigation\" href=\"http://www.condenast.com/online-behavioral-advertising-oba-and-how-to-opt-out-of-oba/#clickheretoreadmoreaboutonlinebehavioraladvertising(oba)\" rel=\"noopener noreferrer\" target=\"_blank\" title=\"Ad Choices\">\n",
      "         Ad Choices\n",
      "        </a>\n",
      "       </article>\n",
      "      </span>\n",
      "     </section>\n",
      "    </footer>\n",
      "    <!-- react-empty: 497 -->\n",
      "    <!-- react-empty: 498 -->\n",
      "   </span>\n",
      "  </span>\n",
      "  <div aria-hidden=\"true\" aria-labelledby=\"cnid-modalLabel\" class=\"modal cnid-modal hide fade\" id=\"cnid-modal\" role=\"dialog\" tabindex=\"-1\">\n",
      "   <div class=\"frameContainer modal-body cnid-modal-body cnid-ios-scroll\">\n",
      "    <button aria-hidden=\"true\" class=\"close cnid-close\" data-dismiss=\"modal\" type=\"button\">\n",
      "     x\n",
      "    </button>\n",
      "    <iframe class=\"cnid-signin-iframe\" frameborder=\"0\" height=\"100%\" id=\"cnidClient\" marginheight=\"0\" marginwidth=\"0\" src=\"\" width=\"100%\">\n",
      "    </iframe>\n",
      "   </div>\n",
      "   <!-- loader overlay -->\n",
      "   <div class=\"loader-container hide\">\n",
      "    <div class=\"cnid-overlay-bg\">\n",
      "    </div>\n",
      "    <div class=\"cnid-loader\">\n",
      "     <img src=\"https://cnid.condenastdigital.com/client/assets/img/spinner.gif\"/>\n",
      "    </div>\n",
      "   </div>\n",
      "   <!-- alerts overlay -->\n",
      "   <!-- overlay is used to display screen centered server-side error messages on mobile devices -->\n",
      "   <div class=\"cnid-alerts-container hide\">\n",
      "    <div class=\"cnid-overlay-bg\">\n",
      "    </div>\n",
      "    <div class=\"cnid-alert-message alert text-center alert-success\">\n",
      "     <p class=\"alert-txt\">\n",
      "     </p>\n",
      "     <button class=\"btn-conde okay-btn cnid-btn\" type=\"button\">\n",
      "      Okay\n",
      "     </button>\n",
      "    </div>\n",
      "   </div>\n",
      "  </div>\n",
      "  <div class=\"modal-backdrop\">\n",
      "  </div>\n",
      "  <script>\n",
      "   var _app = {\"ads\":{\"google\":{\"googleTagManagerId\":\"GTM-PCTXLQR\"}},\"cookieDomain\":\".epicurious.com\",\"endpoints\":{\"contextual\":\"/api/dataintelligence/v1/content/recommended\",\"rotd\":\"/api/content/v1/rotd/count/1\"},\"env\":\"PROD\",\"facebook\":{\"appId\":\"1636080783276430\"},\"https\":\"true\",\"media\":{\"bp\":{\"xs\":0,\"s\":600,\"m\":768,\"l\":1024,\"xl\":1360,\"w\":1710}},\"newsletters\":{\"current\":[{\"description\":\"Become a better cook instantly with this weekly report of our ten most helpful tips, tricks, and kitchen secrets. Don't miss it!\",\"id\":\"5\",\"name\":\"The Top Ten\"},{\"description\":\"Love recipes, but hate searching? We do the work for you. You'll get our favorite seasonal recipe plus collections of our exclusive editors' picks.\",\"id\":\"5117\",\"name\":\"Cook This Now\"},{\"description\":\"Get a daily dose of the hottest recipes from Epicurious, Bon Appétit, and other great sites.\",\"id\":\"195169\",\"name\":\"Trending Recipes\"},{\"id\":\"248781\",\"name\":\"Announcements\"},{\"id\":\"248789\",\"name\":\"Cook 90\"},{\"id\":\"248818\",\"name\":\"Diabetes Friendly\"},{\"id\":\"248842\",\"name\":\"Small Plates\"},{\"id\":\"248886\",\"name\":\"Well Equipped\"}]},\"server\":\"https://www.epicurious.com\",\"services\":{\"endpoints\":{\"articles\":{\"latest\":\"/api/search/v1/query?size=20&content=article&sort=newest&q=\"},\"branded\":{\"article\":\"/api/branded/v1/article/:brandCode/:slug\"},\"content\":{\"channel\":\"/api/content/v1/channel/\",\"component\":\"/api/content/v1/component\",\"contextual\":\"/api/dataintelligence/v1/content/recommended\",\"featuredIn\":\"/api/content/v1/featuredin/\",\"homepage\":\"/api/content/v1/homepage\",\"latestRecipes\":\"/api/content/v1/component/latestrecipes\",\"memberLookup\":\"/api/users/v2/user/\",\"navItems\":\"/api/content/v1/component/navitems\",\"nutritionalInfo\":\"/api/nutritiondata/v2/\",\"reviews\":\"/api/recipes/v2/\",\"reviewsFeed\":\"/api/recipes/v3/\",\"reviewsSuffix\":\"/reviews\",\"reviewsFeedSuffix\":\"/reviews/feed\",\"rotd\":\"/api/content/v1/rotd/count/1\",\"search\":\"/api/content/v1/search\",\"videoSearchByKeywords\":\"/api/video/v1/keywords/\"},\"contributors\":{\"details\":\"/api/contributors/v1/:contributor/bundle\",\"feed\":\"/api/contributors/v1/:contributor/feed\"},\"cookbooks\":{\"details\":\"/api/cookbooks/v1/:slug\",\"index\":\"/api/cookbooks/v1\"},\"menus\":{\"details\":\"/api/users/v1/:userId/menus/:menuId\",\"index\":\"/api/users/v1/:userId/menus\"},\"photos\":{\"instagramPosts\":\"/api/instagram/v1\",\"menuCover\":\"/api/photos/v1/menu-cover\",\"searchCard\":\"/api/photos/v1/search-card\",\"searchUtility\":\"/api/photos/v1/search-utility\"},\"recipeBox\":{\"search\":\"/api/recipe-box/v1/:userId/search/:term\"},\"recipes\":{\"byKeywords\":\"/api/recipes/v2/keywords/\",\"byKeywordsForMenus\":\"/api/menus/v1/keywords/\",\"latest\":\"/api/recipes/v2/latest\"},\"search\":{\"details\":\"/api/recipes/v3/detail\",\"facets\":\"/api/search/v1/facets\",\"query\":\"/api/search/v1/query\",\"suggest\":\"/api/search/v1/suggest\"},\"users\":{\"authenticate\":\"/api/users/v2/authenticate\",\"info\":\"/api/users/v2/user/:uuid\",\"newsletterSubscriptions\":\"/api/newsletters/v1/subscription/:email\",\"recipeBoxSearch\":\"/api/users/v1/:userId/recipe-box/search/:query\",\"recipes\":\"/api/users/v1/:userId/recipes\",\"reviews\":\"/api/users/v1/:userId/reviews\",\"updateEmail\":\"/api/users/v2/user/email\",\"updatePassword\":\"/api/users/v2/user/password\",\"updateUsername\":\"/api/users/v2/user/displayname\",\"updateSettings\":\"/api/users/v2/user\"}}},\"servicesHost\":\"https://services.epicurious.com\",\"simpleReach\":{\"pid\":\"570d6b7d736b79bf1d000d27\"},\"user\":{\"cookies\":{\"keys\":{\"id\":\"amg_user_partner\",\"username\":\"amg_user_info\"},\"names\":[\"amg_user_ext\",\"amg_user_info\",\"amg_user_partner\",\"amg_user_update\",\"cn_uid\",\"CN_userAuth\"]},\"email\":{\"regExp\":{}},\"password\":{\"regExp\":{},\"messages\":{\"requirements\":\"A password must be at least 6 characters long. It cannot begin or end with a space.\"}},\"serviceKey\":\"NtibqP3y1qSJM/Gsy3blJgNWt/o=\",\"serviceHost\":\"https://user-service.condenastdigital.com\"},\"userServiceHost\":\"https://user-service.condenastdigital.com\",\"userServiceKey\":\"NtibqP3y1qSJM/Gsy3blJgNWt/o=\",\"vulcan\":{\"host\":\"https://assets.epicurious.com\",\"path\":\"/photos/\"}};\n",
      "  </script>\n",
      "  <script type=\"text/javascript\">\n",
      "   window._state = \"%7B%22context%22%3A%7B%22dispatcher%22%3A%7B%22stores%22%3A%7B%22AdStore%22%3A%7B%22displayLeaderboard%22%3Atrue%2C%22pageCreated%22%3Afalse%2C%22pageSlots%22%3A%7B%7D%2C%22env%22%3A%22development%22%2C%22pageConfig%22%3A%7B%22channel%22%3A%22search%22%2C%22slug%22%3A%22search%22%2C%22sub_channel%22%3A%22%22%2C%22targeting%22%3A%7B%22tags%22%3A%5B%22search%22%5D%7D%2C%22templateType%22%3A%22%22%7D%7D%2C%22ApplicationStore%22%3A%7B%22analyticsLocation%22%3A%22section1%22%2C%22analyticsSource%22%3A%22section1%22%2C%22config%22%3A%7B%22ads%22%3A%7B%22google%22%3A%7B%22googleTagManagerId%22%3A%22GTM-PCTXLQR%22%7D%7D%2C%22cookieDomain%22%3A%22.epicurious.com%22%2C%22endpoints%22%3A%7B%22contextual%22%3A%22%2Fapi%2Fdataintelligence%2Fv1%2Fcontent%2Frecommended%22%2C%22rotd%22%3A%22%2Fapi%2Fcontent%2Fv1%2Frotd%2Fcount%2F1%22%7D%2C%22env%22%3A%22PROD%22%2C%22facebook%22%3A%7B%22appId%22%3A%221636080783276430%22%7D%2C%22https%22%3A%22true%22%2C%22media%22%3A%7B%22bp%22%3A%7B%22xs%22%3A0%2C%22s%22%3A600%2C%22m%22%3A768%2C%22l%22%3A1024%2C%22xl%22%3A1360%2C%22w%22%3A1710%7D%7D%2C%22newsletters%22%3A%7B%22current%22%3A%5B%7B%22description%22%3A%22Become%20a%20better%20cook%20instantly%20with%20this%20weekly%20report%20of%20our%20ten%20most%20helpful%20tips%2C%20tricks%2C%20and%20kitchen%20secrets.%20Don't%20miss%20it!%22%2C%22id%22%3A%225%22%2C%22name%22%3A%22The%20Top%20Ten%22%7D%2C%7B%22description%22%3A%22Love%20recipes%2C%20but%20hate%20searching%3F%20We%20do%20the%20work%20for%20you.%20You'll%20get%20our%20favorite%20seasonal%20recipe%20plus%20collections%20of%20our%20exclusive%20editors'%20picks.%22%2C%22id%22%3A%225117%22%2C%22name%22%3A%22Cook%20This%20Now%22%7D%2C%7B%22description%22%3A%22Get%20a%20daily%20dose%20of%20the%20hottest%20recipes%20from%20Epicurious%2C%20Bon%20App%C3%A9tit%2C%20and%20other%20great%20sites.%22%2C%22id%22%3A%22195169%22%2C%22name%22%3A%22Trending%20Recipes%22%7D%2C%7B%22id%22%3A%22248781%22%2C%22name%22%3A%22Announcements%22%7D%2C%7B%22id%22%3A%22248789%22%2C%22name%22%3A%22Cook%2090%22%7D%2C%7B%22id%22%3A%22248818%22%2C%22name%22%3A%22Diabetes%20Friendly%22%7D%2C%7B%22id%22%3A%22248842%22%2C%22name%22%3A%22Small%20Plates%22%7D%2C%7B%22id%22%3A%22248886%22%2C%22name%22%3A%22Well%20Equipped%22%7D%5D%7D%2C%22server%22%3A%22https%3A%2F%2Fwww.epicurious.com%22%2C%22services%22%3A%7B%22endpoints%22%3A%7B%22articles%22%3A%7B%22latest%22%3A%22%2Fapi%2Fsearch%2Fv1%2Fquery%3Fsize%3D20%26content%3Darticle%26sort%3Dnewest%26q%3D%22%7D%2C%22branded%22%3A%7B%22article%22%3A%22%2Fapi%2Fbranded%2Fv1%2Farticle%2F%3AbrandCode%2F%3Aslug%22%7D%2C%22content%22%3A%7B%22channel%22%3A%22%2Fapi%2Fcontent%2Fv1%2Fchannel%2F%22%2C%22component%22%3A%22%2Fapi%2Fcontent%2Fv1%2Fcomponent%22%2C%22contextual%22%3A%22%2Fapi%2Fdataintelligence%2Fv1%2Fcontent%2Frecommended%22%2C%22featuredIn%22%3A%22%2Fapi%2Fcontent%2Fv1%2Ffeaturedin%2F%22%2C%22homepage%22%3A%22%2Fapi%2Fcontent%2Fv1%2Fhomepage%22%2C%22latestRecipes%22%3A%22%2Fapi%2Fcontent%2Fv1%2Fcomponent%2Flatestrecipes%22%2C%22memberLookup%22%3A%22%2Fapi%2Fusers%2Fv2%2Fuser%2F%22%2C%22navItems%22%3A%22%2Fapi%2Fcontent%2Fv1%2Fcomponent%2Fnavitems%22%2C%22nutritionalInfo%22%3A%22%2Fapi%2Fnutritiondata%2Fv2%2F%22%2C%22reviews%22%3A%22%2Fapi%2Frecipes%2Fv2%2F%22%2C%22reviewsFeed%22%3A%22%2Fapi%2Frecipes%2Fv3%2F%22%2C%22reviewsSuffix%22%3A%22%2Freviews%22%2C%22reviewsFeedSuffix%22%3A%22%2Freviews%2Ffeed%22%2C%22rotd%22%3A%22%2Fapi%2Fcontent%2Fv1%2Frotd%2Fcount%2F1%22%2C%22search%22%3A%22%2Fapi%2Fcontent%2Fv1%2Fsearch%22%2C%22videoSearchByKeywords%22%3A%22%2Fapi%2Fvideo%2Fv1%2Fkeywords%2F%22%7D%2C%22contributors%22%3A%7B%22details%22%3A%22%2Fapi%2Fcontributors%2Fv1%2F%3Acontributor%2Fbundle%22%2C%22feed%22%3A%22%2Fapi%2Fcontributors%2Fv1%2F%3Acontributor%2Ffeed%22%7D%2C%22cookbooks%22%3A%7B%22details%22%3A%22%2Fapi%2Fcookbooks%2Fv1%2F%3Aslug%22%2C%22index%22%3A%22%2Fapi%2Fcookbooks%2Fv1%22%7D%2C%22menus%22%3A%7B%22details%22%3A%22%2Fapi%2Fusers%2Fv1%2F%3AuserId%2Fmenus%2F%3AmenuId%22%2C%22index%22%3A%22%2Fapi%2Fusers%2Fv1%2F%3AuserId%2Fmenus%22%7D%2C%22photos%22%3A%7B%22instagramPosts%22%3A%22%2Fapi%2Finstagram%2Fv1%22%2C%22menuCover%22%3A%22%2Fapi%2Fphotos%2Fv1%2Fmenu-cover%22%2C%22searchCard%22%3A%22%2Fapi%2Fphotos%2Fv1%2Fsearch-card%22%2C%22searchUtility%22%3A%22%2Fapi%2Fphotos%2Fv1%2Fsearch-utility%22%7D%2C%22recipeBox%22%3A%7B%22search%22%3A%22%2Fapi%2Frecipe-box%2Fv1%2F%3AuserId%2Fsearch%2F%3Aterm%22%7D%2C%22recipes%22%3A%7B%22byKeywords%22%3A%22%2Fapi%2Frecipes%2Fv2%2Fkeywords%2F%22%2C%22byKeywordsForMenus%22%3A%22%2Fapi%2Fmenus%2Fv1%2Fkeywords%2F%22%2C%22latest%22%3A%22%2Fapi%2Frecipes%2Fv2%2Flatest%22%7D%2C%22search%22%3A%7B%22details%22%3A%22%2Fapi%2Frecipes%2Fv3%2Fdetail%22%2C%22facets%22%3A%22%2Fapi%2Fsearch%2Fv1%2Ffacets%22%2C%22query%22%3A%22%2Fapi%2Fsearch%2Fv1%2Fquery%22%2C%22suggest%22%3A%22%2Fapi%2Fsearch%2Fv1%2Fsuggest%22%7D%2C%22users%22%3A%7B%22authenticate%22%3A%22%2Fapi%2Fusers%2Fv2%2Fauthenticate%22%2C%22info%22%3A%22%2Fapi%2Fusers%2Fv2%2Fuser%2F%3Auuid%22%2C%22newsletterSubscriptions%22%3A%22%2Fapi%2Fnewsletters%2Fv1%2Fsubscription%2F%3Aemail%22%2C%22recipeBoxSearch%22%3A%22%2Fapi%2Fusers%2Fv1%2F%3AuserId%2Frecipe-box%2Fsearch%2F%3Aquery%22%2C%22recipes%22%3A%22%2Fapi%2Fusers%2Fv1%2F%3AuserId%2Frecipes%22%2C%22reviews%22%3A%22%2Fapi%2Fusers%2Fv1%2F%3AuserId%2Freviews%22%2C%22updateEmail%22%3A%22%2Fapi%2Fusers%2Fv2%2Fuser%2Femail%22%2C%22updatePassword%22%3A%22%2Fapi%2Fusers%2Fv2%2Fuser%2Fpassword%22%2C%22updateUsername%22%3A%22%2Fapi%2Fusers%2Fv2%2Fuser%2Fdisplayname%22%2C%22updateSettings%22%3A%22%2Fapi%2Fusers%2Fv2%2Fuser%22%7D%7D%7D%2C%22servicesHost%22%3A%22https%3A%2F%2Fservices.epicurious.com%22%2C%22simpleReach%22%3A%7B%22pid%22%3A%22570d6b7d736b79bf1d000d27%22%7D%2C%22user%22%3A%7B%22cookies%22%3A%7B%22keys%22%3A%7B%22id%22%3A%22amg_user_partner%22%2C%22username%22%3A%22amg_user_info%22%7D%2C%22names%22%3A%5B%22amg_user_ext%22%2C%22amg_user_info%22%2C%22amg_user_partner%22%2C%22amg_user_update%22%2C%22cn_uid%22%2C%22CN_userAuth%22%5D%7D%2C%22email%22%3A%7B%22regExp%22%3A%7B%7D%7D%2C%22password%22%3A%7B%22regExp%22%3A%7B%7D%2C%22messages%22%3A%7B%22requirements%22%3A%22A%20password%20must%20be%20at%20least%206%20characters%20long.%20It%20cannot%20begin%20or%20end%20with%20a%20space.%22%7D%7D%2C%22serviceKey%22%3A%22NtibqP3y1qSJM%2FGsy3blJgNWt%2Fo%3D%22%2C%22serviceHost%22%3A%22https%3A%2F%2Fuser-service.condenastdigital.com%22%7D%2C%22userServiceHost%22%3A%22https%3A%2F%2Fuser-service.condenastdigital.com%22%2C%22userServiceKey%22%3A%22NtibqP3y1qSJM%2FGsy3blJgNWt%2Fo%3D%22%2C%22vulcan%22%3A%7B%22host%22%3A%22https%3A%2F%2Fassets.epicurious.com%22%2C%22path%22%3A%22%2Fphotos%2F%22%7D%7D%2C%22pageName%22%3A%22search%22%2C%22siteFooter%22%3A%7B%22hasEpicuriousLinks%22%3Afalse%7D%7D%2C%22SearchStore%22%3A%7B%22activeFilters%22%3A%5B%5D%2C%22stagedFilters%22%3A%5B%5D%2C%22activeFilterGroup%22%3A%22%22%2C%22includeIngredients%22%3A%5B%5D%2C%22excludeIngredients%22%3A%5B%5D%2C%22stagedIncludeIngredients%22%3A%5B%5D%2C%22stagedExcludeIngredients%22%3A%5B%5D%2C%22api%22%3A%7B%22detailsUri%22%3A%22https%3A%2F%2Fservices.epicurious.com%2Fapi%2Frecipes%2Fv3%2Fdetail%22%2C%22facetUri%22%3A%22https%3A%2F%2Fservices.epicurious.com%2Fapi%2Fsearch%2Fv1%2Ffacets%22%2C%22searchUri%22%3A%22https%3A%2F%2Fservices.epicurious.com%2Fapi%2Fsearch%2Fv1%2Fquery%22%2C%22suggestUri%22%3A%22https%3A%2F%2Fservices.epicurious.com%2Fapi%2Fsearch%2Fv1%2Fsuggest%22%7D%2C%22compareRecipes%22%3A%5B%5D%2C%22numFound%22%3A12%2C%22moreResults%22%3Afalse%2C%22newSearch%22%3Afalse%2C%22page%22%3A%7B%22generatedAt%22%3A%222019-06-03T15%3A09%3A19.576Z%22%2C%22count%22%3A1%2C%22number%22%3A1%2C%22size%22%3A18%2C%22totalCount%22%3A12%2C%22previousNumber%22%3A1%7D%2C%22exclusiveFilters%22%3A%7B%7D%2C%22facets%22%3A%7B%22technique%22%3A%7B%22grill-barbecue%22%3A%7B%22id%22%3A%22grill-barbecue%22%2C%22name%22%3A%22Barbecue%22%2C%22orderCount%22%3A0%2C%22count%22%3A0%7D%2C%22bake%22%3A%7B%22id%22%3A%22bake%22%2C%22name%22%3A%22Bake%22%2C%22orderCount%22%3A0%2C%22count%22%3A3%7D%2C%22roast%22%3A%7B%22id%22%3A%22roast%22%2C%22name%22%3A%22Roast%22%2C%22orderCount%22%3A0%2C%22count%22%3A0%7D%2C%22braise%22%3A%7B%22id%22%3A%22braise%22%2C%22name%22%3A%22Braise%22%2C%22orderCount%22%3A0%2C%22count%22%3A0%7D%2C%22saute%22%3A%7B%22id%22%3A%22saute%22%2C%22name%22%3A%22Saut%C3%A9%22%2C%22orderCount%22%3A0%2C%22count%22%3A0%7D%2C%22no-cook%22%3A%7B%22id%22%3A%22no-cook%22%2C%22name%22%3A%22No-Cook%22%2C%22orderCount%22%3A0%2C%22count%22%3A0%7D%2C%22stir-fry%22%3A%7B%22id%22%3A%22stir-fry%22%2C%22name%22%3A%22Stir-Fry%22%2C%22orderCount%22%3A0%2C%22count%22%3A1%7D%2C%22pan-fry%22%3A%7B%22id%22%3A%22pan-fry%22%2C%22name%22%3A%22Pan-Fry%22%2C%22orderCount%22%3A0%2C%22count%22%3A0%7D%2C%22marinate%22%3A%7B%22id%22%3A%22marinate%22%2C%22name%22%3A%22Marinate%22%2C%22orderCount%22%3A0%2C%22count%22%3A2%7D%2C%22broil%22%3A%7B%22id%22%3A%22broil%22%2C%22name%22%3A%22Broil%22%2C%22orderCount%22%3A0%2C%22count%22%3A0%7D%2C%22stew%22%3A%7B%22id%22%3A%22stew%22%2C%22name%22%3A%22Stew%22%2C%22orderCount%22%3A0%2C%22count%22%3A0%7D%2C%22fry%22%3A%7B%22id%22%3A%22fry%22%2C%22name%22%3A%22Fry%22%2C%22orderCount%22%3A0%2C%22count%22%3A1%7D%2C%22chill%22%3A%7B%22id%22%3A%22chill%22%2C%22name%22%3A%22Chill%22%2C%22orderCount%22%3A0%2C%22count%22%3A9%7D%2C%22steam%22%3A%7B%22id%22%3A%22steam%22%2C%22name%22%3A%22Steam%22%2C%22orderCount%22%3A0%2C%22count%22%3A0%7D%2C%22simmer%22%3A%7B%22id%22%3A%22simmer%22%2C%22name%22%3A%22Simmer%22%2C%22orderCount%22%3A0%2C%22count%22%3A1%7D%2C%22poach%22%3A%7B%22id%22%3A%22poach%22%2C%22name%22%3A%22Poach%22%2C%22orderCount%22%3A0%2C%22count%22%3A0%7D%2C%22boil%22%3A%7B%22id%22%3A%22boil%22%2C%22name%22%3A%22Boil%22%2C%22orderCount%22%3A0%2C%22count%22%3A0%7D%2C%22brine%22%3A%7B%22id%22%3A%22brine%22%2C%22name%22%3A%22Brine%22%2C%22orderCount%22%3A0%2C%22count%22%3A0%7D%2C%22freeze-chill%22%3A%7B%22id%22%3A%22freeze-chill%22%2C%22name%22%3A%22Freeze%22%2C%22orderCount%22%3A0%2C%22count%22%3A1%7D%2C%22deep-fry%22%3A%7B%22id%22%3A%22deep-fry%22%2C%22name%22%3A%22Deep%20Fry%22%2C%22orderCount%22%3A0%2C%22count%22%3A0%7D%2C%22advance-prep-required%22%3A%7B%22id%22%3A%22advance-prep-required%22%2C%22name%22%3A%22Advance%20Prep%20Req'd%22%2C%22orderCount%22%3A0%2C%22count%22%3A2%7D%7D%2C%22meal%22%3A%7B%22dinner%22%3A%7B%22id%22%3A%22dinner%22%2C%22name%22%3A%22Dinner%22%2C%22orderCount%22%3A0%2C%22count%22%3A3%7D%2C%22dessert%22%3A%7B%22id%22%3A%22dessert%22%2C%22name%22%3A%22Dessert%22%2C%22orderCount%22%3A0%2C%22count%22%3A2%7D%2C%22appetizer%22%3A%7B%22id%22%3A%22appetizer%22%2C%22name%22%3A%22Appetizer%22%2C%22orderCount%22%3A0%2C%22count%22%3A2%7D%2C%22side%22%3A%7B%22id%22%3A%22side%22%2C%22name%22%3A%22Side%22%2C%22orderCount%22%3A0%2C%22count%22%3A3%7D%2C%22breakfast%22%3A%7B%22id%22%3A%22breakfast%22%2C%22name%22%3A%22Breakfast%22%2C%22orderCount%22%3A0%2C%22count%22%3A0%7D%2C%22lunch%22%3A%7B%22id%22%3A%22lunch%22%2C%22name%22%3A%22Lunch%22%2C%22orderCount%22%3A0%2C%22count%22%3A0%7D%2C%22brunch%22%3A%7B%22id%22%3A%22brunch%22%2C%22name%22%3A%22Brunch%22%2C%22orderCount%22%3A0%2C%22count%22%3A0%7D%2C%22buffet%22%3A%7B%22id%22%3A%22buffet%22%2C%22name%22%3A%22Buffet%22%2C%22orderCount%22%3A0%2C%22count%22%3A0%7D%7D%2C%22type%22%3A%7B%22soup-stew%22%3A%7B%22id%22%3A%22soup-stew%22%2C%22name%22%3A%22Soup%2FStew%22%2C%22orderCount%22%3A0%2C%22count%22%3A0%7D%2C%22salad%22%3A%7B%22id%22%3A%22salad%22%2C%22name%22%3A%22Salad%22%2C%22orderCount%22%3A0%2C%22count%22%3A1%7D%2C%22cookie%22%3A%7B%22id%22%3A%22cookie%22%2C%22name%22%3A%22Cookie%22%2C%22orderCount%22%3A0%2C%22count%22%3A0%7D%2C%22stuffing-dressing%22%3A%7B%22id%22%3A%22stuffing-dressing%22%2C%22name%22%3A%22Stuffing%2FDressing%22%2C%22orderCount%22%3A0%2C%22count%22%3A0%7D%2C%22cake%22%3A%7B%22id%22%3A%22cake%22%2C%22name%22%3A%22Cake%22%2C%22orderCount%22%3A0%2C%22count%22%3A0%7D%2C%22bread%22%3A%7B%22id%22%3A%22bread%22%2C%22name%22%3A%22Bread%22%2C%22orderCount%22%3A0%2C%22count%22%3A0%7D%2C%22edible-gift%22%3A%7B%22id%22%3A%22edible-gift%22%2C%22name%22%3A%22Edible%20Gift%22%2C%22orderCount%22%3A0%2C%22count%22%3A0%7D%2C%22sandwich%22%3A%7B%22id%22%3A%22sandwich%22%2C%22name%22%3A%22Sandwich%22%2C%22orderCount%22%3A0%2C%22count%22%3A0%7D%2C%22sauce%22%3A%7B%22id%22%3A%22sauce%22%2C%22name%22%3A%22Sauce%22%2C%22orderCount%22%3A0%2C%22count%22%3A1%7D%2C%22cocktail%22%3A%7B%22id%22%3A%22cocktail%22%2C%22name%22%3A%22Cocktail%22%2C%22orderCount%22%3A0%2C%22count%22%3A0%7D%2C%22candy%22%3A%7B%22id%22%3A%22candy%22%2C%22name%22%3A%22Candy%22%2C%22orderCount%22%3A0%2C%22count%22%3A0%7D%2C%22condiment-spread%22%3A%7B%22id%22%3A%22condiment-spread%22%2C%22name%22%3A%22Condiment%2FSpread%22%2C%22orderCount%22%3A0%2C%22count%22%3A1%7D%2C%22casserole-gratin%22%3A%7B%22id%22%3A%22casserole-gratin%22%2C%22name%22%3A%22Casserole%2FGratin%22%2C%22orderCount%22%3A0%2C%22count%22%3A0%7D%2C%22frozen-dessert%22%3A%7B%22id%22%3A%22frozen-dessert%22%2C%22name%22%3A%22Frozen%20Dessert%22%2C%22orderCount%22%3A0%2C%22count%22%3A0%7D%2C%22salad-dressing%22%3A%7B%22id%22%3A%22salad-dressing%22%2C%22name%22%3A%22Salad%20Dressing%22%2C%22orderCount%22%3A0%2C%22count%22%3A0%7D%2C%22pastry%22%3A%7B%22id%22%3A%22pastry%22%2C%22name%22%3A%22Pastry%22%2C%22orderCount%22%3A0%2C%22count%22%3A0%7D%2C%22ice-cream%22%3A%7B%22id%22%3A%22ice-cream%22%2C%22name%22%3A%22Ice%20Cream%22%2C%22orderCount%22%3A0%2C%22count%22%3A0%7D%2C%22sangria%22%3A%7B%22id%22%3A%22sangria%22%2C%22name%22%3A%22Sangria%22%2C%22orderCount%22%3A0%2C%22count%22%3A0%7D%2C%22margarita%22%3A%7B%22id%22%3A%22margarita%22%2C%22name%22%3A%22Margarita%22%2C%22orderCount%22%3A0%2C%22count%22%3A0%7D%2C%22martini%22%3A%7B%22id%22%3A%22martini%22%2C%22name%22%3A%22Martini%22%2C%22orderCount%22%3A0%2C%22count%22%3A0%7D%2C%22iced-tea%22%3A%7B%22id%22%3A%22iced-tea%22%2C%22name%22%3A%22Iced%20Tea%22%2C%22orderCount%22%3A0%2C%22count%22%3A0%7D%2C%22aperitif%22%3A%7B%22id%22%3A%22aperitif%22%2C%22name%22%3A%22Aperitif%22%2C%22orderCount%22%3A0%2C%22count%22%3A0%7D%2C%22digestif%22%3A%7B%22id%22%3A%22digestif%22%2C%22name%22%3A%22Digestif%22%2C%22orderCount%22%3A0%2C%22count%22%3A0%7D%2C%22biscuit%22%3A%7B%22id%22%3A%22biscuit%22%2C%22name%22%3A%22Biscuit%22%2C%22orderCount%22%3A0%2C%22count%22%3A0%7D%2C%22brownie%22%3A%7B%22id%22%3A%22brownie%22%2C%22name%22%3A%22Brownie%22%2C%22orderCount%22%3A0%2C%22count%22%3A0%7D%2C%22burrito%22%3A%7B%22id%22%3A%22burrito%22%2C%22name%22%3A%22Burrito%22%2C%22orderCount%22%3A0%2C%22count%22%3A0%7D%2C%22cheesecake%22%3A%7B%22id%22%3A%22cheesecake%22%2C%22name%22%3A%22Cheesecake%22%2C%22orderCount%22%3A0%2C%22count%22%3A0%7D%2C%22chili%22%3A%7B%22id%22%3A%22chili%22%2C%22name%22%3A%22Chili%22%2C%22orderCount%22%3A0%2C%22count%22%3A0%7D%2C%22chowder%22%3A%7B%22id%22%3A%22chowder%22%2C%22name%22%3A%22Chowder%22%2C%22orderCount%22%3A0%2C%22count%22%3A0%7D%2C%22cobbler-crumble%22%3A%7B%22id%22%3A%22cobbler-crumble%22%2C%22name%22%3A%22Cobbler%2FCrumble%22%2C%22orderCount%22%3A0%2C%22count%22%3A0%7D%2C%22crepe%22%3A%7B%22id%22%3A%22crepe%22%2C%22name%22%3A%22Cr%C3%AApe%22%2C%22orderCount%22%3A0%2C%22count%22%3A0%7D%2C%22cranberry-sauce%22%3A%7B%22id%22%3A%22cranberry-sauce%22%2C%22name%22%3A%22Cranberry%20Sauce%22%2C%22orderCount%22%3A0%2C%22count%22%3A0%7D%2C%22cupcake%22%3A%7B%22id%22%3A%22cupcake%22%2C%22name%22%3A%22Cupcake%22%2C%22orderCount%22%3A0%2C%22count%22%3A0%7D%2C%22custard%22%3A%7B%22id%22%3A%22custard%22%2C%22name%22%3A%22Custard%22%2C%22orderCount%22%3A0%2C%22count%22%3A0%7D%2C%22dip%22%3A%7B%22id%22%3A%22dip%22%2C%22name%22%3A%22Dip%22%2C%22orderCount%22%3A0%2C%22count%22%3A0%7D%2C%22flat-bread%22%3A%7B%22id%22%3A%22flat-bread%22%2C%22name%22%3A%22Flat%20Bread%22%2C%22orderCount%22%3A0%2C%22count%22%3A0%7D%2C%22frittata%22%3A%7B%22id%22%3A%22frittata%22%2C%22name%22%3A%22Frittata%22%2C%22orderCount%22%3A0%2C%22count%22%3A0%7D%2C%22fritter%22%3A%7B%22id%22%3A%22fritter%22%2C%22name%22%3A%22Fritter%22%2C%22orderCount%22%3A0%2C%22count%22%3A0%7D%2C%22guacamole%22%3A%7B%22id%22%3A%22guacamole%22%2C%22name%22%3A%22Guacamole%22%2C%22orderCount%22%3A0%2C%22count%22%3A0%7D%2C%22hamburger%22%3A%7B%22id%22%3A%22hamburger%22%2C%22name%22%3A%22Hamburger%22%2C%22orderCount%22%3A0%2C%22count%22%3A0%7D%7D%2C%22special-consideration%22%3A%7B%22vegetarian%22%3A%7B%22id%22%3A%22vegetarian%22%2C%22name%22%3A%22Vegetarian%22%2C%22orderCount%22%3A0%2C%22count%22%3A6%7D%2C%22quick-and-easy%22%3A%7B%22id%22%3A%22quick-and-easy%22%2C%22name%22%3A%22Quick%20%26%20Easy%22%2C%22orderCount%22%3A0%2C%22count%22%3A2%7D%2C%22kid-friendly%22%3A%7B%22id%22%3A%22kid-friendly%22%2C%22name%22%3A%22Kid%20Friendly%22%2C%22orderCount%22%3A0%2C%22count%22%3A1%7D%2C%22healthy%22%3A%7B%22id%22%3A%22healthy%22%2C%22name%22%3A%22Healthy%22%2C%22orderCount%22%3A0%2C%22count%22%3A1%7D%2C%22wheat-gluten-free%22%3A%7B%22id%22%3A%22wheat-gluten-free%22%2C%22name%22%3A%22Wheat%2FGluten-Free%22%2C%22orderCount%22%3A0%2C%22count%22%3A6%7D%2C%22vegan%22%3A%7B%22id%22%3A%22vegan%22%2C%22name%22%3A%22Vegan%22%2C%22orderCount%22%3A0%2C%22count%22%3A5%7D%2C%22low-fat%22%3A%7B%22id%22%3A%22low-fat%22%2C%22name%22%3A%22Low%20Fat%22%2C%22orderCount%22%3A0%2C%22count%22%3A0%7D%2C%22low-no-sugar%22%3A%7B%22id%22%3A%22low-no-sugar%22%2C%22name%22%3A%22Low%2FNo%20Sugar%22%2C%22orderCount%22%3A0%2C%22count%22%3A0%7D%2C%22low-sodium%22%3A%7B%22id%22%3A%22low-sodium%22%2C%22name%22%3A%22Low%20Sodium%22%2C%22orderCount%22%3A0%2C%22count%22%3A0%7D%2C%22high-fiber%22%3A%7B%22id%22%3A%22high-fiber%22%2C%22name%22%3A%22High%20Fiber%22%2C%22orderCount%22%3A0%2C%22count%22%3A0%7D%2C%22kosher%22%3A%7B%22id%22%3A%22kosher%22%2C%22name%22%3A%22Kosher%22%2C%22orderCount%22%3A0%2C%22count%22%3A6%7D%2C%22low-cholesterol%22%3A%7B%22id%22%3A%22low-cholesterol%22%2C%22name%22%3A%22Low%20Cholesterol%22%2C%22orderCount%22%3A0%2C%22count%22%3A0%7D%2C%22raw%22%3A%7B%22id%22%3A%22raw%22%2C%22name%22%3A%22Raw%22%2C%22orderCount%22%3A0%2C%22count%22%3A0%7D%2C%22kosher-for-passover%22%3A%7B%22id%22%3A%22kosher-for-passover%22%2C%22name%22%3A%22Kosher%20for%20Passover%22%2C%22orderCount%22%3A0%2C%22count%22%3A0%7D%2C%22organic%22%3A%7B%22id%22%3A%22organic%22%2C%22name%22%3A%22Organic%22%2C%22orderCount%22%3A0%2C%22count%22%3A0%7D%7D%2C%22ingredient%22%3A%7B%22chicken%22%3A%7B%22id%22%3A%22chicken%22%2C%22name%22%3A%22Chicken%22%2C%22orderCount%22%3A0%2C%22count%22%3A0%7D%2C%22beef%22%3A%7B%22id%22%3A%22beef%22%2C%22name%22%3A%22Beef%22%2C%22orderCount%22%3A0%2C%22count%22%3A0%7D%2C%22fish%22%3A%7B%22id%22%3A%22fish%22%2C%22name%22%3A%22Fish%22%2C%22orderCount%22%3A0%2C%22count%22%3A1%7D%2C%22pork%22%3A%7B%22id%22%3A%22pork%22%2C%22name%22%3A%22Pork%22%2C%22orderCount%22%3A0%2C%22count%22%3A0%7D%2C%22vegetable%22%3A%7B%22id%22%3A%22vegetable%22%2C%22name%22%3A%22Vegetable%22%2C%22orderCount%22%3A0%2C%22count%22%3A1%7D%2C%22turkey%22%3A%7B%22id%22%3A%22turkey%22%2C%22name%22%3A%22Turkey%22%2C%22orderCount%22%3A0%2C%22count%22%3A1%7D%2C%22potato%22%3A%7B%22id%22%3A%22potato%22%2C%22name%22%3A%22Potato%22%2C%22orderCount%22%3A0%2C%22count%22%3A0%7D%2C%22pasta%22%3A%7B%22id%22%3A%22pasta%22%2C%22name%22%3A%22Pasta%22%2C%22orderCount%22%3A0%2C%22count%22%3A1%7D%2C%22seafood%22%3A%7B%22id%22%3A%22seafood%22%2C%22name%22%3A%22Seafood%22%2C%22orderCount%22%3A0%2C%22count%22%3A1%7D%2C%22egg%22%3A%7B%22id%22%3A%22egg%22%2C%22name%22%3A%22Egg%22%2C%22orderCount%22%3A0%2C%22count%22%3A0%7D%2C%22lamb%22%3A%7B%22id%22%3A%22lamb%22%2C%22name%22%3A%22Lamb%22%2C%22orderCount%22%3A0%2C%22count%22%3A0%7D%2C%22chocolate%22%3A%7B%22id%22%3A%22chocolate%22%2C%22name%22%3A%22Chocolate%22%2C%22orderCount%22%3A0%2C%22count%22%3A1%7D%2C%22cranberry%22%3A%7B%22id%22%3A%22cranberry%22%2C%22name%22%3A%22Cranberry%22%2C%22orderCount%22%3A0%2C%22count%22%3A0%7D%2C%22salmon%22%3A%7B%22id%22%3A%22salmon%22%2C%22name%22%3A%22Salmon%22%2C%22orderCount%22%3A0%2C%22count%22%3A0%7D%2C%22bean%22%3A%7B%22id%22%3A%22bean%22%2C%22name%22%3A%22Bean%22%2C%22orderCount%22%3A0%2C%22count%22%3A0%7D%2C%22shellfish%22%3A%7B%22id%22%3A%22shellfish%22%2C%22name%22%3A%22Shellfish%22%2C%22orderCount%22%3A0%2C%22count%22%3A0%7D%2C%22fruit%22%3A%7B%22id%22%3A%22fruit%22%2C%22name%22%3A%22Fruit%22%2C%22orderCount%22%3A0%2C%22count%22%3A0%7D%2C%22duck%22%3A%7B%22id%22%3A%22duck%22%2C%22name%22%3A%22Duck%22%2C%22orderCount%22%3A0%2C%22count%22%3A0%7D%2C%22shrimp%22%3A%7B%22id%22%3A%22shrimp%22%2C%22name%22%3A%22Shrimp%22%2C%22orderCount%22%3A0%2C%22count%22%3A0%7D%2C%22mushroom%22%3A%7B%22id%22%3A%22mushroom%22%2C%22name%22%3A%22Mushroom%22%2C%22orderCount%22%3A0%2C%22count%22%3A0%7D%2C%22tomato%22%3A%7B%22id%22%3A%22tomato%22%2C%22name%22%3A%22Tomato%22%2C%22orderCount%22%3A0%2C%22count%22%3A0%7D%2C%22rice%22%3A%7B%22id%22%3A%22rice%22%2C%22name%22%3A%22Rice%22%2C%22orderCount%22%3A0%2C%22count%22%3A1%7D%2C%22poultry%22%3A%7B%22id%22%3A%22poultry%22%2C%22name%22%3A%22Poultry%22%2C%22orderCount%22%3A0%2C%22count%22%3A0%7D%2C%22scallop%22%3A%7B%22id%22%3A%22scallop%22%2C%22name%22%3A%22Scallop%22%2C%22orderCount%22%3A0%2C%22count%22%3A1%7D%2C%22ham%22%3A%7B%22id%22%3A%22ham%22%2C%22name%22%3A%22Ham%22%2C%22orderCount%22%3A0%2C%22count%22%3A0%7D%2C%22carrot%22%3A%7B%22id%22%3A%22carrot%22%2C%22name%22%3A%22Carrot%22%2C%22orderCount%22%3A0%2C%22count%22%3A0%7D%2C%22eggplant%22%3A%7B%22id%22%3A%22eggplant%22%2C%22name%22%3A%22Eggplant%22%2C%22orderCount%22%3A0%2C%22count%22%3A0%7D%2C%22leafy-green%22%3A%7B%22id%22%3A%22leafy-green%22%2C%22name%22%3A%22Leafy%20Green%22%2C%22orderCount%22%3A0%2C%22count%22%3A1%7D%2C%22apple%22%3A%7B%22id%22%3A%22apple%22%2C%22name%22%3A%22Apple%22%2C%22orderCount%22%3A0%2C%22count%22%3A0%7D%2C%22green-bean%22%3A%7B%22id%22%3A%22green-bean%22%2C%22name%22%3A%22Green%20Bean%22%2C%22orderCount%22%3A0%2C%22count%22%3A0%7D%2C%22broccoli%22%3A%7B%22id%22%3A%22broccoli%22%2C%22name%22%3A%22Broccoli%22%2C%22orderCount%22%3A0%2C%22count%22%3A0%7D%2C%22zucchini%22%3A%7B%22id%22%3A%22zucchini%22%2C%22name%22%3A%22Zucchini%22%2C%22orderCount%22%3A0%2C%22count%22%3A0%7D%2C%22cabbage%22%3A%7B%22id%22%3A%22cabbage%22%2C%22name%22%3A%22Cabbage%22%2C%22orderCount%22%3A0%2C%22count%22%3A0%7D%2C%22ground-beef%22%3A%7B%22id%22%3A%22ground-beef%22%2C%22name%22%3A%22Ground%20Beef%22%2C%22orderCount%22%3A0%2C%22count%22%3A0%7D%2C%22lemon%22%3A%7B%22id%22%3A%22lemon%22%2C%22name%22%3A%22Lemon%22%2C%22orderCount%22%3A0%2C%22count%22%3A1%7D%2C%22sweet-potato-yam%22%3A%7B%22id%22%3A%22sweet-potato-yam%22%2C%22name%22%3A%22Sweet%20Potato%22%2C%22orderCount%22%3A0%2C%22count%22%3A0%7D%2C%22citrus%22%3A%7B%22id%22%3A%22citrus%22%2C%22name%22%3A%22Citrus%22%2C%22orderCount%22%3A0%2C%22count%22%3A1%7D%2C%22kale%22%3A%7B%22id%22%3A%22kale%22%2C%22name%22%3A%22Kale%22%2C%22orderCount%22%3A0%2C%22count%22%3A0%7D%2C%22spinach%22%3A%7B%22id%22%3A%22spinach%22%2C%22name%22%3A%22Spinach%22%2C%22orderCount%22%3A0%2C%22count%22%3A1%7D%7D%2C%22cuisine%22%3A%7B%22italian%22%3A%7B%22id%22%3A%22italian%22%2C%22name%22%3A%22Italian%22%2C%22orderCount%22%3A0%2C%22count%22%3A0%7D%2C%22mexican%22%3A%7B%22id%22%3A%22mexican%22%2C%22name%22%3A%22Mexican%22%2C%22orderCount%22%3A0%2C%22count%22%3A0%7D%2C%22moroccan%22%3A%7B%22id%22%3A%22moroccan%22%2C%22name%22%3A%22Moroccan%22%2C%22orderCount%22%3A0%2C%22count%22%3A0%7D%2C%22french%22%3A%7B%22id%22%3A%22french%22%2C%22name%22%3A%22French%22%2C%22orderCount%22%3A0%2C%22count%22%3A0%7D%2C%22asian%22%3A%7B%22id%22%3A%22asian%22%2C%22name%22%3A%22Asian%22%2C%22orderCount%22%3A0%2C%22count%22%3A3%7D%2C%22indian%22%3A%7B%22id%22%3A%22indian%22%2C%22name%22%3A%22Indian%22%2C%22orderCount%22%3A0%2C%22count%22%3A0%7D%2C%22thai%22%3A%7B%22id%22%3A%22thai%22%2C%22name%22%3A%22Thai%22%2C%22orderCount%22%3A0%2C%22count%22%3A0%7D%2C%22mediterranean%22%3A%7B%22id%22%3A%22mediterranean%22%2C%22name%22%3A%22Mediterranean%22%2C%22orderCount%22%3A0%2C%22count%22%3A0%7D%2C%22middle-eastern%22%3A%7B%22id%22%3A%22middle-eastern%22%2C%22name%22%3A%22Middle%20Eastern%22%2C%22orderCount%22%3A0%2C%22count%22%3A0%7D%2C%22spanish-portuguese%22%3A%7B%22id%22%3A%22spanish-portuguese%22%2C%22name%22%3A%22Spanish%2FPortuguese%22%2C%22orderCount%22%3A0%2C%22count%22%3A0%7D%2C%22greek%22%3A%7B%22id%22%3A%22greek%22%2C%22name%22%3A%22Greek%22%2C%22orderCount%22%3A0%2C%22count%22%3A0%7D%2C%22american%22%3A%7B%22id%22%3A%22american%22%2C%22name%22%3A%22American%22%2C%22orderCount%22%3A0%2C%22count%22%3A0%7D%2C%22chinese%22%3A%7B%22id%22%3A%22chinese%22%2C%22name%22%3A%22Chinese%22%2C%22orderCount%22%3A0%2C%22count%22%3A0%7D%2C%22cajun-creole%22%3A%7B%22id%22%3A%22cajun-creole%22%2C%22name%22%3A%22Cajun%2FCreole%22%2C%22orderCount%22%3A0%2C%22count%22%3A0%7D%2C%22central-south-american%22%3A%7B%22id%22%3A%22central-south-american%22%2C%22name%22%3A%22Central%2FS.%20American%22%2C%22orderCount%22%3A0%2C%22count%22%3A0%7D%2C%22southern%22%3A%7B%22id%22%3A%22southern%22%2C%22name%22%3A%22Southern%22%2C%22orderCount%22%3A0%2C%22count%22%3A0%7D%2C%22german%22%3A%7B%22id%22%3A%22german%22%2C%22name%22%3A%22German%22%2C%22orderCount%22%3A0%2C%22count%22%3A0%7D%2C%22african%22%3A%7B%22id%22%3A%22african%22%2C%22name%22%3A%22African%22%2C%22orderCount%22%3A0%2C%22count%22%3A0%7D%2C%22scandinavian%22%3A%7B%22id%22%3A%22scandinavian%22%2C%22name%22%3A%22Scandinavian%22%2C%22orderCount%22%3A0%2C%22count%22%3A0%7D%2C%22eastern-european-russian%22%3A%7B%22id%22%3A%22eastern-european-russian%22%2C%22name%22%3A%22Eastern%20European%22%2C%22orderCount%22%3A0%2C%22count%22%3A0%7D%2C%22irish%22%3A%7B%22id%22%3A%22irish%22%2C%22name%22%3A%22Irish%22%2C%22orderCount%22%3A0%2C%22count%22%3A0%7D%2C%22japanese%22%3A%7B%22id%22%3A%22japanese%22%2C%22name%22%3A%22Japanese%22%2C%22orderCount%22%3A0%2C%22count%22%3A3%7D%2C%22southwestern%22%3A%7B%22id%22%3A%22southwestern%22%2C%22name%22%3A%22Southwestern%22%2C%22orderCount%22%3A0%2C%22count%22%3A0%7D%2C%22vietnamese%22%3A%7B%22id%22%3A%22vietnamese%22%2C%22name%22%3A%22Vietnamese%22%2C%22orderCount%22%3A0%2C%22count%22%3A0%7D%2C%22english%22%3A%7B%22id%22%3A%22english%22%2C%22name%22%3A%22English%22%2C%22orderCount%22%3A0%2C%22count%22%3A0%7D%2C%22jewish%22%3A%7B%22id%22%3A%22jewish%22%2C%22name%22%3A%22Jewish%22%2C%22orderCount%22%3A0%2C%22count%22%3A0%7D%2C%22central-american-caribbean%22%3A%7B%22id%22%3A%22central-american-caribbean%22%2C%22name%22%3A%22Caribbean%22%2C%22orderCount%22%3A0%2C%22count%22%3A0%7D%2C%22latin-american%22%3A%7B%22id%22%3A%22latin-american%22%2C%22name%22%3A%22Latin%20American%22%2C%22orderCount%22%3A0%2C%22count%22%3A0%7D%2C%22tex-mex%22%3A%7B%22id%22%3A%22tex-mex%22%2C%22name%22%3A%22Tex-Mex%22%2C%22orderCount%22%3A0%2C%22count%22%3A0%7D%2C%22italian-american%22%3A%7B%22id%22%3A%22italian-american%22%2C%22name%22%3A%22Italian%20American%22%2C%22orderCount%22%3A0%2C%22count%22%3A0%7D%2C%22turkish%22%3A%7B%22id%22%3A%22turkish%22%2C%22name%22%3A%22Turkish%22%2C%22orderCount%22%3A0%2C%22count%22%3A0%7D%2C%22korean%22%3A%7B%22id%22%3A%22korean%22%2C%22name%22%3A%22Korean%22%2C%22orderCount%22%3A0%2C%22count%22%3A0%7D%2C%22southeast-asian%22%3A%7B%22id%22%3A%22southeast-asian%22%2C%22name%22%3A%22Southeast%20Asian%22%2C%22orderCount%22%3A0%2C%22count%22%3A0%7D%2C%22european%22%3A%7B%22id%22%3A%22european%22%2C%22name%22%3A%22European%22%2C%22orderCount%22%3A0%2C%22count%22%3A0%7D%2C%22british%22%3A%7B%22id%22%3A%22british%22%2C%22name%22%3A%22British%22%2C%22orderCount%22%3A0%2C%22count%22%3A0%7D%2C%22cuban%22%3A%7B%22id%22%3A%22cuban%22%2C%22name%22%3A%22Cuban%22%2C%22orderCount%22%3A0%2C%22count%22%3A0%7D%2C%22south-american%22%3A%7B%22id%22%3A%22south-american%22%2C%22name%22%3A%22South%20American%22%2C%22orderCount%22%3A0%2C%22count%22%3A0%7D%2C%22nuevo-latino%22%3A%7B%22id%22%3A%22nuevo-latino%22%2C%22name%22%3A%22Nuevo%20Latino%22%2C%22orderCount%22%3A0%2C%22count%22%3A0%7D%2C%22californian%22%3A%7B%22id%22%3A%22californian%22%2C%22name%22%3A%22Californian%22%2C%22orderCount%22%3A0%2C%22count%22%3A0%7D%2C%22south-asian%22%3A%7B%22id%22%3A%22south-asian%22%2C%22name%22%3A%22South%20Asian%22%2C%22orderCount%22%3A0%2C%22count%22%3A0%7D%7D%2C%22occasion%22%3A%7B%22summer%22%3A%7B%22id%22%3A%22summer%22%2C%22name%22%3A%22Summer%22%2C%22orderCount%22%3A0%2C%22count%22%3A2%7D%2C%22fourth-of-july%22%3A%7B%22id%22%3A%22fourth-of-july%22%2C%22name%22%3A%22Fourth%20of%20July%22%2C%22orderCount%22%3A0%2C%22count%22%3A0%7D%2C%22fall%22%3A%7B%22id%22%3A%22fall%22%2C%22name%22%3A%22Fall%22%2C%22orderCount%22%3A0%2C%22count%22%3A1%7D%2C%22thanksgiving%22%3A%7B%22id%22%3A%22thanksgiving%22%2C%22name%22%3A%22Thanksgiving%22%2C%22orderCount%22%3A0%2C%22count%22%3A1%7D%2C%22christmas%22%3A%7B%22id%22%3A%22christmas%22%2C%22name%22%3A%22Christmas%22%2C%22orderCount%22%3A0%2C%22count%22%3A0%7D%2C%22new-years-eve%22%3A%7B%22id%22%3A%22new-years-eve%22%2C%22name%22%3A%22New%20Year's%20Eve%22%2C%22orderCount%22%3A0%2C%22count%22%3A0%7D%2C%22easter%22%3A%7B%22id%22%3A%22easter%22%2C%22name%22%3A%22Easter%22%2C%22orderCount%22%3A0%2C%22count%22%3A0%7D%2C%22passover%22%3A%7B%22id%22%3A%22passover%22%2C%22name%22%3A%22Passover%22%2C%22orderCount%22%3A0%2C%22count%22%3A0%7D%2C%22backyard-bbq%22%3A%7B%22id%22%3A%22backyard-bbq%22%2C%22name%22%3A%22Backyard%20BBQ%22%2C%22orderCount%22%3A0%2C%22count%22%3A1%7D%2C%22picnic%22%3A%7B%22id%22%3A%22picnic%22%2C%22name%22%3A%22Picnic%22%2C%22orderCount%22%3A0%2C%22count%22%3A1%7D%2C%22potluck%22%3A%7B%22id%22%3A%22potluck%22%2C%22name%22%3A%22Potluck%22%2C%22orderCount%22%3A0%2C%22count%22%3A0%7D%2C%22tailgating%22%3A%7B%22id%22%3A%22tailgating%22%2C%22name%22%3A%22Tailgating%22%2C%22orderCount%22%3A0%2C%22count%22%3A0%7D%2C%22birthday%22%3A%7B%22id%22%3A%22birthday%22%2C%22name%22%3A%22Birthday%22%2C%22orderCount%22%3A0%2C%22count%22%3A0%7D%2C%22party%22%3A%7B%22id%22%3A%22party%22%2C%22name%22%3A%22Party%22%2C%22orderCount%22%3A0%2C%22count%22%3A0%7D%2C%22super-bowl%22%3A%7B%22id%22%3A%22super-bowl%22%2C%22name%22%3A%22Super%20Bowl%22%2C%22orderCount%22%3A0%2C%22count%22%3A0%7D%2C%22winter%22%3A%7B%22id%22%3A%22winter%22%2C%22name%22%3A%22Winter%22%2C%22orderCount%22%3A0%2C%22count%22%3A1%7D%2C%22cocktail-party%22%3A%7B%22id%22%3A%22cocktail-party%22%2C%22name%22%3A%22Cocktail%20Party%22%2C%22orderCount%22%3A0%2C%22count%22%3A0%7D%2C%22christmas-eve%22%3A%7B%22id%22%3A%22christmas-eve%22%2C%22name%22%3A%22Christmas%20Eve%22%2C%22orderCount%22%3A0%2C%22count%22%3A0%7D%2C%22spring%22%3A%7B%22id%22%3A%22spring%22%2C%22name%22%3A%22Spring%22%2C%22orderCount%22%3A0%2C%22count%22%3A1%7D%2C%22valentines-day%22%3A%7B%22id%22%3A%22valentines-day%22%2C%22name%22%3A%22Valentine's%20Day%22%2C%22orderCount%22%3A0%2C%22count%22%3A0%7D%2C%22halloween%22%3A%7B%22id%22%3A%22halloween%22%2C%22name%22%3A%22Halloween%22%2C%22orderCount%22%3A0%2C%22count%22%3A0%7D%2C%22cinco-de-mayo%22%3A%7B%22id%22%3A%22cinco-de-mayo%22%2C%22name%22%3A%22Cinco%20de%20Mayo%22%2C%22orderCount%22%3A0%2C%22count%22%3A0%7D%2C%22wedding%22%3A%7B%22id%22%3A%22wedding%22%2C%22name%22%3A%22Wedding%22%2C%22orderCount%22%3A0%2C%22count%22%3A0%7D%2C%22mothers-day%22%3A%7B%22id%22%3A%22mothers-day%22%2C%22name%22%3A%22Mother's%20Day%22%2C%22orderCount%22%3A0%2C%22count%22%3A0%7D%2C%22st-patricks-day%22%3A%7B%22id%22%3A%22st-patricks-day%22%2C%22name%22%3A%22St.%20Patrick's%20Day%22%2C%22orderCount%22%3A0%2C%22count%22%3A0%7D%2C%22hanukkah%22%3A%7B%22id%22%3A%22hanukkah%22%2C%22name%22%3A%22Hanukkah%22%2C%22orderCount%22%3A0%2C%22count%22%3A0%7D%2C%22shower%22%3A%7B%22id%22%3A%22shower%22%2C%22name%22%3A%22Shower%22%2C%22orderCount%22%3A0%2C%22count%22%3A0%7D%2C%22mardi-gras%22%3A%7B%22id%22%3A%22mardi-gras%22%2C%22name%22%3A%22Mardi%20Gras%22%2C%22orderCount%22%3A0%2C%22count%22%3A0%7D%2C%22family-reunion%22%3A%7B%22id%22%3A%22family-reunion%22%2C%22name%22%3A%22Family%20Reunion%22%2C%22orderCount%22%3A0%2C%22count%22%3A0%7D%2C%22new-years-day%22%3A%7B%22id%22%3A%22new-years-day%22%2C%22name%22%3A%22New%20Year's%20Day%22%2C%22orderCount%22%3A0%2C%22count%22%3A0%7D%2C%22kentucky-derby%22%3A%7B%22id%22%3A%22kentucky-derby%22%2C%22name%22%3A%22Kentucky%20Derby%22%2C%22orderCount%22%3A0%2C%22count%22%3A0%7D%2C%22engagement-party%22%3A%7B%22id%22%3A%22engagement-party%22%2C%22name%22%3A%22Engagement%20Party%22%2C%22orderCount%22%3A0%2C%22count%22%3A0%7D%2C%22poker-game-night%22%3A%7B%22id%22%3A%22poker-game-night%22%2C%22name%22%3A%22Poker%2FGame%20Night%22%2C%22orderCount%22%3A0%2C%22count%22%3A0%7D%2C%22oscars%22%3A%7B%22id%22%3A%22oscars%22%2C%22name%22%3A%22Oscars%22%2C%22orderCount%22%3A0%2C%22count%22%3A0%7D%2C%22fathers-day%22%3A%7B%22id%22%3A%22fathers-day%22%2C%22name%22%3A%22Father's%20Day%22%2C%22orderCount%22%3A0%2C%22count%22%3A0%7D%2C%22anniversary%22%3A%7B%22id%22%3A%22anniversary%22%2C%22name%22%3A%22Anniversary%22%2C%22orderCount%22%3A0%2C%22count%22%3A0%7D%2C%22graduation%22%3A%7B%22id%22%3A%22graduation%22%2C%22name%22%3A%22Graduation%22%2C%22orderCount%22%3A0%2C%22count%22%3A0%7D%2C%22rosh-hashanah-yom-kippur%22%3A%7B%22id%22%3A%22rosh-hashanah-yom-kippur%22%2C%22name%22%3A%22Rosh%20Hashanah%22%2C%22orderCount%22%3A0%2C%22count%22%3A0%7D%2C%22ramadan%22%3A%7B%22id%22%3A%22ramadan%22%2C%22name%22%3A%22Ramadan%22%2C%22orderCount%22%3A0%2C%22count%22%3A0%7D%2C%22bastille-day%22%3A%7B%22id%22%3A%22bastille-day%22%2C%22name%22%3A%22Bastille%20Day%22%2C%22orderCount%22%3A0%2C%22count%22%3A0%7D%7D%7D%2C%22filterCount%22%3A12%2C%22historyPop%22%3Afalse%2C%22idWithQuickView%22%3A%22%22%2C%22initialFacets%22%3A%7B%22content%22%3A%7B%22recipe%22%3A9%2C%22article%22%3A3%7D%7D%2C%22inputTerms%22%3A%22tofu%20chill%22%2C%22searchTerms%22%3A%22tofu%20chill%22%2C%22refreshResults%22%3Afalse%2C%22resultGroups%22%3A%5Bnull%2C%7B%22items%22%3A%5B%7B%22id%22%3A%225a0330ea57e96a30a35d163c%22%2C%22dek%22%3A%22The%20novelist%20and%20independent%20book%20publisher%20relies%20on%20intuition%2C%20leftovers%2C%20and%20some%20very%20good%20cookbooks%20to%20make%20dinner%20happen.%22%2C%22hed%22%3A%22What%20the%20Writer-Publisher-Mom%20Emily%20Gould%20Cooks%20in%20a%20Week%20%20%22%2C%22pubDate%22%3A%222017-11-08T18%3A39%3A04.371Z%22%2C%22author%22%3A%5B%7B%22name%22%3A%22Emily%20Gould%22%7D%5D%2C%22type%22%3A%22article%22%2C%22url%22%3A%22%2Fexpert-advice%2Femily-gould-cooking-diary-article%22%2C%22photoData%22%3A%7B%22id%22%3A%225a021ac7d63f7339eb97b547%22%2C%22filename%22%3A%22Small-Plates-Dinner-Diary-Emily-Gould-Alt-2.jpg%22%2C%22caption%22%3A%22%22%2C%22credit%22%3A%22Photo%20by%20Caleb%20Adams%22%2C%22promoTitle%22%3A%22%22%2C%22title%22%3A%22Small%20Plates%20Dinner%20Diary%20Emily%20Gould%20Alt-2%22%2C%22orientation%22%3A%22landscape%22%2C%22restrictCropping%22%3Afalse%7D%7D%2C%7B%22id%22%3A%2257180141136b9a220ecd7dce%22%2C%22dek%22%3A%22A%20food%20writer%20gives%20us%20a%20peek%20into%20what%20really%20happens%20behind%20the%20scenes%20in%20her%20kitchen.%20And%20some%20of%20it%20isn't%20pretty.%22%2C%22hed%22%3A%22Dirty%20Secrets%20of%20a%20Home%20Cook%22%2C%22pubDate%22%3A%222016-04-21T23%3A30%3A00.000Z%22%2C%22author%22%3A%5B%7B%22name%22%3A%22Laurie%20Woolever%22%7D%5D%2C%22type%22%3A%22article%22%2C%22url%22%3A%22%2Fexpert-advice%2Fdirty-secrets-of-a-home-cook-article%22%2C%22photoData%22%3A%7B%22id%22%3A%2254b5b5bb2889f660285a7982%22%2C%22filename%22%3A%22EP_20140912_boone-3_6x4-lpr.jpg%22%2C%22caption%22%3A%22%22%2C%22credit%22%3A%22Photo%20by%20Rhoda%20Boone%22%2C%22promoTitle%22%3A%22%22%2C%22title%22%3A%22raw%20cubed%20beef%20chuck%22%2C%22orientation%22%3A%22landscape%22%2C%22restrictCropping%22%3Afalse%7D%7D%2C%7B%22id%22%3A%22562a62dab3d63be14330b17c%22%2C%22dek%22%3A%22All%20of%20the%20flavor%2C%20none%20of%20the%20prep%20work.%22%2C%22hed%22%3A%22Frozen%20Vegetables%20Are%20a%20Wok's%20Best%20Friend%22%2C%22pubDate%22%3A%222015-10-23T19%3A30%3A00.000Z%22%2C%22author%22%3A%5B%7B%22name%22%3A%22Matt%20Rodbard%22%7D%5D%2C%22type%22%3A%22article%22%2C%22url%22%3A%22%2Fexpert-advice%2Fwhy-the-freezer-aisle-is-a-woks-best-friend-article%22%2C%22photoData%22%3A%7B%22id%22%3A%225570c1b281ac1e5023671e80%22%2C%22filename%22%3A%22EP-04142015-wok-7-6x4-CP.jpg%22%2C%22caption%22%3A%22%22%2C%22credit%22%3A%22Photo%20by%20Chelsea%20Kyle%22%2C%22promoTitle%22%3A%22northern%20style%20carbon-steel%20round-bottomed%20wok%22%2C%22title%22%3A%22northern%20style%20carbon-steel%20round-bottomed%20wok%22%2C%22orientation%22%3A%22landscape%22%2C%22restrictCropping%22%3Afalse%7D%7D%2C%7B%22id%22%3A%2254a422f56529d92b2c0096e8%22%2C%22dek%22%3A%22When%20we%20visited%20Kyoto%2C%20a%20few%20hours'%20ride%20from%20Tokyo%20on%20the%20famous%20Bullet%20train%2C%20we%20found%20a%20little%20restaurant%20in%20the%20heart%20of%20town%20that%20won%20us%20over%20with%20the%20names%20of%20dishes%20listed%20on%20the%20menu%3A%20Firecracker%20Tofu%2C%20Pickled%20Mixed%20Radish%20Salad%2C%20and%20the%20mysterious%20sounding%20Okonomiyaki.%20The%20chefs%20were%20clearly%20having%20fun%20at%20this%20place%2C%20and%20we%20were%20blown%20away%20by%20the%20depth%20of%20flavor%20they%20achieved%20with%20such%20simple%20preparations.%20We%20threw%20back%20some%20sake%20and%20tore%20through%20plate%20after%20plate%20of%20food.%20This%20salad%20is%20inspired%20by%20that%20meal%2C%20featuring%20quirky%20sea%20beans%20(a%20seaweed-like%20swamp%2Fbeach%20vegetable)%20and%20the%20haunting%20flavor%20of%20shiso%20(Japanese%20mint).%20You%20can%20find%20fresh%20sea%20beans%20at%20a%20gourmet%20market.%20If%20they're%20not%20available%2C%20substitute%20pencil-thin%20asparagus.%20Look%20for%20shiso%20in%20Asian%20markets%2C%20but%20substitute%20fresh%20cilantro%20if%20you%20can't%20find%20it.%22%2C%22hed%22%3A%22Sea%20Bean%20Salad%20with%20Daikon%20and%20Cucumber%22%2C%22pubDate%22%3A%222013-10-14T04%3A00%3A00.000Z%22%2C%22author%22%3A%5B%7B%22name%22%3A%22Rich%20Landau%20%22%7D%2C%7B%22name%22%3A%22%20Kate%20Jacoby%22%7D%5D%2C%22type%22%3A%22recipe%22%2C%22url%22%3A%22%2Frecipes%2Ffood%2Fviews%2Fsea-bean-salad-with-daikon-and-cucumber-51199610%22%2C%22photoData%22%3A%7B%22id%22%3A%2254ad4bf76529d92b2c043930%22%2C%22filename%22%3A%2251199610_sea-bean-salad-daikon_1x1.jpg%22%2C%22caption%22%3A%22Sea%20Bean%20Salad%20with%20Daikon%20and%20Cucumber%22%2C%22credit%22%3A%22Michael%20Spain-Smith%22%2C%22promoTitle%22%3A%22Sea%20Bean%20Salad%20with%20Daikon%20and%20Cucumber%22%2C%22title%22%3A%22Sea%20Bean%20Salad%20with%20Daikon%20and%20Cucumber%22%2C%22orientation%22%3A%22landscape%22%2C%22restrictCropping%22%3Afalse%7D%2C%22aggregateRating%22%3A0%2C%22ingredients%22%3A%5B%222%20large%20cucumbers%2C%20peeled%20(about%201%201%2F2%20pounds)%22%2C%221%20large%20daikon%20radish%2C%20peeled%22%2C%224%20scallions%22%2C%221%2F2%20pound%20sea%20beans%2C%20ends%20trimmed%22%2C%223%20tablespoons%20rice%20wine%20vinegar%22%2C%222%20tablespoons%20canola%20oil%22%2C%222%20tablespoons%20toasted%20sesame%20oil%22%2C%222%20tablespoons%20tamari%22%2C%222%20teaspoons%20black%20sesame%20seeds%22%2C%222%20teaspoons%20white%20sesame%20seeds%22%2C%221%20teaspoon%20sugar%22%2C%222%20fresh%20shiso%20leaves%2C%20finely%20chopped%22%5D%2C%22prepSteps%22%3A%5B%221.%20Cut%20the%20flesh%20of%20the%20cucumber%20into%20very%20thin%20noodle-like%20strips.%20Avoid%20the%20seeds%20by%20not%20cutting%20the%20very%20center%20of%20the%20cucumber.%20A%20mandoline%20works%20best%2C%20or%20use%20a%20knife%20and%20slice%20really%20thin.%22%2C%222.%20Cut%20the%20daikon%20into%20the%20same%20thin%20noodle-like%20strips.%20Here%20there%20are%20no%20seeds%2C%20so%20you%20can%20cut%20through%20the%20entire%20vegetable.%22%2C%223.%20Trim%20the%20roots%20of%20the%20scallions%2C%20then%20slice%20them%20into%20fine%20rings.%20Start%20at%20the%20white%20bottom%20and%20use%20about%20three-quarters%20of%20each%20scallion%2C%20until%20the%20leaves%20become%20much%20darker%20green%20and%20thicker.%22%2C%224.%20Combine%20the%20remaining%20ingredients%20in%20a%20medium%20bowl%20to%20ensure%20they%20are%20well%20mixed%2C%20then%20add%20all%20of%20the%20vegetables.%20Toss%20to%20combine%2C%20then%20cover%20and%20place%20in%20the%20refrigerator%20to%20marinate%20for%20at%20least%2030%20minutes%2C%20but%20no%20longer%20than%2024%20hours%20or%20they%20will%20get%20mushy.%20Serve%20chilled.%22%5D%2C%22reviewsCount%22%3A0%2C%22willMakeAgainPct%22%3A0%7D%2C%7B%22id%22%3A%2254a422d96529d92b2c009609%22%2C%22dek%22%3A%22Vegan%20(when%20made%20with%20agave%20nectar%20or%20sugar)%5CnThis%20trick%20will%20alter%20and%20augment%20your%20cooking%3A%20Pour%20boiling%20water%20over%20sliced%20or%20diced%20red%20onions%2C%20then%20transfer%20them%20to%20a%20solution%20of%20vinegar%2C%20sweetener%2C%20and%20salt.%20The%20onions%20will%20brighten%20into%20a%20gaudy%20shade%20of%20purplish-pink%20and%20will%20keep%20indefinitely%2C%20mysteriously%20retaining%20their%20bright%20color%20and%20crisp%20texture.%20rather%20than%20slice%2C%20the%20onions%2C%20if%20they%20are%20headed%20for%20one%20of%20the%20cold%20soups.)%5CnYou%20can%20vary%20the%20cut%20of%20the%20onions%E2%80%94and%20also%20the%20amounts%20of%20sweet%20and%20salt.%20Use%20as%20a%20dramatically%20colorful%20and%20refreshing%20tiara%20atop%20dinner%20plates%2C%20open-faced%20sandwiches%2C%20salads%2C%20cheeses%2C%20grilled%20tofu%2C%20or%20fish%E2%80%94anything%20savory.%20I%20use%20these%20often%20as%20an%20ingredient%20in%20cold%20soups%20and%20saladitas.%20(Mince%2C%20rather%20than%20slice%2C%20the%20onions%2C%20if%20they%20are%20headed%20for%20one%20of%20the%20cold%20soups.)%5Cn%E2%80%A2%20Use%20a%20very%20sharp%20knife%20or%20a%20food%20processor%20with%20a%20thin%20slicing%20attachment%20to%20cut%20the%20onions%20most%20easily.%22%2C%22hed%22%3A%22Pickled%20Red%20Onions%22%2C%22pubDate%22%3A%222013-10-02T04%3A00%3A00.000Z%22%2C%22author%22%3A%5B%7B%22name%22%3A%22Mollie%20Katzen%22%7D%5D%2C%22type%22%3A%22recipe%22%2C%22url%22%3A%22%2Frecipes%2Ffood%2Fviews%2Fpickled-red-onions-51196620%22%2C%22photoData%22%3A%7B%22id%22%3A%2257a8ae32b10b4fb03f234f38%22%2C%22filename%22%3A%22pickled-red-onions-2.jpg%22%2C%22caption%22%3A%22%22%2C%22credit%22%3A%22%22%2C%22promoTitle%22%3A%22%22%2C%22title%22%3A%22pickled-red-onions-2.jpg%22%2C%22orientation%22%3A%22landscape%22%2C%22restrictCropping%22%3Afalse%7D%2C%22aggregateRating%22%3A3.14%2C%22ingredients%22%3A%5B%221%20large%20red%20onion%20(3%2F4%20pound)%22%2C%223%20tablespoons%20vinegar%20(cider%2C%20red%20or%20white%20wine%2C%20or%20balsamic)%22%2C%221-2%20teaspoons%20agave%20nectar%2C%20light-colored%20honey%2C%20or%20sugar%22%2C%221%2F4%20teaspoon%20salt%22%5D%2C%22prepSteps%22%3A%5B%221.%20Put%20on%20a%20kettle%20of%20water%20to%20boil.%20Cut%20the%20onion%20into%20very%20thin%20slices%20or%20a%20mince%20and%20place%20it%20in%20a%20colander%20in%20the%20sink.%22%2C%222.%20In%20a%20bowl%20large%20enough%20to%20comfortably%20fit%20all%20the%20onion%2C%20combine%20the%20vinegar%2C%20sweetener%2C%20and%20salt%20and%20whisk%20until%20blended.%22%2C%223.%20Pour%20the%20boiling%20water%20over%20the%20onion%20and%20shake%20to%20drain.%20(It's%20fine%20if%20a%20little%20water%20still%20clings.)%22%2C%224.%20Add%20the%20onion%20to%20the%20vinegar%20solution%20and%20stir%20to%20coat.%20Let%20it%20sit%20for%20at%20least%20an%20hour%20or%20up%20to%20several%20days%2C%20covered%20and%20refrigerated%2C%20occasionally%20stirring%20and%2For%20shaking%20to%20allow%20maximum%20exposure%20to%20the%20liquid.%20Store%20in%20a%20jar%20with%20a%20tight-fitting%20lid%20in%20the%20refrigerator.%22%2C%22For%20beautiful%2C%20exotic%20pickled%20fruit%2C%20add%20fresh%20or%20frozen%20cherries%2C%20blueberries%2C%20or%20raspberries%E2%80%94or%20some%20small%20watermelon%20chunks%E2%80%94to%20the%20onion%20after%20the%20first%20hour%20of%20sitting%20time%20*%20Add%20any%20of%20the%20following%20to%20the%20pickle%20mixture%3A%20Raw%20broccoli%20stems%2C%20peeled%20and%20cut%20into%20slender%20matchsticks%20*%20Raw%20fennel%2C%20cut%20into%20thin%20slices%20*%20Lightly%20steamed%20carrot%20slices%20*%20Lightly%20steamed%20cauliflower%2C%20cut%20into%201-inch%20florets%22%5D%2C%22reviewsCount%22%3A5%2C%22willMakeAgainPct%22%3A60%7D%2C%7B%22id%22%3A%2254a4216a19925f464b3785c7%22%2C%22dek%22%3A%22I've%20been%20doing%20the%20previous%20marinades%20forever.%20This%20new%20one%20is%20first%20cousin%20to%20a%20good%20barbecued%20tofu%3A%20piquant%2C%20sweet-hot-rich%2C%20and%20scintillatingly%20tasty.%20The%20tofu%20is%20baked%20in%20the%20marinade%2Fsauce%2C%20which%20cooks%20down%20and%20coats%20it%2C%20caramelizing%20them.%20You'll%20probably%20have%20to%20soak%20the%20baking%20dish%20overnight%20before%20washing%20it%2C%20but%20it's%20worth%20it.%20Vary%20this%20using%20fruit%20juice%20concentrate%20instead%20of%20honey%20or%20sugar%2C%20and%20adding%20extra%20ginger%2C%20orange%20zest%2C%20or%20both.%20For%20an%20incendiary%20smokiness%2C%20add%20chipotle%20in%20adobo.%22%2C%22hed%22%3A%22New%20Wave-New%20Fave%20Baked%20Tofu%20or%20Tempeh%22%2C%22pubDate%22%3A%222012-02-10T04%3A00%3A00.000Z%22%2C%22author%22%3A%5B%7B%22name%22%3A%22Crescent%20Dragonwagon%22%7D%5D%2C%22type%22%3A%22recipe%22%2C%22url%22%3A%22%2Frecipes%2Ffood%2Fviews%2Fnew-wave-new-fave-baked-tofu-or-tempeh-394509%22%2C%22photoData%22%3A%7B%22id%22%3A%225a0ddb046e013d11dde39630%22%2C%22filename%22%3A%22no-recipe-card-green-15112017.jpg%22%2C%22caption%22%3A%22No%20Recipe%20Card-%20GREEN%22%2C%22credit%22%3A%22Photo%20by%20Chelsea%20Kyle%22%2C%22colors%22%3A%7B%22average%22%3A%22%23000000%22%7D%2C%22type%22%3A%22photo%22%7D%2C%22aggregateRating%22%3A3%2C%22ingredients%22%3A%5B%221%2F3%20cup%20natural%2C%20unhydrogenated%20peanut%20butter%22%2C%221%2F3%20cup%20tamari%20or%20shoyu%20soy%20sauce%22%2C%221%2F3%20cup%20honey%2C%20light%20brown%20sugar%2C%20maple%20syrup%2C%20or%20thawed%2C%20undiluted%20frozen%20apple%20or%20pineapple%20juice%20concentrate%22%2C%221%2F4%20cup%20apple%20cider%20vinegar%22%2C%224%20to%206%20cloves%20garlic%2C%20quartered%20lengthwise%22%2C%22About%201%20tablespoon%20chopped%20fresh%20ginger%20(optional)%22%2C%221%20to%202%20tablespoons%20tomato%20paste%20or%20ketchup%22%2C%221%20canned%20chipotle%20pepper%20in%20adobo%20sauce%2C%201%2F2%20teaspoon%20cayenne%2C%20or%201%20fresh%20serrano%20or%20jalape%C3%B1o%20pepper%2C%20de-stemmed%22%2C%22Juice%20and%20grated%20zest%20of%201%20orange%20(optional%2C%20but%20good)%22%2C%2212%20to%2014%20ounces%20drained%2C%20sliced%20traditional%20water-packed%20firm%20or%20extra-firm%20tofu%20or%20tempeh%22%2C%22Vegetable%20oil%20cooking%20spray%22%5D%2C%22prepSteps%22%3A%5B%221.%20Combine%20the%20peanut%20butter%2C%20tamari%2C%20honey%2C%20apple%20cider%20vinegar%2C%20garlic%2C%20ginger%2C%20tomato%20paste%2C%20chipotle%2C%20and%20orange%20juice%20and%20zest%20in%20a%20food%20processor%20and%20buzz%20until%20the%20ginger%20is%20finely%20chopped.%22%2C%222.%20To%20use%20the%20marinade%2C%20place%20the%20tofu%20in%20a%20nonreactive%20bowl%20or%20zip-top%20bag%20and%20pour%20or%20spoon%20this%20luscious%20mixture%20over%20it.%20Refrigerate%20the%20tofu%2C%20covered%2C%20overnight.%22%2C%223.%20The%20next%20day%2C%20preheat%20the%20oven%20to%20375%C2%B0F%20and%20generously%20spray%20a%20nonreactive%20baking%20dish%20with%20oil%20(I%20use%20an%208%20or%209%20by%2012-inch%20deep%20glass%20baking%20dish).%22%2C%224.%20Place%20the%20tofu%20and%20its%20marinade%20in%20the%20baking%20dish%2C%20spreading%20the%20marinade%20as%20needed%20so%20both%20sides%20of%20the%20tofu%20slices%20get%20a%20good%20smear%20of%20it.%20Bake%2C%20turning%20once%2C%20until%20fragrant%2C%20firmed%20up%2C%20and%20golden%20to%20deep%20brown%20in%20spots%20with%20the%20marinade%20considerably%20thickened%2C%20about%2030%20minutes.%22%5D%2C%22reviewsCount%22%3A1%2C%22willMakeAgainPct%22%3A100%7D%2C%7B%22id%22%3A%2254a427be6529d92b2c00cd4c%22%2C%22dek%22%3A%22Wheat%20Free%5CnNo%20need%20to%20worry%20if%20your%20local%20market%20doesn't%20carry%20egg-free%20mayo.%20Just%20whip%20up%20some%20of%20your%20own.%20This%20recipe%20works%20very%20well%20as%20a%20sandwich%20spread%20or%20in%20any%20mayonnaise-based%20dressing.%20As%20long%20as%20you%20use%20wheat-free%20vinegar%2C%20this%20mayo%20is%20indeed%20wheat-free.%22%2C%22hed%22%3A%22Vegan%20Mayonnaise%22%2C%22pubDate%22%3A%222011-06-23T04%3A00%3A00.000Z%22%2C%22author%22%3A%5B%7B%22name%22%3A%22Joni%20Marie%20Newman%22%7D%5D%2C%22type%22%3A%22recipe%22%2C%22url%22%3A%22%2Frecipes%2Ffood%2Fviews%2Fvegan-mayonnaise-366490%22%2C%22photoData%22%3A%7B%22id%22%3A%2254b2afd611c5d6af478b2759%22%2C%22filename%22%3A%22366490_vegan-mayonnaise_1x1.jpg%22%2C%22caption%22%3A%22Vegan%20Mayonnaise%22%2C%22credit%22%3A%22Rockport%20Publishers%22%2C%22promoTitle%22%3A%22Vegan%20Mayonnaise%22%2C%22title%22%3A%22Vegan%20Mayonnaise%22%2C%22orientation%22%3A%22landscape%22%2C%22restrictCropping%22%3Afalse%7D%2C%22aggregateRating%22%3A1%2C%22ingredients%22%3A%5B%227%20ounces%20(195%20g)%20extra-firm%20tofu%2C%20drained%20and%20pressed%22%2C%221%2F4%20cup%20(35%20g)%20raw%20cashews%2C%20ground%20into%20a%20very%20fine%20powder%22%2C%221%20tablespoon%20(15%20ml)%20lemon%20juice%22%2C%221%20tablespoon%20(12%20g)%20raw%20sugar%20or%20(21%20g)%20agave%20nectar%22%2C%221%201%2F2%20teaspoons%20brown%20or%20Dijon%20mustard%22%2C%221%20teaspoon%20apple%20cider%20or%20rice%20wine%20vinegar%22%2C%221%2F2%20teaspoon%20sea%20salt%22%2C%226%20tablespoons%20(90%20ml)%20canola%20oil%22%5D%2C%22prepSteps%22%3A%5B%22Place%20the%20tofu%2C%20cashews%2C%20lemon%20juice%2C%20sugar%2C%20mustard%2C%20vinegar%2C%20and%20salt%20in%20a%20blender%20or%20food%20processor%20and%20process%20until%20smooth.%22%2C%22Slowly%20drizzle%20in%20the%20oil%20and%20pulse%20until%20you%20get%20the%20consistency%20that%20you%20like.%22%2C%22Store%20in%20an%20airtight%20container%20in%20the%20refrigerator%20for%20up%20to%202%20weeks.%22%5D%2C%22reviewsCount%22%3A3%2C%22willMakeAgainPct%22%3A33%7D%2C%7B%22id%22%3A%2254a42a5219925f464b37ea8a%22%2C%22dek%22%3A%22A%20staple%20of%20classic%20Japanese%20cooking%2C%20teriyaki%20is%20wonderful%20with%20not%20only%20seafood%20but%20also%20poultry%2C%20beef%2C%20vegetables%2C%20and%20tofu.%20Often%2C%20however%2C%20this%20versatile%20sauce%20can%20be%20quite%20sweet.%20My%20version%20uses%20fresh%20orange%20juice%2C%20which%20adds%20just%20a%20touch%20of%20natural%20sweetness%20as%20well%20as%20some%20acidity%20to%20temper%20the%20sweet%20mirin.%20Pouring%20some%20of%20the%20teriyaki%20sauce%20into%20the%20hot%20pan%20with%20the%20fish%20further%20reduces%20it%20so%20the%20sauce%20really%20coats%20the%20fish%20with%20a%20deep%2C%20caramel%20glaze%20that%20enhances%20the%20delectable%20moist%2C%20buttery%2C%20and%20tender%20qualities%20of%20black%20cod%20perfectly.%20Other%20good%20fish%20for%20this%20dish%20are%20Alaskan%20cod%2C%20true%20cod%2C%20sablefish%2C%20or%20wild%20salmon.%20Searing%20each%20side%20of%20the%20sticky%20rice%20cake%20gives%20a%20nutty%20flavor%20and%20crisp%20texture.%20I%20also%20like%20to%20serve%20these%20rice%20cakes%20with%20vegetable%20stir-fries%20in%20place%20of%20plain%20rice.%20If%20you%20have%20a%20rice%20cooker%2C%20use%20it%20to%20prepare%20the%20rice%20according%20to%20the%20manufacturer's%20directions.%20If%20not%2C%20follow%20the%20instructions%20in%20the%20recipe%20to%20prepare%20it%20in%20a%20saucepan.%22%2C%22hed%22%3A%22Teriyaki%20Black%20Cod%20with%20Sticky%20Rice%20Cakes%20and%20Seared%20Baby%20Bok%20Choy%22%2C%22pubDate%22%3A%222011-03-11T04%3A00%3A00.000Z%22%2C%22author%22%3A%5B%7B%22name%22%3A%22Dean%20Rucker%22%7D%2C%7B%22name%22%3A%22%20Marah%20Stets%22%7D%5D%2C%22type%22%3A%22recipe%22%2C%22url%22%3A%22%2Frecipes%2Ffood%2Fviews%2Fteriyaki-black-cod-with-sticky-rice-cakes-and-seared-baby-bok-choy-363330%22%2C%22photoData%22%3A%7B%22id%22%3A%2256098f2d62fa7a9917c1d93e%22%2C%22filename%22%3A%22363330_hires.jpg%22%2C%22caption%22%3A%22Teriyaki%20Black%20Cod%20with%20Sticky%20Rice%20Cakes%20and%20Seared%20Baby%20Bok%20Choy%22%2C%22credit%22%3A%22Cookbook%20cover%20image%20courtesy%20of%20Random%20House%22%2C%22promoTitle%22%3A%22Teriyaki%20Black%20Cod%20with%20Sticky%20Rice%20Cakes%20and%20Seared%20Baby%20Bok%20Choy%22%2C%22title%22%3A%22Teriyaki%20Black%20Cod%20with%20Sticky%20Rice%20Cakes%20and%20Seared%20Baby%20Bok%20Choy%22%2C%22orientation%22%3A%22landscape%22%2C%22restrictCropping%22%3Afalse%7D%2C%22aggregateRating%22%3A3.25%2C%22ingredients%22%3A%5B%229%20baby%20bok%20choy%2C%20halved%20lengthwise%22%2C%223%2F4%20cup%20sushi%20rice%22%2C%22Grapeseed%20or%20canola%20oil%20spray%22%2C%222%20tablespoons%20sliced%20scallions%20(white%20and%20green%20parts)%22%2C%221%20teaspoon%20minced%20garlic%22%2C%221%20tablespoon%20minced%20peeled%20fresh%20ginger%22%2C%221%20tablespoon%20unseasoned%20rice%20vinegar%22%2C%221%201%2F2%20teaspoons%20mirin%22%2C%22Pinch%20of%20kosher%20salt%22%2C%22Pinch%20of%20freshly%20ground%20black%20pepper%22%2C%221%2F2%20cup%20low-sodium%20soy%20sauce%22%2C%223%2F4%20cup%20fresh%20orange%20juice%20(from%203%20oranges)%22%2C%221%2F4%20cup%20mirin%22%2C%221%20teaspoon%20minced%20peeled%20fresh%20ginger%22%2C%221%2F2%20teaspoon%20cornstarch%22%2C%226%20(4-ounce)%20skinless%20black%20cod%20fillets%2C%20each%201%20inch%20thick%22%2C%221%2F4%20teaspoon%20freshly%20ground%20black%20pepper%22%2C%22Grapeseed%20or%20canola%20oil%20spray%22%2C%221%2F2%20cup%20thinly%20sliced%20scallions%20(white%20and%20light%20green%20parts)%2C%20for%20serving%22%2C%221%20tablespoon%20sesame%20seeds%2C%20toasted%2C%20for%20serving%22%5D%2C%22prepSteps%22%3A%5B%22Bring%20a%20large%20pot%20of%20water%20to%20a%20rapid%20boil.%20Prepare%20a%20bowl%20of%20ice%20water.%20Add%20the%20bok%20choy%20to%20the%20boiling%20water%20and%20cook%20for%2030%20seconds.%20Drain%20the%20bok%20choy%20and%20immediately%20transfer%20it%20to%20the%20ice%20water%20for%202%20minutes%20to%20cool.%20Drain%20the%20bok%20choy%20and%20set%20aside%20on%20a%20clean%20kitchen%20towel%20to%20soak%20up%20excess%20moisture.%22%2C%22Prepare%20the%20sticky%20rice%20cakes.%20Put%20the%20rice%20in%20a%20large%20bowl%20and%20cover%20with%20cold%20water.%20Use%20your%20hand%20to%20swish%20the%20rice%20around%20a%20few%20times.%20Drain%20and%20repeat%20until%20the%20water%20in%20the%20bowl%20is%20clear%3B%20you%20may%20need%20to%20rinse%20it%20several%20times.%22%2C%22Put%20the%20rice%20in%20a%20small%2C%20heavy-bottomed%20saucepan%20and%20add%20water%20to%20cover%20by%201%20inch.%20Cover%20the%20pan%3B%20for%20best%20results%2C%20do%20not%20uncover%20the%20pan%20at%20any%20time%20during%20cooking.%20Bring%20to%20a%20boil%20over%20medium-high%20heat%2C%204%20to%205%20minutes%3B%20you%20will%20be%20able%20to%20tell%20the%20water%20is%20boiling%20by%20the%20large%20amount%20of%20steam%20pouring%20out%20from%20under%20the%20lid.%20Reduce%20the%20heat%20to%20low%20and%20simmer%2C%20covered%2C%20for%2010%20minutes.%20Remove%20the%20pan%20from%20the%20heat%20and%20let%20stand%2C%20covered%2C%20for%2015%20minutes.%22%2C%22Spray%20a%20small%20saut%C3%A9%20pan%20with%20grapeseed%20oil%20and%20heat%20over%20medium%20heat.%20Add%20the%20scallions%2C%20garlic%2C%20and%20ginger%20and%20cook%2C%20stirring%2C%20until%20just%20softened%20and%20fragrant%2C%20about%2030%20seconds.%20Fold%20the%20scallion%20mixture%20into%20the%20warm%2C%20cooked%20rice%20along%20with%20the%20vinegar%2C%20mirin%2C%20salt%2C%20and%20pepper.%22%2C%22Line%20a%20platter%20or%20baking%20sheet%20with%20parchment%20paper%20sprayed%20with%20oil%20or%20with%20waxed%20paper.%20Have%20a%20separate%20bowl%20of%20water%20ready.%20Dip%20your%20hands%20into%20the%20water%20and%20scoop%20up%201%2F4%20cup%20rice.%20Form%20it%20into%20a%20tightly%20packed%20cake%20about%202%20inches%20thick%20and%20place%20the%20cake%20on%20the%20platter.%20Repeat%20with%20the%20remaining%20rice%20to%20form%20five%20more%20cakes.%20Set%20aside%20in%20the%20refrigerator.%22%2C%22Meanwhile%2C%20in%20a%20small%20saucepan%2C%20combine%20the%20soy%20sauce%2C%20orange%20juice%2C%20mirin%2C%20and%20ginger.%20Bring%20to%20a%20boil%20and%20reduce%20the%20heat%20to%20low.%20Simmer%20just%20until%20reduced%20by%20half%2C%2030%20to%2040%20minutes.%20In%20a%20small%20dish%2C%20mix%20the%20cornstarch%20and%201%20teaspoon%20water%20and%20stir%20this%20slurry%20into%20the%20simmering%20sauce.%20Simmer%2030%20seconds%20and%20remove%20the%20pan%20from%20the%20heat.%22%5D%2C%22reviewsCount%22%3A9%2C%22willMakeAgainPct%22%3A88%7D%2C%7B%22id%22%3A%2254a4276219925f464b37c5f1%22%2C%22dek%22%3A%22Combining%20bittersweet%20chocolate%20and%20cocoa%20powder%20intensifies%20the%20chocolaty%20essence%20of%20this%20cheesecake%20to%20the%20nth%20degree.%20Silken%20tofu%20brings%20a%20delicate%20creaminess%20to%20the%20filling%20while%20also%20taking%20the%20place%20of%20eggs%20by%20acting%20as%20a%20binding%20agent.%22%2C%22hed%22%3A%22Vegan%20Chocolate%20Cheesecake%22%2C%22pubDate%22%3A%222009-10-15T04%3A00%3A00.000Z%22%2C%22author%22%3A%5B%7B%22name%22%3A%22Gina%20Marie%20Miraglia%20Eriquez%22%7D%5D%2C%22type%22%3A%22recipe%22%2C%22url%22%3A%22%2Frecipes%2Ffood%2Fviews%2Fvegan-chocolate-cheesecake-355990%22%2C%22photoData%22%3A%7B%22id%22%3A%225609a773e0acd286555dba9e%22%2C%22filename%22%3A%22355990_hires.jpg%22%2C%22caption%22%3A%22Vegan%20Chocolate%20Cheesecake%22%2C%22credit%22%3A%22Romulo%20Yanes%22%2C%22promoTitle%22%3A%22Vegan%20Chocolate%20Cheesecake%22%2C%22title%22%3A%22Vegan%20Chocolate%20Cheesecake%22%2C%22orientation%22%3A%22landscape%22%2C%22restrictCropping%22%3Afalse%7D%2C%22aggregateRating%22%3A2.76%2C%22ingredients%22%3A%5B%221%201%2F4%20cups%20chocolate%20or%20regular%20graham%20cracker%20crumbs%20(from%20nine%205-by%202%201%2F2-inch%20graham%20crackers)%22%2C%223%20tablespoons%20sugar%22%2C%224%20tablespoons%20Earth%20Balance%20vegan%20buttery%20spread%2C%20melted%20and%20cooled%2C%20plus%20additional%20for%20greasing%20pan%22%2C%222%201%2F4%20cups%20sugar%2C%20divided%22%2C%221%2F3%20cup%20water%22%2C%228%20ounces%20bittersweet%20chocolate%20(no%20more%20than%2060%25%20cacao)%2C%20chopped%22%2C%222%20(1-pound%20packages%20silken%20tofu%2C%20drained%22%2C%221%2F4%20cup%20unsweetened%20cocoa%20powder%20(not%20Dutch-process)%22%2C%222%20(8-ounces)%20containers%20soy%20cream%20cheese%20at%20room%20temperature%22%2C%221%20teaspoon%20pure%20vanilla%20extract%22%2C%22Rounded%201%2F4%20teaspoon%20salt%22%2C%22Equipment%3A%20a%209-inch%20springform%20pan%22%5D%2C%22prepSteps%22%3A%5B%22Preheat%20oven%20to%20350%C2%B0F%20with%20racks%20in%20middle%20and%20lower%20third%20and%20put%20a%20baking%20sheet%20on%20lower%20rack.%20Flip%20bottom%20of%20springform%20pan%20so%20lip%20is%20facing%20down%2C%20then%20lock%20in%20place.%20Grease%20bottom%20and%20side%20of%20pan.%22%2C%22Stir%20together%20all%20crust%20ingredients%2C%20then%20press%20onto%20bottom%20and%201%20inch%20up%20side%20of%20pan.%20Bake%20until%20set%2C%2010%20to%2012%20minutes%2C%20then%20cool%20completely%2C%20about%2045%20minutes.%22%2C%22Heat%201%20cup%20sugar%20in%20a%201%201%2F2-to%202-quart%20heavy%20saucepan%20over%20medium%20heat%2C%20stirring%20with%20a%20fork%20to%20heat%20sugar%20evenly%2C%20until%20it%20starts%20to%20melt%2C%20then%20stop%20stirring%20and%20cook%2C%20swirling%20pan%20occasionally%20so%20sugar%20melts%20evenly%2C%20until%20it%20is%20dark%20amber.%20Remove%20from%20heat%20and%20carefully%20stir%20in%20water%20(mixture%20will%20bubble%20up%20and%20steam%20and%20caramel%20will%20harden)%2C%20then%20cook%20over%20medium-low%20heat%2C%20stirring%2C%20until%20caramel%20has%20dissolved.%20Remove%20from%20heat%20and%20whisk%20in%20chopped%20chocolate%20until%20smooth.%20Cool%20fudge%20sauce%20slightly.%22%2C%22Pur%C3%A9e%20tofu%20and%20cocoa%20in%20a%20food%20processor%20until%20smooth.%22%2C%22Beat%20soy%20cream%20cheese%20and%20remaining%201%201%2F4%20cups%20sugar%20with%20an%20electric%20mixer%20at%20medium-high%20speed%20until%20fluffy.%20At%20low%20speed%2C%20beat%20in%20tofu%20pur%C3%A9e%2C%20vanilla%2C%20salt%2C%20and%20fudge%20sauce%20until%20incorporated.%22%2C%22Pour%20filling%20into%20crust%20and%20bake%20on%20middle%20rack%20until%20top%20of%20cake%20is%20shiny%20but%20center%20is%20still%20slightly%20wobbly%20when%20pan%20is%20gently%20shaken%2C%20about%201%20hour.%20Turn%20oven%20off%20and%20leave%20cake%20in%20oven%201%20hour%20more.%22%2C%22Run%20a%20knife%20around%20top%20edge%20of%20cake%20to%20loosen%2C%20then%20cool%20completely%20in%20pan%20on%20rack%20(cake%20will%20continue%20to%20set%20as%20it%20cools).%20Chill%20cake%2C%20loosely%20covered%2C%20at%20least%206%20hours.%20Remove%20side%20of%20pan%20and%20transfer%20cake%20to%20a%20plate.%20Bring%20to%20room%20temperature%20before%20serving%20if%20desired.%22%5D%2C%22reviewsCount%22%3A15%2C%22willMakeAgainPct%22%3A58%7D%2C%7B%22id%22%3A%2254a42e8319925f464b381eab%22%2C%22dek%22%3A%22A%20bowl%20of%20these%20refreshing%20noodles%E2%80%94a%20riff%20on%20a%20Japanese%20classic%20that%20gets%20topped%20with%20silky%20tofu%E2%80%94is%20clean%20and%20light%2C%20yet%20still%20hearty%20enough%20to%20make%20a%20satisfying%20meal.%22%2C%22hed%22%3A%22Chilled%20Soba%20with%20Tofu%20and%20Sugar%20Snap%20Peas%22%2C%22pubDate%22%3A%222008-09-18T16%3A43%3A55.000Z%22%2C%22author%22%3A%5B%7B%22name%22%3A%22%20Lillian%20Chou%22%7D%5D%2C%22type%22%3A%22recipe%22%2C%22url%22%3A%22%2Frecipes%2Ffood%2Fviews%2Fchilled-soba-with-tofu-and-sugar-snap-peas-242834%22%2C%22photoData%22%3A%7B%22id%22%3A%22560d78b17b55306961bf3470%22%2C%22filename%22%3A%22242834_hires.jpg%22%2C%22caption%22%3A%22Chilled%20Soba%20with%20Tofu%20and%20Sugar%20Snap%20Peas%22%2C%22credit%22%3A%22Romulo%20Yanes%22%2C%22promoTitle%22%3A%22Chilled%20Soba%20with%20Tofu%20and%20Sugar%20Snap%20Peas%22%2C%22title%22%3A%22Chilled%20Soba%20with%20Tofu%20and%20Sugar%20Snap%20Peas%22%2C%22orientation%22%3A%22portrait%22%2C%22restrictCropping%22%3Afalse%7D%2C%22aggregateRating%22%3A3.53%2C%22ingredients%22%3A%5B%221%20large%20dried%20shiitake%20mushroom%22%2C%222%201%2F2%20cups%20water%22%2C%228%20(1-inch)%20pieces%20kombu%20(dried%20kelp)%22%2C%221%2F2%20cup%20soy%20sauce%20(preferably%20Japanese)%22%2C%221%2F4%20cup%20mirin%20(Japanese%20sweet%20rice%20wine)%22%2C%223%20tablespoons%20ponzu%20sauce%20(not%20containing%20dashi)%22%2C%221%20tablespoon%20sugar%22%2C%221%20tablespoon%20Asian%20sesame%20oil%22%2C%221%20pound%20sugar%20snap%20peas%2C%20thinly%20sliced%22%2C%2210%20ounces%20baby%20spinach%20(16%20cups)%22%2C%221%20pound%20dried%20soba%20noodles%22%2C%221%20(14-%20to%2018-ounce)%20package%20silken%20tofu%22%2C%221%20cup%20thinly%20sliced%20scallions%2C%20divided%22%2C%222%20tablespoons%20thin%20matchsticks%20of%20peeled%20ginger%22%5D%2C%22prepSteps%22%3A%5B%22Simmer%20mushroom%20in%20water%20in%20a%20small%20saucepan%2C%20covered%2C%2015%20minutes.%20Add%20kombu%20and%20barely%20simmer%2C%20covered%2C%205%20minutes.%20Remove%20from%20heat%20and%20let%20stand%2C%20covered%2C%205%20minutes.%20Strain%20through%20a%20fine-mesh%20sieve%20into%20a%20large%20glass%20measure%2C%20pressing%20on%20and%20discarding%20solids.%20Return%202%20cups%20liquid%20(add%20water%20if%20necessary)%20to%20saucepan.%20Add%20soy%20sauce%2C%20mirin%2C%20ponzu%2C%20sugar%2C%20and%201%2F4%20teaspoon%20salt%20and%20bring%20to%20a%20boil%2C%20stirring%20until%20sugar%20has%20dissolved.%20Remove%20from%20heat.%20Stir%20in%20sesame%20oil%2C%20then%20cool%20in%20pan%20in%20a%20large%20ice%20bath.%22%2C%22Blanch%20sugar%20snaps%20in%20a%20large%20pot%20of%20unsalted%20boiling%20water%20until%20crisp-tender%2C%20about%202%20minutes.%20Transfer%20with%20a%20slotted%20spoon%20to%20a%20large%20colander%20set%20in%20ice%20bath%20to%20stop%20cooking.%20Lift%20colander%20to%20drain.%20Transfer%20sugar%20snaps%20to%20a%20bowl.%20Meanwhile%2C%20return%20water%20to%20a%20boil.%20Blanch%20spinach%20until%20just%20wilted%2C%20about%2030%20seconds%2C%20then%20cool%20and%20drain%20in%20same%20manner.%20Squeeze%20out%20excess%20water.%20Add%20to%20sugar%20snaps.%22%2C%22Return%20water%20to%20a%20boil.%22%2C%22Add%20noodles%20and%20cook%20according%20to%20package%20directions%2C%20stirring%20occasionally%2C%20until%20tender.%20Drain%20in%20colander%20and%20rinse%20with%20cold%20water.%20Cool%20in%20ice%20bath%20until%20very%20cold%20(add%20more%20ice%20to%20water%20as%20necessary).%20Drain%20well.%22%2C%22Carefully%20drain%20tofu%20and%20pat%20dry.%20Cut%20into%203%2F4-inch%20cubes.%22%2C%22Whisk%20sauce%2C%20then%20pour%201%201%2F2%20cups%20sauce%20into%20a%20large%20bowl.%20Add%20noodles%2C%20sugar%20snaps%2C%20spinach%2C%20and%20half%20of%20scallions%20and%20toss.%20Serve%20in%20shallow%20bowls%2C%20topped%20with%20tofu%2C%20remaining%20scallions%2C%20and%20ginger.%20Drizzle%20with%20some%20of%20remaining%20sauce%20and%20serve%20remainder%20on%20the%20side.%22%5D%2C%22reviewsCount%22%3A8%2C%22willMakeAgainPct%22%3A75%7D%2C%7B%22id%22%3A%2254a4332f6529d92b2c016045%22%2C%22dek%22%3A%22A%20Meyer%20lemon%20is%20a%20cross%20between%20a%20lemon%20and%20a%20mandarin%20orange.%20If%20you%20can't%20find%20any%2C%20substitute%20regular%20lemons.%20This%20pie's%20decadent%20cream%20filling%20is%20made%20from%20protein-rich%20tofu.%22%2C%22hed%22%3A%22Meyer%20Lemon%20Cream%20Pies%22%2C%22pubDate%22%3A%222007-07-16T04%3A09%3A02.000Z%22%2C%22author%22%3A%5B%5D%2C%22type%22%3A%22recipe%22%2C%22url%22%3A%22%2Frecipes%2Ffood%2Fviews%2Fmeyer-lemon-cream-pies-239225%22%2C%22photoData%22%3A%7B%22id%22%3A%2256f30156c98a9a676e4e6bce%22%2C%22filename%22%3A%22239225_hires.jpg%22%2C%22caption%22%3A%22%22%2C%22credit%22%3A%22Photo%20by%20Yunhee%20Kim%22%2C%22promoTitle%22%3A%22%22%2C%22title%22%3A%22Meyer%20Lemon%20Cream%20Pies%22%2C%22orientation%22%3A%22landscape%22%2C%22restrictCropping%22%3Afalse%7D%2C%22aggregateRating%22%3A2.5%2C%22ingredients%22%3A%5B%221%201%2F4%20cups%20graham-cracker%20crumbs%22%2C%222%20tablespoons%20sugar%22%2C%225%20tablespoons%20unsalted%20butter%2C%20melted%22%2C%222%20(12-ounce)%20containers%20firm%20silken%20tofu%20(such%20as%20Mori-Nu)%22%2C%22Grated%20zest%20and%20juice%20of%202%20Meyer%20lemons%22%2C%221%2F2%20cup%20confectioners'%20sugar%22%5D%2C%22prepSteps%22%3A%5B%221.%20Preheat%20oven%20to%20350%C2%B0F.%22%2C%222.%20In%20a%20medium%20bowl%2C%20mix%20together%20all%20the%20crust%20ingredients.%20Press%20the%20mixture%20into%20the%20bottom%20and%20sides%20of%20four%20tartlet%20molds%20or%204-ounce%20ramekins.%22%2C%223.%20Bake%20until%20golden%20brown%2C%208%20to%2010%20minutes.%20Remove%20and%20let%20cool%20completely.%22%2C%224.%20In%20a%20blender%2C%20combine%20all%20the%20filling%20ingredients%20until%20smooth%2C%20spoon%20the%20mixture%20into%20the%20crusts%2C%20and%20refrigerate%20for%20at%20least%201%20hour.%22%5D%2C%22reviewsCount%22%3A8%2C%22willMakeAgainPct%22%3A50%7D%2C%7B%22id%22%3A%2254a4729919925f464b399731%22%2C%22dek%22%3A%22%22%2C%22hed%22%3A%22Scallop%20and%20Corn%20Pot%20Stickers%22%2C%22pubDate%22%3A%222004-08-20T04%3A00%3A00.000Z%22%2C%22author%22%3A%5B%5D%2C%22type%22%3A%22recipe%22%2C%22url%22%3A%22%2Frecipes%2Ffood%2Fviews%2Fscallop-and-corn-pot-stickers-11846%22%2C%22photoData%22%3A%7B%22id%22%3A%225a0ddb06f110de5830af9a10%22%2C%22filename%22%3A%22no-recipe-card-red-15112017.jpg%22%2C%22caption%22%3A%22No%20Recipe%20card-%20RED%22%2C%22credit%22%3A%22Photo%20by%20Chelsea%20Kyle%22%2C%22colors%22%3A%7B%22average%22%3A%22%23000000%22%7D%2C%22type%22%3A%22photo%22%7D%2C%22aggregateRating%22%3A3.5%2C%22ingredients%22%3A%5B%221%2F2%20pound%20sea%20scallops%22%2C%221%2F4%20teaspoon%20salt%22%2C%221%2F4%20cup%20soft%20tofu%20(preferably%20silken)%22%2C%221%2F4%20cup%20cooked%20corn%22%2C%221%2F4%20cup%20minced%20red%20bell%20pepper%22%2C%223%20tablespoons%20minced%20scallion%22%2C%222%20tablespoons%20finely%20chopped%20fresh%20coriander%22%2C%22eighteen%203-to-4%20inch%20round%20won%20ton%20or%20dumpling%20or%20gyozo%20wrappers%2C%C2%A0thawed%20if%20frozen%22%2C%22cornstarch%20for%20dusting%20tray%22%2C%22Sesame%20Vinaigrette%22%5D%2C%22prepSteps%22%3A%5B%22Discard%20small%20tough%20muscle%20from%20side%20of%20each%20scallop%20and%20in%20a%20food%20processor%20pur%C3%A9e%20half%20scallops%20with%20salt.%20With%20motor%20running%20add%20tofu%20in%20a%20stream%20and%20blend%20until%20just%20combined.%22%2C%22Transfer%20scallop%20mousse%20to%20a%20small%20bowl.%20Chop%20fine%20remaining%20scallops%20and%20stir%20into%20mousse%20with%20corn%2C%20bell%20pepper%2C%20scallion%2C%20and%20coriander.%22%2C%22Put%20about%201%20tablespoon%20filling%20in%20center%20of%201%20wrapper%20and%20moisten%20edge%20of%20wrapper.%20Gather%20edge%20of%20wrapper%20up%20and%20around%20filling%2C%20pleating%20edge.%20Gently%20squeeze%20middle%20of%20pot%20sticker%20to%20form%20a%20waist%2C%20keeping%20filling%20level%20with%20top%20of%20wrapper.%20(Pot%20sticker%20will%20resemble%20a%20sack%20filled%20to%20top.)%22%2C%22Make%2017%20more%20pot%20stickers%20in%20same%20manner%20and%20arrange%20on%20a%20tray%20dusted%20lightly%20with%20cornstarch.%20Pot%20stickers%20may%20be%20made%20up%20to%20this%20point%201%20day%20ahead%20and%20chilled%2C%20covered%20with%20plastic%20wrap.%22%2C%22In%20a%20large%20non-stick%20skillet%20heat%20oil%20over%20moderately%20high%20heat%20until%20hot%20but%20not%20smoking%20and%20fry%20pot-sticker%20bottoms%20until%20golden%2C%20about%201%20minute.%20Add%20water%20and%20steam%20pot%20stickers%2C%20covered%2C%203%20to%204%20minutes%2C%20or%20until%20filling%20is%20springy%20to%20touch.%20Remove%20lid%20and%20cook%20pot%20stickers%20until%20liquid%20is%20evaporated%20and%20bottoms%20are%20recrisped.%22%2C%22Serve%20pot%20stickers%20with%20vinaigrette%20and%20garnish%20with%20coriander.%22%5D%2C%22reviewsCount%22%3A9%2C%22willMakeAgainPct%22%3A100%7D%5D%2C%22page%22%3A%7B%22generatedAt%22%3A%222019-06-03T15%3A09%3A19.576Z%22%2C%22count%22%3A1%2C%22number%22%3A1%2C%22size%22%3A18%2C%22totalCount%22%3A12%2C%22previousNumber%22%3A1%7D%7D%5D%2C%22resultGroupDisplaySize%22%3A18%2C%22spellcheck%22%3A%7B%22requested%22%3A%22tofu%20chill%22%7D%2C%22suggestions%22%3A%5B%5D%2C%22walkthrough%22%3A%7B%7D%2C%22query%22%3A%7B%22page%22%3A1%7D%2C%22items%22%3A%5B%7B%22id%22%3A%225a0330ea57e96a30a35d163c%22%2C%22dek%22%3A%22The%20novelist%20and%20independent%20book%20publisher%20relies%20on%20intuition%2C%20leftovers%2C%20and%20some%20very%20good%20cookbooks%20to%20make%20dinner%20happen.%22%2C%22hed%22%3A%22What%20the%20Writer-Publisher-Mom%20Emily%20Gould%20Cooks%20in%20a%20Week%20%20%22%2C%22pubDate%22%3A%222017-11-08T18%3A39%3A04.371Z%22%2C%22author%22%3A%5B%7B%22name%22%3A%22Emily%20Gould%22%7D%5D%2C%22type%22%3A%22article%22%2C%22url%22%3A%22%2Fexpert-advice%2Femily-gould-cooking-diary-article%22%2C%22photoData%22%3A%7B%22id%22%3A%225a021ac7d63f7339eb97b547%22%2C%22filename%22%3A%22Small-Plates-Dinner-Diary-Emily-Gould-Alt-2.jpg%22%2C%22caption%22%3A%22%22%2C%22credit%22%3A%22Photo%20by%20Caleb%20Adams%22%2C%22promoTitle%22%3A%22%22%2C%22title%22%3A%22Small%20Plates%20Dinner%20Diary%20Emily%20Gould%20Alt-2%22%2C%22orientation%22%3A%22landscape%22%2C%22restrictCropping%22%3Afalse%7D%7D%2C%7B%22id%22%3A%2257180141136b9a220ecd7dce%22%2C%22dek%22%3A%22A%20food%20writer%20gives%20us%20a%20peek%20into%20what%20really%20happens%20behind%20the%20scenes%20in%20her%20kitchen.%20And%20some%20of%20it%20isn't%20pretty.%22%2C%22hed%22%3A%22Dirty%20Secrets%20of%20a%20Home%20Cook%22%2C%22pubDate%22%3A%222016-04-21T23%3A30%3A00.000Z%22%2C%22author%22%3A%5B%7B%22name%22%3A%22Laurie%20Woolever%22%7D%5D%2C%22type%22%3A%22article%22%2C%22url%22%3A%22%2Fexpert-advice%2Fdirty-secrets-of-a-home-cook-article%22%2C%22photoData%22%3A%7B%22id%22%3A%2254b5b5bb2889f660285a7982%22%2C%22filename%22%3A%22EP_20140912_boone-3_6x4-lpr.jpg%22%2C%22caption%22%3A%22%22%2C%22credit%22%3A%22Photo%20by%20Rhoda%20Boone%22%2C%22promoTitle%22%3A%22%22%2C%22title%22%3A%22raw%20cubed%20beef%20chuck%22%2C%22orientation%22%3A%22landscape%22%2C%22restrictCropping%22%3Afalse%7D%7D%2C%7B%22id%22%3A%22562a62dab3d63be14330b17c%22%2C%22dek%22%3A%22All%20of%20the%20flavor%2C%20none%20of%20the%20prep%20work.%22%2C%22hed%22%3A%22Frozen%20Vegetables%20Are%20a%20Wok's%20Best%20Friend%22%2C%22pubDate%22%3A%222015-10-23T19%3A30%3A00.000Z%22%2C%22author%22%3A%5B%7B%22name%22%3A%22Matt%20Rodbard%22%7D%5D%2C%22type%22%3A%22article%22%2C%22url%22%3A%22%2Fexpert-advice%2Fwhy-the-freezer-aisle-is-a-woks-best-friend-article%22%2C%22photoData%22%3A%7B%22id%22%3A%225570c1b281ac1e5023671e80%22%2C%22filename%22%3A%22EP-04142015-wok-7-6x4-CP.jpg%22%2C%22caption%22%3A%22%22%2C%22credit%22%3A%22Photo%20by%20Chelsea%20Kyle%22%2C%22promoTitle%22%3A%22northern%20style%20carbon-steel%20round-bottomed%20wok%22%2C%22title%22%3A%22northern%20style%20carbon-steel%20round-bottomed%20wok%22%2C%22orientation%22%3A%22landscape%22%2C%22restrictCropping%22%3Afalse%7D%7D%2C%7B%22id%22%3A%2254a422f56529d92b2c0096e8%22%2C%22dek%22%3A%22When%20we%20visited%20Kyoto%2C%20a%20few%20hours'%20ride%20from%20Tokyo%20on%20the%20famous%20Bullet%20train%2C%20we%20found%20a%20little%20restaurant%20in%20the%20heart%20of%20town%20that%20won%20us%20over%20with%20the%20names%20of%20dishes%20listed%20on%20the%20menu%3A%20Firecracker%20Tofu%2C%20Pickled%20Mixed%20Radish%20Salad%2C%20and%20the%20mysterious%20sounding%20Okonomiyaki.%20The%20chefs%20were%20clearly%20having%20fun%20at%20this%20place%2C%20and%20we%20were%20blown%20away%20by%20the%20depth%20of%20flavor%20they%20achieved%20with%20such%20simple%20preparations.%20We%20threw%20back%20some%20sake%20and%20tore%20through%20plate%20after%20plate%20of%20food.%20This%20salad%20is%20inspired%20by%20that%20meal%2C%20featuring%20quirky%20sea%20beans%20(a%20seaweed-like%20swamp%2Fbeach%20vegetable)%20and%20the%20haunting%20flavor%20of%20shiso%20(Japanese%20mint).%20You%20can%20find%20fresh%20sea%20beans%20at%20a%20gourmet%20market.%20If%20they're%20not%20available%2C%20substitute%20pencil-thin%20asparagus.%20Look%20for%20shiso%20in%20Asian%20markets%2C%20but%20substitute%20fresh%20cilantro%20if%20you%20can't%20find%20it.%22%2C%22hed%22%3A%22Sea%20Bean%20Salad%20with%20Daikon%20and%20Cucumber%22%2C%22pubDate%22%3A%222013-10-14T04%3A00%3A00.000Z%22%2C%22author%22%3A%5B%7B%22name%22%3A%22Rich%20Landau%20%22%7D%2C%7B%22name%22%3A%22%20Kate%20Jacoby%22%7D%5D%2C%22type%22%3A%22recipe%22%2C%22url%22%3A%22%2Frecipes%2Ffood%2Fviews%2Fsea-bean-salad-with-daikon-and-cucumber-51199610%22%2C%22photoData%22%3A%7B%22id%22%3A%2254ad4bf76529d92b2c043930%22%2C%22filename%22%3A%2251199610_sea-bean-salad-daikon_1x1.jpg%22%2C%22caption%22%3A%22Sea%20Bean%20Salad%20with%20Daikon%20and%20Cucumber%22%2C%22credit%22%3A%22Michael%20Spain-Smith%22%2C%22promoTitle%22%3A%22Sea%20Bean%20Salad%20with%20Daikon%20and%20Cucumber%22%2C%22title%22%3A%22Sea%20Bean%20Salad%20with%20Daikon%20and%20Cucumber%22%2C%22orientation%22%3A%22landscape%22%2C%22restrictCropping%22%3Afalse%7D%2C%22aggregateRating%22%3A0%2C%22ingredients%22%3A%5B%222%20large%20cucumbers%2C%20peeled%20(about%201%201%2F2%20pounds)%22%2C%221%20large%20daikon%20radish%2C%20peeled%22%2C%224%20scallions%22%2C%221%2F2%20pound%20sea%20beans%2C%20ends%20trimmed%22%2C%223%20tablespoons%20rice%20wine%20vinegar%22%2C%222%20tablespoons%20canola%20oil%22%2C%222%20tablespoons%20toasted%20sesame%20oil%22%2C%222%20tablespoons%20tamari%22%2C%222%20teaspoons%20black%20sesame%20seeds%22%2C%222%20teaspoons%20white%20sesame%20seeds%22%2C%221%20teaspoon%20sugar%22%2C%222%20fresh%20shiso%20leaves%2C%20finely%20chopped%22%5D%2C%22prepSteps%22%3A%5B%221.%20Cut%20the%20flesh%20of%20the%20cucumber%20into%20very%20thin%20noodle-like%20strips.%20Avoid%20the%20seeds%20by%20not%20cutting%20the%20very%20center%20of%20the%20cucumber.%20A%20mandoline%20works%20best%2C%20or%20use%20a%20knife%20and%20slice%20really%20thin.%22%2C%222.%20Cut%20the%20daikon%20into%20the%20same%20thin%20noodle-like%20strips.%20Here%20there%20are%20no%20seeds%2C%20so%20you%20can%20cut%20through%20the%20entire%20vegetable.%22%2C%223.%20Trim%20the%20roots%20of%20the%20scallions%2C%20then%20slice%20them%20into%20fine%20rings.%20Start%20at%20the%20white%20bottom%20and%20use%20about%20three-quarters%20of%20each%20scallion%2C%20until%20the%20leaves%20become%20much%20darker%20green%20and%20thicker.%22%2C%224.%20Combine%20the%20remaining%20ingredients%20in%20a%20medium%20bowl%20to%20ensure%20they%20are%20well%20mixed%2C%20then%20add%20all%20of%20the%20vegetables.%20Toss%20to%20combine%2C%20then%20cover%20and%20place%20in%20the%20refrigerator%20to%20marinate%20for%20at%20least%2030%20minutes%2C%20but%20no%20longer%20than%2024%20hours%20or%20they%20will%20get%20mushy.%20Serve%20chilled.%22%5D%2C%22reviewsCount%22%3A0%2C%22willMakeAgainPct%22%3A0%7D%2C%7B%22id%22%3A%2254a422d96529d92b2c009609%22%2C%22dek%22%3A%22Vegan%20(when%20made%20with%20agave%20nectar%20or%20sugar)%5CnThis%20trick%20will%20alter%20and%20augment%20your%20cooking%3A%20Pour%20boiling%20water%20over%20sliced%20or%20diced%20red%20onions%2C%20then%20transfer%20them%20to%20a%20solution%20of%20vinegar%2C%20sweetener%2C%20and%20salt.%20The%20onions%20will%20brighten%20into%20a%20gaudy%20shade%20of%20purplish-pink%20and%20will%20keep%20indefinitely%2C%20mysteriously%20retaining%20their%20bright%20color%20and%20crisp%20texture.%20rather%20than%20slice%2C%20the%20onions%2C%20if%20they%20are%20headed%20for%20one%20of%20the%20cold%20soups.)%5CnYou%20can%20vary%20the%20cut%20of%20the%20onions%E2%80%94and%20also%20the%20amounts%20of%20sweet%20and%20salt.%20Use%20as%20a%20dramatically%20colorful%20and%20refreshing%20tiara%20atop%20dinner%20plates%2C%20open-faced%20sandwiches%2C%20salads%2C%20cheeses%2C%20grilled%20tofu%2C%20or%20fish%E2%80%94anything%20savory.%20I%20use%20these%20often%20as%20an%20ingredient%20in%20cold%20soups%20and%20saladitas.%20(Mince%2C%20rather%20than%20slice%2C%20the%20onions%2C%20if%20they%20are%20headed%20for%20one%20of%20the%20cold%20soups.)%5Cn%E2%80%A2%20Use%20a%20very%20sharp%20knife%20or%20a%20food%20processor%20with%20a%20thin%20slicing%20attachment%20to%20cut%20the%20onions%20most%20easily.%22%2C%22hed%22%3A%22Pickled%20Red%20Onions%22%2C%22pubDate%22%3A%222013-10-02T04%3A00%3A00.000Z%22%2C%22author%22%3A%5B%7B%22name%22%3A%22Mollie%20Katzen%22%7D%5D%2C%22type%22%3A%22recipe%22%2C%22url%22%3A%22%2Frecipes%2Ffood%2Fviews%2Fpickled-red-onions-51196620%22%2C%22photoData%22%3A%7B%22id%22%3A%2257a8ae32b10b4fb03f234f38%22%2C%22filename%22%3A%22pickled-red-onions-2.jpg%22%2C%22caption%22%3A%22%22%2C%22credit%22%3A%22%22%2C%22promoTitle%22%3A%22%22%2C%22title%22%3A%22pickled-red-onions-2.jpg%22%2C%22orientation%22%3A%22landscape%22%2C%22restrictCropping%22%3Afalse%7D%2C%22aggregateRating%22%3A3.14%2C%22ingredients%22%3A%5B%221%20large%20red%20onion%20(3%2F4%20pound)%22%2C%223%20tablespoons%20vinegar%20(cider%2C%20red%20or%20white%20wine%2C%20or%20balsamic)%22%2C%221-2%20teaspoons%20agave%20nectar%2C%20light-colored%20honey%2C%20or%20sugar%22%2C%221%2F4%20teaspoon%20salt%22%5D%2C%22prepSteps%22%3A%5B%221.%20Put%20on%20a%20kettle%20of%20water%20to%20boil.%20Cut%20the%20onion%20into%20very%20thin%20slices%20or%20a%20mince%20and%20place%20it%20in%20a%20colander%20in%20the%20sink.%22%2C%222.%20In%20a%20bowl%20large%20enough%20to%20comfortably%20fit%20all%20the%20onion%2C%20combine%20the%20vinegar%2C%20sweetener%2C%20and%20salt%20and%20whisk%20until%20blended.%22%2C%223.%20Pour%20the%20boiling%20water%20over%20the%20onion%20and%20shake%20to%20drain.%20(It's%20fine%20if%20a%20little%20water%20still%20clings.)%22%2C%224.%20Add%20the%20onion%20to%20the%20vinegar%20solution%20and%20stir%20to%20coat.%20Let%20it%20sit%20for%20at%20least%20an%20hour%20or%20up%20to%20several%20days%2C%20covered%20and%20refrigerated%2C%20occasionally%20stirring%20and%2For%20shaking%20to%20allow%20maximum%20exposure%20to%20the%20liquid.%20Store%20in%20a%20jar%20with%20a%20tight-fitting%20lid%20in%20the%20refrigerator.%22%2C%22For%20beautiful%2C%20exotic%20pickled%20fruit%2C%20add%20fresh%20or%20frozen%20cherries%2C%20blueberries%2C%20or%20raspberries%E2%80%94or%20some%20small%20watermelon%20chunks%E2%80%94to%20the%20onion%20after%20the%20first%20hour%20of%20sitting%20time%20*%20Add%20any%20of%20the%20following%20to%20the%20pickle%20mixture%3A%20Raw%20broccoli%20stems%2C%20peeled%20and%20cut%20into%20slender%20matchsticks%20*%20Raw%20fennel%2C%20cut%20into%20thin%20slices%20*%20Lightly%20steamed%20carrot%20slices%20*%20Lightly%20steamed%20cauliflower%2C%20cut%20into%201-inch%20florets%22%5D%2C%22reviewsCount%22%3A5%2C%22willMakeAgainPct%22%3A60%7D%2C%7B%22id%22%3A%2254a4216a19925f464b3785c7%22%2C%22dek%22%3A%22I've%20been%20doing%20the%20previous%20marinades%20forever.%20This%20new%20one%20is%20first%20cousin%20to%20a%20good%20barbecued%20tofu%3A%20piquant%2C%20sweet-hot-rich%2C%20and%20scintillatingly%20tasty.%20The%20tofu%20is%20baked%20in%20the%20marinade%2Fsauce%2C%20which%20cooks%20down%20and%20coats%20it%2C%20caramelizing%20them.%20You'll%20probably%20have%20to%20soak%20the%20baking%20dish%20overnight%20before%20washing%20it%2C%20but%20it's%20worth%20it.%20Vary%20this%20using%20fruit%20juice%20concentrate%20instead%20of%20honey%20or%20sugar%2C%20and%20adding%20extra%20ginger%2C%20orange%20zest%2C%20or%20both.%20For%20an%20incendiary%20smokiness%2C%20add%20chipotle%20in%20adobo.%22%2C%22hed%22%3A%22New%20Wave-New%20Fave%20Baked%20Tofu%20or%20Tempeh%22%2C%22pubDate%22%3A%222012-02-10T04%3A00%3A00.000Z%22%2C%22author%22%3A%5B%7B%22name%22%3A%22Crescent%20Dragonwagon%22%7D%5D%2C%22type%22%3A%22recipe%22%2C%22url%22%3A%22%2Frecipes%2Ffood%2Fviews%2Fnew-wave-new-fave-baked-tofu-or-tempeh-394509%22%2C%22photoData%22%3A%7B%22id%22%3A%225a0ddb046e013d11dde39630%22%2C%22filename%22%3A%22no-recipe-card-green-15112017.jpg%22%2C%22caption%22%3A%22No%20Recipe%20Card-%20GREEN%22%2C%22credit%22%3A%22Photo%20by%20Chelsea%20Kyle%22%2C%22colors%22%3A%7B%22average%22%3A%22%23000000%22%7D%2C%22type%22%3A%22photo%22%7D%2C%22aggregateRating%22%3A3%2C%22ingredients%22%3A%5B%221%2F3%20cup%20natural%2C%20unhydrogenated%20peanut%20butter%22%2C%221%2F3%20cup%20tamari%20or%20shoyu%20soy%20sauce%22%2C%221%2F3%20cup%20honey%2C%20light%20brown%20sugar%2C%20maple%20syrup%2C%20or%20thawed%2C%20undiluted%20frozen%20apple%20or%20pineapple%20juice%20concentrate%22%2C%221%2F4%20cup%20apple%20cider%20vinegar%22%2C%224%20to%206%20cloves%20garlic%2C%20quartered%20lengthwise%22%2C%22About%201%20tablespoon%20chopped%20fresh%20ginger%20(optional)%22%2C%221%20to%202%20tablespoons%20tomato%20paste%20or%20ketchup%22%2C%221%20canned%20chipotle%20pepper%20in%20adobo%20sauce%2C%201%2F2%20teaspoon%20cayenne%2C%20or%201%20fresh%20serrano%20or%20jalape%C3%B1o%20pepper%2C%20de-stemmed%22%2C%22Juice%20and%20grated%20zest%20of%201%20orange%20(optional%2C%20but%20good)%22%2C%2212%20to%2014%20ounces%20drained%2C%20sliced%20traditional%20water-packed%20firm%20or%20extra-firm%20tofu%20or%20tempeh%22%2C%22Vegetable%20oil%20cooking%20spray%22%5D%2C%22prepSteps%22%3A%5B%221.%20Combine%20the%20peanut%20butter%2C%20tamari%2C%20honey%2C%20apple%20cider%20vinegar%2C%20garlic%2C%20ginger%2C%20tomato%20paste%2C%20chipotle%2C%20and%20orange%20juice%20and%20zest%20in%20a%20food%20processor%20and%20buzz%20until%20the%20ginger%20is%20finely%20chopped.%22%2C%222.%20To%20use%20the%20marinade%2C%20place%20the%20tofu%20in%20a%20nonreactive%20bowl%20or%20zip-top%20bag%20and%20pour%20or%20spoon%20this%20luscious%20mixture%20over%20it.%20Refrigerate%20the%20tofu%2C%20covered%2C%20overnight.%22%2C%223.%20The%20next%20day%2C%20preheat%20the%20oven%20to%20375%C2%B0F%20and%20generously%20spray%20a%20nonreactive%20baking%20dish%20with%20oil%20(I%20use%20an%208%20or%209%20by%2012-inch%20deep%20glass%20baking%20dish).%22%2C%224.%20Place%20the%20tofu%20and%20its%20marinade%20in%20the%20baking%20dish%2C%20spreading%20the%20marinade%20as%20needed%20so%20both%20sides%20of%20the%20tofu%20slices%20get%20a%20good%20smear%20of%20it.%20Bake%2C%20turning%20once%2C%20until%20fragrant%2C%20firmed%20up%2C%20and%20golden%20to%20deep%20brown%20in%20spots%20with%20the%20marinade%20considerably%20thickened%2C%20about%2030%20minutes.%22%5D%2C%22reviewsCount%22%3A1%2C%22willMakeAgainPct%22%3A100%7D%2C%7B%22id%22%3A%2254a427be6529d92b2c00cd4c%22%2C%22dek%22%3A%22Wheat%20Free%5CnNo%20need%20to%20worry%20if%20your%20local%20market%20doesn't%20carry%20egg-free%20mayo.%20Just%20whip%20up%20some%20of%20your%20own.%20This%20recipe%20works%20very%20well%20as%20a%20sandwich%20spread%20or%20in%20any%20mayonnaise-based%20dressing.%20As%20long%20as%20you%20use%20wheat-free%20vinegar%2C%20this%20mayo%20is%20indeed%20wheat-free.%22%2C%22hed%22%3A%22Vegan%20Mayonnaise%22%2C%22pubDate%22%3A%222011-06-23T04%3A00%3A00.000Z%22%2C%22author%22%3A%5B%7B%22name%22%3A%22Joni%20Marie%20Newman%22%7D%5D%2C%22type%22%3A%22recipe%22%2C%22url%22%3A%22%2Frecipes%2Ffood%2Fviews%2Fvegan-mayonnaise-366490%22%2C%22photoData%22%3A%7B%22id%22%3A%2254b2afd611c5d6af478b2759%22%2C%22filename%22%3A%22366490_vegan-mayonnaise_1x1.jpg%22%2C%22caption%22%3A%22Vegan%20Mayonnaise%22%2C%22credit%22%3A%22Rockport%20Publishers%22%2C%22promoTitle%22%3A%22Vegan%20Mayonnaise%22%2C%22title%22%3A%22Vegan%20Mayonnaise%22%2C%22orientation%22%3A%22landscape%22%2C%22restrictCropping%22%3Afalse%7D%2C%22aggregateRating%22%3A1%2C%22ingredients%22%3A%5B%227%20ounces%20(195%20g)%20extra-firm%20tofu%2C%20drained%20and%20pressed%22%2C%221%2F4%20cup%20(35%20g)%20raw%20cashews%2C%20ground%20into%20a%20very%20fine%20powder%22%2C%221%20tablespoon%20(15%20ml)%20lemon%20juice%22%2C%221%20tablespoon%20(12%20g)%20raw%20sugar%20or%20(21%20g)%20agave%20nectar%22%2C%221%201%2F2%20teaspoons%20brown%20or%20Dijon%20mustard%22%2C%221%20teaspoon%20apple%20cider%20or%20rice%20wine%20vinegar%22%2C%221%2F2%20teaspoon%20sea%20salt%22%2C%226%20tablespoons%20(90%20ml)%20canola%20oil%22%5D%2C%22prepSteps%22%3A%5B%22Place%20the%20tofu%2C%20cashews%2C%20lemon%20juice%2C%20sugar%2C%20mustard%2C%20vinegar%2C%20and%20salt%20in%20a%20blender%20or%20food%20processor%20and%20process%20until%20smooth.%22%2C%22Slowly%20drizzle%20in%20the%20oil%20and%20pulse%20until%20you%20get%20the%20consistency%20that%20you%20like.%22%2C%22Store%20in%20an%20airtight%20container%20in%20the%20refrigerator%20for%20up%20to%202%20weeks.%22%5D%2C%22reviewsCount%22%3A3%2C%22willMakeAgainPct%22%3A33%7D%2C%7B%22id%22%3A%2254a42a5219925f464b37ea8a%22%2C%22dek%22%3A%22A%20staple%20of%20classic%20Japanese%20cooking%2C%20teriyaki%20is%20wonderful%20with%20not%20only%20seafood%20but%20also%20poultry%2C%20beef%2C%20vegetables%2C%20and%20tofu.%20Often%2C%20however%2C%20this%20versatile%20sauce%20can%20be%20quite%20sweet.%20My%20version%20uses%20fresh%20orange%20juice%2C%20which%20adds%20just%20a%20touch%20of%20natural%20sweetness%20as%20well%20as%20some%20acidity%20to%20temper%20the%20sweet%20mirin.%20Pouring%20some%20of%20the%20teriyaki%20sauce%20into%20the%20hot%20pan%20with%20the%20fish%20further%20reduces%20it%20so%20the%20sauce%20really%20coats%20the%20fish%20with%20a%20deep%2C%20caramel%20glaze%20that%20enhances%20the%20delectable%20moist%2C%20buttery%2C%20and%20tender%20qualities%20of%20black%20cod%20perfectly.%20Other%20good%20fish%20for%20this%20dish%20are%20Alaskan%20cod%2C%20true%20cod%2C%20sablefish%2C%20or%20wild%20salmon.%20Searing%20each%20side%20of%20the%20sticky%20rice%20cake%20gives%20a%20nutty%20flavor%20and%20crisp%20texture.%20I%20also%20like%20to%20serve%20these%20rice%20cakes%20with%20vegetable%20stir-fries%20in%20place%20of%20plain%20rice.%20If%20you%20have%20a%20rice%20cooker%2C%20use%20it%20to%20prepare%20the%20rice%20according%20to%20the%20manufacturer's%20directions.%20If%20not%2C%20follow%20the%20instructions%20in%20the%20recipe%20to%20prepare%20it%20in%20a%20saucepan.%22%2C%22hed%22%3A%22Teriyaki%20Black%20Cod%20with%20Sticky%20Rice%20Cakes%20and%20Seared%20Baby%20Bok%20Choy%22%2C%22pubDate%22%3A%222011-03-11T04%3A00%3A00.000Z%22%2C%22author%22%3A%5B%7B%22name%22%3A%22Dean%20Rucker%22%7D%2C%7B%22name%22%3A%22%20Marah%20Stets%22%7D%5D%2C%22type%22%3A%22recipe%22%2C%22url%22%3A%22%2Frecipes%2Ffood%2Fviews%2Fteriyaki-black-cod-with-sticky-rice-cakes-and-seared-baby-bok-choy-363330%22%2C%22photoData%22%3A%7B%22id%22%3A%2256098f2d62fa7a9917c1d93e%22%2C%22filename%22%3A%22363330_hires.jpg%22%2C%22caption%22%3A%22Teriyaki%20Black%20Cod%20with%20Sticky%20Rice%20Cakes%20and%20Seared%20Baby%20Bok%20Choy%22%2C%22credit%22%3A%22Cookbook%20cover%20image%20courtesy%20of%20Random%20House%22%2C%22promoTitle%22%3A%22Teriyaki%20Black%20Cod%20with%20Sticky%20Rice%20Cakes%20and%20Seared%20Baby%20Bok%20Choy%22%2C%22title%22%3A%22Teriyaki%20Black%20Cod%20with%20Sticky%20Rice%20Cakes%20and%20Seared%20Baby%20Bok%20Choy%22%2C%22orientation%22%3A%22landscape%22%2C%22restrictCropping%22%3Afalse%7D%2C%22aggregateRating%22%3A3.25%2C%22ingredients%22%3A%5B%229%20baby%20bok%20choy%2C%20halved%20lengthwise%22%2C%223%2F4%20cup%20sushi%20rice%22%2C%22Grapeseed%20or%20canola%20oil%20spray%22%2C%222%20tablespoons%20sliced%20scallions%20(white%20and%20green%20parts)%22%2C%221%20teaspoon%20minced%20garlic%22%2C%221%20tablespoon%20minced%20peeled%20fresh%20ginger%22%2C%221%20tablespoon%20unseasoned%20rice%20vinegar%22%2C%221%201%2F2%20teaspoons%20mirin%22%2C%22Pinch%20of%20kosher%20salt%22%2C%22Pinch%20of%20freshly%20ground%20black%20pepper%22%2C%221%2F2%20cup%20low-sodium%20soy%20sauce%22%2C%223%2F4%20cup%20fresh%20orange%20juice%20(from%203%20oranges)%22%2C%221%2F4%20cup%20mirin%22%2C%221%20teaspoon%20minced%20peeled%20fresh%20ginger%22%2C%221%2F2%20teaspoon%20cornstarch%22%2C%226%20(4-ounce)%20skinless%20black%20cod%20fillets%2C%20each%201%20inch%20thick%22%2C%221%2F4%20teaspoon%20freshly%20ground%20black%20pepper%22%2C%22Grapeseed%20or%20canola%20oil%20spray%22%2C%221%2F2%20cup%20thinly%20sliced%20scallions%20(white%20and%20light%20green%20parts)%2C%20for%20serving%22%2C%221%20tablespoon%20sesame%20seeds%2C%20toasted%2C%20for%20serving%22%5D%2C%22prepSteps%22%3A%5B%22Bring%20a%20large%20pot%20of%20water%20to%20a%20rapid%20boil.%20Prepare%20a%20bowl%20of%20ice%20water.%20Add%20the%20bok%20choy%20to%20the%20boiling%20water%20and%20cook%20for%2030%20seconds.%20Drain%20the%20bok%20choy%20and%20immediately%20transfer%20it%20to%20the%20ice%20water%20for%202%20minutes%20to%20cool.%20Drain%20the%20bok%20choy%20and%20set%20aside%20on%20a%20clean%20kitchen%20towel%20to%20soak%20up%20excess%20moisture.%22%2C%22Prepare%20the%20sticky%20rice%20cakes.%20Put%20the%20rice%20in%20a%20large%20bowl%20and%20cover%20with%20cold%20water.%20Use%20your%20hand%20to%20swish%20the%20rice%20around%20a%20few%20times.%20Drain%20and%20repeat%20until%20the%20water%20in%20the%20bowl%20is%20clear%3B%20you%20may%20need%20to%20rinse%20it%20several%20times.%22%2C%22Put%20the%20rice%20in%20a%20small%2C%20heavy-bottomed%20saucepan%20and%20add%20water%20to%20cover%20by%201%20inch.%20Cover%20the%20pan%3B%20for%20best%20results%2C%20do%20not%20uncover%20the%20pan%20at%20any%20time%20during%20cooking.%20Bring%20to%20a%20boil%20over%20medium-high%20heat%2C%204%20to%205%20minutes%3B%20you%20will%20be%20able%20to%20tell%20the%20water%20is%20boiling%20by%20the%20large%20amount%20of%20steam%20pouring%20out%20from%20under%20the%20lid.%20Reduce%20the%20heat%20to%20low%20and%20simmer%2C%20covered%2C%20for%2010%20minutes.%20Remove%20the%20pan%20from%20the%20heat%20and%20let%20stand%2C%20covered%2C%20for%2015%20minutes.%22%2C%22Spray%20a%20small%20saut%C3%A9%20pan%20with%20grapeseed%20oil%20and%20heat%20over%20medium%20heat.%20Add%20the%20scallions%2C%20garlic%2C%20and%20ginger%20and%20cook%2C%20stirring%2C%20until%20just%20softened%20and%20fragrant%2C%20about%2030%20seconds.%20Fold%20the%20scallion%20mixture%20into%20the%20warm%2C%20cooked%20rice%20along%20with%20the%20vinegar%2C%20mirin%2C%20salt%2C%20and%20pepper.%22%2C%22Line%20a%20platter%20or%20baking%20sheet%20with%20parchment%20paper%20sprayed%20with%20oil%20or%20with%20waxed%20paper.%20Have%20a%20separate%20bowl%20of%20water%20ready.%20Dip%20your%20hands%20into%20the%20water%20and%20scoop%20up%201%2F4%20cup%20rice.%20Form%20it%20into%20a%20tightly%20packed%20cake%20about%202%20inches%20thick%20and%20place%20the%20cake%20on%20the%20platter.%20Repeat%20with%20the%20remaining%20rice%20to%20form%20five%20more%20cakes.%20Set%20aside%20in%20the%20refrigerator.%22%2C%22Meanwhile%2C%20in%20a%20small%20saucepan%2C%20combine%20the%20soy%20sauce%2C%20orange%20juice%2C%20mirin%2C%20and%20ginger.%20Bring%20to%20a%20boil%20and%20reduce%20the%20heat%20to%20low.%20Simmer%20just%20until%20reduced%20by%20half%2C%2030%20to%2040%20minutes.%20In%20a%20small%20dish%2C%20mix%20the%20cornstarch%20and%201%20teaspoon%20water%20and%20stir%20this%20slurry%20into%20the%20simmering%20sauce.%20Simmer%2030%20seconds%20and%20remove%20the%20pan%20from%20the%20heat.%22%5D%2C%22reviewsCount%22%3A9%2C%22willMakeAgainPct%22%3A88%7D%2C%7B%22id%22%3A%2254a4276219925f464b37c5f1%22%2C%22dek%22%3A%22Combining%20bittersweet%20chocolate%20and%20cocoa%20powder%20intensifies%20the%20chocolaty%20essence%20of%20this%20cheesecake%20to%20the%20nth%20degree.%20Silken%20tofu%20brings%20a%20delicate%20creaminess%20to%20the%20filling%20while%20also%20taking%20the%20place%20of%20eggs%20by%20acting%20as%20a%20binding%20agent.%22%2C%22hed%22%3A%22Vegan%20Chocolate%20Cheesecake%22%2C%22pubDate%22%3A%222009-10-15T04%3A00%3A00.000Z%22%2C%22author%22%3A%5B%7B%22name%22%3A%22Gina%20Marie%20Miraglia%20Eriquez%22%7D%5D%2C%22type%22%3A%22recipe%22%2C%22url%22%3A%22%2Frecipes%2Ffood%2Fviews%2Fvegan-chocolate-cheesecake-355990%22%2C%22photoData%22%3A%7B%22id%22%3A%225609a773e0acd286555dba9e%22%2C%22filename%22%3A%22355990_hires.jpg%22%2C%22caption%22%3A%22Vegan%20Chocolate%20Cheesecake%22%2C%22credit%22%3A%22Romulo%20Yanes%22%2C%22promoTitle%22%3A%22Vegan%20Chocolate%20Cheesecake%22%2C%22title%22%3A%22Vegan%20Chocolate%20Cheesecake%22%2C%22orientation%22%3A%22landscape%22%2C%22restrictCropping%22%3Afalse%7D%2C%22aggregateRating%22%3A2.76%2C%22ingredients%22%3A%5B%221%201%2F4%20cups%20chocolate%20or%20regular%20graham%20cracker%20crumbs%20(from%20nine%205-by%202%201%2F2-inch%20graham%20crackers)%22%2C%223%20tablespoons%20sugar%22%2C%224%20tablespoons%20Earth%20Balance%20vegan%20buttery%20spread%2C%20melted%20and%20cooled%2C%20plus%20additional%20for%20greasing%20pan%22%2C%222%201%2F4%20cups%20sugar%2C%20divided%22%2C%221%2F3%20cup%20water%22%2C%228%20ounces%20bittersweet%20chocolate%20(no%20more%20than%2060%25%20cacao)%2C%20chopped%22%2C%222%20(1-pound%20packages%20silken%20tofu%2C%20drained%22%2C%221%2F4%20cup%20unsweetened%20cocoa%20powder%20(not%20Dutch-process)%22%2C%222%20(8-ounces)%20containers%20soy%20cream%20cheese%20at%20room%20temperature%22%2C%221%20teaspoon%20pure%20vanilla%20extract%22%2C%22Rounded%201%2F4%20teaspoon%20salt%22%2C%22Equipment%3A%20a%209-inch%20springform%20pan%22%5D%2C%22prepSteps%22%3A%5B%22Preheat%20oven%20to%20350%C2%B0F%20with%20racks%20in%20middle%20and%20lower%20third%20and%20put%20a%20baking%20sheet%20on%20lower%20rack.%20Flip%20bottom%20of%20springform%20pan%20so%20lip%20is%20facing%20down%2C%20then%20lock%20in%20place.%20Grease%20bottom%20and%20side%20of%20pan.%22%2C%22Stir%20together%20all%20crust%20ingredients%2C%20then%20press%20onto%20bottom%20and%201%20inch%20up%20side%20of%20pan.%20Bake%20until%20set%2C%2010%20to%2012%20minutes%2C%20then%20cool%20completely%2C%20about%2045%20minutes.%22%2C%22Heat%201%20cup%20sugar%20in%20a%201%201%2F2-to%202-quart%20heavy%20saucepan%20over%20medium%20heat%2C%20stirring%20with%20a%20fork%20to%20heat%20sugar%20evenly%2C%20until%20it%20starts%20to%20melt%2C%20then%20stop%20stirring%20and%20cook%2C%20swirling%20pan%20occasionally%20so%20sugar%20melts%20evenly%2C%20until%20it%20is%20dark%20amber.%20Remove%20from%20heat%20and%20carefully%20stir%20in%20water%20(mixture%20will%20bubble%20up%20and%20steam%20and%20caramel%20will%20harden)%2C%20then%20cook%20over%20medium-low%20heat%2C%20stirring%2C%20until%20caramel%20has%20dissolved.%20Remove%20from%20heat%20and%20whisk%20in%20chopped%20chocolate%20until%20smooth.%20Cool%20fudge%20sauce%20slightly.%22%2C%22Pur%C3%A9e%20tofu%20and%20cocoa%20in%20a%20food%20processor%20until%20smooth.%22%2C%22Beat%20soy%20cream%20cheese%20and%20remaining%201%201%2F4%20cups%20sugar%20with%20an%20electric%20mixer%20at%20medium-high%20speed%20until%20fluffy.%20At%20low%20speed%2C%20beat%20in%20tofu%20pur%C3%A9e%2C%20vanilla%2C%20salt%2C%20and%20fudge%20sauce%20until%20incorporated.%22%2C%22Pour%20filling%20into%20crust%20and%20bake%20on%20middle%20rack%20until%20top%20of%20cake%20is%20shiny%20but%20center%20is%20still%20slightly%20wobbly%20when%20pan%20is%20gently%20shaken%2C%20about%201%20hour.%20Turn%20oven%20off%20and%20leave%20cake%20in%20oven%201%20hour%20more.%22%2C%22Run%20a%20knife%20around%20top%20edge%20of%20cake%20to%20loosen%2C%20then%20cool%20completely%20in%20pan%20on%20rack%20(cake%20will%20continue%20to%20set%20as%20it%20cools).%20Chill%20cake%2C%20loosely%20covered%2C%20at%20least%206%20hours.%20Remove%20side%20of%20pan%20and%20transfer%20cake%20to%20a%20plate.%20Bring%20to%20room%20temperature%20before%20serving%20if%20desired.%22%5D%2C%22reviewsCount%22%3A15%2C%22willMakeAgainPct%22%3A58%7D%2C%7B%22id%22%3A%2254a42e8319925f464b381eab%22%2C%22dek%22%3A%22A%20bowl%20of%20these%20refreshing%20noodles%E2%80%94a%20riff%20on%20a%20Japanese%20classic%20that%20gets%20topped%20with%20silky%20tofu%E2%80%94is%20clean%20and%20light%2C%20yet%20still%20hearty%20enough%20to%20make%20a%20satisfying%20meal.%22%2C%22hed%22%3A%22Chilled%20Soba%20with%20Tofu%20and%20Sugar%20Snap%20Peas%22%2C%22pubDate%22%3A%222008-09-18T16%3A43%3A55.000Z%22%2C%22author%22%3A%5B%7B%22name%22%3A%22%20Lillian%20Chou%22%7D%5D%2C%22type%22%3A%22recipe%22%2C%22url%22%3A%22%2Frecipes%2Ffood%2Fviews%2Fchilled-soba-with-tofu-and-sugar-snap-peas-242834%22%2C%22photoData%22%3A%7B%22id%22%3A%22560d78b17b55306961bf3470%22%2C%22filename%22%3A%22242834_hires.jpg%22%2C%22caption%22%3A%22Chilled%20Soba%20with%20Tofu%20and%20Sugar%20Snap%20Peas%22%2C%22credit%22%3A%22Romulo%20Yanes%22%2C%22promoTitle%22%3A%22Chilled%20Soba%20with%20Tofu%20and%20Sugar%20Snap%20Peas%22%2C%22title%22%3A%22Chilled%20Soba%20with%20Tofu%20and%20Sugar%20Snap%20Peas%22%2C%22orientation%22%3A%22portrait%22%2C%22restrictCropping%22%3Afalse%7D%2C%22aggregateRating%22%3A3.53%2C%22ingredients%22%3A%5B%221%20large%20dried%20shiitake%20mushroom%22%2C%222%201%2F2%20cups%20water%22%2C%228%20(1-inch)%20pieces%20kombu%20(dried%20kelp)%22%2C%221%2F2%20cup%20soy%20sauce%20(preferably%20Japanese)%22%2C%221%2F4%20cup%20mirin%20(Japanese%20sweet%20rice%20wine)%22%2C%223%20tablespoons%20ponzu%20sauce%20(not%20containing%20dashi)%22%2C%221%20tablespoon%20sugar%22%2C%221%20tablespoon%20Asian%20sesame%20oil%22%2C%221%20pound%20sugar%20snap%20peas%2C%20thinly%20sliced%22%2C%2210%20ounces%20baby%20spinach%20(16%20cups)%22%2C%221%20pound%20dried%20soba%20noodles%22%2C%221%20(14-%20to%2018-ounce)%20package%20silken%20tofu%22%2C%221%20cup%20thinly%20sliced%20scallions%2C%20divided%22%2C%222%20tablespoons%20thin%20matchsticks%20of%20peeled%20ginger%22%5D%2C%22prepSteps%22%3A%5B%22Simmer%20mushroom%20in%20water%20in%20a%20small%20saucepan%2C%20covered%2C%2015%20minutes.%20Add%20kombu%20and%20barely%20simmer%2C%20covered%2C%205%20minutes.%20Remove%20from%20heat%20and%20let%20stand%2C%20covered%2C%205%20minutes.%20Strain%20through%20a%20fine-mesh%20sieve%20into%20a%20large%20glass%20measure%2C%20pressing%20on%20and%20discarding%20solids.%20Return%202%20cups%20liquid%20(add%20water%20if%20necessary)%20to%20saucepan.%20Add%20soy%20sauce%2C%20mirin%2C%20ponzu%2C%20sugar%2C%20and%201%2F4%20teaspoon%20salt%20and%20bring%20to%20a%20boil%2C%20stirring%20until%20sugar%20has%20dissolved.%20Remove%20from%20heat.%20Stir%20in%20sesame%20oil%2C%20then%20cool%20in%20pan%20in%20a%20large%20ice%20bath.%22%2C%22Blanch%20sugar%20snaps%20in%20a%20large%20pot%20of%20unsalted%20boiling%20water%20until%20crisp-tender%2C%20about%202%20minutes.%20Transfer%20with%20a%20slotted%20spoon%20to%20a%20large%20colander%20set%20in%20ice%20bath%20to%20stop%20cooking.%20Lift%20colander%20to%20drain.%20Transfer%20sugar%20snaps%20to%20a%20bowl.%20Meanwhile%2C%20return%20water%20to%20a%20boil.%20Blanch%20spinach%20until%20just%20wilted%2C%20about%2030%20seconds%2C%20then%20cool%20and%20drain%20in%20same%20manner.%20Squeeze%20out%20excess%20water.%20Add%20to%20sugar%20snaps.%22%2C%22Return%20water%20to%20a%20boil.%22%2C%22Add%20noodles%20and%20cook%20according%20to%20package%20directions%2C%20stirring%20occasionally%2C%20until%20tender.%20Drain%20in%20colander%20and%20rinse%20with%20cold%20water.%20Cool%20in%20ice%20bath%20until%20very%20cold%20(add%20more%20ice%20to%20water%20as%20necessary).%20Drain%20well.%22%2C%22Carefully%20drain%20tofu%20and%20pat%20dry.%20Cut%20into%203%2F4-inch%20cubes.%22%2C%22Whisk%20sauce%2C%20then%20pour%201%201%2F2%20cups%20sauce%20into%20a%20large%20bowl.%20Add%20noodles%2C%20sugar%20snaps%2C%20spinach%2C%20and%20half%20of%20scallions%20and%20toss.%20Serve%20in%20shallow%20bowls%2C%20topped%20with%20tofu%2C%20remaining%20scallions%2C%20and%20ginger.%20Drizzle%20with%20some%20of%20remaining%20sauce%20and%20serve%20remainder%20on%20the%20side.%22%5D%2C%22reviewsCount%22%3A8%2C%22willMakeAgainPct%22%3A75%7D%2C%7B%22id%22%3A%2254a4332f6529d92b2c016045%22%2C%22dek%22%3A%22A%20Meyer%20lemon%20is%20a%20cross%20between%20a%20lemon%20and%20a%20mandarin%20orange.%20If%20you%20can't%20find%20any%2C%20substitute%20regular%20lemons.%20This%20pie's%20decadent%20cream%20filling%20is%20made%20from%20protein-rich%20tofu.%22%2C%22hed%22%3A%22Meyer%20Lemon%20Cream%20Pies%22%2C%22pubDate%22%3A%222007-07-16T04%3A09%3A02.000Z%22%2C%22author%22%3A%5B%5D%2C%22type%22%3A%22recipe%22%2C%22url%22%3A%22%2Frecipes%2Ffood%2Fviews%2Fmeyer-lemon-cream-pies-239225%22%2C%22photoData%22%3A%7B%22id%22%3A%2256f30156c98a9a676e4e6bce%22%2C%22filename%22%3A%22239225_hires.jpg%22%2C%22caption%22%3A%22%22%2C%22credit%22%3A%22Photo%20by%20Yunhee%20Kim%22%2C%22promoTitle%22%3A%22%22%2C%22title%22%3A%22Meyer%20Lemon%20Cream%20Pies%22%2C%22orientation%22%3A%22landscape%22%2C%22restrictCropping%22%3Afalse%7D%2C%22aggregateRating%22%3A2.5%2C%22ingredients%22%3A%5B%221%201%2F4%20cups%20graham-cracker%20crumbs%22%2C%222%20tablespoons%20sugar%22%2C%225%20tablespoons%20unsalted%20butter%2C%20melted%22%2C%222%20(12-ounce)%20containers%20firm%20silken%20tofu%20(such%20as%20Mori-Nu)%22%2C%22Grated%20zest%20and%20juice%20of%202%20Meyer%20lemons%22%2C%221%2F2%20cup%20confectioners'%20sugar%22%5D%2C%22prepSteps%22%3A%5B%221.%20Preheat%20oven%20to%20350%C2%B0F.%22%2C%222.%20In%20a%20medium%20bowl%2C%20mix%20together%20all%20the%20crust%20ingredients.%20Press%20the%20mixture%20into%20the%20bottom%20and%20sides%20of%20four%20tartlet%20molds%20or%204-ounce%20ramekins.%22%2C%223.%20Bake%20until%20golden%20brown%2C%208%20to%2010%20minutes.%20Remove%20and%20let%20cool%20completely.%22%2C%224.%20In%20a%20blender%2C%20combine%20all%20the%20filling%20ingredients%20until%20smooth%2C%20spoon%20the%20mixture%20into%20the%20crusts%2C%20and%20refrigerate%20for%20at%20least%201%20hour.%22%5D%2C%22reviewsCount%22%3A8%2C%22willMakeAgainPct%22%3A50%7D%2C%7B%22id%22%3A%2254a4729919925f464b399731%22%2C%22dek%22%3A%22%22%2C%22hed%22%3A%22Scallop%20and%20Corn%20Pot%20Stickers%22%2C%22pubDate%22%3A%222004-08-20T04%3A00%3A00.000Z%22%2C%22author%22%3A%5B%5D%2C%22type%22%3A%22recipe%22%2C%22url%22%3A%22%2Frecipes%2Ffood%2Fviews%2Fscallop-and-corn-pot-stickers-11846%22%2C%22photoData%22%3A%7B%22id%22%3A%225a0ddb06f110de5830af9a10%22%2C%22filename%22%3A%22no-recipe-card-red-15112017.jpg%22%2C%22caption%22%3A%22No%20Recipe%20card-%20RED%22%2C%22credit%22%3A%22Photo%20by%20Chelsea%20Kyle%22%2C%22colors%22%3A%7B%22average%22%3A%22%23000000%22%7D%2C%22type%22%3A%22photo%22%7D%2C%22aggregateRating%22%3A3.5%2C%22ingredients%22%3A%5B%221%2F2%20pound%20sea%20scallops%22%2C%221%2F4%20teaspoon%20salt%22%2C%221%2F4%20cup%20soft%20tofu%20(preferably%20silken)%22%2C%221%2F4%20cup%20cooked%20corn%22%2C%221%2F4%20cup%20minced%20red%20bell%20pepper%22%2C%223%20tablespoons%20minced%20scallion%22%2C%222%20tablespoons%20finely%20chopped%20fresh%20coriander%22%2C%22eighteen%203-to-4%20inch%20round%20won%20ton%20or%20dumpling%20or%20gyozo%20wrappers%2C%C2%A0thawed%20if%20frozen%22%2C%22cornstarch%20for%20dusting%20tray%22%2C%22Sesame%20Vinaigrette%22%5D%2C%22prepSteps%22%3A%5B%22Discard%20small%20tough%20muscle%20from%20side%20of%20each%20scallop%20and%20in%20a%20food%20processor%20pur%C3%A9e%20half%20scallops%20with%20salt.%20With%20motor%20running%20add%20tofu%20in%20a%20stream%20and%20blend%20until%20just%20combined.%22%2C%22Transfer%20scallop%20mousse%20to%20a%20small%20bowl.%20Chop%20fine%20remaining%20scallops%20and%20stir%20into%20mousse%20with%20corn%2C%20bell%20pepper%2C%20scallion%2C%20and%20coriander.%22%2C%22Put%20about%201%20tablespoon%20filling%20in%20center%20of%201%20wrapper%20and%20moisten%20edge%20of%20wrapper.%20Gather%20edge%20of%20wrapper%20up%20and%20around%20filling%2C%20pleating%20edge.%20Gently%20squeeze%20middle%20of%20pot%20sticker%20to%20form%20a%20waist%2C%20keeping%20filling%20level%20with%20top%20of%20wrapper.%20(Pot%20sticker%20will%20resemble%20a%20sack%20filled%20to%20top.)%22%2C%22Make%2017%20more%20pot%20stickers%20in%20same%20manner%20and%20arrange%20on%20a%20tray%20dusted%20lightly%20with%20cornstarch.%20Pot%20stickers%20may%20be%20made%20up%20to%20this%20point%201%20day%20ahead%20and%20chilled%2C%20covered%20with%20plastic%20wrap.%22%2C%22In%20a%20large%20non-stick%20skillet%20heat%20oil%20over%20moderately%20high%20heat%20until%20hot%20but%20not%20smoking%20and%20fry%20pot-sticker%20bottoms%20until%20golden%2C%20about%201%20minute.%20Add%20water%20and%20steam%20pot%20stickers%2C%20covered%2C%203%20to%204%20minutes%2C%20or%20until%20filling%20is%20springy%20to%20touch.%20Remove%20lid%20and%20cook%20pot%20stickers%20until%20liquid%20is%20evaporated%20and%20bottoms%20are%20recrisped.%22%2C%22Serve%20pot%20stickers%20with%20vinaigrette%20and%20garnish%20with%20coriander.%22%5D%2C%22reviewsCount%22%3A9%2C%22willMakeAgainPct%22%3A100%7D%5D%7D%7D%7D%2C%22options%22%3A%7B%22optimizePromiseCallback%22%3Afalse%7D%2C%22plugins%22%3A%7B%7D%7D%2C%22plugins%22%3A%7B%7D%7D\";\n",
      "  </script>\n",
      "  <script async=\"\" src=\"/static/js/dist/search__3.23.0.js\">\n",
      "  </script>\n",
      "  <script>\n",
      "   // Drop meta data about ads on page.\n",
      "    window.cns = window.cns || {}; window.cns.pageContext = {\"templateType\":\"search\",\"channel\":\"search\",\"server\":\"production\",\"slug\":\"search\",\"subChannel\":\"\",\"keywords\":{\"tags\":[\"search\",\"tofu%252520chill\",\"food\",\"content\"],\"platform\":\"autopilot\",\"copilotid\":\"\"}};\n",
      "  </script>\n",
      "  <script id=\"esi-1\">\n",
      "   var dl=(window.dataLayer||[])[0];window.CN_STACK_TEMP=(dl&&dl.site&&dl.site.appVersion==='multi-tenant')?'verso':'unknown';\n",
      "  </script>\n",
      "  <script id=\"cns-config-include\">\n",
      "   window.cns = window.cns || {}; window.cns.config = {\n",
      "  \"config\": {\n",
      "    \"ad_unit\": {\n",
      "      \"generate_path\": \"function (opts) { var category = opts.category; if (category.match(/^expert-advice/)) { category = \\\"expert-advice\\\"; } else if (category.match(/^recipes-menus/)) { category = \\\"recipes-menus\\\"; } else if (category.match(/^ingredients/)) { category = \\\"ingredients\\\"; } else if (category.match(/^holidays-events/)) { category = \\\"holidays-events\\\"; } else if (category.match(/^tags/)) { category = \\\"misc\\\"; } else if (category.match(/^about/)) { category = \\\"about\\\"; } var contentType = opts.contentType; if (contentType.match(/^undefined/) && category.match(/^about/)) { contentType = \\\"site-info\\\"; } return \\\"3379/conde.epi/\\\" + opts.position + \\\"/\\\" + category + \\\"/\\\" + contentType + \\\"/\\\" + opts.instance; }\",\n",
      "      \"generate_legacy_path\": \"function(opts) { return \\\"3379/epi.\\\" + opts.suffix + \\\"/\\\" + opts.channel + (opts.subChannel && \\\"/\\\" + opts.subChannel) }\",\n",
      "      \"map\": {\n",
      "        \"content_type\": {\n",
      "          \"article\": [\n",
      "            \"article\",\n",
      "            \"package\",\n",
      "            \"recipe\",\n",
      "            \"recipebox\"\n",
      "          ],\n",
      "          \"bundle\": [\n",
      "            \"_default\",\n",
      "            \"archive\",\n",
      "            \"channel\",\n",
      "            \"cookbook\",\n",
      "            \"home\",\n",
      "            \"menu\",\n",
      "            \"tag_page\"\n",
      "          ],\n",
      "          \"contributor\": [\n",
      "            \"contributor\"\n",
      "          ],\n",
      "          \"gallery\": [\n",
      "            \"gallery_slideshow\"\n",
      "          ],\n",
      "          \"search\": [\n",
      "            \"search\"\n",
      "          ],\n",
      "          \"site-info\": []\n",
      "        }\n",
      "      }\n",
      "    },\n",
      "    \"request_vp_range\": {\n",
      "      \"_default\": {\n",
      "        \"desktop\": 800,\n",
      "        \"tablet\": 800,\n",
      "        \"mobile\": 400\n",
      "      }\n",
      "    },\n",
      "    \"network\": 3379,\n",
      "    \"slot\": {\n",
      "      \"__auid_one\": \"epi\",\n",
      "      \"sets\": {\n",
      "        \"_default\": [\n",
      "          \"_out_of_page\"\n",
      "        ],\n",
      "        \"archive\": [\n",
      "          \"_out_of_page\",\n",
      "          \"banner_top\",\n",
      "          \"pushdown\",\n",
      "          \"box_top\",\n",
      "          \"box_bottom\",\n",
      "          \"epi_parallax\"\n",
      "        ],\n",
      "        \"article\": [\n",
      "          \"_out_of_page\",\n",
      "          \"banner_top\",\n",
      "          \"pushdown\",\n",
      "          \"box_top\",\n",
      "          \"box_bottom\",\n",
      "          \"epi_parallax\",\n",
      "          \"recipe_riser\",\n",
      "          \"sponsor_logo\",\n",
      "          \"railBoxTabletAd1\"\n",
      "        ],\n",
      "        \"channel\": [\n",
      "          \"_out_of_page\",\n",
      "          \"banner_top\",\n",
      "          \"pushdown\",\n",
      "          \"box_top\",\n",
      "          \"box_bottom\",\n",
      "          \"banner_bottom\",\n",
      "          \"epi_parallax\",\n",
      "          \"nativeFeaturedItem\"\n",
      "        ],\n",
      "        \"contributor\": [\n",
      "          \"_out_of_page\",\n",
      "          \"banner_top\",\n",
      "          \"box_top\",\n",
      "          \"box_bottom\"\n",
      "        ],\n",
      "        \"cookbook\": [\n",
      "          \"_out_of_page\",\n",
      "          \"box_top\"\n",
      "        ],\n",
      "        \"gallery_slideshow\": [\n",
      "          \"_out_of_page\",\n",
      "          \"box_intro_slideshow\",\n",
      "          \"interstitial_slideshow\",\n",
      "          \"box_slideshow\",\n",
      "          \"banner_top_slideshow\",\n",
      "          \"listicle_divider\"\n",
      "        ],\n",
      "        \"home\": [\n",
      "          \"_out_of_page\",\n",
      "          \"banner_top\",\n",
      "          \"box_top\",\n",
      "          \"box_bottom\",\n",
      "          \"banner_bottom\",\n",
      "          \"epi_parallax\",\n",
      "          \"nativeFeaturedItem\"\n",
      "        ],\n",
      "        \"menu\": [\n",
      "          \"_out_of_page\",\n",
      "          \"banner_top\",\n",
      "          \"pushdown\",\n",
      "          \"box_bottom\",\n",
      "          \"recipe_riser\",\n",
      "          \"epi_parallax\"\n",
      "        ],\n",
      "        \"newsletter\": [],\n",
      "        \"package\": [\n",
      "          \"_out_of_page\",\n",
      "          \"banner_top\",\n",
      "          \"pushdown\",\n",
      "          \"box_top\",\n",
      "          \"box_middle\",\n",
      "          \"box_bottom\",\n",
      "          \"banner_bottom\",\n",
      "          \"recipe_riser\",\n",
      "          \"epi_parallax\",\n",
      "          \"railBoxTabletAd1\"\n",
      "        ],\n",
      "        \"recipe\": [\n",
      "          \"_out_of_page\",\n",
      "          \"banner_top\",\n",
      "          \"pushdown\",\n",
      "          \"box_top\",\n",
      "          \"recipe_detail\",\n",
      "          \"box_bottom\",\n",
      "          \"epi_parallax\",\n",
      "          \"recipe_riser\",\n",
      "          \"railBoxTabletAd1\"\n",
      "        ],\n",
      "        \"recipebox\": [\n",
      "          \"_out_of_page\",\n",
      "          \"header\",\n",
      "          \"box_top\"\n",
      "        ],\n",
      "        \"search\": [\n",
      "          \"_out_of_page\",\n",
      "          \"search_box_top\",\n",
      "          \"search_box_middle\",\n",
      "          \"search_box_bottom\",\n",
      "          \"epi_parallax\"\n",
      "        ],\n",
      "        \"tag_page\": [\n",
      "          \"_out_of_page\",\n",
      "          \"banner_top\",\n",
      "          \"pushdown\",\n",
      "          \"box_top\",\n",
      "          \"box_bottom\",\n",
      "          \"epi_parallax\",\n",
      "          \"nativeTagResult\",\n",
      "          \"railBoxTabletAd1\"\n",
      "        ]\n",
      "      },\n",
      "      \"types\": {\n",
      "        \"_default\": {\n",
      "          \"suffix\": \"dart\",\n",
      "          \"insert_after_react_ready\": true,\n",
      "          \"render\": {\n",
      "            \"slot\": {\n",
      "              \"top\": \"body\"\n",
      "            }\n",
      "          }\n",
      "        },\n",
      "        \"_out_of_page\": {\n",
      "          \"_default\": {\n",
      "            \"position\": \"interstitial\",\n",
      "            \"refresh\": false,\n",
      "            \"isOutOfPage\": true,\n",
      "            \"can_be_hidden\": true,\n",
      "            \"render\": {\n",
      "              \"slot\": {\n",
      "                \"top\": \".ad__slot--out-of-page\"\n",
      "              }\n",
      "            }\n",
      "          }\n",
      "        },\n",
      "        \"banner_bottom\": {\n",
      "          \"_default\": {\n",
      "            \"position\": \"footer\",\n",
      "            \"sizes\": {\n",
      "              \"desktop\": [\n",
      "                \"728x90\",\n",
      "                \"970x250\",\n",
      "                \"970x90\"\n",
      "              ],\n",
      "              \"tablet\": [\n",
      "                \"728x90\",\n",
      "                \"970x250\",\n",
      "                \"970x90\"\n",
      "              ],\n",
      "              \"mobile\": false\n",
      "            },\n",
      "            \"render\": {\n",
      "              \"desktop\": {\n",
      "                \"slot\": {\n",
      "                  \"bottom\": \"aside.site-bottomBanner-ad-wrap\"\n",
      "                }\n",
      "              },\n",
      "              \"tablet\": {\n",
      "                \"slot\": {\n",
      "                  \"bottom\": \"aside.site-bottomBanner-ad-wrap\"\n",
      "                }\n",
      "              }\n",
      "            },\n",
      "            \"request_vp_range\": {\n",
      "              \"desktop\": 400,\n",
      "              \"tablet\": 400,\n",
      "              \"mobile\": 300\n",
      "            }\n",
      "          }\n",
      "        },\n",
      "        \"banner_top\": {\n",
      "          \"_default\": {\n",
      "            \"position\": \"hero\",\n",
      "            \"static_refresh_size\": true,\n",
      "            \"can_be_hidden\": true,\n",
      "            \"sizes\": {\n",
      "              \"desktop\": [\n",
      "                \"728x90\",\n",
      "                \"970x90\",\n",
      "                \"970x250\",\n",
      "                \"9x1\",\n",
      "                \"1140x380\",\n",
      "                \"9x3\",\n",
      "                \"10x1\"\n",
      "              ],\n",
      "              \"tablet\": [\n",
      "                \"728x90\",\n",
      "                \"970x90\",\n",
      "                \"970x250\",\n",
      "                \"9x1\",\n",
      "                \"1140x380\",\n",
      "                \"9x3\",\n",
      "                \"8x1\"\n",
      "              ],\n",
      "              \"mobile\": [\n",
      "                \"300x50\",\n",
      "                \"320x50\",\n",
      "                \"300x150\",\n",
      "                \"320x150\",\n",
      "                \"9x1\",\n",
      "                \"3x1\"\n",
      "              ]\n",
      "            },\n",
      "            \"data\": {\n",
      "              \"jivox-ad-id\": \"constellation-crown\"\n",
      "            },\n",
      "            \"render\": {\n",
      "              \"slot\": {\n",
      "                \"bottom\": \"aside.site-header-ad-wrap\"\n",
      "              }\n",
      "            }\n",
      "          },\n",
      "          \"home\": {\n",
      "            \"sizes\": {\n",
      "              \"desktop\": [\n",
      "                \"728x90\",\n",
      "                \"970x90\",\n",
      "                \"970x250\",\n",
      "                \"970x418\",\n",
      "                \"970x66\",\n",
      "                \"1140x380\",\n",
      "                \"9x1\",\n",
      "                \"9x3\"\n",
      "              ],\n",
      "              \"tablet\": [\n",
      "                \"728x90\",\n",
      "                \"970x90\",\n",
      "                \"970x250\",\n",
      "                \"970x418\",\n",
      "                \"970x66\",\n",
      "                \"1140x380\",\n",
      "                \"9x1\",\n",
      "                \"9x3\"\n",
      "              ],\n",
      "              \"mobile\": [\n",
      "                \"300x50\",\n",
      "                \"320x50\",\n",
      "                \"300x150\",\n",
      "                \"320x150\",\n",
      "                \"9x1\"\n",
      "              ]\n",
      "            },\n",
      "            \"render\": {\n",
      "              \"slot\": {\n",
      "                \"bottom\": \"aside.site-pushdown-ad-wrap\"\n",
      "              }\n",
      "            }\n",
      "          }\n",
      "        },\n",
      "        \"banner_top_slideshow\": {\n",
      "          \"_default\": {\n",
      "            \"position\": \"hero\",\n",
      "            \"static_refresh_size\": true,\n",
      "            \"can_be_hidden\": true,\n",
      "            \"sizes\": {\n",
      "              \"desktop\": false,\n",
      "              \"tablet\": [\n",
      "                \"728x90\",\n",
      "                \"8x1\"\n",
      "              ],\n",
      "              \"mobile\": [\n",
      "                \"300x50\",\n",
      "                \"320x50\",\n",
      "                \"300x150\",\n",
      "                \"320x150\",\n",
      "                \"9x1\",\n",
      "                \"3x1\"\n",
      "              ]\n",
      "            },\n",
      "            \"render\": {\n",
      "              \"slot\": {\n",
      "                \"bottom\": \".bannerTopSlideshow-ad-wrap\"\n",
      "              }\n",
      "            }\n",
      "          }\n",
      "        },\n",
      "        \"bottomBanner\": {\n",
      "          \"_default\": {\n",
      "            \"position\": \"footer\",\n",
      "            \"sizes\": {\n",
      "              \"desktop\": [\n",
      "                \"728x90\",\n",
      "                \"970x66\",\n",
      "                \"970x418\",\n",
      "                \"970x250\",\n",
      "                \"970x90\",\n",
      "                \"62x88\",\n",
      "                \"88x32\",\n",
      "                \"196x31\",\n",
      "                \"1140x380\",\n",
      "                \"900x300\"\n",
      "              ],\n",
      "              \"tablet\": [\n",
      "                \"728x90\",\n",
      "                \"970x66\",\n",
      "                \"970x418\",\n",
      "                \"970x250\",\n",
      "                \"970x90\",\n",
      "                \"62x88\",\n",
      "                \"88x32\",\n",
      "                \"196x31\",\n",
      "                \"1140x380\",\n",
      "                \"900x300\"\n",
      "              ],\n",
      "              \"mobile\": false\n",
      "            },\n",
      "            \"render\": {\n",
      "              \"slot\": {\n",
      "                \"bottom\": \"aside.site-bottomBanner-ad-wrap\"\n",
      "              }\n",
      "            },\n",
      "            \"request_vp_range\": {\n",
      "              \"desktop\": 400,\n",
      "              \"tablet\": 400,\n",
      "              \"mobile\": 300\n",
      "            }\n",
      "          }\n",
      "        },\n",
      "        \"box_bottom\": {\n",
      "          \"_default\": {\n",
      "            \"position\": \"rail\",\n",
      "            \"sizes\": {\n",
      "              \"desktop\": [\n",
      "                \"300x250\",\n",
      "                \"300x600\"\n",
      "              ],\n",
      "              \"tablet\": [\n",
      "                \"300x250\",\n",
      "                \"300x600\"\n",
      "              ],\n",
      "              \"mobile\": false\n",
      "            },\n",
      "            \"render\": {\n",
      "              \"slot\": {\n",
      "                \"bottom\": \"aside.box-bottom\"\n",
      "              }\n",
      "            }\n",
      "          },\n",
      "          \"channel\": {\n",
      "            \"sizes\": {\n",
      "              \"mobile\": [\n",
      "                \"300x50\",\n",
      "                \"320x50\",\n",
      "                \"300x150\",\n",
      "                \"320x150\",\n",
      "                \"300x250\"\n",
      "              ]\n",
      "            }\n",
      "          },\n",
      "          \"contributor\": {\n",
      "            \"sizes\": {\n",
      "              \"desktop\": [\n",
      "                \"-300x600\"\n",
      "              ],\n",
      "              \"tablet\": [\n",
      "                \"-300x600\"\n",
      "              ],\n",
      "              \"mobile\": [\n",
      "                \"300x250\"\n",
      "              ]\n",
      "            },\n",
      "            \"render\": {\n",
      "              \"slot\": {\n",
      "                \"bottom\": \".contributors2-1\"\n",
      "              }\n",
      "            }\n",
      "          },\n",
      "          \"menu\": {\n",
      "            \"sizes\": {\n",
      "              \"desktop\": [\n",
      "                \"-300x600\"\n",
      "              ],\n",
      "              \"tablet\": [\n",
      "                \"-300x600\"\n",
      "              ],\n",
      "              \"mobile\": [\n",
      "                \"300x250\",\n",
      "                \"320x50\",\n",
      "                \"300x150\",\n",
      "                \"320x150\",\n",
      "                \"9x2\"\n",
      "              ]\n",
      "            }\n",
      "          }\n",
      "        },\n",
      "        \"box_intro_slideshow\": {\n",
      "          \"_default\": {\n",
      "            \"position\": \"rail\",\n",
      "            \"sizes\": {\n",
      "              \"desktop\": [\n",
      "                \"300x250\",\n",
      "                \"300x600\"\n",
      "              ],\n",
      "              \"tablet\": [\n",
      "                \"300x250\",\n",
      "                \"300x600\"\n",
      "              ],\n",
      "              \"mobile\": false\n",
      "            },\n",
      "            \"render\": {\n",
      "              \"slot\": {\n",
      "                \"bottom\": \".boxIntroSlideshow-ad-wrap\"\n",
      "              }\n",
      "            }\n",
      "          }\n",
      "        },\n",
      "        \"box_middle\": {\n",
      "          \"_default\": {\n",
      "            \"position\": \"rail\",\n",
      "            \"sizes\": {\n",
      "              \"desktop\": [\n",
      "                \"300x250\",\n",
      "                \"300x600\"\n",
      "              ],\n",
      "              \"tablet\": [\n",
      "                \"300x250\",\n",
      "                \"300x600\"\n",
      "              ],\n",
      "              \"mobile\": [\n",
      "                \"300x250\"\n",
      "              ]\n",
      "            },\n",
      "            \"render\": {\n",
      "              \"slot\": {\n",
      "                \"bottom\": \"aside.box-middle\"\n",
      "              }\n",
      "            }\n",
      "          }\n",
      "        },\n",
      "        \"box_slideshow\": {\n",
      "          \"_default\": {\n",
      "            \"position\": \"rail\",\n",
      "            \"sizes\": {\n",
      "              \"desktop\": [\n",
      "                \"300x250\"\n",
      "              ],\n",
      "              \"tablet\": [\n",
      "                \"300x250\"\n",
      "              ],\n",
      "              \"mobile\": [\n",
      "                \"300x50\",\n",
      "                \"320x50\",\n",
      "                \"300x150\",\n",
      "                \"320x150\",\n",
      "                \"300x250\",\n",
      "                \"9x3\"\n",
      "              ]\n",
      "            },\n",
      "            \"render\": {\n",
      "              \"slot\": {\n",
      "                \"bottom\": \".boxSlideshow-ad-wrap\"\n",
      "              }\n",
      "            }\n",
      "          }\n",
      "        },\n",
      "        \"box_top\": {\n",
      "          \"_default\": {\n",
      "            \"position\": \"rail\",\n",
      "            \"sizes\": {\n",
      "              \"desktop\": [\n",
      "                \"300x250\",\n",
      "                \"300x600\"\n",
      "              ],\n",
      "              \"tablet\": [\n",
      "                \"300x250\",\n",
      "                \"300x600\"\n",
      "              ],\n",
      "              \"mobile\": [\n",
      "                \"300x50\"\n",
      "              ]\n",
      "            },\n",
      "            \"render\": {\n",
      "              \"slot\": {\n",
      "                \"bottom\": \"aside.box-top\"\n",
      "              }\n",
      "            }\n",
      "          },\n",
      "          \"article\": {\n",
      "            \"sizes\": {\n",
      "              \"mobile\": [\n",
      "                \"320x50\",\n",
      "                \"300x150\",\n",
      "                \"320x150\",\n",
      "                \"300x250\"\n",
      "              ]\n",
      "            }\n",
      "          },\n",
      "          \"channel\": {\n",
      "            \"sizes\": {\n",
      "              \"mobile\": [\n",
      "                \"320x50\",\n",
      "                \"300x150\",\n",
      "                \"320x150\",\n",
      "                \"300x250\"\n",
      "              ]\n",
      "            }\n",
      "          },\n",
      "          \"contributor\": {\n",
      "            \"sizes\": {\n",
      "              \"desktop\": [\n",
      "                \"-300x600\"\n",
      "              ],\n",
      "              \"tablet\": [\n",
      "                \"-300x600\"\n",
      "              ],\n",
      "              \"mobile\": [\n",
      "                \"300x250\",\n",
      "                \"-300x50\"\n",
      "              ]\n",
      "            }\n",
      "          },\n",
      "          \"cookbook\": {\n",
      "            \"sizes\": {\n",
      "              \"desktop\": [\n",
      "                \"-300x600\"\n",
      "              ],\n",
      "              \"tablet\": [\n",
      "                \"-300x600\"\n",
      "              ],\n",
      "              \"mobile\": [\n",
      "                \"300x250\"\n",
      "              ]\n",
      "            }\n",
      "          },\n",
      "          \"home\": {\n",
      "            \"sizes\": {\n",
      "              \"mobile\": [\n",
      "                \"320x50\",\n",
      "                \"300x150\",\n",
      "                \"320x150\",\n",
      "                \"300x250\"\n",
      "              ]\n",
      "            }\n",
      "          },\n",
      "          \"menu\": {\n",
      "            \"sizes\": {\n",
      "              \"desktop\": [\n",
      "                \"728x90\",\n",
      "                \"970x250\"\n",
      "              ],\n",
      "              \"tablet\": [\n",
      "                \"728x90\",\n",
      "                \"970x250\"\n",
      "              ],\n",
      "              \"mobile\": [\n",
      "                \"320x50\",\n",
      "                \"300x150\",\n",
      "                \"320x150\",\n",
      "                \"300x250\"\n",
      "              ]\n",
      "            }\n",
      "          },\n",
      "          \"package\": {\n",
      "            \"sizes\": {\n",
      "              \"mobile\": [\n",
      "                \"320x50\",\n",
      "                \"300x150\",\n",
      "                \"320x150\",\n",
      "                \"300x250\"\n",
      "              ]\n",
      "            }\n",
      "          },\n",
      "          \"recipe\": {\n",
      "            \"sizes\": {\n",
      "              \"mobile\": [\n",
      "                \"320x50\",\n",
      "                \"300x150\",\n",
      "                \"320x150\",\n",
      "                \"300x250\"\n",
      "              ]\n",
      "            }\n",
      "          },\n",
      "          \"tag_page\": {\n",
      "            \"sizes\": {\n",
      "              \"mobile\": [\n",
      "                \"320x50\",\n",
      "                \"300x150\",\n",
      "                \"320x150\",\n",
      "                \"300x250\"\n",
      "              ]\n",
      "            }\n",
      "          }\n",
      "        },\n",
      "        \"search_box_top\": {\n",
      "          \"_default\": {\n",
      "            \"position\": \"rail\",\n",
      "            \"sizes\": {\n",
      "              \"desktop\": [\n",
      "                \"300x250\",\n",
      "                \"2x2\"\n",
      "              ],\n",
      "              \"tablet\": [\n",
      "                \"300x250\",\n",
      "                \"2x2\"\n",
      "              ],\n",
      "              \"mobile\": [\n",
      "                \"300x250\",\n",
      "                \"2x2\"\n",
      "              ]\n",
      "            },\n",
      "            \"render\": {\n",
      "              \"slot\": {\n",
      "                \"bottom\": \"aside.search_box_top\"\n",
      "              }\n",
      "            }\n",
      "          }\n",
      "        },\n",
      "        \"search_box_middle\": {\n",
      "          \"_default\": {\n",
      "            \"position\": \"rail\",\n",
      "            \"sizes\": {\n",
      "              \"desktop\": [\n",
      "                \"300x250\",\n",
      "                \"2x2\"\n",
      "              ],\n",
      "              \"tablet\": [\n",
      "                \"300x250\",\n",
      "                \"2x2\"\n",
      "              ],\n",
      "              \"mobile\": [\n",
      "                \"300x250\",\n",
      "                \"2x2\"\n",
      "              ]\n",
      "            },\n",
      "            \"render\": {\n",
      "              \"slot\": {\n",
      "                \"bottom\": \"aside.search_box_middle\"\n",
      "              }\n",
      "            }\n",
      "          }\n",
      "        },\n",
      "        \"search_box_bottom\": {\n",
      "          \"_default\": {\n",
      "            \"position\": \"rail\",\n",
      "            \"sizes\": {\n",
      "              \"desktop\": [\n",
      "                \"300x250\",\n",
      "                \"2x2\"\n",
      "              ],\n",
      "              \"tablet\": [\n",
      "                \"300x250\",\n",
      "                \"2x2\"\n",
      "              ],\n",
      "              \"mobile\": [\n",
      "                \"300x250\",\n",
      "                \"2x2\"\n",
      "              ]\n",
      "            },\n",
      "            \"render\": {\n",
      "              \"slot\": {\n",
      "                \"bottom\": \"aside.search_box_bottom\"\n",
      "              }\n",
      "            }\n",
      "          }\n",
      "        },\n",
      "        \"epi_parallax\": {\n",
      "          \"_default\": {\n",
      "            \"position\": \"mid-content\",\n",
      "            \"static_refresh_size\": true,\n",
      "            \"sizes\": {\n",
      "              \"desktop\": [\n",
      "                \"9x2\"\n",
      "              ],\n",
      "              \"tablet\": [\n",
      "                \"9x2\"\n",
      "              ],\n",
      "              \"mobile\": [\n",
      "                \"9x2\",\n",
      "                \"9x3\"\n",
      "              ]\n",
      "            },\n",
      "            \"render\": {\n",
      "              \"desktop\": {\n",
      "                \"slot\": {\n",
      "                  \"bottom\": \"aside.parallax-ad-wrap\"\n",
      "                }\n",
      "              },\n",
      "              \"tablet\": {\n",
      "                \"slot\": {\n",
      "                  \"bottom\": \"aside.parallax-ad-wrap\"\n",
      "                }\n",
      "              },\n",
      "              \"mobile\": {\n",
      "                \"slot\": {\n",
      "                  \"bottom\": \"aside.parallax-ad-wrap\"\n",
      "                }\n",
      "              }\n",
      "            }\n",
      "          },\n",
      "          \"home\": {\n",
      "            \"render\": {\n",
      "              \"desktop\": {\n",
      "                \"slot\": {\n",
      "                  \"bottom\": \"aside.parallax-ad-wrap\"\n",
      "                }\n",
      "              },\n",
      "              \"tablet\": {\n",
      "                \"slot\": {\n",
      "                  \"bottom\": \"aside.parallax-ad-wrap\"\n",
      "                }\n",
      "              },\n",
      "              \"mobile\": {\n",
      "                \"slot\": {\n",
      "                  \"bottom\": \"aside.parallax-mobile-ad-wrap\"\n",
      "                }\n",
      "              }\n",
      "            }\n",
      "          }\n",
      "        },\n",
      "        \"featuredItems2_CHANNEL\": {\n",
      "          \"_default\": {\n",
      "            \"position\": \"sponsor\",\n",
      "            \"should_use_legacy_path\": true,\n",
      "            \"sizes\": {\n",
      "              \"desktop\": false,\n",
      "              \"tablet\": false,\n",
      "              \"mobile\": [\n",
      "                \"300x250\"\n",
      "              ]\n",
      "            },\n",
      "            \"render\": {\n",
      "              \"slot\": {\n",
      "                \"bottom\": \"aside.mobile-featured-items-ad.featuredItems2\"\n",
      "              }\n",
      "            }\n",
      "          }\n",
      "        },\n",
      "        \"footer\": {\n",
      "          \"_default\": {\n",
      "            \"position\": \"footer\",\n",
      "            \"sizes\": {\n",
      "              \"desktop\": [\n",
      "                \"728x90\",\n",
      "                \"1600x400\",\n",
      "                \"970x250\",\n",
      "                \"970x90\",\n",
      "                \"9x1\",\n",
      "                \"9x2\"\n",
      "              ],\n",
      "              \"tablet\": [\n",
      "                \"728x90\",\n",
      "                \"970x250\",\n",
      "                \"970x90\",\n",
      "                \"9x1\",\n",
      "                \"9x2\"\n",
      "              ],\n",
      "              \"mobile\": [\n",
      "                \"300x50\",\n",
      "                \"320x50\",\n",
      "                \"9x1\",\n",
      "                \"9x2\"\n",
      "              ]\n",
      "            },\n",
      "            \"render\": {\n",
      "              \"slot\": {\n",
      "                \"before\": \"footer\"\n",
      "              }\n",
      "            },\n",
      "            \"request_vp_range\": {\n",
      "              \"desktop\": 400,\n",
      "              \"tablet\": 400,\n",
      "              \"mobile\": 300\n",
      "            }\n",
      "          }\n",
      "        },\n",
      "        \"header\": {\n",
      "          \"_default\": {\n",
      "            \"position\": \"hero\",\n",
      "            \"static_refresh_size\": true,\n",
      "            \"can_be_hidden\": true,\n",
      "            \"sizes\": {\n",
      "              \"desktop\": [\n",
      "                \"728x90\",\n",
      "                \"970x250\",\n",
      "                \"970x90\",\n",
      "                \"9x1\",\n",
      "                \"9x3\",\n",
      "                \"10x1\"\n",
      "              ],\n",
      "              \"tablet\": [\n",
      "                \"728x90\",\n",
      "                \"970x90\",\n",
      "                \"9x1\",\n",
      "                \"9x3\",\n",
      "                \"8x1\"\n",
      "              ],\n",
      "              \"mobile\": [\n",
      "                \"300x50\",\n",
      "                \"320x50\",\n",
      "                \"300x150\",\n",
      "                \"320x150\",\n",
      "                \"9x1\",\n",
      "                \"9x3\",\n",
      "                \"3x1\"\n",
      "              ]\n",
      "            },\n",
      "            \"render\": {\n",
      "              \"slot\": {\n",
      "                \"bottom\": \"aside.site-header-ad-wrap\"\n",
      "              }\n",
      "            }\n",
      "          }\n",
      "        },\n",
      "        \"inline_banner\": {\n",
      "          \"_default\": {\n",
      "            \"position\": \"mid-content\",\n",
      "            \"static_refresh_size\": true,\n",
      "            \"sizes\": {\n",
      "              \"desktop\": [\n",
      "                \"728x90\",\n",
      "                \"970x250\",\n",
      "                \"970x90\"\n",
      "              ],\n",
      "              \"tablet\": [\n",
      "                \"728x90\",\n",
      "                \"970x90\"\n",
      "              ],\n",
      "              \"mobile\": false\n",
      "            }\n",
      "          }\n",
      "        },\n",
      "        \"inline_box\": {\n",
      "          \"_default\": {\n",
      "            \"position\": \"mid-content\",\n",
      "            \"static_refresh_size\": true,\n",
      "            \"sizes\": {\n",
      "              \"desktop\": false,\n",
      "              \"tablet\": [\n",
      "                \"300x250\",\n",
      "                \"320x50\",\n",
      "                \"300x50\"\n",
      "              ],\n",
      "              \"mobile\": [\n",
      "                \"300x250\",\n",
      "                \"320x50\",\n",
      "                \"300x50\"\n",
      "              ]\n",
      "            }\n",
      "          }\n",
      "        },\n",
      "        \"interstitial_slideshow\": {\n",
      "          \"_default\": {\n",
      "            \"position\": \"mid-gallery\",\n",
      "            \"static_refresh_size\": true,\n",
      "            \"sizes\": {\n",
      "              \"desktop\": [\n",
      "                \"300x250\",\n",
      "                \"300x600\",\n",
      "                \"9x5\"\n",
      "              ],\n",
      "              \"tablet\": [\n",
      "                \"300x250\",\n",
      "                \"300x600\",\n",
      "                \"9x5\"\n",
      "              ],\n",
      "              \"mobile\": [\n",
      "                \"300x250\",\n",
      "                \"300x600\",\n",
      "                \"9x5\"\n",
      "              ]\n",
      "            },\n",
      "            \"render\": {\n",
      "              \"slot\": {\n",
      "                \"bottom\": \".interstitialSlideshow-ad-wrap\"\n",
      "              }\n",
      "            }\n",
      "          }\n",
      "        },\n",
      "        \"listicle_divider\": {\n",
      "          \"_default\": {\n",
      "            \"position\": \"mid-content\",\n",
      "            \"static_refresh_size\": true,\n",
      "            \"sizes\": {\n",
      "              \"desktop\": [\n",
      "                \"728x90\"\n",
      "              ],\n",
      "              \"tablet\": [\n",
      "                \"728x90\"\n",
      "              ],\n",
      "              \"mobile\": [\n",
      "                \"300x50\",\n",
      "                \"320x50\",\n",
      "                \"300x150\",\n",
      "                \"320x150\"\n",
      "              ]\n",
      "            },\n",
      "            \"render\": {\n",
      "              \"slot\": {\n",
      "                \"after\": {\n",
      "                  \"every\": 10,\n",
      "                  \"el\": \".landscape-slide\",\n",
      "                  \"when\": \"function condition() {\\n                    return true;\\n                  }\",\n",
      "                  \"in\": {\n",
      "                    \"el\": \"[data-presentation=\\\"listicle\\\"]\",\n",
      "                    \"when\": \"function condition() {\\n                      return true;\\n                    }\"\n",
      "                  }\n",
      "                }\n",
      "              }\n",
      "            }\n",
      "          }\n",
      "        },\n",
      "        \"mobileBanner\": {\n",
      "          \"_default\": {\n",
      "            \"position\": \"hero\",\n",
      "            \"static_refresh_size\": true,\n",
      "            \"can_be_hidden\": true,\n",
      "            \"sizes\": {\n",
      "              \"desktop\": false,\n",
      "              \"tablet\": false,\n",
      "              \"mobile\": [\n",
      "                \"300x50\",\n",
      "                \"320x50\",\n",
      "                \"300x150\",\n",
      "                \"320x150\",\n",
      "                \"9x1\",\n",
      "                \"3x1\"\n",
      "              ]\n",
      "            },\n",
      "            \"render\": {\n",
      "              \"slot\": {\n",
      "                \"bottom\": \"aside.mobileBanner-ad-wrap\"\n",
      "              }\n",
      "            }\n",
      "          }\n",
      "        },\n",
      "        \"nativeFeaturedItem\": {\n",
      "          \"_default\": {\n",
      "            \"position\": \"sponsor\",\n",
      "            \"should_use_legacy_path\": true,\n",
      "            \"refresh\": false,\n",
      "            \"can_be_hidden\": true,\n",
      "            \"sizes\": {\n",
      "              \"desktop\": [\n",
      "                \"348x412\"\n",
      "              ],\n",
      "              \"tablet\": [\n",
      "                \"348x412\"\n",
      "              ],\n",
      "              \"mobile\": [\n",
      "                \"348x412\"\n",
      "              ]\n",
      "            },\n",
      "            \"render\": {\n",
      "              \"slot\": {\n",
      "                \"before\": \".featured-items [class$=\\\"-featured-item\\\"]:nth-of-type(3)\"\n",
      "              }\n",
      "            }\n",
      "          }\n",
      "        },\n",
      "        \"nativeTagResult\": {\n",
      "          \"_default\": {\n",
      "            \"position\": \"sponsor\",\n",
      "            \"should_use_legacy_path\": true,\n",
      "            \"refresh\": false,\n",
      "            \"can_be_hidden\": true,\n",
      "            \"sizes\": {\n",
      "              \"desktop\": [\n",
      "                \"684x146\"\n",
      "              ],\n",
      "              \"tablet\": [\n",
      "                \"684x146\"\n",
      "              ],\n",
      "              \"mobile\": [\n",
      "                \"684x146\"\n",
      "              ]\n",
      "            },\n",
      "            \"render\": {\n",
      "              \"slot\": {\n",
      "                \"before\": \".tag-items [class$=\\\"-tag-item\\\"]:nth-of-type(3)\"\n",
      "              }\n",
      "            }\n",
      "          }\n",
      "        },\n",
      "        \"pushdown\": {\n",
      "          \"_default\": {\n",
      "            \"position\": \"mid-content\",\n",
      "            \"static_refresh_size\": true,\n",
      "            \"sizes\": {\n",
      "              \"desktop\": [\n",
      "                \"970x418\",\n",
      "                \"970x66\"\n",
      "              ],\n",
      "              \"tablet\": [\n",
      "                \"970x418\",\n",
      "                \"970x66\"\n",
      "              ],\n",
      "              \"mobile\": false\n",
      "            },\n",
      "            \"render\": {\n",
      "              \"slot\": {\n",
      "                \"bottom\": \"aside.site-pushdown-ad-wrap\"\n",
      "              }\n",
      "            }\n",
      "          }\n",
      "        },\n",
      "        \"railBoxTabletAd1\": {\n",
      "          \"_default\": {\n",
      "            \"position\": \"rail\",\n",
      "            \"sizes\": {\n",
      "              \"desktop\": false,\n",
      "              \"tablet\": [\n",
      "                \"300x250\"\n",
      "              ],\n",
      "              \"mobile\": false\n",
      "            },\n",
      "            \"render\": {\n",
      "              \"slot\": {\n",
      "                \"bottom\": \".railBoxTabletAd1-ad-wrap\"\n",
      "              }\n",
      "            }\n",
      "          }\n",
      "        },\n",
      "        \"recipe_detail\": {\n",
      "          \"_default\": {\n",
      "            \"position\": \"sponsor\",\n",
      "            \"should_use_legacy_path\": true,\n",
      "            \"refresh\": false,\n",
      "            \"can_be_hidden\": true,\n",
      "            \"sizes\": {\n",
      "              \"desktop\": [\n",
      "                \"538x153\"\n",
      "              ],\n",
      "              \"tablet\": [\n",
      "                \"538x153\"\n",
      "              ],\n",
      "              \"mobile\": [\n",
      "                \"288x150\"\n",
      "              ]\n",
      "            },\n",
      "            \"render\": {\n",
      "              \"slot\": {\n",
      "                \"bottom\": \"aside.native-recipe-ad\"\n",
      "              }\n",
      "            }\n",
      "          }\n",
      "        },\n",
      "        \"recipe_riser\": {\n",
      "          \"_default\": {\n",
      "            \"position\": \"sponsor\",\n",
      "            \"should_use_legacy_path\": true,\n",
      "            \"can_be_hidden\": true,\n",
      "            \"refresh\": false,\n",
      "            \"sizes\": {\n",
      "              \"desktop\": [\n",
      "                \"227x108\"\n",
      "              ],\n",
      "              \"tablet\": [\n",
      "                \"227x108\"\n",
      "              ],\n",
      "              \"mobile\": [\n",
      "                \"288x77\"\n",
      "              ]\n",
      "            },\n",
      "            \"render\": {\n",
      "              \"slot\": {\n",
      "                \"bottom\": \".recipe-riser-ad\"\n",
      "              }\n",
      "            }\n",
      "          }\n",
      "        },\n",
      "        \"sponsor_logo\": {\n",
      "          \"_default\": {\n",
      "            \"position\": \"sponsor\",\n",
      "            \"sizes\": {\n",
      "              \"desktop\": [\n",
      "                \"120x60\"\n",
      "              ],\n",
      "              \"tablet\": [\n",
      "                \"120x60\"\n",
      "              ],\n",
      "              \"mobile\": [\n",
      "                \"120x60\"\n",
      "              ]\n",
      "            },\n",
      "            \"render\": {\n",
      "              \"slot\": {\n",
      "                \"bottom\": \"aside.sponsorLogo-ad-wrap\"\n",
      "              }\n",
      "            }\n",
      "          }\n",
      "        }\n",
      "      }\n",
      "    }\n",
      "  },\n",
      "  \"plugins\": {\n",
      "    \"amazon_match_buy\": {},\n",
      "    \"index_exchange\": {},\n",
      "    \"4d\": {\n",
      "      \"xid_pixels\": true\n",
      "    }\n",
      "  },\n",
      "  \"buildDate\": \"2019-05-23T18:39:30.990Z\"\n",
      "}\n",
      "  </script>\n",
      "  <script id=\"cns-footer-include\">\n",
      "   !function(){\"use strict\";!function(e,t){function n(e){this.time=e.time,this.target=e.target,this.rootBounds=e.rootBounds,this.boundingClientRect=e.boundingClientRect,this.intersectionRect=e.intersectionRect||{top:0,bottom:0,left:0,right:0,width:0,height:0},this.isIntersecting=!!e.intersectionRect;var t=this.boundingClientRect,n=t.width*t.height,r=this.intersectionRect,i=r.width*r.height;this.intersectionRatio=n?i/n:this.isIntersecting?1:0}function r(e,t){var n,r,i,o=t||{};if(\"function\"!=typeof e)throw new Error(\"callback must be a function\");if(o.root&&1!=o.root.nodeType)throw new Error(\"root must be an Element\");this._checkForIntersections=(n=this._checkForIntersections.bind(this),r=this.THROTTLE_TIMEOUT,i=null,function(){i||(i=setTimeout(function(){n(),i=null},r))}),this._callback=e,this._observationTargets=[],this._queuedEntries=[],this._rootMarginValues=this._parseRootMargin(o.rootMargin),this.thresholds=this._initThresholds(o.threshold),this.root=o.root||null,this.rootMargin=this._rootMarginValues.map(function(e){return e.value+e.unit}).join(\" \")}function i(e,t,n,r){\"function\"==typeof e.addEventListener?e.addEventListener(t,n,r||!1):\"function\"==typeof e.attachEvent&&e.attachEvent(\"on\"+t,n)}function o(e,t,n,r){\"function\"==typeof e.removeEventListener?e.removeEventListener(t,n,r||!1):\"function\"==typeof e.detatchEvent&&e.detatchEvent(\"on\"+t,n)}function a(e){var t;try{t=e.getBoundingClientRect()}catch(e){}return t?(t.width&&t.height||(t={top:t.top,right:t.right,bottom:t.bottom,left:t.left,width:t.right-t.left,height:t.bottom-t.top}),t):{top:0,bottom:0,left:0,right:0,width:0,height:0}}function s(e,t){for(var n=t;n;){if(n==e)return!0;n=c(n)}return!1}function c(e){var t=e.parentNode;return t&&11==t.nodeType&&t.host?t.host:t}\"IntersectionObserver\"in e&&\"IntersectionObserverEntry\"in e&&\"intersectionRatio\"in e.IntersectionObserverEntry.prototype?\"isIntersecting\"in e.IntersectionObserverEntry.prototype||Object.defineProperty(e.IntersectionObserverEntry.prototype,\"isIntersecting\",{get:function(){return this.intersectionRatio>0}}):(r.prototype.THROTTLE_TIMEOUT=100,r.prototype.POLL_INTERVAL=null,r.prototype.USE_MUTATION_OBSERVER=!0,r.prototype.observe=function(e){if(!this._observationTargets.some(function(t){return t.element==e})){if(!e||1!=e.nodeType)throw new Error(\"target must be an Element\");this._registerInstance(),this._observationTargets.push({element:e,entry:null}),this._monitorIntersections(),this._checkForIntersections()}},r.prototype.unobserve=function(e){this._observationTargets=this._observationTargets.filter(function(t){return t.element!=e}),this._observationTargets.length||(this._unmonitorIntersections(),this._unregisterInstance())},r.prototype.disconnect=function(){this._observationTargets=[],this._unmonitorIntersections(),this._unregisterInstance()},r.prototype.takeRecords=function(){var e=this._queuedEntries.slice();return this._queuedEntries=[],e},r.prototype._initThresholds=function(e){var t=e||[0];return Array.isArray(t)||(t=[t]),t.sort().filter(function(e,t,n){if(\"number\"!=typeof e||isNaN(e)||e<0||e>1)throw new Error(\"threshold must be a number between 0 and 1 inclusively\");return e!==n[t-1]})},r.prototype._parseRootMargin=function(e){var t=(e||\"0px\").split(/\\s+/).map(function(e){var t=/^(-?\\d*\\.?\\d+)(px|%)$/.exec(e);if(!t)throw new Error(\"rootMargin must be specified in pixels or percent\");return{value:parseFloat(t[1]),unit:t[2]}});return t[1]=t[1]||t[0],t[2]=t[2]||t[0],t[3]=t[3]||t[1],t},r.prototype._monitorIntersections=function(){this._monitoringIntersections||(this._monitoringIntersections=!0,this.POLL_INTERVAL?this._monitoringInterval=setInterval(this._checkForIntersections,this.POLL_INTERVAL):(i(e,\"resize\",this._checkForIntersections,!0),i(t,\"scroll\",this._checkForIntersections,!0),this.USE_MUTATION_OBSERVER&&\"MutationObserver\"in e&&(this._domObserver=new MutationObserver(this._checkForIntersections),this._domObserver.observe(t,{attributes:!0,childList:!0,characterData:!0,subtree:!0}))))},r.prototype._unmonitorIntersections=function(){this._monitoringIntersections&&(this._monitoringIntersections=!1,clearInterval(this._monitoringInterval),this._monitoringInterval=null,o(e,\"resize\",this._checkForIntersections,!0),o(t,\"scroll\",this._checkForIntersections,!0),this._domObserver&&(this._domObserver.disconnect(),this._domObserver=null))},r.prototype._checkForIntersections=function(){var t=this._rootIsInDom(),r=t?this._getRootRect():{top:0,bottom:0,left:0,right:0,width:0,height:0};this._observationTargets.forEach(function(i){var o=i.element,s=a(o),c=this._rootContainsTarget(o),u=i.entry,l=t&&c&&this._computeTargetAndRootIntersection(o,r),f=i.entry=new n({time:e.performance&&performance.now&&performance.now(),target:o,boundingClientRect:s,rootBounds:r,intersectionRect:l});u?t&&c?this._hasCrossedThreshold(u,f)&&this._queuedEntries.push(f):u&&u.isIntersecting&&this._queuedEntries.push(f):this._queuedEntries.push(f)},this),this._queuedEntries.length&&this._callback(this.takeRecords(),this)},r.prototype._computeTargetAndRootIntersection=function(n,r){if(\"none\"!=e.getComputedStyle(n).display){for(var i,o,s,u,l,f,d,g,p=a(n),h=c(n),m=!1;!m;){var v=null,_=1==h.nodeType?e.getComputedStyle(h):{};if(\"none\"==_.display)return;if(h==this.root||h==t?(m=!0,v=r):h!=t.body&&h!=t.documentElement&&\"visible\"!=_.overflow&&(v=a(h)),v&&(i=v,o=p,s=Math.max(i.top,o.top),u=Math.min(i.bottom,o.bottom),l=Math.max(i.left,o.left),g=u-s,!(p=(d=(f=Math.min(i.right,o.right))-l)>=0&&g>=0&&{top:s,bottom:u,left:l,right:f,width:d,height:g})))break;h=c(h)}return p}},r.prototype._getRootRect=function(){var e;if(this.root)e=a(this.root);else{var n=t.documentElement,r=t.body;e={top:0,left:0,right:n.clientWidth||r.clientWidth,width:n.clientWidth||r.clientWidth,bottom:n.clientHeight||r.clientHeight,height:n.clientHeight||r.clientHeight}}return this._expandRectByRootMargin(e)},r.prototype._expandRectByRootMargin=function(e){var t=this._rootMarginValues.map(function(t,n){return\"px\"==t.unit?t.value:t.value*(n%2?e.width:e.height)/100}),n={top:e.top-t[0],right:e.right+t[1],bottom:e.bottom+t[2],left:e.left-t[3]};return n.width=n.right-n.left,n.height=n.bottom-n.top,n},r.prototype._hasCrossedThreshold=function(e,t){var n=e&&e.isIntersecting?e.intersectionRatio||0:-1,r=t.isIntersecting?t.intersectionRatio||0:-1;if(n!==r)for(var i=0;i<this.thresholds.length;i++){var o=this.thresholds[i];if(o==n||o==r||o<n!=o<r)return!0}},r.prototype._rootIsInDom=function(){return!this.root||s(t,this.root)},r.prototype._rootContainsTarget=function(e){return s(this.root||t,e)},r.prototype._registerInstance=function(){},r.prototype._unregisterInstance=function(){},e.IntersectionObserver=r,e.IntersectionObserverEntry=n)}(window,document);var commonjsGlobal=\"undefined\"!=typeof window?window:\"undefined\"!=typeof global?global:\"undefined\"!=typeof self?self:{};function createCommonjsModule(e,t){return e(t={exports:{}},t.exports),t.exports}var usertiming=createCommonjsModule(function(e){!function(t){void 0===t&&(t={}),void 0===t.performance&&(t.performance={}),t._perfRefForUserTimingPolyfill=t.performance,t.performance.userTimingJsNow=!1,t.performance.userTimingJsNowPrefixed=!1,t.performance.userTimingJsUserTiming=!1,t.performance.userTimingJsUserTimingPrefixed=!1,t.performance.userTimingJsPerformanceTimeline=!1,t.performance.userTimingJsPerformanceTimelinePrefixed=!1;var n,r,i=[],o=[],a=null;if(\"function\"!=typeof t.performance.now){for(t.performance.userTimingJsNow=!0,o=[\"webkitNow\",\"msNow\",\"mozNow\"],n=0;n<o.length;n++)if(\"function\"==typeof t.performance[o[n]]){t.performance.now=t.performance[o[n]],t.performance.userTimingJsNowPrefixed=!0;break}var s=+new Date;t.performance.timing&&t.performance.timing.navigationStart?s=t.performance.timing.navigationStart:\"undefined\"!=typeof process&&\"function\"==typeof process.hrtime&&(s=process.hrtime(),t.performance.now=function(){var e=process.hrtime(s);return 1e3*e[0]+1e-6*e[1]}),\"function\"!=typeof t.performance.now&&(Date.now?t.performance.now=function(){return Date.now()-s}:t.performance.now=function(){return+new Date-s})}var c=function(){},u=function(){},l=[],f=!1,d=!1;if(\"function\"!=typeof t.performance.getEntries||\"function\"!=typeof t.performance.mark){for(\"function\"==typeof t.performance.getEntries&&\"function\"!=typeof t.performance.mark&&(d=!0),t.performance.userTimingJsPerformanceTimeline=!0,i=[\"webkit\",\"moz\"],o=[\"getEntries\",\"getEntriesByName\",\"getEntriesByType\"],n=0;n<o.length;n++)for(r=0;r<i.length;r++)a=i[r]+o[n].substr(0,1).toUpperCase()+o[n].substr(1),\"function\"==typeof t.performance[a]&&(t.performance[o[n]]=t.performance[a],t.performance.userTimingJsPerformanceTimelinePrefixed=!0);c=function(e){l.push(e),\"measure\"===e.entryType&&(f=!0)};var g=function(){f&&(l.sort(function(e,t){return e.startTime-t.startTime}),f=!1)};if(u=function(e,t){for(n=0;n<l.length;)l[n].entryType!==e||void 0!==t&&l[n].name!==t?n++:l.splice(n,1)},\"function\"!=typeof t.performance.getEntries||d){var p=t.performance.getEntries;t.performance.getEntries=function(){g();var e=l.slice(0);return d&&p&&(Array.prototype.push.apply(e,p.call(t.performance)),e.sort(function(e,t){return e.startTime-t.startTime})),e}}if(\"function\"!=typeof t.performance.getEntriesByType||d){var h=t.performance.getEntriesByType;t.performance.getEntriesByType=function(e){if(void 0===e||\"mark\"!==e&&\"measure\"!==e)return d&&h?h.call(t.performance,e):[];\"measure\"===e&&g();var r=[];for(n=0;n<l.length;n++)l[n].entryType===e&&r.push(l[n]);return r}}if(\"function\"!=typeof t.performance.getEntriesByName||d){var m=t.performance.getEntriesByName;t.performance.getEntriesByName=function(e,r){if(r&&\"mark\"!==r&&\"measure\"!==r)return d&&m?m.call(t.performance,e,r):[];void 0!==r&&\"measure\"===r&&g();var i=[];for(n=0;n<l.length;n++)void 0!==r&&l[n].entryType!==r||l[n].name===e&&i.push(l[n]);return d&&m&&(Array.prototype.push.apply(i,m.call(t.performance,e,r)),i.sort(function(e,t){return e.startTime-t.startTime})),i}}}if(\"function\"!=typeof t.performance.mark){for(t.performance.userTimingJsUserTiming=!0,i=[\"webkit\",\"moz\",\"ms\"],o=[\"mark\",\"measure\",\"clearMarks\",\"clearMeasures\"],n=0;n<o.length;n++)for(r=0;r<i.length;r++)a=i[r]+o[n].substr(0,1).toUpperCase()+o[n].substr(1),\"function\"==typeof t.performance[a]&&(t.performance[o[n]]=t.performance[a],t.performance.userTimingJsUserTimingPrefixed=!0);var v={};\"function\"!=typeof t.performance.mark&&(t.performance.mark=function(e){var n=t.performance.now();if(void 0===e)throw new SyntaxError(\"Mark name must be specified\");if(t.performance.timing&&e in t.performance.timing)throw new SyntaxError(\"Mark name is not allowed\");v[e]||(v[e]=[]),v[e].push(n),c({entryType:\"mark\",name:e,startTime:n,duration:0})}),\"function\"!=typeof t.performance.clearMarks&&(t.performance.clearMarks=function(e){e?v[e]=[]:v={},u(\"mark\",e)}),\"function\"!=typeof t.performance.measure&&(t.performance.measure=function(e,n,r){var i=t.performance.now();if(void 0===e)throw new SyntaxError(\"Measure must be specified\");if(n){var o=0;if(t.performance.timing&&n in t.performance.timing){if(\"navigationStart\"!==n&&0===t.performance.timing[n])throw new Error(n+\" has a timing of 0\");o=t.performance.timing[n]-t.performance.timing.navigationStart}else{if(!(n in v))throw new Error(n+\" mark not found\");o=v[n][v[n].length-1]}var a=i;if(r)if(a=0,t.performance.timing&&r in t.performance.timing){if(\"navigationStart\"!==r&&0===t.performance.timing[r])throw new Error(r+\" has a timing of 0\");a=t.performance.timing[r]-t.performance.timing.navigationStart}else{if(!(r in v))throw new Error(r+\" mark not found\");a=v[r][v[r].length-1]}c({entryType:\"measure\",name:e,startTime:o,duration:a-o})}else c({entryType:\"measure\",name:e,startTime:0,duration:i})}),\"function\"!=typeof t.performance.clearMeasures&&(t.performance.clearMeasures=function(e){u(\"measure\",e)})}e.exports=t.performance}(\"undefined\"!=typeof window?window:void 0)}),_isObject=function(e){return\"object\"==typeof e?null!==e:\"function\"==typeof e},_anObject=function(e){if(!_isObject(e))throw TypeError(e+\" is not an object!\");return e},_fails=function(e){try{return!!e()}catch(e){return!0}},_descriptors=!_fails(function(){return 7!=Object.defineProperty({},\"a\",{get:function(){return 7}}).a}),_global=createCommonjsModule(function(e){var t=e.exports=\"undefined\"!=typeof window&&window.Math==Math?window:\"undefined\"!=typeof self&&self.Math==Math?self:Function(\"return this\")();\"number\"==typeof __g&&(__g=t)}),document$1=_global.document,is=_isObject(document$1)&&_isObject(document$1.createElement),_domCreate=function(e){return is?document$1.createElement(e):{}},_ie8DomDefine=!_descriptors&&!_fails(function(){return 7!=Object.defineProperty(_domCreate(\"div\"),\"a\",{get:function(){return 7}}).a}),_toPrimitive=function(e,t){if(!_isObject(e))return e;var n,r;if(t&&\"function\"==typeof(n=e.toString)&&!_isObject(r=n.call(e)))return r;if(\"function\"==typeof(n=e.valueOf)&&!_isObject(r=n.call(e)))return r;if(!t&&\"function\"==typeof(n=e.toString)&&!_isObject(r=n.call(e)))return r;throw TypeError(\"Can't convert object to primitive value\")},dP=Object.defineProperty,f=_descriptors?Object.defineProperty:function(e,t,n){if(_anObject(e),t=_toPrimitive(t,!0),_anObject(n),_ie8DomDefine)try{return dP(e,t,n)}catch(e){}if(\"get\"in n||\"set\"in n)throw TypeError(\"Accessors not supported!\");return\"value\"in n&&(e[t]=n.value),e},_objectDp={f:f},_propertyDesc=function(e,t){return{enumerable:!(1&e),configurable:!(2&e),writable:!(4&e),value:t}},_hide=_descriptors?function(e,t,n){return _objectDp.f(e,t,_propertyDesc(1,n))}:function(e,t,n){return e[t]=n,e},hasOwnProperty={}.hasOwnProperty,_has=function(e,t){return hasOwnProperty.call(e,t)},id=0,px=Math.random(),_uid=function(e){return\"Symbol(\".concat(void 0===e?\"\":e,\")_\",(++id+px).toString(36))},_core=createCommonjsModule(function(e){var t=e.exports={version:\"2.5.3\"};\"number\"==typeof __e&&(__e=t)}),_redefine=createCommonjsModule(function(e){var t=_uid(\"src\"),n=Function.toString,r=(\"\"+n).split(\"toString\");_core.inspectSource=function(e){return n.call(e)},(e.exports=function(e,n,i,o){var a=\"function\"==typeof i;a&&(_has(i,\"name\")||_hide(i,\"name\",n)),e[n]!==i&&(a&&(_has(i,t)||_hide(i,t,e[n]?\"\"+e[n]:r.join(String(n)))),e===_global?e[n]=i:o?e[n]?e[n]=i:_hide(e,n,i):(delete e[n],_hide(e,n,i)))})(Function.prototype,\"toString\",function(){return\"function\"==typeof this&&this[t]||n.call(this)})}),_defined=function(e){if(void 0==e)throw TypeError(\"Can't call method on  \"+e);return e},SHARED=\"__core-js_shared__\",store=_global[SHARED]||(_global[SHARED]={}),_shared=function(e){return store[e]||(store[e]={})},_wks=createCommonjsModule(function(e){var t=_shared(\"wks\"),n=_global.Symbol,r=\"function\"==typeof n;(e.exports=function(e){return t[e]||(t[e]=r&&n[e]||(r?n:_uid)(\"Symbol.\"+e))}).store=t}),_fixReWks=function(e,t,n){var r=_wks(e),i=n(_defined,r,\"\"[e]),o=i[0],a=i[1];_fails(function(){var t={};return t[r]=function(){return 7},7!=\"\"[e](t)})&&(_redefine(String.prototype,e,o),_hide(RegExp.prototype,r,2==t?function(e,t){return a.call(e,this,t)}:function(e){return a.call(e,this)}))},toString={}.toString,_cof=function(e){return toString.call(e).slice(8,-1)},MATCH=_wks(\"match\"),_isRegexp=function(e){var t;return _isObject(e)&&(void 0!==(t=e[MATCH])?!!t:\"RegExp\"==_cof(e))};_fixReWks(\"split\",2,function(e,t,n){var r=_isRegexp,i=n,o=[].push;if(\"c\"==\"abbc\".split(/(b)*/)[1]||4!=\"test\".split(/(?:)/,-1).length||2!=\"ab\".split(/(?:ab)*/).length||4!=\".\".split(/(.?)(.?)/).length||\".\".split(/()()/).length>1||\"\".split(/.?/).length){var a=void 0===/()??/.exec(\"\")[1];n=function(e,t){var n=String(this);if(void 0===e&&0===t)return[];if(!r(e))return i.call(n,e,t);var s,c,u,l,f,d=[],g=(e.ignoreCase?\"i\":\"\")+(e.multiline?\"m\":\"\")+(e.unicode?\"u\":\"\")+(e.sticky?\"y\":\"\"),p=0,h=void 0===t?4294967295:t>>>0,m=new RegExp(e.source,g+\"g\");for(a||(s=new RegExp(\"^\"+m.source+\"$(?!\\\\s)\",g));(c=m.exec(n))&&!((u=c.index+c[0].length)>p&&(d.push(n.slice(p,c.index)),!a&&c.length>1&&c[0].replace(s,function(){for(f=1;f<arguments.length-2;f++)void 0===arguments[f]&&(c[f]=void 0)}),c.length>1&&c.index<n.length&&o.apply(d,c.slice(1)),l=c[0].length,p=u,d.length>=h));)m.lastIndex===c.index&&m.lastIndex++;return p===n.length?!l&&m.test(\"\")||d.push(\"\"):d.push(n.slice(p)),d.length>h?d.slice(0,h):d}}else\"0\".split(void 0,0).length&&(n=function(e,t){return void 0===e&&0===t?[]:i.call(this,e,t)});return[function(r,i){var o=e(this),a=void 0==r?void 0:r[t];return void 0!==a?a.call(r,o,i):n.call(String(o),r,i)},n]});var _iobject=Object(\"z\").propertyIsEnumerable(0)?Object:function(e){return\"String\"==_cof(e)?e.split(\"\"):Object(e)},_toIobject=function(e){return _iobject(_defined(e))},ceil=Math.ceil,floor=Math.floor,_toInteger=function(e){return isNaN(e=+e)?0:(e>0?floor:ceil)(e)},min=Math.min,_toLength=function(e){return e>0?min(_toInteger(e),9007199254740991):0},max=Math.max,min$1=Math.min,_toAbsoluteIndex=function(e,t){return(e=_toInteger(e))<0?max(e+t,0):min$1(e,t)},_arrayIncludes=function(e){return function(t,n,r){var i,o=_toIobject(t),a=_toLength(o.length),s=_toAbsoluteIndex(r,a);if(e&&n!=n){for(;a>s;)if((i=o[s++])!=i)return!0}else for(;a>s;s++)if((e||s in o)&&o[s]===n)return e||s||0;return!e&&-1}},shared=_shared(\"keys\"),_sharedKey=function(e){return shared[e]||(shared[e]=_uid(e))},arrayIndexOf=_arrayIncludes(!1),IE_PROTO=_sharedKey(\"IE_PROTO\"),_objectKeysInternal=function(e,t){var n,r=_toIobject(e),i=0,o=[];for(n in r)n!=IE_PROTO&&_has(r,n)&&o.push(n);for(;t.length>i;)_has(r,n=t[i++])&&(~arrayIndexOf(o,n)||o.push(n));return o},_enumBugKeys=\"constructor,hasOwnProperty,isPrototypeOf,propertyIsEnumerable,toLocaleString,toString,valueOf\".split(\",\"),_objectKeys=Object.keys||function(e){return _objectKeysInternal(e,_enumBugKeys)},_objectDps=_descriptors?Object.defineProperties:function(e,t){_anObject(e);for(var n,r=_objectKeys(t),i=r.length,o=0;i>o;)_objectDp.f(e,n=r[o++],t[n]);return e},document$2=_global.document,_html=document$2&&document$2.documentElement,IE_PROTO$1=_sharedKey(\"IE_PROTO\"),Empty=function(){},PROTOTYPE=\"prototype\",createDict=function(){var e,t=_domCreate(\"iframe\"),n=_enumBugKeys.length;for(t.style.display=\"none\",_html.appendChild(t),t.src=\"javascript:\",(e=t.contentWindow.document).open(),e.write(\"<script>document.F=Object<\\/script>\"),e.close(),createDict=e.F;n--;)delete createDict[PROTOTYPE][_enumBugKeys[n]];return createDict()},_objectCreate=Object.create||function(e,t){var n;return null!==e?(Empty[PROTOTYPE]=_anObject(e),n=new Empty,Empty[PROTOTYPE]=null,n[IE_PROTO$1]=e):n=createDict(),void 0===t?n:_objectDps(n,t)},_redefineAll=function(e,t,n){for(var r in t)_redefine(e,r,t[r],n);return e},_aFunction=function(e){if(\"function\"!=typeof e)throw TypeError(e+\" is not a function!\");return e},_ctx=function(e,t,n){if(_aFunction(e),void 0===t)return e;switch(n){case 1:return function(n){return e.call(t,n)};case 2:return function(n,r){return e.call(t,n,r)};case 3:return function(n,r,i){return e.call(t,n,r,i)}}return function(){return e.apply(t,arguments)}},_anInstance=function(e,t,n,r){if(!(e instanceof t)||void 0!==r&&r in e)throw TypeError(n+\": incorrect invocation!\");return e},_iterCall=function(e,t,n,r){try{return r?t(_anObject(n)[0],n[1]):t(n)}catch(t){var i=e.return;throw void 0!==i&&_anObject(i.call(e)),t}},_iterators={},ITERATOR=_wks(\"iterator\"),ArrayProto=Array.prototype,_isArrayIter=function(e){return void 0!==e&&(_iterators.Array===e||ArrayProto[ITERATOR]===e)},TAG=_wks(\"toStringTag\"),ARG=\"Arguments\"==_cof(function(){return arguments}()),tryGet=function(e,t){try{return e[t]}catch(e){}},_classof=function(e){var t,n,r;return void 0===e?\"Undefined\":null===e?\"Null\":\"string\"==typeof(n=tryGet(t=Object(e),TAG))?n:ARG?_cof(t):\"Object\"==(r=_cof(t))&&\"function\"==typeof t.callee?\"Arguments\":r},ITERATOR$1=_wks(\"iterator\"),core_getIteratorMethod=_core.getIteratorMethod=function(e){if(void 0!=e)return e[ITERATOR$1]||e[\"@@iterator\"]||_iterators[_classof(e)]},_forOf=createCommonjsModule(function(e){var t={},n={},r=e.exports=function(e,r,i,o,a){var s,c,u,l,f=a?function(){return e}:core_getIteratorMethod(e),d=_ctx(i,o,r?2:1),g=0;if(\"function\"!=typeof f)throw TypeError(e+\" is not iterable!\");if(_isArrayIter(f)){for(s=_toLength(e.length);s>g;g++)if((l=r?d(_anObject(c=e[g])[0],c[1]):d(e[g]))===t||l===n)return l}else for(u=f.call(e);!(c=u.next()).done;)if((l=_iterCall(u,d,c.value,r))===t||l===n)return l};r.BREAK=t,r.RETURN=n}),_library=!1,PROTOTYPE$1=\"prototype\",$export=function(e,t,n){var r,i,o,a,s=e&$export.F,c=e&$export.G,u=e&$export.S,l=e&$export.P,f=e&$export.B,d=c?_global:u?_global[t]||(_global[t]={}):(_global[t]||{})[PROTOTYPE$1],g=c?_core:_core[t]||(_core[t]={}),p=g[PROTOTYPE$1]||(g[PROTOTYPE$1]={});for(r in c&&(n=t),n)o=((i=!s&&d&&void 0!==d[r])?d:n)[r],a=f&&i?_ctx(o,_global):l&&\"function\"==typeof o?_ctx(Function.call,o):o,d&&_redefine(d,r,o,e&$export.U),g[r]!=o&&_hide(g,r,a),l&&p[r]!=o&&(p[r]=o)};_global.core=_core,$export.F=1,$export.G=2,$export.S=4,$export.P=8,$export.B=16,$export.W=32,$export.U=64,$export.R=128;var _export=$export,def=_objectDp.f,TAG$1=_wks(\"toStringTag\"),_setToStringTag=function(e,t,n){e&&!_has(e=n?e:e.prototype,TAG$1)&&def(e,TAG$1,{configurable:!0,value:t})},IteratorPrototype={};_hide(IteratorPrototype,_wks(\"iterator\"),function(){return this});var _iterCreate=function(e,t,n){e.prototype=_objectCreate(IteratorPrototype,{next:_propertyDesc(1,n)}),_setToStringTag(e,t+\" Iterator\")},_toObject=function(e){return Object(_defined(e))},IE_PROTO$2=_sharedKey(\"IE_PROTO\"),ObjectProto=Object.prototype,_objectGpo=Object.getPrototypeOf||function(e){return e=_toObject(e),_has(e,IE_PROTO$2)?e[IE_PROTO$2]:\"function\"==typeof e.constructor&&e instanceof e.constructor?e.constructor.prototype:e instanceof Object?ObjectProto:null},ITERATOR$2=_wks(\"iterator\"),BUGGY=!([].keys&&\"next\"in[].keys()),FF_ITERATOR=\"@@iterator\",KEYS=\"keys\",VALUES=\"values\",returnThis=function(){return this},_iterDefine=function(e,t,n,r,i,o,a){_iterCreate(n,t,r);var s,c,u,l=function(e){if(!BUGGY&&e in p)return p[e];switch(e){case KEYS:case VALUES:return function(){return new n(this,e)}}return function(){return new n(this,e)}},f=t+\" Iterator\",d=i==VALUES,g=!1,p=e.prototype,h=p[ITERATOR$2]||p[FF_ITERATOR]||i&&p[i],m=!BUGGY&&h||l(i),v=i?d?l(\"entries\"):m:void 0,_=\"Array\"==t&&p.entries||h;if(_&&(u=_objectGpo(_.call(new e)))!==Object.prototype&&u.next&&(_setToStringTag(u,f,!0),_library||_has(u,ITERATOR$2)||_hide(u,ITERATOR$2,returnThis)),d&&h&&h.name!==VALUES&&(g=!0,m=function(){return h.call(this)}),_library&&!a||!BUGGY&&!g&&p[ITERATOR$2]||_hide(p,ITERATOR$2,m),_iterators[t]=m,_iterators[f]=returnThis,i)if(s={values:d?m:l(VALUES),keys:o?m:l(KEYS),entries:v},a)for(c in s)c in p||_redefine(p,c,s[c]);else _export(_export.P+_export.F*(BUGGY||g),t,s);return s},_iterStep=function(e,t){return{value:t,done:!!e}},SPECIES=_wks(\"species\"),_setSpecies=function(e){var t=_global[e];_descriptors&&t&&!t[SPECIES]&&_objectDp.f(t,SPECIES,{configurable:!0,get:function(){return this}})},_meta=createCommonjsModule(function(e){var t=_uid(\"meta\"),n=_objectDp.f,r=0,i=Object.isExtensible||function(){return!0},o=!_fails(function(){return i(Object.preventExtensions({}))}),a=function(e){n(e,t,{value:{i:\"O\"+ ++r,w:{}}})},s=e.exports={KEY:t,NEED:!1,fastKey:function(e,n){if(!_isObject(e))return\"symbol\"==typeof e?e:(\"string\"==typeof e?\"S\":\"P\")+e;if(!_has(e,t)){if(!i(e))return\"F\";if(!n)return\"E\";a(e)}return e[t].i},getWeak:function(e,n){if(!_has(e,t)){if(!i(e))return!0;if(!n)return!1;a(e)}return e[t].w},onFreeze:function(e){return o&&s.NEED&&i(e)&&!_has(e,t)&&a(e),e}}}),_validateCollection=function(e,t){if(!_isObject(e)||e._t!==t)throw TypeError(\"Incompatible receiver, \"+t+\" required!\");return e},dP$1=_objectDp.f,fastKey=_meta.fastKey,SIZE=_descriptors?\"_s\":\"size\",getEntry=function(e,t){var n,r=fastKey(t);if(\"F\"!==r)return e._i[r];for(n=e._f;n;n=n.n)if(n.k==t)return n},_collectionStrong={getConstructor:function(e,t,n,r){var i=e(function(e,o){_anInstance(e,i,t,\"_i\"),e._t=t,e._i=_objectCreate(null),e._f=void 0,e._l=void 0,e[SIZE]=0,void 0!=o&&_forOf(o,n,e[r],e)});return _redefineAll(i.prototype,{clear:function(){for(var e=_validateCollection(this,t),n=e._i,r=e._f;r;r=r.n)r.r=!0,r.p&&(r.p=r.p.n=void 0),delete n[r.i];e._f=e._l=void 0,e[SIZE]=0},delete:function(e){var n=_validateCollection(this,t),r=getEntry(n,e);if(r){var i=r.n,o=r.p;delete n._i[r.i],r.r=!0,o&&(o.n=i),i&&(i.p=o),n._f==r&&(n._f=i),n._l==r&&(n._l=o),n[SIZE]--}return!!r},forEach:function(e){_validateCollection(this,t);for(var n,r=_ctx(e,arguments.length>1?arguments[1]:void 0,3);n=n?n.n:this._f;)for(r(n.v,n.k,this);n&&n.r;)n=n.p},has:function(e){return!!getEntry(_validateCollection(this,t),e)}}),_descriptors&&dP$1(i.prototype,\"size\",{get:function(){return _validateCollection(this,t)[SIZE]}}),i},def:function(e,t,n){var r,i,o=getEntry(e,t);return o?o.v=n:(e._l=o={i:i=fastKey(t,!0),k:t,v:n,p:r=e._l,n:void 0,r:!1},e._f||(e._f=o),r&&(r.n=o),e[SIZE]++,\"F\"!==i&&(e._i[i]=o)),e},getEntry:getEntry,setStrong:function(e,t,n){_iterDefine(e,t,function(e,n){this._t=_validateCollection(e,t),this._k=n,this._l=void 0},function(){for(var e=this._k,t=this._l;t&&t.r;)t=t.p;return this._t&&(this._l=t=t?t.n:this._t._f)?_iterStep(0,\"keys\"==e?t.k:\"values\"==e?t.v:[t.k,t.v]):(this._t=void 0,_iterStep(1))},n?\"entries\":\"values\",!n,!0),_setSpecies(t)}},ITERATOR$3=_wks(\"iterator\"),SAFE_CLOSING=!1;try{var riter=[7][ITERATOR$3]();riter.return=function(){SAFE_CLOSING=!0}}catch(e){}var _iterDetect=function(e,t){if(!t&&!SAFE_CLOSING)return!1;var n=!1;try{var r=[7],i=r[ITERATOR$3]();i.next=function(){return{done:n=!0}},r[ITERATOR$3]=function(){return i},e(r)}catch(e){}return n},f$1={}.propertyIsEnumerable,_objectPie={f:f$1},gOPD=Object.getOwnPropertyDescriptor,f$2=_descriptors?gOPD:function(e,t){if(e=_toIobject(e),t=_toPrimitive(t,!0),_ie8DomDefine)try{return gOPD(e,t)}catch(e){}if(_has(e,t))return _propertyDesc(!_objectPie.f.call(e,t),e[t])},_objectGopd={f:f$2},check=function(e,t){if(_anObject(e),!_isObject(t)&&null!==t)throw TypeError(t+\": can't set as prototype!\")},_setProto={set:Object.setPrototypeOf||(\"__proto__\"in{}?function(e,t,n){try{(n=_ctx(Function.call,_objectGopd.f(Object.prototype,\"__proto__\").set,2))(e,[]),t=!(e instanceof Array)}catch(e){t=!0}return function(e,r){return check(e,r),t?e.__proto__=r:n(e,r),e}}({},!1):void 0),check:check},setPrototypeOf=_setProto.set,_inheritIfRequired=function(e,t,n){var r,i=t.constructor;return i!==n&&\"function\"==typeof i&&(r=i.prototype)!==n.prototype&&_isObject(r)&&setPrototypeOf&&setPrototypeOf(e,r),e},_collection=function(e,t,n,r,i,o){var a=_global[e],s=a,c=i?\"set\":\"add\",u=s&&s.prototype,l={},f=function(e){var t=u[e];_redefine(u,e,\"delete\"==e?function(e){return!(o&&!_isObject(e))&&t.call(this,0===e?0:e)}:\"has\"==e?function(e){return!(o&&!_isObject(e))&&t.call(this,0===e?0:e)}:\"get\"==e?function(e){return o&&!_isObject(e)?void 0:t.call(this,0===e?0:e)}:\"add\"==e?function(e){return t.call(this,0===e?0:e),this}:function(e,n){return t.call(this,0===e?0:e,n),this})};if(\"function\"==typeof s&&(o||u.forEach&&!_fails(function(){(new s).entries().next()}))){var d=new s,g=d[c](o?{}:-0,1)!=d,p=_fails(function(){d.has(1)}),h=_iterDetect(function(e){new s(e)}),m=!o&&_fails(function(){for(var e=new s,t=5;t--;)e[c](t,t);return!e.has(-0)});h||((s=t(function(t,n){_anInstance(t,s,e);var r=_inheritIfRequired(new a,t,s);return void 0!=n&&_forOf(n,i,r[c],r),r})).prototype=u,u.constructor=s),(p||m)&&(f(\"delete\"),f(\"has\"),i&&f(\"get\")),(m||g)&&f(c),o&&u.clear&&delete u.clear}else s=r.getConstructor(t,e,i,c),_redefineAll(s.prototype,n),_meta.NEED=!0;return _setToStringTag(s,e),l[e]=s,_export(_export.G+_export.W+_export.F*(s!=a),l),o||r.setStrong(s,e,i),s},SET=\"Set\",es6_set=_collection(SET,function(e){return function(){return e(this,arguments.length>0?arguments[0]:void 0)}},{add:function(e){return _collectionStrong.def(_validateCollection(this,SET),e=0===e?0:e,e)}},_collectionStrong),_createProperty=function(e,t,n){t in e?_objectDp.f(e,t,_propertyDesc(0,n)):e[t]=n};_export(_export.S+_export.F*!_iterDetect(function(e){}),\"Array\",{from:function(e){var t,n,r,i,o=_toObject(e),a=\"function\"==typeof this?this:Array,s=arguments.length,c=s>1?arguments[1]:void 0,u=void 0!==c,l=0,f=core_getIteratorMethod(o);if(u&&(c=_ctx(c,s>2?arguments[2]:void 0,2)),void 0==f||a==Array&&_isArrayIter(f))for(n=new a(t=_toLength(o.length));t>l;l++)_createProperty(n,l,u?c(o[l],l):o[l]);else for(i=f.call(o),n=new a;!(r=i.next()).done;l++)_createProperty(n,l,u?_iterCall(i,c,[r.value,l],!0):r.value);return n.length=l,n}});var f$3=Object.getOwnPropertySymbols,_objectGops={f:f$3},$assign=Object.assign,_objectAssign=!$assign||_fails(function(){var e={},t={},n=Symbol(),r=\"abcdefghijklmnopqrst\";return e[n]=7,r.split(\"\").forEach(function(e){t[e]=e}),7!=$assign({},e)[n]||Object.keys($assign({},t)).join(\"\")!=r})?function(e,t){for(var n=_toObject(e),r=arguments.length,i=1,o=_objectGops.f,a=_objectPie.f;r>i;)for(var s,c=_iobject(arguments[i++]),u=o?_objectKeys(c).concat(o(c)):_objectKeys(c),l=u.length,f=0;l>f;)a.call(c,s=u[f++])&&(n[s]=c[s]);return n}:$assign;_export(_export.S+_export.F,\"Object\",{assign:_objectAssign});var prefix=\"ads.\";function emitEvent(e,t,n){window.cnBus.emit(prefix+t+\".\"+e,n)}var levels={debug:emitEvent.bind(null,\"debug\"),info:emitEvent.bind(null,\"info\"),warn:emitEvent.bind(null,\"warn\"),error:emitEvent.bind(null,\"error\")},debug=levels.debug,error=levels.error,warn=levels.warn,styling={debug:\"color:darkgreen\",info:\"color:darkblue\"};function EventEmitter(e){return Object.keys(levels).reduce(function(t,n){return t[n]=function(t,r){return levels[n](e+\".\"+t,r)},t},{})}function addStyling(e,t){styling[e]&&(t[1]&&(t[2]=t[1]),t[0]=\"%c\"+t[0],t[1]=styling[e])}function render(e,t){var n=t.topic,r=n.split(\".\"),i=r[r.length-1],o=console[i],a=[n];e&&a.push(e),addStyling(i,a),o.apply(console,a)}function addDefaultSubscriptions(e,t){t&&e.on(\"ads.#.debug\",render),e.on(\"ads.#.info\",render),e.on(\"ads.#.warn\",render),e.on(\"ads.#.error\",render)}function handlePromiseError(e){return function(t){return emitEvent(\"error\",e,t)}}function pathToArray(e){return e.split?e.split(\".\"):e}function get(e,t){t=pathToArray(t);for(var n=0;e&&n<t.length;n++)e=e[t[n]];return e}function set(e,t,n){for(var r=(t=pathToArray(t)).length-1,i=t[r],o=0;o<r;o++){var a=t[o];!e[a]&&o<r&&(e[a]={}),e=e[t[o]]}return{oldValue:e&&e[i],newValue:e&&(e[i]=n)}}function pick(e,t){var n={};return t.forEach(function(t){var r=get(e,t);r&&set(n,t,r)}),n}function convertSizeToString(e){Array.isArray(e)&&e.map(function(e){return Array.isArray(e)?e.join(\"x\"):e}).join()}function getSizesObjectToString(e){return e.getSizes(window.innerWidth,window.innerHeight).map(function(e){return\"object\"==typeof e?e.getWidth()+\"x\"+e.getHeight():e}).join()}function SlotMetricsReport(e){var t=e.slot.getSlotElementId();Object.defineProperties(this,{adUnitPath:{value:e.slot.getAdUnitPath(),writable:!1,enumerable:!0},advertiserId:{value:e.advertiserId,writable:!1,enumerable:!0},campaignId:{value:e.campaignId,writable:!1,enumerable:!0},creativeId:{value:e.creativeId,writable:!1,enumerable:!0},isBackfill:{value:e.isBackfill,writable:!1,enumerable:!0},isEmpty:{value:e.isEmpty,writable:!1,enumerable:!0},lineItemId:{value:e.lineItemId,writable:!1,enumerable:!0},outOfPage:{value:e.slot.getOutOfPage(),writable:!1,enumerable:!0},requested:{value:Date.now(),writable:!1,enumerable:!0},size:{value:convertSizeToString(e.size),writable:!1,enumerable:!0},sizes:{value:getSizesObjectToString(e.slot),writable:!1,enumerable:!0},slotElementId:{value:t,writable:!1,enumerable:!0},instance:{value:t.split(\"_\").pop(),writable:!1,enumerable:!0},slotTargeting:{value:e.slot.getTargetingMap(),writable:!1,enumerable:!0}}),Object.freeze(this)}Object.assign({emitEvent:emitEvent,EventEmitter:EventEmitter,handlePromiseError:handlePromiseError},levels,{addDefaultSubscriptions:addDefaultSubscriptions});var cloneArray=function(e){return Array.prototype.slice.apply(e)},debounce=function(e,t){var n;return function(){var r=this,i=arguments;clearTimeout(n),n=setTimeout(function(){return e.apply(r,i)},t)}},cumulativeArgumentDebounce=function(e,t){var n,r=[];return function(){var i=this;r.push(cloneArray(arguments)),clearTimeout(n),n=setTimeout(function(){e.apply(i,[cloneArray(r)]),r.length=0},t)}},errorMessage=\"Ads -- Missing page context\",errorParamMessage=errorMessage+\" parameter : \",requiredKeys=[\"templateType\"],expectedKeys=[\"channel\",\"server\"];function validate(e){requiredKeys.forEach(function(t){!e.templateType&&error(\"\"+errorParamMessage+t)}),expectedKeys.forEach(function(t){!e[t]&&warn(\"\"+errorParamMessage+t)})}function getPageContext(e){var t=e.cns&&e.cns.pageContext;if(t)return t.templateType=t.templateType||t.template_type,t.subChannel=t.subChannel||t.sub_channel,validate(t),t;error(errorMessage)}var bufferPeriod=1e3,startTs=Date.now(),fields=[\"adUnitPath\",\"advertiserId\",\"campaignId\",\"companyIds\",\"creativeId\",\"creativeTemplateId\",\"device\",\"instance\",\"inViewPercentage\",\"isBackfill\",\"isEmpty\",\"isEmpty\",\"isFirstImpression\",\"isFirstImpressionViewable\",\"isFirstMoneyImpression\",\"isFirstMoneyImpressionViewable\",\"isFirstMoneyRequested\",\"isFirstRequested\",\"isRefresh\",\"labelIds\",\"lineItemId\",\"outOfPage\",\"requestNumber\",\"size\",\"sizes\",\"slotElementId\",\"slotTargeting\",\"sourceAgnosticCreativeId\",\"sourceAgnosticLineItemId\"],sentPageTargeting=!1,sendEvent=cumulativeArgumentDebounce(function(e){var t=e.map(function(e){return e[0]}),n=JSON.stringify(t)||\"\",r=\"https://wren.condenastdigital.com/1.0/conde/events?topic=wren.events.ads&api_key=d3Jlbg\",i=!1;if(navigator&&\"function\"==typeof navigator.sendBeacon&&\"function\"==typeof window.Blob&&(i=navigator.sendBeacon(r,n)),!i)if(n.length<1500){var o=r+\"&data=\"+encodeURIComponent(n);(new Image).src=o}else{var a=new XMLHttpRequest;a.open(\"POST\",r,!0),a.setRequestHeader(\"Content-type\",\"application/json\"),a.send(n)}},bufferPeriod);function delta(){return parseFloat(((Date.now()-startTs)/1e3).toFixed(1))}function decorate(e){return e.delta=delta(),e.pageContext=getPageContext(window),get(e,\"pageContext.device\")&&delete e.pageContext.device,e._device=!0,e._geo=!0,e._did=!0,e._ref=!0,e._xid=!0,e._key=get(window,\"cns.runtimeId\"),e}function add(e){sendEvent(decorate(e))}function onStart(){var e={type:\"page\"};e.targeting=getPageTargeting(),add(e)}function slotEventPayload(e,t){var n={},r=new SlotMetricsReport(e);return fields.forEach(function(i){null!=r[i]&&(n[i]=r[i]),null!=e[i]&&(n[i]=e[i]),null!=t[i]&&(n[i]=t[i])}),n.companyIds&&!n.companyIds.length&&delete n.companyIds,decorate(n),n}function onSlotRenderEnded(e,t){void 0===t&&(t={});var n=slotEventPayload(e,t);n.type=\"slotRenderEnded\",sendEvent(n),sentPageTargeting||(sentPageTargeting=!0,onStart())}function onImpressionViewable(e,t){if(void 0===t&&(t={}),e.inViewPercentage&&(0===e.inViewPercentage||100===e.inViewPercentage)){var n=slotEventPayload(e,t);n.type=\"impressionViewable\",sendEvent(n)}}function onSlotVisibilityChanged(e,t){void 0===t&&(t={});var n=slotEventPayload(e,t);n.type=\"visibilityChanged\",sendEvent(n)}function onSlotOnload(e,t){void 0===t&&(t={});var n=slotEventPayload(e,t);n.type=\"onLoad\",sendEvent(n)}function markStart(){startTs=Date.now(),window.cnBus.on(\"ads.environment.adblock.detected\",function(){return add({type:\"adblock\",detected:!0})}),window.cnBus.on(\"ads.environment.adblock.notdetected\",function(){return add({type:\"adblock\",detected:!1})})}var wrenCollector={add:add,markStart:markStart,onImpressionViewable:onImpressionViewable,onSlotOnload:onSlotOnload,onSlotRenderEnded:onSlotRenderEnded,onSlotVisibilityChanged:onSlotVisibilityChanged,onStart:onStart,sendEvent:sendEvent},minInterval=50;function deprecated(e,t){return void 0===t&&(t=\"unnamed\"),function(){warn(\"function \"+t+\" is deprecated\"),wrenCollector.add({type:\"deprecatedFunctionCall\",name:t});for(var n=arguments.length,r=new Array(n),i=0;i<n;i++)r[i]=arguments[i];return e.apply(null,r)}}function til(e,t,n){n=Math.max(n||minInterval,minInterval);try{if(e())try{return t()}catch(e){error(\"til\",e)}}catch(e){}setTimeout(til.bind(null,e,t,n),n)}function find(e,t){for(var n=0;n<e.length;n++)if(t(e[n]))return e[n]}function any(e,t){return!!find(e,t)}function all(e,t){for(var n=0;n<e.length;n++)if(!t(e[n]))return!1;return!0}function uniq(e){return Array.from(new Set(e))}function difference(e,t){return e.filter(function(e){return-1===t.indexOf(e)})}function applyTargeting(e,t){Object.keys(t).forEach(function(n){return e.setTargeting(n,t[n])})}function shouldSetSlotSize(e,t,n){var r=e&&Array.isArray(e),i=e&&2===e.length&&e[0]===e[1]===1;return n.hasStaticRefreshSize&&r&&!t&&!i}function getPageTargeting(){var e=window.googletag.pubads();return e.getTargetingKeys().reduce(function(t,n){return t[n]=e.getTargeting(n),t},{})}function setSlotSize(e,t,n){t.defineSizeMapping(e.sizeMapping().addSize([0,0],n).build())}function getSizeStringAsArray(e){return e.split(\"x\").map(function(e){return parseInt(e,10)})}function sizesToArray(e){return e?e.map(getSizeStringAsArray):[]}function getSlotById(e){return find(window.googletag.pubads().getSlots(),function(t){return t.getSlotElementId()===e})}function getSizeMapping(e){var t=e.getSizeMapping(),n=t.desktop,r=t.tablet,i=t.mobile;return window.googletag.sizeMapping().addSize([1024,0],n).addSize([768,0],r).addSize([0,0],i).build()}function domCall(e,t,n){return n||(n=e,e=document),e[t](n)}function getElementById(e,t){return domCall(e,\"getElementById\",t)}function find$1(e,t){return domCall(e,\"querySelector\",t)}function findAll(e,t){return Array.prototype.slice.call(domCall(e,\"querySelectorAll\",t))}function setStyle(e,t){for(var n=Object.keys(t),r=0;r<n.length;r++){var i=n[r];e.style[i]=t[i]}}function addClasses(e,t){for(var n=Object.keys(t),r=0;r<n.length;r++)e.classList.add(t[n[r]])}function setElementData(e,t){for(var n=Object.keys(t),r=0;r<n.length;r++){var i=n[r];e.setAttribute(\"data-\"+i,t[i])}}function createElement(e,t){var n=document.createElement(e);return t&&Object.keys(t).forEach(function(e){n[e]=t[e]}),n}var isCNSAdsSlotSizeClassRegex=new RegExp(/^cns-ads-slot-size-/);function ContainerStyler(e){var t,n,r=new EventEmitter(\"ContainerStyler\").debug;function i(e){setStyle(e,{height:\"0px\",width:\"0px\",minWidth:\"0px\",minHeight:\"0px\"})}function o(e,t){setStyle(e,{height:t[1]+\"px\",minHeight:t[1]+\"px\",width:t[0]+\"px\",minWidth:t[0]+\"px\"})}t=createElement(\"style\"),n=document.createTextNode(\"\"),t.classList.add(\"cns-ads-iframe-styles\"),t.appendChild(n),document.head.appendChild(t),e?(t.sheet.insertRule('iframe[id^=\"google_ads_iframe\"],div[id*=\"google_ads_iframe\"] {margin: 0 auto;padding: 0;}',t.sheet.cssRules.length),t.sheet.insertRule('.cns-ads-slot-size-9x1 iframe[id^=\"google_ads_iframe\"],.cns-ads-slot-size-9x1 div[id*=\"google_ads_iframe\"] {height: 0;width: 100%;min-width: 100%;}',t.sheet.cssRules.length)):t.sheet.insertRule('iframe[id^=\"google_ads_iframe\"],div[id*=\"google_ads_iframe\"] {margin: 0 auto;padding: 0;height: 0;width: 100%;min-width: 100%;}',t.sheet.cssRules.length),t.sheet.insertRule(\".cns-ads-stage { margin: 0 auto; padding: 0; width: 100%; }\",t.sheet.cssRules.length),t.sheet.insertRule('[data-slot-type=\"_out_of_page\"] {position: absolute;z-index: -1;}',t.sheet.cssRules.length),this.updateContainer=function(t,n){var a,s=n.isEmpty,c=n.size,u=n.slot,l=t.parentNode;r(\"ContainerStyler\",{container:t,stage:l,isEmpty:s,size:c,id:u.getSlotElementId()}),s?function(e,t){var n=t.classList;n.remove(\"cns-ads-slot-state-filled\"),n.add(\"cns-ads-slot-state-empty\"),i(e)}(t,l):(function(e){var t=e.classList;t.remove(\"cns-ads-slot-state-empty\");for(var n=0;n<t.length;n++)isCNSAdsSlotSizeClassRegex.test(t[n])&&t.remove(t[n])}(l),function(e,t){addClasses(e,[\"cns-ads-slot-state-filled\",\"cns-ads-slot-size-\"+(t&&t[0]&&t[1]&&t[0]+\"x\"+t[1])])}(l,c),function(e,t){t||i(e)}(t,c),e||(a=[\"height\",\"width\",\"padding\",\"margin\"],[t,l].forEach(function(e){a.forEach(function(t){e.removeAttribute(t)})}),function(e){return 9===e[0]}(c)||function(e,t,n){var r='[id^=\"google_ads_iframe\"]:not([id$=\"to_be_removed__\"]):not([id$=\"hidden__\"])',i=find$1(t,\"iframe\"+r),a=find$1(t,\"div\"+r);o(e,n),o(i,n),o(a,n)}(t,l,c)))}}function getCookie(e,t){for(var n=(t=t||document.cookie).split(\";\"),r=RegExp(\"^\\\\s*\"+e+\"=\\\\s*(.*?)\\\\s*$\"),i=0;i<n.length;i++){var o=n[i].match(r);if(o)return o[1]}}_fixReWks(\"replace\",2,function(e,t,n){return[function(r,i){var o=e(this),a=void 0==r?void 0:r[t];return void 0!==a?a.call(r,o,i):n.call(String(o),r,i)},n]}),_fixReWks(\"match\",1,function(e,t,n){return[function(n){var r=e(this),i=void 0==n?void 0:n[t];return void 0!==i?i.call(n,r):new RegExp(n)[t](String(r))},n]});var alphanumeric=new RegExp(/[^a-zA-Z0-9]/g),cookieKey=\"CN_xid\",isValidLength=function(e){return e.length>=32&&e.length<=150};function getPPID(){var e=getCookie(cookieKey);if(!e)return!1;var t=e.replace(alphanumeric,\"\");return isValidLength(t)&&t}function setPPID(e){var t=getPPID();t&&e.setPublisherProvidedId(t)}function updateCorrelatorInterval(){set(window,\"cns.flags.shouldCorrelatorUpdate\",!0);var e=setInterval(function(){get(window,\"cns.flags.shouldCorrelatorUpdate\")?window.googletag.pubads().updateCorrelator():clearInterval(e)},3e4)}var dP$2=_objectDp.f,FProto=Function.prototype,nameRE=/^\\s*function ([^ (]*)/,NAME=\"name\";function pixel(e){var t=e.campaign,n=e.name,r=e.meta;window.sparrowQueue.push(function(){window.sparrow.track(t,n,r)})}NAME in FProto||_descriptors&&dP$2(FProto,NAME,{configurable:!0,get:function(){try{return(\"\"+this).match(nameRE)[1]}catch(e){return\"\"}}}),window.sparrowQueue=window.sparrowQueue||[];var eventMatcher={slotImpressionViewable:\"slot_impression_viewable\",slotRendered:\"slot_rendered\",slotImpression:\"slot_loaded\",slotRequested:\"slot_requested\"};function transformPayload(e){var t=e.slotTargeting,n=e.pageTargeting;return{dim1:JSON.stringify({adBlock:n.adblock&&n.adblock.join(),channel:e.channel,device:e.device,server:e.server,subChannel:e.subChannel,template:e.templateType,version:e.version}),dim2:JSON.stringify({adUnitPath:e.adUnitPath,advertiserId:e.advertiserId,campaignId:e.campaignId,creativeId:e.creativeId,elementId:e.slotElementId,instance:e.instance,isBackfill:e.isBackfill,isEmpty:e.isEmpty,isFirstImpression:e.isFirstImpression,isFirstImpressionViewable:e.isFirstImpressionViewable,isFirstRequested:e.isFirstRequested,isFirstMoneyImpression:e.isFirstMoneyImpression,isFirstMoneyImpressionViewable:e.isFirstMoneyImpressionViewable,isFirstMoneyRequested:e.isFirstMoneyRequested,isRefresh:e.requestNumber>0,keywords:e.keywords,lineItemId:e.lineItemId,name:t.ctx_slot_name&&t.ctx_slot_name.join(),outOfPage:e.outOfPage,requestNumber:e.requestNumber.toString(),size:e.size,sizes:e.sizes,slug:e.slug,suffix:e.suffix}),dim3:JSON.stringify({footerStart:e.footerStart,headerStart:e.headerStart,navigationStart:get(performance,\"timing.navigationStart\"),pubAdsReady:e.pubadsReady,injected:e.injected,viewable:e.viewable,viewport:e.viewport,impression:e.impression}),dim4:JSON.stringify(Object.assign({},e.slotTargeting,e.pageTargeting))}}function transformName(e){var t=Object.keys(eventMatcher).filter(function(t){return t===e})[0];return eventMatcher[t]||e}function emitSparrowPixel(e,t){pixel({campaign:\"cns_ads\",name:transformName(e),meta:transformPayload(t)})}var version=\"6.28.2\";function setPubadsReadyMetric(){performance.mark(\"GPT-Init\")}function setAdsReadyMetric(){performance.mark(\"ATP-Init\")}function setFirstRequestedMetric(){performance.mark(\"ATP-First-Request\"),performance.measure(\"ATP-Init-To-First-Request\",\"ATP-Init\",\"ATP-First-Request\")}function setFirstMoneyRequestedMetric(){performance.mark(\"ATP-First-Money-Request\"),performance.measure(\"ATP-Init-To-First-Money-Request\",\"ATP-Init\",\"ATP-First-Money-Request\")}function setFirstImpressionMetric(){performance.mark(\"ATP-First-Impression\"),performance.measure(\"ATP-Init-To-First-Impression\",\"ATP-Init\",\"ATP-First-Impression\")}function setFirstMoneyImpressionMetric(){performance.mark(\"ATP-First-Money-Impression\"),performance.measure(\"ATP-Init-To-First-Money-Impression\",\"ATP-Init\",\"ATP-First-Money-Impression\")}function setFirstViewableMetric(){performance.mark(\"ATP-First-Viewable-Impression\"),performance.measure(\"ATP-Init-To-Viewable-Impression\",\"ATP-Init\",\"ATP-First-Viewable-Impression\")}function setFirstMoneyViewableMetric(){performance.mark(\"ATP-First-Money-Viewable-Impression\"),performance.measure(\"ATP-Init-To-Money-Viewable-Impression\",\"ATP-Init\",\"ATP-First-Money-Viewable-Impression\")}window.BOOMR_mq=window.BOOMR_mq||[],window.BOOMR_mq.push([\"addVar\",\"cnsLib\",version]);var events={adsReady:setAdsReadyMetric,pubadsReady:setPubadsReadyMetric,firstRequested:setFirstRequestedMetric,firstMoneyRequested:setFirstMoneyRequestedMetric,firstImpression:setFirstImpressionMetric,firstMoneyImpression:setFirstMoneyImpressionMetric,firstImpressionViewable:setFirstViewableMetric,firstMoneyImpressionViewable:setFirstMoneyViewableMetric};function emitBoomPixel(e){events[e]?events[e]():error(\"boomerang-rum-collector.eventNotDefined\")}function getViewportTemplate(){var e=window.innerWidth;return e<768?\"mobile\":e<1024?\"tablet\":\"desktop\"}function PubadsCollector(){var e=getViewportTemplate(),t={},n={isFirstRequested:!1,isFirstImpression:!1,isImpressionViewable:!1},r=!0,i=!0,o=!0;function a(e,t,r,i){var o=t.slot,a=o.getOutOfPage(),s=o.getAdUnitPath().match(/\\.cm\\//),c=t.isEmpty;return a||s||c||(n[e]=n[e]?n[e]:r+i),n[e]&&n[e]===r+i}this.onSlotRenderEnded=function(n){var i=n.slot.getSlotElementId(),o=t[i]||{},s=function(e){var n=new SlotMetricsReport(e),r=t[e.slot.getAdUnitPath()]||{},i=window.cns,o=i.pageContext||{},a=getPageTargeting(),s=i.timing||{};return Object.assign({},r,n,o,{pageTargeting:a,version:version},s)}(n),c=o&&o.requestNumber>=0?o.requestNumber+1:0,u=a(\"isFirstRequested\",n,i,c),l={device:e,adBlock:get(window,\"cns.pageContext.adBlock\")||!1,isRefresh:o&&o.requestNumber>=0,requestNumber:c,injected:Date.now(),isFirstMoneyRequested:u,isFirstRequested:r,viewport:\"\",impression:\"\",viewable:\"\"},f=Object.assign(o,l,s);t[i]=f,emitSparrowPixel(\"slotRendered\",f),wrenCollector.onSlotRenderEnded(n,l),r&&(emitBoomPixel(\"firstRequested\"),r=!1),u&&emitBoomPixel(\"firstMoneyRequested\")},this.onSlotVisibilityChanged=function(e){var n=e.slot.getSlotElementId(),r=t[n]||{};r.viewport=r.viewport||Date.now(),wrenCollector.onSlotVisibilityChanged(e,{})},this.onSlotOnload=function(e){var n=e.slot.getSlotElementId(),r=t[n]||{};r.isFirstMoneyImpression=a(\"isFirstImpression\",e,n,r.requestNumber),r.isFirstImpression=i,r.impression=r.impression||Date.now(),emitSparrowPixel(\"slotImpression\",r),wrenCollector.onSlotOnload(e,{isFirstImpression:r.isFirstImpression,isFirstMoneyImpression:r.isFirstMoneyImpression}),r.isFirstMoneyImpression&&emitBoomPixel(\"firstMoneyImpression\"),i&&(emitBoomPixel(\"firstImpression\"),i=!1)},this.onImpressionViewable=function(e){var n=e.slot.getSlotElementId(),r=t[n]||{};r.viewable=r.viewable||Date.now(),r.isFirstMoneyImpressionViewable=a(\"isImpressionViewable\",e,n,r.requestNumber),r.isFirstImpressionViewable=o,emitSparrowPixel(\"slotImpressionViewable\",r),wrenCollector.onImpressionViewable(e,{isFirstImpressionViewable:o,isFirstMoneyImpressionViewable:r.isFirstMoneyImpressionViewable}),r.isFirstMoneyImpressionViewable&&emitBoomPixel(\"firstMoneyImpressionViewable\"),o&&(emitBoomPixel(\"firstImpressionViewable\"),o=!1)},this.emitReady=function(){var e=get(window,\"cns.timing.pubadsReady\")||Date.now();set(window,\"cns.timing.pubadsReady\",e),emitBoomPixel(\"pubadsReady\"),wrenCollector.markStart()}}var UNSCOPABLES=_wks(\"unscopables\"),ArrayProto$1=Array.prototype;void 0==ArrayProto$1[UNSCOPABLES]&&_hide(ArrayProto$1,UNSCOPABLES,{});var _addToUnscopables=function(e){ArrayProto$1[UNSCOPABLES][e]=!0},$includes=_arrayIncludes(!0);_export(_export.P,\"Array\",{includes:function(e){return $includes(this,e,arguments.length>1?arguments[1]:void 0)}}),_addToUnscopables(\"includes\");var stickySizes=[\"728x90\",\"970x90\",\"970x250\",\"300x50\",\"320x50\"],stickyIsSize=function(e){return stickySizes.includes(e)};function stickyIsEligible(e,t,n){return\"hero_0\"===e&&t.isSticky&&Array.isArray(n)&&stickyIsSize(n.join(\"x\"))}var pubadsCollector=new PubadsCollector;function GPTRouter(e,t,n,r){var i=new ContainerStyler(e.getSingleInstance().getPageDefinition().isVerso);window.googletag=window.googletag||{},window.googletag.cmd=window.googletag.cmd||[];var o=window.googletag,a={slotRenderEnded:[function(t){try{var n=t.slot.getSlotElementId(),a=e.getSingleInstance().getSlotDefinitionFromGPTSlot(t.slot),s=document.getElementById(n);s&&i.updateContainer(s,t);var c=t.size,u=t.isEmpty,l=t.slot;shouldSetSlotSize(c,u,a)&&setSlotSize(o,l,c),stickyIsEligible(n,a,c)&&r.emit(\"ads.stickyBanner.hero.slotRenderEnded.\"+c.join(\"x\")),u&&r.emit(\"ads.slotRenderEnded.\"+n+\".empty\")}catch(e){error(\"onSlotRenderEnded\",{event:t,ex:e})}},t.onSlotRenderEnded,n.onSlotRenderEnded,pubadsCollector.onSlotRenderEnded],impressionViewable:[function(t){try{var n=t.slot.getSlotElementId(),i=e.getSingleInstance().getSlotDefinitionFromGPTSlot(t.slot);\"hero_0\"===n&&i.isSticky&&r.emit(\"ads.stickyBanner.hero.impressionViewable\",t)}catch(e){error(\"onImpressionViewable\",{event:t,ex:e})}},t.onImpressionViewable,pubadsCollector.onImpressionViewable],slotOnload:[pubadsCollector.onSlotOnload],slotVisibilityChanged:[pubadsCollector.onSlotVisibilityChanged]};o.cmd.push(function(){var t=o.pubads();setPPID(t),t.enableSingleRequest(),t.disableInitialLoad(),t.setCentering(!0),function(e,t){Object.keys(e).forEach(function(n){e[n].forEach(function(e){return t.addEventListener(n,e)})})}(a,t),e.getSingleInstance().getPageDefinition().forChildren&&t.setTagForChildDirectedTreatment(!0),updateCorrelatorInterval(),o.enableServices(),pubadsCollector.emitReady(),r.emit(\"ads.pubadsReady\")})}function hasEmail(e){return new RegExp(\"([a-zA-Z0-9._+-]+(@|%40|%2540)[a-zA-Z0-9._-]+.[a-zA-Z0-9._-]+)\",\"gi\").test(e)}function hasCreditCard(e){var t=e.match(/3(?:[47]\\d([ -]?)\\d{4}(?:\\1\\d{4}){2}|0[0-5]\\d{11}|[68]\\d{12})|4(?:\\d\\d\\d)?([ -]?)\\d{4}(?:\\2\\d{4}){2}$|^6011([ -]?)\\d{4}(?:\\3\\d{4}){2}|5[1-5]\\d\\d([ -]?)\\d{4}(?:\\4\\d{4}){2}|2014\\d{11}$|^2149\\d{11}|2131\\d{11}$|^1800\\d{11}$|^3\\d{15}/);return!(null===t||!t.length)}function hasMacAddress(e){var t=e.match(/((\\d|([a-f]|[A-F])){2}:){5}(\\d|([a-f]|[A-F])){2}/);return!(null===t||!t.length)}function hasIP(e){var t=e.match(/((0|1[0-9]{0,2}|2[0-9]?|2[0-4][0-9]|25[0-5]|[3-9][0-9]?)\\.){3}(0|1[0-9]{0,2}|2[0-9]?|2[0-4][0-9]|25[0-5]|[3-9][0-9]?)/);return!(null===t||!t.length)}function hasPII(){return any([document.referrer,document.location.href],function(e){return hasEmail(e)||hasCreditCard(e)||hasMacAddress(e)||hasIP(e)})}function detect(e){var t,n,r=!1,i=25,o={},a={},s=4e3,c=\"pub_300x250 pub_300x250m pub_728x90 text-ad textAd text_ad text_ads text-ads text-ad-links\",u=\"width: 1px !important; height: 1px !important; position: absolute !important; left: -10000px !important; top: -1000px !important;\";function l(){return function(t){r||(r=!0,Object.keys(a).forEach(function(e){clearTimeout(a[e])}),Object.keys(o).forEach(function(e){window.document.body.removeChild(o[e])}),e(t))}}function f(){setTimeout(function(){var e;e=l(),a.detected=setTimeout(function(){e(!1)},s),function(e){o.cosmetic=document.createElement(\"div\"),o.cosmetic.setAttribute(\"class\",c),o.cosmetic.setAttribute(\"style\",u),window.document.body.appendChild(o.cosmetic),function e(t){var n=o.cosmetic;if(null!==window.document.body.getAttribute(\"abp\")||null===n.offsetParent||0===n.offsetHeight||0===n.offsetLeft||0===n.offsetTop||0===n.offsetWidth||0===n.clientHeight||0===n.clientWidth)return t(!0);if(window.getComputedStyle){var r=window.getComputedStyle(n,null);if(\"none\"===r.getPropertyValue(\"display\")||\"hidden\"===r.getPropertyValue(\"visibility\"))return t(!0)}a.cosmetic=setTimeout(function(){e(t)},i)}(e)}(l())},1)}t=l(),(n=new XMLHttpRequest).open(\"GET\",\"/hotzones/src/ads.js\",!0),n.onreadystatechange=function(){4===n.readyState&&0===n.status&&t(!0)},n.send(),\"complete\"===document.readyState?f():document.addEventListener(\"DOMContentLoaded\",f,!1)}function AdBlockDetect(e){detect(function(t){t?e.emit(\"ads.environment.adblock.detected\"):e.emit(\"ads.environment.adblock.notdetected\"),set(window,\"cns.pageContext.adBlock\",t)})}function debugStyles(){var e=document.createElement(\"style\"),t=document.createTextNode(\"\");e.classList.add(\"ads-debug-styles\"),e.appendChild(t),document.head.appendChild(e),e.sheet.insertRule(\".cns-ads-stage {\\n      box-sizing: border-box;\\n      border: 5px solid black;\\n      display: block !important;\\n    }\",e.sheet.cssRules.length),e.sheet.insertRule(\".cns-ads-slot-state-empty {\\n      border: 5px solid red;\\n    }\",e.sheet.cssRules.length),e.sheet.insertRule(\".cns-ads-slot-state-filled {\\n      border: 5px solid green;\\n    }\",e.sheet.cssRules.length)}var SPECIES$1=_wks(\"species\"),_speciesConstructor=function(e,t){var n,r=_anObject(e).constructor;return void 0===r||void 0==(n=_anObject(r)[SPECIES$1])?t:_aFunction(n)},_invoke=function(e,t,n){var r=void 0===n;switch(t.length){case 0:return r?e():e.call(n);case 1:return r?e(t[0]):e.call(n,t[0]);case 2:return r?e(t[0],t[1]):e.call(n,t[0],t[1]);case 3:return r?e(t[0],t[1],t[2]):e.call(n,t[0],t[1],t[2]);case 4:return r?e(t[0],t[1],t[2],t[3]):e.call(n,t[0],t[1],t[2],t[3])}return e.apply(n,t)},process$1=_global.process,setTask=_global.setImmediate,clearTask=_global.clearImmediate,MessageChannel=_global.MessageChannel,Dispatch=_global.Dispatch,counter=0,queue={},ONREADYSTATECHANGE=\"onreadystatechange\",defer,channel,port,run=function(){var e=+this;if(queue.hasOwnProperty(e)){var t=queue[e];delete queue[e],t()}},listener=function(e){run.call(e.data)};setTask&&clearTask||(setTask=function(e){for(var t=[],n=1;arguments.length>n;)t.push(arguments[n++]);return queue[++counter]=function(){_invoke(\"function\"==typeof e?e:Function(e),t)},defer(counter),counter},clearTask=function(e){delete queue[e]},\"process\"==_cof(process$1)?defer=function(e){process$1.nextTick(_ctx(run,e,1))}:Dispatch&&Dispatch.now?defer=function(e){Dispatch.now(_ctx(run,e,1))}:MessageChannel?(channel=new MessageChannel,port=channel.port2,channel.port1.onmessage=listener,defer=_ctx(port.postMessage,port,1)):_global.addEventListener&&\"function\"==typeof postMessage&&!_global.importScripts?(defer=function(e){_global.postMessage(e+\"\",\"*\")},_global.addEventListener(\"message\",listener,!1)):defer=ONREADYSTATECHANGE in _domCreate(\"script\")?function(e){_html.appendChild(_domCreate(\"script\"))[ONREADYSTATECHANGE]=function(){_html.removeChild(this),run.call(e)}}:function(e){setTimeout(_ctx(run,e,1),0)});var _task={set:setTask,clear:clearTask},macrotask=_task.set,Observer=_global.MutationObserver||_global.WebKitMutationObserver,process$2=_global.process,Promise$1=_global.Promise,isNode=\"process\"==_cof(process$2),_microtask=function(){var e,t,n,r=function(){var r,i;for(isNode&&(r=process$2.domain)&&r.exit();e;){i=e.fn,e=e.next;try{i()}catch(r){throw e?n():t=void 0,r}}t=void 0,r&&r.enter()};if(isNode)n=function(){process$2.nextTick(r)};else if(!Observer||_global.navigator&&_global.navigator.standalone)if(Promise$1&&Promise$1.resolve){var i=Promise$1.resolve();n=function(){i.then(r)}}else n=function(){macrotask.call(_global,r)};else{var o=!0,a=document.createTextNode(\"\");new Observer(r).observe(a,{characterData:!0}),n=function(){a.data=o=!o}}return function(r){var i={fn:r,next:void 0};t&&(t.next=i),e||(e=i,n()),t=i}};function PromiseCapability(e){var t,n;this.promise=new e(function(e,r){if(void 0!==t||void 0!==n)throw TypeError(\"Bad Promise constructor\");t=e,n=r}),this.resolve=_aFunction(t),this.reject=_aFunction(n)}var f$4=function(e){return new PromiseCapability(e)},_newPromiseCapability={f:f$4},_perform=function(e){try{return{e:!1,v:e()}}catch(e){return{e:!0,v:e}}},_promiseResolve=function(e,t){if(_anObject(e),_isObject(t)&&t.constructor===e)return t;var n=_newPromiseCapability.f(e);return(0,n.resolve)(t),n.promise},task=_task.set,microtask=_microtask(),PROMISE=\"Promise\",TypeError$1=_global.TypeError,process$3=_global.process,$Promise=_global[PROMISE],isNode$1=\"process\"==_classof(process$3),empty=function(){},Internal,newGenericPromiseCapability,OwnPromiseCapability,Wrapper,newPromiseCapability=newGenericPromiseCapability=_newPromiseCapability.f,USE_NATIVE=!!function(){try{var e=$Promise.resolve(1),t=(e.constructor={})[_wks(\"species\")]=function(e){e(empty,empty)};return(isNode$1||\"function\"==typeof PromiseRejectionEvent)&&e.then(empty)instanceof t}catch(e){}}(),isThenable=function(e){var t;return!(!_isObject(e)||\"function\"!=typeof(t=e.then))&&t},notify=function(e,t){if(!e._n){e._n=!0;var n=e._c;microtask(function(){for(var r=e._v,i=1==e._s,o=0,a=function(t){var n,o,a=i?t.ok:t.fail,s=t.resolve,c=t.reject,u=t.domain;try{a?(i||(2==e._h&&onHandleUnhandled(e),e._h=1),!0===a?n=r:(u&&u.enter(),n=a(r),u&&u.exit()),n===t.promise?c(TypeError$1(\"Promise-chain cycle\")):(o=isThenable(n))?o.call(n,s,c):s(n)):c(r)}catch(e){c(e)}};n.length>o;)a(n[o++]);e._c=[],e._n=!1,t&&!e._h&&onUnhandled(e)})}},onUnhandled=function(e){task.call(_global,function(){var t,n,r,i=e._v,o=isUnhandled(e);if(o&&(t=_perform(function(){isNode$1?process$3.emit(\"unhandledRejection\",i,e):(n=_global.onunhandledrejection)?n({promise:e,reason:i}):(r=_global.console)&&r.error&&r.error(\"Unhandled promise rejection\",i)}),e._h=isNode$1||isUnhandled(e)?2:1),e._a=void 0,o&&t.e)throw t.v})},isUnhandled=function(e){return 1!==e._h&&0===(e._a||e._c).length},onHandleUnhandled=function(e){task.call(_global,function(){var t;isNode$1?process$3.emit(\"rejectionHandled\",e):(t=_global.onrejectionhandled)&&t({promise:e,reason:e._v})})},$reject=function(e){var t=this;t._d||(t._d=!0,(t=t._w||t)._v=e,t._s=2,t._a||(t._a=t._c.slice()),notify(t,!0))},$resolve=function(e){var t,n=this;if(!n._d){n._d=!0,n=n._w||n;try{if(n===e)throw TypeError$1(\"Promise can't be resolved itself\");(t=isThenable(e))?microtask(function(){var r={_w:n,_d:!1};try{t.call(e,_ctx($resolve,r,1),_ctx($reject,r,1))}catch(e){$reject.call(r,e)}}):(n._v=e,n._s=1,notify(n,!1))}catch(e){$reject.call({_w:n,_d:!1},e)}}};USE_NATIVE||($Promise=function(e){_anInstance(this,$Promise,PROMISE,\"_h\"),_aFunction(e),Internal.call(this);try{e(_ctx($resolve,this,1),_ctx($reject,this,1))}catch(e){$reject.call(this,e)}},Internal=function(e){this._c=[],this._a=void 0,this._s=0,this._d=!1,this._v=void 0,this._h=0,this._n=!1},Internal.prototype=_redefineAll($Promise.prototype,{then:function(e,t){var n=newPromiseCapability(_speciesConstructor(this,$Promise));return n.ok=\"function\"!=typeof e||e,n.fail=\"function\"==typeof t&&t,n.domain=isNode$1?process$3.domain:void 0,this._c.push(n),this._a&&this._a.push(n),this._s&&notify(this,!1),n.promise},catch:function(e){return this.then(void 0,e)}}),OwnPromiseCapability=function(){var e=new Internal;this.promise=e,this.resolve=_ctx($resolve,e,1),this.reject=_ctx($reject,e,1)},_newPromiseCapability.f=newPromiseCapability=function(e){return e===$Promise||e===Wrapper?new OwnPromiseCapability(e):newGenericPromiseCapability(e)}),_export(_export.G+_export.W+_export.F*!USE_NATIVE,{Promise:$Promise}),_setToStringTag($Promise,PROMISE),_setSpecies(PROMISE),Wrapper=_core[PROMISE],_export(_export.S+_export.F*!USE_NATIVE,PROMISE,{reject:function(e){var t=newPromiseCapability(this);return(0,t.reject)(e),t.promise}}),_export(_export.S+_export.F*(_library||!USE_NATIVE),PROMISE,{resolve:function(e){return _promiseResolve(_library&&this===Wrapper?$Promise:this,e)}}),_export(_export.S+_export.F*!(USE_NATIVE&&_iterDetect(function(e){$Promise.all(e).catch(empty)})),PROMISE,{all:function(e){var t=this,n=newPromiseCapability(t),r=n.resolve,i=n.reject,o=_perform(function(){var n=[],o=0,a=1;_forOf(e,!1,function(e){var s=o++,c=!1;n.push(void 0),a++,t.resolve(e).then(function(e){c||(c=!0,n[s]=e,--a||r(n))},i)}),--a||r(n)});return o.e&&i(o.v),n.promise},race:function(e){var t=this,n=newPromiseCapability(t),r=n.reject,i=_perform(function(){_forOf(e,!1,function(e){t.resolve(e).then(n.resolve,r)})});return i.e&&r(i.v),n.promise}});var pollingTime=750,maxPollingTime=15e3;function getRaven(){var e=Date.now();return new Promise(function(t,n){!function r(){if(!1===window.shouldSentrySample)n(new Error(\"Raven is not enabled\"));else{var i=window.Raven;i?t(i):Date.now()-e>=maxPollingTime?n(new Error(\"Raven has not loaded\")):setTimeout(r,pollingTime)}}()})}function stringifyPayload(e){var t=e;try{t=JSON.stringify(e)}catch(e){t=\"Unable to stringify payload\"}return t}function startSentry(e){var t=[],n=e.subscribe(\"#.warn\",function(e,n){var r=n.topic;t.push({topic:r,payload:stringifyPayload(e),level:\"warning\"})}),r=e.subscribe(\"#.error\",function(e,n){var r=n.topic;t.push({topic:r,payload:stringifyPayload(e),level:\"error\"})});getRaven().then(function(e){e.setTagsContext({adsLibVersion:version});for(var n=function(t){var n=t.topic,r=t.payload,i=t.level;e.captureMessage(n,{level:i,tags:{topic:n},extra:{payload:r}})};t.length;)n(t.shift());t.push=n}).catch(function(){n(),r(),t=null})}var isEnum=_objectPie.f,_objectToArray=function(e){return function(t){for(var n,r=_toIobject(t),i=_objectKeys(r),o=i.length,a=0,s=[];o>a;)isEnum.call(r,n=i[a++])&&s.push(e?[n,r[n]]:r[n]);return s}},$values=_objectToArray(!1);function isPlainObject(e){return!!e&&e.constructor===Object}function concatUniques(e){if(!(e=e.filter(Array.isArray)).length)return[];var t=e.shift();return Array.from(new Set(t.concat.apply(t,e)))}function mergeBase(e,t,n,r){var i;return isPlainObject(t)?i=e.filter(function(e){return isPlainObject(e[n])}):Array.isArray(t)&&(i=e.filter(function(e){return Array.isArray(e[n])})),i&&i.length&&(t=merge(i.map(function(e){return e[n]}),r)),t}function merge(e,t){var n=e.filter(function(e){return!!e});if(n<2)return e[0];var r=concatUniques(n.filter(function(e){return!!e}).map(Object.keys)),i=n[0];return r.reduce(function(e,r){var i=n.filter(function(e){return void 0!==e[r]});if(t){for(var o=!1,a=i[0][r],s=1;s<i.length;s++){var c=t(a,i[s][r],r);void 0!==c&&(a=c,o=!0)}if(o)return e[r]=a,e}for(var u=n.length-1;u>=0;u--){var l=n[u][r];if(void 0!==l)return e[r]=mergeBase(n,l,r,t),e}return e},i)}function mergeViewportSizes(e,t){var n={};return Object.keys(e).forEach(function(r){if(n[r]=e[r]||[],t&&void 0!==t[r])if(!1===t[r]||!t[r]&&!1===e[r])n[r]=!1;else{n[r]=concatUniques([e[r],t[r]]);var i=n[r].filter(function(e){return e&&\"-\"===e[0]}),o=i.map(function(e){return e.slice(1)}),a=i.concat(o);n[r]=difference(n[r],a)}}),n}function mergeObjectsOfArrays(e){return concatUniques(e.map(Object.keys)).reduce(function(t,n){var r=e.map(function(e){return e[n]}).filter(Array.isArray);return r.length&&(t[n]=concatUniques(r)),t},{})}_export(_export.S,\"Object\",{values:function(e){return $values(e)}});var isRunningOnClient=\"undefined\"!=typeof window;function isObject(e){return\"object\"==typeof e&&e.constructor===Object}function getRender(e){return pick(e,[\"desktop\",\"tablet\",\"mobile\",\"constellation\",\"slot\"])}function stringToFunction(string){return eval(\"(\"+string+\")\")}function slotComplexRenderPreProcessor(e){Object.values(e||{}).forEach(function(e){isObject(e)&&e.every&&e.el&&(e.when&&(e.when=isRunningOnClient&&stringToFunction(e.when)||e.when.toString()),e.in&&e.in.el&&e.in.when&&(e.in.when=isRunningOnClient&&stringToFunction(e.in.when)||e.in.when.toString()))})}function slotComplexRenderProcessor(e){e&&(e.slot?slotComplexRenderPreProcessor(e.slot):Object.values(e).forEach(function(e){slotComplexRenderPreProcessor(e.slot)}))}function mergePlugins(e,t){return Object.keys(t).reduce(function(n,r){var i=merge([{},e[r],t[r]],function(e,t){if(!1!==e&&!0===t)return e});return i&&(n[r]=i),n},{})}function mergeSlotTypeDefinitions(e,t){return Object.keys(t).reduce(function(n,r){var i=mergeAdTechConfigs(e[r],t[r]);return i&&(n[r]=i),n},{})}var specialKeys={types:function(e,t){if(isObject(e))return mergeSlotTypeDefinitions(e,t)},groups:function(e,t){return e?isObject(e)?concatUniques([e,t]):void 0:t},targeting:function(e,t){return e?isObject(e)?mergeObjectsOfArrays([e,t]):void 0:t},position:function(e,t){return e?isObject(e)?mergeObjectsOfArrays([e,t]):void 0:t},content_type:function(e,t){return e?isObject(e)?mergeObjectsOfArrays([e,t]):void 0:t},sizes:function(e,t){if(isObject(e))return mergeViewportSizes(e,t)},render:function(e,t){return slotComplexRenderProcessor(e),slotComplexRenderProcessor(t),getRender(e?t||e:t)},plugins:mergePlugins};function adConfigMerger(e,t,n){var r;return specialKeys[n]?r=specialKeys[n](e,t):Array.isArray(e)&&Array.isArray(t)&&(r=t),r}function mergeAdTechConfigs(e,t){return merge([{},e,t],adConfigMerger)}var errorMessage$1=\"Ads -- Ad unit path generation error : \",matcher=\"[^A-Za-z0-9]\";function dashSlugify(e){var t=new RegExp(matcher,\"g\");return e&&e.toString().toLowerCase().replace(t,\"-\").replace(/-+/g,\"-\").replace(/(^-|-$)/g,\"\")}function evalPath(fnString,options){try{var pathFn=eval(\"(\"+fnString+\")\");if(\"function\"==typeof pathFn)return pathFn(options);error(errorMessage$1+\" generation function is not a function\")}catch(e){e(errorMessage$1+\" generation function cannot be evaluated\")}}function searchMap(e,t){return Object.keys(e).reduce(function(n,r){return find(e[r],function(e){return e===t})?r:n},!1)}function findCategory(e){var t=e.channel,n=t?dashSlugify(t):\"misc\";return\"home\"===n?\"homepage\":n}function findContentType(e){var t=get(e,\"adUnit.map.contentType\");t||error(errorMessage$1+\" Content type map is missing in the config\");var n=searchMap(t,e.templateType);return n||error(errorMessage$1+\" contentType is undefined\"),n}function buildAdUnitPath(e){var t=e.position,n=e.network,r=e.positionCount,i=e.contentType||findContentType(e),o=findCategory(e),a={network:n,position:t,category:o,contentType:i,instance:r};return set(window,\"cns.adUnit.contentType\",i),set(window,\"cns.adUnit.category\",o),evalPath(get(e,\"adUnit.generatePath\"),a)}function buildLegacyPath(e){return evalPath(get(e,\"adUnit.generateLegacyPath\"),e)}function buildOverridePath(e){return e.network+\"/\"+e.override.replace(/,/g,\"/\")}function slugifyChannels(e){var t=e.channel,n=e.subChannel;return{channel:dashSlugify(t)||\"\",subChannel:dashSlugify(n)||\"\"}}function generatePathOptions(e,t){var n=e.positionCount,r=e.network,i=e.override,o=e.suffix,a=e.templateType,s=e.slotName,c=e.shouldUseLegacyPath,u=e.position,l=slugifyChannels(e),f=l.channel,d=l.subChannel;return{adUnit:t.adUnit,network:r,override:i,templateType:a,positionCount:n,shouldUseLegacyPath:c,slotName:s,channel:f,subChannel:d,suffix:o,contentType:t.contentType,position:u}}function getAdUnitPath(e,t){var n,r=generatePathOptions(e,t);return(n=r.override?buildOverridePath(r):r.shouldUseLegacyPath?buildLegacyPath(r):buildAdUnitPath(r))||error(errorMessage$1),debug(e.slotName+\".adUnitPathGenerated\",n),n}var _flags=function(){var e=_anObject(this),t=\"\";return e.global&&(t+=\"g\"),e.ignoreCase&&(t+=\"i\"),e.multiline&&(t+=\"m\"),e.unicode&&(t+=\"u\"),e.sticky&&(t+=\"y\"),t};function decode(e){return decodeURIComponent(e.replace(/\\+/g,\" \"))}function querystring(e){for(var t,n=/([^=?&]+)=?([^&]*)/g,r={};t=n.exec(e);){var i=decode(t[1]),o=decode(t[2]);i in r||(r[i]=o)}return r}_descriptors&&\"g\"!=/./g.flags&&_objectDp.f(RegExp.prototype,\"flags\",{configurable:!0,get:_flags}),_fixReWks(\"search\",1,function(e,t,n){return[function(n){var r=e(this),i=void 0==n?void 0:n[t];return void 0!==i?i.call(n,r):new RegExp(n)[t](String(r))},n]});var parse=querystring;function getFeatures(e){return e&&\"string\"==typeof e?e.split(\",\").reduce(function(e,t){return e[t]=!0,e},{}):{}}var queryParameters=parse(document.location.search)||{},featureFlags=getFeatures(queryParameters.feature_flags);featureFlags.ao_norefresh&&(window.cns.flags.shouldNotRefresh=!0);var SlotCounter=function(){var e={};this.next=function(t){e[t]=e[t]||0;var n=e[t];return e[t]++,n}},PositionCounter=function(){var e={};this.next=function(t){e[t]=e[t]||1;var n=e[t];return e[t]++,n}};function defineReadOnlyProperties(e,t){for(var n=Object.keys(t),r={},i=0;i<n.length;i++){var o=n[i];r[o]={value:t[o],writable:!1,enumerable:!0}}return Object.defineProperties(e,r)}function freeze(e){try{return Object.freeze(e)}catch(e){throw new Error('Must use \"new\" keyword to instantiate, must support Object.freeze.')}}function matchVariantPattern(e,t){var n=!1;return t.forEach(function(t){!n&&e[t]&&(n=e[t])}),n||e._default||e.__default}function getSpecificityPattern(e){var t=e.slug,n=e.channel,r=e.subChannel,i=e.templateType;return[t,n+\"_\"+r+\"_\"+i,n+\"_\"+i,\"\"+i]}function getSlotNamesForPage(e,t){var n=getSpecificityPattern(e);return matchVariantPattern(get(t,\"slot.sets\"),n)}function getConfig(){return get(window,\"cns.config.config\")}function getBrandAdUnitId(){return get(getConfig(),\"slot.__auid_one\")}function getAdUnit(){var e=get(window,\"cns.config.config.ad_unit\")||{};return{generatePath:e.generate_path,generateLegacyPath:e.generate_legacy_path,map:{contentType:get(e,\"map.content_type\")}}}function getNetwork(){return get(window,\"cns.config.config.network\")}function getViewportRange(e,t,n){var r=getConfig()[n],i=r&&matchVariantPattern(r,e);return i&&i[t]||i||0}function getPathOverride(){return queryParameters&&queryParameters.ao_iu}function getVersoFlag(e){var t=get(e,\"keywords.platform\")||[];return!(!t.length||\"verso\"!==t[0])}function getOverrideVpRange(e,t){return get(t,\"request_vp_range.\"+e)}function CompleteDefiner(e,t,n){var r=new SlotCounter,i=new PositionCounter,o=getSpecificityPattern(e),a=getConfig(),s=a.slot.types,c=getSlotNamesForPage(e,a),u=s._default||{},l={forChildren:\"for_children\",hasStaticRefreshSize:\"static_refresh_size\",canBeHidden:\"can_be_hidden\",shouldWaitForReact:\"insert_after_react_ready\",requiredTargeting:\"required_targeting\",isSticky:\"is_sticky\"};function f(e){var t=e.render;return t&&(t.slot||t[n]&&t[n].slot)}function d(e,t,r,i){e||warn(\"Invalid sizes: unable to define '\"+r+\"' on \"+n+\".\",{definition:i,slotName:r}),t||warn(\"Invalid render: unable to define: '\"+r+\"' on \"+n,{definition:i,slotName:r})}var g=freeze(c.reduce(function(e,r){var i=mergeAdTechConfigs(mergeAdTechConfigs(u,s[r]._default),function(e){var n=matchVariantPattern(s[e],o);return t?mergeAdTechConfigs(n,t):n}(r));return function(e,t,n){var r=t.sizes,i=r&&r[n]&&r[n].length,o=r&&!1===r[n],a=f(t),s=i&&!o;return!!t.isOutOfPage||(d(s,a,e,t),i&&!o&&a)}(r,i,n)&&(e[r]=freeze(i)),e},{})),p=freeze(Object.keys(g)),h=new function(){defineReadOnlyProperties(this,{slug:e.slug,server:e.server,keywords:e.keywords,channel:e.channel||\"misc\",subChannel:e.subChannel,device:n,templateType:e.templateType,contentType:e.contentType,forChildren:e[l.forChildren],slotNames:p,network:getNetwork(),brand:getBrandAdUnitId(),requestViewportRange:getViewportRange(o,n,\"request_vp_range\"),adUnit:getAdUnit(),isVerso:getVersoFlag(e)}),freeze(this)};function m(t){var o=g[t],a=\"cm\"===o.suffix;function s(e,n){var o=this;e=void 0!==e?e:r.next(t),defineReadOnlyProperties(this,{id:t+\"_\"+e,slotCount:e,positionCount:n=void 0!==n?n:i.next(this.position)}),this.getAdUnitPath=function(){return getAdUnitPath(o,h)},freeze(this)}this.getRenderBlock=function(){return f(o)},this.getSizes=function(){return o.sizes[n]},this.getSizesArray=function(){return sizesToArray(o.sizes[n])},this.getSizeMapping=function(){return{desktop:sizesToArray(o.sizes.desktop),tablet:sizesToArray(o.sizes.tablet),mobile:sizesToArray(o.sizes.mobile)}},this.shouldWaitUntilVisibleBeforeDisplay=function(){var e=o[l.canBeHidden];return!a&&!e},this.getCustomData=function(){return o.data},this.isSticky=o.isSticky,s.prototype=this,this.getSlotDefinition=function(){return new s},this.getSlotDefinitionFromGPTSlot=function(e){var t=parseInt(e.getTargeting(\"pos_instance\")[0],10);return new s(parseInt(e.getTargeting(\"ctx_slot_instance\")[0],10),t)},defineReadOnlyProperties(this,{slotName:t,isCM:a,isOutOfPage:!!o.isOutOfPage,refresh:o.refresh,isSticky:o[l.isSticky],hasStaticRefreshSize:!!o[l.hasStaticRefreshSize],suffix:o.suffix,channel:e.channel,subChannel:e.subChannel,templateType:e.templateType,override:getPathOverride(),brand:getBrandAdUnitId(),network:getNetwork(),shouldUseLegacyPath:o.should_use_legacy_path,shouldWaitForReact:!!o[l.shouldWaitForReact],requiredTargeting:o[l.requiredTargeting]||[],position:o.position,overrideRequestViewportRange:getOverrideVpRange(n,o)}),freeze(this)}this.getSlotTypeDefinition=function(e){return new m(e)},this.getSlotDefinitionFromGPTSlot=function(e){var t=e.getSlotElementId().split(\"_\");return t.pop(),new m(t.join(\"_\")).getSlotDefinitionFromGPTSlot(e)},this.getPageDefinition=function(){return h},freeze(this)}var reactReadyEvent=\"react.ready\";function onReactReady(){set(window,\"_cne.pageCreated\",!0)}function enableCNE(e){if(e.history(reactReadyEvent).length)return onReactReady();e.on(reactReadyEvent,onReactReady)}var es6_array_iterator=_iterDefine(Array,\"Array\",function(e,t){this._t=_toIobject(e),this._i=0,this._k=t},function(){var e=this._t,t=this._k,n=this._i++;return!e||n>=e.length?(this._t=void 0,_iterStep(1)):_iterStep(0,\"keys\"==t?n:\"values\"==t?e[n]:[n,e[n]])},\"values\");_iterators.Arguments=_iterators.Array,_addToUnscopables(\"keys\"),_addToUnscopables(\"values\"),_addToUnscopables(\"entries\");for(var ITERATOR$4=_wks(\"iterator\"),TO_STRING_TAG=_wks(\"toStringTag\"),ArrayValues=_iterators.Array,DOMIterables={CSSRuleList:!0,CSSStyleDeclaration:!1,CSSValueList:!1,ClientRectList:!1,DOMRectList:!1,DOMStringList:!1,DOMTokenList:!0,DataTransferItemList:!1,FileList:!1,HTMLAllCollection:!1,HTMLCollection:!1,HTMLFormElement:!1,HTMLSelectElement:!1,MediaList:!0,MimeTypeArray:!1,NamedNodeMap:!1,NodeList:!0,PaintRequestList:!1,Plugin:!1,PluginArray:!1,SVGLengthList:!1,SVGNumberList:!1,SVGPathSegList:!1,SVGPointList:!1,SVGStringList:!1,SVGTransformList:!1,SourceBufferList:!1,StyleSheetList:!0,TextTrackCueList:!1,TextTrackList:!1,TouchList:!1},collections=_objectKeys(DOMIterables),i=0;i<collections.length;i++){var NAME$1=collections[i],explicit=DOMIterables[NAME$1],Collection=_global[NAME$1],proto=Collection&&Collection.prototype,key;if(proto&&(proto[ITERATOR$4]||_hide(proto,ITERATOR$4,ArrayValues),proto[TO_STRING_TAG]||_hide(proto,TO_STRING_TAG,NAME$1),_iterators[NAME$1]=ArrayValues,explicit))for(key in es6_array_iterator)proto[key]||_redefine(proto,key,es6_array_iterator[key],!0)}var fastdom=createCommonjsModule(function(e){!function(t){var n=t.requestAnimationFrame||t.webkitRequestAnimationFrame||t.mozRequestAnimationFrame||t.msRequestAnimationFrame||function(e){return setTimeout(e,16)};function r(){this.reads=[],this.writes=[],this.raf=n.bind(t)}function i(e){e.scheduled||(e.scheduled=!0,e.raf(function(e){var t,n=e.writes,r=e.reads;try{o(r),o(n)}catch(e){t=e}if(e.scheduled=!1,(r.length||n.length)&&i(e),t){if(!e.catch)throw t;e.catch(t)}}.bind(null,e)))}function o(e){for(var t;t=e.shift();)t()}function a(e,t){var n=e.indexOf(t);return!!~n&&!!e.splice(n,1)}r.prototype={constructor:r,measure:function(e,t){var n=t?e.bind(t):e;return this.reads.push(n),i(this),n},mutate:function(e,t){var n=t?e.bind(t):e;return this.writes.push(n),i(this),n},clear:function(e){return a(this.reads,e)||a(this.writes,e)},extend:function(e){if(\"object\"!=typeof e)throw new Error(\"expected object\");var t=Object.create(this);return function(e,t){for(var n in t)t.hasOwnProperty(n)&&(e[n]=t[n])}(t,e),t.fastdom=this,t.initialize&&t.initialize(),t},catch:null};var s=t.fastdom=t.fastdom||new r;e.exports=s}(\"undefined\"!=typeof window?window:commonjsGlobal)}),eval2=eval;function getText(e){for(var t=\"\",n=e.childNodes,r=0;r<n.length;r++){var i=n[r];8!==i.nodeType&&(t+=1!==i.nodeType?i.nodeValue:getText(i))}return t}function setMeta(e,t,n){var r=getText(n[t]);return{index:t,isOdd:!!(t%2),isEven:!(t%2),isFirst:0===t,isLast:t===e-1,characterCount:r.split(\"\").length,wordCount:r.split(\" \").length}}function isValidComplexInjection(e){return\"string\"==typeof e.el&&\"number\"==typeof e.every&&(\"object\"==typeof e.in&&\"string\"==typeof e.in.el||\"string\"==typeof e.in)}var insertionMethodMap={top:\"prepend\",bottom:\"append\",after:\"after\"};function normalizeMethod(e){return insertionMethodMap[e]||e}var insertionMethods={before:function(e){return e.previousSibling},above:function(e){return e.previousSibling},after:function(e){return e.nextSibling},below:function(e){return e.nextSibling},prepend:function(e){return e.firstElementChild},append:function(e){return e.lastElementChild}};function getInsertionTarget(e,t){if(insertionMethods[t])return insertionMethods[t](e);console.error(\"unknown insertion method for getInsertionTarget\",{el:e,method:t})}function alreadyExists(e,t){var n=getInsertionTarget(e,t),r=n&&n.classList&&n.classList.contains(\"cns-ads-stage\"),i=n&&n.firstChild,o=i&&i.classList&&i.classList.contains(\"cns-ads-stage\");return!(!r&&!o)}function checkEvery(e){var t=e.injectionBlock,n=e.index;return\"number\"==typeof t.every&&!!t.every&&\"number\"==typeof n}function checkCustomCondition(e){return\"function\"==typeof e.customConditionFn}var shouldAddSlotConditions=[{name:\"every\",check:checkEvery,fn:function(e){return(e.index+1)%e.injectionBlock.every==0}},{name:\"custom condition\",check:checkCustomCondition,fn:function(e){return(0,e.customConditionFn)(e.domNode,e.meta)}}];function shouldAddSlot(e){for(var t=0;t<shouldAddSlotConditions.length;t++){var n=\"shouldAddSlot.\"+shouldAddSlotConditions[t].name;if(shouldAddSlotConditions[t].check(e)){var r=void 0;try{r=shouldAddSlotConditions[t].fn(e)}catch(t){debug(n+\".conditionThrew\",{ex:t,facts:e})}if(!r)return debug(n+\".conditionNotMet\",e),r;debug(n+\".conditionFalse\",e)}else debug(n+\".checkFailed\",e)}return!0}function getParentSelector(e){return\"string\"==typeof e?e:e.el}function getEvalResult(e){if(e)try{return eval2(\"(\"+e+\")\")}catch(e){error(\"seriesInjection\",e)}}function getDomNodesForInjectionBlock(e){var t=0,n=0,r=find$1(getParentSelector(e.in));if(!r)return[];for(var i=findAll(r,e.el),o=i.length,a=getEvalResult(e.when),s=[],c=0;c<o;c++){var u=i[c],l=setMeta(o,c,i);t+=l.characterCount,n+=l.wordCount,l.accumulatedCharacterCount=t,l.accumulatedWordCount=n,shouldAddSlot({index:c,domNode:u,meta:l,customConditionFn:a,injectionBlock:e})&&s.push(u)}return s}function getCandidateElementsFromRenderBlock(e){return Object.keys(e).reduce(function(t,n){var r,i=e[n];return\"string\"==typeof i?r=findAll(i):isValidComplexInjection(i)?r=getDomNodesForInjectionBlock(i):(r=[],error(\"invalid\",i)),n=normalizeMethod(n),(r=r.filter(function(e){return!alreadyExists(e,n)}))&&r.length&&(t[n]=r),t},{})}var PromiseLock=function(){var e;return function(t){return function(){for(var n=arguments.length,r=new Array(n),i=0;i<n;i++)r[i]=arguments[i];if(e){var o=e.then(function(){return t.apply(void 0,r)});return e=o.then(function(){}),o}return e=t.apply(void 0,r)}}};function createContainerEl(e,t,n){var r=createElement(\"div\",{id:e+\"_\"+t});return addClasses(r,[\"cns-ads-container\"]),setStyle(r,{margin:\"0px auto\",boxSizing:\"content-box\"}),setElementData(r,{\"ad-seq\":t}),n&&setElementData(r,n),r}function createAdDivs(e,t,n,r){var i=\"cns-ads-slot-type-\",o=e.replace(new RegExp(\"_\",\"g\"),\"-\").toLowerCase(),a=createElement(\"div\",{id:\"\"+i+o+\"-\"+t});return addClasses(a,[\"cns-ads-stage\",i+o,i+o+\"-\"+t]),setElementData(a,{name:e+\"_\"+t,\"slot-type\":e}),r||setStyle(a,{fontSize:0,lineHeight:0,overflow:\"hidden\"}),\"_out_of_page\"===e&&addClasses(a,[\"cns-ads-slot-type-out-of-page\"]),a.appendChild(createContainerEl(e,t,n)),a}function InjectRefreshDisplayInjectionStrategy(e,t,n,r){window.googletag=window.googletag||{};var i=window.googletag,o={after:function(e,t){return e.parentNode.insertBefore(t,e.nextSibling)},prepend:function(e,t){return e.insertBefore(t,e.children[0])},append:function(e,t){return e.appendChild(t)},before:function(e,t){return e.parentNode.insertBefore(t,e)}};this.insertSlot=function(a,s,c,u,l){fastdom.mutate(function(){var f=createAdDivs(s.slotName,s.slotCount,s.getCustomData(),r);!function(e,t,n){o[t]?o[t](e,n):e[t](n)}(c,u,f),l(f,s,function(){!function(r,o){var a=t.getSingleInstance().getPageDefinition();e([\"refresh\"],{slotDefinition:o,slot:r,pageDefinition:a},function(e){e?(applyTargeting(r,e),n.reset(o),i.pubads().refresh([r],{changeCorrelator:!1}),debug(\"refreshing.\"+r.getSlotElementId())):error(\"slot targeting is missing\",a,o)})}(a,s)})})}}var allowedIntersectionOptions=[\"threshold\",\"rootMargin\"],defaultIntersectionObserverOptions={threshold:0,rootMargin:\"0px 0px\"},_ref=new EventEmitter(\"VisibilityObserver\"),debug$1=_ref.debug,error$1=_ref.error;function isIntersecting(e){return any(e,function(e){return e.isIntersecting})}function hasHigherIntersectionRatio(e,t){return void 0===e||any(t,function(t){return t.intersectionRatio>=(e||0)})}function getIntersectionObserverOptions(e){return Object.assign({},defaultIntersectionObserverOptions,pick(e,allowedIntersectionOptions))}function observeEvents(e,t,n,r){fastdom.measure(function(){try{var i=new IntersectionObserver(function(r){hasHigherIntersectionRatio(t.intersectionRatio,r)&&isIntersecting(r)?(debug$1(\"visible\",{el:e,entries:r}),n(!0,i)):(debug$1(\"notVisible\",{el:e,entries:r}),n(!1,i))},getIntersectionObserverOptions(t));i.observe(e)}catch(e){r(e)}})}function onIntersection(e,t,n){observeEvents(e,t,function(e){return n(e)},function(e){return error$1(\"onIntersection\",e)})}function onceVisible(e,t){return new Promise(function(n,r){observeEvents(e,t,function(e,t){e&&(n(),t.disconnect())},r)})}function reactRule(e,t){return!e||t}function targetingRule(e,t,n){var r=Object.keys(n),i=Object.keys(t);return all(e,function(e){return find(r,function(t){return t===e})||find(i,function(t){return t===e})})}function canRequest(e){var t=e.slotTypeDefinition,n=e.pageTargeting,r=e.slotTargeting,i=e.reactReady,o=!!r,a=targetingRule(t.requiredTargeting,r,n),s=reactRule(t.shouldWaitForReact,i),c=o&&a&&s;return debug(\"canRequest.\"+t.slotName+\".\"+c,{slotTypeDefinition:t,pageTargeting:n,slotTargeting:r,reactReady:i}),c}function UnassumingInsert(e,t,n,r){window.googletag=window.googletag||{};var i=window.googletag,o=t.withTargeting,a=r.getSingleInstance().getPageDefinition().isVerso,s=new InjectRefreshDisplayInjectionStrategy(o,r,n,a),c=!1;var u=(new PromiseLock)(function(e){var t=e.getSingleInstance().getPageDefinition();return o([\"service\"],{pageDefinition:t},function(n){if(n)return applyTargeting(i.pubads(),n),Promise.all(t.slotNames.map(function(r){var a,u,l,f,d=e.getSingleInstance().getSlotTypeDefinition(r);return u=function(e,r){return o([\"slot\"],{pageTargeting:n,slotTypeDefinition:d,reactReady:c,el:e},function(o){if(o)if(canRequest({slotTypeDefinition:d,pageTargeting:n,slotTargeting:o,reactReady:c})){var a,u=d.getSlotDefinition(),l=(a=u).isOutOfPage?i.defineOutOfPageSlot(a.getAdUnitPath(),a.id):i.defineSlot(a.getAdUnitPath(),a.getSizesArray(),a.id).defineSizeMapping(getSizeMapping(a));l?(l.addService(window.googletag.pubads()),applyTargeting(l,o),s.insertSlot(l,u,e,r,function(e,t){return function(n,r,o){var a=function(e){if(e.shouldWaitUntilVisibleBeforeDisplay())return onceVisible}(r),s=function(){var e=r.id;debug(\"insert.display\",e),i.display(e),o()},c=e.requestViewportRange,u=t.overrideRequestViewportRange;if(a)return a(n,{rootMargin:(void 0!==u?u:c)+\"px 0px\"}).then(s);s()}}(t,d))):error(\"the slot cannot be defined\",u,l)}else debug(d.slotName+\".notRequestable\",d,c,n,o);else error(\"slot type targeting is missing\",t,d)})},f=(a=d).getRenderBlock(),l=getCandidateElementsFromRenderBlock(f),Promise.all(Object.keys(l).map(function(e){return debug(\"candidatesByMethod.\"+a.slotName,{method:e,els:l[e],definition:a}),Promise.all(l[e].map(function(t){return u(t,e)}))}))}));error(\"page targeting is missing\",t)}).catch(handlePromiseError(\"insert error\")).then(function(){return new Promise(function(e){return fastdom.mutate(function(){return setTimeout(e,1e3)})})}).catch(handlePromiseError(\"impossible mutate error\"))});function l(t){i.pubadsReady?t():e.on(\"ads.pubadsReady\",t)}function f(t){e.history(\"react.ready\").length?t():e.on(\"react.ready\",t)}f(function(){c=!0}),this.insert=function(e){l(function(){u(e)})},this.insertForReact=function(t){l(function(){f(function(){var n;u(t),n=debounce(function(){return u(t)},500),e.on(\"react.ready\",n),e.on(\"#.componentDidMount.#\",n),e.on(\"#.componentDidUpdate.#\",n)})})}}var _stringContext=function(e,t,n){if(_isRegexp(t))throw TypeError(\"String#\"+n+\" doesn't accept regex!\");return String(_defined(e))},MATCH$1=_wks(\"match\"),_failsIsRegexp=function(e){var t=/./;try{\"/./\"[e](t)}catch(n){try{return t[MATCH$1]=!1,!\"/./\"[e](t)}catch(e){}}return!0},INCLUDES=\"includes\";_export(_export.P+_export.F*_failsIsRegexp(INCLUDES),\"String\",{includes:function(e){return!!~_stringContext(this,e,INCLUDES).indexOf(e,arguments.length>1?arguments[1]:void 0)}});var always=function(){return!0};function LifecycleRegistrar(e){var t={};function n(e){return e&&\"object\"==typeof e&&\"function\"==typeof e.then}function r(e){var t={};e.unshift({});for(var n=0;n<e.length;n++){var r=e[n];if(!r)return!1;Object.assign(t,r)}return t}e.forEach(function(e){t[e]=[]}),this.register=function(n,r,i){if(i||(i=r,r=always),!e.includes(n))throw new Error(n+\" not registered in LifeCycle\");t[n].push({when:r,fn:i})},this.apply=function(e){for(var i=arguments.length,o=new Array(i>1?i-1:0),a=1;a<i;a++)o[a-1]=arguments[a];var s=[];e.forEach(function(e){t[e].forEach(function(e){var t=e.when,n=e.fn;t.apply(void 0,o)&&s.push(n)})});var c=s.map(function(e){return e.apply(void 0,o)});return any(c,n)?Promise.all(c).then(r):r(c)}}function clearTargetingByPrefix(e,t){e.forEach(function(e){e.getTargetingKeys().forEach(function(n){return 0===n.indexOf(t)&&e.clearTargeting(n)})})}function intersect(e,t){return void 0===e&&(e=[]),void 0===t&&(t=[]),e.filter(function(e){return t.indexOf(e)>-1})}function getSizesFromSlot(e){return e.getSizes(window.innerWidth,window.innerHeight).map(function(e){return e.getWidth()+\"x\"+e.getHeight()})}function getValidSizesFromSlot(e,t){return intersect(getSizesFromSlot(e),t)}function hasValidSize(e,t){return e.getSizes&&getValidSizesFromSlot(e,t).length>0}function createTimeOut(e,t,n){return n=n||\"timed out\",new Promise(function(r,i){var o,a=!1,s=function(e){return function(t){a||(a=!0,e(t))}},c=s(r),u=s(i);return setTimeout(function(){a||(o&&o(),u(new Error(n)))},t),e(c,u,function(e){return o=e})})}var marketName=\"amazon_match_buy\",timeoutLength=1e3,validSizes=[\"300x250\",\"300x600\",\"320x50\",\"300x50\",\"728x90\",\"970x250\"],apstagConfig={pubID:\"3035\",adServer:\"googletag\",bidTimeout:1e3,deals:!0,params:{}};function AmazonMatchBuy(){var e=new EventEmitter(marketName),t=e.debug,n=e.warn;function r(e){return{slotID:e.getSlotElementId(),sizes:getValidSizesFromSlot(e,validSizes).map(function(e){return getSizeStringAsArray(e)})}}function i(e,t){window.apstag._Q.push([e,t])}window.apstag=window.apstag||{init:function(){i(\"i\",arguments)},fetchBids:function(){i(\"f\",arguments)},_Q:[]},apstagConfig.params.si_section=getPageContext(window).channel||\"\",window.apstag.init(apstagConfig),this.startAuction=function(e){return t(\"startAuction\",e.map(function(e){return e.getSlotElementId()})),createTimeOut(function(i,o,a){var s=!1;a(function(){s=!0,t(\"timeout\",e.map(function(e){return e.getSlotElementId()})),i(e.map(function(){return{}}))}),window.apstag.fetchBids({slots:e.map(r),bidTimeout:timeoutLength},function(r){try{s||(t(\"complete\",r),window.apstag.setDisplayBids(),i(e.map(function(){return{}})))}catch(e){n(\"cannotHandleBidsBack\",e),o(e)}})},timeoutLength)},this.isSlotEligible=function(e){return hasValidSize(e,validSizes)}}var timeoutLength$1=1e3,marketName$1=\"index_exchange\",targetingPrefix=\"vnd_indx_\",validSizes$1=[\"300x50\",\"300x250\",\"300x600\",\"300x1050\",\"320x50\",\"728x90\",\"970x90\",\"970x250\"];function IndexExchange(){var e=new EventEmitter(marketName$1).debug;function t(e){var t=getValidSizesFromSlot(e,validSizes$1),n=e.getSlotElementId();return{addTargeting:function(){},getMeta:function(){return{id:n,sizes:t}}}}function n(n){return createTimeOut(function(r,i,o){var a=!1;o(function(){e(\"timeout.\"+n.getSlotElementId(),n),a=!0,r({})}),window.headertag.condeFetchDemand(t(n),function(i,o){if(!a){var s=Object.keys(o).reduce(function(e,t){return e[targetingPrefix+t]=o[t],n.setTargeting(targetingPrefix+t,o[t]),e},{});e(\"complete.\"+n.getSlotElementId(),{bids:o,meta:t(n).getMeta(),targeting:s}),r({})}})},timeoutLength$1)}function r(e){return hasValidSize(e,validSizes$1)}window.headertag=window.headertag||{},window.headertag.cmd=window.headertag.cmd||[],window.headertag.cmd.push(setTimeout(function(){},0)),this.startAuction=function(t){return e(\"startAuction\",t.map(function(e){return e.getSlotElementId()})),new Promise(function(e){return til(function(){return window.headertag.condeFetchDemand},function(){return e()})}).then(function(){clearTargetingByPrefix(t,targetingPrefix);var e=t.filter(r);return Promise.all(e.map(n))})},this.isSlotEligible=r}function collectPromises(e,t){var n=cumulativeArgumentDebounce(function(t){var n=[],r=[],i=[],o=function(e){return i.forEach(function(t){return t(e)})};t.forEach(function(e){r.push(e[0]),i.push(e[1]),n.push(e[2])}),e(n).then(function(e){return e?e.length!==n.length?o(new Error(\"collectPromises: Number of results must equal number of original items\")):e.forEach(function(e,t){return r[t](e)}):r.forEach(function(e){return e()})}).catch(o)},t=t||0);return function(e){return new Promise(function(t,r){return n(function(e){t(e)},r,e)})}}function areAuctionsEnabled(){return!featureFlags.ads_disable_auctions}function isAuctionEnabled(e,t){return!!(e&&e.plugins||{})[t]}function createSlotAuctionEligible(e){return function(t){var n=t.slotDefinition,r=t.slot;return!get(window,\"cns.flags.shouldNotAuction\")&&!n.isOutOfPage&&!n.isCM&&e.isSlotEligible(r)}}function createStartAuction(e){return collectPromises(function(t){return e.startAuction(t.map(function(e){return e.slot}))})}var auctioneer={areAuctionsEnabled:areAuctionsEnabled,isAuctionEnabled:isAuctionEnabled,createSlotAuctionEligible:createSlotAuctionEligible,createStartAuction:createStartAuction},cookieCacheName=\"cn_4dsgcache\",userData;function gatherNamesAndScores(e,t){var n=(get(window,e)||[]).map(function(e){return e[t]});return n.length&&n||\"\"}function get4Dsg(e){var t=[],n=\"0\";if(e){t=e;var r=new Date;r.setTime(r.getTime()+6048e5),document.cookie=cookieCacheName+\"=\"+t.join(\":\")+\"; expires=\"+r.toGMTString()+\"; path=/\"}else{var i=getCookie(cookieCacheName);i&&(t=i.split(\":\"),n=\"1\")}return{sgData:t,isCached:n}}function get4DTargeting(){var e=window,t=\"_4d.context.keywords.list\",n=\"_4d.context.entities\",r=\"SparrowCache.event\",i=get4Dsg(get(e,\"_4d.user.sg\"));return{vnd_4d_sg:i.sgData,vnd_4d_cached:i.isCached,vnd_4d_ctx_topics:gatherNamesAndScores(n,\"name\"),vnd_4d_ctx_topic_sc:gatherNamesAndScores(n,\"score\"),vnd_4d_ctx_entities:gatherNamesAndScores(n,\"name\"),vnd_4d_ctx_ent_sc:gatherNamesAndScores(n,\"score\"),vnd_4d_ctx_keywords:gatherNamesAndScores(t,\"keyword\"),vnd_4d_ctx_kw_sc:gatherNamesAndScores(t,\"score\"),vnd_4d_sid:get(e,r+\".sID\")||getCookie(\"sID\"),vnd_4d_pid:get(e,r+\".pID\")||getCookie(\"pID\"),vnd_4d_usr_topics:gatherNamesAndScores(\"_4d.user.topics\",\"name\"),vnd_4d_xid:getCookie(\"CN_xid\")}}function getUserSegments(){var e=getCookie(\"CN_segments\");return{usr_segments:e?e.split(\"|\"):[]}}function getReferrer(e){var t=null,n=null,r=sessionStorage.getItem(\"ctx_ses_soc\"),i={fb:\"facebook.com\",tw:\"t.co\",rd:\"reddit.com\",pn:\"pinterest.com\",ig:\"instagram.com\",glp:\"plus.url.google.com\",tbl:\"t.umblr.com\",qq:\"qzone.qq.com\",we:\"weibo.com\",hb:\"habbo.com\",vk:\"vk.com\",rr:\"renren.com\",or:\"orkut.google.com\",sn:\"snapchat.com\"};return Object.keys(i).forEach(function(o){var a=i[o];null!==e.match(a)&&(t=a,n=o,r=r||sessionStorage.setItem(\"ctx_ses_soc\",o))}),{ctx_ses_soc:r,ctx_ref_soc:n,ctx_ref_url:t}}function isStorageEnabled(){try{return window.localStorage.setItem(\"testKey\",\"1\"),window.localStorage.removeItem(\"testKey\"),!0}catch(e){return!1}}function checkDate(e,t){return t>e}function trimDate(e,t){return e?e.toString().split(\",\").filter(function(e){var n=parseInt(e,10);return checkDate(t,n)}):[]}function timeTravel(e,t){var n=new Date(e).getDate()-t;return new Date(e).setDate(n)}function getSessionData(){var e=(new Date).getTime(),t=timeTravel(e,1),n=timeTravel(e,30),r=parseInt(sessionStorage.getItem(\"session-visits\"),10)||0;sessionStorage.setItem(\"session-visits\",(r+1).toString());var i=sessionStorage.getItem(\"session-visits\"),o=localStorage.getItem(\"session-visit-dates\"),a=localStorage.getItem(\"total-visits\");r||(o=o?o+\",\"+e:e);var s=a?a+\",\"+e:e,c=trimDate(s,t),u=trimDate(s,n),l=trimDate(o,n);return localStorage.setItem(\"total-visits\",u.join(\",\")),localStorage.setItem(\"session-visit-dates\",l.join(\",\")),{usr_pvc_bs:i,usr_pvc_24hr:c.length,usr_pvc_30d:u.length,usr_svc_30d:l.length}}function getUserBuckets(){var e=localStorage.getItem(\"usr_bkt_eva\"),t=sessionStorage.getItem(\"usr_bkt_ses\");return e||(e=Math.floor(100*Math.random())+1,localStorage.setItem(\"usr_bkt_eva\",e)),t||(t=Math.floor(100*Math.random())+1,sessionStorage.setItem(\"usr_bkt_ses\",t)),{usr_bkt_eva:e,usr_bkt_ses:t,usr_bkt_pv:Math.floor(100*Math.random())+1}}function getMediaBuy(){return{mbid:(parse(document.location.search)||{}).mbid}}function getUserAuth(){return{usr_auth:(!!getCookie(\"pay_ent_sub\")||!!getCookie(\"ee_status\")).toString()}}function resetUserData(){userData=!1}function getUserGid(){var e,t=getCookie(\"_ga\");return new RegExp(/^GA1.2./).test(t)&&(e=t.split(\"GA1.2.\")[1]),{usr_gid:e}}function getUserDataPageTargeting(){if(!isStorageEnabled())return{};if(userData)return userData;var e=document.referrer;return userData=Object.assign({},getUserBuckets(),getSessionData(),getReferrer(e),getMediaBuy(),getUserAuth(),getUserGid())}function AdobeAudienceManager(){function e(e,t){var n=t[0],r=t[1],i=\"vnd_aam_\"+n.toLowerCase(),o=e[i]||[];return o.push(r),e[i]=o,e}this.getTargeting=function(){var t=getCookie(\"aamconde\"),n=getCookie(\"aam_uuid\"),r=t&&function(t){return decodeURIComponent(t).split(\";\").map(function(e){return e.split(\"=\")}).reduce(e,{})}(t),i=n&&{vnd_aam_uuid:[decodeURIComponent(n)]};return Object.assign({},i,r)}}function Proximic(){this.getTargeting=function(){var e=get(window,\"CN.ad.proximic.pxData.data\");return e?{vnd_prx_segments:e}:{}}}function append(e){return new Promise(function(t,n){var r=document.createElement(\"script\");[\"src\",\"targ\"].forEach(function(t){return!e[t]&&n(new Error(\"Missing required parameter: \"+t))}),[\"src\",\"targ\",\"async\",\"defer\"].forEach(function(t){r[t]=e[t]}),r.onload=function(){t()},r.onerror=function(e){n(e)},e.targ.appendChild(r)})}function getArs(){var e,t=new EventEmitter(\"Ars\").debug;function n(){var e=get(window,\"CN.ad.arsaccelerator.kws\")||[];return e.length?(t(\"is trending\"),{vnd_ars_data:e}):(t(\"is not trending\"),{})}return e=getPageContext(window).templateType.toLowerCase().indexOf(\"article\")>-1,t(\"is \"+(e?\"\":\"not\")+\" eligible\"),e?(set(window,\"CN.ad.arsaccelerator\",{}),append({src:\"https://cdn.accelerator.arsdev.net/h/\"+encodeURIComponent(window.location.href.split(\"?\")[0]),targ:document.head,async:!0}).then(function(){return{getTargeting:n}})):Promise.resolve()}function fromCamelToSnake(e){return e.replace(/([a-z])([A-Z])/g,\"$1_$2\").toLowerCase()}function set$1(e,t,n){void 0===e[t]&&(e[t]=n)}function push(e,t,n){e[t]=e[t]||[],e[t].push(n)}function contains(e,t){return-1!==e.indexOf(t)}function startsWith(e,t){return e.slice(0,t.length)===t}function getTargeting(e,t,n,r){for(var i=r.el,o=e.length,a={},s=i;s;)1===s.nodeType&&function(){var r=s.dataset;Object.keys(r).forEach(function(i){var s=r[i];if(startsWith(i,e)&&\"string\"==typeof s){var c=fromCamelToSnake(i.slice(o)),u=contains(t,c)?s.split(\",\"):s;contains(n,c)?push(a,c,u):set$1(a,c,u)}})}(),s=s.parentNode;return a}var invalidSpecialCharacters=new RegExp(\"[\\\"',=!#~;<>\\\\]+*^()[\\\\s]\",\"g\"),consecutiveUnderscores=/_+/g,consecutiveDashes=/-+/g,leadingTrailingUnderscores=/(^_|_$)/g,leadingTrailingDashes=/(^-|-$)/g,leadingNumbers=/^[0-9]/,allowedTypes=[\"string\",\"number\"],isAllowedType=function(e){return allowedTypes.indexOf(typeof e)>=0},isValidValue=function(e){return isAllowedType(e)};function toArray(e){return Array.isArray(e)?e:[e]}function isValidKey(e){return(e=e.toString().trim()).length&&!e.match(invalidSpecialCharacters)&&e.length<=20&&!e.match(leadingNumbers)}function applyGPTLimits(e){return e.toString().toLowerCase().replace(invalidSpecialCharacters,\"_\").replace(consecutiveUnderscores,\"_\").replace(leadingTrailingUnderscores,\"\")}function push$1(e,t,n){e[t]=e[t]||[],e[t].push(n)}function sanitizeWithDashes(e){return e.toString().toLowerCase().replace(invalidSpecialCharacters,\"-\").replace(consecutiveDashes,\"-\").replace(leadingTrailingDashes,\"\")}function sanitize(e){for(var t={},n={},r=Object.keys(e),i=0;i<r.length;i++){var o=r[i];if(isValidKey(o))for(var a=toArray(e[o]),s=0;s<a.length;s++){var c=a[s];isValidValue(c)?push$1(t,o,applyGPTLimits(c)):push$1(n,o,c)}else n[o]=e[o]}return{sanitized:t,errors:n}}function getAllKeywordTargeting(e){void 0===e&&(e={});var t={};return Object.keys(e).forEach(function(n){t[\"cnt_\"+n]=e[n]}),t}function TargetingLifecycle(e,t){var n=new LifecycleRegistrar([\"service\",\"slot\",\"refresh\"]),r=new AdobeAudienceManager,i=new Proximic;function o(e){if(!1===e)return e;var t=sanitize(e),n=t.errors,r=t.sanitized;return n&&Object.keys(n).length&&debug(\"targetingSanitizationErrors\",{errors:n,sanitized:r}),r}if(getArs().then(function(e){e&&n.register(\"service\",e.getTargeting)}).catch(handlePromiseError(\"script failed to fetch\")),n.register(\"service\",function(e){var t=e.pageDefinition;return Object.assign({env_device_type:t.device,ctx_template:t.templateType,ctx_page_channel:sanitizeWithDashes(t.channel),ctx_page_sub_channel:t.subChannel,env_server:t.server,ctx_cns_version:version,ctx_page_slug:t.slug},getAllKeywordTargeting(t.keywords))}),n.register(\"service\",t.getTargeting),n.register(\"service\",getUserDataPageTargeting),n.register(\"service\",r.getTargeting),n.register(\"service\",i.getTargeting),n.register(\"service\",getUserSegments),n.register(\"service\",function(){var e={};if(queryParameters){var t=queryParameters.ao_test,n=queryParameters.service_targeting;if(t&&(e.ao_test=t.split(\",\")),n){var r=JSON.parse(n);Object.keys(r).forEach(function(t){e[t]=r[t]})}}return e}),n.register(\"service\",get4DTargeting),n.register(\"slot\",function(e){var t=e.slotTypeDefinition;return{pos:t.position,ctx_slot_type:t.slotName,ctx_slot_rn:0}}),n.register(\"slot\",getTargeting.bind(null,\"ads\",[\"cnt_tags\",\"cnt_cm\"],[])),n.register(\"refresh\",function(e){var t=e.slotDefinition;return{pos_instance:t.positionCount,ctx_slot_instance:t.slotCount,ctx_slot_name:t.id}}),auctioneer.areAuctionsEnabled()){if(auctioneer.isAuctionEnabled(e,\"amazon_match_buy\")){var a=new AmazonMatchBuy;n.register(\"refresh\",auctioneer.createSlotAuctionEligible(a),auctioneer.createStartAuction(a))}if(auctioneer.isAuctionEnabled(e,\"index_exchange\")){var s=new IndexExchange;n.register(\"refresh\",auctioneer.createSlotAuctionEligible(s),auctioneer.createStartAuction(s))}}this.register=n.register,this.withTargeting=function(e,t,r){return Promise.resolve(n.apply(e,t)).then(o).then(r)}}function UniqueTimerStore(){var e={};function t(t){var n=e[t];n&&(clearTimeout(n),e[t]=null)}this.startTimer=function(n,r,i){t(n),e[n]=setTimeout(function(){t(n),r()},i)},this.endTimer=t}function KeyCounter(){var e={};this.increment=function(t){e[t]||(e[t]=0),e[t]+=1},this.remove=function(t){e[t]&&delete e[t]},this.getCount=function(t){return e[t]||0}}function RefreshControl(e,t){var n=t.withTargeting,r=new EventEmitter(\"RefreshControl\").debug,i=new KeyCounter,o=new KeyCounter,a=new Set,s=new Set,c=new Set,u=new UniqueTimerStore,l=3e4,f=[[\"aged\",function(e){return a.has(e)}],[\"impressions\",function(e){return o.getCount(e)}],[\"visible\",function(e){return c.has(e)}]],d=function(e){return!Number.isNaN(parseFloat(e))},g=function(e){return e+\".refresh_\"+i.getCount(e)},p=function(t){return e.getSingleInstance().getSlotDefinitionFromGPTSlot(t)},h=function(){return e.getSingleInstance().getPageDefinition()},m=cumulativeArgumentDebounce(function(e){var t=uniq(e.map(function(e){return e[0]}));window.cns.flags.shouldNotRefresh?r(\"window.cns.flags.shouldNotRefresh\"):(r(\"refreshing.\"+t.map(function(e){return g(e)}).join(\",\")),t.forEach(function(e){return y(p(getSlotById(e)))}),window.googletag.pubads().refresh(t.map(getSlotById),{changeCorrelator:!1}))},100);function v(e){r(\"onChange.\"+e+\".(\"+f.map(function(t){return t[0]+\":\"+t[1](e)}).join(\",\")+\")\"),all(f,function(t){return t[1](e)})&&function(e){var t=h(),o=getSlotById(e),a=p(o);return r(\"setTargeting.\"+g(e)),o.setTargeting(\"ctx_slot_rn\",i.getCount(e)),n([\"refresh\"],{pageDefinition:t,slotDefinition:a,slot:o},function(e){Object.keys(e).forEach(function(t){return o.setTargeting(t,e[t])})})}(e).then(function(){m(e)})}function _(e,t){var n;n=t,n=parseInt(n,10),t=d(n)&&n>l?n:l,u.startTimer(e,function(){a.add(e),v(e)},t),r(\"willRefreshIn.\"+e+\".\"+t)}function y(e){var t=e.id;o.remove(t),a.delete(t),_(t,e.refresh)}function b(e){return!e.isCM&&!e.isOutOfPage&&!window.cns.flags.shouldNotRefresh&&!1!==e.refresh}this.reset=function(e){b(e)?y(e):r(\"slotNotRefreshable.\"+e.id)},this.onSlotRenderEnded=function(e){var t=e.slot;i.increment(p(t).id)},this.onImpressionViewable=function(e){var t=e.slot.getSlotElementId();o.increment(t),r(t+\".impressionIncremented\"),v(t),b(p(e.slot))&&function(e){if(!s.has(e)){var t=getElementById(e);s.add(e),onIntersection(t,{},function(t){t?(c.add(e),v(e)):c.delete(e)})}}(t)},this.disableRefresh=function(e){u.endTimer(e)},this.delayRefresh=_}function ShareOfVoice(){var e=[],t=[],n=[];function r(e,t){t&&-1===e.indexOf(t)&&e.push(t)}this.getTargeting=function(){return{ctx_advertisers:e,ctx_line_items:t,ctx_creatives:n}},this.onSlotRenderEnded=function(i){var o=i.advertiserId,a=i.lineItemId,s=i.creativeId;r(e,o),r(t,a),r(n,s)}}function setSheet(){var e=document.createElement(\"style\");return e.id=\"cns_version\",e.appendChild(document.createTextNode(\"\")),document.head.appendChild(e),e.sheet}function addCSSRule(e,t,n){return e.insertRule&&e.insertRule(t+\"{\"+n+\"}\",0)||e.addRule&&e.addRule(t,n,0)}function renderVersion(){var e='content: \"ADS V:'+version+'\";color:#fff;background-color:#f00;position:fixed;top:0;right:0;padding:4px 8px;z-index:2147483647;';addCSSRule(setSheet(),\"body::after\",e)}function cnsMetricsApi(){return function(e){e({emit:pixel})}}function CNSAdsAPI(e,t,n,r){function i(e){var t=e.device,n=void 0===t?\"desktop\":t,r=e.server,i=void 0===r?\"staging\":r;return new Promise(function(e,t){i&&n||t(),e()})}function o(){return!0===get(window,\"cns.pageContext.adBlock\")}function a(e,n){var r=e.frameElement.parentElement.parentElement.id;\"number\"==typeof n&&n>0?t.delayRefresh(r,n):t.disableRefresh(r)}function s(e){var t=window.cns.pageContext,i=new CompleteDefiner(Object.assign({},t,e),null,getViewportTemplate());n.reset(function(){return i}),r.insert(n)}function c(){resetUserData(),window.googletag.cmd.push(function(){window.googletag.pubads().clear(),window.googletag.destroySlots()}),fastdom.mutate(function(){for(var e=document.querySelectorAll(\".cns-ads-stage\"),t=0;t<e.length;t++)e[t].remove()})}function u(e){console.warn(\"AddSlot is deprecated. To render this slot \"+e+\" add it to the config's set using pageContext: \"+window.cns.pageContext),r.insert(n)}this.executeCallback=function(e){e({environment:i,setRefreshFor:a,adBlock:{installed:deprecated(function(){},\"adblock.installed\"),blocked:deprecated(o,\"adblock.blocked\")},pages:{create:s,destroy:c,get:function(){return{slots:{add:deprecated(u,\"slots.add\"),get:deprecated(function(){},\"slots.get\"),refresh:deprecated(function(){},\"slots.refresh\"),destroy:deprecated(function(){},\"slots.destroy\")}}}}})}}function CNSShim(e,t,n,r){var i,o=new CNSAdsAPI(e,t,n,r);i={ads:o.executeCallback,metrics:cnsMetricsApi()},window.cns.async=function(e,t){i[e](t)},window.cns.queue.forEach(function(e){var t=e.service,n=e.callback;window.cns.async(t,n)}),delete window.cns.queue}function getConfig$1(e){return e.cns&&e.cns.config}function SourceOfTruth(e){var t;this.getSingleInstance=function(){return t||(t=e()),t},this.reset=function(n){t=n?n():e()}}_export(_export.S,\"Number\",{isNaN:function(e){return e!=e}});for(var TYPED=_uid(\"typed_array\"),VIEW=_uid(\"view\"),ABV=!(!_global.ArrayBuffer||!_global.DataView),CONSTR=ABV,i$1=0,l=9,Typed,TypedArrayConstructors=\"Int8Array,Uint8Array,Uint8ClampedArray,Int16Array,Uint16Array,Int32Array,Uint32Array,Float32Array,Float64Array\".split(\",\");i$1<l;)(Typed=_global[TypedArrayConstructors[i$1++]])?(_hide(Typed.prototype,TYPED,!0),_hide(Typed.prototype,VIEW,!0)):CONSTR=!1;var _typed={ABV:ABV,CONSTR:CONSTR,TYPED:TYPED,VIEW:VIEW},_toIndex=function(e){if(void 0===e)return 0;var t=_toInteger(e),n=_toLength(t);if(t!==n)throw RangeError(\"Wrong length!\");return n},hiddenKeys=_enumBugKeys.concat(\"length\",\"prototype\"),f$5=Object.getOwnPropertyNames||function(e){return _objectKeysInternal(e,hiddenKeys)},_objectGopn={f:f$5},_arrayFill=function(e){for(var t=_toObject(this),n=_toLength(t.length),r=arguments.length,i=_toAbsoluteIndex(r>1?arguments[1]:void 0,n),o=r>2?arguments[2]:void 0,a=void 0===o?n:_toAbsoluteIndex(o,n);a>i;)t[i++]=e;return t},_typedBuffer=createCommonjsModule(function(e,t){var n=_objectGopn.f,r=_objectDp.f,i=\"prototype\",o=\"Wrong index!\",a=_global.ArrayBuffer,s=_global.DataView,c=_global.Math,u=_global.RangeError,l=_global.Infinity,f=a,d=c.abs,g=c.pow,p=c.floor,h=c.log,m=c.LN2,v=_descriptors?\"_b\":\"buffer\",_=_descriptors?\"_l\":\"byteLength\",y=_descriptors?\"_o\":\"byteOffset\";function b(e,t,n){var r,i,o,a=new Array(n),s=8*n-t-1,c=(1<<s)-1,u=c>>1,f=23===t?g(2,-24)-g(2,-77):0,v=0,_=e<0||0===e&&1/e<0?1:0;for((e=d(e))!=e||e===l?(i=e!=e?1:0,r=c):(r=p(h(e)/m),e*(o=g(2,-r))<1&&(r--,o*=2),(e+=r+u>=1?f/o:f*g(2,1-u))*o>=2&&(r++,o/=2),r+u>=c?(i=0,r=c):r+u>=1?(i=(e*o-1)*g(2,t),r+=u):(i=e*g(2,u-1)*g(2,t),r=0));t>=8;a[v++]=255&i,i/=256,t-=8);for(r=r<<t|i,s+=t;s>0;a[v++]=255&r,r/=256,s-=8);return a[--v]|=128*_,a}function w(e,t,n){var r,i=8*n-t-1,o=(1<<i)-1,a=o>>1,s=i-7,c=n-1,u=e[c--],f=127&u;for(u>>=7;s>0;f=256*f+e[c],c--,s-=8);for(r=f&(1<<-s)-1,f>>=-s,s+=t;s>0;r=256*r+e[c],c--,s-=8);if(0===f)f=1-a;else{if(f===o)return r?NaN:u?-l:l;r+=g(2,t),f-=a}return(u?-1:1)*r*g(2,f-t)}function S(e){return e[3]<<24|e[2]<<16|e[1]<<8|e[0]}function T(e){return[255&e]}function E(e){return[255&e,e>>8&255]}function I(e){return[255&e,e>>8&255,e>>16&255,e>>24&255]}function P(e){return b(e,52,8)}function x(e){return b(e,23,4)}function A(e,t,n){r(e[i],t,{get:function(){return this[n]}})}function O(e,t,n,r){var i=_toIndex(+n);if(i+t>e[_])throw u(o);var a=e[v]._b,s=i+e[y],c=a.slice(s,s+t);return r?c:c.reverse()}function C(e,t,n,r,i,a){var s=_toIndex(+n);if(s+t>e[_])throw u(o);for(var c=e[v]._b,l=s+e[y],f=r(+i),d=0;d<t;d++)c[l+d]=f[a?d:t-d-1]}if(_typed.ABV){if(!_fails(function(){a(1)})||!_fails(function(){new a(-1)})||_fails(function(){return new a,new a(1.5),new a(NaN),\"ArrayBuffer\"!=a.name})){for(var R,k=(a=function(e){return _anInstance(this,a),new f(_toIndex(e))})[i]=f[i],j=n(f),M=0;j.length>M;)(R=j[M++])in a||_hide(a,R,f[R]);_library||(k.constructor=a)}var D=new s(new a(2)),F=s[i].setInt8;D.setInt8(0,2147483648),D.setInt8(1,2147483649),!D.getInt8(0)&&D.getInt8(1)||_redefineAll(s[i],{setInt8:function(e,t){F.call(this,e,t<<24>>24)},setUint8:function(e,t){F.call(this,e,t<<24>>24)}},!0)}else a=function(e){_anInstance(this,a,\"ArrayBuffer\");var t=_toIndex(e);this._b=_arrayFill.call(new Array(t),0),this[_]=t},s=function(e,t,n){_anInstance(this,s,\"DataView\"),_anInstance(e,a,\"DataView\");var r=e[_],i=_toInteger(t);if(i<0||i>r)throw u(\"Wrong offset!\");if(i+(n=void 0===n?r-i:_toLength(n))>r)throw u(\"Wrong length!\");this[v]=e,this[y]=i,this[_]=n},_descriptors&&(A(a,\"byteLength\",\"_l\"),A(s,\"buffer\",\"_b\"),A(s,\"byteLength\",\"_l\"),A(s,\"byteOffset\",\"_o\")),_redefineAll(s[i],{getInt8:function(e){return O(this,1,e)[0]<<24>>24},getUint8:function(e){return O(this,1,e)[0]},getInt16:function(e){var t=O(this,2,e,arguments[1]);return(t[1]<<8|t[0])<<16>>16},getUint16:function(e){var t=O(this,2,e,arguments[1]);return t[1]<<8|t[0]},getInt32:function(e){return S(O(this,4,e,arguments[1]))},getUint32:function(e){return S(O(this,4,e,arguments[1]))>>>0},getFloat32:function(e){return w(O(this,4,e,arguments[1]),23,4)},getFloat64:function(e){return w(O(this,8,e,arguments[1]),52,8)},setInt8:function(e,t){C(this,1,e,T,t)},setUint8:function(e,t){C(this,1,e,T,t)},setInt16:function(e,t){C(this,2,e,E,t,arguments[2])},setUint16:function(e,t){C(this,2,e,E,t,arguments[2])},setInt32:function(e,t){C(this,4,e,I,t,arguments[2])},setUint32:function(e,t){C(this,4,e,I,t,arguments[2])},setFloat32:function(e,t){C(this,4,e,x,t,arguments[2])},setFloat64:function(e,t){C(this,8,e,P,t,arguments[2])}});_setToStringTag(a,\"ArrayBuffer\"),_setToStringTag(s,\"DataView\"),_hide(s[i],_typed.VIEW,!0),t.ArrayBuffer=a,t.DataView=s}),_isArray=Array.isArray||function(e){return\"Array\"==_cof(e)},SPECIES$2=_wks(\"species\"),_arraySpeciesConstructor=function(e){var t;return _isArray(e)&&(\"function\"!=typeof(t=e.constructor)||t!==Array&&!_isArray(t.prototype)||(t=void 0),_isObject(t)&&null===(t=t[SPECIES$2])&&(t=void 0)),void 0===t?Array:t},_arraySpeciesCreate=function(e,t){return new(_arraySpeciesConstructor(e))(t)},_arrayMethods=function(e,t){var n=1==e,r=2==e,i=3==e,o=4==e,a=6==e,s=5==e||a,c=t||_arraySpeciesCreate;return function(t,u,l){for(var f,d,g=_toObject(t),p=_iobject(g),h=_ctx(u,l,3),m=_toLength(p.length),v=0,_=n?c(t,m):r?c(t,0):void 0;m>v;v++)if((s||v in p)&&(d=h(f=p[v],v,g),e))if(n)_[v]=d;else if(d)switch(e){case 3:return!0;case 5:return f;case 6:return v;case 2:_.push(f)}else if(o)return!1;return a?-1:i||o?o:_}},_arrayCopyWithin=[].copyWithin||function(e,t){var n=_toObject(this),r=_toLength(n.length),i=_toAbsoluteIndex(e,r),o=_toAbsoluteIndex(t,r),a=arguments.length>2?arguments[2]:void 0,s=Math.min((void 0===a?r:_toAbsoluteIndex(a,r))-o,r-i),c=1;for(o<i&&i<o+s&&(c=-1,o+=s-1,i+=s-1);s-- >0;)o in n?n[i]=n[o]:delete n[i],i+=c,o+=c;return n},_typedArray=createCommonjsModule(function(e){if(_descriptors){var t=_library,n=_global,r=_fails,i=_export,o=_typed,a=_typedBuffer,s=_ctx,c=_anInstance,u=_propertyDesc,l=_hide,f=_redefineAll,d=_toInteger,g=_toLength,p=_toIndex,h=_toAbsoluteIndex,m=_toPrimitive,v=_has,_=_classof,y=_isObject,b=_toObject,w=_isArrayIter,S=_objectCreate,T=_objectGpo,E=_objectGopn.f,I=core_getIteratorMethod,P=_uid,x=_wks,A=_arrayMethods,O=_arrayIncludes,C=_speciesConstructor,R=es6_array_iterator,k=_iterators,j=_iterDetect,M=_setSpecies,D=_arrayFill,F=_arrayCopyWithin,N=_objectDp,$=_objectGopd,V=N.f,L=$.f,z=n.RangeError,U=n.TypeError,B=n.Uint8Array,q=Array.prototype,G=a.ArrayBuffer,W=a.DataView,K=A(0),H=A(2),Y=A(3),J=A(4),Z=A(5),Q=A(6),X=O(!0),ee=O(!1),te=R.values,ne=R.keys,re=R.entries,ie=q.lastIndexOf,oe=q.reduce,ae=q.reduceRight,se=q.join,ce=q.sort,ue=q.slice,le=q.toString,fe=q.toLocaleString,de=x(\"iterator\"),ge=x(\"toStringTag\"),pe=P(\"typed_constructor\"),he=P(\"def_constructor\"),me=o.CONSTR,ve=o.TYPED,_e=o.VIEW,ye=A(1,function(e,t){return Ee(C(e,e[he]),t)}),be=r(function(){return 1===new B(new Uint16Array([1]).buffer)[0]}),we=!!B&&!!B.prototype.set&&r(function(){new B(1).set({})}),Se=function(e,t){var n=d(e);if(n<0||n%t)throw z(\"Wrong offset!\");return n},Te=function(e){if(y(e)&&ve in e)return e;throw U(e+\" is not a typed array!\")},Ee=function(e,t){if(!(y(e)&&pe in e))throw U(\"It is not a typed array constructor!\");return new e(t)},Ie=function(e,t){return Pe(C(e,e[he]),t)},Pe=function(e,t){for(var n=0,r=t.length,i=Ee(e,r);r>n;)i[n]=t[n++];return i},xe=function(e,t,n){V(e,t,{get:function(){return this._d[n]}})},Ae=function(e){var t,n,r,i,o,a,c=b(e),u=arguments.length,l=u>1?arguments[1]:void 0,f=void 0!==l,d=I(c);if(void 0!=d&&!w(d)){for(a=d.call(c),r=[],t=0;!(o=a.next()).done;t++)r.push(o.value);c=r}for(f&&u>2&&(l=s(l,arguments[2],2)),t=0,n=g(c.length),i=Ee(this,n);n>t;t++)i[t]=f?l(c[t],t):c[t];return i},Oe=function(){for(var e=0,t=arguments.length,n=Ee(this,t);t>e;)n[e]=arguments[e++];return n},Ce=!!B&&r(function(){fe.call(new B(1))}),Re=function(){return fe.apply(Ce?ue.call(Te(this)):Te(this),arguments)},ke={copyWithin:function(e,t){return F.call(Te(this),e,t,arguments.length>2?arguments[2]:void 0)},every:function(e){return J(Te(this),e,arguments.length>1?arguments[1]:void 0)},fill:function(e){return D.apply(Te(this),arguments)},filter:function(e){return Ie(this,H(Te(this),e,arguments.length>1?arguments[1]:void 0))},find:function(e){return Z(Te(this),e,arguments.length>1?arguments[1]:void 0)},findIndex:function(e){return Q(Te(this),e,arguments.length>1?arguments[1]:void 0)},forEach:function(e){K(Te(this),e,arguments.length>1?arguments[1]:void 0)},indexOf:function(e){return ee(Te(this),e,arguments.length>1?arguments[1]:void 0)},includes:function(e){return X(Te(this),e,arguments.length>1?arguments[1]:void 0)},join:function(e){return se.apply(Te(this),arguments)},lastIndexOf:function(e){return ie.apply(Te(this),arguments)},map:function(e){return ye(Te(this),e,arguments.length>1?arguments[1]:void 0)},reduce:function(e){return oe.apply(Te(this),arguments)},reduceRight:function(e){return ae.apply(Te(this),arguments)},reverse:function(){for(var e,t=Te(this).length,n=Math.floor(t/2),r=0;r<n;)e=this[r],this[r++]=this[--t],this[t]=e;return this},some:function(e){return Y(Te(this),e,arguments.length>1?arguments[1]:void 0)},sort:function(e){return ce.call(Te(this),e)},subarray:function(e,t){var n=Te(this),r=n.length,i=h(e,r);return new(C(n,n[he]))(n.buffer,n.byteOffset+i*n.BYTES_PER_ELEMENT,g((void 0===t?r:h(t,r))-i))}},je=function(e,t){return Ie(this,ue.call(Te(this),e,t))},Me=function(e){Te(this);var t=Se(arguments[1],1),n=this.length,r=b(e),i=g(r.length),o=0;if(i+t>n)throw z(\"Wrong length!\");for(;o<i;)this[t+o]=r[o++]},De={entries:function(){return re.call(Te(this))},keys:function(){return ne.call(Te(this))},values:function(){return te.call(Te(this))}},Fe=function(e,t){return y(e)&&e[ve]&&\"symbol\"!=typeof t&&t in e&&String(+t)==String(t)},Ne=function(e,t){return Fe(e,t=m(t,!0))?u(2,e[t]):L(e,t)},$e=function(e,t,n){return!(Fe(e,t=m(t,!0))&&y(n)&&v(n,\"value\"))||v(n,\"get\")||v(n,\"set\")||n.configurable||v(n,\"writable\")&&!n.writable||v(n,\"enumerable\")&&!n.enumerable?V(e,t,n):(e[t]=n.value,e)};me||($.f=Ne,N.f=$e),i(i.S+i.F*!me,\"Object\",{getOwnPropertyDescriptor:Ne,defineProperty:$e}),r(function(){le.call({})})&&(le=fe=function(){return se.call(this)});var Ve=f({},ke);f(Ve,De),l(Ve,de,De.values),f(Ve,{slice:je,set:Me,constructor:function(){},toString:le,toLocaleString:Re}),xe(Ve,\"buffer\",\"b\"),xe(Ve,\"byteOffset\",\"o\"),xe(Ve,\"byteLength\",\"l\"),xe(Ve,\"length\",\"e\"),V(Ve,ge,{get:function(){return this[ve]}}),e.exports=function(e,a,s,u){var f=e+((u=!!u)?\"Clamped\":\"\")+\"Array\",d=\"get\"+e,h=\"set\"+e,m=n[f],v=m||{},b=m&&T(m),w=!m||!o.ABV,I={},P=m&&m.prototype,x=function(e,t){V(e,t,{get:function(){return function(e,t){var n=e._d;return n.v[d](t*a+n.o,be)}(this,t)},set:function(e){return function(e,t,n){var r=e._d;u&&(n=(n=Math.round(n))<0?0:n>255?255:255&n),r.v[h](t*a+r.o,n,be)}(this,t,e)},enumerable:!0})};w?(m=s(function(e,t,n,r){c(e,m,f,\"_d\");var i,o,s,u,d=0,h=0;if(y(t)){if(!(t instanceof G||\"ArrayBuffer\"==(u=_(t))||\"SharedArrayBuffer\"==u))return ve in t?Pe(m,t):Ae.call(m,t);i=t,h=Se(n,a);var v=t.byteLength;if(void 0===r){if(v%a)throw z(\"Wrong length!\");if((o=v-h)<0)throw z(\"Wrong length!\")}else if((o=g(r)*a)+h>v)throw z(\"Wrong length!\");s=o/a}else s=p(t),i=new G(o=s*a);for(l(e,\"_d\",{b:i,o:h,l:o,e:s,v:new W(i)});d<s;)x(e,d++)}),P=m.prototype=S(Ve),l(P,\"constructor\",m)):r(function(){m(1)})&&r(function(){new m(-1)})&&j(function(e){new m,new m(null),new m(1.5),new m(e)},!0)||(m=s(function(e,t,n,r){var i;return c(e,m,f),y(t)?t instanceof G||\"ArrayBuffer\"==(i=_(t))||\"SharedArrayBuffer\"==i?void 0!==r?new v(t,Se(n,a),r):void 0!==n?new v(t,Se(n,a)):new v(t):ve in t?Pe(m,t):Ae.call(m,t):new v(p(t))}),K(b!==Function.prototype?E(v).concat(E(b)):E(v),function(e){e in m||l(m,e,v[e])}),m.prototype=P,t||(P.constructor=m));var A=P[de],O=!!A&&(\"values\"==A.name||void 0==A.name),C=De.values;l(m,pe,!0),l(P,ve,f),l(P,_e,!0),l(P,he,m),(u?new m(1)[ge]==f:ge in P)||V(P,ge,{get:function(){return f}}),I[f]=m,i(i.G+i.W+i.F*(m!=v),I),i(i.S,f,{BYTES_PER_ELEMENT:a}),i(i.S+i.F*r(function(){v.of.call(m,1)}),f,{from:Ae,of:Oe}),\"BYTES_PER_ELEMENT\"in P||l(P,\"BYTES_PER_ELEMENT\",a),i(i.P,f,ke),M(f),i(i.P+i.F*we,f,{set:Me}),i(i.P+i.F*!O,f,De),t||P.toString==le||(P.toString=le),i(i.P+i.F*r(function(){new m(1).slice()}),f,{slice:je}),i(i.P+i.F*(r(function(){return[1,2].toLocaleString()!=new m([1,2]).toLocaleString()})||!r(function(){P.toLocaleString.call([1,2])})),f,{toLocaleString:Re}),k[f]=O?A:C,t||O||l(P,de,C)}}else e.exports=function(){}});function generate(e,t){var n,r=window.crypto||window.msCrypto;n=r?function(e){return r.getRandomValues(new Uint8Array(e))}:function(e){for(var t=[],n=0;n<e;n++)t.push(Math.floor(254*Math.random()));return t};for(var i=(2<<Math.log(e.length-1)/Math.LN2)-1,o=Math.ceil(1.6*i*t/e.length),a=\"\";a.length<t;)for(var s=n(o),c=0;c<o;c++){var u=s[c]&i;if(e[u]&&(a+=e[u]).length===t)return a}}_typedArray(\"Uint8\",1,function(e){return function(t,n,r){return e(this,t,n,r)}});var runtimeId=generate(\"123456789ABCDEFGHJKLMNPQRSTUVWXYZabcdefghijkmnopqrstuvwxyz\",13),cns=window.cns;function about(){return{buildDate:cns.buildDate,fastAdsHead:cns.fastAdsHead,fastAdsFooter:cns.fastAdsFooter,runtimeId:queryParameters.runtimeId||runtimeId}}function attachListeners(e,t){var n=getConfig$1(window),r=new ShareOfVoice,i=new TargetingLifecycle(n,r),o=new RefreshControl(t,i),a=new UnassumingInsert(e,i,o,t);new CNSShim(e,o,t,a),new GPTRouter(t,o,r,e),emitBoomPixel(\"adsReady\"),cns.addTargeting=i.register,AdBlockDetect(e),featureFlags.ads_debug_outline&&debugStyles(),startSentry(e),a.insert(t),a.insertForReact(t)}function startFooter(){var e=window.cnBus;featureFlags.show_version&&renderVersion(),addDefaultSubscriptions(e,featureFlags.bus_log),\"info\"===queryParameters.ao_tools&&append({src:\"https://ad-tools.condenastdigital.com/ads-\"+queryParameters.ao_tools+\"/prod/index.js\",targ:document.head}),queryParameters.ap_noads||hasPII()||til(function(){return cns.pageContext},function(){var t=new SourceOfTruth(function(){var e=getViewportTemplate();return new CompleteDefiner(getPageContext(window),null,e)});attachListeners(e,t),enableCNE(e)})}set(window,\"cns.buildDate\",getConfig$1(window).buildDate),set(window,\"cns.fastAdsFooter\",version),set(window,\"cns.runtimeId\",queryParameters.runtimeId||runtimeId),set(window,\"cns.about\",about),set(window,\"cns.timing.footerStart\",Date.now()),startFooter()}();\n",
      "  </script>\n",
      "  <script>\n",
      "   (function(){\n",
      "    var w = window;\n",
      "    w.CN = w.CN || {};\n",
      "    w.CN.ad = w.CN.ad || {};\n",
      "    w.CN.ad.proximic = {};\n",
      "\n",
      "    var s = document.createElement('script');\n",
      "    s.src = 'https://segment-data.zqtk.net/conde-nast?url=' + encodeURIComponent(window.location.href);\n",
      "    s.defer = true;\n",
      "    document.head.appendChild(s);\n",
      "  })();\n",
      "  </script>\n",
      "  <iframe height=\"0\" scrolling=\"no\" src=\"https://js-sec.indexww.com/um/ixmatch.html\" style=\"display: none;\" width=\"0\">\n",
      "  </iframe>\n",
      "  <script async=\"\" src=\"/hotzones/src/pixelpropagate.js?cb=1099\">\n",
      "  </script>\n",
      "  <script>\n",
      "   (function userSegments(doc) {\n",
      "  function addScript(src) {\n",
      "    var s = document.createElement('script');\n",
      "    s.src = src;\n",
      "    s.async = true;\n",
      "    document.body.appendChild(s);\n",
      "  }\n",
      "\n",
      "  addScript('/user-context?referrer=' + encodeURIComponent(document.referrer) + '&verso=false');\n",
      "})(document)\n",
      "  </script>\n",
      "  <script id=\"cne-interlude-script\">\n",
      "   (function insertInterlude(brand, domain) {\n",
      "    if (window.CN_STACK_TEMP === 'verso') {\n",
      "      return;\n",
      "    }\n",
      "\n",
      "    var src = 'https://' + domain + '/interlude/' + brand + '.js';\n",
      "\n",
      "    var s = document.createElement('script');\n",
      "    s.src = src;\n",
      "    s.async = true;\n",
      "    document.head.appendChild(s);\n",
      "  })('epicurious', 'player.cnevids.com');\n",
      "  </script>\n",
      "  <script async=\"\" id=\"conde-polar\" src=\"https://cdn.mediavoice.com/nativeads/script/condenastcorporate/conde-asa-polar-master.js\">\n",
      "  </script>\n",
      "  <script>\n",
      "   (function() {\n",
      "function DQ() {\n",
      "  var queue = window.sparrowQueue;\n",
      "  this.push = fn => fn();\n",
      "  window.sparrowQueue = this;\n",
      "  while (queue.length) {\n",
      "    queue.shift()();\n",
      "  }\n",
      "}\n",
      "function e(t, e) {\n",
      "  var n, a, o;\n",
      "  a = !1, n = document.createElement(\"script\"), n.type = \"text/javascript\", n.src = t, n.onload = n.onreadystatechange = function() {\n",
      "    a || this.readyState && \"complete\" != this.readyState || (a = !0, e ? e() : !0)\n",
      "  }, o = document.getElementsByTagName(\"script\")[0], o.parentNode.insertBefore(n, o)\n",
      "}\n",
      "if(location.search.indexOf('no_sparrow')<0){\n",
      "e(\"https://pixel.condenastdigital.com/config/v2/production/epicurious.config.js\", function() {\n",
      "  e(\"https://pixel.condenastdigital.com/sparrow.min.js\", function() { \n",
      "    if (window.SparrowConfigV2) {\n",
      "      window.sparrow = new window.Sparrow(window.SparrowConfigV2); \n",
      "      new DQ();\n",
      "    }\n",
      "  })\n",
      "})}\n",
      "})()\n",
      "  </script>\n",
      "  <!-- START Parse.ly Include: Async -->\n",
      "  <div id=\"parsely-root\" style=\"display: none\">\n",
      "   <a data-parsely-site=\"epicurious.com\" href=\"https://parsely.com\" id=\"parsely-cfg\">\n",
      "    Powered by the Parse.ly Publisher Platform (P3).\n",
      "   </a>\n",
      "  </div>\n",
      "  <script type=\"text/javascript\">\n",
      "   (function(w, d, s) {\n",
      "      function go() {\n",
      "          var js,\n",
      "              fjs = d.getElementsByTagName(s)[0],\n",
      "              load = function(url, id, opts) {\n",
      "                  if (d.getElementById(id)) {return;}\n",
      "                  js = d.createElement(s);\n",
      "                  js.src = url;\n",
      "                  js.id = id;\n",
      "                  if (opts && opts.divId) {\n",
      "                      document.getElementById(opts.divId).appendChild(js);\n",
      "                  } else {\n",
      "                      fjs.parentNode.insertBefore(js, fjs);\n",
      "                  }\n",
      "              };\n",
      "          load('https://d1z2jf7jlzjs58.cloudfront.net/p.js', 'parsely', { divId : 'parsely-root'});\n",
      "      }\n",
      "      go();\n",
      "  }(window, document, 'script'));\n",
      "  </script>\n",
      "  <!-- END Parse.ly Include: Async -->\n",
      "  <script type=\"text/javascript\">\n",
      "   if (document.querySelectorAll('.embed-instagram').length > 0) {\n",
      "      EPI.onCompleteActions.push(function () {\n",
      "        var script = document.createElement('script');\n",
      "        script.async = true;\n",
      "        script.defer = true;\n",
      "        script.src = \"https://platform.instagram.com/en_US/embeds.js\";\n",
      "        document.getElementsByTagName('head')[0].appendChild(script);\n",
      "      });\n",
      "    }\n",
      "\n",
      "    if (document.querySelectorAll('.embed-twitter').length > 0) {\n",
      "      EPI.onCompleteActions.push(function () {\n",
      "        var script = document.createElement('script');\n",
      "        script.async = true;\n",
      "        script.defer = true;\n",
      "        script.src = \"https://platform.twitter.com/widgets.js\";\n",
      "        document.getElementsByTagName('head')[0].appendChild(script);\n",
      "      });\n",
      "    }\n",
      "\n",
      "    if (document.querySelectorAll('body.recipe-detail, body.article, body.gallery-page').length) {\n",
      "      EPI.onCompleteActions.push(function () {\n",
      "        var script = document.createElement('script');\n",
      "        script.async = true;\n",
      "        script.defer = true;\n",
      "        script.src = \"https://wms.assoc-amazon.com/20070822/US/js/auto-tagger.js?tag=epicuriousfig-20&locale=US&overwrite=Y\";\n",
      "        document.getElementsByTagName('head')[0].appendChild(script);\n",
      "      });\n",
      "    }\n",
      "\n",
      "    if (document.querySelectorAll('.fb-video').length > 0) {\n",
      "      window.fbAsyncInit = function () {\n",
      "        FB.init({\n",
      "          appId      : '1636080783276430',\n",
      "          xfbml      : true,\n",
      "          version    : 'v2.10'\n",
      "        });\n",
      "      };\n",
      "\n",
      "      EPI.onCompleteActions.push(function () {\n",
      "        (function (d, s, id) {\n",
      "        var js, fjs = d.getElementsByTagName(s)[0];\n",
      "        if (d.getElementById(id)) return;\n",
      "        js = d.createElement(s); js.id = id;\n",
      "        js.src = \"https://connect.facebook.net/en_US/sdk.js\";\n",
      "        fjs.parentNode.insertBefore(js, fjs);\n",
      "        }(document, 'script', 'facebook-jssdk'));\n",
      "      });\n",
      "    }\n",
      "  </script>\n",
      "  <div id=\"amzn-assoc-ad-b564d740-ff5e-49fe-bf49-faf18447a2e4\">\n",
      "  </div>\n",
      "  <script async=\"\" src=\"//z-na.amazon-adsystem.com/widgets/onejs?MarketPlace=US&amp;adInstanceId=b564d740-ff5e-49fe-bf49-faf18447a2e4\">\n",
      "  </script>\n",
      "  <script>\n",
      "   (function (root) {\n",
      "/* -- Data -- */\n",
      "root.__INITIAL_STATE__ || (root.__INITIAL_STATE__ = {});\n",
      "root.__INITIAL_STATE__.config = {\"ads\":{\"google\":{\"googleTagManagerId\":\"GTM-PCTXLQR\"}},\"cookieDomain\":\".epicurious.com\",\"endpoints\":{\"contextual\":\"\\u002Fapi\\u002Fdataintelligence\\u002Fv1\\u002Fcontent\\u002Frecommended\",\"rotd\":\"\\u002Fapi\\u002Fcontent\\u002Fv1\\u002Frotd\\u002Fcount\\u002F1\"},\"env\":\"PROD\",\"facebook\":{\"appId\":\"1636080783276430\"},\"https\":\"true\",\"media\":{\"bp\":{\"xs\":0,\"s\":600,\"m\":768,\"l\":1024,\"xl\":1360,\"w\":1710}},\"newsletters\":{\"current\":[{\"description\":\"Become a better cook instantly with this weekly report of our ten most helpful tips, tricks, and kitchen secrets. Don't miss it!\",\"id\":\"5\",\"name\":\"The Top Ten\"},{\"description\":\"Love recipes, but hate searching? We do the work for you. You'll get our favorite seasonal recipe plus collections of our exclusive editors' picks.\",\"id\":\"5117\",\"name\":\"Cook This Now\"},{\"description\":\"Get a daily dose of the hottest recipes from Epicurious, Bon Appétit, and other great sites.\",\"id\":\"195169\",\"name\":\"Trending Recipes\"},{\"id\":\"248781\",\"name\":\"Announcements\"},{\"id\":\"248789\",\"name\":\"Cook 90\"},{\"id\":\"248818\",\"name\":\"Diabetes Friendly\"},{\"id\":\"248842\",\"name\":\"Small Plates\"},{\"id\":\"248886\",\"name\":\"Well Equipped\"}]},\"server\":\"https:\\u002F\\u002Fwww.epicurious.com\",\"services\":{\"endpoints\":{\"articles\":{\"latest\":\"\\u002Fapi\\u002Fsearch\\u002Fv1\\u002Fquery?size=20&content=article&sort=newest&q=\"},\"branded\":{\"article\":\"\\u002Fapi\\u002Fbranded\\u002Fv1\\u002Farticle\\u002F:brandCode\\u002F:slug\"},\"content\":{\"channel\":\"\\u002Fapi\\u002Fcontent\\u002Fv1\\u002Fchannel\\u002F\",\"component\":\"\\u002Fapi\\u002Fcontent\\u002Fv1\\u002Fcomponent\",\"contextual\":\"\\u002Fapi\\u002Fdataintelligence\\u002Fv1\\u002Fcontent\\u002Frecommended\",\"featuredIn\":\"\\u002Fapi\\u002Fcontent\\u002Fv1\\u002Ffeaturedin\\u002F\",\"homepage\":\"\\u002Fapi\\u002Fcontent\\u002Fv1\\u002Fhomepage\",\"latestRecipes\":\"\\u002Fapi\\u002Fcontent\\u002Fv1\\u002Fcomponent\\u002Flatestrecipes\",\"memberLookup\":\"\\u002Fapi\\u002Fusers\\u002Fv2\\u002Fuser\\u002F\",\"navItems\":\"\\u002Fapi\\u002Fcontent\\u002Fv1\\u002Fcomponent\\u002Fnavitems\",\"nutritionalInfo\":\"\\u002Fapi\\u002Fnutritiondata\\u002Fv2\\u002F\",\"reviews\":\"\\u002Fapi\\u002Frecipes\\u002Fv2\\u002F\",\"reviewsFeed\":\"\\u002Fapi\\u002Frecipes\\u002Fv3\\u002F\",\"reviewsSuffix\":\"\\u002Freviews\",\"reviewsFeedSuffix\":\"\\u002Freviews\\u002Ffeed\",\"rotd\":\"\\u002Fapi\\u002Fcontent\\u002Fv1\\u002Frotd\\u002Fcount\\u002F1\",\"search\":\"\\u002Fapi\\u002Fcontent\\u002Fv1\\u002Fsearch\",\"videoSearchByKeywords\":\"\\u002Fapi\\u002Fvideo\\u002Fv1\\u002Fkeywords\\u002F\"},\"contributors\":{\"details\":\"\\u002Fapi\\u002Fcontributors\\u002Fv1\\u002F:contributor\\u002Fbundle\",\"feed\":\"\\u002Fapi\\u002Fcontributors\\u002Fv1\\u002F:contributor\\u002Ffeed\"},\"cookbooks\":{\"details\":\"\\u002Fapi\\u002Fcookbooks\\u002Fv1\\u002F:slug\",\"index\":\"\\u002Fapi\\u002Fcookbooks\\u002Fv1\"},\"menus\":{\"details\":\"\\u002Fapi\\u002Fusers\\u002Fv1\\u002F:userId\\u002Fmenus\\u002F:menuId\",\"index\":\"\\u002Fapi\\u002Fusers\\u002Fv1\\u002F:userId\\u002Fmenus\"},\"photos\":{\"instagramPosts\":\"\\u002Fapi\\u002Finstagram\\u002Fv1\",\"menuCover\":\"\\u002Fapi\\u002Fphotos\\u002Fv1\\u002Fmenu-cover\",\"searchCard\":\"\\u002Fapi\\u002Fphotos\\u002Fv1\\u002Fsearch-card\",\"searchUtility\":\"\\u002Fapi\\u002Fphotos\\u002Fv1\\u002Fsearch-utility\"},\"recipeBox\":{\"search\":\"\\u002Fapi\\u002Frecipe-box\\u002Fv1\\u002F:userId\\u002Fsearch\\u002F:term\"},\"recipes\":{\"byKeywords\":\"\\u002Fapi\\u002Frecipes\\u002Fv2\\u002Fkeywords\\u002F\",\"byKeywordsForMenus\":\"\\u002Fapi\\u002Fmenus\\u002Fv1\\u002Fkeywords\\u002F\",\"latest\":\"\\u002Fapi\\u002Frecipes\\u002Fv2\\u002Flatest\"},\"search\":{\"details\":\"\\u002Fapi\\u002Frecipes\\u002Fv3\\u002Fdetail\",\"facets\":\"\\u002Fapi\\u002Fsearch\\u002Fv1\\u002Ffacets\",\"query\":\"\\u002Fapi\\u002Fsearch\\u002Fv1\\u002Fquery\",\"suggest\":\"\\u002Fapi\\u002Fsearch\\u002Fv1\\u002Fsuggest\"},\"users\":{\"authenticate\":\"\\u002Fapi\\u002Fusers\\u002Fv2\\u002Fauthenticate\",\"info\":\"\\u002Fapi\\u002Fusers\\u002Fv2\\u002Fuser\\u002F:uuid\",\"newsletterSubscriptions\":\"\\u002Fapi\\u002Fnewsletters\\u002Fv1\\u002Fsubscription\\u002F:email\",\"recipeBoxSearch\":\"\\u002Fapi\\u002Fusers\\u002Fv1\\u002F:userId\\u002Frecipe-box\\u002Fsearch\\u002F:query\",\"recipes\":\"\\u002Fapi\\u002Fusers\\u002Fv1\\u002F:userId\\u002Frecipes\",\"reviews\":\"\\u002Fapi\\u002Fusers\\u002Fv1\\u002F:userId\\u002Freviews\",\"updateEmail\":\"\\u002Fapi\\u002Fusers\\u002Fv2\\u002Fuser\\u002Femail\",\"updatePassword\":\"\\u002Fapi\\u002Fusers\\u002Fv2\\u002Fuser\\u002Fpassword\",\"updateUsername\":\"\\u002Fapi\\u002Fusers\\u002Fv2\\u002Fuser\\u002Fdisplayname\",\"updateSettings\":\"\\u002Fapi\\u002Fusers\\u002Fv2\\u002Fuser\"}}},\"servicesHost\":\"https:\\u002F\\u002Fservices.epicurious.com\",\"simpleReach\":{\"pid\":\"570d6b7d736b79bf1d000d27\"},\"user\":{\"cookies\":{\"keys\":{\"id\":\"amg_user_partner\",\"username\":\"amg_user_info\"},\"names\":[\"amg_user_ext\",\"amg_user_info\",\"amg_user_partner\",\"amg_user_update\",\"cn_uid\",\"CN_userAuth\"]},\"email\":{\"regExp\":/^(([^<>()[\\]\\.,;:\\s@\\\"]+(\\.[^<>()[\\]\\.,;:\\s@\\\"]+)*)|(\\\".+\\\"))@(([^<>()[\\]\\.,;:\\s@\\\"]+\\.)+[^<>()[\\]\\.,;:\\s@\\\"]{2,})$/i},\"password\":{\"regExp\":/^[a-zA-Z0-9!\"\\#$%&'()*+,\\-.\\/:;<=>?@\\[\\\\\\]^_`{|}~][a-zA-Z0-9 !\"\\#$%&'()*+,\\-.\\/:;<=>?@\\[\\\\\\]^_`{|}~]{4,253}[a-zA-Z0-9!\"\\#$%&'()*+,\\-.\\/:;<=>?@\\[\\\\\\]^_`{|}~]$/,\"messages\":{\"requirements\":\"A password must be at least 6 characters long. It cannot begin or end with a space.\"}},\"serviceKey\":\"NtibqP3y1qSJM\\u002FGsy3blJgNWt\\u002Fo=\",\"serviceHost\":\"https:\\u002F\\u002Fuser-service.condenastdigital.com\"},\"userServiceHost\":\"https:\\u002F\\u002Fuser-service.condenastdigital.com\",\"userServiceKey\":\"NtibqP3y1qSJM\\u002FGsy3blJgNWt\\u002Fo=\",\"vulcan\":{\"host\":\"https:\\u002F\\u002Fassets.epicurious.com\",\"path\":\"\\u002Fphotos\\u002F\"}};\n",
      "root.__INITIAL_STATE__.siteHeader = {\"config\":{\"ads\":{\"google\":{\"googleTagManagerId\":\"GTM-PCTXLQR\"}},\"cookieDomain\":\".epicurious.com\",\"endpoints\":{\"contextual\":\"\\u002Fapi\\u002Fdataintelligence\\u002Fv1\\u002Fcontent\\u002Frecommended\",\"rotd\":\"\\u002Fapi\\u002Fcontent\\u002Fv1\\u002Frotd\\u002Fcount\\u002F1\"},\"env\":\"PROD\",\"facebook\":{\"appId\":\"1636080783276430\"},\"https\":\"true\",\"media\":{\"bp\":{\"xs\":0,\"s\":600,\"m\":768,\"l\":1024,\"xl\":1360,\"w\":1710}},\"newsletters\":{\"current\":[{\"description\":\"Become a better cook instantly with this weekly report of our ten most helpful tips, tricks, and kitchen secrets. Don't miss it!\",\"id\":\"5\",\"name\":\"The Top Ten\"},{\"description\":\"Love recipes, but hate searching? We do the work for you. You'll get our favorite seasonal recipe plus collections of our exclusive editors' picks.\",\"id\":\"5117\",\"name\":\"Cook This Now\"},{\"description\":\"Get a daily dose of the hottest recipes from Epicurious, Bon Appétit, and other great sites.\",\"id\":\"195169\",\"name\":\"Trending Recipes\"},{\"id\":\"248781\",\"name\":\"Announcements\"},{\"id\":\"248789\",\"name\":\"Cook 90\"},{\"id\":\"248818\",\"name\":\"Diabetes Friendly\"},{\"id\":\"248842\",\"name\":\"Small Plates\"},{\"id\":\"248886\",\"name\":\"Well Equipped\"}]},\"server\":\"https:\\u002F\\u002Fwww.epicurious.com\",\"services\":{\"endpoints\":{\"articles\":{\"latest\":\"\\u002Fapi\\u002Fsearch\\u002Fv1\\u002Fquery?size=20&content=article&sort=newest&q=\"},\"branded\":{\"article\":\"\\u002Fapi\\u002Fbranded\\u002Fv1\\u002Farticle\\u002F:brandCode\\u002F:slug\"},\"content\":{\"channel\":\"\\u002Fapi\\u002Fcontent\\u002Fv1\\u002Fchannel\\u002F\",\"component\":\"\\u002Fapi\\u002Fcontent\\u002Fv1\\u002Fcomponent\",\"contextual\":\"\\u002Fapi\\u002Fdataintelligence\\u002Fv1\\u002Fcontent\\u002Frecommended\",\"featuredIn\":\"\\u002Fapi\\u002Fcontent\\u002Fv1\\u002Ffeaturedin\\u002F\",\"homepage\":\"\\u002Fapi\\u002Fcontent\\u002Fv1\\u002Fhomepage\",\"latestRecipes\":\"\\u002Fapi\\u002Fcontent\\u002Fv1\\u002Fcomponent\\u002Flatestrecipes\",\"memberLookup\":\"\\u002Fapi\\u002Fusers\\u002Fv2\\u002Fuser\\u002F\",\"navItems\":\"\\u002Fapi\\u002Fcontent\\u002Fv1\\u002Fcomponent\\u002Fnavitems\",\"nutritionalInfo\":\"\\u002Fapi\\u002Fnutritiondata\\u002Fv2\\u002F\",\"reviews\":\"\\u002Fapi\\u002Frecipes\\u002Fv2\\u002F\",\"reviewsFeed\":\"\\u002Fapi\\u002Frecipes\\u002Fv3\\u002F\",\"reviewsSuffix\":\"\\u002Freviews\",\"reviewsFeedSuffix\":\"\\u002Freviews\\u002Ffeed\",\"rotd\":\"\\u002Fapi\\u002Fcontent\\u002Fv1\\u002Frotd\\u002Fcount\\u002F1\",\"search\":\"\\u002Fapi\\u002Fcontent\\u002Fv1\\u002Fsearch\",\"videoSearchByKeywords\":\"\\u002Fapi\\u002Fvideo\\u002Fv1\\u002Fkeywords\\u002F\"},\"contributors\":{\"details\":\"\\u002Fapi\\u002Fcontributors\\u002Fv1\\u002F:contributor\\u002Fbundle\",\"feed\":\"\\u002Fapi\\u002Fcontributors\\u002Fv1\\u002F:contributor\\u002Ffeed\"},\"cookbooks\":{\"details\":\"\\u002Fapi\\u002Fcookbooks\\u002Fv1\\u002F:slug\",\"index\":\"\\u002Fapi\\u002Fcookbooks\\u002Fv1\"},\"menus\":{\"details\":\"\\u002Fapi\\u002Fusers\\u002Fv1\\u002F:userId\\u002Fmenus\\u002F:menuId\",\"index\":\"\\u002Fapi\\u002Fusers\\u002Fv1\\u002F:userId\\u002Fmenus\"},\"photos\":{\"instagramPosts\":\"\\u002Fapi\\u002Finstagram\\u002Fv1\",\"menuCover\":\"\\u002Fapi\\u002Fphotos\\u002Fv1\\u002Fmenu-cover\",\"searchCard\":\"\\u002Fapi\\u002Fphotos\\u002Fv1\\u002Fsearch-card\",\"searchUtility\":\"\\u002Fapi\\u002Fphotos\\u002Fv1\\u002Fsearch-utility\"},\"recipeBox\":{\"search\":\"\\u002Fapi\\u002Frecipe-box\\u002Fv1\\u002F:userId\\u002Fsearch\\u002F:term\"},\"recipes\":{\"byKeywords\":\"\\u002Fapi\\u002Frecipes\\u002Fv2\\u002Fkeywords\\u002F\",\"byKeywordsForMenus\":\"\\u002Fapi\\u002Fmenus\\u002Fv1\\u002Fkeywords\\u002F\",\"latest\":\"\\u002Fapi\\u002Frecipes\\u002Fv2\\u002Flatest\"},\"search\":{\"details\":\"\\u002Fapi\\u002Frecipes\\u002Fv3\\u002Fdetail\",\"facets\":\"\\u002Fapi\\u002Fsearch\\u002Fv1\\u002Ffacets\",\"query\":\"\\u002Fapi\\u002Fsearch\\u002Fv1\\u002Fquery\",\"suggest\":\"\\u002Fapi\\u002Fsearch\\u002Fv1\\u002Fsuggest\"},\"users\":{\"authenticate\":\"\\u002Fapi\\u002Fusers\\u002Fv2\\u002Fauthenticate\",\"info\":\"\\u002Fapi\\u002Fusers\\u002Fv2\\u002Fuser\\u002F:uuid\",\"newsletterSubscriptions\":\"\\u002Fapi\\u002Fnewsletters\\u002Fv1\\u002Fsubscription\\u002F:email\",\"recipeBoxSearch\":\"\\u002Fapi\\u002Fusers\\u002Fv1\\u002F:userId\\u002Frecipe-box\\u002Fsearch\\u002F:query\",\"recipes\":\"\\u002Fapi\\u002Fusers\\u002Fv1\\u002F:userId\\u002Frecipes\",\"reviews\":\"\\u002Fapi\\u002Fusers\\u002Fv1\\u002F:userId\\u002Freviews\",\"updateEmail\":\"\\u002Fapi\\u002Fusers\\u002Fv2\\u002Fuser\\u002Femail\",\"updatePassword\":\"\\u002Fapi\\u002Fusers\\u002Fv2\\u002Fuser\\u002Fpassword\",\"updateUsername\":\"\\u002Fapi\\u002Fusers\\u002Fv2\\u002Fuser\\u002Fdisplayname\",\"updateSettings\":\"\\u002Fapi\\u002Fusers\\u002Fv2\\u002Fuser\"}}},\"servicesHost\":\"https:\\u002F\\u002Fservices.epicurious.com\",\"simpleReach\":{\"pid\":\"570d6b7d736b79bf1d000d27\"},\"user\":{\"cookies\":{\"keys\":{\"id\":\"amg_user_partner\",\"username\":\"amg_user_info\"},\"names\":[\"amg_user_ext\",\"amg_user_info\",\"amg_user_partner\",\"amg_user_update\",\"cn_uid\",\"CN_userAuth\"]},\"email\":{\"regExp\":/^(([^<>()[\\]\\.,;:\\s@\\\"]+(\\.[^<>()[\\]\\.,;:\\s@\\\"]+)*)|(\\\".+\\\"))@(([^<>()[\\]\\.,;:\\s@\\\"]+\\.)+[^<>()[\\]\\.,;:\\s@\\\"]{2,})$/i},\"password\":{\"regExp\":/^[a-zA-Z0-9!\"\\#$%&'()*+,\\-.\\/:;<=>?@\\[\\\\\\]^_`{|}~][a-zA-Z0-9 !\"\\#$%&'()*+,\\-.\\/:;<=>?@\\[\\\\\\]^_`{|}~]{4,253}[a-zA-Z0-9!\"\\#$%&'()*+,\\-.\\/:;<=>?@\\[\\\\\\]^_`{|}~]$/,\"messages\":{\"requirements\":\"A password must be at least 6 characters long. It cannot begin or end with a space.\"}},\"serviceKey\":\"NtibqP3y1qSJM\\u002FGsy3blJgNWt\\u002Fo=\",\"serviceHost\":\"https:\\u002F\\u002Fuser-service.condenastdigital.com\"},\"userServiceHost\":\"https:\\u002F\\u002Fuser-service.condenastdigital.com\",\"userServiceKey\":\"NtibqP3y1qSJM\\u002FGsy3blJgNWt\\u002Fo=\",\"vulcan\":{\"host\":\"https:\\u002F\\u002Fassets.epicurious.com\",\"path\":\"\\u002Fphotos\\u002F\"}}};\n",
      "root.__INITIAL_STATE__.contentType = \"search\";\n",
      "}(this));\n",
      "\n",
      "    window.copilot = window.copilot || window.__INITIAL_STATE__.copilotData;\n",
      "  </script>\n",
      "  <link as=\"style\" href=\"/static/css/patch.css\" onload=\"this.rel='stylesheet'\" rel=\"preload\"/>\n",
      "  <noscript>\n",
      "   <link href=\"/static/css/patch.css\" rel=\"stylesheet\"/>\n",
      "  </noscript>\n",
      "  <span data-react-checksum=\"-664854917\" data-reactid=\"1\" data-reactroot=\"\" id=\"boomerang-beacon\">\n",
      "   <!-- react-empty: 2 -->\n",
      "  </span>\n",
      "  <div class=\"ad ad--out-of-page\">\n",
      "   <div class=\"ad__slot ad__slot--out-of-page\">\n",
      "   </div>\n",
      "  </div>\n",
      " </body>\n",
      "</html>\n",
      "\n"
     ]
    }
   ],
   "source": [
    "url = \"https://www.epicurious.com/search/tofu%20chill\"\n",
    "res = requests.get(url)\n",
    "if (res.status_code == 200):\n",
    "    soup = BeautifulSoup(res.content,'lxml')\n",
    "    print (soup.prettify())\n",
    "else:\n",
    "    print('Failure')"
   ]
  },
  {
   "cell_type": "markdown",
   "metadata": {
    "heading_collapsed": true
   },
   "source": [
    "# Plydata (dplyr for Python)"
   ]
  },
  {
   "cell_type": "markdown",
   "metadata": {
    "heading_collapsed": true,
    "hidden": true
   },
   "source": [
    "## Sample Data"
   ]
  },
  {
   "cell_type": "code",
   "execution_count": null,
   "metadata": {
    "hidden": true
   },
   "outputs": [],
   "source": [
    "n = 200\n",
    "comp = ['C' + i for i in np.random.randint( 1,4, size  = n).astype(str)] # 3x Company\n",
    "dept = ['D' + i for i in np.random.randint( 1,6, size  = n).astype(str)] # 5x Department\n",
    "grp =  ['G' + i for i in np.random.randint( 1,3, size  = n).astype(str)] # 2x Groups\n",
    "value1 = np.random.normal( loc=50 , scale=5 , size = n)\n",
    "value2 = np.random.normal( loc=20 , scale=3 , size = n)\n",
    "#value3 = np.random.normal( loc=5 , scale=30 , size = n)\n",
    "\n",
    "mydf = pd.DataFrame({\n",
    "    'comp':comp, \n",
    "    'dept':dept, \n",
    "    'grp': grp,\n",
    "    'value1':value1, \n",
    "    'value2':value2\n",
    "    #'value3':value3 \n",
    "})\n",
    "mydf.head()"
   ]
  },
  {
   "cell_type": "markdown",
   "metadata": {
    "hidden": true
   },
   "source": [
    "## Column Manipulation"
   ]
  },
  {
   "cell_type": "markdown",
   "metadata": {
    "hidden": true
   },
   "source": [
    "### Copy Column"
   ]
  },
  {
   "cell_type": "code",
   "execution_count": null,
   "metadata": {
    "hidden": true
   },
   "outputs": [],
   "source": [
    "mydf >> define(newcol = 'value1')                 # simple method for one column"
   ]
  },
  {
   "cell_type": "code",
   "execution_count": null,
   "metadata": {
    "hidden": true,
    "scrolled": true
   },
   "outputs": [],
   "source": [
    "mydf >> define (('newcol1', 'value1'), newcol2='value2')  # method for muiltiple new columns"
   ]
  },
  {
   "cell_type": "markdown",
   "metadata": {
    "hidden": true
   },
   "source": [
    "### New Column from existing Column"
   ]
  },
  {
   "cell_type": "markdown",
   "metadata": {
    "hidden": true
   },
   "source": [
    "**Without specify the new column name**, it will be derived from expression"
   ]
  },
  {
   "cell_type": "code",
   "execution_count": null,
   "metadata": {
    "hidden": true
   },
   "outputs": [],
   "source": [
    "mydf >> define ('value1*2')"
   ]
  },
  {
   "cell_type": "markdown",
   "metadata": {
    "hidden": true
   },
   "source": [
    "**Specify the new column name**"
   ]
  },
  {
   "cell_type": "code",
   "execution_count": null,
   "metadata": {
    "hidden": true
   },
   "outputs": [],
   "source": [
    "mydf >> define(value3 = 'value1*2')"
   ]
  },
  {
   "cell_type": "markdown",
   "metadata": {
    "hidden": true
   },
   "source": [
    "Define **multiple** new columns in one go. Observe there are three ways to specify the new columns"
   ]
  },
  {
   "cell_type": "code",
   "execution_count": null,
   "metadata": {
    "hidden": true
   },
   "outputs": [],
   "source": [
    "mydf >> define('value1*2',('newcol2','value2*2'),newcol3='value2*3')"
   ]
  },
  {
   "cell_type": "markdown",
   "metadata": {
    "hidden": true
   },
   "source": [
    "### Select Column(s)"
   ]
  },
  {
   "cell_type": "code",
   "execution_count": null,
   "metadata": {
    "hidden": true
   },
   "outputs": [],
   "source": [
    "mydf2 = mydf >> define(newcol1='value1',newcol2='value2')\n",
    "mydf2.info()"
   ]
  },
  {
   "cell_type": "markdown",
   "metadata": {
    "hidden": true
   },
   "source": [
    "#### By Column Names\n",
    "**Exact Coumn Name**"
   ]
  },
  {
   "cell_type": "code",
   "execution_count": null,
   "metadata": {
    "hidden": true
   },
   "outputs": [],
   "source": [
    "mydf2 >> select ('comp','dept','value1')"
   ]
  },
  {
   "cell_type": "markdown",
   "metadata": {
    "hidden": true
   },
   "source": [
    "**Column Name Starts With** ..."
   ]
  },
  {
   "cell_type": "code",
   "execution_count": null,
   "metadata": {
    "hidden": true
   },
   "outputs": [],
   "source": [
    "mydf2 >> select ('comp', startswith='val')"
   ]
  },
  {
   "cell_type": "markdown",
   "metadata": {
    "hidden": true
   },
   "source": [
    "**Column Name Ends With ...**"
   ]
  },
  {
   "cell_type": "code",
   "execution_count": null,
   "metadata": {
    "hidden": true
   },
   "outputs": [],
   "source": [
    "mydf2 >> select ('comp',endswith=('1','2','3'))"
   ]
  },
  {
   "cell_type": "markdown",
   "metadata": {
    "hidden": true
   },
   "source": [
    "**Column Name Contains ...**"
   ]
  },
  {
   "cell_type": "code",
   "execution_count": null,
   "metadata": {
    "hidden": true
   },
   "outputs": [],
   "source": [
    "mydf2 >> select('comp', contains=('col','val'))"
   ]
  },
  {
   "cell_type": "markdown",
   "metadata": {
    "hidden": true
   },
   "source": [
    "#### Specify Column Range"
   ]
  },
  {
   "cell_type": "code",
   "execution_count": null,
   "metadata": {
    "hidden": true
   },
   "outputs": [],
   "source": [
    "mydf2 >> select ('comp', slice('value1','newcol2'))"
   ]
  },
  {
   "cell_type": "markdown",
   "metadata": {
    "hidden": true
   },
   "source": [
    "### Drop Column(s)"
   ]
  },
  {
   "cell_type": "code",
   "execution_count": null,
   "metadata": {
    "hidden": true
   },
   "outputs": [],
   "source": [
    "mydf2 >> select('newcol1','newcol2',drop=True)"
   ]
  },
  {
   "cell_type": "markdown",
   "metadata": {
    "hidden": true
   },
   "source": [
    "## Rename Column"
   ]
  },
  {
   "cell_type": "code",
   "execution_count": null,
   "metadata": {
    "hidden": true
   },
   "outputs": [],
   "source": [
    "mydf.head(80)"
   ]
  },
  {
   "cell_type": "markdown",
   "metadata": {
    "hidden": true
   },
   "source": [
    "**Assignment Method**  \n",
    "Use when column name does not contain special character"
   ]
  },
  {
   "cell_type": "code",
   "execution_count": null,
   "metadata": {
    "hidden": true,
    "scrolled": true
   },
   "outputs": [],
   "source": [
    "mydf >> rename( val1='value1', val2='value2' )"
   ]
  },
  {
   "cell_type": "markdown",
   "metadata": {
    "hidden": true
   },
   "source": [
    "**Dictionary Method**  \n",
    "Use when column name contain special character"
   ]
  },
  {
   "cell_type": "code",
   "execution_count": null,
   "metadata": {
    "hidden": true
   },
   "outputs": [],
   "source": [
    "mydf >> rename( {'val.1' : 'value1',\n",
    "                 'val.2' : 'value2' })"
   ]
  },
  {
   "cell_type": "markdown",
   "metadata": {
    "hidden": true
   },
   "source": [
    "**Combined Method**  \n",
    "Combine both assignment and dictionary method"
   ]
  },
  {
   "cell_type": "code",
   "execution_count": null,
   "metadata": {
    "hidden": true
   },
   "outputs": [],
   "source": [
    "mydf >> rename( {'val.1' : 'value1',\n",
    "                 'val.2' : 'value2'\n",
    "              }, group = 'grp' )"
   ]
  },
  {
   "cell_type": "markdown",
   "metadata": {
    "hidden": true
   },
   "source": [
    "## Sorting (arrange)\n",
    "Use **'-colName'** for decending"
   ]
  },
  {
   "cell_type": "code",
   "execution_count": null,
   "metadata": {
    "hidden": true
   },
   "outputs": [],
   "source": [
    "mydf >> arrange('comp', '-value1')"
   ]
  },
  {
   "cell_type": "code",
   "execution_count": null,
   "metadata": {
    "hidden": true
   },
   "outputs": [],
   "source": []
  },
  {
   "cell_type": "code",
   "execution_count": null,
   "metadata": {
    "hidden": true
   },
   "outputs": [],
   "source": []
  },
  {
   "cell_type": "markdown",
   "metadata": {
    "hidden": true
   },
   "source": [
    "## Grouping"
   ]
  },
  {
   "cell_type": "code",
   "execution_count": null,
   "metadata": {
    "hidden": true
   },
   "outputs": [],
   "source": [
    "mydf.info()"
   ]
  },
  {
   "cell_type": "code",
   "execution_count": null,
   "metadata": {
    "hidden": true
   },
   "outputs": [],
   "source": [
    "gdf = mydf >> group_by('comp','dept')\n",
    "type(gdf)"
   ]
  },
  {
   "cell_type": "markdown",
   "metadata": {
    "hidden": true
   },
   "source": [
    "## Summarization"
   ]
  },
  {
   "cell_type": "markdown",
   "metadata": {
    "hidden": true
   },
   "source": [
    "### Simple Method\n",
    "**Passing Multiple Expressions**"
   ]
  },
  {
   "cell_type": "code",
   "execution_count": null,
   "metadata": {
    "hidden": true
   },
   "outputs": [],
   "source": [
    "gdf >> summarize('n()','sum(value1)','mean(value2)')"
   ]
  },
  {
   "cell_type": "markdown",
   "metadata": {
    "hidden": true
   },
   "source": [
    "### Specify Summarized Column Name"
   ]
  },
  {
   "cell_type": "markdown",
   "metadata": {
    "hidden": true
   },
   "source": [
    "**Assignment Method**  \n",
    "- Passing colName='expression'**  \n",
    "- Column name cannot contain special character"
   ]
  },
  {
   "cell_type": "code",
   "execution_count": null,
   "metadata": {
    "hidden": true
   },
   "outputs": [],
   "source": [
    "gdf >> summarize(count='n()',v1sum='sum(value1)',v2_mean='mean(value2)')"
   ]
  },
  {
   "cell_type": "markdown",
   "metadata": {
    "hidden": true
   },
   "source": [
    "**Tuple Method ('colName','expression')**  \n",
    "Use when the column name contain special character"
   ]
  },
  {
   "cell_type": "code",
   "execution_count": null,
   "metadata": {
    "hidden": true
   },
   "outputs": [],
   "source": [
    "gdf >> summarize(('count','n()'),('v1.sum','sum(value1)'),('s2.sum','sum(value2)'),v2mean=np.mean(value2))"
   ]
  },
  {
   "cell_type": "markdown",
   "metadata": {
    "hidden": true
   },
   "source": [
    "### Number of Rows in Group\n",
    "- n()        : total rows in group  \n",
    "- n_unique() : total of rows with unique value"
   ]
  },
  {
   "cell_type": "code",
   "execution_count": null,
   "metadata": {
    "hidden": true
   },
   "outputs": [],
   "source": [
    "gdf >> summarize(count='n()', va11_unique='n_unique(value1)')"
   ]
  }
 ],
 "metadata": {
  "hide_input": false,
  "kernelspec": {
   "display_name": "Python 3",
   "language": "python",
   "name": "python3"
  },
  "language_info": {
   "codemirror_mode": {
    "name": "ipython",
    "version": 3
   },
   "file_extension": ".py",
   "mimetype": "text/x-python",
   "name": "python",
   "nbconvert_exporter": "python",
   "pygments_lexer": "ipython3",
   "version": "3.7.1"
  },
  "toc": {
   "base_numbering": 1,
   "nav_menu": {},
   "number_sections": true,
   "sideBar": true,
   "skip_h1_title": false,
   "title_cell": "Table of Contents",
   "title_sidebar": "Contents",
   "toc_cell": false,
   "toc_position": {
    "height": "590.625px",
    "left": "0px",
    "right": "1035.6px",
    "top": "66.3636px",
    "width": "431.719px"
   },
   "toc_section_display": false,
   "toc_window_display": true
  },
  "varInspector": {
   "cols": {
    "lenName": 16,
    "lenType": 16,
    "lenVar": 40
   },
   "kernels_config": {
    "python": {
     "delete_cmd_postfix": "",
     "delete_cmd_prefix": "del ",
     "library": "var_list.py",
     "varRefreshCmd": "print(var_dic_list())"
    },
    "r": {
     "delete_cmd_postfix": ") ",
     "delete_cmd_prefix": "rm(",
     "library": "var_list.r",
     "varRefreshCmd": "cat(var_dic_list()) "
    }
   },
   "types_to_exclude": [
    "module",
    "function",
    "builtin_function_or_method",
    "instance",
    "_Feature"
   ],
   "window_display": false
  }
 },
 "nbformat": 4,
 "nbformat_minor": 2
}
