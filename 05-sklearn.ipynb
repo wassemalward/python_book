{
 "cells": [
  {
   "cell_type": "markdown",
   "metadata": {
    "hide_input": true
   },
   "source": [
    "# sklearn\n",
    "This is a machine learning library."
   ]
  },
  {
   "cell_type": "markdown",
   "metadata": {
    "tags": [
     "remove_cell"
    ]
   },
   "source": [
    "## Setup (hidden)"
   ]
  },
  {
   "cell_type": "code",
   "execution_count": 115,
   "metadata": {
    "hide_input": false,
    "tags": [
     "remove_cell"
    ]
   },
   "outputs": [
    {
     "data": {
      "text/html": [
       "<style>.container { width:75% !important; margin-left:350px; }</style>"
      ],
      "text/plain": [
       "<IPython.core.display.HTML object>"
      ]
     },
     "metadata": {},
     "output_type": "display_data"
    }
   ],
   "source": [
    "from IPython.core.display import display, HTML\n",
    "display(HTML(\"<style>.container { width:75% !important; margin-left:350px; }</style>\"))\n",
    "%matplotlib inline\n",
    "import numpy as np\n",
    "import pandas as pd\n",
    "import matplotlib.pyplot as plt\n",
    "import math\n",
    "pd.set_option( 'display.notebook_repr_html', False)  # render Series and DataFrame as text, not HTML\n",
    "pd.set_option( 'display.max_column', 10)    # number of columns\n",
    "pd.set_option( 'display.max_rows', 10)     # number of rows\n",
    "pd.set_option( 'display.width', 90)        # number of characters per row"
   ]
  },
  {
   "cell_type": "markdown",
   "metadata": {
    "hide_input": true
   },
   "source": [
    "## The Library\n",
    "sklearn **does not automatically import its subpackages**. Therefore all subpakcages must be specifically loaded before use."
   ]
  },
  {
   "cell_type": "code",
   "execution_count": 116,
   "metadata": {},
   "outputs": [],
   "source": [
    "# Model Selection\n",
    "from sklearn.model_selection import train_test_split\n",
    "from sklearn.model_selection import KFold\n",
    "from sklearn.model_selection import LeaveOneOut\n",
    "\n",
    "# Preprocessing\n",
    "from sklearn.preprocessing   import Imputer\n",
    "from sklearn.preprocessing   import MinMaxScaler\n",
    "from sklearn.preprocessing   import StandardScaler\n",
    "from sklearn.preprocessing   import Normalizer\n",
    "from sklearn.preprocessing   import PolynomialFeatures\n",
    "\n",
    "# Model and Pipeline\n",
    "from sklearn.linear_model    import LinearRegression\n",
    "from sklearn.pipeline        import make_pipeline\n",
    "\n",
    "# Measurement\n",
    "from sklearn.metrics         import *\n",
    "\n",
    "import statsmodels.formula.api as smf"
   ]
  },
  {
   "cell_type": "markdown",
   "metadata": {},
   "source": [
    "## High Level Process"
   ]
  },
  {
   "cell_type": "markdown",
   "metadata": {},
   "source": [
    "![split](img/scikit_learn_split.jpg)"
   ]
  },
  {
   "cell_type": "markdown",
   "metadata": {},
   "source": [
    "## Data Splitting"
   ]
  },
  {
   "cell_type": "markdown",
   "metadata": {},
   "source": [
    "### Sample Data\n",
    "Generate 100 rows of data, with 3x features (X1,X2,X3), and one dependant variable (Y)"
   ]
  },
  {
   "cell_type": "code",
   "execution_count": 117,
   "metadata": {},
   "outputs": [
    {
     "data": {
      "text/plain": [
       "(21, 4)"
      ]
     },
     "execution_count": 117,
     "metadata": {},
     "output_type": "execute_result"
    }
   ],
   "source": [
    "n = 21  # number of samples\n",
    "I = 5  # intercept value\n",
    "E = np.random.randint( 1,20, n)  # Error\n",
    "x1 = np.random.randint( 1,n+1, n)\n",
    "x2 = np.random.randint( 1,n+1, n)\n",
    "x3 = np.random.randint( 1,n+1, n)\n",
    "y = 0.1*x1 + 0.2*x2 + 0.3*x3 + E + I\n",
    "mydf = pd.DataFrame({\n",
    "    'y':y,\n",
    "    'x1':x1,\n",
    "    'x2':x2,\n",
    "    'x3':x3\n",
    "})\n",
    "mydf.shape"
   ]
  },
  {
   "cell_type": "markdown",
   "metadata": {},
   "source": [
    "### One Time Split\n",
    "\n",
    "sklearn::train_test_split() has two forms:\n",
    "- Take one DF, split into 2 DF (most of sklearn modeling use this method\n",
    "- Take two DFs, split into 4 DF"
   ]
  },
  {
   "cell_type": "code",
   "execution_count": 118,
   "metadata": {},
   "outputs": [
    {
     "data": {
      "text/plain": [
       "   x1  x2  x3     y\n",
       "0   3  18   9  13.6\n",
       "1   5  15   8  25.9\n",
       "2   4  21  14  19.8\n",
       "3  16   2  20  19.0\n",
       "4  17  11  16  22.7"
      ]
     },
     "execution_count": 118,
     "metadata": {},
     "output_type": "execute_result"
    }
   ],
   "source": [
    "mydf.head()"
   ]
  },
  {
   "cell_type": "markdown",
   "metadata": {},
   "source": [
    "#### Method 1: Split One Dataframe Into Two (Train & Test)\n",
    "\n",
    "```\n",
    "traindf, testdf = train_test_split( df, test_size=, random_state= ) \n",
    " # random_state : seed number (integer), optional\n",
    " # test_size    : fraction of 1, 0.2 means 20%\n",
    "```"
   ]
  },
  {
   "cell_type": "code",
   "execution_count": 119,
   "metadata": {},
   "outputs": [],
   "source": [
    "traindf, testdf = train_test_split(mydf,test_size=0.2, random_state=25)"
   ]
  },
  {
   "cell_type": "code",
   "execution_count": 120,
   "metadata": {},
   "outputs": [
    {
     "name": "stdout",
     "output_type": "stream",
     "text": [
      "16\n",
      "5\n"
     ]
    }
   ],
   "source": [
    "print (len(traindf))\n",
    "print (len(testdf))"
   ]
  },
  {
   "cell_type": "markdown",
   "metadata": {},
   "source": [
    "#### Method 2: Split Two DataFrame (X,Y) into Four x_train/test, y_train/test\n",
    "```\n",
    "x_train, x_test, y_train, y_test = train_test_split( X,Y, test_size=, random_state= )\n",
    " # random_state : seed number (integer), optional\n",
    " # test_size    : fraction of 1, 0.2 means 20%\n",
    "```"
   ]
  },
  {
   "cell_type": "markdown",
   "metadata": {},
   "source": [
    "**Split DataFrame into X and Y First**"
   ]
  },
  {
   "cell_type": "code",
   "execution_count": 121,
   "metadata": {},
   "outputs": [],
   "source": [
    "feature_cols = ['x1','x2','x3']\n",
    "X = mydf[feature_cols]\n",
    "Y = mydf.y"
   ]
  },
  {
   "cell_type": "markdown",
   "metadata": {},
   "source": [
    "**Then Split X/Y into x_train/test, y_train/test**"
   ]
  },
  {
   "cell_type": "code",
   "execution_count": 122,
   "metadata": {},
   "outputs": [
    {
     "name": "stdout",
     "output_type": "stream",
     "text": [
      "16\n",
      "5\n"
     ]
    }
   ],
   "source": [
    "x_train, x_test, y_train, y_test = train_test_split( X,Y, test_size=0.2, random_state=25)\n",
    "print (len(x_train))\n",
    "print (len(x_test))"
   ]
  },
  {
   "cell_type": "markdown",
   "metadata": {},
   "source": [
    "### K-Fold\n",
    "```\n",
    "KFold(n_splits=3, shuffle=False, random_state=None)\n",
    "```"
   ]
  },
  {
   "cell_type": "markdown",
   "metadata": {},
   "source": [
    "**suffle=False** (default)"
   ]
  },
  {
   "cell_type": "code",
   "execution_count": 123,
   "metadata": {},
   "outputs": [],
   "source": [
    "kf = KFold(n_splits=7)"
   ]
  },
  {
   "cell_type": "code",
   "execution_count": 124,
   "metadata": {
    "scrolled": true
   },
   "outputs": [
    {
     "name": "stdout",
     "output_type": "stream",
     "text": [
      "[ 3  4  5  6  7  8  9 10 11 12 13 14 15 16 17 18 19 20] [0 1 2]\n",
      "[ 0  1  2  6  7  8  9 10 11 12 13 14 15 16 17 18 19 20] [3 4 5]\n",
      "[ 0  1  2  3  4  5  9 10 11 12 13 14 15 16 17 18 19 20] [6 7 8]\n",
      "[ 0  1  2  3  4  5  6  7  8 12 13 14 15 16 17 18 19 20] [ 9 10 11]\n",
      "[ 0  1  2  3  4  5  6  7  8  9 10 11 15 16 17 18 19 20] [12 13 14]\n",
      "[ 0  1  2  3  4  5  6  7  8  9 10 11 12 13 14 18 19 20] [15 16 17]\n",
      "[ 0  1  2  3  4  5  6  7  8  9 10 11 12 13 14 15 16 17] [18 19 20]\n"
     ]
    }
   ],
   "source": [
    "for train_index, test_index in kf.split(X):\n",
    "  print (train_index, test_index)"
   ]
  },
  {
   "cell_type": "markdown",
   "metadata": {},
   "source": [
    "**suffle=True**"
   ]
  },
  {
   "cell_type": "code",
   "execution_count": 125,
   "metadata": {},
   "outputs": [],
   "source": [
    "kf = KFold(n_splits=7, shuffle=True)"
   ]
  },
  {
   "cell_type": "code",
   "execution_count": 126,
   "metadata": {},
   "outputs": [
    {
     "name": "stdout",
     "output_type": "stream",
     "text": [
      "[ 0  1  2  3  4  5  6  8  9 11 12 13 14 16 17 18 19 20] [ 7 10 15]\n",
      "[ 0  1  2  3  5  6  7  9 10 12 13 14 15 16 17 18 19 20] [ 4  8 11]\n",
      "[ 0  1  2  4  5  7  8  9 10 11 12 13 14 15 16 18 19 20] [ 3  6 17]\n",
      "[ 0  1  2  3  4  5  6  7  8 10 11 12 14 15 16 17 18 19] [ 9 13 20]\n",
      "[ 0  1  2  3  4  5  6  7  8  9 10 11 13 15 16 17 18 20] [12 14 19]\n",
      "[ 0  1  2  3  4  6  7  8  9 10 11 12 13 14 15 17 19 20] [ 5 16 18]\n",
      "[ 3  4  5  6  7  8  9 10 11 12 13 14 15 16 17 18 19 20] [0 1 2]\n"
     ]
    }
   ],
   "source": [
    "for train_index, test_index in kf.split(X):\n",
    "  print (train_index, test_index)"
   ]
  },
  {
   "cell_type": "markdown",
   "metadata": {},
   "source": [
    "### Leave One Out\n",
    "\n",
    "- For a dataset of N rows, Leave One Out will split N-1 times, each time leaving one row as test, remaning as training set.  \n",
    "- Due to the **high number of test sets** (which is the same as the number of samples-1) this cross-validation method can be very costly. For large datasets one should favor KFold."
   ]
  },
  {
   "cell_type": "code",
   "execution_count": 127,
   "metadata": {},
   "outputs": [],
   "source": [
    "loo = LeaveOneOut()"
   ]
  },
  {
   "cell_type": "code",
   "execution_count": 128,
   "metadata": {},
   "outputs": [
    {
     "name": "stdout",
     "output_type": "stream",
     "text": [
      "[ 1  2  3  4  5  6  7  8  9 10 11 12 13 14 15 16 17 18 19 20] [0]\n",
      "[ 0  2  3  4  5  6  7  8  9 10 11 12 13 14 15 16 17 18 19 20] [1]\n",
      "[ 0  1  3  4  5  6  7  8  9 10 11 12 13 14 15 16 17 18 19 20] [2]\n",
      "[ 0  1  2  4  5  6  7  8  9 10 11 12 13 14 15 16 17 18 19 20] [3]\n",
      "[ 0  1  2  3  5  6  7  8  9 10 11 12 13 14 15 16 17 18 19 20] [4]\n",
      "[ 0  1  2  3  4  6  7  8  9 10 11 12 13 14 15 16 17 18 19 20] [5]\n",
      "[ 0  1  2  3  4  5  7  8  9 10 11 12 13 14 15 16 17 18 19 20] [6]\n",
      "[ 0  1  2  3  4  5  6  8  9 10 11 12 13 14 15 16 17 18 19 20] [7]\n",
      "[ 0  1  2  3  4  5  6  7  9 10 11 12 13 14 15 16 17 18 19 20] [8]\n",
      "[ 0  1  2  3  4  5  6  7  8 10 11 12 13 14 15 16 17 18 19 20] [9]\n",
      "[ 0  1  2  3  4  5  6  7  8  9 11 12 13 14 15 16 17 18 19 20] [10]\n",
      "[ 0  1  2  3  4  5  6  7  8  9 10 12 13 14 15 16 17 18 19 20] [11]\n",
      "[ 0  1  2  3  4  5  6  7  8  9 10 11 13 14 15 16 17 18 19 20] [12]\n",
      "[ 0  1  2  3  4  5  6  7  8  9 10 11 12 14 15 16 17 18 19 20] [13]\n",
      "[ 0  1  2  3  4  5  6  7  8  9 10 11 12 13 15 16 17 18 19 20] [14]\n",
      "[ 0  1  2  3  4  5  6  7  8  9 10 11 12 13 14 16 17 18 19 20] [15]\n",
      "[ 0  1  2  3  4  5  6  7  8  9 10 11 12 13 14 15 17 18 19 20] [16]\n",
      "[ 0  1  2  3  4  5  6  7  8  9 10 11 12 13 14 15 16 18 19 20] [17]\n",
      "[ 0  1  2  3  4  5  6  7  8  9 10 11 12 13 14 15 16 17 19 20] [18]\n",
      "[ 0  1  2  3  4  5  6  7  8  9 10 11 12 13 14 15 16 17 18 20] [19]\n",
      "[ 0  1  2  3  4  5  6  7  8  9 10 11 12 13 14 15 16 17 18 19] [20]\n"
     ]
    }
   ],
   "source": [
    "for train_index, test_index in loo.split(X):\n",
    "  print (train_index, test_index)"
   ]
  },
  {
   "cell_type": "code",
   "execution_count": 129,
   "metadata": {},
   "outputs": [
    {
     "data": {
      "text/plain": [
       "    x1  x2  x3\n",
       "0    3  18   9\n",
       "1    5  15   8\n",
       "2    4  21  14\n",
       "3   16   2  20\n",
       "4   17  11  16\n",
       "..  ..  ..  ..\n",
       "16   7  12   2\n",
       "17  12  13  13\n",
       "18  21   1  12\n",
       "19  15   5   5\n",
       "20  20  18  19\n",
       "\n",
       "[21 rows x 3 columns]"
      ]
     },
     "execution_count": 129,
     "metadata": {},
     "output_type": "execute_result"
    }
   ],
   "source": [
    "X"
   ]
  },
  {
   "cell_type": "markdown",
   "metadata": {},
   "source": [
    "## Polynomial Transform\n",
    "This can be used as part of feature engineering, to introduce new features for data that seems to fit with quadradic model."
   ]
  },
  {
   "cell_type": "markdown",
   "metadata": {},
   "source": [
    "### Single Variable"
   ]
  },
  {
   "cell_type": "markdown",
   "metadata": {},
   "source": [
    "#### Sample Data\n",
    "Data must be 2-D before polynomial features can be applied. Code below convert 1D array into 2D array."
   ]
  },
  {
   "cell_type": "code",
   "execution_count": 130,
   "metadata": {},
   "outputs": [
    {
     "data": {
      "text/plain": [
       "array([[1],\n",
       "       [2],\n",
       "       [3],\n",
       "       [4],\n",
       "       [5]])"
      ]
     },
     "execution_count": 130,
     "metadata": {},
     "output_type": "execute_result"
    }
   ],
   "source": [
    "x = np.array([1, 2, 3, 4, 5])\n",
    "X = x[:,np.newaxis]\n",
    "X"
   ]
  },
  {
   "cell_type": "markdown",
   "metadata": {},
   "source": [
    "#### Degree 1\n",
    "One Degree means maintain original features. No new features is created."
   ]
  },
  {
   "cell_type": "code",
   "execution_count": 131,
   "metadata": {},
   "outputs": [
    {
     "data": {
      "text/plain": [
       "array([[ 1.],\n",
       "       [ 2.],\n",
       "       [ 3.],\n",
       "       [ 4.],\n",
       "       [ 5.]])"
      ]
     },
     "execution_count": 131,
     "metadata": {},
     "output_type": "execute_result"
    }
   ],
   "source": [
    "PolynomialFeatures(degree=1, include_bias=False).fit_transform(X)"
   ]
  },
  {
   "cell_type": "markdown",
   "metadata": {},
   "source": [
    "#### Degree 2\n",
    "Degree-1 original   feature:  x  \n",
    "Degree-2 additional features:  x^2  "
   ]
  },
  {
   "cell_type": "code",
   "execution_count": 132,
   "metadata": {},
   "outputs": [
    {
     "data": {
      "text/plain": [
       "array([[  1.,   1.],\n",
       "       [  2.,   4.],\n",
       "       [  3.,   9.],\n",
       "       [  4.,  16.],\n",
       "       [  5.,  25.]])"
      ]
     },
     "execution_count": 132,
     "metadata": {},
     "output_type": "execute_result"
    }
   ],
   "source": [
    "PolynomialFeatures(degree=2, include_bias=False).fit_transform(X)"
   ]
  },
  {
   "cell_type": "markdown",
   "metadata": {},
   "source": [
    "#### Degree 3\n",
    "Degree-1 original   feature:  x  \n",
    "Degree-2 additional features:  x^2  \n",
    "Degree-3 additional features:  x^3"
   ]
  },
  {
   "cell_type": "code",
   "execution_count": 133,
   "metadata": {},
   "outputs": [
    {
     "data": {
      "text/plain": [
       "array([[   1.,    1.,    1.],\n",
       "       [   2.,    4.,    8.],\n",
       "       [   3.,    9.,   27.],\n",
       "       [   4.,   16.,   64.],\n",
       "       [   5.,   25.,  125.]])"
      ]
     },
     "execution_count": 133,
     "metadata": {},
     "output_type": "execute_result"
    }
   ],
   "source": [
    "PolynomialFeatures(degree=3, include_bias=False).fit_transform(X)"
   ]
  },
  {
   "cell_type": "markdown",
   "metadata": {},
   "source": [
    "#### Degree 4\n",
    "Degree-1 original   feature:  x  \n",
    "Degree-2 additional features:  x^2  \n",
    "Degree-3 additional features:  x^3  \n",
    "Degree-3 additional features:  x^4"
   ]
  },
  {
   "cell_type": "code",
   "execution_count": 134,
   "metadata": {},
   "outputs": [
    {
     "data": {
      "text/plain": [
       "array([[   1.,    1.,    1.,    1.],\n",
       "       [   2.,    4.,    8.,   16.],\n",
       "       [   3.,    9.,   27.,   81.],\n",
       "       [   4.,   16.,   64.,  256.],\n",
       "       [   5.,   25.,  125.,  625.]])"
      ]
     },
     "execution_count": 134,
     "metadata": {},
     "output_type": "execute_result"
    }
   ],
   "source": [
    "PolynomialFeatures(degree=4, include_bias=False).fit_transform(X)"
   ]
  },
  {
   "cell_type": "markdown",
   "metadata": {},
   "source": [
    "### Two Variables"
   ]
  },
  {
   "cell_type": "markdown",
   "metadata": {},
   "source": [
    "#### Sample Data"
   ]
  },
  {
   "cell_type": "code",
   "execution_count": 135,
   "metadata": {},
   "outputs": [
    {
     "data": {
      "text/plain": [
       "   x1  x2\n",
       "0   1   6\n",
       "1   2   7\n",
       "2   3   8\n",
       "3   4   9\n",
       "4   5  10"
      ]
     },
     "execution_count": 135,
     "metadata": {},
     "output_type": "execute_result"
    }
   ],
   "source": [
    "X = pd.DataFrame( {'x1': [1, 2, 3, 4, 5 ],\n",
    "                   'x2': [6, 7, 8, 9, 10]})\n",
    "X"
   ]
  },
  {
   "cell_type": "markdown",
   "metadata": {},
   "source": [
    "#### Degree 2\n",
    "```\n",
    "Degree-1 original   features:  x1,     x2  \n",
    "Degree-2 additional features:  x1^2,   x2^2,   x1:x2 \n",
    "```"
   ]
  },
  {
   "cell_type": "code",
   "execution_count": 136,
   "metadata": {},
   "outputs": [
    {
     "data": {
      "text/plain": [
       "array([[   1.,    6.,    1.,    6.,   36.],\n",
       "       [   2.,    7.,    4.,   14.,   49.],\n",
       "       [   3.,    8.,    9.,   24.,   64.],\n",
       "       [   4.,    9.,   16.,   36.,   81.],\n",
       "       [   5.,   10.,   25.,   50.,  100.]])"
      ]
     },
     "execution_count": 136,
     "metadata": {},
     "output_type": "execute_result"
    }
   ],
   "source": [
    "PolynomialFeatures(degree=2, include_bias=False).fit_transform(X)"
   ]
  },
  {
   "cell_type": "markdown",
   "metadata": {},
   "source": [
    "#### Degree 3\n",
    "```\n",
    "Degree-1 original   features:  x1,       x2  \n",
    "Degree-2 additional features:  x1^2,     x2^2,   x1:x2 \n",
    "Degree-3 additional features:  x1^3,     x2^3    x1:x2^2    x2:x1^2\n",
    "```"
   ]
  },
  {
   "cell_type": "code",
   "execution_count": 137,
   "metadata": {},
   "outputs": [
    {
     "data": {
      "text/plain": [
       "array([[    1.,     6.,     1.,     6.,    36.,     1.,     6.,    36.,\n",
       "          216.],\n",
       "       [    2.,     7.,     4.,    14.,    49.,     8.,    28.,    98.,\n",
       "          343.],\n",
       "       [    3.,     8.,     9.,    24.,    64.,    27.,    72.,   192.,\n",
       "          512.],\n",
       "       [    4.,     9.,    16.,    36.,    81.,    64.,   144.,   324.,\n",
       "          729.],\n",
       "       [    5.,    10.,    25.,    50.,   100.,   125.,   250.,   500.,\n",
       "         1000.]])"
      ]
     },
     "execution_count": 137,
     "metadata": {},
     "output_type": "execute_result"
    }
   ],
   "source": [
    "PolynomialFeatures(degree=3, include_bias=False).fit_transform(X)"
   ]
  },
  {
   "cell_type": "markdown",
   "metadata": {},
   "source": [
    "## Imputation of Missing Data"
   ]
  },
  {
   "cell_type": "markdown",
   "metadata": {},
   "source": [
    "### Sample Data"
   ]
  },
  {
   "cell_type": "code",
   "execution_count": 138,
   "metadata": {},
   "outputs": [],
   "source": [
    "from numpy import nan\n",
    "X = np.array([[ nan, 0,   3  ],\n",
    "              [ 3,   7,   9  ],\n",
    "              [ 3,   5,   2  ],\n",
    "              [ 4,   nan, 6  ],\n",
    "              [ 8,   8,   1  ]])\n",
    "\n",
    "y = np.array([14, 16, -1,  8, -5])"
   ]
  },
  {
   "cell_type": "code",
   "execution_count": 139,
   "metadata": {},
   "outputs": [
    {
     "data": {
      "text/plain": [
       "array([[ 4.5,  0. ,  3. ],\n",
       "       [ 3. ,  7. ,  9. ],\n",
       "       [ 3. ,  5. ,  2. ],\n",
       "       [ 4. ,  5. ,  6. ],\n",
       "       [ 8. ,  8. ,  1. ]])"
      ]
     },
     "execution_count": 139,
     "metadata": {},
     "output_type": "execute_result"
    }
   ],
   "source": [
    "imp = Imputer(strategy='mean')\n",
    "X2 = imp.fit_transform(X)\n",
    "X2"
   ]
  },
  {
   "cell_type": "markdown",
   "metadata": {},
   "source": [
    "## Scaling\n",
    "\n",
    "It is possible that some insignificant variable with larger range will be dominating the objective function.  \n",
    "We can remove this problem by scaling down all the features to a same range.\n",
    "\n",
    "### Sample Data"
   ]
  },
  {
   "cell_type": "code",
   "execution_count": 140,
   "metadata": {},
   "outputs": [
    {
     "data": {
      "text/plain": [
       "   x1  x2  x3\n",
       "0   3  18   9\n",
       "1   5  15   8\n",
       "2   4  21  14\n",
       "3  16   2  20\n",
       "4  17  11  16"
      ]
     },
     "execution_count": 140,
     "metadata": {},
     "output_type": "execute_result"
    }
   ],
   "source": [
    "X=mydf.filter(like='x')[:5]\n",
    "X"
   ]
  },
  {
   "cell_type": "markdown",
   "metadata": {},
   "source": [
    "### MinMax Scaler\n",
    "\n",
    "```\n",
    "MinMaxScaler( feature_range(0,1), copy=True )\n",
    "# default feature range (output result) from 0 to 1\n",
    "# default return a copy of new array, copy=False will inplace original array\n",
    "```"
   ]
  },
  {
   "cell_type": "markdown",
   "metadata": {},
   "source": [
    "**Define Scaler Object**"
   ]
  },
  {
   "cell_type": "code",
   "execution_count": 141,
   "metadata": {},
   "outputs": [],
   "source": [
    "scaler = MinMaxScaler()"
   ]
  },
  {
   "cell_type": "markdown",
   "metadata": {},
   "source": [
    "**Transform Data**"
   ]
  },
  {
   "cell_type": "code",
   "execution_count": 142,
   "metadata": {},
   "outputs": [
    {
     "data": {
      "text/plain": [
       "array([[ 0.        ,  0.84210526,  0.08333333],\n",
       "       [ 0.14285714,  0.68421053,  0.        ],\n",
       "       [ 0.07142857,  1.        ,  0.5       ],\n",
       "       [ 0.92857143,  0.        ,  1.        ],\n",
       "       [ 1.        ,  0.47368421,  0.66666667]])"
      ]
     },
     "execution_count": 142,
     "metadata": {},
     "output_type": "execute_result"
    }
   ],
   "source": [
    "scaler.fit_transform(X)"
   ]
  },
  {
   "cell_type": "markdown",
   "metadata": {},
   "source": [
    "**Scaler Attributes**  \n",
    "```\n",
    "data_min_: minimum value of the feature (before scaling)  \n",
    "data_max_: maximum value of the feature (before scaling)  \n",
    "```"
   ]
  },
  {
   "cell_type": "code",
   "execution_count": 143,
   "metadata": {},
   "outputs": [
    {
     "data": {
      "text/plain": [
       "    data_min  data_max\n",
       "x1       3.0      17.0\n",
       "x2       2.0      21.0\n",
       "x3       8.0      20.0"
      ]
     },
     "execution_count": 143,
     "metadata": {},
     "output_type": "execute_result"
    }
   ],
   "source": [
    "pd.DataFrame(list(zip(scaler.data_min_, scaler.data_max_)), \n",
    "             columns=['data_min','data_max'], \n",
    "             index=X.columns)"
   ]
  },
  {
   "cell_type": "markdown",
   "metadata": {},
   "source": [
    "### Standard Scaler\n",
    "\n",
    "It is most suitable for techniques that assume a Gaussian distribution in the input variables and work better with rescaled data, such as linear regression, logistic regression and linear discriminate analysis.\n",
    "\n",
    "```\n",
    "StandardScaler(copy=True, with_mean=True, with_std=True)\n",
    "# copy=True : return a copy of data, instead of inplace\n",
    "# with_mean=True : centre all features by substracting with its mean\n",
    "# with_std=True  : centre all features by dividing with its std\n",
    "```"
   ]
  },
  {
   "cell_type": "markdown",
   "metadata": {},
   "source": [
    "**Define Scaler Object**"
   ]
  },
  {
   "cell_type": "code",
   "execution_count": 144,
   "metadata": {},
   "outputs": [],
   "source": [
    "scaler = StandardScaler()"
   ]
  },
  {
   "cell_type": "markdown",
   "metadata": {},
   "source": [
    "**Transform Data**"
   ]
  },
  {
   "cell_type": "code",
   "execution_count": 145,
   "metadata": {},
   "outputs": [
    {
     "data": {
      "text/plain": [
       "array([[-0.97332853,  0.6979317 , -0.98782916],\n",
       "       [-0.64888568,  0.24275885, -1.21233579],\n",
       "       [-0.81110711,  1.15310455,  0.13470398],\n",
       "       [ 1.13554995, -1.72965682,  1.48174374],\n",
       "       [ 1.29777137, -0.36413828,  0.58371723]])"
      ]
     },
     "execution_count": 145,
     "metadata": {},
     "output_type": "execute_result"
    }
   ],
   "source": [
    "scaler.fit_transform(X)"
   ]
  },
  {
   "cell_type": "markdown",
   "metadata": {},
   "source": [
    "**Scaler Attributes**  \n",
    "After the data transformation step above, scaler will have the mean and variance information for each feature."
   ]
  },
  {
   "cell_type": "code",
   "execution_count": 146,
   "metadata": {},
   "outputs": [
    {
     "data": {
      "text/plain": [
       "    mean  variance\n",
       "x1   9.0     38.00\n",
       "x2  13.4     43.44\n",
       "x3  13.4     19.84"
      ]
     },
     "execution_count": 146,
     "metadata": {},
     "output_type": "execute_result"
    }
   ],
   "source": [
    "pd.DataFrame(list(zip(scaler.mean_, scaler.var_)), \n",
    "             columns=['mean','variance'], \n",
    "             index=X.columns)"
   ]
  },
  {
   "cell_type": "markdown",
   "metadata": {},
   "source": [
    "## Pipeline"
   ]
  },
  {
   "cell_type": "markdown",
   "metadata": {},
   "source": [
    "With any of the preceding examples, it can quickly become tedious to do the transformations by hand, especially if you wish to string together multiple steps. For example, we might want a processing pipeline that looks something like this:\n",
    "\n",
    "- **Impute** missing values using the mean  \n",
    "- **Transform** features to quadratic  \n",
    "- **Fit** a linear regression  \n",
    "\n",
    "**make_pipeline** takes list of functions as parameters. When calling **fit()** on a pipeline object, these functions will be performed in sequential with data flow from one function to another.\n",
    "\n",
    "```\n",
    "make_pipeline (\n",
    "    function_1 (),\n",
    "    function_2 (),\n",
    "    function_3 ()\n",
    " )\n",
    "```"
   ]
  },
  {
   "cell_type": "markdown",
   "metadata": {},
   "source": [
    "### Sample Data"
   ]
  },
  {
   "cell_type": "code",
   "execution_count": 147,
   "metadata": {},
   "outputs": [
    {
     "data": {
      "text/plain": [
       "(   x1  x2  x3\n",
       " 0   3  18   9\n",
       " 1   5  15   8\n",
       " 2   4  21  14\n",
       " 3  16   2  20\n",
       " 4  17  11  16, array([14, 16, -1,  8, -5]))"
      ]
     },
     "execution_count": 147,
     "metadata": {},
     "output_type": "execute_result"
    }
   ],
   "source": [
    "(X,y)"
   ]
  },
  {
   "cell_type": "markdown",
   "metadata": {},
   "source": [
    "### Create Pipeline"
   ]
  },
  {
   "cell_type": "code",
   "execution_count": 148,
   "metadata": {},
   "outputs": [
    {
     "data": {
      "text/plain": [
       "sklearn.pipeline.Pipeline"
      ]
     },
     "execution_count": 148,
     "metadata": {},
     "output_type": "execute_result"
    }
   ],
   "source": [
    "my_pipe = make_pipeline (\n",
    "    Imputer            (strategy='mean'),\n",
    "    PolynomialFeatures (degree=2),\n",
    "    LinearRegression   ()\n",
    ")\n",
    "type(my_pipe)"
   ]
  },
  {
   "cell_type": "code",
   "execution_count": 149,
   "metadata": {},
   "outputs": [
    {
     "data": {
      "text/plain": [
       "Pipeline(memory=None,\n",
       "     steps=[('imputer', Imputer(axis=0, copy=True, missing_values='NaN', strategy='mean', verbose=0)), ('polynomialfeatures', PolynomialFeatures(degree=2, include_bias=True, interaction_only=False)), ('linearregression', LinearRegression(copy_X=True, fit_intercept=True, n_jobs=1, normalize=False))])"
      ]
     },
     "execution_count": 149,
     "metadata": {},
     "output_type": "execute_result"
    }
   ],
   "source": [
    "my_pipe"
   ]
  },
  {
   "cell_type": "markdown",
   "metadata": {},
   "source": [
    "### Executing Pipeline"
   ]
  },
  {
   "cell_type": "code",
   "execution_count": 150,
   "metadata": {},
   "outputs": [
    {
     "name": "stdout",
     "output_type": "stream",
     "text": [
      "[14 16 -1  8 -5]\n",
      "[ 14.  16.  -1.   8.  -5.]\n"
     ]
    }
   ],
   "source": [
    "my_pipe.fit( X, y) # execute the pipeline\n",
    "print (y)\n",
    "print (my_pipe.predict(X))"
   ]
  },
  {
   "cell_type": "markdown",
   "metadata": {},
   "source": [
    "## Cross Validation"
   ]
  },
  {
   "cell_type": "markdown",
   "metadata": {},
   "source": [
    "### Sample Data"
   ]
  },
  {
   "cell_type": "code",
   "execution_count": 151,
   "metadata": {},
   "outputs": [
    {
     "data": {
      "text/plain": [
       "array([[ 0,  1,  2],\n",
       "       [ 3,  4,  5],\n",
       "       [ 6,  7,  8],\n",
       "       [ 9, 10, 11],\n",
       "       [12, 13, 14],\n",
       "       [15, 16, 17],\n",
       "       [18, 19, 20]])"
      ]
     },
     "execution_count": 151,
     "metadata": {},
     "output_type": "execute_result"
    }
   ],
   "source": [
    "X = np.arange(21).reshape(7,3)\n",
    "X"
   ]
  },
  {
   "cell_type": "markdown",
   "metadata": {},
   "source": [
    "### K-Fold\n",
    "```\n",
    "KFold(n_splits=3, shuffle=False, random_state=None)\n",
    "```"
   ]
  },
  {
   "cell_type": "code",
   "execution_count": 152,
   "metadata": {},
   "outputs": [],
   "source": [
    "kf = KFold(n_splits=7)"
   ]
  },
  {
   "cell_type": "code",
   "execution_count": 153,
   "metadata": {},
   "outputs": [
    {
     "data": {
      "text/plain": [
       "KFold(n_splits=7, random_state=None, shuffle=False)"
      ]
     },
     "execution_count": 153,
     "metadata": {},
     "output_type": "execute_result"
    }
   ],
   "source": [
    "kf"
   ]
  },
  {
   "cell_type": "code",
   "execution_count": 154,
   "metadata": {
    "scrolled": true
   },
   "outputs": [
    {
     "name": "stdout",
     "output_type": "stream",
     "text": [
      "[1 2 3 4 5 6] [0]\n",
      "[0 2 3 4 5 6] [1]\n",
      "[0 1 3 4 5 6] [2]\n",
      "[0 1 2 4 5 6] [3]\n",
      "[0 1 2 3 5 6] [4]\n",
      "[0 1 2 3 4 6] [5]\n",
      "[0 1 2 3 4 5] [6]\n"
     ]
    }
   ],
   "source": [
    "for train_index, test_index in kf.split(X):\n",
    " print (train_index, test_index)"
   ]
  },
  {
   "cell_type": "markdown",
   "metadata": {},
   "source": [
    "### Leave One Out"
   ]
  },
  {
   "cell_type": "code",
   "execution_count": null,
   "metadata": {},
   "outputs": [],
   "source": []
  },
  {
   "cell_type": "code",
   "execution_count": null,
   "metadata": {},
   "outputs": [],
   "source": []
  },
  {
   "cell_type": "code",
   "execution_count": null,
   "metadata": {},
   "outputs": [],
   "source": []
  },
  {
   "cell_type": "markdown",
   "metadata": {},
   "source": [
    "# Linear Regression"
   ]
  },
  {
   "cell_type": "markdown",
   "metadata": {},
   "source": [
    "## The Library"
   ]
  },
  {
   "cell_type": "code",
   "execution_count": 155,
   "metadata": {},
   "outputs": [],
   "source": [
    "from sklearn.model_selection import train_test_split\n",
    "from sklearn.linear_model    import LinearRegression\n",
    "from sklearn.metrics         import mean_absolute_error, mean_squared_error\n",
    "import statsmodels.api       as sm"
   ]
  },
  {
   "cell_type": "markdown",
   "metadata": {
    "heading_collapsed": true
   },
   "source": [
    "## The Math"
   ]
  },
  {
   "cell_type": "markdown",
   "metadata": {
    "heading_collapsed": true
   },
   "source": [
    "## Sample Data"
   ]
  },
  {
   "cell_type": "markdown",
   "metadata": {
    "hidden": true
   },
   "source": [
    "### Data Emulation"
   ]
  },
  {
   "cell_type": "code",
   "execution_count": 156,
   "metadata": {
    "hidden": true
   },
   "outputs": [],
   "source": [
    "n = 200  # number of samples\n",
    "I = 250  # intercept value\n",
    "E = np.random.randint( 1,20, n)  # Error\n",
    "X1 = np.random.randint( 1,n+1, n)\n",
    "X2 = np.random.randint( 1,n+1, n)\n",
    "X3 = np.random.randint( 1,n+1, n)\n",
    "Y = 0.1*X1 + 0.2*X2 + 0.3*X3 + E + I"
   ]
  },
  {
   "cell_type": "markdown",
   "metadata": {
    "hidden": true
   },
   "source": [
    "**Put All Data In pandas DataFrame**"
   ]
  },
  {
   "cell_type": "code",
   "execution_count": 157,
   "metadata": {
    "hidden": true
   },
   "outputs": [
    {
     "data": {
      "text/plain": [
       "    X1   X2   X3      Y\n",
       "0  109  167  134  335.5\n",
       "1   45   23  155  306.6\n",
       "2  173  137   71  322.0\n",
       "3  176  128  112  342.8\n",
       "4   39  192   41  321.6"
      ]
     },
     "execution_count": 157,
     "metadata": {},
     "output_type": "execute_result"
    }
   ],
   "source": [
    "mydf = pd.DataFrame({\n",
    "    'Y':Y,\n",
    "    'X1':X1,\n",
    "    'X2':X2,\n",
    "    'X3':X3\n",
    "})\n",
    "mydf.head()"
   ]
  },
  {
   "cell_type": "markdown",
   "metadata": {
    "hidden": true
   },
   "source": [
    "### Data Validation"
   ]
  },
  {
   "cell_type": "markdown",
   "metadata": {
    "hidden": true
   },
   "source": [
    "Ensure there is **no col-linearity** among the features used"
   ]
  },
  {
   "cell_type": "markdown",
   "metadata": {
    "hidden": true
   },
   "source": [
    "#### Colleration Check"
   ]
  },
  {
   "cell_type": "markdown",
   "metadata": {
    "hidden": true
   },
   "source": [
    "**Correlation Text Output**"
   ]
  },
  {
   "cell_type": "code",
   "execution_count": 158,
   "metadata": {
    "hidden": true
   },
   "outputs": [
    {
     "data": {
      "text/plain": [
       "          X1        X2        X3         Y\n",
       "X1  1.000000  0.103840 -0.055279  0.240271\n",
       "X2  0.103840  1.000000 -0.031845  0.495251\n",
       "X3 -0.055279 -0.031845  1.000000  0.782254\n",
       "Y   0.240271  0.495251  0.782254  1.000000"
      ]
     },
     "execution_count": 158,
     "metadata": {},
     "output_type": "execute_result"
    }
   ],
   "source": [
    "my_corr = mydf.corr()\n",
    "my_corr"
   ]
  },
  {
   "cell_type": "markdown",
   "metadata": {
    "hidden": true
   },
   "source": [
    "**Correlation HTML Output**"
   ]
  },
  {
   "cell_type": "code",
   "execution_count": 159,
   "metadata": {
    "hidden": true
   },
   "outputs": [
    {
     "data": {
      "text/html": [
       "<style  type=\"text/css\" >\n",
       "    #T_a7fbe8c0_6c55_11e8_86ac_dc5360477bd7row0_col0 {\n",
       "            background-color:  #023858;\n",
       "        }    #T_a7fbe8c0_6c55_11e8_86ac_dc5360477bd7row0_col1 {\n",
       "            background-color:  #ebe6f2;\n",
       "        }    #T_a7fbe8c0_6c55_11e8_86ac_dc5360477bd7row0_col2 {\n",
       "            background-color:  #fff7fb;\n",
       "        }    #T_a7fbe8c0_6c55_11e8_86ac_dc5360477bd7row0_col3 {\n",
       "            background-color:  #fff7fb;\n",
       "        }    #T_a7fbe8c0_6c55_11e8_86ac_dc5360477bd7row1_col0 {\n",
       "            background-color:  #e7e3f0;\n",
       "        }    #T_a7fbe8c0_6c55_11e8_86ac_dc5360477bd7row1_col1 {\n",
       "            background-color:  #023858;\n",
       "        }    #T_a7fbe8c0_6c55_11e8_86ac_dc5360477bd7row1_col2 {\n",
       "            background-color:  #fcf4fa;\n",
       "        }    #T_a7fbe8c0_6c55_11e8_86ac_dc5360477bd7row1_col3 {\n",
       "            background-color:  #b4c4df;\n",
       "        }    #T_a7fbe8c0_6c55_11e8_86ac_dc5360477bd7row2_col0 {\n",
       "            background-color:  #fff7fb;\n",
       "        }    #T_a7fbe8c0_6c55_11e8_86ac_dc5360477bd7row2_col1 {\n",
       "            background-color:  #fff7fb;\n",
       "        }    #T_a7fbe8c0_6c55_11e8_86ac_dc5360477bd7row2_col2 {\n",
       "            background-color:  #023858;\n",
       "        }    #T_a7fbe8c0_6c55_11e8_86ac_dc5360477bd7row2_col3 {\n",
       "            background-color:  #1379b5;\n",
       "        }    #T_a7fbe8c0_6c55_11e8_86ac_dc5360477bd7row3_col0 {\n",
       "            background-color:  #c6cce3;\n",
       "        }    #T_a7fbe8c0_6c55_11e8_86ac_dc5360477bd7row3_col1 {\n",
       "            background-color:  #6fa7ce;\n",
       "        }    #T_a7fbe8c0_6c55_11e8_86ac_dc5360477bd7row3_col2 {\n",
       "            background-color:  #0568a3;\n",
       "        }    #T_a7fbe8c0_6c55_11e8_86ac_dc5360477bd7row3_col3 {\n",
       "            background-color:  #023858;\n",
       "        }</style>  \n",
       "<table id=\"T_a7fbe8c0_6c55_11e8_86ac_dc5360477bd7\" > \n",
       "<thead>    <tr> \n",
       "        <th class=\"blank level0\" ></th> \n",
       "        <th class=\"col_heading level0 col0\" >X1</th> \n",
       "        <th class=\"col_heading level0 col1\" >X2</th> \n",
       "        <th class=\"col_heading level0 col2\" >X3</th> \n",
       "        <th class=\"col_heading level0 col3\" >Y</th> \n",
       "    </tr></thead> \n",
       "<tbody>    <tr> \n",
       "        <th id=\"T_a7fbe8c0_6c55_11e8_86ac_dc5360477bd7level0_row0\" class=\"row_heading level0 row0\" >X1</th> \n",
       "        <td id=\"T_a7fbe8c0_6c55_11e8_86ac_dc5360477bd7row0_col0\" class=\"data row0 col0\" >1</td> \n",
       "        <td id=\"T_a7fbe8c0_6c55_11e8_86ac_dc5360477bd7row0_col1\" class=\"data row0 col1\" >0.1</td> \n",
       "        <td id=\"T_a7fbe8c0_6c55_11e8_86ac_dc5360477bd7row0_col2\" class=\"data row0 col2\" >-0.055</td> \n",
       "        <td id=\"T_a7fbe8c0_6c55_11e8_86ac_dc5360477bd7row0_col3\" class=\"data row0 col3\" >0.24</td> \n",
       "    </tr>    <tr> \n",
       "        <th id=\"T_a7fbe8c0_6c55_11e8_86ac_dc5360477bd7level0_row1\" class=\"row_heading level0 row1\" >X2</th> \n",
       "        <td id=\"T_a7fbe8c0_6c55_11e8_86ac_dc5360477bd7row1_col0\" class=\"data row1 col0\" >0.1</td> \n",
       "        <td id=\"T_a7fbe8c0_6c55_11e8_86ac_dc5360477bd7row1_col1\" class=\"data row1 col1\" >1</td> \n",
       "        <td id=\"T_a7fbe8c0_6c55_11e8_86ac_dc5360477bd7row1_col2\" class=\"data row1 col2\" >-0.032</td> \n",
       "        <td id=\"T_a7fbe8c0_6c55_11e8_86ac_dc5360477bd7row1_col3\" class=\"data row1 col3\" >0.5</td> \n",
       "    </tr>    <tr> \n",
       "        <th id=\"T_a7fbe8c0_6c55_11e8_86ac_dc5360477bd7level0_row2\" class=\"row_heading level0 row2\" >X3</th> \n",
       "        <td id=\"T_a7fbe8c0_6c55_11e8_86ac_dc5360477bd7row2_col0\" class=\"data row2 col0\" >-0.055</td> \n",
       "        <td id=\"T_a7fbe8c0_6c55_11e8_86ac_dc5360477bd7row2_col1\" class=\"data row2 col1\" >-0.032</td> \n",
       "        <td id=\"T_a7fbe8c0_6c55_11e8_86ac_dc5360477bd7row2_col2\" class=\"data row2 col2\" >1</td> \n",
       "        <td id=\"T_a7fbe8c0_6c55_11e8_86ac_dc5360477bd7row2_col3\" class=\"data row2 col3\" >0.78</td> \n",
       "    </tr>    <tr> \n",
       "        <th id=\"T_a7fbe8c0_6c55_11e8_86ac_dc5360477bd7level0_row3\" class=\"row_heading level0 row3\" >Y</th> \n",
       "        <td id=\"T_a7fbe8c0_6c55_11e8_86ac_dc5360477bd7row3_col0\" class=\"data row3 col0\" >0.24</td> \n",
       "        <td id=\"T_a7fbe8c0_6c55_11e8_86ac_dc5360477bd7row3_col1\" class=\"data row3 col1\" >0.5</td> \n",
       "        <td id=\"T_a7fbe8c0_6c55_11e8_86ac_dc5360477bd7row3_col2\" class=\"data row3 col2\" >0.78</td> \n",
       "        <td id=\"T_a7fbe8c0_6c55_11e8_86ac_dc5360477bd7row3_col3\" class=\"data row3 col3\" >1</td> \n",
       "    </tr></tbody> \n",
       "</table> "
      ],
      "text/plain": [
       "<pandas.io.formats.style.Styler at 0x2413b278278>"
      ]
     },
     "execution_count": 159,
     "metadata": {},
     "output_type": "execute_result"
    }
   ],
   "source": [
    "my_corr.style.background_gradient().set_precision(2)"
   ]
  },
  {
   "cell_type": "markdown",
   "metadata": {
    "hidden": true
   },
   "source": [
    "**Correlation HTML Output without Annotation**"
   ]
  },
  {
   "cell_type": "code",
   "execution_count": 160,
   "metadata": {
    "hidden": true
   },
   "outputs": [
    {
     "data": {
      "text/html": [
       "<style  type=\"text/css\" >\n",
       "    #T_a801663a_6c55_11e8_b7d3_dc5360477bd7row0_col0 {\n",
       "            background-color:  #023858;\n",
       "            font-size:  0pt;\n",
       "        }    #T_a801663a_6c55_11e8_b7d3_dc5360477bd7row0_col1 {\n",
       "            background-color:  #ebe6f2;\n",
       "            font-size:  0pt;\n",
       "        }    #T_a801663a_6c55_11e8_b7d3_dc5360477bd7row0_col2 {\n",
       "            background-color:  #fff7fb;\n",
       "            font-size:  0pt;\n",
       "        }    #T_a801663a_6c55_11e8_b7d3_dc5360477bd7row0_col3 {\n",
       "            background-color:  #fff7fb;\n",
       "            font-size:  0pt;\n",
       "        }    #T_a801663a_6c55_11e8_b7d3_dc5360477bd7row1_col0 {\n",
       "            background-color:  #e7e3f0;\n",
       "            font-size:  0pt;\n",
       "        }    #T_a801663a_6c55_11e8_b7d3_dc5360477bd7row1_col1 {\n",
       "            background-color:  #023858;\n",
       "            font-size:  0pt;\n",
       "        }    #T_a801663a_6c55_11e8_b7d3_dc5360477bd7row1_col2 {\n",
       "            background-color:  #fcf4fa;\n",
       "            font-size:  0pt;\n",
       "        }    #T_a801663a_6c55_11e8_b7d3_dc5360477bd7row1_col3 {\n",
       "            background-color:  #b4c4df;\n",
       "            font-size:  0pt;\n",
       "        }    #T_a801663a_6c55_11e8_b7d3_dc5360477bd7row2_col0 {\n",
       "            background-color:  #fff7fb;\n",
       "            font-size:  0pt;\n",
       "        }    #T_a801663a_6c55_11e8_b7d3_dc5360477bd7row2_col1 {\n",
       "            background-color:  #fff7fb;\n",
       "            font-size:  0pt;\n",
       "        }    #T_a801663a_6c55_11e8_b7d3_dc5360477bd7row2_col2 {\n",
       "            background-color:  #023858;\n",
       "            font-size:  0pt;\n",
       "        }    #T_a801663a_6c55_11e8_b7d3_dc5360477bd7row2_col3 {\n",
       "            background-color:  #1379b5;\n",
       "            font-size:  0pt;\n",
       "        }    #T_a801663a_6c55_11e8_b7d3_dc5360477bd7row3_col0 {\n",
       "            background-color:  #c6cce3;\n",
       "            font-size:  0pt;\n",
       "        }    #T_a801663a_6c55_11e8_b7d3_dc5360477bd7row3_col1 {\n",
       "            background-color:  #6fa7ce;\n",
       "            font-size:  0pt;\n",
       "        }    #T_a801663a_6c55_11e8_b7d3_dc5360477bd7row3_col2 {\n",
       "            background-color:  #0568a3;\n",
       "            font-size:  0pt;\n",
       "        }    #T_a801663a_6c55_11e8_b7d3_dc5360477bd7row3_col3 {\n",
       "            background-color:  #023858;\n",
       "            font-size:  0pt;\n",
       "        }</style>  \n",
       "<table id=\"T_a801663a_6c55_11e8_b7d3_dc5360477bd7\" > \n",
       "<thead>    <tr> \n",
       "        <th class=\"blank level0\" ></th> \n",
       "        <th class=\"col_heading level0 col0\" >X1</th> \n",
       "        <th class=\"col_heading level0 col1\" >X2</th> \n",
       "        <th class=\"col_heading level0 col2\" >X3</th> \n",
       "        <th class=\"col_heading level0 col3\" >Y</th> \n",
       "    </tr></thead> \n",
       "<tbody>    <tr> \n",
       "        <th id=\"T_a801663a_6c55_11e8_b7d3_dc5360477bd7level0_row0\" class=\"row_heading level0 row0\" >X1</th> \n",
       "        <td id=\"T_a801663a_6c55_11e8_b7d3_dc5360477bd7row0_col0\" class=\"data row0 col0\" >1</td> \n",
       "        <td id=\"T_a801663a_6c55_11e8_b7d3_dc5360477bd7row0_col1\" class=\"data row0 col1\" >0.10384</td> \n",
       "        <td id=\"T_a801663a_6c55_11e8_b7d3_dc5360477bd7row0_col2\" class=\"data row0 col2\" >-0.0552788</td> \n",
       "        <td id=\"T_a801663a_6c55_11e8_b7d3_dc5360477bd7row0_col3\" class=\"data row0 col3\" >0.240271</td> \n",
       "    </tr>    <tr> \n",
       "        <th id=\"T_a801663a_6c55_11e8_b7d3_dc5360477bd7level0_row1\" class=\"row_heading level0 row1\" >X2</th> \n",
       "        <td id=\"T_a801663a_6c55_11e8_b7d3_dc5360477bd7row1_col0\" class=\"data row1 col0\" >0.10384</td> \n",
       "        <td id=\"T_a801663a_6c55_11e8_b7d3_dc5360477bd7row1_col1\" class=\"data row1 col1\" >1</td> \n",
       "        <td id=\"T_a801663a_6c55_11e8_b7d3_dc5360477bd7row1_col2\" class=\"data row1 col2\" >-0.0318449</td> \n",
       "        <td id=\"T_a801663a_6c55_11e8_b7d3_dc5360477bd7row1_col3\" class=\"data row1 col3\" >0.495251</td> \n",
       "    </tr>    <tr> \n",
       "        <th id=\"T_a801663a_6c55_11e8_b7d3_dc5360477bd7level0_row2\" class=\"row_heading level0 row2\" >X3</th> \n",
       "        <td id=\"T_a801663a_6c55_11e8_b7d3_dc5360477bd7row2_col0\" class=\"data row2 col0\" >-0.0552788</td> \n",
       "        <td id=\"T_a801663a_6c55_11e8_b7d3_dc5360477bd7row2_col1\" class=\"data row2 col1\" >-0.0318449</td> \n",
       "        <td id=\"T_a801663a_6c55_11e8_b7d3_dc5360477bd7row2_col2\" class=\"data row2 col2\" >1</td> \n",
       "        <td id=\"T_a801663a_6c55_11e8_b7d3_dc5360477bd7row2_col3\" class=\"data row2 col3\" >0.782254</td> \n",
       "    </tr>    <tr> \n",
       "        <th id=\"T_a801663a_6c55_11e8_b7d3_dc5360477bd7level0_row3\" class=\"row_heading level0 row3\" >Y</th> \n",
       "        <td id=\"T_a801663a_6c55_11e8_b7d3_dc5360477bd7row3_col0\" class=\"data row3 col0\" >0.240271</td> \n",
       "        <td id=\"T_a801663a_6c55_11e8_b7d3_dc5360477bd7row3_col1\" class=\"data row3 col1\" >0.495251</td> \n",
       "        <td id=\"T_a801663a_6c55_11e8_b7d3_dc5360477bd7row3_col2\" class=\"data row3 col2\" >0.782254</td> \n",
       "        <td id=\"T_a801663a_6c55_11e8_b7d3_dc5360477bd7row3_col3\" class=\"data row3 col3\" >1</td> \n",
       "    </tr></tbody> \n",
       "</table> "
      ],
      "text/plain": [
       "<pandas.io.formats.style.Styler at 0x2413af20080>"
      ]
     },
     "execution_count": 160,
     "metadata": {},
     "output_type": "execute_result"
    }
   ],
   "source": [
    "my_corr.style.background_gradient().set_properties(**{'font-size': '0pt'})"
   ]
  },
  {
   "cell_type": "markdown",
   "metadata": {
    "hidden": true
   },
   "source": [
    "#### Matrix Scatter Plot"
   ]
  },
  {
   "cell_type": "code",
   "execution_count": 161,
   "metadata": {
    "hidden": true,
    "scrolled": true
   },
   "outputs": [
    {
     "data": {
      "image/png": "[encoded data removed]",
      "text/plain": [
       "<matplotlib.figure.Figure at 0x2413af205c0>"
      ]
     },
     "metadata": {},
     "output_type": "display_data"
    }
   ],
   "source": [
    "pd.plotting.scatter_matrix(mydf, alpha=0.2, figsize=(6, 6), diagonal='hist');"
   ]
  },
  {
   "cell_type": "code",
   "execution_count": 162,
   "metadata": {
    "hidden": true
   },
   "outputs": [
    {
     "ename": "AttributeError",
     "evalue": "'numpy.ndarray' object has no attribute 'corr'",
     "output_type": "error",
     "traceback": [
      "\u001b[1;31m---------------------------------------------------------------------------\u001b[0m",
      "\u001b[1;31mAttributeError\u001b[0m                            Traceback (most recent call last)",
      "\u001b[1;32m<ipython-input-162-21c373d82d1e>\u001b[0m in \u001b[0;36m<module>\u001b[1;34m()\u001b[0m\n\u001b[1;32m----> 1\u001b[1;33m \u001b[0mplt\u001b[0m\u001b[1;33m.\u001b[0m\u001b[0mmatshow\u001b[0m\u001b[1;33m(\u001b[0m\u001b[0mX\u001b[0m\u001b[1;33m.\u001b[0m\u001b[0mcorr\u001b[0m\u001b[1;33m(\u001b[0m\u001b[1;33m)\u001b[0m\u001b[1;33m)\u001b[0m\u001b[1;33m\u001b[0m\u001b[0m\n\u001b[0m\u001b[0;32m      2\u001b[0m \u001b[0mplt\u001b[0m\u001b[1;33m.\u001b[0m\u001b[0mxticks\u001b[0m\u001b[1;33m(\u001b[0m\u001b[0mrange\u001b[0m\u001b[1;33m(\u001b[0m\u001b[0mlen\u001b[0m\u001b[1;33m(\u001b[0m\u001b[0mX\u001b[0m\u001b[1;33m.\u001b[0m\u001b[0mcolumns\u001b[0m\u001b[1;33m)\u001b[0m\u001b[1;33m)\u001b[0m\u001b[1;33m,\u001b[0m \u001b[0mX\u001b[0m\u001b[1;33m.\u001b[0m\u001b[0mcolumns\u001b[0m\u001b[1;33m)\u001b[0m\u001b[1;33m\u001b[0m\u001b[0m\n\u001b[0;32m      3\u001b[0m \u001b[0mplt\u001b[0m\u001b[1;33m.\u001b[0m\u001b[0myticks\u001b[0m\u001b[1;33m(\u001b[0m\u001b[0mrange\u001b[0m\u001b[1;33m(\u001b[0m\u001b[0mlen\u001b[0m\u001b[1;33m(\u001b[0m\u001b[0mX\u001b[0m\u001b[1;33m.\u001b[0m\u001b[0mcolumns\u001b[0m\u001b[1;33m)\u001b[0m\u001b[1;33m)\u001b[0m\u001b[1;33m,\u001b[0m \u001b[0mX\u001b[0m\u001b[1;33m.\u001b[0m\u001b[0mcolumns\u001b[0m\u001b[1;33m)\u001b[0m\u001b[1;33m\u001b[0m\u001b[0m\n\u001b[0;32m      4\u001b[0m \u001b[0mplt\u001b[0m\u001b[1;33m.\u001b[0m\u001b[0mcolorbar\u001b[0m\u001b[1;33m(\u001b[0m\u001b[1;33m)\u001b[0m\u001b[1;33m\u001b[0m\u001b[0m\n\u001b[0;32m      5\u001b[0m \u001b[0mplt\u001b[0m\u001b[1;33m.\u001b[0m\u001b[0mshow\u001b[0m\u001b[1;33m(\u001b[0m\u001b[1;33m)\u001b[0m\u001b[1;33m\u001b[0m\u001b[0m\n",
      "\u001b[1;31mAttributeError\u001b[0m: 'numpy.ndarray' object has no attribute 'corr'"
     ]
    }
   ],
   "source": [
    "plt.matshow(X.corr())\n",
    "plt.xticks(range(len(X.columns)), X.columns)\n",
    "plt.yticks(range(len(X.columns)), X.columns)\n",
    "plt.colorbar()\n",
    "plt.show()"
   ]
  },
  {
   "cell_type": "markdown",
   "metadata": {},
   "source": [
    "## Modeling (scikit-learn)"
   ]
  },
  {
   "cell_type": "markdown",
   "metadata": {},
   "source": [
    "### Data Preparation"
   ]
  },
  {
   "cell_type": "markdown",
   "metadata": {},
   "source": [
    "#### Preparing Features and Dependent Value"
   ]
  },
  {
   "cell_type": "code",
   "execution_count": 163,
   "metadata": {},
   "outputs": [],
   "source": [
    "feature_cols = ['X1','X2','X3']\n",
    "X = mydf[feature_cols]\n",
    "Y = mydf.Y"
   ]
  },
  {
   "cell_type": "markdown",
   "metadata": {},
   "source": [
    "#### Splitting Data Into Training and Test Sets"
   ]
  },
  {
   "cell_type": "code",
   "execution_count": 164,
   "metadata": {},
   "outputs": [],
   "source": [
    "trainX,testX,trainY,testY = train_test_split(X,Y,test_size=0.2)"
   ]
  },
  {
   "cell_type": "markdown",
   "metadata": {},
   "source": [
    "### Create The Model"
   ]
  },
  {
   "cell_type": "code",
   "execution_count": 165,
   "metadata": {},
   "outputs": [
    {
     "data": {
      "text/plain": [
       "LinearRegression(copy_X=True, fit_intercept=True, n_jobs=1, normalize=False)"
      ]
     },
     "execution_count": 165,
     "metadata": {},
     "output_type": "execute_result"
    }
   ],
   "source": [
    "lm = LinearRegression()   # create linear regression object\n",
    "lm.fit( trainX, trainY )  # train the model using training set"
   ]
  },
  {
   "cell_type": "markdown",
   "metadata": {},
   "source": [
    "### Analyze The Model\n",
    "#### Intercept"
   ]
  },
  {
   "cell_type": "code",
   "execution_count": 166,
   "metadata": {},
   "outputs": [
    {
     "data": {
      "text/plain": [
       "261.86338364195512"
      ]
     },
     "execution_count": 166,
     "metadata": {},
     "output_type": "execute_result"
    }
   ],
   "source": [
    "lm.intercept_"
   ]
  },
  {
   "cell_type": "markdown",
   "metadata": {},
   "source": [
    "#### Coef"
   ]
  },
  {
   "cell_type": "code",
   "execution_count": 167,
   "metadata": {},
   "outputs": [
    {
     "data": {
      "text/plain": [
       "array([ 0.09500028,  0.18333512,  0.31170093])"
      ]
     },
     "execution_count": 167,
     "metadata": {},
     "output_type": "execute_result"
    }
   ],
   "source": [
    "lm.coef_"
   ]
  },
  {
   "cell_type": "code",
   "execution_count": 168,
   "metadata": {},
   "outputs": [
    {
     "data": {
      "text/plain": [
       "  features      coef\n",
       "0       X1  0.095000\n",
       "1       X2  0.183335\n",
       "2       X3  0.311701"
      ]
     },
     "execution_count": 168,
     "metadata": {},
     "output_type": "execute_result"
    }
   ],
   "source": [
    "pd.DataFrame(list(zip(X.columns, lm.coef_)), columns=['features','coef'] )"
   ]
  },
  {
   "cell_type": "markdown",
   "metadata": {},
   "source": [
    "#### R-Squared"
   ]
  },
  {
   "cell_type": "code",
   "execution_count": 169,
   "metadata": {},
   "outputs": [],
   "source": [
    "trainPred = lm.predict( trainX )"
   ]
  },
  {
   "cell_type": "code",
   "execution_count": 170,
   "metadata": {},
   "outputs": [
    {
     "data": {
      "text/plain": [
       "0.94111943006081211"
      ]
     },
     "execution_count": 170,
     "metadata": {},
     "output_type": "execute_result"
    }
   ],
   "source": [
    "r2_score( trainY, trainPred )"
   ]
  },
  {
   "cell_type": "markdown",
   "metadata": {},
   "source": [
    "### Model Performance\n",
    "#### Run Prediction On Train Data"
   ]
  },
  {
   "cell_type": "code",
   "execution_count": 171,
   "metadata": {},
   "outputs": [],
   "source": [
    "trainPred = lm.predict( trainX )"
   ]
  },
  {
   "cell_type": "markdown",
   "metadata": {},
   "source": [
    "#### Mean Absolute Error (MAE)"
   ]
  },
  {
   "cell_type": "code",
   "execution_count": 503,
   "metadata": {},
   "outputs": [
    {
     "data": {
      "text/plain": [
       "4.741974639673403"
      ]
     },
     "execution_count": 503,
     "metadata": {},
     "output_type": "execute_result"
    }
   ],
   "source": [
    "mean_absolute_error( trainY, trainPred )"
   ]
  },
  {
   "cell_type": "markdown",
   "metadata": {},
   "source": [
    "#### Mean Squared Error (MSE)"
   ]
  },
  {
   "cell_type": "code",
   "execution_count": 172,
   "metadata": {},
   "outputs": [
    {
     "data": {
      "text/plain": [
       "29.23153044093781"
      ]
     },
     "execution_count": 172,
     "metadata": {},
     "output_type": "execute_result"
    }
   ],
   "source": [
    "mean_squared_error( trainY, trainPred )"
   ]
  },
  {
   "cell_type": "markdown",
   "metadata": {},
   "source": [
    "#### Root Mean Squared Error (RMSE)"
   ]
  },
  {
   "cell_type": "code",
   "execution_count": 505,
   "metadata": {},
   "outputs": [
    {
     "data": {
      "text/plain": [
       "5.4462895226560715"
      ]
     },
     "execution_count": 505,
     "metadata": {},
     "output_type": "execute_result"
    }
   ],
   "source": [
    "math.sqrt( mean_squared_error( trainY, trainPred ) )"
   ]
  },
  {
   "cell_type": "markdown",
   "metadata": {},
   "source": [
    "### Test Prediction"
   ]
  },
  {
   "cell_type": "code",
   "execution_count": 506,
   "metadata": {},
   "outputs": [],
   "source": [
    "testPred = lm.predict( testX )"
   ]
  },
  {
   "cell_type": "code",
   "execution_count": 507,
   "metadata": {},
   "outputs": [
    {
     "data": {
      "text/plain": [
       "5.1577186218748112"
      ]
     },
     "execution_count": 507,
     "metadata": {},
     "output_type": "execute_result"
    }
   ],
   "source": [
    "mean_absolute_error( testY, testPred )"
   ]
  },
  {
   "cell_type": "code",
   "execution_count": 508,
   "metadata": {},
   "outputs": [
    {
     "data": {
      "text/plain": [
       "37.01823207145128"
      ]
     },
     "execution_count": 508,
     "metadata": {},
     "output_type": "execute_result"
    }
   ],
   "source": [
    "mean_squared_error( testY, testPred )"
   ]
  },
  {
   "cell_type": "code",
   "execution_count": 509,
   "metadata": {},
   "outputs": [
    {
     "data": {
      "text/plain": [
       "6.084261012764926"
      ]
     },
     "execution_count": 509,
     "metadata": {},
     "output_type": "execute_result"
    }
   ],
   "source": [
    "math.sqrt( mean_squared_error( testY, testPred ) )"
   ]
  },
  {
   "cell_type": "markdown",
   "metadata": {},
   "source": [
    "## Modeling (statsmodel)"
   ]
  },
  {
   "cell_type": "markdown",
   "metadata": {},
   "source": [
    "### Data Preparation\n",
    "Splitting data into training set and testing set."
   ]
  },
  {
   "cell_type": "code",
   "execution_count": 510,
   "metadata": {},
   "outputs": [],
   "source": [
    "traindf, testdf = train_test_split(mydf, test_size=0.2)\n",
    "trainX,testX,trainY,testY = train_test_split(X,Y,test_size=0.2)"
   ]
  },
  {
   "cell_type": "markdown",
   "metadata": {},
   "source": [
    "### Create The Model - Equation Method"
   ]
  },
  {
   "cell_type": "code",
   "execution_count": 511,
   "metadata": {},
   "outputs": [],
   "source": [
    "fit = smf.ols(formula='Y ~ X1 + X2 + X3', data=traindf).fit()"
   ]
  },
  {
   "cell_type": "markdown",
   "metadata": {},
   "source": [
    "#### Analyze The Model"
   ]
  },
  {
   "cell_type": "code",
   "execution_count": 512,
   "metadata": {},
   "outputs": [
    {
     "name": "stdout",
     "output_type": "stream",
     "text": [
      "                            OLS Regression Results                            \n",
      "==============================================================================\n",
      "Dep. Variable:                      Y   R-squared:                       0.938\n",
      "Model:                            OLS   Adj. R-squared:                  0.937\n",
      "Method:                 Least Squares   F-statistic:                     793.5\n",
      "Date:                Sat, 17 Mar 2018   Prob (F-statistic):           3.32e-94\n",
      "Time:                        21:19:09   Log-Likelihood:                -503.10\n",
      "No. Observations:                 160   AIC:                             1014.\n",
      "Df Residuals:                     156   BIC:                             1026.\n",
      "Df Model:                           3                                         \n",
      "Covariance Type:            nonrobust                                         \n",
      "==============================================================================\n",
      "                 coef    std err          t      P>|t|      [0.025      0.975]\n",
      "------------------------------------------------------------------------------\n",
      "Intercept    258.9487      1.456    177.853      0.000     256.073     261.825\n",
      "X1             0.1119      0.008     13.950      0.000       0.096       0.128\n",
      "X2             0.1984      0.008     24.342      0.000       0.182       0.214\n",
      "X3             0.2964      0.008     36.061      0.000       0.280       0.313\n",
      "==============================================================================\n",
      "Omnibus:                       97.615   Durbin-Watson:                   2.009\n",
      "Prob(Omnibus):                  0.000   Jarque-Bera (JB):               10.758\n",
      "Skew:                           0.049   Prob(JB):                      0.00461\n",
      "Kurtosis:                       1.733   Cond. No.                         601.\n",
      "==============================================================================\n",
      "\n",
      "Warnings:\n",
      "[1] Standard Errors assume that the covariance matrix of the errors is correctly specified.\n"
     ]
    }
   ],
   "source": [
    "print (fit.summary())"
   ]
  },
  {
   "cell_type": "markdown",
   "metadata": {},
   "source": [
    "### Create The Model - Array Method\n",
    "**intercept** is not included in OLS modeling by default. Hence need to use add_constant() to training dataset in order to display intercept estimate."
   ]
  },
  {
   "cell_type": "code",
   "execution_count": 513,
   "metadata": {},
   "outputs": [],
   "source": [
    "trainX = sm.add_constant(trainX)     # this add new column of all value 1\n",
    "fit2 = smf.OLS(trainY, trainX).fit()"
   ]
  },
  {
   "cell_type": "markdown",
   "metadata": {},
   "source": [
    "#### Analyze The Model"
   ]
  },
  {
   "cell_type": "code",
   "execution_count": 514,
   "metadata": {},
   "outputs": [
    {
     "name": "stdout",
     "output_type": "stream",
     "text": [
      "                            OLS Regression Results                            \n",
      "==============================================================================\n",
      "Dep. Variable:                      Y   R-squared:                       0.930\n",
      "Model:                            OLS   Adj. R-squared:                  0.929\n",
      "Method:                 Least Squares   F-statistic:                     690.0\n",
      "Date:                Sat, 17 Mar 2018   Prob (F-statistic):           8.70e-90\n",
      "Time:                        21:19:09   Log-Likelihood:                -503.17\n",
      "No. Observations:                 160   AIC:                             1014.\n",
      "Df Residuals:                     156   BIC:                             1027.\n",
      "Df Model:                           3                                         \n",
      "Covariance Type:            nonrobust                                         \n",
      "==============================================================================\n",
      "                 coef    std err          t      P>|t|      [0.025      0.975]\n",
      "------------------------------------------------------------------------------\n",
      "const        259.9068      1.514    171.650      0.000     256.916     262.898\n",
      "X1             0.1072      0.008     13.340      0.000       0.091       0.123\n",
      "X2             0.2033      0.008     24.608      0.000       0.187       0.220\n",
      "X3             0.2866      0.008     34.458      0.000       0.270       0.303\n",
      "==============================================================================\n",
      "Omnibus:                       93.027   Durbin-Watson:                   2.109\n",
      "Prob(Omnibus):                  0.000   Jarque-Bera (JB):               10.619\n",
      "Skew:                           0.048   Prob(JB):                      0.00494\n",
      "Kurtosis:                       1.742   Cond. No.                         622.\n",
      "==============================================================================\n",
      "\n",
      "Warnings:\n",
      "[1] Standard Errors assume that the covariance matrix of the errors is correctly specified.\n"
     ]
    }
   ],
   "source": [
    "print (fit2.summary())"
   ]
  },
  {
   "cell_type": "code",
   "execution_count": null,
   "metadata": {},
   "outputs": [],
   "source": []
  },
  {
   "cell_type": "code",
   "execution_count": 515,
   "metadata": {},
   "outputs": [
    {
     "data": {
      "text/plain": [
       "array([  9.34044009,  15.40648987,   1.0022875 ,   7.04665145,\n",
       "         3.93511782,   2.8467719 ,   4.72520423,   7.91121454,\n",
       "         8.93534948,  11.77633468,   9.38389029,  14.70439001,\n",
       "         5.08904499,  18.56234873,   1.54775186,  14.4093502 ,\n",
       "         9.34609605,  12.17379657,   3.80773877,   4.96202978,\n",
       "        17.01489137,  20.36523151,   7.26848356,  14.84645231,\n",
       "        18.52778305,  18.89213327,   2.70088423,   1.78109566,\n",
       "         4.39660839,  18.56285007,   2.96693668,   9.4221525 ,\n",
       "        20.1577906 ,  11.6633057 ,  14.83754228,   7.31031262,\n",
       "        14.73001855,  17.69251344,   1.36576555,  16.0028863 ,\n",
       "        20.77722178,  15.96331309,   6.60887984,  16.78558657,\n",
       "         3.06452013,   9.95787052,  19.17191006,   6.87228297,\n",
       "         6.75550677,   3.60057144])"
      ]
     },
     "execution_count": 515,
     "metadata": {},
     "output_type": "execute_result"
    }
   ],
   "source": [
    "rng = np.random.RandomState(1)\n",
    "x = 10 * rng.rand(50)\n",
    "2*x+1"
   ]
  },
  {
   "cell_type": "markdown",
   "metadata": {},
   "source": [
    "## Examples"
   ]
  },
  {
   "cell_type": "markdown",
   "metadata": {},
   "source": [
    "### Example 1 - Linear Regression"
   ]
  },
  {
   "cell_type": "markdown",
   "metadata": {},
   "source": [
    "#### Sample Data\n",
    "Plot looks like polynomial."
   ]
  },
  {
   "cell_type": "code",
   "execution_count": 516,
   "metadata": {},
   "outputs": [
    {
     "data": {
      "image/png": "[encoded data removed]",
      "text/plain": [
       "<matplotlib.figure.Figure at 0x26be8a5b1d0>"
      ]
     },
     "metadata": {},
     "output_type": "display_data"
    }
   ],
   "source": [
    "x = np.array([1, 2, 3, 4, 5])\n",
    "y = np.array([4, 2, 1, 3, 7])\n",
    "plt.scatter(x, y);"
   ]
  },
  {
   "cell_type": "markdown",
   "metadata": {},
   "source": [
    "#### Built The Model"
   ]
  },
  {
   "cell_type": "markdown",
   "metadata": {},
   "source": [
    "**Prepare The Data**  \n",
    "X needs to be at least 2D. Increase the dimension with newaxis"
   ]
  },
  {
   "cell_type": "code",
   "execution_count": 517,
   "metadata": {},
   "outputs": [
    {
     "data": {
      "text/plain": [
       "array([[1],\n",
       "       [2],\n",
       "       [3],\n",
       "       [4],\n",
       "       [5]])"
      ]
     },
     "execution_count": 517,
     "metadata": {},
     "output_type": "execute_result"
    }
   ],
   "source": [
    "X = x[:, np.newaxis]\n",
    "X"
   ]
  },
  {
   "cell_type": "markdown",
   "metadata": {},
   "source": [
    "**Fit and Predict**"
   ]
  },
  {
   "cell_type": "code",
   "execution_count": 518,
   "metadata": {},
   "outputs": [
    {
     "data": {
      "text/plain": [
       "[<matplotlib.lines.Line2D at 0x26be877a588>]"
      ]
     },
     "execution_count": 518,
     "metadata": {},
     "output_type": "execute_result"
    },
    {
     "data": {
      "image/png": "[encoded data removed]",
      "text/plain": [
       "<matplotlib.figure.Figure at 0x26be89e4c50>"
      ]
     },
     "metadata": {},
     "output_type": "display_data"
    }
   ],
   "source": [
    "fit = LinearRegression().fit(X, y)\n",
    "pred = fit.predict(X)\n",
    "plt.scatter(x, y)\n",
    "plt.plot(x,pred)"
   ]
  },
  {
   "cell_type": "markdown",
   "metadata": {},
   "source": [
    "### Example 2 - Linear Regression with Polynomial Basis Functions"
   ]
  },
  {
   "cell_type": "markdown",
   "metadata": {},
   "source": [
    "#### Sample Data"
   ]
  },
  {
   "cell_type": "code",
   "execution_count": 519,
   "metadata": {},
   "outputs": [
    {
     "data": {
      "image/png": "[encoded data removed]",
      "text/plain": [
       "<matplotlib.figure.Figure at 0x26be89ed550>"
      ]
     },
     "metadata": {},
     "output_type": "display_data"
    }
   ],
   "source": [
    "x = np.array([1, 2, 3, 4, 5])\n",
    "y = np.array([4, 2, 1, 3, 7])\n",
    "plt.scatter(x, y);"
   ]
  },
  {
   "cell_type": "markdown",
   "metadata": {},
   "source": [
    "#### Clean Method - Use Pipeline\n",
    "This method **avoid manually** creating engineered features."
   ]
  },
  {
   "cell_type": "code",
   "execution_count": 520,
   "metadata": {},
   "outputs": [
    {
     "data": {
      "text/plain": [
       "[<matplotlib.lines.Line2D at 0x26be8b294e0>]"
      ]
     },
     "execution_count": 520,
     "metadata": {},
     "output_type": "execute_result"
    },
    {
     "data": {
      "image/png": "[encoded data removed]",
      "text/plain": [
       "<matplotlib.figure.Figure at 0x26be8b29898>"
      ]
     },
     "metadata": {},
     "output_type": "display_data"
    }
   ],
   "source": [
    "poly_model = make_pipeline( PolynomialFeatures(3), LinearRegression())\n",
    "poly_model.fit( X,y)\n",
    "pred2 = poly_model.predict(X)\n",
    "## plot\n",
    "plt.scatter(x, y)\n",
    "plt.plot(x,pred2)"
   ]
  },
  {
   "cell_type": "markdown",
   "metadata": {},
   "source": [
    "#### Alternative Method - Use Transform\n",
    "This method involve create a PolynomialFeatures object, transform original data (X) with more engineered features according to degree chosen."
   ]
  },
  {
   "cell_type": "code",
   "execution_count": 521,
   "metadata": {},
   "outputs": [
    {
     "data": {
      "text/plain": [
       "[<matplotlib.lines.Line2D at 0x26be848ec50>]"
      ]
     },
     "execution_count": 521,
     "metadata": {},
     "output_type": "execute_result"
    },
    {
     "data": {
      "image/png": "[encoded data removed]",
      "text/plain": [
       "<matplotlib.figure.Figure at 0x26be89531d0>"
      ]
     },
     "metadata": {},
     "output_type": "display_data"
    }
   ],
   "source": [
    "poly = PolynomialFeatures(degree=3, include_bias=False)\n",
    "X2 = poly.fit_transform(X)\n",
    "fit2 = LinearRegression().fit(X2, y)\n",
    "pred2 = fit2.predict(X2)\n",
    "## plot\n",
    "plt.scatter(x, y)\n",
    "plt.plot(x,pred2)"
   ]
  },
  {
   "cell_type": "markdown",
   "metadata": {},
   "source": [
    "## Feature Selection"
   ]
  },
  {
   "cell_type": "markdown",
   "metadata": {},
   "source": [
    "The advantage of using skcikit-learn package is that it has this particular method selection, works more or less like backward selection (not exactly), and is called **Recursive Feature**. How it works:\n",
    "\n",
    "- Model run with all variables, weight is assigned to each variable\n",
    "- Variable with smallest weight will be pruned from next iteration\n",
    "- Run the model again till the number of desired features is left"
   ]
  },
  {
   "cell_type": "markdown",
   "metadata": {},
   "source": [
    "### The Library"
   ]
  },
  {
   "cell_type": "code",
   "execution_count": 173,
   "metadata": {},
   "outputs": [],
   "source": [
    "from sklearn.feature_selection import RFE\n",
    "from sklearn.svm import SVR"
   ]
  },
  {
   "cell_type": "code",
   "execution_count": 174,
   "metadata": {},
   "outputs": [],
   "source": [
    "estimator = SVR(kernel='linear')       # we are using linear model\n",
    "selector = RFE (estimator, 2, step=1)  # we want just 2 features\n",
    "selector = selector.fit(X,Y)           # execute"
   ]
  },
  {
   "cell_type": "code",
   "execution_count": 175,
   "metadata": {},
   "outputs": [
    {
     "data": {
      "text/plain": [
       "array([False,  True,  True], dtype=bool)"
      ]
     },
     "execution_count": 175,
     "metadata": {},
     "output_type": "execute_result"
    }
   ],
   "source": [
    "selector.support_"
   ]
  },
  {
   "cell_type": "code",
   "execution_count": 176,
   "metadata": {},
   "outputs": [
    {
     "data": {
      "text/plain": [
       "array([2, 1, 1])"
      ]
     },
     "execution_count": 176,
     "metadata": {},
     "output_type": "execute_result"
    }
   ],
   "source": [
    "selector.ranking_"
   ]
  },
  {
   "cell_type": "code",
   "execution_count": 177,
   "metadata": {},
   "outputs": [
    {
     "data": {
      "text/plain": [
       "SVR(C=1.0, cache_size=200, coef0=0.0, degree=3, epsilon=0.1, gamma='auto',\n",
       "  kernel='linear', max_iter=-1, shrinking=True, tol=0.001, verbose=False)"
      ]
     },
     "execution_count": 177,
     "metadata": {},
     "output_type": "execute_result"
    }
   ],
   "source": [
    "selector.estimator_"
   ]
  },
  {
   "cell_type": "code",
   "execution_count": null,
   "metadata": {},
   "outputs": [],
   "source": []
  },
  {
   "cell_type": "code",
   "execution_count": null,
   "metadata": {},
   "outputs": [],
   "source": []
  }
 ],
 "metadata": {
  "kernelspec": {
   "display_name": "Python 3",
   "language": "python",
   "name": "python3"
  },
  "language_info": {
   "codemirror_mode": {
    "name": "ipython",
    "version": 3
   },
   "file_extension": ".py",
   "mimetype": "text/x-python",
   "name": "python",
   "nbconvert_exporter": "python",
   "pygments_lexer": "ipython3",
   "version": "3.6.5"
  },
  "toc": {
   "nav_menu": {},
   "number_sections": true,
   "sideBar": true,
   "skip_h1_title": false,
   "toc_cell": false,
   "toc_position": {
    "height": "944px",
    "left": "0px",
    "right": "1043.45px",
    "top": "110px",
    "width": "529px"
   },
   "toc_section_display": "block",
   "toc_window_display": true
  },
  "varInspector": {
   "cols": {
    "lenName": 16,
    "lenType": 16,
    "lenVar": 40
   },
   "kernels_config": {
    "python": {
     "delete_cmd_postfix": "",
     "delete_cmd_prefix": "del ",
     "library": "var_list.py",
     "varRefreshCmd": "print(var_dic_list())"
    },
    "r": {
     "delete_cmd_postfix": ") ",
     "delete_cmd_prefix": "rm(",
     "library": "var_list.r",
     "varRefreshCmd": "cat(var_dic_list()) "
    }
   },
   "position": {
    "height": "773px",
    "left": "1252.31px",
    "right": "20px",
    "top": "201.979px",
    "width": "709px"
   },
   "types_to_exclude": [
    "module",
    "function",
    "builtin_function_or_method",
    "instance",
    "_Feature"
   ],
   "window_display": false
  }
 },
 "nbformat": 4,
 "nbformat_minor": 2
}
