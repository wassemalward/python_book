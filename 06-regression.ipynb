{
 "cells": [
  {
   "cell_type": "markdown",
   "metadata": {
    "hide_input": true
   },
   "source": [
    "# Regression"
   ]
  },
  {
   "cell_type": "markdown",
   "metadata": {
    "tags": [
     "remove_cell"
    ]
   },
   "source": [
    "## Setup (hidden)"
   ]
  },
  {
   "cell_type": "code",
   "execution_count": 2,
   "metadata": {
    "hide_input": false,
    "tags": [
     "remove_cell"
    ]
   },
   "outputs": [
    {
     "data": {
      "text/html": [
       "<style>.container { width:75% !important; margin-left:350px; }</style>"
      ],
      "text/plain": [
       "<IPython.core.display.HTML object>"
      ]
     },
     "metadata": {},
     "output_type": "display_data"
    }
   ],
   "source": [
    "from IPython.core.display import display, HTML\n",
    "display(HTML(\"<style>.container { width:75% !important; margin-left:350px; }</style>\"))\n",
    "%matplotlib inline\n",
    "import numpy as np\n",
    "import pandas as pd\n",
    "import matplotlib.pyplot as plt\n",
    "import math\n",
    "pd.set_option( 'display.notebook_repr_html', False)  # render Series and DataFrame as text, not HTML\n",
    "pd.set_option( 'display.max_column', 10)    # number of columns\n",
    "pd.set_option( 'display.max_rows', 10)     # number of rows\n",
    "pd.set_option( 'display.width', 90)        # number of characters per row"
   ]
  },
  {
   "cell_type": "markdown",
   "metadata": {},
   "source": [
    "## Linear Regression"
   ]
  },
  {
   "cell_type": "markdown",
   "metadata": {},
   "source": [
    "### The Concept"
   ]
  },
  {
   "cell_type": "markdown",
   "metadata": {},
   "source": [
    "Linear Regression establishes a relationship between **dependent variable (Y)** and one or more **independent variables (X)** using a best fit straight line (also known as **regression line**).  \n",
    "\n",
    "- The objective of linear regression modeling is to find the most **optimum equation** that **best explain** the data\n",
    "- **Optimum** equation is defined as the one that has the least cost (error)\n",
    "\n",
    "Once we had derived the **optimum equation**, we can use the model to predict target $Y'$ base on new variables $X$. "
   ]
  },
  {
   "cell_type": "markdown",
   "metadata": {},
   "source": [
    "### Assumptions"
   ]
  },
  {
   "cell_type": "markdown",
   "metadata": {},
   "source": [
    "Below are conditions for the **least-squares estimator - used by linear regression** to possess desirable properties; in particular, these assumptions imply that the **parameter estimates** will be **unbiased, consistent, and efficient** in the class of linear unbiased estimators. \n",
    "\n",
    "#### Classical Assumptions\n",
    "\n",
    "- The sample is representative of the population for the inference prediction  \n",
    "    Question how is the data being gathered, is it convincing that it represents the population  ?\n",
    "    \n",
    "- Number of observations **must be larger** than number of independent variables  \n",
    "    Check the length of observations >= column length of data  \n",
    "    \n",
    "#### Assumptions On Dependent Variable\n",
    "\n",
    "- Must not be a categorical data type  \n",
    "\n",
    "#### Assumptions On Independent Variable\n",
    "\n",
    "- The independent variables are measured with **no error**, that is observations must be a set of known constants. (Note: If this is not so, modeling may be done instead using errors-in-variables model techniques)  \n",
    "\n",
    "- **Each** independent variable are **linearly correclated with outcome**, when other independent variables are held constant. **Matrix scatter plot and correlation calculation** can validate this. Generally correlation of 0.7 and above are considered good.  \n",
    "\n",
    "- **NO Multicollinearity** amont predictors - Meaning little or not linear correlationamong the predictors, i.e. it is not possible to express any predictor as a linear combination of the others, if so, we wouldn't know which predictor actually influene the outcome. \n",
    "\n",
    "#### Assumptions On Errors (residuals)\n",
    "  \n",
    "- The **errors are random numbers**, with means of **zero**  \n",
    "    - There should not be a pattern in the residuals distribution  \n",
    "    - If the residuals are **normally distributed** with **mean of zero**, then it is considered a bonus which we can perform statistical significant testing. $e = N(0,\\sigma^2)$  \n",
    "    - Normality on redisuals implies that the dependent variable are also normally distributed (if and only if **dependent variable is not stochastic**)  \n",
    "    \n",
    "- The **errors are uncorrelated** - that is, the variance–covariance matrix of the errors is diagonal and each non-zero element is the variance of the error  \n",
    "\n",
    "- **Homoscedasticity** - The variance of the error is constant across observations. If heteroscedasticity exist, scatter plot of response and predictor will look like below  ![Heteroscedasticity](./img/heteroscedastic.jpg)  \n",
    "    - The Goldfeld-Quandt Test can test for heteroscedasticity  \n",
    "    - If homoscedasticity is present, a non-linear correction might fix the problem  \n",
    "    - Otherwise, weighted least squares or other methods might instead be used.\n",
    "\n",
    "#### Are These Assumptions to be followed strictly ?\n",
    "\n",
    "In real life, actual data **rarely satisfies** the assumptions, that is:  \n",
    "\n",
    "- Method is used even though the assumptions are not true  \n",
    "- Variation from the assumptions can sometimes be used as a measure of how far the model is from being useful  \n",
    "- Many of these assumptions may be relaxed in more advanced treatments  \n",
    "\n",
    "Reports of statistical analyses usually include analyses of tests on the sample data and methodology for the fit and usefulness of the model. \n",
    "    \n",
    "#### Additional Notes On Independent variables  \n",
    "  \n",
    "- Adding more variables to a regression procedure may **overfit** the model and make things worse. The idea is to pick the **best** variables  \n",
    "- Some independent variable(s) are better at predicting the outocme, some contribute little or nothing  \n",
    "\n",
    "  Because of **multicollinearity** and **overfitting**, there is a fair amount of **prep-work** to be performed BEFORE conducting multiple regression analysis - if one is to do it properly.  "
   ]
  },
  {
   "cell_type": "markdown",
   "metadata": {},
   "source": [
    "### Equations\n",
    "\n",
    "#### Terminology\n",
    "\n",
    "**Simple** Linear Regression (classical) consists of just on predictor.  aka Single Variable Linear Regression.  \n",
    "**Multiple** Linear Regression (classical)    consists of multiple predictors.  aka. Multiple Variable Linear Regression.  \n",
    "\n",
    "**Multivariate** Regression (aka. **General Linear Regression**) is linear regression where the outocme is a vector (not scalar).   Not the same as multiple variable linear regression.  \n",
    "\n",
    "#### Ordinary Least Square Estimatation\n",
    "\n",
    "**Regression Model - Actual Outcome**\n",
    "\n",
    "$\\quad y_i = \\beta_0 + \\beta_1 x_1 + \\beta_2 x_2 + ...  \\beta_k x_k + e_i$  \n",
    "$\\quad$where:  \n",
    "$\\quad \\quad y_i$ = actual outcome value  \n",
    "$\\quad \\quad \\beta_0$ = intercept, when all independent variables are 0  \n",
    "$\\quad \\quad \\beta_k$ = parameter for independent variable k\n",
    "$\\quad \\quad e_i$ = error for observation i  \n",
    "\n",
    "**Regression Equation - Predicted Outcome**\n",
    "\n",
    "$\\quad E(y_i) = \\beta_0 + \\beta_1 x_1 + \\beta_2 x_2 + ...  \\beta_k x_k$  \n",
    "\n",
    "$\\quad h_\\theta(X)~=~\\theta_0~+~\\theta_1 \\cdot X$  , error terms assumed to be zero  \n",
    "$\\quad$where:  \n",
    "$\\quad \\quad h_\\theta(x)$ = hypothesis target (dependant variable)  \n",
    "$\\quad \\quad \\theta_0$ = intercept  \n",
    "$\\quad \\quad \\theta_1$ = slopes or coefficients  \n",
    "$\\quad \\quad X$ = independant variables (predictors)  \n",
    "\n",
    "$\\quad$Take note that each $\\theta_0$ and $\\theta_1$ represents multi-variate data in matrix form.  \n",
    "\n",
    "#### Cost Function\n",
    "\n",
    "- The goal is to find some values of θ (known as coefficients), so we can minimize the difference between real values $y$  and predicted values ($h(x)$)  \n",
    "- Mathematically, this means finding the minimum value of cost function $J$ and derive the  optimum value of $\\theta_0$ and $\\theta_1$   \n",
    "- Linear regression uses Total Sum Of Square calculation on Error as Cost Function, denoted by $J$ below:  \n",
    "\n",
    "$\\quad \\quad J(\\theta_0,\\theta_1) = \\frac{1}{2m}\\sum_{i=1}^m ((h_\\theta(x^i)-y^i)^2$"
   ]
  },
  {
   "cell_type": "markdown",
   "metadata": {
    "heading_collapsed": true
   },
   "source": [
    "### OLS Performance\n",
    "\n",
    "#### Fundamental\n",
    "\n",
    "OLS performance is mainly on error analysis.  \n",
    "\n",
    "**SST** (**total** sample variability) = **SSR** (**explained** variability) + **SSE** (**unexplained** variability) :    \n",
    "\n",
    "![SST Explained](./img/explain_sst.jpg)\n",
    "\n",
    "#### Root Mean Square Error (RMSE)\n",
    "\n",
    "- RMSE = The square root of the average of the total sum of square error  \n",
    "$RMSE = \\sqrt{\\frac{SSE}{n}} = \\sqrt \\frac{\\sum^n_{i=1}{(y_i - \\hat y_i)^2}}{n}$  \n",
    "- It measure **how close** observed data points are to the model’s predicted values  \n",
    "- It has a **unit of Y**, therefore **cannot used for comparison models with different outcome**  \n",
    "- It can be used to compare different model with the similar outcome but different predictors, however, adjusted $R^2$ is better in this  \n",
    "- Low RMSE value indicates better fit  \n",
    "- Compared to the similar Mean Absolute Error, RMSE amplifies and severely punishes large errors  \n",
    "- SSE is not usable for performance measurement becuase it increases with number of datapoints.  RMSE does not suffer this as it is divided by number of datapoints  \n",
    "- **Residual Standard Errror (RSE)**  is very similar to **RMSE**, except that RSE use division by degree of freedom  \n",
    "\n",
    "> **RMSE** is excellent general measurement to assess **the accuracy** of a model  \n",
    "\n",
    "#### $r$, $R^2$ and $R^2_{adj}$\n",
    "\n",
    "**r - Correlation Coeeficient**  \n",
    "\n",
    "- Correlation, often measured as a correlation coefficient - indicates the **strength** and direction of a linear relationship between two variables (for example model output and observed values)  \n",
    "- The best known is the Pearson product-moment correlation coefficient (also called Pearson correlation coefficient or the sample correlation coefficient)  \n",
    "- It is a ratio (has no unit)  \n",
    "$Pearson Correlation, r = \\frac{{}\\sum_{i=1}^{n} (x_i - \\overline{x})(y_i - \\overline{y})}\n",
    "{\\sqrt{\\sum_{i=1}^{n} (x_i - \\overline{x})^2(y_i - \\overline{y})^2}} \\quad, \\quad 0=<r<=1$  \n",
    "\n",
    "> **Scatter plot** predicted and actual outcome reveal visually the good-fit of the model, good correlation also means tigther the scatter plots with less variability    \n",
    "\n",
    "**R-Squared - Coefficient Determination**  \n",
    "\n",
    "$R^2 = r^2 = \\frac{SSR}{SST} = 1-\\frac{SSE}{SST}, \\quad 0 <= R^2 <= 1$  \n",
    "\n",
    "- $R^2$ is a ratio (unit-less) indicating how much **variations are explained** by regression model  \n",
    "- $R^2$ compares the fit model to a 'baseline' model (SST)  \n",
    "- High $R^2$ value indicates high SSR and low SSE, which means the model is **more precise**  \n",
    "    - **Perfect Case**  - no errors (SSE=0), $R^2$ will be 1.   \n",
    "    - **Worst Case** - no improvement over baseline,  (coefficient=0, SSR=0, aka horizontally flat line), $R^2$ will be 0.  \n",
    "\n",
    "- One pitfall of $R^2$ is that it **always increases** when additional variables are added to the model. The increase can be artificial as it doesn't improve the model fit - which is called **over-fitting**.  A **remediation** to this is $R^2_{adj}$  \n",
    "\n",
    "\n",
    "**Adjusted R-Squared**  \n",
    "\n",
    "- Adjusted $R^2$ incorporates the number of coefficients and observations into the calculation  \n",
    "$R_{adj}^2 = 1- \\bigg( \\frac{n-1}{n-p}\\bigg) \\frac{SSE}{SST}$  \n",
    "$\\quad$ p = number of coefficients (including intercept)  \n",
    "$\\quad$ n = number of observations  \n",
    "\n",
    "- Adjusted $R^2$ will **decrease** when adding predictors that doesn't increase the model fit that make up for the loss of degrees of freedom  \n",
    "- Likewise, it will **increase** as predictors are added if the increase in model fit is **worthwhile**  \n",
    "\n",
    "> **$R^2_{adj}$** is useful to **compare models with a different number of predictors**, hence good for feature selection  \n",
    "\n",
    "**Training Data and Test Data (out of sample)**  \n",
    "\n",
    "- A built model based on **training data** always has $R^2$ between 0 <= $R^2$ <= 1  \n",
    "- However, if the model is **underfit**, **test data** may reveal $R^2$ <= 0  "
   ]
  },
  {
   "cell_type": "markdown",
   "metadata": {},
   "source": [
    "### Feature Selection\n",
    "\n",
    "1. The **strength and importance** of an independent variable **is not measured** by its correlation or coefficient with the dependent variable - It only hold true if there is only single independent variable    \n",
    "\n",
    "2. **Multicolinearity** has below independent variable diversion and therefore must be removed:\n",
    "  - It increases the p-value to make it insignificant \n",
    "  - It divert a coef direction (eg. positive becomes negative)  \n",
    "  \n",
    "3. Perform **transformation** (such as log, quadradric) if the plot of independet vs dependent variables shows Heteroscedasticity  "
   ]
  },
  {
   "cell_type": "markdown",
   "metadata": {},
   "source": [
    "### Run The Code"
   ]
  },
  {
   "cell_type": "markdown",
   "metadata": {},
   "source": [
    "#### Sample Data"
   ]
  },
  {
   "cell_type": "code",
   "execution_count": 3,
   "metadata": {},
   "outputs": [],
   "source": [
    "n = 200  # number of samples\n",
    "I = 250  # intercept value\n",
    "E = np.random.randint( 1,20, n)  # Error\n",
    "x1 = np.random.randint( 1,n+1, n)\n",
    "x2 = np.random.randint( 1,n+1, n)\n",
    "x3 = np.random.randint( 1,n+1, n)\n",
    "x4 = x3 + np.random.randint(1,n+1,n)\n",
    "Y = 0.1*x1 + 0.2*x2 + 0.3*x3 + E + I"
   ]
  },
  {
   "cell_type": "markdown",
   "metadata": {},
   "source": [
    "**Put All Data In pandas DataFrame**"
   ]
  },
  {
   "cell_type": "code",
   "execution_count": 4,
   "metadata": {},
   "outputs": [],
   "source": [
    "mydf = pd.DataFrame({\n",
    "    'Y':Y,\n",
    "    'x1':x1,\n",
    "    'x2':x2,\n",
    "    'x3':x3,\n",
    "    'x4':x4\n",
    "})\n",
    "mydf.head()\n",
    "X = mydf.filter(like='x')"
   ]
  },
  {
   "cell_type": "markdown",
   "metadata": {},
   "source": [
    "#### Data Validation"
   ]
  },
  {
   "cell_type": "markdown",
   "metadata": {},
   "source": [
    "##### Colleration Check\n",
    "Ensure there is **no col-linearity** among the features used"
   ]
  },
  {
   "cell_type": "markdown",
   "metadata": {},
   "source": [
    "**Correlation Text Output**"
   ]
  },
  {
   "cell_type": "code",
   "execution_count": 5,
   "metadata": {},
   "outputs": [
    {
     "data": {
      "text/plain": [
       "          x1        x2        x3        x4\n",
       "x1  1.000000  0.089132 -0.003379 -0.030738\n",
       "x2  0.089132  1.000000  0.054852  0.089682\n",
       "x3 -0.003379  0.054852  1.000000  0.717366\n",
       "x4 -0.030738  0.089682  0.717366  1.000000"
      ]
     },
     "execution_count": 5,
     "metadata": {},
     "output_type": "execute_result"
    }
   ],
   "source": [
    "my_corr = X.corr()\n",
    "my_corr"
   ]
  },
  {
   "cell_type": "markdown",
   "metadata": {},
   "source": [
    "**Correlation HTML Output**"
   ]
  },
  {
   "cell_type": "code",
   "execution_count": 6,
   "metadata": {
    "scrolled": true
   },
   "outputs": [
    {
     "data": {
      "text/html": [
       "<style  type=\"text/css\" >\n",
       "    #T_3c4b87b4_710a_11e8_a73f_dc5360477bd7row0_col0 {\n",
       "            background-color:  #023858;\n",
       "        }    #T_3c4b87b4_710a_11e8_a73f_dc5360477bd7row0_col1 {\n",
       "            background-color:  #faf2f8;\n",
       "        }    #T_3c4b87b4_710a_11e8_a73f_dc5360477bd7row0_col2 {\n",
       "            background-color:  #fff7fb;\n",
       "        }    #T_3c4b87b4_710a_11e8_a73f_dc5360477bd7row0_col3 {\n",
       "            background-color:  #fff7fb;\n",
       "        }    #T_3c4b87b4_710a_11e8_a73f_dc5360477bd7row1_col0 {\n",
       "            background-color:  #eee8f3;\n",
       "        }    #T_3c4b87b4_710a_11e8_a73f_dc5360477bd7row1_col1 {\n",
       "            background-color:  #023858;\n",
       "        }    #T_3c4b87b4_710a_11e8_a73f_dc5360477bd7row1_col2 {\n",
       "            background-color:  #f7f0f7;\n",
       "        }    #T_3c4b87b4_710a_11e8_a73f_dc5360477bd7row1_col3 {\n",
       "            background-color:  #eee8f3;\n",
       "        }    #T_3c4b87b4_710a_11e8_a73f_dc5360477bd7row2_col0 {\n",
       "            background-color:  #fbf4f9;\n",
       "        }    #T_3c4b87b4_710a_11e8_a73f_dc5360477bd7row2_col1 {\n",
       "            background-color:  #fff7fb;\n",
       "        }    #T_3c4b87b4_710a_11e8_a73f_dc5360477bd7row2_col2 {\n",
       "            background-color:  #023858;\n",
       "        }    #T_3c4b87b4_710a_11e8_a73f_dc5360477bd7row2_col3 {\n",
       "            background-color:  #0f76b3;\n",
       "        }    #T_3c4b87b4_710a_11e8_a73f_dc5360477bd7row3_col0 {\n",
       "            background-color:  #fff7fb;\n",
       "        }    #T_3c4b87b4_710a_11e8_a73f_dc5360477bd7row3_col1 {\n",
       "            background-color:  #faf2f8;\n",
       "        }    #T_3c4b87b4_710a_11e8_a73f_dc5360477bd7row3_col2 {\n",
       "            background-color:  #1278b4;\n",
       "        }    #T_3c4b87b4_710a_11e8_a73f_dc5360477bd7row3_col3 {\n",
       "            background-color:  #023858;\n",
       "        }</style>  \n",
       "<table id=\"T_3c4b87b4_710a_11e8_a73f_dc5360477bd7\" > \n",
       "<thead>    <tr> \n",
       "        <th class=\"blank level0\" ></th> \n",
       "        <th class=\"col_heading level0 col0\" >x1</th> \n",
       "        <th class=\"col_heading level0 col1\" >x2</th> \n",
       "        <th class=\"col_heading level0 col2\" >x3</th> \n",
       "        <th class=\"col_heading level0 col3\" >x4</th> \n",
       "    </tr></thead> \n",
       "<tbody>    <tr> \n",
       "        <th id=\"T_3c4b87b4_710a_11e8_a73f_dc5360477bd7level0_row0\" class=\"row_heading level0 row0\" >x1</th> \n",
       "        <td id=\"T_3c4b87b4_710a_11e8_a73f_dc5360477bd7row0_col0\" class=\"data row0 col0\" >1</td> \n",
       "        <td id=\"T_3c4b87b4_710a_11e8_a73f_dc5360477bd7row0_col1\" class=\"data row0 col1\" >0.089</td> \n",
       "        <td id=\"T_3c4b87b4_710a_11e8_a73f_dc5360477bd7row0_col2\" class=\"data row0 col2\" >-0.0034</td> \n",
       "        <td id=\"T_3c4b87b4_710a_11e8_a73f_dc5360477bd7row0_col3\" class=\"data row0 col3\" >-0.031</td> \n",
       "    </tr>    <tr> \n",
       "        <th id=\"T_3c4b87b4_710a_11e8_a73f_dc5360477bd7level0_row1\" class=\"row_heading level0 row1\" >x2</th> \n",
       "        <td id=\"T_3c4b87b4_710a_11e8_a73f_dc5360477bd7row1_col0\" class=\"data row1 col0\" >0.089</td> \n",
       "        <td id=\"T_3c4b87b4_710a_11e8_a73f_dc5360477bd7row1_col1\" class=\"data row1 col1\" >1</td> \n",
       "        <td id=\"T_3c4b87b4_710a_11e8_a73f_dc5360477bd7row1_col2\" class=\"data row1 col2\" >0.055</td> \n",
       "        <td id=\"T_3c4b87b4_710a_11e8_a73f_dc5360477bd7row1_col3\" class=\"data row1 col3\" >0.09</td> \n",
       "    </tr>    <tr> \n",
       "        <th id=\"T_3c4b87b4_710a_11e8_a73f_dc5360477bd7level0_row2\" class=\"row_heading level0 row2\" >x3</th> \n",
       "        <td id=\"T_3c4b87b4_710a_11e8_a73f_dc5360477bd7row2_col0\" class=\"data row2 col0\" >-0.0034</td> \n",
       "        <td id=\"T_3c4b87b4_710a_11e8_a73f_dc5360477bd7row2_col1\" class=\"data row2 col1\" >0.055</td> \n",
       "        <td id=\"T_3c4b87b4_710a_11e8_a73f_dc5360477bd7row2_col2\" class=\"data row2 col2\" >1</td> \n",
       "        <td id=\"T_3c4b87b4_710a_11e8_a73f_dc5360477bd7row2_col3\" class=\"data row2 col3\" >0.72</td> \n",
       "    </tr>    <tr> \n",
       "        <th id=\"T_3c4b87b4_710a_11e8_a73f_dc5360477bd7level0_row3\" class=\"row_heading level0 row3\" >x4</th> \n",
       "        <td id=\"T_3c4b87b4_710a_11e8_a73f_dc5360477bd7row3_col0\" class=\"data row3 col0\" >-0.031</td> \n",
       "        <td id=\"T_3c4b87b4_710a_11e8_a73f_dc5360477bd7row3_col1\" class=\"data row3 col1\" >0.09</td> \n",
       "        <td id=\"T_3c4b87b4_710a_11e8_a73f_dc5360477bd7row3_col2\" class=\"data row3 col2\" >0.72</td> \n",
       "        <td id=\"T_3c4b87b4_710a_11e8_a73f_dc5360477bd7row3_col3\" class=\"data row3 col3\" >1</td> \n",
       "    </tr></tbody> \n",
       "</table> "
      ],
      "text/plain": [
       "<pandas.io.formats.style.Styler at 0x2805b4905c0>"
      ]
     },
     "execution_count": 6,
     "metadata": {},
     "output_type": "execute_result"
    }
   ],
   "source": [
    "my_corr.style.background_gradient().set_precision(2)"
   ]
  },
  {
   "cell_type": "markdown",
   "metadata": {},
   "source": [
    "**Correlation HTML Output without Annotation**"
   ]
  },
  {
   "cell_type": "code",
   "execution_count": 7,
   "metadata": {},
   "outputs": [
    {
     "data": {
      "text/html": [
       "<style  type=\"text/css\" >\n",
       "    #T_3c5411fa_710a_11e8_ab8d_dc5360477bd7row0_col0 {\n",
       "            background-color:  #023858;\n",
       "            font-size:  0pt;\n",
       "        }    #T_3c5411fa_710a_11e8_ab8d_dc5360477bd7row0_col1 {\n",
       "            background-color:  #faf2f8;\n",
       "            font-size:  0pt;\n",
       "        }    #T_3c5411fa_710a_11e8_ab8d_dc5360477bd7row0_col2 {\n",
       "            background-color:  #fff7fb;\n",
       "            font-size:  0pt;\n",
       "        }    #T_3c5411fa_710a_11e8_ab8d_dc5360477bd7row0_col3 {\n",
       "            background-color:  #fff7fb;\n",
       "            font-size:  0pt;\n",
       "        }    #T_3c5411fa_710a_11e8_ab8d_dc5360477bd7row1_col0 {\n",
       "            background-color:  #eee8f3;\n",
       "            font-size:  0pt;\n",
       "        }    #T_3c5411fa_710a_11e8_ab8d_dc5360477bd7row1_col1 {\n",
       "            background-color:  #023858;\n",
       "            font-size:  0pt;\n",
       "        }    #T_3c5411fa_710a_11e8_ab8d_dc5360477bd7row1_col2 {\n",
       "            background-color:  #f7f0f7;\n",
       "            font-size:  0pt;\n",
       "        }    #T_3c5411fa_710a_11e8_ab8d_dc5360477bd7row1_col3 {\n",
       "            background-color:  #eee8f3;\n",
       "            font-size:  0pt;\n",
       "        }    #T_3c5411fa_710a_11e8_ab8d_dc5360477bd7row2_col0 {\n",
       "            background-color:  #fbf4f9;\n",
       "            font-size:  0pt;\n",
       "        }    #T_3c5411fa_710a_11e8_ab8d_dc5360477bd7row2_col1 {\n",
       "            background-color:  #fff7fb;\n",
       "            font-size:  0pt;\n",
       "        }    #T_3c5411fa_710a_11e8_ab8d_dc5360477bd7row2_col2 {\n",
       "            background-color:  #023858;\n",
       "            font-size:  0pt;\n",
       "        }    #T_3c5411fa_710a_11e8_ab8d_dc5360477bd7row2_col3 {\n",
       "            background-color:  #0f76b3;\n",
       "            font-size:  0pt;\n",
       "        }    #T_3c5411fa_710a_11e8_ab8d_dc5360477bd7row3_col0 {\n",
       "            background-color:  #fff7fb;\n",
       "            font-size:  0pt;\n",
       "        }    #T_3c5411fa_710a_11e8_ab8d_dc5360477bd7row3_col1 {\n",
       "            background-color:  #faf2f8;\n",
       "            font-size:  0pt;\n",
       "        }    #T_3c5411fa_710a_11e8_ab8d_dc5360477bd7row3_col2 {\n",
       "            background-color:  #1278b4;\n",
       "            font-size:  0pt;\n",
       "        }    #T_3c5411fa_710a_11e8_ab8d_dc5360477bd7row3_col3 {\n",
       "            background-color:  #023858;\n",
       "            font-size:  0pt;\n",
       "        }</style>  \n",
       "<table id=\"T_3c5411fa_710a_11e8_ab8d_dc5360477bd7\" > \n",
       "<thead>    <tr> \n",
       "        <th class=\"blank level0\" ></th> \n",
       "        <th class=\"col_heading level0 col0\" >x1</th> \n",
       "        <th class=\"col_heading level0 col1\" >x2</th> \n",
       "        <th class=\"col_heading level0 col2\" >x3</th> \n",
       "        <th class=\"col_heading level0 col3\" >x4</th> \n",
       "    </tr></thead> \n",
       "<tbody>    <tr> \n",
       "        <th id=\"T_3c5411fa_710a_11e8_ab8d_dc5360477bd7level0_row0\" class=\"row_heading level0 row0\" >x1</th> \n",
       "        <td id=\"T_3c5411fa_710a_11e8_ab8d_dc5360477bd7row0_col0\" class=\"data row0 col0\" >1</td> \n",
       "        <td id=\"T_3c5411fa_710a_11e8_ab8d_dc5360477bd7row0_col1\" class=\"data row0 col1\" >0.0891317</td> \n",
       "        <td id=\"T_3c5411fa_710a_11e8_ab8d_dc5360477bd7row0_col2\" class=\"data row0 col2\" >-0.00337879</td> \n",
       "        <td id=\"T_3c5411fa_710a_11e8_ab8d_dc5360477bd7row0_col3\" class=\"data row0 col3\" >-0.0307377</td> \n",
       "    </tr>    <tr> \n",
       "        <th id=\"T_3c5411fa_710a_11e8_ab8d_dc5360477bd7level0_row1\" class=\"row_heading level0 row1\" >x2</th> \n",
       "        <td id=\"T_3c5411fa_710a_11e8_ab8d_dc5360477bd7row1_col0\" class=\"data row1 col0\" >0.0891317</td> \n",
       "        <td id=\"T_3c5411fa_710a_11e8_ab8d_dc5360477bd7row1_col1\" class=\"data row1 col1\" >1</td> \n",
       "        <td id=\"T_3c5411fa_710a_11e8_ab8d_dc5360477bd7row1_col2\" class=\"data row1 col2\" >0.0548518</td> \n",
       "        <td id=\"T_3c5411fa_710a_11e8_ab8d_dc5360477bd7row1_col3\" class=\"data row1 col3\" >0.0896824</td> \n",
       "    </tr>    <tr> \n",
       "        <th id=\"T_3c5411fa_710a_11e8_ab8d_dc5360477bd7level0_row2\" class=\"row_heading level0 row2\" >x3</th> \n",
       "        <td id=\"T_3c5411fa_710a_11e8_ab8d_dc5360477bd7row2_col0\" class=\"data row2 col0\" >-0.00337879</td> \n",
       "        <td id=\"T_3c5411fa_710a_11e8_ab8d_dc5360477bd7row2_col1\" class=\"data row2 col1\" >0.0548518</td> \n",
       "        <td id=\"T_3c5411fa_710a_11e8_ab8d_dc5360477bd7row2_col2\" class=\"data row2 col2\" >1</td> \n",
       "        <td id=\"T_3c5411fa_710a_11e8_ab8d_dc5360477bd7row2_col3\" class=\"data row2 col3\" >0.717366</td> \n",
       "    </tr>    <tr> \n",
       "        <th id=\"T_3c5411fa_710a_11e8_ab8d_dc5360477bd7level0_row3\" class=\"row_heading level0 row3\" >x4</th> \n",
       "        <td id=\"T_3c5411fa_710a_11e8_ab8d_dc5360477bd7row3_col0\" class=\"data row3 col0\" >-0.0307377</td> \n",
       "        <td id=\"T_3c5411fa_710a_11e8_ab8d_dc5360477bd7row3_col1\" class=\"data row3 col1\" >0.0896824</td> \n",
       "        <td id=\"T_3c5411fa_710a_11e8_ab8d_dc5360477bd7row3_col2\" class=\"data row3 col2\" >0.717366</td> \n",
       "        <td id=\"T_3c5411fa_710a_11e8_ab8d_dc5360477bd7row3_col3\" class=\"data row3 col3\" >1</td> \n",
       "    </tr></tbody> \n",
       "</table> "
      ],
      "text/plain": [
       "<pandas.io.formats.style.Styler at 0x2805cf158d0>"
      ]
     },
     "execution_count": 7,
     "metadata": {},
     "output_type": "execute_result"
    }
   ],
   "source": [
    "my_corr.style.background_gradient().set_properties(**{'font-size': '0pt'})"
   ]
  },
  {
   "cell_type": "markdown",
   "metadata": {},
   "source": [
    "##### Matrix Scatter Plot"
   ]
  },
  {
   "cell_type": "code",
   "execution_count": 8,
   "metadata": {
    "scrolled": true
   },
   "outputs": [
    {
     "data": {
      "image/png": "[encoded data removed]",
      "text/plain": [
       "<matplotlib.figure.Figure at 0x2805cf07470>"
      ]
     },
     "metadata": {},
     "output_type": "display_data"
    }
   ],
   "source": [
    "pd.plotting.scatter_matrix(X, alpha=0.2, figsize=(6, 6), diagonal='hist');"
   ]
  },
  {
   "cell_type": "code",
   "execution_count": 9,
   "metadata": {
    "scrolled": true
   },
   "outputs": [
    {
     "data": {
      "image/png": "[encoded data removed]",
      "text/plain": [
       "<matplotlib.figure.Figure at 0x2805d89b668>"
      ]
     },
     "metadata": {},
     "output_type": "display_data"
    }
   ],
   "source": [
    "plt.matshow(X.corr())\n",
    "plt.xticks(range(len(X.columns)), X.columns)\n",
    "plt.yticks(range(len(X.columns)), X.columns)\n",
    "plt.colorbar()\n",
    "plt.show()"
   ]
  },
  {
   "cell_type": "markdown",
   "metadata": {},
   "source": [
    "#### Data Preparation"
   ]
  },
  {
   "cell_type": "markdown",
   "metadata": {},
   "source": [
    "##### Preparing Features and Dependent Value"
   ]
  },
  {
   "cell_type": "code",
   "execution_count": 10,
   "metadata": {},
   "outputs": [],
   "source": [
    "feature_cols = ['x1','x2','x3']\n",
    "X = mydf[feature_cols]\n",
    "Y = mydf.Y "
   ]
  },
  {
   "cell_type": "markdown",
   "metadata": {},
   "source": [
    "##### Splitting Data Into Training and Test Sets"
   ]
  },
  {
   "cell_type": "code",
   "execution_count": 11,
   "metadata": {},
   "outputs": [
    {
     "ename": "NameError",
     "evalue": "name 'train_test_split' is not defined",
     "output_type": "error",
     "traceback": [
      "\u001b[1;31m---------------------------------------------------------------------------\u001b[0m",
      "\u001b[1;31mNameError\u001b[0m                                 Traceback (most recent call last)",
      "\u001b[1;32m<ipython-input-11-18935983abcd>\u001b[0m in \u001b[0;36m<module>\u001b[1;34m()\u001b[0m\n\u001b[1;32m----> 1\u001b[1;33m \u001b[0mtrainX\u001b[0m\u001b[1;33m,\u001b[0m\u001b[0mtestX\u001b[0m\u001b[1;33m,\u001b[0m\u001b[0mtrainY\u001b[0m\u001b[1;33m,\u001b[0m\u001b[0mtestY\u001b[0m \u001b[1;33m=\u001b[0m \u001b[0mtrain_test_split\u001b[0m\u001b[1;33m(\u001b[0m\u001b[0mX\u001b[0m\u001b[1;33m,\u001b[0m\u001b[0mY\u001b[0m\u001b[1;33m,\u001b[0m\u001b[0mtest_size\u001b[0m\u001b[1;33m=\u001b[0m\u001b[1;36m0.2\u001b[0m\u001b[1;33m)\u001b[0m\u001b[1;33m\u001b[0m\u001b[0m\n\u001b[0m",
      "\u001b[1;31mNameError\u001b[0m: name 'train_test_split' is not defined"
     ]
    }
   ],
   "source": [
    "trainX,testX,trainY,testY = train_test_split(X,Y,test_size=0.2)"
   ]
  },
  {
   "cell_type": "markdown",
   "metadata": {},
   "source": [
    "#### Create The Model"
   ]
  },
  {
   "cell_type": "code",
   "execution_count": null,
   "metadata": {},
   "outputs": [],
   "source": [
    "lm = LinearRegression()   # create linear regression object\n",
    "lm.fit( trainX, trainY )  # train the model using training set"
   ]
  },
  {
   "cell_type": "markdown",
   "metadata": {},
   "source": [
    "#### Analyze The Model\n",
    "##### Intercept"
   ]
  },
  {
   "cell_type": "code",
   "execution_count": null,
   "metadata": {},
   "outputs": [],
   "source": [
    "lm.intercept_"
   ]
  },
  {
   "cell_type": "markdown",
   "metadata": {},
   "source": [
    "##### Coef"
   ]
  },
  {
   "cell_type": "code",
   "execution_count": null,
   "metadata": {},
   "outputs": [],
   "source": [
    "lm.coef_"
   ]
  },
  {
   "cell_type": "code",
   "execution_count": null,
   "metadata": {},
   "outputs": [],
   "source": [
    "pd.DataFrame(list(zip(X.columns, lm.coef_)), columns=['features','coef'] )"
   ]
  },
  {
   "cell_type": "markdown",
   "metadata": {},
   "source": [
    "##### R-Squared"
   ]
  },
  {
   "cell_type": "code",
   "execution_count": null,
   "metadata": {},
   "outputs": [],
   "source": [
    "trainPred = lm.predict( trainX )"
   ]
  },
  {
   "cell_type": "code",
   "execution_count": null,
   "metadata": {},
   "outputs": [],
   "source": [
    "r2_score( trainY, trainPred )"
   ]
  },
  {
   "cell_type": "markdown",
   "metadata": {},
   "source": [
    "#### Model Performance\n",
    "##### Prediction on Train Data"
   ]
  },
  {
   "cell_type": "code",
   "execution_count": null,
   "metadata": {},
   "outputs": [],
   "source": [
    "trainY_ = lm.predict( trainX )"
   ]
  },
  {
   "cell_type": "markdown",
   "metadata": {},
   "source": [
    "**Mean Absolute Error (MAE)**"
   ]
  },
  {
   "cell_type": "code",
   "execution_count": null,
   "metadata": {},
   "outputs": [],
   "source": [
    "mean_absolute_error( trainY, trainY_ )"
   ]
  },
  {
   "cell_type": "markdown",
   "metadata": {},
   "source": [
    "**Mean Squared Error (MSE)**"
   ]
  },
  {
   "cell_type": "code",
   "execution_count": null,
   "metadata": {},
   "outputs": [],
   "source": [
    "mean_squared_error( trainY, trainY_ )"
   ]
  },
  {
   "cell_type": "markdown",
   "metadata": {},
   "source": [
    "**Root Mean Squared Error (RMSE)**"
   ]
  },
  {
   "cell_type": "code",
   "execution_count": null,
   "metadata": {},
   "outputs": [],
   "source": [
    "math.sqrt( mean_squared_error( trainY, trainY_ ) )"
   ]
  },
  {
   "cell_type": "markdown",
   "metadata": {},
   "source": [
    "##### Prediction on Test Data"
   ]
  },
  {
   "cell_type": "code",
   "execution_count": null,
   "metadata": {},
   "outputs": [],
   "source": [
    "testY_ = lm.predict( testX )"
   ]
  },
  {
   "cell_type": "code",
   "execution_count": null,
   "metadata": {},
   "outputs": [],
   "source": [
    "mean_absolute_error( testY, testY_ )"
   ]
  },
  {
   "cell_type": "code",
   "execution_count": null,
   "metadata": {},
   "outputs": [],
   "source": [
    "mean_squared_error( testY, testY_ )"
   ]
  },
  {
   "cell_type": "code",
   "execution_count": 331,
   "metadata": {},
   "outputs": [
    {
     "data": {
      "text/plain": [
       "6.4844871580983785"
      ]
     },
     "execution_count": 331,
     "metadata": {},
     "output_type": "execute_result"
    }
   ],
   "source": [
    "math.sqrt( mean_squared_error( testY, testY_ ) )"
   ]
  },
  {
   "cell_type": "markdown",
   "metadata": {},
   "source": [
    "## Modeling (statsmodel)"
   ]
  },
  {
   "cell_type": "markdown",
   "metadata": {},
   "source": [
    "### Data Preparation\n",
    "Splitting data into training set and testing set."
   ]
  },
  {
   "cell_type": "code",
   "execution_count": 332,
   "metadata": {},
   "outputs": [],
   "source": [
    "traindf, testdf = train_test_split(mydf, test_size=0.2)\n",
    "trainX,testX,trainY,testY = train_test_split(X,Y,test_size=0.2)"
   ]
  },
  {
   "cell_type": "markdown",
   "metadata": {},
   "source": [
    "### Create The Model - Equation Method\n",
    "This method assume all data (dependend and independent variables) are in **single dataframe**"
   ]
  },
  {
   "cell_type": "code",
   "execution_count": 335,
   "metadata": {},
   "outputs": [],
   "source": [
    "fit = smf.ols(formula='Y ~ x1 + x2 + x3', data=traindf).fit()"
   ]
  },
  {
   "cell_type": "markdown",
   "metadata": {},
   "source": [
    "#### Analyze The Model"
   ]
  },
  {
   "cell_type": "code",
   "execution_count": 336,
   "metadata": {},
   "outputs": [
    {
     "name": "stdout",
     "output_type": "stream",
     "text": [
      "                            OLS Regression Results                            \n",
      "==============================================================================\n",
      "Dep. Variable:                      Y   R-squared:                       0.947\n",
      "Model:                            OLS   Adj. R-squared:                  0.946\n",
      "Method:                 Least Squares   F-statistic:                     936.2\n",
      "Date:                Fri, 15 Jun 2018   Prob (F-statistic):           1.74e-99\n",
      "Time:                        10:32:45   Log-Likelihood:                -492.05\n",
      "No. Observations:                 160   AIC:                             992.1\n",
      "Df Residuals:                     156   BIC:                             1004.\n",
      "Df Model:                           3                                         \n",
      "Covariance Type:            nonrobust                                         \n",
      "==============================================================================\n",
      "                 coef    std err          t      P>|t|      [0.025      0.975]\n",
      "------------------------------------------------------------------------------\n",
      "Intercept    260.2819      1.375    189.257      0.000     257.565     262.999\n",
      "x1             0.0922      0.008     12.155      0.000       0.077       0.107\n",
      "x2             0.1943      0.007     27.428      0.000       0.180       0.208\n",
      "x3             0.3013      0.007     43.734      0.000       0.288       0.315\n",
      "==============================================================================\n",
      "Omnibus:                       21.242   Durbin-Watson:                   2.038\n",
      "Prob(Omnibus):                  0.000   Jarque-Bera (JB):                8.749\n",
      "Skew:                           0.341   Prob(JB):                       0.0126\n",
      "Kurtosis:                       2.080   Cond. No.                         613.\n",
      "==============================================================================\n",
      "\n",
      "Warnings:\n",
      "[1] Standard Errors assume that the covariance matrix of the errors is correctly specified.\n"
     ]
    }
   ],
   "source": [
    "print (fit.summary())"
   ]
  },
  {
   "cell_type": "markdown",
   "metadata": {},
   "source": [
    "### Create The Model - Array Method\n",
    "This method assume independent and dependent variables are in seperate dataframe  \n",
    "**intercept** is not included in OLS modeling by default. Hence need to use **add_constant()** to training dataset in order to display intercept estimate."
   ]
  },
  {
   "cell_type": "code",
   "execution_count": 337,
   "metadata": {},
   "outputs": [],
   "source": [
    "trainX = sm.add_constant(trainX)     # this add new column of all value 1\n",
    "fit2 = smf.OLS(trainY, trainX).fit()"
   ]
  },
  {
   "cell_type": "markdown",
   "metadata": {},
   "source": [
    "#### Analyze The Model"
   ]
  },
  {
   "cell_type": "code",
   "execution_count": 338,
   "metadata": {},
   "outputs": [
    {
     "name": "stdout",
     "output_type": "stream",
     "text": [
      "                            OLS Regression Results                            \n",
      "==============================================================================\n",
      "Dep. Variable:                      Y   R-squared:                       0.943\n",
      "Model:                            OLS   Adj. R-squared:                  0.942\n",
      "Method:                 Least Squares   F-statistic:                     862.1\n",
      "Date:                Fri, 15 Jun 2018   Prob (F-statistic):           7.58e-97\n",
      "Time:                        10:32:45   Log-Likelihood:                -493.22\n",
      "No. Observations:                 160   AIC:                             994.4\n",
      "Df Residuals:                     156   BIC:                             1007.\n",
      "Df Model:                           3                                         \n",
      "Covariance Type:            nonrobust                                         \n",
      "==============================================================================\n",
      "                 coef    std err          t      P>|t|      [0.025      0.975]\n",
      "------------------------------------------------------------------------------\n",
      "const        259.8796      1.386    187.517      0.000     257.142     262.617\n",
      "x1             0.0980      0.008     12.885      0.000       0.083       0.113\n",
      "x2             0.1898      0.007     26.031      0.000       0.175       0.204\n",
      "x3             0.3026      0.007     41.776      0.000       0.288       0.317\n",
      "==============================================================================\n",
      "Omnibus:                       27.839   Durbin-Watson:                   1.976\n",
      "Prob(Omnibus):                  0.000   Jarque-Bera (JB):               10.915\n",
      "Skew:                           0.413   Prob(JB):                      0.00426\n",
      "Kurtosis:                       2.023   Cond. No.                         609.\n",
      "==============================================================================\n",
      "\n",
      "Warnings:\n",
      "[1] Standard Errors assume that the covariance matrix of the errors is correctly specified.\n"
     ]
    }
   ],
   "source": [
    "print (fit2.summary())"
   ]
  },
  {
   "cell_type": "markdown",
   "metadata": {},
   "source": [
    "## Examples"
   ]
  },
  {
   "cell_type": "markdown",
   "metadata": {},
   "source": [
    "### Example 1 - Linear Regression"
   ]
  },
  {
   "cell_type": "markdown",
   "metadata": {},
   "source": [
    "#### Sample Data\n",
    "Plot looks like polynomial."
   ]
  },
  {
   "cell_type": "code",
   "execution_count": 340,
   "metadata": {},
   "outputs": [
    {
     "data": {
      "image/png": "[encoded data removed]",
      "text/plain": [
       "<matplotlib.figure.Figure at 0x20c40e05ac8>"
      ]
     },
     "metadata": {},
     "output_type": "display_data"
    }
   ],
   "source": [
    "x = np.array([1, 2, 3, 4, 5])\n",
    "y = np.array([4, 2, 1, 3, 7])\n",
    "plt.scatter(x, y);"
   ]
  },
  {
   "cell_type": "markdown",
   "metadata": {},
   "source": [
    "#### Built The Model"
   ]
  },
  {
   "cell_type": "markdown",
   "metadata": {},
   "source": [
    "**Prepare The Data**  \n",
    "X needs to be at least 2D. Increase the dimension with newaxis"
   ]
  },
  {
   "cell_type": "code",
   "execution_count": 341,
   "metadata": {},
   "outputs": [
    {
     "data": {
      "text/plain": [
       "array([[1],\n",
       "       [2],\n",
       "       [3],\n",
       "       [4],\n",
       "       [5]])"
      ]
     },
     "execution_count": 341,
     "metadata": {},
     "output_type": "execute_result"
    }
   ],
   "source": [
    "X = x[:, np.newaxis]\n",
    "X"
   ]
  },
  {
   "cell_type": "markdown",
   "metadata": {},
   "source": [
    "**Fit and Predict**"
   ]
  },
  {
   "cell_type": "code",
   "execution_count": 342,
   "metadata": {},
   "outputs": [
    {
     "data": {
      "text/plain": [
       "[<matplotlib.lines.Line2D at 0x20c40764588>]"
      ]
     },
     "execution_count": 342,
     "metadata": {},
     "output_type": "execute_result"
    },
    {
     "data": {
      "image/png": "[encoded data removed]",
      "text/plain": [
       "<matplotlib.figure.Figure at 0x20c42354160>"
      ]
     },
     "metadata": {},
     "output_type": "display_data"
    }
   ],
   "source": [
    "fit = LinearRegression().fit(X, y)\n",
    "pred = fit.predict(X)\n",
    "plt.scatter(x, y)\n",
    "plt.plot(x,pred)"
   ]
  },
  {
   "cell_type": "markdown",
   "metadata": {},
   "source": [
    "### Example 2 - Linear Regression with Polynomial Basic Functions"
   ]
  },
  {
   "cell_type": "markdown",
   "metadata": {},
   "source": [
    "#### Sample Data"
   ]
  },
  {
   "cell_type": "code",
   "execution_count": 343,
   "metadata": {},
   "outputs": [
    {
     "data": {
      "image/png": "[encoded data removed]",
      "text/plain": [
       "<matplotlib.figure.Figure at 0x20c40ef9da0>"
      ]
     },
     "metadata": {},
     "output_type": "display_data"
    }
   ],
   "source": [
    "x = np.array([1, 2, 3, 4, 5])\n",
    "y = np.array([4, 2, 1, 3, 7])\n",
    "plt.scatter(x, y);"
   ]
  },
  {
   "cell_type": "markdown",
   "metadata": {},
   "source": [
    "#### Clean Method - Use Pipeline\n",
    "This method **avoid manually** creating engineered features."
   ]
  },
  {
   "cell_type": "code",
   "execution_count": 344,
   "metadata": {},
   "outputs": [
    {
     "data": {
      "text/plain": [
       "[<matplotlib.lines.Line2D at 0x20c411f2278>]"
      ]
     },
     "execution_count": 344,
     "metadata": {},
     "output_type": "execute_result"
    },
    {
     "data": {
      "image/png": "[encoded data removed]",
      "text/plain": [
       "<matplotlib.figure.Figure at 0x20c411f2908>"
      ]
     },
     "metadata": {},
     "output_type": "display_data"
    }
   ],
   "source": [
    "poly_model = make_pipeline( PolynomialFeatures(3), LinearRegression())\n",
    "poly_model.fit( X,y)\n",
    "pred2 = poly_model.predict(X)\n",
    "## plot\n",
    "plt.scatter(x, y)\n",
    "plt.plot(x,pred2)"
   ]
  },
  {
   "cell_type": "markdown",
   "metadata": {},
   "source": [
    "#### Alternative Method - Use Transform\n",
    "This method involve create a PolynomialFeatures object, transform original data (X) with more engineered features according to degree chosen."
   ]
  },
  {
   "cell_type": "code",
   "execution_count": 345,
   "metadata": {},
   "outputs": [
    {
     "data": {
      "text/plain": [
       "[<matplotlib.lines.Line2D at 0x20c41105668>]"
      ]
     },
     "execution_count": 345,
     "metadata": {},
     "output_type": "execute_result"
    },
    {
     "data": {
      "image/png": "[encoded data removed]",
      "text/plain": [
       "<matplotlib.figure.Figure at 0x20c40a1bc50>"
      ]
     },
     "metadata": {},
     "output_type": "display_data"
    }
   ],
   "source": [
    "poly = PolynomialFeatures(degree=3, include_bias=False)\n",
    "X2 = poly.fit_transform(X)\n",
    "fit2 = LinearRegression().fit(X2, y)\n",
    "pred2 = fit2.predict(X2)\n",
    "## plot\n",
    "plt.scatter(x, y)\n",
    "plt.plot(x,pred2)"
   ]
  },
  {
   "cell_type": "markdown",
   "metadata": {},
   "source": [
    "## Logistic Regression"
   ]
  },
  {
   "cell_type": "code",
   "execution_count": null,
   "metadata": {},
   "outputs": [],
   "source": []
  },
  {
   "cell_type": "code",
   "execution_count": null,
   "metadata": {},
   "outputs": [],
   "source": []
  },
  {
   "cell_type": "code",
   "execution_count": null,
   "metadata": {},
   "outputs": [],
   "source": []
  },
  {
   "cell_type": "markdown",
   "metadata": {},
   "source": [
    "## Feature Selection"
   ]
  },
  {
   "cell_type": "markdown",
   "metadata": {},
   "source": [
    "The advantage of using skcikit-learn package is that it has this particular method selection, works more or less like backward selection (not exactly), and is called **Recursive Feature**. How it works:\n",
    "\n",
    "- Model run with all variables, weight is assigned to each variable\n",
    "- Variable with smallest weight will be pruned from next iteration\n",
    "- Run the model again till the number of desired features is left"
   ]
  },
  {
   "cell_type": "markdown",
   "metadata": {},
   "source": [
    "### The Library"
   ]
  },
  {
   "cell_type": "code",
   "execution_count": 346,
   "metadata": {},
   "outputs": [],
   "source": [
    "from sklearn.feature_selection import RFE\n",
    "from sklearn.svm import SVR"
   ]
  },
  {
   "cell_type": "code",
   "execution_count": 347,
   "metadata": {},
   "outputs": [
    {
     "ename": "ValueError",
     "evalue": "Found input variables with inconsistent numbers of samples: [5, 200]",
     "output_type": "error",
     "traceback": [
      "\u001b[1;31m---------------------------------------------------------------------------\u001b[0m",
      "\u001b[1;31mValueError\u001b[0m                                Traceback (most recent call last)",
      "\u001b[1;32m<ipython-input-347-0c48fa9d44fe>\u001b[0m in \u001b[0;36m<module>\u001b[1;34m()\u001b[0m\n\u001b[0;32m      1\u001b[0m \u001b[0mestimator\u001b[0m \u001b[1;33m=\u001b[0m \u001b[0mSVR\u001b[0m\u001b[1;33m(\u001b[0m\u001b[0mkernel\u001b[0m\u001b[1;33m=\u001b[0m\u001b[1;34m'linear'\u001b[0m\u001b[1;33m)\u001b[0m       \u001b[1;31m# we are using linear model\u001b[0m\u001b[1;33m\u001b[0m\u001b[0m\n\u001b[0;32m      2\u001b[0m \u001b[0mselector\u001b[0m \u001b[1;33m=\u001b[0m \u001b[0mRFE\u001b[0m \u001b[1;33m(\u001b[0m\u001b[0mestimator\u001b[0m\u001b[1;33m,\u001b[0m \u001b[1;36m2\u001b[0m\u001b[1;33m,\u001b[0m \u001b[0mstep\u001b[0m\u001b[1;33m=\u001b[0m\u001b[1;36m1\u001b[0m\u001b[1;33m)\u001b[0m  \u001b[1;31m# we want just 2 features\u001b[0m\u001b[1;33m\u001b[0m\u001b[0m\n\u001b[1;32m----> 3\u001b[1;33m \u001b[0mselector\u001b[0m \u001b[1;33m=\u001b[0m \u001b[0mselector\u001b[0m\u001b[1;33m.\u001b[0m\u001b[0mfit\u001b[0m\u001b[1;33m(\u001b[0m\u001b[0mX\u001b[0m\u001b[1;33m,\u001b[0m\u001b[0mY\u001b[0m\u001b[1;33m)\u001b[0m           \u001b[1;31m# execute\u001b[0m\u001b[1;33m\u001b[0m\u001b[0m\n\u001b[0m",
      "\u001b[1;32mC:\\ProgramData\\Anaconda3\\lib\\site-packages\\sklearn\\feature_selection\\rfe.py\u001b[0m in \u001b[0;36mfit\u001b[1;34m(self, X, y)\u001b[0m\n\u001b[0;32m    132\u001b[0m             \u001b[0mThe\u001b[0m \u001b[0mtarget\u001b[0m \u001b[0mvalues\u001b[0m\u001b[1;33m.\u001b[0m\u001b[1;33m\u001b[0m\u001b[0m\n\u001b[0;32m    133\u001b[0m         \"\"\"\n\u001b[1;32m--> 134\u001b[1;33m         \u001b[1;32mreturn\u001b[0m \u001b[0mself\u001b[0m\u001b[1;33m.\u001b[0m\u001b[0m_fit\u001b[0m\u001b[1;33m(\u001b[0m\u001b[0mX\u001b[0m\u001b[1;33m,\u001b[0m \u001b[0my\u001b[0m\u001b[1;33m)\u001b[0m\u001b[1;33m\u001b[0m\u001b[0m\n\u001b[0m\u001b[0;32m    135\u001b[0m \u001b[1;33m\u001b[0m\u001b[0m\n\u001b[0;32m    136\u001b[0m     \u001b[1;32mdef\u001b[0m \u001b[0m_fit\u001b[0m\u001b[1;33m(\u001b[0m\u001b[0mself\u001b[0m\u001b[1;33m,\u001b[0m \u001b[0mX\u001b[0m\u001b[1;33m,\u001b[0m \u001b[0my\u001b[0m\u001b[1;33m,\u001b[0m \u001b[0mstep_score\u001b[0m\u001b[1;33m=\u001b[0m\u001b[1;32mNone\u001b[0m\u001b[1;33m)\u001b[0m\u001b[1;33m:\u001b[0m\u001b[1;33m\u001b[0m\u001b[0m\n",
      "\u001b[1;32mC:\\ProgramData\\Anaconda3\\lib\\site-packages\\sklearn\\feature_selection\\rfe.py\u001b[0m in \u001b[0;36m_fit\u001b[1;34m(self, X, y, step_score)\u001b[0m\n\u001b[0;32m    140\u001b[0m         \u001b[1;31m# self.scores_ will not be calculated when calling _fit through fit\u001b[0m\u001b[1;33m\u001b[0m\u001b[1;33m\u001b[0m\u001b[0m\n\u001b[0;32m    141\u001b[0m \u001b[1;33m\u001b[0m\u001b[0m\n\u001b[1;32m--> 142\u001b[1;33m         \u001b[0mX\u001b[0m\u001b[1;33m,\u001b[0m \u001b[0my\u001b[0m \u001b[1;33m=\u001b[0m \u001b[0mcheck_X_y\u001b[0m\u001b[1;33m(\u001b[0m\u001b[0mX\u001b[0m\u001b[1;33m,\u001b[0m \u001b[0my\u001b[0m\u001b[1;33m,\u001b[0m \u001b[1;34m\"csc\"\u001b[0m\u001b[1;33m)\u001b[0m\u001b[1;33m\u001b[0m\u001b[0m\n\u001b[0m\u001b[0;32m    143\u001b[0m         \u001b[1;31m# Initialization\u001b[0m\u001b[1;33m\u001b[0m\u001b[1;33m\u001b[0m\u001b[0m\n\u001b[0;32m    144\u001b[0m         \u001b[0mn_features\u001b[0m \u001b[1;33m=\u001b[0m \u001b[0mX\u001b[0m\u001b[1;33m.\u001b[0m\u001b[0mshape\u001b[0m\u001b[1;33m[\u001b[0m\u001b[1;36m1\u001b[0m\u001b[1;33m]\u001b[0m\u001b[1;33m\u001b[0m\u001b[0m\n",
      "\u001b[1;32mC:\\ProgramData\\Anaconda3\\lib\\site-packages\\sklearn\\utils\\validation.py\u001b[0m in \u001b[0;36mcheck_X_y\u001b[1;34m(X, y, accept_sparse, dtype, order, copy, force_all_finite, ensure_2d, allow_nd, multi_output, ensure_min_samples, ensure_min_features, y_numeric, warn_on_dtype, estimator)\u001b[0m\n\u001b[0;32m    581\u001b[0m         \u001b[0my\u001b[0m \u001b[1;33m=\u001b[0m \u001b[0my\u001b[0m\u001b[1;33m.\u001b[0m\u001b[0mastype\u001b[0m\u001b[1;33m(\u001b[0m\u001b[0mnp\u001b[0m\u001b[1;33m.\u001b[0m\u001b[0mfloat64\u001b[0m\u001b[1;33m)\u001b[0m\u001b[1;33m\u001b[0m\u001b[0m\n\u001b[0;32m    582\u001b[0m \u001b[1;33m\u001b[0m\u001b[0m\n\u001b[1;32m--> 583\u001b[1;33m     \u001b[0mcheck_consistent_length\u001b[0m\u001b[1;33m(\u001b[0m\u001b[0mX\u001b[0m\u001b[1;33m,\u001b[0m \u001b[0my\u001b[0m\u001b[1;33m)\u001b[0m\u001b[1;33m\u001b[0m\u001b[0m\n\u001b[0m\u001b[0;32m    584\u001b[0m \u001b[1;33m\u001b[0m\u001b[0m\n\u001b[0;32m    585\u001b[0m     \u001b[1;32mreturn\u001b[0m \u001b[0mX\u001b[0m\u001b[1;33m,\u001b[0m \u001b[0my\u001b[0m\u001b[1;33m\u001b[0m\u001b[0m\n",
      "\u001b[1;32mC:\\ProgramData\\Anaconda3\\lib\\site-packages\\sklearn\\utils\\validation.py\u001b[0m in \u001b[0;36mcheck_consistent_length\u001b[1;34m(*arrays)\u001b[0m\n\u001b[0;32m    202\u001b[0m     \u001b[1;32mif\u001b[0m \u001b[0mlen\u001b[0m\u001b[1;33m(\u001b[0m\u001b[0muniques\u001b[0m\u001b[1;33m)\u001b[0m \u001b[1;33m>\u001b[0m \u001b[1;36m1\u001b[0m\u001b[1;33m:\u001b[0m\u001b[1;33m\u001b[0m\u001b[0m\n\u001b[0;32m    203\u001b[0m         raise ValueError(\"Found input variables with inconsistent numbers of\"\n\u001b[1;32m--> 204\u001b[1;33m                          \" samples: %r\" % [int(l) for l in lengths])\n\u001b[0m\u001b[0;32m    205\u001b[0m \u001b[1;33m\u001b[0m\u001b[0m\n\u001b[0;32m    206\u001b[0m \u001b[1;33m\u001b[0m\u001b[0m\n",
      "\u001b[1;31mValueError\u001b[0m: Found input variables with inconsistent numbers of samples: [5, 200]"
     ]
    }
   ],
   "source": [
    "estimator = SVR(kernel='linear')       # we are using linear model\n",
    "selector = RFE (estimator, 2, step=1)  # we want just 2 features\n",
    "selector = selector.fit(X,Y)           # execute"
   ]
  },
  {
   "cell_type": "code",
   "execution_count": null,
   "metadata": {},
   "outputs": [],
   "source": [
    "selector.support_"
   ]
  },
  {
   "cell_type": "code",
   "execution_count": null,
   "metadata": {},
   "outputs": [],
   "source": [
    "selector.ranking_"
   ]
  },
  {
   "cell_type": "code",
   "execution_count": null,
   "metadata": {},
   "outputs": [],
   "source": [
    "selector.estimator_"
   ]
  },
  {
   "cell_type": "code",
   "execution_count": null,
   "metadata": {},
   "outputs": [],
   "source": []
  },
  {
   "cell_type": "code",
   "execution_count": null,
   "metadata": {},
   "outputs": [],
   "source": []
  }
 ],
 "metadata": {
  "kernelspec": {
   "display_name": "Python 3",
   "language": "python",
   "name": "python3"
  },
  "language_info": {
   "codemirror_mode": {
    "name": "ipython",
    "version": 3
   },
   "file_extension": ".py",
   "mimetype": "text/x-python",
   "name": "python",
   "nbconvert_exporter": "python",
   "pygments_lexer": "ipython3",
   "version": "3.6.5"
  },
  "toc": {
   "nav_menu": {},
   "number_sections": true,
   "sideBar": true,
   "skip_h1_title": false,
   "toc_cell": false,
   "toc_position": {
    "height": "921px",
    "left": "0px",
    "right": "1043.45px",
    "top": "110px",
    "width": "353px"
   },
   "toc_section_display": "block",
   "toc_window_display": true
  },
  "varInspector": {
   "cols": {
    "lenName": 16,
    "lenType": 16,
    "lenVar": 40
   },
   "kernels_config": {
    "python": {
     "delete_cmd_postfix": "",
     "delete_cmd_prefix": "del ",
     "library": "var_list.py",
     "varRefreshCmd": "print(var_dic_list())"
    },
    "r": {
     "delete_cmd_postfix": ") ",
     "delete_cmd_prefix": "rm(",
     "library": "var_list.r",
     "varRefreshCmd": "cat(var_dic_list()) "
    }
   },
   "position": {
    "height": "773px",
    "left": "1252.31px",
    "right": "20px",
    "top": "201.979px",
    "width": "709px"
   },
   "types_to_exclude": [
    "module",
    "function",
    "builtin_function_or_method",
    "instance",
    "_Feature"
   ],
   "window_display": false
  }
 },
 "nbformat": 4,
 "nbformat_minor": 2
}
